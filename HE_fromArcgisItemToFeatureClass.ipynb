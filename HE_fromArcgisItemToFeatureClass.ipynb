{
 "cells": [
  {
   "cell_type": "code",
   "execution_count": 24,
   "metadata": {},
   "outputs": [],
   "source": [
    "#importing the required libraries\n",
    "import arcgis\n",
    "from arcgis.gis import GIS\n",
    "from arcgis.features import FeatureCollection\n",
    "from arcgis.geometry import SpatialReference"
   ]
  },
  {
   "cell_type": "code",
   "execution_count": 2,
   "metadata": {},
   "outputs": [],
   "source": [
    "tmp = []\n",
    "with open(\".env\") as f:\n",
    "    for line in f:\n",
    "        tmp.append(line)\n",
    "aol_password = tmp[0].split(\"=\")[1].split(\"\\n\")[0]\n",
    "aol_username = tmp[1].split(\"=\")[1].split(\"\\n\")[0]"
   ]
  },
  {
   "cell_type": "code",
   "execution_count": 3,
   "metadata": {},
   "outputs": [],
   "source": [
    "#getting into the GIS\n",
    "gis = GIS(\"https://eowilson.maps.arcgis.com\", aol_username, aol_password)"
   ]
  },
  {
   "cell_type": "code",
   "execution_count": 6,
   "metadata": {},
   "outputs": [],
   "source": [
    "facet_item=gis.content.get(\"36c2806e82e54e79ab92969f511dfdb5\")"
   ]
  },
  {
   "cell_type": "code",
   "execution_count": 7,
   "metadata": {},
   "outputs": [
    {
     "data": {
      "text/plain": [
       "[<FeatureLayer url:\"https://services9.arcgis.com/IkktFdUAcY3WrH25/arcgis/rest/services/biodiversity_facets/FeatureServer/0\">]"
      ]
     },
     "execution_count": 7,
     "metadata": {},
     "output_type": "execute_result"
    }
   ],
   "source": [
    "facet_item.layers"
   ]
  },
  {
   "cell_type": "code",
   "execution_count": 8,
   "metadata": {},
   "outputs": [],
   "source": [
    "biodiversity_facets= facet_item.layers[0]"
   ]
  },
  {
   "cell_type": "code",
   "execution_count": 16,
   "metadata": {},
   "outputs": [],
   "source": [
    "mammals_taxa_facet=biodiversity_facets.query(where=\"TAXA = 'mammals'\")"
   ]
  },
  {
   "cell_type": "code",
   "execution_count": 17,
   "metadata": {},
   "outputs": [],
   "source": [
    "mammalsTaxaSDF=mammals_taxa_facet.sdf"
   ]
  },
  {
   "cell_type": "code",
   "execution_count": 18,
   "metadata": {},
   "outputs": [
    {
     "data": {
      "text/html": [
       "<div>\n",
       "<style scoped>\n",
       "    .dataframe tbody tr th:only-of-type {\n",
       "        vertical-align: middle;\n",
       "    }\n",
       "\n",
       "    .dataframe tbody tr th {\n",
       "        vertical-align: top;\n",
       "    }\n",
       "\n",
       "    .dataframe thead th {\n",
       "        text-align: right;\n",
       "    }\n",
       "</style>\n",
       "<table border=\"1\" class=\"dataframe\">\n",
       "  <thead>\n",
       "    <tr style=\"text-align: right;\">\n",
       "      <th></th>\n",
       "      <th>AGRICULTUR</th>\n",
       "      <th>AVE_RSR_PC</th>\n",
       "      <th>CELL_ID</th>\n",
       "      <th>CELL_ID_NU</th>\n",
       "      <th>FID</th>\n",
       "      <th>FOCAL_SPP</th>\n",
       "      <th>GlobalID</th>\n",
       "      <th>ISISLAND</th>\n",
       "      <th>PROP_LAND</th>\n",
       "      <th>RAINFED</th>\n",
       "      <th>SHAPE</th>\n",
       "      <th>SR_PC</th>\n",
       "      <th>Shape__Area</th>\n",
       "      <th>Shape__Length</th>\n",
       "      <th>TAXA</th>\n",
       "      <th>URBAN</th>\n",
       "    </tr>\n",
       "  </thead>\n",
       "  <tbody>\n",
       "    <tr>\n",
       "      <th>0</th>\n",
       "      <td>1.666502</td>\n",
       "      <td>97.478427</td>\n",
       "      <td>20263</td>\n",
       "      <td>20263</td>\n",
       "      <td>278223</td>\n",
       "      <td>Anotomys leander,Akodon latebricola,Thomasomys...</td>\n",
       "      <td>cd667abb-38ea-41ac-8f2c-dc71b7d09c2a</td>\n",
       "      <td>0</td>\n",
       "      <td>1</td>\n",
       "      <td>1.844682</td>\n",
       "      <td>{\"rings\": [[[-8571600.82343116, -32926.3349026...</td>\n",
       "      <td>100</td>\n",
       "      <td>1.239250e+10</td>\n",
       "      <td>445286.424948</td>\n",
       "      <td>mammals</td>\n",
       "      <td>0.025040</td>\n",
       "    </tr>\n",
       "    <tr>\n",
       "      <th>1</th>\n",
       "      <td>0.740508</td>\n",
       "      <td>98.393554</td>\n",
       "      <td>20623</td>\n",
       "      <td>20623</td>\n",
       "      <td>278224</td>\n",
       "      <td>Thomasomys ucucha,Ichthyomys stolzmanni,Anotom...</td>\n",
       "      <td>6793833f-690e-4ca7-a367-c96c9594b585</td>\n",
       "      <td>0</td>\n",
       "      <td>1</td>\n",
       "      <td>0.211228</td>\n",
       "      <td>{\"rings\": [[[-8571600.82343116, -144270.128737...</td>\n",
       "      <td>99</td>\n",
       "      <td>1.239473e+10</td>\n",
       "      <td>445326.560611</td>\n",
       "      <td>mammals</td>\n",
       "      <td>0.060026</td>\n",
       "    </tr>\n",
       "    <tr>\n",
       "      <th>2</th>\n",
       "      <td>0.064285</td>\n",
       "      <td>96.903986</td>\n",
       "      <td>24950</td>\n",
       "      <td>24950</td>\n",
       "      <td>278225</td>\n",
       "      <td>Rhipidomys ochrogaster,Dasyprocta kalinowskii,...</td>\n",
       "      <td>e76693ed-ff03-4bfa-b8ce-48d0dc7373d7</td>\n",
       "      <td>0</td>\n",
       "      <td>1</td>\n",
       "      <td>0.153441</td>\n",
       "      <td>{\"rings\": [[[-7792364.38521005, -1507539.47876...</td>\n",
       "      <td>99</td>\n",
       "      <td>1.304296e+10</td>\n",
       "      <td>456972.700932</td>\n",
       "      <td>mammals</td>\n",
       "      <td>0.029586</td>\n",
       "    </tr>\n",
       "    <tr>\n",
       "      <th>3</th>\n",
       "      <td>3.936559</td>\n",
       "      <td>97.465994</td>\n",
       "      <td>19903</td>\n",
       "      <td>19903</td>\n",
       "      <td>278226</td>\n",
       "      <td>Akodon latebricola,Thomasomys paramorum,Thomas...</td>\n",
       "      <td>f87727b1-f8b0-45d7-ad5e-831ced984dd4</td>\n",
       "      <td>0</td>\n",
       "      <td>1</td>\n",
       "      <td>10.265337</td>\n",
       "      <td>{\"rings\": [[[-8571600.82343116, 78397.39536545...</td>\n",
       "      <td>99</td>\n",
       "      <td>1.239782e+10</td>\n",
       "      <td>445382.008835</td>\n",
       "      <td>mammals</td>\n",
       "      <td>0.429030</td>\n",
       "    </tr>\n",
       "    <tr>\n",
       "      <th>4</th>\n",
       "      <td>1.275893</td>\n",
       "      <td>95.571084</td>\n",
       "      <td>19904</td>\n",
       "      <td>19904</td>\n",
       "      <td>278227</td>\n",
       "      <td>Callicebus medemi,Cryptotis squamipes,Rhipidom...</td>\n",
       "      <td>f0971658-350d-49a7-8c79-b8e611b907bd</td>\n",
       "      <td>0</td>\n",
       "      <td>1</td>\n",
       "      <td>1.427478</td>\n",
       "      <td>{\"rings\": [[[-8460281.33029266, 78397.39370412...</td>\n",
       "      <td>99</td>\n",
       "      <td>1.239782e+10</td>\n",
       "      <td>445382.027956</td>\n",
       "      <td>mammals</td>\n",
       "      <td>0.049327</td>\n",
       "    </tr>\n",
       "  </tbody>\n",
       "</table>\n",
       "</div>"
      ],
      "text/plain": [
       "   AGRICULTUR  AVE_RSR_PC CELL_ID  CELL_ID_NU     FID  \\\n",
       "0    1.666502   97.478427   20263       20263  278223   \n",
       "1    0.740508   98.393554   20623       20623  278224   \n",
       "2    0.064285   96.903986   24950       24950  278225   \n",
       "3    3.936559   97.465994   19903       19903  278226   \n",
       "4    1.275893   95.571084   19904       19904  278227   \n",
       "\n",
       "                                           FOCAL_SPP  \\\n",
       "0  Anotomys leander,Akodon latebricola,Thomasomys...   \n",
       "1  Thomasomys ucucha,Ichthyomys stolzmanni,Anotom...   \n",
       "2  Rhipidomys ochrogaster,Dasyprocta kalinowskii,...   \n",
       "3  Akodon latebricola,Thomasomys paramorum,Thomas...   \n",
       "4  Callicebus medemi,Cryptotis squamipes,Rhipidom...   \n",
       "\n",
       "                               GlobalID  ISISLAND  PROP_LAND    RAINFED  \\\n",
       "0  cd667abb-38ea-41ac-8f2c-dc71b7d09c2a         0          1   1.844682   \n",
       "1  6793833f-690e-4ca7-a367-c96c9594b585         0          1   0.211228   \n",
       "2  e76693ed-ff03-4bfa-b8ce-48d0dc7373d7         0          1   0.153441   \n",
       "3  f87727b1-f8b0-45d7-ad5e-831ced984dd4         0          1  10.265337   \n",
       "4  f0971658-350d-49a7-8c79-b8e611b907bd         0          1   1.427478   \n",
       "\n",
       "                                               SHAPE  SR_PC   Shape__Area  \\\n",
       "0  {\"rings\": [[[-8571600.82343116, -32926.3349026...    100  1.239250e+10   \n",
       "1  {\"rings\": [[[-8571600.82343116, -144270.128737...     99  1.239473e+10   \n",
       "2  {\"rings\": [[[-7792364.38521005, -1507539.47876...     99  1.304296e+10   \n",
       "3  {\"rings\": [[[-8571600.82343116, 78397.39536545...     99  1.239782e+10   \n",
       "4  {\"rings\": [[[-8460281.33029266, 78397.39370412...     99  1.239782e+10   \n",
       "\n",
       "   Shape__Length     TAXA     URBAN  \n",
       "0  445286.424948  mammals  0.025040  \n",
       "1  445326.560611  mammals  0.060026  \n",
       "2  456972.700932  mammals  0.029586  \n",
       "3  445382.008835  mammals  0.429030  \n",
       "4  445382.027956  mammals  0.049327  "
      ]
     },
     "execution_count": 18,
     "metadata": {},
     "output_type": "execute_result"
    }
   ],
   "source": [
    "mammalsTaxaSDF.head()"
   ]
  },
  {
   "cell_type": "code",
   "execution_count": 19,
   "metadata": {},
   "outputs": [
    {
     "data": {
      "text/plain": [
       "pandas.core.frame.DataFrame"
      ]
     },
     "execution_count": 19,
     "metadata": {},
     "output_type": "execute_result"
    }
   ],
   "source": [
    "type(mammalsTaxaSDF)"
   ]
  },
  {
   "cell_type": "code",
   "execution_count": 21,
   "metadata": {},
   "outputs": [],
   "source": [
    "epsg_code = biodiversity_facets.properties['extent']['spatialReference']['latestWkid']"
   ]
  },
  {
   "cell_type": "code",
   "execution_count": 26,
   "metadata": {},
   "outputs": [],
   "source": [
    "srs = SpatialReference({\"wkid\":epsg_code})"
   ]
  },
  {
   "cell_type": "code",
   "execution_count": 29,
   "metadata": {},
   "outputs": [
    {
     "data": {
      "text/plain": [
       "3857"
      ]
     },
     "execution_count": 29,
     "metadata": {},
     "output_type": "execute_result"
    }
   ],
   "source": [
    "epsg_code"
   ]
  },
  {
   "cell_type": "code",
   "execution_count": 20,
   "metadata": {},
   "outputs": [
    {
     "data": {
      "text/plain": [
       "'/Users/gretacvega/Documents/HE Project/data/MammalsFacets.shp'"
      ]
     },
     "execution_count": 20,
     "metadata": {},
     "output_type": "execute_result"
    }
   ],
   "source": [
    "mammalsTaxaSDF.spatial.to_featureclass(r\"/Users/gretacvega/Documents/HE Project/data/MammalsFacets.shp\")"
   ]
  },
  {
   "cell_type": "code",
   "execution_count": null,
   "metadata": {},
   "outputs": [],
   "source": []
  }
 ],
 "metadata": {
  "kernelspec": {
   "display_name": "Python 3",
   "language": "python",
   "name": "python3"
  },
  "language_info": {
   "codemirror_mode": {
    "name": "ipython",
    "version": 3
   },
   "file_extension": ".py",
   "mimetype": "text/x-python",
   "name": "python",
   "nbconvert_exporter": "python",
   "pygments_lexer": "ipython3",
   "version": "3.7.3"
  }
 },
 "nbformat": 4,
 "nbformat_minor": 2
}
