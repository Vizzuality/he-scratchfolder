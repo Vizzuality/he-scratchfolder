{
 "cells": [
  {
   "cell_type": "code",
   "execution_count": 1,
   "metadata": {},
   "outputs": [],
   "source": [
    "import arcgis\n",
    "from arcgis.gis import GIS"
   ]
  },
  {
   "cell_type": "code",
   "execution_count": 2,
   "metadata": {},
   "outputs": [],
   "source": [
    "gis = GIS(profile = \"eowilson\")"
   ]
  },
  {
   "cell_type": "code",
   "execution_count": 3,
   "metadata": {},
   "outputs": [],
   "source": [
    "import re\n",
    "def create_strict_reg_exp(to_search):\n",
    "    try:\n",
    "        reg_exp = f\"^{to_search}$\"\n",
    "        #logging.info(f\"regular expression is: {reg_exp}\")\n",
    "    except:\n",
    "        print(\"There was a problem with the string.\")\n",
    "    return reg_exp"
   ]
  },
  {
   "cell_type": "code",
   "execution_count": 5,
   "metadata": {},
   "outputs": [],
   "source": [
    "def findItemGetID(csvName, gis = gis, item_type = \"Feature Layer\"):\n",
    "    try:\n",
    "        searched_item = gis.content.search(csvName, item_type = item_type)\n",
    "        for i in searched_item:\n",
    "            reg_exp = create_strict_reg_exp(csvName)\n",
    "            if re.search(reg_exp, i.title)!= None:    \n",
    "                #logging.info(f\"{csvName} has the id: {i.id}\")\n",
    "                return i.id\n",
    "    except:\n",
    "        print(\"There was a problem finding the item\")"
   ]
  },
  {
   "cell_type": "code",
   "execution_count": 10,
   "metadata": {},
   "outputs": [],
   "source": [
    "def getFlayerFromID(item_id):\n",
    "    item = gis.content.get(item_id)\n",
    "    flayer = item.layers[0]\n",
    "    return flayer"
   ]
  },
  {
   "cell_type": "code",
   "execution_count": 11,
   "metadata": {},
   "outputs": [],
   "source": [
    "import pandas as pd\n",
    "def getSDFfromFlayer(flayer):\n",
    "    sdf = pd.DataFrame.spatial.from_layer(flayer)\n",
    "    return sdf"
   ]
  },
  {
   "cell_type": "code",
   "execution_count": 8,
   "metadata": {},
   "outputs": [],
   "source": [
    "item_id = findItemGetID(\"gadm_centroid\")"
   ]
  },
  {
   "cell_type": "code",
   "execution_count": 9,
   "metadata": {},
   "outputs": [
    {
     "name": "stdout",
     "output_type": "stream",
     "text": [
      "46e7cb3493024df0bd978b15106dfaf9\n"
     ]
    }
   ],
   "source": [
    "print(item_id)"
   ]
  },
  {
   "cell_type": "code",
   "execution_count": 12,
   "metadata": {},
   "outputs": [],
   "source": [
    "flayer = getFlayerFromID(item_id)"
   ]
  },
  {
   "cell_type": "code",
   "execution_count": 13,
   "metadata": {},
   "outputs": [],
   "source": [
    "sdf = getSDFfromFlayer(flayer)"
   ]
  },
  {
   "cell_type": "code",
   "execution_count": 23,
   "metadata": {},
   "outputs": [],
   "source": [
    "sdf.to_csv(\"data.csv\")"
   ]
  },
  {
   "cell_type": "code",
   "execution_count": null,
   "metadata": {},
   "outputs": [],
   "source": []
  },
  {
   "cell_type": "markdown",
   "metadata": {},
   "source": [
    "``` {r}\n",
    "d = read.csv(\"/Users/gretacvega/Documents/GitHub/he-scratchfolder/data.csv\")\n",
    "library(plyr)\n",
    "library(dplyr)\n",
    "library(ggplot2)\n",
    "library(reshape2)\n",
    "head(d)\n",
    "names(d)\n",
    "dd = \n",
    "d %>% \n",
    "  select(GID_0, Area, SPI, total_endemic) %>% \n",
    "  mutate(area_log = log(Area), \n",
    "         area_cut_number   = cut_number(area_log, n = 5),\n",
    "         area_cut_interval = cut_interval(area_log, n = 5),\n",
    "         area_cut_width    = cut_width(area_log, width = 4, boundary = 0) ) #%>%\n",
    "  # mutate(area_cut_number   = cut_number(Area, n = 5),\n",
    "  #        area_cut_interval = cut_interval(Area, n = 4),\n",
    "  #        area_cut_width    = cut_width(Area, width = 4000000, boundary = 0) )\n",
    "m = 5\n",
    "ggplot()+\n",
    "  #geom_histogram(aes(x=Area), bins = 5)+\n",
    "  #geom_point(aes(y =SPI, x = total_endemic, size = log(Area)))+\n",
    "  geom_point(data = dd %>% \n",
    "               filter(area_cut_width == \"(16,20]\" ), aes(y = SPI, x = Area), size = 5*m,   colour = \"red\")+\n",
    "  \n",
    "  geom_point(data = dd %>% \n",
    "               filter(area_cut_width == \"(12,16]\" ), aes(y = SPI, x = Area), size = 4*m,   colour = \"purple\")+\n",
    "  geom_point(data = dd %>% \n",
    "               filter(area_cut_width == \"(8,12]\" ), aes(y = SPI, x = Area), size = 3*m,   colour = \"orange\")+\n",
    "  geom_point(data = dd %>% \n",
    "               filter(area_cut_width == \"(4,8]\" ), aes(y = SPI, x = Area), size = 2*m,   colour = \"green\")+\n",
    "  geom_point(data = dd %>% \n",
    "               filter(area_cut_width == \"[0,4]\" ), aes(y = SPI, x = Area), size = 1*m,   colour = \"blue\")+\n",
    "  geom_text(data = dd, aes(y = SPI, x = Area, label = GID_0), size =2)+\n",
    "  theme_classic()\n",
    "  \n",
    "dd = \n",
    "  d %>% \n",
    "  select(GID_0, Population2016, SPI, total_endemic) %>% \n",
    "  mutate(area_log = log(Population2016), \n",
    "         area_cut_number   = cut_number(area_log, n = 5),\n",
    "         area_cut_interval = cut_interval(area_log, n = 5),\n",
    "         area_cut_width    = cut_width(area_log, width = 5, boundary = 0) ) #%>%\n",
    "# mutate(area_cut_number   = cut_number(Area, n = 5),\n",
    "#        area_cut_interval = cut_interval(Area, n = 4),\n",
    "#        area_cut_width    = cut_width(Area, width = 4000000, boundary = 0) )\n",
    "m = 5\n",
    "ggplot()+\n",
    "  #geom_histogram(aes(x=Area), bins = 5)+\n",
    "  #geom_point(aes(y =SPI, x = total_endemic, size = log(Area)))+\n",
    "  geom_point(data = dd %>% \n",
    "               filter(area_cut_width == levels(dd$area_cut_width)[5] ), aes(y = SPI, x = Population2016), size = 5*m,   colour = \"pink\")+\n",
    "  geom_point(data = dd %>% \n",
    "               filter(area_cut_width == levels(dd$area_cut_width)[4] ), aes(y = SPI, x = Population2016), size = 5*m,   colour = \"red\")+\n",
    "  \n",
    "  geom_point(data = dd %>% \n",
    "               filter(area_cut_width == levels(dd$area_cut_width)[3] ), aes(y = SPI, x = Population2016), size = 4*m,   colour = \"purple\")+\n",
    "  geom_point(data = dd %>% \n",
    "               filter(area_cut_width == levels(dd$area_cut_width)[2] ), aes(y = SPI, x = Population2016), size = 3*m,   colour = \"orange\")+\n",
    "  geom_point(data = dd %>% \n",
    "               filter(area_cut_width == levels(dd$area_cut_width)[1] ), aes(y = SPI, x = Population2016), size = 2,   colour = \"green\")+\n",
    "  # geom_point(data = dd %>% \n",
    "  #              filter(area_cut_width == \"[0,4]\" ), aes(y = SPI, x = Population2016), size = 1*m,   colour = \"blue\")+\n",
    "  geom_text(data = dd, aes(y = SPI, x = Population2016, label = GID_0), size =2)+\n",
    "  theme_classic()\n",
    "ggplot(data = dd) +\n",
    "  geom_point(aes(y = SPI, x = Population2016, size = Population2016))\n",
    "ggplot(data = dd) +\n",
    "  geom_histogram(aes( x = Population2016))\n",
    "  ```"
   ]
  },
  {
   "cell_type": "code",
   "execution_count": null,
   "metadata": {},
   "outputs": [],
   "source": []
  }
 ],
 "metadata": {
  "kernelspec": {
   "display_name": "Python 3",
   "language": "python",
   "name": "python3"
  },
  "language_info": {
   "codemirror_mode": {
    "name": "ipython",
    "version": 3
   },
   "file_extension": ".py",
   "mimetype": "text/x-python",
   "name": "python",
   "nbconvert_exporter": "python",
   "pygments_lexer": "ipython3",
   "version": "3.8.3"
  }
 },
 "nbformat": 4,
 "nbformat_minor": 4
}
