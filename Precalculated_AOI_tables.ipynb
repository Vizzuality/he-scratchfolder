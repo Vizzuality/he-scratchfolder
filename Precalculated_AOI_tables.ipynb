{
 "cells": [
  {
   "cell_type": "markdown",
   "metadata": {},
   "source": [
    "### Precalculated Tables"
   ]
  },
  {
   "cell_type": "markdown",
   "metadata": {},
   "source": [
    "We ned to create a service that has all the data for the FE  \n",
    "Starting with [GADM](https://eowilson.maps.arcgis.com/home/item.html?id=8b830df4fbca4a8388a120dfa13d887b)"
   ]
  },
  {
   "cell_type": "code",
   "execution_count": 104,
   "metadata": {},
   "outputs": [],
   "source": [
    "import pandas as pd\n",
    "import numpy as np\n",
    "import geopandas as gpd\n",
    "import json "
   ]
  },
  {
   "cell_type": "markdown",
   "metadata": {},
   "source": [
    "### Data from CRFS\n",
    "The data comes from prcessing 4 crfs (one per taxon block) against each geometry of the gadm level 1 table.\n",
    "The CRFS used for this example are wrong. The crfs are not projected, therefore the assumption we were making that **1 pixel = 1km2** is wrong. The output data of the new crfs should be the same except that they will be equivalent to area."
   ]
  },
  {
   "cell_type": "markdown",
   "metadata": {},
   "source": [
    "### GADM level 1 data \n",
    "original gadm table from Scott:\n",
    "gadm feature layer simplified (by Tamara): https://eowilson.maps.arcgis.com/home/item.html?id=4afeb2c82e8a45e98f9c698cb2259dc0"
   ]
  },
  {
   "cell_type": "code",
   "execution_count": 177,
   "metadata": {},
   "outputs": [],
   "source": [
    "#rept  = pd.read_csv('../../HALF_EARTH/precalc_gadm1_reptiles.zip')\n",
    "#amph = pd.read_csv('../../HALF_EARTH/precalc_gadm1_amphibians.zip')\n",
    "mam = pd.read_csv('../../HALF_EARTH/mammals_gadm1_final_kevin.zip') ## old\n",
    "bird = pd.read_csv('../../HALF_EARTH/birds_gadm1_20210930.zip') ## old\n",
    "amph = pd.read_csv('../../HALF_EARTH/amphibians_gadm1_final_20211003.zip') ## final\n",
    "rept = pd.read_csv('../../HALF_EARTH/reptiles_gadm1_final_20211003.zip') ## final"
   ]
  },
  {
   "cell_type": "code",
   "execution_count": 238,
   "metadata": {},
   "outputs": [],
   "source": [
    "#gadm = gpd.read_file('zip:///Users/tamarahuete/Documents/HALF_EARTH/gadm36_level1.zip')\n",
    "gadm = gpd.read_file('zip:///Users/tamarahuete/Documents/HALF_EARTH/gadm36_level1_Simplify.zip')\n",
    "\n",
    "### gadm as raster area\n",
    "gadmpix = pd.read_csv('../../HALF_EARTH/gadm1_polygon_to_raster.csv')"
   ]
  },
  {
   "cell_type": "code",
   "execution_count": 240,
   "metadata": {},
   "outputs": [
    {
     "data": {
      "text/html": [
       "<div>\n",
       "<style scoped>\n",
       "    .dataframe tbody tr th:only-of-type {\n",
       "        vertical-align: middle;\n",
       "    }\n",
       "\n",
       "    .dataframe tbody tr th {\n",
       "        vertical-align: top;\n",
       "    }\n",
       "\n",
       "    .dataframe thead th {\n",
       "        text-align: right;\n",
       "    }\n",
       "</style>\n",
       "<table border=\"1\" class=\"dataframe\">\n",
       "  <thead>\n",
       "    <tr style=\"text-align: right;\">\n",
       "      <th></th>\n",
       "      <th>OID_</th>\n",
       "      <th>Value</th>\n",
       "      <th>Count</th>\n",
       "    </tr>\n",
       "  </thead>\n",
       "  <tbody>\n",
       "    <tr>\n",
       "      <th>0</th>\n",
       "      <td>1</td>\n",
       "      <td>1</td>\n",
       "      <td>43697.0</td>\n",
       "    </tr>\n",
       "    <tr>\n",
       "      <th>1</th>\n",
       "      <td>2</td>\n",
       "      <td>2</td>\n",
       "      <td>20581.0</td>\n",
       "    </tr>\n",
       "    <tr>\n",
       "      <th>2</th>\n",
       "      <td>3</td>\n",
       "      <td>3</td>\n",
       "      <td>21120.0</td>\n",
       "    </tr>\n",
       "    <tr>\n",
       "      <th>3</th>\n",
       "      <td>4</td>\n",
       "      <td>4</td>\n",
       "      <td>17265.0</td>\n",
       "    </tr>\n",
       "    <tr>\n",
       "      <th>4</th>\n",
       "      <td>5</td>\n",
       "      <td>5</td>\n",
       "      <td>14173.0</td>\n",
       "    </tr>\n",
       "  </tbody>\n",
       "</table>\n",
       "</div>"
      ],
      "text/plain": [
       "   OID_  Value    Count\n",
       "0     1      1  43697.0\n",
       "1     2      2  20581.0\n",
       "2     3      3  21120.0\n",
       "3     4      4  17265.0\n",
       "4     5      5  14173.0"
      ]
     },
     "execution_count": 240,
     "metadata": {},
     "output_type": "execute_result"
    }
   ],
   "source": [
    "gadmpix.head()"
   ]
  },
  {
   "cell_type": "code",
   "execution_count": 241,
   "metadata": {},
   "outputs": [],
   "source": [
    "gadm = gadm.merge(gadmpix, right_on = 'Value', left_on = 'MOL_ID')\n",
    "gadm.rename(columns={'Count':'AREA_PX'}, inplace = True)"
   ]
  },
  {
   "cell_type": "code",
   "execution_count": 243,
   "metadata": {},
   "outputs": [
    {
     "data": {
      "text/html": [
       "<div>\n",
       "<style scoped>\n",
       "    .dataframe tbody tr th:only-of-type {\n",
       "        vertical-align: middle;\n",
       "    }\n",
       "\n",
       "    .dataframe tbody tr th {\n",
       "        vertical-align: top;\n",
       "    }\n",
       "\n",
       "    .dataframe thead th {\n",
       "        text-align: right;\n",
       "    }\n",
       "</style>\n",
       "<table border=\"1\" class=\"dataframe\">\n",
       "  <thead>\n",
       "    <tr style=\"text-align: right;\">\n",
       "      <th></th>\n",
       "      <th>GID_0</th>\n",
       "      <th>NAME_0</th>\n",
       "      <th>GID_1</th>\n",
       "      <th>NAME_1</th>\n",
       "      <th>VARNAME_1</th>\n",
       "      <th>NL_NAME_1</th>\n",
       "      <th>TYPE_1</th>\n",
       "      <th>ENGTYPE_1</th>\n",
       "      <th>CC_1</th>\n",
       "      <th>HASC_1</th>\n",
       "      <th>AREA_KM2</th>\n",
       "      <th>MOL_ID</th>\n",
       "      <th>InPoly_FID</th>\n",
       "      <th>SimPgnFlag</th>\n",
       "      <th>MaxSimpTol</th>\n",
       "      <th>MinSimpTol</th>\n",
       "      <th>geometry</th>\n",
       "      <th>OID_</th>\n",
       "      <th>Value</th>\n",
       "      <th>AREA_PX</th>\n",
       "    </tr>\n",
       "  </thead>\n",
       "  <tbody>\n",
       "    <tr>\n",
       "      <th>0</th>\n",
       "      <td>AFG</td>\n",
       "      <td>Afghanistan</td>\n",
       "      <td>AFG.1_1</td>\n",
       "      <td>Badakhshan</td>\n",
       "      <td>Badah?an</td>\n",
       "      <td>None</td>\n",
       "      <td>Velayat</td>\n",
       "      <td>Province</td>\n",
       "      <td>None</td>\n",
       "      <td>AF.BD</td>\n",
       "      <td>43692.210235</td>\n",
       "      <td>1</td>\n",
       "      <td>0</td>\n",
       "      <td>0</td>\n",
       "      <td>0.005</td>\n",
       "      <td>0.005</td>\n",
       "      <td>POLYGON ((71.10155 35.95555, 71.08842 35.92924...</td>\n",
       "      <td>1</td>\n",
       "      <td>1</td>\n",
       "      <td>43697.0</td>\n",
       "    </tr>\n",
       "    <tr>\n",
       "      <th>1</th>\n",
       "      <td>AFG</td>\n",
       "      <td>Afghanistan</td>\n",
       "      <td>AFG.2_1</td>\n",
       "      <td>Badghis</td>\n",
       "      <td>Badghes|Badghisat|Badgis</td>\n",
       "      <td>None</td>\n",
       "      <td>Velayat</td>\n",
       "      <td>Province</td>\n",
       "      <td>None</td>\n",
       "      <td>AF.BG</td>\n",
       "      <td>20589.857163</td>\n",
       "      <td>2</td>\n",
       "      <td>1</td>\n",
       "      <td>0</td>\n",
       "      <td>0.005</td>\n",
       "      <td>0.005</td>\n",
       "      <td>POLYGON ((63.09734 34.64551, 63.06237 34.69018...</td>\n",
       "      <td>2</td>\n",
       "      <td>2</td>\n",
       "      <td>20581.0</td>\n",
       "    </tr>\n",
       "    <tr>\n",
       "      <th>2</th>\n",
       "      <td>AFG</td>\n",
       "      <td>Afghanistan</td>\n",
       "      <td>AFG.3_1</td>\n",
       "      <td>Baghlan</td>\n",
       "      <td>Baglan|Bughlan</td>\n",
       "      <td>None</td>\n",
       "      <td>Velayat</td>\n",
       "      <td>Province</td>\n",
       "      <td>None</td>\n",
       "      <td>AF.BL</td>\n",
       "      <td>21120.261382</td>\n",
       "      <td>3</td>\n",
       "      <td>2</td>\n",
       "      <td>0</td>\n",
       "      <td>0.005</td>\n",
       "      <td>0.005</td>\n",
       "      <td>POLYGON ((67.35538 34.88549, 67.33750 34.91966...</td>\n",
       "      <td>3</td>\n",
       "      <td>3</td>\n",
       "      <td>21120.0</td>\n",
       "    </tr>\n",
       "    <tr>\n",
       "      <th>3</th>\n",
       "      <td>AFG</td>\n",
       "      <td>Afghanistan</td>\n",
       "      <td>AFG.4_1</td>\n",
       "      <td>Balkh</td>\n",
       "      <td>Balh|Mazar-i-Sharif|Mazar</td>\n",
       "      <td>None</td>\n",
       "      <td>Velayat</td>\n",
       "      <td>Province</td>\n",
       "      <td>None</td>\n",
       "      <td>AF.BK</td>\n",
       "      <td>17253.634668</td>\n",
       "      <td>4</td>\n",
       "      <td>3</td>\n",
       "      <td>0</td>\n",
       "      <td>0.005</td>\n",
       "      <td>0.005</td>\n",
       "      <td>POLYGON ((66.42347 35.64057, 66.51625 35.67334...</td>\n",
       "      <td>4</td>\n",
       "      <td>4</td>\n",
       "      <td>17265.0</td>\n",
       "    </tr>\n",
       "    <tr>\n",
       "      <th>4</th>\n",
       "      <td>AFG</td>\n",
       "      <td>Afghanistan</td>\n",
       "      <td>AFG.5_1</td>\n",
       "      <td>Bamyan</td>\n",
       "      <td>None</td>\n",
       "      <td>None</td>\n",
       "      <td>Velayat</td>\n",
       "      <td>Province</td>\n",
       "      <td>None</td>\n",
       "      <td>AF.BM</td>\n",
       "      <td>14173.489095</td>\n",
       "      <td>5</td>\n",
       "      <td>4</td>\n",
       "      <td>0</td>\n",
       "      <td>0.005</td>\n",
       "      <td>0.005</td>\n",
       "      <td>POLYGON ((66.65279 34.00322, 66.67175 34.03791...</td>\n",
       "      <td>5</td>\n",
       "      <td>5</td>\n",
       "      <td>14173.0</td>\n",
       "    </tr>\n",
       "  </tbody>\n",
       "</table>\n",
       "</div>"
      ],
      "text/plain": [
       "  GID_0       NAME_0    GID_1      NAME_1                  VARNAME_1  \\\n",
       "0   AFG  Afghanistan  AFG.1_1  Badakhshan                   Badah?an   \n",
       "1   AFG  Afghanistan  AFG.2_1     Badghis   Badghes|Badghisat|Badgis   \n",
       "2   AFG  Afghanistan  AFG.3_1     Baghlan             Baglan|Bughlan   \n",
       "3   AFG  Afghanistan  AFG.4_1       Balkh  Balh|Mazar-i-Sharif|Mazar   \n",
       "4   AFG  Afghanistan  AFG.5_1      Bamyan                       None   \n",
       "\n",
       "  NL_NAME_1   TYPE_1 ENGTYPE_1  CC_1 HASC_1      AREA_KM2  MOL_ID  InPoly_FID  \\\n",
       "0      None  Velayat  Province  None  AF.BD  43692.210235       1           0   \n",
       "1      None  Velayat  Province  None  AF.BG  20589.857163       2           1   \n",
       "2      None  Velayat  Province  None  AF.BL  21120.261382       3           2   \n",
       "3      None  Velayat  Province  None  AF.BK  17253.634668       4           3   \n",
       "4      None  Velayat  Province  None  AF.BM  14173.489095       5           4   \n",
       "\n",
       "   SimPgnFlag  MaxSimpTol  MinSimpTol  \\\n",
       "0           0       0.005       0.005   \n",
       "1           0       0.005       0.005   \n",
       "2           0       0.005       0.005   \n",
       "3           0       0.005       0.005   \n",
       "4           0       0.005       0.005   \n",
       "\n",
       "                                            geometry  OID_  Value  AREA_PX  \n",
       "0  POLYGON ((71.10155 35.95555, 71.08842 35.92924...     1      1  43697.0  \n",
       "1  POLYGON ((63.09734 34.64551, 63.06237 34.69018...     2      2  20581.0  \n",
       "2  POLYGON ((67.35538 34.88549, 67.33750 34.91966...     3      3  21120.0  \n",
       "3  POLYGON ((66.42347 35.64057, 66.51625 35.67334...     4      4  17265.0  \n",
       "4  POLYGON ((66.65279 34.00322, 66.67175 34.03791...     5      5  14173.0  "
      ]
     },
     "execution_count": 243,
     "metadata": {},
     "output_type": "execute_result"
    }
   ],
   "source": [
    "gadm.head()"
   ]
  },
  {
   "cell_type": "code",
   "execution_count": 183,
   "metadata": {},
   "outputs": [],
   "source": [
    "amph.rename(columns={'SliceNumbe':'SliceNumber','SUM_amphib':'SUM'}, inplace=True)\n",
    "rept.rename(columns={'SliceNumbe':'SliceNumber','SUM_reptil':'SUM'}, inplace=True)\n",
    "mam.rename(columns={'SliceNumbe':'SliceNumber','SUM_presen':'SUM'}, inplace=True)\n",
    "bird.rename(columns={'SliceNumbe':'SliceNumber','SUM_birds':'SUM'}, inplace=True)"
   ]
  },
  {
   "cell_type": "code",
   "execution_count": 244,
   "metadata": {},
   "outputs": [],
   "source": [
    "amph = amph.merge(gadm[['MOL_ID','AREA_KM2','AREA_PX']])\n",
    "amph['percentage_presence'] = round(amph['SUM']/amph['AREA_PX']*100,2)"
   ]
  },
  {
   "cell_type": "code",
   "execution_count": 245,
   "metadata": {},
   "outputs": [
    {
     "data": {
      "text/plain": [
       "<matplotlib.axes._subplots.AxesSubplot at 0x7f9ba64dbe10>"
      ]
     },
     "execution_count": 245,
     "metadata": {},
     "output_type": "execute_result"
    },
    {
     "data": {
      "image/png": "[encoded data removed]",
      "text/plain": [
       "<Figure size 432x288 with 1 Axes>"
      ]
     },
     "metadata": {
      "needs_background": "light"
     },
     "output_type": "display_data"
    }
   ],
   "source": [
    "### There are 434 rows that have over 100% of presence\n",
    "amph.loc[amph['percentage_presence']> 100,'percentage_presence'].hist()"
   ]
  },
  {
   "cell_type": "code",
   "execution_count": 246,
   "metadata": {},
   "outputs": [
    {
     "data": {
      "text/plain": [
       "281"
      ]
     },
     "execution_count": 246,
     "metadata": {},
     "output_type": "execute_result"
    }
   ],
   "source": [
    "len(amph.loc[amph['percentage_presence']> 100,'percentage_presence'])"
   ]
  },
  {
   "cell_type": "code",
   "execution_count": 218,
   "metadata": {},
   "outputs": [
    {
     "name": "stderr",
     "output_type": "stream",
     "text": [
      "/Users/tamarahuete/opt/anaconda3/lib/python3.7/site-packages/geopandas/geodataframe.py:853: SettingWithCopyWarning: \n",
      "A value is trying to be set on a copy of a slice from a DataFrame.\n",
      "Try using .loc[row_indexer,col_indexer] = value instead\n",
      "\n",
      "See the caveats in the documentation: https://pandas.pydata.org/pandas-docs/stable/user_guide/indexing.html#returning-a-view-versus-a-copy\n",
      "  super(GeoDataFrame, self).__setitem__(key, value)\n"
     ]
    }
   ],
   "source": [
    "dff = gadm[['GID_0','NAME_0','GID_1','NAME_1','MOL_ID','AREA_KM2','geometry']]\n",
    "dff['reptiles']=np.nan\n",
    "dff['amphibians']=np.nan\n",
    "dff['mammals']=np.nan\n",
    "dff['birds']=np.nan"
   ]
  },
  {
   "cell_type": "code",
   "execution_count": null,
   "metadata": {},
   "outputs": [],
   "source": [
    "for i in dff.MOL_ID:\n",
    "    reptiles = []\n",
    "    amphibians = []\n",
    "    mammals = []\n",
    "    birds = []\n",
    "    \n",
    "    ### REPTILES\n",
    "    df = rept\n",
    "    df = df.merge(gadm[['MOL_ID','AREA_KM2']])\n",
    "    df['percentage_presence'] = round(df['SUM']/df['AREA_KM2']*100,2)\n",
    "    for j in df[(df.MOL_ID== i)].SliceNumber.unique():\n",
    "        sp_dict = {'SliceNumber':df[(df.MOL_ID== i) & (df.SliceNumber==j)].SliceNumber.values[0].astype(float),\n",
    "               'percentage_presence':df[(df.MOL_ID== i) & (df.SliceNumber==j)].percentage_presence.values[0]}\n",
    "        reptiles.append(sp_dict)\n",
    "    dff.loc[dff['MOL_ID']==i,'reptiles'] =json.dumps(reptiles)\n",
    "    \n",
    "    ### AMPHIBIANS\n",
    "    df = amph\n",
    "    df = df.merge(gadm[['MOL_ID','AREA_KM2']])\n",
    "    df['percentage_presence'] = round(df['SUM']/df['AREA_KM2']*100,2)\n",
    "    for j in df[(df.MOL_ID== i)].SliceNumber.unique():\n",
    "        sp_dict = {'SliceNumber':df[(df.MOL_ID== i) & (df.SliceNumber==j)].SliceNumber.values[0].astype(float),\n",
    "               'percentage_presence':df[(df.MOL_ID== i) & (df.SliceNumber==j)].percentage_presence.values[0]}\n",
    "        amphibians.append(sp_dict)\n",
    "    dff.loc[dff['MOL_ID']==i,'amphibians'] =json.dumps(amphibians)\n",
    "    \n",
    "    ### BIRDS\n",
    "    df = bird\n",
    "    df = df.merge(gadm[['MOL_ID','AREA_KM2']])\n",
    "    df['percentage_presence'] = round(df['SUM']/df['AREA_KM2']*100,2)\n",
    "    for j in df[(df.MOL_ID== i)].SliceNumber.unique():\n",
    "        sp_dict = {'SliceNumber':df[(df.MOL_ID== i) & (df.SliceNumber==j)].SliceNumber.values[0].astype(float),\n",
    "               'percentage_presence':df[(df.MOL_ID== i) & (df.SliceNumber==j)].percentage_presence.values[0]}\n",
    "        birds.append(sp_dict)\n",
    "    dff.loc[dff['MOL_ID']==i,'birds'] =json.dumps(birds)\n",
    "    \n",
    "    ### MAMMALS\n",
    "    df = mam\n",
    "    df = df.merge(gadm[['MOL_ID','AREA_KM2']])\n",
    "    df['percentage_presence'] = round(df['SUM']/df['AREA_KM2']*100,2)\n",
    "    for j in df[(df.MOL_ID== i)].SliceNumber.unique():\n",
    "        sp_dict = {'SliceNumber':df[(df.MOL_ID== i) & (df.SliceNumber==j)].SliceNumber.values[0].astype(float),\n",
    "               'percentage_presence':df[(df.MOL_ID== i) & (df.SliceNumber==j)].percentage_presence.values[0]}\n",
    "        mammals.append(sp_dict)\n",
    "    dff.loc[dff['MOL_ID']==i,'mammals'] =json.dumps(mammals)\n",
    "    print(f'finished MOL_ID ={i}')\n",
    "    "
   ]
  },
  {
   "cell_type": "code",
   "execution_count": 224,
   "metadata": {},
   "outputs": [
    {
     "data": {
      "text/html": [
       "<div>\n",
       "<style scoped>\n",
       "    .dataframe tbody tr th:only-of-type {\n",
       "        vertical-align: middle;\n",
       "    }\n",
       "\n",
       "    .dataframe tbody tr th {\n",
       "        vertical-align: top;\n",
       "    }\n",
       "\n",
       "    .dataframe thead th {\n",
       "        text-align: right;\n",
       "    }\n",
       "</style>\n",
       "<table border=\"1\" class=\"dataframe\">\n",
       "  <thead>\n",
       "    <tr style=\"text-align: right;\">\n",
       "      <th></th>\n",
       "      <th>GID_0</th>\n",
       "      <th>NAME_0</th>\n",
       "      <th>GID_1</th>\n",
       "      <th>NAME_1</th>\n",
       "      <th>MOL_ID</th>\n",
       "      <th>AREA_KM2</th>\n",
       "      <th>geometry</th>\n",
       "      <th>reptiles</th>\n",
       "      <th>amphibians</th>\n",
       "      <th>mammals</th>\n",
       "      <th>birds</th>\n",
       "    </tr>\n",
       "  </thead>\n",
       "  <tbody>\n",
       "    <tr>\n",
       "      <th>0</th>\n",
       "      <td>AFG</td>\n",
       "      <td>Afghanistan</td>\n",
       "      <td>AFG.1_1</td>\n",
       "      <td>Badakhshan</td>\n",
       "      <td>1</td>\n",
       "      <td>43692.210235</td>\n",
       "      <td>POLYGON ((71.10155 35.95555, 71.08842 35.92924...</td>\n",
       "      <td>[{\"SliceNumber\": 4.0, \"percentage_presence\": 0...</td>\n",
       "      <td>[{\"SliceNumber\": 951.0, \"percentage_presence\":...</td>\n",
       "      <td>[]</td>\n",
       "      <td>[]</td>\n",
       "    </tr>\n",
       "    <tr>\n",
       "      <th>1</th>\n",
       "      <td>AFG</td>\n",
       "      <td>Afghanistan</td>\n",
       "      <td>AFG.2_1</td>\n",
       "      <td>Badghis</td>\n",
       "      <td>2</td>\n",
       "      <td>20589.857163</td>\n",
       "      <td>POLYGON ((63.09734 34.64551, 63.06237 34.69018...</td>\n",
       "      <td>[{\"SliceNumber\": 9.0, \"percentage_presence\": 9...</td>\n",
       "      <td>[{\"SliceNumber\": 1707.0, \"percentage_presence\"...</td>\n",
       "      <td>[{\"SliceNumber\": 399.0, \"percentage_presence\":...</td>\n",
       "      <td>[{\"SliceNumber\": 26.0, \"percentage_presence\": ...</td>\n",
       "    </tr>\n",
       "    <tr>\n",
       "      <th>2</th>\n",
       "      <td>AFG</td>\n",
       "      <td>Afghanistan</td>\n",
       "      <td>AFG.3_1</td>\n",
       "      <td>Baghlan</td>\n",
       "      <td>3</td>\n",
       "      <td>21120.261382</td>\n",
       "      <td>POLYGON ((67.35538 34.88549, 67.33750 34.91966...</td>\n",
       "      <td>[{\"SliceNumber\": 1.0, \"percentage_presence\": 5...</td>\n",
       "      <td>[]</td>\n",
       "      <td>[]</td>\n",
       "      <td>[]</td>\n",
       "    </tr>\n",
       "    <tr>\n",
       "      <th>3</th>\n",
       "      <td>AFG</td>\n",
       "      <td>Afghanistan</td>\n",
       "      <td>AFG.4_1</td>\n",
       "      <td>Balkh</td>\n",
       "      <td>4</td>\n",
       "      <td>17253.634668</td>\n",
       "      <td>POLYGON ((66.42347 35.64057, 66.51625 35.67334...</td>\n",
       "      <td>[{\"SliceNumber\": 9.0, \"percentage_presence\": 9...</td>\n",
       "      <td>[]</td>\n",
       "      <td>[{\"SliceNumber\": 399.0, \"percentage_presence\":...</td>\n",
       "      <td>[{\"SliceNumber\": 26.0, \"percentage_presence\": ...</td>\n",
       "    </tr>\n",
       "    <tr>\n",
       "      <th>4</th>\n",
       "      <td>AFG</td>\n",
       "      <td>Afghanistan</td>\n",
       "      <td>AFG.5_1</td>\n",
       "      <td>Bamyan</td>\n",
       "      <td>5</td>\n",
       "      <td>14173.489095</td>\n",
       "      <td>POLYGON ((66.65279 34.00322, 66.67175 34.03791...</td>\n",
       "      <td>[{\"SliceNumber\": 1.0, \"percentage_presence\": 3...</td>\n",
       "      <td>[]</td>\n",
       "      <td>[{\"SliceNumber\": 167.0, \"percentage_presence\":...</td>\n",
       "      <td>[{\"SliceNumber\": 26.0, \"percentage_presence\": ...</td>\n",
       "    </tr>\n",
       "  </tbody>\n",
       "</table>\n",
       "</div>"
      ],
      "text/plain": [
       "  GID_0       NAME_0    GID_1      NAME_1  MOL_ID      AREA_KM2  \\\n",
       "0   AFG  Afghanistan  AFG.1_1  Badakhshan       1  43692.210235   \n",
       "1   AFG  Afghanistan  AFG.2_1     Badghis       2  20589.857163   \n",
       "2   AFG  Afghanistan  AFG.3_1     Baghlan       3  21120.261382   \n",
       "3   AFG  Afghanistan  AFG.4_1       Balkh       4  17253.634668   \n",
       "4   AFG  Afghanistan  AFG.5_1      Bamyan       5  14173.489095   \n",
       "\n",
       "                                            geometry  \\\n",
       "0  POLYGON ((71.10155 35.95555, 71.08842 35.92924...   \n",
       "1  POLYGON ((63.09734 34.64551, 63.06237 34.69018...   \n",
       "2  POLYGON ((67.35538 34.88549, 67.33750 34.91966...   \n",
       "3  POLYGON ((66.42347 35.64057, 66.51625 35.67334...   \n",
       "4  POLYGON ((66.65279 34.00322, 66.67175 34.03791...   \n",
       "\n",
       "                                            reptiles  \\\n",
       "0  [{\"SliceNumber\": 4.0, \"percentage_presence\": 0...   \n",
       "1  [{\"SliceNumber\": 9.0, \"percentage_presence\": 9...   \n",
       "2  [{\"SliceNumber\": 1.0, \"percentage_presence\": 5...   \n",
       "3  [{\"SliceNumber\": 9.0, \"percentage_presence\": 9...   \n",
       "4  [{\"SliceNumber\": 1.0, \"percentage_presence\": 3...   \n",
       "\n",
       "                                          amphibians  \\\n",
       "0  [{\"SliceNumber\": 951.0, \"percentage_presence\":...   \n",
       "1  [{\"SliceNumber\": 1707.0, \"percentage_presence\"...   \n",
       "2                                                 []   \n",
       "3                                                 []   \n",
       "4                                                 []   \n",
       "\n",
       "                                             mammals  \\\n",
       "0                                                 []   \n",
       "1  [{\"SliceNumber\": 399.0, \"percentage_presence\":...   \n",
       "2                                                 []   \n",
       "3  [{\"SliceNumber\": 399.0, \"percentage_presence\":...   \n",
       "4  [{\"SliceNumber\": 167.0, \"percentage_presence\":...   \n",
       "\n",
       "                                               birds  \n",
       "0                                                 []  \n",
       "1  [{\"SliceNumber\": 26.0, \"percentage_presence\": ...  \n",
       "2                                                 []  \n",
       "3  [{\"SliceNumber\": 26.0, \"percentage_presence\": ...  \n",
       "4  [{\"SliceNumber\": 26.0, \"percentage_presence\": ...  "
      ]
     },
     "execution_count": 224,
     "metadata": {},
     "output_type": "execute_result"
    }
   ],
   "source": [
    "dff.head()"
   ]
  },
  {
   "cell_type": "code",
   "execution_count": 226,
   "metadata": {},
   "outputs": [],
   "source": [
    "dff.to_file('/Users/tamarahuete/Documents/HALF_EARTH/gadm36_level1_Simplify_precalculated_crfs.shp')"
   ]
  },
  {
   "cell_type": "code",
   "execution_count": 228,
   "metadata": {},
   "outputs": [
    {
     "data": {
      "text/plain": [
       "'[{\"SliceNumber\": 4.0, \"percentage_presence\": 0.12}, {\"SliceNumber\": 9.0, \"percentage_presence\": 71.32}, {\"SliceNumber\": 327.0, \"percentage_presence\": 0.03}, {\"SliceNumber\": 1227.0, \"percentage_presence\": 0.27}, {\"SliceNumber\": 1229.0, \"percentage_presence\": 7.49}, {\"SliceNumber\": 1555.0, \"percentage_presence\": 0.17}, {\"SliceNumber\": 2527.0, \"percentage_presence\": 11.62}, {\"SliceNumber\": 3470.0, \"percentage_presence\": 5.37}, {\"SliceNumber\": 3737.0, \"percentage_presence\": 0.92}, {\"SliceNumber\": 3741.0, \"percentage_presence\": 13.08}, {\"SliceNumber\": 3747.0, \"percentage_presence\": 3.32}, {\"SliceNumber\": 3805.0, \"percentage_presence\": 0.1}, {\"SliceNumber\": 3808.0, \"percentage_presence\": 9.19}, {\"SliceNumber\": 3829.0, \"percentage_presence\": 16.62}, {\"SliceNumber\": 3832.0, \"percentage_presence\": 11.19}, {\"SliceNumber\": 4540.0, \"percentage_presence\": 26.08}, {\"SliceNumber\": 4939.0, \"percentage_presence\": 0.11}, {\"SliceNumber\": 5675.0, \"percentage_presence\": 4.22}, {\"SliceNumber\": 5854.0, \"percentage_presence\": 8.92}, {\"SliceNumber\": 5955.0, \"percentage_presence\": 2.35}, {\"SliceNumber\": 6005.0, \"percentage_presence\": 3.51}, {\"SliceNumber\": 6277.0, \"percentage_presence\": 8.41}, {\"SliceNumber\": 6312.0, \"percentage_presence\": 28.96}, {\"SliceNumber\": 6732.0, \"percentage_presence\": 41.59}, {\"SliceNumber\": 6734.0, \"percentage_presence\": 5.01}, {\"SliceNumber\": 6736.0, \"percentage_presence\": 77.03}, {\"SliceNumber\": 6737.0, \"percentage_presence\": 5.38}, {\"SliceNumber\": 6995.0, \"percentage_presence\": 0.01}, {\"SliceNumber\": 6996.0, \"percentage_presence\": 5.1}, {\"SliceNumber\": 7000.0, \"percentage_presence\": 0.06}, {\"SliceNumber\": 7005.0, \"percentage_presence\": 0.16}, {\"SliceNumber\": 7011.0, \"percentage_presence\": 0.16}, {\"SliceNumber\": 7173.0, \"percentage_presence\": 73.45}, {\"SliceNumber\": 7450.0, \"percentage_presence\": 0.03}, {\"SliceNumber\": 7584.0, \"percentage_presence\": 11.68}, {\"SliceNumber\": 8760.0, \"percentage_presence\": 7.67}, {\"SliceNumber\": 8763.0, \"percentage_presence\": 1.57}, {\"SliceNumber\": 8766.0, \"percentage_presence\": 0.01}, {\"SliceNumber\": 8772.0, \"percentage_presence\": 7.19}, {\"SliceNumber\": 8780.0, \"percentage_presence\": 100.03}, {\"SliceNumber\": 8993.0, \"percentage_presence\": 34.79}, {\"SliceNumber\": 8998.0, \"percentage_presence\": 9.04}, {\"SliceNumber\": 9002.0, \"percentage_presence\": 0.79}, {\"SliceNumber\": 9476.0, \"percentage_presence\": 14.43}, {\"SliceNumber\": 9596.0, \"percentage_presence\": 4.12}, {\"SliceNumber\": 9633.0, \"percentage_presence\": 0.61}]'"
      ]
     },
     "execution_count": 228,
     "metadata": {},
     "output_type": "execute_result"
    }
   ],
   "source": [
    "dff[(dff['MOL_ID']==1)].reptiles[0]"
   ]
  },
  {
   "cell_type": "code",
   "execution_count": null,
   "metadata": {},
   "outputs": [],
   "source": []
  }
 ],
 "metadata": {
  "kernelspec": {
   "display_name": "Python 3",
   "language": "python",
   "name": "python3"
  },
  "language_info": {
   "codemirror_mode": {
    "name": "ipython",
    "version": 3
   },
   "file_extension": ".py",
   "mimetype": "text/x-python",
   "name": "python",
   "nbconvert_exporter": "python",
   "pygments_lexer": "ipython3",
   "version": "3.7.4"
  }
 },
 "nbformat": 4,
 "nbformat_minor": 4
}
