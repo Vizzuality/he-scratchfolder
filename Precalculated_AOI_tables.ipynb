{
 "cells": [
  {
   "cell_type": "markdown",
   "metadata": {},
   "source": [
    "### Precalculated Tables\n",
    "tamara.huete@vizzuality.com - October 2021"
   ]
  },
  {
   "cell_type": "markdown",
   "metadata": {},
   "source": [
    "The Areas of Interest (AOIs) of the Half Earth Map has 2 sections, one with *on the fly* calculations and another one with *precalculated data*. In this notebook we create separte services for the precalculated data of GADM0, GADM1 and WDPA.  \n",
    "The data includes: \n",
    "+ Biodiversity data (amphibians, reptiles, mammals and birds in each area): This data comes from running the tool Sample inside ArcGis Pro against the bidiversity crfs and needs to be formatted for the FE to read as list of arrays [{},{},{}]. The crfs are projected, therefore the assumption we are making is that **1 pixel = 1km2**.\n",
    "+ Contextual data (population, climate regime, land cover and land use): Each section comes from a different data source with separate crfs created and then Zonal Stats is applied inside ArcGis Pro. Here we format the data for FE.  \n",
    "+ Only for GADM0 and GADM1, there is an addittional field that has the list of WDPA's found in that geometry. The list shows the MOL_ID (The WDPA list is deprecated, FE asked to have a separate table, so this is not udes anymore)\n",
    "\n",
    "Once the FS are in AOL, the style of the FS should be changed to have **outline: #d8d8d8**, **fill: none**"
   ]
  },
  {
   "cell_type": "markdown",
   "metadata": {},
   "source": [
    "### Table of contents:\n",
    "* [GADM 1 data](#first-bullet)\n",
    "* [GADM 0 data](#second-bullet)\n",
    "* [WDPA data](#third-bullet)"
   ]
  },
  {
   "cell_type": "code",
   "execution_count": 1,
   "metadata": {},
   "outputs": [],
   "source": [
    "import pandas as pd\n",
    "import numpy as np\n",
    "import geopandas as gpd\n",
    "import arcgis\n",
    "from arcgis.gis import GIS\n",
    "import json\n",
    "import pandas as pd\n",
    "from arcgis.features import FeatureLayerCollection\n",
    "import requests as re\n",
    "from copy import deepcopy"
   ]
  },
  {
   "cell_type": "code",
   "execution_count": 2,
   "metadata": {},
   "outputs": [],
   "source": [
    "env_path = \"../../.env\"\n",
    "with open(env_path) as f:\n",
    "   env = {}\n",
    "   for line in f:\n",
    "       env_key, _val = line.split(\"=\")\n",
    "       env_value = _val.split(\"\\n\")[0]\n",
    "       env[env_key] = env_value"
   ]
  },
  {
   "cell_type": "code",
   "execution_count": 3,
   "metadata": {},
   "outputs": [],
   "source": [
    "aol_password = env['ARCGIS_GRETA_PASS']\n",
    "aol_username = env['ARCGIS_GRETA_USER']"
   ]
  },
  {
   "cell_type": "code",
   "execution_count": 4,
   "metadata": {},
   "outputs": [],
   "source": [
    "gis = GIS(\"https://eowilson.maps.arcgis.com\", aol_username, aol_password, profile = \"eowilson\")"
   ]
  },
  {
   "cell_type": "code",
   "execution_count": 5,
   "metadata": {},
   "outputs": [],
   "source": [
    "import re\n",
    "def create_strict_reg_exp(to_search):\n",
    "    try:\n",
    "        reg_exp = f\"^{to_search}$\"\n",
    "        #logging.info(f\"regular expression is: {reg_exp}\")\n",
    "    except:\n",
    "        print(\"There was a problem with the string.\")\n",
    "    return reg_exp"
   ]
  },
  {
   "cell_type": "code",
   "execution_count": 6,
   "metadata": {},
   "outputs": [],
   "source": [
    "def findItemGetID(csvName, gis, item_type = \"Feature Layer\"):\n",
    "    try:\n",
    "        searched_item = gis.content.search(csvName, item_type = item_type)\n",
    "        for i in searched_item:\n",
    "            reg_exp = create_strict_reg_exp(csvName)\n",
    "            if re.search(reg_exp, i.title)!= None:    \n",
    "                #logging.info(f\"{csvName} has the id: {i.id}\")\n",
    "                return i.id\n",
    "    except:\n",
    "        print(\"There was a problem finding the item\")"
   ]
  },
  {
   "cell_type": "code",
   "execution_count": 7,
   "metadata": {},
   "outputs": [],
   "source": [
    "def getFlayerFromID(item_id):\n",
    "    item = gis.content.get(item_id)\n",
    "    flayer = item.layers[0]\n",
    "    return flayer"
   ]
  },
  {
   "cell_type": "code",
   "execution_count": 8,
   "metadata": {},
   "outputs": [],
   "source": [
    "import pandas as pd\n",
    "def getSDFfromFlayer(flayer):\n",
    "    sdf = pd.DataFrame.spatial.from_layer(flayer)\n",
    "    return sdf"
   ]
  },
  {
   "cell_type": "code",
   "execution_count": 9,
   "metadata": {},
   "outputs": [],
   "source": [
    "def getHTfromId(item_id):\n",
    "    item = gis.content.get(item_id)\n",
    "    flayer = item.tables[0]\n",
    "    sdf = flayer.query().sdf\n",
    "    return sdf"
   ]
  },
  {
   "cell_type": "markdown",
   "metadata": {},
   "source": [
    "## GADM 1 data <a class=\"anchor\" id=\"first-bullet\"></a>"
   ]
  },
  {
   "cell_type": "markdown",
   "metadata": {},
   "source": [
    "Original gadm 1 table from Scott: https://eowilson.maps.arcgis.com/home/item.html?id=122082293e614e06bddbe532063accc9  \n",
    "Same table Simplified: https://eowilson.maps.arcgis.com/home/item.html?id=4afeb2c82e8a45e98f9c698cb2259dc0"
   ]
  },
  {
   "cell_type": "code",
   "execution_count": 8,
   "metadata": {},
   "outputs": [],
   "source": [
    "## GADM 1 biodiversity ids on ArcGis Online (outputs of Sample tool in ArcGisPro)\n",
    "layer_ids = {'amph':'30056f994d5748198ffd8f45619692a2',\n",
    "             'birds':'8663c992ab66475f8b818048725fa98e',\n",
    "             'mamm':'8f2ad6b4ef8547f79e82c9d98e481922',\n",
    "             'rept':'e92386ef1f4b423faae3f7afb1330319'}"
   ]
  },
  {
   "cell_type": "code",
   "execution_count": 8,
   "metadata": {},
   "outputs": [],
   "source": [
    "### gadm tables\n",
    "## Original scott table\n",
    "scott= gpd.read_file('zip:///Users/tamarahuete/Documents/HALF_EARTH/gadm36_level1.zip')\n",
    "\n",
    "## Simplified scott table\n",
    "gadm = gpd.read_file('zip:///Users/tamarahuete/Documents/HALF_EARTH/gadm36_level1_Simplify.zip')\n",
    "\n",
    "### gadm as raster area (from Scotts table)\n",
    "gadmpix = pd.read_csv('../../HALF_EARTH/gadm1_polygon_to_raster.csv')"
   ]
  },
  {
   "cell_type": "code",
   "execution_count": 30,
   "metadata": {},
   "outputs": [
    {
     "data": {
      "text/html": [
       "<div>\n",
       "<style scoped>\n",
       "    .dataframe tbody tr th:only-of-type {\n",
       "        vertical-align: middle;\n",
       "    }\n",
       "\n",
       "    .dataframe tbody tr th {\n",
       "        vertical-align: top;\n",
       "    }\n",
       "\n",
       "    .dataframe thead th {\n",
       "        text-align: right;\n",
       "    }\n",
       "</style>\n",
       "<table border=\"1\" class=\"dataframe\">\n",
       "  <thead>\n",
       "    <tr style=\"text-align: right;\">\n",
       "      <th></th>\n",
       "      <th>OID_</th>\n",
       "      <th>Value</th>\n",
       "      <th>Count</th>\n",
       "    </tr>\n",
       "  </thead>\n",
       "  <tbody>\n",
       "    <tr>\n",
       "      <th>0</th>\n",
       "      <td>1</td>\n",
       "      <td>1</td>\n",
       "      <td>43697.0</td>\n",
       "    </tr>\n",
       "    <tr>\n",
       "      <th>1</th>\n",
       "      <td>2</td>\n",
       "      <td>2</td>\n",
       "      <td>20581.0</td>\n",
       "    </tr>\n",
       "    <tr>\n",
       "      <th>2</th>\n",
       "      <td>3</td>\n",
       "      <td>3</td>\n",
       "      <td>21120.0</td>\n",
       "    </tr>\n",
       "    <tr>\n",
       "      <th>3</th>\n",
       "      <td>4</td>\n",
       "      <td>4</td>\n",
       "      <td>17265.0</td>\n",
       "    </tr>\n",
       "    <tr>\n",
       "      <th>4</th>\n",
       "      <td>5</td>\n",
       "      <td>5</td>\n",
       "      <td>14173.0</td>\n",
       "    </tr>\n",
       "  </tbody>\n",
       "</table>\n",
       "</div>"
      ],
      "text/plain": [
       "   OID_  Value    Count\n",
       "0     1      1  43697.0\n",
       "1     2      2  20581.0\n",
       "2     3      3  21120.0\n",
       "3     4      4  17265.0\n",
       "4     5      5  14173.0"
      ]
     },
     "execution_count": 30,
     "metadata": {},
     "output_type": "execute_result"
    }
   ],
   "source": [
    "gadmpix.head()"
   ]
  },
  {
   "cell_type": "code",
   "execution_count": 31,
   "metadata": {},
   "outputs": [],
   "source": [
    "gadm = gadm.merge(gadmpix, right_on = 'Value', left_on = 'MOL_ID')\n",
    "gadm.rename(columns={'Count':'AREA_PX'}, inplace = True)"
   ]
  },
  {
   "cell_type": "code",
   "execution_count": 32,
   "metadata": {},
   "outputs": [],
   "source": [
    "amph.rename(columns={'SliceNumbe':'SliceNumber','SUM_amphib':'SUM'}, inplace=True)\n",
    "rept.rename(columns={'SliceNumbe':'SliceNumber','SUM_reptil':'SUM'}, inplace=True)\n",
    "mam.rename(columns={'SliceNumbe':'SliceNumber','SUM_presen':'SUM'}, inplace=True)\n",
    "bird.rename(columns={'SliceNumbe':'SliceNumber','SUM_birds':'SUM'}, inplace=True)"
   ]
  },
  {
   "cell_type": "code",
   "execution_count": 33,
   "metadata": {},
   "outputs": [],
   "source": [
    "amph = amph.merge(gadm[['MOL_ID','AREA_KM2','AREA_PX']])\n",
    "amph['percentage_presence'] = round(amph['SUM']/amph['AREA_PX']*100,2)"
   ]
  },
  {
   "cell_type": "code",
   "execution_count": 245,
   "metadata": {},
   "outputs": [
    {
     "data": {
      "text/plain": [
       "<matplotlib.axes._subplots.AxesSubplot at 0x7f9ba64dbe10>"
      ]
     },
     "execution_count": 245,
     "metadata": {},
     "output_type": "execute_result"
    },
    {
     "data": {
      "image/png": "[encoded data removed]",
      "text/plain": [
       "<Figure size 432x288 with 1 Axes>"
      ]
     },
     "metadata": {
      "needs_background": "light"
     },
     "output_type": "display_data"
    }
   ],
   "source": [
    "### There are 434 rows that have over 100% of presence\n",
    "amph.loc[amph['percentage_presence']> 100,'percentage_presence'].hist()"
   ]
  },
  {
   "cell_type": "code",
   "execution_count": 36,
   "metadata": {},
   "outputs": [
    {
     "data": {
      "text/plain": [
       "281"
      ]
     },
     "execution_count": 36,
     "metadata": {},
     "output_type": "execute_result"
    }
   ],
   "source": [
    "len(amph.loc[amph['percentage_presence']> 100,'percentage_presence'])"
   ]
  },
  {
   "cell_type": "markdown",
   "metadata": {},
   "source": [
    "#### - (GADM1) Format Biodiversity data"
   ]
  },
  {
   "cell_type": "code",
   "execution_count": 269,
   "metadata": {},
   "outputs": [
    {
     "name": "stderr",
     "output_type": "stream",
     "text": [
      "/Users/tamarahuete/opt/anaconda3/lib/python3.7/site-packages/geopandas/geodataframe.py:853: SettingWithCopyWarning: \n",
      "A value is trying to be set on a copy of a slice from a DataFrame.\n",
      "Try using .loc[row_indexer,col_indexer] = value instead\n",
      "\n",
      "See the caveats in the documentation: https://pandas.pydata.org/pandas-docs/stable/user_guide/indexing.html#returning-a-view-versus-a-copy\n",
      "  super(GeoDataFrame, self).__setitem__(key, value)\n"
     ]
    }
   ],
   "source": [
    "### Use here Scott original data because the simplification has deleted some provinces\n",
    "dff = scott[['GID_0','NAME_0','GID_1','NAME_1','MOL_ID','AREA_KM2','geometry']]\n",
    "dff['reptiles']=np.nan\n",
    "dff['amphibians']=np.nan\n",
    "dff['mammals']=np.nan\n",
    "dff['birds']=np.nan\n",
    "\n",
    "paths = {'amphibians':'../../HALF_EARTH/amphibians_gadm1_final_20211003.zip',\n",
    "         'birds':'../../HALF_EARTH/birds_gadm1_final_20211003.zip',\n",
    "         'mammals':'../../HALF_EARTH/mammals_gadm1_final_20211003.zip',\n",
    "         'reptiles':'../../HALF_EARTH/reptiles_gadm1_final_20211003.zip'}\n",
    "\n",
    "### Ids of lookup tables for each taxa in ArcGIS online\n",
    "lookups = {'amphibians':'a641a4cd269345dea93b8bcb1cb66676',\n",
    "         'birds':'4d8698734b654bb9bb7a61d9af314c76',\n",
    "         'mammals':'84d3c71caf97479d85f620a4ee217d68',\n",
    "         'reptiles':'b720e84869624e5482b25338b27a54f2'}"
   ]
  },
  {
   "cell_type": "code",
   "execution_count": 270,
   "metadata": {},
   "outputs": [
    {
     "name": "stdout",
     "output_type": "stream",
     "text": [
      "amphibians\n",
      "finished MOL_ID =3610\n",
      "birds\n",
      "finished MOL_ID =3610\n",
      "mammals\n",
      "finished MOL_ID =3610\n",
      "reptiles\n",
      "finished MOL_ID =3610\n",
      "CPU times: user 2h 14min 45s, sys: 2min 42s, total: 2h 17min 27s\n",
      "Wall time: 2h 27min 22s\n"
     ]
    }
   ],
   "source": [
    "%%time\n",
    "### Loop over each set of data and add all results to one dictionary that will be a text field in the Feature Service\n",
    "for taxa in paths.keys():\n",
    "    print(taxa) \n",
    "    df = pd.read_csv(paths[taxa])\n",
    "    col_name = [col for col in df.columns if 'SUM' in col]\n",
    "    df.rename(columns={'SliceNumbe':'SliceNumber',col_name[0]:'SUM'}, inplace=True)\n",
    "    \n",
    "    ### Get species area against global species range:\n",
    "    lookup = getHTfromId(lookups[taxa])\n",
    "    df = df.merge(lookup[['SliceNumber','range_area_km2']], how='left',on = 'SliceNumber')\n",
    "    df['per_global'] = round(df['SUM']/df['range_area_km2']*100,2)\n",
    "    \n",
    "    ### Get species area against aoi area:\n",
    "    df = df.merge(gadm[['MOL_ID','AREA_KM2']])\n",
    "    df['per_aoi'] = round(df['SUM']/df['AREA_KM2']*100,2)\n",
    "    \n",
    "    ### Format as array of dicts:\n",
    "    for i in dff.MOL_ID:\n",
    "        species = []\n",
    "        for j in df[(df.MOL_ID== i)].SliceNumber.unique():\n",
    "            sp_dict = {'SliceNumber':int(df[(df.MOL_ID== i) & (df.SliceNumber==j)].SliceNumber.values[0]),\n",
    "                       'per_global':df[(df.MOL_ID== i) & (df.SliceNumber==j)].per_global.values[0],\n",
    "                       'per_aoi':df[(df.MOL_ID== i) & (df.SliceNumber==j)].per_aoi.values[0]\n",
    "                      }\n",
    "            species.append(sp_dict)\n",
    "        dff.loc[dff['MOL_ID']==i,taxa] =json.dumps(species)\n",
    "    print(f'finished MOL_ID ={i}')\n",
    "pd.set_option('display.max_colwidth',None)\n",
    "test= pd.DataFrame(dff[dff.columns[~dff.columns.isin(['geometry'])]])\n",
    "test.to_csv(\"../../HALF_EARTH/gadm1_precalc_biodiv_range.csv\",index=False)\n",
    "pd.reset_option('display.max_colwidth')\n",
    "\n",
    "#### Don't export as shapefile because it truncates the string length"
   ]
  },
  {
   "cell_type": "code",
   "execution_count": 9,
   "metadata": {},
   "outputs": [],
   "source": [
    "#dff = pd.read_csv(\"../../HALF_EARTH/gadm1_precalc_biodiv.csv\") # area\n",
    "dff = pd.read_csv(\"../../HALF_EARTH/gadm1_precalc_biodiv_range.csv\") # species range"
   ]
  },
  {
   "cell_type": "code",
   "execution_count": 10,
   "metadata": {},
   "outputs": [
    {
     "data": {
      "text/plain": [
       "'[{\"SliceNumber\": 4, \"per_global\": 1.97, \"per_aoi\": 0.12}, {\"SliceNumber\": 9, \"per_global\": 1.37, \"per_aoi\": 71.32}, {\"SliceNumber\": 327, \"per_global\": 0.25, \"per_aoi\": 0.03}, {\"SliceNumber\": 1227, \"per_global\": 0.07, \"per_aoi\": 0.27}, {\"SliceNumber\": 1229, \"per_global\": 0.64, \"per_aoi\": 7.49}, {\"SliceNumber\": 1555, \"per_global\": 0.0, \"per_aoi\": 0.17}, {\"SliceNumber\": 2527, \"per_global\": 0.36, \"per_aoi\": 11.62}, {\"SliceNumber\": 3470, \"per_global\": 0.06, \"per_aoi\": 5.37}, {\"SliceNumber\": 3737, \"per_global\": 1.1, \"per_aoi\": 0.92}, {\"SliceNumber\": 3741, \"per_global\": 0.31, \"per_aoi\": 13.08}, {\"SliceNumber\": 3747, \"per_global\": 1.4, \"per_aoi\": 3.32}, {\"SliceNumber\": 3805, \"per_global\": 0.0, \"per_aoi\": 0.1}, {\"SliceNumber\": 3808, \"per_global\": 0.11, \"per_aoi\": 9.19}, {\"SliceNumber\": 3829, \"per_global\": 0.81, \"per_aoi\": 16.62}, {\"SliceNumber\": 3832, \"per_global\": 0.2, \"per_aoi\": 11.19}, {\"SliceNumber\": 4540, \"per_global\": 0.5, \"per_aoi\": 26.08}, {\"SliceNumber\": 4939, \"per_global\": 0.01, \"per_aoi\": 0.11}, {\"SliceNumber\": 5675, \"per_global\": 0.89, \"per_aoi\": 4.22}, {\"SliceNumber\": 5854, \"per_global\": 0.24, \"per_aoi\": 8.92}, {\"SliceNumber\": 5955, \"per_global\": 0.06, \"per_aoi\": 2.35}, {\"SliceNumber\": 6005, \"per_global\": 0.07, \"per_aoi\": 3.51}, {\"SliceNumber\": 6277, \"per_global\": 0.25, \"per_aoi\": 8.41}, {\"SliceNumber\": 6312, \"per_global\": 0.31, \"per_aoi\": 28.96}, {\"SliceNumber\": 6732, \"per_global\": 25.67, \"per_aoi\": 41.59}, {\"SliceNumber\": 6734, \"per_global\": 0.2, \"per_aoi\": 5.01}, {\"SliceNumber\": 6736, \"per_global\": 9.77, \"per_aoi\": 77.03}, {\"SliceNumber\": 6737, \"per_global\": 2.34, \"per_aoi\": 5.38}, {\"SliceNumber\": 6995, \"per_global\": 0.0, \"per_aoi\": 0.01}, {\"SliceNumber\": 6996, \"per_global\": 0.22, \"per_aoi\": 5.1}, {\"SliceNumber\": 7000, \"per_global\": 0.0, \"per_aoi\": 0.06}, {\"SliceNumber\": 7005, \"per_global\": 0.03, \"per_aoi\": 0.16}, {\"SliceNumber\": 7011, \"per_global\": 0.0, \"per_aoi\": 0.16}, {\"SliceNumber\": 7173, \"per_global\": 0.63, \"per_aoi\": 73.45}, {\"SliceNumber\": 7450, \"per_global\": 0.0, \"per_aoi\": 0.03}, {\"SliceNumber\": 7584, \"per_global\": 0.51, \"per_aoi\": 11.68}, {\"SliceNumber\": 8760, \"per_global\": 0.22, \"per_aoi\": 7.67}, {\"SliceNumber\": 8763, \"per_global\": 0.34, \"per_aoi\": 1.57}, {\"SliceNumber\": 8766, \"per_global\": 0.02, \"per_aoi\": 0.01}, {\"SliceNumber\": 8772, \"per_global\": 0.18, \"per_aoi\": 7.19}, {\"SliceNumber\": 8780, \"per_global\": 0.97, \"per_aoi\": 100.03}, {\"SliceNumber\": 8993, \"per_global\": 0.56, \"per_aoi\": 34.79}, {\"SliceNumber\": 8998, \"per_global\": 0.6, \"per_aoi\": 9.04}, {\"SliceNumber\": 9002, \"per_global\": 0.02, \"per_aoi\": 0.79}, {\"SliceNumber\": 9476, \"per_global\": 0.04, \"per_aoi\": 14.43}, {\"SliceNumber\": 9596, \"per_global\": 0.08, \"per_aoi\": 4.12}, {\"SliceNumber\": 9633, \"per_global\": 0.02, \"per_aoi\": 0.61}]'"
      ]
     },
     "execution_count": 10,
     "metadata": {},
     "output_type": "execute_result"
    }
   ],
   "source": [
    "dff.loc[dff['MOL_ID']==1,'reptiles'].values[0]"
   ]
  },
  {
   "cell_type": "code",
   "execution_count": 11,
   "metadata": {},
   "outputs": [
    {
     "data": {
      "text/plain": [
       "3610"
      ]
     },
     "execution_count": 11,
     "metadata": {},
     "output_type": "execute_result"
    }
   ],
   "source": [
    "len(dff)"
   ]
  },
  {
   "cell_type": "markdown",
   "metadata": {},
   "source": [
    "#### Combine 3 layers layers \n",
    "* GEOMETRY: GADM Base layer with simplified geometries and MOL ID ([CSV](https://eowilson.maps.arcgis.com/home/item.html?id=81de5933b1894ac082f50536cf98bf46))\n",
    "* CONTEXTUAL DATA: Precalculated contextual data ([FS](https://eowilson.maps.arcgis.com/home/item.html?id=8b830df4fbca4a8388a120dfa13d887b) and [CSV](https://eowilson.maps.arcgis.com/home/item.html?id=b733d87f2117412d8ee8c3b684218ce4)) (Also has GADM level 0 and 1, with more countries than the ones provided by MOL)\n",
    "* BIODIVERSITY DATA: Precalculated biodiversity data (dff)"
   ]
  },
  {
   "cell_type": "markdown",
   "metadata": {},
   "source": [
    "#### - (GADM1) Format Contextual data"
   ]
  },
  {
   "cell_type": "code",
   "execution_count": 12,
   "metadata": {},
   "outputs": [],
   "source": [
    "### Contextual data\n",
    "### Aol layer: https://eowilson.maps.arcgis.com/home/item.html?id=8b830df4fbca4a8388a120dfa13d887b\n",
    "precalc = pd.read_csv('../../HALF_EARTH/gadm_level0_and_1_Merge.zip')"
   ]
  },
  {
   "cell_type": "code",
   "execution_count": 13,
   "metadata": {},
   "outputs": [
    {
     "data": {
      "text/plain": [
       "Index(['OBJECTID', 'GID_0', 'NAME_0', 'GID_1', 'NAME_1', 'VARNAME_1',\n",
       "       'NL_NAME_1', 'TYPE_1', 'ENGTYPE_1', 'CC_1', 'HASC_1', 'geom_Length',\n",
       "       'geom_Area', 'country_size', 'country_zoom', 'GID_0_1',\n",
       "       'percentage_protected', 'percent_irrigated', 'percent_rainfed',\n",
       "       'percent_rangeland', 'percent_urban', 'population_sum',\n",
       "       'majority land cover climate regime', 'land_cover_majority',\n",
       "       'climate_regime_majority', 'Shape__Area', 'Shape__Length'],\n",
       "      dtype='object')"
      ]
     },
     "execution_count": 13,
     "metadata": {},
     "output_type": "execute_result"
    }
   ],
   "source": [
    "precalc.columns"
   ]
  },
  {
   "cell_type": "code",
   "execution_count": 14,
   "metadata": {},
   "outputs": [
    {
     "data": {
      "text/plain": [
       "28"
      ]
     },
     "execution_count": 14,
     "metadata": {},
     "output_type": "execute_result"
    }
   ],
   "source": [
    "### Countries in first list that are not in the second list\n",
    "len(list(set(precalc.GID_0) ^ set(dff.GID_0)))\n",
    "### There are 28 counties missing from the simplified gadm dataset"
   ]
  },
  {
   "cell_type": "code",
   "execution_count": 15,
   "metadata": {},
   "outputs": [
    {
     "data": {
      "text/plain": [
       "[]"
      ]
     },
     "execution_count": 15,
     "metadata": {},
     "output_type": "execute_result"
    }
   ],
   "source": [
    "### Check Scott's original data before simplification\n",
    "list(set(scott.GID_0) ^ set(dff.GID_0)) ### All countries in both tables"
   ]
  },
  {
   "cell_type": "code",
   "execution_count": 16,
   "metadata": {},
   "outputs": [
    {
     "data": {
      "text/plain": [
       "Index(['GID_0', 'NAME_0', 'GID_1', 'NAME_1', 'MOL_ID', 'AREA_KM2', 'reptiles',\n",
       "       'amphibians', 'mammals', 'birds'],\n",
       "      dtype='object')"
      ]
     },
     "execution_count": 16,
     "metadata": {},
     "output_type": "execute_result"
    }
   ],
   "source": [
    "### Join contextual data and precalculated data\n",
    "dff.columns"
   ]
  },
  {
   "cell_type": "code",
   "execution_count": 17,
   "metadata": {},
   "outputs": [],
   "source": [
    "if 'Unnamed: 0' in dff.columns:\n",
    "    dff.drop(columns='Unnamed: 0',inplace = True)\n",
    "if 'Unnamed: 0.1' in dff.columns:\n",
    "    dff.drop(columns='Unnamed: 0.1',inplace = True)"
   ]
  },
  {
   "cell_type": "code",
   "execution_count": 18,
   "metadata": {},
   "outputs": [],
   "source": [
    "dff_merge = dff.merge(precalc[['percentage_protected', 'percent_irrigated', 'percent_rainfed',\n",
    "       'percent_rangeland', 'percent_urban', 'population_sum',\n",
    "       'majority land cover climate regime', 'land_cover_majority',\n",
    "       'climate_regime_majority','GID_1','country_size']], on ='GID_1',how='left')"
   ]
  },
  {
   "cell_type": "code",
   "execution_count": 19,
   "metadata": {},
   "outputs": [],
   "source": [
    "dff_merge.rename(columns={'majority land cover climate regime':'majority_land_cover_climate_regime'},inplace=True)"
   ]
  },
  {
   "cell_type": "code",
   "execution_count": 20,
   "metadata": {},
   "outputs": [
    {
     "data": {
      "text/plain": [
       "3610"
      ]
     },
     "execution_count": 20,
     "metadata": {},
     "output_type": "execute_result"
    }
   ],
   "source": [
    "len(dff_merge)"
   ]
  },
  {
   "cell_type": "code",
   "execution_count": 21,
   "metadata": {},
   "outputs": [
    {
     "data": {
      "text/plain": [
       "'[{\"SliceNumber\": 4, \"per_global\": 1.97, \"per_aoi\": 0.12}, {\"SliceNumber\": 9, \"per_global\": 1.37, \"per_aoi\": 71.32}, {\"SliceNumber\": 327, \"per_global\": 0.25, \"per_aoi\": 0.03}, {\"SliceNumber\": 1227, \"per_global\": 0.07, \"per_aoi\": 0.27}, {\"SliceNumber\": 1229, \"per_global\": 0.64, \"per_aoi\": 7.49}, {\"SliceNumber\": 1555, \"per_global\": 0.0, \"per_aoi\": 0.17}, {\"SliceNumber\": 2527, \"per_global\": 0.36, \"per_aoi\": 11.62}, {\"SliceNumber\": 3470, \"per_global\": 0.06, \"per_aoi\": 5.37}, {\"SliceNumber\": 3737, \"per_global\": 1.1, \"per_aoi\": 0.92}, {\"SliceNumber\": 3741, \"per_global\": 0.31, \"per_aoi\": 13.08}, {\"SliceNumber\": 3747, \"per_global\": 1.4, \"per_aoi\": 3.32}, {\"SliceNumber\": 3805, \"per_global\": 0.0, \"per_aoi\": 0.1}, {\"SliceNumber\": 3808, \"per_global\": 0.11, \"per_aoi\": 9.19}, {\"SliceNumber\": 3829, \"per_global\": 0.81, \"per_aoi\": 16.62}, {\"SliceNumber\": 3832, \"per_global\": 0.2, \"per_aoi\": 11.19}, {\"SliceNumber\": 4540, \"per_global\": 0.5, \"per_aoi\": 26.08}, {\"SliceNumber\": 4939, \"per_global\": 0.01, \"per_aoi\": 0.11}, {\"SliceNumber\": 5675, \"per_global\": 0.89, \"per_aoi\": 4.22}, {\"SliceNumber\": 5854, \"per_global\": 0.24, \"per_aoi\": 8.92}, {\"SliceNumber\": 5955, \"per_global\": 0.06, \"per_aoi\": 2.35}, {\"SliceNumber\": 6005, \"per_global\": 0.07, \"per_aoi\": 3.51}, {\"SliceNumber\": 6277, \"per_global\": 0.25, \"per_aoi\": 8.41}, {\"SliceNumber\": 6312, \"per_global\": 0.31, \"per_aoi\": 28.96}, {\"SliceNumber\": 6732, \"per_global\": 25.67, \"per_aoi\": 41.59}, {\"SliceNumber\": 6734, \"per_global\": 0.2, \"per_aoi\": 5.01}, {\"SliceNumber\": 6736, \"per_global\": 9.77, \"per_aoi\": 77.03}, {\"SliceNumber\": 6737, \"per_global\": 2.34, \"per_aoi\": 5.38}, {\"SliceNumber\": 6995, \"per_global\": 0.0, \"per_aoi\": 0.01}, {\"SliceNumber\": 6996, \"per_global\": 0.22, \"per_aoi\": 5.1}, {\"SliceNumber\": 7000, \"per_global\": 0.0, \"per_aoi\": 0.06}, {\"SliceNumber\": 7005, \"per_global\": 0.03, \"per_aoi\": 0.16}, {\"SliceNumber\": 7011, \"per_global\": 0.0, \"per_aoi\": 0.16}, {\"SliceNumber\": 7173, \"per_global\": 0.63, \"per_aoi\": 73.45}, {\"SliceNumber\": 7450, \"per_global\": 0.0, \"per_aoi\": 0.03}, {\"SliceNumber\": 7584, \"per_global\": 0.51, \"per_aoi\": 11.68}, {\"SliceNumber\": 8760, \"per_global\": 0.22, \"per_aoi\": 7.67}, {\"SliceNumber\": 8763, \"per_global\": 0.34, \"per_aoi\": 1.57}, {\"SliceNumber\": 8766, \"per_global\": 0.02, \"per_aoi\": 0.01}, {\"SliceNumber\": 8772, \"per_global\": 0.18, \"per_aoi\": 7.19}, {\"SliceNumber\": 8780, \"per_global\": 0.97, \"per_aoi\": 100.03}, {\"SliceNumber\": 8993, \"per_global\": 0.56, \"per_aoi\": 34.79}, {\"SliceNumber\": 8998, \"per_global\": 0.6, \"per_aoi\": 9.04}, {\"SliceNumber\": 9002, \"per_global\": 0.02, \"per_aoi\": 0.79}, {\"SliceNumber\": 9476, \"per_global\": 0.04, \"per_aoi\": 14.43}, {\"SliceNumber\": 9596, \"per_global\": 0.08, \"per_aoi\": 4.12}, {\"SliceNumber\": 9633, \"per_global\": 0.02, \"per_aoi\": 0.61}]'"
      ]
     },
     "execution_count": 21,
     "metadata": {},
     "output_type": "execute_result"
    }
   ],
   "source": [
    "dff_merge.loc[dff_merge['MOL_ID']==1,'reptiles'].values[0]"
   ]
  },
  {
   "cell_type": "code",
   "execution_count": 22,
   "metadata": {},
   "outputs": [],
   "source": [
    "### Join with gadm (simplified) geometry\n",
    "all_data =dff_merge.merge(gadm[['geometry','MOL_ID']],on ='MOL_ID',how='inner')"
   ]
  },
  {
   "cell_type": "code",
   "execution_count": 23,
   "metadata": {},
   "outputs": [
    {
     "data": {
      "text/plain": [
       "Index(['GID_0', 'NAME_0', 'GID_1', 'NAME_1', 'MOL_ID', 'AREA_KM2', 'reptiles',\n",
       "       'amphibians', 'mammals', 'birds', 'percentage_protected',\n",
       "       'percent_irrigated', 'percent_rainfed', 'percent_rangeland',\n",
       "       'percent_urban', 'population_sum', 'majority_land_cover_climate_regime',\n",
       "       'land_cover_majority', 'climate_regime_majority', 'country_size',\n",
       "       'geometry'],\n",
       "      dtype='object')"
      ]
     },
     "execution_count": 23,
     "metadata": {},
     "output_type": "execute_result"
    }
   ],
   "source": [
    "all_data.columns"
   ]
  },
  {
   "cell_type": "code",
   "execution_count": 24,
   "metadata": {},
   "outputs": [],
   "source": [
    "gdf = gpd.GeoDataFrame(all_data, geometry=all_data.geometry)\n",
    "# gdf.to_file('../../HALF_EARTH/all_precalc.geojson',driver='GeoJSON') # area\n",
    "gdf.to_file('../../HALF_EARTH/gadm1_precalculated_range.geojson',driver='GeoJSON') # range"
   ]
  },
  {
   "cell_type": "code",
   "execution_count": 79,
   "metadata": {},
   "outputs": [],
   "source": [
    "gdf = gpd.read_file('../../HALF_EARTH/gadm1_precalculated_range.geojson')"
   ]
  },
  {
   "cell_type": "code",
   "execution_count": null,
   "metadata": {},
   "outputs": [],
   "source": []
  },
  {
   "cell_type": "code",
   "execution_count": 244,
   "metadata": {},
   "outputs": [],
   "source": [
    "### Save full version as geojson\n",
    "gdf = gpd.GeoDataFrame(all_data, geometry=all_data.geometry)\n",
    "gdf.to_file('../../HALF_EARTH/gadm1_precalculated_range.geojson',driver='GeoJSON')\n",
    "\n",
    "### Save geometry with MOL ID as shapefile\n",
    "# gdf[['GID_0', 'NAME_0', 'GID_1', 'NAME_1', 'MOL_ID', 'AREA_KM2','geometry']].to_file('../../HALF_EARTH/gadm1_simple.shp')\n",
    "\n",
    "### Save porcalculated data without geometry as csv\n",
    "# all_data[all_data.columns[~all_data.columns.isin(['geometry'])]].to_csv('../../HALF_EARTH/gadm1_precalc_no_geometry.csv')\n",
    "\n",
    "### Upload all to AGOL through portal"
   ]
  },
  {
   "cell_type": "code",
   "execution_count": 151,
   "metadata": {},
   "outputs": [],
   "source": [
    "### Failing to upload geojson for the range data\n",
    "old = gpd.read_file('../../HALF_EARTH/all_precalc.geojson')\n",
    "dff = pd.read_csv(\"../../HALF_EARTH/gadm1_precalc_biodiv_range.csv\") # species range"
   ]
  },
  {
   "cell_type": "code",
   "execution_count": 153,
   "metadata": {},
   "outputs": [],
   "source": [
    "#drop biodiv layers from old layer and substitute by the new ones (range)\n",
    "old = old.drop(columns=['birds']) # for some reason mammals, reptiles and amphibians are not in this table"
   ]
  },
  {
   "cell_type": "code",
   "execution_count": 160,
   "metadata": {},
   "outputs": [],
   "source": [
    "old_mod = old.merge(dff[['MOL_ID','amphibians','birds','reptiles','mammals']], on = 'MOL_ID')"
   ]
  },
  {
   "cell_type": "code",
   "execution_count": 163,
   "metadata": {},
   "outputs": [],
   "source": [
    "old_mod.to_file('../../HALF_EARTH/gadm1_precalculated_range2.geojson',driver='GeoJSON')"
   ]
  },
  {
   "cell_type": "markdown",
   "metadata": {},
   "source": [
    "## Final layer:\n",
    "### 1. Percentage_presence as portion of geometry area (DEPRECATED):\n",
    "* Upload everything as geojson: [FS](https://eowilson.maps.arcgis.com/home/item.html?id=3f89b653de41428a8166d51f383f0950)/ [URL](https://services9.arcgis.com/IkktFdUAcY3WrH25/arcgis/rest/services/gadm1_precalculated/FeatureServer)/[Whitelisted](https://utility.arcgis.com/usrsvcs/servers/4870a51b17f841c38793b3c0a3f053c9/rest/services/gadm1_precalculated/FeatureServer)\n",
    "* Upload 2 layers: [gadm simplified FS](https://eowilson.maps.arcgis.com/home/item.html?id=a3a2cf24f3b549c2b16f82bd996f7d16)/[URL](https://services9.arcgis.com/IkktFdUAcY3WrH25/arcgis/rest/services/gadm1_simple_geometry/FeatureServer) and [precalculated data FS](https://eowilson.maps.arcgis.com/home/item.html?id=c6f8cbcbcfe54a4abab3da33a7226bcd)/[URL](https://services9.arcgis.com/IkktFdUAcY3WrH25/arcgis/rest/services/gadm1_precalc_no_geometry/FeatureServer)/[Whitelisted](https://utility.arcgis.com/usrsvcs/servers/d9732336623740eda16d15322d2f14a2/rest/services/gadm1_precalc_no_geometry/FeatureServer) and join in the FE by GID_1 or MOL_ID\n",
    "\n",
    "### 2. Percentage_presence as portion of global species area (DEPRECATED):\n",
    "* Upload everything as geojson: [FS](https://eowilson.maps.arcgis.com/home/item.html?id=04be557b601d4f0a951aef3d90d917dc)/ [URL](https://services9.arcgis.com/IkktFdUAcY3WrH25/arcgis/rest/services/gadm1_precalculated_range/FeatureServer)/[Whitelisted](https://utility.arcgis.com/usrsvcs/servers/56f6738878394ccf9ec258af1275bdaa/rest/services/gadm1_precalculated_range/FeatureServer)\n",
    "\n",
    "### 3. Both per_aoi and per_global (IN USE):\n",
    "* Upload everything as geojson: [FS](https://eowilson.maps.arcgis.com/home/item.html?id=04be557b601d4f0a951aef3d90d917dc)/ [URL](https://services9.arcgis.com/IkktFdUAcY3WrH25/arcgis/rest/services/gadm1_precalculated_range/FeatureServer)/[Whitelisted](https://utility.arcgis.com/usrsvcs/servers/329a41aec90249c2ba5d6330f43f9390/rest/services/gadm1_precalculated_range_area/FeatureServer)"
   ]
  },
  {
   "cell_type": "markdown",
   "metadata": {},
   "source": [
    "#### (GADM1) WDPA table by country"
   ]
  },
  {
   "cell_type": "code",
   "execution_count": 2,
   "metadata": {},
   "outputs": [],
   "source": [
    "## Add list of wdpa's per country\n",
    "## gadm1 (scott's original)\n",
    "gadm1= gpd.read_file('zip:///Users/tamarahuete/Documents/HALF_EARTH/gadm36_level1.zip')\n",
    "## wdpa (scott's original)\n",
    "wdpa= gpd.read_file('zip:///Users/tamarahuete/Documents/HALF_EARTH/WDPA_FILTERED_20210615_FILTERED_nomarine_with_oecm_wdpa.zip')"
   ]
  },
  {
   "cell_type": "code",
   "execution_count": 7,
   "metadata": {},
   "outputs": [
    {
     "name": "stderr",
     "output_type": "stream",
     "text": [
      "/Users/tamarahuete/opt/anaconda3/lib/python3.7/site-packages/pandas/core/frame.py:4133: SettingWithCopyWarning: \n",
      "A value is trying to be set on a copy of a slice from a DataFrame\n",
      "\n",
      "See the caveats in the documentation: https://pandas.pydata.org/pandas-docs/stable/user_guide/indexing.html#returning-a-view-versus-a-copy\n",
      "  errors=errors,\n"
     ]
    }
   ],
   "source": [
    "gadm = gadm1[['GID_0','NAME_1','MOL_ID','geometry']]\n",
    "gadm.rename(columns={'MOL_ID':'MOL_IDg'},inplace=True)\n",
    "wd = wdpa[['MOL_ID','ISO3','geometry']]"
   ]
  },
  {
   "cell_type": "code",
   "execution_count": 9,
   "metadata": {},
   "outputs": [],
   "source": [
    "gwd = gpd.sjoin(gadm,wd)"
   ]
  },
  {
   "cell_type": "code",
   "execution_count": 44,
   "metadata": {},
   "outputs": [],
   "source": [
    "gadm1['WDPA_MOL_ID']=gadm1['MOL_ID'].apply(lambda x: gwd[gwd['MOL_IDg']==x].MOL_ID.unique())"
   ]
  },
  {
   "cell_type": "code",
   "execution_count": null,
   "metadata": {},
   "outputs": [],
   "source": [
    "gwd[gwd['MOL_IDg']==1].MOL_ID.unique()"
   ]
  },
  {
   "cell_type": "code",
   "execution_count": 53,
   "metadata": {},
   "outputs": [
    {
     "data": {
      "text/html": [
       "<div>\n",
       "<style scoped>\n",
       "    .dataframe tbody tr th:only-of-type {\n",
       "        vertical-align: middle;\n",
       "    }\n",
       "\n",
       "    .dataframe tbody tr th {\n",
       "        vertical-align: top;\n",
       "    }\n",
       "\n",
       "    .dataframe thead th {\n",
       "        text-align: right;\n",
       "    }\n",
       "</style>\n",
       "<table border=\"1\" class=\"dataframe\">\n",
       "  <thead>\n",
       "    <tr style=\"text-align: right;\">\n",
       "      <th></th>\n",
       "      <th>GID_0</th>\n",
       "      <th>NAME_0</th>\n",
       "      <th>GID_1</th>\n",
       "      <th>NAME_1</th>\n",
       "      <th>VARNAME_1</th>\n",
       "      <th>NL_NAME_1</th>\n",
       "      <th>TYPE_1</th>\n",
       "      <th>ENGTYPE_1</th>\n",
       "      <th>CC_1</th>\n",
       "      <th>HASC_1</th>\n",
       "      <th>AREA_KM2</th>\n",
       "      <th>MOL_ID</th>\n",
       "      <th>geometry</th>\n",
       "      <th>WDPA_MOL_ID</th>\n",
       "    </tr>\n",
       "  </thead>\n",
       "  <tbody>\n",
       "    <tr>\n",
       "      <th>0</th>\n",
       "      <td>AFG</td>\n",
       "      <td>Afghanistan</td>\n",
       "      <td>AFG.1_1</td>\n",
       "      <td>Badakhshan</td>\n",
       "      <td>Badah?an</td>\n",
       "      <td>None</td>\n",
       "      <td>Velayat</td>\n",
       "      <td>Province</td>\n",
       "      <td>None</td>\n",
       "      <td>AF.BD</td>\n",
       "      <td>43692.210235</td>\n",
       "      <td>1</td>\n",
       "      <td>POLYGON ((71.14804 36.00124, 71.14226 35.99334...</td>\n",
       "      <td>[50863, 47366, 62082, 47365, 62076, 206425, 21...</td>\n",
       "    </tr>\n",
       "    <tr>\n",
       "      <th>1</th>\n",
       "      <td>AFG</td>\n",
       "      <td>Afghanistan</td>\n",
       "      <td>AFG.2_1</td>\n",
       "      <td>Badghis</td>\n",
       "      <td>Badghes|Badghisat|Badgis</td>\n",
       "      <td>None</td>\n",
       "      <td>Velayat</td>\n",
       "      <td>Province</td>\n",
       "      <td>None</td>\n",
       "      <td>AF.BG</td>\n",
       "      <td>20589.857163</td>\n",
       "      <td>2</td>\n",
       "      <td>POLYGON ((63.09734 34.64551, 63.08250 34.65775...</td>\n",
       "      <td>[]</td>\n",
       "    </tr>\n",
       "    <tr>\n",
       "      <th>2</th>\n",
       "      <td>AFG</td>\n",
       "      <td>Afghanistan</td>\n",
       "      <td>AFG.3_1</td>\n",
       "      <td>Baghlan</td>\n",
       "      <td>Baglan|Bughlan</td>\n",
       "      <td>None</td>\n",
       "      <td>Velayat</td>\n",
       "      <td>Province</td>\n",
       "      <td>None</td>\n",
       "      <td>AF.BL</td>\n",
       "      <td>21120.261382</td>\n",
       "      <td>3</td>\n",
       "      <td>POLYGON ((67.35538 34.88549, 67.35532 34.88847...</td>\n",
       "      <td>[175193, 216112]</td>\n",
       "    </tr>\n",
       "  </tbody>\n",
       "</table>\n",
       "</div>"
      ],
      "text/plain": [
       "  GID_0       NAME_0    GID_1      NAME_1                 VARNAME_1 NL_NAME_1  \\\n",
       "0   AFG  Afghanistan  AFG.1_1  Badakhshan                  Badah?an      None   \n",
       "1   AFG  Afghanistan  AFG.2_1     Badghis  Badghes|Badghisat|Badgis      None   \n",
       "2   AFG  Afghanistan  AFG.3_1     Baghlan            Baglan|Bughlan      None   \n",
       "\n",
       "    TYPE_1 ENGTYPE_1  CC_1 HASC_1      AREA_KM2  MOL_ID  \\\n",
       "0  Velayat  Province  None  AF.BD  43692.210235       1   \n",
       "1  Velayat  Province  None  AF.BG  20589.857163       2   \n",
       "2  Velayat  Province  None  AF.BL  21120.261382       3   \n",
       "\n",
       "                                            geometry  \\\n",
       "0  POLYGON ((71.14804 36.00124, 71.14226 35.99334...   \n",
       "1  POLYGON ((63.09734 34.64551, 63.08250 34.65775...   \n",
       "2  POLYGON ((67.35538 34.88549, 67.35532 34.88847...   \n",
       "\n",
       "                                         WDPA_MOL_ID  \n",
       "0  [50863, 47366, 62082, 47365, 62076, 206425, 21...  \n",
       "1                                                 []  \n",
       "2                                   [175193, 216112]  "
      ]
     },
     "execution_count": 53,
     "metadata": {},
     "output_type": "execute_result"
    }
   ],
   "source": [
    "gadm1.head(3)"
   ]
  },
  {
   "cell_type": "code",
   "execution_count": 54,
   "metadata": {},
   "outputs": [
    {
     "data": {
      "text/plain": [
       "<matplotlib.axes._subplots.AxesSubplot at 0x7f96921ae990>"
      ]
     },
     "execution_count": 54,
     "metadata": {},
     "output_type": "execute_result"
    },
    {
     "data": {
      "image/png": "[encoded data removed]",
      "text/plain": [
       "<Figure size 360x360 with 1 Axes>"
      ]
     },
     "metadata": {
      "needs_background": "light"
     },
     "output_type": "display_data"
    }
   ],
   "source": [
    "import matplotlib.pyplot as plt\n",
    "### test that the spatial join worked\n",
    "n=5\n",
    "wd_list = list(gwd[gwd['MOL_IDg']==n].MOL_ID.unique())\n",
    "fig, ax = plt.subplots(figsize=(5, 5))\n",
    "wd[wd['MOL_ID'].isin(wd_list)].plot(ax=ax, column='MOL_ID')\n",
    "gwd[gwd['MOL_IDg']==n].plot(ax=ax,alpha=0.1)"
   ]
  },
  {
   "cell_type": "markdown",
   "metadata": {},
   "source": [
    "### Publish GADM Simplified layer as FS using the python API"
   ]
  },
  {
   "cell_type": "code",
   "execution_count": 146,
   "metadata": {},
   "outputs": [],
   "source": [
    "def publishCSVasFS(csv_file,csvName, gis, aol_folder_name, sharing, table): # sharing = 'None', 'groups', 'everyone' # table = yes, no\n",
    "    try:\n",
    "        \n",
    "        if gis.content.is_service_name_available(csvName, \"featureService\"):\n",
    "            print(f\"Service name {csvName} is available\")\n",
    "            #csv_file = f'./{csvName}.csv'\n",
    "            csv_item = gis.content.add({}, csv_file)\n",
    "            #csv_lyr = csv_item.publish(None,  {'CountryCode' : 'countryname'})\n",
    "            if table == 'yes':\n",
    "                csv_lyr = csv_item.publish(publish_parameters={'locationType':'none', 'type':'csv'})\n",
    "            else:\n",
    "                csv_lyr = csv_item.publish()\n",
    "                flayer_collection = FeatureLayerCollection.fromitem(csv_lyr)\n",
    "                searched_flayer = flayer_collection.layers[0] \n",
    "                nber_features = searched_flayer.query(return_count_only=True)\n",
    "                print(f\"The service {csvName} has been published. The service has {nber_features} entries\")\n",
    "            print(f\"Moving service {csvName} to {aol_folder_name} in ArcGIS Online...\")\n",
    "            # move both the csv_item and csv_lyr items into this new folder\n",
    "            csv_item.move(aol_folder_name)\n",
    "            csv_lyr.move(aol_folder_name)\n",
    "            print(f\"Service {csvName} has been moved to {aol_folder_name} in ArcGIS Online\")\n",
    "#             sharing, default is owner\n",
    "#             csv_lyr.shared_with\n",
    "            if sharing == 'None':\n",
    "                csv_lyr.share(everyone=False, org=False, groups=None, allow_members_to_edit=False)\n",
    "            if sharing == 'groups':\n",
    "            # the group id is needed to share with agroup\n",
    "                csv_lyr.share(everyone=False, org=False, groups=[group_id], allow_members_to_edit=False)\n",
    "            if sharing == 'everyone':\n",
    "                csv_lyr.share(everyone=True, org=False, groups=None, allow_members_to_edit=False)\n",
    "            sharing_prop = csv_lyr.shared_with\n",
    "            if sharing_prop['everyone']==True:\n",
    "                print(f\"shared with everyone\")   \n",
    "            else:\n",
    "                print(f\"not a public layer, for this layer to be used it has to be public or the urls have to be whitelisted\")            \n",
    "            #not allowing deleting\n",
    "            csv_lyr.protect()\n",
    "            print(f\"{csvName}'s protection against deletion : {csv_lyr.protected}\") \n",
    "            # it is possible to check the status with csv_item.content_status\n",
    "            return csv_lyr.id\n",
    "        else:\n",
    "            print(\"The service name is not available, try overwritting, appending the data or a different service name\")\n",
    "    except:\n",
    "        print(\"The csv hasn't been published\")"
   ]
  },
  {
   "cell_type": "code",
   "execution_count": 189,
   "metadata": {},
   "outputs": [
    {
     "name": "stdout",
     "output_type": "stream",
     "text": [
      "Service name gadm36_level1_simple_precalc is available\n",
      "The service gadm36_level1_simple_precalc has been published. The service has 3610 entries\n",
      "Moving service gadm36_level1_simple_precalc to #6 precalculated data in ArcGIS Online...\n",
      "Service gadm36_level1_simple_precalc has been moved to #6 precalculated data in ArcGIS Online\n",
      "not a public layer, for this layer to be used it has to be public or the urls have to be whitelisted\n",
      "gadm36_level1_simple_precalc's protection against deletion : True\n"
     ]
    },
    {
     "data": {
      "text/plain": [
       "'b162f17e7b254312bf35e3197c9b1f08'"
      ]
     },
     "execution_count": 189,
     "metadata": {},
     "output_type": "execute_result"
    }
   ],
   "source": [
    "# The file we want to add\n",
    "csv_file = '../../HALF_EARTH/gadm36_level1_simple_precalc.zip'\n",
    "csvName = 'gadm36_level1_simple_precalc'\n",
    "gis = GIS(\"https://eowilson.maps.arcgis.com\", aol_username, aol_password, profile = \"eowilson\")\n",
    "aol_folder_name = '#6 precalculated data'\n",
    "group_id='46783c33c294485abe83f5e899c2f21f'\n",
    "publishCSVasFS(csv_file,csvName,gis,aol_folder_name,sharing='groups')"
   ]
  },
  {
   "cell_type": "markdown",
   "metadata": {},
   "source": [
    "### Update the field wdpa_mol_id field in the existing feature service with python API "
   ]
  },
  {
   "cell_type": "code",
   "execution_count": 92,
   "metadata": {},
   "outputs": [],
   "source": [
    "item = gis.content.get('3f89b653de41428a8166d51f383f0950')\n",
    "flayer = item.layers[0]\n",
    "sdf = pd.DataFrame.spatial.from_layer(flayer)"
   ]
  },
  {
   "cell_type": "markdown",
   "metadata": {},
   "source": [
    "#### Create new fields on FS and update with the values of the new dataframe"
   ]
  },
  {
   "cell_type": "code",
   "execution_count": 38,
   "metadata": {},
   "outputs": [],
   "source": [
    "## Create fields\n",
    "def createFieldsToBeAdded(flayer, csv_table):\n",
    "    flayer_fields = flayer.manager.properties.fields\n",
    "    template_field = dict(deepcopy(flayer_fields[0]))\n",
    "    sdf = getSDFfromFlayer(flayer)\n",
    "    new_field_names = list(csv_table.columns.difference(sdf.columns))\n",
    "    \n",
    "    fields_to_be_added = []\n",
    "    for new_field_name in new_field_names:\n",
    "        current_field = deepcopy(template_field)\n",
    "        dt = csv_table[new_field_name].dtypes\n",
    "        \n",
    "        if dt == 'O':\n",
    "            #put the type to character\n",
    "            current_field['sqlType'] = 'sqlTypeOther'\n",
    "            current_field['type'] = 'esriFieldTypeString'\n",
    "            current_field['length'] = 45000\n",
    "        if dt == 'float64':\n",
    "            #put the type to double\n",
    "            current_field['sqlType'] = 'sqlTypeOther'\n",
    "            current_field['type'] = 'esriFieldTypeDouble'\n",
    "            #current_field['length'] = 8000      \n",
    "\n",
    "        current_field['name'] = new_field_name.lower()\n",
    "        current_field['alias'] = new_field_name\n",
    "        current_field['nullable'] = True\n",
    "        current_field['editable'] = True\n",
    "        fields_to_be_added.append(current_field)\n",
    "    return fields_to_be_added"
   ]
  },
  {
   "cell_type": "code",
   "execution_count": 45,
   "metadata": {},
   "outputs": [],
   "source": [
    "#https://developers.arcgis.com/python/sample-notebooks/updating-features-in-a-feature-layer/\n",
    "def createFeaturesForUpdate(flayer, csv_table, fields_to_be_added, id_field_in_csv, id_field_in_service):\n",
    "    fset2 = flayer.query()\n",
    "    features2 = fset2.features\n",
    "    features_for_update = []\n",
    "    for country_id in csv_table[id_field_in_csv]:\n",
    "        try:\n",
    "            # get the matching row from csv\n",
    "            matching_row = csv_table.where(csv_table[id_field_in_csv] == country_id).dropna()\n",
    "\n",
    "            #print(str(country_id) + \" Adding additional attributes for: \" + matching_row['iso3'].values[0])\n",
    "\n",
    "            # get the feature to be updated\n",
    "            assert  len([f for f in features2 if f.attributes[id_field_in_service] == country_id]),  \"id not matched\"\n",
    "            original_feature = [f for f in features2 if f.attributes[id_field_in_service] == country_id][0]\n",
    "            feature_to_be_updated = deepcopy(original_feature)\n",
    "\n",
    "            # assign the updated values\n",
    "            for field in fields_to_be_added:\n",
    "                #feature_to_be_updated.attributes[field['name']] = matching_row[field['name']].values[0]\n",
    "                ### this line creates a string of the list (important that the type matches the data type created with createFieldsToBeAdded)\n",
    "                feature_to_be_updated.attributes[field['name']] = str(list(matching_row[field['name']].values[0]))\n",
    "                #add this to the list of features to be updated\n",
    "                features_for_update.append(feature_to_be_updated)\n",
    "            #print(str(country_id) + \" Done additional attributes for: \" + matching_row['countryname'].values[0])\n",
    "    \n",
    "        except:\n",
    "            print(f\"{country_id} not available in service\")\n",
    "    return features_for_update"
   ]
  },
  {
   "cell_type": "markdown",
   "metadata": {},
   "source": [
    "#### add only wdpa_mol_id"
   ]
  },
  {
   "cell_type": "code",
   "execution_count": 82,
   "metadata": {},
   "outputs": [],
   "source": [
    "gadm1.rename(columns={'WDPA_MOL_ID':'wdpa_mol_id'},inplace=True)"
   ]
  },
  {
   "cell_type": "code",
   "execution_count": 114,
   "metadata": {},
   "outputs": [],
   "source": [
    "fields_to_be_added = createFieldsToBeAdded(flayer, csv_table= gadm1[['MOL_ID','wdpa_mol_id']])"
   ]
  },
  {
   "cell_type": "code",
   "execution_count": 115,
   "metadata": {},
   "outputs": [
    {
     "data": {
      "text/plain": [
       "[{'name': 'wdpa_mol_id',\n",
       "  'type': 'esriFieldTypeString',\n",
       "  'actualType': 'nvarchar',\n",
       "  'alias': 'wdpa_mol_id',\n",
       "  'sqlType': 'sqlTypeOther',\n",
       "  'length': 45000,\n",
       "  'nullable': True,\n",
       "  'editable': True,\n",
       "  'visible': True,\n",
       "  'domain': None,\n",
       "  'defaultValue': None}]"
      ]
     },
     "execution_count": 115,
     "metadata": {},
     "output_type": "execute_result"
    }
   ],
   "source": [
    "fields_to_be_added"
   ]
  },
  {
   "cell_type": "code",
   "execution_count": 151,
   "metadata": {},
   "outputs": [
    {
     "data": {
      "text/plain": [
       "{'success': True}"
      ]
     },
     "execution_count": 151,
     "metadata": {},
     "output_type": "execute_result"
    }
   ],
   "source": [
    "flayer.manager.add_to_definition({'fields':fields_to_be_added})"
   ]
  },
  {
   "cell_type": "code",
   "execution_count": null,
   "metadata": {},
   "outputs": [],
   "source": [
    "#### Updates must be done in blocks of 100 to avoid broken pipe of ARcGIS API"
   ]
  },
  {
   "cell_type": "code",
   "execution_count": 154,
   "metadata": {},
   "outputs": [
    {
     "data": {
      "text/plain": [
       "array([   0,  100,  200,  300,  400,  500,  600,  700,  800,  900, 1000,\n",
       "       1100, 1200, 1300, 1400, 1500, 1600, 1700, 1800, 1900, 2000, 2100,\n",
       "       2200, 2300, 2400, 2500, 2600, 2700, 2800, 2900, 3000, 3100])"
      ]
     },
     "execution_count": 154,
     "metadata": {},
     "output_type": "execute_result"
    }
   ],
   "source": [
    "start = np.arange(0,3160, step = 100)\n",
    "start"
   ]
  },
  {
   "cell_type": "code",
   "execution_count": 163,
   "metadata": {},
   "outputs": [
    {
     "name": "stdout",
     "output_type": "stream",
     "text": [
      "done 0\n",
      "done 100\n",
      "done 200\n",
      "done 300\n",
      "done 400\n",
      "done 500\n",
      "done 600\n",
      "done 700\n",
      "done 800\n",
      "done 900\n",
      "done 1000\n",
      "done 1100\n",
      "done 1200\n",
      "done 1300\n",
      "done 1400\n",
      "done 1500\n",
      "done 1600\n",
      "done 1700\n",
      "done 1800\n",
      "done 1900\n",
      "done 2000\n",
      "done 2100\n",
      "done 2200\n",
      "done 2300\n",
      "done 2400\n",
      "done 2500\n",
      "done 2600\n",
      "done 2700\n",
      "done 2800\n",
      "done 2900\n",
      "done 3000\n",
      "done 3100\n"
     ]
    }
   ],
   "source": [
    "# Broken Pipe, the connection times out so it has to be broken down to less updates (chunks of 100)\n",
    "for i in start:\n",
    "    features_for_update = createFeaturesForUpdate(flayer,  \n",
    "                                              gadm1[['MOL_ID','wdpa_mol_id']][i:i+100], \n",
    "                                              fields_to_be_added, \n",
    "                                              id_field_in_csv = \"MOL_ID\", \n",
    "                                              id_field_in_service = \"MOL_ID\")\n",
    "    flayer.edit_features(updates= features_for_update)\n",
    "    print(f'done {i}')\n",
    "    "
   ]
  },
  {
   "cell_type": "code",
   "execution_count": null,
   "metadata": {},
   "outputs": [],
   "source": [
    "#https://www.esri.com/arcgis-blog/products/arcgis-desktop/mapping/how-to-extend-attribute-table-field-size-from-255-characters/"
   ]
  },
  {
   "cell_type": "markdown",
   "metadata": {},
   "source": [
    "## GADM level 0 <a class=\"anchor\" id=\"second-bullet\"></a>"
   ]
  },
  {
   "cell_type": "code",
   "execution_count": null,
   "metadata": {},
   "outputs": [],
   "source": [
    "## GADM 0 biodiversity ids on ArcGis Online\n",
    "layer_ids = {'amph':'cd6f092a158b4beb8388207d0aa55e55',\n",
    "             'birds':'d9ed800d4fd94545bb87e716c4027189',\n",
    "             'mamm':'54fd6a5392c3438f96fabfbcd15a39f0',\n",
    "             'rept':'15822b0b6b784d0184d8bddd9c16730f'}"
   ]
  },
  {
   "cell_type": "code",
   "execution_count": 13,
   "metadata": {},
   "outputs": [],
   "source": [
    "### gadm tables\n",
    "## Original scott table\n",
    "scott= gpd.read_file('zip:///Users/tamarahuete/Documents/HALF_EARTH/gadm36_level0.zip')\n",
    "\n",
    "## Simplified scott table\n",
    "### Douglas Pickler 0.005º simplification\n",
    "gadm = gpd.read_file('zip:///Users/tamarahuete/Documents/HALF_EARTH/gadm36_level0_original_simple.zip')"
   ]
  },
  {
   "cell_type": "markdown",
   "metadata": {},
   "source": [
    "#### - (GADM0) Format Biodiversity data"
   ]
  },
  {
   "cell_type": "code",
   "execution_count": 199,
   "metadata": {},
   "outputs": [
    {
     "name": "stderr",
     "output_type": "stream",
     "text": [
      "/Users/tamarahuete/opt/anaconda3/lib/python3.7/site-packages/geopandas/geodataframe.py:853: SettingWithCopyWarning: \n",
      "A value is trying to be set on a copy of a slice from a DataFrame.\n",
      "Try using .loc[row_indexer,col_indexer] = value instead\n",
      "\n",
      "See the caveats in the documentation: https://pandas.pydata.org/pandas-docs/stable/user_guide/indexing.html#returning-a-view-versus-a-copy\n",
      "  super(GeoDataFrame, self).__setitem__(key, value)\n"
     ]
    }
   ],
   "source": [
    "### Use here simple gadm0 \n",
    "dff = gadm[['GID_0','NAME_0','MOL_ID','AREA_KM2','geometry']]\n",
    "dff['reptiles']=np.nan\n",
    "dff['amphibians']=np.nan\n",
    "dff['mammals']=np.nan\n",
    "dff['birds']=np.nan\n",
    "\n",
    "paths = {'amphibians':'../../HALF_EARTH/gadm0_amphibians_final_2021.zip',\n",
    "         'birds':'../../HALF_EARTH/gadm0_birds_sample_20211003_.zip',\n",
    "         'mammals':'../../HALF_EARTH/gadm0_mammals_final_2021100.zip',\n",
    "         'reptiles':'../../HALF_EARTH/gadm0_reptiles_final_202110.zip'}\n",
    "\n",
    "### Ids of lookup tables for each taxa in ArcGIS online\n",
    "lookups = {'amphibians':'a641a4cd269345dea93b8bcb1cb66676',\n",
    "         'birds':'4d8698734b654bb9bb7a61d9af314c76',\n",
    "         'mammals':'84d3c71caf97479d85f620a4ee217d68',\n",
    "         'reptiles':'b720e84869624e5482b25338b27a54f2'}"
   ]
  },
  {
   "cell_type": "code",
   "execution_count": 207,
   "metadata": {},
   "outputs": [
    {
     "name": "stdout",
     "output_type": "stream",
     "text": [
      "amphibians\n",
      "finished MOL_ID =255\n",
      "birds\n",
      "finished MOL_ID =255\n",
      "mammals\n",
      "finished MOL_ID =255\n",
      "reptiles\n",
      "finished MOL_ID =255\n",
      "CPU times: user 5min 31s, sys: 3.82 s, total: 5min 35s\n",
      "Wall time: 6min 6s\n"
     ]
    }
   ],
   "source": [
    "%%time\n",
    "### Loop over each set of data and add all results to one dictionary that will be a text field in the Feature Service\n",
    "for taxa in paths.keys():\n",
    "    print(taxa) \n",
    "    df = pd.read_csv(paths[taxa])\n",
    "    col_name = [col for col in df.columns if 'SUM' in col]\n",
    "    df.rename(columns={'SliceNumbe':'SliceNumber',col_name[0]:'SUM'}, inplace=True)\n",
    "    \n",
    "    ### Get species area against global species range:\n",
    "    lookup = getHTfromId(lookups[taxa])\n",
    "    df = df.merge(lookup[['SliceNumber','range_area_km2']], how='left',on = 'SliceNumber')\n",
    "    df['per_global'] = round(df['SUM']/df['range_area_km2']*100,2)\n",
    "    \n",
    "    ### Get species area against aoi area:\n",
    "    df = df.merge(gadm[['MOL_ID','AREA_KM2']])\n",
    "    df['per_aoi'] = round(df['SUM']/df['AREA_KM2']*100,2)\n",
    "    \n",
    "    ### Format as array of dicts:\n",
    "    for i in dff.MOL_ID:\n",
    "        species = []\n",
    "        for j in df[(df.MOL_ID== i)].SliceNumber.unique():\n",
    "            sp_dict = {'SliceNumber':int(df[(df.MOL_ID== i) & (df.SliceNumber==j)].SliceNumber.values[0]),\n",
    "                       'per_global':df[(df.MOL_ID== i) & (df.SliceNumber==j)].per_global.values[0],\n",
    "                       'per_aoi':df[(df.MOL_ID== i) & (df.SliceNumber==j)].per_aoi.values[0]\n",
    "                      }\n",
    "            species.append(sp_dict)\n",
    "        dff.loc[dff['MOL_ID']==i,taxa] =json.dumps(species)\n",
    "    print(f'finished MOL_ID ={i}')\n",
    "pd.set_option('display.max_colwidth',None)\n",
    "test= pd.DataFrame(dff[dff.columns[~dff.columns.isin(['geometry'])]])\n",
    "test.to_csv(\"../../HALF_EARTH/gadm0_precalc_biodiv_range_area.csv\",index=False)\n",
    "pd.reset_option('display.max_colwidth')\n",
    "\n",
    "#### Don't export as shapefile because it truncates the string length"
   ]
  },
  {
   "cell_type": "code",
   "execution_count": 10,
   "metadata": {},
   "outputs": [],
   "source": [
    "dff = pd.read_csv(\"../../HALF_EARTH/gadm0_precalc_biodiv_range_area.csv\")"
   ]
  },
  {
   "cell_type": "code",
   "execution_count": 11,
   "metadata": {},
   "outputs": [
    {
     "data": {
      "text/plain": [
       "'[{\"SliceNumber\": 353, \"per_global\": 0.01, \"per_aoi\": 90.14}, {\"SliceNumber\": 826, \"per_global\": 34.44, \"per_aoi\": 68.15}, {\"SliceNumber\": 1521, \"per_global\": 0.01, \"per_aoi\": 67.61}, {\"SliceNumber\": 2135, \"per_global\": 0.0, \"per_aoi\": 54.41}, {\"SliceNumber\": 2147, \"per_global\": 0.0, \"per_aoi\": 54.41}, {\"SliceNumber\": 2222, \"per_global\": 0.0, \"per_aoi\": 26.38}, {\"SliceNumber\": 2344, \"per_global\": 91.95, \"per_aoi\": 87.94}, {\"SliceNumber\": 2349, \"per_global\": 0.0, \"per_aoi\": 64.31}, {\"SliceNumber\": 2352, \"per_global\": 12.0, \"per_aoi\": 8.24}, {\"SliceNumber\": 2400, \"per_global\": 0.0, \"per_aoi\": 67.61}, {\"SliceNumber\": 2475, \"per_global\": 0.0, \"per_aoi\": 2.75}, {\"SliceNumber\": 2516, \"per_global\": 0.01, \"per_aoi\": 23.63}, {\"SliceNumber\": 3428, \"per_global\": 0.0, \"per_aoi\": 35.18}, {\"SliceNumber\": 4187, \"per_global\": 0.03, \"per_aoi\": 30.23}, {\"SliceNumber\": 4695, \"per_global\": 0.0, \"per_aoi\": 30.78}, {\"SliceNumber\": 4697, \"per_global\": 0.0, \"per_aoi\": 35.18}, {\"SliceNumber\": 5073, \"per_global\": 0.0, \"per_aoi\": 26.38}, {\"SliceNumber\": 5074, \"per_global\": 94.2, \"per_aoi\": 71.45}, {\"SliceNumber\": 5084, \"per_global\": 0.0, \"per_aoi\": 26.38}, {\"SliceNumber\": 6604, \"per_global\": 0.0, \"per_aoi\": 70.9}, {\"SliceNumber\": 6606, \"per_global\": 0.0, \"per_aoi\": 13.74}, {\"SliceNumber\": 6620, \"per_global\": 0.0, \"per_aoi\": 35.18}, {\"SliceNumber\": 7014, \"per_global\": 0.0, \"per_aoi\": 35.18}, {\"SliceNumber\": 7058, \"per_global\": 100.0, \"per_aoi\": 8.24}, {\"SliceNumber\": 7072, \"per_global\": 16.75, \"per_aoi\": 96.74}, {\"SliceNumber\": 8161, \"per_global\": 0.0, \"per_aoi\": 26.38}, {\"SliceNumber\": 8676, \"per_global\": 0.0, \"per_aoi\": 35.18}, {\"SliceNumber\": 8848, \"per_global\": 0.0, \"per_aoi\": 56.61}, {\"SliceNumber\": 9011, \"per_global\": 0.06, \"per_aoi\": 63.76}, {\"SliceNumber\": 9612, \"per_global\": 0.0, \"per_aoi\": 26.38}]'"
      ]
     },
     "execution_count": 11,
     "metadata": {},
     "output_type": "execute_result"
    }
   ],
   "source": [
    "dff.loc[dff['MOL_ID']==1,'reptiles'].values[0]"
   ]
  },
  {
   "cell_type": "code",
   "execution_count": 12,
   "metadata": {},
   "outputs": [
    {
     "data": {
      "text/plain": [
       "255"
      ]
     },
     "execution_count": 12,
     "metadata": {},
     "output_type": "execute_result"
    }
   ],
   "source": [
    "len(dff)"
   ]
  },
  {
   "cell_type": "markdown",
   "metadata": {},
   "source": [
    "### Combine 3 layers \n",
    "* GEOMETRY: GADM Base layer with simplified geometries and MOL ID ([CSV](https://eowilson.maps.arcgis.com/home/item.html?id=81de5933b1894ac082f50536cf98bf46))\n",
    "* CONTEXTUAL DATA: Precalculated contextual data ([FS](https://eowilson.maps.arcgis.com/home/item.html?id=8b830df4fbca4a8388a120dfa13d887b) and [CSV](https://eowilson.maps.arcgis.com/home/item.html?id=b733d87f2117412d8ee8c3b684218ce4)) (Also has GADM level 0 and 1, with more countries than the ones provided by MOL)\n",
    "* BIODIVERSITY DATA: Precalculated biodiversity data (dff)"
   ]
  },
  {
   "cell_type": "code",
   "execution_count": 14,
   "metadata": {},
   "outputs": [],
   "source": [
    "### Contextual data\n",
    "precalc = pd.read_csv('../../HALF_EARTH/gadm_level0_and_1_Merge.zip')"
   ]
  },
  {
   "cell_type": "code",
   "execution_count": 15,
   "metadata": {},
   "outputs": [
    {
     "data": {
      "text/plain": [
       "Index(['OBJECTID', 'GID_0', 'NAME_0', 'GID_1', 'NAME_1', 'VARNAME_1',\n",
       "       'NL_NAME_1', 'TYPE_1', 'ENGTYPE_1', 'CC_1', 'HASC_1', 'geom_Length',\n",
       "       'geom_Area', 'country_size', 'country_zoom', 'GID_0_1',\n",
       "       'percentage_protected', 'percent_irrigated', 'percent_rainfed',\n",
       "       'percent_rangeland', 'percent_urban', 'population_sum',\n",
       "       'majority land cover climate regime', 'land_cover_majority',\n",
       "       'climate_regime_majority', 'Shape__Area', 'Shape__Length'],\n",
       "      dtype='object')"
      ]
     },
     "execution_count": 15,
     "metadata": {},
     "output_type": "execute_result"
    }
   ],
   "source": [
    "precalc.columns"
   ]
  },
  {
   "cell_type": "code",
   "execution_count": 16,
   "metadata": {},
   "outputs": [
    {
     "data": {
      "text/plain": [
       "1"
      ]
     },
     "execution_count": 16,
     "metadata": {},
     "output_type": "execute_result"
    }
   ],
   "source": [
    "### Countries in first list that are not in the second list\n",
    "len(list(set(precalc.GID_0) ^ set(dff.GID_0)))\n",
    "### There is 1 counties missing from the simplified gadm dataset"
   ]
  },
  {
   "cell_type": "code",
   "execution_count": null,
   "metadata": {},
   "outputs": [],
   "source": [
    "### Check Scott's original data before simplification\n",
    "list(set(scott.GID_0) ^ set(dff.GID_0)) ### All countries in both tables"
   ]
  },
  {
   "cell_type": "code",
   "execution_count": 12,
   "metadata": {},
   "outputs": [
    {
     "data": {
      "text/plain": [
       "Index(['GID_0', 'NAME_0', 'MOL_ID', 'AREA_KM2', 'reptiles', 'amphibians',\n",
       "       'mammals', 'birds'],\n",
       "      dtype='object')"
      ]
     },
     "execution_count": 12,
     "metadata": {},
     "output_type": "execute_result"
    }
   ],
   "source": [
    "### Join contextual data and precalculated data\n",
    "dff.columns"
   ]
  },
  {
   "cell_type": "code",
   "execution_count": 17,
   "metadata": {},
   "outputs": [],
   "source": [
    "if 'Unnamed: 0' in dff.columns:\n",
    "    dff.drop(columns='Unnamed: 0',inplace = True)\n",
    "if 'Unnamed: 0.1' in dff.columns:\n",
    "    dff.drop(columns='Unnamed: 0.1',inplace = True)"
   ]
  },
  {
   "cell_type": "code",
   "execution_count": 18,
   "metadata": {},
   "outputs": [],
   "source": [
    "gid0 = precalc.loc[pd.isna(precalc[\"GID_1\"]), :]"
   ]
  },
  {
   "cell_type": "code",
   "execution_count": 19,
   "metadata": {},
   "outputs": [],
   "source": [
    "dff_merge = dff.merge(gid0[['percentage_protected', 'percent_irrigated', 'percent_rainfed',\n",
    "       'percent_rangeland', 'percent_urban', 'population_sum',\n",
    "       'majority land cover climate regime', 'land_cover_majority',\n",
    "       'climate_regime_majority','GID_0','country_size']], on ='GID_0',how='left')"
   ]
  },
  {
   "cell_type": "code",
   "execution_count": 20,
   "metadata": {},
   "outputs": [],
   "source": [
    "dff_merge.rename(columns={'majority land cover climate regime':'majority_land_cover_climate_regime'},inplace=True)"
   ]
  },
  {
   "cell_type": "code",
   "execution_count": 21,
   "metadata": {},
   "outputs": [
    {
     "data": {
      "text/plain": [
       "255"
      ]
     },
     "execution_count": 21,
     "metadata": {},
     "output_type": "execute_result"
    }
   ],
   "source": [
    "len(dff_merge)"
   ]
  },
  {
   "cell_type": "code",
   "execution_count": 22,
   "metadata": {},
   "outputs": [
    {
     "data": {
      "text/plain": [
       "'[{\"SliceNumber\": 353, \"per_global\": 0.01, \"per_aoi\": 90.14}, {\"SliceNumber\": 826, \"per_global\": 34.44, \"per_aoi\": 68.15}, {\"SliceNumber\": 1521, \"per_global\": 0.01, \"per_aoi\": 67.61}, {\"SliceNumber\": 2135, \"per_global\": 0.0, \"per_aoi\": 54.41}, {\"SliceNumber\": 2147, \"per_global\": 0.0, \"per_aoi\": 54.41}, {\"SliceNumber\": 2222, \"per_global\": 0.0, \"per_aoi\": 26.38}, {\"SliceNumber\": 2344, \"per_global\": 91.95, \"per_aoi\": 87.94}, {\"SliceNumber\": 2349, \"per_global\": 0.0, \"per_aoi\": 64.31}, {\"SliceNumber\": 2352, \"per_global\": 12.0, \"per_aoi\": 8.24}, {\"SliceNumber\": 2400, \"per_global\": 0.0, \"per_aoi\": 67.61}, {\"SliceNumber\": 2475, \"per_global\": 0.0, \"per_aoi\": 2.75}, {\"SliceNumber\": 2516, \"per_global\": 0.01, \"per_aoi\": 23.63}, {\"SliceNumber\": 3428, \"per_global\": 0.0, \"per_aoi\": 35.18}, {\"SliceNumber\": 4187, \"per_global\": 0.03, \"per_aoi\": 30.23}, {\"SliceNumber\": 4695, \"per_global\": 0.0, \"per_aoi\": 30.78}, {\"SliceNumber\": 4697, \"per_global\": 0.0, \"per_aoi\": 35.18}, {\"SliceNumber\": 5073, \"per_global\": 0.0, \"per_aoi\": 26.38}, {\"SliceNumber\": 5074, \"per_global\": 94.2, \"per_aoi\": 71.45}, {\"SliceNumber\": 5084, \"per_global\": 0.0, \"per_aoi\": 26.38}, {\"SliceNumber\": 6604, \"per_global\": 0.0, \"per_aoi\": 70.9}, {\"SliceNumber\": 6606, \"per_global\": 0.0, \"per_aoi\": 13.74}, {\"SliceNumber\": 6620, \"per_global\": 0.0, \"per_aoi\": 35.18}, {\"SliceNumber\": 7014, \"per_global\": 0.0, \"per_aoi\": 35.18}, {\"SliceNumber\": 7058, \"per_global\": 100.0, \"per_aoi\": 8.24}, {\"SliceNumber\": 7072, \"per_global\": 16.75, \"per_aoi\": 96.74}, {\"SliceNumber\": 8161, \"per_global\": 0.0, \"per_aoi\": 26.38}, {\"SliceNumber\": 8676, \"per_global\": 0.0, \"per_aoi\": 35.18}, {\"SliceNumber\": 8848, \"per_global\": 0.0, \"per_aoi\": 56.61}, {\"SliceNumber\": 9011, \"per_global\": 0.06, \"per_aoi\": 63.76}, {\"SliceNumber\": 9612, \"per_global\": 0.0, \"per_aoi\": 26.38}]'"
      ]
     },
     "execution_count": 22,
     "metadata": {},
     "output_type": "execute_result"
    }
   ],
   "source": [
    "dff_merge.loc[dff_merge['MOL_ID']==1,'reptiles'].values[0]"
   ]
  },
  {
   "cell_type": "code",
   "execution_count": 23,
   "metadata": {},
   "outputs": [],
   "source": [
    "#gadm0 encorachment looks bad. I rerun the calculations in ArcGIS Pro in this file\n",
    "hm = pd.read_csv('../../HALF_EARTH/gadm0_encroachment.csv')"
   ]
  },
  {
   "cell_type": "code",
   "execution_count": 24,
   "metadata": {},
   "outputs": [
    {
     "data": {
      "text/html": [
       "<div>\n",
       "<style scoped>\n",
       "    .dataframe tbody tr th:only-of-type {\n",
       "        vertical-align: middle;\n",
       "    }\n",
       "\n",
       "    .dataframe tbody tr th {\n",
       "        vertical-align: top;\n",
       "    }\n",
       "\n",
       "    .dataframe thead th {\n",
       "        text-align: right;\n",
       "    }\n",
       "</style>\n",
       "<table border=\"1\" class=\"dataframe\">\n",
       "  <thead>\n",
       "    <tr style=\"text-align: right;\">\n",
       "      <th></th>\n",
       "      <th>OID_</th>\n",
       "      <th>GID_0</th>\n",
       "      <th>COUNT</th>\n",
       "      <th>SliceNumber</th>\n",
       "      <th>Count_1</th>\n",
       "      <th>percenatge</th>\n",
       "    </tr>\n",
       "  </thead>\n",
       "  <tbody>\n",
       "    <tr>\n",
       "      <th>0</th>\n",
       "      <td>1</td>\n",
       "      <td>AFG</td>\n",
       "      <td>58543.0</td>\n",
       "      <td>1.0</td>\n",
       "      <td>903627.0</td>\n",
       "      <td>6.48</td>\n",
       "    </tr>\n",
       "    <tr>\n",
       "      <th>1</th>\n",
       "      <td>2</td>\n",
       "      <td>AGO</td>\n",
       "      <td>976.0</td>\n",
       "      <td>1.0</td>\n",
       "      <td>1494905.0</td>\n",
       "      <td>0.07</td>\n",
       "    </tr>\n",
       "    <tr>\n",
       "      <th>2</th>\n",
       "      <td>3</td>\n",
       "      <td>ALB</td>\n",
       "      <td>9493.0</td>\n",
       "      <td>1.0</td>\n",
       "      <td>44392.0</td>\n",
       "      <td>21.38</td>\n",
       "    </tr>\n",
       "    <tr>\n",
       "      <th>3</th>\n",
       "      <td>4</td>\n",
       "      <td>ARE</td>\n",
       "      <td>1240.0</td>\n",
       "      <td>1.0</td>\n",
       "      <td>90951.0</td>\n",
       "      <td>1.36</td>\n",
       "    </tr>\n",
       "    <tr>\n",
       "      <th>4</th>\n",
       "      <td>5</td>\n",
       "      <td>ARG</td>\n",
       "      <td>19464.0</td>\n",
       "      <td>1.0</td>\n",
       "      <td>4007226.0</td>\n",
       "      <td>0.49</td>\n",
       "    </tr>\n",
       "  </tbody>\n",
       "</table>\n",
       "</div>"
      ],
      "text/plain": [
       "   OID_ GID_0    COUNT  SliceNumber    Count_1  percenatge\n",
       "0     1   AFG  58543.0          1.0   903627.0        6.48\n",
       "1     2   AGO    976.0          1.0  1494905.0        0.07\n",
       "2     3   ALB   9493.0          1.0    44392.0       21.38\n",
       "3     4   ARE   1240.0          1.0    90951.0        1.36\n",
       "4     5   ARG  19464.0          1.0  4007226.0        0.49"
      ]
     },
     "execution_count": 24,
     "metadata": {},
     "output_type": "execute_result"
    }
   ],
   "source": [
    "hm.head()"
   ]
  },
  {
   "cell_type": "code",
   "execution_count": 25,
   "metadata": {},
   "outputs": [],
   "source": [
    "long =hm[['GID_0','SliceNumber','percenatge']].pivot(index='GID_0', columns='SliceNumber', values='percenatge').reset_index().rename(columns=\n",
    "                                                                                                                              {1.0:'percent_irrigated',\n",
    "                                                                                                                              2.0:'percent_rainfed',\n",
    "                                                                                                                              3.0:'percent_rangeland',\n",
    "                                                                                                                              4.0:'percent_urban'})"
   ]
  },
  {
   "cell_type": "code",
   "execution_count": 26,
   "metadata": {},
   "outputs": [
    {
     "data": {
      "text/html": [
       "<div>\n",
       "<style scoped>\n",
       "    .dataframe tbody tr th:only-of-type {\n",
       "        vertical-align: middle;\n",
       "    }\n",
       "\n",
       "    .dataframe tbody tr th {\n",
       "        vertical-align: top;\n",
       "    }\n",
       "\n",
       "    .dataframe thead th {\n",
       "        text-align: right;\n",
       "    }\n",
       "</style>\n",
       "<table border=\"1\" class=\"dataframe\">\n",
       "  <thead>\n",
       "    <tr style=\"text-align: right;\">\n",
       "      <th>SliceNumber</th>\n",
       "      <th>GID_0</th>\n",
       "      <th>percent_irrigated</th>\n",
       "      <th>percent_rainfed</th>\n",
       "      <th>percent_rangeland</th>\n",
       "      <th>percent_urban</th>\n",
       "    </tr>\n",
       "  </thead>\n",
       "  <tbody>\n",
       "    <tr>\n",
       "      <th>0</th>\n",
       "      <td>ABW</td>\n",
       "      <td>NaN</td>\n",
       "      <td>24.66</td>\n",
       "      <td>NaN</td>\n",
       "      <td>6.39</td>\n",
       "    </tr>\n",
       "    <tr>\n",
       "      <th>1</th>\n",
       "      <td>AFG</td>\n",
       "      <td>6.48</td>\n",
       "      <td>18.49</td>\n",
       "      <td>62.15</td>\n",
       "      <td>0.07</td>\n",
       "    </tr>\n",
       "    <tr>\n",
       "      <th>2</th>\n",
       "      <td>AGO</td>\n",
       "      <td>0.07</td>\n",
       "      <td>4.19</td>\n",
       "      <td>67.89</td>\n",
       "      <td>0.08</td>\n",
       "    </tr>\n",
       "    <tr>\n",
       "      <th>3</th>\n",
       "      <td>ALA</td>\n",
       "      <td>NaN</td>\n",
       "      <td>50.27</td>\n",
       "      <td>NaN</td>\n",
       "      <td>NaN</td>\n",
       "    </tr>\n",
       "    <tr>\n",
       "      <th>4</th>\n",
       "      <td>ALB</td>\n",
       "      <td>21.38</td>\n",
       "      <td>48.75</td>\n",
       "      <td>7.21</td>\n",
       "      <td>1.92</td>\n",
       "    </tr>\n",
       "  </tbody>\n",
       "</table>\n",
       "</div>"
      ],
      "text/plain": [
       "SliceNumber GID_0  percent_irrigated  percent_rainfed  percent_rangeland  \\\n",
       "0             ABW                NaN            24.66                NaN   \n",
       "1             AFG               6.48            18.49              62.15   \n",
       "2             AGO               0.07             4.19              67.89   \n",
       "3             ALA                NaN            50.27                NaN   \n",
       "4             ALB              21.38            48.75               7.21   \n",
       "\n",
       "SliceNumber  percent_urban  \n",
       "0                     6.39  \n",
       "1                     0.07  \n",
       "2                     0.08  \n",
       "3                      NaN  \n",
       "4                     1.92  "
      ]
     },
     "execution_count": 26,
     "metadata": {},
     "output_type": "execute_result"
    }
   ],
   "source": [
    "long.head()"
   ]
  },
  {
   "cell_type": "code",
   "execution_count": 27,
   "metadata": {},
   "outputs": [],
   "source": [
    "long['sum']=long.iloc[:, 1:5].sum(axis=1)"
   ]
  },
  {
   "cell_type": "code",
   "execution_count": 28,
   "metadata": {},
   "outputs": [
    {
     "data": {
      "text/html": [
       "<div>\n",
       "<style scoped>\n",
       "    .dataframe tbody tr th:only-of-type {\n",
       "        vertical-align: middle;\n",
       "    }\n",
       "\n",
       "    .dataframe tbody tr th {\n",
       "        vertical-align: top;\n",
       "    }\n",
       "\n",
       "    .dataframe thead th {\n",
       "        text-align: right;\n",
       "    }\n",
       "</style>\n",
       "<table border=\"1\" class=\"dataframe\">\n",
       "  <thead>\n",
       "    <tr style=\"text-align: right;\">\n",
       "      <th>SliceNumber</th>\n",
       "      <th>GID_0</th>\n",
       "      <th>percent_irrigated</th>\n",
       "      <th>percent_rainfed</th>\n",
       "      <th>percent_rangeland</th>\n",
       "      <th>percent_urban</th>\n",
       "      <th>sum</th>\n",
       "    </tr>\n",
       "  </thead>\n",
       "  <tbody>\n",
       "  </tbody>\n",
       "</table>\n",
       "</div>"
      ],
      "text/plain": [
       "Empty DataFrame\n",
       "Columns: [GID_0, percent_irrigated, percent_rainfed, percent_rangeland, percent_urban, sum]\n",
       "Index: []"
      ]
     },
     "execution_count": 28,
     "metadata": {},
     "output_type": "execute_result"
    }
   ],
   "source": [
    "long[long['sum']>100] ## no cases above 100%"
   ]
  },
  {
   "cell_type": "code",
   "execution_count": 29,
   "metadata": {},
   "outputs": [],
   "source": [
    "### delete columns from dff_merge\n",
    "dff_merge.drop(columns=['percent_irrigated', 'percent_rainfed', 'percent_rangeland',\n",
    "       'percent_urban'],inplace=True)"
   ]
  },
  {
   "cell_type": "code",
   "execution_count": 30,
   "metadata": {},
   "outputs": [],
   "source": [
    "### Join dff_merge with new human encroachment data\n",
    "all_data =dff_merge.merge(long[['GID_0','percent_irrigated', 'percent_rainfed', 'percent_rangeland',\n",
    "       'percent_urban']],on ='GID_0',how='left')"
   ]
  },
  {
   "cell_type": "code",
   "execution_count": 31,
   "metadata": {},
   "outputs": [
    {
     "data": {
      "text/plain": [
       "255"
      ]
     },
     "execution_count": 31,
     "metadata": {},
     "output_type": "execute_result"
    }
   ],
   "source": [
    "len(all_data)"
   ]
  },
  {
   "cell_type": "code",
   "execution_count": 32,
   "metadata": {},
   "outputs": [
    {
     "data": {
      "text/plain": [
       "40"
      ]
     },
     "execution_count": 32,
     "metadata": {},
     "output_type": "execute_result"
    }
   ],
   "source": [
    "len(list(set(all_data.GID_0) ^ set(long.GID_0))) ### countries with no human encroachment?? Christmas island, Marshall islands,Tuvalu,Buvet island..."
   ]
  },
  {
   "cell_type": "code",
   "execution_count": 33,
   "metadata": {},
   "outputs": [
    {
     "data": {
      "text/plain": [
       "Index(['GID_0', 'NAME_0', 'MOL_ID', 'AREA_KM2', 'reptiles', 'amphibians',\n",
       "       'mammals', 'birds', 'percentage_protected', 'population_sum',\n",
       "       'majority_land_cover_climate_regime', 'land_cover_majority',\n",
       "       'climate_regime_majority', 'country_size', 'percent_irrigated',\n",
       "       'percent_rainfed', 'percent_rangeland', 'percent_urban'],\n",
       "      dtype='object')"
      ]
     },
     "execution_count": 33,
     "metadata": {},
     "output_type": "execute_result"
    }
   ],
   "source": [
    "all_data.columns"
   ]
  },
  {
   "cell_type": "code",
   "execution_count": 34,
   "metadata": {},
   "outputs": [],
   "source": [
    "### Join with gadm (simplified) geometry\n",
    "all_data =all_data.merge(gadm[['geometry','MOL_ID']],on ='MOL_ID',how='inner')"
   ]
  },
  {
   "cell_type": "code",
   "execution_count": 35,
   "metadata": {},
   "outputs": [],
   "source": [
    "#all_data.drop(columns=['geometry_x','geometry_y'],inplace=True)"
   ]
  },
  {
   "cell_type": "code",
   "execution_count": 36,
   "metadata": {},
   "outputs": [
    {
     "data": {
      "text/html": [
       "<div>\n",
       "<style scoped>\n",
       "    .dataframe tbody tr th:only-of-type {\n",
       "        vertical-align: middle;\n",
       "    }\n",
       "\n",
       "    .dataframe tbody tr th {\n",
       "        vertical-align: top;\n",
       "    }\n",
       "\n",
       "    .dataframe thead th {\n",
       "        text-align: right;\n",
       "    }\n",
       "</style>\n",
       "<table border=\"1\" class=\"dataframe\">\n",
       "  <thead>\n",
       "    <tr style=\"text-align: right;\">\n",
       "      <th></th>\n",
       "      <th>GID_0</th>\n",
       "      <th>NAME_0</th>\n",
       "      <th>MOL_ID</th>\n",
       "      <th>AREA_KM2</th>\n",
       "      <th>reptiles</th>\n",
       "      <th>amphibians</th>\n",
       "      <th>mammals</th>\n",
       "      <th>birds</th>\n",
       "      <th>percentage_protected</th>\n",
       "      <th>population_sum</th>\n",
       "      <th>majority_land_cover_climate_regime</th>\n",
       "      <th>land_cover_majority</th>\n",
       "      <th>climate_regime_majority</th>\n",
       "      <th>country_size</th>\n",
       "      <th>percent_irrigated</th>\n",
       "      <th>percent_rainfed</th>\n",
       "      <th>percent_rangeland</th>\n",
       "      <th>percent_urban</th>\n",
       "      <th>geometry</th>\n",
       "    </tr>\n",
       "  </thead>\n",
       "  <tbody>\n",
       "    <tr>\n",
       "      <th>0</th>\n",
       "      <td>ABW</td>\n",
       "      <td>Aruba</td>\n",
       "      <td>1</td>\n",
       "      <td>1.819384e+02</td>\n",
       "      <td>[{\"SliceNumber\": 353, \"per_global\": 0.01, \"per...</td>\n",
       "      <td>[{\"SliceNumber\": 1819, \"per_global\": 0.6, \"per...</td>\n",
       "      <td>[{\"SliceNumber\": 329, \"per_global\": 0.0, \"per_...</td>\n",
       "      <td>[{\"SliceNumber\": 142, \"per_global\": 0.0, \"per_...</td>\n",
       "      <td>20.609302</td>\n",
       "      <td>1.156561e+05</td>\n",
       "      <td>335.0</td>\n",
       "      <td>Shrubland</td>\n",
       "      <td>Tropical Dry</td>\n",
       "      <td>5</td>\n",
       "      <td>NaN</td>\n",
       "      <td>24.66</td>\n",
       "      <td>NaN</td>\n",
       "      <td>6.39</td>\n",
       "      <td>POLYGON ((-69.97820 12.46986, -70.02847 12.503...</td>\n",
       "    </tr>\n",
       "    <tr>\n",
       "      <th>1</th>\n",
       "      <td>AFG</td>\n",
       "      <td>Afghanistan</td>\n",
       "      <td>2</td>\n",
       "      <td>6.438575e+05</td>\n",
       "      <td>[{\"SliceNumber\": 1, \"per_global\": 28.71, \"per_...</td>\n",
       "      <td>[{\"SliceNumber\": 32, \"per_global\": 100.0, \"per...</td>\n",
       "      <td>[{\"SliceNumber\": 167, \"per_global\": 11.15, \"pe...</td>\n",
       "      <td>[{\"SliceNumber\": 26, \"per_global\": 1.44, \"per_...</td>\n",
       "      <td>3.785337</td>\n",
       "      <td>3.038970e+07</td>\n",
       "      <td>142.0</td>\n",
       "      <td>Grassland</td>\n",
       "      <td>Cool Temperate Dry</td>\n",
       "      <td>3</td>\n",
       "      <td>6.48</td>\n",
       "      <td>18.49</td>\n",
       "      <td>62.15</td>\n",
       "      <td>0.07</td>\n",
       "      <td>POLYGON ((68.52644 31.75435, 68.53852 31.75457...</td>\n",
       "    </tr>\n",
       "    <tr>\n",
       "      <th>2</th>\n",
       "      <td>AGO</td>\n",
       "      <td>Angola</td>\n",
       "      <td>3</td>\n",
       "      <td>1.247422e+06</td>\n",
       "      <td>[{\"SliceNumber\": 40, \"per_global\": 26.68, \"per...</td>\n",
       "      <td>[{\"SliceNumber\": 2, \"per_global\": 0.59, \"per_a...</td>\n",
       "      <td>[{\"SliceNumber\": 28, \"per_global\": 2.22, \"per_...</td>\n",
       "      <td>[{\"SliceNumber\": 26, \"per_global\": 4.67, \"per_...</td>\n",
       "      <td>6.679349</td>\n",
       "      <td>3.607495e+07</td>\n",
       "      <td>268.0</td>\n",
       "      <td>Forest</td>\n",
       "      <td>Sub Tropical Moist</td>\n",
       "      <td>2</td>\n",
       "      <td>0.07</td>\n",
       "      <td>4.19</td>\n",
       "      <td>67.89</td>\n",
       "      <td>0.08</td>\n",
       "      <td>MULTIPOLYGON (((11.73347 -16.67255, 11.74014 -...</td>\n",
       "    </tr>\n",
       "    <tr>\n",
       "      <th>3</th>\n",
       "      <td>AIA</td>\n",
       "      <td>Anguilla</td>\n",
       "      <td>4</td>\n",
       "      <td>8.330331e+01</td>\n",
       "      <td>[{\"SliceNumber\": 316, \"per_global\": 25.32, \"pe...</td>\n",
       "      <td>[{\"SliceNumber\": 1819, \"per_global\": 0.23, \"pe...</td>\n",
       "      <td>[{\"SliceNumber\": 329, \"per_global\": 0.0, \"per_...</td>\n",
       "      <td>[{\"SliceNumber\": 142, \"per_global\": 0.0, \"per_...</td>\n",
       "      <td>2.880000</td>\n",
       "      <td>1.360196e+04</td>\n",
       "      <td>393.0</td>\n",
       "      <td>Grassland</td>\n",
       "      <td>Tropical Moist</td>\n",
       "      <td>5</td>\n",
       "      <td>NaN</td>\n",
       "      <td>NaN</td>\n",
       "      <td>NaN</td>\n",
       "      <td>NaN</td>\n",
       "      <td>MULTIPOLYGON (((-63.42375 18.58903, -63.42847 ...</td>\n",
       "    </tr>\n",
       "    <tr>\n",
       "      <th>4</th>\n",
       "      <td>ALA</td>\n",
       "      <td>Åland</td>\n",
       "      <td>5</td>\n",
       "      <td>1.506261e+03</td>\n",
       "      <td>[{\"SliceNumber\": 2500, \"per_global\": 0.01, \"pe...</td>\n",
       "      <td>[{\"SliceNumber\": 963, \"per_global\": 0.01, \"per...</td>\n",
       "      <td>[{\"SliceNumber\": 129, \"per_global\": 0.01, \"per...</td>\n",
       "      <td>[{\"SliceNumber\": 116, \"per_global\": 0.01, \"per...</td>\n",
       "      <td>1.449518</td>\n",
       "      <td>2.915896e+04</td>\n",
       "      <td>111.0</td>\n",
       "      <td>Forest</td>\n",
       "      <td>Cool Temperate Moist</td>\n",
       "      <td>5</td>\n",
       "      <td>NaN</td>\n",
       "      <td>50.27</td>\n",
       "      <td>NaN</td>\n",
       "      <td>NaN</td>\n",
       "      <td>MULTIPOLYGON (((21.32195 59.74986, 21.32472 59...</td>\n",
       "    </tr>\n",
       "  </tbody>\n",
       "</table>\n",
       "</div>"
      ],
      "text/plain": [
       "  GID_0       NAME_0  MOL_ID      AREA_KM2  \\\n",
       "0   ABW        Aruba       1  1.819384e+02   \n",
       "1   AFG  Afghanistan       2  6.438575e+05   \n",
       "2   AGO       Angola       3  1.247422e+06   \n",
       "3   AIA     Anguilla       4  8.330331e+01   \n",
       "4   ALA        Åland       5  1.506261e+03   \n",
       "\n",
       "                                            reptiles  \\\n",
       "0  [{\"SliceNumber\": 353, \"per_global\": 0.01, \"per...   \n",
       "1  [{\"SliceNumber\": 1, \"per_global\": 28.71, \"per_...   \n",
       "2  [{\"SliceNumber\": 40, \"per_global\": 26.68, \"per...   \n",
       "3  [{\"SliceNumber\": 316, \"per_global\": 25.32, \"pe...   \n",
       "4  [{\"SliceNumber\": 2500, \"per_global\": 0.01, \"pe...   \n",
       "\n",
       "                                          amphibians  \\\n",
       "0  [{\"SliceNumber\": 1819, \"per_global\": 0.6, \"per...   \n",
       "1  [{\"SliceNumber\": 32, \"per_global\": 100.0, \"per...   \n",
       "2  [{\"SliceNumber\": 2, \"per_global\": 0.59, \"per_a...   \n",
       "3  [{\"SliceNumber\": 1819, \"per_global\": 0.23, \"pe...   \n",
       "4  [{\"SliceNumber\": 963, \"per_global\": 0.01, \"per...   \n",
       "\n",
       "                                             mammals  \\\n",
       "0  [{\"SliceNumber\": 329, \"per_global\": 0.0, \"per_...   \n",
       "1  [{\"SliceNumber\": 167, \"per_global\": 11.15, \"pe...   \n",
       "2  [{\"SliceNumber\": 28, \"per_global\": 2.22, \"per_...   \n",
       "3  [{\"SliceNumber\": 329, \"per_global\": 0.0, \"per_...   \n",
       "4  [{\"SliceNumber\": 129, \"per_global\": 0.01, \"per...   \n",
       "\n",
       "                                               birds  percentage_protected  \\\n",
       "0  [{\"SliceNumber\": 142, \"per_global\": 0.0, \"per_...             20.609302   \n",
       "1  [{\"SliceNumber\": 26, \"per_global\": 1.44, \"per_...              3.785337   \n",
       "2  [{\"SliceNumber\": 26, \"per_global\": 4.67, \"per_...              6.679349   \n",
       "3  [{\"SliceNumber\": 142, \"per_global\": 0.0, \"per_...              2.880000   \n",
       "4  [{\"SliceNumber\": 116, \"per_global\": 0.01, \"per...              1.449518   \n",
       "\n",
       "   population_sum  majority_land_cover_climate_regime land_cover_majority  \\\n",
       "0    1.156561e+05                               335.0           Shrubland   \n",
       "1    3.038970e+07                               142.0           Grassland   \n",
       "2    3.607495e+07                               268.0              Forest   \n",
       "3    1.360196e+04                               393.0           Grassland   \n",
       "4    2.915896e+04                               111.0              Forest   \n",
       "\n",
       "  climate_regime_majority  country_size  percent_irrigated  percent_rainfed  \\\n",
       "0            Tropical Dry             5                NaN            24.66   \n",
       "1      Cool Temperate Dry             3               6.48            18.49   \n",
       "2      Sub Tropical Moist             2               0.07             4.19   \n",
       "3          Tropical Moist             5                NaN              NaN   \n",
       "4    Cool Temperate Moist             5                NaN            50.27   \n",
       "\n",
       "   percent_rangeland  percent_urban  \\\n",
       "0                NaN           6.39   \n",
       "1              62.15           0.07   \n",
       "2              67.89           0.08   \n",
       "3                NaN            NaN   \n",
       "4                NaN            NaN   \n",
       "\n",
       "                                            geometry  \n",
       "0  POLYGON ((-69.97820 12.46986, -70.02847 12.503...  \n",
       "1  POLYGON ((68.52644 31.75435, 68.53852 31.75457...  \n",
       "2  MULTIPOLYGON (((11.73347 -16.67255, 11.74014 -...  \n",
       "3  MULTIPOLYGON (((-63.42375 18.58903, -63.42847 ...  \n",
       "4  MULTIPOLYGON (((21.32195 59.74986, 21.32472 59...  "
      ]
     },
     "execution_count": 36,
     "metadata": {},
     "output_type": "execute_result"
    }
   ],
   "source": [
    "all_data.head()"
   ]
  },
  {
   "cell_type": "code",
   "execution_count": 32,
   "metadata": {},
   "outputs": [],
   "source": [
    "### Save full version as geojson\n",
    "gdf = gpd.GeoDataFrame(all_data, geometry=all_data.geometry)\n",
    "#gdf.to_file('../../HALF_EARTH/all_precalc_gadm0.geojson',driver='GeoJSON') ### area\n",
    "gdf.to_file('../../HALF_EARTH/gadm0_precalculated_range.geojson',driver='GeoJSON')\n",
    "\n",
    "### Save geometry with MOL ID as shapefile\n",
    "### gdf[['GID_0', 'NAME_0', 'GID_1', 'NAME_1', 'MOL_ID', 'AREA_KM2','geometry']].to_file('../../HALF_EARTH/gadm1_simple.shp')\n",
    "\n",
    "### Save precalculated data without geometry as csv\n",
    "###all_data[all_data.columns[~all_data.columns.isin(['geometry'])]].to_csv('../../HALF_EARTH/gadm0_precalc_no_geometry.csv')\n",
    "\n",
    "### Upload all to AGOL through portal"
   ]
  },
  {
   "cell_type": "markdown",
   "metadata": {},
   "source": [
    "## Final solution:\n",
    "* Upload everything as geojson AREA: [FS](https://eowilson.maps.arcgis.com/home/item.html?id=e9b2595e8ee2406b981fd7c00f77df9c)/ [URL](https://services9.arcgis.com/IkktFdUAcY3WrH25/arcgis/rest/services/all_precalc_gadm0/FeatureServer)/[Whitelisted URL] (DEPRECATED)(https://utility.arcgis.com/usrsvcs/servers/ec84dbba085342e081dd44b5f94bc398/rest/services/all_precalc_gadm0/FeatureServer)\n",
    "* Upload everything as geojson RANGE: [FS](https://eowilson.maps.arcgis.com/home/item.html?id=15485a02800a49eba7855b3b79f1d8be)/[Whitelisted](https://utility.arcgis.com/usrsvcs/servers/348e04300dcb4339a25c44b0e54561b1/rest/services/gadm0_precalculated_range/FeatureServer) (DEPRECATED)\n",
    "\n",
    "* Upload RANGE + AREA (IN USE)\n",
    "[FS](https://eowilson.maps.arcgis.com/home/item.html?id=349b82ad2dc04ee7975c550af9896993#overview)\n",
    "/[Whitelisted](https://services9.arcgis.com/IkktFdUAcY3WrH25/arcgis/rest/services/gadm0_precalculated_range_area/FeatureServer)"
   ]
  },
  {
   "cell_type": "markdown",
   "metadata": {},
   "source": [
    "### Update human encroachment fields to Range + Area table (API)"
   ]
  },
  {
   "cell_type": "code",
   "execution_count": 37,
   "metadata": {},
   "outputs": [],
   "source": [
    "item = gis.content.get('349b82ad2dc04ee7975c550af9896993')\n",
    "flayer = item.layers[0]\n",
    "sdf = pd.DataFrame.spatial.from_layer(flayer)"
   ]
  },
  {
   "cell_type": "code",
   "execution_count": 41,
   "metadata": {},
   "outputs": [],
   "source": [
    "fields_to_be_added = createFieldsToBeAdded(flayer, csv_table= all_data[['MOL_ID','percent_irrigated', 'percent_rainfed', 'percent_rangeland','percent_urban']])"
   ]
  },
  {
   "cell_type": "code",
   "execution_count": 42,
   "metadata": {},
   "outputs": [
    {
     "data": {
      "text/plain": [
       "[{'name': 'percent_irrigated',\n",
       "  'type': 'esriFieldTypeDouble',\n",
       "  'actualType': 'nvarchar',\n",
       "  'alias': 'percent_irrigated',\n",
       "  'sqlType': 'sqlTypeOther',\n",
       "  'length': 4000,\n",
       "  'nullable': True,\n",
       "  'editable': True,\n",
       "  'visible': True,\n",
       "  'domain': None,\n",
       "  'defaultValue': None},\n",
       " {'name': 'percent_rainfed',\n",
       "  'type': 'esriFieldTypeDouble',\n",
       "  'actualType': 'nvarchar',\n",
       "  'alias': 'percent_rainfed',\n",
       "  'sqlType': 'sqlTypeOther',\n",
       "  'length': 4000,\n",
       "  'nullable': True,\n",
       "  'editable': True,\n",
       "  'visible': True,\n",
       "  'domain': None,\n",
       "  'defaultValue': None},\n",
       " {'name': 'percent_rangeland',\n",
       "  'type': 'esriFieldTypeDouble',\n",
       "  'actualType': 'nvarchar',\n",
       "  'alias': 'percent_rangeland',\n",
       "  'sqlType': 'sqlTypeOther',\n",
       "  'length': 4000,\n",
       "  'nullable': True,\n",
       "  'editable': True,\n",
       "  'visible': True,\n",
       "  'domain': None,\n",
       "  'defaultValue': None},\n",
       " {'name': 'percent_urban',\n",
       "  'type': 'esriFieldTypeDouble',\n",
       "  'actualType': 'nvarchar',\n",
       "  'alias': 'percent_urban',\n",
       "  'sqlType': 'sqlTypeOther',\n",
       "  'length': 4000,\n",
       "  'nullable': True,\n",
       "  'editable': True,\n",
       "  'visible': True,\n",
       "  'domain': None,\n",
       "  'defaultValue': None}]"
      ]
     },
     "execution_count": 42,
     "metadata": {},
     "output_type": "execute_result"
    }
   ],
   "source": [
    "fields_to_be_added"
   ]
  },
  {
   "cell_type": "code",
   "execution_count": 43,
   "metadata": {},
   "outputs": [
    {
     "data": {
      "text/plain": [
       "{'success': True}"
      ]
     },
     "execution_count": 43,
     "metadata": {},
     "output_type": "execute_result"
    }
   ],
   "source": [
    "flayer.manager.add_to_definition({'fields':fields_to_be_added})"
   ]
  },
  {
   "cell_type": "code",
   "execution_count": 115,
   "metadata": {},
   "outputs": [],
   "source": [
    "features_for_update = []"
   ]
  },
  {
   "cell_type": "code",
   "execution_count": 44,
   "metadata": {},
   "outputs": [],
   "source": [
    "### MODIFIED SCRIPT: For string and data that has NaN in the columns to update ()\n",
    "\n",
    "def createFeaturesForUpdate(flayer, csv_table, fields_to_be_added, id_field_in_csv, id_field_in_service):\n",
    "    fset2 = flayer.query()\n",
    "    features2 = fset2.features\n",
    "    features_for_update = []\n",
    "    for country_id in csv_table[id_field_in_csv]:\n",
    "        try:\n",
    "            # get the matching row from csv\n",
    "            matching_row = csv_table.where(csv_table[id_field_in_csv] == country_id).dropna(subset=[id_field_in_csv])\n",
    "\n",
    "            #print(str(country_id) + \" Adding additional attributes for: \" + matching_row['iso3'].values[0])\n",
    "\n",
    "            # get the feature to be updated\n",
    "            assert  len([f for f in features2 if f.attributes[id_field_in_service] == country_id]),  \"id not matched\"\n",
    "            original_feature = [f for f in features2 if f.attributes[id_field_in_service] == country_id][0]\n",
    "            feature_to_be_updated = deepcopy(original_feature)\n",
    "\n",
    "            # assign the updated values\n",
    "            for field in fields_to_be_added:\n",
    "                feature_to_be_updated.attributes[field['name']] = matching_row[field['name']].values[0]\n",
    "                #add this to the list of features to be updated\n",
    "                features_for_update.append(feature_to_be_updated)\n",
    "            #print(str(country_id) + \" Done additional attributes for: \" + matching_row['countryname'].values[0])\n",
    "    \n",
    "        except:\n",
    "            print(f\"{country_id} not available in service\")\n",
    "    return features_for_update"
   ]
  },
  {
   "cell_type": "code",
   "execution_count": 45,
   "metadata": {},
   "outputs": [],
   "source": [
    "features_for_update = createFeaturesForUpdate(flayer,  \n",
    "                                              all_data[['MOL_ID','percent_irrigated', 'percent_rainfed', 'percent_rangeland','percent_urban']], \n",
    "                                              fields_to_be_added, \n",
    "                                              id_field_in_csv = \"MOL_ID\", \n",
    "                                              id_field_in_service = \"MOL_ID\")"
   ]
  },
  {
   "cell_type": "code",
   "execution_count": null,
   "metadata": {},
   "outputs": [],
   "source": [
    "features_for_update[0]"
   ]
  },
  {
   "cell_type": "code",
   "execution_count": 54,
   "metadata": {},
   "outputs": [
    {
     "data": {
      "text/plain": [
       "array([   0,   10,   20,   30,   40,   50,   60,   70,   80,   90,  100,\n",
       "        110,  120,  130,  140,  150,  160,  170,  180,  190,  200,  210,\n",
       "        220,  230,  240,  250,  260,  270,  280,  290,  300,  310,  320,\n",
       "        330,  340,  350,  360,  370,  380,  390,  400,  410,  420,  430,\n",
       "        440,  450,  460,  470,  480,  490,  500,  510,  520,  530,  540,\n",
       "        550,  560,  570,  580,  590,  600,  610,  620,  630,  640,  650,\n",
       "        660,  670,  680,  690,  700,  710,  720,  730,  740,  750,  760,\n",
       "        770,  780,  790,  800,  810,  820,  830,  840,  850,  860,  870,\n",
       "        880,  890,  900,  910,  920,  930,  940,  950,  960,  970,  980,\n",
       "        990, 1000, 1010])"
      ]
     },
     "execution_count": 54,
     "metadata": {},
     "output_type": "execute_result"
    }
   ],
   "source": [
    "#### Updates must be done in blocks to avoid broken pipe of ARcGIS API\n",
    "start = np.arange(0,1020, step = 10)\n",
    "start"
   ]
  },
  {
   "cell_type": "code",
   "execution_count": 58,
   "metadata": {},
   "outputs": [],
   "source": [
    "for attempt in range(10):\n",
    "        try:\n",
    "            flayer.edit_features(updates= features_for_update[140:150])\n",
    "        except Exception:\n",
    "            print(f'Timeout #{attempt}')\n",
    "            pass"
   ]
  },
  {
   "cell_type": "code",
   "execution_count": null,
   "metadata": {},
   "outputs": [],
   "source": [
    "for i in start:\n",
    "    for attempt in range(10):\n",
    "        try:\n",
    "            flayer.edit_features(updates= features_for_update[i:i+10])\n",
    "        except Exception:\n",
    "            print(f'Timeout #{attempt}')\n",
    "            pass\n",
    "    print(f'done {i}')"
   ]
  },
  {
   "cell_type": "markdown",
   "metadata": {},
   "source": [
    "### Add list of wdpa's per country (Deprecated, instead of adding list of mol_ids now there is a separtae table 'wdpa_with_gadm0')"
   ]
  },
  {
   "cell_type": "code",
   "execution_count": 5,
   "metadata": {},
   "outputs": [],
   "source": [
    "## Add list of wdpa's per country\n",
    "## gadm1 (scott's original)\n",
    "gadm0= gpd.read_file('zip:///Users/tamarahuete/Documents/HALF_EARTH/gadm36_level0.zip')\n",
    "## wdpa (scott's original)\n",
    "wdpa= gpd.read_file('zip:///Users/tamarahuete/Documents/HALF_EARTH/WDPA_FILTERED_20210615_FILTERED_nomarine_with_oecm_wdpa.zip')"
   ]
  },
  {
   "cell_type": "code",
   "execution_count": 18,
   "metadata": {},
   "outputs": [
    {
     "data": {
      "text/html": [
       "<div>\n",
       "<style scoped>\n",
       "    .dataframe tbody tr th:only-of-type {\n",
       "        vertical-align: middle;\n",
       "    }\n",
       "\n",
       "    .dataframe tbody tr th {\n",
       "        vertical-align: top;\n",
       "    }\n",
       "\n",
       "    .dataframe thead th {\n",
       "        text-align: right;\n",
       "    }\n",
       "</style>\n",
       "<table border=\"1\" class=\"dataframe\">\n",
       "  <thead>\n",
       "    <tr style=\"text-align: right;\">\n",
       "      <th></th>\n",
       "      <th>GID_0</th>\n",
       "      <th>NAME_0</th>\n",
       "      <th>AREA_KM2</th>\n",
       "      <th>MOL_ID</th>\n",
       "      <th>geometry</th>\n",
       "    </tr>\n",
       "  </thead>\n",
       "  <tbody>\n",
       "    <tr>\n",
       "      <th>0</th>\n",
       "      <td>ABW</td>\n",
       "      <td>Aruba</td>\n",
       "      <td>1.819384e+02</td>\n",
       "      <td>1</td>\n",
       "      <td>POLYGON ((-69.97820 12.46986, -69.97847 12.469...</td>\n",
       "    </tr>\n",
       "    <tr>\n",
       "      <th>1</th>\n",
       "      <td>AFG</td>\n",
       "      <td>Afghanistan</td>\n",
       "      <td>6.438575e+05</td>\n",
       "      <td>2</td>\n",
       "      <td>POLYGON ((68.52644 31.75435, 68.53852 31.75457...</td>\n",
       "    </tr>\n",
       "    <tr>\n",
       "      <th>2</th>\n",
       "      <td>AGO</td>\n",
       "      <td>Angola</td>\n",
       "      <td>1.247422e+06</td>\n",
       "      <td>3</td>\n",
       "      <td>MULTIPOLYGON (((11.73347 -16.67255, 11.73347 -...</td>\n",
       "    </tr>\n",
       "    <tr>\n",
       "      <th>3</th>\n",
       "      <td>AIA</td>\n",
       "      <td>Anguilla</td>\n",
       "      <td>8.330331e+01</td>\n",
       "      <td>4</td>\n",
       "      <td>MULTIPOLYGON (((-63.42375 18.58903, -63.42375 ...</td>\n",
       "    </tr>\n",
       "    <tr>\n",
       "      <th>4</th>\n",
       "      <td>ALA</td>\n",
       "      <td>Åland</td>\n",
       "      <td>1.506261e+03</td>\n",
       "      <td>5</td>\n",
       "      <td>MULTIPOLYGON (((21.32195 59.74986, 21.32195 59...</td>\n",
       "    </tr>\n",
       "  </tbody>\n",
       "</table>\n",
       "</div>"
      ],
      "text/plain": [
       "  GID_0       NAME_0      AREA_KM2  MOL_ID  \\\n",
       "0   ABW        Aruba  1.819384e+02       1   \n",
       "1   AFG  Afghanistan  6.438575e+05       2   \n",
       "2   AGO       Angola  1.247422e+06       3   \n",
       "3   AIA     Anguilla  8.330331e+01       4   \n",
       "4   ALA        Åland  1.506261e+03       5   \n",
       "\n",
       "                                            geometry  \n",
       "0  POLYGON ((-69.97820 12.46986, -69.97847 12.469...  \n",
       "1  POLYGON ((68.52644 31.75435, 68.53852 31.75457...  \n",
       "2  MULTIPOLYGON (((11.73347 -16.67255, 11.73347 -...  \n",
       "3  MULTIPOLYGON (((-63.42375 18.58903, -63.42375 ...  \n",
       "4  MULTIPOLYGON (((21.32195 59.74986, 21.32195 59...  "
      ]
     },
     "execution_count": 18,
     "metadata": {},
     "output_type": "execute_result"
    }
   ],
   "source": [
    "gadm0.head()"
   ]
  },
  {
   "cell_type": "code",
   "execution_count": null,
   "metadata": {},
   "outputs": [],
   "source": [
    "gadm"
   ]
  },
  {
   "cell_type": "code",
   "execution_count": 6,
   "metadata": {},
   "outputs": [
    {
     "name": "stderr",
     "output_type": "stream",
     "text": [
      "/Users/tamarahuete/opt/anaconda3/lib/python3.7/site-packages/pandas/core/frame.py:4133: SettingWithCopyWarning: \n",
      "A value is trying to be set on a copy of a slice from a DataFrame\n",
      "\n",
      "See the caveats in the documentation: https://pandas.pydata.org/pandas-docs/stable/user_guide/indexing.html#returning-a-view-versus-a-copy\n",
      "  errors=errors,\n"
     ]
    }
   ],
   "source": [
    "gadm = gadm0[['GID_0','NAME_0','MOL_ID','geometry']]\n",
    "gadm.rename(columns={'MOL_ID':'MOL_IDg'},inplace=True)\n",
    "#wd = wdpa[['MOL_ID','ISO3','geometry']]\n",
    "wd = wdpa[['WDPAID','MOL_ID','NAME','ORIG_NA','GOV_TYP','DESIG','DESIG_E','DESIG_T','STATUS','IUCN_CA','ISO3','AREA_KM','geometry']]"
   ]
  },
  {
   "cell_type": "code",
   "execution_count": 23,
   "metadata": {},
   "outputs": [],
   "source": [
    "gwd = gpd.sjoin(gadm,wd, how= 'right')"
   ]
  },
  {
   "cell_type": "code",
   "execution_count": 24,
   "metadata": {},
   "outputs": [
    {
     "data": {
      "text/html": [
       "<div>\n",
       "<style scoped>\n",
       "    .dataframe tbody tr th:only-of-type {\n",
       "        vertical-align: middle;\n",
       "    }\n",
       "\n",
       "    .dataframe tbody tr th {\n",
       "        vertical-align: top;\n",
       "    }\n",
       "\n",
       "    .dataframe thead th {\n",
       "        text-align: right;\n",
       "    }\n",
       "</style>\n",
       "<table border=\"1\" class=\"dataframe\">\n",
       "  <thead>\n",
       "    <tr style=\"text-align: right;\">\n",
       "      <th></th>\n",
       "      <th>index_left</th>\n",
       "      <th>GID_0</th>\n",
       "      <th>NAME_0</th>\n",
       "      <th>MOL_IDg</th>\n",
       "      <th>WDPAID</th>\n",
       "      <th>MOL_ID</th>\n",
       "      <th>NAME</th>\n",
       "      <th>ORIG_NA</th>\n",
       "      <th>GOV_TYP</th>\n",
       "      <th>DESIG</th>\n",
       "      <th>DESIG_E</th>\n",
       "      <th>DESIG_T</th>\n",
       "      <th>STATUS</th>\n",
       "      <th>IUCN_CA</th>\n",
       "      <th>ISO3</th>\n",
       "      <th>AREA_KM</th>\n",
       "      <th>geometry</th>\n",
       "    </tr>\n",
       "  </thead>\n",
       "  <tbody>\n",
       "    <tr>\n",
       "      <th>57173</th>\n",
       "      <td>0.0</td>\n",
       "      <td>ABW</td>\n",
       "      <td>Aruba</td>\n",
       "      <td>1.0</td>\n",
       "      <td>14067.0</td>\n",
       "      <td>57174</td>\n",
       "      <td>Het Spaans Lagoen</td>\n",
       "      <td>Het Spaans Lagoen</td>\n",
       "      <td>Not Reported</td>\n",
       "      <td>Ramsar Site, Wetland of International Importance</td>\n",
       "      <td>Ramsar Site, Wetland of International Importance</td>\n",
       "      <td>International</td>\n",
       "      <td>Designated</td>\n",
       "      <td>Not Reported</td>\n",
       "      <td>ABW</td>\n",
       "      <td>0.099586</td>\n",
       "      <td>POLYGON ((-69.97523 12.47379, -69.97538 12.474...</td>\n",
       "    </tr>\n",
       "    <tr>\n",
       "      <th>115580</th>\n",
       "      <td>0.0</td>\n",
       "      <td>ABW</td>\n",
       "      <td>Aruba</td>\n",
       "      <td>1.0</td>\n",
       "      <td>555624439.0</td>\n",
       "      <td>115581</td>\n",
       "      <td>Arikok National Park</td>\n",
       "      <td>Arikok National Park</td>\n",
       "      <td>Non-profit organisations</td>\n",
       "      <td>National Park</td>\n",
       "      <td>National Park</td>\n",
       "      <td>National</td>\n",
       "      <td>Designated</td>\n",
       "      <td>Not Reported</td>\n",
       "      <td>ABW</td>\n",
       "      <td>34.964103</td>\n",
       "      <td>MULTIPOLYGON (((-69.96302 12.48384, -69.96295 ...</td>\n",
       "    </tr>\n",
       "    <tr>\n",
       "      <th>90</th>\n",
       "      <td>0.0</td>\n",
       "      <td>ABW</td>\n",
       "      <td>Aruba</td>\n",
       "      <td>1.0</td>\n",
       "      <td>14003.0</td>\n",
       "      <td>91</td>\n",
       "      <td>Bubali Pond Bird Sanctuary</td>\n",
       "      <td>Bubali Pond Bird Sanctuary</td>\n",
       "      <td>Not Reported</td>\n",
       "      <td>Bird Sanctuary</td>\n",
       "      <td>Bird Sanctuary</td>\n",
       "      <td>National</td>\n",
       "      <td>Designated</td>\n",
       "      <td>Not Reported</td>\n",
       "      <td>ABW</td>\n",
       "      <td>0.578906</td>\n",
       "      <td>POLYGON ((-70.04734 12.56329, -70.04615 12.563...</td>\n",
       "    </tr>\n",
       "    <tr>\n",
       "      <th>50862</th>\n",
       "      <td>1.0</td>\n",
       "      <td>AFG</td>\n",
       "      <td>Afghanistan</td>\n",
       "      <td>2.0</td>\n",
       "      <td>6820.0</td>\n",
       "      <td>50863</td>\n",
       "      <td>Kilik/Mintaka</td>\n",
       "      <td>Kilik/Mintaka</td>\n",
       "      <td>Not Reported</td>\n",
       "      <td>Game Reserve</td>\n",
       "      <td>Game Reserve</td>\n",
       "      <td>National</td>\n",
       "      <td>Designated</td>\n",
       "      <td>Not Reported</td>\n",
       "      <td>PAK</td>\n",
       "      <td>503.484085</td>\n",
       "      <td>POLYGON ((74.74915 37.02663, 74.76635 37.02623...</td>\n",
       "    </tr>\n",
       "    <tr>\n",
       "      <th>50862</th>\n",
       "      <td>43.0</td>\n",
       "      <td>CHN</td>\n",
       "      <td>China</td>\n",
       "      <td>44.0</td>\n",
       "      <td>6820.0</td>\n",
       "      <td>50863</td>\n",
       "      <td>Kilik/Mintaka</td>\n",
       "      <td>Kilik/Mintaka</td>\n",
       "      <td>Not Reported</td>\n",
       "      <td>Game Reserve</td>\n",
       "      <td>Game Reserve</td>\n",
       "      <td>National</td>\n",
       "      <td>Designated</td>\n",
       "      <td>Not Reported</td>\n",
       "      <td>PAK</td>\n",
       "      <td>503.484085</td>\n",
       "      <td>POLYGON ((74.74915 37.02663, 74.76635 37.02623...</td>\n",
       "    </tr>\n",
       "  </tbody>\n",
       "</table>\n",
       "</div>"
      ],
      "text/plain": [
       "        index_left GID_0       NAME_0  MOL_IDg       WDPAID  MOL_ID  \\\n",
       "57173          0.0   ABW        Aruba      1.0      14067.0   57174   \n",
       "115580         0.0   ABW        Aruba      1.0  555624439.0  115581   \n",
       "90             0.0   ABW        Aruba      1.0      14003.0      91   \n",
       "50862          1.0   AFG  Afghanistan      2.0       6820.0   50863   \n",
       "50862         43.0   CHN        China     44.0       6820.0   50863   \n",
       "\n",
       "                              NAME                     ORIG_NA  \\\n",
       "57173            Het Spaans Lagoen           Het Spaans Lagoen   \n",
       "115580        Arikok National Park        Arikok National Park   \n",
       "90      Bubali Pond Bird Sanctuary  Bubali Pond Bird Sanctuary   \n",
       "50862                Kilik/Mintaka               Kilik/Mintaka   \n",
       "50862                Kilik/Mintaka               Kilik/Mintaka   \n",
       "\n",
       "                         GOV_TYP  \\\n",
       "57173               Not Reported   \n",
       "115580  Non-profit organisations   \n",
       "90                  Not Reported   \n",
       "50862               Not Reported   \n",
       "50862               Not Reported   \n",
       "\n",
       "                                                   DESIG  \\\n",
       "57173   Ramsar Site, Wetland of International Importance   \n",
       "115580                                     National Park   \n",
       "90                                        Bird Sanctuary   \n",
       "50862                                       Game Reserve   \n",
       "50862                                       Game Reserve   \n",
       "\n",
       "                                                 DESIG_E        DESIG_T  \\\n",
       "57173   Ramsar Site, Wetland of International Importance  International   \n",
       "115580                                     National Park       National   \n",
       "90                                        Bird Sanctuary       National   \n",
       "50862                                       Game Reserve       National   \n",
       "50862                                       Game Reserve       National   \n",
       "\n",
       "            STATUS       IUCN_CA ISO3     AREA_KM  \\\n",
       "57173   Designated  Not Reported  ABW    0.099586   \n",
       "115580  Designated  Not Reported  ABW   34.964103   \n",
       "90      Designated  Not Reported  ABW    0.578906   \n",
       "50862   Designated  Not Reported  PAK  503.484085   \n",
       "50862   Designated  Not Reported  PAK  503.484085   \n",
       "\n",
       "                                                 geometry  \n",
       "57173   POLYGON ((-69.97523 12.47379, -69.97538 12.474...  \n",
       "115580  MULTIPOLYGON (((-69.96302 12.48384, -69.96295 ...  \n",
       "90      POLYGON ((-70.04734 12.56329, -70.04615 12.563...  \n",
       "50862   POLYGON ((74.74915 37.02663, 74.76635 37.02623...  \n",
       "50862   POLYGON ((74.74915 37.02663, 74.76635 37.02623...  "
      ]
     },
     "execution_count": 24,
     "metadata": {},
     "output_type": "execute_result"
    }
   ],
   "source": [
    "gwd.head()"
   ]
  },
  {
   "cell_type": "code",
   "execution_count": 25,
   "metadata": {},
   "outputs": [],
   "source": [
    "gwd = gwd.drop(columns = ['index_left'])"
   ]
  },
  {
   "cell_type": "code",
   "execution_count": 10,
   "metadata": {},
   "outputs": [
    {
     "data": {
      "text/plain": [
       "18"
      ]
     },
     "execution_count": 10,
     "metadata": {},
     "output_type": "execute_result"
    }
   ],
   "source": [
    "gwd[gwd['GID_0']=='AFG'].count()[0]"
   ]
  },
  {
   "cell_type": "code",
   "execution_count": 11,
   "metadata": {},
   "outputs": [
    {
     "data": {
      "text/plain": [
       "9"
      ]
     },
     "execution_count": 11,
     "metadata": {},
     "output_type": "execute_result"
    }
   ],
   "source": [
    "wd[wd['ISO3']=='AFG'].count()[0]"
   ]
  },
  {
   "cell_type": "code",
   "execution_count": 12,
   "metadata": {},
   "outputs": [
    {
     "data": {
      "text/plain": [
       "3667"
      ]
     },
     "execution_count": 12,
     "metadata": {},
     "output_type": "execute_result"
    }
   ],
   "source": [
    "len(gwd[gwd['MOL_IDg']==70])"
   ]
  },
  {
   "cell_type": "code",
   "execution_count": 15,
   "metadata": {},
   "outputs": [
    {
     "data": {
      "text/plain": [
       "221969"
      ]
     },
     "execution_count": 15,
     "metadata": {},
     "output_type": "execute_result"
    }
   ],
   "source": [
    "len(gwd)"
   ]
  },
  {
   "cell_type": "code",
   "execution_count": 28,
   "metadata": {},
   "outputs": [
    {
     "data": {
      "text/plain": [
       "<matplotlib.axes._subplots.AxesSubplot at 0x7f9380e5a090>"
      ]
     },
     "execution_count": 28,
     "metadata": {},
     "output_type": "execute_result"
    },
    {
     "data": {
      "image/png": "[encoded data removed]",
      "text/plain": [
       "<Figure size 360x360 with 1 Axes>"
      ]
     },
     "metadata": {
      "needs_background": "light"
     },
     "output_type": "display_data"
    }
   ],
   "source": [
    "import matplotlib.pyplot as plt\n",
    "### test that the spatial join worked\n",
    "n=70\n",
    "wd_list = list(gwd[gwd['MOL_IDg']==n].MOL_ID.unique())\n",
    "fig, ax = plt.subplots(figsize=(5, 5))\n",
    "gwd[gwd['MOL_ID'].isin(wd_list)].plot(ax=ax, column='MOL_ID')\n",
    "gadm[gadm['MOL_IDg']==n].plot(ax=ax,alpha=0.1)"
   ]
  },
  {
   "cell_type": "code",
   "execution_count": 13,
   "metadata": {},
   "outputs": [],
   "source": [
    "### Exprt as zip file directly\n",
    "import shutil\n",
    "import tempfile\n",
    "from pathlib import Path\n",
    "#gdf = some geopandas dataframe"
   ]
  },
  {
   "cell_type": "code",
   "execution_count": null,
   "metadata": {},
   "outputs": [],
   "source": [
    "with tempfile.TemporaryDirectory() as temp_dir:\n",
    "    temp_dir = Path(temp_dir)\n",
    "    localFile = '../../HALF_EARTH/wdpa_with_gadm0'\n",
    "    \n",
    "    gwd.to_file(filename=temp_dir, driver='ESRI Shapefile')\n",
    "    archiveFile = shutil.make_archive(localFile, 'zip', temp_dir)\n",
    "    #shutil.rmtree(temp_dir) ### failed"
   ]
  },
  {
   "cell_type": "code",
   "execution_count": 32,
   "metadata": {},
   "outputs": [
    {
     "name": "stdout",
     "output_type": "stream",
     "text": [
      "Service name wdpa_with_gadm0 is available\n",
      "The service wdpa_with_gadm0 has been published. The service has 221969 entries\n",
      "Moving service wdpa_with_gadm0 to #6 precalculated data in ArcGIS Online...\n",
      "Service wdpa_with_gadm0 has been moved to #6 precalculated data in ArcGIS Online\n",
      "shared with everyone\n",
      "wdpa_with_gadm0's protection against deletion : True\n"
     ]
    },
    {
     "data": {
      "text/plain": [
       "'3511793c8aa44e7a8dcfd9fa9e1854d9'"
      ]
     },
     "execution_count": 32,
     "metadata": {},
     "output_type": "execute_result"
    }
   ],
   "source": [
    "### Add shapefile\n",
    "csv_file = '../../HALF_EARTH/wdpa_with_gadm0.zip'\n",
    "csvName = 'wdpa_with_gadm0'\n",
    "gis = GIS(\"https://eowilson.maps.arcgis.com\", aol_username, aol_password, profile = \"eowilson\")\n",
    "aol_folder_name = '#6 precalculated data'\n",
    "group_id='46783c33c294485abe83f5e899c2f21f'\n",
    "publishCSVasFS(csv_file,csvName,gis,aol_folder_name,sharing='everyone')"
   ]
  },
  {
   "cell_type": "code",
   "execution_count": 51,
   "metadata": {},
   "outputs": [],
   "source": [
    "gwd.drop(columns=['geometry']).to_csv('../../HALF_EARTH/wdpa_with_gadm0.csv',encoding=\"utf-8\")"
   ]
  },
  {
   "cell_type": "code",
   "execution_count": 58,
   "metadata": {},
   "outputs": [
    {
     "name": "stdout",
     "output_type": "stream",
     "text": [
      "Service name wdpa_with_gadm0_csv is available\n",
      "Moving service wdpa_with_gadm0_csv to #6 precalculated data in ArcGIS Online...\n",
      "Service wdpa_with_gadm0_csv has been moved to #6 precalculated data in ArcGIS Online\n",
      "shared with everyone\n",
      "wdpa_with_gadm0_csv's protection against deletion : True\n"
     ]
    },
    {
     "data": {
      "text/plain": [
       "'ddeb1dfe7d814321ac9bb795aa794e3b'"
      ]
     },
     "execution_count": 58,
     "metadata": {},
     "output_type": "execute_result"
    }
   ],
   "source": [
    "### Add csv\n",
    "csv_file = '../../HALF_EARTH/wdpa_with_gadm0.csv'\n",
    "csvName = 'wdpa_with_gadm0_csv'\n",
    "gis = GIS(\"https://eowilson.maps.arcgis.com\", aol_username, aol_password, profile = \"eowilson\")\n",
    "aol_folder_name = '#6 precalculated data'\n",
    "group_id='46783c33c294485abe83f5e899c2f21f'\n",
    "publishCSVasFS(csv_file,csvName,gis,aol_folder_name,sharing='everyone', table ='yes')\n",
    "\n",
    "# To overwite an added table: \n",
    "# csv_item = gis.content.add({'overwrite' : True}, csv_file)"
   ]
  },
  {
   "cell_type": "code",
   "execution_count": null,
   "metadata": {},
   "outputs": [],
   "source": [
    "### add all wdpa as array inside a field"
   ]
  },
  {
   "cell_type": "code",
   "execution_count": 168,
   "metadata": {},
   "outputs": [],
   "source": [
    "gadm0['WDPA_MOL_ID']=gadm0['MOL_ID'].apply(lambda x: gwd[gwd['MOL_IDg']==x].MOL_ID.unique())"
   ]
  },
  {
   "cell_type": "code",
   "execution_count": 170,
   "metadata": {},
   "outputs": [
    {
     "data": {
      "text/html": [
       "<div>\n",
       "<style scoped>\n",
       "    .dataframe tbody tr th:only-of-type {\n",
       "        vertical-align: middle;\n",
       "    }\n",
       "\n",
       "    .dataframe tbody tr th {\n",
       "        vertical-align: top;\n",
       "    }\n",
       "\n",
       "    .dataframe thead th {\n",
       "        text-align: right;\n",
       "    }\n",
       "</style>\n",
       "<table border=\"1\" class=\"dataframe\">\n",
       "  <thead>\n",
       "    <tr style=\"text-align: right;\">\n",
       "      <th></th>\n",
       "      <th>GID_0</th>\n",
       "      <th>NAME_0</th>\n",
       "      <th>AREA_KM2</th>\n",
       "      <th>MOL_ID</th>\n",
       "      <th>geometry</th>\n",
       "      <th>WDPA_MOL_ID</th>\n",
       "    </tr>\n",
       "  </thead>\n",
       "  <tbody>\n",
       "    <tr>\n",
       "      <th>0</th>\n",
       "      <td>ABW</td>\n",
       "      <td>Aruba</td>\n",
       "      <td>1.819384e+02</td>\n",
       "      <td>1</td>\n",
       "      <td>POLYGON ((-69.97820 12.46986, -69.97847 12.469...</td>\n",
       "      <td>[57174, 115581, 91]</td>\n",
       "    </tr>\n",
       "    <tr>\n",
       "      <th>1</th>\n",
       "      <td>AFG</td>\n",
       "      <td>Afghanistan</td>\n",
       "      <td>6.438575e+05</td>\n",
       "      <td>2</td>\n",
       "      <td>POLYGON ((68.52644 31.75435, 68.53852 31.75457...</td>\n",
       "      <td>[50863, 47366, 62082, 47365, 62076, 206425, 21...</td>\n",
       "    </tr>\n",
       "    <tr>\n",
       "      <th>2</th>\n",
       "      <td>AGO</td>\n",
       "      <td>Angola</td>\n",
       "      <td>1.247422e+06</td>\n",
       "      <td>3</td>\n",
       "      <td>MULTIPOLYGON (((11.73347 -16.67255, 11.73347 -...</td>\n",
       "      <td>[37920, 37913, 42630, 33230, 46394, 131898, 19...</td>\n",
       "    </tr>\n",
       "  </tbody>\n",
       "</table>\n",
       "</div>"
      ],
      "text/plain": [
       "  GID_0       NAME_0      AREA_KM2  MOL_ID  \\\n",
       "0   ABW        Aruba  1.819384e+02       1   \n",
       "1   AFG  Afghanistan  6.438575e+05       2   \n",
       "2   AGO       Angola  1.247422e+06       3   \n",
       "\n",
       "                                            geometry  \\\n",
       "0  POLYGON ((-69.97820 12.46986, -69.97847 12.469...   \n",
       "1  POLYGON ((68.52644 31.75435, 68.53852 31.75457...   \n",
       "2  MULTIPOLYGON (((11.73347 -16.67255, 11.73347 -...   \n",
       "\n",
       "                                         WDPA_MOL_ID  \n",
       "0                                [57174, 115581, 91]  \n",
       "1  [50863, 47366, 62082, 47365, 62076, 206425, 21...  \n",
       "2  [37920, 37913, 42630, 33230, 46394, 131898, 19...  "
      ]
     },
     "execution_count": 170,
     "metadata": {},
     "output_type": "execute_result"
    }
   ],
   "source": [
    "gadm0.head(3)"
   ]
  },
  {
   "cell_type": "code",
   "execution_count": 176,
   "metadata": {},
   "outputs": [
    {
     "data": {
      "text/plain": [
       "<matplotlib.axes._subplots.AxesSubplot at 0x7f968f3cd210>"
      ]
     },
     "execution_count": 176,
     "metadata": {},
     "output_type": "execute_result"
    },
    {
     "data": {
      "image/png": "[encoded data removed]",
      "text/plain": [
       "<Figure size 360x360 with 1 Axes>"
      ]
     },
     "metadata": {
      "needs_background": "light"
     },
     "output_type": "display_data"
    }
   ],
   "source": [
    "import matplotlib.pyplot as plt\n",
    "### test that the spatial join worked\n",
    "n=6\n",
    "wd_list = list(gwd[gwd['MOL_IDg']==n].MOL_ID.unique())\n",
    "fig, ax = plt.subplots(figsize=(5, 5))\n",
    "wd[wd['MOL_ID'].isin(wd_list)].plot(ax=ax, column='MOL_ID')\n",
    "gwd[gwd['MOL_IDg']==n].plot(ax=ax,alpha=0.1)"
   ]
  },
  {
   "cell_type": "code",
   "execution_count": 177,
   "metadata": {},
   "outputs": [],
   "source": [
    "item = gis.content.get('e9b2595e8ee2406b981fd7c00f77df9c')\n",
    "flayer = item.layers[0]\n",
    "sdf = pd.DataFrame.spatial.from_layer(flayer)"
   ]
  },
  {
   "cell_type": "code",
   "execution_count": 178,
   "metadata": {},
   "outputs": [],
   "source": [
    "gadm0.rename(columns={'WDPA_MOL_ID':'wdpa_mol_id'},inplace=True)"
   ]
  },
  {
   "cell_type": "code",
   "execution_count": 180,
   "metadata": {},
   "outputs": [],
   "source": [
    "fields_to_be_added = createFieldsToBeAdded(flayer, csv_table= gadm0[['MOL_ID','wdpa_mol_id']])"
   ]
  },
  {
   "cell_type": "code",
   "execution_count": 181,
   "metadata": {},
   "outputs": [
    {
     "data": {
      "text/plain": [
       "[{'name': 'wdpa_mol_id',\n",
       "  'type': 'esriFieldTypeString',\n",
       "  'actualType': 'nvarchar',\n",
       "  'alias': 'wdpa_mol_id',\n",
       "  'sqlType': 'sqlTypeOther',\n",
       "  'length': 45000,\n",
       "  'nullable': True,\n",
       "  'editable': True,\n",
       "  'visible': True,\n",
       "  'domain': None,\n",
       "  'defaultValue': None}]"
      ]
     },
     "execution_count": 181,
     "metadata": {},
     "output_type": "execute_result"
    }
   ],
   "source": [
    "fields_to_be_added"
   ]
  },
  {
   "cell_type": "code",
   "execution_count": 182,
   "metadata": {},
   "outputs": [
    {
     "data": {
      "text/plain": [
       "{'success': True}"
      ]
     },
     "execution_count": 182,
     "metadata": {},
     "output_type": "execute_result"
    }
   ],
   "source": [
    "flayer.manager.add_to_definition({'fields':fields_to_be_added})"
   ]
  },
  {
   "cell_type": "code",
   "execution_count": 188,
   "metadata": {},
   "outputs": [
    {
     "data": {
      "text/plain": [
       "array([  0,  25,  50,  75, 100, 125, 150, 175, 200, 225, 250])"
      ]
     },
     "execution_count": 188,
     "metadata": {},
     "output_type": "execute_result"
    }
   ],
   "source": [
    "start = np.arange(0,len(gadm0), step = 25)\n",
    "start"
   ]
  },
  {
   "cell_type": "code",
   "execution_count": 190,
   "metadata": {},
   "outputs": [
    {
     "name": "stdout",
     "output_type": "stream",
     "text": [
      "done 0\n",
      "done 25\n",
      "done 50\n",
      "done 75\n",
      "done 100\n",
      "done 125\n",
      "done 150\n",
      "done 175\n",
      "done 200\n",
      "done 225\n",
      "done 250\n"
     ]
    }
   ],
   "source": [
    "# Broken Pipe, the connection times out so it has to be broken down to less updates (chunks of 100)\n",
    "for i in start:\n",
    "    features_for_update = createFeaturesForUpdate(flayer,  \n",
    "                                              gadm0[['MOL_ID','wdpa_mol_id']][i:i+25], \n",
    "                                              fields_to_be_added, \n",
    "                                              id_field_in_csv = \"MOL_ID\", \n",
    "                                              id_field_in_service = \"MOL_ID\")\n",
    "    flayer.edit_features(updates= features_for_update)\n",
    "    print(f'done {i}')\n",
    "    "
   ]
  },
  {
   "cell_type": "markdown",
   "metadata": {},
   "source": [
    "## WDPA data <a class=\"anchor\" id=\"third-bullet\"></a>"
   ]
  },
  {
   "cell_type": "code",
   "execution_count": 78,
   "metadata": {},
   "outputs": [],
   "source": [
    "### gadm tables\n",
    "## Original scott table (https://eowilson.maps.arcgis.com/home/item.html?id=ba1e71b5d83548808ee02d1108221cae)\n",
    "scott= gpd.read_file('zip:///Users/tamarahuete/Documents/HALF_EARTH/WDPA_FILTERED_20210615_FILTERED_nomarine_with_oecm_wdpa.zip')\n",
    "\n",
    "## Simplified wdpa table\n",
    "### Topojson, tolerance 0.05\n",
    "simple = gpd.read_file('/Users/tamarahuete/Documents/HALF_EARTH/wdpa_simple_topojson.shp')\n",
    "\n",
    "### gadm as raster area (from Scott's table)\n",
    "#gadmpix = pd.read_csv('../../HALF_EARTH/gadm1_polygon_to_raster.csv')"
   ]
  },
  {
   "cell_type": "markdown",
   "metadata": {},
   "source": [
    "#### - (WDPA) Format Biodiversity data"
   ]
  },
  {
   "cell_type": "code",
   "execution_count": 82,
   "metadata": {},
   "outputs": [],
   "source": [
    "### Use here simple gadm0 \n",
    "dff = scott[['NAME','MOL_ID','AREA_KM']] ## remove geometry here because it is the non-simplified table\n",
    "dff = dff.rename(columns={'AREA_KM':'AREA_KM2'})\n",
    "dff['reptiles']=np.nan\n",
    "dff['amphibians']=np.nan\n",
    "dff['mammals']=np.nan\n",
    "dff['birds']=np.nan\n",
    "\n",
    "paths = {'amphibians':'../../HALF_EARTH/wdpa_amphibians_sample_20211003_nozeros.zip',\n",
    "         'birds':'../../HALF_EARTH/wdpa_birds_final_20211003.csv',\n",
    "         'mammals':'../../HALF_EARTH/wdpa_mammals_final_20211003.csv',\n",
    "         'reptiles':'../../HALF_EARTH/wdpa_reptiles_final_20211003.zip'}\n",
    "\n",
    "### Ids of lookup tables for each taxa in ArcGIS online\n",
    "lookups = {'amphibians':'a641a4cd269345dea93b8bcb1cb66676',\n",
    "         'birds':'4d8698734b654bb9bb7a61d9af314c76',\n",
    "         'mammals':'84d3c71caf97479d85f620a4ee217d68',\n",
    "         'reptiles':'b720e84869624e5482b25338b27a54f2'}"
   ]
  },
  {
   "cell_type": "code",
   "execution_count": null,
   "metadata": {},
   "outputs": [],
   "source": [
    "### WARNING: THIS PROCESS TOOK FOREVER (OVER A WEEK WITH DISTRIBUTED NOTEBOOKS)\n",
    "### CONSIDER USING PANDARALLEL OR OTHER PARALLEL PROCESSING APPROACH IF THIS NEEDS TO BE REPEATED\n",
    "%%time\n",
    "### Loop over each set of data and add all results to one dictionary that will be a text field in the Feature Service\n",
    "for taxa in paths.keys():\n",
    "    print(taxa) \n",
    "    df = pd.read_csv(paths[taxa])\n",
    "    col_name = [col for col in df.columns if col in ['amphibians','birds','presence','reptiles']]\n",
    "    df.rename(columns={'SliceNumbe':'SliceNumber',col_name[0]:'SUM'}, inplace=True)\n",
    "    df = df.merge(scott[['MOL_ID','AREA_KM2']])\n",
    "    df['percentage_presence'] = round(df['SUM']/df['AREA_KM2']*100,2)\n",
    "    df.loc[df['percentage_presence']> 100,'percentage_presence'] = 100\n",
    "    for i in dff.MOL_ID:\n",
    "        species = []\n",
    "        for j in df[(df.MOL_ID== i)].SliceNumber.unique():\n",
    "            sp_dict = {'SliceNumber':df[(df.MOL_ID== i) & (df.SliceNumber==j)].SliceNumber.values[0].astype(float),\n",
    "                       'percentage_presence':df[(df.MOL_ID== i) & (df.SliceNumber==j)].percentage_presence.values[0]}\n",
    "            species.append(sp_dict)\n",
    "        dff.loc[dff['MOL_ID']==i,taxa] =json.dumps(species)\n",
    "        print(f'finished MOL_ID ={i}')\n",
    "pd.set_option('display.max_colwidth',None)\n",
    "test= pd.DataFrame(dff[dff.columns[~dff.columns.isin(['geometry'])]])\n",
    "test.to_csv(\"../../HALF_EARTH/wdpa_precalc_biodiv.csv\",index=False)\n",
    "pd.reset_option('display.max_colwidth')\n",
    "\n",
    "#### Don't export as shapefile because it truncates the string length"
   ]
  },
  {
   "cell_type": "code",
   "execution_count": null,
   "metadata": {},
   "outputs": [],
   "source": [
    "PARALLELIZE OPTION: See Nootebok: "
   ]
  },
  {
   "cell_type": "markdown",
   "metadata": {},
   "source": [
    "### Aggregate in a single file"
   ]
  },
  {
   "cell_type": "code",
   "execution_count": 2,
   "metadata": {},
   "outputs": [],
   "source": [
    "files={'reptiles':['wdpa_precalc_biodiv_range_reptiles_1.csv',\n",
    "                   'wdpa_precalc_biodiv_range_reptiles_2.csv'],\n",
    "       'mammals':['wdpa_precalc_biodiv_range_mammals_1.csv',\n",
    "                  'wdpa_precalc_biodiv_range_mammals_2.csv',\n",
    "                  'wdpa_precalc_biodiv_range_mammals_3.csv',\n",
    "                 'wdpa_precalc_biodiv_range_mammals_4.csv'],\n",
    "       'birds':['wdpa_precalc_biodiv_range_birds_1.csv',\n",
    "                'wdpa_precalc_biodiv_range_birds_2.csv'],\n",
    "      'amphibians':['wdpa_precalc_biodiv_range_amphibians_2.csv',\n",
    "                   'wdpa_precalc_biodiv_range_amphibians_3.csv',\n",
    "                   'wdpa_precalc_biodiv_range_amphibians_4.csv']}"
   ]
  },
  {
   "cell_type": "code",
   "execution_count": 3,
   "metadata": {},
   "outputs": [
    {
     "name": "stderr",
     "output_type": "stream",
     "text": [
      "/Users/tamarahuete/opt/anaconda3/lib/python3.7/site-packages/IPython/core/interactiveshell.py:3058: DtypeWarning: Columns (4) have mixed types.Specify dtype option on import or set low_memory=False.\n",
      "  interactivity=interactivity, compiler=compiler, result=result)\n"
     ]
    }
   ],
   "source": [
    "path = '../../HALF_EARTH/'\n",
    "amph= pd.read_csv(f'{path}wdpa_precalc_biodiv_range_amphibians_1.csv')"
   ]
  },
  {
   "cell_type": "code",
   "execution_count": 4,
   "metadata": {},
   "outputs": [
    {
     "data": {
      "text/html": [
       "<div>\n",
       "<style scoped>\n",
       "    .dataframe tbody tr th:only-of-type {\n",
       "        vertical-align: middle;\n",
       "    }\n",
       "\n",
       "    .dataframe tbody tr th {\n",
       "        vertical-align: top;\n",
       "    }\n",
       "\n",
       "    .dataframe thead th {\n",
       "        text-align: right;\n",
       "    }\n",
       "</style>\n",
       "<table border=\"1\" class=\"dataframe\">\n",
       "  <thead>\n",
       "    <tr style=\"text-align: right;\">\n",
       "      <th></th>\n",
       "      <th>NAME</th>\n",
       "      <th>MOL_ID</th>\n",
       "      <th>AREA_KM2</th>\n",
       "      <th>reptiles</th>\n",
       "      <th>amphibians</th>\n",
       "      <th>mammals</th>\n",
       "      <th>birds</th>\n",
       "    </tr>\n",
       "  </thead>\n",
       "  <tbody>\n",
       "    <tr>\n",
       "      <th>0</th>\n",
       "      <td>Boulder Beach</td>\n",
       "      <td>1</td>\n",
       "      <td>1.136031</td>\n",
       "      <td>NaN</td>\n",
       "      <td>[]</td>\n",
       "      <td>NaN</td>\n",
       "      <td>NaN</td>\n",
       "    </tr>\n",
       "    <tr>\n",
       "      <th>1</th>\n",
       "      <td>Ferndale</td>\n",
       "      <td>2</td>\n",
       "      <td>0.748492</td>\n",
       "      <td>NaN</td>\n",
       "      <td>[{\"SliceNumber\": 3318, \"per_global\": 0.0, \"per...</td>\n",
       "      <td>NaN</td>\n",
       "      <td>NaN</td>\n",
       "    </tr>\n",
       "    <tr>\n",
       "      <th>2</th>\n",
       "      <td>Broughton Bay</td>\n",
       "      <td>3</td>\n",
       "      <td>0.031907</td>\n",
       "      <td>NaN</td>\n",
       "      <td>[{\"SliceNumber\": 3318, \"per_global\": 0.0, \"per...</td>\n",
       "      <td>NaN</td>\n",
       "      <td>NaN</td>\n",
       "    </tr>\n",
       "    <tr>\n",
       "      <th>3</th>\n",
       "      <td>Kaipupu Point</td>\n",
       "      <td>4</td>\n",
       "      <td>0.270855</td>\n",
       "      <td>NaN</td>\n",
       "      <td>[{\"SliceNumber\": 3318, \"per_global\": 0.0, \"per...</td>\n",
       "      <td>NaN</td>\n",
       "      <td>NaN</td>\n",
       "    </tr>\n",
       "    <tr>\n",
       "      <th>4</th>\n",
       "      <td>Catlins Conservation Park</td>\n",
       "      <td>5</td>\n",
       "      <td>8.412168</td>\n",
       "      <td>NaN</td>\n",
       "      <td>[{\"SliceNumber\": 3318, \"per_global\": 0.0, \"per...</td>\n",
       "      <td>NaN</td>\n",
       "      <td>NaN</td>\n",
       "    </tr>\n",
       "  </tbody>\n",
       "</table>\n",
       "</div>"
      ],
      "text/plain": [
       "                        NAME  MOL_ID  AREA_KM2  reptiles  \\\n",
       "0              Boulder Beach       1  1.136031       NaN   \n",
       "1                   Ferndale       2  0.748492       NaN   \n",
       "2              Broughton Bay       3  0.031907       NaN   \n",
       "3              Kaipupu Point       4  0.270855       NaN   \n",
       "4  Catlins Conservation Park       5  8.412168       NaN   \n",
       "\n",
       "                                          amphibians  mammals  birds  \n",
       "0                                                 []      NaN    NaN  \n",
       "1  [{\"SliceNumber\": 3318, \"per_global\": 0.0, \"per...      NaN    NaN  \n",
       "2  [{\"SliceNumber\": 3318, \"per_global\": 0.0, \"per...      NaN    NaN  \n",
       "3  [{\"SliceNumber\": 3318, \"per_global\": 0.0, \"per...      NaN    NaN  \n",
       "4  [{\"SliceNumber\": 3318, \"per_global\": 0.0, \"per...      NaN    NaN  "
      ]
     },
     "execution_count": 4,
     "metadata": {},
     "output_type": "execute_result"
    }
   ],
   "source": [
    "amph.head()"
   ]
  },
  {
   "cell_type": "code",
   "execution_count": 6,
   "metadata": {},
   "outputs": [],
   "source": [
    "mam = pd.read_csv(f'{path}wdpa_precalc_biodiv_range_mammals_4.csv')"
   ]
  },
  {
   "cell_type": "code",
   "execution_count": 8,
   "metadata": {},
   "outputs": [
    {
     "data": {
      "text/html": [
       "<div>\n",
       "<style scoped>\n",
       "    .dataframe tbody tr th:only-of-type {\n",
       "        vertical-align: middle;\n",
       "    }\n",
       "\n",
       "    .dataframe tbody tr th {\n",
       "        vertical-align: top;\n",
       "    }\n",
       "\n",
       "    .dataframe thead th {\n",
       "        text-align: right;\n",
       "    }\n",
       "</style>\n",
       "<table border=\"1\" class=\"dataframe\">\n",
       "  <thead>\n",
       "    <tr style=\"text-align: right;\">\n",
       "      <th></th>\n",
       "      <th>NAME</th>\n",
       "      <th>MOL_ID</th>\n",
       "      <th>AREA_KM2</th>\n",
       "      <th>reptiles</th>\n",
       "      <th>amphibians</th>\n",
       "      <th>mammals</th>\n",
       "      <th>birds</th>\n",
       "    </tr>\n",
       "  </thead>\n",
       "  <tbody>\n",
       "    <tr>\n",
       "      <th>54366</th>\n",
       "      <td>Marine Reserve</td>\n",
       "      <td>217478.0</td>\n",
       "      <td>0.0</td>\n",
       "      <td>NaN</td>\n",
       "      <td>NaN</td>\n",
       "      <td>[]</td>\n",
       "      <td>NaN</td>\n",
       "    </tr>\n",
       "    <tr>\n",
       "      <th>54367</th>\n",
       "      <td>Marine Reserve</td>\n",
       "      <td>217479.0</td>\n",
       "      <td>0.0</td>\n",
       "      <td>NaN</td>\n",
       "      <td>NaN</td>\n",
       "      <td>[]</td>\n",
       "      <td>NaN</td>\n",
       "    </tr>\n",
       "    <tr>\n",
       "      <th>54368</th>\n",
       "      <td>Gata Fish Sanctuary</td>\n",
       "      <td>217480.0</td>\n",
       "      <td>0.0</td>\n",
       "      <td>NaN</td>\n",
       "      <td>NaN</td>\n",
       "      <td>[]</td>\n",
       "      <td>NaN</td>\n",
       "    </tr>\n",
       "    <tr>\n",
       "      <th>54369</th>\n",
       "      <td>Kabunwangan-Kinapsagan Fish Sanctuary</td>\n",
       "      <td>217481.0</td>\n",
       "      <td>0.0</td>\n",
       "      <td>NaN</td>\n",
       "      <td>NaN</td>\n",
       "      <td>[]</td>\n",
       "      <td>NaN</td>\n",
       "    </tr>\n",
       "    <tr>\n",
       "      <th>54370</th>\n",
       "      <td>Sablayan Fish Sanctuary</td>\n",
       "      <td>217482.0</td>\n",
       "      <td>0.0</td>\n",
       "      <td>NaN</td>\n",
       "      <td>NaN</td>\n",
       "      <td>[]</td>\n",
       "      <td>NaN</td>\n",
       "    </tr>\n",
       "  </tbody>\n",
       "</table>\n",
       "</div>"
      ],
      "text/plain": [
       "                                        NAME    MOL_ID  AREA_KM2  reptiles  \\\n",
       "54366                         Marine Reserve  217478.0       0.0       NaN   \n",
       "54367                         Marine Reserve  217479.0       0.0       NaN   \n",
       "54368                    Gata Fish Sanctuary  217480.0       0.0       NaN   \n",
       "54369  Kabunwangan-Kinapsagan Fish Sanctuary  217481.0       0.0       NaN   \n",
       "54370                Sablayan Fish Sanctuary  217482.0       0.0       NaN   \n",
       "\n",
       "       amphibians mammals  birds  \n",
       "54366         NaN      []    NaN  \n",
       "54367         NaN      []    NaN  \n",
       "54368         NaN      []    NaN  \n",
       "54369         NaN      []    NaN  \n",
       "54370         NaN      []    NaN  "
      ]
     },
     "execution_count": 8,
     "metadata": {},
     "output_type": "execute_result"
    }
   ],
   "source": [
    "mam.tail()"
   ]
  },
  {
   "cell_type": "code",
   "execution_count": 11,
   "metadata": {},
   "outputs": [
    {
     "name": "stdout",
     "output_type": "stream",
     "text": [
      "there are 217486 missing reptiles\n",
      "after joins, there are 0 missing reptiles\n",
      "there are 217486 missing mammals\n",
      "after joins, there are 0 missing mammals\n",
      "there are 217486 missing birds\n",
      "after joins, there are 217486 missing birds\n",
      "there are 152486 missing amphibians\n",
      "after joins, there are 0 missing amphibians\n"
     ]
    }
   ],
   "source": [
    "### Paste al together based on one of the files\n",
    "path = '../../HALF_EARTH/'\n",
    "amph= pd.read_csv(f'{path}wdpa_precalc_biodiv_range_amphibians_1.csv')\n",
    "amph.replace({'[]':np.nan},inplace=True)\n",
    "for taxa in files:\n",
    "    missing = amph[amph[taxa].isnull()].index.tolist()\n",
    "    print(f'there are {len(missing)} missing {taxa}')\n",
    "    for i in range(0,len(files[taxa])):\n",
    "        try:\n",
    "            df = pd.read_csv(path+files[taxa][i])\n",
    "        except:\n",
    "            continue \n",
    "        df.dropna(subset=[taxa],inplace=True)\n",
    "        m = df.set_index('MOL_ID')[taxa]\n",
    "        amph.loc[amph['MOL_ID'].isin(df['MOL_ID']),taxa] =amph['MOL_ID'].map(m)\n",
    "    \n",
    "    missing = amph[amph[taxa].isnull()].index.tolist()\n",
    "    print(f'after joins, there are {len(missing)} missing {taxa}')\n",
    "## replace '[]' in amphibians\n",
    "amph.replace({'amphibians':{np.nan:'[]'}},inplace=True) "
   ]
  },
  {
   "cell_type": "code",
   "execution_count": 90,
   "metadata": {},
   "outputs": [
    {
     "data": {
      "text/html": [
       "<div>\n",
       "<style scoped>\n",
       "    .dataframe tbody tr th:only-of-type {\n",
       "        vertical-align: middle;\n",
       "    }\n",
       "\n",
       "    .dataframe tbody tr th {\n",
       "        vertical-align: top;\n",
       "    }\n",
       "\n",
       "    .dataframe thead th {\n",
       "        text-align: right;\n",
       "    }\n",
       "</style>\n",
       "<table border=\"1\" class=\"dataframe\">\n",
       "  <thead>\n",
       "    <tr style=\"text-align: right;\">\n",
       "      <th></th>\n",
       "      <th>NAME</th>\n",
       "      <th>MOL_ID</th>\n",
       "      <th>AREA_KM2</th>\n",
       "      <th>reptiles</th>\n",
       "      <th>amphibians</th>\n",
       "      <th>mammals</th>\n",
       "      <th>birds</th>\n",
       "    </tr>\n",
       "  </thead>\n",
       "  <tbody>\n",
       "    <tr>\n",
       "      <th>0</th>\n",
       "      <td>Boulder Beach</td>\n",
       "      <td>1</td>\n",
       "      <td>1.136031</td>\n",
       "      <td>[]</td>\n",
       "      <td>[]</td>\n",
       "      <td>[{\"SliceNumber\": 303, \"per_global\": 0.0, \"per_...</td>\n",
       "      <td>NaN</td>\n",
       "    </tr>\n",
       "    <tr>\n",
       "      <th>1</th>\n",
       "      <td>Ferndale</td>\n",
       "      <td>2</td>\n",
       "      <td>0.748492</td>\n",
       "      <td>[{\"SliceNumber\": 6163, \"per_global\": 0.0, \"per...</td>\n",
       "      <td>[{\"SliceNumber\": 3318, \"per_global\": 0.0, \"per...</td>\n",
       "      <td>[{\"SliceNumber\": 303, \"per_global\": 0.0, \"per_...</td>\n",
       "      <td>NaN</td>\n",
       "    </tr>\n",
       "    <tr>\n",
       "      <th>2</th>\n",
       "      <td>Broughton Bay</td>\n",
       "      <td>3</td>\n",
       "      <td>0.031907</td>\n",
       "      <td>[{\"SliceNumber\": 6499, \"per_global\": 0.0, \"per...</td>\n",
       "      <td>[{\"SliceNumber\": 3318, \"per_global\": 0.0, \"per...</td>\n",
       "      <td>[{\"SliceNumber\": 303, \"per_global\": 0.0, \"per_...</td>\n",
       "      <td>NaN</td>\n",
       "    </tr>\n",
       "    <tr>\n",
       "      <th>3</th>\n",
       "      <td>Kaipupu Point</td>\n",
       "      <td>4</td>\n",
       "      <td>0.270855</td>\n",
       "      <td>[{\"SliceNumber\": 6163, \"per_global\": 0.0, \"per...</td>\n",
       "      <td>[{\"SliceNumber\": 3318, \"per_global\": 0.0, \"per...</td>\n",
       "      <td>[{\"SliceNumber\": 303, \"per_global\": 0.0, \"per_...</td>\n",
       "      <td>NaN</td>\n",
       "    </tr>\n",
       "    <tr>\n",
       "      <th>4</th>\n",
       "      <td>Catlins Conservation Park</td>\n",
       "      <td>5</td>\n",
       "      <td>8.412168</td>\n",
       "      <td>[{\"SliceNumber\": 6163, \"per_global\": 0.01, \"pe...</td>\n",
       "      <td>[{\"SliceNumber\": 3318, \"per_global\": 0.0, \"per...</td>\n",
       "      <td>[]</td>\n",
       "      <td>NaN</td>\n",
       "    </tr>\n",
       "  </tbody>\n",
       "</table>\n",
       "</div>"
      ],
      "text/plain": [
       "                        NAME  MOL_ID  AREA_KM2  \\\n",
       "0              Boulder Beach       1  1.136031   \n",
       "1                   Ferndale       2  0.748492   \n",
       "2              Broughton Bay       3  0.031907   \n",
       "3              Kaipupu Point       4  0.270855   \n",
       "4  Catlins Conservation Park       5  8.412168   \n",
       "\n",
       "                                            reptiles  \\\n",
       "0                                                 []   \n",
       "1  [{\"SliceNumber\": 6163, \"per_global\": 0.0, \"per...   \n",
       "2  [{\"SliceNumber\": 6499, \"per_global\": 0.0, \"per...   \n",
       "3  [{\"SliceNumber\": 6163, \"per_global\": 0.0, \"per...   \n",
       "4  [{\"SliceNumber\": 6163, \"per_global\": 0.01, \"pe...   \n",
       "\n",
       "                                          amphibians  \\\n",
       "0                                                 []   \n",
       "1  [{\"SliceNumber\": 3318, \"per_global\": 0.0, \"per...   \n",
       "2  [{\"SliceNumber\": 3318, \"per_global\": 0.0, \"per...   \n",
       "3  [{\"SliceNumber\": 3318, \"per_global\": 0.0, \"per...   \n",
       "4  [{\"SliceNumber\": 3318, \"per_global\": 0.0, \"per...   \n",
       "\n",
       "                                             mammals  birds  \n",
       "0  [{\"SliceNumber\": 303, \"per_global\": 0.0, \"per_...    NaN  \n",
       "1  [{\"SliceNumber\": 303, \"per_global\": 0.0, \"per_...    NaN  \n",
       "2  [{\"SliceNumber\": 303, \"per_global\": 0.0, \"per_...    NaN  \n",
       "3  [{\"SliceNumber\": 303, \"per_global\": 0.0, \"per_...    NaN  \n",
       "4                                                 []    NaN  "
      ]
     },
     "execution_count": 90,
     "metadata": {},
     "output_type": "execute_result"
    }
   ],
   "source": [
    "amph.head()"
   ]
  },
  {
   "cell_type": "code",
   "execution_count": 12,
   "metadata": {},
   "outputs": [],
   "source": [
    "amph.to_csv(\"../../HALF_EARTH/wdpa_precalc_biodiv_range_area_NOBIRDS.csv\")"
   ]
  },
  {
   "cell_type": "markdown",
   "metadata": {},
   "source": [
    "### Combine biodiversity and simplified geometries"
   ]
  },
  {
   "cell_type": "code",
   "execution_count": 246,
   "metadata": {},
   "outputs": [
    {
     "data": {
      "text/plain": [
       "297"
      ]
     },
     "execution_count": 246,
     "metadata": {},
     "output_type": "execute_result"
    }
   ],
   "source": [
    "len(scott)-len(simple) ### 297 records missing from the original layer (removed records with no geoemtries)"
   ]
  },
  {
   "cell_type": "code",
   "execution_count": 251,
   "metadata": {},
   "outputs": [
    {
     "data": {
      "text/html": [
       "<div>\n",
       "<style scoped>\n",
       "    .dataframe tbody tr th:only-of-type {\n",
       "        vertical-align: middle;\n",
       "    }\n",
       "\n",
       "    .dataframe tbody tr th {\n",
       "        vertical-align: top;\n",
       "    }\n",
       "\n",
       "    .dataframe thead th {\n",
       "        text-align: right;\n",
       "    }\n",
       "</style>\n",
       "<table border=\"1\" class=\"dataframe\">\n",
       "  <thead>\n",
       "    <tr style=\"text-align: right;\">\n",
       "      <th></th>\n",
       "      <th>WDPAID</th>\n",
       "      <th>WDPA_PID</th>\n",
       "      <th>PA_DEF</th>\n",
       "      <th>NAME</th>\n",
       "      <th>ORIG_NA</th>\n",
       "      <th>DESIG</th>\n",
       "      <th>DESIG_E</th>\n",
       "      <th>DESIG_T</th>\n",
       "      <th>IUCN_CA</th>\n",
       "      <th>INT_CRI</th>\n",
       "      <th>...</th>\n",
       "      <th>ISO3</th>\n",
       "      <th>SUPP_IN</th>\n",
       "      <th>CONS_OB</th>\n",
       "      <th>SORTER</th>\n",
       "      <th>WDPA_PID_h</th>\n",
       "      <th>WDPA_PID__</th>\n",
       "      <th>hash_vl</th>\n",
       "      <th>AREA_KM</th>\n",
       "      <th>MOL_ID</th>\n",
       "      <th>geometry</th>\n",
       "    </tr>\n",
       "  </thead>\n",
       "  <tbody>\n",
       "    <tr>\n",
       "      <th>0</th>\n",
       "      <td>555622117.0</td>\n",
       "      <td>555622117</td>\n",
       "      <td>1</td>\n",
       "      <td>Centre Hills</td>\n",
       "      <td>Centre Hills</td>\n",
       "      <td>Protected Forest</td>\n",
       "      <td>Protected Forest</td>\n",
       "      <td>National</td>\n",
       "      <td>VI</td>\n",
       "      <td>Not Applicable</td>\n",
       "      <td>...</td>\n",
       "      <td>MSR</td>\n",
       "      <td>Not Applicable</td>\n",
       "      <td>Not Applicable</td>\n",
       "      <td>0.0</td>\n",
       "      <td>77a6c0f9</td>\n",
       "      <td>1185435043</td>\n",
       "      <td>1185435043</td>\n",
       "      <td>11.119859</td>\n",
       "      <td>194938</td>\n",
       "      <td>POLYGON ((-62.17871 16.76841, -62.18096 16.745...</td>\n",
       "    </tr>\n",
       "    <tr>\n",
       "      <th>1</th>\n",
       "      <td>643.0</td>\n",
       "      <td>643</td>\n",
       "      <td>1</td>\n",
       "      <td>Odzala Kokoua</td>\n",
       "      <td>Odzala Kokoua</td>\n",
       "      <td>Parc National</td>\n",
       "      <td>National Park</td>\n",
       "      <td>National</td>\n",
       "      <td>II</td>\n",
       "      <td>Not Applicable</td>\n",
       "      <td>...</td>\n",
       "      <td>COG</td>\n",
       "      <td>Not Applicable</td>\n",
       "      <td>Not Applicable</td>\n",
       "      <td>0.0</td>\n",
       "      <td>2fb5e85a</td>\n",
       "      <td>-719853802</td>\n",
       "      <td>-719853802</td>\n",
       "      <td>13603.549516</td>\n",
       "      <td>32844</td>\n",
       "      <td>POLYGON ((15.34540 0.69102, 15.34984 0.47770, ...</td>\n",
       "    </tr>\n",
       "    <tr>\n",
       "      <th>2</th>\n",
       "      <td>354009.0</td>\n",
       "      <td>354009</td>\n",
       "      <td>1</td>\n",
       "      <td>Patte d'Oie</td>\n",
       "      <td>Patte d'Oie</td>\n",
       "      <td>Réserve de Forêt</td>\n",
       "      <td>Forest Reserve</td>\n",
       "      <td>National</td>\n",
       "      <td>Not Reported</td>\n",
       "      <td>Not Applicable</td>\n",
       "      <td>...</td>\n",
       "      <td>COG</td>\n",
       "      <td>Not Applicable</td>\n",
       "      <td>Not Applicable</td>\n",
       "      <td>0.0</td>\n",
       "      <td>b6af608f</td>\n",
       "      <td>-475696095</td>\n",
       "      <td>-475696095</td>\n",
       "      <td>0.832384</td>\n",
       "      <td>33448</td>\n",
       "      <td>MULTIPOLYGON (((15.25375 -4.26892, 15.25377 -4...</td>\n",
       "    </tr>\n",
       "    <tr>\n",
       "      <th>3</th>\n",
       "      <td>2266.0</td>\n",
       "      <td>2266</td>\n",
       "      <td>1</td>\n",
       "      <td>Léfini</td>\n",
       "      <td>Léfini</td>\n",
       "      <td>Réserve de Faune</td>\n",
       "      <td>Wildlife Reserve</td>\n",
       "      <td>National</td>\n",
       "      <td>IV</td>\n",
       "      <td>Not Applicable</td>\n",
       "      <td>...</td>\n",
       "      <td>COG</td>\n",
       "      <td>Not Applicable</td>\n",
       "      <td>Not Applicable</td>\n",
       "      <td>0.0</td>\n",
       "      <td>6c9f9cb6</td>\n",
       "      <td>687565067</td>\n",
       "      <td>687565067</td>\n",
       "      <td>3497.795378</td>\n",
       "      <td>35527</td>\n",
       "      <td>POLYGON ((15.52455 -3.07424, 15.52451 -3.07401...</td>\n",
       "    </tr>\n",
       "    <tr>\n",
       "      <th>4</th>\n",
       "      <td>555571316.0</td>\n",
       "      <td>555571316</td>\n",
       "      <td>1</td>\n",
       "      <td>Mont Mavoumbou</td>\n",
       "      <td>Mont Mavoumbou</td>\n",
       "      <td>Domaine de Chasse</td>\n",
       "      <td>Hunting Area</td>\n",
       "      <td>National</td>\n",
       "      <td>Not Reported</td>\n",
       "      <td>Not Applicable</td>\n",
       "      <td>...</td>\n",
       "      <td>COG</td>\n",
       "      <td>Not Applicable</td>\n",
       "      <td>Not Applicable</td>\n",
       "      <td>0.0</td>\n",
       "      <td>9a2dc388</td>\n",
       "      <td>-1335579272</td>\n",
       "      <td>-1335579272</td>\n",
       "      <td>228.702786</td>\n",
       "      <td>37298</td>\n",
       "      <td>POLYGON ((11.74125 -2.77998, 11.85915 -2.88393...</td>\n",
       "    </tr>\n",
       "  </tbody>\n",
       "</table>\n",
       "<p>5 rows × 37 columns</p>\n",
       "</div>"
      ],
      "text/plain": [
       "        WDPAID   WDPA_PID PA_DEF            NAME         ORIG_NA  \\\n",
       "0  555622117.0  555622117      1    Centre Hills    Centre Hills   \n",
       "1        643.0        643      1   Odzala Kokoua   Odzala Kokoua   \n",
       "2     354009.0     354009      1     Patte d'Oie     Patte d'Oie   \n",
       "3       2266.0       2266      1          Léfini          Léfini   \n",
       "4  555571316.0  555571316      1  Mont Mavoumbou  Mont Mavoumbou   \n",
       "\n",
       "               DESIG           DESIG_E   DESIG_T       IUCN_CA  \\\n",
       "0   Protected Forest  Protected Forest  National            VI   \n",
       "1      Parc National     National Park  National            II   \n",
       "2   Réserve de Forêt    Forest Reserve  National  Not Reported   \n",
       "3   Réserve de Faune  Wildlife Reserve  National            IV   \n",
       "4  Domaine de Chasse      Hunting Area  National  Not Reported   \n",
       "\n",
       "          INT_CRI  ... ISO3         SUPP_IN         CONS_OB  SORTER  \\\n",
       "0  Not Applicable  ...  MSR  Not Applicable  Not Applicable     0.0   \n",
       "1  Not Applicable  ...  COG  Not Applicable  Not Applicable     0.0   \n",
       "2  Not Applicable  ...  COG  Not Applicable  Not Applicable     0.0   \n",
       "3  Not Applicable  ...  COG  Not Applicable  Not Applicable     0.0   \n",
       "4  Not Applicable  ...  COG  Not Applicable  Not Applicable     0.0   \n",
       "\n",
       "   WDPA_PID_h  WDPA_PID__     hash_vl       AREA_KM  MOL_ID  \\\n",
       "0    77a6c0f9  1185435043  1185435043     11.119859  194938   \n",
       "1    2fb5e85a  -719853802  -719853802  13603.549516   32844   \n",
       "2    b6af608f  -475696095  -475696095      0.832384   33448   \n",
       "3    6c9f9cb6   687565067   687565067   3497.795378   35527   \n",
       "4    9a2dc388 -1335579272 -1335579272    228.702786   37298   \n",
       "\n",
       "                                            geometry  \n",
       "0  POLYGON ((-62.17871 16.76841, -62.18096 16.745...  \n",
       "1  POLYGON ((15.34540 0.69102, 15.34984 0.47770, ...  \n",
       "2  MULTIPOLYGON (((15.25375 -4.26892, 15.25377 -4...  \n",
       "3  POLYGON ((15.52455 -3.07424, 15.52451 -3.07401...  \n",
       "4  POLYGON ((11.74125 -2.77998, 11.85915 -2.88393...  \n",
       "\n",
       "[5 rows x 37 columns]"
      ]
     },
     "execution_count": 251,
     "metadata": {},
     "output_type": "execute_result"
    }
   ],
   "source": [
    "simple.head()"
   ]
  },
  {
   "cell_type": "code",
   "execution_count": 254,
   "metadata": {},
   "outputs": [
    {
     "data": {
      "text/plain": [
       "Index(['WDPAID', 'WDPA_PID', 'PA_DEF', 'NAME', 'ORIG_NA', 'DESIG', 'DESIG_E',\n",
       "       'DESIG_T', 'IUCN_CA', 'INT_CRI', 'MARINE', 'REP_M_A', 'GIS_M_A',\n",
       "       'REP_ARE', 'GIS_ARE', 'NO_TAKE', 'NO_TK_A', 'STATUS', 'STATUS_',\n",
       "       'GOV_TYP', 'OWN_TYP', 'MANG_AU', 'MANG_PL', 'VERIF', 'METADAT',\n",
       "       'SUB_LOC', 'PARENT_', 'ISO3', 'SUPP_IN', 'CONS_OB', 'SORTER',\n",
       "       'WDPA_PID_h', 'WDPA_PID__', 'hash_vl', 'AREA_KM', 'MOL_ID', 'geometry'],\n",
       "      dtype='object')"
      ]
     },
     "execution_count": 254,
     "metadata": {},
     "output_type": "execute_result"
    }
   ],
   "source": [
    "simple.columns"
   ]
  },
  {
   "cell_type": "code",
   "execution_count": 256,
   "metadata": {},
   "outputs": [],
   "source": [
    "simple_biodiv =dff.merge(simple[['MOL_ID','geometry','DESIG','DESIG_E','IUCN_CA','ISO3','WDPA_PID','AREA_KM']],on ='MOL_ID',how='right')"
   ]
  },
  {
   "cell_type": "code",
   "execution_count": 257,
   "metadata": {},
   "outputs": [
    {
     "data": {
      "text/plain": [
       "217189"
      ]
     },
     "execution_count": 257,
     "metadata": {},
     "output_type": "execute_result"
    }
   ],
   "source": [
    "len(simple_biodiv)"
   ]
  },
  {
   "cell_type": "code",
   "execution_count": 258,
   "metadata": {},
   "outputs": [
    {
     "data": {
      "text/html": [
       "<div>\n",
       "<style scoped>\n",
       "    .dataframe tbody tr th:only-of-type {\n",
       "        vertical-align: middle;\n",
       "    }\n",
       "\n",
       "    .dataframe tbody tr th {\n",
       "        vertical-align: top;\n",
       "    }\n",
       "\n",
       "    .dataframe thead th {\n",
       "        text-align: right;\n",
       "    }\n",
       "</style>\n",
       "<table border=\"1\" class=\"dataframe\">\n",
       "  <thead>\n",
       "    <tr style=\"text-align: right;\">\n",
       "      <th></th>\n",
       "      <th>NAME</th>\n",
       "      <th>MOL_ID</th>\n",
       "      <th>reptiles</th>\n",
       "      <th>amphibians</th>\n",
       "      <th>mammals</th>\n",
       "      <th>birds</th>\n",
       "      <th>geometry</th>\n",
       "      <th>DESIG</th>\n",
       "      <th>DESIG_E</th>\n",
       "      <th>IUCN_CA</th>\n",
       "      <th>ISO3</th>\n",
       "      <th>WDPA_PID</th>\n",
       "      <th>AREA_KM</th>\n",
       "    </tr>\n",
       "  </thead>\n",
       "  <tbody>\n",
       "    <tr>\n",
       "      <th>0</th>\n",
       "      <td>Boulder Beach</td>\n",
       "      <td>1</td>\n",
       "      <td>[]</td>\n",
       "      <td>[]</td>\n",
       "      <td>[{\"SliceNumber\": 303.0, \"percentage_presence\":...</td>\n",
       "      <td>[{\"SliceNumber\": 482.0, \"percentage_presence\":...</td>\n",
       "      <td>MULTIPOLYGON (((170.62746 -45.89520, 170.63025...</td>\n",
       "      <td>Stewardship Area</td>\n",
       "      <td>Stewardship Area</td>\n",
       "      <td>III</td>\n",
       "      <td>NZL</td>\n",
       "      <td>310492</td>\n",
       "      <td>1.136031</td>\n",
       "    </tr>\n",
       "    <tr>\n",
       "      <th>1</th>\n",
       "      <td>Ferndale</td>\n",
       "      <td>2</td>\n",
       "      <td>[{\"SliceNumber\": 6163.0, \"percentage_presence\"...</td>\n",
       "      <td>[{\"SliceNumber\": 3318.0, \"percentage_presence\"...</td>\n",
       "      <td>[{\"SliceNumber\": 303.0, \"percentage_presence\":...</td>\n",
       "      <td>[{\"SliceNumber\": 8.0, \"percentage_presence\": 0...</td>\n",
       "      <td>POLYGON ((173.97642 -41.19258, 173.96741 -41.1...</td>\n",
       "      <td>Scenic Reserve</td>\n",
       "      <td>Scenic Reserve</td>\n",
       "      <td>III</td>\n",
       "      <td>NZL</td>\n",
       "      <td>307797</td>\n",
       "      <td>0.748492</td>\n",
       "    </tr>\n",
       "    <tr>\n",
       "      <th>2</th>\n",
       "      <td>Broughton Bay</td>\n",
       "      <td>3</td>\n",
       "      <td>[{\"SliceNumber\": 6499.0, \"percentage_presence\"...</td>\n",
       "      <td>[{\"SliceNumber\": 3318.0, \"percentage_presence\"...</td>\n",
       "      <td>[{\"SliceNumber\": 303.0, \"percentage_presence\":...</td>\n",
       "      <td>[{\"SliceNumber\": 1847.0, \"percentage_presence\"...</td>\n",
       "      <td>POLYGON ((173.95691 -41.20976, 173.95513 -41.2...</td>\n",
       "      <td>Scenic Reserve</td>\n",
       "      <td>Scenic Reserve</td>\n",
       "      <td>III</td>\n",
       "      <td>NZL</td>\n",
       "      <td>307745</td>\n",
       "      <td>0.031907</td>\n",
       "    </tr>\n",
       "    <tr>\n",
       "      <th>3</th>\n",
       "      <td>Kaipupu Point</td>\n",
       "      <td>4</td>\n",
       "      <td>[{\"SliceNumber\": 6163.0, \"percentage_presence\"...</td>\n",
       "      <td>[{\"SliceNumber\": 3318.0, \"percentage_presence\"...</td>\n",
       "      <td>[{\"SliceNumber\": 303.0, \"percentage_presence\":...</td>\n",
       "      <td>[{\"SliceNumber\": 8.0, \"percentage_presence\": 1...</td>\n",
       "      <td>POLYGON ((174.00241 -41.27336, 174.00885 -41.2...</td>\n",
       "      <td>Scenic Reserve</td>\n",
       "      <td>Scenic Reserve</td>\n",
       "      <td>III</td>\n",
       "      <td>NZL</td>\n",
       "      <td>307867</td>\n",
       "      <td>0.270855</td>\n",
       "    </tr>\n",
       "    <tr>\n",
       "      <th>4</th>\n",
       "      <td>Catlins Conservation Park</td>\n",
       "      <td>5</td>\n",
       "      <td>[{\"SliceNumber\": 6163.0, \"percentage_presence\"...</td>\n",
       "      <td>[{\"SliceNumber\": 3318.0, \"percentage_presence\"...</td>\n",
       "      <td>[]</td>\n",
       "      <td>[{\"SliceNumber\": 8.0, \"percentage_presence\": 1...</td>\n",
       "      <td>MULTIPOLYGON (((169.30645 -46.57949, 169.30754...</td>\n",
       "      <td>Stewardship Area</td>\n",
       "      <td>Stewardship Area</td>\n",
       "      <td>III</td>\n",
       "      <td>NZL</td>\n",
       "      <td>303963</td>\n",
       "      <td>8.412168</td>\n",
       "    </tr>\n",
       "  </tbody>\n",
       "</table>\n",
       "</div>"
      ],
      "text/plain": [
       "                        NAME  MOL_ID  \\\n",
       "0              Boulder Beach       1   \n",
       "1                   Ferndale       2   \n",
       "2              Broughton Bay       3   \n",
       "3              Kaipupu Point       4   \n",
       "4  Catlins Conservation Park       5   \n",
       "\n",
       "                                            reptiles  \\\n",
       "0                                                 []   \n",
       "1  [{\"SliceNumber\": 6163.0, \"percentage_presence\"...   \n",
       "2  [{\"SliceNumber\": 6499.0, \"percentage_presence\"...   \n",
       "3  [{\"SliceNumber\": 6163.0, \"percentage_presence\"...   \n",
       "4  [{\"SliceNumber\": 6163.0, \"percentage_presence\"...   \n",
       "\n",
       "                                          amphibians  \\\n",
       "0                                                 []   \n",
       "1  [{\"SliceNumber\": 3318.0, \"percentage_presence\"...   \n",
       "2  [{\"SliceNumber\": 3318.0, \"percentage_presence\"...   \n",
       "3  [{\"SliceNumber\": 3318.0, \"percentage_presence\"...   \n",
       "4  [{\"SliceNumber\": 3318.0, \"percentage_presence\"...   \n",
       "\n",
       "                                             mammals  \\\n",
       "0  [{\"SliceNumber\": 303.0, \"percentage_presence\":...   \n",
       "1  [{\"SliceNumber\": 303.0, \"percentage_presence\":...   \n",
       "2  [{\"SliceNumber\": 303.0, \"percentage_presence\":...   \n",
       "3  [{\"SliceNumber\": 303.0, \"percentage_presence\":...   \n",
       "4                                                 []   \n",
       "\n",
       "                                               birds  \\\n",
       "0  [{\"SliceNumber\": 482.0, \"percentage_presence\":...   \n",
       "1  [{\"SliceNumber\": 8.0, \"percentage_presence\": 0...   \n",
       "2  [{\"SliceNumber\": 1847.0, \"percentage_presence\"...   \n",
       "3  [{\"SliceNumber\": 8.0, \"percentage_presence\": 1...   \n",
       "4  [{\"SliceNumber\": 8.0, \"percentage_presence\": 1...   \n",
       "\n",
       "                                            geometry             DESIG  \\\n",
       "0  MULTIPOLYGON (((170.62746 -45.89520, 170.63025...  Stewardship Area   \n",
       "1  POLYGON ((173.97642 -41.19258, 173.96741 -41.1...    Scenic Reserve   \n",
       "2  POLYGON ((173.95691 -41.20976, 173.95513 -41.2...    Scenic Reserve   \n",
       "3  POLYGON ((174.00241 -41.27336, 174.00885 -41.2...    Scenic Reserve   \n",
       "4  MULTIPOLYGON (((169.30645 -46.57949, 169.30754...  Stewardship Area   \n",
       "\n",
       "            DESIG_E IUCN_CA ISO3 WDPA_PID   AREA_KM  \n",
       "0  Stewardship Area     III  NZL   310492  1.136031  \n",
       "1    Scenic Reserve     III  NZL   307797  0.748492  \n",
       "2    Scenic Reserve     III  NZL   307745  0.031907  \n",
       "3    Scenic Reserve     III  NZL   307867  0.270855  \n",
       "4  Stewardship Area     III  NZL   303963  8.412168  "
      ]
     },
     "execution_count": 258,
     "metadata": {},
     "output_type": "execute_result"
    }
   ],
   "source": [
    "simple_biodiv.head()"
   ]
  },
  {
   "cell_type": "code",
   "execution_count": 262,
   "metadata": {},
   "outputs": [],
   "source": [
    "### Save full version as geojson\n",
    "gdf = gpd.GeoDataFrame(simple_biodiv, geometry=simple_biodiv.geometry)\n",
    "gdf.to_file('../../HALF_EARTH/biodiv_precalc_wdpa.geojson',driver='GeoJSON') ## 380 MB and the limit is 100 MB"
   ]
  },
  {
   "cell_type": "markdown",
   "metadata": {},
   "source": [
    "### Merge with contextual precalculated data"
   ]
  },
  {
   "cell_type": "code",
   "execution_count": 230,
   "metadata": {},
   "outputs": [],
   "source": [
    "elu = pd.read_csv(\"../../HALF_EARTH/ZonalSt_Majority_ELU.csv\")\n",
    "elu_lookup= pd.read_csv(\"../../HALF_EARTH/ecosytem_categories_lookup.zip\")\n",
    "pop = pd.read_csv(\"../../HALF_EARTH/ZonalSt_sum_pop.csv\")\n",
    "le = pd.read_csv(\"../../HALF_EARTH/ZonalStat_LE_MOLID.csv\")"
   ]
  },
  {
   "cell_type": "code",
   "execution_count": 215,
   "metadata": {},
   "outputs": [
    {
     "data": {
      "text/html": [
       "<div>\n",
       "<style scoped>\n",
       "    .dataframe tbody tr th:only-of-type {\n",
       "        vertical-align: middle;\n",
       "    }\n",
       "\n",
       "    .dataframe tbody tr th {\n",
       "        vertical-align: top;\n",
       "    }\n",
       "\n",
       "    .dataframe thead th {\n",
       "        text-align: right;\n",
       "    }\n",
       "</style>\n",
       "<table border=\"1\" class=\"dataframe\">\n",
       "  <thead>\n",
       "    <tr style=\"text-align: right;\">\n",
       "      <th></th>\n",
       "      <th>NAME</th>\n",
       "      <th>MOL_ID</th>\n",
       "      <th>AREA_KM</th>\n",
       "      <th>reptiles</th>\n",
       "      <th>amphibians</th>\n",
       "      <th>mammals</th>\n",
       "      <th>birds</th>\n",
       "      <th>population_sum</th>\n",
       "    </tr>\n",
       "  </thead>\n",
       "  <tbody>\n",
       "    <tr>\n",
       "      <th>0</th>\n",
       "      <td>Boulder Beach</td>\n",
       "      <td>1</td>\n",
       "      <td>1.136031</td>\n",
       "      <td>[]</td>\n",
       "      <td>[]</td>\n",
       "      <td>[{\"SliceNumber\": 303.0, \"percentage_presence\":...</td>\n",
       "      <td>[{\"SliceNumber\": 482.0, \"percentage_presence\":...</td>\n",
       "      <td>2.110001</td>\n",
       "    </tr>\n",
       "    <tr>\n",
       "      <th>1</th>\n",
       "      <td>Ferndale</td>\n",
       "      <td>2</td>\n",
       "      <td>0.748492</td>\n",
       "      <td>[{\"SliceNumber\": 6163.0, \"percentage_presence\"...</td>\n",
       "      <td>[{\"SliceNumber\": 3318.0, \"percentage_presence\"...</td>\n",
       "      <td>[{\"SliceNumber\": 303.0, \"percentage_presence\":...</td>\n",
       "      <td>[{\"SliceNumber\": 8.0, \"percentage_presence\": 1...</td>\n",
       "      <td>1.315837</td>\n",
       "    </tr>\n",
       "    <tr>\n",
       "      <th>2</th>\n",
       "      <td>Broughton Bay</td>\n",
       "      <td>3</td>\n",
       "      <td>0.031907</td>\n",
       "      <td>[{\"SliceNumber\": 6499.0, \"percentage_presence\"...</td>\n",
       "      <td>[{\"SliceNumber\": 3318.0, \"percentage_presence\"...</td>\n",
       "      <td>[{\"SliceNumber\": 303.0, \"percentage_presence\":...</td>\n",
       "      <td>[{\"SliceNumber\": 1847.0, \"percentage_presence\"...</td>\n",
       "      <td>NaN</td>\n",
       "    </tr>\n",
       "    <tr>\n",
       "      <th>3</th>\n",
       "      <td>Kaipupu Point</td>\n",
       "      <td>4</td>\n",
       "      <td>0.270855</td>\n",
       "      <td>[{\"SliceNumber\": 6163.0, \"percentage_presence\"...</td>\n",
       "      <td>[{\"SliceNumber\": 3318.0, \"percentage_presence\"...</td>\n",
       "      <td>[{\"SliceNumber\": 303.0, \"percentage_presence\":...</td>\n",
       "      <td>[{\"SliceNumber\": 8.0, \"percentage_presence\": 1...</td>\n",
       "      <td>NaN</td>\n",
       "    </tr>\n",
       "    <tr>\n",
       "      <th>4</th>\n",
       "      <td>Catlins Conservation Park</td>\n",
       "      <td>5</td>\n",
       "      <td>8.412168</td>\n",
       "      <td>[{\"SliceNumber\": 6163.0, \"percentage_presence\"...</td>\n",
       "      <td>[{\"SliceNumber\": 3318.0, \"percentage_presence\"...</td>\n",
       "      <td>[]</td>\n",
       "      <td>[{\"SliceNumber\": 8.0, \"percentage_presence\": 1...</td>\n",
       "      <td>3.103363</td>\n",
       "    </tr>\n",
       "  </tbody>\n",
       "</table>\n",
       "</div>"
      ],
      "text/plain": [
       "                        NAME  MOL_ID   AREA_KM  \\\n",
       "0              Boulder Beach       1  1.136031   \n",
       "1                   Ferndale       2  0.748492   \n",
       "2              Broughton Bay       3  0.031907   \n",
       "3              Kaipupu Point       4  0.270855   \n",
       "4  Catlins Conservation Park       5  8.412168   \n",
       "\n",
       "                                            reptiles  \\\n",
       "0                                                 []   \n",
       "1  [{\"SliceNumber\": 6163.0, \"percentage_presence\"...   \n",
       "2  [{\"SliceNumber\": 6499.0, \"percentage_presence\"...   \n",
       "3  [{\"SliceNumber\": 6163.0, \"percentage_presence\"...   \n",
       "4  [{\"SliceNumber\": 6163.0, \"percentage_presence\"...   \n",
       "\n",
       "                                          amphibians  \\\n",
       "0                                                 []   \n",
       "1  [{\"SliceNumber\": 3318.0, \"percentage_presence\"...   \n",
       "2  [{\"SliceNumber\": 3318.0, \"percentage_presence\"...   \n",
       "3  [{\"SliceNumber\": 3318.0, \"percentage_presence\"...   \n",
       "4  [{\"SliceNumber\": 3318.0, \"percentage_presence\"...   \n",
       "\n",
       "                                             mammals  \\\n",
       "0  [{\"SliceNumber\": 303.0, \"percentage_presence\":...   \n",
       "1  [{\"SliceNumber\": 303.0, \"percentage_presence\":...   \n",
       "2  [{\"SliceNumber\": 303.0, \"percentage_presence\":...   \n",
       "3  [{\"SliceNumber\": 303.0, \"percentage_presence\":...   \n",
       "4                                                 []   \n",
       "\n",
       "                                               birds  population_sum  \n",
       "0  [{\"SliceNumber\": 482.0, \"percentage_presence\":...        2.110001  \n",
       "1  [{\"SliceNumber\": 8.0, \"percentage_presence\": 1...        1.315837  \n",
       "2  [{\"SliceNumber\": 1847.0, \"percentage_presence\"...             NaN  \n",
       "3  [{\"SliceNumber\": 8.0, \"percentage_presence\": 1...             NaN  \n",
       "4  [{\"SliceNumber\": 8.0, \"percentage_presence\": 1...        3.103363  "
      ]
     },
     "execution_count": 215,
     "metadata": {},
     "output_type": "execute_result"
    }
   ],
   "source": [
    "### POPULATION\n",
    "pop.rename(columns={'SUM':'population_sum'},inplace=True)\n",
    "dff = dff.merge(pop[['MOL_ID','population_sum']],how='left',on='MOL_ID')\n",
    "dff.head()"
   ]
  },
  {
   "cell_type": "code",
   "execution_count": 216,
   "metadata": {},
   "outputs": [
    {
     "data": {
      "text/html": [
       "<div>\n",
       "<style scoped>\n",
       "    .dataframe tbody tr th:only-of-type {\n",
       "        vertical-align: middle;\n",
       "    }\n",
       "\n",
       "    .dataframe tbody tr th {\n",
       "        vertical-align: top;\n",
       "    }\n",
       "\n",
       "    .dataframe thead th {\n",
       "        text-align: right;\n",
       "    }\n",
       "</style>\n",
       "<table border=\"1\" class=\"dataframe\">\n",
       "  <thead>\n",
       "    <tr style=\"text-align: right;\">\n",
       "      <th></th>\n",
       "      <th>NAME</th>\n",
       "      <th>MOL_ID</th>\n",
       "      <th>AREA_KM</th>\n",
       "      <th>reptiles</th>\n",
       "      <th>amphibians</th>\n",
       "      <th>mammals</th>\n",
       "      <th>birds</th>\n",
       "      <th>population_sum</th>\n",
       "      <th>majority_land_cover_climate_regime</th>\n",
       "    </tr>\n",
       "  </thead>\n",
       "  <tbody>\n",
       "    <tr>\n",
       "      <th>0</th>\n",
       "      <td>Boulder Beach</td>\n",
       "      <td>1</td>\n",
       "      <td>1.136031</td>\n",
       "      <td>[]</td>\n",
       "      <td>[]</td>\n",
       "      <td>[{\"SliceNumber\": 303.0, \"percentage_presence\":...</td>\n",
       "      <td>[{\"SliceNumber\": 482.0, \"percentage_presence\":...</td>\n",
       "      <td>2.110001</td>\n",
       "      <td>107.0</td>\n",
       "    </tr>\n",
       "    <tr>\n",
       "      <th>1</th>\n",
       "      <td>Ferndale</td>\n",
       "      <td>2</td>\n",
       "      <td>0.748492</td>\n",
       "      <td>[{\"SliceNumber\": 6163.0, \"percentage_presence\"...</td>\n",
       "      <td>[{\"SliceNumber\": 3318.0, \"percentage_presence\"...</td>\n",
       "      <td>[{\"SliceNumber\": 303.0, \"percentage_presence\":...</td>\n",
       "      <td>[{\"SliceNumber\": 8.0, \"percentage_presence\": 1...</td>\n",
       "      <td>1.315837</td>\n",
       "      <td>176.0</td>\n",
       "    </tr>\n",
       "    <tr>\n",
       "      <th>2</th>\n",
       "      <td>Broughton Bay</td>\n",
       "      <td>3</td>\n",
       "      <td>0.031907</td>\n",
       "      <td>[{\"SliceNumber\": 6499.0, \"percentage_presence\"...</td>\n",
       "      <td>[{\"SliceNumber\": 3318.0, \"percentage_presence\"...</td>\n",
       "      <td>[{\"SliceNumber\": 303.0, \"percentage_presence\":...</td>\n",
       "      <td>[{\"SliceNumber\": 1847.0, \"percentage_presence\"...</td>\n",
       "      <td>NaN</td>\n",
       "      <td>NaN</td>\n",
       "    </tr>\n",
       "    <tr>\n",
       "      <th>3</th>\n",
       "      <td>Kaipupu Point</td>\n",
       "      <td>4</td>\n",
       "      <td>0.270855</td>\n",
       "      <td>[{\"SliceNumber\": 6163.0, \"percentage_presence\"...</td>\n",
       "      <td>[{\"SliceNumber\": 3318.0, \"percentage_presence\"...</td>\n",
       "      <td>[{\"SliceNumber\": 303.0, \"percentage_presence\":...</td>\n",
       "      <td>[{\"SliceNumber\": 8.0, \"percentage_presence\": 1...</td>\n",
       "      <td>NaN</td>\n",
       "      <td>NaN</td>\n",
       "    </tr>\n",
       "    <tr>\n",
       "      <th>4</th>\n",
       "      <td>Catlins Conservation Park</td>\n",
       "      <td>5</td>\n",
       "      <td>8.412168</td>\n",
       "      <td>[{\"SliceNumber\": 6163.0, \"percentage_presence\"...</td>\n",
       "      <td>[{\"SliceNumber\": 3318.0, \"percentage_presence\"...</td>\n",
       "      <td>[]</td>\n",
       "      <td>[{\"SliceNumber\": 8.0, \"percentage_presence\": 1...</td>\n",
       "      <td>3.103363</td>\n",
       "      <td>97.0</td>\n",
       "    </tr>\n",
       "  </tbody>\n",
       "</table>\n",
       "</div>"
      ],
      "text/plain": [
       "                        NAME  MOL_ID   AREA_KM  \\\n",
       "0              Boulder Beach       1  1.136031   \n",
       "1                   Ferndale       2  0.748492   \n",
       "2              Broughton Bay       3  0.031907   \n",
       "3              Kaipupu Point       4  0.270855   \n",
       "4  Catlins Conservation Park       5  8.412168   \n",
       "\n",
       "                                            reptiles  \\\n",
       "0                                                 []   \n",
       "1  [{\"SliceNumber\": 6163.0, \"percentage_presence\"...   \n",
       "2  [{\"SliceNumber\": 6499.0, \"percentage_presence\"...   \n",
       "3  [{\"SliceNumber\": 6163.0, \"percentage_presence\"...   \n",
       "4  [{\"SliceNumber\": 6163.0, \"percentage_presence\"...   \n",
       "\n",
       "                                          amphibians  \\\n",
       "0                                                 []   \n",
       "1  [{\"SliceNumber\": 3318.0, \"percentage_presence\"...   \n",
       "2  [{\"SliceNumber\": 3318.0, \"percentage_presence\"...   \n",
       "3  [{\"SliceNumber\": 3318.0, \"percentage_presence\"...   \n",
       "4  [{\"SliceNumber\": 3318.0, \"percentage_presence\"...   \n",
       "\n",
       "                                             mammals  \\\n",
       "0  [{\"SliceNumber\": 303.0, \"percentage_presence\":...   \n",
       "1  [{\"SliceNumber\": 303.0, \"percentage_presence\":...   \n",
       "2  [{\"SliceNumber\": 303.0, \"percentage_presence\":...   \n",
       "3  [{\"SliceNumber\": 303.0, \"percentage_presence\":...   \n",
       "4                                                 []   \n",
       "\n",
       "                                               birds  population_sum  \\\n",
       "0  [{\"SliceNumber\": 482.0, \"percentage_presence\":...        2.110001   \n",
       "1  [{\"SliceNumber\": 8.0, \"percentage_presence\": 1...        1.315837   \n",
       "2  [{\"SliceNumber\": 1847.0, \"percentage_presence\"...             NaN   \n",
       "3  [{\"SliceNumber\": 8.0, \"percentage_presence\": 1...             NaN   \n",
       "4  [{\"SliceNumber\": 8.0, \"percentage_presence\": 1...        3.103363   \n",
       "\n",
       "   majority_land_cover_climate_regime  \n",
       "0                               107.0  \n",
       "1                               176.0  \n",
       "2                                 NaN  \n",
       "3                                 NaN  \n",
       "4                                97.0  "
      ]
     },
     "execution_count": 216,
     "metadata": {},
     "output_type": "execute_result"
    }
   ],
   "source": [
    "### Ecosystem lan units\n",
    "dff = dff.merge(elu[['MOL_ID','MAJORITY']],how='left',on='MOL_ID')\n",
    "dff.rename(columns={'MAJORITY':'majority_land_cover_climate_regime'},inplace=True)\n",
    "dff.head()"
   ]
  },
  {
   "cell_type": "code",
   "execution_count": 218,
   "metadata": {},
   "outputs": [],
   "source": [
    "elu_lookup= pd.read_csv(\"../../HALF_EARTH/ecosytem_categories_lookup.zip\")"
   ]
  },
  {
   "cell_type": "code",
   "execution_count": 219,
   "metadata": {},
   "outputs": [
    {
     "data": {
      "text/html": [
       "<div>\n",
       "<style scoped>\n",
       "    .dataframe tbody tr th:only-of-type {\n",
       "        vertical-align: middle;\n",
       "    }\n",
       "\n",
       "    .dataframe tbody tr th {\n",
       "        vertical-align: top;\n",
       "    }\n",
       "\n",
       "    .dataframe thead th {\n",
       "        text-align: right;\n",
       "    }\n",
       "</style>\n",
       "<table border=\"1\" class=\"dataframe\">\n",
       "  <thead>\n",
       "    <tr style=\"text-align: right;\">\n",
       "      <th></th>\n",
       "      <th>elu_code</th>\n",
       "      <th>elu</th>\n",
       "      <th>lc_type</th>\n",
       "      <th>lf_type</th>\n",
       "      <th>cr_type</th>\n",
       "      <th>ObjectId</th>\n",
       "    </tr>\n",
       "  </thead>\n",
       "  <tbody>\n",
       "    <tr>\n",
       "      <th>0</th>\n",
       "      <td>301</td>\n",
       "      <td>Sub Tropical Moist Forest on Plains</td>\n",
       "      <td>Forest</td>\n",
       "      <td>Plains</td>\n",
       "      <td>Sub Tropical Moist</td>\n",
       "      <td>1</td>\n",
       "    </tr>\n",
       "    <tr>\n",
       "      <th>1</th>\n",
       "      <td>201</td>\n",
       "      <td>Warm Temperate Dry Sparsley or Non vegetated o...</td>\n",
       "      <td>Sparsley or Non vegetated</td>\n",
       "      <td>Plains</td>\n",
       "      <td>Warm Temperate Dry</td>\n",
       "      <td>2</td>\n",
       "    </tr>\n",
       "    <tr>\n",
       "      <th>2</th>\n",
       "      <td>151</td>\n",
       "      <td>Cool Temperate Dry Sparsley or Non vegetated o...</td>\n",
       "      <td>Sparsley or Non vegetated</td>\n",
       "      <td>Plains</td>\n",
       "      <td>Cool Temperate Dry</td>\n",
       "      <td>3</td>\n",
       "    </tr>\n",
       "    <tr>\n",
       "      <th>3</th>\n",
       "      <td>302</td>\n",
       "      <td>Sub Tropical Moist Cropland on Tablelands</td>\n",
       "      <td>Cropland</td>\n",
       "      <td>Tablelands</td>\n",
       "      <td>Sub Tropical Moist</td>\n",
       "      <td>4</td>\n",
       "    </tr>\n",
       "    <tr>\n",
       "      <th>4</th>\n",
       "      <td>152</td>\n",
       "      <td>Cool Temperate Dry Sparsley or Non vegetated o...</td>\n",
       "      <td>Sparsley or Non vegetated</td>\n",
       "      <td>Tablelands</td>\n",
       "      <td>Cool Temperate Dry</td>\n",
       "      <td>5</td>\n",
       "    </tr>\n",
       "    <tr>\n",
       "      <th>...</th>\n",
       "      <td>...</td>\n",
       "      <td>...</td>\n",
       "      <td>...</td>\n",
       "      <td>...</td>\n",
       "      <td>...</td>\n",
       "      <td>...</td>\n",
       "    </tr>\n",
       "    <tr>\n",
       "      <th>426</th>\n",
       "      <td>427</td>\n",
       "      <td>Polar Desert Forest on Plains</td>\n",
       "      <td>Forest</td>\n",
       "      <td>Plains</td>\n",
       "      <td>Polar Desert</td>\n",
       "      <td>427</td>\n",
       "    </tr>\n",
       "    <tr>\n",
       "      <th>427</th>\n",
       "      <td>428</td>\n",
       "      <td>Polar Desert Settlement on Mountains</td>\n",
       "      <td>Settlement</td>\n",
       "      <td>Mountains</td>\n",
       "      <td>Polar Desert</td>\n",
       "      <td>428</td>\n",
       "    </tr>\n",
       "    <tr>\n",
       "      <th>428</th>\n",
       "      <td>429</td>\n",
       "      <td>Warm Temperate Desert Forest on Tablelands</td>\n",
       "      <td>Forest</td>\n",
       "      <td>Tablelands</td>\n",
       "      <td>Warm Temperate Desert</td>\n",
       "      <td>429</td>\n",
       "    </tr>\n",
       "    <tr>\n",
       "      <th>429</th>\n",
       "      <td>430</td>\n",
       "      <td>Polar Desert Grassland on Tablelands</td>\n",
       "      <td>Grassland</td>\n",
       "      <td>Tablelands</td>\n",
       "      <td>Polar Desert</td>\n",
       "      <td>430</td>\n",
       "    </tr>\n",
       "    <tr>\n",
       "      <th>430</th>\n",
       "      <td>431</td>\n",
       "      <td>Polar Desert Grassland on Plains</td>\n",
       "      <td>Grassland</td>\n",
       "      <td>Plains</td>\n",
       "      <td>Polar Desert</td>\n",
       "      <td>431</td>\n",
       "    </tr>\n",
       "  </tbody>\n",
       "</table>\n",
       "<p>431 rows × 6 columns</p>\n",
       "</div>"
      ],
      "text/plain": [
       "     elu_code                                                elu  \\\n",
       "0         301                Sub Tropical Moist Forest on Plains   \n",
       "1         201  Warm Temperate Dry Sparsley or Non vegetated o...   \n",
       "2         151  Cool Temperate Dry Sparsley or Non vegetated o...   \n",
       "3         302          Sub Tropical Moist Cropland on Tablelands   \n",
       "4         152  Cool Temperate Dry Sparsley or Non vegetated o...   \n",
       "..        ...                                                ...   \n",
       "426       427                      Polar Desert Forest on Plains   \n",
       "427       428               Polar Desert Settlement on Mountains   \n",
       "428       429         Warm Temperate Desert Forest on Tablelands   \n",
       "429       430               Polar Desert Grassland on Tablelands   \n",
       "430       431                   Polar Desert Grassland on Plains   \n",
       "\n",
       "                       lc_type     lf_type                cr_type  ObjectId  \n",
       "0                       Forest      Plains     Sub Tropical Moist         1  \n",
       "1    Sparsley or Non vegetated      Plains     Warm Temperate Dry         2  \n",
       "2    Sparsley or Non vegetated      Plains     Cool Temperate Dry         3  \n",
       "3                     Cropland  Tablelands     Sub Tropical Moist         4  \n",
       "4    Sparsley or Non vegetated  Tablelands     Cool Temperate Dry         5  \n",
       "..                         ...         ...                    ...       ...  \n",
       "426                     Forest      Plains           Polar Desert       427  \n",
       "427                 Settlement   Mountains           Polar Desert       428  \n",
       "428                     Forest  Tablelands  Warm Temperate Desert       429  \n",
       "429                  Grassland  Tablelands           Polar Desert       430  \n",
       "430                  Grassland      Plains           Polar Desert       431  \n",
       "\n",
       "[431 rows x 6 columns]"
      ]
     },
     "execution_count": 219,
     "metadata": {},
     "output_type": "execute_result"
    }
   ],
   "source": [
    "elu_lookup"
   ]
  },
  {
   "cell_type": "code",
   "execution_count": 222,
   "metadata": {},
   "outputs": [],
   "source": [
    "lc = dict(zip(elu_lookup['elu_code'],elu_lookup['lc_type']))\n",
    "cr = dict(zip(elu_lookup['elu_code'],elu_lookup['cr_type']))"
   ]
  },
  {
   "cell_type": "code",
   "execution_count": 223,
   "metadata": {},
   "outputs": [],
   "source": [
    "dff['land_cover_majority']=dff['majority_land_cover_climate_regime']\n",
    "dff['climate_regime_majority']=dff['majority_land_cover_climate_regime']"
   ]
  },
  {
   "cell_type": "code",
   "execution_count": 224,
   "metadata": {},
   "outputs": [],
   "source": [
    "dff.replace({'land_cover_majority':lc,'climate_regime_majority':cr},inplace=True)"
   ]
  },
  {
   "cell_type": "code",
   "execution_count": 232,
   "metadata": {},
   "outputs": [
    {
     "data": {
      "text/html": [
       "<div>\n",
       "<style scoped>\n",
       "    .dataframe tbody tr th:only-of-type {\n",
       "        vertical-align: middle;\n",
       "    }\n",
       "\n",
       "    .dataframe tbody tr th {\n",
       "        vertical-align: top;\n",
       "    }\n",
       "\n",
       "    .dataframe thead th {\n",
       "        text-align: right;\n",
       "    }\n",
       "</style>\n",
       "<table border=\"1\" class=\"dataframe\">\n",
       "  <thead>\n",
       "    <tr style=\"text-align: right;\">\n",
       "      <th></th>\n",
       "      <th>OID_</th>\n",
       "      <th>MOL_ID</th>\n",
       "      <th>COUNT</th>\n",
       "      <th>AREA</th>\n",
       "      <th>SliceNumber</th>\n",
       "      <th>MEAN</th>\n",
       "      <th>SUM</th>\n",
       "      <th>Total</th>\n",
       "      <th>percentage_land_encroachment</th>\n",
       "    </tr>\n",
       "  </thead>\n",
       "  <tbody>\n",
       "    <tr>\n",
       "      <th>0</th>\n",
       "      <td>1</td>\n",
       "      <td>139</td>\n",
       "      <td>3.0</td>\n",
       "      <td>0.000208</td>\n",
       "      <td>1.0</td>\n",
       "      <td>0.256359</td>\n",
       "      <td>0.769076</td>\n",
       "      <td>NaN</td>\n",
       "      <td>NaN</td>\n",
       "    </tr>\n",
       "    <tr>\n",
       "      <th>1</th>\n",
       "      <td>2</td>\n",
       "      <td>258</td>\n",
       "      <td>10.0</td>\n",
       "      <td>0.000694</td>\n",
       "      <td>1.0</td>\n",
       "      <td>0.573516</td>\n",
       "      <td>5.735156</td>\n",
       "      <td>410.0</td>\n",
       "      <td>2.44</td>\n",
       "    </tr>\n",
       "    <tr>\n",
       "      <th>2</th>\n",
       "      <td>3</td>\n",
       "      <td>269</td>\n",
       "      <td>254.0</td>\n",
       "      <td>0.017639</td>\n",
       "      <td>1.0</td>\n",
       "      <td>0.294000</td>\n",
       "      <td>74.676078</td>\n",
       "      <td>5687.0</td>\n",
       "      <td>4.47</td>\n",
       "    </tr>\n",
       "    <tr>\n",
       "      <th>3</th>\n",
       "      <td>4</td>\n",
       "      <td>576</td>\n",
       "      <td>44.0</td>\n",
       "      <td>0.003055</td>\n",
       "      <td>1.0</td>\n",
       "      <td>0.650556</td>\n",
       "      <td>28.624443</td>\n",
       "      <td>240.0</td>\n",
       "      <td>18.33</td>\n",
       "    </tr>\n",
       "    <tr>\n",
       "      <th>4</th>\n",
       "      <td>5</td>\n",
       "      <td>577</td>\n",
       "      <td>2.0</td>\n",
       "      <td>0.000139</td>\n",
       "      <td>1.0</td>\n",
       "      <td>0.652536</td>\n",
       "      <td>1.305072</td>\n",
       "      <td>129.0</td>\n",
       "      <td>1.55</td>\n",
       "    </tr>\n",
       "  </tbody>\n",
       "</table>\n",
       "</div>"
      ],
      "text/plain": [
       "   OID_  MOL_ID  COUNT      AREA  SliceNumber      MEAN        SUM   Total  \\\n",
       "0     1     139    3.0  0.000208          1.0  0.256359   0.769076     NaN   \n",
       "1     2     258   10.0  0.000694          1.0  0.573516   5.735156   410.0   \n",
       "2     3     269  254.0  0.017639          1.0  0.294000  74.676078  5687.0   \n",
       "3     4     576   44.0  0.003055          1.0  0.650556  28.624443   240.0   \n",
       "4     5     577    2.0  0.000139          1.0  0.652536   1.305072   129.0   \n",
       "\n",
       "   percentage_land_encroachment  \n",
       "0                           NaN  \n",
       "1                          2.44  \n",
       "2                          4.47  \n",
       "3                         18.33  \n",
       "4                          1.55  "
      ]
     },
     "execution_count": 232,
     "metadata": {},
     "output_type": "execute_result"
    }
   ],
   "source": [
    "le.head()"
   ]
  },
  {
   "cell_type": "code",
   "execution_count": 241,
   "metadata": {},
   "outputs": [],
   "source": [
    "le_wide =le.pivot(index='MOL_ID', columns='SliceNumber', values='percentage_land_encroachment').reset_index()"
   ]
  },
  {
   "cell_type": "code",
   "execution_count": 243,
   "metadata": {},
   "outputs": [
    {
     "data": {
      "text/html": [
       "<div>\n",
       "<style scoped>\n",
       "    .dataframe tbody tr th:only-of-type {\n",
       "        vertical-align: middle;\n",
       "    }\n",
       "\n",
       "    .dataframe tbody tr th {\n",
       "        vertical-align: top;\n",
       "    }\n",
       "\n",
       "    .dataframe thead th {\n",
       "        text-align: right;\n",
       "    }\n",
       "</style>\n",
       "<table border=\"1\" class=\"dataframe\">\n",
       "  <thead>\n",
       "    <tr style=\"text-align: right;\">\n",
       "      <th></th>\n",
       "      <th>NAME</th>\n",
       "      <th>MOL_ID</th>\n",
       "      <th>AREA_KM</th>\n",
       "      <th>reptiles</th>\n",
       "      <th>amphibians</th>\n",
       "      <th>mammals</th>\n",
       "      <th>birds</th>\n",
       "      <th>population_sum</th>\n",
       "      <th>majority_land_cover_climate_regime</th>\n",
       "      <th>land_cover_majority</th>\n",
       "      <th>climate_regime_majority</th>\n",
       "      <th>percent_irrigated</th>\n",
       "      <th>percent_rainfed</th>\n",
       "      <th>percent_rangeland</th>\n",
       "      <th>percent_urban</th>\n",
       "    </tr>\n",
       "  </thead>\n",
       "  <tbody>\n",
       "    <tr>\n",
       "      <th>0</th>\n",
       "      <td>Boulder Beach</td>\n",
       "      <td>1</td>\n",
       "      <td>1.136031</td>\n",
       "      <td>[]</td>\n",
       "      <td>[]</td>\n",
       "      <td>[{\"SliceNumber\": 303.0, \"percentage_presence\":...</td>\n",
       "      <td>[{\"SliceNumber\": 482.0, \"percentage_presence\":...</td>\n",
       "      <td>2.110001</td>\n",
       "      <td>107.0</td>\n",
       "      <td>Grassland</td>\n",
       "      <td>Cool Temperate Moist</td>\n",
       "      <td>NaN</td>\n",
       "      <td>NaN</td>\n",
       "      <td>100.00</td>\n",
       "      <td>NaN</td>\n",
       "    </tr>\n",
       "    <tr>\n",
       "      <th>1</th>\n",
       "      <td>Ferndale</td>\n",
       "      <td>2</td>\n",
       "      <td>0.748492</td>\n",
       "      <td>[{\"SliceNumber\": 6163.0, \"percentage_presence\"...</td>\n",
       "      <td>[{\"SliceNumber\": 3318.0, \"percentage_presence\"...</td>\n",
       "      <td>[{\"SliceNumber\": 303.0, \"percentage_presence\":...</td>\n",
       "      <td>[{\"SliceNumber\": 8.0, \"percentage_presence\": 1...</td>\n",
       "      <td>1.315837</td>\n",
       "      <td>176.0</td>\n",
       "      <td>Forest</td>\n",
       "      <td>Warm Temperate Moist</td>\n",
       "      <td>NaN</td>\n",
       "      <td>NaN</td>\n",
       "      <td>NaN</td>\n",
       "      <td>NaN</td>\n",
       "    </tr>\n",
       "    <tr>\n",
       "      <th>2</th>\n",
       "      <td>Broughton Bay</td>\n",
       "      <td>3</td>\n",
       "      <td>0.031907</td>\n",
       "      <td>[{\"SliceNumber\": 6499.0, \"percentage_presence\"...</td>\n",
       "      <td>[{\"SliceNumber\": 3318.0, \"percentage_presence\"...</td>\n",
       "      <td>[{\"SliceNumber\": 303.0, \"percentage_presence\":...</td>\n",
       "      <td>[{\"SliceNumber\": 1847.0, \"percentage_presence\"...</td>\n",
       "      <td>NaN</td>\n",
       "      <td>NaN</td>\n",
       "      <td>NaN</td>\n",
       "      <td>NaN</td>\n",
       "      <td>NaN</td>\n",
       "      <td>NaN</td>\n",
       "      <td>NaN</td>\n",
       "      <td>NaN</td>\n",
       "    </tr>\n",
       "    <tr>\n",
       "      <th>3</th>\n",
       "      <td>Kaipupu Point</td>\n",
       "      <td>4</td>\n",
       "      <td>0.270855</td>\n",
       "      <td>[{\"SliceNumber\": 6163.0, \"percentage_presence\"...</td>\n",
       "      <td>[{\"SliceNumber\": 3318.0, \"percentage_presence\"...</td>\n",
       "      <td>[{\"SliceNumber\": 303.0, \"percentage_presence\":...</td>\n",
       "      <td>[{\"SliceNumber\": 8.0, \"percentage_presence\": 1...</td>\n",
       "      <td>NaN</td>\n",
       "      <td>NaN</td>\n",
       "      <td>NaN</td>\n",
       "      <td>NaN</td>\n",
       "      <td>NaN</td>\n",
       "      <td>NaN</td>\n",
       "      <td>100.00</td>\n",
       "      <td>NaN</td>\n",
       "    </tr>\n",
       "    <tr>\n",
       "      <th>4</th>\n",
       "      <td>Catlins Conservation Park</td>\n",
       "      <td>5</td>\n",
       "      <td>8.412168</td>\n",
       "      <td>[{\"SliceNumber\": 6163.0, \"percentage_presence\"...</td>\n",
       "      <td>[{\"SliceNumber\": 3318.0, \"percentage_presence\"...</td>\n",
       "      <td>[]</td>\n",
       "      <td>[{\"SliceNumber\": 8.0, \"percentage_presence\": 1...</td>\n",
       "      <td>3.103363</td>\n",
       "      <td>97.0</td>\n",
       "      <td>Forest</td>\n",
       "      <td>Cool Temperate Moist</td>\n",
       "      <td>NaN</td>\n",
       "      <td>NaN</td>\n",
       "      <td>71.43</td>\n",
       "      <td>NaN</td>\n",
       "    </tr>\n",
       "  </tbody>\n",
       "</table>\n",
       "</div>"
      ],
      "text/plain": [
       "                        NAME  MOL_ID   AREA_KM  \\\n",
       "0              Boulder Beach       1  1.136031   \n",
       "1                   Ferndale       2  0.748492   \n",
       "2              Broughton Bay       3  0.031907   \n",
       "3              Kaipupu Point       4  0.270855   \n",
       "4  Catlins Conservation Park       5  8.412168   \n",
       "\n",
       "                                            reptiles  \\\n",
       "0                                                 []   \n",
       "1  [{\"SliceNumber\": 6163.0, \"percentage_presence\"...   \n",
       "2  [{\"SliceNumber\": 6499.0, \"percentage_presence\"...   \n",
       "3  [{\"SliceNumber\": 6163.0, \"percentage_presence\"...   \n",
       "4  [{\"SliceNumber\": 6163.0, \"percentage_presence\"...   \n",
       "\n",
       "                                          amphibians  \\\n",
       "0                                                 []   \n",
       "1  [{\"SliceNumber\": 3318.0, \"percentage_presence\"...   \n",
       "2  [{\"SliceNumber\": 3318.0, \"percentage_presence\"...   \n",
       "3  [{\"SliceNumber\": 3318.0, \"percentage_presence\"...   \n",
       "4  [{\"SliceNumber\": 3318.0, \"percentage_presence\"...   \n",
       "\n",
       "                                             mammals  \\\n",
       "0  [{\"SliceNumber\": 303.0, \"percentage_presence\":...   \n",
       "1  [{\"SliceNumber\": 303.0, \"percentage_presence\":...   \n",
       "2  [{\"SliceNumber\": 303.0, \"percentage_presence\":...   \n",
       "3  [{\"SliceNumber\": 303.0, \"percentage_presence\":...   \n",
       "4                                                 []   \n",
       "\n",
       "                                               birds  population_sum  \\\n",
       "0  [{\"SliceNumber\": 482.0, \"percentage_presence\":...        2.110001   \n",
       "1  [{\"SliceNumber\": 8.0, \"percentage_presence\": 1...        1.315837   \n",
       "2  [{\"SliceNumber\": 1847.0, \"percentage_presence\"...             NaN   \n",
       "3  [{\"SliceNumber\": 8.0, \"percentage_presence\": 1...             NaN   \n",
       "4  [{\"SliceNumber\": 8.0, \"percentage_presence\": 1...        3.103363   \n",
       "\n",
       "   majority_land_cover_climate_regime land_cover_majority  \\\n",
       "0                               107.0           Grassland   \n",
       "1                               176.0              Forest   \n",
       "2                                 NaN                 NaN   \n",
       "3                                 NaN                 NaN   \n",
       "4                                97.0              Forest   \n",
       "\n",
       "  climate_regime_majority  percent_irrigated  percent_rainfed  \\\n",
       "0    Cool Temperate Moist                NaN              NaN   \n",
       "1    Warm Temperate Moist                NaN              NaN   \n",
       "2                     NaN                NaN              NaN   \n",
       "3                     NaN                NaN              NaN   \n",
       "4    Cool Temperate Moist                NaN              NaN   \n",
       "\n",
       "   percent_rangeland  percent_urban  \n",
       "0             100.00            NaN  \n",
       "1                NaN            NaN  \n",
       "2                NaN            NaN  \n",
       "3             100.00            NaN  \n",
       "4              71.43            NaN  "
      ]
     },
     "execution_count": 243,
     "metadata": {},
     "output_type": "execute_result"
    }
   ],
   "source": [
    "dff = dff.merge(le_wide[['MOL_ID',1,2,3,4]],how='left',on='MOL_ID')\n",
    "dff.rename(columns={1.0:'percent_irrigated',2.0:'percent_rainfed',3.0:'percent_rangeland',4.0:'percent_urban'},inplace=True)\n",
    "dff.head()"
   ]
  },
  {
   "cell_type": "code",
   "execution_count": null,
   "metadata": {},
   "outputs": [],
   "source": [
    "### Greta's precalculated data\n",
    "precalc = pd.read_csv(\"../../HALF_EARTH/wdpa_precalculated_data.zip\")\n",
    "len(precalc) #66653 (of 217486)"
   ]
  },
  {
   "cell_type": "markdown",
   "metadata": {},
   "source": [
    "### Add WDPA data"
   ]
  },
  {
   "cell_type": "code",
   "execution_count": 246,
   "metadata": {},
   "outputs": [
    {
     "data": {
      "text/plain": [
       "217189"
      ]
     },
     "execution_count": 246,
     "metadata": {},
     "output_type": "execute_result"
    }
   ],
   "source": [
    "len(simple)"
   ]
  },
  {
   "cell_type": "code",
   "execution_count": 248,
   "metadata": {},
   "outputs": [
    {
     "data": {
      "text/plain": [
       "217486"
      ]
     },
     "execution_count": 248,
     "metadata": {},
     "output_type": "execute_result"
    }
   ],
   "source": [
    "len(scott)"
   ]
  },
  {
   "cell_type": "code",
   "execution_count": 260,
   "metadata": {},
   "outputs": [
    {
     "data": {
      "text/plain": [
       "<matplotlib.axes._subplots.AxesSubplot at 0x7f9687075590>"
      ]
     },
     "execution_count": 260,
     "metadata": {},
     "output_type": "execute_result"
    },
    {
     "data": {
      "image/png": "[encoded data removed]",
      "text/plain": [
       "<Figure size 360x360 with 1 Axes>"
      ]
     },
     "metadata": {
      "needs_background": "light"
     },
     "output_type": "display_data"
    }
   ],
   "source": [
    "### check simplified geometries\n",
    "n = 2\n",
    "fig, ax = plt.subplots(figsize=(5, 5))\n",
    "scott.loc[scott['MOL_ID']==n,'geometry'].plot(ax=ax,color='red')\n",
    "simple.loc[simple['MOL_ID']==n,'geometry'].plot(ax=ax,alpha=0.6)"
   ]
  },
  {
   "cell_type": "code",
   "execution_count": 262,
   "metadata": {},
   "outputs": [],
   "source": [
    "### Add the simplified geometries to scott's table. if the simplified geometry does not exist, keep the previous non simplified one\n",
    "m = simple.set_index('MOL_ID')['geometry']\n",
    "scott.loc[scott['MOL_ID'].isin(simple['MOL_ID']),'geometry'] =scott['MOL_ID'].map(m)"
   ]
  },
  {
   "cell_type": "code",
   "execution_count": 263,
   "metadata": {},
   "outputs": [
    {
     "data": {
      "text/plain": [
       "<matplotlib.axes._subplots.AxesSubplot at 0x7f96873feb10>"
      ]
     },
     "execution_count": 263,
     "metadata": {},
     "output_type": "execute_result"
    },
    {
     "data": {
      "image/png": "[encoded data removed]",
      "text/plain": [
       "<Figure size 360x360 with 1 Axes>"
      ]
     },
     "metadata": {
      "needs_background": "light"
     },
     "output_type": "display_data"
    }
   ],
   "source": [
    "n = 2\n",
    "fig, ax = plt.subplots(figsize=(5, 5))\n",
    "scott.loc[scott['MOL_ID']==n,'geometry'].plot(ax=ax,color='red')\n",
    "simple.loc[simple['MOL_ID']==n,'geometry'].plot(ax=ax,alpha=0.6)"
   ]
  },
  {
   "cell_type": "code",
   "execution_count": 264,
   "metadata": {},
   "outputs": [
    {
     "data": {
      "text/plain": [
       "217486"
      ]
     },
     "execution_count": 264,
     "metadata": {},
     "output_type": "execute_result"
    }
   ],
   "source": [
    "len(scott)"
   ]
  },
  {
   "cell_type": "code",
   "execution_count": 269,
   "metadata": {},
   "outputs": [],
   "source": [
    "### Join dff_merge with wdpa data\n",
    "all_data = dff.merge(scott[['WDPAID', 'DESIG','DESIG_E','DESIG_T','IUCN_CA','ISO3','MOL_ID','geometry']],on ='MOL_ID',how='left')"
   ]
  },
  {
   "cell_type": "code",
   "execution_count": 270,
   "metadata": {},
   "outputs": [
    {
     "data": {
      "text/plain": [
       "217486"
      ]
     },
     "execution_count": 270,
     "metadata": {},
     "output_type": "execute_result"
    }
   ],
   "source": [
    "len(all_data)"
   ]
  },
  {
   "cell_type": "code",
   "execution_count": 271,
   "metadata": {},
   "outputs": [
    {
     "data": {
      "text/plain": [
       "Index(['NAME', 'MOL_ID', 'AREA_KM', 'reptiles', 'amphibians', 'mammals',\n",
       "       'birds', 'population_sum', 'majority_land_cover_climate_regime',\n",
       "       'land_cover_majority', 'climate_regime_majority', 'percent_irrigated',\n",
       "       'percent_rainfed', 'percent_rangeland', 'percent_urban', 'WDPAID',\n",
       "       'DESIG', 'DESIG_E', 'DESIG_T', 'IUCN_CA', 'ISO3', 'geometry'],\n",
       "      dtype='object')"
      ]
     },
     "execution_count": 271,
     "metadata": {},
     "output_type": "execute_result"
    }
   ],
   "source": [
    "all_data.columns"
   ]
  },
  {
   "cell_type": "code",
   "execution_count": 277,
   "metadata": {},
   "outputs": [],
   "source": [
    "## Save datasets\n",
    "#gdf = gpd.GeoDataFrame(all_data, geometry=all_data.geometry)\n",
    "#gdf = gdf.set_crs('EPSG:4326')\n",
    "gdf.to_file('../../HALF_EARTH/all_precalc_wdpa.geojson',driver='GeoJSON') ### full data + geometry\n",
    "gdf[['MOL_ID','geometry']].to_file('../../HALF_EARTH/all_precalc_wdpa_only_geom.shp') ### only geometries\n",
    "#all_data[all_data.columns[~all_data.columns.isin(['geometry'])]].to_csv('../../HALF_EARTH/all_precalc_wdpa_no_geom.csv') ## only data"
   ]
  },
  {
   "cell_type": "code",
   "execution_count": 276,
   "metadata": {},
   "outputs": [],
   "source": [
    "gdf = gdf.set_crs('EPSG:4326')"
   ]
  },
  {
   "cell_type": "markdown",
   "metadata": {},
   "source": [
    "### WDPA no simplification"
   ]
  },
  {
   "cell_type": "code",
   "execution_count": null,
   "metadata": {},
   "outputs": [],
   "source": [
    "wdpa= gpd.read_file('zip:///Users/tamarahuete/Documents/HALF_EARTH/WDPA_FILTERED_20210615_FILTERED_nomarine_with_oecm_wdpa.zip')"
   ]
  },
  {
   "cell_type": "code",
   "execution_count": null,
   "metadata": {},
   "outputs": [],
   "source": [
    "### Save zip of original file with less fields\n",
    "wdpa = scott[['WDPAID','MOL_ID','NAME','ORIG_NA','GOV_TYP','DESIG','DESIG_E','STATUS','DESIG_T','IUCN_CA','ISO3','AREA_KM','geometry']]\n",
    "with tempfile.TemporaryDirectory() as temp_dir:\n",
    "    temp_dir = Path(temp_dir)\n",
    "    localFile = '../../HALF_EARTH/WDPA_FILTERED_20210615_FILTERED_nomarine_with_oecm_wdpa_selected_fields'\n",
    "    \n",
    "    wdpa.to_file(filename=temp_dir, driver='ESRI Shapefile')\n",
    "    archiveFile = shutil.make_archive(localFile, 'zip', temp_dir)\n",
    "    #shutil.rmtree(temp_dir) ### failed"
   ]
  },
  {
   "cell_type": "code",
   "execution_count": 67,
   "metadata": {},
   "outputs": [
    {
     "name": "stdout",
     "output_type": "stream",
     "text": [
      "Service name WDPA_FILTERED_20210615_FILTERED_nomarine_with_oecm_wdpa_selected_fields is available\n",
      "The service WDPA_FILTERED_20210615_FILTERED_nomarine_with_oecm_wdpa_selected_fields has been published. The service has 217486 entries\n",
      "Moving service WDPA_FILTERED_20210615_FILTERED_nomarine_with_oecm_wdpa_selected_fields to #6 precalculated data in ArcGIS Online...\n",
      "Service WDPA_FILTERED_20210615_FILTERED_nomarine_with_oecm_wdpa_selected_fields has been moved to #6 precalculated data in ArcGIS Online\n",
      "shared with everyone\n",
      "WDPA_FILTERED_20210615_FILTERED_nomarine_with_oecm_wdpa_selected_fields's protection against deletion : True\n"
     ]
    },
    {
     "data": {
      "text/plain": [
       "'f3b235ccb45a4cbcad9c4d5cbfb34655'"
      ]
     },
     "execution_count": 67,
     "metadata": {},
     "output_type": "execute_result"
    }
   ],
   "source": [
    "### Add shapefile of original wdpa\n",
    "csv_file = '../../HALF_EARTH/WDPA_FILTERED_20210615_FILTERED_nomarine_with_oecm_wdpa_selected_fields.zip'\n",
    "csvName = 'WDPA_FILTERED_20210615_FILTERED_nomarine_with_oecm_wdpa_selected_fields'\n",
    "gis = GIS(\"https://eowilson.maps.arcgis.com\", aol_username, aol_password, profile = \"eowilson\")\n",
    "aol_folder_name = '#6 precalculated data'\n",
    "group_id='46783c33c294485abe83f5e899c2f21f'\n",
    "publishCSVasFS(csv_file,csvName,gis,aol_folder_name,sharing='everyone', table = 'no')"
   ]
  },
  {
   "cell_type": "markdown",
   "metadata": {},
   "source": [
    "## Final data upload:\n",
    "* Upload everything as geojson failed.\n",
    "* Shapefile with MOLID + geometries: [FS](https://eowilson.maps.arcgis.com/home/item.html?id=bc3ec13b468d4f2484e1059933dcbe32)/ [URL](https://services9.arcgis.com/IkktFdUAcY3WrH25/arcgis/rest/services/all_precalc_wdpa_only_geom/FeatureServer)/[Whitelisted URL](https://utility.arcgis.com/usrsvcs/servers/d6dd590bd6734f90a626a1dc156f4546/rest/services/all_precalc_wdpa_only_geom/FeatureServer)\n",
    "* Hosted table with all precalculated data [FS](https://eowilson.maps.arcgis.com/home/item.html?id=00520b68c2af41d39a3dfec82a27ebf6)/ [URL](https://services9.arcgis.com/IkktFdUAcY3WrH25/arcgis/rest/services/all_precalc_wdpa_no_geom/FeatureServer)/[Whitelisted URL](https://utility.arcgis.com/usrsvcs/servers/051ba1f3714748bfb4c725d29b938e20/rest/services/all_precalc_wdpa_no_geom/FeatureServer)   \n",
    "    "
   ]
  },
  {
   "cell_type": "code",
   "execution_count": 5,
   "metadata": {},
   "outputs": [],
   "source": [
    "### Upload a table with WDPA geometries and information"
   ]
  },
  {
   "cell_type": "code",
   "execution_count": 6,
   "metadata": {},
   "outputs": [],
   "source": [
    "gdf = gpd.read_file('../../HALF_EARTH/all_precalc_wdpa.geojson') ### context data + geometry"
   ]
  },
  {
   "cell_type": "code",
   "execution_count": 7,
   "metadata": {},
   "outputs": [
    {
     "data": {
      "text/plain": [
       "217486"
      ]
     },
     "execution_count": 7,
     "metadata": {},
     "output_type": "execute_result"
    }
   ],
   "source": [
    "len(gdf)"
   ]
  },
  {
   "cell_type": "code",
   "execution_count": 59,
   "metadata": {},
   "outputs": [],
   "source": [
    "scott = gpd.read_file('zip:///Users/tamarahuete/Documents/HALF_EARTH/WDPA_FILTERED_20210615_FILTERED_nomarine_with_oecm_wdpa.zip')"
   ]
  },
  {
   "cell_type": "code",
   "execution_count": 68,
   "metadata": {},
   "outputs": [
    {
     "data": {
      "text/plain": [
       "Index(['WDPAID', 'WDPA_PID', 'PA_DEF', 'NAME', 'ORIG_NA', 'DESIG', 'DESIG_E',\n",
       "       'DESIG_T', 'IUCN_CA', 'INT_CRI', 'MARINE', 'REP_M_A', 'GIS_M_A',\n",
       "       'REP_ARE', 'GIS_ARE', 'NO_TAKE', 'NO_TK_A', 'STATUS', 'STATUS_',\n",
       "       'GOV_TYP', 'OWN_TYP', 'MANG_AU', 'MANG_PL', 'VERIF', 'METADAT',\n",
       "       'SUB_LOC', 'PARENT_', 'ISO3', 'SUPP_IN', 'CONS_OB', 'SORTER',\n",
       "       'WDPA_PID_h', 'WDPA_PID__', 'hash_vl', 'AREA_KM', 'MOL_ID', 'geometry'],\n",
       "      dtype='object')"
      ]
     },
     "execution_count": 68,
     "metadata": {},
     "output_type": "execute_result"
    }
   ],
   "source": [
    "scott.columns"
   ]
  },
  {
   "cell_type": "code",
   "execution_count": 69,
   "metadata": {},
   "outputs": [
    {
     "data": {
      "text/plain": [
       "<matplotlib.axes._subplots.AxesSubplot at 0x7f937f49b7d0>"
      ]
     },
     "execution_count": 69,
     "metadata": {},
     "output_type": "execute_result"
    },
    {
     "data": {
      "image/png": "[encoded data removed]",
      "text/plain": [
       "<Figure size 432x288 with 1 Axes>"
      ]
     },
     "metadata": {
      "needs_background": "light"
     },
     "output_type": "display_data"
    }
   ],
   "source": [
    "scott[scott['MOL_ID']==211877.0].plot()"
   ]
  },
  {
   "cell_type": "code",
   "execution_count": 70,
   "metadata": {},
   "outputs": [
    {
     "data": {
      "text/plain": [
       "<matplotlib.axes._subplots.AxesSubplot at 0x7f9376a8fa50>"
      ]
     },
     "execution_count": 70,
     "metadata": {},
     "output_type": "execute_result"
    },
    {
     "data": {
      "image/png": "[encoded data removed]",
      "text/plain": [
       "<Figure size 432x288 with 1 Axes>"
      ]
     },
     "metadata": {
      "needs_background": "light"
     },
     "output_type": "display_data"
    }
   ],
   "source": [
    "wdpa[wdpa['MOL_ID']==211877.0].plot()"
   ]
  },
  {
   "cell_type": "code",
   "execution_count": 10,
   "metadata": {},
   "outputs": [],
   "source": [
    "gdf = gdf.merge(scott[['ORIG_NA','GOV_TYP','MOL_ID']], on ='MOL_ID')"
   ]
  },
  {
   "cell_type": "markdown",
   "metadata": {},
   "source": [
    "### Update the fields in the existing feature service with python API"
   ]
  },
  {
   "cell_type": "code",
   "execution_count": 12,
   "metadata": {},
   "outputs": [],
   "source": [
    "update_csv = gdf[['WDPAID','MOL_ID','NAME','ORIG_NA','GOV_TYP','DESIG','DESIG_E','DESIG_T','IUCN_CA','ISO3','AREA_KM','geometry']]"
   ]
  },
  {
   "cell_type": "code",
   "execution_count": 13,
   "metadata": {},
   "outputs": [],
   "source": [
    "item = gis.content.get('bc3ec13b468d4f2484e1059933dcbe32')\n",
    "flayer = item.layers[0]\n",
    "#sdf = pd.DataFrame.spatial.from_layer(flayer)"
   ]
  },
  {
   "cell_type": "markdown",
   "metadata": {},
   "source": [
    "#### Create new fields on FS and update with the values of the new dataframe"
   ]
  },
  {
   "cell_type": "code",
   "execution_count": 17,
   "metadata": {},
   "outputs": [],
   "source": [
    "## Create fields\n",
    "def createFieldsToBeAdded(flayer, csv_table):\n",
    "    flayer_fields = flayer.manager.properties.fields\n",
    "    template_field = dict(deepcopy(flayer_fields[0]))\n",
    "    sdf = getSDFfromFlayer(flayer)\n",
    "    new_field_names = list(csv_table.columns.difference(sdf.columns))\n",
    "    \n",
    "    fields_to_be_added = []\n",
    "    for new_field_name in new_field_names:\n",
    "        current_field = deepcopy(template_field)\n",
    "        dt = csv_table[new_field_name].dtypes\n",
    "        \n",
    "        if dt == 'O':\n",
    "            #put the type to character\n",
    "            current_field['sqlType'] = 'sqlTypeOther'\n",
    "            current_field['type'] = 'esriFieldTypeString'\n",
    "            current_field['length'] = 45000\n",
    "        if dt == 'float64':\n",
    "            #put the type to double\n",
    "            current_field['sqlType'] = 'sqlTypeOther'\n",
    "            current_field['type'] = 'esriFieldTypeDouble'\n",
    "            #current_field['length'] = 8000      \n",
    "\n",
    "        current_field['name'] = new_field_name\n",
    "        current_field['alias'] = new_field_name\n",
    "        current_field['nullable'] = True\n",
    "        current_field['editable'] = True\n",
    "        fields_to_be_added.append(current_field)\n",
    "    return fields_to_be_added"
   ]
  },
  {
   "cell_type": "code",
   "execution_count": 19,
   "metadata": {},
   "outputs": [],
   "source": [
    "fields_to_be_added = createFieldsToBeAdded(flayer, csv_table= update_csv)"
   ]
  },
  {
   "cell_type": "code",
   "execution_count": 34,
   "metadata": {},
   "outputs": [
    {
     "data": {
      "text/plain": [
       "[{'name': 'AREA_KM',\n",
       "  'type': 'esriFieldTypeDouble',\n",
       "  'actualType': 'int',\n",
       "  'alias': 'AREA_KM',\n",
       "  'sqlType': 'sqlTypeOther',\n",
       "  'nullable': True,\n",
       "  'editable': True,\n",
       "  'visible': True,\n",
       "  'domain': None,\n",
       "  'defaultValue': None},\n",
       " {'name': 'DESIG',\n",
       "  'type': 'esriFieldTypeString',\n",
       "  'actualType': 'int',\n",
       "  'alias': 'DESIG',\n",
       "  'sqlType': 'sqlTypeOther',\n",
       "  'nullable': True,\n",
       "  'editable': True,\n",
       "  'visible': True,\n",
       "  'domain': None,\n",
       "  'defaultValue': None,\n",
       "  'length': 45000},\n",
       " {'name': 'DESIG_E',\n",
       "  'type': 'esriFieldTypeString',\n",
       "  'actualType': 'int',\n",
       "  'alias': 'DESIG_E',\n",
       "  'sqlType': 'sqlTypeOther',\n",
       "  'nullable': True,\n",
       "  'editable': True,\n",
       "  'visible': True,\n",
       "  'domain': None,\n",
       "  'defaultValue': None,\n",
       "  'length': 45000},\n",
       " {'name': 'DESIG_T',\n",
       "  'type': 'esriFieldTypeString',\n",
       "  'actualType': 'int',\n",
       "  'alias': 'DESIG_T',\n",
       "  'sqlType': 'sqlTypeOther',\n",
       "  'nullable': True,\n",
       "  'editable': True,\n",
       "  'visible': True,\n",
       "  'domain': None,\n",
       "  'defaultValue': None,\n",
       "  'length': 45000},\n",
       " {'name': 'GOV_TYP',\n",
       "  'type': 'esriFieldTypeString',\n",
       "  'actualType': 'int',\n",
       "  'alias': 'GOV_TYP',\n",
       "  'sqlType': 'sqlTypeOther',\n",
       "  'nullable': True,\n",
       "  'editable': True,\n",
       "  'visible': True,\n",
       "  'domain': None,\n",
       "  'defaultValue': None,\n",
       "  'length': 45000},\n",
       " {'name': 'ISO3',\n",
       "  'type': 'esriFieldTypeString',\n",
       "  'actualType': 'int',\n",
       "  'alias': 'ISO3',\n",
       "  'sqlType': 'sqlTypeOther',\n",
       "  'nullable': True,\n",
       "  'editable': True,\n",
       "  'visible': True,\n",
       "  'domain': None,\n",
       "  'defaultValue': None,\n",
       "  'length': 45000},\n",
       " {'name': 'IUCN_CA',\n",
       "  'type': 'esriFieldTypeString',\n",
       "  'actualType': 'int',\n",
       "  'alias': 'IUCN_CA',\n",
       "  'sqlType': 'sqlTypeOther',\n",
       "  'nullable': True,\n",
       "  'editable': True,\n",
       "  'visible': True,\n",
       "  'domain': None,\n",
       "  'defaultValue': None,\n",
       "  'length': 45000},\n",
       " {'name': 'NAME',\n",
       "  'type': 'esriFieldTypeString',\n",
       "  'actualType': 'int',\n",
       "  'alias': 'NAME',\n",
       "  'sqlType': 'sqlTypeOther',\n",
       "  'nullable': True,\n",
       "  'editable': True,\n",
       "  'visible': True,\n",
       "  'domain': None,\n",
       "  'defaultValue': None,\n",
       "  'length': 45000},\n",
       " {'name': 'ORIG_NA',\n",
       "  'type': 'esriFieldTypeString',\n",
       "  'actualType': 'int',\n",
       "  'alias': 'ORIG_NA',\n",
       "  'sqlType': 'sqlTypeOther',\n",
       "  'nullable': True,\n",
       "  'editable': True,\n",
       "  'visible': True,\n",
       "  'domain': None,\n",
       "  'defaultValue': None,\n",
       "  'length': 45000},\n",
       " {'name': 'WDPAID',\n",
       "  'type': 'esriFieldTypeDouble',\n",
       "  'actualType': 'int',\n",
       "  'alias': 'WDPAID',\n",
       "  'sqlType': 'sqlTypeOther',\n",
       "  'nullable': True,\n",
       "  'editable': True,\n",
       "  'visible': True,\n",
       "  'domain': None,\n",
       "  'defaultValue': None}]"
      ]
     },
     "execution_count": 34,
     "metadata": {},
     "output_type": "execute_result"
    }
   ],
   "source": [
    "fields_to_be_added"
   ]
  },
  {
   "cell_type": "code",
   "execution_count": 43,
   "metadata": {},
   "outputs": [],
   "source": [
    "### In case I need to retrieve the fields\n",
    "import json\n",
    "with open('fields_to_be_added.txt', 'w') as outfile:\n",
    "    json.dump(fields_to_be_added, outfile)"
   ]
  },
  {
   "cell_type": "code",
   "execution_count": 44,
   "metadata": {},
   "outputs": [],
   "source": [
    "with open('fields_to_be_added.txt') as json_file:\n",
    "    fields_to_be_added = json.load(json_file)"
   ]
  },
  {
   "cell_type": "code",
   "execution_count": 45,
   "metadata": {},
   "outputs": [
    {
     "data": {
      "text/plain": [
       "[{'name': 'AREA_KM',\n",
       "  'type': 'esriFieldTypeDouble',\n",
       "  'actualType': 'int',\n",
       "  'alias': 'AREA_KM',\n",
       "  'sqlType': 'sqlTypeOther',\n",
       "  'nullable': True,\n",
       "  'editable': True,\n",
       "  'visible': True,\n",
       "  'domain': None,\n",
       "  'defaultValue': None},\n",
       " {'name': 'DESIG',\n",
       "  'type': 'esriFieldTypeString',\n",
       "  'actualType': 'int',\n",
       "  'alias': 'DESIG',\n",
       "  'sqlType': 'sqlTypeOther',\n",
       "  'nullable': True,\n",
       "  'editable': True,\n",
       "  'visible': True,\n",
       "  'domain': None,\n",
       "  'defaultValue': None,\n",
       "  'length': 45000},\n",
       " {'name': 'DESIG_E',\n",
       "  'type': 'esriFieldTypeString',\n",
       "  'actualType': 'int',\n",
       "  'alias': 'DESIG_E',\n",
       "  'sqlType': 'sqlTypeOther',\n",
       "  'nullable': True,\n",
       "  'editable': True,\n",
       "  'visible': True,\n",
       "  'domain': None,\n",
       "  'defaultValue': None,\n",
       "  'length': 45000},\n",
       " {'name': 'DESIG_T',\n",
       "  'type': 'esriFieldTypeString',\n",
       "  'actualType': 'int',\n",
       "  'alias': 'DESIG_T',\n",
       "  'sqlType': 'sqlTypeOther',\n",
       "  'nullable': True,\n",
       "  'editable': True,\n",
       "  'visible': True,\n",
       "  'domain': None,\n",
       "  'defaultValue': None,\n",
       "  'length': 45000},\n",
       " {'name': 'GOV_TYP',\n",
       "  'type': 'esriFieldTypeString',\n",
       "  'actualType': 'int',\n",
       "  'alias': 'GOV_TYP',\n",
       "  'sqlType': 'sqlTypeOther',\n",
       "  'nullable': True,\n",
       "  'editable': True,\n",
       "  'visible': True,\n",
       "  'domain': None,\n",
       "  'defaultValue': None,\n",
       "  'length': 45000},\n",
       " {'name': 'ISO3',\n",
       "  'type': 'esriFieldTypeString',\n",
       "  'actualType': 'int',\n",
       "  'alias': 'ISO3',\n",
       "  'sqlType': 'sqlTypeOther',\n",
       "  'nullable': True,\n",
       "  'editable': True,\n",
       "  'visible': True,\n",
       "  'domain': None,\n",
       "  'defaultValue': None,\n",
       "  'length': 45000},\n",
       " {'name': 'IUCN_CA',\n",
       "  'type': 'esriFieldTypeString',\n",
       "  'actualType': 'int',\n",
       "  'alias': 'IUCN_CA',\n",
       "  'sqlType': 'sqlTypeOther',\n",
       "  'nullable': True,\n",
       "  'editable': True,\n",
       "  'visible': True,\n",
       "  'domain': None,\n",
       "  'defaultValue': None,\n",
       "  'length': 45000},\n",
       " {'name': 'NAME',\n",
       "  'type': 'esriFieldTypeString',\n",
       "  'actualType': 'int',\n",
       "  'alias': 'NAME',\n",
       "  'sqlType': 'sqlTypeOther',\n",
       "  'nullable': True,\n",
       "  'editable': True,\n",
       "  'visible': True,\n",
       "  'domain': None,\n",
       "  'defaultValue': None,\n",
       "  'length': 45000},\n",
       " {'name': 'ORIG_NA',\n",
       "  'type': 'esriFieldTypeString',\n",
       "  'actualType': 'int',\n",
       "  'alias': 'ORIG_NA',\n",
       "  'sqlType': 'sqlTypeOther',\n",
       "  'nullable': True,\n",
       "  'editable': True,\n",
       "  'visible': True,\n",
       "  'domain': None,\n",
       "  'defaultValue': None,\n",
       "  'length': 45000},\n",
       " {'name': 'WDPAID',\n",
       "  'type': 'esriFieldTypeDouble',\n",
       "  'actualType': 'int',\n",
       "  'alias': 'WDPAID',\n",
       "  'sqlType': 'sqlTypeOther',\n",
       "  'nullable': True,\n",
       "  'editable': True,\n",
       "  'visible': True,\n",
       "  'domain': None,\n",
       "  'defaultValue': None}]"
      ]
     },
     "execution_count": 45,
     "metadata": {},
     "output_type": "execute_result"
    }
   ],
   "source": [
    "fields_to_be_added"
   ]
  },
  {
   "cell_type": "code",
   "execution_count": 21,
   "metadata": {},
   "outputs": [
    {
     "data": {
      "text/plain": [
       "{'success': True}"
      ]
     },
     "execution_count": 21,
     "metadata": {},
     "output_type": "execute_result"
    }
   ],
   "source": [
    "flayer.manager.add_to_definition({'fields':fields_to_be_added})"
   ]
  },
  {
   "cell_type": "code",
   "execution_count": 46,
   "metadata": {},
   "outputs": [],
   "source": [
    "#https://developers.arcgis.com/python/sample-notebooks/updating-features-in-a-feature-layer/\n",
    "def createFeaturesForUpdate(flayer, csv_table, fields_to_be_added, id_field_in_csv, id_field_in_service):  \n",
    "    features_for_update = []\n",
    "    for country_id in csv_table[id_field_in_csv]:\n",
    "        try:\n",
    "            # get the matching row from csv\n",
    "            matching_row = csv_table.where(csv_table[id_field_in_csv] == country_id).dropna()\n",
    "\n",
    "            #print(str(country_id) + \" Adding additional attributes for: \" + matching_row['iso3'].values[0])\n",
    "\n",
    "            # get the feature to be updated\n",
    "            assert  len([f for f in features2 if f.attributes[id_field_in_service] == country_id]), \"id not matched\"\n",
    "            original_feature = [f for f in features2 if f.attributes[id_field_in_service] == country_id][0]\n",
    "            feature_to_be_updated = deepcopy(original_feature)\n",
    "\n",
    "            # assign the updated values\n",
    "            for field in fields_to_be_added:\n",
    "                feature_to_be_updated.attributes[field['name']] = matching_row[field['name']].values[0]\n",
    "                #add this to the list of features to be updated\n",
    "                features_for_update.append(feature_to_be_updated)\n",
    "    \n",
    "        except:\n",
    "            print(f\"{country_id} not available in service\")\n",
    "    return features_for_update"
   ]
  },
  {
   "cell_type": "code",
   "execution_count": 47,
   "metadata": {},
   "outputs": [
    {
     "data": {
      "text/plain": [
       "array([ 45002,  45102,  45202, ..., 217202, 217302, 217402])"
      ]
     },
     "execution_count": 47,
     "metadata": {},
     "output_type": "execute_result"
    }
   ],
   "source": [
    "#### Updates must be done in blocks to avoid broken pipe of ARcGIS API\n",
    "#start = np.arange(2,217486, step = 100)\n",
    "start = np.arange(45002,217486, step = 100)\n",
    "start"
   ]
  },
  {
   "cell_type": "code",
   "execution_count": null,
   "metadata": {},
   "outputs": [
    {
     "name": "stdout",
     "output_type": "stream",
     "text": [
      "done 45002\n",
      "Timeout #7\n",
      "done 45102\n",
      "done 45202\n",
      "done 45302\n",
      "Timeout #9\n",
      "done 45402\n",
      "done 45502\n",
      "Timeout #1\n",
      "done 45602\n",
      "done 45702\n",
      "done 45802\n",
      "done 45902\n",
      "Timeout #0\n",
      "done 46002\n",
      "done 46102\n",
      "done 46202\n",
      "done 46302\n",
      "done 46402\n",
      "Timeout #4\n",
      "done 46502\n",
      "Timeout #1\n",
      "done 46602\n",
      "Timeout #9\n",
      "done 46702\n",
      "done 46802\n",
      "Timeout #0\n",
      "done 46902\n",
      "Timeout #1\n",
      "done 47002\n",
      "done 47102\n",
      "done 47202\n",
      "done 47302\n",
      "done 47402\n",
      "done 47502\n",
      "done 47602\n",
      "Timeout #0\n",
      "done 47702\n",
      "done 47802\n",
      "done 47902\n",
      "done 48002\n",
      "done 48102\n",
      "done 48202\n",
      "done 48302\n",
      "Timeout #0\n",
      "done 48402\n",
      "done 48502\n",
      "done 48602\n",
      "Timeout #0\n",
      "done 48702\n",
      "Timeout #5\n",
      "done 48802\n",
      "done 48902\n",
      "done 49002\n",
      "Timeout #1\n",
      "done 49102\n",
      "Timeout #2\n",
      "Timeout #3\n",
      "done 49202\n",
      "Timeout #0\n",
      "done 49302\n",
      "done 49402\n",
      "done 49502\n",
      "done 49602\n",
      "Timeout #6\n",
      "Timeout #9\n",
      "done 49702\n",
      "done 49802\n",
      "Timeout #4\n",
      "done 49902\n",
      "done 50002\n",
      "Timeout #5\n",
      "Timeout #6\n",
      "Timeout #7\n",
      "Timeout #8\n",
      "Timeout #9\n",
      "done 50102\n",
      "50203 not available in service\n",
      "50204 not available in service\n",
      "50205 not available in service\n",
      "50206 not available in service\n",
      "50207 not available in service\n"
     ]
    }
   ],
   "source": [
    "fset2 = flayer.query()\n",
    "features2 = fset2.features\n",
    "for i in start:\n",
    "    features_for_update = createFeaturesForUpdate(flayer,  \n",
    "                                              update_csv[i:i+100], \n",
    "                                              fields_to_be_added, \n",
    "                                              id_field_in_csv = \"MOL_ID\", \n",
    "                                              id_field_in_service = \"MOL_ID\")\n",
    "    for attempt in range(10):\n",
    "        try:\n",
    "            flayer.edit_features(updates= features_for_update)\n",
    "        except Exception:\n",
    "            print(f'Timeout #{attempt}')\n",
    "            pass\n",
    "    print(f'done {i}')"
   ]
  },
  {
   "cell_type": "code",
   "execution_count": null,
   "metadata": {},
   "outputs": [],
   "source": [
    "for _ in range(max_retries):\n",
    "    try:\n",
    "        do something\n",
    "        break\n",
    "    except TimeoutError:\n",
    "        pass"
   ]
  }
 ],
 "metadata": {
  "kernelspec": {
   "display_name": "Python 3",
   "language": "python",
   "name": "python3"
  },
  "language_info": {
   "codemirror_mode": {
    "name": "ipython",
    "version": 3
   },
   "file_extension": ".py",
   "mimetype": "text/x-python",
   "name": "python",
   "nbconvert_exporter": "python",
   "pygments_lexer": "ipython3",
   "version": "3.7.4"
  }
 },
 "nbformat": 4,
 "nbformat_minor": 4
}
