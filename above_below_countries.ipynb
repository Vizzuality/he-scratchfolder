{
 "cells": [
  {
   "cell_type": "code",
   "execution_count": 96,
   "metadata": {},
   "outputs": [],
   "source": [
    "from arcgis.gis import GIS\n",
    "import json"
   ]
  },
  {
   "cell_type": "code",
   "execution_count": 2,
   "metadata": {},
   "outputs": [],
   "source": [
    "gis = GIS(profile = \"eowilson\")"
   ]
  },
  {
   "cell_type": "code",
   "execution_count": 3,
   "metadata": {},
   "outputs": [],
   "source": [
    "import re\n",
    "def create_strict_reg_exp(to_search):\n",
    "    try:\n",
    "        reg_exp = f\"^{to_search}$\"\n",
    "        #logging.info(f\"regular expression is: {reg_exp}\")\n",
    "    except:\n",
    "        print(\"There was a problem with the string.\")\n",
    "    return reg_exp"
   ]
  },
  {
   "cell_type": "code",
   "execution_count": 4,
   "metadata": {},
   "outputs": [],
   "source": [
    "def findItemGetID(csvName, gis):\n",
    "    try:\n",
    "        searched_item = gis.content.search(csvName, item_type = \"Feature Layer\")\n",
    "        for i in searched_item:\n",
    "            reg_exp = create_strict_reg_exp(csvName)\n",
    "            if re.search(reg_exp, i.title)!= None:    \n",
    "                #logging.info(f\"{csvName} has the id: {i.id}\")\n",
    "                return i.id\n",
    "    except:\n",
    "        print(\"There was a problem finding the item\")"
   ]
  },
  {
   "cell_type": "code",
   "execution_count": 5,
   "metadata": {},
   "outputs": [],
   "source": [
    "def getFlayerFromID(item_id):\n",
    "    item = gis.content.get(item_id)\n",
    "    flayer = item.layers[0]\n",
    "    return flayer"
   ]
  },
  {
   "cell_type": "code",
   "execution_count": 10,
   "metadata": {},
   "outputs": [],
   "source": [
    "import pandas as pd\n",
    "def getSDFfromFlayer(flayer):\n",
    "    sdf = pd.DataFrame.spatial.from_layer(flayer)\n",
    "    return sdf"
   ]
  },
  {
   "cell_type": "markdown",
   "metadata": {},
   "source": [
    "# Get the item and get an SDF"
   ]
  },
  {
   "cell_type": "code",
   "execution_count": 7,
   "metadata": {},
   "outputs": [],
   "source": [
    "item_id = findItemGetID(\"gadm_centroid\", gis)"
   ]
  },
  {
   "cell_type": "code",
   "execution_count": 8,
   "metadata": {},
   "outputs": [],
   "source": [
    "flayer = getFlayerFromID(item_id)"
   ]
  },
  {
   "cell_type": "code",
   "execution_count": 11,
   "metadata": {},
   "outputs": [],
   "source": [
    "sdf = getSDFfromFlayer(flayer)"
   ]
  },
  {
   "cell_type": "markdown",
   "metadata": {},
   "source": [
    "# Get below and above countries for each field in challenges"
   ]
  },
  {
   "cell_type": "code",
   "execution_count": 15,
   "metadata": {},
   "outputs": [],
   "source": [
    "fields = ['GID_0',\t'NAME_0', 'Area','GNI_PPP','Population2016', 'prop_protected', 'prop_hm_very_high', 'protection_needed', 'total_endemic','N_SPECIES', 'SPI']"
   ]
  },
  {
   "cell_type": "code",
   "execution_count": 16,
   "metadata": {},
   "outputs": [],
   "source": [
    "df = sdf[fields]"
   ]
  },
  {
   "cell_type": "code",
   "execution_count": 89,
   "metadata": {},
   "outputs": [],
   "source": [
    "filter_fields = ['Area','GNI_PPP','Population2016', 'prop_protected', 'prop_hm_very_high', 'protection_needed', 'total_endemic','N_SPECIES', 'SPI']"
   ]
  },
  {
   "cell_type": "code",
   "execution_count": 107,
   "metadata": {},
   "outputs": [],
   "source": [
    "nber_index = 5\n",
    "max_index = len(df_sort.index) - 1\n",
    "df_sort = df\n",
    "new_fields = []\n",
    "for field in filter_fields:\n",
    "    df_sort = df_sort.sort_values(by = [field]).reset_index(drop=True)\n",
    "    collapse_list = []\n",
    "    for index, i in df_sort.iterrows():\n",
    "        country_gid = df_sort.GID_0[index]\n",
    "        above_index = index - nber_index\n",
    "        below_index = index + nber_index + 1\n",
    "        if above_index < 0:\n",
    "            below_index = nber_index * 2 \n",
    "            above_index = 0\n",
    "        if below_index > max_index:\n",
    "            above_index = max_index - (nber_index * 2)\n",
    "            below_index = max_index\n",
    "\n",
    "        sub_pd = df_sort.GID_0[above_index:below_index]\n",
    "        val_list = sub_pd.values.tolist()\n",
    "        collapse_list.append(json.dumps(val_list))\n",
    "\n",
    "        #val_list_rem = val_list.remove(country_gid)\n",
    "    filter_field = f\"filter_{field}\"\n",
    "    new_fields.append(filter_field)\n",
    "    df_sort[filter_field] = collapse_list"
   ]
  },
  {
   "cell_type": "code",
   "execution_count": 136,
   "metadata": {},
   "outputs": [],
   "source": [
    "similar_list = []\n",
    "for index, i in df_sort.iterrows():\n",
    "    filter_dict = i[new_fields].to_dict()\n",
    "    similar_list.append(json.loads(json.dumps(filter_dict)))    \n",
    "df_sort['filter_similar'] = similar_list"
   ]
  },
  {
   "cell_type": "code",
   "execution_count": null,
   "metadata": {},
   "outputs": [],
   "source": []
  }
 ],
 "metadata": {
  "kernelspec": {
   "display_name": "Python 3",
   "language": "python",
   "name": "python3"
  },
  "language_info": {
   "codemirror_mode": {
    "name": "ipython",
    "version": 3
   },
   "file_extension": ".py",
   "mimetype": "text/x-python",
   "name": "python",
   "nbconvert_exporter": "python",
   "pygments_lexer": "ipython3",
   "version": "3.7.4"
  }
 },
 "nbformat": 4,
 "nbformat_minor": 4
}
