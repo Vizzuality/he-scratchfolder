{
 "cells": [
  {
   "cell_type": "markdown",
   "metadata": {},
   "source": [
    "## Update a Hosted Table"
   ]
  },
  {
   "cell_type": "markdown",
   "metadata": {},
   "source": [
    "## AOIs: Update conservation concern on species lookup tables.\n",
    "We have a lookup table per taxa (reptiles, amphibians, birds and mammlas) with a column **conservation concern** of each species, and we have a separate lookup table with a column **has_image**. We need both columns to be on the same table"
   ]
  },
  {
   "cell_type": "code",
   "execution_count": null,
   "metadata": {},
   "outputs": [],
   "source": [
    "import pandas as pd\n",
    "import numpy as np\n",
    "import geopandas as gpd\n",
    "import arcgis\n",
    "from arcgis.gis import GIS\n",
    "import json\n",
    "import pandas as pd\n",
    "from arcgis.features import FeatureLayerCollection\n",
    "from copy import deepcopy\n",
    "import os"
   ]
  },
  {
   "cell_type": "code",
   "execution_count": null,
   "metadata": {},
   "outputs": [],
   "source": [
    "# env_path = \"../../.env\"\n",
    "env_path = \".env\"\n",
    "with open(env_path) as f:\n",
    "   env = {}\n",
    "   for line in f:\n",
    "       env_key, _val = line.split(\"=\")\n",
    "       env_value = _val.split(\"\\n\")[0]\n",
    "       env[env_key] = env_value"
   ]
  },
  {
   "cell_type": "code",
   "execution_count": null,
   "metadata": {},
   "outputs": [],
   "source": [
    "aol_password = env['ARCGIS_GRETA_PASS']\n",
    "aol_username = env['ARCGIS_GRETA_USER']"
   ]
  },
  {
   "cell_type": "code",
   "execution_count": null,
   "metadata": {},
   "outputs": [],
   "source": [
    "gis = GIS(\"https://eowilson.maps.arcgis.com\", aol_username, aol_password, profile = \"eowilson\")"
   ]
  },
  {
   "cell_type": "code",
   "execution_count": null,
   "metadata": {},
   "outputs": [],
   "source": [
    "## Tables with conservation concern (cc)\n",
    "cc_keys = {'amphibians':'eb487fb505e34052b4cb9e02f3f7a22c',\n",
    "       'reptiles':'38356d976d3f43d7a0d2ab91034b054',\n",
    "       'mammals':'f6e7514c775442b39274d306b54a5952',\n",
    "       'birds':'71e61cd2211b4670a28bfb14b3693f66'}\n",
    "## Tables with has_image (hi)\n",
    "hi_keys = {'amphibians':'a641a4cd269345dea93b8bcb1cb66676',\n",
    "       'reptiles':'81c72a2a5ee6413699960b4c4bd9540f',\n",
    "       'mammals':'84d3c71caf97479d85f620a4ee217d68',\n",
    "       'birds':'4d8698734b654bb9bb7a61d9af314c76'}"
   ]
  },
  {
   "cell_type": "code",
   "execution_count": null,
   "metadata": {},
   "outputs": [],
   "source": [
    "def getHTfromId(item_id):\n",
    "    item = gis.content.get(item_id)\n",
    "    flayer = item.tables[0]\n",
    "    sdf = flayer.query().sdf\n",
    "    return sdf"
   ]
  },
  {
   "cell_type": "code",
   "execution_count": null,
   "metadata": {},
   "outputs": [],
   "source": [
    "## amphibians\n",
    "cc = getHTfromId(cc_keys['amphibians'])\n",
    "hi = getHTfromId(hi_keys['amphibians'])"
   ]
  },
  {
   "cell_type": "code",
   "execution_count": null,
   "metadata": {},
   "outputs": [],
   "source": [
    "cc.head()"
   ]
  },
  {
   "cell_type": "code",
   "execution_count": null,
   "metadata": {},
   "outputs": [],
   "source": [
    "hi.head()"
   ]
  },
  {
   "cell_type": "code",
   "execution_count": null,
   "metadata": {},
   "outputs": [],
   "source": [
    "### Add conservation concern to hi table\n",
    "hi = hi.merge(cc[['SliceNumber','conservation_concern']],how='inner',on='SliceNumber')"
   ]
  },
  {
   "cell_type": "code",
   "execution_count": null,
   "metadata": {},
   "outputs": [],
   "source": [
    "### Add new field to Hosted service\n",
    "## Create fields\n",
    "def createFieldsToBeAdded(flayer, csv_table):\n",
    "    flayer_fields = flayer.manager.properties.fields\n",
    "    template_field = dict(deepcopy(flayer_fields[0]))\n",
    "    sdf = sdf = flayer.query().sdf\n",
    "    new_field_names = list(csv_table.columns.difference(sdf.columns))\n",
    "    \n",
    "    fields_to_be_added = []\n",
    "    for new_field_name in new_field_names:\n",
    "        current_field = deepcopy(template_field)\n",
    "        dt = csv_table[new_field_name].dtypes\n",
    "        \n",
    "        if dt == 'O':\n",
    "            #put the type to character\n",
    "            current_field['sqlType'] = 'sqlTypeOther'\n",
    "            current_field['type'] = 'esriFieldTypeString'\n",
    "            current_field['length'] = 45000\n",
    "        if dt == 'int64':\n",
    "            #put the type to double\n",
    "            current_field['sqlType'] = 'sqlTypeOther'\n",
    "            current_field['type'] = 'esriFieldTypeDouble'\n",
    "            #current_field['length'] = 8000      \n",
    "\n",
    "        current_field['name'] = new_field_name.lower()\n",
    "        current_field['alias'] = new_field_name\n",
    "        current_field['nullable'] = True\n",
    "        current_field['editable'] = True\n",
    "        fields_to_be_added.append(current_field)\n",
    "    return fields_to_be_added"
   ]
  },
  {
   "cell_type": "code",
   "execution_count": null,
   "metadata": {},
   "outputs": [],
   "source": [
    "item = gis.content.get(hi_keys['amphibians'])\n",
    "flayer = item.tables[0]\n",
    "fields_to_be_added = createFieldsToBeAdded(flayer, hi)"
   ]
  },
  {
   "cell_type": "code",
   "execution_count": null,
   "metadata": {},
   "outputs": [],
   "source": [
    "fields_to_be_added"
   ]
  },
  {
   "cell_type": "code",
   "execution_count": null,
   "metadata": {},
   "outputs": [],
   "source": [
    "flayer.manager.add_to_definition({'fields':fields_to_be_added})"
   ]
  },
  {
   "cell_type": "code",
   "execution_count": null,
   "metadata": {},
   "outputs": [],
   "source": [
    "#https://developers.arcgis.com/python/sample-notebooks/updating-features-in-a-feature-layer/\n",
    "def createFeaturesForUpdate(flayer, csv_table, fields_to_be_added, id_field_in_csv, id_field_in_service):\n",
    "    fset2 = flayer.query()\n",
    "    features2 = fset2.features\n",
    "    features_for_update = []\n",
    "    for country_id in csv_table[id_field_in_csv]:\n",
    "        try:\n",
    "            # get the matching row from csv\n",
    "            matching_row = csv_table.where(csv_table[id_field_in_csv] == country_id).dropna()\n",
    "\n",
    "            #print(str(country_id) + \" Adding additional attributes for: \" + matching_row['iso3'].values[0])\n",
    "\n",
    "            # get the feature to be updated\n",
    "            assert  len([f for f in features2 if f.attributes[id_field_in_service] == country_id]),  \"id not matched\"\n",
    "            original_feature = [f for f in features2 if f.attributes[id_field_in_service] == country_id][0]\n",
    "            feature_to_be_updated = deepcopy(original_feature)\n",
    "\n",
    "            # assign the updated values\n",
    "            for field in fields_to_be_added:\n",
    "                feature_to_be_updated.attributes[field['name']] = matching_row[field['name']].values[0]\n",
    "                #add this to the list of features to be updated\n",
    "                features_for_update.append(feature_to_be_updated)\n",
    "    \n",
    "        except:\n",
    "            print(f\"{country_id} not available in service\")\n",
    "    return features_for_update"
   ]
  },
  {
   "cell_type": "code",
   "execution_count": null,
   "metadata": {},
   "outputs": [],
   "source": [
    "features_for_update = createFeaturesForUpdate(flayer = flayer ,\n",
    "                        csv_table = hi,\n",
    "                        fields_to_be_added =  fields_to_be_added, \n",
    "                        id_field_in_csv = \"SliceNumber\", \n",
    "                        id_field_in_service = \"SliceNumber\")"
   ]
  },
  {
   "cell_type": "code",
   "execution_count": null,
   "metadata": {},
   "outputs": [],
   "source": [
    "flayer.edit_features(updates= features_for_update)"
   ]
  },
  {
   "cell_type": "code",
   "execution_count": null,
   "metadata": {},
   "outputs": [],
   "source": [
    "## Tables with conservation concern (cc)\n",
    "cc_keys = {'birds':'71e61cd2211b4670a28bfb14b3693f66'}\n",
    "## Tables with has_image (hi)\n",
    "hi_keys = {'birds':'4d8698734b654bb9bb7a61d9af314c76'}"
   ]
  },
  {
   "cell_type": "code",
   "execution_count": null,
   "metadata": {},
   "outputs": [],
   "source": [
    "### reptiles\n",
    "hi_keys = {'reptiles':'81c72a2a5ee6413699960b4c4bd9540f'}\n",
    "cc_keys = {'reptiles':'38356d976d3f43d7a0d2ab91034b054b'}"
   ]
  },
  {
   "cell_type": "code",
   "execution_count": null,
   "metadata": {},
   "outputs": [],
   "source": [
    "for key in cc_keys:\n",
    "    ## get df from Hosted tables\n",
    "    cc = getHTfromId(cc_keys[key])\n",
    "    hi = getHTfromId(hi_keys[key])\n",
    "    \n",
    "    ### bring conservation_concern column to base table\n",
    "    hi = hi.merge(cc[['SliceNumber','conservation_concern']],how='inner',on='SliceNumber')\n",
    "    \n",
    "    ### Create New fields\n",
    "    item = gis.content.get(hi_keys[key])\n",
    "    flayer = item.tables[0]\n",
    "    fields_to_be_added = createFieldsToBeAdded(flayer, hi)\n",
    "    \n",
    "    ### Add new fields\n",
    "    flayer.manager.add_to_definition({'fields':fields_to_be_added})\n",
    "    \n",
    "    ### Create features to update\n",
    "    #### triplicate columns, check what has happened?\n",
    "    if key == 'birds':\n",
    "        start = np.arange(0,len(hi), step = 2000)\n",
    "        for i in start:\n",
    "            features_for_update = createFeaturesForUpdate(flayer = flayer, \n",
    "                                                          csv_table = hi[i:i+2000], \n",
    "                                                          fields_to_be_added =  fields_to_be_added, \n",
    "                                                          id_field_in_csv = \"SliceNumber\", \n",
    "                                                          id_field_in_service = \"SliceNumber\")\n",
    "            flayer.edit_features(updates= features_for_update)\n",
    "    else: \n",
    "        features_for_update = createFeaturesForUpdate(flayer = flayer,\n",
    "                        csv_table = hi,\n",
    "                        fields_to_be_added =  fields_to_be_added, \n",
    "                        id_field_in_csv = \"SliceNumber\", \n",
    "                        id_field_in_service = \"SliceNumber\")\n",
    "    \n",
    "        ### Update Features\n",
    "        flayer.edit_features(updates= features_for_update)\n",
    "    "
   ]
  },
  {
   "cell_type": "markdown",
   "metadata": {
    "tags": []
   },
   "source": [
    "## Add Conservation Concern field to amphibians table "
   ]
  },
  {
   "cell_type": "code",
   "execution_count": null,
   "metadata": {},
   "outputs": [],
   "source": [
    "import pandas as pd\n",
    "import numpy as np\n",
    "import geopandas as gpd\n",
    "import arcgis\n",
    "from arcgis.gis import GIS\n",
    "import json\n",
    "import pandas as pd\n",
    "from arcgis.features import FeatureLayerCollection\n",
    "from copy import deepcopy\n",
    "import os"
   ]
  },
  {
   "cell_type": "code",
   "execution_count": null,
   "metadata": {},
   "outputs": [],
   "source": [
    "# env_path = \"../../.env\"\n",
    "env_path = \".env\"\n",
    "with open(env_path) as f:\n",
    "   env = {}\n",
    "   for line in f:\n",
    "       env_key, _val = line.split(\"=\")\n",
    "       env_value = _val.split(\"\\n\")[0]\n",
    "       env[env_key] = env_value"
   ]
  },
  {
   "cell_type": "code",
   "execution_count": null,
   "metadata": {},
   "outputs": [],
   "source": [
    "aol_password = env['ARCGIS_GRETA_PASS']\n",
    "aol_username = env['ARCGIS_GRETA_USER']"
   ]
  },
  {
   "cell_type": "code",
   "execution_count": null,
   "metadata": {},
   "outputs": [],
   "source": [
    "gis = GIS(\"https://eowilson.maps.arcgis.com\", aol_username, aol_password, profile = \"eowilson\")"
   ]
  },
  {
   "cell_type": "code",
   "execution_count": null,
   "metadata": {},
   "outputs": [],
   "source": [
    "## Function to get table from AGOL as sdf\n",
    "def getHTfromId(item_id):\n",
    "    item = gis.content.get(item_id)\n",
    "    flayer = item.tables[0]\n",
    "    sdf = flayer.query().sdf\n",
    "    return sdf"
   ]
  },
  {
   "cell_type": "code",
   "execution_count": null,
   "metadata": {},
   "outputs": [],
   "source": [
    "## Get sdf of amphibians tables\n",
    "cc_key = 'eb487fb505e34052b4cb9e02f3f7a22c' # table with conservation concern\n",
    "hi_key = 'a641a4cd269345dea93b8bcb1cb66676' # table used by FE\n",
    "\n",
    "cc = getHTfromId(cc_key) \n",
    "hi = getHTfromId(hi_key) \n"
   ]
  },
  {
   "cell_type": "code",
   "execution_count": null,
   "metadata": {},
   "outputs": [],
   "source": [
    "cc.head(5)"
   ]
  },
  {
   "cell_type": "code",
   "execution_count": null,
   "metadata": {},
   "outputs": [],
   "source": [
    "hi.head(5)"
   ]
  },
  {
   "cell_type": "code",
   "execution_count": null,
   "metadata": {},
   "outputs": [],
   "source": [
    "### Add conservation concern, common name and synonyms to hi table \n",
    "hi = hi.merge(cc[['SliceNumber','conservation_concern']],how='inner',on='SliceNumber')\n",
    "hi.head()"
   ]
  },
  {
   "cell_type": "code",
   "execution_count": null,
   "metadata": {},
   "outputs": [],
   "source": [
    "sum(hi['conservation_concern']==0)"
   ]
  },
  {
   "cell_type": "code",
   "execution_count": null,
   "metadata": {},
   "outputs": [],
   "source": [
    "### Add new field to Hosted service\n",
    "## Create fields\n",
    "def createFieldsToBeAdded(flayer, csv_table):\n",
    "    flayer_fields = flayer.manager.properties.fields\n",
    "    template_field = dict(deepcopy(flayer_fields[0]))\n",
    "    sdf = sdf = flayer.query().sdf\n",
    "    new_field_names = list(csv_table.columns.difference(sdf.columns))\n",
    "    \n",
    "    fields_to_be_added = []\n",
    "    for new_field_name in new_field_names:\n",
    "        current_field = deepcopy(template_field)\n",
    "        dt = csv_table[new_field_name].dtypes\n",
    "        \n",
    "        if dt == 'O':\n",
    "            #put the type to character\n",
    "            current_field['sqlType'] = 'sqlTypeOther'\n",
    "            current_field['type'] = 'esriFieldTypeString'\n",
    "            current_field['length'] = 45000\n",
    "        if dt == 'int64':\n",
    "            #put the type to double\n",
    "            current_field['sqlType'] = 'sqlTypeOther'\n",
    "            current_field['type'] = 'esriFieldTypeDouble'\n",
    "            #current_field['length'] = 8000      \n",
    "\n",
    "        current_field['name'] = new_field_name.lower()\n",
    "        current_field['alias'] = new_field_name\n",
    "        current_field['nullable'] = True\n",
    "        current_field['editable'] = True\n",
    "        fields_to_be_added.append(current_field)\n",
    "    return fields_to_be_added"
   ]
  },
  {
   "cell_type": "code",
   "execution_count": null,
   "metadata": {},
   "outputs": [],
   "source": [
    "# Get table to be updated and compare both to identify fields to be added\n",
    "item = gis.content.get(hi_key)\n",
    "flayer = item.tables[0]\n",
    "fields_to_be_added = createFieldsToBeAdded(flayer, hi)"
   ]
  },
  {
   "cell_type": "code",
   "execution_count": null,
   "metadata": {},
   "outputs": [],
   "source": [
    "fields_to_be_added"
   ]
  },
  {
   "cell_type": "code",
   "execution_count": null,
   "metadata": {},
   "outputs": [],
   "source": [
    "flayer.manager.add_to_definition({'fields':fields_to_be_added})"
   ]
  },
  {
   "cell_type": "code",
   "execution_count": null,
   "metadata": {},
   "outputs": [],
   "source": [
    "#https://developers.arcgis.com/python/sample-notebooks/updating-features-in-a-feature-layer/\n",
    "def createFeaturesForUpdate(flayer, csv_table, fields_to_be_added, id_field_in_csv, id_field_in_service):\n",
    "    fset2 = flayer.query()\n",
    "    features2 = fset2.features\n",
    "    features_for_update = []\n",
    "    for country_id in csv_table[id_field_in_csv]:\n",
    "        try:\n",
    "            # get the matching row from csv\n",
    "            matching_row = csv_table.where(csv_table[id_field_in_csv] == country_id).dropna()\n",
    "\n",
    "            #print(str(country_id) + \" Adding additional attributes for: \" + matching_row['iso3'].values[0])\n",
    "\n",
    "            # get the feature to be updated\n",
    "            assert  len([f for f in features2 if f.attributes[id_field_in_service] == country_id]),  \"id not matched\"\n",
    "            original_feature = [f for f in features2 if f.attributes[id_field_in_service] == country_id][0]\n",
    "            feature_to_be_updated = deepcopy(original_feature)\n",
    "\n",
    "            # assign the updated values\n",
    "            for field in fields_to_be_added:\n",
    "                feature_to_be_updated.attributes[field['name']] = matching_row[field['name']].values[0]\n",
    "                #add this to the list of features to be updated\n",
    "                features_for_update.append(feature_to_be_updated)\n",
    "    \n",
    "        except:\n",
    "            print(f\"{country_id} not available in service\")\n",
    "    return features_for_update"
   ]
  },
  {
   "cell_type": "code",
   "execution_count": null,
   "metadata": {
    "tags": []
   },
   "outputs": [],
   "source": [
    "features_for_update = createFeaturesForUpdate(flayer = flayer ,\n",
    "                        csv_table = hi,\n",
    "                        fields_to_be_added =  fields_to_be_added, \n",
    "                        id_field_in_csv = \"SliceNumber\", \n",
    "                        id_field_in_service = \"SliceNumber\")"
   ]
  },
  {
   "cell_type": "code",
   "execution_count": null,
   "metadata": {
    "tags": []
   },
   "outputs": [],
   "source": [
    "flayer.edit_features(updates= features_for_update)"
   ]
  },
  {
   "cell_type": "markdown",
   "metadata": {},
   "source": [
    "## Add common name and synonyms fields\n",
    "For some reason, when uploading more than one new field at a time, the resulting table in AGOL is incomplete. Therefore, in this case upload the two new fields separately\n",
    "### Add common name field"
   ]
  },
  {
   "cell_type": "code",
   "execution_count": 1,
   "metadata": {},
   "outputs": [],
   "source": [
    "import pandas as pd\n",
    "import numpy as np\n",
    "import geopandas as gpd\n",
    "import arcgis\n",
    "from arcgis.gis import GIS\n",
    "import json\n",
    "import pandas as pd\n",
    "from arcgis.features import FeatureLayerCollection\n",
    "from copy import deepcopy\n",
    "import os"
   ]
  },
  {
   "cell_type": "markdown",
   "metadata": {},
   "source": [
    "#### Prepare table with common name"
   ]
  },
  {
   "cell_type": "code",
   "execution_count": 38,
   "metadata": {},
   "outputs": [],
   "source": [
    "# Read table with common names shared by Scott (https://eowilson.maps.arcgis.com/home/item.html?id=b09984e429814a0ea7ea5ed44dd3b609)\n",
    "cn = pd.read_csv('/Users/sofia/Documents/HE_Data/Amphibian_CRF_species_table.csv') "
   ]
  },
  {
   "cell_type": "code",
   "execution_count": 41,
   "metadata": {},
   "outputs": [
    {
     "data": {
      "text/plain": [
       "'Southern Cricket Frog, Florida  Cricket Frog (<i>A. g. dorsalis</i>), Southern Cricket Frog (<i>A. g. gryllus</i>)'"
      ]
     },
     "execution_count": 41,
     "metadata": {},
     "output_type": "execute_result"
    }
   ],
   "source": [
    "# Some values need to be modified\n",
    "cn.loc[cn['Name'] == 'Acris_gryllus', 'common_name'].iloc[0]"
   ]
  },
  {
   "cell_type": "code",
   "execution_count": 52,
   "metadata": {},
   "outputs": [
    {
     "name": "stderr",
     "output_type": "stream",
     "text": [
      "/var/folders/98/0pdnjc5s29x2pnzl293pw7hr0000gn/T/ipykernel_3942/3626974350.py:10: SettingWithCopyWarning: \n",
      "A value is trying to be set on a copy of a slice from a DataFrame\n",
      "\n",
      "See the caveats in the documentation: https://pandas.pydata.org/pandas-docs/stable/user_guide/indexing.html#returning-a-view-versus-a-copy\n",
      "  cn['common_name_array'][row] = cn['common_name'][row].split(',')\n"
     ]
    }
   ],
   "source": [
    "# Modify values\n",
    "import re\n",
    "\n",
    "cn['common_name_array'] = np.nan\n",
    "\n",
    "for row in range(0,len(cn)):\n",
    "    if type(cn['common_name'][row]) == str:\n",
    "        cn['common_name_array'][row] = cn['common_name'][row].split(',')\n",
    "        l = len(cn['common_name_array'][row])\n",
    "        if l>1:\n",
    "            for i in range(0, l):\n",
    "                a = re.sub(r\"\\([^()]*\\)\", \"\", ((cn['common_name_array'][row])[i]))\n",
    "                a = a.rstrip().lstrip()\n",
    "                cn['common_name_array'][row][i] = a\n",
    "\n",
    "        "
   ]
  },
  {
   "cell_type": "code",
   "execution_count": 53,
   "metadata": {},
   "outputs": [
    {
     "data": {
      "text/plain": [
       "['Southern Cricket Frog', 'Florida  Cricket Frog', 'Southern Cricket Frog']"
      ]
     },
     "execution_count": 53,
     "metadata": {},
     "output_type": "execute_result"
    }
   ],
   "source": [
    "# It returns a list of strings\n",
    "(cn.loc[cn['Name'] == 'Acris_gryllus', 'common_name_array'].iloc[0])"
   ]
  },
  {
   "cell_type": "code",
   "execution_count": 247,
   "metadata": {},
   "outputs": [],
   "source": [
    "# ## Function that removes parenthesis (and anything inside them), and leading and trailing spaces\n",
    "# import re\n",
    "# def make_array(row):\n",
    "#     row_list = row.split(',')\n",
    "#     row_array= []\n",
    "#     for i in row_list: \n",
    "#         row_array.append(re.sub(r'\\([^()]*\\)', '', i).rstrip().lstrip())\n",
    "#     return row_array"
   ]
  },
  {
   "cell_type": "code",
   "execution_count": 248,
   "metadata": {},
   "outputs": [],
   "source": [
    "# ## Apply function to all rows in table and create an array of names\n",
    "# cn['common_name_array']= np.nan\n",
    "# cn['common_name_array'] = cn['common_name'].apply(lambda row : json.dumps(make_array(row)) if type(row)==str else row)\n",
    "# cn['synonyms_array']= np.nan\n",
    "# cn['synonyms_array']= cn['synonyms'].apply(lambda row : json.dumps(make_array(row)) if type(row)==str else row)"
   ]
  },
  {
   "cell_type": "markdown",
   "metadata": {},
   "source": [
    "When applying this function some characters in the string change"
   ]
  },
  {
   "cell_type": "markdown",
   "metadata": {},
   "source": [
    "#### Update amphibians table with common names"
   ]
  },
  {
   "cell_type": "code",
   "execution_count": 2,
   "metadata": {},
   "outputs": [],
   "source": [
    "# Log in AGOL\n",
    "env_path = \".env\"\n",
    "with open(env_path) as f:\n",
    "   env = {}\n",
    "   for line in f:\n",
    "       env_key, _val = line.split(\"=\")\n",
    "       env_value = _val.split(\"\\n\")[0]\n",
    "       env[env_key] = env_value\n",
    "    \n",
    "aol_password = env['ARCGIS_GRETA_PASS']\n",
    "aol_username = env['ARCGIS_GRETA_USER']\n",
    "\n",
    "gis = GIS(\"https://eowilson.maps.arcgis.com\", aol_username, aol_password, profile = \"eowilson\")"
   ]
  },
  {
   "cell_type": "code",
   "execution_count": null,
   "metadata": {},
   "outputs": [],
   "source": [
    "## Function to get table from AGOL as sdf\n",
    "def getHTfromId(item_id):\n",
    "    item = gis.content.get(item_id)\n",
    "    flayer = item.tables[0]\n",
    "    sdf = flayer.query().sdf\n",
    "    return sdf"
   ]
  },
  {
   "cell_type": "code",
   "execution_count": null,
   "metadata": {},
   "outputs": [],
   "source": [
    "# Call hosted table to update\n",
    "hi_key = 'a641a4cd269345dea93b8bcb1cb66676' \n",
    "hi = getHTfromId(hi_key)"
   ]
  },
  {
   "cell_type": "code",
   "execution_count": null,
   "metadata": {},
   "outputs": [],
   "source": [
    "# Merge both tables to create new field in hosted table\n",
    "hi = hi.merge(cn[['SliceNumber','common_name_array']],how='inner',on='SliceNumber')\n",
    "hi.tail()"
   ]
  },
  {
   "cell_type": "code",
   "execution_count": null,
   "metadata": {},
   "outputs": [],
   "source": [
    "### Add new field to Hosted service\n",
    "## Create fields\n",
    "def createFieldsToBeAdded(flayer, csv_table):\n",
    "    flayer_fields = flayer.manager.properties.fields\n",
    "    template_field = dict(deepcopy(flayer_fields[0]))\n",
    "    sdf = sdf = flayer.query().sdf\n",
    "    new_field_names = list(csv_table.columns.difference(sdf.columns))\n",
    "    \n",
    "    fields_to_be_added = []\n",
    "    for new_field_name in new_field_names:\n",
    "        current_field = deepcopy(template_field)\n",
    "        dt = csv_table[new_field_name].dtypes\n",
    "        \n",
    "        if dt == 'O':\n",
    "            #put the type to character\n",
    "            current_field['sqlType'] = 'sqlTypeOther'\n",
    "            current_field['type'] = 'esriFieldTypeString'\n",
    "            current_field['length'] = 45000\n",
    "        if dt == 'int64':\n",
    "            #put the type to double\n",
    "            current_field['sqlType'] = 'sqlTypeOther'\n",
    "            current_field['type'] = 'esriFieldTypeDouble'\n",
    "            #current_field['length'] = 8000      \n",
    "\n",
    "        current_field['name'] = new_field_name.lower()\n",
    "        current_field['alias'] = new_field_name\n",
    "        current_field['nullable'] = True\n",
    "        current_field['editable'] = True\n",
    "        fields_to_be_added.append(current_field)\n",
    "    return fields_to_be_added"
   ]
  },
  {
   "cell_type": "code",
   "execution_count": null,
   "metadata": {},
   "outputs": [],
   "source": [
    "# Get table to be updated and compare both to identify fields to be added\n",
    "item = gis.content.get(hi_key)\n",
    "flayer = item.tables[0]\n",
    "fields_to_be_added = createFieldsToBeAdded(flayer, hi)"
   ]
  },
  {
   "cell_type": "code",
   "execution_count": null,
   "metadata": {},
   "outputs": [],
   "source": [
    "# Check fields to be added\n",
    "fields_to_be_added"
   ]
  },
  {
   "cell_type": "code",
   "execution_count": null,
   "metadata": {},
   "outputs": [],
   "source": [
    "flayer.manager.add_to_definition({'fields':fields_to_be_added})"
   ]
  },
  {
   "cell_type": "code",
   "execution_count": null,
   "metadata": {},
   "outputs": [],
   "source": [
    "# Function to create features for update\n",
    "#https://developers.arcgis.com/python/sample-notebooks/updating-features-in-a-feature-layer/\n",
    "def createFeaturesForUpdate(flayer, csv_table, fields_to_be_added, id_field_in_csv, id_field_in_service):\n",
    "    fset2 = flayer.query()\n",
    "    features2 = fset2.features\n",
    "    features_for_update = []\n",
    "    for country_id in csv_table[id_field_in_csv]:\n",
    "        try:\n",
    "            # get the matching row from csv\n",
    "            matching_row = csv_table.where(csv_table[id_field_in_csv] == country_id).dropna()\n",
    "\n",
    "            #print(str(country_id) + \" Adding additional attributes for: \" + matching_row['iso3'].values[0])\n",
    "\n",
    "            # get the feature to be updated\n",
    "            assert  len([f for f in features2 if f.attributes[id_field_in_service] == country_id]),  \"id not matched\"\n",
    "            original_feature = [f for f in features2 if f.attributes[id_field_in_service] == country_id][0]\n",
    "            feature_to_be_updated = deepcopy(original_feature)\n",
    "\n",
    "            # assign the updated values\n",
    "            for field in fields_to_be_added:\n",
    "                feature_to_be_updated.attributes[field['name']] = matching_row[field['name']].values[0]\n",
    "                #add this to the list of features to be updated\n",
    "                features_for_update.append(feature_to_be_updated)\n",
    "    \n",
    "        except:\n",
    "            print(f\"{country_id} not available in service\")\n",
    "    return features_for_update"
   ]
  },
  {
   "cell_type": "code",
   "execution_count": null,
   "metadata": {
    "tags": []
   },
   "outputs": [],
   "source": [
    "# Create features for update\n",
    "features_for_update = createFeaturesForUpdate(flayer = flayer ,\n",
    "                        csv_table = hi,\n",
    "                        fields_to_be_added =  fields_to_be_added, \n",
    "                        id_field_in_csv = \"SliceNumber\", \n",
    "                        id_field_in_service = \"SliceNumber\")"
   ]
  },
  {
   "cell_type": "code",
   "execution_count": null,
   "metadata": {
    "tags": []
   },
   "outputs": [],
   "source": [
    "# Update table\n",
    "flayer.edit_features(updates= features_for_update)"
   ]
  },
  {
   "cell_type": "markdown",
   "metadata": {},
   "source": [
    "#### Add synonyms_array field"
   ]
  },
  {
   "cell_type": "code",
   "execution_count": null,
   "metadata": {},
   "outputs": [],
   "source": [
    "hi_key = 'a641a4cd269345dea93b8bcb1cb66676' # table used by FE\n",
    "hi = getHTfromId(hi_key)\n"
   ]
  },
  {
   "cell_type": "code",
   "execution_count": null,
   "metadata": {},
   "outputs": [],
   "source": [
    "hi = hi.merge(cn[['SliceNumber','synonyms_array']],how='inner',on='SliceNumber')"
   ]
  },
  {
   "cell_type": "code",
   "execution_count": null,
   "metadata": {},
   "outputs": [],
   "source": [
    "### Add new field to Hosted service\n",
    "## Create fields\n",
    "def createFieldsToBeAdded(flayer, csv_table):\n",
    "    flayer_fields = flayer.manager.properties.fields\n",
    "    template_field = dict(deepcopy(flayer_fields[0]))\n",
    "    sdf = sdf = flayer.query().sdf\n",
    "    new_field_names = list(csv_table.columns.difference(sdf.columns))\n",
    "    \n",
    "    fields_to_be_added = []\n",
    "    for new_field_name in new_field_names:\n",
    "        current_field = deepcopy(template_field)\n",
    "        dt = csv_table[new_field_name].dtypes\n",
    "        \n",
    "        if dt == 'O':\n",
    "            #put the type to character\n",
    "            current_field['sqlType'] = 'sqlTypeOther'\n",
    "            current_field['type'] = 'esriFieldTypeString'\n",
    "            current_field['length'] = 45000\n",
    "        if dt == 'int64':\n",
    "            #put the type to double\n",
    "            current_field['sqlType'] = 'sqlTypeOther'\n",
    "            current_field['type'] = 'esriFieldTypeDouble'\n",
    "            #current_field['length'] = 8000      \n",
    "\n",
    "        current_field['name'] = new_field_name.lower()\n",
    "        current_field['alias'] = new_field_name\n",
    "        current_field['nullable'] = True\n",
    "        current_field['editable'] = True\n",
    "        fields_to_be_added.append(current_field)\n",
    "    return fields_to_be_added"
   ]
  },
  {
   "cell_type": "code",
   "execution_count": null,
   "metadata": {},
   "outputs": [],
   "source": [
    "# Get table to be updated and compare both to identify fields to be added\n",
    "item = gis.content.get(hi_key)\n",
    "flayer = item.tables[0]\n",
    "fields_to_be_added = createFieldsToBeAdded(flayer, hi)"
   ]
  },
  {
   "cell_type": "code",
   "execution_count": null,
   "metadata": {},
   "outputs": [],
   "source": [
    "fields_to_be_added"
   ]
  },
  {
   "cell_type": "code",
   "execution_count": null,
   "metadata": {},
   "outputs": [],
   "source": [
    "flayer.manager.add_to_definition({'fields':fields_to_be_added})"
   ]
  },
  {
   "cell_type": "code",
   "execution_count": null,
   "metadata": {},
   "outputs": [],
   "source": [
    "#https://developers.arcgis.com/python/sample-notebooks/updating-features-in-a-feature-layer/\n",
    "def createFeaturesForUpdate(flayer, csv_table, fields_to_be_added, id_field_in_csv, id_field_in_service):\n",
    "    fset2 = flayer.query()\n",
    "    features2 = fset2.features\n",
    "    features_for_update = []\n",
    "    for country_id in csv_table[id_field_in_csv]:\n",
    "        try:\n",
    "            # get the matching row from csv\n",
    "            matching_row = csv_table.where(csv_table[id_field_in_csv] == country_id).dropna()\n",
    "\n",
    "            #print(str(country_id) + \" Adding additional attributes for: \" + matching_row['iso3'].values[0])\n",
    "\n",
    "            # get the feature to be updated\n",
    "            assert  len([f for f in features2 if f.attributes[id_field_in_service] == country_id]),  \"id not matched\"\n",
    "            original_feature = [f for f in features2 if f.attributes[id_field_in_service] == country_id][0]\n",
    "            feature_to_be_updated = deepcopy(original_feature)\n",
    "\n",
    "            # assign the updated values\n",
    "            for field in fields_to_be_added:\n",
    "                feature_to_be_updated.attributes[field['name']] = matching_row[field['name']].values[0]\n",
    "                #add this to the list of features to be updated\n",
    "                features_for_update.append(feature_to_be_updated)\n",
    "    \n",
    "        except:\n",
    "            print(f\"{country_id} not available in service\")\n",
    "    return features_for_update"
   ]
  },
  {
   "cell_type": "code",
   "execution_count": null,
   "metadata": {
    "tags": []
   },
   "outputs": [],
   "source": [
    "features_for_update = createFeaturesForUpdate(flayer = flayer ,\n",
    "                        csv_table = hi,\n",
    "                        fields_to_be_added =  fields_to_be_added, \n",
    "                        id_field_in_csv = \"SliceNumber\", \n",
    "                        id_field_in_service = \"SliceNumber\")"
   ]
  },
  {
   "cell_type": "code",
   "execution_count": null,
   "metadata": {
    "tags": []
   },
   "outputs": [],
   "source": [
    "flayer.edit_features(updates= features_for_update)"
   ]
  }
 ],
 "metadata": {
  "kernelspec": {
   "display_name": "Python 3 (ipykernel)",
   "language": "python",
   "name": "python3"
  },
  "language_info": {
   "codemirror_mode": {
    "name": "ipython",
    "version": 3
   },
   "file_extension": ".py",
   "mimetype": "text/x-python",
   "name": "python",
   "nbconvert_exporter": "python",
   "pygments_lexer": "ipython3",
   "version": "3.8.12"
  }
 },
 "nbformat": 4,
 "nbformat_minor": 4
}
