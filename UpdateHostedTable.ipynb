{
 "cells": [
  {
   "cell_type": "markdown",
   "metadata": {},
   "source": [
    "## Update a Hosted Table"
   ]
  },
  {
   "cell_type": "markdown",
   "metadata": {},
   "source": [
    "## AOIs: Update conservation concern on species lookup tables.\n",
    "We have a lookup table per taxa (reptiles, amphibians, birds and mammlas) with a column **conservation concern** of each species, and we have a separate lookup table with a column **has_image**. We need both columns to be on the same table"
   ]
  },
  {
   "cell_type": "code",
   "execution_count": 144,
   "metadata": {},
   "outputs": [],
   "source": [
    "import pandas as pd\n",
    "import numpy as np\n",
    "import geopandas as gpd\n",
    "import arcgis\n",
    "from arcgis.gis import GIS\n",
    "import json\n",
    "import pandas as pd\n",
    "from arcgis.features import FeatureLayerCollection\n",
    "from copy import deepcopy\n",
    "import os"
   ]
  },
  {
   "cell_type": "code",
   "execution_count": 145,
   "metadata": {},
   "outputs": [],
   "source": [
    "env_path = \"../../.env\"\n",
    "with open(env_path) as f:\n",
    "   env = {}\n",
    "   for line in f:\n",
    "       env_key, _val = line.split(\"=\")\n",
    "       env_value = _val.split(\"\\n\")[0]\n",
    "       env[env_key] = env_value"
   ]
  },
  {
   "cell_type": "code",
   "execution_count": 146,
   "metadata": {},
   "outputs": [],
   "source": [
    "aol_password = env['ARCGIS_GRETA_PASS']\n",
    "aol_username = env['ARCGIS_GRETA_USER']"
   ]
  },
  {
   "cell_type": "code",
   "execution_count": 147,
   "metadata": {},
   "outputs": [],
   "source": [
    "gis = GIS(\"https://eowilson.maps.arcgis.com\", aol_username, aol_password, profile = \"eowilson\")"
   ]
  },
  {
   "cell_type": "code",
   "execution_count": 68,
   "metadata": {},
   "outputs": [],
   "source": [
    "## Tables with conservation concern (cc)\n",
    "cc_keys = {'amphibians':'eb487fb505e34052b4cb9e02f3f7a22c',\n",
    "       'reptiles':'38356d976d3f43d7a0d2ab91034b054',\n",
    "       'mammals':'f6e7514c775442b39274d306b54a5952',\n",
    "       'birds':'71e61cd2211b4670a28bfb14b3693f66'}\n",
    "## Tables with has_image (hi)\n",
    "hi_keys = {'amphibians':'a641a4cd269345dea93b8bcb1cb66676',\n",
    "       'reptiles':'81c72a2a5ee6413699960b4c4bd9540f',\n",
    "       'mammals':'84d3c71caf97479d85f620a4ee217d68',\n",
    "       'birds':'4d8698734b654bb9bb7a61d9af314c76'}"
   ]
  },
  {
   "cell_type": "code",
   "execution_count": 58,
   "metadata": {},
   "outputs": [],
   "source": [
    "def getHTfromId(item_id):\n",
    "    item = gis.content.get(item_id)\n",
    "    flayer = item.tables[0]\n",
    "    sdf = flayer.query().sdf\n",
    "    return sdf"
   ]
  },
  {
   "cell_type": "code",
   "execution_count": 59,
   "metadata": {},
   "outputs": [],
   "source": [
    "## amphibians\n",
    "cc = getHTfromId(cc_keys['amphibians'])\n",
    "hi = getHTfromId(hi_keys['amphibians'])"
   ]
  },
  {
   "cell_type": "code",
   "execution_count": 60,
   "metadata": {},
   "outputs": [
    {
     "data": {
      "text/html": [
       "<div>\n",
       "<style scoped>\n",
       "    .dataframe tbody tr th:only-of-type {\n",
       "        vertical-align: middle;\n",
       "    }\n",
       "\n",
       "    .dataframe tbody tr th {\n",
       "        vertical-align: top;\n",
       "    }\n",
       "\n",
       "    .dataframe thead th {\n",
       "        text-align: right;\n",
       "    }\n",
       "</style>\n",
       "<table border=\"1\" class=\"dataframe\">\n",
       "  <thead>\n",
       "    <tr style=\"text-align: right;\">\n",
       "      <th></th>\n",
       "      <th>Name</th>\n",
       "      <th>SliceNumber</th>\n",
       "      <th>scientific_name</th>\n",
       "      <th>range_area_km2</th>\n",
       "      <th>wdpa_km2</th>\n",
       "      <th>percent_protected</th>\n",
       "      <th>conservation_target</th>\n",
       "      <th>is_flagship</th>\n",
       "      <th>conservation_concern</th>\n",
       "      <th>ObjectId</th>\n",
       "    </tr>\n",
       "  </thead>\n",
       "  <tbody>\n",
       "    <tr>\n",
       "      <th>0</th>\n",
       "      <td>Acanthixalus_sonjae</td>\n",
       "      <td>1</td>\n",
       "      <td>Acanthixalus sonjae</td>\n",
       "      <td>787</td>\n",
       "      <td>787</td>\n",
       "      <td>100</td>\n",
       "      <td>100</td>\n",
       "      <td>0</td>\n",
       "      <td>0</td>\n",
       "      <td>1</td>\n",
       "    </tr>\n",
       "    <tr>\n",
       "      <th>1</th>\n",
       "      <td>Acanthixalus_spinosus</td>\n",
       "      <td>2</td>\n",
       "      <td>Acanthixalus spinosus</td>\n",
       "      <td>1041435</td>\n",
       "      <td>207623</td>\n",
       "      <td>20</td>\n",
       "      <td>15</td>\n",
       "      <td>0</td>\n",
       "      <td>0</td>\n",
       "      <td>2</td>\n",
       "    </tr>\n",
       "    <tr>\n",
       "      <th>2</th>\n",
       "      <td>Acris_crepitans</td>\n",
       "      <td>3</td>\n",
       "      <td>Acris crepitans</td>\n",
       "      <td>1750647</td>\n",
       "      <td>90682</td>\n",
       "      <td>5</td>\n",
       "      <td>15</td>\n",
       "      <td>0</td>\n",
       "      <td>10</td>\n",
       "      <td>3</td>\n",
       "    </tr>\n",
       "    <tr>\n",
       "      <th>3</th>\n",
       "      <td>Acris_gryllus</td>\n",
       "      <td>4</td>\n",
       "      <td>Acris gryllus</td>\n",
       "      <td>494322</td>\n",
       "      <td>24443</td>\n",
       "      <td>5</td>\n",
       "      <td>15</td>\n",
       "      <td>0</td>\n",
       "      <td>10</td>\n",
       "      <td>4</td>\n",
       "    </tr>\n",
       "    <tr>\n",
       "      <th>4</th>\n",
       "      <td>Adelastes_hylonomos</td>\n",
       "      <td>5</td>\n",
       "      <td>Adelastes hylonomos</td>\n",
       "      <td>155</td>\n",
       "      <td>155</td>\n",
       "      <td>100</td>\n",
       "      <td>100</td>\n",
       "      <td>0</td>\n",
       "      <td>0</td>\n",
       "      <td>5</td>\n",
       "    </tr>\n",
       "  </tbody>\n",
       "</table>\n",
       "</div>"
      ],
      "text/plain": [
       "                    Name  SliceNumber        scientific_name  range_area_km2  \\\n",
       "0    Acanthixalus_sonjae            1    Acanthixalus sonjae             787   \n",
       "1  Acanthixalus_spinosus            2  Acanthixalus spinosus         1041435   \n",
       "2        Acris_crepitans            3        Acris crepitans         1750647   \n",
       "3          Acris_gryllus            4          Acris gryllus          494322   \n",
       "4    Adelastes_hylonomos            5    Adelastes hylonomos             155   \n",
       "\n",
       "   wdpa_km2  percent_protected  conservation_target  is_flagship  \\\n",
       "0       787                100                  100            0   \n",
       "1    207623                 20                   15            0   \n",
       "2     90682                  5                   15            0   \n",
       "3     24443                  5                   15            0   \n",
       "4       155                100                  100            0   \n",
       "\n",
       "   conservation_concern  ObjectId  \n",
       "0                     0         1  \n",
       "1                     0         2  \n",
       "2                    10         3  \n",
       "3                    10         4  \n",
       "4                     0         5  "
      ]
     },
     "execution_count": 60,
     "metadata": {},
     "output_type": "execute_result"
    }
   ],
   "source": [
    "cc.head()"
   ]
  },
  {
   "cell_type": "code",
   "execution_count": 61,
   "metadata": {},
   "outputs": [
    {
     "data": {
      "text/html": [
       "<div>\n",
       "<style scoped>\n",
       "    .dataframe tbody tr th:only-of-type {\n",
       "        vertical-align: middle;\n",
       "    }\n",
       "\n",
       "    .dataframe tbody tr th {\n",
       "        vertical-align: top;\n",
       "    }\n",
       "\n",
       "    .dataframe thead th {\n",
       "        text-align: right;\n",
       "    }\n",
       "</style>\n",
       "<table border=\"1\" class=\"dataframe\">\n",
       "  <thead>\n",
       "    <tr style=\"text-align: right;\">\n",
       "      <th></th>\n",
       "      <th>Name</th>\n",
       "      <th>SliceNumber</th>\n",
       "      <th>scientific_name</th>\n",
       "      <th>range_area_km2</th>\n",
       "      <th>wdpa_km2</th>\n",
       "      <th>percent_protected</th>\n",
       "      <th>conservation_target</th>\n",
       "      <th>is_flagship</th>\n",
       "      <th>has_image</th>\n",
       "      <th>ObjectId</th>\n",
       "    </tr>\n",
       "  </thead>\n",
       "  <tbody>\n",
       "    <tr>\n",
       "      <th>0</th>\n",
       "      <td>Acanthixalus_sonjae</td>\n",
       "      <td>1</td>\n",
       "      <td>Acanthixalus sonjae</td>\n",
       "      <td>787</td>\n",
       "      <td>787</td>\n",
       "      <td>100</td>\n",
       "      <td>100</td>\n",
       "      <td>0</td>\n",
       "      <td>0</td>\n",
       "      <td>1</td>\n",
       "    </tr>\n",
       "    <tr>\n",
       "      <th>1</th>\n",
       "      <td>Acanthixalus_spinosus</td>\n",
       "      <td>2</td>\n",
       "      <td>Acanthixalus spinosus</td>\n",
       "      <td>1041435</td>\n",
       "      <td>207623</td>\n",
       "      <td>20</td>\n",
       "      <td>15</td>\n",
       "      <td>0</td>\n",
       "      <td>0</td>\n",
       "      <td>2</td>\n",
       "    </tr>\n",
       "    <tr>\n",
       "      <th>2</th>\n",
       "      <td>Acris_crepitans</td>\n",
       "      <td>3</td>\n",
       "      <td>Acris crepitans</td>\n",
       "      <td>1750647</td>\n",
       "      <td>90682</td>\n",
       "      <td>5</td>\n",
       "      <td>15</td>\n",
       "      <td>0</td>\n",
       "      <td>1</td>\n",
       "      <td>3</td>\n",
       "    </tr>\n",
       "    <tr>\n",
       "      <th>3</th>\n",
       "      <td>Acris_gryllus</td>\n",
       "      <td>4</td>\n",
       "      <td>Acris gryllus</td>\n",
       "      <td>494322</td>\n",
       "      <td>24443</td>\n",
       "      <td>5</td>\n",
       "      <td>15</td>\n",
       "      <td>0</td>\n",
       "      <td>1</td>\n",
       "      <td>4</td>\n",
       "    </tr>\n",
       "    <tr>\n",
       "      <th>4</th>\n",
       "      <td>Adelastes_hylonomos</td>\n",
       "      <td>5</td>\n",
       "      <td>Adelastes hylonomos</td>\n",
       "      <td>155</td>\n",
       "      <td>155</td>\n",
       "      <td>100</td>\n",
       "      <td>100</td>\n",
       "      <td>0</td>\n",
       "      <td>0</td>\n",
       "      <td>5</td>\n",
       "    </tr>\n",
       "  </tbody>\n",
       "</table>\n",
       "</div>"
      ],
      "text/plain": [
       "                    Name  SliceNumber        scientific_name  range_area_km2  \\\n",
       "0    Acanthixalus_sonjae            1    Acanthixalus sonjae             787   \n",
       "1  Acanthixalus_spinosus            2  Acanthixalus spinosus         1041435   \n",
       "2        Acris_crepitans            3        Acris crepitans         1750647   \n",
       "3          Acris_gryllus            4          Acris gryllus          494322   \n",
       "4    Adelastes_hylonomos            5    Adelastes hylonomos             155   \n",
       "\n",
       "   wdpa_km2  percent_protected  conservation_target  is_flagship  has_image  \\\n",
       "0       787                100                  100            0          0   \n",
       "1    207623                 20                   15            0          0   \n",
       "2     90682                  5                   15            0          1   \n",
       "3     24443                  5                   15            0          1   \n",
       "4       155                100                  100            0          0   \n",
       "\n",
       "   ObjectId  \n",
       "0         1  \n",
       "1         2  \n",
       "2         3  \n",
       "3         4  \n",
       "4         5  "
      ]
     },
     "execution_count": 61,
     "metadata": {},
     "output_type": "execute_result"
    }
   ],
   "source": [
    "hi.head()"
   ]
  },
  {
   "cell_type": "code",
   "execution_count": 66,
   "metadata": {},
   "outputs": [],
   "source": [
    "### Add conservation concern to hi table\n",
    "hi = hi.merge(cc[['SliceNumber','conservation_concern']],how='inner',on='SliceNumber')"
   ]
  },
  {
   "cell_type": "code",
   "execution_count": 91,
   "metadata": {},
   "outputs": [],
   "source": [
    "### Add new field to Hosted service\n",
    "## Create fields\n",
    "def createFieldsToBeAdded(flayer, csv_table):\n",
    "    flayer_fields = flayer.manager.properties.fields\n",
    "    template_field = dict(deepcopy(flayer_fields[0]))\n",
    "    sdf = sdf = flayer.query().sdf\n",
    "    new_field_names = list(csv_table.columns.difference(sdf.columns))\n",
    "    \n",
    "    fields_to_be_added = []\n",
    "    for new_field_name in new_field_names:\n",
    "        current_field = deepcopy(template_field)\n",
    "        dt = csv_table[new_field_name].dtypes\n",
    "        \n",
    "        if dt == 'O':\n",
    "            #put the type to character\n",
    "            current_field['sqlType'] = 'sqlTypeOther'\n",
    "            current_field['type'] = 'esriFieldTypeString'\n",
    "            current_field['length'] = 45000\n",
    "        if dt == 'int64':\n",
    "            #put the type to double\n",
    "            current_field['sqlType'] = 'sqlTypeOther'\n",
    "            current_field['type'] = 'esriFieldTypeDouble'\n",
    "            #current_field['length'] = 8000      \n",
    "\n",
    "        current_field['name'] = new_field_name.lower()\n",
    "        current_field['alias'] = new_field_name\n",
    "        current_field['nullable'] = True\n",
    "        current_field['editable'] = True\n",
    "        fields_to_be_added.append(current_field)\n",
    "    return fields_to_be_added"
   ]
  },
  {
   "cell_type": "code",
   "execution_count": 119,
   "metadata": {},
   "outputs": [],
   "source": [
    "item = gis.content.get(hi_keys['amphibians'])\n",
    "flayer = item.tables[0]\n",
    "fields_to_be_added = createFieldsToBeAdded(flayer, hi)"
   ]
  },
  {
   "cell_type": "code",
   "execution_count": 120,
   "metadata": {},
   "outputs": [
    {
     "data": {
      "text/plain": [
       "[{'name': 'conservation_concern',\n",
       "  'type': 'esriFieldTypeDouble',\n",
       "  'actualType': 'nvarchar',\n",
       "  'alias': 'conservation_concern',\n",
       "  'sqlType': 'sqlTypeOther',\n",
       "  'length': 4000,\n",
       "  'nullable': True,\n",
       "  'editable': True,\n",
       "  'visible': True,\n",
       "  'domain': None,\n",
       "  'defaultValue': None}]"
      ]
     },
     "execution_count": 120,
     "metadata": {},
     "output_type": "execute_result"
    }
   ],
   "source": [
    "fields_to_be_added"
   ]
  },
  {
   "cell_type": "code",
   "execution_count": 121,
   "metadata": {},
   "outputs": [
    {
     "data": {
      "text/plain": [
       "{'success': True}"
      ]
     },
     "execution_count": 121,
     "metadata": {},
     "output_type": "execute_result"
    }
   ],
   "source": [
    "flayer.manager.add_to_definition({'fields':fields_to_be_added})"
   ]
  },
  {
   "cell_type": "code",
   "execution_count": 158,
   "metadata": {},
   "outputs": [],
   "source": [
    "#https://developers.arcgis.com/python/sample-notebooks/updating-features-in-a-feature-layer/\n",
    "def createFeaturesForUpdate(flayer, csv_table, fields_to_be_added, id_field_in_csv, id_field_in_service):\n",
    "    fset2 = flayer.query()\n",
    "    features2 = fset2.features\n",
    "    features_for_update = []\n",
    "    for country_id in csv_table[id_field_in_csv]:\n",
    "        try:\n",
    "            # get the matching row from csv\n",
    "            matching_row = csv_table.where(csv_table[id_field_in_csv] == country_id).dropna()\n",
    "\n",
    "            #print(str(country_id) + \" Adding additional attributes for: \" + matching_row['iso3'].values[0])\n",
    "\n",
    "            # get the feature to be updated\n",
    "            assert  len([f for f in features2 if f.attributes[id_field_in_service] == country_id]),  \"id not matched\"\n",
    "            original_feature = [f for f in features2 if f.attributes[id_field_in_service] == country_id][0]\n",
    "            feature_to_be_updated = deepcopy(original_feature)\n",
    "\n",
    "            # assign the updated values\n",
    "            for field in fields_to_be_added:\n",
    "                feature_to_be_updated.attributes[field['name']] = matching_row[field['name']].values[0]\n",
    "                #add this to the list of features to be updated\n",
    "                features_for_update.append(feature_to_be_updated)\n",
    "    \n",
    "        except:\n",
    "            print(f\"{country_id} not available in service\")\n",
    "    return features_for_update"
   ]
  },
  {
   "cell_type": "code",
   "execution_count": null,
   "metadata": {},
   "outputs": [],
   "source": [
    "features_for_update = createFeaturesForUpdate(flayer = flayer ,\n",
    "                        csv_table = hi,\n",
    "                        fields_to_be_added =  fields_to_be_added, \n",
    "                        id_field_in_csv = \"SliceNumber\", \n",
    "                        id_field_in_service = \"SliceNumber\")"
   ]
  },
  {
   "cell_type": "code",
   "execution_count": null,
   "metadata": {},
   "outputs": [],
   "source": [
    "flayer.edit_features(updates= features_for_update)"
   ]
  },
  {
   "cell_type": "code",
   "execution_count": 160,
   "metadata": {},
   "outputs": [],
   "source": [
    "## Tables with conservation concern (cc)\n",
    "cc_keys = {'birds':'71e61cd2211b4670a28bfb14b3693f66'}\n",
    "## Tables with has_image (hi)\n",
    "hi_keys = {'birds':'4d8698734b654bb9bb7a61d9af314c76'}"
   ]
  },
  {
   "cell_type": "code",
   "execution_count": 182,
   "metadata": {},
   "outputs": [],
   "source": [
    "### reptiles\n",
    "hi_keys = {'reptiles':'81c72a2a5ee6413699960b4c4bd9540f'}\n",
    "cc_keys = {'reptiles':'38356d976d3f43d7a0d2ab91034b054b'}"
   ]
  },
  {
   "cell_type": "code",
   "execution_count": 183,
   "metadata": {},
   "outputs": [],
   "source": [
    "for key in cc_keys:\n",
    "    ## get df from Hosted tables\n",
    "    cc = getHTfromId(cc_keys[key])\n",
    "    hi = getHTfromId(hi_keys[key])\n",
    "    \n",
    "    ### bring conservation_concern column to base table\n",
    "    hi = hi.merge(cc[['SliceNumber','conservation_concern']],how='inner',on='SliceNumber')\n",
    "    \n",
    "    ### Create New fields\n",
    "    item = gis.content.get(hi_keys[key])\n",
    "    flayer = item.tables[0]\n",
    "    fields_to_be_added = createFieldsToBeAdded(flayer, hi)\n",
    "    \n",
    "    ### Add new fields\n",
    "    flayer.manager.add_to_definition({'fields':fields_to_be_added})\n",
    "    \n",
    "    ### Create features to update\n",
    "    #### triplicate columns, check what has happened?\n",
    "    if key == 'birds':\n",
    "        start = np.arange(0,len(hi), step = 2000)\n",
    "        for i in start:\n",
    "            features_for_update = createFeaturesForUpdate(flayer = flayer, \n",
    "                                                          csv_table = hi[i:i+2000], \n",
    "                                                          fields_to_be_added =  fields_to_be_added, \n",
    "                                                          id_field_in_csv = \"SliceNumber\", \n",
    "                                                          id_field_in_service = \"SliceNumber\")\n",
    "            flayer.edit_features(updates= features_for_update)\n",
    "    else: \n",
    "        features_for_update = createFeaturesForUpdate(flayer = flayer,\n",
    "                        csv_table = hi,\n",
    "                        fields_to_be_added =  fields_to_be_added, \n",
    "                        id_field_in_csv = \"SliceNumber\", \n",
    "                        id_field_in_service = \"SliceNumber\")\n",
    "    \n",
    "        ### Update Features\n",
    "        flayer.edit_features(updates= features_for_update)\n",
    "    "
   ]
  },
  {
   "cell_type": "code",
   "execution_count": null,
   "metadata": {},
   "outputs": [],
   "source": []
  }
 ],
 "metadata": {
  "kernelspec": {
   "display_name": "Python 3",
   "language": "python",
   "name": "python3"
  },
  "language_info": {
   "codemirror_mode": {
    "name": "ipython",
    "version": 3
   },
   "file_extension": ".py",
   "mimetype": "text/x-python",
   "name": "python",
   "nbconvert_exporter": "python",
   "pygments_lexer": "ipython3",
   "version": "3.7.4"
  }
 },
 "nbformat": 4,
 "nbformat_minor": 4
}
