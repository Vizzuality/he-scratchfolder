{
 "cells": [
  {
   "cell_type": "code",
   "execution_count": 1,
   "metadata": {},
   "outputs": [],
   "source": [
    "import arcpy"
   ]
  },
  {
   "cell_type": "code",
   "execution_count": 2,
   "metadata": {},
   "outputs": [],
   "source": [
    "arcpy.env.parallelProcessingFactor = \"80%\""
   ]
  },
  {
   "cell_type": "code",
   "execution_count": 3,
   "metadata": {},
   "outputs": [],
   "source": [
    "arcpy.env.workspace = \"C:\\\\Users\\\\Vizuser\\\\Documents\\\\ArcGIS\\\\Projects\\\\WDPA\\\\WDPA.gdb\""
   ]
  },
  {
   "cell_type": "code",
   "execution_count": 4,
   "metadata": {},
   "outputs": [
    {
     "data": {
      "text/plain": [
       "'20Jan'"
      ]
     },
     "execution_count": 4,
     "metadata": {},
     "output_type": "execute_result"
    }
   ],
   "source": [
    "import datetime\n",
    "mydate = datetime.datetime.now()\n",
    "mydate.strftime(\"%y%b\")"
   ]
  },
  {
   "cell_type": "code",
   "execution_count": 5,
   "metadata": {},
   "outputs": [],
   "source": [
    "wdpa_not_comm_name = \"wdpa_not_comm_\" + mydate.strftime(\"%y%b\")\n",
    "wdpa_raisg_merge_name = \"wdpa_raisg_merge_\" + mydate.strftime(\"%y%b\")\n",
    "mastergrid = \"biodiversity_facets_dissolved\""
   ]
  },
  {
   "cell_type": "code",
   "execution_count": 6,
   "metadata": {},
   "outputs": [],
   "source": [
    "wdpa_not_comm_dis = wdpa_not_comm_name + \"_Dis\"\n",
    "wdpa_raisg_merge_dis = wdpa_raisg_merge_name + \"_Dis\"\n",
    "wdpa_not_comm_in = wdpa_not_comm_name + \"_In\"\n",
    "wdpa_raisg_merge_in = wdpa_raisg_merge_name + \"_In\""
   ]
  },
  {
   "cell_type": "markdown",
   "metadata": {},
   "source": [
    "### Not community WDPA\n",
    "This layer has a lot of features and repair Geometry is necessary to run anything later"
   ]
  },
  {
   "cell_type": "code",
   "execution_count": 7,
   "metadata": {},
   "outputs": [
    {
     "data": {
      "text/plain": [
       "<Result 'C:\\\\Users\\\\Vizuser\\\\Documents\\\\ArcGIS\\\\Projects\\\\WDPA\\\\WDPA.gdb\\\\wdpa_not_comm_20Jan'>"
      ]
     },
     "execution_count": 7,
     "metadata": {},
     "output_type": "execute_result"
    }
   ],
   "source": [
    "arcpy.RepairGeometry_management(wdpa_not_comm_name)"
   ]
  },
  {
   "cell_type": "code",
   "execution_count": 9,
   "metadata": {
    "scrolled": true
   },
   "outputs": [
    {
     "data": {
      "text/plain": [
       "<Result 'C:\\\\Users\\\\Vizuser\\\\Documents\\\\ArcGIS\\\\Projects\\\\WDPA\\\\WDPA.gdb\\\\wdpa_not_comm_20Jan_Dis'>"
      ]
     },
     "execution_count": 9,
     "metadata": {},
     "output_type": "execute_result"
    }
   ],
   "source": [
    "#running in arcpy and worked! aafter repair geometry(killed in arcgis pro)\n",
    "arcpy.analysis.PairwiseDissolve(wdpa_not_comm_name, \n",
    "                                wdpa_not_comm_dis, \n",
    "                                None, None, \"MULTI_PART\")"
   ]
  },
  {
   "cell_type": "code",
   "execution_count": 10,
   "metadata": {},
   "outputs": [
    {
     "data": {
      "text/plain": [
       "<Result 'C:\\\\Users\\\\Vizuser\\\\Documents\\\\ArcGIS\\\\Projects\\\\WDPA\\\\WDPA.gdb\\\\wdpa_not_comm_20Jan_In'>"
      ]
     },
     "execution_count": 10,
     "metadata": {},
     "output_type": "execute_result"
    }
   ],
   "source": [
    "#Running in arcpy (start: 7:50 am monday)\n",
    "arcpy.analysis.PairwiseIntersect([wdpa_not_comm_dis, mastergrid], \n",
    "                                 wdpa_not_comm_in, \n",
    "                                 \"ALL\", None, \"INPUT\")"
   ]
  },
  {
   "cell_type": "code",
   "execution_count": 11,
   "metadata": {},
   "outputs": [
    {
     "data": {
      "text/plain": [
       "<Result 'C:\\\\Users\\\\Vizuser\\\\Documents\\\\ArcGIS\\\\Projects\\\\WDPA\\\\WDPA.gdb\\\\wdpa_not_comm_20Jan_In'>"
      ]
     },
     "execution_count": 11,
     "metadata": {},
     "output_type": "execute_result"
    }
   ],
   "source": [
    "arcpy.management.AddField(wdpa_not_comm_in, \n",
    "                          \"AREA_KM2_prot\", # the _prot is necessary because  biodiversity_facets has a field called AREA_KM2\n",
    "                          \"DOUBLE\", \n",
    "                          None, None, None, '', \"NULLABLE\", \"NON_REQUIRED\", '')"
   ]
  },
  {
   "cell_type": "code",
   "execution_count": 12,
   "metadata": {},
   "outputs": [
    {
     "ename": "AttributeError",
     "evalue": "'ToolValidator' object has no attribute 'isLicensed'",
     "output_type": "error",
     "traceback": [
      "\u001b[1;31m---------------------------------------------------------------------------\u001b[0m",
      "\u001b[1;31mAttributeError\u001b[0m                            Traceback (most recent call last)",
      "\u001b[1;32mc:\\arcgis\\pro\\Resources\\ArcToolbox\\toolboxes\\Data Management Tools.tbx#CalculateGeometryAttributes_management.InitializeParameters.py\u001b[0m in \u001b[0;36m<module>\u001b[1;34m\u001b[0m\n",
      "\u001b[1;31mAttributeError\u001b[0m: 'ToolValidator' object has no attribute 'isLicensed'"
     ]
    },
    {
     "ename": "AttributeError",
     "evalue": "'ToolValidator' object has no attribute 'isLicensed'",
     "output_type": "error",
     "traceback": [
      "\u001b[1;31m---------------------------------------------------------------------------\u001b[0m",
      "\u001b[1;31mAttributeError\u001b[0m                            Traceback (most recent call last)",
      "\u001b[1;32mc:\\arcgis\\pro\\Resources\\ArcToolbox\\toolboxes\\Data Management Tools.tbx#CalculateGeometryAttributes_management.InitializeParameters.py\u001b[0m in \u001b[0;36m<module>\u001b[1;34m\u001b[0m\n",
      "\u001b[1;31mAttributeError\u001b[0m: 'ToolValidator' object has no attribute 'isLicensed'"
     ]
    },
    {
     "data": {
      "text/plain": [
       "<Result 'C:\\\\Users\\\\Vizuser\\\\Documents\\\\ArcGIS\\\\Projects\\\\WDPA\\\\WDPA.gdb\\\\wdpa_not_comm_20Jan_In'>"
      ]
     },
     "execution_count": 12,
     "metadata": {},
     "output_type": "execute_result"
    }
   ],
   "source": [
    "arcpy.management.CalculateGeometryAttributes(wdpa_not_comm_in, \n",
    "                                             \"AREA_KM2_prot AREA_GEODESIC\", \n",
    "                                             '', \n",
    "                                             \"SQUARE_KILOMETERS\", \n",
    "                                             \"PROJCS['World_Cylindrical_Equal_Area',GEOGCS['GCS_WGS_1984',DATUM['D_WGS_1984',SPHEROID['WGS_1984',6378137.0,298.257223563]],PRIMEM['Greenwich',0.0],UNIT['Degree',0.0174532925199433]],PROJECTION['Cylindrical_Equal_Area'],PARAMETER['False_Easting',0.0],PARAMETER['False_Northing',0.0],PARAMETER['Central_Meridian',0.0],PARAMETER['Standard_Parallel_1',0.0],UNIT['Meter',1.0]]\")"
   ]
  },
  {
   "cell_type": "markdown",
   "metadata": {},
   "source": [
    "There was an error, this is a logged bug, the field wasn't calculated. Doing it with python inside arcgis pro, which has worked. \n",
    "More information [here](https://community.esri.com/thread/237842-attributeerror-toolvalidator-object-has-no-attribute-islicensed-message)\n",
    "```python \n",
    "---------------------------------------------------------------------------\n",
    "AttributeError                            Traceback (most recent call last)\n",
    "c:\\arcgis\\pro\\Resources\\ArcToolbox\\toolboxes\\Data Management Tools.tbx#CalculateGeometryAttributes_management.InitializeParameters.py in <module>\n",
    "\n",
    "AttributeError: 'ToolValidator' object has no attribute 'isLicensed'\n",
    "\n",
    "---------------------------------------------------------------------------\n",
    "AttributeError                            Traceback (most recent call last)\n",
    "c:\\arcgis\\pro\\Resources\\ArcToolbox\\toolboxes\\Data Management Tools.tbx#CalculateGeometryAttributes_management.InitializeParameters.py in <module>\n",
    "\n",
    "AttributeError: 'ToolValidator' object has no attribute 'isLicensed'\n",
    "```"
   ]
  },
  {
   "cell_type": "markdown",
   "metadata": {},
   "source": [
    "Because the `biodiversity_facets` layer didn't have the area, I had to calculate it for it and then join using the `CELL_ID`. As this column is now in `biodiversity_facets`, in future intersects the join will not be necessary. "
   ]
  },
  {
   "cell_type": "code",
   "execution_count": null,
   "metadata": {},
   "outputs": [],
   "source": [
    "arcpy.management.AddField(wdpa_not_comm_in, \n",
    "                          \"not_comm_prot_prop\", \n",
    "                          \"DOUBLE\", None, None, None, '', \"NULLABLE\", \"NON_REQUIRED\", '')"
   ]
  },
  {
   "cell_type": "code",
   "execution_count": null,
   "metadata": {},
   "outputs": [],
   "source": [
    "arcpy.management.CalculateField(wdpa_not_comm_in, \n",
    "                                \"not_comm_prot_prop\", # this cell needs fixing with the right field names\n",
    "                                \"(!wdpa_not_comm_20Jan_In.AREA_KM2! /!cellID_areaKM2.AREA_KM2!) * 100\", \"PYTHON3\", '')"
   ]
  },
  {
   "cell_type": "markdown",
   "metadata": {},
   "source": [
    "### Community WDPA\n",
    "This layer has the WDPA community and the RAISG, repair geometry wasn't necesssary."
   ]
  },
  {
   "cell_type": "code",
   "execution_count": null,
   "metadata": {},
   "outputs": [],
   "source": [
    "#this has worked inside arcgis pro\n",
    "arcpy.management.Dissolve(wdpa_raisg_merge_name, \n",
    "                          wdpa_raisg_merge_dis, \n",
    "                          None, None, \"MULTI_PART\", \"DISSOLVE_LINES\")"
   ]
  },
  {
   "cell_type": "code",
   "execution_count": 10,
   "metadata": {},
   "outputs": [
    {
     "data": {
      "text/plain": [
       "<Result 'C:\\\\Users\\\\Vizuser\\\\Documents\\\\ArcGIS\\\\Projects\\\\WDPA\\\\WDPA.gdb\\\\wdpa_raisg_merge_20Jan_In2'>"
      ]
     },
     "execution_count": 10,
     "metadata": {},
     "output_type": "execute_result"
    }
   ],
   "source": [
    "#This has worked in both arcgis pro and arcpy, but I haven't tried it with inputs from made strings\n",
    "arcpy.analysis.PairwiseIntersect([wdpa_raisg_merge_dis, mastergrid], \n",
    "                                 wdpa_raisg_merge_in, \n",
    "                                 \"ALL\", None, \"INPUT\")"
   ]
  },
  {
   "cell_type": "code",
   "execution_count": null,
   "metadata": {},
   "outputs": [],
   "source": [
    "#This has been ran in arcgis pro, and I have to check if it works with the wdpa_rais_merge_in value\n",
    "arcpy.management.AddField(wdpa_raisg_merge_in, \n",
    "                          \"AREA_KM2_prot\", \n",
    "                          \"DOUBLE\", \n",
    "                          None, None, None, '', \"NULLABLE\", \"NON_REQUIRED\", '')"
   ]
  },
  {
   "cell_type": "code",
   "execution_count": null,
   "metadata": {},
   "outputs": [],
   "source": [
    "#This has been ran in arcgis pro, and I have to check if it works with the wdpa_rais_merge_in value\n",
    "arcpy.management.CalculateGeometryAttributes(wdpa_raisg_merge_in, \n",
    "                                             \"AREA_KM2_prot AREA_GEODESIC\", \n",
    "                                             '', \n",
    "                                             \"SQUARE_KILOMETERS\", \n",
    "                                             \"PROJCS['World_Cylindrical_Equal_Area',GEOGCS['GCS_WGS_1984',DATUM['D_WGS_1984',SPHEROID['WGS_1984',6378137.0,298.257223563]],PRIMEM['Greenwich',0.0],UNIT['Degree',0.0174532925199433]],PROJECTION['Cylindrical_Equal_Area'],PARAMETER['False_Easting',0.0],PARAMETER['False_Northing',0.0],PARAMETER['Central_Meridian',0.0],PARAMETER['Standard_Parallel_1',0.0],UNIT['Meter',1.0]]\")"
   ]
  },
  {
   "cell_type": "code",
   "execution_count": null,
   "metadata": {},
   "outputs": [],
   "source": [
    "arcpy.management.AddField(wdpa_raisg_merge_in, \n",
    "                          \"comm_prot_prop\", \n",
    "                          \"DOUBLE\", None, None, None, '', \"NULLABLE\", \"NON_REQUIRED\", '')"
   ]
  },
  {
   "cell_type": "code",
   "execution_count": null,
   "metadata": {},
   "outputs": [],
   "source": [
    "arcpy.management.CalculateField(wdpa_raisg_merge_in, \n",
    "                                \"comm_prot_prop\", # this cell needs fixing with the right field names\n",
    "                                \"(!wdpa_raisg_merge_20Jan_In.AREA_KM2! /!cellID_areaKM2.AREA_KM2!) * 100\", \"PYTHON3\", '')"
   ]
  },
  {
   "cell_type": "markdown",
   "metadata": {},
   "source": [
    "### Merging Community WDPA and non-Community\n",
    "A field map needs to be created, check the other notebook\n",
    "```python\n",
    "# then create field (double) AREA_KM2_prot DONE\n",
    "# calculate geometry DONE\n",
    "# join with the table that has the cell_id and the size of the cell DONE, but no arcpy code because this will not be necessary in the future. \n",
    "# create new field (double) \"all_prot_prop\" DONE\n",
    "# calculate field DONE\n",
    "```"
   ]
  },
  {
   "cell_type": "code",
   "execution_count": null,
   "metadata": {},
   "outputs": [],
   "source": [
    "arcpy.management.Merge(\"wdpa_not_comm_20Jan_In;wdpa_raisg_merge_20Jan_In\", \n",
    "                       r\"C:\\Users\\Vizuser\\Documents\\ArcGIS\\Projects\\WDPA\\WDPA.gdb\\Intersects_Merge_20Jan\", \n",
    "                       'FID_wdpa_not_comm_20Jan_Dis \"FID_wdpa_not_comm_20Jan_Dis\" true true false 4 Long 0 0,First,#,wdpa_not_comm_20Jan_In,FID_wdpa_not_comm_20Jan_Dis,-1,-1;FID_biodiversity_facets_dissolved \"FID_biodiversity_facets_dissolved\" true true false 4 Long 0 0,First,#,wdpa_not_comm_20Jan_In,FID_biodiversity_facets_dissolved,-1,-1,wdpa_raisg_merge_20Jan_In,FID_biodiversity_facets_dissolved,-1,-1;CELL_ID \"CELL_ID\" true true false 254 Text 0 0,First,#,wdpa_not_comm_20Jan_In,CELL_ID,0,254,wdpa_raisg_merge_20Jan_In,CELL_ID,0,254;PROP_LAND \"MAX_PROP_LAND\" true true false 8 Double 0 0,First,#,wdpa_not_comm_20Jan_In,PROP_LAND,-1,-1,wdpa_raisg_merge_20Jan_In,PROP_LAND,-1,-1;ISISLAND \"MAX_ISISLAND\" true true false 8 Double 0 0,First,#,wdpa_not_comm_20Jan_In,ISISLAND,-1,-1,wdpa_raisg_merge_20Jan_In,ISISLAND,-1,-1;AGRICULTURE \"MAX_AGRICULTUR\" true true false 8 Double 0 0,First,#,wdpa_not_comm_20Jan_In,AGRICULTURE,-1,-1,wdpa_raisg_merge_20Jan_In,AGRICULTURE,-1,-1;URBAN \"MAX_URBAN\" true true false 8 Double 0 0,First,#,wdpa_not_comm_20Jan_In,URBAN,-1,-1,wdpa_raisg_merge_20Jan_In,URBAN,-1,-1;RAINFED \"MAX_RAINFED\" true true false 8 Double 0 0,First,#,wdpa_not_comm_20Jan_In,RAINFED,-1,-1,wdpa_raisg_merge_20Jan_In,RAINFED,-1,-1;AVE_RSR_PC \"MAX_AVE_RSR_PC\" true true false 8 Double 0 0,First,#,wdpa_not_comm_20Jan_In,AVE_RSR_PC,-1,-1,wdpa_raisg_merge_20Jan_In,AVE_RSR_PC,-1,-1;SR_PC \"MAX_SR_PC\" true true false 8 Double 0 0,First,#,wdpa_not_comm_20Jan_In,SR_PC,-1,-1,wdpa_raisg_merge_20Jan_In,SR_PC,-1,-1;FOCAL_SPP \"FOCAL_SPP\" true true false 10000 Text 0 0,First,#,wdpa_not_comm_20Jan_In,FOCAL_SPP,0,10000,wdpa_raisg_merge_20Jan_In,FOCAL_SPP,0,10000;Shape_Length \"Shape_Length\" false true true 8 Double 0 0,First,#,wdpa_not_comm_20Jan_In,Shape_Length,-1,-1,wdpa_raisg_merge_20Jan_In,Shape_Length,-1,-1;Shape_Area \"Shape_Area\" false true true 8 Double 0 0,First,#,wdpa_not_comm_20Jan_In,Shape_Area,-1,-1,wdpa_raisg_merge_20Jan_In,Shape_Area,-1,-1;AREA_KM2 \"AREA_KM2\" true true false 8 Double 0 0,First,#,wdpa_not_comm_20Jan_In,AREA_KM2,-1,-1,wdpa_raisg_merge_20Jan_In,AREA_KM2,-1,-1;not_comm_prot_prop \"not_comm_prot_prop\" true true false 8 Double 0 0,First,#,wdpa_not_comm_20Jan_In,not_comm_prot_prop,-1,-1;FID_wdpa_raisg_merge_20Jan_Dis \"FID_wdpa_raisg_merge_20Jan_Dis\" true true false 4 Long 0 0,First,#,wdpa_raisg_merge_20Jan_In,FID_wdpa_raisg_merge_20Jan_Dis,-1,-1;comm_prot_prop \"comm_prot_prop\" true true false 8 Double 0 0,First,#,wdpa_raisg_merge_20Jan_In,comm_prot_prop,-1,-1', \"NO_SOURCE_INFO\")"
   ]
  },
  {
   "cell_type": "code",
   "execution_count": null,
   "metadata": {},
   "outputs": [],
   "source": [
    "arcpy.analysis.PairwiseDissolve(\"Intersects_Merge_20Jan\", \n",
    "                                r\"C:\\Users\\Vizuser\\Documents\\ArcGIS\\Projects\\WDPA\\WDPA.gdb\\Intersects_Merge_20Jan_Dis\", \n",
    "                                \"CELL_ID\", None, \"MULTI_PART\")"
   ]
  },
  {
   "cell_type": "code",
   "execution_count": null,
   "metadata": {},
   "outputs": [],
   "source": [
    "arcpy.management.AddField(\"Intersects_Merge_20Jan_Dis\", \n",
    "                          \"AREA_KM2_prot\", \n",
    "                          \"DOUBLE\", None, None, None, '', \"NULLABLE\", \"NON_REQUIRED\", '')"
   ]
  },
  {
   "cell_type": "code",
   "execution_count": null,
   "metadata": {},
   "outputs": [],
   "source": [
    "arcpy.management.CalculateGeometryAttributes(\"Intersects_Merge_20Jan_Dis\", \n",
    "                                             \"AREA_KM2_prot AREA_GEODESIC\", \n",
    "                                             '', \n",
    "                                             \"SQUARE_KILOMETERS\", \n",
    "                                             \"PROJCS['World_Cylindrical_Equal_Area',GEOGCS['GCS_WGS_1984',DATUM['D_WGS_1984',SPHEROID['WGS_1984',6378137.0,298.257223563]],PRIMEM['Greenwich',0.0],UNIT['Degree',0.0174532925199433]],PROJECTION['Cylindrical_Equal_Area'],PARAMETER['False_Easting',0.0],PARAMETER['False_Northing',0.0],PARAMETER['Central_Meridian',0.0],PARAMETER['Standard_Parallel_1',0.0],UNIT['Meter',1.0]]\")"
   ]
  },
  {
   "cell_type": "code",
   "execution_count": null,
   "metadata": {},
   "outputs": [],
   "source": [
    "arcpy.management.AddField(\"Intersects_Merge_20Jan_Dis\", \n",
    "                          \"all_prot_prop\", \n",
    "                          \"DOUBLE\", None, None, None, '', \"NULLABLE\", \"NON_REQUIRED\", '')"
   ]
  },
  {
   "cell_type": "code",
   "execution_count": null,
   "metadata": {},
   "outputs": [],
   "source": [
    "arcpy.management.CalculateField(\"Intersects_Merge_20Jan_Dis\", \n",
    "                                \"Intersects_Merge_20Jan_Dis.all_prot_prop\", #this cell needs fixing because it will not be joined. \n",
    "                                \"(!Intersects_Merge_20Jan_Dis.AREA_KM2_prot! / !cellID_areaKM2.AREA_KM2!) * 100\", \"PYTHON3\", '')"
   ]
  },
  {
   "cell_type": "markdown",
   "metadata": {},
   "source": [
    "### Getting the information from the 3 tables into one\n",
    "We can use the simple table with the cellID and the areaKm2 to put there the information. Building the right fieldmap is crucial to also make sure that we have the right colnames in the final table, the one the front end is going to use. "
   ]
  },
  {
   "cell_type": "code",
   "execution_count": null,
   "metadata": {},
   "outputs": [],
   "source": [
    "arcpy.management.Merge(\"cellID_areaKM2;Intersects_Merge_20Jan_Dis;wdpa_not_comm_20Jan_In;wdpa_raisg_merge_20Jan_In\", \n",
    "                       r\"C:\\Users\\Vizuser\\Documents\\ArcGIS\\Projects\\WDPA\\WDPA.gdb\\prot_prop_20Jan\", \n",
    "                       'CELL_ID \"CELL_ID\" true true false 254 Text 0 0,First,#,cellID_areaKM2,CELL_ID,0,254,Intersects_Merge_20Jan_Dis,CELL_ID,0,254,wdpa_not_comm_20Jan_In,CELL_ID,0,254,wdpa_raisg_merge_20Jan_In,CELL_ID,0,254;AREA_KM2 \"AREA_KM2\" true true false 8 Double 0 0,First,#,cellID_areaKM2,AREA_KM2,-1,-1;all_prot_prop \"all_prot_prop\" true true false 8 Double 0 0,First,#,Intersects_Merge_20Jan_Dis,all_prot_prop,-1,-1;not_comm_prot_prop \"not_comm_prot_prop\" true true false 8 Double 0 0,First,#,wdpa_not_comm_20Jan_In,not_comm_prot_prop,-1,-1;comm_prot_prop \"comm_prot_prop\" true true false 8 Double 0 0,First,#,wdpa_raisg_merge_20Jan_In,comm_prot_prop,-1,-1', \"NO_SOURCE_INFO\")"
   ]
  },
  {
   "cell_type": "markdown",
   "metadata": {},
   "source": [
    "After merging there will be a lot of `null` values that have to be changed into zeroes. [Here](https://support.esri.com/en/technical-article/000016100) there is a nice techinical article explaining how to do it. `Null` in arcgis is \n",
    "```python\n",
    "None\n",
    "```"
   ]
  },
  {
   "cell_type": "code",
   "execution_count": 13,
   "metadata": {},
   "outputs": [],
   "source": [
    "prop_table = 'prot_prop_20Jan'"
   ]
  },
  {
   "cell_type": "code",
   "execution_count": 15,
   "metadata": {},
   "outputs": [],
   "source": [
    "fieldObs = arcpy.ListFields(prop_table)  \n",
    "fieldNames = []\n",
    "for field in fieldObs:\n",
    "    fieldNames.append(field.name)\n",
    "del fieldObs\n",
    "fieldCount = len(fieldNames)"
   ]
  },
  {
   "cell_type": "code",
   "execution_count": 18,
   "metadata": {},
   "outputs": [],
   "source": [
    "with arcpy.da.UpdateCursor(prop_table, fieldNames) as curU:  \n",
    "    for row in curU:  \n",
    "        rowU = row  \n",
    "        for field in range(fieldCount):  \n",
    "            if rowU[field] == None:  \n",
    "                rowU[field] = \"0\"  \n",
    "        curU.updateRow(rowU)\n",
    "del curU"
   ]
  },
  {
   "cell_type": "markdown",
   "metadata": {},
   "source": [
    "The table has to be exported as .csv (use `Table to table`) and then uploaded to the arcgis account see [here](https://developers.arcgis.com/labs/python/import-data/)\n",
    "Then it has to be \"related\". The `Join` within arcgis online does not work. \n",
    "To create a feature layer that contains related records, you must publish the layer from ArcGIS Pro or ArcMap."
   ]
  },
  {
   "cell_type": "code",
   "execution_count": null,
   "metadata": {},
   "outputs": [],
   "source": [
    "# again careful with the fieldmaps\n",
    "arcpy.conversion.TableToTable(\"prot_prop_20Jan\", \n",
    "                              r\"C:\\Users\\Vizuser\\Documents\\ArcGIS\\Projects\\WDPA\", \n",
    "                              \"prot_prop_20Jan.csv\", \n",
    "                              '', \n",
    "                              r'CELL_ID \"CELL_ID\" true true false 254 Text 0 0,First,#,C:\\Users\\Vizuser\\Documents\\ArcGIS\\Projects\\WDPA\\WDPA.gdb\\prot_prop_20Jan,CELL_ID,0,254;AREA_KM2 \"AREA_KM2\" true true false 8 Double 0 0,First,#,C:\\Users\\Vizuser\\Documents\\ArcGIS\\Projects\\WDPA\\WDPA.gdb\\prot_prop_20Jan,AREA_KM2,-1,-1;all_prot_p \"all_prot_prop\" true true false 8 Double 0 0,First,#,C:\\Users\\Vizuser\\Documents\\ArcGIS\\Projects\\WDPA\\WDPA.gdb\\prot_prop_20Jan,all_prot_prop,-1,-1;not_comm_p \"not_comm_prot_prop\" true true false 8 Double 0 0,First,#,C:\\Users\\Vizuser\\Documents\\ArcGIS\\Projects\\WDPA\\WDPA.gdb\\prot_prop_20Jan,not_comm_prot_prop,-1,-1;comm_prot_ \"comm_prot_prop\" true true false 8 Double 0 0,First,#,C:\\Users\\Vizuser\\Documents\\ArcGIS\\Projects\\WDPA\\WDPA.gdb\\prot_prop_20Jan,comm_prot_prop,-1,-1', '')"
   ]
  }
 ],
 "metadata": {
  "kernelspec": {
   "display_name": "Python 3",
   "language": "python",
   "name": "python3"
  },
  "language_info": {
   "codemirror_mode": {
    "name": "ipython",
    "version": 3
   },
   "file_extension": ".py",
   "mimetype": "text/x-python",
   "name": "python",
   "nbconvert_exporter": "python",
   "pygments_lexer": "ipython3",
   "version": "3.6.9"
  }
 },
 "nbformat": 4,
 "nbformat_minor": 2
}
