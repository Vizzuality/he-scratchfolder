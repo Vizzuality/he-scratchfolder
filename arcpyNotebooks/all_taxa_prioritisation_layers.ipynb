{
 "cells": [
  {
   "cell_type": "markdown",
   "metadata": {},
   "source": [
    "# Creation of services of tile layers for each priority taxa\n",
    "This notebook fulfills the task [HE-277 ](https://half-earth-map.atlassian.net/browse/HE-277?atlOrigin=eyJpIjoiM2M0ZjlmZjVkODdlNGIzYWI1NTZmNmNmZGIwODc5NmQiLCJwIjoiamlyYS1zbGFjay1pbnQifQ). It uses the raster [provided by MOL](https://eowilson.maps.arcgis.com/home/item.html?id=67ecfe12ec6f4339808528140cb0e29b) in Februrary 2020 with the Putatitve Protected Network `LP_min_HM_720_WDPAJan2020_20200212.tif` and the priority information published in the [Living Atlas](https://eowilson.maps.arcgis.com/home/webmap/viewer.html?useExisting=1&layers=c4030c7983034258bd650feb33d26903).\n",
    "### Overview of the method\n",
    "1. The main step is to convert the polygons to raster using as raster the putative PA. \n",
    "2. The raster will be multiplied with a constant raster of the putative PA to remove the pixels that are not selected in the Putative PA network\n",
    "3. A raster per taxa is necessary and then each will be published as a tile service\n",
    "### Current unknowns\n",
    "Which colour palette should be used?\n",
    "\n"
   ]
  },
  {
   "cell_type": "code",
   "execution_count": 6,
   "metadata": {},
   "outputs": [],
   "source": [
    "prior_poly = \"Priority_ranks_terrestrial_vertebrates_clipGADM_LivingAtlas_20201021\""
   ]
  },
  {
   "cell_type": "code",
   "execution_count": 9,
   "metadata": {},
   "outputs": [],
   "source": [
    "putative_pa = r\"C:\\Users\\Viz1\\Documents\\ArcGIS\\Projects\\PrioritisationMOL\\LP_min_HM_720_WDPAJan2020_20200212.tif\""
   ]
  },
  {
   "cell_type": "code",
   "execution_count": null,
   "metadata": {},
   "outputs": [],
   "source": [
    "# Previously, for the National Report Cards we created the constant raster, this step took 4 minutes\n",
    "# out_raster = arcpy.sa.Reclassify(\"LP_min_HM_720_WDPAJan2020_20200212.tif\", \"VALUE\", \"0 0.700000 1\", \"DATA\"); \n",
    "# out_raster.save(r\"C:\\Users\\Vizuser\\Documents\\ArcGIS\\Projects\\PrioritisationMOL\\PrioritisationMOL.gdb\\putative_pa_constant\")"
   ]
  },
  {
   "cell_type": "code",
   "execution_count": 16,
   "metadata": {},
   "outputs": [],
   "source": [
    "pa_constant_Raster = arcpy.Raster( r\"C:\\Users\\Viz1\\Documents\\ArcGIS\\Projects\\PrioritisationMOL\\PrioritisationMOL.gdb\\putative_pa_constant\")"
   ]
  },
  {
   "cell_type": "code",
   "execution_count": 7,
   "metadata": {},
   "outputs": [
    {
     "name": "stdout",
     "output_type": "stream",
     "text": [
      "PR_all\n",
      "PR_amph\n",
      "PR_bird\n",
      "PR_mamm\n",
      "PR_rept\n"
     ]
    }
   ],
   "source": [
    "field_list = list()\n",
    "for f in arcpy.ListFields(prior_poly, \"PR*\"):\n",
    "    print(f.name)\n",
    "    field_list.append(f.name)"
   ]
  },
  {
   "cell_type": "code",
   "execution_count": 8,
   "metadata": {},
   "outputs": [
    {
     "name": "stdout",
     "output_type": "stream",
     "text": [
      "['PR_all', 'PR_amph', 'PR_bird', 'PR_mamm', 'PR_rept']\n"
     ]
    }
   ],
   "source": [
    "print(field_list)"
   ]
  },
  {
   "cell_type": "code",
   "execution_count": 12,
   "metadata": {},
   "outputs": [],
   "source": [
    "field = \"PR_all\"\n",
    "outRasterName = f\"raster_{field}\"\n",
    "outRaster = arcpy.FeatureToRaster_conversion(prior_poly, field, outRasterName, putative_pa )"
   ]
  },
  {
   "cell_type": "code",
   "execution_count": 21,
   "metadata": {},
   "outputs": [],
   "source": [
    "output_raster = outRaster * pa_constant_Raster\n",
    "output_raster.save(f\"C:/Users/Viz1/Documents/ArcGIS/Projects/PrioritisationMOL/PrioritisationMOL.gdb/putative_pa_constant/raster_putative_{field}\")"
   ]
  },
  {
   "cell_type": "code",
   "execution_count": 24,
   "metadata": {},
   "outputs": [
    {
     "name": "stdout",
     "output_type": "stream",
     "text": [
      "PR_rept\n",
      "PR_rept\n",
      "PR_rept\n",
      "PR_rept\n"
     ]
    }
   ],
   "source": [
    "for field in field_list[1:]:\n",
    "    outRasterName = f\"raster_{field}\"\n",
    "    outRaster = arcpy.FeatureToRaster_conversion(prior_poly, field, outRasterName, putative_pa)\n",
    "    output_raster = outRaster * pa_constant_Raster\n",
    "    output_raster.save(f\"C:/Users/Viz1/Documents/ArcGIS/Projects/PrioritisationMOL/PrioritisationMOL.gdb/putative_pa_constant/raster_putative_{field}\")\n",
    "    print(field) #when run the print value was set to f, which in a previous run was used to iterate over the list."
   ]
  },
  {
   "cell_type": "code",
   "execution_count": null,
   "metadata": {},
   "outputs": [],
   "source": []
  },
  {
   "cell_type": "code",
   "execution_count": null,
   "metadata": {},
   "outputs": [],
   "source": []
  }
 ],
 "metadata": {
  "kernelspec": {
   "display_name": "ArcGISPro",
   "language": "Python",
   "name": "python3"
  },
  "language_info": {
   "file_extension": ".py",
   "name": "python",
   "version": "3"
  }
 },
 "nbformat": 4,
 "nbformat_minor": 2
}
