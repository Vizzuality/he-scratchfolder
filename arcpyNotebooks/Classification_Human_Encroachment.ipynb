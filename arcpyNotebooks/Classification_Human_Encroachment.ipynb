{
 "cells": [
  {
   "cell_type": "markdown",
   "metadata": {},
   "source": [
    "This notebook has the protocol used to create the raster layers from \n",
    "The GHM data we are going to use is a single raster with a continuous variable from 0 to 1. The resolution of this dataset is 1-km. Supplementary figure 11 from the GHM paper shows a summary (the median) of the GHm values accross 19 Anthromes). \n",
    "Anthrome data can be downloaded from [here](http://ecotope.org/anthromes/v2/data/) , [appendix 3](https://onlinelibrary.wiley.com/action/downloadSupplement?doi=10.1111%2Fj.1466-8238.2010.00540.x&file=GEB_540_sm_AppS3.pdf) of the paper on Anthromes explains how the land has been classified.\n",
    "Using this Anthrome Classification Algorithm, we will use the following human encroachment classification: \n",
    "```\n",
    "Urban: 11: Urban/12: Mixed settlements\n",
    "Rainfed agriculture: 21: Rice villages/23: Rainfed villages/32: Residential rainfed croplands/33: Populated croplands/34: Remote croplands\n",
    "Irrigated agriculture: 22: Irrigated villages/31: Residential irrigated croplands\n",
    "Rangeland: 24: Pastoral villages/41: Residential rangelands/42: Populated rangelands/43: Remote rangelands\n",
    "Other: 51: Residential woodlands/52: Populated woodlands/53: Remote woodlands/54: Inhabited treeless and barren lands/61: Wild woodland\n",
    "```\n",
    "\n",
    "This would mean that we would have 4 that do not overlap:\n",
    "- Urban\n",
    "- Rainfed agriculture\n",
    "- Irrigated agriculture\n",
    "- Rangeland"
   ]
  },
  {
   "cell_type": "code",
   "execution_count": 1,
   "metadata": {},
   "outputs": [],
   "source": [
    "import arcpy\n",
    "from arcpy.sa import *\n",
    "arcpy.env.workspace = \"C:\\\\Users\\\\Vizuser\\\\Documents\\\\ArcGIS\\\\Projects\\Human Pressure\""
   ]
  },
  {
   "cell_type": "markdown",
   "metadata": {},
   "source": [
    "Human pressure data was provided by MOL \n",
    "```\n",
    "README\n",
    "Global human modification layer\n",
    "2019.11.27\n",
    "THESE FILES ARE FOR INTERNAL DESIGN PURPOSES ONLY, AND SHOULD NOT BE\n",
    "ADVERTISED, USED, OR SHARED OUTSIDE OF THE HALF-EARTH TEAM UNTIL FURTHER\n",
    "NOTICE.\n",
    "gHM_extended_maskGADM36_cea_20191127.grd: 1km raster layer of global human\n",
    "modification (gHM), derived from Kennedy et al. (2019). The original\n",
    "layer was transformed to an equal-area projection using bilinear\n",
    "interpolation. It was then extended to all terrestrial surface area,\n",
    "filling in missing areas with a value of 0 (e.g., Antarctica). The\n",
    "was then masked to the GADM3.6 land layer*.\n",
    "Kennedy, C. M., Oakleaf, J. R., Theobald, D. M., Baruch‐Mordo, S., &amp;\n",
    "Kiesecker, J. (2019). Managing the middle: A shift in conservation priorities\n",
    "based on the global human modification gradient. Global Change Biology,\n",
    "25(3), 811-826. Data available at:\n",
    "https://figshare.com/articles/Global_Human_Modification/7283087/1\n",
    "GADM version 3.6 available at:\n",
    "https://gadm.org/download_world.html\n",
    "```"
   ]
  },
  {
   "cell_type": "markdown",
   "metadata": {},
   "source": [
    "The anthrome data had to be resampled to match the projection of GHM layer and the cell size. "
   ]
  },
  {
   "cell_type": "code",
   "execution_count": 16,
   "metadata": {},
   "outputs": [
    {
     "data": {
      "text/plain": [
       "<Result 'C:\\\\Users\\\\Vizuser\\\\Documents\\\\ArcGIS\\\\Projects\\\\Human Pressure\\\\\\\\Human_pressure_outputs.gdb\\\\anthro2_a2000_cea'>"
      ]
     },
     "execution_count": 16,
     "metadata": {},
     "output_type": "execute_result"
    }
   ],
   "source": [
    "arcpy.management.ProjectRaster(r\"anthromes\\anthro2_a2000.tif\", \n",
    "                               r\"Human_pressure_outputs.gdb\\anthro2_a2000_cea\", \n",
    "                               \"PROJCS['WGS_1984_Cylindrical_Equal_Area',GEOGCS['GCS_WGS_1984',DATUM['D_WGS_1984',SPHEROID['WGS_1984',6378137.0,298.257223563]],PRIMEM['Greenwich',0.0],UNIT['Degree',0.0174532925199433]],PROJECTION['Cylindrical_Equal_Area'],PARAMETER['false_easting',0.0],PARAMETER['false_northing',0.0],PARAMETER['central_meridian',0.0],PARAMETER['standard_parallel_1',30.0],UNIT['Meter',1.0]]\", \"NEAREST\", \"7393.40090922411 7393.40090922411\", None, None, \"GEOGCS['GCS_WGS_1984',DATUM['D_WGS_1984',SPHEROID['WGS_1984',6378137.0,298.257223563]],PRIMEM['Greenwich',0.0],UNIT['Degree',0.0174532925199433]]\", \"NO_VERTICAL\")"
   ]
  },
  {
   "cell_type": "code",
   "execution_count": 19,
   "metadata": {},
   "outputs": [
    {
     "data": {
      "text/plain": [
       "<Result 'C:\\\\Users\\\\Vizuser\\\\Documents\\\\ArcGIS\\\\Projects\\\\Human Pressure\\\\Human_pressure_outputs.gdb\\\\anthro2_a2000_cea_Resample'>"
      ]
     },
     "execution_count": 19,
     "metadata": {},
     "output_type": "execute_result"
    }
   ],
   "source": [
    "arcpy.management.Resample(r\"Human_pressure_outputs.gdb\\anthro2_a2000_cea\", \n",
    "                          r\"Human_pressure_outputs.gdb\\anthro2_a2000_cea_Resample\", \n",
    "                          \"968 1030\", \"NEAREST\")"
   ]
  },
  {
   "cell_type": "markdown",
   "metadata": {},
   "source": [
    "We reclassify the data into 4 classes:\n",
    "- 1 == Urban\n",
    "- 2 == Rainfed\n",
    "- 3 == Irrigated\n",
    "- 4 == Rangelands"
   ]
  },
  {
   "cell_type": "code",
   "execution_count": 20,
   "metadata": {},
   "outputs": [],
   "source": [
    "out_raster = arcpy.sa.Reclassify(r\"Human_pressure_outputs.gdb\\anthro2_a2000_cea_Resample\", \n",
    "                                 \"LABEL\", \n",
    "                                 \"'11: Urban' 1;'12: Mixed settlements' 1;'21: Rice villages' 2;'22: Irrigated villages' 3;'23: Rainfed villages' 2;'24: Pastoral villages' 4;'31: Residential irrigated croplands' 3;'32: Residential rainfed croplands' 2;'33: Populated croplands' 2;'34: Remote croplands' 2;'41: Residential rangelands' 4;'42: Populated rangelands' 4;'43: Remote rangelands' 4;'51: Residential woodlands' 0;'52: Populated woodlands' 0;'53: Remote woodlands' 0;'54: Inhabited treeless and barren lands' 0;'61: Wild woodlands' 0;'62: Wild treeless and barren lands' 0\", \"DATA\");\n",
    "out_raster.save(\"..\\Human_pressure_outputs.gdb\\Antro4classes\")"
   ]
  },
  {
   "cell_type": "markdown",
   "metadata": {},
   "source": [
    "And use `Antro4classes` to extract the values from gHM. "
   ]
  },
  {
   "cell_type": "code",
   "execution_count": 21,
   "metadata": {},
   "outputs": [],
   "source": [
    "outSetNull_urban = SetNull(\"Human_pressure_outputs.gdb\\Antro4classes\", \"gHM_extended_maskGADM36_cea_20191127.tif\", \"VALUE <> 1\")\n",
    "outSetNull_urban.save(\"..\\Human_pressure_outputs.gdb\\gHM_Urban\")"
   ]
  },
  {
   "cell_type": "code",
   "execution_count": 22,
   "metadata": {},
   "outputs": [],
   "source": [
    "outSetNull_rainfed = SetNull(\"Human_pressure_outputs.gdb\\Antro4classes\", \"gHM_extended_maskGADM36_cea_20191127.tif\", \"VALUE <> 2\")\n",
    "outSetNull_rainfed.save(\"..\\Human_pressure_outputs.gdb\\gHM_Rainfed\")"
   ]
  },
  {
   "cell_type": "code",
   "execution_count": 23,
   "metadata": {},
   "outputs": [],
   "source": [
    "outSetNull_irrigated = SetNull(\"Human_pressure_outputs.gdb\\Antro4classes\", \"gHM_extended_maskGADM36_cea_20191127.tif\", \"VALUE <> 3\")\n",
    "outSetNull_irrigated.save(\"..\\Human_pressure_outputs.gdb\\gHM_Irrigated\")"
   ]
  },
  {
   "cell_type": "code",
   "execution_count": 24,
   "metadata": {},
   "outputs": [],
   "source": [
    "outSetNull_rangeland = SetNull(\"Human_pressure_outputs.gdb\\Antro4classes\", \"gHM_extended_maskGADM36_cea_20191127.tif\", \"VALUE <> 4\")\n",
    "outSetNull_rangeland.save(\"..\\Human_pressure_outputs.gdb\\gHM_Rangeland\")"
   ]
  },
  {
   "cell_type": "code",
   "execution_count": null,
   "metadata": {},
   "outputs": [],
   "source": []
  },
  {
   "cell_type": "code",
   "execution_count": null,
   "metadata": {},
   "outputs": [],
   "source": []
  }
 ],
 "metadata": {
  "kernelspec": {
   "display_name": "Python 3",
   "language": "python",
   "name": "python3"
  },
  "language_info": {
   "codemirror_mode": {
    "name": "ipython",
    "version": 3
   },
   "file_extension": ".py",
   "mimetype": "text/x-python",
   "name": "python",
   "nbconvert_exporter": "python",
   "pygments_lexer": "ipython3",
   "version": "3.6.9"
  }
 },
 "nbformat": 4,
 "nbformat_minor": 2
}
