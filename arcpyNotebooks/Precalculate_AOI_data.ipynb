{
 "cells": [
  {
   "cell_type": "markdown",
   "metadata": {},
   "source": [
    "# Precalculating AOI information\n",
    "The site will show precalculated information for: WWF ecorregions, GADM admin 1 and 2 and WDPA. The minimum size of the features to be able to provide biodiversity data must be over 1000km^2. \n",
    "- Ecorregions polygon used ([arcgis online item](https://eowilson.maps.arcgis.com/home/item.html?id=be0308e81950409b919940bd03f2cae6))\n",
    "- GADM polygons, level 0 and 1 (downloaded from [here](https://gadm.org/download_world.html))\n",
    "- WDPA raster (june version, [provided by MOL](https://eowilson.maps.arcgis.com/home/content.html?user=MoL_HEdata&view=table&sortOrder=desc&sortField=modified&folder=1c7e82b763e54da29644eef4e048b2df#content))\n",
    "\n",
    "**NOTE**: the polygons used to extract the information are not the same geometries shown on the app. In the app the geometries have been generalised to increase performance.\n"
   ]
  },
  {
   "cell_type": "markdown",
   "metadata": {},
   "source": [
    "## Information to be gathered\n",
    "- `population_sum`\n",
    "- `land_cover_majority`\n",
    "- `climate_regime_majority`\n",
    "- `urban_percent`\n",
    "- `rainfed_percent`\n",
    "- `irrigated_percent`\n",
    "- `rangeland_percent`\n",
    "- `number_of_mammals`\n",
    "- `number_of_amphibians`\n",
    "- `number_of_birds`\n",
    "- `number_of_reptiles`\n",
    "- `percentage_protected`\n",
    "- `mammals_list`\n",
    "- `amphibians_list`\n",
    "- `birds_list`\n",
    "- `reptiles_list`"
   ]
  },
  {
   "cell_type": "markdown",
   "metadata": {},
   "source": [
    "### Ecoregions"
   ]
  },
  {
   "cell_type": "markdown",
   "metadata": {},
   "source": [
    "#### Population"
   ]
  },
  {
   "cell_type": "code",
   "execution_count": null,
   "metadata": {},
   "outputs": [],
   "source": [
    "arcpy.sa.ZonalStatisticsAsTable(\"Ecoregions2017_20210825\", \n",
    "                                \"eco_id_int\", \n",
    "                                \"population2020.crf\", \n",
    "                                r\"C:\\Users\\Viz1\\Documents\\ArcGIS\\Projects\\SuperSample\\SuperSample.gdb\\ecoregion_population_sum\", \n",
    "                                \"DATA\", \"SUM\", \"CURRENT_SLICE\", 90)"
   ]
  },
  {
   "cell_type": "code",
   "execution_count": null,
   "metadata": {},
   "outputs": [],
   "source": [
    "arcpy.management.JoinField(\"Ecoregions2017_20210825\", \"eco_id_int\", \"ecoregion_population_sum\", \"eco_id_int\", \"SUM\")"
   ]
  },
  {
   "cell_type": "code",
   "execution_count": null,
   "metadata": {},
   "outputs": [],
   "source": [
    "arcpy.management.AlterField(\"Ecoregions2017_20210825\", \"SUM\", \n",
    "                            \"population_sum\", \"population_sum\", \"DOUBLE\", 8, \"NULLABLE\", \"DO_NOT_CLEAR\")"
   ]
  },
  {
   "cell_type": "markdown",
   "metadata": {},
   "source": [
    "#### climate regime and land cover"
   ]
  },
  {
   "cell_type": "code",
   "execution_count": null,
   "metadata": {},
   "outputs": [],
   "source": [
    "arcpy.sa.ZonalStatisticsAsTable(\"Ecoregions2017_20210825\", \n",
    "                                \"eco_id_int\", \"ELU.crf\", \n",
    "                                r\"C:\\Users\\Viz1\\Documents\\ArcGIS\\Projects\\SuperSample\\SuperSample.gdb\\ecoregion_elu_majority\", \n",
    "                                \"DATA\", \"MAJORITY\", \"CURRENT_SLICE\", [90])"
   ]
  },
  {
   "cell_type": "code",
   "execution_count": null,
   "metadata": {},
   "outputs": [],
   "source": [
    "arcpy.management.JoinField(\"Ecoregions2017_20210825\", \"eco_id_int\", \"ecoregion_elu_majority\", \"eco_id_int\", \"MAJORITY\")"
   ]
  },
  {
   "cell_type": "code",
   "execution_count": null,
   "metadata": {},
   "outputs": [],
   "source": [
    "arcpy.management.AlterField(\"Ecoregions2017_20210825\", \"MAJORITY\", \"majority_lc_cr\", \"majority land cover climate regime\", \n",
    "                            \"LONG\", 4, \"NULLABLE\", \"DO_NOT_CLEAR\")"
   ]
  },
  {
   "cell_type": "code",
   "execution_count": null,
   "metadata": {},
   "outputs": [],
   "source": [
    "arcpy.management.JoinField(\"Ecoregions2017_20210825\", \n",
    "                           \"majority_lc_cr\", \n",
    "                           r\"C:\\Users\\Viz1\\Documents\\ArcGIS\\Projects\\mammal_data_cube\\elu_categories_lookup.csv\", \n",
    "                           \"elu_code\", \"lc_type;cr_type\")"
   ]
  },
  {
   "cell_type": "code",
   "execution_count": null,
   "metadata": {},
   "outputs": [],
   "source": [
    "arcpy.management.AlterField(\"Ecoregions2017_20210825\", \"lc_type\", \"land_cover_majority\", \"land_cover_majority\", \"TEXT\", 8000, \"NULLABLE\", \"DO_NOT_CLEAR\")"
   ]
  },
  {
   "cell_type": "code",
   "execution_count": null,
   "metadata": {},
   "outputs": [],
   "source": [
    "arcpy.management.AlterField(\"Ecoregions2017_20210825\", \"cr_type\", \"climate_regime_majority\", \"climate_regime_majority\", \"TEXT\", 8000, \"NULLABLE\", \"DO_NOT_CLEAR\")"
   ]
  },
  {
   "cell_type": "markdown",
   "metadata": {},
   "source": [
    "#### Protected percentage\n"
   ]
  },
  {
   "cell_type": "code",
   "execution_count": 4,
   "metadata": {},
   "outputs": [
    {
     "data": {
      "text/plain": [
       "<geoprocessing server result object object at 0x0000029825526E68>"
      ]
     },
     "execution_count": 4,
     "metadata": {},
     "output_type": "execute_result"
    }
   ],
   "source": [
    "arcpy.sa.ZonalStatisticsAsTable(\"Ecoregions2017_20210825_PolygonToRaster\", \"Value\", \"wdpa_oecm_zeros.crf\", \n",
    "                                r\"C:\\Users\\Viz1\\Documents\\ArcGIS\\Projects\\SuperSample\\SuperSample.gdb\\wdpa_ecoregions_mean\", \n",
    "                                \"DATA\", \"MEAN\", \"CURRENT_SLICE\", 90)"
   ]
  },
  {
   "cell_type": "code",
   "execution_count": 5,
   "metadata": {},
   "outputs": [
    {
     "data": {
      "text/html": [
       "<h2>Output</h2>a Layer object<h2>Messages</h2>Start Time: Thursday, September 16, 2021 1:48:22 PM<br/>Succeeded at Thursday, September 16, 2021 1:48:24 PM (Elapsed Time: 1.34 seconds)<br/><style>.rendered_html td, .rendered_html th {text-align: left;}.rendered_html tbody {border: 1px solid black;}</style>"
      ],
      "text/plain": [
       "<Result 'Ecoregions2017_20210825'>"
      ]
     },
     "execution_count": 5,
     "metadata": {},
     "output_type": "execute_result"
    }
   ],
   "source": [
    "arcpy.management.JoinField(\"Ecoregions2017_20210825\", \"eco_id_int\", \n",
    "                           \"wdpa_ecoregions_mean\", \"Value\", \"MEAN\")"
   ]
  },
  {
   "cell_type": "code",
   "execution_count": null,
   "metadata": {},
   "outputs": [],
   "source": [
    "arcpy.management.AlterField(\"Ecoregions2017_20210825\", \"MEAN\", \"percentage_protected\", \"percentage_protected\", \"DOUBLE\", 8, \"NULLABLE\", \"DO_NOT_CLEAR\")"
   ]
  },
  {
   "cell_type": "markdown",
   "metadata": {},
   "source": [
    "#### Land encroachment\n",
    "look up table:\n",
    "- 1: irrigated\n",
    "- 2: rainfed\n",
    "- 3: rangeland\n",
    "- 4: urban"
   ]
  },
  {
   "cell_type": "code",
   "execution_count": null,
   "metadata": {},
   "outputs": [],
   "source": [
    "\n",
    "arcpy.conversion.PolygonToRaster(\"Ecoregions2017_20210825\", \"eco_id_int\", r\"C:\\Users\\Viz1\\Documents\\ArcGIS\\Projects\\SuperSample\\SuperSample.gdb\\Ecoregions2017_20210825_PolygonToRaster\", \"CELL_CENTER\", \"NONE\", r\"C:\\Users\\Viz1\\Documents\\ArcGIS\\Projects\\SuperSample\\land_encroachment_Subset.crf\")"
   ]
  },
  {
   "cell_type": "code",
   "execution_count": null,
   "metadata": {},
   "outputs": [],
   "source": [
    "arcpy.sa.ZonalStatisticsAsTable(\"Ecoregions2017_20210825\", \"eco_id_int\", \"land_encroachment.crf\", \n",
    "                                r\"C:\\Users\\Viz1\\Documents\\ArcGIS\\Projects\\SuperSample\\SuperSample.gdb\\land_encroachment_ecoregions_all\", \n",
    "                                \"DATA\", \"ALL\", \"ALL_SLICES\", [90])"
   ]
  },
  {
   "cell_type": "code",
   "execution_count": null,
   "metadata": {},
   "outputs": [],
   "source": [
    "# join field from the raster\n",
    "arcpy.management.JoinField(\"land_encroachment_ecoregions_all\", \"eco_id_int\", \n",
    "                           \"Ecoregions2017_20210825_PolygonToRaster\", \"Value\", \"Count\")\n",
    "\n"
   ]
  },
  {
   "cell_type": "code",
   "execution_count": 21,
   "metadata": {},
   "outputs": [
    {
     "data": {
      "text/html": [
       "<h2>Output</h2>a Table object<h2>Messages</h2>Start Time: Thursday, September 16, 2021 5:07:35 PM<br/>Succeeded at Thursday, September 16, 2021 5:07:35 PM (Elapsed Time: 0.57 seconds)<br/><style>.rendered_html td, .rendered_html th {text-align: left;}.rendered_html tbody {border: 1px solid black;}</style>"
      ],
      "text/plain": [
       "<Result 'land_encroachment_ecoregions_all'>"
      ]
     },
     "execution_count": 21,
     "metadata": {},
     "output_type": "execute_result"
    }
   ],
   "source": [
    "# create new field and calculate the percent within land_encroachment_ecoregions_all,\n",
    "arcpy.management.CalculateField(\"land_encroachment_ecoregions_all\", \"percent_encroachment\", \n",
    "                                \"round((!COUNT! / !Count_1!)*100,2)\", \"PYTHON3\", '', \"TEXT\")"
   ]
  },
  {
   "cell_type": "code",
   "execution_count": 32,
   "metadata": {},
   "outputs": [
    {
     "data": {
      "text/html": [
       "<h2>Output</h2>a Layer object<h2>Messages</h2>Start Time: Thursday, September 16, 2021 5:59:39 PM<br/>Succeeded at Thursday, September 16, 2021 5:59:40 PM (Elapsed Time: 1.20 seconds)<br/><style>.rendered_html td, .rendered_html th {text-align: left;}.rendered_html tbody {border: 1px solid black;}</style>"
      ],
      "text/plain": [
       "<Result 'Ecoregions2017_20210825'>"
      ]
     },
     "execution_count": 32,
     "metadata": {},
     "output_type": "execute_result"
    }
   ],
   "source": [
    "# select the rows for each kind of encroachment. join the field and change the name\n",
    "# 1 irrigated\n",
    "val = 1\n",
    "slice_name = \"irrigated\"\n",
    "arcpy.analysis.TableSelect(\"land_encroachment_ecoregions_all\", f\"C:/Users/Viz1/Documents/ArcGIS/Projects/SuperSample/SuperSample.gdb/land_{slice_name}_ecoregions\", f\"SliceNumber = {val}\")\n",
    "arcpy.management.JoinField(f\"Ecoregions2017_20210825\", \"eco_id_int\", f\"land_{slice_name}_ecoregions\", \"eco_id_int\", \"percent_encroachment\")\n",
    "arcpy.management.AlterField(\"Ecoregions2017_20210825\", \"percent_encroachment\", f\"percent_{slice_name}\", f\"percent_{slice_name}\", \"DOUBLE\", 8, \"NULLABLE\", \"DO_NOT_CLEAR\")"
   ]
  },
  {
   "cell_type": "code",
   "execution_count": 33,
   "metadata": {},
   "outputs": [
    {
     "data": {
      "text/html": [
       "<h2>Output</h2>a Layer object<h2>Messages</h2>Start Time: Thursday, September 16, 2021 5:59:49 PM<br/>Succeeded at Thursday, September 16, 2021 5:59:50 PM (Elapsed Time: 1.08 seconds)<br/><style>.rendered_html td, .rendered_html th {text-align: left;}.rendered_html tbody {border: 1px solid black;}</style>"
      ],
      "text/plain": [
       "<Result 'Ecoregions2017_20210825'>"
      ]
     },
     "execution_count": 33,
     "metadata": {},
     "output_type": "execute_result"
    }
   ],
   "source": [
    "val = 2\n",
    "slice_name = \"rainfed\"\n",
    "arcpy.analysis.TableSelect(\"land_encroachment_ecoregions_all\", f\"C:/Users/Viz1/Documents/ArcGIS/Projects/SuperSample/SuperSample.gdb/land_{slice_name}_ecoregions\", f\"SliceNumber = {val}\")\n",
    "arcpy.management.JoinField(f\"Ecoregions2017_20210825\", \"eco_id_int\", f\"land_{slice_name}_ecoregions\", \"eco_id_int\", \"percent_encroachment\")\n",
    "arcpy.management.AlterField(\"Ecoregions2017_20210825\", \"percent_encroachment\", f\"percent_{slice_name}\", f\"percent_{slice_name}\", \"DOUBLE\", 8, \"NULLABLE\", \"DO_NOT_CLEAR\")"
   ]
  },
  {
   "cell_type": "code",
   "execution_count": 34,
   "metadata": {},
   "outputs": [
    {
     "data": {
      "text/html": [
       "<h2>Output</h2>a Layer object<h2>Messages</h2>Start Time: Thursday, September 16, 2021 6:00:02 PM<br/>Succeeded at Thursday, September 16, 2021 6:00:03 PM (Elapsed Time: 1.19 seconds)<br/><style>.rendered_html td, .rendered_html th {text-align: left;}.rendered_html tbody {border: 1px solid black;}</style>"
      ],
      "text/plain": [
       "<Result 'Ecoregions2017_20210825'>"
      ]
     },
     "execution_count": 34,
     "metadata": {},
     "output_type": "execute_result"
    }
   ],
   "source": [
    "# select the rows for each kind of encroachment. join the field and change the name\n",
    "\n",
    "val = 3\n",
    "slice_name = \"rangeland\"\n",
    "arcpy.analysis.TableSelect(\"land_encroachment_ecoregions_all\", f\"C:/Users/Viz1/Documents/ArcGIS/Projects/SuperSample/SuperSample.gdb/land_{slice_name}_ecoregions\", f\"SliceNumber = {val}\")\n",
    "arcpy.management.JoinField(f\"Ecoregions2017_20210825\", \"eco_id_int\", f\"land_{slice_name}_ecoregions\", \"eco_id_int\", \"percent_encroachment\")\n",
    "arcpy.management.AlterField(\"Ecoregions2017_20210825\", \"percent_encroachment\", f\"percent_{slice_name}\", f\"percent_{slice_name}\", \"DOUBLE\", 8, \"NULLABLE\", \"DO_NOT_CLEAR\")"
   ]
  },
  {
   "cell_type": "code",
   "execution_count": 35,
   "metadata": {},
   "outputs": [
    {
     "data": {
      "text/html": [
       "<h2>Output</h2>a Layer object<h2>Messages</h2>Start Time: Thursday, September 16, 2021 6:00:14 PM<br/>Succeeded at Thursday, September 16, 2021 6:00:15 PM (Elapsed Time: 1.12 seconds)<br/><style>.rendered_html td, .rendered_html th {text-align: left;}.rendered_html tbody {border: 1px solid black;}</style>"
      ],
      "text/plain": [
       "<Result 'Ecoregions2017_20210825'>"
      ]
     },
     "execution_count": 35,
     "metadata": {},
     "output_type": "execute_result"
    }
   ],
   "source": [
    "# select the rows for each kind of encroachment. join the field and change the name\n",
    "\n",
    "val = 4\n",
    "slice_name = \"urban\"\n",
    "arcpy.analysis.TableSelect(\"land_encroachment_ecoregions_all\", f\"C:/Users/Viz1/Documents/ArcGIS/Projects/SuperSample/SuperSample.gdb/land_{slice_name}_ecoregions\", f\"SliceNumber = {val}\")\n",
    "arcpy.management.JoinField(f\"Ecoregions2017_20210825\", \"eco_id_int\", f\"land_{slice_name}_ecoregions\", \"eco_id_int\", \"percent_encroachment\")\n",
    "arcpy.management.AlterField(\"Ecoregions2017_20210825\", \"percent_encroachment\", f\"percent_{slice_name}\", f\"percent_{slice_name}\", \"DOUBLE\", 8, \"NULLABLE\", \"DO_NOT_CLEAR\")"
   ]
  },
  {
   "cell_type": "markdown",
   "metadata": {},
   "source": [
    "## GADM\n",
    "Using non generalised polygons to extract the information\n",
    "- population\n",
    "- percentage protected (June version, MOL data)\n",
    "- ecosystem majority"
   ]
  },
  {
   "cell_type": "code",
   "execution_count": null,
   "metadata": {},
   "outputs": [],
   "source": [
    "arcpy.management.Merge(\"gadm_level1;gadm_level0\", \n",
    "                       r\"C:\\Users\\Viz1\\Documents\\ArcGIS\\Projects\\SuperSample\\SuperSample.gdb\\gadm_level0_and_1_Merge\", \n",
    "                       'GID_0 \"GID_0\" true true false 2147483647 Text 0 0,First,#,gadm_level1,GID_0,0,2147483647,gadm_level0,GID_0,0,2147483647;NAME_0 \"NAME_0\" true true false 2147483647 Text 0 0,First,#,gadm_level1,NAME_0,0,2147483647,gadm_level0,NAME_0,0,2147483647;GID_1 \"GID_1\" true true false 2147483647 Text 0 0,First,#,gadm_level1,GID_1,0,2147483647;NAME_1 \"NAME_1\" true true false 2147483647 Text 0 0,First,#,gadm_level1,NAME_1,0,2147483647;VARNAME_1 \"VARNAME_1\" true true false 2147483647 Text 0 0,First,#,gadm_level1,VARNAME_1,0,2147483647;NL_NAME_1 \"NL_NAME_1\" true true false 2147483647 Text 0 0,First,#,gadm_level1,NL_NAME_1,0,2147483647;TYPE_1 \"TYPE_1\" true true false 2147483647 Text 0 0,First,#,gadm_level1,TYPE_1,0,2147483647;ENGTYPE_1 \"ENGTYPE_1\" true true false 2147483647 Text 0 0,First,#,gadm_level1,ENGTYPE_1,0,2147483647;CC_1 \"CC_1\" true true false 2147483647 Text 0 0,First,#,gadm_level1,CC_1,0,2147483647;HASC_1 \"HASC_1\" true true false 2147483647 Text 0 0,First,#,gadm_level1,HASC_1,0,2147483647;geom_Length \"geom_Length\" false true true 8 Double 0 0,First,#,gadm_level1,geom_Length,-1,-1,gadm_level0,geom_Length,-1,-1;geom_Area \"geom_Area\" false true true 8 Double 0 0,First,#,gadm_level1,geom_Area,-1,-1,gadm_level0,geom_Area,-1,-1;country_size \"country_size\" true true false 4 Long 0 0,First,#,gadm_level1,country_size,-1,-1,gadm_level0,country_size,-1,-1;country_zoom \"country_zoom\" true true false 4 Long 0 0,First,#,gadm_level0,country_zoom,-1,-1', \"NO_SOURCE_INFO\")"
   ]
  },
  {
   "cell_type": "code",
   "execution_count": 7,
   "metadata": {},
   "outputs": [
    {
     "data": {
      "text/plain": [
       "<geoprocessing server result object object at 0x0000029825526EB8>"
      ]
     },
     "execution_count": 7,
     "metadata": {},
     "output_type": "execute_result"
    }
   ],
   "source": [
    "arcpy.sa.ZonalStatisticsAsTable(\"gadm_level0_and_1_Merge\", \n",
    "                                \"GID_0_1\", \n",
    "                                \"population2020.crf\", \n",
    "                                r\"C:\\Users\\Viz1\\Documents\\ArcGIS\\Projects\\SuperSample\\SuperSample.gdb\\gadm_population_sum\", \n",
    "                                \"DATA\", \"SUM\", \"CURRENT_SLICE\", 90)"
   ]
  },
  {
   "cell_type": "code",
   "execution_count": 8,
   "metadata": {},
   "outputs": [
    {
     "data": {
      "text/html": [
       "<h2>Output</h2>a Layer object<h2>Messages</h2>Start Time: Thursday, September 16, 2021 2:36:57 PM<br/>Succeeded at Thursday, September 16, 2021 2:36:58 PM (Elapsed Time: 0.66 seconds)<br/><style>.rendered_html td, .rendered_html th {text-align: left;}.rendered_html tbody {border: 1px solid black;}</style>"
      ],
      "text/plain": [
       "<Result 'gadm_level0_and_1_Merge'>"
      ]
     },
     "execution_count": 8,
     "metadata": {},
     "output_type": "execute_result"
    }
   ],
   "source": [
    "arcpy.management.JoinField(\"gadm_level0_and_1_Merge\", \n",
    "                           \"GID_0_1\", \n",
    "                           \"gadm_population_sum\", \n",
    "                           \"GID_0_1\", \"SUM\")"
   ]
  },
  {
   "cell_type": "code",
   "execution_count": 9,
   "metadata": {},
   "outputs": [
    {
     "data": {
      "text/html": [
       "<h2>Output</h2>a Layer object<h2>Messages</h2>Start Time: Thursday, September 16, 2021 2:37:01 PM<br/>Succeeded at Thursday, September 16, 2021 2:37:01 PM (Elapsed Time: 0.58 seconds)<br/><style>.rendered_html td, .rendered_html th {text-align: left;}.rendered_html tbody {border: 1px solid black;}</style>"
      ],
      "text/plain": [
       "<Result 'gadm_level0_and_1_Merge'>"
      ]
     },
     "execution_count": 9,
     "metadata": {},
     "output_type": "execute_result"
    }
   ],
   "source": [
    "arcpy.management.AlterField(\"gadm_level0_and_1_Merge\", \"SUM\", \n",
    "                            \"population_sum\", \"population_sum\", \n",
    "                            \"DOUBLE\", 8, \"NULLABLE\", \"DO_NOT_CLEAR\")"
   ]
  },
  {
   "cell_type": "markdown",
   "metadata": {},
   "source": [
    "#### climate regime and land cover"
   ]
  },
  {
   "cell_type": "code",
   "execution_count": 10,
   "metadata": {},
   "outputs": [
    {
     "data": {
      "text/plain": [
       "<geoprocessing server result object object at 0x0000029825526FA8>"
      ]
     },
     "execution_count": 10,
     "metadata": {},
     "output_type": "execute_result"
    }
   ],
   "source": [
    "arcpy.sa.ZonalStatisticsAsTable(\"gadm_level0_and_1_Merge\", \n",
    "                                \"GID_0_1\", \"ELU.crf\", \n",
    "                                r\"C:\\Users\\Viz1\\Documents\\ArcGIS\\Projects\\SuperSample\\SuperSample.gdb\\gadm_elu_majority\", \n",
    "                                \"DATA\", \"MAJORITY\", \"CURRENT_SLICE\", [90])"
   ]
  },
  {
   "cell_type": "code",
   "execution_count": 11,
   "metadata": {},
   "outputs": [
    {
     "data": {
      "text/html": [
       "<h2>Output</h2>a Layer object<h2>Messages</h2>Start Time: Thursday, September 16, 2021 3:00:10 PM<br/>Succeeded at Thursday, September 16, 2021 3:00:11 PM (Elapsed Time: 0.66 seconds)<br/><style>.rendered_html td, .rendered_html th {text-align: left;}.rendered_html tbody {border: 1px solid black;}</style>"
      ],
      "text/plain": [
       "<Result 'gadm_level0_and_1_Merge'>"
      ]
     },
     "execution_count": 11,
     "metadata": {},
     "output_type": "execute_result"
    }
   ],
   "source": [
    "arcpy.management.JoinField(\"gadm_level0_and_1_Merge\", \n",
    "                           \"GID_0_1\", \"gadm_elu_majority\", \"GID_0_1\", \"MAJORITY\")"
   ]
  },
  {
   "cell_type": "code",
   "execution_count": 12,
   "metadata": {},
   "outputs": [
    {
     "data": {
      "text/html": [
       "<h2>Output</h2>a Layer object<h2>Messages</h2>Start Time: Thursday, September 16, 2021 3:05:39 PM<br/>Succeeded at Thursday, September 16, 2021 3:05:40 PM (Elapsed Time: 0.59 seconds)<br/><style>.rendered_html td, .rendered_html th {text-align: left;}.rendered_html tbody {border: 1px solid black;}</style>"
      ],
      "text/plain": [
       "<Result 'gadm_level0_and_1_Merge'>"
      ]
     },
     "execution_count": 12,
     "metadata": {},
     "output_type": "execute_result"
    }
   ],
   "source": [
    "arcpy.management.AlterField(\"gadm_level0_and_1_Merge\", \"MAJORITY\", \"majority_lc_cr\", \"majority land cover climate regime\", \n",
    "                            \"LONG\", 4, \"NULLABLE\", \"DO_NOT_CLEAR\")"
   ]
  },
  {
   "cell_type": "code",
   "execution_count": 13,
   "metadata": {},
   "outputs": [
    {
     "data": {
      "text/html": [
       "<h2>Output</h2>a Layer object<h2>Messages</h2>Start Time: Thursday, September 16, 2021 3:05:45 PM<br/>Succeeded at Thursday, September 16, 2021 3:05:45 PM (Elapsed Time: 0.63 seconds)<br/><style>.rendered_html td, .rendered_html th {text-align: left;}.rendered_html tbody {border: 1px solid black;}</style>"
      ],
      "text/plain": [
       "<Result 'gadm_level0_and_1_Merge'>"
      ]
     },
     "execution_count": 13,
     "metadata": {},
     "output_type": "execute_result"
    }
   ],
   "source": [
    "arcpy.management.JoinField(\"gadm_level0_and_1_Merge\", \n",
    "                           \"majority_lc_cr\", \n",
    "                           r\"C:\\Users\\Viz1\\Documents\\ArcGIS\\Projects\\mammal_data_cube\\elu_categories_lookup.csv\", \n",
    "                           \"elu_code\", \"lc_type;cr_type\")"
   ]
  },
  {
   "cell_type": "code",
   "execution_count": 14,
   "metadata": {},
   "outputs": [
    {
     "data": {
      "text/html": [
       "<h2>Output</h2>a Layer object<h2>Messages</h2>Start Time: Thursday, September 16, 2021 3:05:53 PM<br/>Succeeded at Thursday, September 16, 2021 3:05:54 PM (Elapsed Time: 0.63 seconds)<br/><style>.rendered_html td, .rendered_html th {text-align: left;}.rendered_html tbody {border: 1px solid black;}</style>"
      ],
      "text/plain": [
       "<Result 'gadm_level0_and_1_Merge'>"
      ]
     },
     "execution_count": 14,
     "metadata": {},
     "output_type": "execute_result"
    }
   ],
   "source": [
    "arcpy.management.AlterField(\"gadm_level0_and_1_Merge\", \"lc_type\", \"land_cover_majority\", \"land_cover_majority\", \"TEXT\", 8000, \"NULLABLE\", \"DO_NOT_CLEAR\")"
   ]
  },
  {
   "cell_type": "code",
   "execution_count": 15,
   "metadata": {},
   "outputs": [
    {
     "data": {
      "text/html": [
       "<h2>Output</h2>a Layer object<h2>Messages</h2>Start Time: Thursday, September 16, 2021 3:05:55 PM<br/>Succeeded at Thursday, September 16, 2021 3:05:55 PM (Elapsed Time: 0.64 seconds)<br/><style>.rendered_html td, .rendered_html th {text-align: left;}.rendered_html tbody {border: 1px solid black;}</style>"
      ],
      "text/plain": [
       "<Result 'gadm_level0_and_1_Merge'>"
      ]
     },
     "execution_count": 15,
     "metadata": {},
     "output_type": "execute_result"
    }
   ],
   "source": [
    "arcpy.management.AlterField(\"gadm_level0_and_1_Merge\", \"cr_type\", \"climate_regime_majority\", \"climate_regime_majority\", \"TEXT\", 8000, \"NULLABLE\", \"DO_NOT_CLEAR\")"
   ]
  },
  {
   "cell_type": "markdown",
   "metadata": {},
   "source": [
    "#### Protected percentage\n"
   ]
  },
  {
   "cell_type": "code",
   "execution_count": 18,
   "metadata": {},
   "outputs": [
    {
     "data": {
      "text/plain": [
       "<geoprocessing server result object object at 0x0000029802FCA530>"
      ]
     },
     "execution_count": 18,
     "metadata": {},
     "output_type": "execute_result"
    }
   ],
   "source": [
    "arcpy.sa.ZonalStatisticsAsTable(\"gadm_level0_and_1_Merge\", \"GID_0_1\", \"wdpa_oecm_zeros.crf\", \n",
    "                                r\"C:\\Users\\Viz1\\Documents\\ArcGIS\\Projects\\SuperSample\\SuperSample.gdb\\wdpa_gadm_mean\", \"DATA\", \"MEAN\", \"CURRENT_SLICE\", 90)"
   ]
  },
  {
   "cell_type": "code",
   "execution_count": 19,
   "metadata": {},
   "outputs": [
    {
     "data": {
      "text/html": [
       "<h2>Output</h2>a Layer object<h2>Messages</h2>Start Time: Thursday, September 16, 2021 3:21:01 PM<br/>Succeeded at Thursday, September 16, 2021 3:21:03 PM (Elapsed Time: 2.05 seconds)<br/><style>.rendered_html td, .rendered_html th {text-align: left;}.rendered_html tbody {border: 1px solid black;}</style>"
      ],
      "text/plain": [
       "<Result 'gadm_level0_and_1_Merge'>"
      ]
     },
     "execution_count": 19,
     "metadata": {},
     "output_type": "execute_result"
    }
   ],
   "source": [
    "arcpy.management.JoinField(\"gadm_level0_and_1_Merge\", \"GID_0_1\", \n",
    "                           \"wdpa_gadm_mean\", \"GID_0_1\", \"MEAN\")"
   ]
  },
  {
   "cell_type": "code",
   "execution_count": 20,
   "metadata": {},
   "outputs": [
    {
     "data": {
      "text/html": [
       "<h2>Output</h2>a Layer object<h2>Messages</h2>Start Time: Thursday, September 16, 2021 3:21:55 PM<br/>Succeeded at Thursday, September 16, 2021 3:21:55 PM (Elapsed Time: 0.48 seconds)<br/><style>.rendered_html td, .rendered_html th {text-align: left;}.rendered_html tbody {border: 1px solid black;}</style>"
      ],
      "text/plain": [
       "<Result 'gadm_level0_and_1_Merge'>"
      ]
     },
     "execution_count": 20,
     "metadata": {},
     "output_type": "execute_result"
    }
   ],
   "source": [
    "arcpy.management.AlterField(\"gadm_level0_and_1_Merge\", \"MEAN\", \"percentage_protected\", \"percentage_protected\", \"DOUBLE\", 8, \"NULLABLE\", \"DO_NOT_CLEAR\")"
   ]
  },
  {
   "cell_type": "markdown",
   "metadata": {},
   "source": [
    "#### land encroachment\n",
    "`@todo`"
   ]
  },
  {
   "cell_type": "code",
   "execution_count": null,
   "metadata": {},
   "outputs": [],
   "source": [
    "arcpy.sa.ZonalStatisticsAsTable(\"gadm_level0_and_1_Merge\", \"GID_0_1\", \"land_encroachment.crf\", \n",
    "                                r\"C:\\Users\\Viz1\\Documents\\ArcGIS\\Projects\\SuperSample\\SuperSample.gdb\\land_encroachment_gadm_all\", \n",
    "                                \"DATA\", \"ALL\", \"ALL_SLICES\", 90)"
   ]
  },
  {
   "cell_type": "code",
   "execution_count": null,
   "metadata": {},
   "outputs": [],
   "source": [
    "arcpy.conversion.PolygonToRaster(\"gadm_level0_and_1_Merge\", \"GID_0_1\", \n",
    "                                 r\"C:\\Users\\Viz1\\Documents\\ArcGIS\\Projects\\SuperSample\\SuperSample.gdb\\gadm_level_0_and_1_PolygonToRaster\", \"CELL_CENTER\", \"NONE\", \n",
    "                                 r\"C:\\Users\\Viz1\\Documents\\ArcGIS\\Projects\\SuperSample\\land_encroachment_Subset.crf\")"
   ]
  },
  {
   "cell_type": "code",
   "execution_count": null,
   "metadata": {},
   "outputs": [],
   "source": [
    "# join field from the raster\n",
    "arcpy.management.JoinField(\"land_encroachment_ecoregions_all\", \"eco_id_int\", \n",
    "                           \"Ecoregions2017_20210825_PolygonToRaster\", \"Value\", \"Count\")\n",
    "\n"
   ]
  },
  {
   "cell_type": "code",
   "execution_count": 21,
   "metadata": {},
   "outputs": [
    {
     "data": {
      "text/html": [
       "<h2>Output</h2>a Table object<h2>Messages</h2>Start Time: Thursday, September 16, 2021 5:07:35 PM<br/>Succeeded at Thursday, September 16, 2021 5:07:35 PM (Elapsed Time: 0.57 seconds)<br/><style>.rendered_html td, .rendered_html th {text-align: left;}.rendered_html tbody {border: 1px solid black;}</style>"
      ],
      "text/plain": [
       "<Result 'land_encroachment_ecoregions_all'>"
      ]
     },
     "execution_count": 21,
     "metadata": {},
     "output_type": "execute_result"
    }
   ],
   "source": [
    "# create new field and calculate the percent within land_encroachment_ecoregions_all,\n",
    "arcpy.management.CalculateField(\"land_encroachment_ecoregions_all\", \"percent_encroachment\", \n",
    "                                \"round((!COUNT! / !Count_1!)*100,2)\", \"PYTHON3\", '', \"TEXT\")"
   ]
  },
  {
   "cell_type": "code",
   "execution_count": null,
   "metadata": {},
   "outputs": [],
   "source": []
  },
  {
   "cell_type": "code",
   "execution_count": 36,
   "metadata": {},
   "outputs": [
    {
     "ename": "ExecuteError",
     "evalue": "Failed to execute. Parameters are not valid.\nERROR 000728: Field percent_encroachment does not exist within table\nFailed to execute (AlterField).\n",
     "output_type": "error",
     "traceback": [
      "\u001b[0;31m---------------------------------------------------------------------------\u001b[0m\n\u001b[0;31mExecuteError\u001b[0m                              Traceback (most recent call last)",
      "In  \u001b[0;34m[36]\u001b[0m:\nLine \u001b[0;34m5\u001b[0m:     arcpy.management.AlterField(\u001b[33m\"\u001b[39;49;00m\u001b[33mgadm_level0_and_1_Merge\u001b[39;49;00m\u001b[33m\"\u001b[39;49;00m, \u001b[33m\"\u001b[39;49;00m\u001b[33mpercent_encroachment\u001b[39;49;00m\u001b[33m\"\u001b[39;49;00m, \u001b[33mf\u001b[39;49;00m\u001b[33m\"\u001b[39;49;00m\u001b[33mpercent_\u001b[39;49;00m\u001b[33m{\u001b[39;49;00mslice_name\u001b[33m}\u001b[39;49;00m\u001b[33m\"\u001b[39;49;00m, \u001b[33mf\u001b[39;49;00m\u001b[33m\"\u001b[39;49;00m\u001b[33mpercent_\u001b[39;49;00m\u001b[33m{\u001b[39;49;00mslice_name\u001b[33m}\u001b[39;49;00m\u001b[33m\"\u001b[39;49;00m, \u001b[33m\"\u001b[39;49;00m\u001b[33mDOUBLE\u001b[39;49;00m\u001b[33m\"\u001b[39;49;00m, \u001b[34m8\u001b[39;49;00m, \u001b[33m\"\u001b[39;49;00m\u001b[33mNULLABLE\u001b[39;49;00m\u001b[33m\"\u001b[39;49;00m, \u001b[33m\"\u001b[39;49;00m\u001b[33mDO_NOT_CLEAR\u001b[39;49;00m\u001b[33m\"\u001b[39;49;00m)\n",
      "File \u001b[0;34mc:\\program files\\arcgis\\pro\\Resources\\arcpy\\arcpy\\management.py\u001b[0m, in \u001b[0;32mAlterField\u001b[0m:\nLine \u001b[0;34m4537\u001b[0m:  \u001b[34mraise\u001b[39;49;00m e\n",
      "File \u001b[0;34mc:\\program files\\arcgis\\pro\\Resources\\arcpy\\arcpy\\management.py\u001b[0m, in \u001b[0;32mAlterField\u001b[0m:\nLine \u001b[0;34m4534\u001b[0m:  retval = convertArcObjectToPythonObject(gp.AlterField_management(*gp_fixargs((in_table, field, new_field_name, new_field_alias, field_type, field_length, field_is_nullable, clear_field_alias), \u001b[34mTrue\u001b[39;49;00m)))\n",
      "File \u001b[0;34mc:\\program files\\arcgis\\pro\\Resources\\arcpy\\arcpy\\geoprocessing\\_base.py\u001b[0m, in \u001b[0;32m<lambda>\u001b[0m:\nLine \u001b[0;34m511\u001b[0m:   \u001b[34mreturn\u001b[39;49;00m \u001b[34mlambda\u001b[39;49;00m *args: val(*gp_fixargs(args, \u001b[34mTrue\u001b[39;49;00m))\n",
      "\u001b[0;31mExecuteError\u001b[0m: Failed to execute. Parameters are not valid.\nERROR 000728: Field percent_encroachment does not exist within table\nFailed to execute (AlterField).\n\n\u001b[0;31m---------------------------------------------------------------------------\u001b[0m"
     ]
    }
   ],
   "source": [
    "val = 1\n",
    "slice_name = \"irrigated\"\n",
    "arcpy.analysis.TableSelect(\"land_encroachment_gadm_all\", f\"C:/Users/Viz1/Documents/ArcGIS/Projects/SuperSample/SuperSample.gdb/land_{slice_name}_gadm01\", f\"SliceNumber = {val}\")\n",
    "arcpy.management.JoinField(f\"gadm_level0_and_1_Merge\", \"GID_0_1\", f\"land_{slice_name}_gadm01\", \"GID_0_1\", \"percent_encroachment\")\n",
    "arcpy.management.AlterField(\"gadm_level0_and_1_Merge\", \"percent_encroachment\", f\"percent_{slice_name}\", f\"percent_{slice_name}\", \"DOUBLE\", 8, \"NULLABLE\", \"DO_NOT_CLEAR\")"
   ]
  },
  {
   "cell_type": "code",
   "execution_count": null,
   "metadata": {},
   "outputs": [],
   "source": [
    "val = 2\n",
    "slice_name = \"rainfed\"\n",
    "arcpy.analysis.TableSelect(\"land_encroachment_gadm_all\", f\"C:/Users/Viz1/Documents/ArcGIS/Projects/SuperSample/SuperSample.gdb/land_{slice_name}_gadm01\", f\"SliceNumber = {val}\")\n",
    "arcpy.management.JoinField(f\"gadm_level0_and_1_Merge\", \"GID_0_1\", f\"land_{slice_name}_gadm01\", \"GID_0_1\", \"percent_encroachment\")\n",
    "arcpy.management.AlterField(\"gadm_level0_and_1_Merge\", \"percent_encroachment\", f\"percent_{slice_name}\", f\"percent_{slice_name}\", \"DOUBLE\", 8, \"NULLABLE\", \"DO_NOT_CLEAR\")"
   ]
  },
  {
   "cell_type": "code",
   "execution_count": null,
   "metadata": {},
   "outputs": [],
   "source": [
    "val = 3\n",
    "slice_name = \"rangeland\"\n",
    "arcpy.analysis.TableSelect(\"land_encroachment_gadm_all\", f\"C:/Users/Viz1/Documents/ArcGIS/Projects/SuperSample/SuperSample.gdb/land_{slice_name}_gadm01\", f\"SliceNumber = {val}\")\n",
    "arcpy.management.JoinField(f\"gadm_level0_and_1_Merge\", \"GID_0_1\", f\"land_{slice_name}_gadm01\", \"GID_0_1\", \"percent_encroachment\")\n",
    "arcpy.management.AlterField(\"gadm_level0_and_1_Merge\", \"percent_encroachment\", f\"percent_{slice_name}\", f\"percent_{slice_name}\", \"DOUBLE\", 8, \"NULLABLE\", \"DO_NOT_CLEAR\")"
   ]
  },
  {
   "cell_type": "code",
   "execution_count": null,
   "metadata": {},
   "outputs": [],
   "source": [
    "val = 4\n",
    "slice_name = \"urban\"\n",
    "arcpy.analysis.TableSelect(\"land_encroachment_gadm_all\", f\"C:/Users/Viz1/Documents/ArcGIS/Projects/SuperSample/SuperSample.gdb/land_{slice_name}_gadm01\", f\"SliceNumber = {val}\")\n",
    "arcpy.management.JoinField(f\"gadm_level0_and_1_Merge\", \"GID_0_1\", f\"land_{slice_name}_gadm01\", \"GID_0_1\", \"percent_encroachment\")\n",
    "arcpy.management.AlterField(\"gadm_level0_and_1_Merge\", \"percent_encroachment\", f\"percent_{slice_name}\", f\"percent_{slice_name}\", \"DOUBLE\", 8, \"NULLABLE\", \"DO_NOT_CLEAR\")"
   ]
  },
  {
   "cell_type": "markdown",
   "metadata": {},
   "source": [
    "### Creating service with generalised feature classes\n",
    "\n",
    "In the country level give a size category to each country. Then use that field in the admin1 level to create the different feature collections per zoom level. \n",
    "Once the level 1 have been divided, create a new field in the country that is one more value than the previously calculated.\n",
    "\n",
    "- Living atlas [service](https://services.arcgis.com/P3ePLMYs2RVChkJx/arcgis/rest/services/World_Administrative_Divisions/FeatureServer) with level 1 admin borders\n",
    "- Generalised [service](https://services9.arcgis.com/IkktFdUAcY3WrH25/arcgis/rest/services/gadm_generalised/FeatureServer) with the country borders used in the National Report Cards (missing Fiji and Kiribati)\n",
    "- Fiji and Kiribati [service](https://services9.arcgis.com/IkktFdUAcY3WrH25/arcgis/rest/services/KIR_FIJ_proj4716/FeatureServer)"
   ]
  },
  {
   "cell_type": "code",
   "execution_count": null,
   "metadata": {},
   "outputs": [],
   "source": [
    "arcpy.analysis.Select(\"World_Administrative_Divisions\", r\"C:\\Users\\Viz1\\Documents\\ArcGIS\\Projects\\SuperSample\\SuperSample.gdb\\World_Administrative_Divisio\", \"DISPUTED <= 1\")"
   ]
  },
  {
   "cell_type": "code",
   "execution_count": null,
   "metadata": {},
   "outputs": [],
   "source": [
    "with arcpy.EnvManager(outputCoordinateSystem=\"GEOGCS['GCS_WGS_1984',DATUM['D_WGS_1984',SPHEROID['WGS_1984',6378137.0,298.257223563]],PRIMEM['Greenwich',0.0],UNIT['Degree',0.0174532925199433]]\"):\n",
    "    arcpy.management.Merge(\"KIR_FIJ_proj4716;LA_GADM_clean_dateline\", r\"C:\\Users\\Viz1\\Documents\\ArcGIS\\Projects\\SuperSample\\SuperSample.gdb\\generalised_nrc\", 'GID_0 \"GID_0\" true true false 8000 Text 0 0,First,#,KIR_FIJ_proj4716,GID_0,0,8000,LA_GADM_clean_dateline,GID_0,0,8000;NAME_0 \"NAME_0\" true true false 8000 Text 0 0,First,#,KIR_FIJ_proj4716,NAME_0,0,8000,LA_GADM_clean_dateline,NAME_0,0,8000;Shape__Area \"Shape__Area\" false true false 0 Double 0 0,First,#,KIR_FIJ_proj4716,Shape__Area,-1,-1,LA_GADM_clean_dateline,Shape__Area,-1,-1;Shape__Length \"Shape__Length\" false true false 0 Double 0 0,First,#,KIR_FIJ_proj4716,Shape__Length,-1,-1,LA_GADM_clean_dateline,Shape__Length,-1,-1', \"NO_SOURCE_INFO\")"
   ]
  },
  {
   "cell_type": "code",
   "execution_count": null,
   "metadata": {},
   "outputs": [],
   "source": [
    "arcpy.management.CalculateField(\"generalised_nrc\", \"country_size\", \"country_size(!Shape_Area!)\", \"PYTHON3\", r\"def country_size(poly_area):\n",
    "    if poly_area <= 10:\n",
    "        a = 5\n",
    "    if poly_area>10 and poly_area<=30:\n",
    "        a = 4\n",
    "    if poly_area>30 and poly_area<=100:\n",
    "        a =3\n",
    "    if poly_area>100 and poly_area<=952:\n",
    "        a =2\n",
    "    if poly_area>952 and poly_area<=6053:\n",
    "         a =1\n",
    "    return a\", \"LONG\")"
   ]
  },
  {
   "cell_type": "code",
   "execution_count": null,
   "metadata": {},
   "outputs": [],
   "source": [
    "arcpy.management.JoinField(\"generalised_nrc\", \"GID_0\", \"countrycode.csv\", \"iso3\", \"iso2\")"
   ]
  },
  {
   "cell_type": "code",
   "execution_count": null,
   "metadata": {},
   "outputs": [],
   "source": [
    "arcpy.management.JoinField(\"World_Administrative_Divisio\", \"ISO_CC\", \"generalised_nrc\", \"iso2\", \"GID_0;country_size\")"
   ]
  },
  {
   "cell_type": "code",
   "execution_count": 2,
   "metadata": {},
   "outputs": [],
   "source": [
    "for zl in [1,2,3,4,5]:\n",
    "    arcpy.analysis.Select(\"World_Administrative_Divisio\", \n",
    "                          f\"C:/Users/Viz1/Documents/ArcGIS/Projects/SuperSample/SuperSample.gdb/World_Administrative_Divisio_zoom_{zl}\", f\"country_size = {zl}\")"
   ]
  },
  {
   "cell_type": "code",
   "execution_count": 3,
   "metadata": {},
   "outputs": [],
   "source": [
    "for zl in [0,1,2,3,4]:\n",
    "    arcpy.analysis.Select(\"generalised_nrc\", \n",
    "                          f\"C:/Users/Viz1/Documents/ArcGIS/Projects/SuperSample/SuperSample.gdb/generalised_nrc_zoom{zl}\", f\"country_zoom = {zl}\")"
   ]
  },
  {
   "cell_type": "markdown",
   "metadata": {},
   "source": [
    "#### Creating a service per zoom level. "
   ]
  },
  {
   "cell_type": "code",
   "execution_count": null,
   "metadata": {},
   "outputs": [],
   "source": [
    "arcpy.management.Merge(r\"zoom4\\World_Administrative_Divisio_zoom_4;zoom4\\generalised_nrc_zoom4;zoom4\\World_Administrative_Divisio_zoom_3;zoom4\\World_Administrative_Divisio_zoom_2;zoom4\\World_Administrative_Divisio_zoom_1\", r\"C:\\Users\\Viz1\\Documents\\ArcGIS\\Projects\\SuperSample\\SuperSample.gdb\\zoom4_Merge\", r'NAME \"Name\" true true false 44 Text 0 0,First,#,zoom4\\World_Administrative_Divisio_zoom_4,NAME,0,44,zoom4\\World_Administrative_Divisio_zoom_3,NAME,0,44,zoom4\\World_Administrative_Divisio_zoom_2,NAME,0,44,zoom4\\World_Administrative_Divisio_zoom_1,NAME,0,44;COUNTRY \"Country\" true true false 50 Text 0 0,First,#,zoom4\\World_Administrative_Divisio_zoom_4,COUNTRY,0,50,zoom4\\World_Administrative_Divisio_zoom_3,COUNTRY,0,50,zoom4\\World_Administrative_Divisio_zoom_2,COUNTRY,0,50,zoom4\\World_Administrative_Divisio_zoom_1,COUNTRY,0,50;ISO_CODE \"ISO Code\" true true false 6 Text 0 0,First,#,zoom4\\World_Administrative_Divisio_zoom_4,ISO_CODE,0,6,zoom4\\World_Administrative_Divisio_zoom_3,ISO_CODE,0,6,zoom4\\World_Administrative_Divisio_zoom_2,ISO_CODE,0,6,zoom4\\World_Administrative_Divisio_zoom_1,ISO_CODE,0,6;ISO_CC \"ISO Country\" true true false 2 Text 0 0,First,#,zoom4\\World_Administrative_Divisio_zoom_4,ISO_CC,0,2,zoom4\\World_Administrative_Divisio_zoom_3,ISO_CC,0,2,zoom4\\World_Administrative_Divisio_zoom_2,ISO_CC,0,2,zoom4\\World_Administrative_Divisio_zoom_1,ISO_CC,0,2;ISO_SUB \"ISO Admin\" true true false 5 Text 0 0,First,#,zoom4\\World_Administrative_Divisio_zoom_4,ISO_SUB,0,5,zoom4\\World_Administrative_Divisio_zoom_3,ISO_SUB,0,5,zoom4\\World_Administrative_Divisio_zoom_2,ISO_SUB,0,5,zoom4\\World_Administrative_Divisio_zoom_1,ISO_SUB,0,5;ADMINTYPE \"Admin Type\" true true false 50 Text 0 0,First,#,zoom4\\World_Administrative_Divisio_zoom_4,ADMINTYPE,0,50,zoom4\\World_Administrative_Divisio_zoom_3,ADMINTYPE,0,50,zoom4\\World_Administrative_Divisio_zoom_2,ADMINTYPE,0,50,zoom4\\World_Administrative_Divisio_zoom_1,ADMINTYPE,0,50;DISPUTED \"Disputed\" true true false 4 Long 0 0,First,#,zoom4\\World_Administrative_Divisio_zoom_4,DISPUTED,-1,-1,zoom4\\World_Administrative_Divisio_zoom_3,DISPUTED,-1,-1,zoom4\\World_Administrative_Divisio_zoom_2,DISPUTED,-1,-1,zoom4\\World_Administrative_Divisio_zoom_1,DISPUTED,-1,-1;NOTES \"Notes\" true true false 254 Text 0 0,First,#,zoom4\\World_Administrative_Divisio_zoom_4,NOTES,0,254,zoom4\\World_Administrative_Divisio_zoom_3,NOTES,0,254,zoom4\\World_Administrative_Divisio_zoom_2,NOTES,0,254,zoom4\\World_Administrative_Divisio_zoom_1,NOTES,0,254;AUTONOMOUS \"Autonomous\" true true false 4 Long 0 0,First,#,zoom4\\World_Administrative_Divisio_zoom_4,AUTONOMOUS,-1,-1,zoom4\\World_Administrative_Divisio_zoom_3,AUTONOMOUS,-1,-1,zoom4\\World_Administrative_Divisio_zoom_2,AUTONOMOUS,-1,-1,zoom4\\World_Administrative_Divisio_zoom_1,AUTONOMOUS,-1,-1;COUNTRYAFF \"Affiliation\" true true false 100 Text 0 0,First,#,zoom4\\World_Administrative_Divisio_zoom_4,COUNTRYAFF,0,100,zoom4\\World_Administrative_Divisio_zoom_3,COUNTRYAFF,0,100,zoom4\\World_Administrative_Divisio_zoom_2,COUNTRYAFF,0,100,zoom4\\World_Administrative_Divisio_zoom_1,COUNTRYAFF,0,100;CONTINENT \"Continent\" true true false 13 Text 0 0,First,#,zoom4\\World_Administrative_Divisio_zoom_4,CONTINENT,0,13,zoom4\\World_Administrative_Divisio_zoom_3,CONTINENT,0,13,zoom4\\World_Administrative_Divisio_zoom_2,CONTINENT,0,13,zoom4\\World_Administrative_Divisio_zoom_1,CONTINENT,0,13;LAND_TYPE \"Land_Type\" true true false 20 Text 0 0,First,#,zoom4\\World_Administrative_Divisio_zoom_4,LAND_TYPE,0,20,zoom4\\World_Administrative_Divisio_zoom_3,LAND_TYPE,0,20,zoom4\\World_Administrative_Divisio_zoom_2,LAND_TYPE,0,20,zoom4\\World_Administrative_Divisio_zoom_1,LAND_TYPE,0,20;LAND_RANK \"Land_Rank\" true true false 4 Long 0 0,First,#,zoom4\\World_Administrative_Divisio_zoom_4,LAND_RANK,-1,-1,zoom4\\World_Administrative_Divisio_zoom_3,LAND_RANK,-1,-1,zoom4\\World_Administrative_Divisio_zoom_2,LAND_RANK,-1,-1,zoom4\\World_Administrative_Divisio_zoom_1,LAND_RANK,-1,-1;GID_0 \"GID_0\" true true false 8000 Text 0 0,First,#,zoom4\\World_Administrative_Divisio_zoom_4,GID_0,0,8000,zoom4\\generalised_nrc_zoom4,GID_0,0,8000,zoom4\\World_Administrative_Divisio_zoom_3,GID_0,0,8000,zoom4\\World_Administrative_Divisio_zoom_2,GID_0,0,8000,zoom4\\World_Administrative_Divisio_zoom_1,GID_0,0,8000;country_size \"country_size\" true true false 4 Long 0 0,First,#,zoom4\\World_Administrative_Divisio_zoom_4,country_size,-1,-1,zoom4\\generalised_nrc_zoom4,country_size,-1,-1,zoom4\\World_Administrative_Divisio_zoom_3,country_size,-1,-1,zoom4\\World_Administrative_Divisio_zoom_2,country_size,-1,-1,zoom4\\World_Administrative_Divisio_zoom_1,country_size,-1,-1;Shape_Length \"Shape_Length\" false true true 8 Double 0 0,First,#,zoom4\\World_Administrative_Divisio_zoom_4,Shape_Length,-1,-1,zoom4\\generalised_nrc_zoom4,Shape_Length,-1,-1,zoom4\\World_Administrative_Divisio_zoom_3,Shape_Length,-1,-1,zoom4\\World_Administrative_Divisio_zoom_2,Shape_Length,-1,-1,zoom4\\World_Administrative_Divisio_zoom_1,Shape_Length,-1,-1;Shape_Area \"Shape_Area\" false true true 8 Double 0 0,First,#,zoom4\\World_Administrative_Divisio_zoom_4,Shape_Area,-1,-1,zoom4\\generalised_nrc_zoom4,Shape_Area,-1,-1,zoom4\\World_Administrative_Divisio_zoom_3,Shape_Area,-1,-1,zoom4\\World_Administrative_Divisio_zoom_2,Shape_Area,-1,-1,zoom4\\World_Administrative_Divisio_zoom_1,Shape_Area,-1,-1;NAME_0 \"NAME_0\" true true false 8000 Text 0 0,First,#,zoom4\\generalised_nrc_zoom4,NAME_0,0,8000;country_zoom \"country_zoom\" true true false 4 Long 0 0,First,#,zoom4\\generalised_nrc_zoom4,country_zoom,-1,-1;iso2 \"iso2\" true true false 8000 Text 0 0,First,#,zoom4\\generalised_nrc_zoom4,iso2,0,8000', \"NO_SOURCE_INFO\")\n",
    "arcpy.management.Merge(r\"zoom3\\World_Administrative_Divisio_zoom_1;zoom3\\World_Administrative_Divisio_zoom_2;zoom3\\generalised_nrc_zoom3;zoom3\\World_Administrative_Divisio_zoom_3;zoom3\\generalised_nrc_zoom4\", r\"C:\\Users\\Viz1\\Documents\\ArcGIS\\Projects\\SuperSample\\SuperSample.gdb\\zoom3_Merge\", r'NAME \"Name\" true true false 44 Text 0 0,First,#,zoom3\\World_Administrative_Divisio_zoom_1,NAME,0,44,zoom3\\World_Administrative_Divisio_zoom_2,NAME,0,44,zoom3\\World_Administrative_Divisio_zoom_3,NAME,0,44;COUNTRY \"Country\" true true false 50 Text 0 0,First,#,zoom3\\World_Administrative_Divisio_zoom_1,COUNTRY,0,50,zoom3\\World_Administrative_Divisio_zoom_2,COUNTRY,0,50,zoom3\\World_Administrative_Divisio_zoom_3,COUNTRY,0,50;ISO_CODE \"ISO Code\" true true false 6 Text 0 0,First,#,zoom3\\World_Administrative_Divisio_zoom_1,ISO_CODE,0,6,zoom3\\World_Administrative_Divisio_zoom_2,ISO_CODE,0,6,zoom3\\World_Administrative_Divisio_zoom_3,ISO_CODE,0,6;ISO_CC \"ISO Country\" true true false 2 Text 0 0,First,#,zoom3\\World_Administrative_Divisio_zoom_1,ISO_CC,0,2,zoom3\\World_Administrative_Divisio_zoom_2,ISO_CC,0,2,zoom3\\World_Administrative_Divisio_zoom_3,ISO_CC,0,2;ISO_SUB \"ISO Admin\" true true false 5 Text 0 0,First,#,zoom3\\World_Administrative_Divisio_zoom_1,ISO_SUB,0,5,zoom3\\World_Administrative_Divisio_zoom_2,ISO_SUB,0,5,zoom3\\World_Administrative_Divisio_zoom_3,ISO_SUB,0,5;ADMINTYPE \"Admin Type\" true true false 50 Text 0 0,First,#,zoom3\\World_Administrative_Divisio_zoom_1,ADMINTYPE,0,50,zoom3\\World_Administrative_Divisio_zoom_2,ADMINTYPE,0,50,zoom3\\World_Administrative_Divisio_zoom_3,ADMINTYPE,0,50;DISPUTED \"Disputed\" true true false 4 Long 0 0,First,#,zoom3\\World_Administrative_Divisio_zoom_1,DISPUTED,-1,-1,zoom3\\World_Administrative_Divisio_zoom_2,DISPUTED,-1,-1,zoom3\\World_Administrative_Divisio_zoom_3,DISPUTED,-1,-1;NOTES \"Notes\" true true false 254 Text 0 0,First,#,zoom3\\World_Administrative_Divisio_zoom_1,NOTES,0,254,zoom3\\World_Administrative_Divisio_zoom_2,NOTES,0,254,zoom3\\World_Administrative_Divisio_zoom_3,NOTES,0,254;AUTONOMOUS \"Autonomous\" true true false 4 Long 0 0,First,#,zoom3\\World_Administrative_Divisio_zoom_1,AUTONOMOUS,-1,-1,zoom3\\World_Administrative_Divisio_zoom_2,AUTONOMOUS,-1,-1,zoom3\\World_Administrative_Divisio_zoom_3,AUTONOMOUS,-1,-1;COUNTRYAFF \"Affiliation\" true true false 100 Text 0 0,First,#,zoom3\\World_Administrative_Divisio_zoom_1,COUNTRYAFF,0,100,zoom3\\World_Administrative_Divisio_zoom_2,COUNTRYAFF,0,100,zoom3\\World_Administrative_Divisio_zoom_3,COUNTRYAFF,0,100;CONTINENT \"Continent\" true true false 13 Text 0 0,First,#,zoom3\\World_Administrative_Divisio_zoom_1,CONTINENT,0,13,zoom3\\World_Administrative_Divisio_zoom_2,CONTINENT,0,13,zoom3\\World_Administrative_Divisio_zoom_3,CONTINENT,0,13;LAND_TYPE \"Land_Type\" true true false 20 Text 0 0,First,#,zoom3\\World_Administrative_Divisio_zoom_1,LAND_TYPE,0,20,zoom3\\World_Administrative_Divisio_zoom_2,LAND_TYPE,0,20,zoom3\\World_Administrative_Divisio_zoom_3,LAND_TYPE,0,20;LAND_RANK \"Land_Rank\" true true false 4 Long 0 0,First,#,zoom3\\World_Administrative_Divisio_zoom_1,LAND_RANK,-1,-1,zoom3\\World_Administrative_Divisio_zoom_2,LAND_RANK,-1,-1,zoom3\\World_Administrative_Divisio_zoom_3,LAND_RANK,-1,-1;GID_0 \"GID_0\" true true false 8000 Text 0 0,First,#,zoom3\\World_Administrative_Divisio_zoom_1,GID_0,0,8000,zoom3\\World_Administrative_Divisio_zoom_2,GID_0,0,8000,zoom3\\generalised_nrc_zoom3,GID_0,0,8000,zoom3\\World_Administrative_Divisio_zoom_3,GID_0,0,8000,zoom3\\generalised_nrc_zoom4,GID_0,0,8000;country_size \"country_size\" true true false 4 Long 0 0,First,#,zoom3\\World_Administrative_Divisio_zoom_1,country_size,-1,-1,zoom3\\World_Administrative_Divisio_zoom_2,country_size,-1,-1,zoom3\\generalised_nrc_zoom3,country_size,-1,-1,zoom3\\World_Administrative_Divisio_zoom_3,country_size,-1,-1,zoom3\\generalised_nrc_zoom4,country_size,-1,-1;Shape_Length \"Shape_Length\" false true true 8 Double 0 0,First,#,zoom3\\World_Administrative_Divisio_zoom_1,Shape_Length,-1,-1,zoom3\\World_Administrative_Divisio_zoom_2,Shape_Length,-1,-1,zoom3\\generalised_nrc_zoom3,Shape_Length,-1,-1,zoom3\\World_Administrative_Divisio_zoom_3,Shape_Length,-1,-1,zoom3\\generalised_nrc_zoom4,Shape_Length,-1,-1;Shape_Area \"Shape_Area\" false true true 8 Double 0 0,First,#,zoom3\\World_Administrative_Divisio_zoom_1,Shape_Area,-1,-1,zoom3\\World_Administrative_Divisio_zoom_2,Shape_Area,-1,-1,zoom3\\generalised_nrc_zoom3,Shape_Area,-1,-1,zoom3\\World_Administrative_Divisio_zoom_3,Shape_Area,-1,-1,zoom3\\generalised_nrc_zoom4,Shape_Area,-1,-1;NAME_0 \"NAME_0\" true true false 8000 Text 0 0,First,#,zoom3\\generalised_nrc_zoom3,NAME_0,0,8000,zoom3\\generalised_nrc_zoom4,NAME_0,0,8000;country_zoom \"country_zoom\" true true false 4 Long 0 0,First,#,zoom3\\generalised_nrc_zoom3,country_zoom,-1,-1,zoom3\\generalised_nrc_zoom4,country_zoom,-1,-1;iso2 \"iso2\" true true false 8000 Text 0 0,First,#,zoom3\\generalised_nrc_zoom3,iso2,0,8000,zoom3\\generalised_nrc_zoom4,iso2,0,8000', \"NO_SOURCE_INFO\")\n",
    "arcpy.management.Merge(r\"zoom2\\World_Administrative_Divisio_zoom_1;zoom2\\generalised_nrc_zoom2;zoom2\\World_Administrative_Divisio_zoom_2;zoom2\\generalised_nrc_zoom3;zoom2\\generalised_nrc_zoom4\", r\"C:\\Users\\Viz1\\Documents\\ArcGIS\\Projects\\SuperSample\\SuperSample.gdb\\zoom2_Merge\", r'NAME \"Name\" true true false 44 Text 0 0,First,#,zoom2\\World_Administrative_Divisio_zoom_1,NAME,0,44,zoom2\\World_Administrative_Divisio_zoom_2,NAME,0,44;COUNTRY \"Country\" true true false 50 Text 0 0,First,#,zoom2\\World_Administrative_Divisio_zoom_1,COUNTRY,0,50,zoom2\\World_Administrative_Divisio_zoom_2,COUNTRY,0,50;ISO_CODE \"ISO Code\" true true false 6 Text 0 0,First,#,zoom2\\World_Administrative_Divisio_zoom_1,ISO_CODE,0,6,zoom2\\World_Administrative_Divisio_zoom_2,ISO_CODE,0,6;ISO_CC \"ISO Country\" true true false 2 Text 0 0,First,#,zoom2\\World_Administrative_Divisio_zoom_1,ISO_CC,0,2,zoom2\\World_Administrative_Divisio_zoom_2,ISO_CC,0,2;ISO_SUB \"ISO Admin\" true true false 5 Text 0 0,First,#,zoom2\\World_Administrative_Divisio_zoom_1,ISO_SUB,0,5,zoom2\\World_Administrative_Divisio_zoom_2,ISO_SUB,0,5;ADMINTYPE \"Admin Type\" true true false 50 Text 0 0,First,#,zoom2\\World_Administrative_Divisio_zoom_1,ADMINTYPE,0,50,zoom2\\World_Administrative_Divisio_zoom_2,ADMINTYPE,0,50;DISPUTED \"Disputed\" true true false 4 Long 0 0,First,#,zoom2\\World_Administrative_Divisio_zoom_1,DISPUTED,-1,-1,zoom2\\World_Administrative_Divisio_zoom_2,DISPUTED,-1,-1;NOTES \"Notes\" true true false 254 Text 0 0,First,#,zoom2\\World_Administrative_Divisio_zoom_1,NOTES,0,254,zoom2\\World_Administrative_Divisio_zoom_2,NOTES,0,254;AUTONOMOUS \"Autonomous\" true true false 4 Long 0 0,First,#,zoom2\\World_Administrative_Divisio_zoom_1,AUTONOMOUS,-1,-1,zoom2\\World_Administrative_Divisio_zoom_2,AUTONOMOUS,-1,-1;COUNTRYAFF \"Affiliation\" true true false 100 Text 0 0,First,#,zoom2\\World_Administrative_Divisio_zoom_1,COUNTRYAFF,0,100,zoom2\\World_Administrative_Divisio_zoom_2,COUNTRYAFF,0,100;CONTINENT \"Continent\" true true false 13 Text 0 0,First,#,zoom2\\World_Administrative_Divisio_zoom_1,CONTINENT,0,13,zoom2\\World_Administrative_Divisio_zoom_2,CONTINENT,0,13;LAND_TYPE \"Land_Type\" true true false 20 Text 0 0,First,#,zoom2\\World_Administrative_Divisio_zoom_1,LAND_TYPE,0,20,zoom2\\World_Administrative_Divisio_zoom_2,LAND_TYPE,0,20;LAND_RANK \"Land_Rank\" true true false 4 Long 0 0,First,#,zoom2\\World_Administrative_Divisio_zoom_1,LAND_RANK,-1,-1,zoom2\\World_Administrative_Divisio_zoom_2,LAND_RANK,-1,-1;GID_0 \"GID_0\" true true false 8000 Text 0 0,First,#,zoom2\\World_Administrative_Divisio_zoom_1,GID_0,0,8000,zoom2\\generalised_nrc_zoom2,GID_0,0,8000,zoom2\\World_Administrative_Divisio_zoom_2,GID_0,0,8000,zoom2\\generalised_nrc_zoom3,GID_0,0,8000,zoom2\\generalised_nrc_zoom4,GID_0,0,8000;country_size \"country_size\" true true false 4 Long 0 0,First,#,zoom2\\World_Administrative_Divisio_zoom_1,country_size,-1,-1,zoom2\\generalised_nrc_zoom2,country_size,-1,-1,zoom2\\World_Administrative_Divisio_zoom_2,country_size,-1,-1,zoom2\\generalised_nrc_zoom3,country_size,-1,-1,zoom2\\generalised_nrc_zoom4,country_size,-1,-1;Shape_Length \"Shape_Length\" false true true 8 Double 0 0,First,#,zoom2\\World_Administrative_Divisio_zoom_1,Shape_Length,-1,-1,zoom2\\generalised_nrc_zoom2,Shape_Length,-1,-1,zoom2\\World_Administrative_Divisio_zoom_2,Shape_Length,-1,-1,zoom2\\generalised_nrc_zoom3,Shape_Length,-1,-1,zoom2\\generalised_nrc_zoom4,Shape_Length,-1,-1;Shape_Area \"Shape_Area\" false true true 8 Double 0 0,First,#,zoom2\\World_Administrative_Divisio_zoom_1,Shape_Area,-1,-1,zoom2\\generalised_nrc_zoom2,Shape_Area,-1,-1,zoom2\\World_Administrative_Divisio_zoom_2,Shape_Area,-1,-1,zoom2\\generalised_nrc_zoom3,Shape_Area,-1,-1,zoom2\\generalised_nrc_zoom4,Shape_Area,-1,-1;NAME_0 \"NAME_0\" true true false 8000 Text 0 0,First,#,zoom2\\generalised_nrc_zoom2,NAME_0,0,8000,zoom2\\generalised_nrc_zoom3,NAME_0,0,8000,zoom2\\generalised_nrc_zoom4,NAME_0,0,8000;country_zoom \"country_zoom\" true true false 4 Long 0 0,First,#,zoom2\\generalised_nrc_zoom2,country_zoom,-1,-1,zoom2\\generalised_nrc_zoom3,country_zoom,-1,-1,zoom2\\generalised_nrc_zoom4,country_zoom,-1,-1;iso2 \"iso2\" true true false 8000 Text 0 0,First,#,zoom2\\generalised_nrc_zoom2,iso2,0,8000,zoom2\\generalised_nrc_zoom3,iso2,0,8000,zoom2\\generalised_nrc_zoom4,iso2,0,8000', \"NO_SOURCE_INFO\")\n",
    "arcpy.management.Merge(r\"zoom1\\generalised_nrc_zoom1;zoom1\\World_Administrative_Divisio_zoom_1;zoom1\\generalised_nrc_zoom2;zoom1\\generalised_nrc_zoom3;zoom1\\generalised_nrc_zoom4\", r\"C:\\Users\\Viz1\\Documents\\ArcGIS\\Projects\\SuperSample\\SuperSample.gdb\\zoom1_Merge\", r'GID_0 \"GID_0\" true true false 8000 Text 0 0,First,#,zoom1\\generalised_nrc_zoom1,GID_0,0,8000,zoom1\\World_Administrative_Divisio_zoom_1,GID_0,0,8000,zoom1\\generalised_nrc_zoom2,GID_0,0,8000,zoom1\\generalised_nrc_zoom3,GID_0,0,8000,zoom1\\generalised_nrc_zoom4,GID_0,0,8000;NAME_0 \"NAME_0\" true true false 8000 Text 0 0,First,#,zoom1\\generalised_nrc_zoom1,NAME_0,0,8000,zoom1\\generalised_nrc_zoom2,NAME_0,0,8000,zoom1\\generalised_nrc_zoom3,NAME_0,0,8000,zoom1\\generalised_nrc_zoom4,NAME_0,0,8000;country_size \"country_size\" true true false 4 Long 0 0,First,#,zoom1\\generalised_nrc_zoom1,country_size,-1,-1,zoom1\\World_Administrative_Divisio_zoom_1,country_size,-1,-1,zoom1\\generalised_nrc_zoom2,country_size,-1,-1,zoom1\\generalised_nrc_zoom3,country_size,-1,-1,zoom1\\generalised_nrc_zoom4,country_size,-1,-1;country_zoom \"country_zoom\" true true false 4 Long 0 0,First,#,zoom1\\generalised_nrc_zoom1,country_zoom,-1,-1,zoom1\\generalised_nrc_zoom2,country_zoom,-1,-1,zoom1\\generalised_nrc_zoom3,country_zoom,-1,-1,zoom1\\generalised_nrc_zoom4,country_zoom,-1,-1;iso2 \"iso2\" true true false 8000 Text 0 0,First,#,zoom1\\generalised_nrc_zoom1,iso2,0,8000,zoom1\\generalised_nrc_zoom2,iso2,0,8000,zoom1\\generalised_nrc_zoom3,iso2,0,8000,zoom1\\generalised_nrc_zoom4,iso2,0,8000;Shape_Length \"Shape_Length\" false true true 8 Double 0 0,First,#,zoom1\\generalised_nrc_zoom1,Shape_Length,-1,-1,zoom1\\World_Administrative_Divisio_zoom_1,Shape_Length,-1,-1,zoom1\\generalised_nrc_zoom2,Shape_Length,-1,-1,zoom1\\generalised_nrc_zoom3,Shape_Length,-1,-1,zoom1\\generalised_nrc_zoom4,Shape_Length,-1,-1;Shape_Area \"Shape_Area\" false true true 8 Double 0 0,First,#,zoom1\\generalised_nrc_zoom1,Shape_Area,-1,-1,zoom1\\World_Administrative_Divisio_zoom_1,Shape_Area,-1,-1,zoom1\\generalised_nrc_zoom2,Shape_Area,-1,-1,zoom1\\generalised_nrc_zoom3,Shape_Area,-1,-1,zoom1\\generalised_nrc_zoom4,Shape_Area,-1,-1;NAME \"Name\" true true false 44 Text 0 0,First,#,zoom1\\World_Administrative_Divisio_zoom_1,NAME,0,44;COUNTRY \"Country\" true true false 50 Text 0 0,First,#,zoom1\\World_Administrative_Divisio_zoom_1,COUNTRY,0,50;ISO_CODE \"ISO Code\" true true false 6 Text 0 0,First,#,zoom1\\World_Administrative_Divisio_zoom_1,ISO_CODE,0,6;ISO_CC \"ISO Country\" true true false 2 Text 0 0,First,#,zoom1\\World_Administrative_Divisio_zoom_1,ISO_CC,0,2;ISO_SUB \"ISO Admin\" true true false 5 Text 0 0,First,#,zoom1\\World_Administrative_Divisio_zoom_1,ISO_SUB,0,5;ADMINTYPE \"Admin Type\" true true false 50 Text 0 0,First,#,zoom1\\World_Administrative_Divisio_zoom_1,ADMINTYPE,0,50;DISPUTED \"Disputed\" true true false 4 Long 0 0,First,#,zoom1\\World_Administrative_Divisio_zoom_1,DISPUTED,-1,-1;NOTES \"Notes\" true true false 254 Text 0 0,First,#,zoom1\\World_Administrative_Divisio_zoom_1,NOTES,0,254;AUTONOMOUS \"Autonomous\" true true false 4 Long 0 0,First,#,zoom1\\World_Administrative_Divisio_zoom_1,AUTONOMOUS,-1,-1;COUNTRYAFF \"Affiliation\" true true false 100 Text 0 0,First,#,zoom1\\World_Administrative_Divisio_zoom_1,COUNTRYAFF,0,100;CONTINENT \"Continent\" true true false 13 Text 0 0,First,#,zoom1\\World_Administrative_Divisio_zoom_1,CONTINENT,0,13;LAND_TYPE \"Land_Type\" true true false 20 Text 0 0,First,#,zoom1\\World_Administrative_Divisio_zoom_1,LAND_TYPE,0,20;LAND_RANK \"Land_Rank\" true true false 4 Long 0 0,First,#,zoom1\\World_Administrative_Divisio_zoom_1,LAND_RANK,-1,-1', \"NO_SOURCE_INFO\")"
   ]
  },
  {
   "cell_type": "markdown",
   "metadata": {},
   "source": [
    "## WDPA\n",
    "Using non generalised polygons to extract the information\n",
    "- population\n",
    "- percentage protected (June version, MOL data)\n",
    "- ecosystem majority"
   ]
  },
  {
   "cell_type": "code",
   "execution_count": null,
   "metadata": {},
   "outputs": [],
   "source": []
  }
 ],
 "metadata": {
  "kernelspec": {
   "display_name": "ArcGISPro",
   "language": "Python",
   "name": "python3"
  },
  "language_info": {
   "file_extension": ".py",
   "name": "python",
   "version": "3"
  }
 },
 "nbformat": 4,
 "nbformat_minor": 2
}
