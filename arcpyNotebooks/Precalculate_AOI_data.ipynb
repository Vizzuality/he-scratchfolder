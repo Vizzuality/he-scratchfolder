{
 "cells": [
  {
   "cell_type": "markdown",
   "metadata": {},
   "source": [
    "# Precalculating AOI information\n",
    "The site will show precalculated information for: WWF ecorregions, GADM admin 1 and 2 and WDPA. The minimum size of the features to be able to provide biodiversity data must be over 1000km^2. \n",
    "- Ecorregions polygon used ([arcgis online item](https://eowilson.maps.arcgis.com/home/item.html?id=be0308e81950409b919940bd03f2cae6))\n",
    "- GADM polygons, level 0 and 1 (downloaded from [here](https://gadm.org/download_world.html))\n",
    "- WDPA raster (june version, [provided by MOL](https://eowilson.maps.arcgis.com/home/content.html?user=MoL_HEdata&view=table&sortOrder=desc&sortField=modified&folder=1c7e82b763e54da29644eef4e048b2df#content))\n",
    "\n",
    "**NOTE**: the polygons used to extract the information are not the same geometries shown on the app. In the app the geometries have been generalised to increase performance.\n"
   ]
  },
  {
   "cell_type": "markdown",
   "metadata": {},
   "source": [
    "## Information to be gathered\n",
    "- `population_sum`\n",
    "- `land_cover_majority`\n",
    "- `climate_regime_majority`\n",
    "- `urban_percent`\n",
    "- `rainfed_percent`\n",
    "- `irrigated_percent`\n",
    "- `rangeland_percent`\n",
    "- `number_of_mammals`\n",
    "- `number_of_amphibians`\n",
    "- `number_of_birds`\n",
    "- `number_of_reptiles`\n",
    "- `percentage_protected`\n",
    "- `mammals_list`\n",
    "- `amphibians_list`\n",
    "- `birds_list`\n",
    "- `reptiles_list`"
   ]
  },
  {
   "cell_type": "markdown",
   "metadata": {},
   "source": [
    "### Ecoregions"
   ]
  },
  {
   "cell_type": "markdown",
   "metadata": {},
   "source": [
    "#### Population"
   ]
  },
  {
   "cell_type": "code",
   "execution_count": null,
   "metadata": {},
   "outputs": [],
   "source": [
    "arcpy.sa.ZonalStatisticsAsTable(\"Ecoregions2017_20210825\", \n",
    "                                \"eco_id_int\", \n",
    "                                \"population2020.crf\", \n",
    "                                r\"C:\\Users\\Viz1\\Documents\\ArcGIS\\Projects\\SuperSample\\SuperSample.gdb\\ecoregion_population_sum\", \n",
    "                                \"DATA\", \"SUM\", \"CURRENT_SLICE\", 90)"
   ]
  },
  {
   "cell_type": "code",
   "execution_count": null,
   "metadata": {},
   "outputs": [],
   "source": [
    "arcpy.management.JoinField(\"Ecoregions2017_20210825\", \"eco_id_int\", \"ecoregion_population_sum\", \"eco_id_int\", \"SUM\")"
   ]
  },
  {
   "cell_type": "code",
   "execution_count": null,
   "metadata": {},
   "outputs": [],
   "source": [
    "arcpy.management.AlterField(\"Ecoregions2017_20210825\", \"SUM\", \n",
    "                            \"population_sum\", \"population_sum\", \"DOUBLE\", 8, \"NULLABLE\", \"DO_NOT_CLEAR\")"
   ]
  },
  {
   "cell_type": "markdown",
   "metadata": {},
   "source": [
    "#### climate regime and land cover"
   ]
  },
  {
   "cell_type": "code",
   "execution_count": null,
   "metadata": {},
   "outputs": [],
   "source": [
    "arcpy.sa.ZonalStatisticsAsTable(\"Ecoregions2017_20210825\", \n",
    "                                \"eco_id_int\", \"ELU.crf\", \n",
    "                                r\"C:\\Users\\Viz1\\Documents\\ArcGIS\\Projects\\SuperSample\\SuperSample.gdb\\ecoregion_elu_majority\", \n",
    "                                \"DATA\", \"MAJORITY\", \"CURRENT_SLICE\", [90])"
   ]
  },
  {
   "cell_type": "code",
   "execution_count": null,
   "metadata": {},
   "outputs": [],
   "source": [
    "arcpy.management.JoinField(\"Ecoregions2017_20210825\", \"eco_id_int\", \"ecoregion_elu_majority\", \"eco_id_int\", \"MAJORITY\")"
   ]
  },
  {
   "cell_type": "code",
   "execution_count": null,
   "metadata": {},
   "outputs": [],
   "source": [
    "arcpy.management.AlterField(\"Ecoregions2017_20210825\", \"MAJORITY\", \"majority_lc_cr\", \"majority land cover climate regime\", \n",
    "                            \"LONG\", 4, \"NULLABLE\", \"DO_NOT_CLEAR\")"
   ]
  },
  {
   "cell_type": "code",
   "execution_count": null,
   "metadata": {},
   "outputs": [],
   "source": [
    "arcpy.management.JoinField(\"Ecoregions2017_20210825\", \n",
    "                           \"majority_lc_cr\", \n",
    "                           r\"C:\\Users\\Viz1\\Documents\\ArcGIS\\Projects\\mammal_data_cube\\elu_categories_lookup.csv\", \n",
    "                           \"elu_code\", \"lc_type;cr_type\")"
   ]
  },
  {
   "cell_type": "code",
   "execution_count": null,
   "metadata": {},
   "outputs": [],
   "source": [
    "arcpy.management.AlterField(\"Ecoregions2017_20210825\", \"lc_type\", \"land_cover_majority\", \"land_cover_majority\", \"TEXT\", 8000, \"NULLABLE\", \"DO_NOT_CLEAR\")"
   ]
  },
  {
   "cell_type": "code",
   "execution_count": null,
   "metadata": {},
   "outputs": [],
   "source": [
    "arcpy.management.AlterField(\"Ecoregions2017_20210825\", \"cr_type\", \"climate_regime_majority\", \"climate_regime_majority\", \"TEXT\", 8000, \"NULLABLE\", \"DO_NOT_CLEAR\")"
   ]
  },
  {
   "cell_type": "markdown",
   "metadata": {},
   "source": [
    "#### Protected percentage\n"
   ]
  },
  {
   "cell_type": "code",
   "execution_count": 4,
   "metadata": {},
   "outputs": [
    {
     "data": {
      "text/plain": [
       "<geoprocessing server result object object at 0x0000029825526E68>"
      ]
     },
     "execution_count": 4,
     "metadata": {},
     "output_type": "execute_result"
    }
   ],
   "source": [
    "arcpy.sa.ZonalStatisticsAsTable(\"Ecoregions2017_20210825_PolygonToRaster\", \"Value\", \"wdpa_oecm_zeros.crf\", \n",
    "                                r\"C:\\Users\\Viz1\\Documents\\ArcGIS\\Projects\\SuperSample\\SuperSample.gdb\\wdpa_ecoregions_mean\", \n",
    "                                \"DATA\", \"MEAN\", \"CURRENT_SLICE\", 90)"
   ]
  },
  {
   "cell_type": "code",
   "execution_count": 5,
   "metadata": {},
   "outputs": [
    {
     "data": {
      "text/html": [
       "<h2>Output</h2>a Layer object<h2>Messages</h2>Start Time: Thursday, September 16, 2021 1:48:22 PM<br/>Succeeded at Thursday, September 16, 2021 1:48:24 PM (Elapsed Time: 1.34 seconds)<br/><style>.rendered_html td, .rendered_html th {text-align: left;}.rendered_html tbody {border: 1px solid black;}</style>"
      ],
      "text/plain": [
       "<Result 'Ecoregions2017_20210825'>"
      ]
     },
     "execution_count": 5,
     "metadata": {},
     "output_type": "execute_result"
    }
   ],
   "source": [
    "arcpy.management.JoinField(\"Ecoregions2017_20210825\", \"eco_id_int\", \n",
    "                           \"wdpa_ecoregions_mean\", \"Value\", \"MEAN\")"
   ]
  },
  {
   "cell_type": "code",
   "execution_count": null,
   "metadata": {},
   "outputs": [],
   "source": [
    "arcpy.management.AlterField(\"Ecoregions2017_20210825\", \"MEAN\", \"percentage_protected\", \"percentage_protected\", \"DOUBLE\", 8, \"NULLABLE\", \"DO_NOT_CLEAR\")"
   ]
  },
  {
   "cell_type": "markdown",
   "metadata": {},
   "source": [
    "#### Land encroachment\n",
    "look up table:\n",
    "- 1: irrigated\n",
    "- 2: rainfed\n",
    "- 3: rangeland\n",
    "- 4: urban"
   ]
  },
  {
   "cell_type": "code",
   "execution_count": null,
   "metadata": {},
   "outputs": [],
   "source": [
    "\n",
    "arcpy.conversion.PolygonToRaster(\"Ecoregions2017_20210825\", \"eco_id_int\", r\"C:\\Users\\Viz1\\Documents\\ArcGIS\\Projects\\SuperSample\\SuperSample.gdb\\Ecoregions2017_20210825_PolygonToRaster\", \"CELL_CENTER\", \"NONE\", r\"C:\\Users\\Viz1\\Documents\\ArcGIS\\Projects\\SuperSample\\land_encroachment_Subset.crf\")"
   ]
  },
  {
   "cell_type": "code",
   "execution_count": null,
   "metadata": {},
   "outputs": [],
   "source": [
    "arcpy.sa.ZonalStatisticsAsTable(\"Ecoregions2017_20210825\", \"eco_id_int\", \"land_encroachment.crf\", \n",
    "                                r\"C:\\Users\\Viz1\\Documents\\ArcGIS\\Projects\\SuperSample\\SuperSample.gdb\\land_encroachment_ecoregions_all\", \n",
    "                                \"DATA\", \"ALL\", \"ALL_SLICES\", [90])"
   ]
  },
  {
   "cell_type": "code",
   "execution_count": null,
   "metadata": {},
   "outputs": [],
   "source": [
    "# join field from the raster\n",
    "arcpy.management.JoinField(\"land_encroachment_ecoregions_all\", \"eco_id_int\", \n",
    "                           \"Ecoregions2017_20210825_PolygonToRaster\", \"Value\", \"Count\")\n",
    "\n"
   ]
  },
  {
   "cell_type": "code",
   "execution_count": 21,
   "metadata": {},
   "outputs": [
    {
     "data": {
      "text/html": [
       "<h2>Output</h2>a Table object<h2>Messages</h2>Start Time: Thursday, September 16, 2021 5:07:35 PM<br/>Succeeded at Thursday, September 16, 2021 5:07:35 PM (Elapsed Time: 0.57 seconds)<br/><style>.rendered_html td, .rendered_html th {text-align: left;}.rendered_html tbody {border: 1px solid black;}</style>"
      ],
      "text/plain": [
       "<Result 'land_encroachment_ecoregions_all'>"
      ]
     },
     "execution_count": 21,
     "metadata": {},
     "output_type": "execute_result"
    }
   ],
   "source": [
    "# create new field and calculate the percent within land_encroachment_ecoregions_all,\n",
    "arcpy.management.CalculateField(\"land_encroachment_ecoregions_all\", \"percent_encroachment\", \n",
    "                                \"round((!COUNT! / !Count_1!)*100,2)\", \"PYTHON3\", '', \"TEXT\")"
   ]
  },
  {
   "cell_type": "code",
   "execution_count": 32,
   "metadata": {},
   "outputs": [
    {
     "data": {
      "text/html": [
       "<h2>Output</h2>a Layer object<h2>Messages</h2>Start Time: Thursday, September 16, 2021 5:59:39 PM<br/>Succeeded at Thursday, September 16, 2021 5:59:40 PM (Elapsed Time: 1.20 seconds)<br/><style>.rendered_html td, .rendered_html th {text-align: left;}.rendered_html tbody {border: 1px solid black;}</style>"
      ],
      "text/plain": [
       "<Result 'Ecoregions2017_20210825'>"
      ]
     },
     "execution_count": 32,
     "metadata": {},
     "output_type": "execute_result"
    }
   ],
   "source": [
    "# select the rows for each kind of encroachment. join the field and change the name\n",
    "# 1 irrigated\n",
    "val = 1\n",
    "slice_name = \"irrigated\"\n",
    "arcpy.analysis.TableSelect(\"land_encroachment_ecoregions_all\", f\"C:/Users/Viz1/Documents/ArcGIS/Projects/SuperSample/SuperSample.gdb/land_{slice_name}_ecoregions\", f\"SliceNumber = {val}\")\n",
    "arcpy.management.JoinField(f\"Ecoregions2017_20210825\", \"eco_id_int\", f\"land_{slice_name}_ecoregions\", \"eco_id_int\", \"percent_encroachment\")\n",
    "arcpy.management.AlterField(\"Ecoregions2017_20210825\", \"percent_encroachment\", f\"percent_{slice_name}\", f\"percent_{slice_name}\", \"DOUBLE\", 8, \"NULLABLE\", \"DO_NOT_CLEAR\")"
   ]
  },
  {
   "cell_type": "code",
   "execution_count": 33,
   "metadata": {},
   "outputs": [
    {
     "data": {
      "text/html": [
       "<h2>Output</h2>a Layer object<h2>Messages</h2>Start Time: Thursday, September 16, 2021 5:59:49 PM<br/>Succeeded at Thursday, September 16, 2021 5:59:50 PM (Elapsed Time: 1.08 seconds)<br/><style>.rendered_html td, .rendered_html th {text-align: left;}.rendered_html tbody {border: 1px solid black;}</style>"
      ],
      "text/plain": [
       "<Result 'Ecoregions2017_20210825'>"
      ]
     },
     "execution_count": 33,
     "metadata": {},
     "output_type": "execute_result"
    }
   ],
   "source": [
    "val = 2\n",
    "slice_name = \"rainfed\"\n",
    "arcpy.analysis.TableSelect(\"land_encroachment_ecoregions_all\", f\"C:/Users/Viz1/Documents/ArcGIS/Projects/SuperSample/SuperSample.gdb/land_{slice_name}_ecoregions\", f\"SliceNumber = {val}\")\n",
    "arcpy.management.JoinField(f\"Ecoregions2017_20210825\", \"eco_id_int\", f\"land_{slice_name}_ecoregions\", \"eco_id_int\", \"percent_encroachment\")\n",
    "arcpy.management.AlterField(\"Ecoregions2017_20210825\", \"percent_encroachment\", f\"percent_{slice_name}\", f\"percent_{slice_name}\", \"DOUBLE\", 8, \"NULLABLE\", \"DO_NOT_CLEAR\")"
   ]
  },
  {
   "cell_type": "code",
   "execution_count": 34,
   "metadata": {},
   "outputs": [
    {
     "data": {
      "text/html": [
       "<h2>Output</h2>a Layer object<h2>Messages</h2>Start Time: Thursday, September 16, 2021 6:00:02 PM<br/>Succeeded at Thursday, September 16, 2021 6:00:03 PM (Elapsed Time: 1.19 seconds)<br/><style>.rendered_html td, .rendered_html th {text-align: left;}.rendered_html tbody {border: 1px solid black;}</style>"
      ],
      "text/plain": [
       "<Result 'Ecoregions2017_20210825'>"
      ]
     },
     "execution_count": 34,
     "metadata": {},
     "output_type": "execute_result"
    }
   ],
   "source": [
    "# select the rows for each kind of encroachment. join the field and change the name\n",
    "\n",
    "val = 3\n",
    "slice_name = \"rangeland\"\n",
    "arcpy.analysis.TableSelect(\"land_encroachment_ecoregions_all\", f\"C:/Users/Viz1/Documents/ArcGIS/Projects/SuperSample/SuperSample.gdb/land_{slice_name}_ecoregions\", f\"SliceNumber = {val}\")\n",
    "arcpy.management.JoinField(f\"Ecoregions2017_20210825\", \"eco_id_int\", f\"land_{slice_name}_ecoregions\", \"eco_id_int\", \"percent_encroachment\")\n",
    "arcpy.management.AlterField(\"Ecoregions2017_20210825\", \"percent_encroachment\", f\"percent_{slice_name}\", f\"percent_{slice_name}\", \"DOUBLE\", 8, \"NULLABLE\", \"DO_NOT_CLEAR\")"
   ]
  },
  {
   "cell_type": "code",
   "execution_count": 35,
   "metadata": {},
   "outputs": [
    {
     "data": {
      "text/html": [
       "<h2>Output</h2>a Layer object<h2>Messages</h2>Start Time: Thursday, September 16, 2021 6:00:14 PM<br/>Succeeded at Thursday, September 16, 2021 6:00:15 PM (Elapsed Time: 1.12 seconds)<br/><style>.rendered_html td, .rendered_html th {text-align: left;}.rendered_html tbody {border: 1px solid black;}</style>"
      ],
      "text/plain": [
       "<Result 'Ecoregions2017_20210825'>"
      ]
     },
     "execution_count": 35,
     "metadata": {},
     "output_type": "execute_result"
    }
   ],
   "source": [
    "# select the rows for each kind of encroachment. join the field and change the name\n",
    "\n",
    "val = 4\n",
    "slice_name = \"urban\"\n",
    "arcpy.analysis.TableSelect(\"land_encroachment_ecoregions_all\", f\"C:/Users/Viz1/Documents/ArcGIS/Projects/SuperSample/SuperSample.gdb/land_{slice_name}_ecoregions\", f\"SliceNumber = {val}\")\n",
    "arcpy.management.JoinField(f\"Ecoregions2017_20210825\", \"eco_id_int\", f\"land_{slice_name}_ecoregions\", \"eco_id_int\", \"percent_encroachment\")\n",
    "arcpy.management.AlterField(\"Ecoregions2017_20210825\", \"percent_encroachment\", f\"percent_{slice_name}\", f\"percent_{slice_name}\", \"DOUBLE\", 8, \"NULLABLE\", \"DO_NOT_CLEAR\")"
   ]
  },
  {
   "cell_type": "markdown",
   "metadata": {},
   "source": [
    "## GADM\n",
    "Using non generalised polygons to extract the information\n",
    "- population\n",
    "- percentage protected (June version, MOL data)\n",
    "- ecosystem majority"
   ]
  },
  {
   "cell_type": "code",
   "execution_count": null,
   "metadata": {},
   "outputs": [],
   "source": [
    "arcpy.management.Merge(\"gadm_level1;gadm_level0\", \n",
    "                       r\"C:\\Users\\Viz1\\Documents\\ArcGIS\\Projects\\SuperSample\\SuperSample.gdb\\gadm_level0_and_1_Merge\", \n",
    "                       'GID_0 \"GID_0\" true true false 2147483647 Text 0 0,First,#,gadm_level1,GID_0,0,2147483647,gadm_level0,GID_0,0,2147483647;NAME_0 \"NAME_0\" true true false 2147483647 Text 0 0,First,#,gadm_level1,NAME_0,0,2147483647,gadm_level0,NAME_0,0,2147483647;GID_1 \"GID_1\" true true false 2147483647 Text 0 0,First,#,gadm_level1,GID_1,0,2147483647;NAME_1 \"NAME_1\" true true false 2147483647 Text 0 0,First,#,gadm_level1,NAME_1,0,2147483647;VARNAME_1 \"VARNAME_1\" true true false 2147483647 Text 0 0,First,#,gadm_level1,VARNAME_1,0,2147483647;NL_NAME_1 \"NL_NAME_1\" true true false 2147483647 Text 0 0,First,#,gadm_level1,NL_NAME_1,0,2147483647;TYPE_1 \"TYPE_1\" true true false 2147483647 Text 0 0,First,#,gadm_level1,TYPE_1,0,2147483647;ENGTYPE_1 \"ENGTYPE_1\" true true false 2147483647 Text 0 0,First,#,gadm_level1,ENGTYPE_1,0,2147483647;CC_1 \"CC_1\" true true false 2147483647 Text 0 0,First,#,gadm_level1,CC_1,0,2147483647;HASC_1 \"HASC_1\" true true false 2147483647 Text 0 0,First,#,gadm_level1,HASC_1,0,2147483647;geom_Length \"geom_Length\" false true true 8 Double 0 0,First,#,gadm_level1,geom_Length,-1,-1,gadm_level0,geom_Length,-1,-1;geom_Area \"geom_Area\" false true true 8 Double 0 0,First,#,gadm_level1,geom_Area,-1,-1,gadm_level0,geom_Area,-1,-1;country_size \"country_size\" true true false 4 Long 0 0,First,#,gadm_level1,country_size,-1,-1,gadm_level0,country_size,-1,-1;country_zoom \"country_zoom\" true true false 4 Long 0 0,First,#,gadm_level0,country_zoom,-1,-1', \"NO_SOURCE_INFO\")"
   ]
  },
  {
   "cell_type": "code",
   "execution_count": 7,
   "metadata": {},
   "outputs": [
    {
     "data": {
      "text/plain": [
       "<geoprocessing server result object object at 0x0000029C3CE3DB20>"
      ]
     },
     "execution_count": 7,
     "metadata": {},
     "output_type": "execute_result"
    }
   ],
   "source": [
    "arcpy.sa.ZonalStatisticsAsTable(\"gadm_level0_and_1_Merge\", \n",
    "                                \"GID_0_1\", \n",
    "                                \"population2020.crf\", \n",
    "                                r\"C:\\Users\\Viz1\\Documents\\ArcGIS\\Projects\\SuperSample\\SuperSample.gdb\\gadm_population_sum\", \n",
    "                                \"DATA\", \"SUM\", \"CURRENT_SLICE\", 90)"
   ]
  },
  {
   "cell_type": "code",
   "execution_count": 8,
   "metadata": {},
   "outputs": [
    {
     "data": {
      "text/html": [
       "<h2>Output</h2>a Layer object<h2>Messages</h2>Start Time: Friday, September 17, 2021 7:44:06 AM<br/>Succeeded at Friday, September 17, 2021 7:44:08 AM (Elapsed Time: 1.96 seconds)<br/><style>.rendered_html td, .rendered_html th {text-align: left;}.rendered_html tbody {border: 1px solid black;}</style>"
      ],
      "text/plain": [
       "<Result 'gadm_level0_and_1_Merge'>"
      ]
     },
     "execution_count": 8,
     "metadata": {},
     "output_type": "execute_result"
    }
   ],
   "source": [
    "arcpy.management.JoinField(\"gadm_level0_and_1_Merge\", \n",
    "                           \"GID_0_1\", \n",
    "                           \"gadm_population_sum\", \n",
    "                           \"GID_0_1\", \"SUM\")"
   ]
  },
  {
   "cell_type": "code",
   "execution_count": 9,
   "metadata": {},
   "outputs": [
    {
     "data": {
      "text/html": [
       "<h2>Output</h2>a Layer object<h2>Messages</h2>Start Time: Friday, September 17, 2021 7:44:08 AM<br/>Succeeded at Friday, September 17, 2021 7:44:09 AM (Elapsed Time: 0.75 seconds)<br/><style>.rendered_html td, .rendered_html th {text-align: left;}.rendered_html tbody {border: 1px solid black;}</style>"
      ],
      "text/plain": [
       "<Result 'gadm_level0_and_1_Merge'>"
      ]
     },
     "execution_count": 9,
     "metadata": {},
     "output_type": "execute_result"
    }
   ],
   "source": [
    "arcpy.management.AlterField(\"gadm_level0_and_1_Merge\", \"SUM\", \n",
    "                            \"population_sum\", \"population_sum\", \n",
    "                            \"DOUBLE\", 8, \"NULLABLE\", \"DO_NOT_CLEAR\")"
   ]
  },
  {
   "cell_type": "markdown",
   "metadata": {},
   "source": [
    "#### climate regime and land cover"
   ]
  },
  {
   "cell_type": "code",
   "execution_count": 10,
   "metadata": {},
   "outputs": [
    {
     "data": {
      "text/plain": [
       "<geoprocessing server result object object at 0x0000029C3CE3D620>"
      ]
     },
     "execution_count": 10,
     "metadata": {},
     "output_type": "execute_result"
    }
   ],
   "source": [
    "arcpy.sa.ZonalStatisticsAsTable(\"gadm_level0_and_1_Merge\", \n",
    "                                \"GID_0_1\", \"ELU.crf\", \n",
    "                                r\"C:\\Users\\Viz1\\Documents\\ArcGIS\\Projects\\SuperSample\\SuperSample.gdb\\gadm_elu_majority\", \n",
    "                                \"DATA\", \"MAJORITY\", \"CURRENT_SLICE\", [90])"
   ]
  },
  {
   "cell_type": "code",
   "execution_count": 11,
   "metadata": {},
   "outputs": [
    {
     "data": {
      "text/html": [
       "<h2>Output</h2>a Layer object<h2>Messages</h2>Start Time: Friday, September 17, 2021 8:12:32 AM<br/>Succeeded at Friday, September 17, 2021 8:12:35 AM (Elapsed Time: 2.81 seconds)<br/><style>.rendered_html td, .rendered_html th {text-align: left;}.rendered_html tbody {border: 1px solid black;}</style>"
      ],
      "text/plain": [
       "<Result 'gadm_level0_and_1_Merge'>"
      ]
     },
     "execution_count": 11,
     "metadata": {},
     "output_type": "execute_result"
    }
   ],
   "source": [
    "arcpy.management.JoinField(\"gadm_level0_and_1_Merge\", \n",
    "                           \"GID_0_1\", \"gadm_elu_majority\", \"GID_0_1\", \"MAJORITY\")"
   ]
  },
  {
   "cell_type": "code",
   "execution_count": 12,
   "metadata": {},
   "outputs": [
    {
     "data": {
      "text/html": [
       "<h2>Output</h2>a Layer object<h2>Messages</h2>Start Time: Friday, September 17, 2021 8:12:35 AM<br/>Succeeded at Friday, September 17, 2021 8:12:36 AM (Elapsed Time: 0.48 seconds)<br/><style>.rendered_html td, .rendered_html th {text-align: left;}.rendered_html tbody {border: 1px solid black;}</style>"
      ],
      "text/plain": [
       "<Result 'gadm_level0_and_1_Merge'>"
      ]
     },
     "execution_count": 12,
     "metadata": {},
     "output_type": "execute_result"
    }
   ],
   "source": [
    "arcpy.management.AlterField(\"gadm_level0_and_1_Merge\", \"MAJORITY\", \"majority_lc_cr\", \"majority land cover climate regime\", \n",
    "                            \"LONG\", 4, \"NULLABLE\", \"DO_NOT_CLEAR\")"
   ]
  },
  {
   "cell_type": "code",
   "execution_count": 13,
   "metadata": {},
   "outputs": [
    {
     "data": {
      "text/html": [
       "<h2>Output</h2>a Layer object<h2>Messages</h2>Start Time: Friday, September 17, 2021 8:12:37 AM<br/>Succeeded at Friday, September 17, 2021 8:12:50 AM (Elapsed Time: 13.36 seconds)<br/><style>.rendered_html td, .rendered_html th {text-align: left;}.rendered_html tbody {border: 1px solid black;}</style>"
      ],
      "text/plain": [
       "<Result 'gadm_level0_and_1_Merge'>"
      ]
     },
     "execution_count": 13,
     "metadata": {},
     "output_type": "execute_result"
    }
   ],
   "source": [
    "arcpy.management.JoinField(\"gadm_level0_and_1_Merge\", \n",
    "                           \"majority_lc_cr\", \n",
    "                           r\"C:\\Users\\Viz1\\Documents\\ArcGIS\\Projects\\mammal_data_cube\\elu_categories_lookup.csv\", \n",
    "                           \"elu_code\", \"lc_type;cr_type\")"
   ]
  },
  {
   "cell_type": "code",
   "execution_count": 14,
   "metadata": {},
   "outputs": [
    {
     "data": {
      "text/html": [
       "<h2>Output</h2>a Layer object<h2>Messages</h2>Start Time: Friday, September 17, 2021 8:12:50 AM<br/>Succeeded at Friday, September 17, 2021 8:12:51 AM (Elapsed Time: 0.63 seconds)<br/><style>.rendered_html td, .rendered_html th {text-align: left;}.rendered_html tbody {border: 1px solid black;}</style>"
      ],
      "text/plain": [
       "<Result 'gadm_level0_and_1_Merge'>"
      ]
     },
     "execution_count": 14,
     "metadata": {},
     "output_type": "execute_result"
    }
   ],
   "source": [
    "arcpy.management.AlterField(\"gadm_level0_and_1_Merge\", \"lc_type\", \"land_cover_majority\", \"land_cover_majority\", \"TEXT\", 8000, \"NULLABLE\", \"DO_NOT_CLEAR\")"
   ]
  },
  {
   "cell_type": "code",
   "execution_count": 15,
   "metadata": {},
   "outputs": [
    {
     "data": {
      "text/html": [
       "<h2>Output</h2>a Layer object<h2>Messages</h2>Start Time: Friday, September 17, 2021 8:12:51 AM<br/>Succeeded at Friday, September 17, 2021 8:12:52 AM (Elapsed Time: 0.54 seconds)<br/><style>.rendered_html td, .rendered_html th {text-align: left;}.rendered_html tbody {border: 1px solid black;}</style>"
      ],
      "text/plain": [
       "<Result 'gadm_level0_and_1_Merge'>"
      ]
     },
     "execution_count": 15,
     "metadata": {},
     "output_type": "execute_result"
    }
   ],
   "source": [
    "arcpy.management.AlterField(\"gadm_level0_and_1_Merge\", \"cr_type\", \"climate_regime_majority\", \"climate_regime_majority\", \"TEXT\", 8000, \"NULLABLE\", \"DO_NOT_CLEAR\")"
   ]
  },
  {
   "cell_type": "markdown",
   "metadata": {},
   "source": [
    "#### Protected percentage\n"
   ]
  },
  {
   "cell_type": "code",
   "execution_count": 18,
   "metadata": {},
   "outputs": [
    {
     "data": {
      "text/plain": [
       "<geoprocessing server result object object at 0x0000029802FCA530>"
      ]
     },
     "execution_count": 18,
     "metadata": {},
     "output_type": "execute_result"
    }
   ],
   "source": [
    "arcpy.sa.ZonalStatisticsAsTable(\"gadm_level0_and_1_Merge\", \"GID_0_1\", \"wdpa_oecm_zeros.crf\", \n",
    "                                r\"C:\\Users\\Viz1\\Documents\\ArcGIS\\Projects\\SuperSample\\SuperSample.gdb\\wdpa_gadm_mean\", \"DATA\", \"MEAN\", \"CURRENT_SLICE\", 90)"
   ]
  },
  {
   "cell_type": "code",
   "execution_count": 19,
   "metadata": {},
   "outputs": [
    {
     "data": {
      "text/html": [
       "<h2>Output</h2>a Layer object<h2>Messages</h2>Start Time: Thursday, September 16, 2021 3:21:01 PM<br/>Succeeded at Thursday, September 16, 2021 3:21:03 PM (Elapsed Time: 2.05 seconds)<br/><style>.rendered_html td, .rendered_html th {text-align: left;}.rendered_html tbody {border: 1px solid black;}</style>"
      ],
      "text/plain": [
       "<Result 'gadm_level0_and_1_Merge'>"
      ]
     },
     "execution_count": 19,
     "metadata": {},
     "output_type": "execute_result"
    }
   ],
   "source": [
    "arcpy.management.JoinField(\"gadm_level0_and_1_Merge\", \"GID_0_1\", \n",
    "                           \"wdpa_gadm_mean\", \"GID_0_1\", \"MEAN\")"
   ]
  },
  {
   "cell_type": "code",
   "execution_count": 20,
   "metadata": {},
   "outputs": [
    {
     "data": {
      "text/html": [
       "<h2>Output</h2>a Layer object<h2>Messages</h2>Start Time: Thursday, September 16, 2021 3:21:55 PM<br/>Succeeded at Thursday, September 16, 2021 3:21:55 PM (Elapsed Time: 0.48 seconds)<br/><style>.rendered_html td, .rendered_html th {text-align: left;}.rendered_html tbody {border: 1px solid black;}</style>"
      ],
      "text/plain": [
       "<Result 'gadm_level0_and_1_Merge'>"
      ]
     },
     "execution_count": 20,
     "metadata": {},
     "output_type": "execute_result"
    }
   ],
   "source": [
    "arcpy.management.AlterField(\"gadm_level0_and_1_Merge\", \"MEAN\", \"percentage_protected\", \"percentage_protected\", \"DOUBLE\", 8, \"NULLABLE\", \"DO_NOT_CLEAR\")"
   ]
  },
  {
   "cell_type": "markdown",
   "metadata": {},
   "source": [
    "#### land encroachment"
   ]
  },
  {
   "cell_type": "code",
   "execution_count": null,
   "metadata": {},
   "outputs": [],
   "source": [
    "arcpy.sa.ZonalStatisticsAsTable(\"gadm_level0_and_1_Merge\", \"GID_0_1\", \"land_encroachment.crf\", \n",
    "                                r\"C:\\Users\\Viz1\\Documents\\ArcGIS\\Projects\\SuperSample\\SuperSample.gdb\\land_encroachment_gadm_all\", \n",
    "                                \"DATA\", \"ALL\", \"ALL_SLICES\", 90)"
   ]
  },
  {
   "cell_type": "code",
   "execution_count": 37,
   "metadata": {},
   "outputs": [
    {
     "data": {
      "text/html": [
       "<h2>Output</h2>C:\\Users\\Viz1\\Documents\\ArcGIS\\Projects\\SuperSample\\SuperSample.gdb\\gadm_level_0_and_1_PolygonToRaster<h2>Messages</h2>Start Time: Thursday, September 16, 2021 6:20:01 PM<br/>Succeeded at Thursday, September 16, 2021 6:30:10 PM (Elapsed Time: 10 minutes 8 seconds)<br/><style>.rendered_html td, .rendered_html th {text-align: left;}.rendered_html tbody {border: 1px solid black;}</style>"
      ],
      "text/plain": [
       "<Result 'C:\\\\Users\\\\Viz1\\\\Documents\\\\ArcGIS\\\\Projects\\\\SuperSample\\\\SuperSample.gdb\\\\gadm_level_0_and_1_PolygonToRaster'>"
      ]
     },
     "execution_count": 37,
     "metadata": {},
     "output_type": "execute_result"
    }
   ],
   "source": [
    "arcpy.conversion.PolygonToRaster(\"gadm_level0_and_1_Merge\", \"GID_0_1\", \n",
    "                                 r\"C:\\Users\\Viz1\\Documents\\ArcGIS\\Projects\\SuperSample\\SuperSample.gdb\\gadm_level_0_and_1_PolygonToRaster\", \"CELL_CENTER\", \"NONE\", \n",
    "                                 r\"C:\\Users\\Viz1\\Documents\\ArcGIS\\Projects\\SuperSample\\land_encroachment_Subset.crf\")"
   ]
  },
  {
   "cell_type": "code",
   "execution_count": 1,
   "metadata": {},
   "outputs": [
    {
     "data": {
      "text/html": [
       "<h2>Output</h2>a Table object<h2>Messages</h2>Start Time: Friday, September 17, 2021 7:27:13 AM<br/>Succeeded at Friday, September 17, 2021 7:27:13 AM (Elapsed Time: 0.40 seconds)<br/><style>.rendered_html td, .rendered_html th {text-align: left;}.rendered_html tbody {border: 1px solid black;}</style>"
      ],
      "text/plain": [
       "<Result 'land_encroachment_gadm_all'>"
      ]
     },
     "execution_count": 1,
     "metadata": {},
     "output_type": "execute_result"
    }
   ],
   "source": [
    "# join field from the raster\n",
    "arcpy.management.JoinField(\"land_encroachment_gadm_all\", \"GID_0_1\", \n",
    "                           \"gadm_level_0_and_1_PolygonToRaster\", \"GID_0_1\", \"Count\")\n",
    "\n"
   ]
  },
  {
   "cell_type": "code",
   "execution_count": 2,
   "metadata": {},
   "outputs": [
    {
     "data": {
      "text/html": [
       "<h2>Output</h2>a Table object<h2>Messages</h2>Start Time: Friday, September 17, 2021 7:28:41 AM<br/>Adding percent_encroachment to land_encroachment_gadm_all...<br/>WARNING 002858: Certain rows set to NULL due to error while evaluating python expression: TypeError: unsupported operand type(s) for /: 'float' and 'NoneType'<br/>Succeeded at Friday, September 17, 2021 7:28:43 AM (Elapsed Time: 1.44 seconds)<br/><style>.rendered_html td, .rendered_html th {text-align: left;}.rendered_html tbody {border: 1px solid black;}</style>"
      ],
      "text/plain": [
       "<Result 'land_encroachment_gadm_all'>"
      ]
     },
     "execution_count": 2,
     "metadata": {},
     "output_type": "execute_result"
    }
   ],
   "source": [
    "# create new field and calculate the percent within land_encroachment_ecoregions_all,\n",
    "arcpy.management.CalculateField(\"land_encroachment_gadm_all\", \"percent_encroachment\", \n",
    "                                \"round((!COUNT! / !Count_1!)*100,2)\", \"PYTHON3\", '', \"DOUBLE\")"
   ]
  },
  {
   "cell_type": "code",
   "execution_count": 3,
   "metadata": {},
   "outputs": [
    {
     "data": {
      "text/html": [
       "<h2>Output</h2>a Layer object<h2>Messages</h2>Start Time: Friday, September 17, 2021 7:29:21 AM<br/>Succeeded at Friday, September 17, 2021 7:29:22 AM (Elapsed Time: 0.50 seconds)<br/><style>.rendered_html td, .rendered_html th {text-align: left;}.rendered_html tbody {border: 1px solid black;}</style>"
      ],
      "text/plain": [
       "<Result 'gadm_level0_and_1_Merge'>"
      ]
     },
     "execution_count": 3,
     "metadata": {},
     "output_type": "execute_result"
    }
   ],
   "source": [
    "val = 1\n",
    "slice_name = \"irrigated\"\n",
    "arcpy.analysis.TableSelect(\"land_encroachment_gadm_all\", f\"C:/Users/Viz1/Documents/ArcGIS/Projects/SuperSample/SuperSample.gdb/land_{slice_name}_gadm01\", f\"SliceNumber = {val}\")\n",
    "arcpy.management.JoinField(f\"gadm_level0_and_1_Merge\", \"GID_0_1\", f\"land_{slice_name}_gadm01\", \"GID_0_1\", \"percent_encroachment\")\n",
    "arcpy.management.AlterField(\"gadm_level0_and_1_Merge\", \"percent_encroachment\", f\"percent_{slice_name}\", f\"percent_{slice_name}\", \"DOUBLE\", 8, \"NULLABLE\", \"DO_NOT_CLEAR\")"
   ]
  },
  {
   "cell_type": "code",
   "execution_count": 4,
   "metadata": {},
   "outputs": [
    {
     "data": {
      "text/html": [
       "<h2>Output</h2>a Layer object<h2>Messages</h2>Start Time: Friday, September 17, 2021 7:31:11 AM<br/>Succeeded at Friday, September 17, 2021 7:31:11 AM (Elapsed Time: 0.48 seconds)<br/><style>.rendered_html td, .rendered_html th {text-align: left;}.rendered_html tbody {border: 1px solid black;}</style>"
      ],
      "text/plain": [
       "<Result 'gadm_level0_and_1_Merge'>"
      ]
     },
     "execution_count": 4,
     "metadata": {},
     "output_type": "execute_result"
    }
   ],
   "source": [
    "val = 2\n",
    "slice_name = \"rainfed\"\n",
    "arcpy.analysis.TableSelect(\"land_encroachment_gadm_all\", f\"C:/Users/Viz1/Documents/ArcGIS/Projects/SuperSample/SuperSample.gdb/land_{slice_name}_gadm01\", f\"SliceNumber = {val}\")\n",
    "arcpy.management.JoinField(f\"gadm_level0_and_1_Merge\", \"GID_0_1\", f\"land_{slice_name}_gadm01\", \"GID_0_1\", \"percent_encroachment\")\n",
    "arcpy.management.AlterField(\"gadm_level0_and_1_Merge\", \"percent_encroachment\", f\"percent_{slice_name}\", f\"percent_{slice_name}\", \"DOUBLE\", 8, \"NULLABLE\", \"DO_NOT_CLEAR\")"
   ]
  },
  {
   "cell_type": "code",
   "execution_count": 5,
   "metadata": {},
   "outputs": [
    {
     "data": {
      "text/html": [
       "<h2>Output</h2>a Layer object<h2>Messages</h2>Start Time: Friday, September 17, 2021 7:31:22 AM<br/>Succeeded at Friday, September 17, 2021 7:31:22 AM (Elapsed Time: 0.48 seconds)<br/><style>.rendered_html td, .rendered_html th {text-align: left;}.rendered_html tbody {border: 1px solid black;}</style>"
      ],
      "text/plain": [
       "<Result 'gadm_level0_and_1_Merge'>"
      ]
     },
     "execution_count": 5,
     "metadata": {},
     "output_type": "execute_result"
    }
   ],
   "source": [
    "val = 3\n",
    "slice_name = \"rangeland\"\n",
    "arcpy.analysis.TableSelect(\"land_encroachment_gadm_all\", f\"C:/Users/Viz1/Documents/ArcGIS/Projects/SuperSample/SuperSample.gdb/land_{slice_name}_gadm01\", f\"SliceNumber = {val}\")\n",
    "arcpy.management.JoinField(f\"gadm_level0_and_1_Merge\", \"GID_0_1\", f\"land_{slice_name}_gadm01\", \"GID_0_1\", \"percent_encroachment\")\n",
    "arcpy.management.AlterField(\"gadm_level0_and_1_Merge\", \"percent_encroachment\", f\"percent_{slice_name}\", f\"percent_{slice_name}\", \"DOUBLE\", 8, \"NULLABLE\", \"DO_NOT_CLEAR\")"
   ]
  },
  {
   "cell_type": "code",
   "execution_count": 6,
   "metadata": {},
   "outputs": [
    {
     "data": {
      "text/html": [
       "<h2>Output</h2>a Layer object<h2>Messages</h2>Start Time: Friday, September 17, 2021 7:31:25 AM<br/>Succeeded at Friday, September 17, 2021 7:31:26 AM (Elapsed Time: 0.68 seconds)<br/><style>.rendered_html td, .rendered_html th {text-align: left;}.rendered_html tbody {border: 1px solid black;}</style>"
      ],
      "text/plain": [
       "<Result 'gadm_level0_and_1_Merge'>"
      ]
     },
     "execution_count": 6,
     "metadata": {},
     "output_type": "execute_result"
    }
   ],
   "source": [
    "val = 4\n",
    "slice_name = \"urban\"\n",
    "arcpy.analysis.TableSelect(\"land_encroachment_gadm_all\", f\"C:/Users/Viz1/Documents/ArcGIS/Projects/SuperSample/SuperSample.gdb/land_{slice_name}_gadm01\", f\"SliceNumber = {val}\")\n",
    "arcpy.management.JoinField(f\"gadm_level0_and_1_Merge\", \"GID_0_1\", f\"land_{slice_name}_gadm01\", \"GID_0_1\", \"percent_encroachment\")\n",
    "arcpy.management.AlterField(\"gadm_level0_and_1_Merge\", \"percent_encroachment\", f\"percent_{slice_name}\", f\"percent_{slice_name}\", \"DOUBLE\", 8, \"NULLABLE\", \"DO_NOT_CLEAR\")"
   ]
  },
  {
   "cell_type": "markdown",
   "metadata": {},
   "source": [
    "## WDPA\n",
    "Using non generalised polygons to extract the information\n",
    "- population\n",
    "- percentage protected (June version, MOL data)\n",
    "- ecosystem majority"
   ]
  },
  {
   "cell_type": "code",
   "execution_count": null,
   "metadata": {},
   "outputs": [],
   "source": []
  }
 ],
 "metadata": {
  "kernelspec": {
   "display_name": "ArcGISPro",
   "language": "Python",
   "name": "python3"
  },
  "language_info": {
   "file_extension": ".py",
   "name": "python",
   "version": "3"
  }
 },
 "nbformat": 4,
 "nbformat_minor": 2
}
