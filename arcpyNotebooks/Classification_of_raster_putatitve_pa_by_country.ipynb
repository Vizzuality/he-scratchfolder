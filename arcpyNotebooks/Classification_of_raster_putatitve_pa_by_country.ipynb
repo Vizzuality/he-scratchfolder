{
 "cells": [
  {
   "cell_type": "markdown",
   "metadata": {},
   "source": [
    "# Transfering priority values to the putative protected area network\n",
    "\n",
    "The original data is a shapefile with the priority of each cell and information of the country. The R script rescales the values within a country from 0 to 255. Then in arcgis pro the shapefile is converted to a raster using the rescaled value. The cell size and extent of the raster is determined by a raster that shows the global putative protected area. Finally, using a constant version of the global putative protected area the pixels that are not part of the global putative protected area are removed. \n",
    "#### Note\n",
    "The R bit can probably be done in arcgis pro using SQL. "
   ]
  },
  {
   "cell_type": "markdown",
   "metadata": {},
   "source": [
    "## Processing the data by country in R\n",
    "\n",
    "\n",
    "```R\n",
    "library(foreign)\n",
    "library(plyr)\n",
    "library(dplyr)\n",
    "d = read.dbf(\"Priority_ranks_by_country_20200723/Priority_ranks_by_country_20200723.dbf\")\n",
    "\n",
    "d_range = d %>% \n",
    "  group_by(GID_0) %>% \n",
    "  summarise(min_pr = min(GID_PR_all), max_pr = max(GID_PR_all), count = n()) %>% \n",
    "  right_join(d) %>% \n",
    "  mutate(plasma_val = ifelse(count>2,(((GID_PR_all - min_pr) / (max_pr - min_pr)) * 255), 255))   \n",
    "  write.csv(d_range, \"Priority_ranks_by_country_20200723_rescale.csv\")\n",
    " ```"
   ]
  },
  {
   "cell_type": "markdown",
   "metadata": {},
   "source": [
    "## From shapefile to raster in ArcGIS pro"
   ]
  },
  {
   "cell_type": "code",
   "execution_count": null,
   "metadata": {},
   "outputs": [],
   "source": [
    "sel = \"Priority_ranks_by_country_20200723.shp\"\n",
    "field = \"plasma_val\"\n",
    "outRaster = arcpy.FeatureToRaster_conversion(sel, field, outRaster, r\"C:\\Users\\Vizuser\\Documents\\ArcGIS\\Projects\\PrioritisationMOL\\LP_min_HM_720_WDPAJan2020_20200212.tif\")"
   ]
  },
  {
   "cell_type": "code",
   "execution_count": null,
   "metadata": {},
   "outputs": [],
   "source": [
    "raster_rescale = Raster(outRaster)"
   ]
  },
  {
   "cell_type": "code",
   "execution_count": null,
   "metadata": {},
   "outputs": [],
   "source": [
    "output_raster = outRaster * pa_constant_Raster"
   ]
  }
 ],
 "metadata": {
  "kernelspec": {
   "display_name": "Python 3",
   "language": "python",
   "name": "python3"
  },
  "language_info": {
   "codemirror_mode": {
    "name": "ipython",
    "version": 3
   },
   "file_extension": ".py",
   "mimetype": "text/x-python",
   "name": "python",
   "nbconvert_exporter": "python",
   "pygments_lexer": "ipython3",
   "version": "3.6.9"
  }
 },
 "nbformat": 4,
 "nbformat_minor": 2
}
