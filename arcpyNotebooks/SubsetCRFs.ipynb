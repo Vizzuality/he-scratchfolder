{
 "cells": [
  {
   "cell_type": "markdown",
   "metadata": {},
   "source": [
    "# subsetting crfs\n",
    "Creating Crfs from an original one. The aim is to have Crfs of maximum 300 slices. It is key that the transpose table is created for all the crfs"
   ]
  },
  {
   "cell_type": "code",
   "execution_count": 36,
   "metadata": {},
   "outputs": [],
   "source": [
    "import arcpy"
   ]
  },
  {
   "cell_type": "code",
   "execution_count": 2,
   "metadata": {},
   "outputs": [],
   "source": [
    "acs_path = \"C:\\\\Users\\\\Viz1\\\\Documents\\\\ArcGIS\\\\Projects\\\\yaleCube.acs\\\\\"\n",
    "original_crf = \"mammals_for_greta\"\n",
    "workspace = \"C:\\\\Users\\\\Viz1\\\\Documents\\\\ArcGIS\\\\Projects\\\\SuperSample\\\\\""
   ]
  },
  {
   "cell_type": "code",
   "execution_count": 3,
   "metadata": {},
   "outputs": [],
   "source": [
    "number_of_slices = 6163\n",
    "max_slices = 300\n",
    "dimension_name = \"SliceNumber\"\n",
    "variable_name = \"presence\""
   ]
  },
  {
   "cell_type": "code",
   "execution_count": 4,
   "metadata": {},
   "outputs": [],
   "source": [
    "list_of_ranges = []\n",
    "step_flag = 0\n",
    "for i in list(range(1,int(round(number_of_slices/max_slices,0)+1))):\n",
    "    min_range = 1 + step_flag\n",
    "    max_range = i * max_slices\n",
    "    if max_range == 0:\n",
    "        max_range = max_slices\n",
    "    if max_range > number_of_slices:\n",
    "        max_range = number_of_slices        \n",
    "    list_of_ranges.append(f\"{dimension_name} {min_range } {max_range}\") \n",
    "    step_flag+=300"
   ]
  },
  {
   "cell_type": "code",
   "execution_count": 5,
   "metadata": {},
   "outputs": [
    {
     "data": {
      "text/plain": [
       "['SliceNumber 1 300',\n",
       " 'SliceNumber 301 600',\n",
       " 'SliceNumber 601 900',\n",
       " 'SliceNumber 901 1200',\n",
       " 'SliceNumber 1201 1500',\n",
       " 'SliceNumber 1501 1800',\n",
       " 'SliceNumber 1801 2100',\n",
       " 'SliceNumber 2101 2400',\n",
       " 'SliceNumber 2401 2700',\n",
       " 'SliceNumber 2701 3000',\n",
       " 'SliceNumber 3001 3300',\n",
       " 'SliceNumber 3301 3600',\n",
       " 'SliceNumber 3601 3900',\n",
       " 'SliceNumber 3901 4200',\n",
       " 'SliceNumber 4201 4500',\n",
       " 'SliceNumber 4501 4800',\n",
       " 'SliceNumber 4801 5100',\n",
       " 'SliceNumber 5101 5400',\n",
       " 'SliceNumber 5401 5700',\n",
       " 'SliceNumber 5701 6000',\n",
       " 'SliceNumber 6001 6163']"
      ]
     },
     "execution_count": 5,
     "metadata": {},
     "output_type": "execute_result"
    }
   ],
   "source": [
    "list_of_ranges"
   ]
  },
  {
   "cell_type": "code",
   "execution_count": null,
   "metadata": {},
   "outputs": [
    {
     "name": "stdout",
     "output_type": "stream",
     "text": [
      "Starting to subsetSliceNumber_301_600\n"
     ]
    }
   ],
   "source": [
    "for r in list_of_ranges[1:]:\n",
    "    file_name = r.replace(\" \", \"_\")\n",
    "    crf_file = f\"{workspace}{original_crf}_{file_name}.crf\"\n",
    "    print(f\"Starting to subset{file_name}\")\n",
    "    arcpy.md.SubsetMultidimensionalRaster(f\"{acs_path}{original_crf}.crf\", \n",
    "                                          crf_file, \n",
    "                                          variable_name, \n",
    "                                          \"BY_RANGES\", \n",
    "                                          r, \n",
    "                                          None, '', '', '', None, '')\n",
    "    print(\"Starting to build multidimensional transpose...\")\n",
    "    arcpy.md.BuildMultidimensionalTranspose(crf_file)\n",
    "    print(f\"{crf_file} done\")"
   ]
  }
 ],
 "metadata": {
  "kernelspec": {
   "display_name": "Python 3",
   "language": "python",
   "name": "python3"
  },
  "language_info": {
   "codemirror_mode": {
    "name": "ipython",
    "version": 3
   },
   "file_extension": ".py",
   "mimetype": "text/x-python",
   "name": "python",
   "nbconvert_exporter": "python",
   "pygments_lexer": "ipython3",
   "version": "3.8.3"
  }
 },
 "nbformat": 4,
 "nbformat_minor": 4
}
