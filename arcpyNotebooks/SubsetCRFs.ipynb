{
 "cells": [
  {
   "cell_type": "markdown",
   "metadata": {},
   "source": [
    "# subsetting crfs\n",
    "Creating Crfs from an original one. The aim is to have Crfs of maximum 300 slices. It is key that the transpose table is created for all the crfs"
   ]
  },
  {
   "cell_type": "code",
   "execution_count": 36,
   "metadata": {},
   "outputs": [],
   "source": [
    "import arcpy"
   ]
  },
  {
   "cell_type": "code",
   "execution_count": 37,
   "metadata": {},
   "outputs": [],
   "source": [
    "acs_path = \"C:\\\\Users\\\\Viz1\\\\Documents\\\\ArcGIS\\\\Projects\\\\yaleCube.acs\\\\\"\n",
    "original_crf = \"mammals_for_greta\"\n",
    "workspace = \"C:\\\\Users\\\\Viz1\\\\Documents\\\\ArcGIS\\\\Projects\\\\SuperSample\\\\\""
   ]
  },
  {
   "cell_type": "code",
   "execution_count": 38,
   "metadata": {},
   "outputs": [],
   "source": [
    "number_of_slices = 6163\n",
    "max_slices = 300\n",
    "dimension_name = \"SliceNumber\"\n",
    "variable_name = \"presence\""
   ]
  },
  {
   "cell_type": "code",
   "execution_count": 53,
   "metadata": {},
   "outputs": [],
   "source": [
    "list_of_ranges = []\n",
    "step_flag = 0\n",
    "for i in list(range(1,int(round(number_of_slices/max_slices,0)+1))):\n",
    "    min_range = 1 + step_flag\n",
    "    max_range = i * max_slices\n",
    "    if max_range == 0:\n",
    "        max_range = max_slices\n",
    "    if max_range > number_of_slices:\n",
    "        max_range = number_of_slices        \n",
    "    list_of_ranges.append(f\"{dimension_name} {min_range } {max_range}\") \n",
    "    step_flag+=300"
   ]
  },
  {
   "cell_type": "code",
   "execution_count": 71,
   "metadata": {},
   "outputs": [
    {
     "data": {
      "text/plain": [
       "['SliceNumber 301 600', 'SliceNumber 601 900', 'SliceNumber 901 1200', 'SliceNumber 1201 1500', 'SliceNumber 1501 1800', 'SliceNumber 1801 2100', 'SliceNumber 2101 2400', 'SliceNumber 2401 2700', 'SliceNumber 2701 3000', 'SliceNumber 3001 3300', 'SliceNumber 3301 3600', 'SliceNumber 3601 3900', 'SliceNumber 3901 4200', 'SliceNumber 4201 4500', 'SliceNumber 4501 4800', 'SliceNumber 4801 5100', 'SliceNumber 5101 5400', 'SliceNumber 5401 5700', 'SliceNumber 5701 6000', 'SliceNumber 6001 6163']"
      ]
     },
     "execution_count": 71,
     "metadata": {},
     "output_type": "execute_result"
    }
   ],
   "source": [
    "list_of_ranges[1:]"
   ]
  },
  {
   "cell_type": "code",
   "execution_count": null,
   "metadata": {},
   "outputs": [
    {
     "name": "stdout",
     "output_type": "stream",
     "text": [
      "Starting to subsetSliceNumber_301_600\n"
     ]
    }
   ],
   "source": [
    "for r in list_of_ranges[1:]:\n",
    "    file_name = r.replace(\" \", \"_\")\n",
    "    crf_file = f\"{workspace}{original_crf}_{file_name}.crf\"\n",
    "    print(f\"Starting to subset{file_name}\")\n",
    "    arcpy.md.SubsetMultidimensionalRaster(f\"{acs_path}{original_crf}.crf\", \n",
    "                                          crf_file, \n",
    "                                          variable_name, \n",
    "                                          \"BY_RANGES\", \n",
    "                                          r, \n",
    "                                          None, '', '', '', None, '')\n",
    "    print(\"Starting to build multidimensional transpose...\")\n",
    "    arcpy.md.BuildMultidimensionalTranspose(crf_file)\n",
    "    print(f\"{crf_file} done\")"
   ]
  },
  {
   "cell_type": "code",
   "execution_count": 66,
   "metadata": {},
   "outputs": [
    {
     "name": "stdout",
     "output_type": "stream",
     "text": [
      "['mammals_for_greta_SliceNumber_1_300.crf']\n"
     ]
    }
   ],
   "source": [
    "# list crf rasters using wild card, use list to loop throug and build the transpose.\n",
    "arcpy.env.workspace = \"C:\\\\Users\\\\Viz1\\\\Documents\\\\ArcGIS\\\\Projects\\\\SuperSample\"\n",
    "crf_list =  arcpy.ListFiles(\"*.crf\")\n",
    "print(crf_list)"
   ]
  },
  {
   "cell_type": "code",
   "execution_count": 68,
   "metadata": {},
   "outputs": [
    {
     "ename": "TypeError",
     "evalue": "BuildMultidimensionalTranspose() takes from 0 to 1 positional arguments but 2 were given",
     "output_type": "error",
     "traceback": [
      "\u001b[0;31m---------------------------------------------------------------------------\u001b[0m\n\u001b[0;31mTypeError\u001b[0m                                 Traceback (most recent call last)",
      "In  \u001b[0;34m[68]\u001b[0m:\nLine \u001b[0;34m2\u001b[0m:     arcpy.md.BuildMultidimensionalTranspose(crf_file, \u001b[33m\"\u001b[39;49;00m\u001b[33mNO_DELETE_TRANSPOSE\u001b[39;49;00m\u001b[33m\"\u001b[39;49;00m)\n",
      "\u001b[0;31mTypeError\u001b[0m: BuildMultidimensionalTranspose() takes from 0 to 1 positional arguments but 2 were given\n\u001b[0;31m---------------------------------------------------------------------------\u001b[0m"
     ]
    }
   ],
   "source": [
    "for crf_file in crf_list:\n",
    "    arcpy.md.BuildMultidimensionalTranspose(crf_file)\n",
    "    print(f\"{crf_file} done\")"
   ]
  },
  {
   "cell_type": "code",
   "execution_count": null,
   "metadata": {},
   "outputs": [],
   "source": []
  }
 ],
 "metadata": {
  "kernelspec": {
   "display_name": "ArcGISPro",
   "language": "Python",
   "name": "python3"
  },
  "language_info": {
   "file_extension": ".py",
   "name": "python",
   "version": "3"
  }
 },
 "nbformat": 4,
 "nbformat_minor": 2
}
