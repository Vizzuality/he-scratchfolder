{
 "cells": [
  {
   "cell_type": "markdown",
   "metadata": {},
   "source": [
    "Create the layers for the community and non community protected areas"
   ]
  },
  {
   "cell_type": "markdown",
   "metadata": {},
   "source": [
    "> ```indigenous WDPA filter: desig_eng like '%Aborig%','%Indigen%'\n",
    "indigenous RAISG filter: use all polygons\n",
    "non indigenous WDPA filter: desig_eng like '%Commun%','%Conservanc%','%Local%', '%Region%','%Trust%','%Conservator%,'%Private%','%Nature Center%'\n",
    "Final layer should be the union of the filtered WDPA and RAISG```"
   ]
  },
  {
   "cell_type": "markdown",
   "metadata": {},
   "source": [
    "First we have to copy the UNEP layer into the EO Wilson organisation, for this we should use the `arcgis` API. "
   ]
  },
  {
   "cell_type": "code",
   "execution_count": 1,
   "metadata": {},
   "outputs": [],
   "source": [
    "import arcgis\n",
    "from arcgis.gis import GIS\n",
    "import arcpy"
   ]
  },
  {
   "cell_type": "code",
   "execution_count": 2,
   "metadata": {},
   "outputs": [],
   "source": [
    "import os"
   ]
  },
  {
   "cell_type": "code",
   "execution_count": 3,
   "metadata": {},
   "outputs": [
    {
     "data": {
      "text/plain": [
       "'Jan'"
      ]
     },
     "execution_count": 3,
     "metadata": {},
     "output_type": "execute_result"
    }
   ],
   "source": [
    "import datetime\n",
    "mydate = datetime.datetime.now()\n",
    "mydate.strftime(\"%b\")"
   ]
  },
  {
   "cell_type": "code",
   "execution_count": 4,
   "metadata": {},
   "outputs": [],
   "source": [
    "arcpy.env.workspace = \"C:\\\\Users\\\\Vizuser\\\\Documents\\\\ArcGIS\\\\Projects\\\\WDPA\""
   ]
  },
  {
   "cell_type": "code",
   "execution_count": 11,
   "metadata": {},
   "outputs": [],
   "source": [
    "tmp = []\n",
    "with open(\"../.env\") as f:\n",
    "    for line in f:\n",
    "        tmp.append(line)\n",
    "aol_password = tmp[0].split(\"=\")[1].split(\"\\n\")[0]\n",
    "aol_username = tmp[1].split(\"=\")[1].split(\"\\n\")[0]"
   ]
  },
  {
   "cell_type": "code",
   "execution_count": 12,
   "metadata": {},
   "outputs": [],
   "source": [
    "gis = GIS(\"https://eowilson.maps.arcgis.com\", aol_username, aol_password)"
   ]
  },
  {
   "cell_type": "code",
   "execution_count": 5,
   "metadata": {},
   "outputs": [],
   "source": [
    "unep_wdpa = \"ae78aeb913a343d69e950b53e29076f7\""
   ]
  },
  {
   "cell_type": "code",
   "execution_count": 6,
   "metadata": {},
   "outputs": [],
   "source": [
    "unep_wdpa_item=gis.content.get(unep_wdpa)"
   ]
  },
  {
   "cell_type": "markdown",
   "metadata": {},
   "source": [
    "Here we need to do some kind of check point making sure we are selecting the `WDPA_poly_Latest` layer. I guess we just need to do an index locator"
   ]
  },
  {
   "cell_type": "code",
   "execution_count": 7,
   "metadata": {},
   "outputs": [
    {
     "name": "stdout",
     "output_type": "stream",
     "text": [
      "WDPA_point_Latest\n",
      "WDPA_poly_Latest\n"
     ]
    }
   ],
   "source": [
    "for lyr in unep_wdpa_item.layers: \n",
    "    print(lyr.properties.name)"
   ]
  },
  {
   "cell_type": "code",
   "execution_count": 8,
   "metadata": {},
   "outputs": [],
   "source": [
    "unep_wdpa_url = unep_wdpa_item.layers[1].url"
   ]
  },
  {
   "cell_type": "code",
   "execution_count": 5,
   "metadata": {},
   "outputs": [],
   "source": [
    "wdpa_comm_name = \"wdpa_comm_\" + mydate.strftime(\"%y%b\")\n",
    "wdpa_not_comm_name = \"wdpa_not_comm_\" + mydate.strftime(\"%y%b\")"
   ]
  },
  {
   "cell_type": "code",
   "execution_count": 6,
   "metadata": {},
   "outputs": [],
   "source": [
    "workingGDB = r\"C:\\\\Users\\\\Vizuser\\\\Documents\\\\ArcGIS\\\\Projects\\\\WDPA\\\\WDPA.gdb\""
   ]
  },
  {
   "cell_type": "code",
   "execution_count": 27,
   "metadata": {},
   "outputs": [
    {
     "data": {
      "text/plain": [
       "<Result 'C:\\\\Users\\\\Vizuser\\\\Documents\\\\ArcGIS\\\\Projects\\\\WDPA\\\\WDPA.gdb\\\\tryArcpy'>"
      ]
     },
     "execution_count": 27,
     "metadata": {},
     "output_type": "execute_result"
    }
   ],
   "source": [
    "arcpy.conversion.FeatureClassToFeatureClass(in_features = unep_wdpa_url, \n",
    "                                            out_path = workingGDB,\n",
    "                                            out_name = wdpa_comm_name,\n",
    "                                            where_clause = \"DESIG_ENG LIKE  '%Aborig%' or DESIG_ENG LIKE '%Indigen%'  or DESIG_ENG LIKE '%Commun%' or DESIG_ENG LIKE '%Conservanc%' or DESIG_ENG LIKE '%Local%' or DESIG_ENG LIKE '%Region%' or DESIG_ENG LIKE '%Trust%' or DESIG_ENG LIKE '%Conservator%' or DESIG_ENG LIKE '%Private%' or DESIG_ENG LIKE '%Nature Center%'\")"
   ]
  },
  {
   "cell_type": "code",
   "execution_count": 28,
   "metadata": {},
   "outputs": [
    {
     "data": {
      "text/plain": [
       "<Result 'C:\\\\Users\\\\Vizuser\\\\Documents\\\\ArcGIS\\\\Projects\\\\WDPA\\\\WDPA.gdb\\\\wdpa_not_comm'>"
      ]
     },
     "execution_count": 28,
     "metadata": {},
     "output_type": "execute_result"
    }
   ],
   "source": [
    "arcpy.conversion.FeatureClassToFeatureClass(in_features = unep_wdpa_url, \n",
    "                                            out_path = workingGDB,\n",
    "                                            out_name = wdpa_not_comm_name,\n",
    "                                            where_clause = \"DESIG_ENG NOT LIKE  '%Aborig%' and DESIG_ENG NOT LIKE '%Indigen%'  and DESIG_ENG NOT LIKE '%Commun%' and DESIG_ENG NOT LIKE '%Conservanc%' and DESIG_ENG NOT LIKE '%Local%' and DESIG_ENG NOT LIKE '%Region%' and DESIG_ENG NOT LIKE '%Trust%' and DESIG_ENG NOT LIKE '%Conservator%' and DESIG_ENG NOT LIKE '%Private%' and DESIG_ENG NOT LIKE '%Nature Center%'\")"
   ]
  },
  {
   "cell_type": "markdown",
   "metadata": {},
   "source": [
    "To get the inverted selection the where clause should be `not like` and instead of `or` it should be `and` DONE\n",
    "\n",
    "once the two wdpa bits are done we have to merge the RAISG layer, it can be living in the AOL account. Although the original data lives also here https://geo.socioambiental.org/webadaptor2/rest/services/raisg/raisg_tis/MapServer/2 but this is a map server, not sure what are the permissions to work with it. "
   ]
  },
  {
   "cell_type": "code",
   "execution_count": 13,
   "metadata": {},
   "outputs": [
    {
     "name": "stdout",
     "output_type": "stream",
     "text": [
      "Tis_ComunIndigenas\n",
      "Tis_TerritoriosIndigenas\n"
     ]
    }
   ],
   "source": [
    "raisg = \"f3cd7abb0f014fb09542d8553eba4b25\"\n",
    "raisg_item=gis.content.get(raisg)\n",
    "for lyr in raisg_item.layers: \n",
    "    print(lyr.properties.name)"
   ]
  },
  {
   "cell_type": "markdown",
   "metadata": {},
   "source": [
    "# Creating and calculating the `NAME` and `REP_AREA` fields for the RAISG layer has been done in arcgis Online. "
   ]
  },
  {
   "cell_type": "code",
   "execution_count": 14,
   "metadata": {},
   "outputs": [],
   "source": [
    "#raisg_item.layers[1].properties.fields"
   ]
  },
  {
   "cell_type": "code",
   "execution_count": 15,
   "metadata": {},
   "outputs": [],
   "source": [
    "tis_raisg_url = raisg_item.layers[1].url"
   ]
  },
  {
   "cell_type": "markdown",
   "metadata": {},
   "source": [
    "Currently the app uses the fields from the wdpa layers to feed the tooltips, the fields are `NAME` and `REP_AREA`. The latter is the area in km^2. \n",
    "Meanwhile the TIs layer has information on the name, which has 85 missing data, and the area in ha. The fields are: `nombre` and `area_sig_h` \n",
    "So we have to calculate the RAISG area in km2 and create a new field with the name changing the field's name. "
   ]
  },
  {
   "cell_type": "code",
   "execution_count": 14,
   "metadata": {},
   "outputs": [],
   "source": [
    "#wdpa_comm_path = workingGDB + r\"\\\\\" + wdpa_comm_name\n",
    "#out_merge = workingGDB + r\"\\\\\" + \"wdpa_raisg_merge_\" + mydate.strftime(\"%y%b\")"
   ]
  },
  {
   "cell_type": "code",
   "execution_count": 7,
   "metadata": {},
   "outputs": [],
   "source": [
    "wdpa_comm_path = os.path.join(workingGDB, wdpa_comm_name)\n",
    "out_merge = os.path.join(workingGDB,\"wdpa_raisg_merge_\" + mydate.strftime(\"%y%b\"))"
   ]
  },
  {
   "cell_type": "code",
   "execution_count": 8,
   "metadata": {},
   "outputs": [
    {
     "name": "stdout",
     "output_type": "stream",
     "text": [
      "C:\\\\Users\\\\Vizuser\\\\Documents\\\\ArcGIS\\\\Projects\\\\WDPA\\\\WDPA.gdb\\wdpa_comm_20Jan\n"
     ]
    }
   ],
   "source": [
    "print(wdpa_comm_path)"
   ]
  },
  {
   "cell_type": "markdown",
   "metadata": {},
   "source": [
    "# To merge the RAISG and the WDPA comm \n",
    "1. Create an empty fc because `Append` modifies the target feature class\n",
    "2. Create FieldMapping object to manage merge output fields. "
   ]
  },
  {
   "cell_type": "code",
   "execution_count": 37,
   "metadata": {},
   "outputs": [],
   "source": [
    "out_append = \"comm_wdpa_raisg_appended_\" + mydate.strftime(\"%y%b\")"
   ]
  },
  {
   "cell_type": "code",
   "execution_count": 38,
   "metadata": {},
   "outputs": [],
   "source": [
    "emptyFC = arcpy.management.CreateFeatureclass(workingGDB, \n",
    "                                    out_append, \n",
    "                                    \"POLYGON\", \n",
    "                                    wdpa_comm_path)"
   ]
  },
  {
   "cell_type": "code",
   "execution_count": 39,
   "metadata": {},
   "outputs": [
    {
     "name": "stdout",
     "output_type": "stream",
     "text": [
      "C:\\Users\\Vizuser\\Documents\\ArcGIS\\Projects\\WDPA\\WDPA.gdb\\comm_wdpa_raisg_appended_20Jan\n"
     ]
    }
   ],
   "source": [
    "print(emptyFC)"
   ]
  },
  {
   "cell_type": "code",
   "execution_count": 40,
   "metadata": {},
   "outputs": [],
   "source": [
    "fieldMappings = arcpy.FieldMappings()\n",
    "\n",
    "# Add all fields from both TIs and the community WDPA\n",
    "fieldMappings.addTable(emptyFC)\n",
    "fieldMappings.addTable(tis_raisg_url)\n"
   ]
  },
  {
   "cell_type": "code",
   "execution_count": 41,
   "metadata": {},
   "outputs": [],
   "source": [
    "# Remove the fields NAME and REP_AREA from the field map (we are going to map how they have to be merged)\n",
    "for field in fieldMappings.fields:\n",
    "    if field.name in [\"NAME\", \"REP_AREA\"]:\n",
    "        fieldMappings.removeFieldMap(fieldMappings.findFieldMapIndex(field.name))"
   ]
  },
  {
   "cell_type": "code",
   "execution_count": 42,
   "metadata": {},
   "outputs": [],
   "source": [
    "# Add input fields \"NAME\" from both layers into new output field \n",
    "fldMap_protName = arcpy.FieldMap()\n",
    "fldMap_protName.addInputField(wdpa_comm_path, \"NAME\")\n",
    "fldMap_protName.addInputField(tis_raisg_url, \"NAME\")\n",
    "\n",
    "# Set name of new output field \"NAME\"\n",
    "protName = fldMap_protName.outputField\n",
    "protName.name = \"NAME\"\n",
    "fldMap_protName.outputField = protName\n",
    "\n",
    "# Add output field to field mappings object\n",
    "fieldMappings.addFieldMap(fldMap_protName)"
   ]
  },
  {
   "cell_type": "code",
   "execution_count": 43,
   "metadata": {},
   "outputs": [],
   "source": [
    "# Add input fields \"REP_AREA\" from both layers into new output field \n",
    "fldMap_protArea = arcpy.FieldMap()\n",
    "fldMap_protArea.addInputField(wdpa_comm_path, \"REP_AREA\")\n",
    "fldMap_protArea.addInputField(tis_raisg_url, \"REP_AREA\")\n",
    "\n",
    "# Set name of new output field \"REP_AREA\"\n",
    "protArea = fldMap_protArea.outputField\n",
    "protArea.name = \"REP_AREA\"\n",
    "fldMap_protArea.outputField = protArea\n",
    "\n",
    "# Add output field to field mappings object\n",
    "fieldMappings.addFieldMap(fldMap_protArea)"
   ]
  },
  {
   "cell_type": "code",
   "execution_count": 44,
   "metadata": {},
   "outputs": [
    {
     "data": {
      "text/plain": [
       "<Result 'C:\\\\Users\\\\Vizuser\\\\Documents\\\\ArcGIS\\\\Projects\\\\WDPA\\\\WDPA.gdb\\\\comm_wdpa_raisg_appended_20Jan'>"
      ]
     },
     "execution_count": 44,
     "metadata": {},
     "output_type": "execute_result"
    }
   ],
   "source": [
    "arcpy.management.Append([tis_raisg_url, wdpa_comm_path], \n",
    "                        emptyFC,\n",
    "                        \"NO_TEST\",\n",
    "                        fieldMappings, '')"
   ]
  },
  {
   "cell_type": "markdown",
   "metadata": {},
   "source": [
    "From here we are going to try to publish the data to arcgis online. "
   ]
  }
 ],
 "metadata": {
  "kernelspec": {
   "display_name": "Python 3",
   "language": "python",
   "name": "python3"
  },
  "language_info": {
   "codemirror_mode": {
    "name": "ipython",
    "version": 3
   },
   "file_extension": ".py",
   "mimetype": "text/x-python",
   "name": "python",
   "nbconvert_exporter": "python",
   "pygments_lexer": "ipython3",
   "version": "3.6.9"
  }
 },
 "nbformat": 4,
 "nbformat_minor": 2
}
