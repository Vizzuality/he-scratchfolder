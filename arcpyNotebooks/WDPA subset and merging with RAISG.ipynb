{
 "cells": [
  {
   "cell_type": "markdown",
   "metadata": {},
   "source": [
    "Create the layers for the community and non community protected areas"
   ]
  },
  {
   "cell_type": "markdown",
   "metadata": {},
   "source": [
    "> ```indigenous WDPA filter: desig_eng like '%Aborig%','%Indigen%'\n",
    "indigenous RAISG filter: use all polygons\n",
    "non indigenous WDPA filter: desig_eng like '%Commun%','%Conservanc%','%Local%', '%Region%','%Trust%','%Conservator%,'%Private%','%Nature Center%'\n",
    "Final layer should be the union of the filtered WDPA and RAISG```"
   ]
  },
  {
   "cell_type": "markdown",
   "metadata": {},
   "source": [
    "First we have to copy the UNEP layer into the EO Wilson organisation, for this we should use the `arcgis` API. "
   ]
  },
  {
   "cell_type": "code",
   "execution_count": 2,
   "metadata": {},
   "outputs": [],
   "source": [
    "import arcgis\n",
    "from arcgis.gis import GIS\n",
    "import arcpy"
   ]
  },
  {
   "cell_type": "code",
   "execution_count": 17,
   "metadata": {},
   "outputs": [],
   "source": [
    "import os"
   ]
  },
  {
   "cell_type": "code",
   "execution_count": 2,
   "metadata": {},
   "outputs": [
    {
     "data": {
      "text/plain": [
       "'Jan'"
      ]
     },
     "execution_count": 2,
     "metadata": {},
     "output_type": "execute_result"
    }
   ],
   "source": [
    "import datetime\n",
    "mydate = datetime.datetime.now()\n",
    "mydate.strftime(\"%b\")"
   ]
  },
  {
   "cell_type": "code",
   "execution_count": 11,
   "metadata": {},
   "outputs": [],
   "source": [
    "arcpy.env.workspace = \"C:\\\\Users\\\\Vizuser\\\\Documents\\\\ArcGIS\\\\Projects\\\\WDPA\""
   ]
  },
  {
   "cell_type": "code",
   "execution_count": 3,
   "metadata": {},
   "outputs": [],
   "source": [
    "tmp = []\n",
    "with open(\".env\") as f:\n",
    "    for line in f:\n",
    "        tmp.append(line)\n",
    "aol_password = tmp[0].split(\"=\")[1].split(\"\\n\")[0]\n",
    "aol_username = tmp[1].split(\"=\")[1].split(\"\\n\")[0]"
   ]
  },
  {
   "cell_type": "code",
   "execution_count": 4,
   "metadata": {},
   "outputs": [],
   "source": [
    "gis = GIS(\"https://eowilson.maps.arcgis.com\", aol_username, aol_password)"
   ]
  },
  {
   "cell_type": "code",
   "execution_count": 5,
   "metadata": {},
   "outputs": [],
   "source": [
    "unep_wdpa = \"ae78aeb913a343d69e950b53e29076f7\""
   ]
  },
  {
   "cell_type": "code",
   "execution_count": 6,
   "metadata": {},
   "outputs": [],
   "source": [
    "unep_wdpa_item=gis.content.get(unep_wdpa)"
   ]
  },
  {
   "cell_type": "markdown",
   "metadata": {},
   "source": [
    "Here we need to do some kind of check point making sure we are selecting the `WDPA_poly_Latest` layer. I guess we just need to do an index locator"
   ]
  },
  {
   "cell_type": "code",
   "execution_count": 7,
   "metadata": {},
   "outputs": [
    {
     "name": "stdout",
     "output_type": "stream",
     "text": [
      "WDPA_point_Latest\n",
      "WDPA_poly_Latest\n"
     ]
    }
   ],
   "source": [
    "for lyr in unep_wdpa_item.layers: \n",
    "    print(lyr.properties.name)"
   ]
  },
  {
   "cell_type": "code",
   "execution_count": 8,
   "metadata": {},
   "outputs": [],
   "source": [
    "unep_wdpa_url = unep_wdpa_item.layers[1].url"
   ]
  },
  {
   "cell_type": "code",
   "execution_count": 9,
   "metadata": {},
   "outputs": [],
   "source": [
    "wdpa_comm_name = \"wdpa_comm_\" + mydate.strftime(\"%y%b\")\n",
    "wdpa_not_comm_name = \"wdpa_not_comm_\" + mydate.strftime(\"%y%b\")"
   ]
  },
  {
   "cell_type": "code",
   "execution_count": 10,
   "metadata": {},
   "outputs": [],
   "source": [
    "workingGDB = r\"C:\\\\Users\\\\Vizuser\\\\Documents\\\\ArcGIS\\\\Projects\\\\WDPA\\\\WDPA.gdb\""
   ]
  },
  {
   "cell_type": "code",
   "execution_count": 27,
   "metadata": {},
   "outputs": [
    {
     "data": {
      "text/plain": [
       "<Result 'C:\\\\Users\\\\Vizuser\\\\Documents\\\\ArcGIS\\\\Projects\\\\WDPA\\\\WDPA.gdb\\\\tryArcpy'>"
      ]
     },
     "execution_count": 27,
     "metadata": {},
     "output_type": "execute_result"
    }
   ],
   "source": [
    "arcpy.conversion.FeatureClassToFeatureClass(in_features = unep_wdpa_url, \n",
    "                                            out_path = workingGDB,\n",
    "                                            out_name = wdpa_comm_name,\n",
    "                                            where_clause = \"DESIG_ENG LIKE  '%Aborig%' or DESIG_ENG LIKE '%Indigen%'  or DESIG_ENG LIKE '%Commun%' or DESIG_ENG LIKE '%Conservanc%' or DESIG_ENG LIKE '%Local%' or DESIG_ENG LIKE '%Region%' or DESIG_ENG LIKE '%Trust%' or DESIG_ENG LIKE '%Conservator%' or DESIG_ENG LIKE '%Private%' or DESIG_ENG LIKE '%Nature Center%'\")"
   ]
  },
  {
   "cell_type": "code",
   "execution_count": 28,
   "metadata": {},
   "outputs": [
    {
     "data": {
      "text/plain": [
       "<Result 'C:\\\\Users\\\\Vizuser\\\\Documents\\\\ArcGIS\\\\Projects\\\\WDPA\\\\WDPA.gdb\\\\wdpa_not_comm'>"
      ]
     },
     "execution_count": 28,
     "metadata": {},
     "output_type": "execute_result"
    }
   ],
   "source": [
    "arcpy.conversion.FeatureClassToFeatureClass(in_features = unep_wdpa_url, \n",
    "                                            out_path = workingGDB,\n",
    "                                            out_name = wdpa_not_comm_name,\n",
    "                                            where_clause = \"DESIG_ENG NOT LIKE  '%Aborig%' and DESIG_ENG NOT LIKE '%Indigen%'  and DESIG_ENG NOT LIKE '%Commun%' and DESIG_ENG NOT LIKE '%Conservanc%' and DESIG_ENG NOT LIKE '%Local%' and DESIG_ENG NOT LIKE '%Region%' and DESIG_ENG NOT LIKE '%Trust%' and DESIG_ENG NOT LIKE '%Conservator%' and DESIG_ENG NOT LIKE '%Private%' and DESIG_ENG NOT LIKE '%Nature Center%'\")"
   ]
  },
  {
   "cell_type": "markdown",
   "metadata": {},
   "source": [
    "To get the inverted selection the where clause should be `not like` and instead of `or` it should be `and` DONE\n",
    "\n",
    "once the two wdpa bits are done we have to merge the RAISG layer, it can be living in the AOL account. Although the original data lives also here https://geo.socioambiental.org/webadaptor2/rest/services/raisg/raisg_tis/MapServer/2 but this is a map server, not sure what are the permissions to work with it. "
   ]
  },
  {
   "cell_type": "code",
   "execution_count": 11,
   "metadata": {},
   "outputs": [
    {
     "name": "stdout",
     "output_type": "stream",
     "text": [
      "Tis_ComunIndigenas\n",
      "Tis_TerritoriosIndigenas\n"
     ]
    }
   ],
   "source": [
    "raisg = \"f3cd7abb0f014fb09542d8553eba4b25\"\n",
    "raisg_item=gis.content.get(raisg)\n",
    "for lyr in raisg_item.layers: \n",
    "    print(lyr.properties.name)"
   ]
  },
  {
   "cell_type": "markdown",
   "metadata": {},
   "source": [
    "Creating and calculating the `NAME` and `REP_AREA` fields for the RAISG layer has been done in arcgis Online. "
   ]
  },
  {
   "cell_type": "code",
   "execution_count": 12,
   "metadata": {},
   "outputs": [
    {
     "data": {
      "text/plain": [
       "[{\n",
       "   \"name\": \"FID\",\n",
       "   \"type\": \"esriFieldTypeOID\",\n",
       "   \"actualType\": \"int\",\n",
       "   \"alias\": \"FID\",\n",
       "   \"sqlType\": \"sqlTypeInteger\",\n",
       "   \"nullable\": false,\n",
       "   \"editable\": false,\n",
       "   \"domain\": null,\n",
       "   \"defaultValue\": null\n",
       " }, {\n",
       "   \"name\": \"pais\",\n",
       "   \"type\": \"esriFieldTypeString\",\n",
       "   \"actualType\": \"nvarchar\",\n",
       "   \"alias\": \"pais\",\n",
       "   \"sqlType\": \"sqlTypeNVarchar\",\n",
       "   \"length\": 20,\n",
       "   \"nullable\": true,\n",
       "   \"editable\": true,\n",
       "   \"domain\": null,\n",
       "   \"defaultValue\": null\n",
       " }, {\n",
       "   \"name\": \"categoria\",\n",
       "   \"type\": \"esriFieldTypeString\",\n",
       "   \"actualType\": \"nvarchar\",\n",
       "   \"alias\": \"categoria\",\n",
       "   \"sqlType\": \"sqlTypeNVarchar\",\n",
       "   \"length\": 60,\n",
       "   \"nullable\": true,\n",
       "   \"editable\": true,\n",
       "   \"domain\": null,\n",
       "   \"defaultValue\": null\n",
       " }, {\n",
       "   \"name\": \"nombre\",\n",
       "   \"type\": \"esriFieldTypeString\",\n",
       "   \"actualType\": \"nvarchar\",\n",
       "   \"alias\": \"nombre\",\n",
       "   \"sqlType\": \"sqlTypeNVarchar\",\n",
       "   \"length\": 100,\n",
       "   \"nullable\": true,\n",
       "   \"editable\": true,\n",
       "   \"domain\": null,\n",
       "   \"defaultValue\": null\n",
       " }, {\n",
       "   \"name\": \"status\",\n",
       "   \"type\": \"esriFieldTypeString\",\n",
       "   \"actualType\": \"nvarchar\",\n",
       "   \"alias\": \"status\",\n",
       "   \"sqlType\": \"sqlTypeNVarchar\",\n",
       "   \"length\": 40,\n",
       "   \"nullable\": true,\n",
       "   \"editable\": true,\n",
       "   \"domain\": null,\n",
       "   \"defaultValue\": null\n",
       " }, {\n",
       "   \"name\": \"etnias\",\n",
       "   \"type\": \"esriFieldTypeString\",\n",
       "   \"actualType\": \"nvarchar\",\n",
       "   \"alias\": \"etnias\",\n",
       "   \"sqlType\": \"sqlTypeNVarchar\",\n",
       "   \"length\": 200,\n",
       "   \"nullable\": true,\n",
       "   \"editable\": true,\n",
       "   \"domain\": null,\n",
       "   \"defaultValue\": null\n",
       " }, {\n",
       "   \"name\": \"no_habitan\",\n",
       "   \"type\": \"esriFieldTypeDouble\",\n",
       "   \"actualType\": \"float\",\n",
       "   \"alias\": \"no_habitan\",\n",
       "   \"sqlType\": \"sqlTypeFloat\",\n",
       "   \"nullable\": true,\n",
       "   \"editable\": true,\n",
       "   \"domain\": null,\n",
       "   \"defaultValue\": null\n",
       " }, {\n",
       "   \"name\": \"fuente_dat\",\n",
       "   \"type\": \"esriFieldTypeString\",\n",
       "   \"actualType\": \"nvarchar\",\n",
       "   \"alias\": \"fuente_dat\",\n",
       "   \"sqlType\": \"sqlTypeNVarchar\",\n",
       "   \"length\": 30,\n",
       "   \"nullable\": true,\n",
       "   \"editable\": true,\n",
       "   \"domain\": null,\n",
       "   \"defaultValue\": null\n",
       " }, {\n",
       "   \"name\": \"norma\",\n",
       "   \"type\": \"esriFieldTypeString\",\n",
       "   \"actualType\": \"nvarchar\",\n",
       "   \"alias\": \"norma\",\n",
       "   \"sqlType\": \"sqlTypeNVarchar\",\n",
       "   \"length\": 50,\n",
       "   \"nullable\": true,\n",
       "   \"editable\": true,\n",
       "   \"domain\": null,\n",
       "   \"defaultValue\": null\n",
       " }, {\n",
       "   \"name\": \"fecha_norm\",\n",
       "   \"type\": \"esriFieldTypeString\",\n",
       "   \"actualType\": \"nvarchar\",\n",
       "   \"alias\": \"fecha_norm\",\n",
       "   \"sqlType\": \"sqlTypeNVarchar\",\n",
       "   \"length\": 50,\n",
       "   \"nullable\": true,\n",
       "   \"editable\": true,\n",
       "   \"domain\": null,\n",
       "   \"defaultValue\": null\n",
       " }, {\n",
       "   \"name\": \"fecha_ulti\",\n",
       "   \"type\": \"esriFieldTypeString\",\n",
       "   \"actualType\": \"nvarchar\",\n",
       "   \"alias\": \"fecha_ulti\",\n",
       "   \"sqlType\": \"sqlTypeNVarchar\",\n",
       "   \"length\": 10,\n",
       "   \"nullable\": true,\n",
       "   \"editable\": true,\n",
       "   \"domain\": null,\n",
       "   \"defaultValue\": null\n",
       " }, {\n",
       "   \"name\": \"area_sig_h\",\n",
       "   \"type\": \"esriFieldTypeDouble\",\n",
       "   \"actualType\": \"float\",\n",
       "   \"alias\": \"area_sig_h\",\n",
       "   \"sqlType\": \"sqlTypeFloat\",\n",
       "   \"nullable\": true,\n",
       "   \"editable\": true,\n",
       "   \"domain\": null,\n",
       "   \"defaultValue\": null\n",
       " }, {\n",
       "   \"name\": \"institucio\",\n",
       "   \"type\": \"esriFieldTypeString\",\n",
       "   \"actualType\": \"nvarchar\",\n",
       "   \"alias\": \"institucio\",\n",
       "   \"sqlType\": \"sqlTypeNVarchar\",\n",
       "   \"length\": 15,\n",
       "   \"nullable\": true,\n",
       "   \"editable\": true,\n",
       "   \"domain\": null,\n",
       "   \"defaultValue\": null\n",
       " }, {\n",
       "   \"name\": \"fuente\",\n",
       "   \"type\": \"esriFieldTypeString\",\n",
       "   \"actualType\": \"nvarchar\",\n",
       "   \"alias\": \"fuente\",\n",
       "   \"sqlType\": \"sqlTypeNVarchar\",\n",
       "   \"length\": 100,\n",
       "   \"nullable\": true,\n",
       "   \"editable\": true,\n",
       "   \"domain\": null,\n",
       "   \"defaultValue\": null\n",
       " }, {\n",
       "   \"name\": \"fecha_atua\",\n",
       "   \"type\": \"esriFieldTypeString\",\n",
       "   \"actualType\": \"nvarchar\",\n",
       "   \"alias\": \"fecha_atua\",\n",
       "   \"sqlType\": \"sqlTypeNVarchar\",\n",
       "   \"length\": 10,\n",
       "   \"nullable\": true,\n",
       "   \"editable\": true,\n",
       "   \"domain\": null,\n",
       "   \"defaultValue\": null\n",
       " }, {\n",
       "   \"name\": \"leyenda\",\n",
       "   \"type\": \"esriFieldTypeString\",\n",
       "   \"actualType\": \"nvarchar\",\n",
       "   \"alias\": \"leyenda\",\n",
       "   \"sqlType\": \"sqlTypeNVarchar\",\n",
       "   \"length\": 50,\n",
       "   \"nullable\": true,\n",
       "   \"editable\": true,\n",
       "   \"domain\": null,\n",
       "   \"defaultValue\": null\n",
       " }, {\n",
       "   \"name\": \"codigo_tis\",\n",
       "   \"type\": \"esriFieldTypeInteger\",\n",
       "   \"actualType\": \"int\",\n",
       "   \"alias\": \"codigo_tis\",\n",
       "   \"sqlType\": \"sqlTypeInteger\",\n",
       "   \"nullable\": true,\n",
       "   \"editable\": true,\n",
       "   \"domain\": null,\n",
       "   \"defaultValue\": null\n",
       " }, {\n",
       "   \"name\": \"Shape__Area\",\n",
       "   \"type\": \"esriFieldTypeDouble\",\n",
       "   \"actualType\": \"float\",\n",
       "   \"alias\": \"Shape__Area\",\n",
       "   \"sqlType\": \"sqlTypeFloat\",\n",
       "   \"nullable\": true,\n",
       "   \"editable\": false,\n",
       "   \"domain\": null,\n",
       "   \"defaultValue\": null\n",
       " }, {\n",
       "   \"name\": \"Shape__Length\",\n",
       "   \"type\": \"esriFieldTypeDouble\",\n",
       "   \"actualType\": \"float\",\n",
       "   \"alias\": \"Shape__Length\",\n",
       "   \"sqlType\": \"sqlTypeFloat\",\n",
       "   \"nullable\": true,\n",
       "   \"editable\": false,\n",
       "   \"domain\": null,\n",
       "   \"defaultValue\": null\n",
       " }, {\n",
       "   \"name\": \"NAME\",\n",
       "   \"type\": \"esriFieldTypeString\",\n",
       "   \"alias\": \"NAME\",\n",
       "   \"sqlType\": \"sqlTypeOther\",\n",
       "   \"length\": 255,\n",
       "   \"nullable\": true,\n",
       "   \"editable\": true,\n",
       "   \"domain\": null,\n",
       "   \"defaultValue\": null\n",
       " }, {\n",
       "   \"name\": \"REP_AREA\",\n",
       "   \"type\": \"esriFieldTypeDouble\",\n",
       "   \"alias\": \"\",\n",
       "   \"sqlType\": \"sqlTypeOther\",\n",
       "   \"nullable\": true,\n",
       "   \"editable\": true,\n",
       "   \"domain\": null,\n",
       "   \"defaultValue\": null\n",
       " }]"
      ]
     },
     "execution_count": 12,
     "metadata": {},
     "output_type": "execute_result"
    }
   ],
   "source": [
    "raisg_item.layers[1].properties.fields"
   ]
  },
  {
   "cell_type": "code",
   "execution_count": 13,
   "metadata": {},
   "outputs": [],
   "source": [
    "tis_raisg_url = raisg_item.layers[1].url"
   ]
  },
  {
   "cell_type": "markdown",
   "metadata": {},
   "source": [
    "Currently the app uses the fields from the wdpa layers to feed the tooltips, the fields are `NAME` and `REP_AREA`. The latter is the area in km^2. \n",
    "Meanwhile the TIs layer has information on the name, which has 85 missing data, and the area in ha. The fields are: `nombre` and `area_sig_h` \n",
    "So we have to calculate the RAISG area in km2 and create a new field with the name changing the field's name. "
   ]
  },
  {
   "cell_type": "code",
   "execution_count": 14,
   "metadata": {},
   "outputs": [],
   "source": [
    "#wdpa_comm_path = workingGDB + r\"\\\\\" + wdpa_comm_name\n",
    "#out_merge = workingGDB + r\"\\\\\" + \"wdpa_raisg_merge_\" + mydate.strftime(\"%y%b\")"
   ]
  },
  {
   "cell_type": "code",
   "execution_count": 34,
   "metadata": {},
   "outputs": [],
   "source": [
    "wdpa_comm_path = os.path.join(workingGDB, wdpa_comm_name)\n",
    "out_merge = os.path.join(workingGDB,\"wdpa_raisg_merge_\" + mydate.strftime(\"%y%b\"))"
   ]
  },
  {
   "cell_type": "code",
   "execution_count": 37,
   "metadata": {},
   "outputs": [
    {
     "name": "stdout",
     "output_type": "stream",
     "text": [
      "C:\\\\Users\\\\Vizuser\\\\Documents\\\\ArcGIS\\\\Projects\\\\WDPA\\\\WDPA.gdb\\wdpa_comm_20Jan\n"
     ]
    }
   ],
   "source": [
    "print(wdpa_comm_path)"
   ]
  },
  {
   "cell_type": "code",
   "execution_count": 15,
   "metadata": {},
   "outputs": [],
   "source": [
    "# Create FieldMappings object to manage merge output fields\n",
    "fieldMappings = arcpy.FieldMappings()\n",
    "\n",
    "# Add all fields from both TIs and the community WDPA\n",
    "fieldMappings.addTable(tis_raisg_url)\n",
    "fieldMappings.addTable(wdpa_comm_path)"
   ]
  },
  {
   "cell_type": "code",
   "execution_count": 16,
   "metadata": {},
   "outputs": [],
   "source": [
    "# Remove the fields NAME and REP_AREA from the field map (we are going to map how they have to be merged)\n",
    "for field in fieldMappings.fields:\n",
    "    if field.name in [\"NAME\", \"REP_AREA\"]:\n",
    "        fieldMappings.removeFieldMap(fieldMappings.findFieldMapIndex(field.name))"
   ]
  },
  {
   "cell_type": "code",
   "execution_count": 17,
   "metadata": {},
   "outputs": [],
   "source": [
    "# Add input fields \"NAME\" from both layers into new output field \n",
    "fldMap_protName = arcpy.FieldMap()\n",
    "fldMap_protName.addInputField(wdpa_comm_path, \"NAME\")\n",
    "fldMap_protName.addInputField(tis_raisg_url, \"NAME\")\n",
    "\n",
    "# Set name of new output field \"NAME\"\n",
    "protName = fldMap_protName.outputField\n",
    "protName.name = \"NAME\"\n",
    "fldMap_protName.outputField = protName\n",
    "\n",
    "# Add output field to field mappings object\n",
    "fieldMappings.addFieldMap(fldMap_protName)"
   ]
  },
  {
   "cell_type": "code",
   "execution_count": 20,
   "metadata": {},
   "outputs": [],
   "source": [
    "# Add input fields \"REP_AREA\" from both layers into new output field \n",
    "fldMap_protArea = arcpy.FieldMap()\n",
    "fldMap_protArea.addInputField(wdpa_comm_path, \"REP_AREA\")\n",
    "fldMap_protArea.addInputField(tis_raisg_url, \"REP_AREA\")\n",
    "\n",
    "# Set name of new output field \"REP_AREA\"\n",
    "protArea = fldMap_protArea.outputField\n",
    "protArea.name = \"REP_AREA\"\n",
    "fldMap_protArea.outputField = protArea\n",
    "\n",
    "# Add output field to field mappings object\n",
    "fieldMappings.addFieldMap(fldMap_protArea)"
   ]
  },
  {
   "cell_type": "code",
   "execution_count": 21,
   "metadata": {},
   "outputs": [
    {
     "data": {
      "text/plain": [
       "<Result 'C:\\\\\\\\Users\\\\\\\\Vizuser\\\\\\\\Documents\\\\\\\\ArcGIS\\\\\\\\Projects\\\\\\\\WDPA\\\\\\\\WDPA.gdb\\\\wdpa_raisg_merge_20Jan'>"
      ]
     },
     "execution_count": 21,
     "metadata": {},
     "output_type": "execute_result"
    }
   ],
   "source": [
    "arcpy.management.Merge([tis_raisg_url, wdpa_comm_path], \n",
    "                       out_merge, \n",
    "                      fieldMappings)"
   ]
  },
  {
   "cell_type": "markdown",
   "metadata": {},
   "source": [
    "From here we are going to try to publish the data to arcgis online. "
   ]
  },
  {
   "cell_type": "code",
   "execution_count": 21,
   "metadata": {},
   "outputs": [],
   "source": [
    "p = arcpy.mp.ArcGISProject(\"C:\\\\Users\\\\Vizuser\\\\Documents\\\\ArcGIS\\\\Projects\\\\WDPA\\\\WDPA_jan.aprx\")"
   ]
  },
  {
   "cell_type": "code",
   "execution_count": 22,
   "metadata": {},
   "outputs": [
    {
     "name": "stdout",
     "output_type": "stream",
     "text": [
      "Map\n",
      "community-based\n",
      "Protected areas\n"
     ]
    }
   ],
   "source": [
    "for m in p.listMaps():\n",
    "    print(m.name)"
   ]
  },
  {
   "cell_type": "code",
   "execution_count": 23,
   "metadata": {},
   "outputs": [],
   "source": [
    "pa_map = p.listMaps()[2]\n",
    "cb_map = p.listMaps()[1]"
   ]
  },
  {
   "cell_type": "code",
   "execution_count": 33,
   "metadata": {},
   "outputs": [
    {
     "name": "stdout",
     "output_type": "stream",
     "text": [
      "wdpa_raisg_merge_20Jan\n"
     ]
    }
   ],
   "source": [
    "for lyr in cb_map.listLayers():\n",
    "    print(lyr.name)"
   ]
  },
  {
   "cell_type": "code",
   "execution_count": 34,
   "metadata": {},
   "outputs": [
    {
     "data": {
      "text/plain": [
       "'packages\\\\community-based.vtpk'"
      ]
     },
     "execution_count": 34,
     "metadata": {},
     "output_type": "execute_result"
    }
   ],
   "source": [
    "output_path = os.path.join(\"packages\", cb_map.name + '.vtpk')\n",
    "output_path"
   ]
  },
  {
   "cell_type": "code",
   "execution_count": 35,
   "metadata": {},
   "outputs": [],
   "source": [
    "sharing_draft = cb_map.getWebLayerSharingDraft(\"HOSTING_SERVER\", \"TILE\", \"TileSharingDraftExample\")"
   ]
  },
  {
   "cell_type": "code",
   "execution_count": 36,
   "metadata": {},
   "outputs": [],
   "source": [
    "sharing_draft.summary = \"My Summary\"\n",
    "sharing_draft.tags = \"My Tags\"\n",
    "sharing_draft.description = \"My Description\"\n",
    "sharing_draft.credits = \"My Credits\"\n",
    "sharing_draft.useLimitations = \"My Use Limitations\""
   ]
  },
  {
   "cell_type": "code",
   "execution_count": 38,
   "metadata": {},
   "outputs": [],
   "source": [
    "sharing_draft.exportToSDDraft(\"..\\\\packages\\\\TileSharingDraftExample.sddraft\")"
   ]
  },
  {
   "cell_type": "code",
   "execution_count": 40,
   "metadata": {},
   "outputs": [
    {
     "data": {
      "text/plain": [
       "'..\\\\packages\\\\TileSharingDraftExample.sd'"
      ]
     },
     "execution_count": 40,
     "metadata": {},
     "output_type": "execute_result"
    }
   ],
   "source": [
    "sd_output_filename"
   ]
  },
  {
   "cell_type": "code",
   "execution_count": 41,
   "metadata": {},
   "outputs": [
    {
     "ename": "ExecuteError",
     "evalue": "ERROR 999999: Something unexpected caused the tool to fail. Contact Esri Technical Support (http://esriurl.com/support) to Report a Bug, and refer to the error help for potential solutions or workarounds.\nFailed to execute (StageService).\n",
     "output_type": "error",
     "traceback": [
      "\u001b[1;31m---------------------------------------------------------------------------\u001b[0m",
      "\u001b[1;31mExecuteError\u001b[0m                              Traceback (most recent call last)",
      "\u001b[1;32m<ipython-input-41-3db961c4c821>\u001b[0m in \u001b[0;36m<module>\u001b[1;34m\u001b[0m\n\u001b[0;32m      2\u001b[0m \u001b[0msd_filename\u001b[0m \u001b[1;33m=\u001b[0m \u001b[1;34m\"TileSharingDraftExample\"\u001b[0m \u001b[1;33m+\u001b[0m \u001b[1;34m\".sd\"\u001b[0m\u001b[1;33m\u001b[0m\u001b[1;33m\u001b[0m\u001b[0m\n\u001b[0;32m      3\u001b[0m \u001b[0msd_output_filename\u001b[0m \u001b[1;33m=\u001b[0m \u001b[0mos\u001b[0m\u001b[1;33m.\u001b[0m\u001b[0mpath\u001b[0m\u001b[1;33m.\u001b[0m\u001b[0mjoin\u001b[0m\u001b[1;33m(\u001b[0m\u001b[1;34m\"..\\\\packages\"\u001b[0m\u001b[1;33m,\u001b[0m \u001b[0msd_filename\u001b[0m\u001b[1;33m)\u001b[0m\u001b[1;33m\u001b[0m\u001b[1;33m\u001b[0m\u001b[0m\n\u001b[1;32m----> 4\u001b[1;33m \u001b[0marcpy\u001b[0m\u001b[1;33m.\u001b[0m\u001b[0mStageService_server\u001b[0m\u001b[1;33m(\u001b[0m\u001b[1;34m\"..\\\\packages\\\\TileSharingDraftExample.sddraft\"\u001b[0m\u001b[1;33m,\u001b[0m \u001b[1;34m\"..\\\\packages\\\\TileSharingDraftExample.sd\"\u001b[0m\u001b[1;33m)\u001b[0m\u001b[1;33m\u001b[0m\u001b[1;33m\u001b[0m\u001b[0m\n\u001b[0m",
      "\u001b[1;32mC:\\ArcGIS\\Pro\\Resources\\ArcPy\\arcpy\\server.py\u001b[0m in \u001b[0;36mStageService\u001b[1;34m(in_service_definition_draft, out_service_definition, staging_version)\u001b[0m\n\u001b[0;32m   1034\u001b[0m         \u001b[1;32mreturn\u001b[0m \u001b[0mretval\u001b[0m\u001b[1;33m\u001b[0m\u001b[1;33m\u001b[0m\u001b[0m\n\u001b[0;32m   1035\u001b[0m     \u001b[1;32mexcept\u001b[0m \u001b[0mException\u001b[0m \u001b[1;32mas\u001b[0m \u001b[0me\u001b[0m\u001b[1;33m:\u001b[0m\u001b[1;33m\u001b[0m\u001b[1;33m\u001b[0m\u001b[0m\n\u001b[1;32m-> 1036\u001b[1;33m         \u001b[1;32mraise\u001b[0m \u001b[0me\u001b[0m\u001b[1;33m\u001b[0m\u001b[1;33m\u001b[0m\u001b[0m\n\u001b[0m\u001b[0;32m   1037\u001b[0m \u001b[1;33m\u001b[0m\u001b[0m\n\u001b[0;32m   1038\u001b[0m \u001b[1;33m@\u001b[0m\u001b[0mgptooldoc\u001b[0m\u001b[1;33m(\u001b[0m\u001b[1;34m'UploadServiceDefinition_server'\u001b[0m\u001b[1;33m,\u001b[0m \u001b[1;32mNone\u001b[0m\u001b[1;33m)\u001b[0m\u001b[1;33m\u001b[0m\u001b[1;33m\u001b[0m\u001b[0m\n",
      "\u001b[1;32mC:\\ArcGIS\\Pro\\Resources\\ArcPy\\arcpy\\server.py\u001b[0m in \u001b[0;36mStageService\u001b[1;34m(in_service_definition_draft, out_service_definition, staging_version)\u001b[0m\n\u001b[0;32m   1031\u001b[0m     \u001b[1;32mfrom\u001b[0m \u001b[0marcpy\u001b[0m\u001b[1;33m.\u001b[0m\u001b[0marcobjects\u001b[0m\u001b[1;33m.\u001b[0m\u001b[0marcobjectconversion\u001b[0m \u001b[1;32mimport\u001b[0m \u001b[0mconvertArcObjectToPythonObject\u001b[0m\u001b[1;33m\u001b[0m\u001b[1;33m\u001b[0m\u001b[0m\n\u001b[0;32m   1032\u001b[0m     \u001b[1;32mtry\u001b[0m\u001b[1;33m:\u001b[0m\u001b[1;33m\u001b[0m\u001b[1;33m\u001b[0m\u001b[0m\n\u001b[1;32m-> 1033\u001b[1;33m         \u001b[0mretval\u001b[0m \u001b[1;33m=\u001b[0m \u001b[0mconvertArcObjectToPythonObject\u001b[0m\u001b[1;33m(\u001b[0m\u001b[0mgp\u001b[0m\u001b[1;33m.\u001b[0m\u001b[0mStageService_server\u001b[0m\u001b[1;33m(\u001b[0m\u001b[1;33m*\u001b[0m\u001b[0mgp_fixargs\u001b[0m\u001b[1;33m(\u001b[0m\u001b[1;33m(\u001b[0m\u001b[0min_service_definition_draft\u001b[0m\u001b[1;33m,\u001b[0m \u001b[0mout_service_definition\u001b[0m\u001b[1;33m,\u001b[0m \u001b[0mstaging_version\u001b[0m\u001b[1;33m)\u001b[0m\u001b[1;33m,\u001b[0m \u001b[1;32mTrue\u001b[0m\u001b[1;33m)\u001b[0m\u001b[1;33m)\u001b[0m\u001b[1;33m)\u001b[0m\u001b[1;33m\u001b[0m\u001b[1;33m\u001b[0m\u001b[0m\n\u001b[0m\u001b[0;32m   1034\u001b[0m         \u001b[1;32mreturn\u001b[0m \u001b[0mretval\u001b[0m\u001b[1;33m\u001b[0m\u001b[1;33m\u001b[0m\u001b[0m\n\u001b[0;32m   1035\u001b[0m     \u001b[1;32mexcept\u001b[0m \u001b[0mException\u001b[0m \u001b[1;32mas\u001b[0m \u001b[0me\u001b[0m\u001b[1;33m:\u001b[0m\u001b[1;33m\u001b[0m\u001b[1;33m\u001b[0m\u001b[0m\n",
      "\u001b[1;32mC:\\ArcGIS\\Pro\\Resources\\ArcPy\\arcpy\\geoprocessing\\_base.py\u001b[0m in \u001b[0;36m<lambda>\u001b[1;34m(*args)\u001b[0m\n\u001b[0;32m    504\u001b[0m         \u001b[0mval\u001b[0m \u001b[1;33m=\u001b[0m \u001b[0mgetattr\u001b[0m\u001b[1;33m(\u001b[0m\u001b[0mself\u001b[0m\u001b[1;33m.\u001b[0m\u001b[0m_gp\u001b[0m\u001b[1;33m,\u001b[0m \u001b[0mattr\u001b[0m\u001b[1;33m)\u001b[0m\u001b[1;33m\u001b[0m\u001b[1;33m\u001b[0m\u001b[0m\n\u001b[0;32m    505\u001b[0m         \u001b[1;32mif\u001b[0m \u001b[0mcallable\u001b[0m\u001b[1;33m(\u001b[0m\u001b[0mval\u001b[0m\u001b[1;33m)\u001b[0m\u001b[1;33m:\u001b[0m\u001b[1;33m\u001b[0m\u001b[1;33m\u001b[0m\u001b[0m\n\u001b[1;32m--> 506\u001b[1;33m             \u001b[1;32mreturn\u001b[0m \u001b[1;32mlambda\u001b[0m \u001b[1;33m*\u001b[0m\u001b[0margs\u001b[0m\u001b[1;33m:\u001b[0m \u001b[0mval\u001b[0m\u001b[1;33m(\u001b[0m\u001b[1;33m*\u001b[0m\u001b[0mgp_fixargs\u001b[0m\u001b[1;33m(\u001b[0m\u001b[0margs\u001b[0m\u001b[1;33m,\u001b[0m \u001b[1;32mTrue\u001b[0m\u001b[1;33m)\u001b[0m\u001b[1;33m)\u001b[0m\u001b[1;33m\u001b[0m\u001b[1;33m\u001b[0m\u001b[0m\n\u001b[0m\u001b[0;32m    507\u001b[0m         \u001b[1;32melse\u001b[0m\u001b[1;33m:\u001b[0m\u001b[1;33m\u001b[0m\u001b[1;33m\u001b[0m\u001b[0m\n\u001b[0;32m    508\u001b[0m             \u001b[1;32mreturn\u001b[0m \u001b[0mconvertArcObjectToPythonObject\u001b[0m\u001b[1;33m(\u001b[0m\u001b[0mval\u001b[0m\u001b[1;33m)\u001b[0m\u001b[1;33m\u001b[0m\u001b[1;33m\u001b[0m\u001b[0m\n",
      "\u001b[1;31mExecuteError\u001b[0m: ERROR 999999: Something unexpected caused the tool to fail. Contact Esri Technical Support (http://esriurl.com/support) to Report a Bug, and refer to the error help for potential solutions or workarounds.\nFailed to execute (StageService).\n"
     ]
    }
   ],
   "source": [
    "# Stage Service\n",
    "sd_filename = \"TileSharingDraftExample\" + \".sd\"\n",
    "sd_output_filename = os.path.join(\"..\\\\packages\", sd_filename)\n",
    "arcpy.StageService_server(\"..\\\\packages\\\\TileSharingDraftExample.sddraft\", \"..\\\\packages\\\\TileSharingDraftExample.sd\")"
   ]
  },
  {
   "cell_type": "code",
   "execution_count": 20,
   "metadata": {},
   "outputs": [
    {
     "ename": "ExecuteError",
     "evalue": "ERROR 001852: Layer type is not supported for vector tile packages.\nFailed to execute (CreateVectorTilePackage).\n",
     "output_type": "error",
     "traceback": [
      "\u001b[1;31m---------------------------------------------------------------------------\u001b[0m",
      "\u001b[1;31mExecuteError\u001b[0m                              Traceback (most recent call last)",
      "\u001b[1;32m<ipython-input-20-5082f52521f8>\u001b[0m in \u001b[0;36m<module>\u001b[1;34m\u001b[0m\n\u001b[0;32m      1\u001b[0m arcpy.management.CreateVectorTilePackage(pa_map, \n\u001b[0;32m      2\u001b[0m                                          \u001b[1;34mr\"C:\\Users\\Vizuser\\Documents\\ArcGIS\\Projects\\WDPA\\packages\\Protected_areas.vtpk\"\u001b[0m\u001b[1;33m,\u001b[0m\u001b[1;33m\u001b[0m\u001b[1;33m\u001b[0m\u001b[0m\n\u001b[1;32m----> 3\u001b[1;33m                                          \"ONLINE\", None, \"INDEXED\", 295828763.795777, 72223.819286, None, '', '')\n\u001b[0m",
      "\u001b[1;32mC:\\ArcGIS\\Pro\\Resources\\ArcPy\\arcpy\\management.py\u001b[0m in \u001b[0;36mCreateVectorTilePackage\u001b[1;34m(in_map, output_file, service_type, tiling_scheme, tile_structure, min_cached_scale, max_cached_scale, index_polygons, summary, tags)\u001b[0m\n\u001b[0;32m   9233\u001b[0m         \u001b[1;32mreturn\u001b[0m \u001b[0mretval\u001b[0m\u001b[1;33m\u001b[0m\u001b[1;33m\u001b[0m\u001b[0m\n\u001b[0;32m   9234\u001b[0m     \u001b[1;32mexcept\u001b[0m \u001b[0mException\u001b[0m \u001b[1;32mas\u001b[0m \u001b[0me\u001b[0m\u001b[1;33m:\u001b[0m\u001b[1;33m\u001b[0m\u001b[1;33m\u001b[0m\u001b[0m\n\u001b[1;32m-> 9235\u001b[1;33m         \u001b[1;32mraise\u001b[0m \u001b[0me\u001b[0m\u001b[1;33m\u001b[0m\u001b[1;33m\u001b[0m\u001b[0m\n\u001b[0m\u001b[0;32m   9236\u001b[0m \u001b[1;33m\u001b[0m\u001b[0m\n\u001b[0;32m   9237\u001b[0m \u001b[1;33m@\u001b[0m\u001b[0mgptooldoc\u001b[0m\u001b[1;33m(\u001b[0m\u001b[1;34m'ExtractPackage_management'\u001b[0m\u001b[1;33m,\u001b[0m \u001b[1;32mNone\u001b[0m\u001b[1;33m)\u001b[0m\u001b[1;33m\u001b[0m\u001b[1;33m\u001b[0m\u001b[0m\n",
      "\u001b[1;32mC:\\ArcGIS\\Pro\\Resources\\ArcPy\\arcpy\\management.py\u001b[0m in \u001b[0;36mCreateVectorTilePackage\u001b[1;34m(in_map, output_file, service_type, tiling_scheme, tile_structure, min_cached_scale, max_cached_scale, index_polygons, summary, tags)\u001b[0m\n\u001b[0;32m   9230\u001b[0m     \u001b[1;32mfrom\u001b[0m \u001b[0marcpy\u001b[0m\u001b[1;33m.\u001b[0m\u001b[0marcobjects\u001b[0m\u001b[1;33m.\u001b[0m\u001b[0marcobjectconversion\u001b[0m \u001b[1;32mimport\u001b[0m \u001b[0mconvertArcObjectToPythonObject\u001b[0m\u001b[1;33m\u001b[0m\u001b[1;33m\u001b[0m\u001b[0m\n\u001b[0;32m   9231\u001b[0m     \u001b[1;32mtry\u001b[0m\u001b[1;33m:\u001b[0m\u001b[1;33m\u001b[0m\u001b[1;33m\u001b[0m\u001b[0m\n\u001b[1;32m-> 9232\u001b[1;33m         \u001b[0mretval\u001b[0m \u001b[1;33m=\u001b[0m \u001b[0mconvertArcObjectToPythonObject\u001b[0m\u001b[1;33m(\u001b[0m\u001b[0mgp\u001b[0m\u001b[1;33m.\u001b[0m\u001b[0mCreateVectorTilePackage_management\u001b[0m\u001b[1;33m(\u001b[0m\u001b[1;33m*\u001b[0m\u001b[0mgp_fixargs\u001b[0m\u001b[1;33m(\u001b[0m\u001b[1;33m(\u001b[0m\u001b[0min_map\u001b[0m\u001b[1;33m,\u001b[0m \u001b[0moutput_file\u001b[0m\u001b[1;33m,\u001b[0m \u001b[0mservice_type\u001b[0m\u001b[1;33m,\u001b[0m \u001b[0mtiling_scheme\u001b[0m\u001b[1;33m,\u001b[0m \u001b[0mtile_structure\u001b[0m\u001b[1;33m,\u001b[0m \u001b[0mmin_cached_scale\u001b[0m\u001b[1;33m,\u001b[0m \u001b[0mmax_cached_scale\u001b[0m\u001b[1;33m,\u001b[0m \u001b[0mindex_polygons\u001b[0m\u001b[1;33m,\u001b[0m \u001b[0msummary\u001b[0m\u001b[1;33m,\u001b[0m \u001b[0mtags\u001b[0m\u001b[1;33m)\u001b[0m\u001b[1;33m,\u001b[0m \u001b[1;32mTrue\u001b[0m\u001b[1;33m)\u001b[0m\u001b[1;33m)\u001b[0m\u001b[1;33m)\u001b[0m\u001b[1;33m\u001b[0m\u001b[1;33m\u001b[0m\u001b[0m\n\u001b[0m\u001b[0;32m   9233\u001b[0m         \u001b[1;32mreturn\u001b[0m \u001b[0mretval\u001b[0m\u001b[1;33m\u001b[0m\u001b[1;33m\u001b[0m\u001b[0m\n\u001b[0;32m   9234\u001b[0m     \u001b[1;32mexcept\u001b[0m \u001b[0mException\u001b[0m \u001b[1;32mas\u001b[0m \u001b[0me\u001b[0m\u001b[1;33m:\u001b[0m\u001b[1;33m\u001b[0m\u001b[1;33m\u001b[0m\u001b[0m\n",
      "\u001b[1;32mC:\\ArcGIS\\Pro\\Resources\\ArcPy\\arcpy\\geoprocessing\\_base.py\u001b[0m in \u001b[0;36m<lambda>\u001b[1;34m(*args)\u001b[0m\n\u001b[0;32m    504\u001b[0m         \u001b[0mval\u001b[0m \u001b[1;33m=\u001b[0m \u001b[0mgetattr\u001b[0m\u001b[1;33m(\u001b[0m\u001b[0mself\u001b[0m\u001b[1;33m.\u001b[0m\u001b[0m_gp\u001b[0m\u001b[1;33m,\u001b[0m \u001b[0mattr\u001b[0m\u001b[1;33m)\u001b[0m\u001b[1;33m\u001b[0m\u001b[1;33m\u001b[0m\u001b[0m\n\u001b[0;32m    505\u001b[0m         \u001b[1;32mif\u001b[0m \u001b[0mcallable\u001b[0m\u001b[1;33m(\u001b[0m\u001b[0mval\u001b[0m\u001b[1;33m)\u001b[0m\u001b[1;33m:\u001b[0m\u001b[1;33m\u001b[0m\u001b[1;33m\u001b[0m\u001b[0m\n\u001b[1;32m--> 506\u001b[1;33m             \u001b[1;32mreturn\u001b[0m \u001b[1;32mlambda\u001b[0m \u001b[1;33m*\u001b[0m\u001b[0margs\u001b[0m\u001b[1;33m:\u001b[0m \u001b[0mval\u001b[0m\u001b[1;33m(\u001b[0m\u001b[1;33m*\u001b[0m\u001b[0mgp_fixargs\u001b[0m\u001b[1;33m(\u001b[0m\u001b[0margs\u001b[0m\u001b[1;33m,\u001b[0m \u001b[1;32mTrue\u001b[0m\u001b[1;33m)\u001b[0m\u001b[1;33m)\u001b[0m\u001b[1;33m\u001b[0m\u001b[1;33m\u001b[0m\u001b[0m\n\u001b[0m\u001b[0;32m    507\u001b[0m         \u001b[1;32melse\u001b[0m\u001b[1;33m:\u001b[0m\u001b[1;33m\u001b[0m\u001b[1;33m\u001b[0m\u001b[0m\n\u001b[0;32m    508\u001b[0m             \u001b[1;32mreturn\u001b[0m \u001b[0mconvertArcObjectToPythonObject\u001b[0m\u001b[1;33m(\u001b[0m\u001b[0mval\u001b[0m\u001b[1;33m)\u001b[0m\u001b[1;33m\u001b[0m\u001b[1;33m\u001b[0m\u001b[0m\n",
      "\u001b[1;31mExecuteError\u001b[0m: ERROR 001852: Layer type is not supported for vector tile packages.\nFailed to execute (CreateVectorTilePackage).\n"
     ]
    }
   ],
   "source": [
    " arcpy.management.CreateVectorTilePackage(pa_map, \n",
    "                                          r\"C:\\Users\\Vizuser\\Documents\\ArcGIS\\Projects\\WDPA\\packages\\Protected_areas.vtpk\", \n",
    "                                          \"ONLINE\", None, \"INDEXED\", 295828763.795777, 72223.819286, None, '', '')"
   ]
  },
  {
   "cell_type": "code",
   "execution_count": 19,
   "metadata": {},
   "outputs": [
    {
     "ename": "ExecuteError",
     "evalue": "ERROR 001852: Layer type is not supported for vector tile packages.\nFailed to execute (CreateVectorTilePackage).\n",
     "output_type": "error",
     "traceback": [
      "\u001b[1;31m---------------------------------------------------------------------------\u001b[0m",
      "\u001b[1;31mExecuteError\u001b[0m                              Traceback (most recent call last)",
      "\u001b[1;32m<ipython-input-19-4aff493d038d>\u001b[0m in \u001b[0;36m<module>\u001b[1;34m\u001b[0m\n\u001b[0;32m      3\u001b[0m                                          \u001b[0moutput_path\u001b[0m\u001b[1;33m,\u001b[0m\u001b[1;33m\u001b[0m\u001b[1;33m\u001b[0m\u001b[0m\n\u001b[0;32m      4\u001b[0m                                          \u001b[1;34m\"ONLINE\"\u001b[0m\u001b[1;33m,\u001b[0m \u001b[1;32mNone\u001b[0m\u001b[1;33m,\u001b[0m \u001b[1;34m\"INDEXED\"\u001b[0m\u001b[1;33m,\u001b[0m\u001b[1;33m\u001b[0m\u001b[1;33m\u001b[0m\u001b[0m\n\u001b[1;32m----> 5\u001b[1;33m                                          295828763.795777, 72223.819286, None, '', '')\n\u001b[0m",
      "\u001b[1;32mC:\\ArcGIS\\Pro\\Resources\\ArcPy\\arcpy\\management.py\u001b[0m in \u001b[0;36mCreateVectorTilePackage\u001b[1;34m(in_map, output_file, service_type, tiling_scheme, tile_structure, min_cached_scale, max_cached_scale, index_polygons, summary, tags)\u001b[0m\n\u001b[0;32m   9233\u001b[0m         \u001b[1;32mreturn\u001b[0m \u001b[0mretval\u001b[0m\u001b[1;33m\u001b[0m\u001b[1;33m\u001b[0m\u001b[0m\n\u001b[0;32m   9234\u001b[0m     \u001b[1;32mexcept\u001b[0m \u001b[0mException\u001b[0m \u001b[1;32mas\u001b[0m \u001b[0me\u001b[0m\u001b[1;33m:\u001b[0m\u001b[1;33m\u001b[0m\u001b[1;33m\u001b[0m\u001b[0m\n\u001b[1;32m-> 9235\u001b[1;33m         \u001b[1;32mraise\u001b[0m \u001b[0me\u001b[0m\u001b[1;33m\u001b[0m\u001b[1;33m\u001b[0m\u001b[0m\n\u001b[0m\u001b[0;32m   9236\u001b[0m \u001b[1;33m\u001b[0m\u001b[0m\n\u001b[0;32m   9237\u001b[0m \u001b[1;33m@\u001b[0m\u001b[0mgptooldoc\u001b[0m\u001b[1;33m(\u001b[0m\u001b[1;34m'ExtractPackage_management'\u001b[0m\u001b[1;33m,\u001b[0m \u001b[1;32mNone\u001b[0m\u001b[1;33m)\u001b[0m\u001b[1;33m\u001b[0m\u001b[1;33m\u001b[0m\u001b[0m\n",
      "\u001b[1;32mC:\\ArcGIS\\Pro\\Resources\\ArcPy\\arcpy\\management.py\u001b[0m in \u001b[0;36mCreateVectorTilePackage\u001b[1;34m(in_map, output_file, service_type, tiling_scheme, tile_structure, min_cached_scale, max_cached_scale, index_polygons, summary, tags)\u001b[0m\n\u001b[0;32m   9230\u001b[0m     \u001b[1;32mfrom\u001b[0m \u001b[0marcpy\u001b[0m\u001b[1;33m.\u001b[0m\u001b[0marcobjects\u001b[0m\u001b[1;33m.\u001b[0m\u001b[0marcobjectconversion\u001b[0m \u001b[1;32mimport\u001b[0m \u001b[0mconvertArcObjectToPythonObject\u001b[0m\u001b[1;33m\u001b[0m\u001b[1;33m\u001b[0m\u001b[0m\n\u001b[0;32m   9231\u001b[0m     \u001b[1;32mtry\u001b[0m\u001b[1;33m:\u001b[0m\u001b[1;33m\u001b[0m\u001b[1;33m\u001b[0m\u001b[0m\n\u001b[1;32m-> 9232\u001b[1;33m         \u001b[0mretval\u001b[0m \u001b[1;33m=\u001b[0m \u001b[0mconvertArcObjectToPythonObject\u001b[0m\u001b[1;33m(\u001b[0m\u001b[0mgp\u001b[0m\u001b[1;33m.\u001b[0m\u001b[0mCreateVectorTilePackage_management\u001b[0m\u001b[1;33m(\u001b[0m\u001b[1;33m*\u001b[0m\u001b[0mgp_fixargs\u001b[0m\u001b[1;33m(\u001b[0m\u001b[1;33m(\u001b[0m\u001b[0min_map\u001b[0m\u001b[1;33m,\u001b[0m \u001b[0moutput_file\u001b[0m\u001b[1;33m,\u001b[0m \u001b[0mservice_type\u001b[0m\u001b[1;33m,\u001b[0m \u001b[0mtiling_scheme\u001b[0m\u001b[1;33m,\u001b[0m \u001b[0mtile_structure\u001b[0m\u001b[1;33m,\u001b[0m \u001b[0mmin_cached_scale\u001b[0m\u001b[1;33m,\u001b[0m \u001b[0mmax_cached_scale\u001b[0m\u001b[1;33m,\u001b[0m \u001b[0mindex_polygons\u001b[0m\u001b[1;33m,\u001b[0m \u001b[0msummary\u001b[0m\u001b[1;33m,\u001b[0m \u001b[0mtags\u001b[0m\u001b[1;33m)\u001b[0m\u001b[1;33m,\u001b[0m \u001b[1;32mTrue\u001b[0m\u001b[1;33m)\u001b[0m\u001b[1;33m)\u001b[0m\u001b[1;33m)\u001b[0m\u001b[1;33m\u001b[0m\u001b[1;33m\u001b[0m\u001b[0m\n\u001b[0m\u001b[0;32m   9233\u001b[0m         \u001b[1;32mreturn\u001b[0m \u001b[0mretval\u001b[0m\u001b[1;33m\u001b[0m\u001b[1;33m\u001b[0m\u001b[0m\n\u001b[0;32m   9234\u001b[0m     \u001b[1;32mexcept\u001b[0m \u001b[0mException\u001b[0m \u001b[1;32mas\u001b[0m \u001b[0me\u001b[0m\u001b[1;33m:\u001b[0m\u001b[1;33m\u001b[0m\u001b[1;33m\u001b[0m\u001b[0m\n",
      "\u001b[1;32mC:\\ArcGIS\\Pro\\Resources\\ArcPy\\arcpy\\geoprocessing\\_base.py\u001b[0m in \u001b[0;36m<lambda>\u001b[1;34m(*args)\u001b[0m\n\u001b[0;32m    504\u001b[0m         \u001b[0mval\u001b[0m \u001b[1;33m=\u001b[0m \u001b[0mgetattr\u001b[0m\u001b[1;33m(\u001b[0m\u001b[0mself\u001b[0m\u001b[1;33m.\u001b[0m\u001b[0m_gp\u001b[0m\u001b[1;33m,\u001b[0m \u001b[0mattr\u001b[0m\u001b[1;33m)\u001b[0m\u001b[1;33m\u001b[0m\u001b[1;33m\u001b[0m\u001b[0m\n\u001b[0;32m    505\u001b[0m         \u001b[1;32mif\u001b[0m \u001b[0mcallable\u001b[0m\u001b[1;33m(\u001b[0m\u001b[0mval\u001b[0m\u001b[1;33m)\u001b[0m\u001b[1;33m:\u001b[0m\u001b[1;33m\u001b[0m\u001b[1;33m\u001b[0m\u001b[0m\n\u001b[1;32m--> 506\u001b[1;33m             \u001b[1;32mreturn\u001b[0m \u001b[1;32mlambda\u001b[0m \u001b[1;33m*\u001b[0m\u001b[0margs\u001b[0m\u001b[1;33m:\u001b[0m \u001b[0mval\u001b[0m\u001b[1;33m(\u001b[0m\u001b[1;33m*\u001b[0m\u001b[0mgp_fixargs\u001b[0m\u001b[1;33m(\u001b[0m\u001b[0margs\u001b[0m\u001b[1;33m,\u001b[0m \u001b[1;32mTrue\u001b[0m\u001b[1;33m)\u001b[0m\u001b[1;33m)\u001b[0m\u001b[1;33m\u001b[0m\u001b[1;33m\u001b[0m\u001b[0m\n\u001b[0m\u001b[0;32m    507\u001b[0m         \u001b[1;32melse\u001b[0m\u001b[1;33m:\u001b[0m\u001b[1;33m\u001b[0m\u001b[1;33m\u001b[0m\u001b[0m\n\u001b[0;32m    508\u001b[0m             \u001b[1;32mreturn\u001b[0m \u001b[0mconvertArcObjectToPythonObject\u001b[0m\u001b[1;33m(\u001b[0m\u001b[0mval\u001b[0m\u001b[1;33m)\u001b[0m\u001b[1;33m\u001b[0m\u001b[1;33m\u001b[0m\u001b[0m\n",
      "\u001b[1;31mExecuteError\u001b[0m: ERROR 001852: Layer type is not supported for vector tile packages.\nFailed to execute (CreateVectorTilePackage).\n"
     ]
    }
   ],
   "source": [
    "output_path = os.path.join(\"packages\", pa_map.name + '.vtpk')\n",
    "arcpy.CreateVectorTilePackage_management(pa_map, \n",
    "                                         output_path, \n",
    "                                         \"ONLINE\", None, \"INDEXED\", \n",
    "                                         295828763.795777, 72223.819286, None, '', '')"
   ]
  }
 ],
 "metadata": {
  "kernelspec": {
   "display_name": "Python 3",
   "language": "python",
   "name": "python3"
  },
  "language_info": {
   "codemirror_mode": {
    "name": "ipython",
    "version": 3
   },
   "file_extension": ".py",
   "mimetype": "text/x-python",
   "name": "python",
   "nbconvert_exporter": "python",
   "pygments_lexer": "ipython3",
   "version": "3.6.9"
  }
 },
 "nbformat": 4,
 "nbformat_minor": 2
}
