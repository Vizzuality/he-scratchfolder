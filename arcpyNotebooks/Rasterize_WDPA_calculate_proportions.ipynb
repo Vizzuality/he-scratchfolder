{
 "cells": [
  {
   "cell_type": "code",
   "execution_count": 25,
   "metadata": {},
   "outputs": [],
   "source": [
    "import arcpy\n",
    "import datetime\n",
    "import arcgis\n",
    "from arcgis.gis import GIS\n",
    "from arcpy.sa import *"
   ]
  },
  {
   "cell_type": "code",
   "execution_count": 2,
   "metadata": {},
   "outputs": [],
   "source": [
    "tmp = []\n",
    "with open(\".env\") as f:\n",
    "    for line in f:\n",
    "        tmp.append(line)\n",
    "aol_password = tmp[0].split(\"=\")[1].split(\"\\n\")[0]\n",
    "aol_username = tmp[1].split(\"=\")[1].split(\"\\n\")[0]"
   ]
  },
  {
   "cell_type": "code",
   "execution_count": 3,
   "metadata": {},
   "outputs": [],
   "source": [
    "gis = GIS(\"https://eowilson.maps.arcgis.com\", aol_username, aol_password)"
   ]
  },
  {
   "cell_type": "code",
   "execution_count": 121,
   "metadata": {},
   "outputs": [],
   "source": [
    "#arcpy.env.parallelProcessingFactor = \"80%\"\n",
    "arcpy.env.workspace = \"C:\\\\Users\\\\Vizuser\\\\Documents\\\\ArcGIS\\\\Projects\\\\WDPA\\\\WDPA.gdb\"\n",
    "arcpy.env.overwriteOutput = True"
   ]
  },
  {
   "cell_type": "code",
   "execution_count": 9,
   "metadata": {},
   "outputs": [],
   "source": [
    "land_grid = \"clipped_land_grid_55km_cea\""
   ]
  },
  {
   "cell_type": "code",
   "execution_count": 19,
   "metadata": {},
   "outputs": [
    {
     "name": "stdout",
     "output_type": "stream",
     "text": [
      "OBJECTID of type OID\n",
      "Shape of type Geometry\n",
      "ID of type Double\n",
      "AREA_KM2 of type Double\n",
      "PROP_LAND of type Double\n",
      "Rich_amph of type Integer\n",
      "Rar_amph of type Integer\n",
      "Rich_bird of type Integer\n",
      "Rar_bird of type Integer\n",
      "Rich_mamm of type Integer\n",
      "Rar_mamm of type Integer\n",
      "Rich_rept of type Integer\n",
      "Rar_rept of type Integer\n",
      "Rich_cact of type Integer\n",
      "Rar_cact of type Integer\n",
      "Rich_coni of type Integer\n",
      "Rar_coni of type Integer\n",
      "Rich_all of type Integer\n",
      "Rar_all of type Integer\n",
      "Shape__Area of type Double\n",
      "Shape__Length of type Double\n",
      "CELL_ID of type Integer\n",
      "Shape_Length of type Double\n",
      "Shape_Area of type Double\n"
     ]
    }
   ],
   "source": [
    "for field in arcpy.ListFields(land_grid):\n",
    "    print(f\"{field.name} of type {field.type}\")"
   ]
  },
  {
   "cell_type": "code",
   "execution_count": 88,
   "metadata": {},
   "outputs": [],
   "source": [
    "raster_cell = \"C:\\\\Users\\\\Vizuser\\\\Documents\\\\ArcGIS\\\\Projects\\\\Human Pressure\\\\gHM_extended_maskGADM36_cea_20191127.tif\""
   ]
  },
  {
   "cell_type": "code",
   "execution_count": 14,
   "metadata": {},
   "outputs": [
    {
     "data": {
      "text/plain": [
       "<Result 'C:\\\\Users\\\\Vizuser\\\\Documents\\\\ArcGIS\\\\Projects\\\\WDPA\\\\WDPA.gdb\\\\clipped_land_grid_55km_cea_raster'>"
      ]
     },
     "execution_count": 14,
     "metadata": {},
     "output_type": "execute_result"
    }
   ],
   "source": [
    "start = datetime.datetime.now()\n",
    "arcpy.conversion.FeatureToRaster(land_grid, \n",
    "                                 \"ID\", \n",
    "                                 f\"{land_grid}_raster\", \n",
    "                                 raster_cell)\n",
    "end = datetime.datetime.now() - start\n",
    "print(f\"Finished in {end}\")"
   ]
  },
  {
   "cell_type": "code",
   "execution_count": 20,
   "metadata": {},
   "outputs": [
    {
     "name": "stdout",
     "output_type": "stream",
     "text": [
      "Finished in 0:01:44.221876\n"
     ]
    }
   ],
   "source": [
    "start = datetime.datetime.now()\n",
    "arcpy.sa.ZonalStatisticsAsTable(land_grid, \n",
    "                                \"CELL_ID\", \n",
    "                                f\"{land_grid}_raster\", \n",
    "                                f\"{land_grid}_raster_ZSaT\", \n",
    "                                \"DATA\", \"SUM\")\n",
    "end = datetime.datetime.now() - start\n",
    "print(f\"Finished in {end}\")"
   ]
  },
  {
   "cell_type": "code",
   "execution_count": 56,
   "metadata": {},
   "outputs": [],
   "source": [
    "arcpy.env.extent = \"MAXOF\""
   ]
  },
  {
   "cell_type": "code",
   "execution_count": 32,
   "metadata": {},
   "outputs": [],
   "source": [
    "arcpy.env.snapRaster = f\"{land_grid}_raster_ZSaT\""
   ]
  },
  {
   "cell_type": "code",
   "execution_count": 33,
   "metadata": {},
   "outputs": [],
   "source": [
    "arcpy.env.cellSize = f\"{land_grid}_raster_ZSaT\""
   ]
  },
  {
   "cell_type": "code",
   "execution_count": 21,
   "metadata": {},
   "outputs": [],
   "source": [
    "comm_prot_raster = \"wdpa_raisg_comm_20Jan_cea_raster\"\n",
    "not_comm_prot_raster = \"wdpa_not_comm_20Jan_cea_raster\""
   ]
  },
  {
   "cell_type": "code",
   "execution_count": 41,
   "metadata": {},
   "outputs": [],
   "source": [
    "all_prot_raster_name = \"prot_all_raster_clipped\""
   ]
  },
  {
   "cell_type": "code",
   "execution_count": 36,
   "metadata": {},
   "outputs": [],
   "source": [
    "all_prot_raster = Con(IsNull(Raster(not_comm_prot_raster)), 0, 1) + Con(IsNull(Raster(comm_prot_raster)), 0, 1) "
   ]
  },
  {
   "cell_type": "code",
   "execution_count": 37,
   "metadata": {},
   "outputs": [],
   "source": [
    "all_prot_raster.save(all_prot_raster_name)"
   ]
  },
  {
   "cell_type": "code",
   "execution_count": 40,
   "metadata": {},
   "outputs": [
    {
     "name": "stdout",
     "output_type": "stream",
     "text": [
      "Finished in 0:01:32.079852\n"
     ]
    }
   ],
   "source": [
    "start = datetime.datetime.now()\n",
    "out_reclass_raster = arcpy.sa.Reclassify(all_prot_raster_name, \"Value\", \"0 NODATA;1 1;2 2\", \"DATA\"); \n",
    "out_reclass_raster.save(f\"{all_prot_raster_name}_reclass\")\n",
    "end = datetime.datetime.now() - start\n",
    "print(f\"Finished in {end}\")"
   ]
  },
  {
   "cell_type": "markdown",
   "metadata": {},
   "source": [
    "# because we are working with the land cells, the protected rasters have to be masked using the grid raster"
   ]
  },
  {
   "cell_type": "code",
   "execution_count": 57,
   "metadata": {},
   "outputs": [],
   "source": [
    "prot_rasters = [f\"{all_prot_raster_name}_reclass\", comm_prot_raster, not_comm_prot_raster]"
   ]
  },
  {
   "cell_type": "code",
   "execution_count": 58,
   "metadata": {},
   "outputs": [
    {
     "name": "stdout",
     "output_type": "stream",
     "text": [
      "prot_all_raster_clipped_reclass finished in 0:01:32.593411\n",
      "wdpa_raisg_comm_20Jan_cea_raster finished in 0:01:17.158638\n",
      "wdpa_not_comm_20Jan_cea_raster finished in 0:02:05.142429\n"
     ]
    }
   ],
   "source": [
    "for r in prot_rasters:\n",
    "    start = datetime.datetime.now()\n",
    "    out_raster = arcpy.sa.ExtractByMask(r, f\"{land_grid}_raster\")\n",
    "    out_raster.save(f\"{r}_mask\")\n",
    "    end = datetime.datetime.now() - start\n",
    "    print(f\"{r} finished in {end}\")"
   ]
  },
  {
   "cell_type": "code",
   "execution_count": 61,
   "metadata": {},
   "outputs": [],
   "source": [
    "prot_mask_rasters = []\n",
    "for r in prot_rasters:    \n",
    "    prot_mask_rasters.append(f\"{r}_mask\") "
   ]
  },
  {
   "cell_type": "code",
   "execution_count": 62,
   "metadata": {},
   "outputs": [
    {
     "data": {
      "text/plain": [
       "['prot_all_raster_clipped_reclass_mask',\n",
       " 'wdpa_raisg_comm_20Jan_cea_raster_mask',\n",
       " 'wdpa_not_comm_20Jan_cea_raster_mask']"
      ]
     },
     "execution_count": 62,
     "metadata": {},
     "output_type": "execute_result"
    }
   ],
   "source": [
    "prot_mask_rasters"
   ]
  },
  {
   "cell_type": "code",
   "execution_count": 59,
   "metadata": {},
   "outputs": [],
   "source": [
    "comm_prot_ZSaT = f\"comm_prot_raster_clipped_ZSaT\"\n",
    "not_comm_prot_ZSaT = f\"not_comm_prot_raster_clipped_ZSaT\"\n",
    "all_prot_ZSaT = f\"all_prot_raster_clipped_ZSaT\""
   ]
  },
  {
   "cell_type": "code",
   "execution_count": 117,
   "metadata": {},
   "outputs": [],
   "source": [
    "zsa_tables = [all_prot_ZSaT, comm_prot_ZSaT, not_comm_prot_ZSaT]"
   ]
  },
  {
   "cell_type": "code",
   "execution_count": 118,
   "metadata": {},
   "outputs": [],
   "source": [
    "raster_table_dict = dict(zip(prot_mask_rasters, zsa_tables))"
   ]
  },
  {
   "cell_type": "code",
   "execution_count": 119,
   "metadata": {},
   "outputs": [
    {
     "data": {
      "text/plain": [
       "{'prot_all_raster_clipped_reclass_mask': 'all_prot_raster_clipped_ZSaT',\n",
       " 'wdpa_raisg_comm_20Jan_cea_raster_mask': 'comm_prot_raster_clipped_ZSaT',\n",
       " 'wdpa_not_comm_20Jan_cea_raster_mask': 'not_comm_prot_raster_clipped_ZSaT'}"
      ]
     },
     "execution_count": 119,
     "metadata": {},
     "output_type": "execute_result"
    }
   ],
   "source": [
    "raster_table_dict"
   ]
  },
  {
   "cell_type": "code",
   "execution_count": 120,
   "metadata": {},
   "outputs": [
    {
     "name": "stdout",
     "output_type": "stream",
     "text": [
      "all_prot_raster_clipped_ZSaT is the table and prot_all_raster_clipped_reclass_mask is the masked raster\n",
      "comm_prot_raster_clipped_ZSaT is the table and wdpa_raisg_comm_20Jan_cea_raster_mask is the masked raster\n",
      "not_comm_prot_raster_clipped_ZSaT is the table and wdpa_not_comm_20Jan_cea_raster_mask is the masked raster\n"
     ]
    }
   ],
   "source": [
    "for r in raster_table_dict:\n",
    "    print(f\"{raster_table_dict[r]} is the table and {r} is the masked raster\")"
   ]
  },
  {
   "cell_type": "code",
   "execution_count": 122,
   "metadata": {},
   "outputs": [
    {
     "name": "stdout",
     "output_type": "stream",
     "text": [
      "Finished in 0:01:49.927671\n",
      "Finished in 0:01:49.345450\n",
      "Finished in 0:01:53.275861\n"
     ]
    }
   ],
   "source": [
    "for r in raster_table_dict:\n",
    "    start = datetime.datetime.now()\n",
    "    arcpy.sa.ZonalStatisticsAsTable(land_grid, \n",
    "                                \"CELL_ID\", \n",
    "                                r, \n",
    "                                raster_table_dict[r], \n",
    "                                \"DATA\", \"SUM\")\n",
    "    end = datetime.datetime.now() - start\n",
    "    print(f\"Finished in {end}\")"
   ]
  },
  {
   "cell_type": "markdown",
   "metadata": {},
   "source": [
    "## join field for the ZSaT, rename columns, make null as 0 and calculate proportion"
   ]
  },
  {
   "cell_type": "code",
   "execution_count": 71,
   "metadata": {},
   "outputs": [],
   "source": [
    "land_grid_ZSaT = f\"{land_grid}_raster_ZSaT\""
   ]
  },
  {
   "cell_type": "code",
   "execution_count": 141,
   "metadata": {},
   "outputs": [
    {
     "data": {
      "text/plain": [
       "'clipped_land_grid_55km_cea_raster_ZSaT'"
      ]
     },
     "execution_count": 141,
     "metadata": {},
     "output_type": "execute_result"
    }
   ],
   "source": [
    "land_grid_ZSaT"
   ]
  },
  {
   "cell_type": "code",
   "execution_count": 123,
   "metadata": {},
   "outputs": [
    {
     "data": {
      "text/plain": [
       "['all_prot_raster_clipped_ZSaT',\n",
       " 'comm_prot_raster_clipped_ZSaT',\n",
       " 'not_comm_prot_raster_clipped_ZSaT']"
      ]
     },
     "execution_count": 123,
     "metadata": {},
     "output_type": "execute_result"
    }
   ],
   "source": [
    "zsa_tables"
   ]
  },
  {
   "cell_type": "code",
   "execution_count": 147,
   "metadata": {},
   "outputs": [
    {
     "name": "stdout",
     "output_type": "stream",
     "text": [
      "all_prot_raster_clipped_ZSaT finished in 0:00:08.007377\n",
      "comm_prot_raster_clipped_ZSaT finished in 0:00:04.012319\n",
      "not_comm_prot_raster_clipped_ZSaT finished in 0:00:07.983380\n"
     ]
    }
   ],
   "source": [
    "ZSaTGrid = land_grid_ZSaT\n",
    "for tbl in zsa_tables:\n",
    "    pos = len(arcpy.ListFields(ZSaTGrid))\n",
    "    start = datetime.datetime.now()\n",
    "    arcpy.management.JoinField(ZSaTGrid, \"CELL_ID\", tbl, \"CELL_ID\", \"COUNT\")\n",
    "    prot_class=tbl.split(\"_r\")[0]\n",
    "    newField_name = f\"COUNT_{prot_class}\" \n",
    "    #print(newField_name)\n",
    "    oldField_name = arcpy.ListFields(ZSaTGrid)[pos].name \n",
    "    arcpy.AlterField_management(ZSaTGrid, oldField_name, newField_name, newField_name)\n",
    "    end = datetime.datetime.now() - start\n",
    "    print(f\"{tbl} finished in {end}\")"
   ]
  },
  {
   "cell_type": "code",
   "execution_count": 148,
   "metadata": {},
   "outputs": [
    {
     "name": "stdout",
     "output_type": "stream",
     "text": [
      "OBJECTID of type OID\n",
      "CELL_ID of type Integer\n",
      "COUNT of type Integer\n",
      "AREA of type Double\n",
      "SUM of type Double\n",
      "COUNT_all_prot of type Integer\n",
      "COUNT_comm_prot of type Integer\n",
      "COUNT_not_comm_prot of type Integer\n"
     ]
    }
   ],
   "source": [
    "for field in arcpy.ListFields(ZSaTGrid):\n",
    "    print(f\"{field.name} of type {field.type}\")"
   ]
  },
  {
   "cell_type": "code",
   "execution_count": 149,
   "metadata": {},
   "outputs": [],
   "source": [
    "fieldObs = arcpy.ListFields(ZSaTGrid)  \n",
    "fieldNames = []\n",
    "for field in fieldObs:\n",
    "    fieldNames.append(field.name)\n",
    "del fieldObs\n",
    "fieldCount = len(fieldNames)"
   ]
  },
  {
   "cell_type": "code",
   "execution_count": 150,
   "metadata": {},
   "outputs": [
    {
     "name": "stdout",
     "output_type": "stream",
     "text": [
      "Finished in 0:00:07.973383\n"
     ]
    }
   ],
   "source": [
    "start = datetime.datetime.now()\n",
    "with arcpy.da.UpdateCursor(ZSaTGrid, fieldNames) as curU:  \n",
    "    for row in curU:  \n",
    "        rowU = row  \n",
    "        for field in range(fieldCount):  \n",
    "            if rowU[field] == None:  \n",
    "                rowU[field] = \"0\"  \n",
    "        curU.updateRow(rowU)\n",
    "del curU\n",
    "end = datetime.datetime.now() - start\n",
    "print(f\"Finished in {end}\")"
   ]
  },
  {
   "cell_type": "code",
   "execution_count": 151,
   "metadata": {},
   "outputs": [
    {
     "name": "stdout",
     "output_type": "stream",
     "text": [
      "all_prot finished in 0:00:33.379596\n",
      "comm_prot finished in 0:00:34.759654\n",
      "not_comm_prot finished in 0:00:31.911501\n"
     ]
    }
   ],
   "source": [
    "for tbl in zsa_tables:\n",
    "    prot_class=tbl.split(\"_r\")[0]\n",
    "    prop_name = f\"prop_{prot_class}\"\n",
    "    start = datetime.datetime.now()\n",
    "    arcpy.management.AddField(ZSaTGrid, \n",
    "                          prop_name, \n",
    "                          \"DOUBLE\", \n",
    "                          None, None, None, \n",
    "                          prop_name, \"NULLABLE\", \"NON_REQUIRED\", '')\n",
    "    COUNT_name = f\"COUNT_{prot_class}\" \n",
    "    py_formula = f\"(!{COUNT_name}! / !COUNT!) * 100\"\n",
    "    arcpy.management.CalculateField(ZSaTGrid, \n",
    "                                prop_name, \n",
    "                                py_formula, \n",
    "                                \"PYTHON3\", '') \n",
    "    end = datetime.datetime.now() - start\n",
    "    print(f\"{prot_class} finished in {end}\")"
   ]
  },
  {
   "cell_type": "code",
   "execution_count": 152,
   "metadata": {},
   "outputs": [],
   "source": [
    "fieldNames = []\n",
    "for tbl in zsa_tables:\n",
    "    prot_class=tbl.split(\"_r\")[0]\n",
    "    prop_name = f\"prop_{prot_class}\"\n",
    "    fieldNames.append(prop_name)\n",
    "fieldCount = len(fieldNames)"
   ]
  },
  {
   "cell_type": "code",
   "execution_count": 153,
   "metadata": {},
   "outputs": [
    {
     "data": {
      "text/plain": [
       "['prop_all_prot', 'prop_comm_prot', 'prop_not_comm_prot']"
      ]
     },
     "execution_count": 153,
     "metadata": {},
     "output_type": "execute_result"
    }
   ],
   "source": [
    "fieldNames"
   ]
  },
  {
   "cell_type": "code",
   "execution_count": 154,
   "metadata": {},
   "outputs": [
    {
     "name": "stdout",
     "output_type": "stream",
     "text": [
      "OBJECTID\n",
      "CELL_ID\n",
      "COUNT\n",
      "AREA\n",
      "SUM\n",
      "COUNT_all_prot\n",
      "COUNT_comm_prot\n",
      "COUNT_not_comm_prot\n",
      "prop_all_prot\n",
      "prop_comm_prot\n",
      "prop_not_comm_prot\n"
     ]
    }
   ],
   "source": [
    "for field in arcpy.ListFields(ZSaTGrid):\n",
    "    print(field.name)"
   ]
  },
  {
   "cell_type": "code",
   "execution_count": 155,
   "metadata": {},
   "outputs": [
    {
     "name": "stdout",
     "output_type": "stream",
     "text": [
      "Finished in 0:00:05.518259\n"
     ]
    }
   ],
   "source": [
    "start = datetime.datetime.now()\n",
    "with arcpy.da.UpdateCursor(ZSaTGrid, fieldNames) as curU:  \n",
    "    for row in curU:  \n",
    "        rowU = row  \n",
    "        for field in range(fieldCount):  \n",
    "            if rowU[field] > 100:  \n",
    "                rowU[field] = \"100\"  \n",
    "        curU.updateRow(rowU)\n",
    "del curU\n",
    "end = datetime.datetime.now() - start\n",
    "print(f\"Finished in {end}\")"
   ]
  },
  {
   "cell_type": "code",
   "execution_count": 156,
   "metadata": {},
   "outputs": [],
   "source": [
    "field_names_dict = dict(zip(fieldNames, [\"all_prot_prop\",\"comm_prot_prop\",\"not_comm_prot_prop\"]))"
   ]
  },
  {
   "cell_type": "code",
   "execution_count": 157,
   "metadata": {},
   "outputs": [
    {
     "data": {
      "text/plain": [
       "{'prop_all_prot': 'all_prot_prop',\n",
       " 'prop_comm_prot': 'comm_prot_prop',\n",
       " 'prop_not_comm_prot': 'not_comm_prot_prop'}"
      ]
     },
     "execution_count": 157,
     "metadata": {},
     "output_type": "execute_result"
    }
   ],
   "source": [
    "field_names_dict"
   ]
  },
  {
   "cell_type": "code",
   "execution_count": 158,
   "metadata": {},
   "outputs": [],
   "source": [
    "for old in field_names_dict:\n",
    "    newField_name = field_names_dict[old]\n",
    "    #print(newField_name)\n",
    "    oldField_name =  old\n",
    "    arcpy.AlterField_management(ZSaTGrid, oldField_name, newField_name, newField_name)\n",
    "    #print(f\"{oldField_name} is the old name, {newField_name} is the new one\")"
   ]
  },
  {
   "cell_type": "code",
   "execution_count": 159,
   "metadata": {},
   "outputs": [
    {
     "data": {
      "text/plain": [
       "'clipped_land_grid_55km_cea_raster_ZSaT'"
      ]
     },
     "execution_count": 159,
     "metadata": {},
     "output_type": "execute_result"
    }
   ],
   "source": [
    "ZSaTGrid"
   ]
  },
  {
   "cell_type": "code",
   "execution_count": null,
   "metadata": {},
   "outputs": [],
   "source": [
    "#arcpy.management.AddJoin(\"clipped_land_grid_55km_cea\", \n",
    "                         \"CELL_ID\", \n",
    "                         \"clipped_land_grid_55km_cea_raster_ZSaT\", \n",
    "                         \"CELL_ID\", \"KEEP_ALL\")"
   ]
  },
  {
   "cell_type": "code",
   "execution_count": null,
   "metadata": {},
   "outputs": [],
   "source": [
    "#arcpy.conversion.FeatureClassToFeatureClass(\"clipped_land_grid_55km_cea\", \n",
    "                                            r\"C:\\Users\\Vizuser\\Documents\\ArcGIS\\Projects\\WDPA\\WDPA.gdb\", \n",
    "                                            \"clipped_land_grid_55km_prot_prop\", '', \n",
    "                                            'ID \"ID\" true true false 8 Double 0 0,First,#,clipped_land_grid_55km_cea,clipped_land_grid_55km_cea.ID,-1,-1;all_prot_prop \"all_prot_prop\" true true false 8 Double 0 0,First,#,clipped_land_grid_55km_cea,clipped_land_grid_55km_cea_raster_ZSaT.all_prot_prop,-1,-1;comm_prot_prop \"comm_prot_prop\" true true false 8 Double 0 0,First,#,clipped_land_grid_55km_cea,clipped_land_grid_55km_cea_raster_ZSaT.comm_prot_prop,-1,-1;not_comm_prot_prop \"not_comm_prot_prop\" true true false 8 Double 0 0,First,#,clipped_land_grid_55km_cea,clipped_land_grid_55km_cea_raster_ZSaT.not_comm_prot_prop,-1,-1', \n",
    "                                            '')"
   ]
  },
  {
   "cell_type": "markdown",
   "metadata": {},
   "source": [
    "# marine grid"
   ]
  },
  {
   "cell_type": "code",
   "execution_count": 160,
   "metadata": {},
   "outputs": [],
   "source": [
    "marine_grid_raster = \"marine_grid_raster\""
   ]
  },
  {
   "cell_type": "code",
   "execution_count": 161,
   "metadata": {},
   "outputs": [],
   "source": [
    "marine_grid = \"marine_grid_cea\""
   ]
  },
  {
   "cell_type": "code",
   "execution_count": 162,
   "metadata": {},
   "outputs": [],
   "source": [
    "arcpy.env.snapRaster = marine_grid_raster"
   ]
  },
  {
   "cell_type": "code",
   "execution_count": 163,
   "metadata": {},
   "outputs": [],
   "source": [
    "arcpy.env.extent = \"MAXOF\""
   ]
  },
  {
   "cell_type": "code",
   "execution_count": 164,
   "metadata": {},
   "outputs": [],
   "source": [
    "arcpy.env.cellSize = marine_grid_raster"
   ]
  },
  {
   "cell_type": "code",
   "execution_count": 165,
   "metadata": {},
   "outputs": [
    {
     "name": "stdout",
     "output_type": "stream",
     "text": [
      "OBJECTID of type OID\n",
      "Shape of type Geometry\n",
      "CELL_ID of type String\n",
      "PROP_LAND of type Double\n",
      "ISISLAND of type Double\n",
      "AGRICULTURE of type Double\n",
      "URBAN of type Double\n",
      "RAINFED of type Double\n",
      "AVE_RSR_PC of type Double\n",
      "SR_PC of type Double\n",
      "FOCAL_SPP of type String\n",
      "AREA_KM2 of type Double\n",
      "Shape_Length of type Double\n",
      "Shape_Area of type Double\n"
     ]
    }
   ],
   "source": [
    "for field in arcpy.ListFields(marine_grid):\n",
    "    print(f\"{field.name} of type {field.type}\")"
   ]
  },
  {
   "cell_type": "code",
   "execution_count": 112,
   "metadata": {},
   "outputs": [
    {
     "name": "stdout",
     "output_type": "stream",
     "text": [
      "Finished in 0:03:04.972732\n"
     ]
    }
   ],
   "source": [
    "start = datetime.datetime.now()\n",
    "arcpy.sa.ZonalStatisticsAsTable(marine_grid, \n",
    "                                \"CELL_ID\", \n",
    "                                marine_grid_raster, \n",
    "                                f\"{marine_grid}_raster_ZSaT\", \n",
    "                                \"DATA\", \"SUM\")\n",
    "end = datetime.datetime.now() - start\n",
    "print(f\"Finished in {end}\")"
   ]
  },
  {
   "cell_type": "markdown",
   "metadata": {},
   "source": [
    "## masking the protected rasters to marine"
   ]
  },
  {
   "cell_type": "code",
   "execution_count": 113,
   "metadata": {},
   "outputs": [],
   "source": [
    "prot_rasters = [f\"{all_prot_raster_name}_reclass\", comm_prot_raster, not_comm_prot_raster]"
   ]
  },
  {
   "cell_type": "code",
   "execution_count": 114,
   "metadata": {},
   "outputs": [
    {
     "name": "stdout",
     "output_type": "stream",
     "text": [
      "prot_all_raster_clipped_reclass finished in 0:01:17.041520\n",
      "wdpa_raisg_comm_20Jan_cea_raster finished in 0:01:16.838839\n",
      "wdpa_not_comm_20Jan_cea_raster finished in 0:01:47.865899\n"
     ]
    }
   ],
   "source": [
    "for r in prot_rasters:\n",
    "    start = datetime.datetime.now()\n",
    "    out_raster = arcpy.sa.ExtractByMask(r, marine_grid_raster)\n",
    "    out_raster.save(f\"{r}_marine_mask\")\n",
    "    end = datetime.datetime.now() - start\n",
    "    print(f\"{r} finished in {end}\")"
   ]
  },
  {
   "cell_type": "code",
   "execution_count": 115,
   "metadata": {},
   "outputs": [],
   "source": [
    "prot_marine_mask_rasters = []\n",
    "for r in prot_rasters:    \n",
    "    prot_marine_mask_rasters.append(f\"{r}_marine_mask\") "
   ]
  },
  {
   "cell_type": "code",
   "execution_count": 166,
   "metadata": {},
   "outputs": [
    {
     "data": {
      "text/plain": [
       "['prot_all_raster_clipped_reclass_marine_mask',\n",
       " 'wdpa_raisg_comm_20Jan_cea_raster_marine_mask',\n",
       " 'wdpa_not_comm_20Jan_cea_raster_marine_mask']"
      ]
     },
     "execution_count": 166,
     "metadata": {},
     "output_type": "execute_result"
    }
   ],
   "source": [
    "prot_marine_mask_rasters"
   ]
  },
  {
   "cell_type": "code",
   "execution_count": 167,
   "metadata": {},
   "outputs": [],
   "source": [
    "comm_prot_marine_ZSaT = f\"comm_prot_marine_raster_clipped_ZSaT\"\n",
    "not_comm_prot_marine_ZSaT = f\"not_comm_prot_marine_raster_clipped_ZSaT\"\n",
    "all_prot_marine_ZSaT = f\"all_prot_marine_raster_clipped_ZSaT\""
   ]
  },
  {
   "cell_type": "code",
   "execution_count": 169,
   "metadata": {},
   "outputs": [],
   "source": [
    "zsa_marine_tables = [all_prot_marine_ZSaT, comm_prot_marine_ZSaT, not_comm_prot_marine_ZSaT ]"
   ]
  },
  {
   "cell_type": "code",
   "execution_count": 170,
   "metadata": {},
   "outputs": [],
   "source": [
    "marine_raster_table_dict = dict(zip(prot_marine_mask_rasters, zsa_marine_tables))"
   ]
  },
  {
   "cell_type": "code",
   "execution_count": 172,
   "metadata": {},
   "outputs": [
    {
     "data": {
      "text/plain": [
       "{'prot_all_raster_clipped_reclass_marine_mask': 'all_prot_marine_raster_clipped_ZSaT',\n",
       " 'wdpa_raisg_comm_20Jan_cea_raster_marine_mask': 'comm_prot_marine_raster_clipped_ZSaT',\n",
       " 'wdpa_not_comm_20Jan_cea_raster_marine_mask': 'not_comm_prot_marine_raster_clipped_ZSaT'}"
      ]
     },
     "execution_count": 172,
     "metadata": {},
     "output_type": "execute_result"
    }
   ],
   "source": [
    "marine_raster_table_dict"
   ]
  },
  {
   "cell_type": "code",
   "execution_count": 173,
   "metadata": {},
   "outputs": [
    {
     "name": "stdout",
     "output_type": "stream",
     "text": [
      "Finished in 0:03:00.912201\n",
      "Finished in 0:02:57.190449\n",
      "Finished in 0:03:00.052961\n"
     ]
    }
   ],
   "source": [
    "for r in marine_raster_table_dict:\n",
    "    start = datetime.datetime.now()\n",
    "    arcpy.sa.ZonalStatisticsAsTable(marine_grid, \n",
    "                                \"CELL_ID\", \n",
    "                                r, \n",
    "                                marine_raster_table_dict[r], \n",
    "                                \"DATA\", \"SUM\")\n",
    "    end = datetime.datetime.now() - start\n",
    "    print(f\"Finished in {end}\")"
   ]
  },
  {
   "cell_type": "markdown",
   "metadata": {},
   "source": [
    "## join field for the ZSaT, rename columns, make null as 0 and calculate proportion"
   ]
  },
  {
   "cell_type": "code",
   "execution_count": 174,
   "metadata": {},
   "outputs": [],
   "source": [
    "marine_grid_ZSaT = f\"{marine_grid}_raster_ZSaT\""
   ]
  },
  {
   "cell_type": "code",
   "execution_count": 175,
   "metadata": {},
   "outputs": [
    {
     "data": {
      "text/plain": [
       "['all_prot_marine_raster_clipped_ZSaT',\n",
       " 'comm_prot_marine_raster_clipped_ZSaT',\n",
       " 'not_comm_prot_marine_raster_clipped_ZSaT']"
      ]
     },
     "execution_count": 175,
     "metadata": {},
     "output_type": "execute_result"
    }
   ],
   "source": [
    "zsa_marine_tables"
   ]
  },
  {
   "cell_type": "code",
   "execution_count": 177,
   "metadata": {},
   "outputs": [
    {
     "name": "stdout",
     "output_type": "stream",
     "text": [
      "all_prot_marine_raster_clipped_ZSaT finished in 0:00:09.482450\n",
      "comm_prot_marine_raster_clipped_ZSaT finished in 0:00:06.217860\n",
      "not_comm_prot_marine_raster_clipped_ZSaT finished in 0:00:10.240486\n"
     ]
    }
   ],
   "source": [
    "ZSaTGrid = marine_grid_ZSaT\n",
    "for tbl in zsa_marine_tables:\n",
    "    pos = len(arcpy.ListFields(ZSaTGrid))\n",
    "    start = datetime.datetime.now()\n",
    "    arcpy.management.JoinField(ZSaTGrid, \"CELL_ID\", tbl, \"CELL_ID\", \"COUNT\")\n",
    "    prot_class=tbl.split(\"_m\")[0]\n",
    "    newField_name = f\"COUNT_{prot_class}\" \n",
    "    #print(newField_name)\n",
    "    oldField_name = arcpy.ListFields(ZSaTGrid)[pos].name \n",
    "    arcpy.AlterField_management(ZSaTGrid, oldField_name, newField_name, newField_name)\n",
    "    end = datetime.datetime.now() - start\n",
    "    print(f\"{tbl} finished in {end}\")"
   ]
  },
  {
   "cell_type": "code",
   "execution_count": 178,
   "metadata": {},
   "outputs": [
    {
     "name": "stdout",
     "output_type": "stream",
     "text": [
      "OBJECTID of type OID\n",
      "CELL_ID of type String\n",
      "ZONE_CODE of type Integer\n",
      "COUNT of type Integer\n",
      "AREA of type Double\n",
      "SUM of type Double\n",
      "COUNT_all_prot of type Integer\n",
      "COUNT_comm_prot of type Integer\n",
      "COUNT_not_comm_prot of type Integer\n"
     ]
    }
   ],
   "source": [
    "for field in arcpy.ListFields(ZSaTGrid):\n",
    "    print(f\"{field.name} of type {field.type}\")"
   ]
  },
  {
   "cell_type": "code",
   "execution_count": 179,
   "metadata": {},
   "outputs": [],
   "source": [
    "fieldObs = arcpy.ListFields(ZSaTGrid)  \n",
    "fieldNames = []\n",
    "for field in fieldObs:\n",
    "    fieldNames.append(field.name)\n",
    "del fieldObs\n",
    "fieldCount = len(fieldNames)"
   ]
  },
  {
   "cell_type": "code",
   "execution_count": 180,
   "metadata": {},
   "outputs": [
    {
     "name": "stdout",
     "output_type": "stream",
     "text": [
      "Finished in 0:00:28.544350\n"
     ]
    }
   ],
   "source": [
    "start = datetime.datetime.now()\n",
    "with arcpy.da.UpdateCursor(ZSaTGrid, fieldNames) as curU:  \n",
    "    for row in curU:  \n",
    "        rowU = row  \n",
    "        for field in range(fieldCount):  \n",
    "            if rowU[field] == None:  \n",
    "                rowU[field] = \"0\"  \n",
    "        curU.updateRow(rowU)\n",
    "del curU\n",
    "end = datetime.datetime.now() - start\n",
    "print(f\"Finished in {end}\")"
   ]
  },
  {
   "cell_type": "code",
   "execution_count": 181,
   "metadata": {},
   "outputs": [
    {
     "name": "stdout",
     "output_type": "stream",
     "text": [
      "all_prot finished in 0:01:43.789876\n",
      "comm_prot finished in 0:01:38.532781\n",
      "not_comm_prot finished in 0:01:38.287397\n"
     ]
    }
   ],
   "source": [
    "for tbl in zsa_marine_tables:\n",
    "    prot_class=tbl.split(\"_m\")[0]\n",
    "    prop_name = f\"prop_{prot_class}\"\n",
    "    start = datetime.datetime.now()\n",
    "    arcpy.management.AddField(ZSaTGrid, \n",
    "                          prop_name, \n",
    "                          \"DOUBLE\", \n",
    "                          None, None, None, \n",
    "                          prop_name, \"NULLABLE\", \"NON_REQUIRED\", '')\n",
    "    COUNT_name = f\"COUNT_{prot_class}\" \n",
    "    py_formula = f\"(!{COUNT_name}! / !COUNT!) * 100\"\n",
    "    arcpy.management.CalculateField(ZSaTGrid, \n",
    "                                prop_name, \n",
    "                                py_formula, \n",
    "                                \"PYTHON3\", '') \n",
    "    end = datetime.datetime.now() - start\n",
    "    print(f\"{prot_class} finished in {end}\")"
   ]
  },
  {
   "cell_type": "code",
   "execution_count": 184,
   "metadata": {},
   "outputs": [],
   "source": [
    "fieldNames = []\n",
    "for tbl in zsa_marine_tables:\n",
    "    prot_class=tbl.split(\"_m\")[0]\n",
    "    prop_name = f\"prop_{prot_class}\"\n",
    "    fieldNames.append(prop_name)\n",
    "fieldCount = len(fieldNames)"
   ]
  },
  {
   "cell_type": "code",
   "execution_count": 185,
   "metadata": {},
   "outputs": [
    {
     "data": {
      "text/plain": [
       "['prop_all_prot', 'prop_comm_prot', 'prop_not_comm_prot']"
      ]
     },
     "execution_count": 185,
     "metadata": {},
     "output_type": "execute_result"
    }
   ],
   "source": [
    "fieldNames"
   ]
  },
  {
   "cell_type": "code",
   "execution_count": 186,
   "metadata": {},
   "outputs": [
    {
     "name": "stdout",
     "output_type": "stream",
     "text": [
      "OBJECTID\n",
      "CELL_ID\n",
      "ZONE_CODE\n",
      "COUNT\n",
      "AREA\n",
      "SUM\n",
      "COUNT_all_prot\n",
      "COUNT_comm_prot\n",
      "COUNT_not_comm_prot\n",
      "prop_all_prot\n",
      "prop_comm_prot\n",
      "prop_not_comm_prot\n"
     ]
    }
   ],
   "source": [
    "for field in arcpy.ListFields(ZSaTGrid):\n",
    "    print(field.name)"
   ]
  },
  {
   "cell_type": "code",
   "execution_count": 187,
   "metadata": {},
   "outputs": [
    {
     "name": "stdout",
     "output_type": "stream",
     "text": [
      "Finished in 0:00:17.080931\n"
     ]
    }
   ],
   "source": [
    "start = datetime.datetime.now()\n",
    "with arcpy.da.UpdateCursor(ZSaTGrid, fieldNames) as curU:  \n",
    "    for row in curU:  \n",
    "        rowU = row  \n",
    "        for field in range(fieldCount):  \n",
    "            if rowU[field] > 100:  \n",
    "                rowU[field] = \"100\"  \n",
    "        curU.updateRow(rowU)\n",
    "del curU\n",
    "end = datetime.datetime.now() - start\n",
    "print(f\"Finished in {end}\")"
   ]
  },
  {
   "cell_type": "code",
   "execution_count": 188,
   "metadata": {},
   "outputs": [],
   "source": [
    "field_names_dict = dict(zip(fieldNames, [\"all_prot_prop\",\"comm_prot_prop\",\"not_comm_prot_prop\"]))"
   ]
  },
  {
   "cell_type": "code",
   "execution_count": 189,
   "metadata": {},
   "outputs": [
    {
     "data": {
      "text/plain": [
       "{'prop_all_prot': 'all_prot_prop',\n",
       " 'prop_comm_prot': 'comm_prot_prop',\n",
       " 'prop_not_comm_prot': 'not_comm_prot_prop'}"
      ]
     },
     "execution_count": 189,
     "metadata": {},
     "output_type": "execute_result"
    }
   ],
   "source": [
    "field_names_dict"
   ]
  },
  {
   "cell_type": "code",
   "execution_count": 190,
   "metadata": {},
   "outputs": [],
   "source": [
    "for old in field_names_dict:\n",
    "    newField_name = field_names_dict[old]\n",
    "    #print(newField_name)\n",
    "    oldField_name =  old\n",
    "    arcpy.AlterField_management(ZSaTGrid, oldField_name, newField_name, newField_name)\n",
    "    #print(f\"{oldField_name} is the old name, {newField_name} is the new one\")"
   ]
  },
  {
   "cell_type": "code",
   "execution_count": 191,
   "metadata": {},
   "outputs": [
    {
     "data": {
      "text/plain": [
       "'marine_grid_cea_raster_ZSaT'"
      ]
     },
     "execution_count": 191,
     "metadata": {},
     "output_type": "execute_result"
    }
   ],
   "source": [
    "ZSaTGrid"
   ]
  },
  {
   "cell_type": "code",
   "execution_count": null,
   "metadata": {},
   "outputs": [],
   "source": [
    "arcpy.management.AddJoin(\"marine_grid_cea\", \"CELL_ID\", \"marine_grid_cea_raster_ZSaT\", \"CELL_ID\", \"KEEP_ALL\")"
   ]
  },
  {
   "cell_type": "code",
   "execution_count": null,
   "metadata": {},
   "outputs": [],
   "source": [
    "arcpy.conversion.FeatureClassToFeatureClass(\"marine_grid_cea\", \n",
    "                                            r\"C:\\Users\\Vizuser\\Documents\\ArcGIS\\Projects\\WDPA\\WDPA.gdb\", \n",
    "                                            \"clipped_marine_grid_55km_prot_prop\", '', \n",
    "                                            'CELL_ID \"CELL_ID\" true true false 254 Text 0 0,First,#,marine_grid_cea,marine_grid_cea.CELL_ID,0,254;Shape_Length \"Shape_Length\" false true true 8 Double 0 0,First,#,marine_grid_cea,marine_grid_cea.Shape_Length,-1,-1;Shape_Area \"Shape_Area\" false true true 8 Double 0 0,First,#,marine_grid_cea,marine_grid_cea.Shape_Area,-1,-1;all_prot_prop \"all_prot_prop\" true true false 8 Double 0 0,First,#,marine_grid_cea,marine_grid_cea_raster_ZSaT.all_prot_prop,-1,-1;comm_prot_prop \"comm_prot_prop\" true true false 8 Double 0 0,First,#,marine_grid_cea,marine_grid_cea_raster_ZSaT.comm_prot_prop,-1,-1;not_comm_prot_prop \"not_comm_prot_prop\" true true false 8 Double 0 0,First,#,marine_grid_cea,marine_grid_cea_raster_ZSaT.not_comm_prot_prop,-1,-1', '')"
   ]
  },
  {
   "cell_type": "markdown",
   "metadata": {},
   "source": [
    "# Append land and marine protected proportions\n",
    "The service has a field named `ID`. The land layer has this field, but the marine one doesn't, furthermore the `CELL_ID` of the marine layer has to be text. "
   ]
  },
  {
   "cell_type": "code",
   "execution_count": 192,
   "metadata": {},
   "outputs": [],
   "source": [
    "marine_prot_prop = \"clipped_marine_grid_55km_prot_prop\"\n",
    "land_prot_prop = \"clipped_land_grid_55km_prot_prop\""
   ]
  },
  {
   "cell_type": "code",
   "execution_count": null,
   "metadata": {},
   "outputs": [],
   "source": [
    "arcpy.conversion.FeatureClassToFeatureClass(\"clipped_marine_grid_55km_prot_prop\", \n",
    "                                            r\"C:\\Users\\Vizuser\\Documents\\ArcGIS\\Projects\\WDPA\\WDPA.gdb\", \n",
    "                                            \"clipped_marine_grid_55km_prot_prop_subset\", \n",
    "                                            \"all_prot_prop > 0 Or comm_prot_prop > 0 Or not_comm_prot_prop > 0\", \n",
    "                                            'CELL_ID \"CELL_ID\" true true false 254 Text 0 0,First,#,clipped_marine_grid_55km_prot_prop,CELL_ID,0,254;all_prot_prop \"all_prot_prop\" true true false 8 Double 0 0,First,#,clipped_marine_grid_55km_prot_prop,all_prot_prop,-1,-1;comm_prot_prop \"comm_prot_prop\" true true false 8 Double 0 0,First,#,clipped_marine_grid_55km_prot_prop,comm_prot_prop,-1,-1;not_comm_prot_prop \"not_comm_prot_prop\" true true false 8 Double 0 0,First,#,clipped_marine_grid_55km_prot_prop,not_comm_prot_prop,-1,-1;Shape_Length \"Shape_Length\" false true true 8 Double 0 0,First,#,clipped_marine_grid_55km_prot_prop,Shape_Length,-1,-1;Shape_Area \"Shape_Area\" false true true 8 Double 0 0,First,#,clipped_marine_grid_55km_prot_prop,Shape_Area,-1,-1', '')"
   ]
  }
 ],
 "metadata": {
  "kernelspec": {
   "display_name": "Python 3",
   "language": "python",
   "name": "python3"
  },
  "language_info": {
   "codemirror_mode": {
    "name": "ipython",
    "version": 3
   },
   "file_extension": ".py",
   "mimetype": "text/x-python",
   "name": "python",
   "nbconvert_exporter": "python",
   "pygments_lexer": "ipython3",
   "version": "3.6.9"
  }
 },
 "nbformat": 4,
 "nbformat_minor": 2
}
