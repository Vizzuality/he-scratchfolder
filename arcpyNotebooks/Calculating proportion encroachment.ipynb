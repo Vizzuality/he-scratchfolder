{
 "cells": [
  {
   "cell_type": "markdown",
   "metadata": {},
   "source": [
    "# Calculating proportion of human encroachment in a grid\n",
    "This notebook uses the subsetted gHM by the 4 anthromes to calculate the percentage of cell from the master grid that is encroached for each type of activity: Urban, Rainfed Agriculture, Rainfed Irrigated and Rangeland. Data has been classified in a previous notebook. \n",
    "\n",
    "NOTE: This is only for the terrestrial environment"
   ]
  },
  {
   "cell_type": "code",
   "execution_count": 2,
   "metadata": {},
   "outputs": [],
   "source": [
    "import arcpy\n",
    "from arcpy.sa import *"
   ]
  },
  {
   "cell_type": "code",
   "execution_count": 9,
   "metadata": {},
   "outputs": [],
   "source": [
    "arcpy.env.workspace = \"C:\\\\Users\\\\Vizuser\\\\Documents\\\\ArcGIS\\\\Projects\\\\Human Pressure\\\\\\Human_pressure_outputs.gdb\"\n",
    "ghm = \"..\\\\gHM_extended_maskGADM36_cea_20191127.tif\"\n",
    "grid = \"biodiversity_facets_dissolved\"\n",
    "ZSaTGrid = \"ZSaTGrid\""
   ]
  },
  {
   "cell_type": "markdown",
   "metadata": {},
   "source": [
    "Zonal Statistics calculates the `COUNT` by default. "
   ]
  },
  {
   "cell_type": "code",
   "execution_count": 11,
   "metadata": {},
   "outputs": [],
   "source": [
    "outZSaT = ZonalStatisticsAsTable(grid,\n",
    "                                 \"CELL_ID\", \n",
    "                                 ghm,\n",
    "                                 ZSaTGrid, \"DATA\", \"ALL\")"
   ]
  },
  {
   "cell_type": "code",
   "execution_count": 12,
   "metadata": {},
   "outputs": [
    {
     "name": "stdout",
     "output_type": "stream",
     "text": [
      "gHM_Urban\n",
      "gHM_Rainfed\n",
      "gHM_Irrigated\n",
      "gHM_Rangeland\n"
     ]
    }
   ],
   "source": [
    "ghm_class_rasters = arcpy.ListRasters(\"gHM*\")\n",
    "for raster in ghm_class_rasters:\n",
    "    print(raster)"
   ]
  },
  {
   "cell_type": "code",
   "execution_count": 15,
   "metadata": {},
   "outputs": [],
   "source": [
    "for raster in ghm_class_rasters:\n",
    "    anthrome_class=raster.split(f\"_\")[1]\n",
    "    outTableName = f\"ZSat_{anthrome_class}\"\n",
    "    outZSat = ZonalStatisticsAsTable(grid,\n",
    "                                     \"CELL_ID\", \n",
    "                                     raster,\n",
    "                                     outTableName, \"DATA\", \"ALL\")"
   ]
  },
  {
   "cell_type": "markdown",
   "metadata": {},
   "source": [
    "- Merge the tables 5 tables should do mapping fields, keeping only the appropriate fields and renaming accordingly. \n",
    "- Then the `None` values should be replace by `0`.\n",
    "- Finally calculate the proportions"
   ]
  },
  {
   "cell_type": "code",
   "execution_count": 41,
   "metadata": {},
   "outputs": [
    {
     "name": "stdout",
     "output_type": "stream",
     "text": [
      "old: COUNT_1\n",
      "new: COUNT_Urban\n",
      "old: COUNT_1\n",
      "new: COUNT_Rainfed\n",
      "old: COUNT_1\n",
      "new: COUNT_Irrigated\n",
      "old: COUNT_1\n",
      "new: COUNT_Rangeland\n"
     ]
    }
   ],
   "source": [
    "zsa_tables = arcpy.ListTables(\"ZSat_*\")\n",
    "ZSaTGrid = \"ZSaTGrid\"\n",
    "for tbl in zsa_tables:\n",
    "    pos = len(arcpy.ListFields(ZSaTGrid))\n",
    "    arcpy.management.JoinField(ZSaTGrid, \"CELL_ID\", tbl, \"CELL_ID\", \"COUNT\")\n",
    "    anthrome_class=tbl.split(\"_\")[1]\n",
    "    newField_name = f\"COUNT_{anthrome_class}\" \n",
    "    oldField_name = arcpy.ListFields(ZSaTGrid)[pos].name \n",
    "    arcpy.AlterField_management(ZSaTGrid, oldField_name, newField_name, newField_name)"
   ]
  },
  {
   "cell_type": "markdown",
   "metadata": {},
   "source": [
    "We have to replace the `None` with `0`s."
   ]
  },
  {
   "cell_type": "code",
   "execution_count": 43,
   "metadata": {},
   "outputs": [],
   "source": [
    "fieldObs = arcpy.ListFields(ZSaTGrid)  \n",
    "fieldNames = []\n",
    "for field in fieldObs:\n",
    "    fieldNames.append(field.name)\n",
    "del fieldObs\n",
    "fieldCount = len(fieldNames)"
   ]
  },
  {
   "cell_type": "code",
   "execution_count": 44,
   "metadata": {},
   "outputs": [],
   "source": [
    "with arcpy.da.UpdateCursor(ZSaTGrid, fieldNames) as curU:  \n",
    "    for row in curU:  \n",
    "        rowU = row  \n",
    "        for field in range(fieldCount):  \n",
    "            if rowU[field] == None:  \n",
    "                rowU[field] = \"0\"  \n",
    "        curU.updateRow(rowU)\n",
    "del curU"
   ]
  },
  {
   "cell_type": "markdown",
   "metadata": {},
   "source": [
    "We have to create new fields (one for each type of encroachment) and calculate the proportion. "
   ]
  },
  {
   "cell_type": "code",
   "execution_count": 19,
   "metadata": {},
   "outputs": [
    {
     "name": "stdout",
     "output_type": "stream",
     "text": [
      "prop_Urban\n",
      "COUNT_Urban\n",
      "(!COUNT_Urban! / !COUNT!) * 100\n",
      "prop_Rainfed\n",
      "COUNT_Rainfed\n",
      "(!COUNT_Rainfed! / !COUNT!) * 100\n",
      "prop_Irrigated\n",
      "COUNT_Irrigated\n",
      "(!COUNT_Irrigated! / !COUNT!) * 100\n",
      "prop_Rangeland\n",
      "COUNT_Rangeland\n",
      "(!COUNT_Rangeland! / !COUNT!) * 100\n"
     ]
    }
   ],
   "source": [
    "zsa_tables = arcpy.ListTables(\"ZSat_*\")\n",
    "for tbl in zsa_tables:\n",
    "    anthrome_class = tbl.split(\"_\")[1]\n",
    "    prop_name = f\"prop_{anthrome_class}\" \n",
    "    COUNT_name = f\"COUNT_{anthrome_class}\" \n",
    "    py_formula = f\"(!{COUNT_name}! / !COUNT!) * 100\"\n",
    "    print(prop_name + \"\\n\" + COUNT_name + \"\\n\" + py_formula) "
   ]
  },
  {
   "cell_type": "code",
   "execution_count": 46,
   "metadata": {},
   "outputs": [
    {
     "name": "stdout",
     "output_type": "stream",
     "text": [
      "prop_Urban\n",
      "COUNT_Urban\n",
      "(!COUNT_Urban! / !COUNT!) * 100\n",
      "prop_Rainfed\n",
      "COUNT_Rainfed\n",
      "(!COUNT_Rainfed! / !COUNT!) * 100\n",
      "prop_Irrigated\n",
      "COUNT_Irrigated\n",
      "(!COUNT_Irrigated! / !COUNT!) * 100\n",
      "prop_Rangeland\n",
      "COUNT_Rangeland\n",
      "(!COUNT_Rangeland! / !COUNT!) * 100\n"
     ]
    }
   ],
   "source": [
    "for tbl in zsa_tables:\n",
    "    anthrome_class = tbl.split(\"_\")[1]\n",
    "    prop_name = f\"prop_{anthrome_class}\"\n",
    "    arcpy.management.AddField(ZSaTGrid, \n",
    "                          prop_name, \n",
    "                          \"DOUBLE\", \n",
    "                          None, None, None, \n",
    "                          prop_name, \"NULLABLE\", \"NON_REQUIRED\", '')\n",
    "    COUNT_name = f\"COUNT_{anthrome_class}\" \n",
    "    py_formula = f\"(!{COUNT_name}! / !COUNT!) * 100\"\n",
    "    arcpy.management.CalculateField(ZSaTGrid, \n",
    "                                prop_name, \n",
    "                                py_formula, \n",
    "                                \"PYTHON3\", '') "
   ]
  },
  {
   "cell_type": "code",
   "execution_count": 47,
   "metadata": {},
   "outputs": [
    {
     "data": {
      "text/plain": [
       "<Result 'C:\\\\Users\\\\Vizuser\\\\Documents\\\\ArcGIS\\\\Projects\\\\Human Pressure\\\\human_prop.csv'>"
      ]
     },
     "execution_count": 47,
     "metadata": {},
     "output_type": "execute_result"
    }
   ],
   "source": [
    "arcpy.TableToTable_conversion(ZSaTGrid, \"C:\\\\Users\\\\Vizuser\\\\Documents\\\\ArcGIS\\\\Projects\\\\Human Pressure\", \"human_prop.csv\")"
   ]
  },
  {
   "cell_type": "markdown",
   "metadata": {},
   "source": [
    "The table has been uploaded to arcgis online via the browser. "
   ]
  },
  {
   "cell_type": "code",
   "execution_count": null,
   "metadata": {},
   "outputs": [],
   "source": []
  }
 ],
 "metadata": {
  "kernelspec": {
   "display_name": "Python 3",
   "language": "python",
   "name": "python3"
  },
  "language_info": {
   "codemirror_mode": {
    "name": "ipython",
    "version": 3
   },
   "file_extension": ".py",
   "mimetype": "text/x-python",
   "name": "python",
   "nbconvert_exporter": "python",
   "pygments_lexer": "ipython3",
   "version": "3.6.9"
  }
 },
 "nbformat": 4,
 "nbformat_minor": 2
}
