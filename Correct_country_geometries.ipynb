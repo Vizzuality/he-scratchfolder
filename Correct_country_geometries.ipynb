{
 "cells": [
  {
   "cell_type": "markdown",
   "metadata": {},
   "source": [
    "### Update some records of Feature Service"
   ]
  },
  {
   "cell_type": "markdown",
   "metadata": {},
   "source": [
    "The country geometries simplified for gadm level 0 is failing to load on the FE.  \n",
    "This geometries have been simplifies previously using mapshaper or ArcGIS Pro.  \n",
    "There is a previous layer used in the NRC that does not fail, we could use that layer for gadm0.\n",
    "The countries failing so far are Russia, USA and Canada (classic, the big countries)"
   ]
  },
  {
   "cell_type": "markdown",
   "metadata": {},
   "source": [
    "current gadm0 layer: https://eowilson.maps.arcgis.com/home/item.html?id=e9b2595e8ee2406b981fd7c00f77df9c  \n",
    "NRC layer: https://eowilson.maps.arcgis.com/home/item.html?id=3c7c5f75cc184a4ca89fe9c8c2154da5"
   ]
  },
  {
   "cell_type": "code",
   "execution_count": 11,
   "metadata": {},
   "outputs": [],
   "source": [
    "import pandas as pd\n",
    "import numpy as np\n",
    "import geopandas as gpd\n",
    "import arcgis\n",
    "from arcgis.gis import GIS\n",
    "import json\n",
    "import pandas as pd\n",
    "from arcgis.features import FeatureLayerCollection\n",
    "from copy import deepcopy\n",
    "import os"
   ]
  },
  {
   "cell_type": "code",
   "execution_count": 12,
   "metadata": {},
   "outputs": [],
   "source": [
    "env_path = \"../../.env\"\n",
    "with open(env_path) as f:\n",
    "   env = {}\n",
    "   for line in f:\n",
    "       env_key, _val = line.split(\"=\")\n",
    "       env_value = _val.split(\"\\n\")[0]\n",
    "       env[env_key] = env_value"
   ]
  },
  {
   "cell_type": "code",
   "execution_count": 13,
   "metadata": {},
   "outputs": [],
   "source": [
    "aol_password = env['ARCGIS_GRETA_PASS']\n",
    "aol_username = env['ARCGIS_GRETA_USER']"
   ]
  },
  {
   "cell_type": "code",
   "execution_count": 14,
   "metadata": {},
   "outputs": [],
   "source": [
    "gis = GIS(\"https://eowilson.maps.arcgis.com\", aol_username, aol_password, profile = \"eowilson\")"
   ]
  },
  {
   "cell_type": "code",
   "execution_count": 22,
   "metadata": {},
   "outputs": [],
   "source": [
    "layers= {'gadm0':'e9b2595e8ee2406b981fd7c00f77df9c',\n",
    "        'nrc':'3c7c5f75cc184a4ca89fe9c8c2154da5',\n",
    "        'gadm1':'3f89b653de41428a8166d51f383f0950'}"
   ]
  },
  {
   "cell_type": "code",
   "execution_count": 15,
   "metadata": {},
   "outputs": [],
   "source": [
    "def getFlayerFromID(item_id):\n",
    "    item = gis.content.get(item_id)\n",
    "    flayer = item.layers[0]\n",
    "    sdf = pd.DataFrame.spatial.from_layer(flayer)\n",
    "    return sdf"
   ]
  },
  {
   "cell_type": "code",
   "execution_count": 16,
   "metadata": {},
   "outputs": [],
   "source": [
    "pre= getFlayerFromID(layers['gadm0'])"
   ]
  },
  {
   "cell_type": "code",
   "execution_count": 17,
   "metadata": {},
   "outputs": [],
   "source": [
    "nrc= getFlayerFromID(layers['nrc'])"
   ]
  },
  {
   "cell_type": "code",
   "execution_count": 32,
   "metadata": {},
   "outputs": [
    {
     "name": "stdout",
     "output_type": "stream",
     "text": [
      "252\n"
     ]
    },
    {
     "data": {
      "text/plain": [
       "Index(['OBJECTID', 'GID_0', 'NAME_0', 'Shape__Area', 'Shape__Length', 'SHAPE'], dtype='object')"
      ]
     },
     "execution_count": 32,
     "metadata": {},
     "output_type": "execute_result"
    }
   ],
   "source": [
    "print(len(nrc))\n",
    "nrc.columns"
   ]
  },
  {
   "cell_type": "code",
   "execution_count": 33,
   "metadata": {},
   "outputs": [
    {
     "name": "stdout",
     "output_type": "stream",
     "text": [
      "255\n"
     ]
    },
    {
     "data": {
      "text/plain": [
       "Index(['GID_0', 'NAME_0', 'MOL_ID', 'AREA_KM2', 'reptiles', 'amphibians',\n",
       "       'mammals', 'birds', 'percentage_protected', 'population_sum',\n",
       "       'majority_land_cover_climate_reg', 'land_cover_majority',\n",
       "       'climate_regime_majority', 'country_size', 'percent_irrigated',\n",
       "       'percent_rainfed', 'percent_rangeland', 'percent_urban', 'ObjectId',\n",
       "       'Shape__Area', 'Shape__Length', 'wdpa_mol_id', 'SHAPE'],\n",
       "      dtype='object')"
      ]
     },
     "execution_count": 33,
     "metadata": {},
     "output_type": "execute_result"
    }
   ],
   "source": [
    "print(len(pre))\n",
    "pre.columns"
   ]
  },
  {
   "cell_type": "code",
   "execution_count": 49,
   "metadata": {},
   "outputs": [],
   "source": [
    "selp = pre[pre['GID_0'].isin(['RUS','CAN','USA'])]\n",
    "seln = nrc[nrc['GID_0'].isin(['RUS','CAN','USA'])]"
   ]
  },
  {
   "cell_type": "code",
   "execution_count": null,
   "metadata": {},
   "outputs": [],
   "source": [
    "display(seln.spatial)"
   ]
  },
  {
   "cell_type": "code",
   "execution_count": null,
   "metadata": {},
   "outputs": [],
   "source": [
    "display(selp.spatial)"
   ]
  },
  {
   "cell_type": "code",
   "execution_count": 70,
   "metadata": {},
   "outputs": [
    {
     "data": {
      "text/html": [
       "<div>\n",
       "<style scoped>\n",
       "    .dataframe tbody tr th:only-of-type {\n",
       "        vertical-align: middle;\n",
       "    }\n",
       "\n",
       "    .dataframe tbody tr th {\n",
       "        vertical-align: top;\n",
       "    }\n",
       "\n",
       "    .dataframe thead th {\n",
       "        text-align: right;\n",
       "    }\n",
       "</style>\n",
       "<table border=\"1\" class=\"dataframe\">\n",
       "  <thead>\n",
       "    <tr style=\"text-align: right;\">\n",
       "      <th></th>\n",
       "      <th>OBJECTID</th>\n",
       "      <th>GID_0</th>\n",
       "      <th>NAME_0</th>\n",
       "      <th>Shape__Area</th>\n",
       "      <th>Shape__Length</th>\n",
       "      <th>SHAPE</th>\n",
       "    </tr>\n",
       "  </thead>\n",
       "  <tbody>\n",
       "    <tr>\n",
       "      <th>39</th>\n",
       "      <td>40</td>\n",
       "      <td>CAN</td>\n",
       "      <td>Canada</td>\n",
       "      <td>1694.025240</td>\n",
       "      <td>2210.684826</td>\n",
       "      <td>{\"rings\": [[[-87.035281988421, 65.479153994765...</td>\n",
       "    </tr>\n",
       "    <tr>\n",
       "      <th>248</th>\n",
       "      <td>253</td>\n",
       "      <td>USA</td>\n",
       "      <td>United States</td>\n",
       "      <td>1116.381362</td>\n",
       "      <td>719.210324</td>\n",
       "      <td>{\"rings\": [[[-160.021144980627, -0.39805494820...</td>\n",
       "    </tr>\n",
       "    <tr>\n",
       "      <th>249</th>\n",
       "      <td>400</td>\n",
       "      <td>RUS</td>\n",
       "      <td>Russia</td>\n",
       "      <td>2908.001129</td>\n",
       "      <td>1478.397360</td>\n",
       "      <td>{\"rings\": [[[131.87329129417, 42.9569360103709...</td>\n",
       "    </tr>\n",
       "  </tbody>\n",
       "</table>\n",
       "</div>"
      ],
      "text/plain": [
       "     OBJECTID GID_0         NAME_0  Shape__Area  Shape__Length  \\\n",
       "39         40   CAN         Canada  1694.025240    2210.684826   \n",
       "248       253   USA  United States  1116.381362     719.210324   \n",
       "249       400   RUS         Russia  2908.001129    1478.397360   \n",
       "\n",
       "                                                 SHAPE  \n",
       "39   {\"rings\": [[[-87.035281988421, 65.479153994765...  \n",
       "248  {\"rings\": [[[-160.021144980627, -0.39805494820...  \n",
       "249  {\"rings\": [[[131.87329129417, 42.9569360103709...  "
      ]
     },
     "execution_count": 70,
     "metadata": {},
     "output_type": "execute_result"
    }
   ],
   "source": [
    "seln"
   ]
  },
  {
   "cell_type": "code",
   "execution_count": 99,
   "metadata": {},
   "outputs": [],
   "source": [
    "### Layer to update (gadm0 layer)\n",
    "item_id = 'e9b2595e8ee2406b981fd7c00f77df9c' ### gadm0 layer\n",
    "item = gis.content.get(item_id)\n",
    "flayer = item.layers[0]\n",
    "fset = flayer.query(where =\"GID_0 IN ('CAN','RUS','USA')\")\n",
    "\n",
    "### Layer to retrieve geometries from\n",
    "new_fset = gis.content.get('3c7c5f75cc184a4ca89fe9c8c2154da5').layers[0].query(where =\"GID_0 IN ('CAN','RUS','USA')\")\n",
    "new_fset_features = gis.content.get('3c7c5f75cc184a4ca89fe9c8c2154da5').layers[0].query(where =\"GID_0 IN ('CAN','RUS','USA')\").features\n",
    "new_flayer_rows = new_fset.sdf"
   ]
  },
  {
   "cell_type": "code",
   "execution_count": 100,
   "metadata": {},
   "outputs": [
    {
     "data": {
      "text/plain": [
       "[{'name': 'OBJECTID',\n",
       "  'type': 'esriFieldTypeOID',\n",
       "  'alias': 'OBJECTID',\n",
       "  'sqlType': 'sqlTypeOther',\n",
       "  'domain': None,\n",
       "  'defaultValue': None},\n",
       " {'name': 'GID_0',\n",
       "  'type': 'esriFieldTypeString',\n",
       "  'alias': 'GID_0',\n",
       "  'sqlType': 'sqlTypeOther',\n",
       "  'length': 8000,\n",
       "  'domain': None,\n",
       "  'defaultValue': None},\n",
       " {'name': 'NAME_0',\n",
       "  'type': 'esriFieldTypeString',\n",
       "  'alias': 'NAME_0',\n",
       "  'sqlType': 'sqlTypeOther',\n",
       "  'length': 8000,\n",
       "  'domain': None,\n",
       "  'defaultValue': None},\n",
       " {'name': 'Shape__Area',\n",
       "  'type': 'esriFieldTypeDouble',\n",
       "  'alias': 'Shape__Area',\n",
       "  'sqlType': 'sqlTypeDouble',\n",
       "  'domain': None,\n",
       "  'defaultValue': None},\n",
       " {'name': 'Shape__Length',\n",
       "  'type': 'esriFieldTypeDouble',\n",
       "  'alias': 'Shape__Length',\n",
       "  'sqlType': 'sqlTypeDouble',\n",
       "  'domain': None,\n",
       "  'defaultValue': None}]"
      ]
     },
     "execution_count": 100,
     "metadata": {},
     "output_type": "execute_result"
    }
   ],
   "source": [
    "new_fset.fields"
   ]
  },
  {
   "cell_type": "code",
   "execution_count": 133,
   "metadata": {},
   "outputs": [],
   "source": [
    "### https://community.esri.com/t5/arcgis-online-questions/updating-polygon-features-from-a-feature-layer-in/td-p/1043566\n",
    "from arcgis import geometry\n",
    "features_to_be_added = []\n",
    "template_hostedFeature = deepcopy(fset.features[0])\n",
    "\n",
    "for index, row in new_flayer_rows.iterrows():\n",
    "    feature_to_be_updated = deepcopy(template_hostedFeature)\n",
    "    input_geometry = new_fset_features[index].geometry\n",
    "    \n",
    "    output_geometry = geometry.project(geometries = [input_geometry],\n",
    "                                       in_sr = new_fset.spatial_reference['wkid'], \n",
    "                                       out_sr = fset.spatial_reference['wkid'], \n",
    "                                       gis = gis)\n",
    "    # assign the updated values\n",
    "    feature_to_be_updated.geometry = output_geometry\n",
    "    #feature_to_be_updated.attributes['OBJECTID'] = int(row['OBJECTID'])\n",
    "    \n",
    "    # #add this to the list of features to be updated\n",
    "    features_to_be_added.append(feature_to_be_updated)\n"
   ]
  },
  {
   "cell_type": "code",
   "execution_count": 134,
   "metadata": {},
   "outputs": [
    {
     "data": {
      "text/plain": [
       "{'wkid': 102100, 'latestWkid': 3857}"
      ]
     },
     "execution_count": 134,
     "metadata": {},
     "output_type": "execute_result"
    }
   ],
   "source": [
    "#fset.features[0]\n",
    "fset.spatial_reference"
   ]
  },
  {
   "cell_type": "code",
   "execution_count": 135,
   "metadata": {},
   "outputs": [
    {
     "data": {
      "text/plain": [
       "{'wkid': 4326, 'latestWkid': 4326}"
      ]
     },
     "execution_count": 135,
     "metadata": {},
     "output_type": "execute_result"
    }
   ],
   "source": [
    "#features_to_be_added[0].geometry\n",
    "new_fset.spatial_reference"
   ]
  },
  {
   "cell_type": "code",
   "execution_count": 145,
   "metadata": {},
   "outputs": [
    {
     "data": {
      "text/plain": [
       "{'addResults': [{'objectId': 256,\n",
       "   'uniqueId': 256,\n",
       "   'globalId': None,\n",
       "   'success': True},\n",
       "  {'objectId': 257, 'uniqueId': 257, 'globalId': None, 'success': True},\n",
       "  {'objectId': 258, 'uniqueId': 258, 'globalId': None, 'success': True}],\n",
       " 'updateResults': [],\n",
       " 'deleteResults': []}"
      ]
     },
     "execution_count": 145,
     "metadata": {},
     "output_type": "execute_result"
    }
   ],
   "source": [
    "flayer.edit_features(adds = features_to_be_added) \n",
    "#### In order to add the geometries instead of adding them I should use: \n",
    "###flayer.edit_features(updates = features_to_be_added) but check that the geometries are correct before adding anything"
   ]
  },
  {
   "cell_type": "code",
   "execution_count": null,
   "metadata": {},
   "outputs": [],
   "source": [
    "# This added new rows with a copy of the data and new geometries, but it did not update teh geoemtry of the rows."
   ]
  },
  {
   "cell_type": "code",
   "execution_count": 163,
   "metadata": {},
   "outputs": [],
   "source": [
    "item_id = 'e9b2595e8ee2406b981fd7c00f77df9c' ### gadm0 layer\n",
    "item = gis.content.get(item_id)\n",
    "flayer = item.layers[0]\n",
    "fset = flayer.query(where =\"GID_0 IN ('CAN','RUS','USA')\")\n",
    "df = fset.sdf"
   ]
  },
  {
   "cell_type": "code",
   "execution_count": 154,
   "metadata": {},
   "outputs": [
    {
     "data": {
      "text/plain": [
       "Index(['GID_0', 'NAME_0', 'MOL_ID', 'AREA_KM2', 'reptiles', 'amphibians',\n",
       "       'mammals', 'birds', 'percentage_protected', 'population_sum',\n",
       "       'majority_land_cover_climate_reg', 'land_cover_majority',\n",
       "       'climate_regime_majority', 'country_size', 'percent_irrigated',\n",
       "       'percent_rainfed', 'percent_rangeland', 'percent_urban', 'ObjectId',\n",
       "       'Shape__Area', 'Shape__Length', 'wdpa_mol_id', 'SHAPE'],\n",
       "      dtype='object')"
      ]
     },
     "execution_count": 154,
     "metadata": {},
     "output_type": "execute_result"
    }
   ],
   "source": [
    "df.columns"
   ]
  },
  {
   "cell_type": "code",
   "execution_count": 155,
   "metadata": {},
   "outputs": [
    {
     "data": {
      "text/html": [
       "<div>\n",
       "<style scoped>\n",
       "    .dataframe tbody tr th:only-of-type {\n",
       "        vertical-align: middle;\n",
       "    }\n",
       "\n",
       "    .dataframe tbody tr th {\n",
       "        vertical-align: top;\n",
       "    }\n",
       "\n",
       "    .dataframe thead th {\n",
       "        text-align: right;\n",
       "    }\n",
       "</style>\n",
       "<table border=\"1\" class=\"dataframe\">\n",
       "  <thead>\n",
       "    <tr style=\"text-align: right;\">\n",
       "      <th></th>\n",
       "      <th>GID_0</th>\n",
       "      <th>SHAPE</th>\n",
       "      <th>ObjectId</th>\n",
       "    </tr>\n",
       "  </thead>\n",
       "  <tbody>\n",
       "    <tr>\n",
       "      <th>0</th>\n",
       "      <td>CAN</td>\n",
       "      <td>{\"rings\": [[[-7765692.92845951, 17917763.32315...</td>\n",
       "      <td>40</td>\n",
       "    </tr>\n",
       "    <tr>\n",
       "      <th>1</th>\n",
       "      <td>RUS</td>\n",
       "      <td>{\"rings\": [[[6450032, 16819540], [6449632, 168...</td>\n",
       "      <td>190</td>\n",
       "    </tr>\n",
       "    <tr>\n",
       "      <th>2</th>\n",
       "      <td>USA</td>\n",
       "      <td>{\"rings\": [[[-17646464, 12004764], [-17646864,...</td>\n",
       "      <td>235</td>\n",
       "    </tr>\n",
       "    <tr>\n",
       "      <th>3</th>\n",
       "      <td>CAN</td>\n",
       "      <td>None</td>\n",
       "      <td>256</td>\n",
       "    </tr>\n",
       "    <tr>\n",
       "      <th>4</th>\n",
       "      <td>CAN</td>\n",
       "      <td>None</td>\n",
       "      <td>257</td>\n",
       "    </tr>\n",
       "    <tr>\n",
       "      <th>5</th>\n",
       "      <td>CAN</td>\n",
       "      <td>None</td>\n",
       "      <td>258</td>\n",
       "    </tr>\n",
       "  </tbody>\n",
       "</table>\n",
       "</div>"
      ],
      "text/plain": [
       "  GID_0                                              SHAPE  ObjectId\n",
       "0   CAN  {\"rings\": [[[-7765692.92845951, 17917763.32315...        40\n",
       "1   RUS  {\"rings\": [[[6450032, 16819540], [6449632, 168...       190\n",
       "2   USA  {\"rings\": [[[-17646464, 12004764], [-17646864,...       235\n",
       "3   CAN                                               None       256\n",
       "4   CAN                                               None       257\n",
       "5   CAN                                               None       258"
      ]
     },
     "execution_count": 155,
     "metadata": {},
     "output_type": "execute_result"
    }
   ],
   "source": [
    "df[['GID_0','SHAPE','ObjectId']]"
   ]
  },
  {
   "cell_type": "code",
   "execution_count": 162,
   "metadata": {},
   "outputs": [
    {
     "data": {
      "text/plain": [
       "{'deleteResults': [{'objectId': 256,\n",
       "   'uniqueId': 256,\n",
       "   'globalId': None,\n",
       "   'success': True},\n",
       "  {'objectId': 257, 'uniqueId': 257, 'globalId': None, 'success': True},\n",
       "  {'objectId': 258, 'uniqueId': 258, 'globalId': None, 'success': True}]}"
      ]
     },
     "execution_count": 162,
     "metadata": {},
     "output_type": "execute_result"
    }
   ],
   "source": [
    "flayer.delete_features(where=\"objectid > 255\")"
   ]
  },
  {
   "cell_type": "code",
   "execution_count": 164,
   "metadata": {},
   "outputs": [
    {
     "data": {
      "text/html": [
       "<div>\n",
       "<style scoped>\n",
       "    .dataframe tbody tr th:only-of-type {\n",
       "        vertical-align: middle;\n",
       "    }\n",
       "\n",
       "    .dataframe tbody tr th {\n",
       "        vertical-align: top;\n",
       "    }\n",
       "\n",
       "    .dataframe thead th {\n",
       "        text-align: right;\n",
       "    }\n",
       "</style>\n",
       "<table border=\"1\" class=\"dataframe\">\n",
       "  <thead>\n",
       "    <tr style=\"text-align: right;\">\n",
       "      <th></th>\n",
       "      <th>GID_0</th>\n",
       "      <th>NAME_0</th>\n",
       "      <th>MOL_ID</th>\n",
       "      <th>AREA_KM2</th>\n",
       "      <th>reptiles</th>\n",
       "      <th>amphibians</th>\n",
       "      <th>mammals</th>\n",
       "      <th>birds</th>\n",
       "      <th>percentage_protected</th>\n",
       "      <th>population_sum</th>\n",
       "      <th>...</th>\n",
       "      <th>country_size</th>\n",
       "      <th>percent_irrigated</th>\n",
       "      <th>percent_rainfed</th>\n",
       "      <th>percent_rangeland</th>\n",
       "      <th>percent_urban</th>\n",
       "      <th>ObjectId</th>\n",
       "      <th>Shape__Area</th>\n",
       "      <th>Shape__Length</th>\n",
       "      <th>wdpa_mol_id</th>\n",
       "      <th>SHAPE</th>\n",
       "    </tr>\n",
       "  </thead>\n",
       "  <tbody>\n",
       "    <tr>\n",
       "      <th>0</th>\n",
       "      <td>CAN</td>\n",
       "      <td>Canada</td>\n",
       "      <td>40</td>\n",
       "      <td>9955221</td>\n",
       "      <td>[{\"SliceNumber\":145.0,\"percentage_presence\":0....</td>\n",
       "      <td>[{\"SliceNumber\":3.0,\"percentage_presence\":0.0}...</td>\n",
       "      <td>[{\"SliceNumber\":129.0,\"percentage_presence\":53...</td>\n",
       "      <td>[{\"SliceNumber\":36.0,\"percentage_presence\":7.4...</td>\n",
       "      <td>13.10794</td>\n",
       "      <td>36769980</td>\n",
       "      <td>...</td>\n",
       "      <td>1</td>\n",
       "      <td>0</td>\n",
       "      <td>6.03</td>\n",
       "      <td>0.13</td>\n",
       "      <td>0.27</td>\n",
       "      <td>40</td>\n",
       "      <td>5.106786e+13</td>\n",
       "      <td>6.416987e+08</td>\n",
       "      <td>[207024, 191268, 191232, 191143, 191102, 21414...</td>\n",
       "      <td>{\"rings\": [[[-7765692.92845951, 17917763.32315...</td>\n",
       "    </tr>\n",
       "    <tr>\n",
       "      <th>1</th>\n",
       "      <td>RUS</td>\n",
       "      <td>Russia</td>\n",
       "      <td>190</td>\n",
       "      <td>16925820</td>\n",
       "      <td>[{\"SliceNumber\":1.0,\"percentage_presence\":0.0}...</td>\n",
       "      <td>[{\"SliceNumber\":815.0,\"percentage_presence\":7....</td>\n",
       "      <td>[{\"SliceNumber\":129.0,\"percentage_presence\":16...</td>\n",
       "      <td>[{\"SliceNumber\":29.0,\"percentage_presence\":2.7...</td>\n",
       "      <td>11.29689</td>\n",
       "      <td>140597000</td>\n",
       "      <td>...</td>\n",
       "      <td>1</td>\n",
       "      <td>0.12</td>\n",
       "      <td>11.10</td>\n",
       "      <td>3.32</td>\n",
       "      <td>0.24</td>\n",
       "      <td>190</td>\n",
       "      <td>8.275980e+13</td>\n",
       "      <td>3.564010e+08</td>\n",
       "      <td>[216284, 41227, 32190, 61584, 164288, 127907, ...</td>\n",
       "      <td>{\"rings\": [[[6450032, 16819540], [6449632, 168...</td>\n",
       "    </tr>\n",
       "    <tr>\n",
       "      <th>2</th>\n",
       "      <td>USA</td>\n",
       "      <td>United States</td>\n",
       "      <td>235</td>\n",
       "      <td>9472976</td>\n",
       "      <td>[{\"SliceNumber\":145.0,\"percentage_presence\":4....</td>\n",
       "      <td>[{\"SliceNumber\":3.0,\"percentage_presence\":18.0...</td>\n",
       "      <td>[{\"SliceNumber\":129.0,\"percentage_presence\":18...</td>\n",
       "      <td>[{\"SliceNumber\":36.0,\"percentage_presence\":66....</td>\n",
       "      <td>16.06911</td>\n",
       "      <td>342629300</td>\n",
       "      <td>...</td>\n",
       "      <td>1</td>\n",
       "      <td>0.85</td>\n",
       "      <td>26.35</td>\n",
       "      <td>20.6</td>\n",
       "      <td>4.37</td>\n",
       "      <td>235</td>\n",
       "      <td>2.172280e+13</td>\n",
       "      <td>2.024955e+08</td>\n",
       "      <td>[170882, 111561, 131362, 151167, 206948, 13146...</td>\n",
       "      <td>{\"rings\": [[[-17646464, 12004764], [-17646864,...</td>\n",
       "    </tr>\n",
       "  </tbody>\n",
       "</table>\n",
       "<p>3 rows × 23 columns</p>\n",
       "</div>"
      ],
      "text/plain": [
       "  GID_0         NAME_0  MOL_ID  AREA_KM2  \\\n",
       "0   CAN         Canada      40   9955221   \n",
       "1   RUS         Russia     190  16925820   \n",
       "2   USA  United States     235   9472976   \n",
       "\n",
       "                                            reptiles  \\\n",
       "0  [{\"SliceNumber\":145.0,\"percentage_presence\":0....   \n",
       "1  [{\"SliceNumber\":1.0,\"percentage_presence\":0.0}...   \n",
       "2  [{\"SliceNumber\":145.0,\"percentage_presence\":4....   \n",
       "\n",
       "                                          amphibians  \\\n",
       "0  [{\"SliceNumber\":3.0,\"percentage_presence\":0.0}...   \n",
       "1  [{\"SliceNumber\":815.0,\"percentage_presence\":7....   \n",
       "2  [{\"SliceNumber\":3.0,\"percentage_presence\":18.0...   \n",
       "\n",
       "                                             mammals  \\\n",
       "0  [{\"SliceNumber\":129.0,\"percentage_presence\":53...   \n",
       "1  [{\"SliceNumber\":129.0,\"percentage_presence\":16...   \n",
       "2  [{\"SliceNumber\":129.0,\"percentage_presence\":18...   \n",
       "\n",
       "                                               birds  percentage_protected  \\\n",
       "0  [{\"SliceNumber\":36.0,\"percentage_presence\":7.4...              13.10794   \n",
       "1  [{\"SliceNumber\":29.0,\"percentage_presence\":2.7...              11.29689   \n",
       "2  [{\"SliceNumber\":36.0,\"percentage_presence\":66....              16.06911   \n",
       "\n",
       "   population_sum  ...  country_size percent_irrigated percent_rainfed  \\\n",
       "0        36769980  ...             1                 0            6.03   \n",
       "1       140597000  ...             1              0.12           11.10   \n",
       "2       342629300  ...             1              0.85           26.35   \n",
       "\n",
       "   percent_rangeland percent_urban  ObjectId   Shape__Area  Shape__Length  \\\n",
       "0               0.13          0.27        40  5.106786e+13   6.416987e+08   \n",
       "1               3.32          0.24       190  8.275980e+13   3.564010e+08   \n",
       "2               20.6          4.37       235  2.172280e+13   2.024955e+08   \n",
       "\n",
       "                                         wdpa_mol_id  \\\n",
       "0  [207024, 191268, 191232, 191143, 191102, 21414...   \n",
       "1  [216284, 41227, 32190, 61584, 164288, 127907, ...   \n",
       "2  [170882, 111561, 131362, 151167, 206948, 13146...   \n",
       "\n",
       "                                               SHAPE  \n",
       "0  {\"rings\": [[[-7765692.92845951, 17917763.32315...  \n",
       "1  {\"rings\": [[[6450032, 16819540], [6449632, 168...  \n",
       "2  {\"rings\": [[[-17646464, 12004764], [-17646864,...  \n",
       "\n",
       "[3 rows x 23 columns]"
      ]
     },
     "execution_count": 164,
     "metadata": {},
     "output_type": "execute_result"
    }
   ],
   "source": [
    "df"
   ]
  },
  {
   "cell_type": "code",
   "execution_count": null,
   "metadata": {},
   "outputs": [],
   "source": [
    "### Try different approach to update (not append values)"
   ]
  },
  {
   "cell_type": "code",
   "execution_count": 168,
   "metadata": {},
   "outputs": [],
   "source": [
    "features_for_update = [] #list containing corrected features\n",
    "\n",
    "all_features = fset.features"
   ]
  },
  {
   "cell_type": "code",
   "execution_count": 169,
   "metadata": {},
   "outputs": [
    {
     "name": "stdout",
     "output_type": "stream",
     "text": [
      "CAN\n",
      "RUS\n",
      "USA\n"
     ]
    }
   ],
   "source": [
    "for country_id in df['GID_0']:\n",
    "    print(country_id)"
   ]
  },
  {
   "cell_type": "code",
   "execution_count": 175,
   "metadata": {},
   "outputs": [
    {
     "ename": "ValueError",
     "evalue": "The truth value of a Series is ambiguous. Use a.empty, a.bool(), a.item(), a.any() or a.all().",
     "output_type": "error",
     "traceback": [
      "\u001b[0;31m---------------------------------------------------------------------------\u001b[0m",
      "\u001b[0;31mValueError\u001b[0m                                Traceback (most recent call last)",
      "\u001b[0;32m<ipython-input-175-5ed60b900ace>\u001b[0m in \u001b[0;36m<module>\u001b[0;34m\u001b[0m\n\u001b[1;32m     14\u001b[0m     output_geometry = geometry.project(geometries = [input_geometry],\n\u001b[1;32m     15\u001b[0m                                        \u001b[0min_sr\u001b[0m \u001b[0;34m=\u001b[0m \u001b[0mnew_fset\u001b[0m\u001b[0;34m.\u001b[0m\u001b[0mspatial_reference\u001b[0m\u001b[0;34m[\u001b[0m\u001b[0;34m'wkid'\u001b[0m\u001b[0;34m]\u001b[0m\u001b[0;34m,\u001b[0m\u001b[0;34m\u001b[0m\u001b[0;34m\u001b[0m\u001b[0m\n\u001b[0;32m---> 16\u001b[0;31m                                        out_sr = fset.spatial_reference['wkid']) \n\u001b[0m\u001b[1;32m     17\u001b[0m                                        \u001b[0;31m#gis = gis)\u001b[0m\u001b[0;34m\u001b[0m\u001b[0;34m\u001b[0m\u001b[0;34m\u001b[0m\u001b[0m\n\u001b[1;32m     18\u001b[0m     \u001b[0;31m# assign the updated values\u001b[0m\u001b[0;34m\u001b[0m\u001b[0;34m\u001b[0m\u001b[0;34m\u001b[0m\u001b[0m\n",
      "\u001b[0;32m~/opt/anaconda3/lib/python3.7/site-packages/arcgis/geometry/functions.py\u001b[0m in \u001b[0;36mproject\u001b[0;34m(geometries, in_sr, out_sr, transformation, transform_forward, gis)\u001b[0m\n\u001b[1;32m    659\u001b[0m         \u001b[0mout_sr\u001b[0m\u001b[0;34m,\u001b[0m\u001b[0;34m\u001b[0m\u001b[0;34m\u001b[0m\u001b[0m\n\u001b[1;32m    660\u001b[0m         \u001b[0mtransformation\u001b[0m\u001b[0;34m,\u001b[0m\u001b[0;34m\u001b[0m\u001b[0;34m\u001b[0m\u001b[0m\n\u001b[0;32m--> 661\u001b[0;31m         transform_forward)\n\u001b[0m\u001b[1;32m    662\u001b[0m \u001b[0;34m\u001b[0m\u001b[0m\n\u001b[1;32m    663\u001b[0m \u001b[0;34m\u001b[0m\u001b[0m\n",
      "\u001b[0;32m~/opt/anaconda3/lib/python3.7/site-packages/arcgis/_impl/tools.py\u001b[0m in \u001b[0;36mproject\u001b[0;34m(self, geometries, inSR, outSR, transformation, transformFoward)\u001b[0m\n\u001b[1;32m  12726\u001b[0m             \u001b[0;34m\"f\"\u001b[0m \u001b[0;34m:\u001b[0m \u001b[0;34m\"json\"\u001b[0m\u001b[0;34m,\u001b[0m\u001b[0;34m\u001b[0m\u001b[0;34m\u001b[0m\u001b[0m\n\u001b[1;32m  12727\u001b[0m             \u001b[0;34m\"inSR\"\u001b[0m \u001b[0;34m:\u001b[0m \u001b[0minSR\u001b[0m\u001b[0;34m,\u001b[0m\u001b[0;34m\u001b[0m\u001b[0;34m\u001b[0m\u001b[0m\n\u001b[0;32m> 12728\u001b[0;31m             \u001b[0;34m\"geometries\"\u001b[0m\u001b[0;34m:\u001b[0m \u001b[0mself\u001b[0m\u001b[0;34m.\u001b[0m\u001b[0m__geometryListToGeomTemplate\u001b[0m\u001b[0;34m(\u001b[0m\u001b[0mgeometries\u001b[0m\u001b[0;34m=\u001b[0m\u001b[0mgeometries\u001b[0m\u001b[0;34m)\u001b[0m\u001b[0;34m,\u001b[0m\u001b[0;34m\u001b[0m\u001b[0;34m\u001b[0m\u001b[0m\n\u001b[0m\u001b[1;32m  12729\u001b[0m             \u001b[0;34m\"outSR\"\u001b[0m \u001b[0;34m:\u001b[0m \u001b[0moutSR\u001b[0m\u001b[0;34m,\u001b[0m\u001b[0;34m\u001b[0m\u001b[0;34m\u001b[0m\u001b[0m\n\u001b[1;32m  12730\u001b[0m             \u001b[0;34m\"transformation\"\u001b[0m \u001b[0;34m:\u001b[0m \u001b[0mtransformation\u001b[0m\u001b[0;34m,\u001b[0m\u001b[0;34m\u001b[0m\u001b[0;34m\u001b[0m\u001b[0m\n",
      "\u001b[0;32m~/opt/anaconda3/lib/python3.7/site-packages/arcgis/_impl/tools.py\u001b[0m in \u001b[0;36m__geometryListToGeomTemplate\u001b[0;34m(self, geometries)\u001b[0m\n\u001b[1;32m  11867\u001b[0m \u001b[0;34m\u001b[0m\u001b[0m\n\u001b[1;32m  11868\u001b[0m                 \u001b[0;32mif\u001b[0m \u001b[0;32mnot\u001b[0m \u001b[0misinstance\u001b[0m\u001b[0;34m(\u001b[0m\u001b[0mg\u001b[0m\u001b[0;34m,\u001b[0m \u001b[0mGeometry\u001b[0m\u001b[0;34m)\u001b[0m\u001b[0;34m:\u001b[0m\u001b[0;34m\u001b[0m\u001b[0;34m\u001b[0m\u001b[0m\n\u001b[0;32m> 11869\u001b[0;31m                     \u001b[0mg\u001b[0m \u001b[0;34m=\u001b[0m \u001b[0mGeometry\u001b[0m\u001b[0;34m(\u001b[0m\u001b[0mg\u001b[0m\u001b[0;34m)\u001b[0m\u001b[0;34m\u001b[0m\u001b[0;34m\u001b[0m\u001b[0m\n\u001b[0m\u001b[1;32m  11870\u001b[0m \u001b[0;34m\u001b[0m\u001b[0m\n\u001b[1;32m  11871\u001b[0m                 \u001b[0;32mif\u001b[0m \u001b[0misinstance\u001b[0m\u001b[0;34m(\u001b[0m\u001b[0mg\u001b[0m\u001b[0;34m,\u001b[0m \u001b[0mPolyline\u001b[0m\u001b[0;34m)\u001b[0m\u001b[0;34m:\u001b[0m\u001b[0;34m\u001b[0m\u001b[0;34m\u001b[0m\u001b[0m\n",
      "\u001b[0;32m~/opt/anaconda3/lib/python3.7/site-packages/arcgis/geometry/_types.py\u001b[0m in \u001b[0;36m__call__\u001b[0;34m(cls, iterable, **kwargs)\u001b[0m\n\u001b[1;32m    228\u001b[0m             \u001b[0miterable\u001b[0m \u001b[0;34m=\u001b[0m \u001b[0;34m{\u001b[0m\u001b[0;34m}\u001b[0m\u001b[0;34m\u001b[0m\u001b[0;34m\u001b[0m\u001b[0m\n\u001b[1;32m    229\u001b[0m \u001b[0;34m\u001b[0m\u001b[0m\n\u001b[0;32m--> 230\u001b[0;31m         \u001b[0;32mif\u001b[0m \u001b[0miterable\u001b[0m\u001b[0;34m:\u001b[0m\u001b[0;34m\u001b[0m\u001b[0;34m\u001b[0m\u001b[0m\n\u001b[0m\u001b[1;32m    231\u001b[0m             \u001b[0;31m# WKB\u001b[0m\u001b[0;34m\u001b[0m\u001b[0;34m\u001b[0m\u001b[0;34m\u001b[0m\u001b[0m\n\u001b[1;32m    232\u001b[0m             \u001b[0;32mif\u001b[0m \u001b[0misinstance\u001b[0m\u001b[0;34m(\u001b[0m\u001b[0miterable\u001b[0m\u001b[0;34m,\u001b[0m \u001b[0;34m(\u001b[0m\u001b[0mbytearray\u001b[0m\u001b[0;34m,\u001b[0m \u001b[0mbytes\u001b[0m\u001b[0;34m)\u001b[0m\u001b[0;34m)\u001b[0m\u001b[0;34m:\u001b[0m\u001b[0;34m\u001b[0m\u001b[0;34m\u001b[0m\u001b[0m\n",
      "\u001b[0;32m~/opt/anaconda3/lib/python3.7/site-packages/pandas/core/generic.py\u001b[0m in \u001b[0;36m__nonzero__\u001b[0;34m(self)\u001b[0m\n\u001b[1;32m   1477\u001b[0m     \u001b[0;32mdef\u001b[0m \u001b[0m__nonzero__\u001b[0m\u001b[0;34m(\u001b[0m\u001b[0mself\u001b[0m\u001b[0;34m)\u001b[0m\u001b[0;34m:\u001b[0m\u001b[0;34m\u001b[0m\u001b[0;34m\u001b[0m\u001b[0m\n\u001b[1;32m   1478\u001b[0m         raise ValueError(\n\u001b[0;32m-> 1479\u001b[0;31m             \u001b[0;34mf\"The truth value of a {type(self).__name__} is ambiguous. \"\u001b[0m\u001b[0;34m\u001b[0m\u001b[0;34m\u001b[0m\u001b[0m\n\u001b[0m\u001b[1;32m   1480\u001b[0m             \u001b[0;34m\"Use a.empty, a.bool(), a.item(), a.any() or a.all().\"\u001b[0m\u001b[0;34m\u001b[0m\u001b[0;34m\u001b[0m\u001b[0m\n\u001b[1;32m   1481\u001b[0m         )\n",
      "\u001b[0;31mValueError\u001b[0m: The truth value of a Series is ambiguous. Use a.empty, a.bool(), a.item(), a.any() or a.all()."
     ]
    }
   ],
   "source": [
    "for country_id in df['GID_0']:\n",
    "    # get the feature to be updated\n",
    "    original_feature = [f for f in all_features if f.attributes['GID_0'] == country_id][0]\n",
    "    feature_to_be_updated = deepcopy(original_feature)\n",
    "    \n",
    "    \n",
    "    # get the matching row from dev\n",
    "    matching_row = new_flayer_rows.where(df.GID_0 == country_id).dropna()\n",
    "    \n",
    "    feature_to_be_updated.attributes['OBJECTID'] = int(matching_row['OBJECTID'])\n",
    "    \n",
    "    input_geometry = matching_row.SHAPE\n",
    "    \n",
    "    output_geometry = geometry.project(geometries = [input_geometry],\n",
    "                                       in_sr = new_fset.spatial_reference['wkid'], \n",
    "                                       out_sr = fset.spatial_reference['wkid'], \n",
    "                                       gis = gis)\n",
    "    # assign the updated values\n",
    "    feature_to_be_updated.geometry = output_geometry\n",
    "    \n",
    "    #add this to the list of features to be updated\n",
    "    features_for_update.append(feature_to_be_updated)\n"
   ]
  },
  {
   "cell_type": "code",
   "execution_count": 173,
   "metadata": {},
   "outputs": [
    {
     "data": {
      "text/plain": [
       "0    {\"rings\": [[[-87.035281988421, 65.479153994765...\n",
       "Name: SHAPE, dtype: geometry"
      ]
     },
     "execution_count": 173,
     "metadata": {},
     "output_type": "execute_result"
    }
   ],
   "source": [
    "matching_row.SHAPE"
   ]
  },
  {
   "cell_type": "code",
   "execution_count": null,
   "metadata": {},
   "outputs": [],
   "source": [
    "flayer_prod.edit_features(updates= features_for_update)"
   ]
  }
 ],
 "metadata": {
  "kernelspec": {
   "display_name": "Python 3",
   "language": "python",
   "name": "python3"
  },
  "language_info": {
   "codemirror_mode": {
    "name": "ipython",
    "version": 3
   },
   "file_extension": ".py",
   "mimetype": "text/x-python",
   "name": "python",
   "nbconvert_exporter": "python",
   "pygments_lexer": "ipython3",
   "version": "3.7.4"
  }
 },
 "nbformat": 4,
 "nbformat_minor": 4
}
