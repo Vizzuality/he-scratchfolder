{
 "cells": [
  {
   "cell_type": "markdown",
   "id": "801f5805-baa6-4172-9534-fcf594a144fd",
   "metadata": {
    "tags": []
   },
   "source": [
    "## Remove rows from hosted table using apa\n",
    "#### In this case, we have duplicated values in one of the hosted tables (Mammal_CRF_species_table 84d3c71caf97479d85f620a4ee217d68), so the same species appears more than once. We are goint to remove the repeated records."
   ]
  },
  {
   "cell_type": "markdown",
   "id": "f2d0d762-8662-4b4f-bc5f-dc5a95018ee1",
   "metadata": {},
   "source": [
    "### Connect to AGOL"
   ]
  },
  {
   "cell_type": "code",
   "execution_count": 31,
   "id": "d2003353-cb13-4516-b6a7-0bc573636080",
   "metadata": {},
   "outputs": [],
   "source": [
    "import pandas as pd\n",
    "import numpy as np\n",
    "import geopandas as gpd\n",
    "import arcgis\n",
    "from arcgis.gis import GIS\n",
    "import json\n",
    "import pandas as pd\n",
    "from arcgis.features import FeatureLayerCollection\n",
    "import requests as re\n",
    "from copy import deepcopy"
   ]
  },
  {
   "cell_type": "code",
   "execution_count": 33,
   "id": "b878b112-7421-4a31-8b98-91451b186f61",
   "metadata": {},
   "outputs": [],
   "source": [
    "env_path = \".env\"\n",
    "with open(env_path) as f:\n",
    "   env = {}\n",
    "   for line in f:\n",
    "       env_key, _val = line.split(\"=\")\n",
    "       env_value = _val.split(\"\\n\")[0]\n",
    "       env[env_key] = env_value"
   ]
  },
  {
   "cell_type": "code",
   "execution_count": 34,
   "id": "cf87dc77-671b-43ea-8a5a-bc0342bbd000",
   "metadata": {},
   "outputs": [],
   "source": [
    "aol_password = env['ARCGIS_GRETA_PASS']\n",
    "aol_username = env['ARCGIS_GRETA_USER']"
   ]
  },
  {
   "cell_type": "code",
   "execution_count": 35,
   "id": "857ba0d7-dd5b-412f-97fb-fffbc0a21050",
   "metadata": {},
   "outputs": [],
   "source": [
    "gis = GIS(\"https://eowilson.maps.arcgis.com\", aol_username, aol_password, profile = \"eowilson\")"
   ]
  },
  {
   "cell_type": "markdown",
   "id": "12424b05-7d1f-4a13-bc8c-e5f45fef8750",
   "metadata": {},
   "source": [
    "### Retrieve item"
   ]
  },
  {
   "cell_type": "code",
   "execution_count": 44,
   "id": "c4999e98-2022-4a9e-91a7-466b03fc4807",
   "metadata": {},
   "outputs": [],
   "source": [
    "item = gis.content.get('84d3c71caf97479d85f620a4ee217d68')\n",
    "flayer = item.tables[0]"
   ]
  },
  {
   "cell_type": "markdown",
   "id": "56f2991d-bc16-4c19-aa6c-f89a0a6812b7",
   "metadata": {},
   "source": [
    "### Remove duplicated rows using ObjectId"
   ]
  },
  {
   "cell_type": "code",
   "execution_count": 46,
   "id": "63a8c395-3628-4f1e-85f5-3a766ca216af",
   "metadata": {},
   "outputs": [
    {
     "data": {
      "text/plain": [
       "{'addResults': [],\n",
       " 'updateResults': [],\n",
       " 'deleteResults': [{'objectId': 2300,\n",
       "   'uniqueId': 2300,\n",
       "   'globalId': None,\n",
       "   'success': True}]}"
      ]
     },
     "execution_count": 46,
     "metadata": {},
     "output_type": "execute_result"
    }
   ],
   "source": [
    "delete_result = flayer.edit_features(deletes=str(2300))\n",
    "delete_result"
   ]
  },
  {
   "cell_type": "code",
   "execution_count": 47,
   "id": "7f10cf57-c709-4bc7-97ec-6bff4e4e584e",
   "metadata": {},
   "outputs": [],
   "source": [
    "delete_result = flayer.edit_features(deletes=str(2305))"
   ]
  },
  {
   "cell_type": "code",
   "execution_count": 48,
   "id": "46bf68c0-65b5-4fa3-8fad-1e978802cc81",
   "metadata": {},
   "outputs": [],
   "source": [
    "delete_result = flayer.edit_features(deletes=str(2310))"
   ]
  },
  {
   "cell_type": "markdown",
   "id": "7371c62e-a8f1-47d2-b544-e2b849732e2c",
   "metadata": {},
   "source": [
    "### Done"
   ]
  }
 ],
 "metadata": {
  "kernelspec": {
   "display_name": "Python 3 (ipykernel)",
   "language": "python",
   "name": "python3"
  },
  "language_info": {
   "codemirror_mode": {
    "name": "ipython",
    "version": 3
   },
   "file_extension": ".py",
   "mimetype": "text/x-python",
   "name": "python",
   "nbconvert_exporter": "python",
   "pygments_lexer": "ipython3",
   "version": "3.8.12"
  }
 },
 "nbformat": 4,
 "nbformat_minor": 5
}
