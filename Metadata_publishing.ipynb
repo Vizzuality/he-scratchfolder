{
 "cells": [
  {
   "cell_type": "markdown",
   "metadata": {},
   "source": [
    "# Gathering item description to publish service with metadata"
   ]
  },
  {
   "cell_type": "code",
   "execution_count": 1,
   "metadata": {},
   "outputs": [],
   "source": [
    "import arcgis\n",
    "from arcgis.gis import GIS\n",
    "from arcgis.features import FeatureLayerCollection\n",
    "from bs4 import BeautifulSoup\n",
    "import csv"
   ]
  },
  {
   "cell_type": "code",
   "execution_count": 2,
   "metadata": {},
   "outputs": [],
   "source": [
    "#tmp = []\n",
    "#with open(\".env\") as f:\n",
    "#    for line in f:\n",
    "#        tmp.append(line)\n",
    "#aol_password = tmp[0].split(\"=\")[1].split(\"\\n\")[0]\n",
    "#aol_username = tmp[1].split(\"=\")[1].split(\"\\n\")[0]"
   ]
  },
  {
   "cell_type": "code",
   "execution_count": 3,
   "metadata": {},
   "outputs": [],
   "source": [
    "#getting into the GIS\n",
    "#gis = GIS(\"https://eowilson.maps.arcgis.com\", aol_username, aol_password)"
   ]
  },
  {
   "cell_type": "code",
   "execution_count": 2,
   "metadata": {},
   "outputs": [],
   "source": [
    "gis = GIS(profile = \"eowilson\")"
   ]
  },
  {
   "cell_type": "markdown",
   "metadata": {},
   "source": [
    "## Updating description of an item"
   ]
  },
  {
   "cell_type": "code",
   "execution_count": null,
   "metadata": {},
   "outputs": [],
   "source": [
    "my_item = gis.content.get('4ad3082cb61a4e1c81bd4f322e0c378a')\n",
    "my_item.description"
   ]
  },
  {
   "cell_type": "code",
   "execution_count": null,
   "metadata": {},
   "outputs": [],
   "source": [
    "service_description = '==description==The World Database on Protected Areas —the most comprehensive global protected areas dataset— measures the amount of the globe currently within protected areas as defined by the database. This layer includes all protected areas designated as Biosphere Reserves. Biosphere Reserves are areas comprising terrestrial, marine and coastal ecosystems. Each reserve promotes solutions reconciling the conservation of biodiversity with its sustainable use.==/description== ==source==IUCN, UNEP-WCMC (2017). The World Database on Protected Areas (WDPA). Cambridge (UK): UNEP World Conservation Monitoring Centre. ==/source== ==molLogo==false==/molLogo== ==sourceURL==http://www.protectedplanet.net/==/sourceURL=='"
   ]
  },
  {
   "cell_type": "code",
   "execution_count": null,
   "metadata": {},
   "outputs": [],
   "source": [
    "item_properties = {'description' : service_description}"
   ]
  },
  {
   "cell_type": "code",
   "execution_count": null,
   "metadata": {},
   "outputs": [],
   "source": [
    "#my_item.update(item_properties)"
   ]
  },
  {
   "cell_type": "markdown",
   "metadata": {},
   "source": [
    "## Getting description from items and making a dictionary\n",
    "### Human data"
   ]
  },
  {
   "cell_type": "code",
   "execution_count": 7,
   "metadata": {},
   "outputs": [],
   "source": [
    "hum_dict = {'urban_human_pressures': '2255f2fa8a3c4ec18c6e23a58fc7af31',\n",
    "            'irrigated_human_pressures': '2bdf0f5f291846a79dffdaaf5fb71f45',\n",
    "            'rainfed_human_pressures': '29d091f2676f469ea9b093e044a78626',\n",
    "            'rangeland_human_pressures': 'a219cf24509740cba1d46a6561223d9a'}"
   ]
  },
  {
   "cell_type": "code",
   "execution_count": 8,
   "metadata": {},
   "outputs": [],
   "source": [
    "d = list()\n",
    "\n",
    "for key in hum_dict:\n",
    "    tiles_item=gis.content.get(hum_dict[key])\n",
    "    mdata = tiles_item.description    \n",
    "    #layer_layerSlug = mdata.split('==layerSlug==')[1].split('==/layerSlug==')[0]\n",
    "    layer_description = mdata.split('==description==')[1].split('==/description==')[0]\n",
    "    layer_source = mdata.split('==source==')[1].split('==/source==')[0]\n",
    "    layer_molLogo = mdata.split('==molLogo==')[1].split('==/molLogo==')[0]\n",
    "    layer_properties = {'layerSlug' : key, \n",
    "                        'description' : layer_description.replace(u'\\xa0', u' '), \n",
    "                        'source' : layer_source.replace(u'\\xa0', u' '), \n",
    "                        'molLogo' : layer_molLogo.replace(u'\\xa0', u' '),\n",
    "                        'Country' : 'Spain',\n",
    "                        'sourceURL' : 'https://figshare.com/articles/Global_Human_Modification/7283087'}\n",
    "    d.append(layer_properties)\n",
    "\n",
    "m_hum = {'layerSlug' : 'merged_land_human_pressures',\n",
    "         'description' : 'Shows areas where there is high anthropogenic pressure, which are represented as areas that have been highly modified or transformed from their natural state. The land use practices that typically characterize these human pressures are urban areas, high-intensity agriculture, and low-intensity agriculture. Human pressures must be considered when establishing protected areas as some species are less tolerant of human disturbance. ',\n",
    "         'source' : 'We used the Global Human Modification values computed by Kennedy et al. (2019).',\n",
    "         'molLogo' : 'false',\n",
    "         'Country' : 'Spain',\n",
    "         'sourceURL' : 'https://figshare.com/articles/Global_Human_Modification/7283087'}\n",
    "d.append(m_hum)"
   ]
  },
  {
   "cell_type": "markdown",
   "metadata": {},
   "source": [
    "### Protection data"
   ]
  },
  {
   "cell_type": "code",
   "execution_count": 9,
   "metadata": {},
   "outputs": [],
   "source": [
    "prot_dict = {'protected_areas_vector_tile_layer': '4ad3082cb61a4e1c81bd4f322e0c378a',\n",
    "            'community_areas_vector_tile_layer': '3cb0c92ca5274d8d960dde7d2b8711f9'}"
   ]
  },
  {
   "cell_type": "code",
   "execution_count": 10,
   "metadata": {},
   "outputs": [],
   "source": [
    "for key in prot_dict:\n",
    "    tiles_item=gis.content.get(prot_dict[key])\n",
    "    mdata = tiles_item.description    \n",
    "    #layer_layerSlug = mdata.split('==layerSlug==')[1].split('==/layerSlug==')[0]\n",
    "    layer_description = mdata.split('==description==')[1].split('==/description==')[0]\n",
    "    layer_source = mdata.split('==source==')[1].split('==/source==')[0]\n",
    "    layer_molLogo = mdata.split('==molLogo==')[1].split('==/molLogo==')[0]\n",
    "    layer_sourceURL = mdata.split('==sourceURL==')[1].split('==/sourceURL==')[0]\n",
    "    layer_properties = {'layerSlug' : key, \n",
    "                        'description' : layer_description.replace(u'\\xa0', u' '), \n",
    "                        'source' : layer_source.replace(u'\\xa0', u' '), \n",
    "                        'molLogo' : layer_molLogo.replace(u'\\xa0', u' '),\n",
    "                        'Country' : 'Spain',\n",
    "                        'sourceURL' : layer_sourceURL}\n",
    "    d.append(layer_properties)"
   ]
  },
  {
   "cell_type": "code",
   "execution_count": 11,
   "metadata": {},
   "outputs": [
    {
     "data": {
      "text/plain": [
       "7"
      ]
     },
     "execution_count": 11,
     "metadata": {},
     "output_type": "execute_result"
    }
   ],
   "source": [
    "len(d)"
   ]
  },
  {
   "cell_type": "markdown",
   "metadata": {},
   "source": [
    "### MOL's data\n",
    "#### 55km layers"
   ]
  },
  {
   "cell_type": "code",
   "execution_count": 12,
   "metadata": {},
   "outputs": [],
   "source": [
    "mol_dict = {'amphib-rarity' : \"dfae6e65b8054d469bb3d9a262a6a012\",\n",
    "            'mammals-rare' : 'c86a668ccf7c49e89dea321bbe5d6838',\n",
    "            'mammals-rich' : 'da62311c8b354dfe82975cbfc83ca10c',\n",
    "            'birds-rarity' : '319076f4e6484084a6b61d2b5174fdde',\n",
    "            'birds-rich' : '9044251ae4dd44a49096c0d4342da1dc',\n",
    "            'cacti-rarity' : 'd5d959cb7b73494eb86178ce8723033b',\n",
    "            'cacti-richness' : '1620d2b2e23e4722bd405f95cc49c0c2',\n",
    "            'conifers-rarity' : 'e931b9d4c3194dcdbc96bf51c530163e',\n",
    "            'conifers-rich' : 'ac39f4e35750448d93464d4807e3ac3f',\n",
    "            'reptiles-rarity' : '857da983a2a54a2fa6516059501547ac',\n",
    "            'reptiles-richness' : 'fc2ad4d2955b446687afcf545cdef135',\n",
    "            'all-taxa-rarity' : '30b635240689413082d9b4f3c8d25aa6',\n",
    "            'all-taxa-richness' : '2d2acd2ff9f54d5c87ea317c9de3c1a1',\n",
    "            'amphib-rich' : '373ad88574cc403cb4707a5491b8a661',\n",
    "            'fishes-rarity': '672fd2c2e15d43dba3c452ca600884a8',\n",
    "            'fishes-rich': '5212259d151744438c610d5104b91591'}\n"
   ]
  },
  {
   "cell_type": "code",
   "execution_count": 13,
   "metadata": {},
   "outputs": [],
   "source": [
    "for key in mol_dict:\n",
    "    tiles_item=gis.content.get(mol_dict[key])\n",
    "    mdata = tiles_item.description  \n",
    "    soup = BeautifulSoup(mdata)\n",
    "    soup_text = soup.text.replace(u'\\xa0', u' ')\n",
    "    \n",
    "    mol_description = soup_text.split('Category:')[0]\n",
    "    mol_sources = soup_text.split('Category:')[1].split('Source: ')[1]\n",
    "    mol_source = mol_sources.split('http')[0]\n",
    "    bit = mol_sources.split('http')[1]\n",
    "    mol_sourceUrl = f'http{bit}'\n",
    "    \n",
    "    \n",
    "    layer_properties = {'layerSlug' : key, \n",
    "                        'description' : mol_description.replace(u'\\xa0', u' '), \n",
    "                        'source' : mol_source.replace(u'\\xa0', u' '), \n",
    "                        'molLogo' : \"true\",\n",
    "                        'Country' : 'Spain',\n",
    "                        'sourceURL' : mol_sourceUrl}\n",
    "    #print(key)\n",
    "    d.append(layer_properties)"
   ]
  },
  {
   "cell_type": "code",
   "execution_count": 14,
   "metadata": {},
   "outputs": [
    {
     "data": {
      "text/plain": [
       "23"
      ]
     },
     "execution_count": 14,
     "metadata": {},
     "output_type": "execute_result"
    }
   ],
   "source": [
    "len(d)"
   ]
  },
  {
   "cell_type": "markdown",
   "metadata": {},
   "source": [
    "#### 1km layers"
   ]
  },
  {
   "cell_type": "code",
   "execution_count": 15,
   "metadata": {},
   "outputs": [],
   "source": [
    "newItems_id = {'amphib-rarity-sa': '6e373b8023904775a1f32d6611f3d5f4',\n",
    "                 'amphib-rich-sa': '017eed83a3cd4f5b9be45117f4948ce3',\n",
    "                 'dragonflies-rare-sa': '8666ceec9e934f7e9b229fb794ae2e15',\n",
    "                 'dragonflies-rich-sa': '975916039b9f4cd49bf41b167beffe29',\n",
    "                 'mammals-rare-sa': '1ffe2c3c178443aca54e855c56bb5500',\n",
    "                 'mammals-rich-sa': '05debae7802943d1a582878d9350f2a7',\n",
    "                 'birds-rare-sa': '6dbd1764c5324c309ec3363a4dc71062',\n",
    "                 'birds-rich-sa': '2ef1d37b06fa40098126f442523a57ea',\n",
    "                 'restio-rare-sa': 'cf643b3a86114fd5aee7b65fa3830cc5',\n",
    "                 'restio-rich-sa': '1b6b2489e75f48baa2a49048ea3dc344',\n",
    "                 'protea-rare-sa': 'e37ebccc5a434ea3a9e66702f073a151',\n",
    "                 'protea-rich-sa': 'aaedfa85703b470781b8576540ccf282',\n",
    "                 'reptiles-rare-sa': '479cde21fb6a4e30a952e2f0bebaefbe',\n",
    "                 'reptiles-rich-sa': '4a95917403a443a19281dc2a3899b864',\n",
    "                 'hummingbirds-rare': 'ba2980efe56e4b37b20f9dbb3abc5ce2',\n",
    "                 'hummingbirds-rich': 'bcc43878d88f46788b064119fbf717d5'}"
   ]
  },
  {
   "cell_type": "code",
   "execution_count": 16,
   "metadata": {},
   "outputs": [],
   "source": [
    "for key in newItems_id:\n",
    "    tiles_item=gis.content.get(newItems_id[key])\n",
    "    description = tiles_item.description  \n",
    "    mol_source = tiles_item.accessInformation\n",
    "\n",
    "    layer_properties = {'layerSlug' : key, \n",
    "                        'description' : description.replace(u'\\xa0', u' '), \n",
    "                        'source' : mol_source.replace(u'\\xa0', u' '), \n",
    "                        'molLogo' : \"true\",\n",
    "                        'Country' : 'Spain',\n",
    "                        'sourceURL' : \"https://mol.org\"}\n",
    "    d.append(layer_properties)"
   ]
  },
  {
   "cell_type": "code",
   "execution_count": 17,
   "metadata": {},
   "outputs": [
    {
     "data": {
      "text/plain": [
       "39"
      ]
     },
     "execution_count": 17,
     "metadata": {},
     "output_type": "execute_result"
    }
   ],
   "source": [
    "len(d)"
   ]
  },
  {
   "cell_type": "markdown",
   "metadata": {},
   "source": [
    "## Writing the csv file"
   ]
  },
  {
   "cell_type": "code",
   "execution_count": 18,
   "metadata": {},
   "outputs": [],
   "source": [
    "csv_columns = ['layerSlug','description','source', 'molLogo', 'Country', 'sourceURL']\n",
    "\n",
    "csv_file = \"Metadata2.csv\"\n",
    "try:\n",
    "    with open(csv_file, 'w') as csvfile:\n",
    "        writer = csv.DictWriter(csvfile, fieldnames=csv_columns)\n",
    "        writer.writeheader()\n",
    "        for data in d:\n",
    "            writer.writerow(data)\n",
    "except IOError:\n",
    "    print(\"I/O error\")"
   ]
  },
  {
   "cell_type": "markdown",
   "metadata": {},
   "source": [
    "## To publish the metadata service the first time"
   ]
  },
  {
   "cell_type": "code",
   "execution_count": 10,
   "metadata": {},
   "outputs": [
    {
     "data": {
      "text/plain": [
       "{'results': [{'itemId': '3289cb8497354bb89e62431d3d6cee4e',\n",
       "   'success': True,\n",
       "   'notSharedWith': []}]}"
      ]
     },
     "execution_count": 10,
     "metadata": {},
     "output_type": "execute_result"
    }
   ],
   "source": [
    "csv_file = \"Metadata_table.csv\"\n",
    "csv_item = gis.content.add({}, csv_file)\n",
    "csv_lyr = csv_item.publish(None)#,  { 'CountryCode' : 'Country'} )\n",
    "#new_folder_details = gis.content.create_folder(\"metadata\")\n",
    "#csv_item.move(new_folder_details)\n",
    "#csv_lyr.move(new_folder_details)\n",
    "csv_lyr.share(everyone = True)\n",
    "#print(csv_lyr.ownerFolder)"
   ]
  },
  {
   "cell_type": "markdown",
   "metadata": {},
   "source": [
    "## To overwrite the service"
   ]
  },
  {
   "cell_type": "code",
   "execution_count": 3,
   "metadata": {},
   "outputs": [
    {
     "data": {
      "text/plain": [
       "[<Item title:\"Metadata2\" type:Feature Layer Collection owner:greta.carrete_eowilson>]"
      ]
     },
     "execution_count": 3,
     "metadata": {},
     "output_type": "execute_result"
    }
   ],
   "source": [
    "meta_list = gis.content.search(query=f\"metadata2 AND \\owner:{gis.users.me.username}\", \n",
    "                                item_type=\"Feature Service\")\n",
    "meta_list"
   ]
  },
  {
   "cell_type": "code",
   "execution_count": 4,
   "metadata": {},
   "outputs": [
    {
     "data": {
      "text/plain": [
       "'d899a4364fe5431b8c5bef826ad4430d'"
      ]
     },
     "execution_count": 4,
     "metadata": {},
     "output_type": "execute_result"
    }
   ],
   "source": [
    "meta_list[0].id"
   ]
  },
  {
   "cell_type": "code",
   "execution_count": 5,
   "metadata": {},
   "outputs": [],
   "source": [
    "meta_item_id = meta_list[0].id"
   ]
  },
  {
   "cell_type": "code",
   "execution_count": 6,
   "metadata": {},
   "outputs": [],
   "source": [
    "meta_item = gis.content.get(meta_item_id)"
   ]
  },
  {
   "cell_type": "code",
   "execution_count": 7,
   "metadata": {},
   "outputs": [],
   "source": [
    "flayer_collection = FeatureLayerCollection.fromitem(meta_item)"
   ]
  },
  {
   "cell_type": "code",
   "execution_count": 8,
   "metadata": {},
   "outputs": [],
   "source": [
    "csv_file = \"Metadata2.csv\""
   ]
  },
  {
   "cell_type": "code",
   "execution_count": 9,
   "metadata": {},
   "outputs": [
    {
     "data": {
      "text/plain": [
       "{'success': True}"
      ]
     },
     "execution_count": 9,
     "metadata": {},
     "output_type": "execute_result"
    }
   ],
   "source": [
    "#call the overwrite() method which can be accessed using the manager property\n",
    "flayer_collection.manager.overwrite(csv_file)"
   ]
  },
  {
   "cell_type": "markdown",
   "metadata": {},
   "source": [
    "# Reviewed method to overwrite the service:\n",
    "1. get the item with the metadata\n",
    "2. make it an sdf\n",
    "3. write csv\n",
    "4. edit csv\n",
    "5. overwrite service with new csv"
   ]
  },
  {
   "cell_type": "code",
   "execution_count": 1,
   "metadata": {},
   "outputs": [],
   "source": [
    "import arcgis\n",
    "from arcgis.gis import GIS\n",
    "from arcgis.features import FeatureLayerCollection\n",
    "from bs4 import BeautifulSoup\n",
    "import csv"
   ]
  },
  {
   "cell_type": "code",
   "execution_count": 6,
   "metadata": {},
   "outputs": [],
   "source": [
    "gis = GIS(profile = \"eowilson\")"
   ]
  },
  {
   "cell_type": "code",
   "execution_count": 2,
   "metadata": {},
   "outputs": [],
   "source": [
    "import re\n",
    "def create_strict_reg_exp(to_search):\n",
    "    try:\n",
    "        reg_exp = f\"^{to_search}$\"\n",
    "        #logging.info(f\"regular expression is: {reg_exp}\")\n",
    "    except:\n",
    "        print(\"There was a problem with the string.\")\n",
    "    return reg_exp"
   ]
  },
  {
   "cell_type": "code",
   "execution_count": 3,
   "metadata": {},
   "outputs": [],
   "source": [
    "def findItemGetID(csvName, gis, item_type = \"Feature Layer\"):\n",
    "    try:\n",
    "        searched_item = gis.content.search(csvName, item_type = item_type)\n",
    "        for i in searched_item:\n",
    "            reg_exp = create_strict_reg_exp(csvName)\n",
    "            if re.search(reg_exp, i.title)!= None:    \n",
    "                #logging.info(f\"{csvName} has the id: {i.id}\")\n",
    "                return i.id\n",
    "    except:\n",
    "        print(\"There was a problem finding the item\")"
   ]
  },
  {
   "cell_type": "code",
   "execution_count": 4,
   "metadata": {},
   "outputs": [],
   "source": [
    "def getFlayerFromID(item_id):\n",
    "    item = gis.content.get(item_id)\n",
    "    flayer = item.layers[0]\n",
    "    return flayer"
   ]
  },
  {
   "cell_type": "code",
   "execution_count": 5,
   "metadata": {},
   "outputs": [],
   "source": [
    "import pandas as pd\n",
    "def getSDFfromFlayer(flayer):\n",
    "    sdf = pd.DataFrame.spatial.from_layer(flayer)\n",
    "    return sdf"
   ]
  },
  {
   "cell_type": "code",
   "execution_count": 7,
   "metadata": {},
   "outputs": [],
   "source": [
    "meta_item_id = findItemGetID(\"Metadata2\", gis, item_type = \"Feature Service\")"
   ]
  },
  {
   "cell_type": "code",
   "execution_count": 8,
   "metadata": {},
   "outputs": [],
   "source": [
    "flayer = getFlayerFromID(meta_item_id)"
   ]
  },
  {
   "cell_type": "code",
   "execution_count": 9,
   "metadata": {},
   "outputs": [],
   "source": [
    "meta_sdf = getSDFfromFlayer(flayer)"
   ]
  },
  {
   "cell_type": "code",
   "execution_count": 10,
   "metadata": {},
   "outputs": [],
   "source": [
    "csv_file = \"pd_metadata.csv\""
   ]
  },
  {
   "cell_type": "code",
   "execution_count": 11,
   "metadata": {},
   "outputs": [],
   "source": [
    "meta_sdf.to_csv(csv_file)"
   ]
  },
  {
   "cell_type": "code",
   "execution_count": 12,
   "metadata": {},
   "outputs": [],
   "source": [
    "meta_item = gis.content.get(meta_item_id)"
   ]
  },
  {
   "cell_type": "code",
   "execution_count": 13,
   "metadata": {},
   "outputs": [],
   "source": [
    "flayer_collection = FeatureLayerCollection.fromitem(meta_item)"
   ]
  },
  {
   "cell_type": "code",
   "execution_count": 14,
   "metadata": {},
   "outputs": [
    {
     "data": {
      "text/plain": [
       "{'success': True}"
      ]
     },
     "execution_count": 14,
     "metadata": {},
     "output_type": "execute_result"
    }
   ],
   "source": [
    "flayer_collection.manager.overwrite(csv_file)"
   ]
  },
  {
   "cell_type": "code",
   "execution_count": null,
   "metadata": {},
   "outputs": [],
   "source": []
  }
 ],
 "metadata": {
  "kernelspec": {
   "display_name": "Python 3",
   "language": "python",
   "name": "python3"
  },
  "language_info": {
   "codemirror_mode": {
    "name": "ipython",
    "version": 3
   },
   "file_extension": ".py",
   "mimetype": "text/x-python",
   "name": "python",
   "nbconvert_exporter": "python",
   "pygments_lexer": "ipython3",
   "version": "3.8.3"
  }
 },
 "nbformat": 4,
 "nbformat_minor": 4
}
