{
 "cells": [
  {
   "cell_type": "markdown",
   "id": "629437e7-cf83-4760-b27d-e50eec954e80",
   "metadata": {},
   "source": [
    "## Notebook to simplify bpow layer - For Story map\n",
    "This notebook shows the simplification process followed to simplify the benthic layer to be able to show it on the ESRI story map"
   ]
  },
  {
   "cell_type": "code",
   "execution_count": 1,
   "id": "6598b5a6-f106-4ae8-b6cf-64e1f5b7e3c4",
   "metadata": {},
   "outputs": [],
   "source": [
    "# Import libraries\n",
    "import geopandas as gpd\n",
    "import matplotlib.pyplot as plt\n",
    "import pandas as pd\n"
   ]
  },
  {
   "cell_type": "code",
   "execution_count": 6,
   "id": "eccf8cb1-1167-4581-a25f-f2e76ede55bc",
   "metadata": {},
   "outputs": [
    {
     "data": {
      "text/plain": [
       "100"
      ]
     },
     "execution_count": 6,
     "metadata": {},
     "output_type": "execute_result"
    }
   ],
   "source": [
    "# Import layer\n",
    "bpow = gpd.read_file('/Users/sofia/Documents/HE_Data/Story_Map/BenthicLayer/bpow_p8s5_abyssal_corr.shp')\n",
    "len(bpow)"
   ]
  },
  {
   "cell_type": "code",
   "execution_count": 7,
   "id": "a3ab75bc",
   "metadata": {},
   "outputs": [
    {
     "data": {
      "text/plain": [
       "27"
      ]
     },
     "execution_count": 7,
     "metadata": {},
     "output_type": "execute_result"
    }
   ],
   "source": [
    "# Check number of valid geometries\n",
    "sum(bpow.is_valid) "
   ]
  },
  {
   "cell_type": "code",
   "execution_count": 8,
   "id": "097e2882",
   "metadata": {},
   "outputs": [
    {
     "data": {
      "text/plain": [
       "100"
      ]
     },
     "execution_count": 8,
     "metadata": {},
     "output_type": "execute_result"
    }
   ],
   "source": [
    "# Repair geometries, in case some are invalid after simplification, and check how many are valid\n",
    "bpow['geometry'] = bpow['geometry'].buffer(0) # this is to repair geometries\n",
    "sum(bpow.is_valid) # now all are valid"
   ]
  },
  {
   "cell_type": "code",
   "execution_count": 9,
   "id": "fdeb2e80",
   "metadata": {},
   "outputs": [],
   "source": [
    "# Save corrected layer\n",
    "bpow.to_file('/Users/sofia/Documents/HE_Data/Story_Map/BenthicLayer/corrected/bpow_p8s5_abyssal_corrected.shp', driver='ESRI Shapefile')"
   ]
  },
  {
   "cell_type": "code",
   "execution_count": 13,
   "id": "0574f5e7",
   "metadata": {},
   "outputs": [],
   "source": [
    "bpow = gpd.read_file('/Users/sofia/Documents/HE_Data/Story_Map/BenthicLayer/corrected/bpow_p8s5_abyssal_corrected.shp')"
   ]
  },
  {
   "cell_type": "markdown",
   "id": "f01ce282",
   "metadata": {},
   "source": [
    "### Simplification"
   ]
  },
  {
   "cell_type": "code",
   "execution_count": 32,
   "id": "639568db-4113-407f-8fd8-bf71c0722a8d",
   "metadata": {},
   "outputs": [
    {
     "name": "stdout",
     "output_type": "stream",
     "text": [
      "Allocating 16 GB of heap memory\n",
      "[i] Snapped 46798 points\n",
      "[simplify] Repaired 399 intersections; 2,400 intersections could not be repaired\n",
      "[filter-islands] Removed 5,605 islands\n",
      "[filter-slivers] Removed 65,287 slivers using 0.01+ sqkm variable threshold\n",
      "[clean] Removed 107 / 126 slivers using 7.6+ sqkm variable threshold\n",
      "[clean] Retained 100 of 100 features\n",
      "[o] Wrote /Users/sofia/Documents/HE_Data/Story_Map/BenthicLayer/simplified/bpow_p8s5_abyssal_simplified.shp\n",
      "[o] Wrote /Users/sofia/Documents/HE_Data/Story_Map/BenthicLayer/simplified/bpow_p8s5_abyssal_simplified.shx\n",
      "[o] Wrote /Users/sofia/Documents/HE_Data/Story_Map/BenthicLayer/simplified/bpow_p8s5_abyssal_simplified.dbf\n",
      "[o] Wrote /Users/sofia/Documents/HE_Data/Story_Map/BenthicLayer/simplified/bpow_p8s5_abyssal_simplified.prj\n"
     ]
    }
   ],
   "source": [
    "# Simplify layer \n",
    "!mapshaper-xl 16gb -i /Users/sofia/Documents/HE_Data/Story_Map/BenthicLayer/corrected/bpow_p8s5_abyssal_corrected.shp snap \\\n",
    "    -simplify 10% weighting=0.3 planar keep-shapes \\\n",
    "    -filter-islands min-vertices=3 min-area=10000m2 remove-empty \\\n",
    "    -filter-slivers min-area=10000m2 remove-empty \\\n",
    "    -clean rewind \\\n",
    "    -o /Users/sofia/Documents/HE_Data/Story_Map/BenthicLayer/simplified/bpow_p8s5_abyssal_simplified.shapefile format=shapefile "
   ]
  },
  {
   "cell_type": "code",
   "execution_count": 33,
   "id": "62988590",
   "metadata": {},
   "outputs": [],
   "source": [
    "# Open simplified layer\n",
    "bpow2 = gpd.read_file('/Users/sofia/Documents/HE_Data/Story_Map/BenthicLayer/simplified/bpow_p8s5_abyssal_simplified.shp')"
   ]
  },
  {
   "cell_type": "code",
   "execution_count": 18,
   "id": "7b2fe1c8",
   "metadata": {},
   "outputs": [
    {
     "data": {
      "text/plain": [
       "100"
      ]
     },
     "execution_count": 18,
     "metadata": {},
     "output_type": "execute_result"
    }
   ],
   "source": [
    "len(bpow2)"
   ]
  },
  {
   "cell_type": "code",
   "execution_count": 34,
   "id": "fd90e084",
   "metadata": {},
   "outputs": [
    {
     "data": {
      "text/plain": [
       "91"
      ]
     },
     "execution_count": 34,
     "metadata": {},
     "output_type": "execute_result"
    }
   ],
   "source": [
    "sum(bpow2.is_valid) "
   ]
  },
  {
   "cell_type": "code",
   "execution_count": 35,
   "id": "966e719a",
   "metadata": {},
   "outputs": [
    {
     "data": {
      "text/plain": [
       "100"
      ]
     },
     "execution_count": 35,
     "metadata": {},
     "output_type": "execute_result"
    }
   ],
   "source": [
    "# Repair geometries, in case some are invalid after simplification, and check how many are valid\n",
    "bpow2['geometry'] = bpow2['geometry'].buffer(0) # this is to repair geometries\n",
    "sum(bpow2.is_valid) # now all are valid"
   ]
  },
  {
   "cell_type": "code",
   "execution_count": 21,
   "id": "41aa4b09",
   "metadata": {},
   "outputs": [
    {
     "data": {
      "text/html": [
       "<div>\n",
       "<style scoped>\n",
       "    .dataframe tbody tr th:only-of-type {\n",
       "        vertical-align: middle;\n",
       "    }\n",
       "\n",
       "    .dataframe tbody tr th {\n",
       "        vertical-align: top;\n",
       "    }\n",
       "\n",
       "    .dataframe thead th {\n",
       "        text-align: right;\n",
       "    }\n",
       "</style>\n",
       "<table border=\"1\" class=\"dataframe\">\n",
       "  <thead>\n",
       "    <tr style=\"text-align: right;\">\n",
       "      <th></th>\n",
       "      <th>type</th>\n",
       "      <th>type_id</th>\n",
       "      <th>prov_n</th>\n",
       "      <th>prov_id</th>\n",
       "      <th>source</th>\n",
       "      <th>ID</th>\n",
       "      <th>geometry</th>\n",
       "    </tr>\n",
       "  </thead>\n",
       "  <tbody>\n",
       "    <tr>\n",
       "      <th>0</th>\n",
       "      <td>abyssal</td>\n",
       "      <td>abyssal-1</td>\n",
       "      <td>Arctic</td>\n",
       "      <td>1</td>\n",
       "      <td>Watling et al., (2013)</td>\n",
       "      <td>1</td>\n",
       "      <td>MULTIPOLYGON (((180.008 88.538, 180.008 88.504...</td>\n",
       "    </tr>\n",
       "    <tr>\n",
       "      <th>1</th>\n",
       "      <td>abyssal</td>\n",
       "      <td>abyssal-10</td>\n",
       "      <td>South Pacific</td>\n",
       "      <td>10</td>\n",
       "      <td>Watling et al., (2013)</td>\n",
       "      <td>2</td>\n",
       "      <td>MULTIPOLYGON (((180.000 -11.146, 180.000 -11.3...</td>\n",
       "    </tr>\n",
       "    <tr>\n",
       "      <th>2</th>\n",
       "      <td>abyssal</td>\n",
       "      <td>abyssal-11</td>\n",
       "      <td>Central Pacific</td>\n",
       "      <td>11</td>\n",
       "      <td>Watling et al., (2013)</td>\n",
       "      <td>3</td>\n",
       "      <td>MULTIPOLYGON (((174.900 -2.304, 174.725 -2.279...</td>\n",
       "    </tr>\n",
       "    <tr>\n",
       "      <th>3</th>\n",
       "      <td>abyssal</td>\n",
       "      <td>abyssal-12</td>\n",
       "      <td>North Central Pacific</td>\n",
       "      <td>12</td>\n",
       "      <td>Watling et al., (2013)</td>\n",
       "      <td>4</td>\n",
       "      <td>MULTIPOLYGON (((137.067 33.171, 137.100 33.188...</td>\n",
       "    </tr>\n",
       "    <tr>\n",
       "      <th>4</th>\n",
       "      <td>abyssal</td>\n",
       "      <td>abyssal-13</td>\n",
       "      <td>North Pacific</td>\n",
       "      <td>13</td>\n",
       "      <td>Watling et al., (2013)</td>\n",
       "      <td>5</td>\n",
       "      <td>MULTIPOLYGON (((141.733 31.546, 141.742 31.538...</td>\n",
       "    </tr>\n",
       "  </tbody>\n",
       "</table>\n",
       "</div>"
      ],
      "text/plain": [
       "      type     type_id                 prov_n prov_id                  source  \\\n",
       "0  abyssal   abyssal-1                 Arctic       1  Watling et al., (2013)   \n",
       "1  abyssal  abyssal-10          South Pacific      10  Watling et al., (2013)   \n",
       "2  abyssal  abyssal-11        Central Pacific      11  Watling et al., (2013)   \n",
       "3  abyssal  abyssal-12  North Central Pacific      12  Watling et al., (2013)   \n",
       "4  abyssal  abyssal-13          North Pacific      13  Watling et al., (2013)   \n",
       "\n",
       "   ID                                           geometry  \n",
       "0   1  MULTIPOLYGON (((180.008 88.538, 180.008 88.504...  \n",
       "1   2  MULTIPOLYGON (((180.000 -11.146, 180.000 -11.3...  \n",
       "2   3  MULTIPOLYGON (((174.900 -2.304, 174.725 -2.279...  \n",
       "3   4  MULTIPOLYGON (((137.067 33.171, 137.100 33.188...  \n",
       "4   5  MULTIPOLYGON (((141.733 31.546, 141.742 31.538...  "
      ]
     },
     "execution_count": 21,
     "metadata": {},
     "output_type": "execute_result"
    }
   ],
   "source": [
    "bpow2.head()"
   ]
  },
  {
   "cell_type": "code",
   "execution_count": 36,
   "id": "e1f2d960",
   "metadata": {},
   "outputs": [],
   "source": [
    "## Divide layer by type\n",
    "abyssal = bpow2[bpow2['type']=='abyssal']\n",
    "abyssal.to_file('/Users/sofia/Documents/HE_Data/Story_Map/BenthicLayer/simplified/abyssal_simplified.shp', driver = 'ESRI Shapefile')\n",
    "bathyal = bpow2[bpow2['type']=='bathyal']\n",
    "bathyal.to_file('/Users/sofia/Documents/HE_Data/Story_Map/BenthicLayer/simplified/bathyal_simplified.shp', driver = 'ESRI Shapefile')\n",
    "coastal = bpow2[bpow2['type']=='coastal']\n",
    "coastal.to_file('/Users/sofia/Documents/HE_Data/Story_Map/BenthicLayer/simplified/coastal_simplified.shp', driver = 'ESRI Shapefile')\n",
    "hadal = bpow2[bpow2['type']=='hadal']\n",
    "hadal.to_file('/Users/sofia/Documents/HE_Data/Story_Map/BenthicLayer/simplified/hadal_simplified.shp', driver = 'ESRI Shapefile')"
   ]
  },
  {
   "cell_type": "code",
   "execution_count": 37,
   "id": "4de5dbbe-49db-4c4e-9ee1-cd566ca21b79",
   "metadata": {},
   "outputs": [
    {
     "data": {
      "text/plain": [
       "<AxesSubplot:>"
      ]
     },
     "execution_count": 37,
     "metadata": {},
     "output_type": "execute_result"
    },
    {
     "data": {
      "image/png": "[encoded data removed]",
      "text/plain": [
       "<Figure size 720x720 with 2 Axes>"
      ]
     },
     "metadata": {
      "needs_background": "light"
     },
     "output_type": "display_data"
    }
   ],
   "source": [
    "# Check if new geometries in corrected database are the same as the simplified\n",
    "n= '5'\n",
    "fig, (ax1,ax2) = plt.subplots(nrows=1,ncols=2,figsize=(10,10))\n",
    "bpow[bpow['type']=='coastal'].geometry.plot(ax = ax1) \n",
    "coastal.geometry.plot(ax = ax2)"
   ]
  }
 ],
 "metadata": {
  "kernelspec": {
   "display_name": "Python 3.8.12 ('vizz38')",
   "language": "python",
   "name": "python3"
  },
  "language_info": {
   "codemirror_mode": {
    "name": "ipython",
    "version": 3
   },
   "file_extension": ".py",
   "mimetype": "text/x-python",
   "name": "python",
   "nbconvert_exporter": "python",
   "pygments_lexer": "ipython3",
   "version": "3.8.12"
  },
  "vscode": {
   "interpreter": {
    "hash": "4829cc13d368d943a62b17104ac97c1ea81b455d93d0d0d9a78d8f68633ebeb3"
   }
  }
 },
 "nbformat": 4,
 "nbformat_minor": 5
}
