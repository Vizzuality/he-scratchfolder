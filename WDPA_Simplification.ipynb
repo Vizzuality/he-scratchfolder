{
 "cells": [
  {
   "cell_type": "markdown",
   "metadata": {},
   "source": [
    "# Simplification of WDPA to be used in AOI\n",
    "### Because the original WDPA layers are too heavy to be displayed, we create 3 simplified layers that will be used in different zoom levels:\n",
    "##### 1. Global view: this will use the most simplified version, one in which some geometries can be removed\n",
    "##### 2. Medium zoom levels: for this we will keep all geometries but simplify the geometries as much as possible\n",
    "##### 3. Detailed zoom: for this we need a slightly simplified layer that preserves the shapes as much as possible and keeps all the geometries (except those that have null geometries). This layer will be heavier and only displayed at very detailed zooms.\n",
    "### The 3 simplifications will be made using mapshaper. We will base the simplification in the command used in Marxan, but testing different options to find the most efficient way to display each of these 3 layers.\n",
    "Mapshaper commad used in Marxan:\n",
    "!mapshaper -i /Users/tamarahuete/Documents/HALF_EARTH/Ecoregions2017_20210825.shp snap combine-files \\\n",
    "        -simplify 25% planar keep-shapes \\\n",
    "        -filter-islands min-vertices=3 min-area=10000m2 remove-empty \\\n",
    "        -filter-slivers min-area=10000m2 remove-empty \\\n",
    "        -clean rewind \\\n",
    "        -o /Users/tamarahuete/Documents/HALF_EARTH/Ecoregions2017_20210825_simple.shp format=shapefile force ndjson"
   ]
  },
  {
   "cell_type": "code",
   "execution_count": null,
   "metadata": {},
   "outputs": [],
   "source": [
    "# ## In terminal run to install mapshaper:\n",
    "# !nvm use 12.21.0\n",
    "# !npm i -g mapshaper@0.5.67"
   ]
  },
  {
   "cell_type": "code",
   "execution_count": 1,
   "metadata": {},
   "outputs": [],
   "source": [
    "import geopandas as gpd\n",
    "import matplotlib.pyplot as plt\n",
    "import pandas\n",
    "import os\n",
    "import json\n",
    "from zipfile import ZipFile"
   ]
  },
  {
   "cell_type": "markdown",
   "metadata": {},
   "source": [
    "## Terrestrial WDPAs"
   ]
  },
  {
   "cell_type": "code",
   "execution_count": 2,
   "metadata": {},
   "outputs": [],
   "source": [
    "path = '/Users/sofia/Documents/HE_Data/WDPA'"
   ]
  },
  {
   "cell_type": "code",
   "execution_count": 3,
   "metadata": {},
   "outputs": [
    {
     "data": {
      "text/plain": [
       "217424"
      ]
     },
     "execution_count": 3,
     "metadata": {},
     "output_type": "execute_result"
    }
   ],
   "source": [
    "# Read file (this is a layer only with terrestrial WDPA used for the AOI precalculated data, it was corrected in ArcGIS Pro to solve geometry problems)\n",
    "gdf = gpd.read_file(f'{path}/WDPA_FILTERED_20210615_FILTERED_nomarine_with_oecm_wdpa_corrected/WDPA_FILTERED_20210615_FILTERED_nomarine_with_oecm_wdpa.shp')\n",
    "len(gdf)"
   ]
  },
  {
   "cell_type": "code",
   "execution_count": 4,
   "metadata": {},
   "outputs": [
    {
     "data": {
      "text/html": [
       "<div>\n",
       "<style scoped>\n",
       "    .dataframe tbody tr th:only-of-type {\n",
       "        vertical-align: middle;\n",
       "    }\n",
       "\n",
       "    .dataframe tbody tr th {\n",
       "        vertical-align: top;\n",
       "    }\n",
       "\n",
       "    .dataframe thead th {\n",
       "        text-align: right;\n",
       "    }\n",
       "</style>\n",
       "<table border=\"1\" class=\"dataframe\">\n",
       "  <thead>\n",
       "    <tr style=\"text-align: right;\">\n",
       "      <th></th>\n",
       "      <th>WDPAID</th>\n",
       "      <th>WDPA_PID</th>\n",
       "      <th>NAME</th>\n",
       "      <th>DESIG</th>\n",
       "      <th>DESIG_T</th>\n",
       "      <th>IUCN_CA</th>\n",
       "      <th>STATUS</th>\n",
       "      <th>GOV_TYP</th>\n",
       "      <th>MANG_AU</th>\n",
       "      <th>ISO3</th>\n",
       "      <th>AREA_KM</th>\n",
       "      <th>MOL_ID</th>\n",
       "      <th>geometry</th>\n",
       "    </tr>\n",
       "  </thead>\n",
       "  <tbody>\n",
       "    <tr>\n",
       "      <th>177467</th>\n",
       "      <td>394131.0</td>\n",
       "      <td>394131</td>\n",
       "      <td>\"Fonds Gatot\" Et \"Laid Mâle\"</td>\n",
       "      <td>Site Naturel D'Interêt Scientifique</td>\n",
       "      <td>National</td>\n",
       "      <td>IV</td>\n",
       "      <td>Designated</td>\n",
       "      <td>Federal or national ministry or agency</td>\n",
       "      <td>Not Reported</td>\n",
       "      <td>BEL</td>\n",
       "      <td>0.099415</td>\n",
       "      <td>177471</td>\n",
       "      <td>MULTIPOLYGON (((4.76254 50.57918, 4.75987 50.5...</td>\n",
       "    </tr>\n",
       "  </tbody>\n",
       "</table>\n",
       "</div>"
      ],
      "text/plain": [
       "          WDPAID WDPA_PID                          NAME  \\\n",
       "177467  394131.0   394131  \"Fonds Gatot\" Et \"Laid Mâle\"   \n",
       "\n",
       "                                      DESIG   DESIG_T IUCN_CA      STATUS  \\\n",
       "177467  Site Naturel D'Interêt Scientifique  National      IV  Designated   \n",
       "\n",
       "                                       GOV_TYP       MANG_AU ISO3   AREA_KM  \\\n",
       "177467  Federal or national ministry or agency  Not Reported  BEL  0.099415   \n",
       "\n",
       "        MOL_ID                                           geometry  \n",
       "177467  177471  MULTIPOLYGON (((4.76254 50.57918, 4.75987 50.5...  "
      ]
     },
     "execution_count": 4,
     "metadata": {},
     "output_type": "execute_result"
    }
   ],
   "source": [
    "gdf[gdf['WDPA_PID']=='394131'] # reading csv keeps original characters as they are"
   ]
  },
  {
   "cell_type": "markdown",
   "metadata": {},
   "source": [
    "Because converting the shp to json (for the simplification) changes the original characters of the names, let's create a new gdf that only contains the geometries and the MOL_ID of the WDPA. We'll do the simplification using these and join the required attributes for the original table later "
   ]
  },
  {
   "cell_type": "code",
   "execution_count": 5,
   "metadata": {},
   "outputs": [],
   "source": [
    "gdf2 = gdf[['MOL_ID','geometry']]"
   ]
  },
  {
   "cell_type": "code",
   "execution_count": 7,
   "metadata": {},
   "outputs": [],
   "source": [
    "# Save file in local\n",
    "gdf2.to_file(f'{path}/WDPA_Terrestrial_corrected_geomOnly', driver= 'ESRI Shapefile')"
   ]
  },
  {
   "cell_type": "markdown",
   "metadata": {},
   "source": [
    "### Simplifications"
   ]
  },
  {
   "cell_type": "markdown",
   "metadata": {
    "tags": []
   },
   "source": [
    "#### 1. Detailed simplification (to be used at large scales with a greater amount of detail)"
   ]
  },
  {
   "cell_type": "code",
   "execution_count": 6,
   "metadata": {},
   "outputs": [
    {
     "name": "stdout",
     "output_type": "stream",
     "text": [
      "Allocating 16 GB of heap memory\n",
      "[merge-layers] Use the target= option to specify multiple layers for merging\n",
      "[o] Wrote WDPA_test/1.json\n",
      "[o] Wrote WDPA_test/2.json\n",
      "[o] Wrote WDPA_test/3.json\n",
      "[o] Wrote WDPA_test/4.json\n",
      "[o] Wrote WDPA_test/5.json\n",
      "[o] Wrote WDPA_test/6.json\n",
      "[o] Wrote WDPA_test/7.json\n",
      "[o] Wrote WDPA_test/8.json\n",
      "[o] Wrote WDPA_test/9.json\n",
      "[o] Wrote WDPA_test/10.json\n",
      "[o] Wrote WDPA_test/11.json\n"
     ]
    }
   ],
   "source": [
    "# Break the shp into 12 json files to make the process more efficient\n",
    "!mapshaper-xl 16gb -i ./../../HE_Data/WDPA/WDPA_Terrestrial_corrected_geomOnly/*.shp no-topology combine-files \\\n",
    "    -merge-layers \\\n",
    "    -each \"group = Math.trunc(this.id/20000)+1\" \\\n",
    "    -split group \\\n",
    "    -o WDPA_test/ format=geojson precision=0.0001 force ndjson"
   ]
  },
  {
   "cell_type": "code",
   "execution_count": 7,
   "metadata": {},
   "outputs": [
    {
     "name": "stdout",
     "output_type": "stream",
     "text": [
      "Allocating 16 GB of heap memory\n",
      "[i] Snapped 0 points\n",
      "[simplify] Repaired 5,027 intersections; 9,942 intersections could not be repaired\n",
      "[o] Wrote WDPA_test/1.json\n",
      "[i] Snapped 0 points\n",
      "[simplify] Repaired 6,819 intersections; 32,381 intersections could not be repaired\n",
      "[o] Wrote WDPA_test/10.json\n",
      "[i] Snapped 0 points\n",
      "[simplify] Repaired 0 intersections; 49,347 intersections could not be repaired\n",
      "[o] Wrote WDPA_test/11.json\n",
      "[i] Snapped 0 points\n",
      "[simplify] Repaired 2,474 intersections; 16,014 intersections could not be repaired\n",
      "[o] Wrote WDPA_test/2.json\n",
      "[i] Snapped 0 points\n",
      "[simplify] Repaired 2,617 intersections; 33,806 intersections could not be repaired\n",
      "[o] Wrote WDPA_test/3.json\n",
      "[i] Snapped 0 points\n",
      "[simplify] Repaired 2,074 intersections; 14,760 intersections could not be repaired\n",
      "[o] Wrote WDPA_test/4.json\n",
      "[i] Snapped 0 points\n",
      "[simplify] Repaired 1,568 intersections; 24,260 intersections could not be repaired\n",
      "[o] Wrote WDPA_test/5.json\n",
      "[i] Snapped 0 points\n",
      "[simplify] Repaired 526 intersections; 45,894 intersections could not be repaired\n",
      "[o] Wrote WDPA_test/6.json\n",
      "[i] Snapped 0 points\n",
      "[simplify] Repaired 13,693 intersections; 71,522 intersections could not be repaired\n",
      "[o] Wrote WDPA_test/7.json\n",
      "[i] Snapped 0 points\n",
      "[simplify] Repaired 9,072 intersections; 30,648 intersections could not be repaired\n",
      "[o] Wrote WDPA_test/8.json\n",
      "[i] Snapped 0 points\n",
      "[simplify] Repaired 2,810 intersections; 24,412 intersections could not be repaired\n",
      "[o] Wrote WDPA_test/9.json\n"
     ]
    }
   ],
   "source": [
    "# Only simplify (retains all geometries).\n",
    "!mapshaper-xl 16gb -i ./WDPA_test/*.json snap \\\n",
    "    -simplify 50% weighting=0.3 planar keep-shapes \\\n",
    "    -o WDPA_test/ format=geojson force ndjson"
   ]
  },
  {
   "cell_type": "code",
   "execution_count": 8,
   "metadata": {},
   "outputs": [
    {
     "name": "stdout",
     "output_type": "stream",
     "text": [
      "Allocating 16 GB of heap memory\n",
      "[info] \n",
      "=========================\n",
      "Layer:    [unnamed layer]\n",
      "-------------------------\n",
      "Type:     polygon\n",
      "Records:  217,424\n",
      "Nulls:     440\n",
      "Bounds:   -179.9999,-69.4778,179.9999,83.73\n",
      "CRS:      +proj=longlat +datum=WGS84\n",
      "Source:   ./WDPA_test/1.json\n",
      "\n",
      "Attribute data\n",
      "--------+-------------\n",
      " Field  | First value\n",
      "--------+-------------\n",
      " group  | 1\n",
      " MOL_ID | 1\n",
      "--------+-------------\n",
      "\n",
      "[o] Wrote WDPA_test/wdpa_simp1.shp\n",
      "[o] Wrote WDPA_test/wdpa_simp1.shx\n",
      "[o] Wrote WDPA_test/wdpa_simp1.dbf\n",
      "[o] Wrote WDPA_test/wdpa_simp1.prj\n"
     ]
    }
   ],
   "source": [
    "# Combine all json files in a shp. \n",
    "!mapshaper-xl 16gb -i ./WDPA_test/*.json combine-files -merge-layers -info -o WDPA_test/wdpa_simp1.shp"
   ]
  },
  {
   "cell_type": "code",
   "execution_count": 9,
   "metadata": {},
   "outputs": [
    {
     "data": {
      "text/plain": [
       "217424"
      ]
     },
     "execution_count": 9,
     "metadata": {},
     "output_type": "execute_result"
    }
   ],
   "source": [
    "sim1 = gpd.read_file('WDPA_test/wdpa_simp1.shp') # len 217424, retains all geometries\n",
    "len(sim1)"
   ]
  },
  {
   "cell_type": "code",
   "execution_count": 10,
   "metadata": {},
   "outputs": [],
   "source": [
    "## Set crs\n",
    "sim1 = sim1.set_crs('EPSG:4326') "
   ]
  },
  {
   "cell_type": "code",
   "execution_count": 11,
   "metadata": {},
   "outputs": [
    {
     "name": "stdout",
     "output_type": "stream",
     "text": [
      "CPU times: user 36min 49s, sys: 1min 6s, total: 37min 55s\n",
      "Wall time: 38min 49s\n"
     ]
    },
    {
     "data": {
      "text/plain": [
       "216982"
      ]
     },
     "execution_count": 11,
     "metadata": {},
     "output_type": "execute_result"
    }
   ],
   "source": [
    "%%time\n",
    "# Repair geometries, in case some are invalid after simplification, and check how many are valid\n",
    "sim1['geometry'] = sim1['geometry'].buffer(0) # this is to repair geometries\n",
    "sum(sim1.is_valid) # now 216982 geometries valid so only 442 invalid"
   ]
  },
  {
   "cell_type": "code",
   "execution_count": 12,
   "metadata": {},
   "outputs": [
    {
     "data": {
      "text/plain": [
       "216982"
      ]
     },
     "execution_count": 12,
     "metadata": {},
     "output_type": "execute_result"
    }
   ],
   "source": [
    "# Keep only valid geometries and remove the 442 invalid\n",
    "sim1 = sim1[sim1['geometry'].is_valid]\n",
    "len(sim1)"
   ]
  },
  {
   "cell_type": "code",
   "execution_count": 13,
   "metadata": {},
   "outputs": [
    {
     "data": {
      "text/html": [
       "<div>\n",
       "<style scoped>\n",
       "    .dataframe tbody tr th:only-of-type {\n",
       "        vertical-align: middle;\n",
       "    }\n",
       "\n",
       "    .dataframe tbody tr th {\n",
       "        vertical-align: top;\n",
       "    }\n",
       "\n",
       "    .dataframe thead th {\n",
       "        text-align: right;\n",
       "    }\n",
       "</style>\n",
       "<table border=\"1\" class=\"dataframe\">\n",
       "  <thead>\n",
       "    <tr style=\"text-align: right;\">\n",
       "      <th></th>\n",
       "      <th>WDPAID</th>\n",
       "      <th>WDPA_PID</th>\n",
       "      <th>NAME</th>\n",
       "      <th>DESIG</th>\n",
       "      <th>DESIG_T</th>\n",
       "      <th>IUCN_CA</th>\n",
       "      <th>STATUS</th>\n",
       "      <th>GOV_TYP</th>\n",
       "      <th>MANG_AU</th>\n",
       "      <th>ISO3</th>\n",
       "      <th>AREA_KM</th>\n",
       "      <th>MOL_ID</th>\n",
       "      <th>geometry</th>\n",
       "    </tr>\n",
       "  </thead>\n",
       "  <tbody>\n",
       "    <tr>\n",
       "      <th>0</th>\n",
       "      <td>310492.0</td>\n",
       "      <td>310492</td>\n",
       "      <td>Boulder Beach</td>\n",
       "      <td>Stewardship Area</td>\n",
       "      <td>National</td>\n",
       "      <td>III</td>\n",
       "      <td>Designated</td>\n",
       "      <td>Federal or national ministry or agency</td>\n",
       "      <td>Department of Conservation</td>\n",
       "      <td>NZL</td>\n",
       "      <td>1.137712</td>\n",
       "      <td>1</td>\n",
       "      <td>MULTIPOLYGON (((170.62746 -45.89520, 170.62824...</td>\n",
       "    </tr>\n",
       "  </tbody>\n",
       "</table>\n",
       "</div>"
      ],
      "text/plain": [
       "     WDPAID WDPA_PID           NAME             DESIG   DESIG_T IUCN_CA  \\\n",
       "0  310492.0   310492  Boulder Beach  Stewardship Area  National     III   \n",
       "\n",
       "       STATUS                                 GOV_TYP  \\\n",
       "0  Designated  Federal or national ministry or agency   \n",
       "\n",
       "                      MANG_AU ISO3   AREA_KM  MOL_ID  \\\n",
       "0  Department of Conservation  NZL  1.137712       1   \n",
       "\n",
       "                                            geometry  \n",
       "0  MULTIPOLYGON (((170.62746 -45.89520, 170.62824...  "
      ]
     },
     "execution_count": 13,
     "metadata": {},
     "output_type": "execute_result"
    }
   ],
   "source": [
    "gdf.head(1)"
   ]
  },
  {
   "cell_type": "code",
   "execution_count": 14,
   "metadata": {},
   "outputs": [
    {
     "data": {
      "text/html": [
       "<div>\n",
       "<style scoped>\n",
       "    .dataframe tbody tr th:only-of-type {\n",
       "        vertical-align: middle;\n",
       "    }\n",
       "\n",
       "    .dataframe tbody tr th {\n",
       "        vertical-align: top;\n",
       "    }\n",
       "\n",
       "    .dataframe thead th {\n",
       "        text-align: right;\n",
       "    }\n",
       "</style>\n",
       "<table border=\"1\" class=\"dataframe\">\n",
       "  <thead>\n",
       "    <tr style=\"text-align: right;\">\n",
       "      <th></th>\n",
       "      <th>MOL_ID</th>\n",
       "      <th>group</th>\n",
       "      <th>geometry</th>\n",
       "    </tr>\n",
       "  </thead>\n",
       "  <tbody>\n",
       "    <tr>\n",
       "      <th>0</th>\n",
       "      <td>1</td>\n",
       "      <td>1</td>\n",
       "      <td>MULTIPOLYGON (((170.62750 -45.89520, 170.62820...</td>\n",
       "    </tr>\n",
       "    <tr>\n",
       "      <th>1</th>\n",
       "      <td>2</td>\n",
       "      <td>1</td>\n",
       "      <td>POLYGON ((173.97640 -41.19260, 173.97350 -41.1...</td>\n",
       "    </tr>\n",
       "    <tr>\n",
       "      <th>2</th>\n",
       "      <td>3</td>\n",
       "      <td>1</td>\n",
       "      <td>POLYGON ((173.95690 -41.20980, 173.95510 -41.2...</td>\n",
       "    </tr>\n",
       "    <tr>\n",
       "      <th>3</th>\n",
       "      <td>4</td>\n",
       "      <td>1</td>\n",
       "      <td>POLYGON ((174.00240 -41.27340, 174.00340 -41.2...</td>\n",
       "    </tr>\n",
       "    <tr>\n",
       "      <th>4</th>\n",
       "      <td>5</td>\n",
       "      <td>1</td>\n",
       "      <td>MULTIPOLYGON (((169.53390 -46.44740, 169.53270...</td>\n",
       "    </tr>\n",
       "  </tbody>\n",
       "</table>\n",
       "</div>"
      ],
      "text/plain": [
       "   MOL_ID  group                                           geometry\n",
       "0       1      1  MULTIPOLYGON (((170.62750 -45.89520, 170.62820...\n",
       "1       2      1  POLYGON ((173.97640 -41.19260, 173.97350 -41.1...\n",
       "2       3      1  POLYGON ((173.95690 -41.20980, 173.95510 -41.2...\n",
       "3       4      1  POLYGON ((174.00240 -41.27340, 174.00340 -41.2...\n",
       "4       5      1  MULTIPOLYGON (((169.53390 -46.44740, 169.53270..."
      ]
     },
     "execution_count": 14,
     "metadata": {},
     "output_type": "execute_result"
    }
   ],
   "source": [
    "sim1.head()"
   ]
  },
  {
   "cell_type": "code",
   "execution_count": 15,
   "metadata": {},
   "outputs": [
    {
     "data": {
      "text/html": [
       "<div>\n",
       "<style scoped>\n",
       "    .dataframe tbody tr th:only-of-type {\n",
       "        vertical-align: middle;\n",
       "    }\n",
       "\n",
       "    .dataframe tbody tr th {\n",
       "        vertical-align: top;\n",
       "    }\n",
       "\n",
       "    .dataframe thead th {\n",
       "        text-align: right;\n",
       "    }\n",
       "</style>\n",
       "<table border=\"1\" class=\"dataframe\">\n",
       "  <thead>\n",
       "    <tr style=\"text-align: right;\">\n",
       "      <th></th>\n",
       "      <th>MOL_ID</th>\n",
       "      <th>geometry</th>\n",
       "    </tr>\n",
       "  </thead>\n",
       "  <tbody>\n",
       "    <tr>\n",
       "      <th>0</th>\n",
       "      <td>1</td>\n",
       "      <td>MULTIPOLYGON (((170.62750 -45.89520, 170.62820...</td>\n",
       "    </tr>\n",
       "    <tr>\n",
       "      <th>1</th>\n",
       "      <td>2</td>\n",
       "      <td>POLYGON ((173.97640 -41.19260, 173.97350 -41.1...</td>\n",
       "    </tr>\n",
       "    <tr>\n",
       "      <th>2</th>\n",
       "      <td>3</td>\n",
       "      <td>POLYGON ((173.95690 -41.20980, 173.95510 -41.2...</td>\n",
       "    </tr>\n",
       "    <tr>\n",
       "      <th>3</th>\n",
       "      <td>4</td>\n",
       "      <td>POLYGON ((174.00240 -41.27340, 174.00340 -41.2...</td>\n",
       "    </tr>\n",
       "    <tr>\n",
       "      <th>4</th>\n",
       "      <td>5</td>\n",
       "      <td>MULTIPOLYGON (((169.53390 -46.44740, 169.53270...</td>\n",
       "    </tr>\n",
       "  </tbody>\n",
       "</table>\n",
       "</div>"
      ],
      "text/plain": [
       "   MOL_ID                                           geometry\n",
       "0       1  MULTIPOLYGON (((170.62750 -45.89520, 170.62820...\n",
       "1       2  POLYGON ((173.97640 -41.19260, 173.97350 -41.1...\n",
       "2       3  POLYGON ((173.95690 -41.20980, 173.95510 -41.2...\n",
       "3       4  POLYGON ((174.00240 -41.27340, 174.00340 -41.2...\n",
       "4       5  MULTIPOLYGON (((169.53390 -46.44740, 169.53270..."
      ]
     },
     "execution_count": 15,
     "metadata": {},
     "output_type": "execute_result"
    }
   ],
   "source": [
    "sim1 = sim1.drop(columns={'group'})\n",
    "sim1.head()"
   ]
  },
  {
   "cell_type": "code",
   "execution_count": 16,
   "metadata": {},
   "outputs": [
    {
     "data": {
      "text/html": [
       "<div>\n",
       "<style scoped>\n",
       "    .dataframe tbody tr th:only-of-type {\n",
       "        vertical-align: middle;\n",
       "    }\n",
       "\n",
       "    .dataframe tbody tr th {\n",
       "        vertical-align: top;\n",
       "    }\n",
       "\n",
       "    .dataframe thead th {\n",
       "        text-align: right;\n",
       "    }\n",
       "</style>\n",
       "<table border=\"1\" class=\"dataframe\">\n",
       "  <thead>\n",
       "    <tr style=\"text-align: right;\">\n",
       "      <th></th>\n",
       "      <th>WDPAID</th>\n",
       "      <th>WDPA_PID</th>\n",
       "      <th>NAME</th>\n",
       "      <th>DESIG</th>\n",
       "      <th>DESIG_T</th>\n",
       "      <th>IUCN_CA</th>\n",
       "      <th>STATUS</th>\n",
       "      <th>GOV_TYP</th>\n",
       "      <th>MANG_AU</th>\n",
       "      <th>ISO3</th>\n",
       "      <th>AREA_KM</th>\n",
       "      <th>MOL_ID</th>\n",
       "    </tr>\n",
       "  </thead>\n",
       "  <tbody>\n",
       "    <tr>\n",
       "      <th>0</th>\n",
       "      <td>310492.0</td>\n",
       "      <td>310492</td>\n",
       "      <td>Boulder Beach</td>\n",
       "      <td>Stewardship Area</td>\n",
       "      <td>National</td>\n",
       "      <td>III</td>\n",
       "      <td>Designated</td>\n",
       "      <td>Federal or national ministry or agency</td>\n",
       "      <td>Department of Conservation</td>\n",
       "      <td>NZL</td>\n",
       "      <td>1.137712</td>\n",
       "      <td>1</td>\n",
       "    </tr>\n",
       "  </tbody>\n",
       "</table>\n",
       "</div>"
      ],
      "text/plain": [
       "     WDPAID WDPA_PID           NAME             DESIG   DESIG_T IUCN_CA  \\\n",
       "0  310492.0   310492  Boulder Beach  Stewardship Area  National     III   \n",
       "\n",
       "       STATUS                                 GOV_TYP  \\\n",
       "0  Designated  Federal or national ministry or agency   \n",
       "\n",
       "                      MANG_AU ISO3   AREA_KM  MOL_ID  \n",
       "0  Department of Conservation  NZL  1.137712       1  "
      ]
     },
     "execution_count": 16,
     "metadata": {},
     "output_type": "execute_result"
    }
   ],
   "source": [
    "gdf_no_geom = gdf.drop(columns='geometry')\n",
    "gdf_no_geom.head(1)"
   ]
  },
  {
   "cell_type": "code",
   "execution_count": 30,
   "metadata": {},
   "outputs": [
    {
     "data": {
      "text/html": [
       "<div>\n",
       "<style scoped>\n",
       "    .dataframe tbody tr th:only-of-type {\n",
       "        vertical-align: middle;\n",
       "    }\n",
       "\n",
       "    .dataframe tbody tr th {\n",
       "        vertical-align: top;\n",
       "    }\n",
       "\n",
       "    .dataframe thead th {\n",
       "        text-align: right;\n",
       "    }\n",
       "</style>\n",
       "<table border=\"1\" class=\"dataframe\">\n",
       "  <thead>\n",
       "    <tr style=\"text-align: right;\">\n",
       "      <th></th>\n",
       "      <th>MOL_ID</th>\n",
       "      <th>geometry</th>\n",
       "      <th>WDPAID</th>\n",
       "      <th>WDPA_PID</th>\n",
       "      <th>NAME</th>\n",
       "      <th>DESIG</th>\n",
       "      <th>DESIG_T</th>\n",
       "      <th>IUCN_CA</th>\n",
       "      <th>STATUS</th>\n",
       "      <th>GOV_TYP</th>\n",
       "      <th>MANG_AU</th>\n",
       "      <th>ISO3</th>\n",
       "      <th>AREA_KM</th>\n",
       "    </tr>\n",
       "  </thead>\n",
       "  <tbody>\n",
       "    <tr>\n",
       "      <th>0</th>\n",
       "      <td>1</td>\n",
       "      <td>MULTIPOLYGON (((170.62750 -45.89520, 170.62820...</td>\n",
       "      <td>310492.0</td>\n",
       "      <td>310492</td>\n",
       "      <td>Boulder Beach</td>\n",
       "      <td>Stewardship Area</td>\n",
       "      <td>National</td>\n",
       "      <td>III</td>\n",
       "      <td>Designated</td>\n",
       "      <td>Federal or national ministry or agency</td>\n",
       "      <td>Department of Conservation</td>\n",
       "      <td>NZL</td>\n",
       "      <td>1.137712</td>\n",
       "    </tr>\n",
       "  </tbody>\n",
       "</table>\n",
       "</div>"
      ],
      "text/plain": [
       "   MOL_ID                                           geometry    WDPAID  \\\n",
       "0       1  MULTIPOLYGON (((170.62750 -45.89520, 170.62820...  310492.0   \n",
       "\n",
       "  WDPA_PID           NAME             DESIG   DESIG_T IUCN_CA      STATUS  \\\n",
       "0   310492  Boulder Beach  Stewardship Area  National     III  Designated   \n",
       "\n",
       "                                  GOV_TYP                     MANG_AU ISO3  \\\n",
       "0  Federal or national ministry or agency  Department of Conservation  NZL   \n",
       "\n",
       "    AREA_KM  \n",
       "0  1.137712  "
      ]
     },
     "execution_count": 30,
     "metadata": {},
     "output_type": "execute_result"
    }
   ],
   "source": [
    "import pandas as pd\n",
    "sim1 = gpd.GeoDataFrame(pd.merge(sim1, gdf_no_geom,  how='left', left_on=['MOL_ID'], right_on = ['MOL_ID']))\n",
    "sim1.head(1)"
   ]
  },
  {
   "cell_type": "code",
   "execution_count": 31,
   "metadata": {},
   "outputs": [
    {
     "data": {
      "text/plain": [
       "Index(['MOL_ID', 'geometry', 'WDPAID', 'WDPA_PID', 'NAME', 'DESIG', 'DESIG_T',\n",
       "       'IUCN_CA', 'STATUS', 'GOV_TYP', 'MANG_AU', 'ISO3', 'AREA_KM2'],\n",
       "      dtype='object')"
      ]
     },
     "execution_count": 31,
     "metadata": {},
     "output_type": "execute_result"
    }
   ],
   "source": [
    "sim1 = sim1.rename(columns={'AREA_KM':'AREA_KM2'})\n",
    "sim1.columns"
   ]
  },
  {
   "cell_type": "code",
   "execution_count": 23,
   "metadata": {},
   "outputs": [
    {
     "data": {
      "text/html": [
       "<div>\n",
       "<style scoped>\n",
       "    .dataframe tbody tr th:only-of-type {\n",
       "        vertical-align: middle;\n",
       "    }\n",
       "\n",
       "    .dataframe tbody tr th {\n",
       "        vertical-align: top;\n",
       "    }\n",
       "\n",
       "    .dataframe thead th {\n",
       "        text-align: right;\n",
       "    }\n",
       "</style>\n",
       "<table border=\"1\" class=\"dataframe\">\n",
       "  <thead>\n",
       "    <tr style=\"text-align: right;\">\n",
       "      <th></th>\n",
       "      <th>WDPAID</th>\n",
       "      <th>WDPA_PID</th>\n",
       "      <th>NAME</th>\n",
       "      <th>DESIG</th>\n",
       "      <th>DESIG_T</th>\n",
       "      <th>IUCN_CA</th>\n",
       "      <th>STATUS</th>\n",
       "      <th>GOV_TYP</th>\n",
       "      <th>MANG_AU</th>\n",
       "      <th>ISO3</th>\n",
       "      <th>AREA_KM</th>\n",
       "      <th>MOL_ID</th>\n",
       "      <th>geometry</th>\n",
       "    </tr>\n",
       "  </thead>\n",
       "  <tbody>\n",
       "    <tr>\n",
       "      <th>14317</th>\n",
       "      <td>55558010.0</td>\n",
       "      <td>55558010</td>\n",
       "      <td>Quinnipiac River</td>\n",
       "      <td>State Park</td>\n",
       "      <td>National</td>\n",
       "      <td>III</td>\n",
       "      <td>Designated</td>\n",
       "      <td>Sub-national ministry or agency</td>\n",
       "      <td>Other or Unknown State Land ; State Department...</td>\n",
       "      <td>USA</td>\n",
       "      <td>1.411278</td>\n",
       "      <td>14318</td>\n",
       "      <td>MULTIPOLYGON (((-72.84705 41.44000, -72.84750 ...</td>\n",
       "    </tr>\n",
       "  </tbody>\n",
       "</table>\n",
       "</div>"
      ],
      "text/plain": [
       "           WDPAID  WDPA_PID              NAME       DESIG   DESIG_T IUCN_CA  \\\n",
       "14317  55558010.0  55558010  Quinnipiac River  State Park  National     III   \n",
       "\n",
       "           STATUS                          GOV_TYP  \\\n",
       "14317  Designated  Sub-national ministry or agency   \n",
       "\n",
       "                                                 MANG_AU ISO3   AREA_KM  \\\n",
       "14317  Other or Unknown State Land ; State Department...  USA  1.411278   \n",
       "\n",
       "       MOL_ID                                           geometry  \n",
       "14317   14318  MULTIPOLYGON (((-72.84705 41.44000, -72.84750 ...  "
      ]
     },
     "execution_count": 23,
     "metadata": {},
     "output_type": "execute_result"
    }
   ],
   "source": [
    "gdf[gdf['MOL_ID']==14318]"
   ]
  },
  {
   "cell_type": "code",
   "execution_count": 32,
   "metadata": {},
   "outputs": [
    {
     "data": {
      "text/plain": [
       "<AxesSubplot:>"
      ]
     },
     "execution_count": 32,
     "metadata": {},
     "output_type": "execute_result"
    },
    {
     "data": {
      "image/png": "[encoded data removed]",
      "text/plain": [
       "<Figure size 720x720 with 2 Axes>"
      ]
     },
     "metadata": {
      "needs_background": "light"
     },
     "output_type": "display_data"
    }
   ],
   "source": [
    "# Compare geometries in original and simplified dataset\n",
    "n= 14318\n",
    "fig, (ax1,ax2) = plt.subplots(nrows=1,ncols=2,figsize=(10,10))\n",
    "gdf[gdf['MOL_ID']==n].geometry.plot(ax = ax1) \n",
    "sim1[sim1['MOL_ID']==n].geometry.plot(ax = ax2)"
   ]
  },
  {
   "cell_type": "code",
   "execution_count": 33,
   "metadata": {},
   "outputs": [
    {
     "data": {
      "text/plain": [
       "<AxesSubplot:>"
      ]
     },
     "execution_count": 33,
     "metadata": {},
     "output_type": "execute_result"
    },
    {
     "data": {
      "image/png": "[encoded data removed]",
      "text/plain": [
       "<Figure size 720x720 with 2 Axes>"
      ]
     },
     "metadata": {
      "needs_background": "light"
     },
     "output_type": "display_data"
    }
   ],
   "source": [
    "# Compare geometries in original and simplified dataset\n",
    "n= '394131'\n",
    "fig, (ax1,ax2) = plt.subplots(nrows=1,ncols=2,figsize=(10,10))\n",
    "gdf[gdf['WDPA_PID']==n].geometry.plot(ax = ax1) \n",
    "sim1[sim1['WDPA_PID']==n].geometry.plot(ax = ax2)"
   ]
  },
  {
   "cell_type": "code",
   "execution_count": 34,
   "metadata": {},
   "outputs": [
    {
     "data": {
      "text/plain": [
       "<AxesSubplot:>"
      ]
     },
     "execution_count": 34,
     "metadata": {},
     "output_type": "execute_result"
    },
    {
     "data": {
      "image/png": "[encoded data removed]",
      "text/plain": [
       "<Figure size 720x720 with 2 Axes>"
      ]
     },
     "metadata": {
      "needs_background": "light"
     },
     "output_type": "display_data"
    }
   ],
   "source": [
    "n= '310492'\n",
    "fig, (ax1,ax2) = plt.subplots(nrows=1,ncols=2,figsize=(10,10))\n",
    "gdf[gdf['WDPA_PID']==n].geometry.plot(ax = ax1) \n",
    "sim1[sim1['WDPA_PID']==n].geometry.plot(ax = ax2)"
   ]
  },
  {
   "cell_type": "code",
   "execution_count": 35,
   "metadata": {},
   "outputs": [
    {
     "data": {
      "text/plain": [
       "<AxesSubplot:>"
      ]
     },
     "execution_count": 35,
     "metadata": {},
     "output_type": "execute_result"
    },
    {
     "data": {
      "image/png": "[encoded data removed]",
      "text/plain": [
       "<Figure size 720x720 with 2 Axes>"
      ]
     },
     "metadata": {
      "needs_background": "light"
     },
     "output_type": "display_data"
    }
   ],
   "source": [
    "n = '20609'\n",
    "fig, (ax1,ax2) = plt.subplots(nrows=1,ncols=2,figsize=(10,10))\n",
    "gdf[gdf['WDPA_PID']==n].geometry.plot(ax = ax1) \n",
    "sim1[sim1['WDPA_PID']==n].geometry.plot(ax = ax2)"
   ]
  },
  {
   "cell_type": "code",
   "execution_count": 36,
   "metadata": {},
   "outputs": [
    {
     "data": {
      "text/plain": [
       "<AxesSubplot:>"
      ]
     },
     "execution_count": 36,
     "metadata": {},
     "output_type": "execute_result"
    },
    {
     "data": {
      "image/png": "[encoded data removed]",
      "text/plain": [
       "<Figure size 720x720 with 2 Axes>"
      ]
     },
     "metadata": {
      "needs_background": "light"
     },
     "output_type": "display_data"
    }
   ],
   "source": [
    "n = '555534655'\n",
    "fig, (ax1,ax2) = plt.subplots(nrows=1,ncols=2,figsize=(10,10))\n",
    "gdf[gdf['WDPA_PID']==n].geometry.plot(ax = ax1) \n",
    "sim1[sim1['WDPA_PID']==n].geometry.plot(ax = ax2)"
   ]
  },
  {
   "cell_type": "code",
   "execution_count": 37,
   "metadata": {},
   "outputs": [
    {
     "data": {
      "text/plain": [
       "<AxesSubplot:>"
      ]
     },
     "execution_count": 37,
     "metadata": {},
     "output_type": "execute_result"
    },
    {
     "data": {
      "image/png": "[encoded data removed]",
      "text/plain": [
       "<Figure size 720x720 with 2 Axes>"
      ]
     },
     "metadata": {
      "needs_background": "light"
     },
     "output_type": "display_data"
    }
   ],
   "source": [
    "n = '555703244'\n",
    "fig, (ax1,ax2) = plt.subplots(nrows=1,ncols=2,figsize=(10,10))\n",
    "gdf[gdf['WDPA_PID']==n].geometry.plot(ax = ax1) \n",
    "sim1[sim1['WDPA_PID']==n].geometry.plot(ax = ax2)"
   ]
  },
  {
   "cell_type": "code",
   "execution_count": 40,
   "metadata": {},
   "outputs": [],
   "source": [
    "# Save file in local\n",
    "sim1.to_file(f'{path}/Simplifications/WDPA_Ter_Simp50', driver= 'ESRI Shapefile')"
   ]
  },
  {
   "cell_type": "markdown",
   "metadata": {
    "tags": []
   },
   "source": [
    "#### 2. Mid simplification (to be used at medium scales with a medium amount of detail)"
   ]
  },
  {
   "cell_type": "code",
   "execution_count": 4,
   "metadata": {},
   "outputs": [
    {
     "name": "stdout",
     "output_type": "stream",
     "text": [
      "Allocating 16 GB of heap memory\n",
      "[merge-layers] Use the target= option to specify multiple layers for merging\n",
      "[o] Wrote WDPA_test/1.json\n",
      "[o] Wrote WDPA_test/2.json\n",
      "[o] Wrote WDPA_test/3.json\n",
      "[o] Wrote WDPA_test/4.json\n",
      "[o] Wrote WDPA_test/5.json\n",
      "[o] Wrote WDPA_test/6.json\n",
      "[o] Wrote WDPA_test/7.json\n",
      "[o] Wrote WDPA_test/8.json\n",
      "[o] Wrote WDPA_test/9.json\n",
      "[o] Wrote WDPA_test/10.json\n",
      "[o] Wrote WDPA_test/11.json\n"
     ]
    }
   ],
   "source": [
    "# Break the shp into 12 json files to make the process more efficient\n",
    "!mapshaper-xl 16gb -i ./../../HE_Data/WDPA/WDPA_Terrestrial_corrected_geomOnly/*.shp no-topology combine-files \\\n",
    "    -merge-layers \\\n",
    "    -each \"group = Math.trunc(this.id/20000)+1\" \\\n",
    "    -split group \\\n",
    "    -o WDPA_test/ format=geojson precision=0.0001 force ndjson"
   ]
  },
  {
   "cell_type": "code",
   "execution_count": 6,
   "metadata": {},
   "outputs": [
    {
     "name": "stdout",
     "output_type": "stream",
     "text": [
      "Allocating 16 GB of heap memory\n",
      "[i] Snapped 0 points\n",
      "[simplify] Repaired 6,646 intersections; 5,959 intersections could not be repaired\n",
      "[filter-islands] Removed 33,925 islands\n",
      "[filter-slivers] Removed 9,034 slivers using 0.01+ sqkm variable threshold\n",
      "[clean] Removed 1,864 / 4,442 slivers using 0.067+ sqkm variable threshold\n",
      "[clean] Retained 16,856 of 18,440 features\n",
      "[i] Snapped 0 points\n",
      "[simplify] Repaired 7,879 intersections; 20,051 intersections could not be repaired\n",
      "[filter-islands] Removed 30,512 islands\n",
      "[filter-slivers] Removed 9,592 slivers using 0.01+ sqkm variable threshold\n",
      "[clean] Removed 4,147 / 6,004 slivers using 0.052+ sqkm variable threshold\n",
      "[clean] Retained 16,694 of 18,510 features\n",
      "[i] Snapped 0 points\n",
      "[simplify] Repaired 4,774 intersections; 22,341 intersections could not be repaired\n",
      "[filter-islands] Removed 46,410 islands\n",
      "[filter-slivers] Removed 31,804 slivers using 0.01+ sqkm variable threshold\n",
      "[clean] Removed 9,438 / 13,832 slivers using 0.034+ sqkm variable threshold\n",
      "[clean] Retained 15,191 of 16,326 features\n",
      "[i] Snapped 0 points\n",
      "[simplify] Repaired 3,488 intersections; 10,275 intersections could not be repaired\n",
      "[filter-islands] Removed 43,667 islands\n",
      "[filter-slivers] Removed 10,759 slivers using 0.01+ sqkm variable threshold\n",
      "[clean] Removed 3,619 / 9,577 slivers using 0.079+ sqkm variable threshold\n",
      "[clean] Retained 15,600 of 17,597 features\n",
      "[i] Snapped 0 points\n",
      "[simplify] Repaired 7,572 intersections; 21,108 intersections could not be repaired\n",
      "[filter-islands] Removed 43,560 islands\n",
      "[filter-slivers] Removed 73,583 slivers using 0.01+ sqkm variable threshold\n",
      "[clean] Removed 5,019 / 10,002 slivers using 0.08+ sqkm variable threshold\n",
      "[clean] Retained 17,105 of 18,617 features\n",
      "[i] Snapped 0 points\n",
      "[simplify] Repaired 3,113 intersections; 9,216 intersections could not be repaired\n",
      "[filter-islands] Removed 26,993 islands\n",
      "[filter-slivers] Removed 6,146 slivers using 0.01+ sqkm variable threshold\n",
      "[clean] Removed 2,368 / 4,391 slivers using 0.069+ sqkm variable threshold\n",
      "[clean] Retained 15,720 of 17,765 features\n",
      "[i] Snapped 0 points\n",
      "[simplify] Repaired 1,993 intersections; 15,787 intersections could not be repaired\n",
      "[filter-islands] Removed 47,182 islands\n",
      "[filter-slivers] Removed 9,193 slivers using 0.01+ sqkm variable threshold\n",
      "[clean] Removed 3,303 / 5,251 slivers using 0.075+ sqkm variable threshold\n",
      "[clean] Retained 16,157 of 18,207 features\n",
      "[i] Snapped 0 points\n",
      "[simplify] Repaired 769 intersections; 30,458 intersections could not be repaired\n",
      "[filter-islands] Removed 34,447 islands\n",
      "[filter-slivers] Removed 11,193 slivers using 0.01+ sqkm variable threshold\n",
      "[clean] Removed 4,291 / 6,827 slivers using 0.061+ sqkm variable threshold\n",
      "[clean] Retained 16,698 of 18,569 features\n",
      "[i] Snapped 0 points\n",
      "[simplify] Repaired 12,374 intersections; 44,609 intersections could not be repaired\n",
      "[filter-islands] Removed 41,401 islands\n",
      "[filter-slivers] Removed 11,376 slivers using 0.01+ sqkm variable threshold\n",
      "[clean] Removed 9,103 / 13,492 slivers using 0.056+ sqkm variable threshold\n",
      "[clean] Retained 16,844 of 18,759 features\n",
      "[i] Snapped 0 points\n",
      "[simplify] Repaired 9,947 intersections; 17,910 intersections could not be repaired\n",
      "[filter-islands] Removed 34,000 islands\n",
      "[filter-slivers] Removed 7,180 slivers using 0.01+ sqkm variable threshold\n",
      "[clean] Removed 6,201 / 9,345 slivers using 0.052+ sqkm variable threshold\n",
      "[clean] Retained 16,235 of 18,547 features\n",
      "[i] Snapped 0 points\n",
      "[simplify] Repaired 5,775 intersections; 14,374 intersections could not be repaired\n",
      "[filter-islands] Removed 28,474 islands\n",
      "[filter-slivers] Removed 8,156 slivers using 0.01+ sqkm variable threshold\n",
      "[clean] Removed 5,279 / 7,728 slivers using 0.056+ sqkm variable threshold\n",
      "[clean] Retained 14,938 of 17,476 features\n"
     ]
    }
   ],
   "source": [
    "# Only simplify (removes some geometries).\n",
    "!mapshaper-xl 16gb -i ./WDPA_test/*.json snap \\\n",
    "    -simplify 25% weighting=0.3 planar keep-shapes \\\n",
    "    -filter-islands min-vertices=3 min-area=10000m2 remove-empty \\\n",
    "    -filter-slivers min-area=10000m2 remove-empty \\\n",
    "    -clean rewind \\"
   ]
  },
  {
   "cell_type": "code",
   "execution_count": 7,
   "metadata": {},
   "outputs": [
    {
     "name": "stdout",
     "output_type": "stream",
     "text": [
      "Allocating 16 GB of heap memory\n",
      "[info] \n",
      "=========================\n",
      "Layer:    [unnamed layer]\n",
      "-------------------------\n",
      "Type:     polygon\n",
      "Records:  217,424\n",
      "Nulls:     440\n",
      "Bounds:   -179.9999,-69.4778,179.9999,83.73\n",
      "CRS:      +proj=longlat +datum=WGS84\n",
      "Source:   ./WDPA_test/1.json\n",
      "\n",
      "Attribute data\n",
      "--------+-------------\n",
      " Field  | First value\n",
      "--------+-------------\n",
      " group  | 1\n",
      " MOL_ID | 1\n",
      "--------+-------------\n",
      "\n",
      "[o] Wrote WDPA_test/wdpa_simp2.shp\n",
      "[o] Wrote WDPA_test/wdpa_simp2.shx\n",
      "[o] Wrote WDPA_test/wdpa_simp2.dbf\n",
      "[o] Wrote WDPA_test/wdpa_simp2.prj\n"
     ]
    }
   ],
   "source": [
    "# Combine all json files in a shp. \n",
    "!mapshaper-xl 16gb -i ./WDPA_test/*.json combine-files -merge-layers -info -o WDPA_test/wdpa_simp2.shp"
   ]
  },
  {
   "cell_type": "code",
   "execution_count": 8,
   "metadata": {},
   "outputs": [
    {
     "data": {
      "text/plain": [
       "217424"
      ]
     },
     "execution_count": 8,
     "metadata": {},
     "output_type": "execute_result"
    }
   ],
   "source": [
    "sim2 = gpd.read_file('WDPA_test/wdpa_simp2.shp') # len 217424, retains all geometries\n",
    "len(sim2)"
   ]
  },
  {
   "cell_type": "code",
   "execution_count": 9,
   "metadata": {},
   "outputs": [],
   "source": [
    "## Set crs\n",
    "sim2 = sim2.set_crs('EPSG:4326') "
   ]
  },
  {
   "cell_type": "code",
   "execution_count": 10,
   "metadata": {
    "collapsed": true,
    "jupyter": {
     "outputs_hidden": true
    },
    "tags": []
   },
   "outputs": [
    {
     "ename": "KeyboardInterrupt",
     "evalue": "",
     "output_type": "error",
     "traceback": [
      "\u001b[0;31m---------------------------------------------------------------------------\u001b[0m",
      "\u001b[0;31mKeyboardInterrupt\u001b[0m                         Traceback (most recent call last)",
      "\u001b[0;32m<timed exec>\u001b[0m in \u001b[0;36m<module>\u001b[0;34m\u001b[0m\n",
      "\u001b[0;32m/opt/anaconda3/envs/vizz38/lib/python3.8/site-packages/geopandas/base.py\u001b[0m in \u001b[0;36mbuffer\u001b[0;34m(self, distance, resolution, **kwargs)\u001b[0m\n\u001b[1;32m   2714\u001b[0m             \u001b[0mdistance\u001b[0m \u001b[0;34m=\u001b[0m \u001b[0mnp\u001b[0m\u001b[0;34m.\u001b[0m\u001b[0masarray\u001b[0m\u001b[0;34m(\u001b[0m\u001b[0mdistance\u001b[0m\u001b[0;34m)\u001b[0m\u001b[0;34m\u001b[0m\u001b[0;34m\u001b[0m\u001b[0m\n\u001b[1;32m   2715\u001b[0m \u001b[0;34m\u001b[0m\u001b[0m\n\u001b[0;32m-> 2716\u001b[0;31m         return _delegate_geo_method(\n\u001b[0m\u001b[1;32m   2717\u001b[0m             \u001b[0;34m\"buffer\"\u001b[0m\u001b[0;34m,\u001b[0m \u001b[0mself\u001b[0m\u001b[0;34m,\u001b[0m \u001b[0mdistance\u001b[0m\u001b[0;34m,\u001b[0m \u001b[0mresolution\u001b[0m\u001b[0;34m=\u001b[0m\u001b[0mresolution\u001b[0m\u001b[0;34m,\u001b[0m \u001b[0;34m**\u001b[0m\u001b[0mkwargs\u001b[0m\u001b[0;34m\u001b[0m\u001b[0;34m\u001b[0m\u001b[0m\n\u001b[1;32m   2718\u001b[0m         )\n",
      "\u001b[0;32m/opt/anaconda3/envs/vizz38/lib/python3.8/site-packages/geopandas/base.py\u001b[0m in \u001b[0;36m_delegate_geo_method\u001b[0;34m(op, this, *args, **kwargs)\u001b[0m\n\u001b[1;32m     80\u001b[0m \u001b[0;34m\u001b[0m\u001b[0m\n\u001b[1;32m     81\u001b[0m     \u001b[0ma_this\u001b[0m \u001b[0;34m=\u001b[0m \u001b[0mGeometryArray\u001b[0m\u001b[0;34m(\u001b[0m\u001b[0mthis\u001b[0m\u001b[0;34m.\u001b[0m\u001b[0mgeometry\u001b[0m\u001b[0;34m.\u001b[0m\u001b[0mvalues\u001b[0m\u001b[0;34m)\u001b[0m\u001b[0;34m\u001b[0m\u001b[0;34m\u001b[0m\u001b[0m\n\u001b[0;32m---> 82\u001b[0;31m     \u001b[0mdata\u001b[0m \u001b[0;34m=\u001b[0m \u001b[0mgetattr\u001b[0m\u001b[0;34m(\u001b[0m\u001b[0ma_this\u001b[0m\u001b[0;34m,\u001b[0m \u001b[0mop\u001b[0m\u001b[0;34m)\u001b[0m\u001b[0;34m(\u001b[0m\u001b[0;34m*\u001b[0m\u001b[0margs\u001b[0m\u001b[0;34m,\u001b[0m \u001b[0;34m**\u001b[0m\u001b[0mkwargs\u001b[0m\u001b[0;34m)\u001b[0m\u001b[0;34m.\u001b[0m\u001b[0mdata\u001b[0m\u001b[0;34m\u001b[0m\u001b[0;34m\u001b[0m\u001b[0m\n\u001b[0m\u001b[1;32m     83\u001b[0m     \u001b[0;32mreturn\u001b[0m \u001b[0mGeoSeries\u001b[0m\u001b[0;34m(\u001b[0m\u001b[0mdata\u001b[0m\u001b[0;34m,\u001b[0m \u001b[0mindex\u001b[0m\u001b[0;34m=\u001b[0m\u001b[0mthis\u001b[0m\u001b[0;34m.\u001b[0m\u001b[0mindex\u001b[0m\u001b[0;34m,\u001b[0m \u001b[0mcrs\u001b[0m\u001b[0;34m=\u001b[0m\u001b[0mthis\u001b[0m\u001b[0;34m.\u001b[0m\u001b[0mcrs\u001b[0m\u001b[0;34m)\u001b[0m\u001b[0;34m\u001b[0m\u001b[0;34m\u001b[0m\u001b[0m\n\u001b[1;32m     84\u001b[0m \u001b[0;34m\u001b[0m\u001b[0m\n",
      "\u001b[0;32m/opt/anaconda3/envs/vizz38/lib/python3.8/site-packages/geopandas/array.py\u001b[0m in \u001b[0;36mbuffer\u001b[0;34m(self, distance, resolution, **kwargs)\u001b[0m\n\u001b[1;32m    631\u001b[0m             \u001b[0mself\u001b[0m\u001b[0;34m.\u001b[0m\u001b[0mcheck_geographic_crs\u001b[0m\u001b[0;34m(\u001b[0m\u001b[0mstacklevel\u001b[0m\u001b[0;34m=\u001b[0m\u001b[0;36m5\u001b[0m\u001b[0;34m)\u001b[0m\u001b[0;34m\u001b[0m\u001b[0;34m\u001b[0m\u001b[0m\n\u001b[1;32m    632\u001b[0m         return GeometryArray(\n\u001b[0;32m--> 633\u001b[0;31m             \u001b[0mvectorized\u001b[0m\u001b[0;34m.\u001b[0m\u001b[0mbuffer\u001b[0m\u001b[0;34m(\u001b[0m\u001b[0mself\u001b[0m\u001b[0;34m.\u001b[0m\u001b[0mdata\u001b[0m\u001b[0;34m,\u001b[0m \u001b[0mdistance\u001b[0m\u001b[0;34m,\u001b[0m \u001b[0mresolution\u001b[0m\u001b[0;34m=\u001b[0m\u001b[0mresolution\u001b[0m\u001b[0;34m,\u001b[0m \u001b[0;34m**\u001b[0m\u001b[0mkwargs\u001b[0m\u001b[0;34m)\u001b[0m\u001b[0;34m,\u001b[0m\u001b[0;34m\u001b[0m\u001b[0;34m\u001b[0m\u001b[0m\n\u001b[0m\u001b[1;32m    634\u001b[0m             \u001b[0mcrs\u001b[0m\u001b[0;34m=\u001b[0m\u001b[0mself\u001b[0m\u001b[0;34m.\u001b[0m\u001b[0mcrs\u001b[0m\u001b[0;34m,\u001b[0m\u001b[0;34m\u001b[0m\u001b[0;34m\u001b[0m\u001b[0m\n\u001b[1;32m    635\u001b[0m         )\n",
      "\u001b[0;32m/opt/anaconda3/envs/vizz38/lib/python3.8/site-packages/geopandas/_vectorized.py\u001b[0m in \u001b[0;36mbuffer\u001b[0;34m(data, distance, resolution, **kwargs)\u001b[0m\n\u001b[1;32m    784\u001b[0m \u001b[0;34m\u001b[0m\u001b[0m\n\u001b[1;32m    785\u001b[0m         \u001b[0;32mwith\u001b[0m \u001b[0mcompat\u001b[0m\u001b[0;34m.\u001b[0m\u001b[0mignore_shapely2_warnings\u001b[0m\u001b[0;34m(\u001b[0m\u001b[0;34m)\u001b[0m\u001b[0;34m:\u001b[0m\u001b[0;34m\u001b[0m\u001b[0;34m\u001b[0m\u001b[0m\n\u001b[0;32m--> 786\u001b[0;31m             out[:] = [\n\u001b[0m\u001b[1;32m    787\u001b[0m                 \u001b[0mgeom\u001b[0m\u001b[0;34m.\u001b[0m\u001b[0mbuffer\u001b[0m\u001b[0;34m(\u001b[0m\u001b[0mdistance\u001b[0m\u001b[0;34m,\u001b[0m \u001b[0mresolution\u001b[0m\u001b[0;34m,\u001b[0m \u001b[0;34m**\u001b[0m\u001b[0mkwargs\u001b[0m\u001b[0;34m)\u001b[0m\u001b[0;34m\u001b[0m\u001b[0;34m\u001b[0m\u001b[0m\n\u001b[1;32m    788\u001b[0m                 \u001b[0;32mif\u001b[0m \u001b[0mgeom\u001b[0m \u001b[0;32mis\u001b[0m \u001b[0;32mnot\u001b[0m \u001b[0;32mNone\u001b[0m\u001b[0;34m\u001b[0m\u001b[0;34m\u001b[0m\u001b[0m\n",
      "\u001b[0;32m/opt/anaconda3/envs/vizz38/lib/python3.8/site-packages/geopandas/_vectorized.py\u001b[0m in \u001b[0;36m<listcomp>\u001b[0;34m(.0)\u001b[0m\n\u001b[1;32m    785\u001b[0m         \u001b[0;32mwith\u001b[0m \u001b[0mcompat\u001b[0m\u001b[0;34m.\u001b[0m\u001b[0mignore_shapely2_warnings\u001b[0m\u001b[0;34m(\u001b[0m\u001b[0;34m)\u001b[0m\u001b[0;34m:\u001b[0m\u001b[0;34m\u001b[0m\u001b[0;34m\u001b[0m\u001b[0m\n\u001b[1;32m    786\u001b[0m             out[:] = [\n\u001b[0;32m--> 787\u001b[0;31m                 \u001b[0mgeom\u001b[0m\u001b[0;34m.\u001b[0m\u001b[0mbuffer\u001b[0m\u001b[0;34m(\u001b[0m\u001b[0mdistance\u001b[0m\u001b[0;34m,\u001b[0m \u001b[0mresolution\u001b[0m\u001b[0;34m,\u001b[0m \u001b[0;34m**\u001b[0m\u001b[0mkwargs\u001b[0m\u001b[0;34m)\u001b[0m\u001b[0;34m\u001b[0m\u001b[0;34m\u001b[0m\u001b[0m\n\u001b[0m\u001b[1;32m    788\u001b[0m                 \u001b[0;32mif\u001b[0m \u001b[0mgeom\u001b[0m \u001b[0;32mis\u001b[0m \u001b[0;32mnot\u001b[0m \u001b[0;32mNone\u001b[0m\u001b[0;34m\u001b[0m\u001b[0;34m\u001b[0m\u001b[0m\n\u001b[1;32m    789\u001b[0m                 \u001b[0;32melse\u001b[0m \u001b[0;32mNone\u001b[0m\u001b[0;34m\u001b[0m\u001b[0;34m\u001b[0m\u001b[0m\n",
      "\u001b[0;32m/opt/anaconda3/envs/vizz38/lib/python3.8/site-packages/shapely/geometry/base.py\u001b[0m in \u001b[0;36mbuffer\u001b[0;34m(self, distance, resolution, quadsegs, cap_style, join_style, mitre_limit, single_sided)\u001b[0m\n\u001b[1;32m    635\u001b[0m             \u001b[0mself\u001b[0m\u001b[0;34m.\u001b[0m\u001b[0m_lgeos\u001b[0m\u001b[0;34m.\u001b[0m\u001b[0mGEOSBufferParams_setQuadrantSegments\u001b[0m\u001b[0;34m(\u001b[0m\u001b[0mparams\u001b[0m\u001b[0;34m,\u001b[0m \u001b[0mres\u001b[0m\u001b[0;34m)\u001b[0m\u001b[0;34m\u001b[0m\u001b[0;34m\u001b[0m\u001b[0m\n\u001b[1;32m    636\u001b[0m             \u001b[0mself\u001b[0m\u001b[0;34m.\u001b[0m\u001b[0m_lgeos\u001b[0m\u001b[0;34m.\u001b[0m\u001b[0mGEOSBufferParams_setSingleSided\u001b[0m\u001b[0;34m(\u001b[0m\u001b[0mparams\u001b[0m\u001b[0;34m,\u001b[0m \u001b[0msingle_sided\u001b[0m\u001b[0;34m)\u001b[0m\u001b[0;34m\u001b[0m\u001b[0;34m\u001b[0m\u001b[0m\n\u001b[0;32m--> 637\u001b[0;31m             \u001b[0;32mreturn\u001b[0m \u001b[0mgeom_factory\u001b[0m\u001b[0;34m(\u001b[0m\u001b[0mself\u001b[0m\u001b[0;34m.\u001b[0m\u001b[0mimpl\u001b[0m\u001b[0;34m[\u001b[0m\u001b[0;34m'buffer_with_params'\u001b[0m\u001b[0;34m]\u001b[0m\u001b[0;34m(\u001b[0m\u001b[0mself\u001b[0m\u001b[0;34m,\u001b[0m \u001b[0mparams\u001b[0m\u001b[0;34m,\u001b[0m \u001b[0mdistance\u001b[0m\u001b[0;34m)\u001b[0m\u001b[0;34m)\u001b[0m\u001b[0;34m\u001b[0m\u001b[0;34m\u001b[0m\u001b[0m\n\u001b[0m\u001b[1;32m    638\u001b[0m \u001b[0;34m\u001b[0m\u001b[0m\n\u001b[1;32m    639\u001b[0m         \u001b[0;32mif\u001b[0m \u001b[0mcap_style\u001b[0m \u001b[0;34m==\u001b[0m \u001b[0mCAP_STYLE\u001b[0m\u001b[0;34m.\u001b[0m\u001b[0mround\u001b[0m \u001b[0;32mand\u001b[0m \u001b[0mjoin_style\u001b[0m \u001b[0;34m==\u001b[0m \u001b[0mJOIN_STYLE\u001b[0m\u001b[0;34m.\u001b[0m\u001b[0mround\u001b[0m\u001b[0;34m:\u001b[0m\u001b[0;34m\u001b[0m\u001b[0;34m\u001b[0m\u001b[0m\n",
      "\u001b[0;32m/opt/anaconda3/envs/vizz38/lib/python3.8/site-packages/shapely/topology.py\u001b[0m in \u001b[0;36m__call__\u001b[0;34m(self, this, *args)\u001b[0m\n\u001b[1;32m     76\u001b[0m     \u001b[0;32mdef\u001b[0m \u001b[0m__call__\u001b[0m\u001b[0;34m(\u001b[0m\u001b[0mself\u001b[0m\u001b[0;34m,\u001b[0m \u001b[0mthis\u001b[0m\u001b[0;34m,\u001b[0m \u001b[0;34m*\u001b[0m\u001b[0margs\u001b[0m\u001b[0;34m)\u001b[0m\u001b[0;34m:\u001b[0m\u001b[0;34m\u001b[0m\u001b[0;34m\u001b[0m\u001b[0m\n\u001b[1;32m     77\u001b[0m         \u001b[0mself\u001b[0m\u001b[0;34m.\u001b[0m\u001b[0m_validate\u001b[0m\u001b[0;34m(\u001b[0m\u001b[0mthis\u001b[0m\u001b[0;34m)\u001b[0m\u001b[0;34m\u001b[0m\u001b[0;34m\u001b[0m\u001b[0m\n\u001b[0;32m---> 78\u001b[0;31m         \u001b[0;32mreturn\u001b[0m \u001b[0mself\u001b[0m\u001b[0;34m.\u001b[0m\u001b[0mfn\u001b[0m\u001b[0;34m(\u001b[0m\u001b[0mthis\u001b[0m\u001b[0;34m.\u001b[0m\u001b[0m_geom\u001b[0m\u001b[0;34m,\u001b[0m \u001b[0;34m*\u001b[0m\u001b[0margs\u001b[0m\u001b[0;34m)\u001b[0m\u001b[0;34m\u001b[0m\u001b[0;34m\u001b[0m\u001b[0m\n\u001b[0m",
      "\u001b[0;31mKeyboardInterrupt\u001b[0m: "
     ]
    }
   ],
   "source": [
    "%%time\n",
    "# Repair geometries, in case some are invalid after simplification, and check how many are valid\n",
    "sim2['geometry'] = sim2['geometry'].buffer(0) # this is to repair geometries\n",
    "sum(sim2.is_valid) # now 216982 geometries valid so only 442 invalid"
   ]
  },
  {
   "cell_type": "code",
   "execution_count": 12,
   "metadata": {},
   "outputs": [
    {
     "data": {
      "text/plain": [
       "216982"
      ]
     },
     "execution_count": 12,
     "metadata": {},
     "output_type": "execute_result"
    }
   ],
   "source": [
    "# Keep only valid geometries and remove the 442 invalid\n",
    "sim2 = sim2[sim2['geometry'].is_valid]\n",
    "len(sim2)"
   ]
  },
  {
   "cell_type": "code",
   "execution_count": 13,
   "metadata": {},
   "outputs": [
    {
     "data": {
      "text/html": [
       "<div>\n",
       "<style scoped>\n",
       "    .dataframe tbody tr th:only-of-type {\n",
       "        vertical-align: middle;\n",
       "    }\n",
       "\n",
       "    .dataframe tbody tr th {\n",
       "        vertical-align: top;\n",
       "    }\n",
       "\n",
       "    .dataframe thead th {\n",
       "        text-align: right;\n",
       "    }\n",
       "</style>\n",
       "<table border=\"1\" class=\"dataframe\">\n",
       "  <thead>\n",
       "    <tr style=\"text-align: right;\">\n",
       "      <th></th>\n",
       "      <th>WDPAID</th>\n",
       "      <th>WDPA_PID</th>\n",
       "      <th>NAME</th>\n",
       "      <th>DESIG</th>\n",
       "      <th>DESIG_T</th>\n",
       "      <th>IUCN_CA</th>\n",
       "      <th>STATUS</th>\n",
       "      <th>GOV_TYP</th>\n",
       "      <th>MANG_AU</th>\n",
       "      <th>ISO3</th>\n",
       "      <th>AREA_KM</th>\n",
       "      <th>MOL_ID</th>\n",
       "      <th>geometry</th>\n",
       "    </tr>\n",
       "  </thead>\n",
       "  <tbody>\n",
       "    <tr>\n",
       "      <th>0</th>\n",
       "      <td>310492.0</td>\n",
       "      <td>310492</td>\n",
       "      <td>Boulder Beach</td>\n",
       "      <td>Stewardship Area</td>\n",
       "      <td>National</td>\n",
       "      <td>III</td>\n",
       "      <td>Designated</td>\n",
       "      <td>Federal or national ministry or agency</td>\n",
       "      <td>Department of Conservation</td>\n",
       "      <td>NZL</td>\n",
       "      <td>1.137712</td>\n",
       "      <td>1</td>\n",
       "      <td>MULTIPOLYGON (((170.62746 -45.89520, 170.62824...</td>\n",
       "    </tr>\n",
       "  </tbody>\n",
       "</table>\n",
       "</div>"
      ],
      "text/plain": [
       "     WDPAID WDPA_PID           NAME             DESIG   DESIG_T IUCN_CA  \\\n",
       "0  310492.0   310492  Boulder Beach  Stewardship Area  National     III   \n",
       "\n",
       "       STATUS                                 GOV_TYP  \\\n",
       "0  Designated  Federal or national ministry or agency   \n",
       "\n",
       "                      MANG_AU ISO3   AREA_KM  MOL_ID  \\\n",
       "0  Department of Conservation  NZL  1.137712       1   \n",
       "\n",
       "                                            geometry  \n",
       "0  MULTIPOLYGON (((170.62746 -45.89520, 170.62824...  "
      ]
     },
     "execution_count": 13,
     "metadata": {},
     "output_type": "execute_result"
    }
   ],
   "source": [
    "gdf.head(1)"
   ]
  },
  {
   "cell_type": "code",
   "execution_count": 14,
   "metadata": {},
   "outputs": [
    {
     "data": {
      "text/html": [
       "<div>\n",
       "<style scoped>\n",
       "    .dataframe tbody tr th:only-of-type {\n",
       "        vertical-align: middle;\n",
       "    }\n",
       "\n",
       "    .dataframe tbody tr th {\n",
       "        vertical-align: top;\n",
       "    }\n",
       "\n",
       "    .dataframe thead th {\n",
       "        text-align: right;\n",
       "    }\n",
       "</style>\n",
       "<table border=\"1\" class=\"dataframe\">\n",
       "  <thead>\n",
       "    <tr style=\"text-align: right;\">\n",
       "      <th></th>\n",
       "      <th>MOL_ID</th>\n",
       "      <th>group</th>\n",
       "      <th>geometry</th>\n",
       "    </tr>\n",
       "  </thead>\n",
       "  <tbody>\n",
       "    <tr>\n",
       "      <th>0</th>\n",
       "      <td>1</td>\n",
       "      <td>1</td>\n",
       "      <td>MULTIPOLYGON (((170.62750 -45.89520, 170.62820...</td>\n",
       "    </tr>\n",
       "    <tr>\n",
       "      <th>1</th>\n",
       "      <td>2</td>\n",
       "      <td>1</td>\n",
       "      <td>POLYGON ((173.97640 -41.19260, 173.97350 -41.1...</td>\n",
       "    </tr>\n",
       "    <tr>\n",
       "      <th>2</th>\n",
       "      <td>3</td>\n",
       "      <td>1</td>\n",
       "      <td>POLYGON ((173.95690 -41.20980, 173.95510 -41.2...</td>\n",
       "    </tr>\n",
       "    <tr>\n",
       "      <th>3</th>\n",
       "      <td>4</td>\n",
       "      <td>1</td>\n",
       "      <td>POLYGON ((174.00240 -41.27340, 174.00340 -41.2...</td>\n",
       "    </tr>\n",
       "    <tr>\n",
       "      <th>4</th>\n",
       "      <td>5</td>\n",
       "      <td>1</td>\n",
       "      <td>MULTIPOLYGON (((169.53390 -46.44740, 169.53270...</td>\n",
       "    </tr>\n",
       "  </tbody>\n",
       "</table>\n",
       "</div>"
      ],
      "text/plain": [
       "   MOL_ID  group                                           geometry\n",
       "0       1      1  MULTIPOLYGON (((170.62750 -45.89520, 170.62820...\n",
       "1       2      1  POLYGON ((173.97640 -41.19260, 173.97350 -41.1...\n",
       "2       3      1  POLYGON ((173.95690 -41.20980, 173.95510 -41.2...\n",
       "3       4      1  POLYGON ((174.00240 -41.27340, 174.00340 -41.2...\n",
       "4       5      1  MULTIPOLYGON (((169.53390 -46.44740, 169.53270..."
      ]
     },
     "execution_count": 14,
     "metadata": {},
     "output_type": "execute_result"
    }
   ],
   "source": [
    "sim1.head()"
   ]
  },
  {
   "cell_type": "code",
   "execution_count": 15,
   "metadata": {},
   "outputs": [
    {
     "data": {
      "text/html": [
       "<div>\n",
       "<style scoped>\n",
       "    .dataframe tbody tr th:only-of-type {\n",
       "        vertical-align: middle;\n",
       "    }\n",
       "\n",
       "    .dataframe tbody tr th {\n",
       "        vertical-align: top;\n",
       "    }\n",
       "\n",
       "    .dataframe thead th {\n",
       "        text-align: right;\n",
       "    }\n",
       "</style>\n",
       "<table border=\"1\" class=\"dataframe\">\n",
       "  <thead>\n",
       "    <tr style=\"text-align: right;\">\n",
       "      <th></th>\n",
       "      <th>MOL_ID</th>\n",
       "      <th>geometry</th>\n",
       "    </tr>\n",
       "  </thead>\n",
       "  <tbody>\n",
       "    <tr>\n",
       "      <th>0</th>\n",
       "      <td>1</td>\n",
       "      <td>MULTIPOLYGON (((170.62750 -45.89520, 170.62820...</td>\n",
       "    </tr>\n",
       "    <tr>\n",
       "      <th>1</th>\n",
       "      <td>2</td>\n",
       "      <td>POLYGON ((173.97640 -41.19260, 173.97350 -41.1...</td>\n",
       "    </tr>\n",
       "    <tr>\n",
       "      <th>2</th>\n",
       "      <td>3</td>\n",
       "      <td>POLYGON ((173.95690 -41.20980, 173.95510 -41.2...</td>\n",
       "    </tr>\n",
       "    <tr>\n",
       "      <th>3</th>\n",
       "      <td>4</td>\n",
       "      <td>POLYGON ((174.00240 -41.27340, 174.00340 -41.2...</td>\n",
       "    </tr>\n",
       "    <tr>\n",
       "      <th>4</th>\n",
       "      <td>5</td>\n",
       "      <td>MULTIPOLYGON (((169.53390 -46.44740, 169.53270...</td>\n",
       "    </tr>\n",
       "  </tbody>\n",
       "</table>\n",
       "</div>"
      ],
      "text/plain": [
       "   MOL_ID                                           geometry\n",
       "0       1  MULTIPOLYGON (((170.62750 -45.89520, 170.62820...\n",
       "1       2  POLYGON ((173.97640 -41.19260, 173.97350 -41.1...\n",
       "2       3  POLYGON ((173.95690 -41.20980, 173.95510 -41.2...\n",
       "3       4  POLYGON ((174.00240 -41.27340, 174.00340 -41.2...\n",
       "4       5  MULTIPOLYGON (((169.53390 -46.44740, 169.53270..."
      ]
     },
     "execution_count": 15,
     "metadata": {},
     "output_type": "execute_result"
    }
   ],
   "source": [
    "sim1 = sim1.drop(columns={'group'})\n",
    "sim1.head()"
   ]
  },
  {
   "cell_type": "code",
   "execution_count": 16,
   "metadata": {},
   "outputs": [
    {
     "data": {
      "text/html": [
       "<div>\n",
       "<style scoped>\n",
       "    .dataframe tbody tr th:only-of-type {\n",
       "        vertical-align: middle;\n",
       "    }\n",
       "\n",
       "    .dataframe tbody tr th {\n",
       "        vertical-align: top;\n",
       "    }\n",
       "\n",
       "    .dataframe thead th {\n",
       "        text-align: right;\n",
       "    }\n",
       "</style>\n",
       "<table border=\"1\" class=\"dataframe\">\n",
       "  <thead>\n",
       "    <tr style=\"text-align: right;\">\n",
       "      <th></th>\n",
       "      <th>WDPAID</th>\n",
       "      <th>WDPA_PID</th>\n",
       "      <th>NAME</th>\n",
       "      <th>DESIG</th>\n",
       "      <th>DESIG_T</th>\n",
       "      <th>IUCN_CA</th>\n",
       "      <th>STATUS</th>\n",
       "      <th>GOV_TYP</th>\n",
       "      <th>MANG_AU</th>\n",
       "      <th>ISO3</th>\n",
       "      <th>AREA_KM</th>\n",
       "      <th>MOL_ID</th>\n",
       "    </tr>\n",
       "  </thead>\n",
       "  <tbody>\n",
       "    <tr>\n",
       "      <th>0</th>\n",
       "      <td>310492.0</td>\n",
       "      <td>310492</td>\n",
       "      <td>Boulder Beach</td>\n",
       "      <td>Stewardship Area</td>\n",
       "      <td>National</td>\n",
       "      <td>III</td>\n",
       "      <td>Designated</td>\n",
       "      <td>Federal or national ministry or agency</td>\n",
       "      <td>Department of Conservation</td>\n",
       "      <td>NZL</td>\n",
       "      <td>1.137712</td>\n",
       "      <td>1</td>\n",
       "    </tr>\n",
       "  </tbody>\n",
       "</table>\n",
       "</div>"
      ],
      "text/plain": [
       "     WDPAID WDPA_PID           NAME             DESIG   DESIG_T IUCN_CA  \\\n",
       "0  310492.0   310492  Boulder Beach  Stewardship Area  National     III   \n",
       "\n",
       "       STATUS                                 GOV_TYP  \\\n",
       "0  Designated  Federal or national ministry or agency   \n",
       "\n",
       "                      MANG_AU ISO3   AREA_KM  MOL_ID  \n",
       "0  Department of Conservation  NZL  1.137712       1  "
      ]
     },
     "execution_count": 16,
     "metadata": {},
     "output_type": "execute_result"
    }
   ],
   "source": [
    "gdf_no_geom = gdf.drop(columns='geometry')\n",
    "gdf_no_geom.head(1)"
   ]
  },
  {
   "cell_type": "code",
   "execution_count": 30,
   "metadata": {},
   "outputs": [
    {
     "data": {
      "text/html": [
       "<div>\n",
       "<style scoped>\n",
       "    .dataframe tbody tr th:only-of-type {\n",
       "        vertical-align: middle;\n",
       "    }\n",
       "\n",
       "    .dataframe tbody tr th {\n",
       "        vertical-align: top;\n",
       "    }\n",
       "\n",
       "    .dataframe thead th {\n",
       "        text-align: right;\n",
       "    }\n",
       "</style>\n",
       "<table border=\"1\" class=\"dataframe\">\n",
       "  <thead>\n",
       "    <tr style=\"text-align: right;\">\n",
       "      <th></th>\n",
       "      <th>MOL_ID</th>\n",
       "      <th>geometry</th>\n",
       "      <th>WDPAID</th>\n",
       "      <th>WDPA_PID</th>\n",
       "      <th>NAME</th>\n",
       "      <th>DESIG</th>\n",
       "      <th>DESIG_T</th>\n",
       "      <th>IUCN_CA</th>\n",
       "      <th>STATUS</th>\n",
       "      <th>GOV_TYP</th>\n",
       "      <th>MANG_AU</th>\n",
       "      <th>ISO3</th>\n",
       "      <th>AREA_KM</th>\n",
       "    </tr>\n",
       "  </thead>\n",
       "  <tbody>\n",
       "    <tr>\n",
       "      <th>0</th>\n",
       "      <td>1</td>\n",
       "      <td>MULTIPOLYGON (((170.62750 -45.89520, 170.62820...</td>\n",
       "      <td>310492.0</td>\n",
       "      <td>310492</td>\n",
       "      <td>Boulder Beach</td>\n",
       "      <td>Stewardship Area</td>\n",
       "      <td>National</td>\n",
       "      <td>III</td>\n",
       "      <td>Designated</td>\n",
       "      <td>Federal or national ministry or agency</td>\n",
       "      <td>Department of Conservation</td>\n",
       "      <td>NZL</td>\n",
       "      <td>1.137712</td>\n",
       "    </tr>\n",
       "  </tbody>\n",
       "</table>\n",
       "</div>"
      ],
      "text/plain": [
       "   MOL_ID                                           geometry    WDPAID  \\\n",
       "0       1  MULTIPOLYGON (((170.62750 -45.89520, 170.62820...  310492.0   \n",
       "\n",
       "  WDPA_PID           NAME             DESIG   DESIG_T IUCN_CA      STATUS  \\\n",
       "0   310492  Boulder Beach  Stewardship Area  National     III  Designated   \n",
       "\n",
       "                                  GOV_TYP                     MANG_AU ISO3  \\\n",
       "0  Federal or national ministry or agency  Department of Conservation  NZL   \n",
       "\n",
       "    AREA_KM  \n",
       "0  1.137712  "
      ]
     },
     "execution_count": 30,
     "metadata": {},
     "output_type": "execute_result"
    }
   ],
   "source": [
    "import pandas as pd\n",
    "sim1 = gpd.GeoDataFrame(pd.merge(sim1, gdf_no_geom,  how='left', left_on=['MOL_ID'], right_on = ['MOL_ID']))\n",
    "sim1.head(1)"
   ]
  },
  {
   "cell_type": "code",
   "execution_count": 31,
   "metadata": {},
   "outputs": [
    {
     "data": {
      "text/plain": [
       "Index(['MOL_ID', 'geometry', 'WDPAID', 'WDPA_PID', 'NAME', 'DESIG', 'DESIG_T',\n",
       "       'IUCN_CA', 'STATUS', 'GOV_TYP', 'MANG_AU', 'ISO3', 'AREA_KM2'],\n",
       "      dtype='object')"
      ]
     },
     "execution_count": 31,
     "metadata": {},
     "output_type": "execute_result"
    }
   ],
   "source": [
    "sim1 = sim1.rename(columns={'AREA_KM':'AREA_KM2'})\n",
    "sim1.columns"
   ]
  },
  {
   "cell_type": "code",
   "execution_count": 23,
   "metadata": {},
   "outputs": [
    {
     "data": {
      "text/html": [
       "<div>\n",
       "<style scoped>\n",
       "    .dataframe tbody tr th:only-of-type {\n",
       "        vertical-align: middle;\n",
       "    }\n",
       "\n",
       "    .dataframe tbody tr th {\n",
       "        vertical-align: top;\n",
       "    }\n",
       "\n",
       "    .dataframe thead th {\n",
       "        text-align: right;\n",
       "    }\n",
       "</style>\n",
       "<table border=\"1\" class=\"dataframe\">\n",
       "  <thead>\n",
       "    <tr style=\"text-align: right;\">\n",
       "      <th></th>\n",
       "      <th>WDPAID</th>\n",
       "      <th>WDPA_PID</th>\n",
       "      <th>NAME</th>\n",
       "      <th>DESIG</th>\n",
       "      <th>DESIG_T</th>\n",
       "      <th>IUCN_CA</th>\n",
       "      <th>STATUS</th>\n",
       "      <th>GOV_TYP</th>\n",
       "      <th>MANG_AU</th>\n",
       "      <th>ISO3</th>\n",
       "      <th>AREA_KM</th>\n",
       "      <th>MOL_ID</th>\n",
       "      <th>geometry</th>\n",
       "    </tr>\n",
       "  </thead>\n",
       "  <tbody>\n",
       "    <tr>\n",
       "      <th>14317</th>\n",
       "      <td>55558010.0</td>\n",
       "      <td>55558010</td>\n",
       "      <td>Quinnipiac River</td>\n",
       "      <td>State Park</td>\n",
       "      <td>National</td>\n",
       "      <td>III</td>\n",
       "      <td>Designated</td>\n",
       "      <td>Sub-national ministry or agency</td>\n",
       "      <td>Other or Unknown State Land ; State Department...</td>\n",
       "      <td>USA</td>\n",
       "      <td>1.411278</td>\n",
       "      <td>14318</td>\n",
       "      <td>MULTIPOLYGON (((-72.84705 41.44000, -72.84750 ...</td>\n",
       "    </tr>\n",
       "  </tbody>\n",
       "</table>\n",
       "</div>"
      ],
      "text/plain": [
       "           WDPAID  WDPA_PID              NAME       DESIG   DESIG_T IUCN_CA  \\\n",
       "14317  55558010.0  55558010  Quinnipiac River  State Park  National     III   \n",
       "\n",
       "           STATUS                          GOV_TYP  \\\n",
       "14317  Designated  Sub-national ministry or agency   \n",
       "\n",
       "                                                 MANG_AU ISO3   AREA_KM  \\\n",
       "14317  Other or Unknown State Land ; State Department...  USA  1.411278   \n",
       "\n",
       "       MOL_ID                                           geometry  \n",
       "14317   14318  MULTIPOLYGON (((-72.84705 41.44000, -72.84750 ...  "
      ]
     },
     "execution_count": 23,
     "metadata": {},
     "output_type": "execute_result"
    }
   ],
   "source": [
    "gdf[gdf['MOL_ID']==14318]"
   ]
  },
  {
   "cell_type": "code",
   "execution_count": 32,
   "metadata": {},
   "outputs": [
    {
     "data": {
      "text/plain": [
       "<AxesSubplot:>"
      ]
     },
     "execution_count": 32,
     "metadata": {},
     "output_type": "execute_result"
    },
    {
     "data": {
      "image/png": "[encoded data removed]",
      "text/plain": [
       "<Figure size 720x720 with 2 Axes>"
      ]
     },
     "metadata": {
      "needs_background": "light"
     },
     "output_type": "display_data"
    }
   ],
   "source": [
    "# Compare geometries in original and simplified dataset\n",
    "n= 14318\n",
    "fig, (ax1,ax2) = plt.subplots(nrows=1,ncols=2,figsize=(10,10))\n",
    "gdf[gdf['MOL_ID']==n].geometry.plot(ax = ax1) \n",
    "sim1[sim1['MOL_ID']==n].geometry.plot(ax = ax2)"
   ]
  },
  {
   "cell_type": "code",
   "execution_count": 33,
   "metadata": {},
   "outputs": [
    {
     "data": {
      "text/plain": [
       "<AxesSubplot:>"
      ]
     },
     "execution_count": 33,
     "metadata": {},
     "output_type": "execute_result"
    },
    {
     "data": {
      "image/png": "[encoded data removed]",
      "text/plain": [
       "<Figure size 720x720 with 2 Axes>"
      ]
     },
     "metadata": {
      "needs_background": "light"
     },
     "output_type": "display_data"
    }
   ],
   "source": [
    "# Compare geometries in original and simplified dataset\n",
    "n= '394131'\n",
    "fig, (ax1,ax2) = plt.subplots(nrows=1,ncols=2,figsize=(10,10))\n",
    "gdf[gdf['WDPA_PID']==n].geometry.plot(ax = ax1) \n",
    "sim1[sim1['WDPA_PID']==n].geometry.plot(ax = ax2)"
   ]
  },
  {
   "cell_type": "code",
   "execution_count": 34,
   "metadata": {},
   "outputs": [
    {
     "data": {
      "text/plain": [
       "<AxesSubplot:>"
      ]
     },
     "execution_count": 34,
     "metadata": {},
     "output_type": "execute_result"
    },
    {
     "data": {
      "image/png": "[encoded data removed]",
      "text/plain": [
       "<Figure size 720x720 with 2 Axes>"
      ]
     },
     "metadata": {
      "needs_background": "light"
     },
     "output_type": "display_data"
    }
   ],
   "source": [
    "n= '310492'\n",
    "fig, (ax1,ax2) = plt.subplots(nrows=1,ncols=2,figsize=(10,10))\n",
    "gdf[gdf['WDPA_PID']==n].geometry.plot(ax = ax1) \n",
    "sim1[sim1['WDPA_PID']==n].geometry.plot(ax = ax2)"
   ]
  },
  {
   "cell_type": "code",
   "execution_count": 35,
   "metadata": {},
   "outputs": [
    {
     "data": {
      "text/plain": [
       "<AxesSubplot:>"
      ]
     },
     "execution_count": 35,
     "metadata": {},
     "output_type": "execute_result"
    },
    {
     "data": {
      "image/png": "[encoded data removed]",
      "text/plain": [
       "<Figure size 720x720 with 2 Axes>"
      ]
     },
     "metadata": {
      "needs_background": "light"
     },
     "output_type": "display_data"
    }
   ],
   "source": [
    "n = '20609'\n",
    "fig, (ax1,ax2) = plt.subplots(nrows=1,ncols=2,figsize=(10,10))\n",
    "gdf[gdf['WDPA_PID']==n].geometry.plot(ax = ax1) \n",
    "sim1[sim1['WDPA_PID']==n].geometry.plot(ax = ax2)"
   ]
  },
  {
   "cell_type": "code",
   "execution_count": 36,
   "metadata": {},
   "outputs": [
    {
     "data": {
      "text/plain": [
       "<AxesSubplot:>"
      ]
     },
     "execution_count": 36,
     "metadata": {},
     "output_type": "execute_result"
    },
    {
     "data": {
      "image/png": "[encoded data removed]",
      "text/plain": [
       "<Figure size 720x720 with 2 Axes>"
      ]
     },
     "metadata": {
      "needs_background": "light"
     },
     "output_type": "display_data"
    }
   ],
   "source": [
    "n = '555534655'\n",
    "fig, (ax1,ax2) = plt.subplots(nrows=1,ncols=2,figsize=(10,10))\n",
    "gdf[gdf['WDPA_PID']==n].geometry.plot(ax = ax1) \n",
    "sim1[sim1['WDPA_PID']==n].geometry.plot(ax = ax2)"
   ]
  },
  {
   "cell_type": "code",
   "execution_count": 37,
   "metadata": {},
   "outputs": [
    {
     "data": {
      "text/plain": [
       "<AxesSubplot:>"
      ]
     },
     "execution_count": 37,
     "metadata": {},
     "output_type": "execute_result"
    },
    {
     "data": {
      "image/png": "[encoded data removed]",
      "text/plain": [
       "<Figure size 720x720 with 2 Axes>"
      ]
     },
     "metadata": {
      "needs_background": "light"
     },
     "output_type": "display_data"
    }
   ],
   "source": [
    "n = '555703244'\n",
    "fig, (ax1,ax2) = plt.subplots(nrows=1,ncols=2,figsize=(10,10))\n",
    "gdf[gdf['WDPA_PID']==n].geometry.plot(ax = ax1) \n",
    "sim1[sim1['WDPA_PID']==n].geometry.plot(ax = ax2)"
   ]
  },
  {
   "cell_type": "code",
   "execution_count": null,
   "metadata": {},
   "outputs": [],
   "source": [
    "# Save file in local\n",
    "sim1.to_file(f'{path}/Simplifications/WDPA_Ter_Simp50', driver= 'ESRI Shapefile')"
   ]
  },
  {
   "cell_type": "code",
   "execution_count": null,
   "metadata": {},
   "outputs": [],
   "source": []
  },
  {
   "cell_type": "markdown",
   "metadata": {},
   "source": [
    "---------------\n",
    "## Marine WDPA"
   ]
  },
  {
   "cell_type": "code",
   "execution_count": 2,
   "metadata": {},
   "outputs": [],
   "source": [
    "# Create unzipped folder so mapshaper can bring the shp\n",
    "zipfile = '/Users/sofia/Documents/HE_Data/WDPA_FILTERED_20210615_FILTERED_all_with_oecm_wdpa_100mTol'\n",
    "unzipfile = ZipFile(f'{zipfile}.zip').extractall(zipfile)\n",
    "# file_in = f'{zipfile}/WDPA_FILTERED_20210615_FILTERED_all_with_oecm_wdpa_100mTol.shp'\n",
    "# file_out = '/Users/sofia/Documents/HE_Data/WDPA_simple.shp'"
   ]
  },
  {
   "cell_type": "code",
   "execution_count": null,
   "metadata": {},
   "outputs": [],
   "source": [
    "### Inspect file\n",
    "# gdf = gpd.read_file(file_in)"
   ]
  },
  {
   "cell_type": "code",
   "execution_count": 2,
   "metadata": {},
   "outputs": [
    {
     "data": {
      "text/plain": [
       "224133"
      ]
     },
     "execution_count": 2,
     "metadata": {},
     "output_type": "execute_result"
    }
   ],
   "source": [
    "# Read file\n",
    "gdf = gpd.read_file('zip:///Users/sofia/Documents/HE_Data/WDPA_FILTERED_20210615_FILTERED_all_with_oecm_wdpa_100mTol.zip')\n",
    "len(gdf)"
   ]
  },
  {
   "cell_type": "code",
   "execution_count": 3,
   "metadata": {},
   "outputs": [
    {
     "data": {
      "text/html": [
       "<div>\n",
       "<style scoped>\n",
       "    .dataframe tbody tr th:only-of-type {\n",
       "        vertical-align: middle;\n",
       "    }\n",
       "\n",
       "    .dataframe tbody tr th {\n",
       "        vertical-align: top;\n",
       "    }\n",
       "\n",
       "    .dataframe thead th {\n",
       "        text-align: right;\n",
       "    }\n",
       "</style>\n",
       "<table border=\"1\" class=\"dataframe\">\n",
       "  <thead>\n",
       "    <tr style=\"text-align: right;\">\n",
       "      <th></th>\n",
       "      <th>WDPAID</th>\n",
       "      <th>WDPA_PID</th>\n",
       "      <th>PA_DEF</th>\n",
       "      <th>NAME</th>\n",
       "      <th>ORIG_NA</th>\n",
       "      <th>DESIG</th>\n",
       "      <th>DESIG_E</th>\n",
       "      <th>DESIG_T</th>\n",
       "      <th>IUCN_CA</th>\n",
       "      <th>INT_CRI</th>\n",
       "      <th>...</th>\n",
       "      <th>ISO3</th>\n",
       "      <th>SUPP_IN</th>\n",
       "      <th>CONS_OB</th>\n",
       "      <th>SORTER</th>\n",
       "      <th>WDPA_PID_h</th>\n",
       "      <th>WDPA_PID__</th>\n",
       "      <th>hash_vl</th>\n",
       "      <th>AREA_KM</th>\n",
       "      <th>MOL_ID</th>\n",
       "      <th>geometry</th>\n",
       "    </tr>\n",
       "  </thead>\n",
       "  <tbody>\n",
       "    <tr>\n",
       "      <th>177470</th>\n",
       "      <td>394131.0</td>\n",
       "      <td>394131</td>\n",
       "      <td>1</td>\n",
       "      <td>\"Fonds Gatot\" Et \"Laid Mâle\"</td>\n",
       "      <td>\"Fonds Gatot\" Et \"Laid Mâle\"</td>\n",
       "      <td>Site Naturel D'Interêt Scientifique</td>\n",
       "      <td>Scientific Interest Site (Walloon Region)</td>\n",
       "      <td>National</td>\n",
       "      <td>IV</td>\n",
       "      <td>Not Applicable</td>\n",
       "      <td>...</td>\n",
       "      <td>BEL</td>\n",
       "      <td>Not Applicable</td>\n",
       "      <td>Not Applicable</td>\n",
       "      <td>0.0</td>\n",
       "      <td>737c7794</td>\n",
       "      <td>-1628145044</td>\n",
       "      <td>-1628145044</td>\n",
       "      <td>0.100151</td>\n",
       "      <td>177471</td>\n",
       "      <td>MULTIPOLYGON (((4.76254 50.57918, 4.75696 50.5...</td>\n",
       "    </tr>\n",
       "  </tbody>\n",
       "</table>\n",
       "<p>1 rows × 37 columns</p>\n",
       "</div>"
      ],
      "text/plain": [
       "          WDPAID WDPA_PID PA_DEF                          NAME  \\\n",
       "177470  394131.0   394131      1  \"Fonds Gatot\" Et \"Laid Mâle\"   \n",
       "\n",
       "                             ORIG_NA                                DESIG  \\\n",
       "177470  \"Fonds Gatot\" Et \"Laid Mâle\"  Site Naturel D'Interêt Scientifique   \n",
       "\n",
       "                                          DESIG_E   DESIG_T IUCN_CA  \\\n",
       "177470  Scientific Interest Site (Walloon Region)  National      IV   \n",
       "\n",
       "               INT_CRI  ... ISO3         SUPP_IN         CONS_OB  SORTER  \\\n",
       "177470  Not Applicable  ...  BEL  Not Applicable  Not Applicable     0.0   \n",
       "\n",
       "        WDPA_PID_h  WDPA_PID__     hash_vl   AREA_KM  MOL_ID  \\\n",
       "177470    737c7794 -1628145044 -1628145044  0.100151  177471   \n",
       "\n",
       "                                                 geometry  \n",
       "177470  MULTIPOLYGON (((4.76254 50.57918, 4.75696 50.5...  \n",
       "\n",
       "[1 rows x 37 columns]"
      ]
     },
     "execution_count": 3,
     "metadata": {},
     "output_type": "execute_result"
    }
   ],
   "source": [
    "gdf[gdf['WDPA_PID']=='394131'] # reading csv keeps original characters as they are"
   ]
  },
  {
   "cell_type": "markdown",
   "metadata": {},
   "source": [
    "#### There are two WDPA that have weird geometries due to antimeridian:\n",
    "WDPA=220201 and WDPA= 555624810\n",
    "#### These geometries need to be replaced by the correct ones (downloaded from protected planet)"
   ]
  },
  {
   "cell_type": "code",
   "execution_count": 6,
   "metadata": {},
   "outputs": [],
   "source": [
    "## New geometries\n",
    "new1 = gpd.read_file('zip:///Users/sofia/Documents/HE_Data/WDPA_220201.zip')\n",
    "new2= gpd.read_file('zip:///Users/sofia/Documents/HE_Data/WDPA_555624810.zip')\n"
   ]
  },
  {
   "cell_type": "code",
   "execution_count": 7,
   "metadata": {},
   "outputs": [
    {
     "data": {
      "text/plain": [
       "<AxesSubplot:>"
      ]
     },
     "execution_count": 7,
     "metadata": {},
     "output_type": "execute_result"
    },
    {
     "data": {
      "image/png": "[encoded data removed]",
      "text/plain": [
       "<Figure size 720x720 with 2 Axes>"
      ]
     },
     "metadata": {
      "needs_background": "light"
     },
     "output_type": "display_data"
    }
   ],
   "source": [
    "## See example\n",
    "n = 220201 \n",
    "fig, (ax1,ax2) = plt.subplots(nrows=1,ncols=2,figsize=(10,10))\n",
    "gdf[gdf['WDPAID']==n].geometry.plot(ax = ax1) \n",
    "new1[new1['WDPAID']==n].geometry.plot(ax = ax2)"
   ]
  },
  {
   "cell_type": "code",
   "execution_count": 8,
   "metadata": {},
   "outputs": [
    {
     "data": {
      "text/plain": [
       "220579    MULTIPOLYGON (((-163.00000 25.38976, -163.0000...\n",
       "Name: geometry, dtype: geometry"
      ]
     },
     "execution_count": 8,
     "metadata": {},
     "output_type": "execute_result"
    }
   ],
   "source": [
    "## Get index for the geometry in gdf\n",
    "gdf['geometry'][gdf['WDPA_PID'] == '220201']"
   ]
  },
  {
   "cell_type": "code",
   "execution_count": 9,
   "metadata": {},
   "outputs": [
    {
     "data": {
      "text/plain": [
       "0    POLYGON ((-180.00000 -76.00000, -180.00000 -73...\n",
       "Name: geometry, dtype: geometry"
      ]
     },
     "execution_count": 9,
     "metadata": {},
     "output_type": "execute_result"
    }
   ],
   "source": [
    "## Get index for geometry in new datasets\n",
    "new2['geometry'][new2['WDPA_PID'] == '555624810_E']"
   ]
  },
  {
   "cell_type": "code",
   "execution_count": 10,
   "metadata": {},
   "outputs": [],
   "source": [
    "## Replace geometries with correct ones\n",
    "gdf.loc[220579, 'geometry']= new1.loc[[0], 'geometry'].values\n",
    "gdf.loc[207113, 'geometry']= new2.loc[[1], 'geometry'].values\n",
    "gdf.loc[222498, 'geometry']= new2.loc[[2], 'geometry'].values\n",
    "gdf.loc[222499, 'geometry']= new2.loc[[3], 'geometry'].values\n",
    "gdf.loc[222500, 'geometry']= new2.loc[[4], 'geometry'].values\n",
    "gdf.loc[222496, 'geometry']= new2.loc[[0], 'geometry'].values"
   ]
  },
  {
   "cell_type": "code",
   "execution_count": 11,
   "metadata": {},
   "outputs": [],
   "source": [
    "# Create subset with only relevant columns\n",
    "sub = gdf[['WDPAID','WDPA_PID','NAME','ORIG_NA','DESIG','DESIG_E','DESIG_T','IUCN_CA','MARINE','GOV_TYP','ISO3','OWN_TYP','AREA_KM','MOL_ID','geometry']]"
   ]
  },
  {
   "cell_type": "code",
   "execution_count": 13,
   "metadata": {},
   "outputs": [],
   "source": [
    "# Save file in local\n",
    "sub.to_file('/Users/sofia/Documents/HE_Data/WDPA_corrected', driver= 'ESRI Shapefile')"
   ]
  },
  {
   "cell_type": "code",
   "execution_count": 4,
   "metadata": {},
   "outputs": [],
   "source": [
    "c = gpd.read_file('/Users/sofia/Documents/HE_Data/WDPA_corrected')"
   ]
  },
  {
   "cell_type": "code",
   "execution_count": 5,
   "metadata": {},
   "outputs": [
    {
     "data": {
      "text/html": [
       "<div>\n",
       "<style scoped>\n",
       "    .dataframe tbody tr th:only-of-type {\n",
       "        vertical-align: middle;\n",
       "    }\n",
       "\n",
       "    .dataframe tbody tr th {\n",
       "        vertical-align: top;\n",
       "    }\n",
       "\n",
       "    .dataframe thead th {\n",
       "        text-align: right;\n",
       "    }\n",
       "</style>\n",
       "<table border=\"1\" class=\"dataframe\">\n",
       "  <thead>\n",
       "    <tr style=\"text-align: right;\">\n",
       "      <th></th>\n",
       "      <th>WDPAID</th>\n",
       "      <th>WDPA_PID</th>\n",
       "      <th>NAME</th>\n",
       "      <th>ORIG_NA</th>\n",
       "      <th>DESIG</th>\n",
       "      <th>DESIG_E</th>\n",
       "      <th>DESIG_T</th>\n",
       "      <th>IUCN_CA</th>\n",
       "      <th>MARINE</th>\n",
       "      <th>GOV_TYP</th>\n",
       "      <th>ISO3</th>\n",
       "      <th>OWN_TYP</th>\n",
       "      <th>AREA_KM</th>\n",
       "      <th>MOL_ID</th>\n",
       "      <th>geometry</th>\n",
       "    </tr>\n",
       "  </thead>\n",
       "  <tbody>\n",
       "    <tr>\n",
       "      <th>177470</th>\n",
       "      <td>394131.0</td>\n",
       "      <td>394131</td>\n",
       "      <td>\"Fonds Gatot\" Et \"Laid Mâle\"</td>\n",
       "      <td>\"Fonds Gatot\" Et \"Laid Mâle\"</td>\n",
       "      <td>Site Naturel D'Interêt Scientifique</td>\n",
       "      <td>Scientific Interest Site (Walloon Region)</td>\n",
       "      <td>National</td>\n",
       "      <td>IV</td>\n",
       "      <td>0</td>\n",
       "      <td>Federal or national ministry or agency</td>\n",
       "      <td>BEL</td>\n",
       "      <td>Not Reported</td>\n",
       "      <td>0.100151</td>\n",
       "      <td>177471</td>\n",
       "      <td>MULTIPOLYGON (((4.76254 50.57918, 4.75696 50.5...</td>\n",
       "    </tr>\n",
       "  </tbody>\n",
       "</table>\n",
       "</div>"
      ],
      "text/plain": [
       "          WDPAID WDPA_PID                          NAME  \\\n",
       "177470  394131.0   394131  \"Fonds Gatot\" Et \"Laid Mâle\"   \n",
       "\n",
       "                             ORIG_NA                                DESIG  \\\n",
       "177470  \"Fonds Gatot\" Et \"Laid Mâle\"  Site Naturel D'Interêt Scientifique   \n",
       "\n",
       "                                          DESIG_E   DESIG_T IUCN_CA MARINE  \\\n",
       "177470  Scientific Interest Site (Walloon Region)  National      IV      0   \n",
       "\n",
       "                                       GOV_TYP ISO3       OWN_TYP   AREA_KM  \\\n",
       "177470  Federal or national ministry or agency  BEL  Not Reported  0.100151   \n",
       "\n",
       "        MOL_ID                                           geometry  \n",
       "177470  177471  MULTIPOLYGON (((4.76254 50.57918, 4.75696 50.5...  "
      ]
     },
     "execution_count": 5,
     "metadata": {},
     "output_type": "execute_result"
    }
   ],
   "source": [
    "c[c['WDPA_PID']=='394131'] # original characters still there"
   ]
  },
  {
   "cell_type": "markdown",
   "metadata": {},
   "source": [
    "#### Simplification is done in the he-scratch folder, but the outputs have been removed to avoid space issues\n",
    "Note: Run the mapshaper commands directly in terminal if it doesn't work here"
   ]
  },
  {
   "cell_type": "markdown",
   "metadata": {},
   "source": [
    "#### Create partitions to make the process more efficient"
   ]
  },
  {
   "cell_type": "code",
   "execution_count": 6,
   "metadata": {},
   "outputs": [
    {
     "name": "stdout",
     "output_type": "stream",
     "text": [
      "Allocating 16 GB of heap memory\n",
      "[merge-layers] Use the target= option to specify multiple layers for merging\n",
      "[o] Wrote WDPA_test/1.json\n",
      "[o] Wrote WDPA_test/2.json\n",
      "[o] Wrote WDPA_test/3.json\n",
      "[o] Wrote WDPA_test/4.json\n",
      "[o] Wrote WDPA_test/5.json\n",
      "[o] Wrote WDPA_test/6.json\n",
      "[o] Wrote WDPA_test/7.json\n",
      "[o] Wrote WDPA_test/8.json\n",
      "[o] Wrote WDPA_test/9.json\n",
      "[o] Wrote WDPA_test/10.json\n",
      "[o] Wrote WDPA_test/11.json\n",
      "[o] Wrote WDPA_test/12.json\n"
     ]
    }
   ],
   "source": [
    "# Break the shp into 12 json files\n",
    "!mapshaper-xl 16gb -i ./../../HE_Data/WDPA_corrected/*.shp no-topology combine-files \\\n",
    "    -merge-layers \\\n",
    "    -each \"group = Math.trunc(this.id/20000)+1\" \\\n",
    "    -split group \\\n",
    "    -o WDPA_test/ format=geojson precision=0.0001 force ndjson"
   ]
  },
  {
   "cell_type": "code",
   "execution_count": null,
   "metadata": {},
   "outputs": [],
   "source": [
    "## To merge all json files in one\n",
    "# !mapshaper-xl 16gb -i ./../../HALF_EARTH/WDPA_test/*.json snap combine-files -merge-layers -info"
   ]
  },
  {
   "cell_type": "markdown",
   "metadata": {},
   "source": [
    "### Tests:\n",
    "1. All commands: len 183665 (symp-wdpa.shp)\n",
    "2. Remove the 'filter-slivers' option = len 19833 (symp-wdpa2.shp)\n",
    "3. Remove the 'filter-slivers' and 'filter islands' option = len (symp-wdpa3.shp)\n",
    "This option removes >8000 geometries but all of them (except for 1) are valid\n",
    "4. Remove the clean rewind option.\n",
    "The 4th option retains all geometries, but 3935 are invalid. Some of those can be repaired and only 1611 have to be removed.\n",
    "\n",
    "##### * Each test changes the json files so to run a new test it's necessary to run the previous cells to create the partitions again"
   ]
  },
  {
   "cell_type": "code",
   "execution_count": null,
   "metadata": {},
   "outputs": [],
   "source": [
    "### First test with all parameters\n",
    "# !mapshaper-xl 16gb -i ./WDPA_test/*.json snap \\\n",
    "#     -simplify 20% planar keep-shapes \\\n",
    "#     -filter-islands min-vertices=3 min-area=10000m2 remove-empty \\\n",
    "#     -filter-slivers min-area=10000m2 remove-empty \\\n",
    "#     -clean rewind \\\n",
    "#     -o WDPA_test/ format=geojson force ndjson"
   ]
  },
  {
   "cell_type": "code",
   "execution_count": 7,
   "metadata": {},
   "outputs": [
    {
     "name": "stdout",
     "output_type": "stream",
     "text": [
      "Allocating 16 GB of heap memory\n",
      "[i] Snapped 0 points\n",
      "[simplify] Repaired 2,846 intersections; 3,472 intersections could not be repaired\n",
      "[o] Wrote WDPA_test/1.json\n",
      "[i] Snapped 0 points\n",
      "[simplify] Repaired 2,964 intersections; 8,909 intersections could not be repaired\n",
      "[o] Wrote WDPA_test/10.json\n",
      "[i] Snapped 0 points\n",
      "[simplify] Repaired 0 intersections; 22,873 intersections could not be repaired\n",
      "[o] Wrote WDPA_test/11.json\n",
      "[i] Snapped 0 points\n",
      "[simplify] Repaired 0 intersections; 15,327 intersections could not be repaired\n",
      "[o] Wrote WDPA_test/12.json\n",
      "[i] Snapped 0 points\n",
      "[simplify] Repaired 696 intersections; 6,754 intersections could not be repaired\n",
      "[o] Wrote WDPA_test/2.json\n",
      "[i] Snapped 0 points\n",
      "[simplify] Repaired 2,523 intersections; 12,784 intersections could not be repaired\n",
      "[o] Wrote WDPA_test/3.json\n",
      "[i] Snapped 0 points\n",
      "[simplify] Repaired 538 intersections; 5,229 intersections could not be repaired\n",
      "[o] Wrote WDPA_test/4.json\n",
      "[i] Snapped 0 points\n",
      "[simplify] Repaired 241 intersections; 8,785 intersections could not be repaired\n",
      "[o] Wrote WDPA_test/5.json\n",
      "[i] Snapped 0 points\n",
      "[simplify] Repaired 0 intersections; 13,488 intersections could not be repaired\n",
      "[o] Wrote WDPA_test/6.json\n",
      "[i] Snapped 0 points\n",
      "[simplify] Repaired 1,258 intersections; 21,441 intersections could not be repaired\n",
      "[o] Wrote WDPA_test/7.json\n",
      "[i] Snapped 0 points\n",
      "[simplify] Repaired 2,779 intersections; 10,455 intersections could not be repaired\n",
      "[o] Wrote WDPA_test/8.json\n",
      "[i] Snapped 0 points\n",
      "[simplify] Repaired 2,262 intersections; 8,895 intersections could not be repaired\n",
      "[o] Wrote WDPA_test/9.json\n"
     ]
    }
   ],
   "source": [
    "### Final test: Only simplify (retains all geometries).\n",
    "!mapshaper-xl 16gb -i ./WDPA_test/*.json snap \\\n",
    "    -simplify 20% weighting=0.3 planar keep-shapes \\\n",
    "    -o WDPA_test/ format=geojson force ndjson"
   ]
  },
  {
   "cell_type": "code",
   "execution_count": 8,
   "metadata": {},
   "outputs": [
    {
     "name": "stdout",
     "output_type": "stream",
     "text": [
      "Allocating 16 GB of heap memory\n",
      "[info] \n",
      "==================================================\n",
      "Layer:    [unnamed layer]\n",
      "--------------------------------------------------\n",
      "Type:     polygon\n",
      "Records:  224,133\n",
      "Nulls:     1,614\n",
      "Bounds:   -180,-85.4119,180,86.4531\n",
      "CRS:      +proj=longlat +datum=WGS84\n",
      "Source:   ./WDPA_test/1.json\n",
      "\n",
      "Attribute data\n",
      "----------+---------------------------------------\n",
      " Field    | First value\n",
      "----------+---------------------------------------\n",
      " AREA_KM  |      1.136031298847187\n",
      " DESIG    | 'Stewardship Area'\n",
      " DESIG_E  | 'Stewardship Area'\n",
      " DESIG_T  | 'National'\n",
      " GOV_TYP  | 'Federal or national ministry or agency'\n",
      " group    |      1\n",
      " ISO3     | 'NZL'\n",
      " IUCN_CA  | 'III'\n",
      " MARINE   | '0'\n",
      " MOL_ID   |      1\n",
      " NAME     | 'Boulder Beach'\n",
      " ORIG_NA  | 'Boulder Beach / WWF Block'\n",
      " OWN_TYP  | 'Not Reported'\n",
      " WDPA_PID | '310492'\n",
      " WDPAID   | 310492\n",
      "----------+---------------------------------------\n",
      "\n",
      "[o] Wrote WDPA_test/simp-wdpa4.shp\n",
      "[o] Wrote WDPA_test/simp-wdpa4.shx\n",
      "[o] Wrote WDPA_test/simp-wdpa4.dbf\n",
      "[o] Wrote WDPA_test/simp-wdpa4.prj\n"
     ]
    }
   ],
   "source": [
    "# Combine all json files in a shp. \n",
    "!mapshaper-xl 16gb -i ./WDPA_test/*.json combine-files -merge-layers -info -o WDPA_test/simp-wdpa4.shp"
   ]
  },
  {
   "cell_type": "code",
   "execution_count": 9,
   "metadata": {},
   "outputs": [
    {
     "data": {
      "text/plain": [
       "224133"
      ]
     },
     "execution_count": 9,
     "metadata": {},
     "output_type": "execute_result"
    }
   ],
   "source": [
    "### Inspect file\n",
    "# original layer len 224133\n",
    "#sim = gpd.read_file('WDPA_test/simp-wdpa.shp') # len 183665\n",
    "#sim = gpd.read_file('WDPA_test/simp-wdpa2.shp') # len 19833\n",
    "#sim = gpd.read_file('WDPA_test/simp-wdpa3.shp') # len 215940 ### with clean rewind (8193 geometries removed)\n",
    "sim = gpd.read_file('WDPA_test/simp-wdpa4.shp') # len 224133 ### retains all geometries\n",
    "len(sim)"
   ]
  },
  {
   "cell_type": "code",
   "execution_count": 10,
   "metadata": {},
   "outputs": [
    {
     "data": {
      "text/html": [
       "<div>\n",
       "<style scoped>\n",
       "    .dataframe tbody tr th:only-of-type {\n",
       "        vertical-align: middle;\n",
       "    }\n",
       "\n",
       "    .dataframe tbody tr th {\n",
       "        vertical-align: top;\n",
       "    }\n",
       "\n",
       "    .dataframe thead th {\n",
       "        text-align: right;\n",
       "    }\n",
       "</style>\n",
       "<table border=\"1\" class=\"dataframe\">\n",
       "  <thead>\n",
       "    <tr style=\"text-align: right;\">\n",
       "      <th></th>\n",
       "      <th>WDPAID</th>\n",
       "      <th>WDPA_PID</th>\n",
       "      <th>NAME</th>\n",
       "      <th>ORIG_NA</th>\n",
       "      <th>DESIG</th>\n",
       "      <th>DESIG_E</th>\n",
       "      <th>DESIG_T</th>\n",
       "      <th>IUCN_CA</th>\n",
       "      <th>MARINE</th>\n",
       "      <th>GOV_TYP</th>\n",
       "      <th>ISO3</th>\n",
       "      <th>OWN_TYP</th>\n",
       "      <th>AREA_KM</th>\n",
       "      <th>MOL_ID</th>\n",
       "      <th>group</th>\n",
       "      <th>geometry</th>\n",
       "    </tr>\n",
       "  </thead>\n",
       "  <tbody>\n",
       "    <tr>\n",
       "      <th>221603</th>\n",
       "      <td>394131</td>\n",
       "      <td>394131</td>\n",
       "      <td>\"Fonds Gatot\" Et \"Laid MÃ¢le\"</td>\n",
       "      <td>\"Fonds Gatot\" Et \"Laid MÃ¢le\"</td>\n",
       "      <td>Site Naturel D'InterÃªt Scientifique</td>\n",
       "      <td>Scientific Interest Site (Walloon Region)</td>\n",
       "      <td>National</td>\n",
       "      <td>IV</td>\n",
       "      <td>0</td>\n",
       "      <td>Federal or national ministry or agency</td>\n",
       "      <td>BEL</td>\n",
       "      <td>Not Reported</td>\n",
       "      <td>0.100151</td>\n",
       "      <td>177471</td>\n",
       "      <td>9</td>\n",
       "      <td>POLYGON ((4.76250 50.57920, 4.75700 50.57770, ...</td>\n",
       "    </tr>\n",
       "  </tbody>\n",
       "</table>\n",
       "</div>"
      ],
      "text/plain": [
       "        WDPAID WDPA_PID                           NAME  \\\n",
       "221603  394131   394131  \"Fonds Gatot\" Et \"Laid MÃ¢le\"   \n",
       "\n",
       "                              ORIG_NA                                 DESIG  \\\n",
       "221603  \"Fonds Gatot\" Et \"Laid MÃ¢le\"  Site Naturel D'InterÃªt Scientifique   \n",
       "\n",
       "                                          DESIG_E   DESIG_T IUCN_CA MARINE  \\\n",
       "221603  Scientific Interest Site (Walloon Region)  National      IV      0   \n",
       "\n",
       "                                       GOV_TYP ISO3       OWN_TYP   AREA_KM  \\\n",
       "221603  Federal or national ministry or agency  BEL  Not Reported  0.100151   \n",
       "\n",
       "        MOL_ID  group                                           geometry  \n",
       "221603  177471      9  POLYGON ((4.76250 50.57920, 4.75700 50.57770, ...  "
      ]
     },
     "execution_count": 10,
     "metadata": {},
     "output_type": "execute_result"
    }
   ],
   "source": [
    "sim[sim['WDPA_PID']=='394131'] # original characters are replaced by weird ones"
   ]
  },
  {
   "cell_type": "markdown",
   "metadata": {},
   "source": [
    "#### Creating a shapefile from json files changes original characters in the names. To keep the original names but use the simplified geometry: drop geometry column in corrected dataset and add geometry column from simplified dataset"
   ]
  },
  {
   "cell_type": "code",
   "execution_count": 11,
   "metadata": {},
   "outputs": [
    {
     "data": {
      "text/html": [
       "<div>\n",
       "<style scoped>\n",
       "    .dataframe tbody tr th:only-of-type {\n",
       "        vertical-align: middle;\n",
       "    }\n",
       "\n",
       "    .dataframe tbody tr th {\n",
       "        vertical-align: top;\n",
       "    }\n",
       "\n",
       "    .dataframe thead th {\n",
       "        text-align: right;\n",
       "    }\n",
       "</style>\n",
       "<table border=\"1\" class=\"dataframe\">\n",
       "  <thead>\n",
       "    <tr style=\"text-align: right;\">\n",
       "      <th></th>\n",
       "      <th>WDPAID</th>\n",
       "      <th>WDPA_PID</th>\n",
       "      <th>NAME</th>\n",
       "      <th>ORIG_NA</th>\n",
       "      <th>DESIG</th>\n",
       "      <th>DESIG_E</th>\n",
       "      <th>DESIG_T</th>\n",
       "      <th>IUCN_CA</th>\n",
       "      <th>MARINE</th>\n",
       "      <th>GOV_TYP</th>\n",
       "      <th>ISO3</th>\n",
       "      <th>OWN_TYP</th>\n",
       "      <th>AREA_KM</th>\n",
       "      <th>MOL_ID</th>\n",
       "    </tr>\n",
       "  </thead>\n",
       "  <tbody>\n",
       "    <tr>\n",
       "      <th>0</th>\n",
       "      <td>310492.0</td>\n",
       "      <td>310492</td>\n",
       "      <td>Boulder Beach</td>\n",
       "      <td>Boulder Beach / WWF Block</td>\n",
       "      <td>Stewardship Area</td>\n",
       "      <td>Stewardship Area</td>\n",
       "      <td>National</td>\n",
       "      <td>III</td>\n",
       "      <td>0</td>\n",
       "      <td>Federal or national ministry or agency</td>\n",
       "      <td>NZL</td>\n",
       "      <td>Not Reported</td>\n",
       "      <td>1.136031</td>\n",
       "      <td>1</td>\n",
       "    </tr>\n",
       "  </tbody>\n",
       "</table>\n",
       "</div>"
      ],
      "text/plain": [
       "     WDPAID WDPA_PID           NAME                    ORIG_NA  \\\n",
       "0  310492.0   310492  Boulder Beach  Boulder Beach / WWF Block   \n",
       "\n",
       "              DESIG           DESIG_E   DESIG_T IUCN_CA MARINE  \\\n",
       "0  Stewardship Area  Stewardship Area  National     III      0   \n",
       "\n",
       "                                  GOV_TYP ISO3       OWN_TYP   AREA_KM  MOL_ID  \n",
       "0  Federal or national ministry or agency  NZL  Not Reported  1.136031       1  "
      ]
     },
     "execution_count": 11,
     "metadata": {},
     "output_type": "execute_result"
    }
   ],
   "source": [
    "c = c.drop(columns=['geometry'])\n",
    "c.head(1)"
   ]
  },
  {
   "cell_type": "code",
   "execution_count": 12,
   "metadata": {},
   "outputs": [
    {
     "data": {
      "text/html": [
       "<div>\n",
       "<style scoped>\n",
       "    .dataframe tbody tr th:only-of-type {\n",
       "        vertical-align: middle;\n",
       "    }\n",
       "\n",
       "    .dataframe tbody tr th {\n",
       "        vertical-align: top;\n",
       "    }\n",
       "\n",
       "    .dataframe thead th {\n",
       "        text-align: right;\n",
       "    }\n",
       "</style>\n",
       "<table border=\"1\" class=\"dataframe\">\n",
       "  <thead>\n",
       "    <tr style=\"text-align: right;\">\n",
       "      <th></th>\n",
       "      <th>WDPAID</th>\n",
       "      <th>WDPA_PID</th>\n",
       "      <th>NAME</th>\n",
       "      <th>ORIG_NA</th>\n",
       "      <th>DESIG</th>\n",
       "      <th>DESIG_E</th>\n",
       "      <th>DESIG_T</th>\n",
       "      <th>IUCN_CA</th>\n",
       "      <th>MARINE</th>\n",
       "      <th>GOV_TYP</th>\n",
       "      <th>ISO3</th>\n",
       "      <th>OWN_TYP</th>\n",
       "      <th>AREA_KM</th>\n",
       "      <th>MOL_ID</th>\n",
       "      <th>geometry</th>\n",
       "    </tr>\n",
       "  </thead>\n",
       "  <tbody>\n",
       "    <tr>\n",
       "      <th>0</th>\n",
       "      <td>310492.0</td>\n",
       "      <td>310492</td>\n",
       "      <td>Boulder Beach</td>\n",
       "      <td>Boulder Beach / WWF Block</td>\n",
       "      <td>Stewardship Area</td>\n",
       "      <td>Stewardship Area</td>\n",
       "      <td>National</td>\n",
       "      <td>III</td>\n",
       "      <td>0</td>\n",
       "      <td>Federal or national ministry or agency</td>\n",
       "      <td>NZL</td>\n",
       "      <td>Not Reported</td>\n",
       "      <td>1.136031</td>\n",
       "      <td>1</td>\n",
       "      <td>POLYGON ((170.60250 -45.89230, 170.61930 -45.8...</td>\n",
       "    </tr>\n",
       "  </tbody>\n",
       "</table>\n",
       "</div>"
      ],
      "text/plain": [
       "     WDPAID WDPA_PID           NAME                    ORIG_NA  \\\n",
       "0  310492.0   310492  Boulder Beach  Boulder Beach / WWF Block   \n",
       "\n",
       "              DESIG           DESIG_E   DESIG_T IUCN_CA MARINE  \\\n",
       "0  Stewardship Area  Stewardship Area  National     III      0   \n",
       "\n",
       "                                  GOV_TYP ISO3       OWN_TYP   AREA_KM  \\\n",
       "0  Federal or national ministry or agency  NZL  Not Reported  1.136031   \n",
       "\n",
       "   MOL_ID                                           geometry  \n",
       "0       1  POLYGON ((170.60250 -45.89230, 170.61930 -45.8...  "
      ]
     },
     "execution_count": 12,
     "metadata": {},
     "output_type": "execute_result"
    }
   ],
   "source": [
    "c = c.merge(sim[['WDPA_PID','geometry']],how='inner',on='WDPA_PID')\n",
    "c.head(1)"
   ]
  },
  {
   "cell_type": "code",
   "execution_count": 13,
   "metadata": {},
   "outputs": [
    {
     "data": {
      "text/plain": [
       "<AxesSubplot:>"
      ]
     },
     "execution_count": 39,
     "metadata": {},
     "output_type": "execute_result"
    },
    {
     "data": {
      "image/png": "[encoded data removed]",
      "text/plain": [
       "<Figure size 720x720 with 2 Axes>"
      ]
     },
     "metadata": {
      "needs_background": "light"
     },
     "output_type": "display_data"
    }
   ],
   "source": [
    "# check if new geometries in corrected database are the same as the simplified\n",
    "n= '394131'\n",
    "fig, (ax1,ax2) = plt.subplots(nrows=1,ncols=2,figsize=(10,10))\n",
    "c[c['WDPA_PID']==n].geometry.plot(ax = ax1) \n",
    "sim[sim['WDPA_PID']==n].geometry.plot(ax = ax2)"
   ]
  },
  {
   "cell_type": "code",
   "execution_count": 14,
   "metadata": {},
   "outputs": [],
   "source": [
    "## Set crs\n",
    "c = c.set_crs('EPSG:4326') "
   ]
  },
  {
   "cell_type": "code",
   "execution_count": 15,
   "metadata": {},
   "outputs": [
    {
     "data": {
      "text/plain": [
       "220154"
      ]
     },
     "execution_count": 15,
     "metadata": {},
     "output_type": "execute_result"
    }
   ],
   "source": [
    "## Check if there are invalid geometries\n",
    "sum(c.is_valid) # now 2220154 geometries valid so 3979 invalid"
   ]
  },
  {
   "cell_type": "code",
   "execution_count": 17,
   "metadata": {},
   "outputs": [
    {
     "data": {
      "text/plain": [
       "222519"
      ]
     },
     "execution_count": 17,
     "metadata": {},
     "output_type": "execute_result"
    }
   ],
   "source": [
    "## Repair geometries and check how many are valid\n",
    "c['geometry'] = c['geometry'].buffer(0) # this is to repair geometries\n",
    "sum(c.is_valid) # now 222519 geometries valid so only 1614 invalid"
   ]
  },
  {
   "cell_type": "code",
   "execution_count": 18,
   "metadata": {},
   "outputs": [
    {
     "data": {
      "text/plain": [
       "222519"
      ]
     },
     "execution_count": 18,
     "metadata": {},
     "output_type": "execute_result"
    }
   ],
   "source": [
    "## Keep only valid geometries and remove the 1611 invalid\n",
    "c_clean = c[c['geometry'].is_valid]\n",
    "len(c_clean)"
   ]
  },
  {
   "cell_type": "code",
   "execution_count": 19,
   "metadata": {},
   "outputs": [
    {
     "data": {
      "text/plain": [
       "<AxesSubplot:>"
      ]
     },
     "execution_count": 19,
     "metadata": {},
     "output_type": "execute_result"
    },
    {
     "data": {
      "image/png": "[encoded data removed]",
      "text/plain": [
       "<Figure size 720x720 with 2 Axes>"
      ]
     },
     "metadata": {
      "needs_background": "light"
     },
     "output_type": "display_data"
    }
   ],
   "source": [
    "## Example\n",
    "n= '310492'\n",
    "fig, (ax1,ax2) = plt.subplots(nrows=1,ncols=2,figsize=(10,10))\n",
    "gdf[gdf['WDPA_PID']==n].geometry.plot(ax = ax1) \n",
    "c_clean[c_clean['WDPA_PID']==n].geometry.plot(ax = ax2)"
   ]
  },
  {
   "cell_type": "code",
   "execution_count": 20,
   "metadata": {},
   "outputs": [
    {
     "data": {
      "text/plain": [
       "<AxesSubplot:>"
      ]
     },
     "execution_count": 20,
     "metadata": {},
     "output_type": "execute_result"
    },
    {
     "data": {
      "image/png": "[encoded data removed]",
      "text/plain": [
       "<Figure size 720x720 with 2 Axes>"
      ]
     },
     "metadata": {
      "needs_background": "light"
     },
     "output_type": "display_data"
    }
   ],
   "source": [
    "## Example\n",
    "n = '20609'\n",
    "fig, (ax1,ax2) = plt.subplots(nrows=1,ncols=2,figsize=(10,10))\n",
    "gdf[gdf['WDPA_PID']==n].geometry.plot(ax = ax1) \n",
    "c_clean[c_clean['WDPA_PID']==n].geometry.plot(ax = ax2)"
   ]
  },
  {
   "cell_type": "code",
   "execution_count": 21,
   "metadata": {},
   "outputs": [
    {
     "data": {
      "text/plain": [
       "<AxesSubplot:>"
      ]
     },
     "execution_count": 21,
     "metadata": {},
     "output_type": "execute_result"
    },
    {
     "data": {
      "image/png": "[encoded data removed]",
      "text/plain": [
       "<Figure size 720x720 with 2 Axes>"
      ]
     },
     "metadata": {
      "needs_background": "light"
     },
     "output_type": "display_data"
    }
   ],
   "source": [
    "## Example\n",
    "n = '555534655'\n",
    "fig, (ax1,ax2) = plt.subplots(nrows=1,ncols=2,figsize=(10,10))\n",
    "gdf[gdf['WDPA_PID']==n].geometry.plot(ax = ax1) \n",
    "c_clean[c_clean['WDPA_PID']==n].geometry.plot(ax = ax2)"
   ]
  },
  {
   "cell_type": "code",
   "execution_count": 34,
   "metadata": {},
   "outputs": [
    {
     "data": {
      "text/plain": [
       "<AxesSubplot:>"
      ]
     },
     "execution_count": 34,
     "metadata": {},
     "output_type": "execute_result"
    },
    {
     "data": {
      "image/png": "[encoded data removed]",
      "text/plain": [
       "<Figure size 720x720 with 2 Axes>"
      ]
     },
     "metadata": {
      "needs_background": "light"
     },
     "output_type": "display_data"
    }
   ],
   "source": [
    "## Example\n",
    "n = '555703244'\n",
    "fig, (ax1,ax2) = plt.subplots(nrows=1,ncols=2,figsize=(10,10))\n",
    "gdf[gdf['WDPA_PID']==n].geometry.plot(ax = ax1) \n",
    "c_clean[c_clean['WDPA_PID']==n].geometry.plot(ax = ax2)"
   ]
  },
  {
   "cell_type": "code",
   "execution_count": 50,
   "metadata": {},
   "outputs": [],
   "source": [
    "# Save file in local\n",
    "c_clean.to_file('/Users/sofia/Documents/HE_Data/WDPA_terrestrial+marine2021_simplified', driver= 'ESRI Shapefile')"
   ]
  },
  {
   "cell_type": "markdown",
   "metadata": {},
   "source": [
    "### Publish layers with API"
   ]
  },
  {
   "cell_type": "code",
   "execution_count": 24,
   "metadata": {},
   "outputs": [],
   "source": [
    "import arcgis\n",
    "from arcgis.gis import GIS\n",
    "import json\n",
    "import pandas as pd\n",
    "from arcgis.features import FeatureLayerCollection\n",
    "import requests as re\n",
    "from copy import deepcopy"
   ]
  },
  {
   "cell_type": "code",
   "execution_count": 25,
   "metadata": {},
   "outputs": [],
   "source": [
    "env_path = \".env\"\n",
    "with open(env_path) as f:\n",
    "   env = {}\n",
    "   for line in f:\n",
    "       env_key, _val = line.split(\"=\")\n",
    "       env_value = _val.split(\"\\n\")[0]\n",
    "       env[env_key] = env_value\n",
    "\n",
    "aol_password = env['ARCGIS_GRETA_PASS']\n",
    "aol_username = env['ARCGIS_GRETA_USER']\n",
    "\n",
    "gis = GIS(\"https://eowilson.maps.arcgis.com\", aol_username, aol_password)"
   ]
  },
  {
   "cell_type": "code",
   "execution_count": 26,
   "metadata": {},
   "outputs": [],
   "source": [
    "# Function to publish files as feature services or hosted tables\n",
    "\n",
    "def publishCSVasFS(csv_file,csvName, gis, aol_folder_name, sharing, table): # sharing = 'None', 'groups', 'everyone' # table = 'yes', 'no'\n",
    "    try:\n",
    "        \n",
    "        if gis.content.is_service_name_available(csvName, \"featureService\"):\n",
    "            print(f\"Service name {csvName} is available\")\n",
    "            #csv_file = f'./{csvName}.csv'\n",
    "            csv_item = gis.content.add({}, csv_file)\n",
    "            #csv_lyr = csv_item.publish(None,  {'CountryCode' : 'countryname'})\n",
    "            if table == 'yes':\n",
    "                csv_lyr = csv_item.publish(publish_parameters={'locationType':'none', 'type':'csv'})\n",
    "            else:\n",
    "                print('no table')\n",
    "                csv_lyr = csv_item.publish()\n",
    "                flayer_collection = FeatureLayerCollection.fromitem(csv_lyr)\n",
    "                searched_flayer = flayer_collection.layers[0] \n",
    "                nber_features = searched_flayer.query(return_count_only=True)\n",
    "                print(f\"The service {csvName} has been published. The service has {nber_features} entries\")\n",
    "            print(f\"Moving service {csvName} to {aol_folder_name} in ArcGIS Online...\")\n",
    "            # move both the csv_item and csv_lyr items into this new folder\n",
    "            csv_item.move(aol_folder_name)\n",
    "            csv_lyr.move(aol_folder_name)\n",
    "            print(f\"Service {csvName} has been moved to {aol_folder_name} in ArcGIS Online\")\n",
    "#             sharing, default is owner\n",
    "#             csv_lyr.shared_with\n",
    "            if sharing == 'None':\n",
    "                csv_lyr.share(everyone=False, org=False, groups=None, allow_members_to_edit=False)\n",
    "            if sharing == 'groups':\n",
    "            # the group id is needed to share with agroup\n",
    "                csv_lyr.share(everyone=False, org=False, groups=[group_id], allow_members_to_edit=False)\n",
    "            if sharing == 'everyone':\n",
    "                csv_lyr.share(everyone=True, org=False, groups=None, allow_members_to_edit=False)\n",
    "            sharing_prop = csv_lyr.shared_with\n",
    "            if sharing_prop['everyone']==True:\n",
    "                print(f\"shared with everyone\")   \n",
    "            else:\n",
    "                print(f\"not a public layer, for this layer to be used it has to be public or the urls have to be whitelisted\")            \n",
    "            #not allowing deleting\n",
    "            csv_lyr.protect()\n",
    "            print(f\"{csvName}'s protection against deletion : {csv_lyr.protected}\") \n",
    "            # it is possible to check the status with csv_item.content_status\n",
    "            return csv_lyr.id\n",
    "        else:\n",
    "            print(\"The service name is not available, try overwritting, appending the data or a different service name\")\n",
    "    except:\n",
    "        print(\"The csv hasn't been published\")"
   ]
  },
  {
   "cell_type": "code",
   "execution_count": 29,
   "metadata": {},
   "outputs": [
    {
     "name": "stdout",
     "output_type": "stream",
     "text": [
      "Service name WDPA_terrestrialmarine_2021_simplified is available\n",
      "no table\n",
      "The service WDPA_terrestrialmarine_2021_simplified has been published. The service has 222519 entries\n",
      "Moving service WDPA_terrestrialmarine_2021_simplified to wdpa data in ArcGIS Online...\n",
      "Folder not found for given owner\n",
      "Folder not found for given owner\n",
      "Service WDPA_terrestrialmarine_2021_simplified has been moved to wdpa data in ArcGIS Online\n",
      "not a public layer, for this layer to be used it has to be public or the urls have to be whitelisted\n",
      "WDPA_terrestrialmarine_2021_simplified's protection against deletion : True\n"
     ]
    },
    {
     "data": {
      "text/plain": [
       "'1a617eaeaf77458cb569f683366e3920'"
      ]
     },
     "execution_count": 29,
     "metadata": {},
     "output_type": "execute_result"
    }
   ],
   "source": [
    "# Run function with the file we want to add\n",
    "csv_file = '/Users/sofia/Documents/HE_Data/WDPA_terrestrial+marine2021_simplified.zip'\n",
    "csvName = 'WDPA_terrestrialmarine_2021_simplified'\n",
    "gis = GIS(\"https://eowilson.maps.arcgis.com\", aol_username, aol_password)\n",
    "aol_folder_name = 'wdpa data'\n",
    "group_id='46783c33c294485abe83f5e899c2f21f'\n",
    "publishCSVasFS(csv_file,csvName,gis,aol_folder_name,sharing='groups', table='no')"
   ]
  }
 ],
 "metadata": {
  "kernelspec": {
   "display_name": "Python 3 (ipykernel)",
   "language": "python",
   "name": "python3"
  },
  "language_info": {
   "codemirror_mode": {
    "name": "ipython",
    "version": 3
   },
   "file_extension": ".py",
   "mimetype": "text/x-python",
   "name": "python",
   "nbconvert_exporter": "python",
   "pygments_lexer": "ipython3",
   "version": "3.8.12"
  }
 },
 "nbformat": 4,
 "nbformat_minor": 4
}
