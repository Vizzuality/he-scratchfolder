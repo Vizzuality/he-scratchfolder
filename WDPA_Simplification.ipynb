{
 "cells": [
  {
   "cell_type": "markdown",
   "metadata": {},
   "source": [
    "#### Enesimum attemp to make a decent dimplification of WDPA"
   ]
  },
  {
   "cell_type": "markdown",
   "metadata": {},
   "source": [
    "### Mapshaper commad used in Marxan:\n",
    "!mapshaper -i /Users/tamarahuete/Documents/HALF_EARTH/Ecoregions2017_20210825.shp snap combine-files \\\n",
    "        -simplify 25% planar keep-shapes \\\n",
    "        -filter-islands min-vertices=3 min-area=10000m2 remove-empty \\\n",
    "        -filter-slivers min-area=10000m2 remove-empty \\\n",
    "        -clean rewind \\\n",
    "        -o /Users/tamarahuete/Documents/HALF_EARTH/Ecoregions2017_20210825_simple.shp format=shapefile force ndjson"
   ]
  },
  {
   "cell_type": "code",
   "execution_count": null,
   "metadata": {},
   "outputs": [],
   "source": [
    "# !pip install pandarallel"
   ]
  },
  {
   "cell_type": "code",
   "execution_count": null,
   "metadata": {},
   "outputs": [],
   "source": [
    "# ## In terminal run to install mapshaper:\n",
    "# !nvm use 12.21.0\n",
    "# !npm i -g mapshaper@0.5.67"
   ]
  },
  {
   "cell_type": "code",
   "execution_count": 3,
   "metadata": {},
   "outputs": [],
   "source": [
    "import geopandas as gpd\n",
    "import matplotlib.pyplot as plt\n",
    "import pandas\n",
    "import os\n",
    "import json\n",
    "# from pandarallel import pandarallel\n",
    "# import topojson as tp\n",
    "from zipfile import ZipFile\n",
    "# pandarallel.initialize(progress_bar=True, use_memory_fs=False, nb_workers=20)"
   ]
  },
  {
   "cell_type": "code",
   "execution_count": 4,
   "metadata": {},
   "outputs": [],
   "source": [
    "# Create unzipped folder so mapshaper can bring the shp\n",
    "zipfile = '/Users/sofia/Documents/HE_Data/WDPA_FILTERED_20210615_FILTERED_all_with_oecm_wdpa_100mTol'\n",
    "unzipfile = ZipFile(f'{zipfile}.zip').extractall(zipfile)\n",
    "# file_in = f'{zipfile}/WDPA_FILTERED_20210615_FILTERED_all_with_oecm_wdpa_100mTol.shp'\n",
    "# file_out = '/Users/sofia/Documents/HE_Data/WDPA_simple.shp'"
   ]
  },
  {
   "cell_type": "code",
   "execution_count": null,
   "metadata": {},
   "outputs": [],
   "source": [
    "### Inspect file\n",
    "# gdf = gpd.read_file(file_in)"
   ]
  },
  {
   "cell_type": "code",
   "execution_count": 5,
   "metadata": {},
   "outputs": [
    {
     "data": {
      "text/plain": [
       "224133"
      ]
     },
     "execution_count": 5,
     "metadata": {},
     "output_type": "execute_result"
    }
   ],
   "source": [
    "# Read file\n",
    "gdf = gpd.read_file('zip:///Users/sofia/Documents/HE_Data/WDPA_FILTERED_20210615_FILTERED_all_with_oecm_wdpa_100mTol.zip')\n",
    "len(gdf)"
   ]
  },
  {
   "cell_type": "code",
   "execution_count": null,
   "metadata": {},
   "outputs": [],
   "source": [
    "gdf.columns"
   ]
  },
  {
   "cell_type": "code",
   "execution_count": 7,
   "metadata": {},
   "outputs": [],
   "source": [
    "# Create subset with only relevant columns\n",
    "sub = gdf[['WDPA_PID','NAME','ORIG_NA','DESIG','DESIG_E','DESIG_T','IUCN_CA','MARINE','GOV_TYP','ISO3','OWN_TYP','AREA_KM','MOL_ID','geometry']]"
   ]
  },
  {
   "cell_type": "markdown",
   "metadata": {},
   "source": [
    "#### Simplification is done in the he-scratch folder, but the outputs have been removed to avoid space issues\n",
    "Note: Run the mapshaper commands directly in terminal if it doesn't work here"
   ]
  },
  {
   "cell_type": "markdown",
   "metadata": {},
   "source": [
    "#### Create partitions to make the process more efficient"
   ]
  },
  {
   "cell_type": "code",
   "execution_count": null,
   "metadata": {},
   "outputs": [],
   "source": [
    "# Break the shp into 12 json files\n",
    "!mapshaper-xl 16gb -i ./../../HE_Data/WDPA_FILTERED_20210615_FILTERED_all_with_oecm_wdpa_100mTol/*.shp no-topology combine-files \\\n",
    "    -merge-layers \\\n",
    "    -each \"group = Math.trunc(this.id/20000)+1\" \\\n",
    "    -split group \\\n",
    "    -o WDPA_test/ format=geojson precision=0.0001 force ndjson"
   ]
  },
  {
   "cell_type": "code",
   "execution_count": null,
   "metadata": {},
   "outputs": [],
   "source": [
    "## To merge all json files in one\n",
    "# !mapshaper-xl 16gb -i ./../../HALF_EARTH/WDPA_test/*.json snap combine-files -merge-layers -info"
   ]
  },
  {
   "cell_type": "markdown",
   "metadata": {},
   "source": [
    "### Tests:\n",
    "1. All commands: len 183665 (symp-wdpa.shp)\n",
    "2. Remove the 'filter-slivers' option = len 19833 (symp-wdpa2.shp)\n",
    "3. Remove the 'filter-slivers' and 'filter islands' option = len (symp-wdpa3.shp)\n",
    "This option removes >8000 geometries but all of them (except for 1) are valid\n",
    "4. Remove the clean rewind option.\n",
    "The 4th option retains all geometries, but 3935 are invalid. Some of those can be repaired and only 1611 have to be removed.\n",
    "\n",
    "##### * Each test changes the json files so to run a new test it's necessary to run the previous cells to create the partitions again"
   ]
  },
  {
   "cell_type": "code",
   "execution_count": null,
   "metadata": {},
   "outputs": [],
   "source": [
    "### First test with all parameters\n",
    "# !mapshaper-xl 16gb -i ./WDPA_test/*.json snap \\\n",
    "#     -simplify 20% planar keep-shapes \\\n",
    "#     -filter-islands min-vertices=3 min-area=10000m2 remove-empty \\\n",
    "#     -filter-slivers min-area=10000m2 remove-empty \\\n",
    "#     -clean rewind \\\n",
    "#     -o WDPA_test/ format=geojson force ndjson"
   ]
  },
  {
   "cell_type": "code",
   "execution_count": null,
   "metadata": {},
   "outputs": [],
   "source": [
    "### Final test: Only simplify (retains all geometries).\n",
    "!mapshaper-xl 16gb -i ./WDPA_test/*.json snap \\\n",
    "    -simplify 20% planar keep-shapes \\\n",
    "    -o WDPA_test/ format=geojson force ndjson"
   ]
  },
  {
   "cell_type": "code",
   "execution_count": 8,
   "metadata": {},
   "outputs": [
    {
     "name": "stdout",
     "output_type": "stream",
     "text": [
      "Allocating 16 GB of heap memory\n",
      "[info] \n",
      "==================================================\n",
      "Layer:    [unnamed layer]\n",
      "--------------------------------------------------\n",
      "Type:     polygon\n",
      "Records:  224,133\n",
      "Nulls:     1,610\n",
      "Bounds:   -180,-85.4119,180,86.4531\n",
      "CRS:      +proj=longlat +datum=WGS84\n",
      "Source:   ./WDPA_test/1.json\n",
      "\n",
      "Attribute data\n",
      "------------+-------------------------------------\n",
      " Field      | First value\n",
      "------------+-------------------------------------\n",
      " AREA_KM    |          1.136031298847187\n",
      " CONS_OB    | 'Not Applicable'\n",
      " DESIG      | 'Stewardship Area'\n",
      " DESIG_E    | 'Stewardship Area'\n",
      " DESIG_T    | 'National'\n",
      " GIS_ARE    |          1.13580554631289\n",
      " GIS_M_A    |          0\n",
      " GOV_TYP    | 'Federal or national ministry or agency'\n",
      " group      |          1\n",
      " hash_vl    | 1802338827\n",
      " INT_CRI    | 'Not Applicable'\n",
      " ISO3       | 'NZL'\n",
      " IUCN_CA    | 'III'\n",
      " MANG_AU    | 'Department of Conservation'\n",
      " MANG_PL    | 'Not Reported'\n",
      " MARINE     | '0'\n",
      " METADAT    |       1773\n",
      " MOL_ID     |          1\n",
      " NAME       | 'Boulder Beach'\n",
      " NO_TAKE    | 'Not Applicable'\n",
      " NO_TK_A    |          0\n",
      " ORIG_NA    | 'Boulder Beach / WWF Block'\n",
      " OWN_TYP    | 'Not Reported'\n",
      " PA_DEF     | '1'\n",
      " PARENT_    | 'NZL'\n",
      " REP_ARE    |          0.394101208894667\n",
      " REP_M_A    |          0\n",
      " SORTER     |          0\n",
      " STATUS     | 'Designated'\n",
      " STATUS_    | null\n",
      " SUB_LOC    | 'NZ-OTA'\n",
      " SUPP_IN    | 'Not Applicable'\n",
      " VERIF      | 'State Verified'\n",
      " WDPA_PID   | '310492'\n",
      " WDPA_PID__ | 1802338827\n",
      " WDPA_PID_h | '9cb933d7'\n",
      " WDPAID     |     310492\n",
      "------------+-------------------------------------\n",
      "\n",
      "[o] Wrote WDPA_test/simp-wdpa4.shp\n",
      "[o] Wrote WDPA_test/simp-wdpa4.shx\n",
      "[o] Wrote WDPA_test/simp-wdpa4.dbf\n",
      "[o] Wrote WDPA_test/simp-wdpa4.prj\n"
     ]
    }
   ],
   "source": [
    "# Combine all json files in a shp. \n",
    "!mapshaper-xl 16gb -i ./WDPA_test/*.json combine-files -merge-layers -info -o WDPA_test/simp-wdpa4.shp"
   ]
  },
  {
   "cell_type": "code",
   "execution_count": 9,
   "metadata": {},
   "outputs": [
    {
     "data": {
      "text/plain": [
       "224133"
      ]
     },
     "execution_count": 9,
     "metadata": {},
     "output_type": "execute_result"
    }
   ],
   "source": [
    "### Inspect file\n",
    "# original layer len 224133\n",
    "#sim = gpd.read_file('WDPA_test/simp-wdpa.shp') # len 183665\n",
    "#sim = gpd.read_file('WDPA_test/simp-wdpa2.shp') # len 19833\n",
    "#sim = gpd.read_file('WDPA_test/simp-wdpa3.shp') # len 215940 ### with clean rewind (8193 geometries removed)\n",
    "sim = gpd.read_file('WDPA_test/simp-wdpa4.shp') # len 224133 ### retains all geometries\n",
    "len(sim)"
   ]
  },
  {
   "cell_type": "code",
   "execution_count": 10,
   "metadata": {},
   "outputs": [],
   "source": [
    "## Subset with only relevant columns\n",
    "sim = sim.set_crs('EPSG:4326') # crs needs to be added\n",
    "sub = sim[['WDPAID','WDPA_PID','NAME','ORIG_NA','DESIG','DESIG_E','DESIG_T','IUCN_CA','MARINE','GOV_TYP','ISO3','OWN_TYP','AREA_KM','MOL_ID','STATUS','geometry']]\n",
    "sub.to_file('WDPA_test/simp-wdpa4_sub.shp')"
   ]
  },
  {
   "cell_type": "code",
   "execution_count": 11,
   "metadata": {},
   "outputs": [
    {
     "data": {
      "text/plain": [
       "220198"
      ]
     },
     "execution_count": 11,
     "metadata": {},
     "output_type": "execute_result"
    }
   ],
   "source": [
    "## Check if there are invalid geometries\n",
    "sum(sub.is_valid) # 220198 are valid so 3935 are invalid"
   ]
  },
  {
   "cell_type": "code",
   "execution_count": 14,
   "metadata": {},
   "outputs": [
    {
     "data": {
      "text/plain": [
       "222523"
      ]
     },
     "execution_count": 14,
     "metadata": {},
     "output_type": "execute_result"
    }
   ],
   "source": [
    "## Repair geometries and check how many are valid\n",
    "sub2 = sub.buffer(0) # this is to repair geometries\n",
    "sum(sub2.is_valid) # now 222522 geometries valid so only 1611 invalid"
   ]
  },
  {
   "cell_type": "code",
   "execution_count": 16,
   "metadata": {},
   "outputs": [
    {
     "data": {
      "text/plain": [
       "224133"
      ]
     },
     "execution_count": 16,
     "metadata": {},
     "output_type": "execute_result"
    }
   ],
   "source": [
    "# Change original geometry column with the repaired one\n",
    "sub['geometry']= sub2 # change original geometry column for the one with repaired geometries\n",
    "len(sub)"
   ]
  },
  {
   "cell_type": "code",
   "execution_count": 17,
   "metadata": {},
   "outputs": [
    {
     "data": {
      "text/plain": [
       "222523"
      ]
     },
     "execution_count": 17,
     "metadata": {},
     "output_type": "execute_result"
    }
   ],
   "source": [
    "## Keep only valid geometries and remove the 1611 invalid\n",
    "sub_clean = sub[sub['geometry'].is_valid]\n",
    "len(sub_clean)"
   ]
  },
  {
   "cell_type": "code",
   "execution_count": 18,
   "metadata": {},
   "outputs": [
    {
     "data": {
      "text/plain": [
       "<AxesSubplot:>"
      ]
     },
     "execution_count": 18,
     "metadata": {},
     "output_type": "execute_result"
    },
    {
     "data": {
      "image/png": "[encoded data removed]",
      "text/plain": [
       "<Figure size 720x720 with 2 Axes>"
      ]
     },
     "metadata": {
      "needs_background": "light"
     },
     "output_type": "display_data"
    }
   ],
   "source": [
    "## Example\n",
    "n= 555538632\n",
    "fig, (ax1,ax2) = plt.subplots(nrows=1,ncols=2,figsize=(10,10))\n",
    "gdf[gdf['WDPAID']==n].geometry.plot(ax = ax1) \n",
    "sub_clean[sub_clean['WDPAID']==n].geometry.plot(ax = ax2)"
   ]
  },
  {
   "cell_type": "code",
   "execution_count": 19,
   "metadata": {},
   "outputs": [
    {
     "data": {
      "text/plain": [
       "<AxesSubplot:>"
      ]
     },
     "execution_count": 19,
     "metadata": {},
     "output_type": "execute_result"
    },
    {
     "data": {
      "image/png": "[encoded data removed]",
      "text/plain": [
       "<Figure size 720x720 with 2 Axes>"
      ]
     },
     "metadata": {
      "needs_background": "light"
     },
     "output_type": "display_data"
    }
   ],
   "source": [
    "## Example\n",
    "n = 20609\n",
    "fig, (ax1,ax2) = plt.subplots(nrows=1,ncols=2,figsize=(10,10))\n",
    "gdf[gdf['WDPAID']==n].geometry.plot(ax = ax1) \n",
    "sub_clean[sub_clean['WDPAID']==n].geometry.plot(ax = ax2)"
   ]
  },
  {
   "cell_type": "code",
   "execution_count": 20,
   "metadata": {},
   "outputs": [
    {
     "data": {
      "text/plain": [
       "<AxesSubplot:>"
      ]
     },
     "execution_count": 20,
     "metadata": {},
     "output_type": "execute_result"
    },
    {
     "data": {
      "image/png": "[encoded data removed]",
      "text/plain": [
       "<Figure size 720x720 with 2 Axes>"
      ]
     },
     "metadata": {
      "needs_background": "light"
     },
     "output_type": "display_data"
    }
   ],
   "source": [
    "## Example\n",
    "n = 555534655\n",
    "fig, (ax1,ax2) = plt.subplots(nrows=1,ncols=2,figsize=(10,10))\n",
    "gdf[gdf['WDPAID']==n].geometry.plot(ax = ax1) \n",
    "sub_clean[sub_clean['WDPAID']==n].geometry.plot(ax = ax2)"
   ]
  },
  {
   "cell_type": "code",
   "execution_count": 21,
   "metadata": {},
   "outputs": [
    {
     "data": {
      "text/plain": [
       "<AxesSubplot:>"
      ]
     },
     "execution_count": 21,
     "metadata": {},
     "output_type": "execute_result"
    },
    {
     "data": {
      "image/png": "[encoded data removed]",
      "text/plain": [
       "<Figure size 720x720 with 2 Axes>"
      ]
     },
     "metadata": {
      "needs_background": "light"
     },
     "output_type": "display_data"
    }
   ],
   "source": [
    "## Example\n",
    "n = 555703244 \n",
    "fig, (ax1,ax2) = plt.subplots(nrows=1,ncols=2,figsize=(10,10))\n",
    "gdf[gdf['WDPAID']==n].geometry.plot(ax = ax1) \n",
    "sim[sim['WDPAID']==n].geometry.plot(ax = ax2)"
   ]
  },
  {
   "cell_type": "code",
   "execution_count": 37,
   "metadata": {},
   "outputs": [],
   "source": [
    "# Save file in local\n",
    "sub_clean.to_file('/Users/sofia/Documents/HE_Data/WDPA_simplification', driver= 'ESRI Shapefile')"
   ]
  },
  {
   "cell_type": "markdown",
   "metadata": {},
   "source": [
    "#### Check invalid geometries that were removed"
   ]
  },
  {
   "cell_type": "code",
   "execution_count": 22,
   "metadata": {},
   "outputs": [
    {
     "data": {
      "text/plain": [
       "1610"
      ]
     },
     "execution_count": 22,
     "metadata": {},
     "output_type": "execute_result"
    }
   ],
   "source": [
    "# List the invalid geometries that were removed from dataset\n",
    "ls = list(sub['WDPAID'])\n",
    "ls2 = list(sub_clean['WDPAID'])\n",
    "invalid= []\n",
    "for element in ls:\n",
    "    if element not in ls2:\n",
    "        invalid.append(element)\n",
    "len(invalid)"
   ]
  },
  {
   "cell_type": "code",
   "execution_count": 24,
   "metadata": {},
   "outputs": [
    {
     "data": {
      "text/plain": [
       "555545970"
      ]
     },
     "execution_count": 24,
     "metadata": {},
     "output_type": "execute_result"
    }
   ],
   "source": [
    "invalid[1549]"
   ]
  },
  {
   "cell_type": "code",
   "execution_count": 25,
   "metadata": {},
   "outputs": [
    {
     "data": {
      "text/html": [
       "<div>\n",
       "<style scoped>\n",
       "    .dataframe tbody tr th:only-of-type {\n",
       "        vertical-align: middle;\n",
       "    }\n",
       "\n",
       "    .dataframe tbody tr th {\n",
       "        vertical-align: top;\n",
       "    }\n",
       "\n",
       "    .dataframe thead th {\n",
       "        text-align: right;\n",
       "    }\n",
       "</style>\n",
       "<table border=\"1\" class=\"dataframe\">\n",
       "  <thead>\n",
       "    <tr style=\"text-align: right;\">\n",
       "      <th></th>\n",
       "      <th>WDPAID</th>\n",
       "      <th>WDPA_PID</th>\n",
       "      <th>PA_DEF</th>\n",
       "      <th>NAME</th>\n",
       "      <th>ORIG_NA</th>\n",
       "      <th>DESIG</th>\n",
       "      <th>DESIG_E</th>\n",
       "      <th>DESIG_T</th>\n",
       "      <th>IUCN_CA</th>\n",
       "      <th>INT_CRI</th>\n",
       "      <th>...</th>\n",
       "      <th>ISO3</th>\n",
       "      <th>SUPP_IN</th>\n",
       "      <th>CONS_OB</th>\n",
       "      <th>SORTER</th>\n",
       "      <th>WDPA_PID_h</th>\n",
       "      <th>WDPA_PID__</th>\n",
       "      <th>hash_vl</th>\n",
       "      <th>AREA_KM</th>\n",
       "      <th>MOL_ID</th>\n",
       "      <th>geometry</th>\n",
       "    </tr>\n",
       "  </thead>\n",
       "  <tbody>\n",
       "    <tr>\n",
       "      <th>173607</th>\n",
       "      <td>555545970.0</td>\n",
       "      <td>555545970</td>\n",
       "      <td>1</td>\n",
       "      <td>Robles De Irañeta</td>\n",
       "      <td>Robles De Irañeta</td>\n",
       "      <td>Monumento Natural</td>\n",
       "      <td>Natural Monument</td>\n",
       "      <td>National</td>\n",
       "      <td>III</td>\n",
       "      <td>Not Applicable</td>\n",
       "      <td>...</td>\n",
       "      <td>ESP</td>\n",
       "      <td>Not Applicable</td>\n",
       "      <td>Not Applicable</td>\n",
       "      <td>0.0</td>\n",
       "      <td>b48a0b59</td>\n",
       "      <td>-916676897</td>\n",
       "      <td>-916676897</td>\n",
       "      <td>0.000016</td>\n",
       "      <td>173608</td>\n",
       "      <td>MULTIPOLYGON (((-1.93738 42.90105, -1.93737 42...</td>\n",
       "    </tr>\n",
       "  </tbody>\n",
       "</table>\n",
       "<p>1 rows × 37 columns</p>\n",
       "</div>"
      ],
      "text/plain": [
       "             WDPAID   WDPA_PID PA_DEF               NAME            ORIG_NA  \\\n",
       "173607  555545970.0  555545970      1  Robles De Irañeta  Robles De Irañeta   \n",
       "\n",
       "                    DESIG           DESIG_E   DESIG_T IUCN_CA         INT_CRI  \\\n",
       "173607  Monumento Natural  Natural Monument  National     III  Not Applicable   \n",
       "\n",
       "        ... ISO3         SUPP_IN         CONS_OB  SORTER  WDPA_PID_h  \\\n",
       "173607  ...  ESP  Not Applicable  Not Applicable     0.0    b48a0b59   \n",
       "\n",
       "       WDPA_PID__    hash_vl   AREA_KM  MOL_ID  \\\n",
       "173607 -916676897 -916676897  0.000016  173608   \n",
       "\n",
       "                                                 geometry  \n",
       "173607  MULTIPOLYGON (((-1.93738 42.90105, -1.93737 42...  \n",
       "\n",
       "[1 rows x 37 columns]"
      ]
     },
     "execution_count": 25,
     "metadata": {},
     "output_type": "execute_result"
    }
   ],
   "source": [
    "gdf[gdf['WDPAID']==555545970]"
   ]
  },
  {
   "cell_type": "code",
   "execution_count": 26,
   "metadata": {},
   "outputs": [
    {
     "data": {
      "text/plain": [
       "<AxesSubplot:>"
      ]
     },
     "execution_count": 26,
     "metadata": {},
     "output_type": "execute_result"
    },
    {
     "data": {
      "image/png": "[encoded data removed]",
      "text/plain": [
       "<Figure size 720x720 with 1 Axes>"
      ]
     },
     "metadata": {
      "needs_background": "light"
     },
     "output_type": "display_data"
    }
   ],
   "source": [
    "n = 555545970 # this one is gone in new dataset\n",
    "fig, (ax1) = plt.subplots(figsize=(10,10))\n",
    "gdf[gdf['WDPAID']==n].geometry.plot(ax = ax1) \n",
    "# sim[sim['WDPAID']==n].geometry.plot(ax = ax2)"
   ]
  },
  {
   "cell_type": "markdown",
   "metadata": {},
   "source": [
    "#### Publish layers with API"
   ]
  },
  {
   "cell_type": "code",
   "execution_count": 27,
   "metadata": {},
   "outputs": [],
   "source": [
    "import arcgis\n",
    "from arcgis.gis import GIS\n",
    "import json\n",
    "import pandas as pd\n",
    "from arcgis.features import FeatureLayerCollection\n",
    "import requests as re\n",
    "from copy import deepcopy"
   ]
  },
  {
   "cell_type": "code",
   "execution_count": 28,
   "metadata": {},
   "outputs": [],
   "source": [
    "env_path = \".env\"\n",
    "with open(env_path) as f:\n",
    "   env = {}\n",
    "   for line in f:\n",
    "       env_key, _val = line.split(\"=\")\n",
    "       env_value = _val.split(\"\\n\")[0]\n",
    "       env[env_key] = env_value\n",
    "\n",
    "aol_password = env['aol_key']\n",
    "aol_username = env['aol_username']\n",
    "\n",
    "gis = GIS(\"https://eowilson.maps.arcgis.com\", aol_username, aol_password)"
   ]
  },
  {
   "cell_type": "code",
   "execution_count": 31,
   "metadata": {},
   "outputs": [],
   "source": [
    "# Function to publish files as feature services or hosted tables\n",
    "\n",
    "def publishCSVasFS(csv_file,csvName, gis, aol_folder_name, sharing, table): # sharing = 'None', 'groups', 'everyone' # table = 'yes', 'no'\n",
    "    try:\n",
    "        \n",
    "        if gis.content.is_service_name_available(csvName, \"featureService\"):\n",
    "            print(f\"Service name {csvName} is available\")\n",
    "            #csv_file = f'./{csvName}.csv'\n",
    "            csv_item = gis.content.add({}, csv_file)\n",
    "            #csv_lyr = csv_item.publish(None,  {'CountryCode' : 'countryname'})\n",
    "            if table == 'yes':\n",
    "                csv_lyr = csv_item.publish(publish_parameters={'locationType':'none', 'type':'csv'})\n",
    "            else:\n",
    "                print('no table')\n",
    "                csv_lyr = csv_item.publish()\n",
    "                flayer_collection = FeatureLayerCollection.fromitem(csv_lyr)\n",
    "                searched_flayer = flayer_collection.layers[0] \n",
    "                nber_features = searched_flayer.query(return_count_only=True)\n",
    "                print(f\"The service {csvName} has been published. The service has {nber_features} entries\")\n",
    "            print(f\"Moving service {csvName} to {aol_folder_name} in ArcGIS Online...\")\n",
    "            # move both the csv_item and csv_lyr items into this new folder\n",
    "            csv_item.move(aol_folder_name)\n",
    "            csv_lyr.move(aol_folder_name)\n",
    "            print(f\"Service {csvName} has been moved to {aol_folder_name} in ArcGIS Online\")\n",
    "#             sharing, default is owner\n",
    "#             csv_lyr.shared_with\n",
    "            if sharing == 'None':\n",
    "                csv_lyr.share(everyone=False, org=False, groups=None, allow_members_to_edit=False)\n",
    "            if sharing == 'groups':\n",
    "            # the group id is needed to share with agroup\n",
    "                csv_lyr.share(everyone=False, org=False, groups=[group_id], allow_members_to_edit=False)\n",
    "            if sharing == 'everyone':\n",
    "                csv_lyr.share(everyone=True, org=False, groups=None, allow_members_to_edit=False)\n",
    "            sharing_prop = csv_lyr.shared_with\n",
    "            if sharing_prop['everyone']==True:\n",
    "                print(f\"shared with everyone\")   \n",
    "            else:\n",
    "                print(f\"not a public layer, for this layer to be used it has to be public or the urls have to be whitelisted\")            \n",
    "            #not allowing deleting\n",
    "            csv_lyr.protect()\n",
    "            print(f\"{csvName}'s protection against deletion : {csv_lyr.protected}\") \n",
    "            # it is possible to check the status with csv_item.content_status\n",
    "            return csv_lyr.id\n",
    "        else:\n",
    "            print(\"The service name is not available, try overwritting, appending the data or a different service name\")\n",
    "    except:\n",
    "        print(\"The csv hasn't been published\")"
   ]
  },
  {
   "cell_type": "code",
   "execution_count": 40,
   "metadata": {},
   "outputs": [
    {
     "name": "stdout",
     "output_type": "stream",
     "text": [
      "Service name wdpa_simplification_2 is available\n",
      "no table\n",
      "The service wdpa_simplification_2 has been published. The service has 222523 entries\n",
      "Moving service wdpa_simplification_2 to #6 precalculated data in ArcGIS Online...\n",
      "Service wdpa_simplification_2 has been moved to #6 precalculated data in ArcGIS Online\n",
      "not a public layer, for this layer to be used it has to be public or the urls have to be whitelisted\n",
      "wdpa_simplification_2's protection against deletion : True\n"
     ]
    },
    {
     "data": {
      "text/plain": [
       "'176b65c97a8e42ef8738fef05def4ad5'"
      ]
     },
     "execution_count": 40,
     "metadata": {},
     "output_type": "execute_result"
    }
   ],
   "source": [
    "# Run function with the file we want to add\n",
    "csv_file = '/Users/sofia/Documents/HE_Data/WDPA_simplification.zip'\n",
    "csvName = 'wdpa_simplification'\n",
    "gis = GIS(\"https://eowilson.maps.arcgis.com\", aol_username, aol_password)\n",
    "aol_folder_name = '#6 precalculated data'\n",
    "group_id='46783c33c294485abe83f5e899c2f21f'\n",
    "publishCSVasFS(csv_file,csvName,gis,aol_folder_name,sharing='groups', table='no')"
   ]
  }
 ],
 "metadata": {
  "kernelspec": {
   "display_name": "Python 3 (ipykernel)",
   "language": "python",
   "name": "python3"
  },
  "language_info": {
   "codemirror_mode": {
    "name": "ipython",
    "version": 3
   },
   "file_extension": ".py",
   "mimetype": "text/x-python",
   "name": "python",
   "nbconvert_exporter": "python",
   "pygments_lexer": "ipython3",
   "version": "3.8.12"
  }
 },
 "nbformat": 4,
 "nbformat_minor": 4
}
