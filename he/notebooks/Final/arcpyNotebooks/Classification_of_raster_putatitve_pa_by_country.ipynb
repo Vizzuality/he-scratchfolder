{
 "cells": [
  {
   "cell_type": "markdown",
   "metadata": {},
   "source": [
    "# Transfering priority values to the putative protected area network\n",
    "\n",
    "The original data is a shapefile with the priority of each cell and information of the country. The R script rescales the values within a country from 0 to 255. Then in arcgis pro the shapefile is converted to a raster using the rescaled value. The cell size and extent of the raster is determined by a raster that shows the global putative protected area. Finally, using a constant version of the global putative protected area the pixels that are not part of the global putative protected area are removed. \n",
    "#### Note\n",
    "The R bit can probably be done in arcgis pro using SQL. "
   ]
  },
  {
   "cell_type": "markdown",
   "metadata": {},
   "source": [
    "## Processing the data by country in R\n",
    "\n",
    "\n",
    "```R\n",
    "library(foreign)\n",
    "library(plyr)\n",
    "library(dplyr)\n",
    "d = read.dbf(\"Priority_ranks_by_country_20200723/Priority_ranks_by_country_20200723.dbf\")\n",
    "\n",
    "d_range = d %>% \n",
    "  group_by(GID_0) %>% \n",
    "  summarise(min_pr = min(GID_PR_all), max_pr = max(GID_PR_all), count = n()) %>% \n",
    "  right_join(d) %>% \n",
    "  mutate(plasma_val = ifelse(count>2,(((GID_PR_all - min_pr) / (max_pr - min_pr)) * 255), 255))   \n",
    "  write.csv(d_range, \"Priority_ranks_by_country_20200723_rescale.csv\")\n",
    " ```"
   ]
  },
  {
   "cell_type": "markdown",
   "metadata": {},
   "source": [
    "## From shapefile to raster in ArcGIS pro"
   ]
  },
  {
   "cell_type": "code",
   "execution_count": null,
   "metadata": {},
   "outputs": [],
   "source": [
    "# this took a really long time (45 mins), probably because of not indexing the csv\n",
    "#arcpy.management.JoinField(\"Priority_ranks_by_country_20200723\",\"ID\", \n",
    "                           \"Priority_ranks_by_country_20200723_rescale.csv\", \"ID\", \n",
    "                           \"plasma_val\")"
   ]
  },
  {
   "cell_type": "code",
   "execution_count": 25,
   "metadata": {},
   "outputs": [],
   "source": [
    "outRaster = arcpy.conversion.PolygonToRaster(\"Priority_ranks_by_country_20200723\", \n",
    "                                             \"plasma_val_1\", \n",
    "                                             r\"C:\\Users\\Viz1\\Documents\\ArcGIS\\Projects\\PrioritisationMOL\\PrioritisationMOL.gdb\\Priority_ranks_by_country_20200723_rescale_PolygonToRaster\", \"CELL_CENTER\", \"NONE\", \n",
    "                                             r\"C:\\Users\\Viz1\\Documents\\ArcGIS\\Projects\\PrioritisationMOL\\LP_min_HM_720_WDPAJan2020_20200212.tif\")"
   ]
  },
  {
   "cell_type": "code",
   "execution_count": 26,
   "metadata": {},
   "outputs": [],
   "source": [
    "pa_constant_Raster = arcpy.Raster( r\"C:\\Users\\Viz1\\Documents\\ArcGIS\\Projects\\PrioritisationMOL\\PrioritisationMOL.gdb\\putative_pa_constant\")"
   ]
  },
  {
   "cell_type": "code",
   "execution_count": 29,
   "metadata": {},
   "outputs": [],
   "source": [
    "output_raster = outRaster * pa_constant_Raster\n",
    "output_raster.save(f\"C:/Users/Viz1/Documents/ArcGIS/Projects/PrioritisationMOL/PrioritisationMOL.gdb/raster_putative_rescale_countries\")"
   ]
  },
  {
   "cell_type": "code",
   "execution_count": null,
   "metadata": {},
   "outputs": [],
   "source": []
  }
 ],
 "metadata": {
  "kernelspec": {
   "display_name": "ArcGISPro",
   "language": "Python",
   "name": "python3"
  },
  "language_info": {
   "file_extension": ".py",
   "name": "python",
   "version": "3"
  }
 },
 "nbformat": 4,
 "nbformat_minor": 2
}
