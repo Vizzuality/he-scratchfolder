{
 "cells": [
  {
   "cell_type": "code",
   "execution_count": 9,
   "metadata": {},
   "outputs": [],
   "source": [
    "import arcpy\n",
    "from arcpy.sa import *"
   ]
  },
  {
   "cell_type": "code",
   "execution_count": 2,
   "metadata": {},
   "outputs": [],
   "source": [
    "arcpy.env.workspace = \"C://Users//Vizuser//Documents//ArcGIS//Projects//National_report_cards\""
   ]
  },
  {
   "cell_type": "code",
   "execution_count": 3,
   "metadata": {},
   "outputs": [],
   "source": [
    "original_raster = arcpy.ListRasters(\"SPI_SPI_by_country_*\")"
   ]
  },
  {
   "cell_type": "code",
   "execution_count": 4,
   "metadata": {},
   "outputs": [
    {
     "name": "stdout",
     "output_type": "stream",
     "text": [
      "['SPI_SPI_by_country_20200817_csv_SPI_1982.tif', 'SPI_SPI_by_country_20200817_csv_SPI_1983.tif', 'SPI_SPI_by_country_20200817_csv_SPI_1984.tif', 'SPI_SPI_by_country_20200817_csv_SPI_1985.tif', 'SPI_SPI_by_country_20200817_csv_SPI_1986.tif', 'SPI_SPI_by_country_20200817_csv_SPI_1987.tif', 'SPI_SPI_by_country_20200817_csv_SPI_1988.tif', 'SPI_SPI_by_country_20200817_csv_SPI_1989.tif', 'SPI_SPI_by_country_20200817_csv_SPI_1990.tif', 'SPI_SPI_by_country_20200817_csv_SPI_1991.tif', 'SPI_SPI_by_country_20200817_csv_SPI_1992.tif', 'SPI_SPI_by_country_20200817_csv_SPI_1993.tif', 'SPI_SPI_by_country_20200817_csv_SPI_1994.tif', 'SPI_SPI_by_country_20200817_csv_SPI_1995.tif', 'SPI_SPI_by_country_20200817_csv_SPI_1996.tif', 'SPI_SPI_by_country_20200817_csv_SPI_1997.tif', 'SPI_SPI_by_country_20200817_csv_SPI_1998.tif', 'SPI_SPI_by_country_20200817_csv_SPI_1999.tif', 'SPI_SPI_by_country_20200817_csv_SPI_2000.tif', 'SPI_SPI_by_country_20200817_csv_SPI_2001.tif', 'SPI_SPI_by_country_20200817_csv_SPI_2002.tif', 'SPI_SPI_by_country_20200817_csv_SPI_2003.tif', 'SPI_SPI_by_country_20200817_csv_SPI_2004.tif', 'SPI_SPI_by_country_20200817_csv_SPI_2005.tif', 'SPI_SPI_by_country_20200817_csv_SPI_2006.tif', 'SPI_SPI_by_country_20200817_csv_SPI_2007.tif', 'SPI_SPI_by_country_20200817_csv_SPI_2008.tif', 'SPI_SPI_by_country_20200817_csv_SPI_2009.tif', 'SPI_SPI_by_country_20200817_csv_SPI_2010.tif', 'SPI_SPI_by_country_20200817_csv_SPI_2011.tif', 'SPI_SPI_by_country_20200817_csv_SPI_2012.tif', 'SPI_SPI_by_country_20200817_csv_SPI_2013.tif', 'SPI_SPI_by_country_20200817_csv_SPI_2014.tif', 'SPI_SPI_by_country_20200817_csv_SPI_2015.tif', 'SPI_SPI_by_country_20200817_csv_SPI_2016.tif', 'SPI_SPI_by_country_20200817_csv_SPI_2017.tif', 'SPI_SPI_by_country_20200817_csv_SPI_2018.tif', 'SPI_SPI_by_country_20200817_csv_SPI_2019.tif']\n"
     ]
    }
   ],
   "source": [
    "print(original_raster)"
   ]
  },
  {
   "cell_type": "code",
   "execution_count": 5,
   "metadata": {},
   "outputs": [],
   "source": [
    "numbers = list(range(3,41))"
   ]
  },
  {
   "cell_type": "markdown",
   "metadata": {},
   "source": [
    "The compression doesn't work for decimal values, it does work for integers."
   ]
  },
  {
   "cell_type": "code",
   "execution_count": 12,
   "metadata": {},
   "outputs": [
    {
     "name": "stdout",
     "output_type": "stream",
     "text": [
      "SPI_SPI_by_country_20200817_csv_SPI_1982.tif 3\n",
      "SPI_SPI_by_country_20200817_csv_SPI_1983.tif 4\n",
      "SPI_SPI_by_country_20200817_csv_SPI_1984.tif 5\n",
      "SPI_SPI_by_country_20200817_csv_SPI_1985.tif 6\n",
      "SPI_SPI_by_country_20200817_csv_SPI_1986.tif 7\n",
      "SPI_SPI_by_country_20200817_csv_SPI_1987.tif 8\n",
      "SPI_SPI_by_country_20200817_csv_SPI_1988.tif 9\n",
      "SPI_SPI_by_country_20200817_csv_SPI_1989.tif 10\n",
      "SPI_SPI_by_country_20200817_csv_SPI_1990.tif 11\n",
      "SPI_SPI_by_country_20200817_csv_SPI_1991.tif 12\n",
      "SPI_SPI_by_country_20200817_csv_SPI_1992.tif 13\n",
      "SPI_SPI_by_country_20200817_csv_SPI_1993.tif 14\n",
      "SPI_SPI_by_country_20200817_csv_SPI_1994.tif 15\n",
      "SPI_SPI_by_country_20200817_csv_SPI_1995.tif 16\n",
      "SPI_SPI_by_country_20200817_csv_SPI_1996.tif 17\n",
      "SPI_SPI_by_country_20200817_csv_SPI_1997.tif 18\n",
      "SPI_SPI_by_country_20200817_csv_SPI_1998.tif 19\n",
      "SPI_SPI_by_country_20200817_csv_SPI_1999.tif 20\n",
      "SPI_SPI_by_country_20200817_csv_SPI_2000.tif 21\n",
      "SPI_SPI_by_country_20200817_csv_SPI_2001.tif 22\n",
      "SPI_SPI_by_country_20200817_csv_SPI_2002.tif 23\n",
      "SPI_SPI_by_country_20200817_csv_SPI_2003.tif 24\n",
      "SPI_SPI_by_country_20200817_csv_SPI_2004.tif 25\n",
      "SPI_SPI_by_country_20200817_csv_SPI_2005.tif 26\n",
      "SPI_SPI_by_country_20200817_csv_SPI_2006.tif 27\n",
      "SPI_SPI_by_country_20200817_csv_SPI_2007.tif 28\n",
      "SPI_SPI_by_country_20200817_csv_SPI_2008.tif 29\n",
      "SPI_SPI_by_country_20200817_csv_SPI_2009.tif 30\n",
      "SPI_SPI_by_country_20200817_csv_SPI_2010.tif 31\n",
      "SPI_SPI_by_country_20200817_csv_SPI_2011.tif 32\n",
      "SPI_SPI_by_country_20200817_csv_SPI_2012.tif 33\n",
      "SPI_SPI_by_country_20200817_csv_SPI_2013.tif 34\n",
      "SPI_SPI_by_country_20200817_csv_SPI_2014.tif 35\n",
      "SPI_SPI_by_country_20200817_csv_SPI_2015.tif 36\n",
      "SPI_SPI_by_country_20200817_csv_SPI_2016.tif 37\n",
      "SPI_SPI_by_country_20200817_csv_SPI_2017.tif 38\n",
      "SPI_SPI_by_country_20200817_csv_SPI_2018.tif 39\n"
     ]
    }
   ],
   "source": [
    "for ras, nb in zip(original_raster, numbers):\n",
    "    spi_raster = Raster(ras)\n",
    "    spi_rescale = Int(((spi_raster - 0)/spi_raster.maximum)*65535)\n",
    "    ras_out = f\"c://Users//Vizuser//documents//ArcGIS//Projects//national_report_cards//spi_{nb}_rescale.tif\"\n",
    "    spi_rescale.save(ras_out)\n",
    "    print(ras,nb)"
   ]
  },
  {
   "cell_type": "code",
   "execution_count": null,
   "metadata": {},
   "outputs": [],
   "source": []
  }
 ],
 "metadata": {
  "kernelspec": {
   "display_name": "Python 3",
   "language": "python",
   "name": "python3"
  },
  "language_info": {
   "codemirror_mode": {
    "name": "ipython",
    "version": 3
   },
   "file_extension": ".py",
   "mimetype": "text/x-python",
   "name": "python",
   "nbconvert_exporter": "python",
   "pygments_lexer": "ipython3",
   "version": "3.6.9"
  }
 },
 "nbformat": 4,
 "nbformat_minor": 2
}
