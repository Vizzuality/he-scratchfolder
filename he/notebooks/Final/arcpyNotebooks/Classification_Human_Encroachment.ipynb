{
 "cells": [
  {
   "cell_type": "markdown",
   "metadata": {},
   "source": [
    "# Classification of gHM in four types of terrestrial anthromes\n",
    "This notebook has the methodology used to create the raster layers from the [GHM data](https://onlinelibrary.wiley.com/doi/abs/10.1111/gcb.14549). This is a single raster with a continuous variable from 0 to 1 (Low to high level of encroachment). The resolution of this dataset is 1-km. [Supplementary figure 11](https://onlinelibrary.wiley.com/action/downloadSupplement?doi=10.1111%2Fgcb.14549&file=gcb14549-sup-0001-AppendixS1.pdf) from the gHM paper shows a summary (the median) of the GHm values accross 19 Anthromes). \n",
    "Anthrome data can be downloaded from [here](http://ecotope.org/anthromes/v2/data/) , [appendix 3](https://onlinelibrary.wiley.com/action/downloadSupplement?doi=10.1111%2Fj.1466-8238.2010.00540.x&file=GEB_540_sm_AppS3.pdf) of the paper on Anthromes explains how the land has been classified.\n",
    "Using this Anthrome Classification Algorithm, we will reclassify the anthromes using the following logic: \n",
    "```\n",
    "Urban: 11: Urban/12: Mixed settlements\n",
    "Rainfed agriculture: 21: Rice villages/23: Rainfed villages/32: Residential rainfed croplands/33: Populated croplands/34: Remote croplands\n",
    "Irrigated agriculture: 22: Irrigated villages/31: Residential irrigated croplands\n",
    "Rangeland: 24: Pastoral villages/41: Residential rangelands/42: Populated rangelands/43: Remote rangelands\n",
    "Other: 51: Residential woodlands/52: Populated woodlands/53: Remote woodlands/54: Inhabited treeless and barren lands/61: Wild woodland\n",
    "```\n",
    "\n",
    "This would mean that we would have 4 gHM layersthat do not overlap:\n",
    "- Urban\n",
    "- Rainfed agriculture\n",
    "- Irrigated agriculture\n",
    "- Rangeland"
   ]
  },
  {
   "cell_type": "markdown",
   "metadata": {},
   "source": [
    "Human pressure data was pre-processed by MOL \n",
    "\n",
    "**README file:**\n",
    "```\n",
    "Global human modification layer\n",
    "2019.11.27\n",
    "THESE FILES ARE FOR INTERNAL DESIGN PURPOSES ONLY, AND SHOULD NOT BE\n",
    "ADVERTISED, USED, OR SHARED OUTSIDE OF THE HALF-EARTH TEAM UNTIL FURTHER\n",
    "NOTICE.\n",
    "gHM_extended_maskGADM36_cea_20191127.grd: 1km raster layer of global human\n",
    "modification (gHM), derived from Kennedy et al. (2019). The original\n",
    "layer was transformed to an equal-area projection using bilinear\n",
    "interpolation. It was then extended to all terrestrial surface area,\n",
    "filling in missing areas with a value of 0 (e.g., Antarctica). The\n",
    "was then masked to the GADM3.6 land layer*.\n",
    "Kennedy, C. M., Oakleaf, J. R., Theobald, D. M., Baruch‐Mordo, S., &amp;\n",
    "Kiesecker, J. (2019). Managing the middle: A shift in conservation priorities\n",
    "based on the global human modification gradient. Global Change Biology,\n",
    "25(3), 811-826. Data available at:\n",
    "https://figshare.com/articles/Global_Human_Modification/7283087/1\n",
    "GADM version 3.6 available at:\n",
    "https://gadm.org/download_world.html\n",
    "```"
   ]
  },
  {
   "cell_type": "code",
   "execution_count": 1,
   "metadata": {},
   "outputs": [],
   "source": [
    "import arcpy\n",
    "from arcpy.sa import *\n",
    "import datetime"
   ]
  },
  {
   "cell_type": "code",
   "execution_count": 2,
   "metadata": {},
   "outputs": [],
   "source": [
    "arcpy.env.workspace = \"C:\\\\Users\\\\Vizuser\\\\Documents\\\\ArcGIS\\\\Projects\\Human Pressure\""
   ]
  },
  {
   "cell_type": "code",
   "execution_count": 3,
   "metadata": {},
   "outputs": [],
   "source": [
    "ghm = \"gHM_extended_maskGADM36_cea_20191127.tif\"\n",
    "anthromes = \"anthromes\\\\anthro2_a2000.tif\""
   ]
  },
  {
   "cell_type": "code",
   "execution_count": 14,
   "metadata": {},
   "outputs": [],
   "source": [
    "ghm_cellx = arcpy.GetRasterProperties_management(ghm, \"CELLSIZEX\")\n",
    "ghm_celly = arcpy.GetRasterProperties_management(ghm, \"CELLSIZEY\")\n",
    "ghm_cell_size = f\"{ghm_cellx.getOutput(0)} {ghm_celly.getOutput(0)}\""
   ]
  },
  {
   "cell_type": "code",
   "execution_count": 4,
   "metadata": {},
   "outputs": [],
   "source": [
    "ghm_spatial_ref = arcpy.Describe(ghm).spatialReference\n",
    "anth_spatial_ref = arcpy.Describe(anthromes).spatialReference"
   ]
  },
  {
   "cell_type": "code",
   "execution_count": 24,
   "metadata": {},
   "outputs": [],
   "source": [
    "gdb = \"Human_pressure_outputs.gdb\"\n",
    "anth_cea = f\"{gdb}\\\\anthro2_a2000_cea\"\n",
    "anth_resample = f\"{anth_cea}_Resample\"\n",
    "anth_reclass = f\"{anth_resample}_Reclass\""
   ]
  },
  {
   "cell_type": "markdown",
   "metadata": {},
   "source": [
    "The anthrome data has to be resampled to match the projection of gHM layer and the cell size. "
   ]
  },
  {
   "cell_type": "code",
   "execution_count": 10,
   "metadata": {},
   "outputs": [
    {
     "name": "stdout",
     "output_type": "stream",
     "text": [
      "Finished in 0:00:09.157904\n"
     ]
    }
   ],
   "source": [
    "start = datetime.datetime.now()\n",
    "arcpy.management.ProjectRaster(in_raster = anthromes, \n",
    "                               out_raster = anth_cea, \n",
    "                               out_coor_system = ghm_spatial_ref, \n",
    "                               resampling_type = \"NEAREST\", \n",
    "                               cell_size = None, \n",
    "                               geographic_transform = None, \n",
    "                               Registration_Point = None, \n",
    "                               in_coor_system = anth_spatial_ref, \n",
    "                               vertical = \"NO_VERTICAL\")\n",
    "end = datetime.datetime.now() - start\n",
    "print(f\"Finished in {end}\")"
   ]
  },
  {
   "cell_type": "code",
   "execution_count": 19,
   "metadata": {},
   "outputs": [
    {
     "name": "stdout",
     "output_type": "stream",
     "text": [
      "Finished in 0:01:30.200974\n"
     ]
    }
   ],
   "source": [
    "start = datetime.datetime.now()\n",
    "arcpy.management.Resample(in_raster= anth_cea, \n",
    "                          out_raster= anth_resample, \n",
    "                          cell_size= ghm_cell_size, \n",
    "                          resampling_type= \"NEAREST\")\n",
    "end = datetime.datetime.now() - start\n",
    "print(f\"Finished in {end}\")"
   ]
  },
  {
   "cell_type": "code",
   "execution_count": 22,
   "metadata": {},
   "outputs": [
    {
     "name": "stdout",
     "output_type": "stream",
     "text": [
      "Finished in 0:00:22.165552\n"
     ]
    }
   ],
   "source": [
    "start = datetime.datetime.now()\n",
    "reclass_raster = arcpy.sa.Reclassify(anth_resample, \n",
    "                                 \"LABEL\", \n",
    "                                 \"'11: Urban' 1;'12: Mixed settlements' 1;'21: Rice villages' 2;'22: Irrigated villages' 3;'23: Rainfed villages' 2;'24: Pastoral villages' 4;'31: Residential irrigated croplands' 3;'32: Residential rainfed croplands' 2;'33: Populated croplands' 2;'34: Remote croplands' 2;'41: Residential rangelands' 4;'42: Populated rangelands' 4;'43: Remote rangelands' 4;'51: Residential woodlands' 0;'52: Populated woodlands' 0;'53: Remote woodlands' 0;'54: Inhabited treeless and barren lands' 0;'61: Wild woodlands' 0;'62: Wild treeless and barren lands' 0\", \"DATA\");\n",
    "reclass_raster.save(f\"..\\\\{anth_reclass}\") #this does not use the env parameter, it uses the location of the notebook as root\n",
    "end = datetime.datetime.now() - start\n",
    "print(f\"Finished in {end}\")"
   ]
  },
  {
   "cell_type": "code",
   "execution_count": 23,
   "metadata": {},
   "outputs": [],
   "source": [
    "reclass_dict = {\n",
    "    \"Urban\": \"1\",\n",
    "    \"Rainfed\": \"2\",\n",
    "    \"Irrigated\": \"3\",\n",
    "    \"Rangeland\": \"4\"\n",
    "}"
   ]
  },
  {
   "cell_type": "code",
   "execution_count": 26,
   "metadata": {},
   "outputs": [
    {
     "name": "stdout",
     "output_type": "stream",
     "text": [
      "Urban finished in 0:01:51.781387\n",
      "Rainfed finished in 0:03:33.917372\n",
      "Irrigated finished in 0:01:49.571088\n",
      "Rangeland finished in 0:01:56.986422\n"
     ]
    }
   ],
   "source": [
    "for i, j in reclass_dict.items():\n",
    "    start = datetime.datetime.now()\n",
    "    out_name = f\"..\\\\{gdb}\\\\gHM_{i}\"\n",
    "    outSetNull = SetNull(reclass_raster, ghm, f\"VALUE <> {j}\")\n",
    "    outSetNull.save(out_name)  #this does not use the env parameter, it uses the location of the notebook as root\n",
    "    end = datetime.datetime.now() - start\n",
    "    print(f\"{i} finished in {end}\")"
   ]
  }
 ],
 "metadata": {
  "kernelspec": {
   "display_name": "Python 3",
   "language": "python",
   "name": "python3"
  },
  "language_info": {
   "codemirror_mode": {
    "name": "ipython",
    "version": 3
   },
   "file_extension": ".py",
   "mimetype": "text/x-python",
   "name": "python",
   "nbconvert_exporter": "python",
   "pygments_lexer": "ipython3",
   "version": "3.6.9"
  }
 },
 "nbformat": 4,
 "nbformat_minor": 2
}
