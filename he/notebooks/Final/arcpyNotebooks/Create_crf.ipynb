{
 "cells": [
  {
   "cell_type": "code",
   "execution_count": null,
   "metadata": {},
   "outputs": [],
   "source": [
    "with arcpy.EnvManager(outputCoordinateSystem='PROJCS[\"WGS_1984_Web_Mercator_Auxiliary_Sphere\",GEOGCS[\"GCS_WGS_1984\",DATUM[\"D_WGS_1984\",SPHEROID[\"WGS_1984\",6378137.0,298.257223563]],PRIMEM[\"Greenwich\",0.0],UNIT[\"Degree\",0.0174532925199433]],PROJECTION[\"Mercator_Auxiliary_Sphere\"],PARAMETER[\"False_Easting\",0.0],PARAMETER[\"False_Northing\",0.0],PARAMETER[\"Central_Meridian\",0.0],PARAMETER[\"Standard_Parallel_1\",0.0],PARAMETER[\"Auxiliary_Sphere_Type\",0.0],UNIT[\"Meter\",1.0]]'):\n",
    "    arcpy.management.CreateMosaicDataset(r\"C:\\Users\\Viz1\\Documents\\ArcGIS\\Projects\\build_crf\\build_crf.gdb\", \"crf_test\", 'PROJCS[\"WGS_1984_Web_Mercator_Auxiliary_Sphere\",GEOGCS[\"GCS_WGS_1984\",DATUM[\"D_WGS_1984\",SPHEROID[\"WGS_1984\",6378137.0,298.257223563]],PRIMEM[\"Greenwich\",0.0],UNIT[\"Degree\",0.0174532925199433]],PROJECTION[\"Mercator_Auxiliary_Sphere\"],PARAMETER[\"False_Easting\",0.0],PARAMETER[\"False_Northing\",0.0],PARAMETER[\"Central_Meridian\",0.0],PARAMETER[\"Standard_Parallel_1\",0.0],PARAMETER[\"Auxiliary_Sphere_Type\",0.0],UNIT[\"Meter\",1.0]]', None, '', \"NONE\", None)"
   ]
  },
  {
   "cell_type": "code",
   "execution_count": null,
   "metadata": {},
   "outputs": [],
   "source": [
    "arcpy.management.AddRastersToMosaicDataset(\"crf_test\", \n",
    "                                           \"Raster Dataset\", \n",
    "                                           r\"C:\\Users\\Viz1\\Desktop\\Abeomelomys_sevia.tif;C:\\Users\\Viz1\\Desktop\\Abditomys_latidens.tif\", \n",
    "                                           \"UPDATE_CELL_SIZES\", \n",
    "                                           \"UPDATE_BOUNDARY\", \n",
    "                                           \"NO_OVERVIEWS\", \n",
    "                                           None, 0, 1500, None, '', \n",
    "                                           \"SUBFOLDERS\", \"ALLOW_DUPLICATES\", \"NO_PYRAMIDS\", \"CALCULATE_STATISTICS\", \n",
    "                                           \"NO_THUMBNAILS\", '', \"NO_FORCE_SPATIAL_REFERENCE\", \"ESTIMATE_STATISTICS\", None, \n",
    "                                           \"NO_PIXEL_CACHE\", \n",
    "                                           r\"C:\\Users\\Viz1\\AppData\\Local\\ESRI\\rasterproxies\\crf_test\")"
   ]
  },
  {
   "cell_type": "code",
   "execution_count": null,
   "metadata": {},
   "outputs": [],
   "source": [
    "arcpy.management.AddField(r\"crf_test\\Footprint\", \n",
    "                          \"species_name\", \n",
    "                          \"LONG\", None, None, None, '', \n",
    "                          \"NULLABLE\", \"NON_REQUIRED\", '')"
   ]
  },
  {
   "cell_type": "code",
   "execution_count": null,
   "metadata": {},
   "outputs": [],
   "source": [
    "arcpy.management.CalculateField(r\"crf_test\\Footprint\", \n",
    "                                \"species_name\", \n",
    "                                \"!OBJECTID!\", \n",
    "                                \"PYTHON3\", '', \"TEXT\", \"NO_ENFORCE_DOMAINS\")"
   ]
  },
  {
   "cell_type": "code",
   "execution_count": null,
   "metadata": {},
   "outputs": [],
   "source": [
    "arcpy.md.BuildMultidimensionalInfo(\"crf_test\", \n",
    "                                   \"Presence\", \n",
    "                                   \"species_name # #\", None, \n",
    "                                   \"NO_DELETE_MULTIDIMENSIONAL_INFO\")"
   ]
  },
  {
   "cell_type": "code",
   "execution_count": null,
   "metadata": {},
   "outputs": [],
   "source": [
    "arcpy.management.CopyRaster(\"crf_test\", \n",
    "                            r\"C:\\Users\\Viz1\\Documents\\ArcGIS\\Projects\\build_crf\\crf_test_CopyRaster.crf\", '', \n",
    "                            None, \"255\", \"NONE\", \"NONE\", '', \"NONE\", \"NONE\", \"CRF\", \"NONE\", \"ALL_SLICES\", \n",
    "                            \"TRANSPOSE\")"
   ]
  }
 ],
 "metadata": {
  "kernelspec": {
   "display_name": "ArcGISPro",
   "language": "Python",
   "name": "python3"
  },
  "language_info": {
   "file_extension": ".py",
   "name": "python",
   "version": "3"
  }
 },
 "nbformat": 4,
 "nbformat_minor": 2
}
