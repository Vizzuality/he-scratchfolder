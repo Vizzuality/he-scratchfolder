{
 "cells": [
  {
   "cell_type": "markdown",
   "metadata": {},
   "source": [
    "# Calculating proportion of human encroachment in a grid\n",
    "This notebook uses the subsetted gHM by the 4 anthromes to calculate the percentage of cell from the master grid that is encroached for each type of activity: Urban, Rainfed Agriculture, Rainfed Irrigated and Rangeland. Data has been classified in a previous notebook. \n",
    "\n",
    "NOTE: This is only for the terrestrial environment"
   ]
  },
  {
   "cell_type": "code",
   "execution_count": 1,
   "metadata": {},
   "outputs": [],
   "source": [
    "import arcpy\n",
    "from arcpy.sa import *\n",
    "import arcgis\n",
    "from arcgis.gis import GIS\n",
    "import datetime"
   ]
  },
  {
   "cell_type": "code",
   "execution_count": 2,
   "metadata": {},
   "outputs": [],
   "source": [
    "tmp = []\n",
    "with open(\".env\") as f:\n",
    "    for line in f:\n",
    "        tmp.append(line)\n",
    "aol_password = tmp[0].split(\"=\")[1].split(\"\\n\")[0]\n",
    "aol_username = tmp[1].split(\"=\")[1].split(\"\\n\")[0]"
   ]
  },
  {
   "cell_type": "code",
   "execution_count": 7,
   "metadata": {},
   "outputs": [],
   "source": [
    "gis = GIS(\"https://eowilson.maps.arcgis.com\", aol_username, aol_password)"
   ]
  },
  {
   "cell_type": "code",
   "execution_count": 8,
   "metadata": {},
   "outputs": [],
   "source": [
    "grid_id = \"a52aa51088f84eb8b95f90be8fa77175\"\n",
    "grid_item=gis.content.get(grid_id)"
   ]
  },
  {
   "cell_type": "code",
   "execution_count": 10,
   "metadata": {},
   "outputs": [],
   "source": [
    "arcpy.env.workspace = \"C:\\\\Users\\\\Vizuser\\\\Documents\\\\ArcGIS\\\\Projects\\\\Human Pressure\\\\Human_pressure_outputs.gdb\"\n",
    "ghm = \"..\\\\gHM_extended_maskGADM36_cea_20191127.tif\"\n",
    "grid = grid_item.layers[0].url\n",
    "ZSaTGrid = \"ZSaTGrid\""
   ]
  },
  {
   "cell_type": "markdown",
   "metadata": {},
   "source": [
    "Zonal Statistics calculates the `COUNT` by default. "
   ]
  },
  {
   "cell_type": "code",
   "execution_count": 11,
   "metadata": {},
   "outputs": [
    {
     "name": "stdout",
     "output_type": "stream",
     "text": [
      "Finished in 0:02:13.088892\n"
     ]
    }
   ],
   "source": [
    "start = datetime.datetime.now()\n",
    "outZSaT = ZonalStatisticsAsTable(grid,\n",
    "                                 \"CELL_ID\", \n",
    "                                 ghm,\n",
    "                                 ZSaTGrid, \"DATA\", \"ALL\")\n",
    "end = datetime.datetime.now() - start\n",
    "print(f\"Finished in {end}\")"
   ]
  },
  {
   "cell_type": "code",
   "execution_count": 13,
   "metadata": {},
   "outputs": [
    {
     "name": "stdout",
     "output_type": "stream",
     "text": [
      "gHM_Urban\n",
      "gHM_Rangeland\n",
      "gHM_Rainfed\n",
      "gHM_Irrigated\n"
     ]
    }
   ],
   "source": [
    "ghm_class_rasters = arcpy.ListRasters(\"gHM*\")\n",
    "for raster in ghm_class_rasters:\n",
    "    print(raster)"
   ]
  },
  {
   "cell_type": "code",
   "execution_count": 14,
   "metadata": {},
   "outputs": [
    {
     "name": "stdout",
     "output_type": "stream",
     "text": [
      "Urban finished in 0:01:46.813637\n",
      "Rangeland finished in 0:01:26.722224\n",
      "Rainfed finished in 0:01:23.530187\n",
      "Irrigated finished in 0:01:23.113007\n"
     ]
    }
   ],
   "source": [
    "for raster in ghm_class_rasters:\n",
    "    anthrome_class=raster.split(f\"_\")[1]\n",
    "    outTableName = f\"ZSat_{anthrome_class}\"\n",
    "    start = datetime.datetime.now()\n",
    "    outZSat = ZonalStatisticsAsTable(grid,\n",
    "                                     \"CELL_ID\", \n",
    "                                     raster,\n",
    "                                     outTableName, \"DATA\", \"ALL\")\n",
    "    end = datetime.datetime.now() - start\n",
    "    print(f\"{anthrome_class} finished in {end}\")"
   ]
  },
  {
   "cell_type": "markdown",
   "metadata": {},
   "source": [
    "- Merge the tables 5 tables should do mapping fields, keeping only the appropriate fields and renaming accordingly. \n",
    "- Then the `None` values should be replace by `0`.\n",
    "- Finally calculate the proportions"
   ]
  },
  {
   "cell_type": "code",
   "execution_count": 15,
   "metadata": {},
   "outputs": [
    {
     "name": "stdout",
     "output_type": "stream",
     "text": [
      "ZSat_Urban finished in 0:00:06.085116\n",
      "ZSat_Rangeland finished in 0:00:06.743332\n",
      "ZSat_Rainfed finished in 0:00:06.505298\n",
      "ZSat_Irrigated finished in 0:00:05.566216\n"
     ]
    }
   ],
   "source": [
    "zsa_tables = arcpy.ListTables(\"ZSat_*\")\n",
    "ZSaTGrid = \"ZSaTGrid\"\n",
    "for tbl in zsa_tables:\n",
    "    pos = len(arcpy.ListFields(ZSaTGrid))\n",
    "    start = datetime.datetime.now()\n",
    "    arcpy.management.JoinField(ZSaTGrid, \"CELL_ID\", tbl, \"CELL_ID\", \"COUNT\")\n",
    "    anthrome_class=tbl.split(\"_\")[1]\n",
    "    newField_name = f\"COUNT_{anthrome_class}\" \n",
    "    oldField_name = arcpy.ListFields(ZSaTGrid)[pos].name \n",
    "    arcpy.AlterField_management(ZSaTGrid, oldField_name, newField_name, newField_name)\n",
    "    end = datetime.datetime.now() - start\n",
    "    print(f\"{tbl} finished in {end}\")"
   ]
  },
  {
   "cell_type": "markdown",
   "metadata": {},
   "source": [
    "We have to replace the `None` with `0`s."
   ]
  },
  {
   "cell_type": "code",
   "execution_count": 16,
   "metadata": {},
   "outputs": [],
   "source": [
    "fieldObs = arcpy.ListFields(ZSaTGrid)  \n",
    "fieldNames = []\n",
    "for field in fieldObs:\n",
    "    fieldNames.append(field.name)\n",
    "del fieldObs\n",
    "fieldCount = len(fieldNames)"
   ]
  },
  {
   "cell_type": "code",
   "execution_count": 18,
   "metadata": {},
   "outputs": [
    {
     "name": "stdout",
     "output_type": "stream",
     "text": [
      "Finished in 0:00:02.226058\n"
     ]
    }
   ],
   "source": [
    "start = datetime.datetime.now()\n",
    "with arcpy.da.UpdateCursor(ZSaTGrid, fieldNames) as curU:  \n",
    "    for row in curU:  \n",
    "        rowU = row  \n",
    "        for field in range(fieldCount):  \n",
    "            if rowU[field] == None:  \n",
    "                rowU[field] = \"0\"  \n",
    "        curU.updateRow(rowU)\n",
    "del curU\n",
    "end = datetime.datetime.now() - start\n",
    "print(f\"Finished in {end}\")"
   ]
  },
  {
   "cell_type": "markdown",
   "metadata": {},
   "source": [
    "We have to create new fields (one for each type of encroachment) and calculate the proportion. "
   ]
  },
  {
   "cell_type": "code",
   "execution_count": 19,
   "metadata": {},
   "outputs": [
    {
     "name": "stdout",
     "output_type": "stream",
     "text": [
      "Urban finished in 0:00:11.375532\n",
      "Rangeland finished in 0:00:11.150509\n",
      "Rainfed finished in 0:00:11.844532\n",
      "Irrigated finished in 0:00:11.358512\n"
     ]
    }
   ],
   "source": [
    "for tbl in zsa_tables:\n",
    "    anthrome_class = tbl.split(\"_\")[1]\n",
    "    prop_name = f\"prop_{anthrome_class}\"\n",
    "    start = datetime.datetime.now()\n",
    "    arcpy.management.AddField(ZSaTGrid, \n",
    "                          prop_name, \n",
    "                          \"DOUBLE\", \n",
    "                          None, None, None, \n",
    "                          prop_name, \"NULLABLE\", \"NON_REQUIRED\", '')\n",
    "    COUNT_name = f\"COUNT_{anthrome_class}\" \n",
    "    py_formula = f\"(!{COUNT_name}! / !COUNT!) * 100\"\n",
    "    arcpy.management.CalculateField(ZSaTGrid, \n",
    "                                prop_name, \n",
    "                                py_formula, \n",
    "                                \"PYTHON3\", '') \n",
    "    end = datetime.datetime.now() - start\n",
    "    print(f\"{anthrome_class} finished in {end}\")"
   ]
  },
  {
   "cell_type": "code",
   "execution_count": 21,
   "metadata": {},
   "outputs": [
    {
     "name": "stdout",
     "output_type": "stream",
     "text": [
      "OBJECTID\n",
      "CELL_ID\n",
      "ZONE_CODE\n",
      "COUNT\n",
      "AREA\n",
      "MIN\n",
      "MAX\n",
      "RANGE\n",
      "MEAN\n",
      "STD\n",
      "SUM\n",
      "COUNT_Urban\n",
      "COUNT_Rangeland\n",
      "COUNT_Rainfed\n",
      "COUNT_Irrigated\n",
      "prop_Urban\n",
      "prop_Rangeland\n",
      "prop_Rainfed\n",
      "prop_Irrigated\n"
     ]
    }
   ],
   "source": [
    "fieldObs = arcpy.ListFields(ZSaTGrid) \n",
    "for field in fieldObs:\n",
    "    print(field.name)"
   ]
  },
  {
   "cell_type": "code",
   "execution_count": 22,
   "metadata": {},
   "outputs": [
    {
     "data": {
      "text/plain": [
       "<Result '..\\\\human_prop.csv'>"
      ]
     },
     "execution_count": 22,
     "metadata": {},
     "output_type": "execute_result"
    }
   ],
   "source": [
    "arcpy.TableToTable_conversion(ZSaTGrid, \"..\", \"human_prop.csv\")"
   ]
  },
  {
   "cell_type": "markdown",
   "metadata": {},
   "source": [
    "The table has been uploaded to arcgis online via the browser. "
   ]
  }
 ],
 "metadata": {
  "kernelspec": {
   "display_name": "Python 3",
   "language": "python",
   "name": "python3"
  },
  "language_info": {
   "codemirror_mode": {
    "name": "ipython",
    "version": 3
   },
   "file_extension": ".py",
   "mimetype": "text/x-python",
   "name": "python",
   "nbconvert_exporter": "python",
   "pygments_lexer": "ipython3",
   "version": "3.6.9"
  }
 },
 "nbformat": 4,
 "nbformat_minor": 2
}
