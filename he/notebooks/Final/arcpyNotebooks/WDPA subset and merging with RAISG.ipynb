{
 "cells": [
  {
   "cell_type": "markdown",
   "metadata": {},
   "source": [
    "# Create the layers for the community and non community protected areas\n",
    "The WDPA layer is available via the ESRI Living Atlas, it is updated every month and it contains all types of protected areas, both community and non-community types. \n",
    "We want to extract the community protected areas using the wildcards: `'%Aborig%','%Indigen%', '%Commun%','%Conservanc%','%Local%', '%Region%','%Trust%','%Conservator%,'%Private%','%Nature Center%'`\n",
    "The RAISG layer has been uploaded to the Arcgis Online account. Although the original data lives also [here](https://geo.socioambiental.org/webadaptor2/rest/services/raisg/raisg_tis/MapServer/2) but this is a map server, not sure what are the permissions to work with it. "
   ]
  },
  {
   "cell_type": "code",
   "execution_count": null,
   "metadata": {},
   "outputs": [],
   "source": [
    "import arcgis\n",
    "from arcgis.gis import GIS\n",
    "import arcpy\n",
    "import datetime\n",
    "import os"
   ]
  },
  {
   "cell_type": "code",
   "execution_count": null,
   "metadata": {},
   "outputs": [],
   "source": [
    "mydate = datetime.datetime.now()\n",
    "date = mydate.strftime(\"%y%b\")\n",
    "date"
   ]
  },
  {
   "cell_type": "code",
   "execution_count": null,
   "metadata": {},
   "outputs": [],
   "source": [
    "arcpy.env.workspace = \"C:\\\\Users\\\\Vizuser\\\\Documents\\\\ArcGIS\\\\Projects\\\\WDPA\""
   ]
  },
  {
   "cell_type": "code",
   "execution_count": null,
   "metadata": {},
   "outputs": [],
   "source": [
    "tmp = []\n",
    "with open(\"../.env\") as f:\n",
    "    for line in f:\n",
    "        tmp.append(line)\n",
    "aol_password = tmp[0].split(\"=\")[1].split(\"\\n\")[0]\n",
    "aol_username = tmp[1].split(\"=\")[1].split(\"\\n\")[0]"
   ]
  },
  {
   "cell_type": "code",
   "execution_count": null,
   "metadata": {},
   "outputs": [],
   "source": [
    "gis = GIS(\"https://eowilson.maps.arcgis.com\", aol_username, aol_password)"
   ]
  },
  {
   "cell_type": "code",
   "execution_count": null,
   "metadata": {},
   "outputs": [],
   "source": [
    "unep_wdpa = \"ae78aeb913a343d69e950b53e29076f7\"\n",
    "unep_wdpa_item=gis.content.get(unep_wdpa)"
   ]
  },
  {
   "cell_type": "markdown",
   "metadata": {},
   "source": [
    "So far the structure of the WDPA item is of two layers, one of points and another one of polygons, the one of interest here is: the `WDPA_poly_Latest` layer."
   ]
  },
  {
   "cell_type": "code",
   "execution_count": null,
   "metadata": {},
   "outputs": [],
   "source": [
    "layerNames = []\n",
    "for lyr in unep_wdpa_item.layers: \n",
    "    layerNames.append(lyr.properties.name)\n",
    "    #print(lyr.properties.name)\n",
    "print(layerNames)"
   ]
  },
  {
   "cell_type": "code",
   "execution_count": null,
   "metadata": {},
   "outputs": [],
   "source": [
    "s = \"WDPA_poly_Latest\"\n",
    "i = 0\n",
    "length = len(layerNames)\n",
    "while i<length:\n",
    "    if s == layerNames[i]:\n",
    "        m = i\n",
    "    i += 1\n",
    "print(layerNames[m])"
   ]
  },
  {
   "cell_type": "code",
   "execution_count": null,
   "metadata": {},
   "outputs": [],
   "source": [
    "unep_wdpa_url = unep_wdpa_item.layers[m].url"
   ]
  },
  {
   "cell_type": "code",
   "execution_count": null,
   "metadata": {},
   "outputs": [],
   "source": [
    "wdpa_comm_name = f\"wdpa_comm_{date}\" \n",
    "wdpa_not_comm_name = f\"wdpa_not_comm_{date}\" "
   ]
  },
  {
   "cell_type": "code",
   "execution_count": null,
   "metadata": {},
   "outputs": [],
   "source": [
    "workingGDB = r\"C:\\\\Users\\\\Vizuser\\\\Documents\\\\ArcGIS\\\\Projects\\\\WDPA\\\\WDPA.gdb\""
   ]
  },
  {
   "cell_type": "code",
   "execution_count": null,
   "metadata": {},
   "outputs": [],
   "source": [
    "start = datetime.datetime.now()\n",
    "arcpy.conversion.FeatureClassToFeatureClass(in_features = unep_wdpa_url, \n",
    "                                            out_path = workingGDB,\n",
    "                                            out_name = wdpa_comm_name,\n",
    "                                            where_clause = \"DESIG_ENG LIKE  '%Aborig%' or DESIG_ENG LIKE '%Indigen%'  or DESIG_ENG LIKE '%Commun%' or DESIG_ENG LIKE '%Conservanc%' or DESIG_ENG LIKE '%Local%' or DESIG_ENG LIKE '%Region%' or DESIG_ENG LIKE '%Trust%' or DESIG_ENG LIKE '%Conservator%' or DESIG_ENG LIKE '%Private%' or DESIG_ENG LIKE '%Nature Center%'\")\n",
    "end = datetime.datetime.now() - start\n",
    "print(f\"Finished in {end}\")"
   ]
  },
  {
   "cell_type": "code",
   "execution_count": null,
   "metadata": {},
   "outputs": [],
   "source": [
    "start = datetime.datetime.now()\n",
    "arcpy.conversion.FeatureClassToFeatureClass(in_features = unep_wdpa_url, \n",
    "                                            out_path = workingGDB,\n",
    "                                            out_name = wdpa_not_comm_name,\n",
    "                                            where_clause = \"DESIG_ENG NOT LIKE  '%Aborig%' and DESIG_ENG NOT LIKE '%Indigen%'  and DESIG_ENG NOT LIKE '%Commun%' and DESIG_ENG NOT LIKE '%Conservanc%' and DESIG_ENG NOT LIKE '%Local%' and DESIG_ENG NOT LIKE '%Region%' and DESIG_ENG NOT LIKE '%Trust%' and DESIG_ENG NOT LIKE '%Conservator%' and DESIG_ENG NOT LIKE '%Private%' and DESIG_ENG NOT LIKE '%Nature Center%'\")\n",
    "end = datetime.datetime.now() - start\n",
    "print(f\"Finished in {end}\")"
   ]
  },
  {
   "cell_type": "code",
   "execution_count": null,
   "metadata": {},
   "outputs": [],
   "source": [
    "raisg = \"f3cd7abb0f014fb09542d8553eba4b25\"\n",
    "raisg_item=gis.content.get(raisg)\n",
    "layerNamesRAISG = []\n",
    "for lyr in raisg_item.layers: \n",
    "    layerNamesRAISG.append(lyr.properties.name)\n",
    "    #print(lyr.properties.name)\n",
    "tis = \"Tis_TerritoriosIndigenas\"\n",
    "i = 0\n",
    "length = len(layerNamesRAISG)\n",
    "while i<length:\n",
    "    if tis == layerNamesRAISG[i]:\n",
    "        mtis = i\n",
    "    i += 1\n",
    "print(layerNamesRAISG[mtis])"
   ]
  },
  {
   "cell_type": "code",
   "execution_count": null,
   "metadata": {},
   "outputs": [],
   "source": [
    "tis_raisg_url = raisg_item.layers[mtis].url"
   ]
  },
  {
   "cell_type": "markdown",
   "metadata": {},
   "source": [
    "# Creating and calculating the `NAME` and `REP_AREA` fields for the RAISG layer has been done in arcgis Online. "
   ]
  },
  {
   "cell_type": "markdown",
   "metadata": {},
   "source": [
    "Currently the app uses the fields from the wdpa layers to feed the tooltips, the fields are `NAME` and `REP_AREA`. The latter is the area in km^2. \n",
    "Meanwhile the TIs layer has information on the name, which has 85 missing data, and the area in ha. The fields are: `nombre` and `area_sig_h` \n",
    "So we have to calculate the RAISG area in km2 and create a new field with the name changing the field's name. "
   ]
  },
  {
   "cell_type": "code",
   "execution_count": null,
   "metadata": {},
   "outputs": [],
   "source": [
    "wdpa_comm_path = os.path.join(workingGDB, wdpa_comm_name)\n",
    "out_merge = os.path.join(workingGDB,f\"wdpa_raisg_merge_{date}\")"
   ]
  },
  {
   "cell_type": "markdown",
   "metadata": {},
   "source": [
    "# To merge the RAISG and the WDPA comm \n",
    "1. Create an empty fc because `Append` modifies the target feature class\n",
    "2. Create FieldMapping object to manage appended output fields. "
   ]
  },
  {
   "cell_type": "code",
   "execution_count": null,
   "metadata": {},
   "outputs": [],
   "source": [
    "out_append = f\"comm_wdpa_raisg_appended_{date}\""
   ]
  },
  {
   "cell_type": "code",
   "execution_count": null,
   "metadata": {},
   "outputs": [],
   "source": [
    "emptyFC = arcpy.management.CreateFeatureclass(workingGDB, \n",
    "                                    out_append, \n",
    "                                    \"POLYGON\", \n",
    "                                    wdpa_comm_path)"
   ]
  },
  {
   "cell_type": "code",
   "execution_count": null,
   "metadata": {},
   "outputs": [],
   "source": [
    "fieldMappings = arcpy.FieldMappings()\n",
    "\n",
    "# Add all fields from both TIs and the community WDPA\n",
    "fieldMappings.addTable(emptyFC)\n",
    "fieldMappings.addTable(tis_raisg_url)\n",
    "\n",
    "# Remove the fields NAME and REP_AREA from the field map (we are going to map how they have to be merged)\n",
    "for field in fieldMappings.fields:\n",
    "    if field.name in [\"NAME\", \"REP_AREA\"]:\n",
    "        fieldMappings.removeFieldMap(fieldMappings.findFieldMapIndex(field.name))\n",
    "\n",
    "# Add input fields \"NAME\" from both layers into new output field \n",
    "fldMap_protName = arcpy.FieldMap()\n",
    "fldMap_protName.addInputField(wdpa_comm_path, \"NAME\")\n",
    "fldMap_protName.addInputField(tis_raisg_url, \"NAME\")\n",
    "\n",
    "# Set name of new output field \"NAME\"\n",
    "protName = fldMap_protName.outputField\n",
    "protName.name = \"NAME\"\n",
    "fldMap_protName.outputField = protName\n",
    "\n",
    "# Add output field to field mappings object\n",
    "fieldMappings.addFieldMap(fldMap_protName)\n",
    "\n",
    "# Add input fields \"REP_AREA\" from both layers into new output field \n",
    "fldMap_protArea = arcpy.FieldMap()\n",
    "fldMap_protArea.addInputField(wdpa_comm_path, \"REP_AREA\")\n",
    "fldMap_protArea.addInputField(tis_raisg_url, \"REP_AREA\")\n",
    "\n",
    "# Set name of new output field \"REP_AREA\"\n",
    "protArea = fldMap_protArea.outputField\n",
    "protArea.name = \"REP_AREA\"\n",
    "fldMap_protArea.outputField = protArea\n",
    "\n",
    "# Add output field to field mappings object\n",
    "fieldMappings.addFieldMap(fldMap_protArea)"
   ]
  },
  {
   "cell_type": "code",
   "execution_count": null,
   "metadata": {},
   "outputs": [],
   "source": [
    "start = datetime.datetime.now()\n",
    "arcpy.management.Append([tis_raisg_url, wdpa_comm_path], \n",
    "                        emptyFC,\n",
    "                        \"NO_TEST\",\n",
    "                        fieldMappings, '')\n",
    "end = datetime.datetime.now() - start\n",
    "print(f\"Finished in {end}\")"
   ]
  },
  {
   "cell_type": "markdown",
   "metadata": {},
   "source": [
    "From here we are going to try to publish the data to arcgis online. "
   ]
  }
 ],
 "metadata": {
  "kernelspec": {
   "display_name": "Python 3",
   "language": "python",
   "name": "python3"
  },
  "language_info": {
   "codemirror_mode": {
    "name": "ipython",
    "version": 3
   },
   "file_extension": ".py",
   "mimetype": "text/x-python",
   "name": "python",
   "nbconvert_exporter": "python",
   "pygments_lexer": "ipython3",
   "version": "3.6.9"
  }
 },
 "nbformat": 4,
 "nbformat_minor": 2
}
