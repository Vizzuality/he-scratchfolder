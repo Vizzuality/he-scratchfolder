{
 "cells": [
  {
   "cell_type": "markdown",
   "id": "5a6c9a24",
   "metadata": {},
   "source": [
    "## Description of what we are going to do"
   ]
  },
  {
   "cell_type": "code",
   "execution_count": null,
   "id": "60246a68",
   "metadata": {},
   "outputs": [],
   "source": [
    "import os\n",
    "import geopandas\n",
    "import pandas\n",
    "import zipfile\n",
    "import subprocess\n",
    "import logging\n",
    "from typing import Union, List, Dict, Tuple, Optional\n",
    "from ipyleaflet import Map, GeoData, basemaps, LayersControl"
   ]
  },
  {
   "cell_type": "code",
   "execution_count": null,
   "id": "dcb6ef04",
   "metadata": {},
   "outputs": [],
   "source": [
    "BASE_DIR = './../../datasets/raw'\n",
    "\n",
    "def extract_wdpa_data(wdpa_zip_file: str) -> int:\n",
    "    \"\"\"\n",
    "    Extract WDPA data from a zip file.\n",
    "    \"\"\"\n",
    "    try:\n",
    "        with zipfile.ZipFile(wdpa_zip_file, 'r') as zip_ref:\n",
    "            zip_ref.extractall(BASE_DIR)\n",
    "        return 0\n",
    "    except:\n",
    "        logging.error('Could not extract WDPA data from zip file.')\n",
    "        return 1\n",
    "\n",
    "def load_wdpa_data(dir_path: str) -> Union[int, geopandas.GeoDataFrame]:\n",
    "    \"\"\"\n",
    "    Load WDPA data from a csv file.\n",
    "    \"\"\"\n",
    "    try:\n",
    "        f: List = []\n",
    "        for (dirpath, dirnames, filenames) in os.walk(dir_path):\n",
    "            for filename in filenames:\n",
    "                f.append(f'{dirpath}/{filename}')\n",
    "\n",
    "        gdf = pandas.concat([\n",
    "            geopandas.read_file(file)\n",
    "            for file in f\n",
    "        ]).pipe(geopandas.GeoDataFrame)\n",
    "        return gdf\n",
    "    except:\n",
    "        logging.error('Could not load WDPA data from csv file.')\n",
    "        return 1\n",
    "\n",
    "def simplifyMapshaper(data_path: str, format: str = \"shp\") -> Union[int, geopandas.GeoDataFrame]:\n",
    "    \"\"\"\n",
    "    Simplify geometry of a GeoDataFrame using mapshaper.\n",
    "    \"\"\"\n",
    "    try:\n",
    "        result = subprocess.run([\"mapshaper-xl\", \"16gb\", f\"-i {data_path}/*.{format} snap\", \n",
    "        \"-simplify 20% planar keep-shapes\", \"-filter-islands min-vertices=3 min-area=10000m2 remove-empty\",\n",
    "        \"-filter-slivers min-area=10000m2 remove-empty\",\n",
    "        \"-clean rewind\", \"-o format=geojson force ndjson\"], check=True)\n",
    "        \n",
    "        return load_wdpa_data()\n",
    "    \n",
    "    except Exception as e:\n",
    "        logging.error(e)\n",
    "        return 1\n",
    "\n",
    "def mapRender(geo_data: geopandas.GeoDataFrame) -> Map:\n",
    "    \"\"\"\n",
    "    Render a map with the given data.\n",
    "    \"\"\"\n",
    "    try:\n",
    "        return Map(\n",
    "            center=[0, 0],\n",
    "            zoom=2,\n",
    "            basemap=basemaps.Esri.WorldImagery,\n",
    "            layers=[\n",
    "                GeoData(\n",
    "                    data=geo_data,\n",
    "                    name='WDPA',\n",
    "                    style={\n",
    "                        'color': '#ff0000',\n",
    "                        'fillOpacity': 0.5\n",
    "                    }\n",
    "                )\n",
    "            ],\n",
    "            layers_control=True,\n",
    "            controls=[\n",
    "                LayersControl()\n",
    "            ]\n",
    "        )\n",
    "    except:\n",
    "        logging.error('Could not render map.')\n",
    "        return 1"
   ]
  },
  {
   "cell_type": "code",
   "execution_count": null,
   "id": "f4476ae3",
   "metadata": {},
   "outputs": [],
   "source": [
    "\n"
   ]
  }
 ],
 "metadata": {
  "kernelspec": {
   "display_name": "Python 3 (ipykernel)",
   "language": "python",
   "name": "python3"
  },
  "language_info": {
   "codemirror_mode": {
    "name": "ipython",
    "version": 3
   },
   "file_extension": ".py",
   "mimetype": "text/x-python",
   "name": "python",
   "nbconvert_exporter": "python",
   "pygments_lexer": "ipython3",
   "version": "3.8.12"
  }
 },
 "nbformat": 4,
 "nbformat_minor": 5
}
