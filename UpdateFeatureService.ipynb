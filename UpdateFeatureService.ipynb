{
 "cells": [
  {
   "cell_type": "markdown",
   "metadata": {},
   "source": [
    "## Update a FeatureService"
   ]
  },
  {
   "cell_type": "markdown",
   "metadata": {},
   "source": [
    "## AOIs: Update conservation concern on species lookup tables.\n",
    "We have a lookup table per taxa (reptiles, amphibians, birds and mammlas) with a column **conservation concern** of each species, and we have a separate lookup table with a column **has_image**. We need both columns to be on the same table"
   ]
  },
  {
   "cell_type": "code",
   "execution_count": null,
   "metadata": {},
   "outputs": [],
   "source": [
    "import pandas as pd\n",
    "import numpy as np\n",
    "import geopandas as gpd\n",
    "import arcgis\n",
    "from arcgis.gis import GIS\n",
    "import json\n",
    "import pandas as pd\n",
    "from arcgis.features import FeatureLayerCollection\n",
    "import requests as re\n",
    "from copy import deepcopy"
   ]
  },
  {
   "cell_type": "code",
   "execution_count": null,
   "metadata": {},
   "outputs": [],
   "source": [
    "env_path = \"../../.env\"\n",
    "with open(env_path) as f:\n",
    "   env = {}\n",
    "   for line in f:\n",
    "       env_key, _val = line.split(\"=\")\n",
    "       env_value = _val.split(\"\\n\")[0]\n",
    "       env[env_key] = env_value"
   ]
  },
  {
   "cell_type": "code",
   "execution_count": null,
   "metadata": {},
   "outputs": [],
   "source": [
    "aol_password = env['ARCGIS_GRETA_PASS']\n",
    "aol_username = env['ARCGIS_GRETA_USER']"
   ]
  },
  {
   "cell_type": "code",
   "execution_count": null,
   "metadata": {},
   "outputs": [],
   "source": [
    "gis = GIS(\"https://eowilson.maps.arcgis.com\", aol_username, aol_password, profile = \"eowilson\")"
   ]
  },
  {
   "cell_type": "code",
   "execution_count": 88,
   "metadata": {},
   "outputs": [],
   "source": [
    "import re\n",
    "def create_strict_reg_exp(to_search):\n",
    "    try:\n",
    "        reg_exp = f\"^{to_search}$\"\n",
    "        #logging.info(f\"regular expression is: {reg_exp}\")\n",
    "    except:\n",
    "        print(\"There was a problem with the string.\")\n",
    "    return reg_exp"
   ]
  },
  {
   "cell_type": "code",
   "execution_count": 89,
   "metadata": {},
   "outputs": [],
   "source": [
    "def findItemGetID(csvName, gis, item_type = \"Feature Layer\"):\n",
    "    try:\n",
    "        searched_item = gis.content.search(csvName, item_type = item_type)\n",
    "        for i in searched_item:\n",
    "            reg_exp = create_strict_reg_exp(csvName)\n",
    "            if re.search(reg_exp, i.title)!= None:    \n",
    "                #logging.info(f\"{csvName} has the id: {i.id}\")\n",
    "                return i.id\n",
    "    except:\n",
    "        print(\"There was a problem finding the item\")"
   ]
  },
  {
   "cell_type": "code",
   "execution_count": 90,
   "metadata": {},
   "outputs": [],
   "source": [
    "def getFlayerFromID(item_id):\n",
    "    item = gis.content.get(item_id)\n",
    "    flayer = item.layers[0]\n",
    "    return flayer"
   ]
  },
  {
   "cell_type": "code",
   "execution_count": 91,
   "metadata": {},
   "outputs": [],
   "source": [
    "import pandas as pd\n",
    "def getSDFfromFlayer(flayer):\n",
    "    sdf = pd.DataFrame.spatial.from_layer(flayer)\n",
    "    return sdf"
   ]
  },
  {
   "cell_type": "code",
   "execution_count": 1,
   "metadata": {},
   "outputs": [],
   "source": [
    "## Tables with conservation concern (cc)\n",
    "cc = {'amphibians':'eb487fb505e34052b4cb9e02f3f7a22c',\n",
    "       'reptiles':'f6e7514c775442b39274d306b54a5952',\n",
    "       'mammals':'f6e7514c775442b39274d306b54a5952',\n",
    "       'birds':'71e61cd2211b4670a28bfb14b3693f66'}\n",
    "## Tables with has_image (hi)\n",
    "hi = {'amphibians':'a641a4cd269345dea93b8bcb1cb66676',\n",
    "       'reptiles':'b720e84869624e5482b25338b27a54f2',\n",
    "       'mammals':'84d3c71caf97479d85f620a4ee217d68',\n",
    "       'birds':'4d8698734b654bb9bb7a61d9af314c76'}"
   ]
  },
  {
   "cell_type": "code",
   "execution_count": null,
   "metadata": {},
   "outputs": [],
   "source": []
  },
  {
   "cell_type": "code",
   "execution_count": null,
   "metadata": {},
   "outputs": [],
   "source": []
  }
 ],
 "metadata": {
  "kernelspec": {
   "display_name": "Python 3",
   "language": "python",
   "name": "python3"
  },
  "language_info": {
   "codemirror_mode": {
    "name": "ipython",
    "version": 3
   },
   "file_extension": ".py",
   "mimetype": "text/x-python",
   "name": "python",
   "nbconvert_exporter": "python",
   "pygments_lexer": "ipython3",
   "version": "3.7.4"
  }
 },
 "nbformat": 4,
 "nbformat_minor": 4
}
