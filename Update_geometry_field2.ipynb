{
 "cells": [
  {
   "cell_type": "markdown",
   "id": "e6b4d702-f3c0-4e7b-ba26-79df984e5778",
   "metadata": {},
   "source": [
    "# Update some records of Feature Service\n",
    "The country geometries simplified for gadm level 0 is failing to load on the FE.\n",
    "This geometries have been simplified previously using mapshaper or ArcGIS Pro.\n",
    "There is a previous layer used in the NRC that does not fail, we could use that layer for gadm0. The countries failing so far are Russia, USA and Canada (classic, the big countries that cross the antimeridian)\n",
    "\n",
    "old gadm0 layer (area): https://eowilson.maps.arcgis.com/home/item.html?id=e9b2595e8ee2406b981fd7c00f77df9c\n",
    "NRC layer: https://eowilson.maps.arcgis.com/home/item.html?id=3c7c5f75cc184a4ca89fe9c8c2154da5\n",
    "current gadm0 layer (range): https://eowilson.maps.arcgis.com/home/item.html?id=15485a02800a49eba7855b3b79f1d8be"
   ]
  },
  {
   "cell_type": "code",
   "execution_count": 1,
   "id": "0d608967-25b9-4678-b82a-321dc0483de1",
   "metadata": {},
   "outputs": [],
   "source": [
    "import pandas as pd\n",
    "import numpy as np\n",
    "import geopandas as gpd\n",
    "import arcgis\n",
    "from arcgis.gis import GIS\n",
    "import json\n",
    "import pandas as pd\n",
    "from arcgis.features import FeatureLayerCollection\n",
    "from copy import deepcopy\n",
    "import os\n"
   ]
  },
  {
   "cell_type": "code",
   "execution_count": 2,
   "id": "28e6f611-8fe9-4cdf-93a2-ba5b48408371",
   "metadata": {},
   "outputs": [],
   "source": [
    "env_path = \".env\"\n",
    "with open(env_path) as f:\n",
    "   env = {}\n",
    "   for line in f:\n",
    "       env_key, _val = line.split(\"=\")\n",
    "       env_value = _val.split(\"\\n\")[0]\n",
    "       env[env_key] = env_value"
   ]
  },
  {
   "cell_type": "code",
   "execution_count": 3,
   "id": "a4bdc3bd-66f3-404f-86f9-e7b33f831eb3",
   "metadata": {},
   "outputs": [],
   "source": [
    "aol_password = env['ARCGIS_GRETA_PASS']\n",
    "aol_username = env['ARCGIS_GRETA_USER']"
   ]
  },
  {
   "cell_type": "code",
   "execution_count": 4,
   "id": "398ca5c8-9454-4fdf-97f5-bfcde7485132",
   "metadata": {},
   "outputs": [
    {
     "name": "stderr",
     "output_type": "stream",
     "text": [
      "Keyring backend being used (keyring.backends.OS_X.Keyring (priority: 5)) either failed to install or is not recommended by the keyring project (i.e. it is not secure). This means you can not use stored passwords through GIS's persistent profiles. Note that extra system-wide steps must be taken on a Linux machine to use the python keyring module securely. Read more about this at the keyring API doc (http://bit.ly/2EWDP7B) and the ArcGIS API for Python doc (http://bit.ly/2CK2wG8).\n"
     ]
    }
   ],
   "source": [
    "gis = GIS(\"https://eowilson.maps.arcgis.com\", aol_username, aol_password, profile = \"eowilson\")"
   ]
  },
  {
   "cell_type": "code",
   "execution_count": 8,
   "id": "a479cc5a-ec83-429c-9f1f-cb4ca7c627e4",
   "metadata": {},
   "outputs": [],
   "source": [
    "layers= {'gadm0':'f11bd71ecc4c47aab7735b3cf3e21392',\n",
    "        'nrc':'3c7c5f75cc184a4ca89fe9c8c2154da5'}"
   ]
  },
  {
   "cell_type": "code",
   "execution_count": 9,
   "id": "6631007e-15a2-4648-9284-568709641633",
   "metadata": {},
   "outputs": [],
   "source": [
    "def getFlayerFromID(item_id):\n",
    "    item = gis.content.get(item_id)\n",
    "    flayer = item.layers[0]\n",
    "    sdf = pd.DataFrame.spatial.from_layer(flayer)\n",
    "    return sdf"
   ]
  },
  {
   "cell_type": "code",
   "execution_count": 10,
   "id": "17da5102-b4b0-4988-87cb-021b05306e33",
   "metadata": {},
   "outputs": [],
   "source": [
    "pre= getFlayerFromID(layers['gadm0'])"
   ]
  },
  {
   "cell_type": "code",
   "execution_count": 11,
   "id": "3741c9c8-e1c8-48ff-8ba9-e10dcb7d6c69",
   "metadata": {},
   "outputs": [],
   "source": [
    "nrc= getFlayerFromID(layers['nrc'])"
   ]
  },
  {
   "cell_type": "code",
   "execution_count": 12,
   "id": "882aa07e-2783-4d8a-87bf-aecea3349bec",
   "metadata": {},
   "outputs": [
    {
     "name": "stdout",
     "output_type": "stream",
     "text": [
      "252\n"
     ]
    },
    {
     "data": {
      "text/plain": [
       "Index(['OBJECTID', 'GID_0', 'NAME_0', 'Shape__Area', 'Shape__Length', 'SHAPE'], dtype='object')"
      ]
     },
     "execution_count": 12,
     "metadata": {},
     "output_type": "execute_result"
    }
   ],
   "source": [
    "print(len(nrc))\n",
    "nrc.columns"
   ]
  },
  {
   "cell_type": "code",
   "execution_count": 13,
   "id": "24215437-3772-4464-a803-82234261428e",
   "metadata": {},
   "outputs": [
    {
     "name": "stdout",
     "output_type": "stream",
     "text": [
      "255\n"
     ]
    },
    {
     "data": {
      "text/plain": [
       "Index(['GID_0', 'NAME_0', 'MOL_ID', 'AREA_KM2', 'amphibians', 'birds',\n",
       "       'mammals', 'reptiles', 'percentage_protected', 'population_sum',\n",
       "       'majority_land_cover_climate_reg', 'land_cover_majority',\n",
       "       'climate_regime_majority', 'percent_irrigated', 'percent_rainfed',\n",
       "       'percent_rangeland', 'percent_urban', 'country_size', 'ObjectId',\n",
       "       'Shape__Area', 'Shape__Length', 'SHAPE'],\n",
       "      dtype='object')"
      ]
     },
     "execution_count": 13,
     "metadata": {},
     "output_type": "execute_result"
    }
   ],
   "source": [
    "print(len(pre))\n",
    "pre.columns"
   ]
  },
  {
   "cell_type": "code",
   "execution_count": 14,
   "id": "c4f5a29a-68d2-4c31-8cca-87809eb44bd4",
   "metadata": {},
   "outputs": [],
   "source": [
    "selp = pre[pre['GID_0'].isin(['RUS','CAN','USA'])]\n",
    "seln = nrc[nrc['GID_0'].isin(['RUS','CAN','USA'])]"
   ]
  },
  {
   "cell_type": "code",
   "execution_count": null,
   "id": "8c438a1c-d72c-4974-8ace-bc8da3f7096d",
   "metadata": {},
   "outputs": [],
   "source": [
    "### To see geoemtries\n",
    "display(seln.spatial)"
   ]
  },
  {
   "cell_type": "code",
   "execution_count": null,
   "id": "5dc7a189-bec7-471e-80a4-fe63fabaa4f3",
   "metadata": {},
   "outputs": [],
   "source": [
    "display(selp.spatial)"
   ]
  },
  {
   "cell_type": "code",
   "execution_count": 15,
   "id": "b7584efa-0196-449d-9447-b2942ff90770",
   "metadata": {},
   "outputs": [
    {
     "data": {
      "text/html": [
       "<div>\n",
       "<style scoped>\n",
       "    .dataframe tbody tr th:only-of-type {\n",
       "        vertical-align: middle;\n",
       "    }\n",
       "\n",
       "    .dataframe tbody tr th {\n",
       "        vertical-align: top;\n",
       "    }\n",
       "\n",
       "    .dataframe thead th {\n",
       "        text-align: right;\n",
       "    }\n",
       "</style>\n",
       "<table border=\"1\" class=\"dataframe\">\n",
       "  <thead>\n",
       "    <tr style=\"text-align: right;\">\n",
       "      <th></th>\n",
       "      <th>OBJECTID</th>\n",
       "      <th>GID_0</th>\n",
       "      <th>NAME_0</th>\n",
       "      <th>Shape__Area</th>\n",
       "      <th>Shape__Length</th>\n",
       "      <th>SHAPE</th>\n",
       "    </tr>\n",
       "  </thead>\n",
       "  <tbody>\n",
       "    <tr>\n",
       "      <th>39</th>\n",
       "      <td>40</td>\n",
       "      <td>CAN</td>\n",
       "      <td>Canada</td>\n",
       "      <td>1694.025240</td>\n",
       "      <td>2210.684826</td>\n",
       "      <td>{\"rings\": [[[-87.035281988421, 65.479153994765...</td>\n",
       "    </tr>\n",
       "    <tr>\n",
       "      <th>248</th>\n",
       "      <td>253</td>\n",
       "      <td>USA</td>\n",
       "      <td>United States</td>\n",
       "      <td>1116.381362</td>\n",
       "      <td>719.210324</td>\n",
       "      <td>{\"rings\": [[[-160.021144980627, -0.39805494820...</td>\n",
       "    </tr>\n",
       "    <tr>\n",
       "      <th>249</th>\n",
       "      <td>400</td>\n",
       "      <td>RUS</td>\n",
       "      <td>Russia</td>\n",
       "      <td>2908.001129</td>\n",
       "      <td>1478.397360</td>\n",
       "      <td>{\"rings\": [[[131.87329129417, 42.9569360103709...</td>\n",
       "    </tr>\n",
       "  </tbody>\n",
       "</table>\n",
       "</div>"
      ],
      "text/plain": [
       "     OBJECTID GID_0         NAME_0  Shape__Area  Shape__Length  \\\n",
       "39         40   CAN         Canada  1694.025240    2210.684826   \n",
       "248       253   USA  United States  1116.381362     719.210324   \n",
       "249       400   RUS         Russia  2908.001129    1478.397360   \n",
       "\n",
       "                                                 SHAPE  \n",
       "39   {\"rings\": [[[-87.035281988421, 65.479153994765...  \n",
       "248  {\"rings\": [[[-160.021144980627, -0.39805494820...  \n",
       "249  {\"rings\": [[[131.87329129417, 42.9569360103709...  "
      ]
     },
     "execution_count": 15,
     "metadata": {},
     "output_type": "execute_result"
    }
   ],
   "source": [
    "seln"
   ]
  },
  {
   "cell_type": "code",
   "execution_count": 16,
   "id": "880f9a61-a630-4405-9153-02c904b174b2",
   "metadata": {},
   "outputs": [
    {
     "data": {
      "text/html": [
       "<div>\n",
       "<style scoped>\n",
       "    .dataframe tbody tr th:only-of-type {\n",
       "        vertical-align: middle;\n",
       "    }\n",
       "\n",
       "    .dataframe tbody tr th {\n",
       "        vertical-align: top;\n",
       "    }\n",
       "\n",
       "    .dataframe thead th {\n",
       "        text-align: right;\n",
       "    }\n",
       "</style>\n",
       "<table border=\"1\" class=\"dataframe\">\n",
       "  <thead>\n",
       "    <tr style=\"text-align: right;\">\n",
       "      <th></th>\n",
       "      <th>GID_0</th>\n",
       "      <th>NAME_0</th>\n",
       "      <th>SHAPE</th>\n",
       "      <th>ObjectId</th>\n",
       "    </tr>\n",
       "  </thead>\n",
       "  <tbody>\n",
       "    <tr>\n",
       "      <th>39</th>\n",
       "      <td>CAN</td>\n",
       "      <td>Canada</td>\n",
       "      <td>{\"rings\": [[[-7765692.92845951, 17917763.32315...</td>\n",
       "      <td>40</td>\n",
       "    </tr>\n",
       "    <tr>\n",
       "      <th>189</th>\n",
       "      <td>RUS</td>\n",
       "      <td>Russia</td>\n",
       "      <td>{\"rings\": [[[6450032, 16819540], [6449632, 168...</td>\n",
       "      <td>190</td>\n",
       "    </tr>\n",
       "    <tr>\n",
       "      <th>234</th>\n",
       "      <td>USA</td>\n",
       "      <td>United States</td>\n",
       "      <td>{\"rings\": [[[-17646464, 12004764], [-17646864,...</td>\n",
       "      <td>235</td>\n",
       "    </tr>\n",
       "  </tbody>\n",
       "</table>\n",
       "</div>"
      ],
      "text/plain": [
       "    GID_0         NAME_0                                              SHAPE  \\\n",
       "39    CAN         Canada  {\"rings\": [[[-7765692.92845951, 17917763.32315...   \n",
       "189   RUS         Russia  {\"rings\": [[[6450032, 16819540], [6449632, 168...   \n",
       "234   USA  United States  {\"rings\": [[[-17646464, 12004764], [-17646864,...   \n",
       "\n",
       "     ObjectId  \n",
       "39         40  \n",
       "189       190  \n",
       "234       235  "
      ]
     },
     "execution_count": 16,
     "metadata": {},
     "output_type": "execute_result"
    }
   ],
   "source": [
    "selp[['GID_0','NAME_0','SHAPE','ObjectId']]"
   ]
  },
  {
   "cell_type": "code",
   "execution_count": 17,
   "id": "667bfc3a-7b75-4abe-a2e8-38ea97c1a8e1",
   "metadata": {},
   "outputs": [],
   "source": [
    "### Layer to update (gadm0 layer)\n",
    "item_id = layers['gadm0'] ### gadm0 layer\n",
    "item = gis.content.get(item_id)\n",
    "flayer = item.layers[0]\n",
    "fset = flayer.query(where =\"GID_0 IN ('CAN','RUS','USA')\")\n",
    "\n",
    "# ### Layer to retrieve geometries from\n",
    "new_fset = gis.content.get('3c7c5f75cc184a4ca89fe9c8c2154da5').layers[0].query(where =\"GID_0 IN ('CAN','RUS','USA')\")\n",
    "new_fset_features = gis.content.get('3c7c5f75cc184a4ca89fe9c8c2154da5').layers[0].query(where =\"GID_0 IN ('CAN','RUS','USA')\").features\n",
    "new_flayer_rows = new_fset.sdf"
   ]
  },
  {
   "cell_type": "code",
   "execution_count": 18,
   "id": "854f8607-e06b-4f3e-9f7f-1b2ba27f1188",
   "metadata": {},
   "outputs": [
    {
     "data": {
      "text/plain": [
       "[{'name': 'OBJECTID',\n",
       "  'type': 'esriFieldTypeOID',\n",
       "  'alias': 'OBJECTID',\n",
       "  'sqlType': 'sqlTypeOther',\n",
       "  'domain': None,\n",
       "  'defaultValue': None},\n",
       " {'name': 'GID_0',\n",
       "  'type': 'esriFieldTypeString',\n",
       "  'alias': 'GID_0',\n",
       "  'sqlType': 'sqlTypeOther',\n",
       "  'length': 8000,\n",
       "  'domain': None,\n",
       "  'defaultValue': None},\n",
       " {'name': 'NAME_0',\n",
       "  'type': 'esriFieldTypeString',\n",
       "  'alias': 'NAME_0',\n",
       "  'sqlType': 'sqlTypeOther',\n",
       "  'length': 8000,\n",
       "  'domain': None,\n",
       "  'defaultValue': None},\n",
       " {'name': 'Shape__Area',\n",
       "  'type': 'esriFieldTypeDouble',\n",
       "  'alias': 'Shape__Area',\n",
       "  'sqlType': 'sqlTypeDouble',\n",
       "  'domain': None,\n",
       "  'defaultValue': None},\n",
       " {'name': 'Shape__Length',\n",
       "  'type': 'esriFieldTypeDouble',\n",
       "  'alias': 'Shape__Length',\n",
       "  'sqlType': 'sqlTypeDouble',\n",
       "  'domain': None,\n",
       "  'defaultValue': None}]"
      ]
     },
     "execution_count": 18,
     "metadata": {},
     "output_type": "execute_result"
    }
   ],
   "source": [
    "new_fset.fields"
   ]
  },
  {
   "cell_type": "code",
   "execution_count": 19,
   "id": "2787e2df-c0fc-4841-a3d5-70ed218af99c",
   "metadata": {},
   "outputs": [],
   "source": [
    "### https://community.esri.com/t5/arcgis-online-questions/updating-polygon-features-from-a-feature-layer-in/td-p/1043566\n",
    "from arcgis import geometry\n",
    "features_to_be_added = []\n",
    "\n",
    "for index, row in new_flayer_rows.iterrows():\n",
    "    feature_to_be_updated = deepcopy(fset.features[index])\n",
    "    input_geometry = new_fset_features[index].geometry\n",
    "    \n",
    "    output_geometry = geometry.project(geometries = [input_geometry],\n",
    "                                       in_sr = new_fset.spatial_reference['wkid'], \n",
    "                                       out_sr = fset.spatial_reference['wkid'], \n",
    "                                       gis = gis)\n",
    "    # assign the updated values\n",
    "    feature_to_be_updated.geometry = output_geometry[0]\n",
    "    #feature_to_be_updated.attributes['ObjectId'] = int(row['ObjectId'])\n",
    "    #feature_to_be_updated.attributes['OBJECTID'] = int(row['OBJECTID'])\n",
    "    \n",
    "    # #add this to the list of features to be updated\n",
    "    features_to_be_added.append(feature_to_be_updated)"
   ]
  },
  {
   "cell_type": "code",
   "execution_count": 20,
   "id": "4927c471-331c-4180-aaba-41b7001ec0e9",
   "metadata": {},
   "outputs": [
    {
     "data": {
      "text/plain": [
       "{'wkid': 102100, 'latestWkid': 3857}"
      ]
     },
     "execution_count": 20,
     "metadata": {},
     "output_type": "execute_result"
    }
   ],
   "source": [
    "#fset.features[0]\n",
    "fset.spatial_reference"
   ]
  },
  {
   "cell_type": "code",
   "execution_count": 21,
   "id": "e9860bac-e6d3-4db8-be9b-ae2cbbcfeb02",
   "metadata": {},
   "outputs": [
    {
     "data": {
      "text/plain": [
       "{'wkid': 4326, 'latestWkid': 4326}"
      ]
     },
     "execution_count": 21,
     "metadata": {},
     "output_type": "execute_result"
    }
   ],
   "source": [
    "#features_to_be_added[0].geometry\n",
    "new_fset.spatial_reference"
   ]
  },
  {
   "cell_type": "code",
   "execution_count": 22,
   "id": "0a4b2f01-ea89-4ece-abee-e1298cdcdd44",
   "metadata": {},
   "outputs": [
    {
     "data": {
      "text/plain": [
       "{'addResults': [],\n",
       " 'updateResults': [{'objectId': 40,\n",
       "   'uniqueId': 40,\n",
       "   'globalId': None,\n",
       "   'success': True},\n",
       "  {'objectId': 190, 'uniqueId': 190, 'globalId': None, 'success': True},\n",
       "  {'objectId': 235, 'uniqueId': 235, 'globalId': None, 'success': True}],\n",
       " 'deleteResults': []}"
      ]
     },
     "execution_count": 22,
     "metadata": {},
     "output_type": "execute_result"
    }
   ],
   "source": [
    "### Add:\n",
    "#flayer.edit_features(adds = features_to_be_added) \n",
    "### Update\n",
    "flayer.edit_features(updates = features_to_be_added)"
   ]
  },
  {
   "cell_type": "markdown",
   "id": "58e01b1d-0da4-4e7e-998a-8f2cdbbe91eb",
   "metadata": {},
   "source": [
    "### This added new rows with a copy of the data and new geometries, but it did not update the geometry of the rows."
   ]
  },
  {
   "cell_type": "code",
   "execution_count": 23,
   "id": "40d3f814-9a0d-4373-8fdb-0e883f2ceb82",
   "metadata": {},
   "outputs": [],
   "source": [
    "item_id = 'f11bd71ecc4c47aab7735b3cf3e21392' ### gadm0 layer\n",
    "item = gis.content.get(item_id)\n",
    "flayer = item.layers[0]\n",
    "fset = flayer.query(where =\"GID_0 IN ('CAN','RUS','USA')\")\n",
    "df = fset.sdf"
   ]
  },
  {
   "cell_type": "code",
   "execution_count": 25,
   "id": "f9ef59ec-1915-4eba-92ae-d9fb91b55a9b",
   "metadata": {},
   "outputs": [
    {
     "data": {
      "text/plain": [
       "Index(['GID_0', 'NAME_0', 'MOL_ID', 'AREA_KM2', 'amphibians', 'birds',\n",
       "       'mammals', 'reptiles', 'percentage_protected', 'population_sum',\n",
       "       'majority_land_cover_climate_reg', 'land_cover_majority',\n",
       "       'climate_regime_majority', 'percent_irrigated', 'percent_rainfed',\n",
       "       'percent_rangeland', 'percent_urban', 'country_size', 'ObjectId',\n",
       "       'Shape__Area', 'Shape__Length', 'SHAPE'],\n",
       "      dtype='object')"
      ]
     },
     "execution_count": 25,
     "metadata": {},
     "output_type": "execute_result"
    }
   ],
   "source": [
    "df.columns"
   ]
  },
  {
   "cell_type": "code",
   "execution_count": 26,
   "id": "e5c81d48-a695-4f8c-a5b9-7ae86b5bb437",
   "metadata": {},
   "outputs": [
    {
     "data": {
      "text/html": [
       "<div>\n",
       "<style scoped>\n",
       "    .dataframe tbody tr th:only-of-type {\n",
       "        vertical-align: middle;\n",
       "    }\n",
       "\n",
       "    .dataframe tbody tr th {\n",
       "        vertical-align: top;\n",
       "    }\n",
       "\n",
       "    .dataframe thead th {\n",
       "        text-align: right;\n",
       "    }\n",
       "</style>\n",
       "<table border=\"1\" class=\"dataframe\">\n",
       "  <thead>\n",
       "    <tr style=\"text-align: right;\">\n",
       "      <th></th>\n",
       "      <th>GID_0</th>\n",
       "      <th>NAME_0</th>\n",
       "      <th>MOL_ID</th>\n",
       "      <th>SHAPE</th>\n",
       "      <th>ObjectId</th>\n",
       "    </tr>\n",
       "  </thead>\n",
       "  <tbody>\n",
       "    <tr>\n",
       "      <th>0</th>\n",
       "      <td>CAN</td>\n",
       "      <td>Canada</td>\n",
       "      <td>40</td>\n",
       "      <td>{\"rings\": [[[-7444521.32800427, 5561807.138174...</td>\n",
       "      <td>40</td>\n",
       "    </tr>\n",
       "    <tr>\n",
       "      <th>1</th>\n",
       "      <td>RUS</td>\n",
       "      <td>Russia</td>\n",
       "      <td>190</td>\n",
       "      <td>{\"rings\": [[[-17813472.3754415, -44311.6305776...</td>\n",
       "      <td>190</td>\n",
       "    </tr>\n",
       "    <tr>\n",
       "      <th>2</th>\n",
       "      <td>USA</td>\n",
       "      <td>United States</td>\n",
       "      <td>235</td>\n",
       "      <td>{\"rings\": [[[20037507.0671618, 11401317.669004...</td>\n",
       "      <td>235</td>\n",
       "    </tr>\n",
       "  </tbody>\n",
       "</table>\n",
       "</div>"
      ],
      "text/plain": [
       "  GID_0         NAME_0  MOL_ID  \\\n",
       "0   CAN         Canada      40   \n",
       "1   RUS         Russia     190   \n",
       "2   USA  United States     235   \n",
       "\n",
       "                                               SHAPE  ObjectId  \n",
       "0  {\"rings\": [[[-7444521.32800427, 5561807.138174...        40  \n",
       "1  {\"rings\": [[[-17813472.3754415, -44311.6305776...       190  \n",
       "2  {\"rings\": [[[20037507.0671618, 11401317.669004...       235  "
      ]
     },
     "execution_count": 26,
     "metadata": {},
     "output_type": "execute_result"
    }
   ],
   "source": [
    "df[['GID_0','NAME_0','MOL_ID','SHAPE','ObjectId']]"
   ]
  },
  {
   "cell_type": "code",
   "execution_count": 27,
   "id": "ca6618c4-9f90-41f7-94fc-36c0a34da025",
   "metadata": {},
   "outputs": [
    {
     "data": {
      "text/plain": [
       "'/Users/sofia/Documents/HE_Data/Precalculated/gadm0/Outputs/copy_CAN_RUS_USA.shp'"
      ]
     },
     "execution_count": 27,
     "metadata": {},
     "output_type": "execute_result"
    }
   ],
   "source": [
    "### Save as shapefile\n",
    "df.spatial.to_featureclass('/Users/sofia/Documents/HE_Data/Precalculated/gadm0/Outputs/copy_CAN_RUS_USA.shp')"
   ]
  },
  {
   "cell_type": "code",
   "execution_count": 28,
   "id": "57d380da-2d72-4f9c-b364-dcd5eef3656e",
   "metadata": {},
   "outputs": [
    {
     "data": {
      "text/plain": [
       "'/Users/sofia/Documents/HE_Data/Precalculated/gadm0/Outputs/copy_CAN_RUS_USA.shp'"
      ]
     },
     "execution_count": 28,
     "metadata": {},
     "output_type": "execute_result"
    }
   ],
   "source": [
    "from arcgis.geometry import SpatialReference\n",
    "epsg_code = flayer.properties['extent']['spatialReference']['latestWkid']\n",
    "feature_set = fset\n",
    "sdf = feature_set.sdf\n",
    "srs = SpatialReference({\"wkid\":epsg_code})\n",
    "sdf.spatial.project(srs)\n",
    "sdf.spatial.to_featureclass(location='/Users/sofia/Documents/HE_Data/Precalculated/gadm0/Outputs/copy_CAN_RUS_USA.shp')"
   ]
  },
  {
   "cell_type": "code",
   "execution_count": 29,
   "id": "50d430fe-70f7-4b56-92fd-3d374bc805e9",
   "metadata": {},
   "outputs": [
    {
     "data": {
      "text/plain": [
       "{'deleteResults': []}"
      ]
     },
     "execution_count": 29,
     "metadata": {},
     "output_type": "execute_result"
    }
   ],
   "source": [
    "flayer.delete_features(where=\"objectid > 255\")"
   ]
  },
  {
   "cell_type": "markdown",
   "id": "372aa56d-7e81-4518-921d-c78a4c7a6c23",
   "metadata": {},
   "source": [
    "### USA and RUSSIA geometries are switched. Switch them back manually"
   ]
  },
  {
   "cell_type": "code",
   "execution_count": 38,
   "id": "4338df13-33ef-4a13-bfd9-c4c6d52cf77c",
   "metadata": {},
   "outputs": [],
   "source": [
    "### Layer to update (gadm0 layer)\n",
    "item_id = 'f11bd71ecc4c47aab7735b3cf3e21392' ### gadm0 layer\n",
    "item = gis.content.get(item_id)\n",
    "flayer = item.layers[0]\n",
    "fset = flayer.query(where =\"GID_0 IN ('RUS','USA')\")"
   ]
  },
  {
   "cell_type": "code",
   "execution_count": 39,
   "id": "21084d45-6caf-4bc0-8f15-3cec44887a00",
   "metadata": {},
   "outputs": [
    {
     "data": {
      "text/html": [
       "<div>\n",
       "<style scoped>\n",
       "    .dataframe tbody tr th:only-of-type {\n",
       "        vertical-align: middle;\n",
       "    }\n",
       "\n",
       "    .dataframe tbody tr th {\n",
       "        vertical-align: top;\n",
       "    }\n",
       "\n",
       "    .dataframe thead th {\n",
       "        text-align: right;\n",
       "    }\n",
       "</style>\n",
       "<table border=\"1\" class=\"dataframe\">\n",
       "  <thead>\n",
       "    <tr style=\"text-align: right;\">\n",
       "      <th></th>\n",
       "      <th>GID_0</th>\n",
       "      <th>SHAPE</th>\n",
       "      <th>MOL_ID</th>\n",
       "      <th>ObjectId</th>\n",
       "    </tr>\n",
       "  </thead>\n",
       "  <tbody>\n",
       "    <tr>\n",
       "      <th>0</th>\n",
       "      <td>RUS</td>\n",
       "      <td>{\"rings\": [[[-17813472.3754415, -44311.6305776...</td>\n",
       "      <td>190</td>\n",
       "      <td>190</td>\n",
       "    </tr>\n",
       "    <tr>\n",
       "      <th>1</th>\n",
       "      <td>USA</td>\n",
       "      <td>{\"rings\": [[[20037507.0671618, 11401317.669004...</td>\n",
       "      <td>235</td>\n",
       "      <td>235</td>\n",
       "    </tr>\n",
       "  </tbody>\n",
       "</table>\n",
       "</div>"
      ],
      "text/plain": [
       "  GID_0                                              SHAPE  MOL_ID  ObjectId\n",
       "0   RUS  {\"rings\": [[[-17813472.3754415, -44311.6305776...     190       190\n",
       "1   USA  {\"rings\": [[[20037507.0671618, 11401317.669004...     235       235"
      ]
     },
     "execution_count": 39,
     "metadata": {},
     "output_type": "execute_result"
    }
   ],
   "source": [
    "df = fset.sdf\n",
    "df[['GID_0','SHAPE','MOL_ID','ObjectId']]"
   ]
  },
  {
   "cell_type": "code",
   "execution_count": 41,
   "id": "2a49d353-e2ec-4f4f-8cac-a41aa694977e",
   "metadata": {},
   "outputs": [],
   "source": [
    "usa_geom = fset.features[0].geometry\n",
    "rus_geom = fset.features[1].geometry"
   ]
  },
  {
   "cell_type": "code",
   "execution_count": 42,
   "id": "98fb97cd-7376-481d-9a68-393f8a563ecf",
   "metadata": {},
   "outputs": [],
   "source": [
    "features_to_be_added = []\n",
    "\n",
    "#USA (Data index 1, geometry index 0)\n",
    "feature_to_be_updated = deepcopy(fset.features[1])\n",
    "input_geometry = fset.features[0].geometry\n",
    "feature_to_be_updated.geometry = input_geometry\n",
    "features_to_be_added.append(feature_to_be_updated)\n",
    "\n",
    "#Rus (Data index 0, geometry index 1)\n",
    "feature_to_be_updated = deepcopy(fset.features[0])\n",
    "input_geometry = fset.features[1].geometry\n",
    "feature_to_be_updated.geometry = input_geometry\n",
    "features_to_be_added.append(feature_to_be_updated)"
   ]
  },
  {
   "cell_type": "code",
   "execution_count": 43,
   "id": "870552ab-01a0-4fba-be42-7cfc09b66d45",
   "metadata": {},
   "outputs": [
    {
     "data": {
      "text/plain": [
       "{'addResults': [],\n",
       " 'updateResults': [{'objectId': 235,\n",
       "   'uniqueId': 235,\n",
       "   'globalId': None,\n",
       "   'success': True},\n",
       "  {'objectId': 190, 'uniqueId': 190, 'globalId': None, 'success': True}],\n",
       " 'deleteResults': []}"
      ]
     },
     "execution_count": 43,
     "metadata": {},
     "output_type": "execute_result"
    }
   ],
   "source": [
    "flayer.edit_features(updates = features_to_be_added)"
   ]
  },
  {
   "cell_type": "code",
   "execution_count": 44,
   "id": "4ecc9c07-0f42-4f78-b266-c0989417aed0",
   "metadata": {},
   "outputs": [],
   "source": [
    "item_id = 'f11bd71ecc4c47aab7735b3cf3e21392' ### gadm0 layer\n",
    "item = gis.content.get(item_id)\n",
    "flayer = item.layers[0]\n",
    "fset = flayer.query(where =\"GID_0 IN ('RUS','USA')\")"
   ]
  },
  {
   "cell_type": "code",
   "execution_count": 45,
   "id": "ad801b2a-0f81-49e2-99be-fafd9cfe5ca6",
   "metadata": {},
   "outputs": [
    {
     "data": {
      "text/html": [
       "<div>\n",
       "<style scoped>\n",
       "    .dataframe tbody tr th:only-of-type {\n",
       "        vertical-align: middle;\n",
       "    }\n",
       "\n",
       "    .dataframe tbody tr th {\n",
       "        vertical-align: top;\n",
       "    }\n",
       "\n",
       "    .dataframe thead th {\n",
       "        text-align: right;\n",
       "    }\n",
       "</style>\n",
       "<table border=\"1\" class=\"dataframe\">\n",
       "  <thead>\n",
       "    <tr style=\"text-align: right;\">\n",
       "      <th></th>\n",
       "      <th>GID_0</th>\n",
       "      <th>SHAPE</th>\n",
       "      <th>MOL_ID</th>\n",
       "      <th>ObjectId</th>\n",
       "    </tr>\n",
       "  </thead>\n",
       "  <tbody>\n",
       "    <tr>\n",
       "      <th>0</th>\n",
       "      <td>RUS</td>\n",
       "      <td>{\"rings\": [[[20037507.0671618, 11401317.669004...</td>\n",
       "      <td>190</td>\n",
       "      <td>190</td>\n",
       "    </tr>\n",
       "    <tr>\n",
       "      <th>1</th>\n",
       "      <td>USA</td>\n",
       "      <td>{\"rings\": [[[-17813472.3754415, -44311.6305776...</td>\n",
       "      <td>235</td>\n",
       "      <td>235</td>\n",
       "    </tr>\n",
       "  </tbody>\n",
       "</table>\n",
       "</div>"
      ],
      "text/plain": [
       "  GID_0                                              SHAPE  MOL_ID  ObjectId\n",
       "0   RUS  {\"rings\": [[[20037507.0671618, 11401317.669004...     190       190\n",
       "1   USA  {\"rings\": [[[-17813472.3754415, -44311.6305776...     235       235"
      ]
     },
     "execution_count": 45,
     "metadata": {},
     "output_type": "execute_result"
    }
   ],
   "source": [
    "df1 = fset.sdf\n",
    "df1[['GID_0','SHAPE','MOL_ID','ObjectId']]"
   ]
  }
 ],
 "metadata": {
  "kernelspec": {
   "display_name": "Python 3 (ipykernel)",
   "language": "python",
   "name": "python3"
  },
  "language_info": {
   "codemirror_mode": {
    "name": "ipython",
    "version": 3
   },
   "file_extension": ".py",
   "mimetype": "text/x-python",
   "name": "python",
   "nbconvert_exporter": "python",
   "pygments_lexer": "ipython3",
   "version": "3.8.12"
  }
 },
 "nbformat": 4,
 "nbformat_minor": 5
}
