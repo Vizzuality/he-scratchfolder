{
 "cells": [
  {
   "cell_type": "markdown",
   "metadata": {},
   "source": [
    "#### Get countries that share species stewardship"
   ]
  },
  {
   "cell_type": "code",
   "execution_count": 1,
   "metadata": {},
   "outputs": [
    {
     "name": "stderr",
     "output_type": "stream",
     "text": [
      "/Users/tamarahuete/opt/anaconda3/envs/arcgis/lib/python3.8/site-packages/arcgis/features/_data/geodataset/utils.py:15: FutureWarning: The pandas.datetime class is deprecated and will be removed from pandas in a future version. Import from datetime module instead.\n",
      "  pd.datetime,\n"
     ]
    }
   ],
   "source": [
    "from arcgis.gis import GIS\n",
    "from arcgis.features import FeatureLayerCollection\n",
    "from arcgis.features import FeatureLayer\n",
    "import json"
   ]
  },
  {
   "cell_type": "code",
   "execution_count": 2,
   "metadata": {},
   "outputs": [],
   "source": [
    "gis = GIS(profile = \"half_earth_profile\")"
   ]
  },
  {
   "cell_type": "code",
   "execution_count": 132,
   "metadata": {},
   "outputs": [],
   "source": [
    "import re\n",
    "def create_strict_reg_exp(to_search):\n",
    "    try:\n",
    "        reg_exp = f\"^{to_search}$\"\n",
    "        #logging.info(f\"regular expression is: {reg_exp}\")\n",
    "    except:\n",
    "        print(\"There was a problem with the string.\")\n",
    "    return reg_exp"
   ]
  },
  {
   "cell_type": "code",
   "execution_count": 4,
   "metadata": {},
   "outputs": [],
   "source": [
    "def findItemGetID(csvName, gis):\n",
    "    try:\n",
    "        searched_item = gis.content.search(csvName, item_type = \"Feature Layer\")\n",
    "        for i in searched_item:\n",
    "            reg_exp = create_strict_reg_exp(csvName)\n",
    "            if re.search(reg_exp, i.title)!= None:    \n",
    "                #logging.info(f\"{csvName} has the id: {i.id}\")\n",
    "                return i.id\n",
    "    except:\n",
    "        print(\"There was a problem finding the item\")"
   ]
  },
  {
   "cell_type": "code",
   "execution_count": 5,
   "metadata": {},
   "outputs": [],
   "source": [
    "def getFlayerFromID(item_id):\n",
    "    item = gis.content.get(item_id)\n",
    "    flayer = item.layers[0]\n",
    "    return flayer"
   ]
  },
  {
   "cell_type": "code",
   "execution_count": 10,
   "metadata": {},
   "outputs": [],
   "source": [
    "import pandas as pd\n",
    "def getSDFfromFlayer(flayer):\n",
    "    sdf = pd.DataFrame.spatial.from_layer(flayer)\n",
    "    return sdf"
   ]
  },
  {
   "cell_type": "markdown",
   "metadata": {},
   "source": [
    "### Fetch species and gadm table and convert to sdf"
   ]
  },
  {
   "cell_type": "code",
   "execution_count": 43,
   "metadata": {},
   "outputs": [],
   "source": [
    "#### Get the ID of the table.\n",
    "fl_id  = findItemGetID('Terrestrial_vertebrates_by_country_20200617_stewardship',gis)\n",
    "fl_gadm= findItemGetID(\"gadm_centroid\", gis)"
   ]
  },
  {
   "cell_type": "code",
   "execution_count": 44,
   "metadata": {},
   "outputs": [],
   "source": [
    "fl =getFlayerFromID(fl_id)\n",
    "fl_g = getFlayerFromID(fl_gadm)"
   ]
  },
  {
   "cell_type": "code",
   "execution_count": 45,
   "metadata": {},
   "outputs": [
    {
     "name": "stderr",
     "output_type": "stream",
     "text": [
      "/Users/tamarahuete/opt/anaconda3/envs/arcgis/lib/python3.8/site-packages/arcgis/features/layer.py:2044: FutureWarning: The pandas.datetime class is deprecated and will be removed from pandas in a future version. Import from datetime module instead.\n",
      "  \"esriFieldTypeDate\" : pd.datetime,\n"
     ]
    }
   ],
   "source": [
    "sdf = getSDFfromFlayer(fl)\n",
    "gadm = getSDFfromFlayer(fl_g)"
   ]
  },
  {
   "cell_type": "code",
   "execution_count": 125,
   "metadata": {},
   "outputs": [],
   "source": [
    "#sdf.head()"
   ]
  },
  {
   "cell_type": "code",
   "execution_count": 127,
   "metadata": {},
   "outputs": [],
   "source": [
    "country_list = list(sdf['countryname'].unique())\n",
    "#len(country_list)) ## 249 countries"
   ]
  },
  {
   "cell_type": "code",
   "execution_count": null,
   "metadata": {},
   "outputs": [],
   "source": [
    "len(gadm['NAME_0']) #252 This is the table of gadm centroid where the countries for the NRC are coming from"
   ]
  },
  {
   "cell_type": "markdown",
   "metadata": {},
   "source": [
    "GADM table has more countries that the species table"
   ]
  },
  {
   "cell_type": "code",
   "execution_count": 56,
   "metadata": {},
   "outputs": [
    {
     "data": {
      "text/plain": [
       "['Bouvet Island', 'Antarctica', 'Åland', 'Western Sahara', 'Cocos Islands']"
      ]
     },
     "execution_count": 56,
     "metadata": {},
     "output_type": "execute_result"
    }
   ],
   "source": [
    "#Missing countries:\n",
    "list1= list(gadm['NAME_0'])\n",
    "list2=list(sdf['countryname'].unique())\n",
    "list(set(list1).difference(list2))"
   ]
  },
  {
   "cell_type": "markdown",
   "metadata": {},
   "source": [
    "#### Create a matrix with the species shared by each country. Next step is done with the above_and_below_countries.ipynb\n",
    "This code is very inneficient.  I was hoping to find something like the scipy.spatial.distance but for count data. Couldn't find and had to do this looping approach. Can probably be fixed\n",
    "```\n",
    "library(reshape2)\n",
    "library(dplyr)\n",
    "d = read.csv(\"NRC_species_data_20200817.csv\")\n",
    "head(d)\n",
    "d_wide =d %>% \n",
    "  select(species, iso3) %>% \n",
    "  dcast(iso3~species, fun.aggregate = length)\n",
    "clean_mat = as.matrix(d_wide[,-1])\n",
    "dimnames(clean_mat)[[1]] = as.character(d_wide$iso3)\n",
    "df1.mt <- as.matrix(t(clean_mat))\n",
    "df1.adj <- t(df1.mt) %*% df1.mt\n",
    "diag(df1.adj)=0\n",
    "```\n"
   ]
  },
  {
   "cell_type": "code",
   "execution_count": 122,
   "metadata": {},
   "outputs": [],
   "source": [
    "### Create empty matrix and make 1 by 1 comparisons.\n",
    "### Loop over country 1 species list and intersect with country 2 species list\n",
    "### Could not find a function like the distance functions that would give me counts, so I had to do this very innefificient approach\n",
    "\n",
    "#super ineficient code 11:44 - 12:15\n",
    "import numpy\n",
    "country_list = list(sdf['countryname'].unique())\n",
    "\n",
    "# create empty matrix 249 x 249\n",
    "mat = numpy.zeros(shape=(249,249))\n",
    "\n",
    "for a in range(0,249):\n",
    "    for b in range(0,249):\n",
    "        mat[a][b] =len(set(list(sdf[sdf['countryname']==country_list[a]]['species'].unique()) ).intersection(list(sdf[sdf['countryname']==country_list[b]]['species'].unique())))\n",
    "\n",
    "df =pd.DataFrame(\n",
    "    mat,\n",
    "    columns = country_list,\n",
    "    index = country_list\n",
    ")"
   ]
  },
  {
   "cell_type": "code",
   "execution_count": 126,
   "metadata": {},
   "outputs": [
    {
     "data": {
      "text/html": [
       "<div>\n",
       "<style scoped>\n",
       "    .dataframe tbody tr th:only-of-type {\n",
       "        vertical-align: middle;\n",
       "    }\n",
       "\n",
       "    .dataframe tbody tr th {\n",
       "        vertical-align: top;\n",
       "    }\n",
       "\n",
       "    .dataframe thead th {\n",
       "        text-align: right;\n",
       "    }\n",
       "</style>\n",
       "<table border=\"1\" class=\"dataframe\">\n",
       "  <thead>\n",
       "    <tr style=\"text-align: right;\">\n",
       "      <th></th>\n",
       "      <th>Afghanistan</th>\n",
       "      <th>Akrotiri and Dhekelia</th>\n",
       "      <th>Albania</th>\n",
       "      <th>Algeria</th>\n",
       "      <th>Andorra</th>\n",
       "      <th>American Samoa</th>\n",
       "      <th>Angola</th>\n",
       "      <th>Anguilla</th>\n",
       "      <th>Argentina</th>\n",
       "      <th>Antigua and Barbuda</th>\n",
       "      <th>...</th>\n",
       "      <th>United States Minor Outlying Islands</th>\n",
       "      <th>Uzbekistan</th>\n",
       "      <th>Venezuela</th>\n",
       "      <th>Vanuatu</th>\n",
       "      <th>Vietnam</th>\n",
       "      <th>Virgin Islands, U.S.</th>\n",
       "      <th>Wallis and Futuna</th>\n",
       "      <th>Yemen</th>\n",
       "      <th>Zambia</th>\n",
       "      <th>Zimbabwe</th>\n",
       "    </tr>\n",
       "  </thead>\n",
       "  <tbody>\n",
       "    <tr>\n",
       "      <th>Afghanistan</th>\n",
       "      <td>664.0</td>\n",
       "      <td>93.0</td>\n",
       "      <td>187.0</td>\n",
       "      <td>202.0</td>\n",
       "      <td>147.0</td>\n",
       "      <td>1.0</td>\n",
       "      <td>64.0</td>\n",
       "      <td>11.0</td>\n",
       "      <td>14.0</td>\n",
       "      <td>10.0</td>\n",
       "      <td>...</td>\n",
       "      <td>4.0</td>\n",
       "      <td>381.0</td>\n",
       "      <td>17.0</td>\n",
       "      <td>4.0</td>\n",
       "      <td>154.0</td>\n",
       "      <td>16.0</td>\n",
       "      <td>0.0</td>\n",
       "      <td>128.0</td>\n",
       "      <td>63.0</td>\n",
       "      <td>63.0</td>\n",
       "    </tr>\n",
       "    <tr>\n",
       "      <th>Akrotiri and Dhekelia</th>\n",
       "      <td>93.0</td>\n",
       "      <td>163.0</td>\n",
       "      <td>122.0</td>\n",
       "      <td>120.0</td>\n",
       "      <td>99.0</td>\n",
       "      <td>1.0</td>\n",
       "      <td>22.0</td>\n",
       "      <td>5.0</td>\n",
       "      <td>10.0</td>\n",
       "      <td>6.0</td>\n",
       "      <td>...</td>\n",
       "      <td>1.0</td>\n",
       "      <td>93.0</td>\n",
       "      <td>8.0</td>\n",
       "      <td>3.0</td>\n",
       "      <td>39.0</td>\n",
       "      <td>11.0</td>\n",
       "      <td>0.0</td>\n",
       "      <td>39.0</td>\n",
       "      <td>24.0</td>\n",
       "      <td>22.0</td>\n",
       "    </tr>\n",
       "    <tr>\n",
       "      <th>Albania</th>\n",
       "      <td>187.0</td>\n",
       "      <td>122.0</td>\n",
       "      <td>398.0</td>\n",
       "      <td>215.0</td>\n",
       "      <td>239.0</td>\n",
       "      <td>1.0</td>\n",
       "      <td>68.0</td>\n",
       "      <td>15.0</td>\n",
       "      <td>18.0</td>\n",
       "      <td>15.0</td>\n",
       "      <td>...</td>\n",
       "      <td>3.0</td>\n",
       "      <td>197.0</td>\n",
       "      <td>20.0</td>\n",
       "      <td>4.0</td>\n",
       "      <td>91.0</td>\n",
       "      <td>21.0</td>\n",
       "      <td>0.0</td>\n",
       "      <td>71.0</td>\n",
       "      <td>69.0</td>\n",
       "      <td>64.0</td>\n",
       "    </tr>\n",
       "    <tr>\n",
       "      <th>Algeria</th>\n",
       "      <td>202.0</td>\n",
       "      <td>120.0</td>\n",
       "      <td>215.0</td>\n",
       "      <td>516.0</td>\n",
       "      <td>202.0</td>\n",
       "      <td>2.0</td>\n",
       "      <td>113.0</td>\n",
       "      <td>19.0</td>\n",
       "      <td>24.0</td>\n",
       "      <td>21.0</td>\n",
       "      <td>...</td>\n",
       "      <td>3.0</td>\n",
       "      <td>190.0</td>\n",
       "      <td>29.0</td>\n",
       "      <td>6.0</td>\n",
       "      <td>102.0</td>\n",
       "      <td>27.0</td>\n",
       "      <td>1.0</td>\n",
       "      <td>152.0</td>\n",
       "      <td>112.0</td>\n",
       "      <td>106.0</td>\n",
       "    </tr>\n",
       "    <tr>\n",
       "      <th>Andorra</th>\n",
       "      <td>147.0</td>\n",
       "      <td>99.0</td>\n",
       "      <td>239.0</td>\n",
       "      <td>202.0</td>\n",
       "      <td>305.0</td>\n",
       "      <td>2.0</td>\n",
       "      <td>61.0</td>\n",
       "      <td>15.0</td>\n",
       "      <td>19.0</td>\n",
       "      <td>14.0</td>\n",
       "      <td>...</td>\n",
       "      <td>2.0</td>\n",
       "      <td>152.0</td>\n",
       "      <td>21.0</td>\n",
       "      <td>5.0</td>\n",
       "      <td>80.0</td>\n",
       "      <td>20.0</td>\n",
       "      <td>1.0</td>\n",
       "      <td>59.0</td>\n",
       "      <td>59.0</td>\n",
       "      <td>55.0</td>\n",
       "    </tr>\n",
       "  </tbody>\n",
       "</table>\n",
       "<p>5 rows × 249 columns</p>\n",
       "</div>"
      ],
      "text/plain": [
       "                       Afghanistan  Akrotiri and Dhekelia  Albania  Algeria  \\\n",
       "Afghanistan                  664.0                   93.0    187.0    202.0   \n",
       "Akrotiri and Dhekelia         93.0                  163.0    122.0    120.0   \n",
       "Albania                      187.0                  122.0    398.0    215.0   \n",
       "Algeria                      202.0                  120.0    215.0    516.0   \n",
       "Andorra                      147.0                   99.0    239.0    202.0   \n",
       "\n",
       "                       Andorra  American Samoa  Angola  Anguilla  Argentina  \\\n",
       "Afghanistan              147.0             1.0    64.0      11.0       14.0   \n",
       "Akrotiri and Dhekelia     99.0             1.0    22.0       5.0       10.0   \n",
       "Albania                  239.0             1.0    68.0      15.0       18.0   \n",
       "Algeria                  202.0             2.0   113.0      19.0       24.0   \n",
       "Andorra                  305.0             2.0    61.0      15.0       19.0   \n",
       "\n",
       "                       Antigua and Barbuda  ...  \\\n",
       "Afghanistan                           10.0  ...   \n",
       "Akrotiri and Dhekelia                  6.0  ...   \n",
       "Albania                               15.0  ...   \n",
       "Algeria                               21.0  ...   \n",
       "Andorra                               14.0  ...   \n",
       "\n",
       "                       United States Minor Outlying Islands  Uzbekistan  \\\n",
       "Afghanistan                                             4.0       381.0   \n",
       "Akrotiri and Dhekelia                                   1.0        93.0   \n",
       "Albania                                                 3.0       197.0   \n",
       "Algeria                                                 3.0       190.0   \n",
       "Andorra                                                 2.0       152.0   \n",
       "\n",
       "                       Venezuela  Vanuatu  Vietnam  Virgin Islands, U.S.  \\\n",
       "Afghanistan                 17.0      4.0    154.0                  16.0   \n",
       "Akrotiri and Dhekelia        8.0      3.0     39.0                  11.0   \n",
       "Albania                     20.0      4.0     91.0                  21.0   \n",
       "Algeria                     29.0      6.0    102.0                  27.0   \n",
       "Andorra                     21.0      5.0     80.0                  20.0   \n",
       "\n",
       "                       Wallis and Futuna  Yemen  Zambia  Zimbabwe  \n",
       "Afghanistan                          0.0  128.0    63.0      63.0  \n",
       "Akrotiri and Dhekelia                0.0   39.0    24.0      22.0  \n",
       "Albania                              0.0   71.0    69.0      64.0  \n",
       "Algeria                              1.0  152.0   112.0     106.0  \n",
       "Andorra                              1.0   59.0    59.0      55.0  \n",
       "\n",
       "[5 rows x 249 columns]"
      ]
     },
     "execution_count": 126,
     "metadata": {},
     "output_type": "execute_result"
    }
   ],
   "source": [
    "df.head()"
   ]
  },
  {
   "cell_type": "code",
   "execution_count": 166,
   "metadata": {},
   "outputs": [],
   "source": [
    "df.reset_index(inplace=True)\n",
    "df= df.rename(columns={'Unnamed: 0':'Country_index'})\n",
    "# Save local copy\n",
    "df3.to_csv('stewardship_matrix.csv',index=False)"
   ]
  },
  {
   "cell_type": "markdown",
   "metadata": {},
   "source": [
    "#### Upload as csv to arcgis and share with Vizzuality dev"
   ]
  },
  {
   "cell_type": "code",
   "execution_count": 167,
   "metadata": {},
   "outputs": [],
   "source": [
    "group_id='46783c33c294485abe83f5e899c2f21f' #Vizzuality Development Group"
   ]
  },
  {
   "cell_type": "code",
   "execution_count": 168,
   "metadata": {},
   "outputs": [],
   "source": [
    "csv_file = 'stewardship_matrix.csv'\n",
    "csv_item = gis.content.add({}, csv_file)"
   ]
  },
  {
   "cell_type": "code",
   "execution_count": 169,
   "metadata": {},
   "outputs": [
    {
     "data": {
      "text/html": [
       "<div class=\"item_container\" style=\"height: auto; overflow: hidden; border: 1px solid #cfcfcf; border-radius: 2px; background: #f6fafa; line-height: 1.21429em; padding: 10px;\">\n",
       "                    <div class=\"item_left\" style=\"width: 210px; float: left;\">\n",
       "                       <a href='https://eowilson.maps.arcgis.com/home/item.html?id=4e528e708344487f9d60c71728c45914' target='_blank'>\n",
       "                        <img src='http://static.arcgis.com/images/desktopapp.png' class=\"itemThumbnail\">\n",
       "                       </a>\n",
       "                    </div>\n",
       "\n",
       "                    <div class=\"item_right\"     style=\"float: none; width: auto; overflow: hidden;\">\n",
       "                        <a href='https://eowilson.maps.arcgis.com/home/item.html?id=4e528e708344487f9d60c71728c45914' target='_blank'><b>stewardship_matrix</b>\n",
       "                        </a>\n",
       "                        <br/><img src='https://eowilson.maps.arcgis.com/home/js/jsapi/esri/css/images/item_type_icons/layers16.png' style=\"vertical-align:middle;\">CSV by tamara.huete_eowilson\n",
       "                        <br/>Last Modified: August 13, 2020\n",
       "                        <br/>0 comments, 0 views\n",
       "                    </div>\n",
       "                </div>\n",
       "                "
      ],
      "text/plain": [
       "<Item title:\"stewardship_matrix\" type:CSV owner:tamara.huete_eowilson>"
      ]
     },
     "metadata": {},
     "output_type": "display_data"
    }
   ],
   "source": [
    "display(csv_item)"
   ]
  },
  {
   "cell_type": "code",
   "execution_count": 170,
   "metadata": {},
   "outputs": [],
   "source": [
    "csv_lyr = csv_item.publish(None)"
   ]
  },
  {
   "cell_type": "code",
   "execution_count": 173,
   "metadata": {},
   "outputs": [
    {
     "data": {
      "text/plain": [
       "{'results': [{'itemId': '61cdbe0a92774f98b1ddaf3d3d3a1537',\n",
       "   'success': True,\n",
       "   'notSharedWith': ['']}]}"
      ]
     },
     "execution_count": 173,
     "metadata": {},
     "output_type": "execute_result"
    }
   ],
   "source": [
    "csv_lyr.share(everyone=False, org=False, groups=[group_id], allow_members_to_edit=False)"
   ]
  },
  {
   "cell_type": "code",
   "execution_count": 174,
   "metadata": {},
   "outputs": [
    {
     "ename": "TypeError",
     "evalue": "'dict' object is not callable",
     "output_type": "error",
     "traceback": [
      "\u001b[0;31m---------------------------------------------------------------------------\u001b[0m",
      "\u001b[0;31mTypeError\u001b[0m                                 Traceback (most recent call last)",
      "\u001b[0;32m<ipython-input-174-0201743a3282>\u001b[0m in \u001b[0;36m<module>\u001b[0;34m\u001b[0m\n\u001b[0;32m----> 1\u001b[0;31m \u001b[0mcsv_lyr\u001b[0m\u001b[0;34m.\u001b[0m\u001b[0mshared_with\u001b[0m\u001b[0;34m(\u001b[0m\u001b[0;34m)\u001b[0m\u001b[0;34m\u001b[0m\u001b[0;34m\u001b[0m\u001b[0m\n\u001b[0m",
      "\u001b[0;31mTypeError\u001b[0m: 'dict' object is not callable"
     ]
    }
   ],
   "source": [
    "csv_lyr.shared_with() ## Not working...?"
   ]
  },
  {
   "cell_type": "code",
   "execution_count": null,
   "metadata": {},
   "outputs": [],
   "source": []
  }
 ],
 "metadata": {
  "kernelspec": {
   "display_name": "Python 3",
   "language": "python",
   "name": "python3"
  },
  "language_info": {
   "codemirror_mode": {
    "name": "ipython",
    "version": 3
   },
   "file_extension": ".py",
   "mimetype": "text/x-python",
   "name": "python",
   "nbconvert_exporter": "python",
   "pygments_lexer": "ipython3",
   "version": "3.8.3"
  }
 },
 "nbformat": 4,
 "nbformat_minor": 4
}
