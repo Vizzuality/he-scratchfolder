{
 "cells": [
  {
   "cell_type": "markdown",
   "metadata": {},
   "source": [
    "# Check publication\n",
    "When publishing a service there are several things to check. \n",
    "1. the deletion protection should be enabled\n",
    "2. check the shared options (public for tile services, whitelisted for feature services)\n",
    "3. check the visibility of the service (zoom levels)\n",
    "4. check the spatial reference"
   ]
  },
  {
   "cell_type": "code",
   "execution_count": 1,
   "metadata": {},
   "outputs": [],
   "source": [
    "import re\n",
    "def create_strict_reg_exp(to_search):\n",
    "    try:\n",
    "        reg_exp = f\"^{to_search}$\"\n",
    "        #logging.info(f\"regular expression is: {reg_exp}\")\n",
    "    except:\n",
    "        print(\"There was a problem with the string.\")\n",
    "    return reg_exp"
   ]
  },
  {
   "cell_type": "code",
   "execution_count": 2,
   "metadata": {},
   "outputs": [],
   "source": [
    "def findItemGetID(csvName, gis, item_type = \"Feature Layer\"):\n",
    "    try:\n",
    "        searched_item = gis.content.search(csvName, item_type = item_type)\n",
    "        for i in searched_item:\n",
    "            reg_exp = create_strict_reg_exp(csvName)\n",
    "            if re.search(reg_exp, i.title)!= None:    \n",
    "                #logging.info(f\"{csvName} has the id: {i.id}\")\n",
    "                return i.id\n",
    "    except:\n",
    "        print(\"There was a problem finding the item\")"
   ]
  },
  {
   "cell_type": "code",
   "execution_count": 3,
   "metadata": {},
   "outputs": [],
   "source": [
    "import arcgis\n",
    "from arcgis.gis import GIS\n",
    "import requests\n",
    "import pandas as pd"
   ]
  },
  {
   "cell_type": "code",
   "execution_count": 4,
   "metadata": {},
   "outputs": [],
   "source": [
    "gis = GIS(profile = \"eowilson\")"
   ]
  },
  {
   "cell_type": "markdown",
   "metadata": {},
   "source": [
    "# search by name of service"
   ]
  },
  {
   "cell_type": "code",
   "execution_count": 5,
   "metadata": {},
   "outputs": [],
   "source": [
    "searched_item = gis.content.search(\"Putative_PA_network\", item_type = \"Map Image Layer\")"
   ]
  },
  {
   "cell_type": "code",
   "execution_count": 30,
   "metadata": {},
   "outputs": [
    {
     "name": "stdout",
     "output_type": "stream",
     "text": [
      "Putative_PA_network_PR_rept\n",
      "Putative_PA_network_PR_bird\n",
      "Putative_PA_network_PR_all\n",
      "putative_pa_ranked_global\n",
      "Putative_PA_network_PR_mamm\n",
      "Putative_PA_network_PR_amph\n",
      "['Putative_PA_network_PR_rept', 'Putative_PA_network_PR_bird', 'Putative_PA_network_PR_all', 'Putative_PA_network_PR_mamm', 'Putative_PA_network_PR_amph']\n"
     ]
    }
   ],
   "source": [
    "item_list = list()\n",
    "for s in searched_item:\n",
    "    print(s.name)\n",
    "    item_list.append(s.name)\n",
    "del item_list[3]\n",
    "print(item_list)"
   ]
  },
  {
   "cell_type": "code",
   "execution_count": 45,
   "metadata": {},
   "outputs": [
    {
     "name": "stdout",
     "output_type": "stream",
     "text": [
      "name: Putative_PA_network_PR_rept\n",
      "name: greta.carrete_eowilson\n",
      "url: https://tiles.arcgis.com/tiles/IkktFdUAcY3WrH25/arcgis/rest/services/Putative_PA_network_PR_rept/MapServer\n",
      "delete protection enabled: True\n",
      "share level: public\n",
      "maxScale: 0.0\n",
      "minScale: 591657527.591555\n",
      "spatial reference: {'wkid': 102100, 'latestWkid': 3857}\n",
      "-------\n",
      "name: Putative_PA_network_PR_bird\n",
      "name: greta.carrete_eowilson\n",
      "url: https://tiles.arcgis.com/tiles/IkktFdUAcY3WrH25/arcgis/rest/services/Putative_PA_network_PR_bird/MapServer\n",
      "delete protection enabled: True\n",
      "share level: public\n",
      "maxScale: 0.0\n",
      "minScale: 591657527.591555\n",
      "spatial reference: {'wkid': 102100, 'latestWkid': 3857}\n",
      "-------\n",
      "name: Putative_PA_network_PR_all\n",
      "name: greta.carrete_eowilson\n",
      "url: https://tiles.arcgis.com/tiles/IkktFdUAcY3WrH25/arcgis/rest/services/Putative_PA_network_PR_all/MapServer\n",
      "delete protection enabled: True\n",
      "share level: public\n",
      "maxScale: 0.0\n",
      "minScale: 591657527.591555\n",
      "spatial reference: {'wkid': 102100, 'latestWkid': 3857}\n",
      "-------\n",
      "name: Putative_PA_network_PR_mamm\n",
      "name: greta.carrete_eowilson\n",
      "url: https://tiles.arcgis.com/tiles/IkktFdUAcY3WrH25/arcgis/rest/services/Putative_PA_network_PR_mamm/MapServer\n",
      "delete protection enabled: True\n",
      "share level: public\n",
      "maxScale: 0.0\n",
      "minScale: 591657527.591555\n",
      "spatial reference: {'wkid': 102100, 'latestWkid': 3857}\n",
      "-------\n",
      "name: Putative_PA_network_PR_amph\n",
      "name: greta.carrete_eowilson\n",
      "url: https://tiles.arcgis.com/tiles/IkktFdUAcY3WrH25/arcgis/rest/services/Putative_PA_network_PR_amph/MapServer\n",
      "delete protection enabled: True\n",
      "share level: public\n",
      "maxScale: 0.0\n",
      "minScale: 591657527.591555\n",
      "spatial reference: {'wkid': 102100, 'latestWkid': 3857}\n",
      "-------\n"
     ]
    }
   ],
   "source": [
    "for item in item_list:\n",
    "    a = findItemGetID(item, gis, item_type = \"Map Image Layer\")\n",
    "    g_item = gis.content.get(a)\n",
    "    request = requests.get(g_item.url + '?f=pjson&token={}'.format(gis._con.token))\n",
    "    service_layer_json =  request.json()\n",
    "    print(f\"name: {g_item.name}\")\n",
    "    print(f\"name: {g_item.owner}\")\n",
    "    print(f\"url: {g_item.url}\")\n",
    "    print(f\"delete protection enabled: {g_item.protected}\")\n",
    "    print(f\"share level: {g_item.access}\")\n",
    "    print(f\"maxScale: {service_layer_json['maxScale']}\")\n",
    "    print(f\"minScale: {service_layer_json['minScale']}\")\n",
    "    print(f\"spatial reference: {service_layer_json['spatialReference']}\")\n",
    "    #print(f\"levels of tiles: {len(service_layer_json['tileInfo']['lods'])}\") # this is not useful for reviewing. \n",
    "    print(\"-------\")"
   ]
  },
  {
   "cell_type": "markdown",
   "metadata": {},
   "source": [
    "# Searching by urls in csv"
   ]
  },
  {
   "cell_type": "code",
   "execution_count": 5,
   "metadata": {},
   "outputs": [],
   "source": [
    "csv_file = \"/Users/gretacvega/Documents/GitHub/he-scratchfolder/items_to_check.csv\""
   ]
  },
  {
   "cell_type": "code",
   "execution_count": 6,
   "metadata": {},
   "outputs": [],
   "source": [
    "item_df = pd.read_csv(csv_file, header=None)"
   ]
  },
  {
   "cell_type": "code",
   "execution_count": 7,
   "metadata": {},
   "outputs": [
    {
     "data": {
      "text/plain": [
       "(9, 1)"
      ]
     },
     "execution_count": 7,
     "metadata": {},
     "output_type": "execute_result"
    }
   ],
   "source": [
    "item_df.shape"
   ]
  },
  {
   "cell_type": "code",
   "execution_count": 8,
   "metadata": {},
   "outputs": [],
   "source": [
    "url_list = item_df[0].tolist()"
   ]
  },
  {
   "cell_type": "code",
   "execution_count": 10,
   "metadata": {},
   "outputs": [
    {
     "data": {
      "text/plain": [
       "['https://eowilson.maps.arcgis.com/home/item.html?id=a82e287b45a64fe680ea45c61f609204',\n",
       " 'https://eowilson.maps.arcgis.com/home/item.html?id=b510034983154975bb1d8cb362eed875',\n",
       " 'https://eowilson.maps.arcgis.com/home/item.html?id=b92cf2914cba4b97bb28ae4328484a6d',\n",
       " 'https://eowilson.maps.arcgis.com/home/item.html?id=7bc7a9e9020a4411b2753a2f6ec3b735',\n",
       " 'https://eowilson.maps.arcgis.com/home/item.html?id=698574dd82954165a23123bcee005fb0',\n",
       " 'https://eowilson.maps.arcgis.com/home/item.html?id=9c48069afd1b454dbc45fc7fbd16ffdc',\n",
       " 'https://eowilson.maps.arcgis.com/home/item.html?id=10fb899e16f24517a35f264283306e7f',\n",
       " 'https://eowilson.maps.arcgis.com/home/item.html?id=c279e7dfd2bd4b57bdfc1d547f51bdfd',\n",
       " 'https://eowilson.maps.arcgis.com/home/item.html?id=d0a129782ee540358ba55b7c514e2bf2']"
      ]
     },
     "execution_count": 10,
     "metadata": {},
     "output_type": "execute_result"
    }
   ],
   "source": [
    "url_list"
   ]
  },
  {
   "cell_type": "code",
   "execution_count": 9,
   "metadata": {},
   "outputs": [
    {
     "name": "stdout",
     "output_type": "stream",
     "text": [
      "name: rarity_marine_mammals_and_fish\n",
      "name: greta.carrete_eowilson\n",
      "url: https://tiles.arcgis.com/tiles/IkktFdUAcY3WrH25/arcgis/rest/services/rarity_marine_mammals_and_fish/MapServer\n",
      "delete protection enabled: True\n",
      "share level: public\n",
      "maxScale: 0.0\n",
      "minScale: 591657527.591555\n",
      "spatial reference: {'wkid': 102100, 'latestWkid': 3857}\n",
      "-------\n",
      "name: richness_marine_mammals_and_fish\n",
      "name: greta.carrete_eowilson\n",
      "url: https://tiles.arcgis.com/tiles/IkktFdUAcY3WrH25/arcgis/rest/services/richness_marine_mammals_and_fish/MapServer\n",
      "delete protection enabled: True\n",
      "share level: public\n",
      "maxScale: 0.0\n",
      "minScale: 591657527.591555\n",
      "spatial reference: {'wkid': 102100, 'latestWkid': 3857}\n",
      "-------\n",
      "name: Global_marine_mammals_prioritisation_TL\n",
      "name: greta.carrete_eowilson\n",
      "url: https://tiles.arcgis.com/tiles/IkktFdUAcY3WrH25/arcgis/rest/services/Global_marine_mammals_prioritisation_TL/MapServer\n",
      "delete protection enabled: True\n",
      "share level: public\n",
      "maxScale: 1155581.108577\n",
      "minScale: 591657527.591555\n",
      "spatial reference: {'wkid': 102100, 'latestWkid': 3857}\n",
      "-------\n",
      "name: Global_marine_fish_prioritisation_TL\n",
      "name: greta.carrete_eowilson\n",
      "url: https://tiles.arcgis.com/tiles/IkktFdUAcY3WrH25/arcgis/rest/services/Global_marine_fish_prioritisation_TL/MapServer\n",
      "delete protection enabled: True\n",
      "share level: public\n",
      "maxScale: 1155581.108577\n",
      "minScale: 591657527.591555\n",
      "spatial reference: {'wkid': 102100, 'latestWkid': 3857}\n",
      "-------\n",
      "name: Global_marine_fish_and_mammals_prioritisation_TL\n",
      "name: greta.carrete_eowilson\n",
      "url: https://tiles.arcgis.com/tiles/IkktFdUAcY3WrH25/arcgis/rest/services/Global_marine_fish_and_mammals_prioritisation_TL/MapServer\n",
      "delete protection enabled: True\n",
      "share level: public\n",
      "maxScale: 0.0\n",
      "minScale: 591657527.591555\n",
      "spatial reference: {'wkid': 102100, 'latestWkid': 3857}\n",
      "-------\n",
      "name: marine_mammals_rich_55km\n",
      "name: greta.carrete_eowilson\n",
      "url: https://tiles.arcgis.com/tiles/IkktFdUAcY3WrH25/arcgis/rest/services/marine_mammals_rich_55km/MapServer\n",
      "delete protection enabled: True\n",
      "share level: public\n",
      "maxScale: 0.0\n",
      "minScale: 591657527.591555\n",
      "spatial reference: {'wkid': 102100, 'latestWkid': 3857}\n",
      "-------\n",
      "name: marine_mammals_rar_55km\n",
      "name: greta.carrete_eowilson\n",
      "url: https://tiles.arcgis.com/tiles/IkktFdUAcY3WrH25/arcgis/rest/services/marine_mammals_rar_55km/MapServer\n",
      "delete protection enabled: True\n",
      "share level: public\n",
      "maxScale: 0.0\n",
      "minScale: 591657527.591555\n",
      "spatial reference: {'wkid': 102100, 'latestWkid': 3857}\n",
      "-------\n",
      "name: rar_all_percentile\n",
      "name: greta.carrete_eowilson\n",
      "url: https://tiles.arcgis.com/tiles/IkktFdUAcY3WrH25/arcgis/rest/services/rar_all_percentile/MapServer\n",
      "delete protection enabled: True\n",
      "share level: private\n",
      "update sharing levels to public: https://eowilson.maps.arcgis.com/home/item.html?id=c279e7dfd2bd4b57bdfc1d547f51bdfd\n",
      "maxScale: 0.0\n",
      "minScale: 591657527.591555\n",
      "spatial reference: {'wkid': 102100, 'latestWkid': 3857}\n",
      "-------\n",
      "name: Rich_all_percentile\n",
      "name: greta.carrete_eowilson\n",
      "url: https://tiles.arcgis.com/tiles/IkktFdUAcY3WrH25/arcgis/rest/services/Rich_all_percentile/MapServer\n",
      "delete protection enabled: True\n",
      "share level: public\n",
      "maxScale: 0.0\n",
      "minScale: 591657527.591555\n",
      "spatial reference: {'wkid': 102100, 'latestWkid': 3857}\n",
      "-------\n"
     ]
    }
   ],
   "source": [
    "for item in url_list:\n",
    "    a = item[-32:]\n",
    "    g_item = gis.content.get(a)\n",
    "    request = requests.get(g_item.url + '?f=pjson&token={}'.format(gis._con.token))\n",
    "    service_layer_json =  request.json()\n",
    "    print(f\"name: {g_item.name}\")\n",
    "    print(f\"name: {g_item.owner}\")\n",
    "    print(f\"url: {g_item.url}\")\n",
    "    print(f\"delete protection enabled: {g_item.protected}\")\n",
    "    if g_item.protected != True:\n",
    "        print(f\"check settings and enable prtection deletion: {item}\")\n",
    "    print(f\"share level: {g_item.access}\")\n",
    "    if g_item.access!=\"public\":\n",
    "        print(f\"update sharing levels to public: {item}\")\n",
    "    print(f\"maxScale: {service_layer_json['maxScale']}\")\n",
    "    print(f\"minScale: {service_layer_json['minScale']}\")\n",
    "    if service_layer_json['minScale']!=591657527.591555:\n",
    "        print(f\"check settings and visibility: {item}\")\n",
    "    print(f\"spatial reference: {service_layer_json['spatialReference']}\")\n",
    "    #print(f\"levels of tiles: {len(service_layer_json['tileInfo']['lods'])}\") # this is not useful for reviewing. \n",
    "    print(\"-------\")"
   ]
  },
  {
   "cell_type": "markdown",
   "metadata": {},
   "source": [
    "# Defining function"
   ]
  },
  {
   "cell_type": "code",
   "execution_count": 32,
   "metadata": {},
   "outputs": [],
   "source": [
    "import requests\n",
    "import json\n",
    "def service_qa_tiles(item_name, gis, item_type = \"Map Image Layer\"):\n",
    "    a = findItemGetID(item_name, gis, item_type)\n",
    "    g_item = gis.content.get(a)\n",
    "    request = requests.get(g_item.url + '?f=pjson&token={}'.format(gis._con.token))\n",
    "    service_layer_json =  request.json()\n",
    "    print(f\"name: {g_item.name}\")\n",
    "    print(f\"url: {g_item.url}\")\n",
    "    print(f\"delete protection enabled: {g_item.protected}\")\n",
    "    print(f\"share level: {g_item.access}\")\n",
    "    print(f\"maxScale: {service_layer_json['maxScale']}\")\n",
    "    print(f\"minScale: {service_layer_json['minScale']}\")\n",
    "    print(f\"spatial reference: {service_layer_json['spatialReference']}\")\n",
    "    #print(f\"levels of tiles: {len(service_layer_json['tileInfo']['lods'])}\") # this is not useful for reviewing. \n",
    "    print(\"-------\")"
   ]
  },
  {
   "cell_type": "code",
   "execution_count": 33,
   "metadata": {},
   "outputs": [
    {
     "name": "stdout",
     "output_type": "stream",
     "text": [
      "name: Prioritisation_for_national_report_cards\n",
      "url: https://tiles.arcgis.com/tiles/IkktFdUAcY3WrH25/arcgis/rest/services/Prioritisation_for_national_report_cards/MapServer\n",
      "delete protection enabled: True\n",
      "share level: public\n",
      "maxScale: 0.0\n",
      "minScale: 591657527.591555\n",
      "spatial reference: {'wkid': 102100, 'latestWkid': 3857}\n",
      "-------\n"
     ]
    }
   ],
   "source": [
    "service_qa_tiles(\"Prioritisation_for_national_report_cards\", gis)"
   ]
  },
  {
   "cell_type": "code",
   "execution_count": 34,
   "metadata": {},
   "outputs": [],
   "source": [
    "searched_item = gis.content.search(\"title:Global Species Patterns\", item_type = \"Map Image Layer\", max_items=50)"
   ]
  },
  {
   "cell_type": "code",
   "execution_count": 41,
   "metadata": {},
   "outputs": [],
   "source": [
    "import requests\n",
    "import json\n",
    "def service_url(item_name, gis, item_type = \"Map Image Layer\"):\n",
    "    try:\n",
    "        print(item_name)\n",
    "        a = findItemGetID(item_name, gis, item_type)\n",
    "        g_item = gis.content.get(a)\n",
    "\n",
    "        request = requests.get(g_item.url + '?f=pjson&token={}'.format(gis._con.token))\n",
    "        service_layer_json =  request.json()\n",
    "        print(f\"name: {g_item.title}\")\n",
    "        print(f\"name: {g_item.name}\")\n",
    "        print(f\"name: {g_item.owner}\")\n",
    "        print(f\"url: {g_item.url}\")\n",
    "        print(f\"delete protection enabled: {g_item.protected}\")\n",
    "        print(f\"share level: {g_item.access}\")\n",
    "        print(f\"spatial reference: {g_item.spatialReference}\")\n",
    "        #print(f\"maxScale: {service_layer_json['maxScale']}\")\n",
    "        #print(f\"minScale: {service_layer_json['minScale']}\")\n",
    "        #print(f\"levels of tiles: {len(service_layer_json['tileInfo']['lods'])}\") # this is not useful for reviewing. \n",
    "        print(\"-------\")\n",
    "    except:\n",
    "        print(\"failed\")\n",
    "        print(\"-------\")"
   ]
  },
  {
   "cell_type": "code",
   "execution_count": 42,
   "metadata": {},
   "outputs": [
    {
     "name": "stdout",
     "output_type": "stream",
     "text": [
      "Global Terrestrial Species Richness Patterns for Select Taxa\n",
      "name: Global Terrestrial Species Richness Patterns for Select Taxa\n",
      "name: all_richness\n",
      "name: wendy_eowilson\n",
      "url: https://tiles.arcgis.com/tiles/IkktFdUAcY3WrH25/arcgis/rest/services/all_richness/MapServer\n",
      "delete protection enabled: False\n",
      "share level: shared\n",
      "spatial reference: 4326\n",
      "-------\n",
      "Global Species Richness Patterns for Cacti [DEPRECATED]\n",
      "failed\n",
      "-------\n",
      "Global Species Rarity Patterns for Cacti [DEPRECATED]\n",
      "failed\n",
      "-------\n",
      "Global Species Richness Patterns for Conifers [DEPRECATED]\n",
      "failed\n",
      "-------\n",
      "Global Species Richness Patterns for Conifers [DEPRECATED]\n",
      "failed\n",
      "-------\n",
      "Global Marine Species Rarity (55km)\n",
      "failed\n",
      "-------\n",
      "Global Reptile Species Rarity (55km)\n",
      "failed\n",
      "-------\n",
      "Global Conifer Species Rarity (55km)\n",
      "failed\n",
      "-------\n",
      "Conservation Prioritization for Global Marine Fish Species (55km)\n",
      "failed\n",
      "-------\n",
      "Global Bird Species Rarity (55km)\n",
      "failed\n",
      "-------\n",
      "Global Terrestrial Species Richness (55km)\n",
      "failed\n",
      "-------\n",
      "Global Amphibian Species Rarity (55km)\n",
      "failed\n",
      "-------\n",
      "Global Cactus Species Richness (55km)\n",
      "failed\n",
      "-------\n",
      "Global Reptile Species Richness (55km)\n",
      "failed\n",
      "-------\n",
      "Global Bird Species Rarity Patterns (55km)\n",
      "failed\n",
      "-------\n",
      "Global Conservation Prioritization for Marine Fishes (55km)\n",
      "failed\n",
      "-------\n",
      "Global Terrestrial Species Richness Patterns for Turtles\n",
      "name: Global Terrestrial Species Richness Patterns for Turtles\n",
      "name: None\n",
      "name: wendy_eowilson\n",
      "url: https://utility.arcgis.com/usrsvcs/servers/c201113280834a9ea7b0a15639e5aaa1/rest/services/turtles_richness/MapServer\n",
      "delete protection enabled: True\n",
      "share level: public\n",
      "spatial reference: 102100\n",
      "-------\n",
      "Global Terrestrial Species Rarity Patterns for Select Taxa\n",
      "name: Global Terrestrial Species Rarity Patterns for Select Taxa\n",
      "name: None\n",
      "name: wendy_eowilson\n",
      "url: https://utility.arcgis.com/usrsvcs/servers/1ee94bc415424bde91750ce703b2d8d6/rest/services/all_rarity/MapServer\n",
      "delete protection enabled: True\n",
      "share level: public\n",
      "spatial reference: 102100\n",
      "-------\n",
      "Global Terrestrial Species Richness Patterns for Mammals\n",
      "name: Global Terrestrial Species Richness Patterns for Mammals\n",
      "name: None\n",
      "name: wendy_eowilson\n",
      "url: https://utility.arcgis.com/usrsvcs/servers/11f7eef1d863487091afeade6ed6d918/rest/services/mammals_richness/MapServer\n",
      "delete protection enabled: True\n",
      "share level: public\n",
      "spatial reference: 102100\n",
      "-------\n",
      "Global Reserve Network Prioritization for Terrestrial Vertebrates (55km)\n",
      "failed\n",
      "-------\n",
      "Global Terrestrial Species Richness and Rarity Patterns for Select Taxa\n",
      "failed\n",
      "-------\n",
      "Global Terrestrial Species Rarity Patterns for Mammals\n",
      "name: Global Terrestrial Species Rarity Patterns for Mammals\n",
      "name: None\n",
      "name: wendy_eowilson\n",
      "url: https://utility.arcgis.com/usrsvcs/servers/31951614b11c472f8e327971008d23b2/rest/services/mammals_rarity/MapServer\n",
      "delete protection enabled: True\n",
      "share level: public\n",
      "spatial reference: 102100\n",
      "-------\n",
      "Global Terrestrial Species Richness Patterns for Select Taxa\n",
      "name: Global Terrestrial Species Richness Patterns for Select Taxa\n",
      "name: all_richness\n",
      "name: wendy_eowilson\n",
      "url: https://tiles.arcgis.com/tiles/IkktFdUAcY3WrH25/arcgis/rest/services/all_richness/MapServer\n",
      "delete protection enabled: False\n",
      "share level: shared\n",
      "spatial reference: 4326\n",
      "-------\n",
      "Global Marine Mammal Species Richness (55km)\n",
      "failed\n",
      "-------\n",
      "Global Marine Mammal Rarity (55km)\n",
      "failed\n",
      "-------\n",
      "Global Marine Fish Species Richness (55km)\n",
      "failed\n",
      "-------\n",
      "Global Cactus Species Rarity (55km)\n",
      "failed\n",
      "-------\n",
      "Global Terrestrial Species Rarity (55km)\n",
      "failed\n",
      "-------\n",
      "Global Species Richness Patterns for Hummingbirds [DEPRECATED]\n",
      "failed\n",
      "-------\n",
      "Global Species Richness Patterns for Birds [DEPRECATED]\n",
      "failed\n",
      "-------\n",
      "Global Species Richness Patterns for Cacti [DEPRECATED]\n",
      "failed\n",
      "-------\n",
      "Global Species Richness Patterns for Birds [DEPRECATED]\n",
      "failed\n",
      "-------\n",
      "Global Amphibian Rarity Patterns (55km)\n",
      "failed\n",
      "-------\n",
      "Global Conifer Species Rarity Patterns (55km)\n",
      "failed\n",
      "-------\n",
      "Global Amphibian Species Richness (55km)\n",
      "failed\n",
      "-------\n",
      "Global Species Rarity Patterns for Amphibians [DEPRECATED]\n",
      "failed\n",
      "-------\n",
      "Global Species Rarity Patterns for Hummingbirds\n",
      "name: Global Species Rarity Patterns for Hummingbirds\n",
      "name: Global Species Rarity Patterns for Hummingbirds\n",
      "name: wendy_eowilson\n",
      "url: https://tiles.arcgis.com/tiles/IkktFdUAcY3WrH25/arcgis/rest/services/Global_Species_Rarity_Patterns_for_Hummingbirds/MapServer\n",
      "delete protection enabled: True\n",
      "share level: public\n",
      "spatial reference: 4326\n",
      "-------\n",
      "Global Terrestrial Species Patterns (55km)\n",
      "failed\n",
      "-------\n",
      "Global Cactus Species Rarity Patterns (55km)\n",
      "failed\n",
      "-------\n",
      "Global Conifer Species Richness (55km)\n",
      "failed\n",
      "-------\n",
      "Global Terrestrial Species Richness (55km)\n",
      "failed\n",
      "-------\n",
      "Global Cactus Species Richness (55km)\n",
      "failed\n",
      "-------\n",
      "Global Bird Species Richness (55km)\n",
      "failed\n",
      "-------\n",
      "Global Terrestrial Species Richness Patterns for Mammals\n",
      "name: Global Terrestrial Species Richness Patterns for Mammals\n",
      "name: None\n",
      "name: wendy_eowilson\n",
      "url: https://utility.arcgis.com/usrsvcs/servers/11f7eef1d863487091afeade6ed6d918/rest/services/mammals_richness/MapServer\n",
      "delete protection enabled: True\n",
      "share level: public\n",
      "spatial reference: 102100\n",
      "-------\n",
      "Global Species Rarity Patterns for Conifers [DEPRECATED]\n",
      "failed\n",
      "-------\n",
      "Global Species Rarity Patterns for Birds [DEPRECATED]\n",
      "failed\n",
      "-------\n",
      "Global Marine Species Richness (55km)\n",
      "failed\n",
      "-------\n",
      "Global Mammal Species Richness (55km)\n",
      "failed\n",
      "-------\n",
      "Global Rarity Patterns for Marine Mammals (55km)\n",
      "failed\n",
      "-------\n",
      "Global Richness Patterns for Marine Fishes (55km)\n",
      "failed\n",
      "-------\n"
     ]
    }
   ],
   "source": [
    "for i in searched_item:\n",
    "    \n",
    "    service_url(i.title, gis)"
   ]
  },
  {
   "cell_type": "code",
   "execution_count": null,
   "metadata": {},
   "outputs": [],
   "source": []
  }
 ],
 "metadata": {
  "kernelspec": {
   "display_name": "Python 3",
   "language": "python",
   "name": "python3"
  },
  "language_info": {
   "codemirror_mode": {
    "name": "ipython",
    "version": 3
   },
   "file_extension": ".py",
   "mimetype": "text/x-python",
   "name": "python",
   "nbconvert_exporter": "python",
   "pygments_lexer": "ipython3",
   "version": "3.8.3"
  }
 },
 "nbformat": 4,
 "nbformat_minor": 4
}
