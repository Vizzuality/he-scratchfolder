{
 "cells": [
  {
   "cell_type": "markdown",
   "metadata": {},
   "source": [
    "# Check publication\n",
    "When publishing a service there are several things to check. \n",
    "1. the deletion protection should be enabled\n",
    "2. check the shared options (public for tile services, whitelisted for feature services)\n",
    "3. check the visibility of the service (zoom levels)"
   ]
  },
  {
   "cell_type": "code",
   "execution_count": 1,
   "metadata": {},
   "outputs": [],
   "source": [
    "import re\n",
    "def create_strict_reg_exp(to_search):\n",
    "    try:\n",
    "        reg_exp = f\"^{to_search}$\"\n",
    "        #logging.info(f\"regular expression is: {reg_exp}\")\n",
    "    except:\n",
    "        print(\"There was a problem with the string.\")\n",
    "    return reg_exp"
   ]
  },
  {
   "cell_type": "code",
   "execution_count": 2,
   "metadata": {},
   "outputs": [],
   "source": [
    "def findItemGetID(csvName, gis, item_type = \"Feature Layer\"):\n",
    "    try:\n",
    "        searched_item = gis.content.search(csvName, item_type = item_type)\n",
    "        for i in searched_item:\n",
    "            reg_exp = create_strict_reg_exp(csvName)\n",
    "            if re.search(reg_exp, i.title)!= None:    \n",
    "                #logging.info(f\"{csvName} has the id: {i.id}\")\n",
    "                return i.id\n",
    "    except:\n",
    "        print(\"There was a problem finding the item\")"
   ]
  },
  {
   "cell_type": "code",
   "execution_count": 3,
   "metadata": {},
   "outputs": [],
   "source": [
    "import arcgis\n",
    "from arcgis.gis import GIS"
   ]
  },
  {
   "cell_type": "code",
   "execution_count": 4,
   "metadata": {},
   "outputs": [],
   "source": [
    "gis = GIS(profile = \"eowilson\")"
   ]
  },
  {
   "cell_type": "code",
   "execution_count": 28,
   "metadata": {},
   "outputs": [],
   "source": [
    "searched_item = gis.content.search(\"Putative_PA_network\", item_type = \"Map Image Layer\")"
   ]
  },
  {
   "cell_type": "code",
   "execution_count": 41,
   "metadata": {},
   "outputs": [
    {
     "name": "stdout",
     "output_type": "stream",
     "text": [
      "Putative_PA_network_PR_bird\n",
      "Putative_PA_network_PR_rept\n",
      "Putative_PA_network_PR_all\n",
      "putative_pa_ranked_global\n",
      "Putative_PA_network_PR_mamm\n",
      "Putative_PA_network_PR_amph\n",
      "['Putative_PA_network_PR_bird', 'Putative_PA_network_PR_rept', 'Putative_PA_network_PR_all', 'Putative_PA_network_PR_mamm', 'Putative_PA_network_PR_amph']\n"
     ]
    }
   ],
   "source": [
    "item_list = list()\n",
    "for s in searched_item:\n",
    "    print(s.name)\n",
    "    item_list.append(s.name)\n",
    "del item_list[3]\n",
    "print(item_list)"
   ]
  },
  {
   "cell_type": "code",
   "execution_count": 15,
   "metadata": {},
   "outputs": [
    {
     "ename": "NameError",
     "evalue": "name 'item_list' is not defined",
     "output_type": "error",
     "traceback": [
      "\u001b[0;31m---------------------------------------------------------------------------\u001b[0m",
      "\u001b[0;31mNameError\u001b[0m                                 Traceback (most recent call last)",
      "\u001b[0;32m<ipython-input-15-45a2dc536853>\u001b[0m in \u001b[0;36m<module>\u001b[0;34m\u001b[0m\n\u001b[0;32m----> 1\u001b[0;31m \u001b[0;32mfor\u001b[0m \u001b[0mitem\u001b[0m \u001b[0;32min\u001b[0m \u001b[0mitem_list\u001b[0m\u001b[0;34m:\u001b[0m\u001b[0;34m\u001b[0m\u001b[0;34m\u001b[0m\u001b[0m\n\u001b[0m\u001b[1;32m      2\u001b[0m     \u001b[0ma\u001b[0m \u001b[0;34m=\u001b[0m \u001b[0mfindItemGetID\u001b[0m\u001b[0;34m(\u001b[0m\u001b[0mitem\u001b[0m\u001b[0;34m,\u001b[0m \u001b[0mgis\u001b[0m\u001b[0;34m,\u001b[0m \u001b[0mitem_type\u001b[0m \u001b[0;34m=\u001b[0m \u001b[0;34m\"Map Image Layer\"\u001b[0m\u001b[0;34m)\u001b[0m\u001b[0;34m\u001b[0m\u001b[0;34m\u001b[0m\u001b[0m\n\u001b[1;32m      3\u001b[0m     \u001b[0mg_item\u001b[0m \u001b[0;34m=\u001b[0m \u001b[0mgis\u001b[0m\u001b[0;34m.\u001b[0m\u001b[0mcontent\u001b[0m\u001b[0;34m.\u001b[0m\u001b[0mget\u001b[0m\u001b[0;34m(\u001b[0m\u001b[0ma\u001b[0m\u001b[0;34m)\u001b[0m\u001b[0;34m\u001b[0m\u001b[0;34m\u001b[0m\u001b[0m\n\u001b[1;32m      4\u001b[0m     \u001b[0mrequest\u001b[0m \u001b[0;34m=\u001b[0m \u001b[0mrequests\u001b[0m\u001b[0;34m.\u001b[0m\u001b[0mget\u001b[0m\u001b[0;34m(\u001b[0m\u001b[0mg_item\u001b[0m\u001b[0;34m.\u001b[0m\u001b[0murl\u001b[0m \u001b[0;34m+\u001b[0m \u001b[0;34m'?f=pjson&token={}'\u001b[0m\u001b[0;34m.\u001b[0m\u001b[0mformat\u001b[0m\u001b[0;34m(\u001b[0m\u001b[0mgis\u001b[0m\u001b[0;34m.\u001b[0m\u001b[0m_con\u001b[0m\u001b[0;34m.\u001b[0m\u001b[0mtoken\u001b[0m\u001b[0;34m)\u001b[0m\u001b[0;34m)\u001b[0m\u001b[0;34m\u001b[0m\u001b[0;34m\u001b[0m\u001b[0m\n\u001b[1;32m      5\u001b[0m     \u001b[0mservice_layer_json\u001b[0m \u001b[0;34m=\u001b[0m  \u001b[0mrequest\u001b[0m\u001b[0;34m.\u001b[0m\u001b[0mjson\u001b[0m\u001b[0;34m(\u001b[0m\u001b[0;34m)\u001b[0m\u001b[0;34m\u001b[0m\u001b[0;34m\u001b[0m\u001b[0m\n",
      "\u001b[0;31mNameError\u001b[0m: name 'item_list' is not defined"
     ]
    }
   ],
   "source": [
    "for item in item_list:\n",
    "    a = findItemGetID(item, gis, item_type = \"Map Image Layer\")\n",
    "    g_item = gis.content.get(a)\n",
    "    request = requests.get(g_item.url + '?f=pjson&token={}'.format(gis._con.token))\n",
    "    service_layer_json =  request.json()\n",
    "    print(f\"name: {g_item.name}\")\n",
    "    print(f\"url: {g_item.url}\")\n",
    "    print(f\"delete protection enabled: {g_item.protected}\")\n",
    "    print(f\"share level: {g_item.access}\")\n",
    "    print(f\"maxScale: {service_layer_json['maxScale']}\")\n",
    "    print(f\"minScale: {service_layer_json['minScale']}\")\n",
    "    #print(f\"levels of tiles: {len(service_layer_json['tileInfo']['lods'])}\") # this is not useful for reviewing. \n",
    "    print(\"-------\")"
   ]
  },
  {
   "cell_type": "code",
   "execution_count": 19,
   "metadata": {},
   "outputs": [],
   "source": [
    "import requests\n",
    "import json\n",
    "def service_qa_tiles(item_name, gis, item_type = \"Map Image Layer\"):\n",
    "    a = findItemGetID(item_name, gis, item_type)\n",
    "    g_item = gis.content.get(a)\n",
    "    request = requests.get(g_item.url + '?f=pjson&token={}'.format(gis._con.token))\n",
    "    service_layer_json =  request.json()\n",
    "    print(f\"name: {g_item.name}\")\n",
    "    print(f\"url: {g_item.url}\")\n",
    "    print(f\"delete protection enabled: {g_item.protected}\")\n",
    "    print(f\"share level: {g_item.access}\")\n",
    "    print(f\"maxScale: {service_layer_json['maxScale']}\")\n",
    "    print(f\"minScale: {service_layer_json['minScale']}\")\n",
    "    #print(f\"levels of tiles: {len(service_layer_json['tileInfo']['lods'])}\") # this is not useful for reviewing. \n",
    "    print(\"-------\")"
   ]
  },
  {
   "cell_type": "code",
   "execution_count": 7,
   "metadata": {},
   "outputs": [
    {
     "name": "stdout",
     "output_type": "stream",
     "text": [
      "name: Prioritisation_for_national_report_cards\n",
      "url: https://tiles.arcgis.com/tiles/IkktFdUAcY3WrH25/arcgis/rest/services/Prioritisation_for_national_report_cards/MapServer\n",
      "delete protection enabled: True\n",
      "share level: public\n",
      "maxScale: 0.0\n",
      "minScale: 591657527.591555\n",
      "-------\n"
     ]
    }
   ],
   "source": [
    "service_qa_tiles(\"Prioritisation_for_national_report_cards\", gis)"
   ]
  },
  {
   "cell_type": "code",
   "execution_count": 13,
   "metadata": {},
   "outputs": [],
   "source": [
    "searched_item = gis.content.search(\"title:Global Species Patterns\", item_type = \"Map Image Layer\", max_items=50)"
   ]
  },
  {
   "cell_type": "code",
   "execution_count": 32,
   "metadata": {},
   "outputs": [],
   "source": [
    "import requests\n",
    "import json\n",
    "def service_url(item_name, gis, item_type = \"Map Image Layer\"):\n",
    "    try:\n",
    "        print(item_name)\n",
    "        a = findItemGetID(item_name, gis, item_type)\n",
    "        g_item = gis.content.get(a)\n",
    "\n",
    "        request = requests.get(g_item.url + '?f=pjson&token={}'.format(gis._con.token))\n",
    "        service_layer_json =  request.json()\n",
    "        print(f\"name: {g_item.title}\")\n",
    "        print(f\"name: {g_item.name}\")\n",
    "        print(f\"url: {g_item.url}\")\n",
    "        print(f\"delete protection enabled: {g_item.protected}\")\n",
    "        print(f\"share level: {g_item.access}\")\n",
    "        #print(f\"maxScale: {service_layer_json['maxScale']}\")\n",
    "        #print(f\"minScale: {service_layer_json['minScale']}\")\n",
    "        #print(f\"levels of tiles: {len(service_layer_json['tileInfo']['lods'])}\") # this is not useful for reviewing. \n",
    "        print(\"-------\")\n",
    "    except:\n",
    "        print(\"failed\")"
   ]
  },
  {
   "cell_type": "code",
   "execution_count": 33,
   "metadata": {},
   "outputs": [
    {
     "name": "stdout",
     "output_type": "stream",
     "text": [
      "Global Species Richness Patterns for Conifers\n",
      "name: Global Species Richness Patterns for Conifers\n",
      "name: conifers_richness\n",
      "url: https://tiles.arcgis.com/tiles/IkktFdUAcY3WrH25/arcgis/rest/services/conifers_richness/MapServer\n",
      "delete protection enabled: False\n",
      "share level: shared\n",
      "-------\n",
      "Global Species Richness Patterns for Cacti\n",
      "name: Global Species Richness Patterns for Cacti\n",
      "name: cati_richness\n",
      "url: https://tiles.arcgis.com/tiles/IkktFdUAcY3WrH25/arcgis/rest/services/cati_richness/MapServer\n",
      "delete protection enabled: False\n",
      "share level: shared\n",
      "-------\n",
      "Global Terrestrial Species Richness Patterns for Select Taxa\n",
      "name: Global Terrestrial Species Richness Patterns for Select Taxa\n",
      "name: all_richness\n",
      "url: https://tiles.arcgis.com/tiles/IkktFdUAcY3WrH25/arcgis/rest/services/all_richness/MapServer\n",
      "delete protection enabled: False\n",
      "share level: shared\n",
      "-------\n",
      "Global Species Rarity Patterns for Cacti\n",
      "failed\n",
      "Global Species Richness Patterns for Conifers\n",
      "name: Global Species Richness Patterns for Conifers\n",
      "name: conifers_richness\n",
      "url: https://tiles.arcgis.com/tiles/IkktFdUAcY3WrH25/arcgis/rest/services/conifers_richness/MapServer\n",
      "delete protection enabled: False\n",
      "share level: shared\n",
      "-------\n",
      "Global Terrestrial Species Richness Patterns for Turtles\n",
      "name: Global Terrestrial Species Richness Patterns for Turtles\n",
      "name: None\n",
      "url: https://utility.arcgis.com/usrsvcs/servers/c201113280834a9ea7b0a15639e5aaa1/rest/services/turtles_richness/MapServer\n",
      "delete protection enabled: True\n",
      "share level: public\n",
      "-------\n",
      "Global Terrestrial Species Rarity Patterns for Select Taxa\n",
      "name: Global Terrestrial Species Rarity Patterns for Select Taxa\n",
      "name: None\n",
      "url: https://utility.arcgis.com/usrsvcs/servers/1ee94bc415424bde91750ce703b2d8d6/rest/services/all_rarity/MapServer\n",
      "delete protection enabled: True\n",
      "share level: public\n",
      "-------\n",
      "Global Terrestrial Species Richness Patterns for Mammals\n",
      "name: Global Terrestrial Species Richness Patterns for Mammals\n",
      "name: None\n",
      "url: https://utility.arcgis.com/usrsvcs/servers/11f7eef1d863487091afeade6ed6d918/rest/services/mammals_richness/MapServer\n",
      "delete protection enabled: True\n",
      "share level: public\n",
      "-------\n",
      "Global Species Richness Patterns for Hummingbirds\n",
      "name: Global Species Richness Patterns for Hummingbirds\n",
      "name: hummingbirds_richness\n",
      "url: https://tiles.arcgis.com/tiles/IkktFdUAcY3WrH25/arcgis/rest/services/hummingbirds_richness/MapServer\n",
      "delete protection enabled: False\n",
      "share level: shared\n",
      "-------\n",
      "Global Terrestrial Species Richness and Rarity Patterns for Select Taxa\n",
      "failed\n",
      "Global Terrestrial Species Rarity Patterns for Mammals\n",
      "name: Global Terrestrial Species Rarity Patterns for Mammals\n",
      "name: None\n",
      "url: https://utility.arcgis.com/usrsvcs/servers/31951614b11c472f8e327971008d23b2/rest/services/mammals_rarity/MapServer\n",
      "delete protection enabled: True\n",
      "share level: public\n",
      "-------\n",
      "Global Species Richness Patterns for Birds\n",
      "name: Global Species Richness Patterns for Birds\n",
      "name: birds_richness\n",
      "url: https://tiles.arcgis.com/tiles/IkktFdUAcY3WrH25/arcgis/rest/services/birds_richness/MapServer\n",
      "delete protection enabled: False\n",
      "share level: shared\n",
      "-------\n",
      "Global Species Richness Patterns for Birds\n",
      "name: Global Species Richness Patterns for Birds\n",
      "name: birds_richness\n",
      "url: https://tiles.arcgis.com/tiles/IkktFdUAcY3WrH25/arcgis/rest/services/birds_richness/MapServer\n",
      "delete protection enabled: False\n",
      "share level: shared\n",
      "-------\n",
      "Global Terrestrial Species Richness Patterns for Select Taxa\n",
      "name: Global Terrestrial Species Richness Patterns for Select Taxa\n",
      "name: all_richness\n",
      "url: https://tiles.arcgis.com/tiles/IkktFdUAcY3WrH25/arcgis/rest/services/all_richness/MapServer\n",
      "delete protection enabled: False\n",
      "share level: shared\n",
      "-------\n",
      "Global Species Richness Patterns for Cacti\n",
      "name: Global Species Richness Patterns for Cacti\n",
      "name: cati_richness\n",
      "url: https://tiles.arcgis.com/tiles/IkktFdUAcY3WrH25/arcgis/rest/services/cati_richness/MapServer\n",
      "delete protection enabled: False\n",
      "share level: shared\n",
      "-------\n",
      "Global Reserve Network Prioritization for Terrestrial Vertebrates (55km)\n",
      "failed\n",
      "Global Species Rarity Patterns for Amphibians\n",
      "failed\n",
      "Global Species Rarity Patterns for Hummingbirds\n",
      "name: Global Species Rarity Patterns for Hummingbirds\n",
      "name: Global Species Rarity Patterns for Hummingbirds\n",
      "url: https://tiles.arcgis.com/tiles/IkktFdUAcY3WrH25/arcgis/rest/services/Global_Species_Rarity_Patterns_for_Hummingbirds/MapServer\n",
      "delete protection enabled: True\n",
      "share level: public\n",
      "-------\n",
      "Global Terrestrial Species Richness Patterns for Mammals\n",
      "name: Global Terrestrial Species Richness Patterns for Mammals\n",
      "name: None\n",
      "url: https://utility.arcgis.com/usrsvcs/servers/11f7eef1d863487091afeade6ed6d918/rest/services/mammals_richness/MapServer\n",
      "delete protection enabled: True\n",
      "share level: public\n",
      "-------\n",
      "Global Species Rarity Patterns for Birds\n",
      "failed\n",
      "Global Species Rarity Patterns for Conifers [DEPRECATED]\n",
      "failed\n",
      "Global Terrestrial Species Rarity Patterns for Select Taxa\n",
      "name: Global Terrestrial Species Rarity Patterns for Select Taxa\n",
      "name: None\n",
      "url: https://utility.arcgis.com/usrsvcs/servers/1ee94bc415424bde91750ce703b2d8d6/rest/services/all_rarity/MapServer\n",
      "delete protection enabled: True\n",
      "share level: public\n",
      "-------\n",
      "Global Species Richness Patterns for Amphibians\n",
      "failed\n",
      "Global Species Rarity Patterns for Hummingbirds [DEPRECATED]\n",
      "failed\n",
      "Global Species Richness Patterns for Amphibians [DEPRECATED]\n",
      "failed\n",
      "Global Species Rarity Patterns for Conifers [DEPRECATED]\n",
      "failed\n",
      "Global Species Rarity Patterns for Cacti\n",
      "failed\n",
      "Global Terrestrial Species Rarity Patterns for Mammals\n",
      "name: Global Terrestrial Species Rarity Patterns for Mammals\n",
      "name: None\n",
      "url: https://utility.arcgis.com/usrsvcs/servers/31951614b11c472f8e327971008d23b2/rest/services/mammals_rarity/MapServer\n",
      "delete protection enabled: True\n",
      "share level: public\n",
      "-------\n",
      "Global Species Rarity Patterns for Amphibians\n",
      "failed\n",
      "Global Species Rarity Patterns for Birds\n",
      "failed\n",
      "Global Species Richness Patterns for Hummingbirds\n",
      "name: Global Species Richness Patterns for Hummingbirds\n",
      "name: hummingbirds_richness\n",
      "url: https://tiles.arcgis.com/tiles/IkktFdUAcY3WrH25/arcgis/rest/services/hummingbirds_richness/MapServer\n",
      "delete protection enabled: False\n",
      "share level: shared\n",
      "-------\n"
     ]
    }
   ],
   "source": [
    "for i in searched_item:\n",
    "    \n",
    "    service_url(i.title, gis)"
   ]
  },
  {
   "cell_type": "code",
   "execution_count": null,
   "metadata": {},
   "outputs": [],
   "source": []
  }
 ],
 "metadata": {
  "kernelspec": {
   "display_name": "Python 3",
   "language": "python",
   "name": "python3"
  },
  "language_info": {
   "codemirror_mode": {
    "name": "ipython",
    "version": 3
   },
   "file_extension": ".py",
   "mimetype": "text/x-python",
   "name": "python",
   "nbconvert_exporter": "python",
   "pygments_lexer": "ipython3",
   "version": "3.8.3"
  }
 },
 "nbformat": 4,
 "nbformat_minor": 4
}
