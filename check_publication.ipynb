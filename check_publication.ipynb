{
 "cells": [
  {
   "cell_type": "markdown",
   "metadata": {},
   "source": [
    "# Check publication\n",
    "When publishing a service there are several things to check. \n",
    "1. the deletion protection should be enabled\n",
    "2. check the shared options (public for tile services, whitelisted for feature services)\n",
    "3. check the visibility of the service (zoom levels)"
   ]
  },
  {
   "cell_type": "code",
   "execution_count": 33,
   "metadata": {},
   "outputs": [],
   "source": [
    "import re\n",
    "def create_strict_reg_exp(to_search):\n",
    "    try:\n",
    "        reg_exp = f\"^{to_search}$\"\n",
    "        #logging.info(f\"regular expression is: {reg_exp}\")\n",
    "    except:\n",
    "        print(\"There was a problem with the string.\")\n",
    "    return reg_exp"
   ]
  },
  {
   "cell_type": "code",
   "execution_count": 34,
   "metadata": {},
   "outputs": [],
   "source": [
    "def findItemGetID(csvName, gis, item_type = \"Feature Layer\"):\n",
    "    try:\n",
    "        searched_item = gis.content.search(csvName, item_type = item_type)\n",
    "        for i in searched_item:\n",
    "            reg_exp = create_strict_reg_exp(csvName)\n",
    "            if re.search(reg_exp, i.title)!= None:    \n",
    "                #logging.info(f\"{csvName} has the id: {i.id}\")\n",
    "                return i.id\n",
    "    except:\n",
    "        print(\"There was a problem finding the item\")"
   ]
  },
  {
   "cell_type": "code",
   "execution_count": 1,
   "metadata": {},
   "outputs": [],
   "source": [
    "import arcgis\n",
    "from arcgis.gis import GIS"
   ]
  },
  {
   "cell_type": "code",
   "execution_count": 2,
   "metadata": {},
   "outputs": [],
   "source": [
    "gis = GIS(profile = \"eowilson\")"
   ]
  },
  {
   "cell_type": "code",
   "execution_count": 28,
   "metadata": {},
   "outputs": [],
   "source": [
    "searched_item = gis.content.search(\"Putative_PA_network\", item_type = \"Map Image Layer\")"
   ]
  },
  {
   "cell_type": "code",
   "execution_count": 41,
   "metadata": {},
   "outputs": [
    {
     "name": "stdout",
     "output_type": "stream",
     "text": [
      "Putative_PA_network_PR_bird\n",
      "Putative_PA_network_PR_rept\n",
      "Putative_PA_network_PR_all\n",
      "putative_pa_ranked_global\n",
      "Putative_PA_network_PR_mamm\n",
      "Putative_PA_network_PR_amph\n",
      "['Putative_PA_network_PR_bird', 'Putative_PA_network_PR_rept', 'Putative_PA_network_PR_all', 'Putative_PA_network_PR_mamm', 'Putative_PA_network_PR_amph']\n"
     ]
    }
   ],
   "source": [
    "item_list = list()\n",
    "for s in searched_item:\n",
    "    print(s.name)\n",
    "    item_list.append(s.name)\n",
    "del item_list[3]\n",
    "print(item_list)"
   ]
  },
  {
   "cell_type": "code",
   "execution_count": 95,
   "metadata": {},
   "outputs": [
    {
     "name": "stdout",
     "output_type": "stream",
     "text": [
      "name: Putative_PA_network_PR_bird\n",
      "url: https://tiles.arcgis.com/tiles/IkktFdUAcY3WrH25/arcgis/rest/services/Putative_PA_network_PR_bird/MapServer\n",
      "delete protection enabled: True\n",
      "share level: public\n",
      "maxScale: 0.0\n",
      "minScale: 591657527.591555\n",
      "-------\n",
      "name: Putative_PA_network_PR_rept\n",
      "url: https://tiles.arcgis.com/tiles/IkktFdUAcY3WrH25/arcgis/rest/services/Putative_PA_network_PR_rept/MapServer\n",
      "delete protection enabled: True\n",
      "share level: public\n",
      "maxScale: 0.0\n",
      "minScale: 591657527.591555\n",
      "-------\n",
      "name: Putative_PA_network_PR_all\n",
      "url: https://tiles.arcgis.com/tiles/IkktFdUAcY3WrH25/arcgis/rest/services/Putative_PA_network_PR_all/MapServer\n",
      "delete protection enabled: True\n",
      "share level: public\n",
      "maxScale: 0.0\n",
      "minScale: 591657527.591555\n",
      "-------\n",
      "name: Putative_PA_network_PR_mamm\n",
      "url: https://tiles.arcgis.com/tiles/IkktFdUAcY3WrH25/arcgis/rest/services/Putative_PA_network_PR_mamm/MapServer\n",
      "delete protection enabled: True\n",
      "share level: public\n",
      "maxScale: 0.0\n",
      "minScale: 591657527.591555\n",
      "-------\n",
      "name: Putative_PA_network_PR_amph\n",
      "url: https://tiles.arcgis.com/tiles/IkktFdUAcY3WrH25/arcgis/rest/services/Putative_PA_network_PR_amph/MapServer\n",
      "delete protection enabled: True\n",
      "share level: public\n",
      "maxScale: 0.0\n",
      "minScale: 591657527.591555\n",
      "-------\n"
     ]
    }
   ],
   "source": [
    "for item in item_list:\n",
    "    a = findItemGetID(item, gis, item_type = \"Map Image Layer\")\n",
    "    g_item = gis.content.get(a)\n",
    "    request = requests.get(g_item.url + '?f=pjson&token={}'.format(gis._con.token))\n",
    "    service_layer_json =  request.json()\n",
    "    print(f\"name: {g_item.name}\")\n",
    "    print(f\"url: {g_item.url}\")\n",
    "    print(f\"delete protection enabled: {g_item.protected}\")\n",
    "    print(f\"share level: {g_item.access}\")\n",
    "    print(f\"maxScale: {service_layer_json['maxScale']}\")\n",
    "    print(f\"minScale: {service_layer_json['minScale']}\")\n",
    "    #print(f\"levels of tiles: {len(service_layer_json['tileInfo']['lods'])}\") # this is not useful for reviewing. \n",
    "    print(\"-------\")"
   ]
  },
  {
   "cell_type": "code",
   "execution_count": null,
   "metadata": {},
   "outputs": [],
   "source": []
  }
 ],
 "metadata": {
  "kernelspec": {
   "display_name": "Python 3",
   "language": "python",
   "name": "python3"
  },
  "language_info": {
   "codemirror_mode": {
    "name": "ipython",
    "version": 3
   },
   "file_extension": ".py",
   "mimetype": "text/x-python",
   "name": "python",
   "nbconvert_exporter": "python",
   "pygments_lexer": "ipython3",
   "version": "3.8.3"
  }
 },
 "nbformat": 4,
 "nbformat_minor": 4
}
