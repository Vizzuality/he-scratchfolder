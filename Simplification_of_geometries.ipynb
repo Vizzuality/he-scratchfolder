{
 "cells": [
  {
   "cell_type": "markdown",
   "metadata": {},
   "source": [
    "## Simplification of geometries"
   ]
  },
  {
   "cell_type": "markdown",
   "metadata": {},
   "source": [
    "Simplify geometries to render on the FE.  \n",
    "Recipe for simplification taken from [marxan-cloud](https://github.com/Vizzuality/marxan-cloud/blob/develop/data/data_download/gadm_3.6/Makefile)"
   ]
  },
  {
   "cell_type": "code",
   "execution_count": 1,
   "metadata": {},
   "outputs": [],
   "source": [
    "import geopandas as gpd"
   ]
  },
  {
   "cell_type": "markdown",
   "metadata": {},
   "source": [
    "## 1. Ecoregions\n",
    "File downloaded from https://eowilson.maps.arcgis.com/home/item.html?id=be0308e81950409b919940bd03f2cae6#overview"
   ]
  },
  {
   "cell_type": "markdown",
   "metadata": {},
   "source": [
    "#### - Convert gpkg to shp (using ogr2ogr or geopandas)"
   ]
  },
  {
   "cell_type": "code",
   "execution_count": 11,
   "metadata": {},
   "outputs": [],
   "source": [
    "!ogr2ogr -f \"ESRI Shapefile\" /Users/tamarahuete/Documents/HALF_EARTH/Ecoregions2017_20210825.shp /Users/tamarahuete/Documents/HALF_EARTH/Ecoregions2017_20210825.gpkg"
   ]
  },
  {
   "cell_type": "code",
   "execution_count": 170,
   "metadata": {},
   "outputs": [],
   "source": [
    "gdf = gpd.read_file(\"/Users/tamarahuete/Documents/HALF_EARTH/Ecoregions2017_20210825.gpkg\")"
   ]
  },
  {
   "cell_type": "code",
   "execution_count": 171,
   "metadata": {},
   "outputs": [
    {
     "data": {
      "text/html": [
       "<div>\n",
       "<style scoped>\n",
       "    .dataframe tbody tr th:only-of-type {\n",
       "        vertical-align: middle;\n",
       "    }\n",
       "\n",
       "    .dataframe tbody tr th {\n",
       "        vertical-align: top;\n",
       "    }\n",
       "\n",
       "    .dataframe thead th {\n",
       "        text-align: right;\n",
       "    }\n",
       "</style>\n",
       "<table border=\"1\" class=\"dataframe\">\n",
       "  <thead>\n",
       "    <tr style=\"text-align: right;\">\n",
       "      <th></th>\n",
       "      <th>OBJECTID</th>\n",
       "      <th>ECO_ID</th>\n",
       "      <th>ECO_NAME</th>\n",
       "      <th>BIOME_NUM</th>\n",
       "      <th>BIOME_NAME</th>\n",
       "      <th>REALM</th>\n",
       "      <th>geometry</th>\n",
       "    </tr>\n",
       "  </thead>\n",
       "  <tbody>\n",
       "    <tr>\n",
       "      <th>0</th>\n",
       "      <td>1.0</td>\n",
       "      <td>117.0</td>\n",
       "      <td>Adelie Land tundra</td>\n",
       "      <td>11.0</td>\n",
       "      <td>Tundra</td>\n",
       "      <td>Antarctica</td>\n",
       "      <td>MULTIPOLYGON (((15313733.007 -6878278.250, 153...</td>\n",
       "    </tr>\n",
       "    <tr>\n",
       "      <th>1</th>\n",
       "      <td>2.0</td>\n",
       "      <td>135.0</td>\n",
       "      <td>Admiralty Islands lowland rain forests</td>\n",
       "      <td>1.0</td>\n",
       "      <td>Tropical &amp; Subtropical Moist Broadleaf Forests</td>\n",
       "      <td>Australasia</td>\n",
       "      <td>MULTIPOLYGON (((14211289.839 -328506.485, 1420...</td>\n",
       "    </tr>\n",
       "    <tr>\n",
       "      <th>2</th>\n",
       "      <td>3.0</td>\n",
       "      <td>785.0</td>\n",
       "      <td>Aegean and Western Turkey sclerophyllous and m...</td>\n",
       "      <td>12.0</td>\n",
       "      <td>Mediterranean Forests, Woodlands &amp; Scrub</td>\n",
       "      <td>Palearctic</td>\n",
       "      <td>MULTIPOLYGON (((2594187.496 4232365.534, 25938...</td>\n",
       "    </tr>\n",
       "    <tr>\n",
       "      <th>3</th>\n",
       "      <td>4.0</td>\n",
       "      <td>807.0</td>\n",
       "      <td>Afghan Mountains semi-desert</td>\n",
       "      <td>13.0</td>\n",
       "      <td>Deserts &amp; Xeric Shrublands</td>\n",
       "      <td>Palearctic</td>\n",
       "      <td>MULTIPOLYGON (((6318553.570 4168604.183, 63226...</td>\n",
       "    </tr>\n",
       "    <tr>\n",
       "      <th>4</th>\n",
       "      <td>5.0</td>\n",
       "      <td>404.0</td>\n",
       "      <td>Ahklun and Kilbuck Upland Tundra</td>\n",
       "      <td>11.0</td>\n",
       "      <td>Tundra</td>\n",
       "      <td>Nearctic</td>\n",
       "      <td>MULTIPOLYGON (((-15463281.201 6262077.155, -15...</td>\n",
       "    </tr>\n",
       "  </tbody>\n",
       "</table>\n",
       "</div>"
      ],
      "text/plain": [
       "   OBJECTID  ECO_ID                                           ECO_NAME  \\\n",
       "0       1.0   117.0                                 Adelie Land tundra   \n",
       "1       2.0   135.0             Admiralty Islands lowland rain forests   \n",
       "2       3.0   785.0  Aegean and Western Turkey sclerophyllous and m...   \n",
       "3       4.0   807.0                       Afghan Mountains semi-desert   \n",
       "4       5.0   404.0                   Ahklun and Kilbuck Upland Tundra   \n",
       "\n",
       "   BIOME_NUM                                      BIOME_NAME        REALM  \\\n",
       "0       11.0                                          Tundra   Antarctica   \n",
       "1        1.0  Tropical & Subtropical Moist Broadleaf Forests  Australasia   \n",
       "2       12.0        Mediterranean Forests, Woodlands & Scrub   Palearctic   \n",
       "3       13.0                      Deserts & Xeric Shrublands   Palearctic   \n",
       "4       11.0                                          Tundra     Nearctic   \n",
       "\n",
       "                                            geometry  \n",
       "0  MULTIPOLYGON (((15313733.007 -6878278.250, 153...  \n",
       "1  MULTIPOLYGON (((14211289.839 -328506.485, 1420...  \n",
       "2  MULTIPOLYGON (((2594187.496 4232365.534, 25938...  \n",
       "3  MULTIPOLYGON (((6318553.570 4168604.183, 63226...  \n",
       "4  MULTIPOLYGON (((-15463281.201 6262077.155, -15...  "
      ]
     },
     "execution_count": 171,
     "metadata": {},
     "output_type": "execute_result"
    }
   ],
   "source": [
    "gdf.head()"
   ]
  },
  {
   "cell_type": "code",
   "execution_count": 172,
   "metadata": {},
   "outputs": [
    {
     "data": {
      "text/plain": [
       "Index(['OBJECTID', 'ECO_ID', 'ECO_NAME', 'BIOME_NUM', 'BIOME_NAME', 'REALM',\n",
       "       'geometry'],\n",
       "      dtype='object')"
      ]
     },
     "execution_count": 172,
     "metadata": {},
     "output_type": "execute_result"
    }
   ],
   "source": [
    "gdf.columns"
   ]
  },
  {
   "cell_type": "code",
   "execution_count": 182,
   "metadata": {},
   "outputs": [
    {
     "data": {
      "text/plain": [
       "53"
      ]
     },
     "execution_count": 182,
     "metadata": {},
     "output_type": "execute_result"
    }
   ],
   "source": [
    "## Add AREA_KM2\n",
    "len(gdf[gdf.geometry.area/1e6 < 1000])"
   ]
  },
  {
   "cell_type": "code",
   "execution_count": 185,
   "metadata": {},
   "outputs": [],
   "source": [
    "eco_small = gdf[gdf.geometry.area/1e6 < 1000]\n",
    "eco_small.to_file(\"/Users/tamarahuete/Documents/HALF_EARTH/Ecoregions2017_20210825_small.shp\")"
   ]
  },
  {
   "cell_type": "code",
   "execution_count": 45,
   "metadata": {},
   "outputs": [
    {
     "data": {
      "text/plain": [
       "847"
      ]
     },
     "execution_count": 45,
     "metadata": {},
     "output_type": "execute_result"
    }
   ],
   "source": [
    "len(gdf)"
   ]
  },
  {
   "cell_type": "markdown",
   "metadata": {},
   "source": [
    "#### - Convert from Cylindrical Equal Area to EPSG:4326 o 3857 Web Mercator"
   ]
  },
  {
   "cell_type": "code",
   "execution_count": 46,
   "metadata": {},
   "outputs": [],
   "source": [
    "gdf=gdf.to_crs(\"EPSG:4326\")"
   ]
  },
  {
   "cell_type": "code",
   "execution_count": 48,
   "metadata": {},
   "outputs": [],
   "source": [
    "gdf.rename(columns={'ECO_ID':'ID'},inplace=True)"
   ]
  },
  {
   "cell_type": "code",
   "execution_count": 51,
   "metadata": {},
   "outputs": [],
   "source": [
    "gdf['ID'] = gdf['ID'].astype(int)"
   ]
  },
  {
   "cell_type": "code",
   "execution_count": 53,
   "metadata": {},
   "outputs": [],
   "source": [
    "gdf.to_file(\"/Users/tamarahuete/Documents/HALF_EARTH/Ecoregions2017_20210825.shp\")"
   ]
  },
  {
   "cell_type": "markdown",
   "metadata": {},
   "source": [
    "#### - Use [Mapshaper](https://github.com/mbloch/mapshaper/wiki/Command-Reference) to simplify geometries"
   ]
  },
  {
   "cell_type": "code",
   "execution_count": 65,
   "metadata": {},
   "outputs": [
    {
     "name": "stdout",
     "output_type": "stream",
     "text": [
      "[i] Snapped 182324 points\n",
      "^C\n"
     ]
    }
   ],
   "source": [
    "!mapshaper -i /Users/tamarahuete/Documents/HALF_EARTH/Ecoregions2017_20210825.shp snap combine-files \\\n",
    "            -simplify 25% planar keep-shapes \\\n",
    "            -filter-islands min-vertices=3 min-area=10000m2 remove-empty \\\n",
    "            -filter-slivers min-area=10000m2 remove-empty \\\n",
    "            -clean rewind \\\n",
    "            -o /Users/tamarahuete/Documents/HALF_EARTH/Ecoregions2017_20210825_simple.shp format=shapefile force ndjson"
   ]
  },
  {
   "cell_type": "code",
   "execution_count": null,
   "metadata": {},
   "outputs": [],
   "source": [
    "### Cross with countries"
   ]
  },
  {
   "cell_type": "code",
   "execution_count": 58,
   "metadata": {},
   "outputs": [],
   "source": [
    "gdf = gpd.read_file(\"/Users/tamarahuete/Documents/HALF_EARTH/Ecoregions2017_20210825.shp\")"
   ]
  },
  {
   "cell_type": "code",
   "execution_count": null,
   "metadata": {},
   "outputs": [],
   "source": []
  },
  {
   "cell_type": "code",
   "execution_count": null,
   "metadata": {},
   "outputs": [],
   "source": []
  },
  {
   "cell_type": "markdown",
   "metadata": {},
   "source": [
    "## GADM 3.6 admin 1\n",
    "Downloaded from https://eowilson.maps.arcgis.com/home/item.html?id=c609f65903274eaa95fb003f75ab5fc1"
   ]
  },
  {
   "cell_type": "code",
   "execution_count": 72,
   "metadata": {},
   "outputs": [],
   "source": [
    "gdf = gpd.read_file(\"/Users/tamarahuete/Documents/HALF_EARTH/gadm_0_1/gadm_0_1.shp\")"
   ]
  },
  {
   "cell_type": "code",
   "execution_count": 75,
   "metadata": {},
   "outputs": [
    {
     "data": {
      "text/html": [
       "<div>\n",
       "<style scoped>\n",
       "    .dataframe tbody tr th:only-of-type {\n",
       "        vertical-align: middle;\n",
       "    }\n",
       "\n",
       "    .dataframe tbody tr th {\n",
       "        vertical-align: top;\n",
       "    }\n",
       "\n",
       "    .dataframe thead th {\n",
       "        text-align: right;\n",
       "    }\n",
       "</style>\n",
       "<table border=\"1\" class=\"dataframe\">\n",
       "  <thead>\n",
       "    <tr style=\"text-align: right;\">\n",
       "      <th></th>\n",
       "      <th>GID_0</th>\n",
       "      <th>NAME_0</th>\n",
       "      <th>GID_1</th>\n",
       "      <th>NAME_1</th>\n",
       "      <th>VARNAME_1</th>\n",
       "      <th>NL_NAME_1</th>\n",
       "      <th>TYPE_1</th>\n",
       "      <th>ENGTYPE_1</th>\n",
       "      <th>CC_1</th>\n",
       "      <th>HASC_1</th>\n",
       "      <th>...</th>\n",
       "      <th>percentage</th>\n",
       "      <th>percent_ir</th>\n",
       "      <th>percent_ra</th>\n",
       "      <th>percent__1</th>\n",
       "      <th>percent_ur</th>\n",
       "      <th>population</th>\n",
       "      <th>majority_l</th>\n",
       "      <th>land_cover</th>\n",
       "      <th>climate_re</th>\n",
       "      <th>geometry</th>\n",
       "    </tr>\n",
       "  </thead>\n",
       "  <tbody>\n",
       "    <tr>\n",
       "      <th>0</th>\n",
       "      <td>AFG</td>\n",
       "      <td>Afghanistan</td>\n",
       "      <td>AFG.1_1</td>\n",
       "      <td>Badakhshan</td>\n",
       "      <td>Badahšan</td>\n",
       "      <td>None</td>\n",
       "      <td>Velayat</td>\n",
       "      <td>Province</td>\n",
       "      <td>None</td>\n",
       "      <td>AF.BD</td>\n",
       "      <td>...</td>\n",
       "      <td>30.265938</td>\n",
       "      <td>1.09</td>\n",
       "      <td>13.19</td>\n",
       "      <td>65.92</td>\n",
       "      <td>0.00</td>\n",
       "      <td>1.236789e+06</td>\n",
       "      <td>107</td>\n",
       "      <td>Grassland</td>\n",
       "      <td>Cool Temperate Moist</td>\n",
       "      <td>POLYGON ((71.14804 36.00124, 71.14226 35.99334...</td>\n",
       "    </tr>\n",
       "    <tr>\n",
       "      <th>1</th>\n",
       "      <td>AFG</td>\n",
       "      <td>Afghanistan</td>\n",
       "      <td>AFG.2_1</td>\n",
       "      <td>Badghis</td>\n",
       "      <td>Badghes|Badghisat|Badgis</td>\n",
       "      <td>None</td>\n",
       "      <td>Velayat</td>\n",
       "      <td>Province</td>\n",
       "      <td>None</td>\n",
       "      <td>AF.BG</td>\n",
       "      <td>...</td>\n",
       "      <td>0.000000</td>\n",
       "      <td>2.64</td>\n",
       "      <td>65.08</td>\n",
       "      <td>32.29</td>\n",
       "      <td>0.00</td>\n",
       "      <td>6.523502e+05</td>\n",
       "      <td>205</td>\n",
       "      <td>Sparsley or Non vegetated</td>\n",
       "      <td>Warm Temperate Dry</td>\n",
       "      <td>POLYGON ((63.09734 34.64551, 63.08250 34.65775...</td>\n",
       "    </tr>\n",
       "    <tr>\n",
       "      <th>2</th>\n",
       "      <td>AFG</td>\n",
       "      <td>Afghanistan</td>\n",
       "      <td>AFG.3_1</td>\n",
       "      <td>Baghlan</td>\n",
       "      <td>Baglan|Bughlan</td>\n",
       "      <td>None</td>\n",
       "      <td>Velayat</td>\n",
       "      <td>Province</td>\n",
       "      <td>None</td>\n",
       "      <td>AF.BL</td>\n",
       "      <td>...</td>\n",
       "      <td>3.208203</td>\n",
       "      <td>5.77</td>\n",
       "      <td>23.55</td>\n",
       "      <td>70.21</td>\n",
       "      <td>0.00</td>\n",
       "      <td>1.040738e+06</td>\n",
       "      <td>107</td>\n",
       "      <td>Grassland</td>\n",
       "      <td>Cool Temperate Moist</td>\n",
       "      <td>POLYGON ((67.35538 34.88549, 67.35532 34.88847...</td>\n",
       "    </tr>\n",
       "    <tr>\n",
       "      <th>3</th>\n",
       "      <td>AFG</td>\n",
       "      <td>Afghanistan</td>\n",
       "      <td>AFG.4_1</td>\n",
       "      <td>Balkh</td>\n",
       "      <td>Balh|Mazar-i-Sharif|Mazar</td>\n",
       "      <td>None</td>\n",
       "      <td>Velayat</td>\n",
       "      <td>Province</td>\n",
       "      <td>None</td>\n",
       "      <td>AF.BK</td>\n",
       "      <td>...</td>\n",
       "      <td>0.000000</td>\n",
       "      <td>19.39</td>\n",
       "      <td>42.97</td>\n",
       "      <td>19.65</td>\n",
       "      <td>0.46</td>\n",
       "      <td>1.312167e+06</td>\n",
       "      <td>201</td>\n",
       "      <td>Sparsley or Non vegetated</td>\n",
       "      <td>Warm Temperate Dry</td>\n",
       "      <td>POLYGON ((66.42347 35.64057, 66.44878 35.65366...</td>\n",
       "    </tr>\n",
       "    <tr>\n",
       "      <th>4</th>\n",
       "      <td>AFG</td>\n",
       "      <td>Afghanistan</td>\n",
       "      <td>AFG.5_1</td>\n",
       "      <td>Bamyan</td>\n",
       "      <td>None</td>\n",
       "      <td>None</td>\n",
       "      <td>Velayat</td>\n",
       "      <td>Province</td>\n",
       "      <td>None</td>\n",
       "      <td>AF.BM</td>\n",
       "      <td>...</td>\n",
       "      <td>31.462136</td>\n",
       "      <td>0.45</td>\n",
       "      <td>0.00</td>\n",
       "      <td>99.62</td>\n",
       "      <td>0.00</td>\n",
       "      <td>4.321846e+05</td>\n",
       "      <td>142</td>\n",
       "      <td>Grassland</td>\n",
       "      <td>Cool Temperate Dry</td>\n",
       "      <td>POLYGON ((66.65279 34.00322, 66.65859 34.01669...</td>\n",
       "    </tr>\n",
       "  </tbody>\n",
       "</table>\n",
       "<p>5 rows × 27 columns</p>\n",
       "</div>"
      ],
      "text/plain": [
       "  GID_0       NAME_0    GID_1      NAME_1                  VARNAME_1  \\\n",
       "0   AFG  Afghanistan  AFG.1_1  Badakhshan                   Badahšan   \n",
       "1   AFG  Afghanistan  AFG.2_1     Badghis   Badghes|Badghisat|Badgis   \n",
       "2   AFG  Afghanistan  AFG.3_1     Baghlan             Baglan|Bughlan   \n",
       "3   AFG  Afghanistan  AFG.4_1       Balkh  Balh|Mazar-i-Sharif|Mazar   \n",
       "4   AFG  Afghanistan  AFG.5_1      Bamyan                       None   \n",
       "\n",
       "  NL_NAME_1   TYPE_1 ENGTYPE_1  CC_1 HASC_1  ...  percentage  percent_ir  \\\n",
       "0      None  Velayat  Province  None  AF.BD  ...   30.265938        1.09   \n",
       "1      None  Velayat  Province  None  AF.BG  ...    0.000000        2.64   \n",
       "2      None  Velayat  Province  None  AF.BL  ...    3.208203        5.77   \n",
       "3      None  Velayat  Province  None  AF.BK  ...    0.000000       19.39   \n",
       "4      None  Velayat  Province  None  AF.BM  ...   31.462136        0.45   \n",
       "\n",
       "   percent_ra  percent__1  percent_ur    population majority_l  \\\n",
       "0       13.19       65.92        0.00  1.236789e+06        107   \n",
       "1       65.08       32.29        0.00  6.523502e+05        205   \n",
       "2       23.55       70.21        0.00  1.040738e+06        107   \n",
       "3       42.97       19.65        0.46  1.312167e+06        201   \n",
       "4        0.00       99.62        0.00  4.321846e+05        142   \n",
       "\n",
       "                  land_cover            climate_re  \\\n",
       "0                  Grassland  Cool Temperate Moist   \n",
       "1  Sparsley or Non vegetated    Warm Temperate Dry   \n",
       "2                  Grassland  Cool Temperate Moist   \n",
       "3  Sparsley or Non vegetated    Warm Temperate Dry   \n",
       "4                  Grassland    Cool Temperate Dry   \n",
       "\n",
       "                                            geometry  \n",
       "0  POLYGON ((71.14804 36.00124, 71.14226 35.99334...  \n",
       "1  POLYGON ((63.09734 34.64551, 63.08250 34.65775...  \n",
       "2  POLYGON ((67.35538 34.88549, 67.35532 34.88847...  \n",
       "3  POLYGON ((66.42347 35.64057, 66.44878 35.65366...  \n",
       "4  POLYGON ((66.65279 34.00322, 66.65859 34.01669...  \n",
       "\n",
       "[5 rows x 27 columns]"
      ]
     },
     "execution_count": 75,
     "metadata": {},
     "output_type": "execute_result"
    }
   ],
   "source": [
    "gdf.head()"
   ]
  },
  {
   "cell_type": "code",
   "execution_count": 76,
   "metadata": {},
   "outputs": [
    {
     "data": {
      "text/plain": [
       "3866"
      ]
     },
     "execution_count": 76,
     "metadata": {},
     "output_type": "execute_result"
    }
   ],
   "source": [
    "len(gdf) # 3866"
   ]
  },
  {
   "cell_type": "code",
   "execution_count": null,
   "metadata": {},
   "outputs": [],
   "source": [
    "subsample to test"
   ]
  },
  {
   "cell_type": "code",
   "execution_count": 97,
   "metadata": {},
   "outputs": [],
   "source": [
    "test = gdf[gdf['GID_0'].isin(['AFG','ALA','ESP'])]"
   ]
  },
  {
   "cell_type": "code",
   "execution_count": 98,
   "metadata": {},
   "outputs": [
    {
     "data": {
      "text/plain": [
       "71"
      ]
     },
     "execution_count": 98,
     "metadata": {},
     "output_type": "execute_result"
    }
   ],
   "source": [
    "len(test)"
   ]
  },
  {
   "cell_type": "code",
   "execution_count": 101,
   "metadata": {},
   "outputs": [
    {
     "ename": "TypeError",
     "evalue": "'Index' object is not callable",
     "output_type": "error",
     "traceback": [
      "\u001b[0;31m---------------------------------------------------------------------------\u001b[0m",
      "\u001b[0;31mTypeError\u001b[0m                                 Traceback (most recent call last)",
      "\u001b[0;32m<ipython-input-101-2833d071ef70>\u001b[0m in \u001b[0;36m<module>\u001b[0;34m\u001b[0m\n\u001b[0;32m----> 1\u001b[0;31m \u001b[0mtest\u001b[0m\u001b[0;34m.\u001b[0m\u001b[0mcolumns\u001b[0m\u001b[0;34m(\u001b[0m\u001b[0;34m)\u001b[0m\u001b[0;34m\u001b[0m\u001b[0;34m\u001b[0m\u001b[0m\n\u001b[0m",
      "\u001b[0;31mTypeError\u001b[0m: 'Index' object is not callable"
     ]
    }
   ],
   "source": [
    "test.columns"
   ]
  },
  {
   "cell_type": "code",
   "execution_count": 89,
   "metadata": {},
   "outputs": [],
   "source": [
    "test.to_file('/Users/tamarahuete/Documents/HALF_EARTH/test_gadm1.geojson', driver = 'GeoJSON')"
   ]
  },
  {
   "cell_type": "code",
   "execution_count": 90,
   "metadata": {},
   "outputs": [
    {
     "name": "stdout",
     "output_type": "stream",
     "text": [
      "[simplify] Repaired 0 intersections; 3,662 intersections could not be repaired\n",
      "[filter-islands] Removed 1,377 islands\n",
      "[o] Wrote /Users/tamarahuete/Documents/HALF_EARTH/test_simple.shp\n",
      "[o] Wrote /Users/tamarahuete/Documents/HALF_EARTH/test_simple.shx\n",
      "[o] Wrote /Users/tamarahuete/Documents/HALF_EARTH/test_simple.dbf\n",
      "[o] Wrote /Users/tamarahuete/Documents/HALF_EARTH/test_simple.prj\n"
     ]
    }
   ],
   "source": [
    "!mapshaper -i /Users/tamarahuete/Documents/HALF_EARTH/test_gadm1.geojson \\\n",
    "            -simplify 25% planar keep-shapes \\\n",
    "            -filter-islands min-vertices=3 min-area=10000m2 remove-empty \\\n",
    "            -o /Users/tamarahuete/Documents/HALF_EARTH/test_simple.shp format=shapefile"
   ]
  },
  {
   "cell_type": "code",
   "execution_count": 92,
   "metadata": {},
   "outputs": [],
   "source": [
    "test = gpd.read_file('/Users/tamarahuete/Documents/HALF_EARTH/test_simple.shp')"
   ]
  },
  {
   "cell_type": "code",
   "execution_count": 93,
   "metadata": {},
   "outputs": [
    {
     "data": {
      "text/plain": [
       "71"
      ]
     },
     "execution_count": 93,
     "metadata": {},
     "output_type": "execute_result"
    }
   ],
   "source": [
    "len(test)"
   ]
  },
  {
   "cell_type": "code",
   "execution_count": 96,
   "metadata": {},
   "outputs": [
    {
     "data": {
      "text/html": [
       "<div>\n",
       "<style scoped>\n",
       "    .dataframe tbody tr th:only-of-type {\n",
       "        vertical-align: middle;\n",
       "    }\n",
       "\n",
       "    .dataframe tbody tr th {\n",
       "        vertical-align: top;\n",
       "    }\n",
       "\n",
       "    .dataframe thead th {\n",
       "        text-align: right;\n",
       "    }\n",
       "</style>\n",
       "<table border=\"1\" class=\"dataframe\">\n",
       "  <thead>\n",
       "    <tr style=\"text-align: right;\">\n",
       "      <th></th>\n",
       "      <th>GID_0</th>\n",
       "      <th>NAME_0</th>\n",
       "      <th>GID_1</th>\n",
       "      <th>NAME_1</th>\n",
       "      <th>VARNAME_1</th>\n",
       "      <th>NL_NAME_1</th>\n",
       "      <th>TYPE_1</th>\n",
       "      <th>ENGTYPE_1</th>\n",
       "      <th>CC_1</th>\n",
       "      <th>HASC_1</th>\n",
       "      <th>...</th>\n",
       "      <th>percentage</th>\n",
       "      <th>percent_ir</th>\n",
       "      <th>percent_ra</th>\n",
       "      <th>percent__1</th>\n",
       "      <th>percent_ur</th>\n",
       "      <th>population</th>\n",
       "      <th>majority_l</th>\n",
       "      <th>land_cover</th>\n",
       "      <th>climate_re</th>\n",
       "      <th>geometry</th>\n",
       "    </tr>\n",
       "  </thead>\n",
       "  <tbody>\n",
       "    <tr>\n",
       "      <th>0</th>\n",
       "      <td>AFG</td>\n",
       "      <td>Afghanistan</td>\n",
       "      <td>AFG.1_1</td>\n",
       "      <td>Badakhshan</td>\n",
       "      <td>Badah?an</td>\n",
       "      <td>None</td>\n",
       "      <td>Velayat</td>\n",
       "      <td>Province</td>\n",
       "      <td>None</td>\n",
       "      <td>AF.BD</td>\n",
       "      <td>...</td>\n",
       "      <td>30.265938</td>\n",
       "      <td>1.09</td>\n",
       "      <td>13.19</td>\n",
       "      <td>65.92</td>\n",
       "      <td>0.00</td>\n",
       "      <td>1.236789e+06</td>\n",
       "      <td>107</td>\n",
       "      <td>Grassland</td>\n",
       "      <td>Cool Temperate Moist</td>\n",
       "      <td>POLYGON ((70.25101 35.65854, 70.25577 35.67546...</td>\n",
       "    </tr>\n",
       "    <tr>\n",
       "      <th>1</th>\n",
       "      <td>AFG</td>\n",
       "      <td>Afghanistan</td>\n",
       "      <td>AFG.2_1</td>\n",
       "      <td>Badghis</td>\n",
       "      <td>Badghes|Badghisat|Badgis</td>\n",
       "      <td>None</td>\n",
       "      <td>Velayat</td>\n",
       "      <td>Province</td>\n",
       "      <td>None</td>\n",
       "      <td>AF.BG</td>\n",
       "      <td>...</td>\n",
       "      <td>0.000000</td>\n",
       "      <td>2.64</td>\n",
       "      <td>65.08</td>\n",
       "      <td>32.29</td>\n",
       "      <td>0.00</td>\n",
       "      <td>6.523502e+05</td>\n",
       "      <td>205</td>\n",
       "      <td>Sparsley or Non vegetated</td>\n",
       "      <td>Warm Temperate Dry</td>\n",
       "      <td>POLYGON ((62.81617 35.30153, 62.82497 35.30078...</td>\n",
       "    </tr>\n",
       "    <tr>\n",
       "      <th>2</th>\n",
       "      <td>AFG</td>\n",
       "      <td>Afghanistan</td>\n",
       "      <td>AFG.3_1</td>\n",
       "      <td>Baghlan</td>\n",
       "      <td>Baglan|Bughlan</td>\n",
       "      <td>None</td>\n",
       "      <td>Velayat</td>\n",
       "      <td>Province</td>\n",
       "      <td>None</td>\n",
       "      <td>AF.BL</td>\n",
       "      <td>...</td>\n",
       "      <td>3.208203</td>\n",
       "      <td>5.77</td>\n",
       "      <td>23.55</td>\n",
       "      <td>70.21</td>\n",
       "      <td>0.00</td>\n",
       "      <td>1.040738e+06</td>\n",
       "      <td>107</td>\n",
       "      <td>Grassland</td>\n",
       "      <td>Cool Temperate Moist</td>\n",
       "      <td>POLYGON ((67.39591 35.43840, 67.40628 35.44152...</td>\n",
       "    </tr>\n",
       "    <tr>\n",
       "      <th>3</th>\n",
       "      <td>AFG</td>\n",
       "      <td>Afghanistan</td>\n",
       "      <td>AFG.4_1</td>\n",
       "      <td>Balkh</td>\n",
       "      <td>Balh|Mazar-i-Sharif|Mazar</td>\n",
       "      <td>None</td>\n",
       "      <td>Velayat</td>\n",
       "      <td>Province</td>\n",
       "      <td>None</td>\n",
       "      <td>AF.BK</td>\n",
       "      <td>...</td>\n",
       "      <td>0.000000</td>\n",
       "      <td>19.39</td>\n",
       "      <td>42.97</td>\n",
       "      <td>19.65</td>\n",
       "      <td>0.46</td>\n",
       "      <td>1.312167e+06</td>\n",
       "      <td>201</td>\n",
       "      <td>Sparsley or Non vegetated</td>\n",
       "      <td>Warm Temperate Dry</td>\n",
       "      <td>POLYGON ((66.56960 36.57032, 66.56117 36.57037...</td>\n",
       "    </tr>\n",
       "    <tr>\n",
       "      <th>4</th>\n",
       "      <td>AFG</td>\n",
       "      <td>Afghanistan</td>\n",
       "      <td>AFG.5_1</td>\n",
       "      <td>Bamyan</td>\n",
       "      <td>None</td>\n",
       "      <td>None</td>\n",
       "      <td>Velayat</td>\n",
       "      <td>Province</td>\n",
       "      <td>None</td>\n",
       "      <td>AF.BM</td>\n",
       "      <td>...</td>\n",
       "      <td>31.462136</td>\n",
       "      <td>0.45</td>\n",
       "      <td>0.00</td>\n",
       "      <td>99.62</td>\n",
       "      <td>0.00</td>\n",
       "      <td>4.321846e+05</td>\n",
       "      <td>142</td>\n",
       "      <td>Grassland</td>\n",
       "      <td>Cool Temperate Dry</td>\n",
       "      <td>POLYGON ((66.55791 34.42338, 66.57417 34.42561...</td>\n",
       "    </tr>\n",
       "    <tr>\n",
       "      <th>...</th>\n",
       "      <td>...</td>\n",
       "      <td>...</td>\n",
       "      <td>...</td>\n",
       "      <td>...</td>\n",
       "      <td>...</td>\n",
       "      <td>...</td>\n",
       "      <td>...</td>\n",
       "      <td>...</td>\n",
       "      <td>...</td>\n",
       "      <td>...</td>\n",
       "      <td>...</td>\n",
       "      <td>...</td>\n",
       "      <td>...</td>\n",
       "      <td>...</td>\n",
       "      <td>...</td>\n",
       "      <td>...</td>\n",
       "      <td>...</td>\n",
       "      <td>...</td>\n",
       "      <td>...</td>\n",
       "      <td>...</td>\n",
       "      <td>...</td>\n",
       "    </tr>\n",
       "    <tr>\n",
       "      <th>66</th>\n",
       "      <td>ESP</td>\n",
       "      <td>Spain</td>\n",
       "      <td>ESP.17_1</td>\n",
       "      <td>Principado de Asturias</td>\n",
       "      <td>AstÃÂºrias|Asturie|Asturien|Asturies|AstÃÂºr...</td>\n",
       "      <td>None</td>\n",
       "      <td>Comunidad AutÃÂ³noma</td>\n",
       "      <td>Autonomous Community</td>\n",
       "      <td>03</td>\n",
       "      <td>ES.AS</td>\n",
       "      <td>...</td>\n",
       "      <td>29.751063</td>\n",
       "      <td>0.00</td>\n",
       "      <td>70.55</td>\n",
       "      <td>0.48</td>\n",
       "      <td>1.79</td>\n",
       "      <td>1.072038e+06</td>\n",
       "      <td>176</td>\n",
       "      <td>Forest</td>\n",
       "      <td>Warm Temperate Moist</td>\n",
       "      <td>POLYGON ((-4.84094 43.18074, -4.83912 43.18972...</td>\n",
       "    </tr>\n",
       "    <tr>\n",
       "      <th>67</th>\n",
       "      <td>ESP</td>\n",
       "      <td>Spain</td>\n",
       "      <td>ESP.18_1</td>\n",
       "      <td>RegiÃÂ³n de Murcia</td>\n",
       "      <td>Murcia|RegiÃÂ£o de MÃÂºrcia|RegiÃÂ³ de MÃÂ...</td>\n",
       "      <td>None</td>\n",
       "      <td>Comunidad AutÃÂ³noma</td>\n",
       "      <td>Autonomous Community</td>\n",
       "      <td>14</td>\n",
       "      <td>ES.MU</td>\n",
       "      <td>...</td>\n",
       "      <td>26.037046</td>\n",
       "      <td>28.19</td>\n",
       "      <td>65.89</td>\n",
       "      <td>3.46</td>\n",
       "      <td>1.34</td>\n",
       "      <td>1.733432e+06</td>\n",
       "      <td>184</td>\n",
       "      <td>Cropland</td>\n",
       "      <td>Warm Temperate Dry</td>\n",
       "      <td>MULTIPOLYGON (((-0.77126 37.70268, -0.76490 37...</td>\n",
       "    </tr>\n",
       "    <tr>\n",
       "      <th>68</th>\n",
       "      <td>AFG</td>\n",
       "      <td>Afghanistan</td>\n",
       "      <td>None</td>\n",
       "      <td>None</td>\n",
       "      <td>None</td>\n",
       "      <td>None</td>\n",
       "      <td>None</td>\n",
       "      <td>None</td>\n",
       "      <td>None</td>\n",
       "      <td>None</td>\n",
       "      <td>...</td>\n",
       "      <td>3.785337</td>\n",
       "      <td>0.00</td>\n",
       "      <td>0.00</td>\n",
       "      <td>0.00</td>\n",
       "      <td>0.00</td>\n",
       "      <td>3.038970e+07</td>\n",
       "      <td>142</td>\n",
       "      <td>Grassland</td>\n",
       "      <td>Cool Temperate Dry</td>\n",
       "      <td>POLYGON ((68.10873 31.75300, 68.12166 31.74749...</td>\n",
       "    </tr>\n",
       "    <tr>\n",
       "      <th>69</th>\n",
       "      <td>ALA</td>\n",
       "      <td>ÃÂ",
       "land</td>\n",
       "      <td>None</td>\n",
       "      <td>None</td>\n",
       "      <td>None</td>\n",
       "      <td>None</td>\n",
       "      <td>None</td>\n",
       "      <td>None</td>\n",
       "      <td>None</td>\n",
       "      <td>None</td>\n",
       "      <td>...</td>\n",
       "      <td>1.449518</td>\n",
       "      <td>0.00</td>\n",
       "      <td>0.00</td>\n",
       "      <td>0.00</td>\n",
       "      <td>0.00</td>\n",
       "      <td>2.915896e+04</td>\n",
       "      <td>111</td>\n",
       "      <td>Forest</td>\n",
       "      <td>Cool Temperate Moist</td>\n",
       "      <td>MULTIPOLYGON (((21.02416 59.76764, 21.01528 59...</td>\n",
       "    </tr>\n",
       "    <tr>\n",
       "      <th>70</th>\n",
       "      <td>ESP</td>\n",
       "      <td>Spain</td>\n",
       "      <td>None</td>\n",
       "      <td>None</td>\n",
       "      <td>None</td>\n",
       "      <td>None</td>\n",
       "      <td>None</td>\n",
       "      <td>None</td>\n",
       "      <td>None</td>\n",
       "      <td>None</td>\n",
       "      <td>...</td>\n",
       "      <td>28.956439</td>\n",
       "      <td>0.00</td>\n",
       "      <td>0.00</td>\n",
       "      <td>0.00</td>\n",
       "      <td>0.00</td>\n",
       "      <td>5.245940e+07</td>\n",
       "      <td>184</td>\n",
       "      <td>Cropland</td>\n",
       "      <td>Warm Temperate Dry</td>\n",
       "      <td>MULTIPOLYGON (((-18.04792 27.69042, -18.05708 ...</td>\n",
       "    </tr>\n",
       "  </tbody>\n",
       "</table>\n",
       "<p>71 rows × 27 columns</p>\n",
       "</div>"
      ],
      "text/plain": [
       "   GID_0       NAME_0     GID_1                  NAME_1  \\\n",
       "0    AFG  Afghanistan   AFG.1_1              Badakhshan   \n",
       "1    AFG  Afghanistan   AFG.2_1                 Badghis   \n",
       "2    AFG  Afghanistan   AFG.3_1                 Baghlan   \n",
       "3    AFG  Afghanistan   AFG.4_1                   Balkh   \n",
       "4    AFG  Afghanistan   AFG.5_1                  Bamyan   \n",
       "..   ...          ...       ...                     ...   \n",
       "66   ESP        Spain  ESP.17_1  Principado de Asturias   \n",
       "67   ESP        Spain  ESP.18_1     RegiÃÂ³n de Murcia   \n",
       "68   AFG  Afghanistan      None                    None   \n",
       "69   ALA     ÃÂ\n",
       "land      None                    None   \n",
       "70   ESP        Spain      None                    None   \n",
       "\n",
       "                                            VARNAME_1 NL_NAME_1  \\\n",
       "0                                            Badah?an      None   \n",
       "1                            Badghes|Badghisat|Badgis      None   \n",
       "2                                      Baglan|Bughlan      None   \n",
       "3                           Balh|Mazar-i-Sharif|Mazar      None   \n",
       "4                                                None      None   \n",
       "..                                                ...       ...   \n",
       "66  AstÃÂºrias|Asturie|Asturien|Asturies|AstÃÂºr...      None   \n",
       "67  Murcia|RegiÃÂ£o de MÃÂºrcia|RegiÃÂ³ de MÃÂ...      None   \n",
       "68                                               None      None   \n",
       "69                                               None      None   \n",
       "70                                               None      None   \n",
       "\n",
       "                   TYPE_1             ENGTYPE_1  CC_1 HASC_1  ...  percentage  \\\n",
       "0                 Velayat              Province  None  AF.BD  ...   30.265938   \n",
       "1                 Velayat              Province  None  AF.BG  ...    0.000000   \n",
       "2                 Velayat              Province  None  AF.BL  ...    3.208203   \n",
       "3                 Velayat              Province  None  AF.BK  ...    0.000000   \n",
       "4                 Velayat              Province  None  AF.BM  ...   31.462136   \n",
       "..                    ...                   ...   ...    ...  ...         ...   \n",
       "66  Comunidad AutÃÂ³noma  Autonomous Community    03  ES.AS  ...   29.751063   \n",
       "67  Comunidad AutÃÂ³noma  Autonomous Community    14  ES.MU  ...   26.037046   \n",
       "68                   None                  None  None   None  ...    3.785337   \n",
       "69                   None                  None  None   None  ...    1.449518   \n",
       "70                   None                  None  None   None  ...   28.956439   \n",
       "\n",
       "    percent_ir  percent_ra  percent__1  percent_ur    population majority_l  \\\n",
       "0         1.09       13.19       65.92        0.00  1.236789e+06        107   \n",
       "1         2.64       65.08       32.29        0.00  6.523502e+05        205   \n",
       "2         5.77       23.55       70.21        0.00  1.040738e+06        107   \n",
       "3        19.39       42.97       19.65        0.46  1.312167e+06        201   \n",
       "4         0.45        0.00       99.62        0.00  4.321846e+05        142   \n",
       "..         ...         ...         ...         ...           ...        ...   \n",
       "66        0.00       70.55        0.48        1.79  1.072038e+06        176   \n",
       "67       28.19       65.89        3.46        1.34  1.733432e+06        184   \n",
       "68        0.00        0.00        0.00        0.00  3.038970e+07        142   \n",
       "69        0.00        0.00        0.00        0.00  2.915896e+04        111   \n",
       "70        0.00        0.00        0.00        0.00  5.245940e+07        184   \n",
       "\n",
       "                   land_cover            climate_re  \\\n",
       "0                   Grassland  Cool Temperate Moist   \n",
       "1   Sparsley or Non vegetated    Warm Temperate Dry   \n",
       "2                   Grassland  Cool Temperate Moist   \n",
       "3   Sparsley or Non vegetated    Warm Temperate Dry   \n",
       "4                   Grassland    Cool Temperate Dry   \n",
       "..                        ...                   ...   \n",
       "66                     Forest  Warm Temperate Moist   \n",
       "67                   Cropland    Warm Temperate Dry   \n",
       "68                  Grassland    Cool Temperate Dry   \n",
       "69                     Forest  Cool Temperate Moist   \n",
       "70                   Cropland    Warm Temperate Dry   \n",
       "\n",
       "                                             geometry  \n",
       "0   POLYGON ((70.25101 35.65854, 70.25577 35.67546...  \n",
       "1   POLYGON ((62.81617 35.30153, 62.82497 35.30078...  \n",
       "2   POLYGON ((67.39591 35.43840, 67.40628 35.44152...  \n",
       "3   POLYGON ((66.56960 36.57032, 66.56117 36.57037...  \n",
       "4   POLYGON ((66.55791 34.42338, 66.57417 34.42561...  \n",
       "..                                                ...  \n",
       "66  POLYGON ((-4.84094 43.18074, -4.83912 43.18972...  \n",
       "67  MULTIPOLYGON (((-0.77126 37.70268, -0.76490 37...  \n",
       "68  POLYGON ((68.10873 31.75300, 68.12166 31.74749...  \n",
       "69  MULTIPOLYGON (((21.02416 59.76764, 21.01528 59...  \n",
       "70  MULTIPOLYGON (((-18.04792 27.69042, -18.05708 ...  \n",
       "\n",
       "[71 rows x 27 columns]"
      ]
     },
     "execution_count": 96,
     "metadata": {},
     "output_type": "execute_result"
    }
   ],
   "source": [
    "test"
   ]
  },
  {
   "cell_type": "code",
   "execution_count": 100,
   "metadata": {},
   "outputs": [
    {
     "name": "stdout",
     "output_type": "stream",
     "text": [
      "[simplify] Repaired 0 intersections; 592,668 intersections could not be repaired\n",
      "[filter-islands] Removed 716 islands\n",
      "[o] Wrote /Users/tamarahuete/Documents/HALF_EARTH/gadm_0_1_simple.shp\n",
      "[o] Wrote /Users/tamarahuete/Documents/HALF_EARTH/gadm_0_1_simple.shx\n",
      "[o] Wrote /Users/tamarahuete/Documents/HALF_EARTH/gadm_0_1_simple.dbf\n",
      "[o] Wrote /Users/tamarahuete/Documents/HALF_EARTH/gadm_0_1_simple.prj\n"
     ]
    }
   ],
   "source": [
    "!mapshaper -i /Users/tamarahuete/Documents/HALF_EARTH/gadm_0_1/gadm_0_1.shp \\\n",
    "            -simplify 25% planar keep-shapes \\\n",
    "            -filter-islands min-vertices=3 min-area=10000m2 remove-empty \\\n",
    "            -o /Users/tamarahuete/Documents/HALF_EARTH/gadm_0_1_simple.shp format=shapefile"
   ]
  },
  {
   "cell_type": "code",
   "execution_count": 102,
   "metadata": {},
   "outputs": [],
   "source": [
    "gdf = gpd.read_file(\"/Users/tamarahuete/Documents/HALF_EARTH/gadm_0_1_simple.shp\")"
   ]
  },
  {
   "cell_type": "code",
   "execution_count": 108,
   "metadata": {},
   "outputs": [
    {
     "data": {
      "text/html": [
       "<div>\n",
       "<style scoped>\n",
       "    .dataframe tbody tr th:only-of-type {\n",
       "        vertical-align: middle;\n",
       "    }\n",
       "\n",
       "    .dataframe tbody tr th {\n",
       "        vertical-align: top;\n",
       "    }\n",
       "\n",
       "    .dataframe thead th {\n",
       "        text-align: right;\n",
       "    }\n",
       "</style>\n",
       "<table border=\"1\" class=\"dataframe\">\n",
       "  <thead>\n",
       "    <tr style=\"text-align: right;\">\n",
       "      <th></th>\n",
       "      <th>GID_0</th>\n",
       "      <th>NAME_0</th>\n",
       "      <th>GID_1</th>\n",
       "      <th>NAME_1</th>\n",
       "      <th>VARNAME_1</th>\n",
       "      <th>NL_NAME_1</th>\n",
       "      <th>TYPE_1</th>\n",
       "      <th>ENGTYPE_1</th>\n",
       "      <th>CC_1</th>\n",
       "      <th>HASC_1</th>\n",
       "      <th>...</th>\n",
       "      <th>percentage</th>\n",
       "      <th>percent_ir</th>\n",
       "      <th>percent_ra</th>\n",
       "      <th>percent__1</th>\n",
       "      <th>percent_ur</th>\n",
       "      <th>population</th>\n",
       "      <th>majority_l</th>\n",
       "      <th>land_cover</th>\n",
       "      <th>climate_re</th>\n",
       "      <th>geometry</th>\n",
       "    </tr>\n",
       "  </thead>\n",
       "  <tbody>\n",
       "    <tr>\n",
       "      <th>0</th>\n",
       "      <td>AFG</td>\n",
       "      <td>Afghanistan</td>\n",
       "      <td>AFG.1_1</td>\n",
       "      <td>Badakhshan</td>\n",
       "      <td>BadahÅ¡an</td>\n",
       "      <td>None</td>\n",
       "      <td>Velayat</td>\n",
       "      <td>Province</td>\n",
       "      <td>None</td>\n",
       "      <td>AF.BD</td>\n",
       "      <td>...</td>\n",
       "      <td>30.265938</td>\n",
       "      <td>1.09</td>\n",
       "      <td>13.19</td>\n",
       "      <td>65.92</td>\n",
       "      <td>0.00</td>\n",
       "      <td>1.236789e+06</td>\n",
       "      <td>107</td>\n",
       "      <td>Grassland</td>\n",
       "      <td>Cool Temperate Moist</td>\n",
       "      <td>POLYGON ((70.25101 35.65854, 70.25257 35.66293...</td>\n",
       "    </tr>\n",
       "    <tr>\n",
       "      <th>1</th>\n",
       "      <td>AFG</td>\n",
       "      <td>Afghanistan</td>\n",
       "      <td>AFG.2_1</td>\n",
       "      <td>Badghis</td>\n",
       "      <td>Badghes|Badghisat|Badgis</td>\n",
       "      <td>None</td>\n",
       "      <td>Velayat</td>\n",
       "      <td>Province</td>\n",
       "      <td>None</td>\n",
       "      <td>AF.BG</td>\n",
       "      <td>...</td>\n",
       "      <td>0.000000</td>\n",
       "      <td>2.64</td>\n",
       "      <td>65.08</td>\n",
       "      <td>32.29</td>\n",
       "      <td>0.00</td>\n",
       "      <td>6.523502e+05</td>\n",
       "      <td>205</td>\n",
       "      <td>Sparsley or Non vegetated</td>\n",
       "      <td>Warm Temperate Dry</td>\n",
       "      <td>POLYGON ((62.81617 35.30153, 62.81999 35.30226...</td>\n",
       "    </tr>\n",
       "    <tr>\n",
       "      <th>2</th>\n",
       "      <td>AFG</td>\n",
       "      <td>Afghanistan</td>\n",
       "      <td>AFG.3_1</td>\n",
       "      <td>Baghlan</td>\n",
       "      <td>Baglan|Bughlan</td>\n",
       "      <td>None</td>\n",
       "      <td>Velayat</td>\n",
       "      <td>Province</td>\n",
       "      <td>None</td>\n",
       "      <td>AF.BL</td>\n",
       "      <td>...</td>\n",
       "      <td>3.208203</td>\n",
       "      <td>5.77</td>\n",
       "      <td>23.55</td>\n",
       "      <td>70.21</td>\n",
       "      <td>0.00</td>\n",
       "      <td>1.040738e+06</td>\n",
       "      <td>107</td>\n",
       "      <td>Grassland</td>\n",
       "      <td>Cool Temperate Moist</td>\n",
       "      <td>POLYGON ((67.39591 35.43840, 67.40628 35.44152...</td>\n",
       "    </tr>\n",
       "    <tr>\n",
       "      <th>3</th>\n",
       "      <td>AFG</td>\n",
       "      <td>Afghanistan</td>\n",
       "      <td>AFG.4_1</td>\n",
       "      <td>Balkh</td>\n",
       "      <td>Balh|Mazar-i-Sharif|Mazar</td>\n",
       "      <td>None</td>\n",
       "      <td>Velayat</td>\n",
       "      <td>Province</td>\n",
       "      <td>None</td>\n",
       "      <td>AF.BK</td>\n",
       "      <td>...</td>\n",
       "      <td>0.000000</td>\n",
       "      <td>19.39</td>\n",
       "      <td>42.97</td>\n",
       "      <td>19.65</td>\n",
       "      <td>0.46</td>\n",
       "      <td>1.312167e+06</td>\n",
       "      <td>201</td>\n",
       "      <td>Sparsley or Non vegetated</td>\n",
       "      <td>Warm Temperate Dry</td>\n",
       "      <td>POLYGON ((66.56960 36.57032, 66.56117 36.57037...</td>\n",
       "    </tr>\n",
       "    <tr>\n",
       "      <th>4</th>\n",
       "      <td>AFG</td>\n",
       "      <td>Afghanistan</td>\n",
       "      <td>AFG.5_1</td>\n",
       "      <td>Bamyan</td>\n",
       "      <td>None</td>\n",
       "      <td>None</td>\n",
       "      <td>Velayat</td>\n",
       "      <td>Province</td>\n",
       "      <td>None</td>\n",
       "      <td>AF.BM</td>\n",
       "      <td>...</td>\n",
       "      <td>31.462136</td>\n",
       "      <td>0.45</td>\n",
       "      <td>0.00</td>\n",
       "      <td>99.62</td>\n",
       "      <td>0.00</td>\n",
       "      <td>4.321846e+05</td>\n",
       "      <td>142</td>\n",
       "      <td>Grassland</td>\n",
       "      <td>Cool Temperate Dry</td>\n",
       "      <td>POLYGON ((66.55791 34.42338, 66.57417 34.42561...</td>\n",
       "    </tr>\n",
       "  </tbody>\n",
       "</table>\n",
       "<p>5 rows × 27 columns</p>\n",
       "</div>"
      ],
      "text/plain": [
       "  GID_0       NAME_0    GID_1      NAME_1                  VARNAME_1  \\\n",
       "0   AFG  Afghanistan  AFG.1_1  Badakhshan                  BadahÅ¡an   \n",
       "1   AFG  Afghanistan  AFG.2_1     Badghis   Badghes|Badghisat|Badgis   \n",
       "2   AFG  Afghanistan  AFG.3_1     Baghlan             Baglan|Bughlan   \n",
       "3   AFG  Afghanistan  AFG.4_1       Balkh  Balh|Mazar-i-Sharif|Mazar   \n",
       "4   AFG  Afghanistan  AFG.5_1      Bamyan                       None   \n",
       "\n",
       "  NL_NAME_1   TYPE_1 ENGTYPE_1  CC_1 HASC_1  ...  percentage  percent_ir  \\\n",
       "0      None  Velayat  Province  None  AF.BD  ...   30.265938        1.09   \n",
       "1      None  Velayat  Province  None  AF.BG  ...    0.000000        2.64   \n",
       "2      None  Velayat  Province  None  AF.BL  ...    3.208203        5.77   \n",
       "3      None  Velayat  Province  None  AF.BK  ...    0.000000       19.39   \n",
       "4      None  Velayat  Province  None  AF.BM  ...   31.462136        0.45   \n",
       "\n",
       "   percent_ra  percent__1  percent_ur    population majority_l  \\\n",
       "0       13.19       65.92        0.00  1.236789e+06        107   \n",
       "1       65.08       32.29        0.00  6.523502e+05        205   \n",
       "2       23.55       70.21        0.00  1.040738e+06        107   \n",
       "3       42.97       19.65        0.46  1.312167e+06        201   \n",
       "4        0.00       99.62        0.00  4.321846e+05        142   \n",
       "\n",
       "                  land_cover            climate_re  \\\n",
       "0                  Grassland  Cool Temperate Moist   \n",
       "1  Sparsley or Non vegetated    Warm Temperate Dry   \n",
       "2                  Grassland  Cool Temperate Moist   \n",
       "3  Sparsley or Non vegetated    Warm Temperate Dry   \n",
       "4                  Grassland    Cool Temperate Dry   \n",
       "\n",
       "                                            geometry  \n",
       "0  POLYGON ((70.25101 35.65854, 70.25257 35.66293...  \n",
       "1  POLYGON ((62.81617 35.30153, 62.81999 35.30226...  \n",
       "2  POLYGON ((67.39591 35.43840, 67.40628 35.44152...  \n",
       "3  POLYGON ((66.56960 36.57032, 66.56117 36.57037...  \n",
       "4  POLYGON ((66.55791 34.42338, 66.57417 34.42561...  \n",
       "\n",
       "[5 rows x 27 columns]"
      ]
     },
     "execution_count": 108,
     "metadata": {},
     "output_type": "execute_result"
    }
   ],
   "source": [
    "gdf.head()"
   ]
  },
  {
   "cell_type": "code",
   "execution_count": 104,
   "metadata": {},
   "outputs": [
    {
     "data": {
      "text/plain": [
       "3866"
      ]
     },
     "execution_count": 104,
     "metadata": {},
     "output_type": "execute_result"
    }
   ],
   "source": [
    "len(gdf)"
   ]
  },
  {
   "cell_type": "code",
   "execution_count": 109,
   "metadata": {},
   "outputs": [],
   "source": [
    "### delete whole country geometries\n",
    "gdf.dropna(subset = [\"GID_1\"], inplace=True)"
   ]
  },
  {
   "cell_type": "code",
   "execution_count": 142,
   "metadata": {},
   "outputs": [
    {
     "data": {
      "text/plain": [
       "'Andalucía'"
      ]
     },
     "execution_count": 142,
     "metadata": {},
     "output_type": "execute_result"
    }
   ],
   "source": [
    "gdf[gdf['GID_0']=='ESP']['NAME_1'].values[0].encode(\"latin-1\").decode(\"utf-8\")"
   ]
  },
  {
   "cell_type": "code",
   "execution_count": 146,
   "metadata": {},
   "outputs": [],
   "source": [
    "gdf['NAME_1']= gdf['NAME_1'].apply(lambda x: x.encode(\"latin-1\").decode(\"utf-8\"))"
   ]
  },
  {
   "cell_type": "code",
   "execution_count": 147,
   "metadata": {},
   "outputs": [
    {
     "data": {
      "text/plain": [
       "856                     Andalucía\n",
       "857                        Aragón\n",
       "858                     Cantabria\n",
       "859            Castilla-La Mancha\n",
       "860               Castilla y León\n",
       "861                      Cataluña\n",
       "862               Ceuta y Melilla\n",
       "863           Comunidad de Madrid\n",
       "864    Comunidad Foral de Navarra\n",
       "865          Comunidad Valenciana\n",
       "866                   Extremadura\n",
       "867                       Galicia\n",
       "868                Islas Baleares\n",
       "869                Islas Canarias\n",
       "870                      La Rioja\n",
       "871                    País Vasco\n",
       "872        Principado de Asturias\n",
       "873              Región de Murcia\n",
       "Name: NAME_1, dtype: object"
      ]
     },
     "execution_count": 147,
     "metadata": {},
     "output_type": "execute_result"
    }
   ],
   "source": [
    "gdf[gdf['GID_0']=='ESP']['NAME_1']"
   ]
  },
  {
   "cell_type": "code",
   "execution_count": 148,
   "metadata": {},
   "outputs": [],
   "source": [
    "gdf.rename(columns={'NAME_1':'ID'}, inplace=True)"
   ]
  },
  {
   "cell_type": "code",
   "execution_count": 155,
   "metadata": {},
   "outputs": [],
   "source": [
    "gdf.to_file(\"/Users/tamarahuete/Documents/HALF_EARTH/gadm_0_1_simple.shp\")"
   ]
  },
  {
   "cell_type": "markdown",
   "metadata": {},
   "source": [
    "## 3. Protected Areas\n",
    "Source data https://eowilson.maps.arcgis.com/home/item.html?id=ccd196ed3db7455881c174196bab48e2"
   ]
  },
  {
   "cell_type": "code",
   "execution_count": 2,
   "metadata": {},
   "outputs": [],
   "source": [
    "gdf = gpd.read_file(\"zip:///Users/tamarahuete/Documents/HALF_EARTH/WDPA_FILTERED_20210615_FILTERED_nomarine_with_oecm_wdpa.zip\")"
   ]
  },
  {
   "cell_type": "code",
   "execution_count": 3,
   "metadata": {},
   "outputs": [
    {
     "data": {
      "text/html": [
       "<div>\n",
       "<style scoped>\n",
       "    .dataframe tbody tr th:only-of-type {\n",
       "        vertical-align: middle;\n",
       "    }\n",
       "\n",
       "    .dataframe tbody tr th {\n",
       "        vertical-align: top;\n",
       "    }\n",
       "\n",
       "    .dataframe thead th {\n",
       "        text-align: right;\n",
       "    }\n",
       "</style>\n",
       "<table border=\"1\" class=\"dataframe\">\n",
       "  <thead>\n",
       "    <tr style=\"text-align: right;\">\n",
       "      <th></th>\n",
       "      <th>WDPAID</th>\n",
       "      <th>WDPA_PID</th>\n",
       "      <th>PA_DEF</th>\n",
       "      <th>NAME</th>\n",
       "      <th>ORIG_NA</th>\n",
       "      <th>DESIG</th>\n",
       "      <th>DESIG_E</th>\n",
       "      <th>DESIG_T</th>\n",
       "      <th>IUCN_CA</th>\n",
       "      <th>INT_CRI</th>\n",
       "      <th>...</th>\n",
       "      <th>ISO3</th>\n",
       "      <th>SUPP_IN</th>\n",
       "      <th>CONS_OB</th>\n",
       "      <th>SORTER</th>\n",
       "      <th>WDPA_PID_h</th>\n",
       "      <th>WDPA_PID__</th>\n",
       "      <th>hash_vl</th>\n",
       "      <th>AREA_KM</th>\n",
       "      <th>MOL_ID</th>\n",
       "      <th>geometry</th>\n",
       "    </tr>\n",
       "  </thead>\n",
       "  <tbody>\n",
       "    <tr>\n",
       "      <th>0</th>\n",
       "      <td>310492.0</td>\n",
       "      <td>310492</td>\n",
       "      <td>1</td>\n",
       "      <td>Boulder Beach</td>\n",
       "      <td>Boulder Beach / WWF Block</td>\n",
       "      <td>Stewardship Area</td>\n",
       "      <td>Stewardship Area</td>\n",
       "      <td>National</td>\n",
       "      <td>III</td>\n",
       "      <td>Not Applicable</td>\n",
       "      <td>...</td>\n",
       "      <td>NZL</td>\n",
       "      <td>Not Applicable</td>\n",
       "      <td>Not Applicable</td>\n",
       "      <td>0.0</td>\n",
       "      <td>9cb933d7</td>\n",
       "      <td>1802338827</td>\n",
       "      <td>1802338827</td>\n",
       "      <td>1.136031</td>\n",
       "      <td>1</td>\n",
       "      <td>MULTIPOLYGON (((170.62746 -45.89520, 170.62824...</td>\n",
       "    </tr>\n",
       "    <tr>\n",
       "      <th>1</th>\n",
       "      <td>307797.0</td>\n",
       "      <td>307797</td>\n",
       "      <td>1</td>\n",
       "      <td>Ferndale</td>\n",
       "      <td>Ferndale</td>\n",
       "      <td>Scenic Reserve</td>\n",
       "      <td>Scenic Reserve</td>\n",
       "      <td>National</td>\n",
       "      <td>III</td>\n",
       "      <td>Not Applicable</td>\n",
       "      <td>...</td>\n",
       "      <td>NZL</td>\n",
       "      <td>Not Applicable</td>\n",
       "      <td>Not Applicable</td>\n",
       "      <td>0.0</td>\n",
       "      <td>6dcdc88b</td>\n",
       "      <td>781004482</td>\n",
       "      <td>781004482</td>\n",
       "      <td>0.748492</td>\n",
       "      <td>2</td>\n",
       "      <td>POLYGON ((173.97642 -41.19258, 173.97595 -41.1...</td>\n",
       "    </tr>\n",
       "    <tr>\n",
       "      <th>2</th>\n",
       "      <td>307745.0</td>\n",
       "      <td>307745</td>\n",
       "      <td>1</td>\n",
       "      <td>Broughton Bay</td>\n",
       "      <td>Broughton Bay</td>\n",
       "      <td>Scenic Reserve</td>\n",
       "      <td>Scenic Reserve</td>\n",
       "      <td>National</td>\n",
       "      <td>III</td>\n",
       "      <td>Not Applicable</td>\n",
       "      <td>...</td>\n",
       "      <td>NZL</td>\n",
       "      <td>Not Applicable</td>\n",
       "      <td>Not Applicable</td>\n",
       "      <td>0.0</td>\n",
       "      <td>322a981f</td>\n",
       "      <td>-1455988893</td>\n",
       "      <td>-1455988893</td>\n",
       "      <td>0.031907</td>\n",
       "      <td>3</td>\n",
       "      <td>POLYGON ((173.95691 -41.20976, 173.95580 -41.2...</td>\n",
       "    </tr>\n",
       "    <tr>\n",
       "      <th>3</th>\n",
       "      <td>307867.0</td>\n",
       "      <td>307867</td>\n",
       "      <td>1</td>\n",
       "      <td>Kaipupu Point</td>\n",
       "      <td>Kaipupu Point</td>\n",
       "      <td>Scenic Reserve</td>\n",
       "      <td>Scenic Reserve</td>\n",
       "      <td>National</td>\n",
       "      <td>III</td>\n",
       "      <td>Not Applicable</td>\n",
       "      <td>...</td>\n",
       "      <td>NZL</td>\n",
       "      <td>Not Applicable</td>\n",
       "      <td>Not Applicable</td>\n",
       "      <td>0.0</td>\n",
       "      <td>dc69e4d7</td>\n",
       "      <td>1645593535</td>\n",
       "      <td>1645593535</td>\n",
       "      <td>0.270855</td>\n",
       "      <td>4</td>\n",
       "      <td>POLYGON ((174.00241 -41.27336, 174.00312 -41.2...</td>\n",
       "    </tr>\n",
       "    <tr>\n",
       "      <th>4</th>\n",
       "      <td>303963.0</td>\n",
       "      <td>303963</td>\n",
       "      <td>1</td>\n",
       "      <td>Catlins Conservation Park</td>\n",
       "      <td>Catlins Conservation Park</td>\n",
       "      <td>Stewardship Area</td>\n",
       "      <td>Stewardship Area</td>\n",
       "      <td>National</td>\n",
       "      <td>III</td>\n",
       "      <td>Not Applicable</td>\n",
       "      <td>...</td>\n",
       "      <td>NZL</td>\n",
       "      <td>Not Applicable</td>\n",
       "      <td>Not Applicable</td>\n",
       "      <td>0.0</td>\n",
       "      <td>ff0048d0</td>\n",
       "      <td>1218801077</td>\n",
       "      <td>1218801077</td>\n",
       "      <td>8.412168</td>\n",
       "      <td>5</td>\n",
       "      <td>MULTIPOLYGON (((169.30645 -46.57949, 169.30754...</td>\n",
       "    </tr>\n",
       "  </tbody>\n",
       "</table>\n",
       "<p>5 rows × 37 columns</p>\n",
       "</div>"
      ],
      "text/plain": [
       "     WDPAID WDPA_PID PA_DEF                       NAME  \\\n",
       "0  310492.0   310492      1              Boulder Beach   \n",
       "1  307797.0   307797      1                   Ferndale   \n",
       "2  307745.0   307745      1              Broughton Bay   \n",
       "3  307867.0   307867      1              Kaipupu Point   \n",
       "4  303963.0   303963      1  Catlins Conservation Park   \n",
       "\n",
       "                     ORIG_NA             DESIG           DESIG_E   DESIG_T  \\\n",
       "0  Boulder Beach / WWF Block  Stewardship Area  Stewardship Area  National   \n",
       "1                   Ferndale    Scenic Reserve    Scenic Reserve  National   \n",
       "2              Broughton Bay    Scenic Reserve    Scenic Reserve  National   \n",
       "3              Kaipupu Point    Scenic Reserve    Scenic Reserve  National   \n",
       "4  Catlins Conservation Park  Stewardship Area  Stewardship Area  National   \n",
       "\n",
       "  IUCN_CA         INT_CRI  ... ISO3         SUPP_IN         CONS_OB  SORTER  \\\n",
       "0     III  Not Applicable  ...  NZL  Not Applicable  Not Applicable     0.0   \n",
       "1     III  Not Applicable  ...  NZL  Not Applicable  Not Applicable     0.0   \n",
       "2     III  Not Applicable  ...  NZL  Not Applicable  Not Applicable     0.0   \n",
       "3     III  Not Applicable  ...  NZL  Not Applicable  Not Applicable     0.0   \n",
       "4     III  Not Applicable  ...  NZL  Not Applicable  Not Applicable     0.0   \n",
       "\n",
       "   WDPA_PID_h  WDPA_PID__     hash_vl   AREA_KM  MOL_ID  \\\n",
       "0    9cb933d7  1802338827  1802338827  1.136031       1   \n",
       "1    6dcdc88b   781004482   781004482  0.748492       2   \n",
       "2    322a981f -1455988893 -1455988893  0.031907       3   \n",
       "3    dc69e4d7  1645593535  1645593535  0.270855       4   \n",
       "4    ff0048d0  1218801077  1218801077  8.412168       5   \n",
       "\n",
       "                                            geometry  \n",
       "0  MULTIPOLYGON (((170.62746 -45.89520, 170.62824...  \n",
       "1  POLYGON ((173.97642 -41.19258, 173.97595 -41.1...  \n",
       "2  POLYGON ((173.95691 -41.20976, 173.95580 -41.2...  \n",
       "3  POLYGON ((174.00241 -41.27336, 174.00312 -41.2...  \n",
       "4  MULTIPOLYGON (((169.30645 -46.57949, 169.30754...  \n",
       "\n",
       "[5 rows x 37 columns]"
      ]
     },
     "execution_count": 3,
     "metadata": {},
     "output_type": "execute_result"
    }
   ],
   "source": [
    "gdf.head()"
   ]
  },
  {
   "cell_type": "code",
   "execution_count": 4,
   "metadata": {},
   "outputs": [
    {
     "data": {
      "text/plain": [
       "217486"
      ]
     },
     "execution_count": 4,
     "metadata": {},
     "output_type": "execute_result"
    }
   ],
   "source": [
    "len(gdf) # 217486 (with marine 224133)"
   ]
  },
  {
   "cell_type": "code",
   "execution_count": 5,
   "metadata": {},
   "outputs": [
    {
     "data": {
      "text/plain": [
       "Index(['WDPAID', 'WDPA_PID', 'PA_DEF', 'NAME', 'ORIG_NA', 'DESIG', 'DESIG_E',\n",
       "       'DESIG_T', 'IUCN_CA', 'INT_CRI', 'MARINE', 'REP_M_A', 'GIS_M_A',\n",
       "       'REP_ARE', 'GIS_ARE', 'NO_TAKE', 'NO_TK_A', 'STATUS', 'STATUS_',\n",
       "       'GOV_TYP', 'OWN_TYP', 'MANG_AU', 'MANG_PL', 'VERIF', 'METADAT',\n",
       "       'SUB_LOC', 'PARENT_', 'ISO3', 'SUPP_IN', 'CONS_OB', 'SORTER',\n",
       "       'WDPA_PID_h', 'WDPA_PID__', 'hash_vl', 'AREA_KM', 'MOL_ID', 'geometry'],\n",
       "      dtype='object')"
      ]
     },
     "execution_count": 5,
     "metadata": {},
     "output_type": "execute_result"
    }
   ],
   "source": [
    "gdf.columns"
   ]
  },
  {
   "cell_type": "code",
   "execution_count": 6,
   "metadata": {},
   "outputs": [
    {
     "data": {
      "text/plain": [
       "<Geographic 2D CRS: EPSG:4326>\n",
       "Name: WGS 84\n",
       "Axis Info [ellipsoidal]:\n",
       "- Lat[north]: Geodetic latitude (degree)\n",
       "- Lon[east]: Geodetic longitude (degree)\n",
       "Area of Use:\n",
       "- name: World\n",
       "- bounds: (-180.0, -90.0, 180.0, 90.0)\n",
       "Datum: World Geodetic System 1984\n",
       "- Ellipsoid: WGS 84\n",
       "- Prime Meridian: Greenwich"
      ]
     },
     "execution_count": 6,
     "metadata": {},
     "output_type": "execute_result"
    }
   ],
   "source": [
    "gdf.crs"
   ]
  },
  {
   "cell_type": "code",
   "execution_count": 7,
   "metadata": {},
   "outputs": [
    {
     "data": {
      "text/plain": [
       "57"
      ]
     },
     "execution_count": 7,
     "metadata": {},
     "output_type": "execute_result"
    }
   ],
   "source": [
    "len(gdf[gdf.geometry.isna()]) ### 1152 DPA with empty geometry"
   ]
  },
  {
   "cell_type": "code",
   "execution_count": 8,
   "metadata": {},
   "outputs": [],
   "source": [
    "### delete empty geometries\n",
    "gdf.dropna(subset = [\"geometry\"], inplace=True)"
   ]
  },
  {
   "cell_type": "code",
   "execution_count": 9,
   "metadata": {},
   "outputs": [],
   "source": [
    "gdf.to_file('/Users/tamarahuete/Documents/HALF_EARTH/WDPA_FILTERED_20210615_FILTERED_nomarine_with_oecm_wdpa_dropnullgeom.shp')"
   ]
  },
  {
   "cell_type": "markdown",
   "metadata": {},
   "source": [
    "#### test with subsample that geometries are not lost"
   ]
  },
  {
   "cell_type": "code",
   "execution_count": 10,
   "metadata": {},
   "outputs": [],
   "source": [
    "test = gdf[gdf['ISO3'].isin(['ESP'])]"
   ]
  },
  {
   "cell_type": "code",
   "execution_count": 11,
   "metadata": {},
   "outputs": [
    {
     "data": {
      "text/plain": [
       "3582"
      ]
     },
     "execution_count": 11,
     "metadata": {},
     "output_type": "execute_result"
    }
   ],
   "source": [
    "len(test)"
   ]
  },
  {
   "cell_type": "code",
   "execution_count": 12,
   "metadata": {},
   "outputs": [],
   "source": [
    "test.to_file('/Users/tamarahuete/Documents/HALF_EARTH/test_wdpa.shp')"
   ]
  },
  {
   "cell_type": "code",
   "execution_count": 13,
   "metadata": {},
   "outputs": [
    {
     "name": "stdout",
     "output_type": "stream",
     "text": [
      "[simplify] Repaired 0 intersections; 126,245 intersections could not be repaired\n",
      "[o] Wrote /Users/tamarahuete/Documents/HALF_EARTH/test_simple.shp\n",
      "[o] Wrote /Users/tamarahuete/Documents/HALF_EARTH/test_simple.shx\n",
      "[o] Wrote /Users/tamarahuete/Documents/HALF_EARTH/test_simple.dbf\n",
      "[o] Wrote /Users/tamarahuete/Documents/HALF_EARTH/test_simple.prj\n"
     ]
    }
   ],
   "source": [
    "!mapshaper -i /Users/tamarahuete/Documents/HALF_EARTH/test_wdpa.shp \\\n",
    "            -simplify 30% planar keep-shapes \\\n",
    "            -o /Users/tamarahuete/Documents/HALF_EARTH/test_simple.shp format=shapefile"
   ]
  },
  {
   "cell_type": "code",
   "execution_count": 14,
   "metadata": {},
   "outputs": [],
   "source": [
    "test = gpd.read_file('/Users/tamarahuete/Documents/HALF_EARTH/test_simple.shp')"
   ]
  },
  {
   "cell_type": "code",
   "execution_count": 15,
   "metadata": {},
   "outputs": [
    {
     "data": {
      "text/plain": [
       "3582"
      ]
     },
     "execution_count": 15,
     "metadata": {},
     "output_type": "execute_result"
    }
   ],
   "source": [
    "len(test)"
   ]
  },
  {
   "cell_type": "markdown",
   "metadata": {},
   "source": [
    "#### run mapshaper with all geometries (deleted the fields with empty geometries)"
   ]
  },
  {
   "cell_type": "code",
   "execution_count": 16,
   "metadata": {},
   "outputs": [
    {
     "name": "stdout",
     "output_type": "stream",
     "text": [
      "^C\n"
     ]
    }
   ],
   "source": [
    "!mapshaper -i /Users/tamarahuete/Documents/HALF_EARTH/WDPA_FILTERED_20210615_FILTERED_nomarine_with_oecm_wdpa_dropnullgeom.shp \\\n",
    "            -simplify 35% planar keep-shapes \\\n",
    "            -o /Users/tamarahuete/Documents/HALF_EARTH/WDPA_FILTERED_20210615_FILTERED_nomarine_with_oecm_wdpa_dropnullgeom_simple.shp format=shapefile"
   ]
  },
  {
   "cell_type": "code",
   "execution_count": 75,
   "metadata": {},
   "outputs": [],
   "source": [
    "geometry= gdf.geometry[0:12].simplify(0.0005)"
   ]
  },
  {
   "cell_type": "code",
   "execution_count": 78,
   "metadata": {},
   "outputs": [
    {
     "data": {
      "image/svg+xml": [
       "<svg xmlns=\"http://www.w3.org/2000/svg\" xmlns:xlink=\"http://www.w3.org/1999/xlink\" width=\"100.0\" height=\"100.0\" viewBox=\"173.0520042260001 -40.94215272299994 0.002880581999960441 0.005065847999986772\" preserveAspectRatio=\"xMinYMin meet\"><g transform=\"matrix(1,0,0,-1,0,-81.8792395979999)\"><path fill-rule=\"evenodd\" fill=\"#66cc99\" stroke=\"#555555\" stroke-width=\"0.00010131695999973544\" opacity=\"0.6\" d=\"M 173.053679417,-40.93934938199998 L 173.05417998400003,-40.941965098999944 L 173.05308578300003,-40.94195086599998 L 173.0521918500001,-40.938608915999986 L 173.05421805000003,-40.937274498999955 L 173.05469718400005,-40.93779513299993 L 173.053679417,-40.93934938199998 z\" /></g></svg>"
      ],
      "text/plain": [
       "<shapely.geometry.polygon.Polygon at 0x7ff985d47ad0>"
      ]
     },
     "execution_count": 78,
     "metadata": {},
     "output_type": "execute_result"
    }
   ],
   "source": [
    "i=10\n",
    "geometry[i]"
   ]
  },
  {
   "cell_type": "code",
   "execution_count": 79,
   "metadata": {},
   "outputs": [
    {
     "data": {
      "image/svg+xml": [
       "<svg xmlns=\"http://www.w3.org/2000/svg\" xmlns:xlink=\"http://www.w3.org/1999/xlink\" width=\"100.0\" height=\"100.0\" viewBox=\"173.0520042260001 -40.94215272299994 0.002880581999960441 0.005065847999986772\" preserveAspectRatio=\"xMinYMin meet\"><g transform=\"matrix(1,0,0,-1,0,-81.8792395979999)\"><path fill-rule=\"evenodd\" fill=\"#66cc99\" stroke=\"#555555\" stroke-width=\"0.00010131695999973544\" opacity=\"0.6\" d=\"M 173.053679417,-40.93934938199998 L 173.0535851000001,-40.940284565999946 L 173.05417998400003,-40.941965098999944 L 173.05308578300003,-40.94195086599998 L 173.0521918500001,-40.938608915999986 L 173.053827767,-40.93784981600001 L 173.05408965000004,-40.93756674900001 L 173.05421805000003,-40.937274498999955 L 173.05469718400005,-40.93779513299993 L 173.05419805000005,-40.938670699 L 173.053679417,-40.93934938199998 z\" /></g></svg>"
      ],
      "text/plain": [
       "<shapely.geometry.polygon.Polygon at 0x7ff9855eb590>"
      ]
     },
     "execution_count": 79,
     "metadata": {},
     "output_type": "execute_result"
    }
   ],
   "source": [
    "gdf.geometry[i]"
   ]
  },
  {
   "cell_type": "code",
   "execution_count": null,
   "metadata": {},
   "outputs": [],
   "source": [
    "### started 13:35 2021-09-31"
   ]
  },
  {
   "cell_type": "code",
   "execution_count": 102,
   "metadata": {},
   "outputs": [],
   "source": [
    "gdf = gpd.read_file(\"/Users/tamarahuete/Documents/HALF_EARTH/WDPA_FILTERED_20210615_FILTERED_fillNA_with_oecm_wdpa_dropnullgeom_simple.shp\")"
   ]
  },
  {
   "cell_type": "code",
   "execution_count": 108,
   "metadata": {},
   "outputs": [
    {
     "data": {
      "text/html": [
       "<div>\n",
       "<style scoped>\n",
       "    .dataframe tbody tr th:only-of-type {\n",
       "        vertical-align: middle;\n",
       "    }\n",
       "\n",
       "    .dataframe tbody tr th {\n",
       "        vertical-align: top;\n",
       "    }\n",
       "\n",
       "    .dataframe thead th {\n",
       "        text-align: right;\n",
       "    }\n",
       "</style>\n",
       "<table border=\"1\" class=\"dataframe\">\n",
       "  <thead>\n",
       "    <tr style=\"text-align: right;\">\n",
       "      <th></th>\n",
       "      <th>GID_0</th>\n",
       "      <th>NAME_0</th>\n",
       "      <th>GID_1</th>\n",
       "      <th>NAME_1</th>\n",
       "      <th>VARNAME_1</th>\n",
       "      <th>NL_NAME_1</th>\n",
       "      <th>TYPE_1</th>\n",
       "      <th>ENGTYPE_1</th>\n",
       "      <th>CC_1</th>\n",
       "      <th>HASC_1</th>\n",
       "      <th>...</th>\n",
       "      <th>percentage</th>\n",
       "      <th>percent_ir</th>\n",
       "      <th>percent_ra</th>\n",
       "      <th>percent__1</th>\n",
       "      <th>percent_ur</th>\n",
       "      <th>population</th>\n",
       "      <th>majority_l</th>\n",
       "      <th>land_cover</th>\n",
       "      <th>climate_re</th>\n",
       "      <th>geometry</th>\n",
       "    </tr>\n",
       "  </thead>\n",
       "  <tbody>\n",
       "    <tr>\n",
       "      <th>0</th>\n",
       "      <td>AFG</td>\n",
       "      <td>Afghanistan</td>\n",
       "      <td>AFG.1_1</td>\n",
       "      <td>Badakhshan</td>\n",
       "      <td>BadahÅ¡an</td>\n",
       "      <td>None</td>\n",
       "      <td>Velayat</td>\n",
       "      <td>Province</td>\n",
       "      <td>None</td>\n",
       "      <td>AF.BD</td>\n",
       "      <td>...</td>\n",
       "      <td>30.265938</td>\n",
       "      <td>1.09</td>\n",
       "      <td>13.19</td>\n",
       "      <td>65.92</td>\n",
       "      <td>0.00</td>\n",
       "      <td>1.236789e+06</td>\n",
       "      <td>107</td>\n",
       "      <td>Grassland</td>\n",
       "      <td>Cool Temperate Moist</td>\n",
       "      <td>POLYGON ((70.25101 35.65854, 70.25257 35.66293...</td>\n",
       "    </tr>\n",
       "    <tr>\n",
       "      <th>1</th>\n",
       "      <td>AFG</td>\n",
       "      <td>Afghanistan</td>\n",
       "      <td>AFG.2_1</td>\n",
       "      <td>Badghis</td>\n",
       "      <td>Badghes|Badghisat|Badgis</td>\n",
       "      <td>None</td>\n",
       "      <td>Velayat</td>\n",
       "      <td>Province</td>\n",
       "      <td>None</td>\n",
       "      <td>AF.BG</td>\n",
       "      <td>...</td>\n",
       "      <td>0.000000</td>\n",
       "      <td>2.64</td>\n",
       "      <td>65.08</td>\n",
       "      <td>32.29</td>\n",
       "      <td>0.00</td>\n",
       "      <td>6.523502e+05</td>\n",
       "      <td>205</td>\n",
       "      <td>Sparsley or Non vegetated</td>\n",
       "      <td>Warm Temperate Dry</td>\n",
       "      <td>POLYGON ((62.81617 35.30153, 62.81999 35.30226...</td>\n",
       "    </tr>\n",
       "    <tr>\n",
       "      <th>2</th>\n",
       "      <td>AFG</td>\n",
       "      <td>Afghanistan</td>\n",
       "      <td>AFG.3_1</td>\n",
       "      <td>Baghlan</td>\n",
       "      <td>Baglan|Bughlan</td>\n",
       "      <td>None</td>\n",
       "      <td>Velayat</td>\n",
       "      <td>Province</td>\n",
       "      <td>None</td>\n",
       "      <td>AF.BL</td>\n",
       "      <td>...</td>\n",
       "      <td>3.208203</td>\n",
       "      <td>5.77</td>\n",
       "      <td>23.55</td>\n",
       "      <td>70.21</td>\n",
       "      <td>0.00</td>\n",
       "      <td>1.040738e+06</td>\n",
       "      <td>107</td>\n",
       "      <td>Grassland</td>\n",
       "      <td>Cool Temperate Moist</td>\n",
       "      <td>POLYGON ((67.39591 35.43840, 67.40628 35.44152...</td>\n",
       "    </tr>\n",
       "    <tr>\n",
       "      <th>3</th>\n",
       "      <td>AFG</td>\n",
       "      <td>Afghanistan</td>\n",
       "      <td>AFG.4_1</td>\n",
       "      <td>Balkh</td>\n",
       "      <td>Balh|Mazar-i-Sharif|Mazar</td>\n",
       "      <td>None</td>\n",
       "      <td>Velayat</td>\n",
       "      <td>Province</td>\n",
       "      <td>None</td>\n",
       "      <td>AF.BK</td>\n",
       "      <td>...</td>\n",
       "      <td>0.000000</td>\n",
       "      <td>19.39</td>\n",
       "      <td>42.97</td>\n",
       "      <td>19.65</td>\n",
       "      <td>0.46</td>\n",
       "      <td>1.312167e+06</td>\n",
       "      <td>201</td>\n",
       "      <td>Sparsley or Non vegetated</td>\n",
       "      <td>Warm Temperate Dry</td>\n",
       "      <td>POLYGON ((66.56960 36.57032, 66.56117 36.57037...</td>\n",
       "    </tr>\n",
       "    <tr>\n",
       "      <th>4</th>\n",
       "      <td>AFG</td>\n",
       "      <td>Afghanistan</td>\n",
       "      <td>AFG.5_1</td>\n",
       "      <td>Bamyan</td>\n",
       "      <td>None</td>\n",
       "      <td>None</td>\n",
       "      <td>Velayat</td>\n",
       "      <td>Province</td>\n",
       "      <td>None</td>\n",
       "      <td>AF.BM</td>\n",
       "      <td>...</td>\n",
       "      <td>31.462136</td>\n",
       "      <td>0.45</td>\n",
       "      <td>0.00</td>\n",
       "      <td>99.62</td>\n",
       "      <td>0.00</td>\n",
       "      <td>4.321846e+05</td>\n",
       "      <td>142</td>\n",
       "      <td>Grassland</td>\n",
       "      <td>Cool Temperate Dry</td>\n",
       "      <td>POLYGON ((66.55791 34.42338, 66.57417 34.42561...</td>\n",
       "    </tr>\n",
       "  </tbody>\n",
       "</table>\n",
       "<p>5 rows × 27 columns</p>\n",
       "</div>"
      ],
      "text/plain": [
       "  GID_0       NAME_0    GID_1      NAME_1                  VARNAME_1  \\\n",
       "0   AFG  Afghanistan  AFG.1_1  Badakhshan                  BadahÅ¡an   \n",
       "1   AFG  Afghanistan  AFG.2_1     Badghis   Badghes|Badghisat|Badgis   \n",
       "2   AFG  Afghanistan  AFG.3_1     Baghlan             Baglan|Bughlan   \n",
       "3   AFG  Afghanistan  AFG.4_1       Balkh  Balh|Mazar-i-Sharif|Mazar   \n",
       "4   AFG  Afghanistan  AFG.5_1      Bamyan                       None   \n",
       "\n",
       "  NL_NAME_1   TYPE_1 ENGTYPE_1  CC_1 HASC_1  ...  percentage  percent_ir  \\\n",
       "0      None  Velayat  Province  None  AF.BD  ...   30.265938        1.09   \n",
       "1      None  Velayat  Province  None  AF.BG  ...    0.000000        2.64   \n",
       "2      None  Velayat  Province  None  AF.BL  ...    3.208203        5.77   \n",
       "3      None  Velayat  Province  None  AF.BK  ...    0.000000       19.39   \n",
       "4      None  Velayat  Province  None  AF.BM  ...   31.462136        0.45   \n",
       "\n",
       "   percent_ra  percent__1  percent_ur    population majority_l  \\\n",
       "0       13.19       65.92        0.00  1.236789e+06        107   \n",
       "1       65.08       32.29        0.00  6.523502e+05        205   \n",
       "2       23.55       70.21        0.00  1.040738e+06        107   \n",
       "3       42.97       19.65        0.46  1.312167e+06        201   \n",
       "4        0.00       99.62        0.00  4.321846e+05        142   \n",
       "\n",
       "                  land_cover            climate_re  \\\n",
       "0                  Grassland  Cool Temperate Moist   \n",
       "1  Sparsley or Non vegetated    Warm Temperate Dry   \n",
       "2                  Grassland  Cool Temperate Moist   \n",
       "3  Sparsley or Non vegetated    Warm Temperate Dry   \n",
       "4                  Grassland    Cool Temperate Dry   \n",
       "\n",
       "                                            geometry  \n",
       "0  POLYGON ((70.25101 35.65854, 70.25257 35.66293...  \n",
       "1  POLYGON ((62.81617 35.30153, 62.81999 35.30226...  \n",
       "2  POLYGON ((67.39591 35.43840, 67.40628 35.44152...  \n",
       "3  POLYGON ((66.56960 36.57032, 66.56117 36.57037...  \n",
       "4  POLYGON ((66.55791 34.42338, 66.57417 34.42561...  \n",
       "\n",
       "[5 rows x 27 columns]"
      ]
     },
     "execution_count": 108,
     "metadata": {},
     "output_type": "execute_result"
    }
   ],
   "source": [
    "gdf.head()"
   ]
  },
  {
   "cell_type": "code",
   "execution_count": 104,
   "metadata": {},
   "outputs": [
    {
     "data": {
      "text/plain": [
       "3866"
      ]
     },
     "execution_count": 104,
     "metadata": {},
     "output_type": "execute_result"
    }
   ],
   "source": [
    "len(gdf)"
   ]
  },
  {
   "cell_type": "code",
   "execution_count": 109,
   "metadata": {},
   "outputs": [],
   "source": [
    "### delete whole country geometries\n",
    "gdf.dropna(subset = [\"GID_1\"], inplace=True)"
   ]
  },
  {
   "cell_type": "code",
   "execution_count": 142,
   "metadata": {},
   "outputs": [
    {
     "data": {
      "text/plain": [
       "'Andalucía'"
      ]
     },
     "execution_count": 142,
     "metadata": {},
     "output_type": "execute_result"
    }
   ],
   "source": [
    "gdf[gdf['GID_0']=='ESP']['NAME_1'].values[0].encode(\"latin-1\").decode(\"utf-8\")"
   ]
  },
  {
   "cell_type": "code",
   "execution_count": 146,
   "metadata": {},
   "outputs": [],
   "source": [
    "gdf['NAME_1']= gdf['NAME_1'].apply(lambda x: x.encode(\"latin-1\").decode(\"utf-8\"))"
   ]
  },
  {
   "cell_type": "code",
   "execution_count": 147,
   "metadata": {},
   "outputs": [
    {
     "data": {
      "text/plain": [
       "856                     Andalucía\n",
       "857                        Aragón\n",
       "858                     Cantabria\n",
       "859            Castilla-La Mancha\n",
       "860               Castilla y León\n",
       "861                      Cataluña\n",
       "862               Ceuta y Melilla\n",
       "863           Comunidad de Madrid\n",
       "864    Comunidad Foral de Navarra\n",
       "865          Comunidad Valenciana\n",
       "866                   Extremadura\n",
       "867                       Galicia\n",
       "868                Islas Baleares\n",
       "869                Islas Canarias\n",
       "870                      La Rioja\n",
       "871                    País Vasco\n",
       "872        Principado de Asturias\n",
       "873              Región de Murcia\n",
       "Name: NAME_1, dtype: object"
      ]
     },
     "execution_count": 147,
     "metadata": {},
     "output_type": "execute_result"
    }
   ],
   "source": [
    "gdf[gdf['GID_0']=='ESP']['NAME_1']"
   ]
  },
  {
   "cell_type": "code",
   "execution_count": 148,
   "metadata": {},
   "outputs": [],
   "source": [
    "gdf.rename(columns={'NAME_1':'ID'}, inplace=True)"
   ]
  },
  {
   "cell_type": "code",
   "execution_count": 155,
   "metadata": {},
   "outputs": [],
   "source": [
    "gdf.to_file(\"/Users/tamarahuete/Documents/HALF_EARTH/gadm_0_1_simple.shp\")"
   ]
  }
 ],
 "metadata": {
  "kernelspec": {
   "display_name": "gdalML",
   "language": "python",
   "name": "gdalml"
  },
  "language_info": {
   "codemirror_mode": {
    "name": "ipython",
    "version": 3
   },
   "file_extension": ".py",
   "mimetype": "text/x-python",
   "name": "python",
   "nbconvert_exporter": "python",
   "pygments_lexer": "ipython3",
   "version": "3.7.7"
  }
 },
 "nbformat": 4,
 "nbformat_minor": 4
}
