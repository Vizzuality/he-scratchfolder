{
 "cells": [
  {
   "cell_type": "markdown",
   "id": "8793eb91-f512-4caf-bc59-516e61d1e781",
   "metadata": {},
   "source": [
    "## Identify WDPAs in each gadm1\n"
   ]
  },
  {
   "cell_type": "markdown",
   "id": "2c1f8824-b7ae-4ca2-ab09-4e70f4f8244d",
   "metadata": {},
   "source": [
    "This notebook performs a spatial join between the WDPAs dataset and the gadm1 administrative boundaries to identify which WDPAs belong to each of the regions defined in the gadm1."
   ]
  },
  {
   "cell_type": "markdown",
   "id": "ffd3ece9-e9f6-4f4a-b7e7-27a78056eeaa",
   "metadata": {},
   "source": [
    "#### Import packages"
   ]
  },
  {
   "cell_type": "code",
   "execution_count": 1,
   "id": "7f8f3df8-7d61-403a-9e11-f252afe77e86",
   "metadata": {},
   "outputs": [],
   "source": [
    "import pandas as pd\n",
    "import numpy as np\n",
    "import geopandas as gpd\n",
    "import arcgis\n",
    "from arcgis.gis import GIS\n",
    "import json\n",
    "import pandas as pd\n",
    "from arcgis.features import FeatureLayerCollection\n",
    "import requests as re\n",
    "from copy import deepcopy"
   ]
  },
  {
   "cell_type": "markdown",
   "id": "24c0e5f9-3aa7-4df6-be9b-a45be0d4238c",
   "metadata": {},
   "source": [
    "#### Connect to arcgis online with credentials saved in .env file"
   ]
  },
  {
   "cell_type": "code",
   "execution_count": 76,
   "id": "ffd6fd7c-3083-4496-8253-69477b7fe45f",
   "metadata": {},
   "outputs": [],
   "source": [
    "env_path = \".env\"\n",
    "with open(env_path) as f:\n",
    "   env = {}\n",
    "   for line in f:\n",
    "       env_key, _val = line.split(\"=\")\n",
    "       env_value = _val.split(\"\\n\")[0]\n",
    "       env[env_key] = env_value\n",
    "\n",
    "aol_password = env['aol_key']\n",
    "aol_username = env['aol_username']\n",
    "\n",
    "gis = GIS(\"https://eowilson.maps.arcgis.com\", aol_username, aol_password)"
   ]
  },
  {
   "cell_type": "markdown",
   "id": "d5d6902d-c0a2-4874-bf9f-19fbc1fe7926",
   "metadata": {},
   "source": [
    "#### Read files"
   ]
  },
  {
   "cell_type": "code",
   "execution_count": 143,
   "id": "0e6d90d6-62d7-477d-aaa2-fe5bb71a1467",
   "metadata": {},
   "outputs": [],
   "source": [
    "## read tables saved in local as geodataframes\n",
    "wdpa = gpd.read_file('zip:///Users/sofia/Documents/HE_Data/WDPA_FILTERED_20210615_FILTERED_nomarine_with_oecm_wdpa.zip')\n",
    "gadm1 = gpd.read_file('zip:///Users/sofia/Documents/HE_Data/gadm36_level1.zip')"
   ]
  },
  {
   "cell_type": "code",
   "execution_count": 138,
   "id": "c715527e-6f3d-40fd-ae6a-d000453b8505",
   "metadata": {},
   "outputs": [],
   "source": [
    "# ## read gadm1 calling it from arcgis online\n",
    "# item_id = '3f89b653de41428a8166d51f383f0950'\n",
    "# item = gis.content.get(item_id)\n",
    "# flayer = item.layers[0]\n",
    "# gadm1 = pd.DataFrame.spatial.from_layer(flayer) # this is a sdf"
   ]
  },
  {
   "cell_type": "code",
   "execution_count": 139,
   "id": "e7809ad5-9fd5-456a-8c44-5ef3ae63b51b",
   "metadata": {},
   "outputs": [],
   "source": [
    "# ## convert gadm1 from dataframe to geodataframe\n",
    "# gadm1 = gpd.GeoDataFrame(gadm1, geometry='SHAPE')\n",
    "# gadm1.crs\n",
    "# gadm1 = gadm1.set_crs(epsg=3857) # set crs\n",
    "# gadm1 = gadm1.to_crs(epsg=4326) # project to wdpa crs"
   ]
  },
  {
   "cell_type": "markdown",
   "id": "d2fdee52-8a03-4e47-a0b9-95b992d620dc",
   "metadata": {},
   "source": [
    "#### Select only relevant columns"
   ]
  },
  {
   "cell_type": "code",
   "execution_count": 144,
   "id": "18163274-4a73-4510-a1f6-a5bea91a656f",
   "metadata": {},
   "outputs": [
    {
     "name": "stderr",
     "output_type": "stream",
     "text": [
      "/opt/anaconda3/envs/vizz38/lib/python3.8/site-packages/pandas/core/frame.py:5039: SettingWithCopyWarning: \n",
      "A value is trying to be set on a copy of a slice from a DataFrame\n",
      "\n",
      "See the caveats in the documentation: https://pandas.pydata.org/pandas-docs/stable/user_guide/indexing.html#returning-a-view-versus-a-copy\n",
      "  return super().rename(\n"
     ]
    }
   ],
   "source": [
    "gadm = gadm1[['GID_0','NAME_0','NAME_1','MOL_ID','geometry']]\n",
    "gadm.rename(columns={'MOL_ID':'MOL_IDg'},inplace=True)\n",
    "wd = wdpa[['MOL_ID','ISO3','ORIG_NA','STATUS','GOV_TYP','DESIG_E','DESIG_T','AREA_KM','geometry']]"
   ]
  },
  {
   "cell_type": "markdown",
   "id": "3f251b77-45e1-4e96-9c75-a1177fc6dd0c",
   "metadata": {},
   "source": [
    "#### Spatial join"
   ]
  },
  {
   "cell_type": "code",
   "execution_count": 141,
   "id": "6a7a79f5-d049-4b18-adb1-31a94d88451a",
   "metadata": {},
   "outputs": [],
   "source": [
    "gwd = gpd.sjoin(gadm,wd, how='right')"
   ]
  },
  {
   "cell_type": "markdown",
   "id": "74288278-a108-4b15-a6ae-bdd5a9d61461",
   "metadata": {},
   "source": [
    "#### Save file as shp and as csv"
   ]
  },
  {
   "cell_type": "code",
   "execution_count": 73,
   "id": "d6242dc2-cb19-4442-b4ec-9febeab9c2a8",
   "metadata": {},
   "outputs": [],
   "source": [
    "gwd = gwd.drop(columns=['index_left'])\n",
    "gwd.to_file(filename='/Users/sofia/Documents/HE_Data/wdpa_with_gadm1', driver='ESRI Shapefile')\n",
    "gwd = gwd.drop(columns=['geometry'])\n",
    "gwd.to_csv('/Users/sofia/Documents/HE_Data/wdpa_with_gadm1.csv')"
   ]
  },
  {
   "cell_type": "markdown",
   "id": "a10efe3f-dd3d-4396-99ee-5d7302df99d4",
   "metadata": {},
   "source": [
    "#### Publish layers with API"
   ]
  },
  {
   "cell_type": "code",
   "execution_count": 145,
   "id": "b53c3511-c24e-4ef3-8155-53cb7a65e6d0",
   "metadata": {},
   "outputs": [],
   "source": [
    "# Function to publish files as feature services or hosted tables\n",
    "\n",
    "def publishCSVasFS(csv_file,csvName, gis, aol_folder_name, sharing, table): # sharing = 'None', 'groups', 'everyone' # table = 'yes', 'no'\n",
    "    try:\n",
    "        \n",
    "        if gis.content.is_service_name_available(csvName, \"featureService\"):\n",
    "            print(f\"Service name {csvName} is available\")\n",
    "            #csv_file = f'./{csvName}.csv'\n",
    "            csv_item = gis.content.add({}, csv_file)\n",
    "            #csv_lyr = csv_item.publish(None,  {'CountryCode' : 'countryname'})\n",
    "            if table == 'yes':\n",
    "                csv_lyr = csv_item.publish(publish_parameters={'locationType':'none', 'type':'csv'})\n",
    "            else:\n",
    "                csv_lyr = csv_item.publish()\n",
    "                flayer_collection = FeatureLayerCollection.fromitem(csv_lyr)\n",
    "                searched_flayer = flayer_collection.layers[0] \n",
    "                nber_features = searched_flayer.query(return_count_only=True)\n",
    "                print(f\"The service {csvName} has been published. The service has {nber_features} entries\")\n",
    "            print(f\"Moving service {csvName} to {aol_folder_name} in ArcGIS Online...\")\n",
    "            # move both the csv_item and csv_lyr items into this new folder\n",
    "            csv_item.move(aol_folder_name)\n",
    "            csv_lyr.move(aol_folder_name)\n",
    "            print(f\"Service {csvName} has been moved to {aol_folder_name} in ArcGIS Online\")\n",
    "#             sharing, default is owner\n",
    "#             csv_lyr.shared_with\n",
    "            if sharing == 'None':\n",
    "                csv_lyr.share(everyone=False, org=False, groups=None, allow_members_to_edit=False)\n",
    "            if sharing == 'groups':\n",
    "            # the group id is needed to share with agroup\n",
    "                csv_lyr.share(everyone=False, org=False, groups=[group_id], allow_members_to_edit=False)\n",
    "            if sharing == 'everyone':\n",
    "                csv_lyr.share(everyone=True, org=False, groups=None, allow_members_to_edit=False)\n",
    "            sharing_prop = csv_lyr.shared_with\n",
    "            if sharing_prop['everyone']==True:\n",
    "                print(f\"shared with everyone\")   \n",
    "            else:\n",
    "                print(f\"not a public layer, for this layer to be used it has to be public or the urls have to be whitelisted\")            \n",
    "            #not allowing deleting\n",
    "            csv_lyr.protect()\n",
    "            print(f\"{csvName}'s protection against deletion : {csv_lyr.protected}\") \n",
    "            # it is possible to check the status with csv_item.content_status\n",
    "            return csv_lyr.id\n",
    "        else:\n",
    "            print(\"The service name is not available, try overwritting, appending the data or a different service name\")\n",
    "    except:\n",
    "        print(\"The csv hasn't been published\")"
   ]
  },
  {
   "cell_type": "code",
   "execution_count": 148,
   "id": "f0d7f7ac-687b-40b6-b115-a94d507f9c12",
   "metadata": {},
   "outputs": [
    {
     "ename": "TypeError",
     "evalue": "publishCSVasFS() missing 1 required positional argument: 'table'",
     "output_type": "error",
     "traceback": [
      "\u001b[0;31m---------------------------------------------------------------------------\u001b[0m",
      "\u001b[0;31mTypeError\u001b[0m                                 Traceback (most recent call last)",
      "\u001b[0;32m/var/folders/98/0pdnjc5s29x2pnzl293pw7hr0000gn/T/ipykernel_5043/3570352817.py\u001b[0m in \u001b[0;36m<module>\u001b[0;34m\u001b[0m\n\u001b[1;32m      5\u001b[0m \u001b[0maol_folder_name\u001b[0m \u001b[0;34m=\u001b[0m \u001b[0;34m'#6 precalculated data'\u001b[0m\u001b[0;34m\u001b[0m\u001b[0;34m\u001b[0m\u001b[0m\n\u001b[1;32m      6\u001b[0m \u001b[0mgroup_id\u001b[0m\u001b[0;34m=\u001b[0m\u001b[0;34m'46783c33c294485abe83f5e899c2f21f'\u001b[0m\u001b[0;34m\u001b[0m\u001b[0;34m\u001b[0m\u001b[0m\n\u001b[0;32m----> 7\u001b[0;31m \u001b[0mpublishCSVasFS\u001b[0m\u001b[0;34m(\u001b[0m\u001b[0mcsv_file\u001b[0m\u001b[0;34m,\u001b[0m\u001b[0mcsvName\u001b[0m\u001b[0;34m,\u001b[0m\u001b[0mgis\u001b[0m\u001b[0;34m,\u001b[0m\u001b[0maol_folder_name\u001b[0m\u001b[0;34m,\u001b[0m\u001b[0msharing\u001b[0m\u001b[0;34m=\u001b[0m\u001b[0;34m'groups'\u001b[0m\u001b[0;34m)\u001b[0m\u001b[0;34m\u001b[0m\u001b[0;34m\u001b[0m\u001b[0m\n\u001b[0m",
      "\u001b[0;31mTypeError\u001b[0m: publishCSVasFS() missing 1 required positional argument: 'table'"
     ]
    }
   ],
   "source": [
    "# Run function with the file we want to add\n",
    "csv_file = '/Users/sofia/Documents/HE_Data/wdpa_with_gadm1.zip'\n",
    "csvName = 'wdpa_with_gadm1_2'\n",
    "gis = GIS(\"https://eowilson.maps.arcgis.com\", aol_username, aol_password)\n",
    "aol_folder_name = '#6 precalculated data'\n",
    "group_id='46783c33c294485abe83f5e899c2f21f'\n",
    "publishCSVasFS(csv_file,csvName,gis,aol_folder_name,sharing='groups')"
   ]
  }
 ],
 "metadata": {
  "kernelspec": {
   "display_name": "Python 3 (ipykernel)",
   "language": "python",
   "name": "python3"
  },
  "language_info": {
   "codemirror_mode": {
    "name": "ipython",
    "version": 3
   },
   "file_extension": ".py",
   "mimetype": "text/x-python",
   "name": "python",
   "nbconvert_exporter": "python",
   "pygments_lexer": "ipython3",
   "version": "3.8.12"
  }
 },
 "nbformat": 4,
 "nbformat_minor": 5
}
