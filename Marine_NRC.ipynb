{
 "cells": [
  {
   "cell_type": "markdown",
   "id": "00a262f5-aa30-4c94-9158-c7d72a28d96f",
   "metadata": {},
   "source": [
    "# Incorporate marine species to NRC\n",
    "### In this notebook we incorporate marine data to the updated terrestrial data calculated in the Terrestrial_NRC notebook\n",
    "April 2022"
   ]
  },
  {
   "cell_type": "code",
   "execution_count": 1,
   "id": "9dd09070-8dea-4317-9934-3b6d8a2e80b3",
   "metadata": {},
   "outputs": [],
   "source": [
    "import pandas as pd\n",
    "import numpy as np\n",
    "import geopandas as gpd\n",
    "import arcgis\n",
    "from arcgis.gis import GIS\n",
    "import json\n",
    "import pandas as pd\n",
    "from arcgis.features import FeatureLayerCollection\n",
    "import requests as re\n",
    "from copy import deepcopy\n",
    "from itertools import repeat\n",
    "import functools"
   ]
  },
  {
   "cell_type": "markdown",
   "id": "27764108-cb39-446c-94af-c1b442db2179",
   "metadata": {},
   "source": [
    "## Import, explore and prepare the data"
   ]
  },
  {
   "cell_type": "code",
   "execution_count": 2,
   "id": "d2912ddf-be0d-422f-aabb-27c5c4caaff9",
   "metadata": {},
   "outputs": [],
   "source": [
    "path = '/Users/sofia/Documents/HE_Data/NRC/NRC_Marine'"
   ]
  },
  {
   "cell_type": "code",
   "execution_count": 3,
   "id": "a9e56c93-f070-4108-af1e-564cd6d4e361",
   "metadata": {},
   "outputs": [],
   "source": [
    "# Import tables\n",
    "gadm = pd.read_csv('/Users/sofia/Documents/HE_Data/NRC/NRC_Terrestrial/NRC_Terrestrial_20220412.csv') # This is the updated gadm_centroid\n",
    "spi = pd.read_csv(f'{path}/Marine_SPI_by_country_202203323_ter-1.csv')# table with spi and protection\n",
    "mar = pd.read_csv(f'{path}/NRC_marine_species_data_20220323_ter-1.csv') # Species able provided by Alex (MOL)\n",
    "pop = pd.read_csv(f'{path}/Pop2020_EEZ.csv') # calculated in arcgis pro using the population2020.crf and the EEZ shapefile\n",
    "hm = pd.read_csv(f'{path}/marine_perc_human.csv') # human modification table\n",
    "EEZ = pd.read_csv(f'{path}/eez_dissolve_centroid.csv') # centroids of the EEZ created in ArcGIS pro (inside option deactivated so the centroid can fall outside the geometry)"
   ]
  },
  {
   "cell_type": "code",
   "execution_count": null,
   "id": "7bfc0ec2-cc81-4d80-956b-d54a116a5dde",
   "metadata": {},
   "outputs": [
    {
     "data": {
      "text/html": [
       "<div>\n",
       "<style scoped>\n",
       "    .dataframe tbody tr th:only-of-type {\n",
       "        vertical-align: middle;\n",
       "    }\n",
       "\n",
       "    .dataframe tbody tr th {\n",
       "        vertical-align: top;\n",
       "    }\n",
       "\n",
       "    .dataframe thead th {\n",
       "        text-align: right;\n",
       "    }\n",
       "</style>\n",
       "<table border=\"1\" class=\"dataframe\">\n",
       "  <thead>\n",
       "    <tr style=\"text-align: right;\">\n",
       "      <th></th>\n",
       "      <th>Unnamed: 0</th>\n",
       "      <th>GID_0</th>\n",
       "      <th>NAME_0</th>\n",
       "      <th>jpg_url</th>\n",
       "      <th>GNI_PPP</th>\n",
       "      <th>max_amph</th>\n",
       "      <th>max_bird</th>\n",
       "      <th>max_mamm</th>\n",
       "      <th>max_rept</th>\n",
       "      <th>max_cact</th>\n",
       "      <th>...</th>\n",
       "      <th>birds</th>\n",
       "      <th>mammals</th>\n",
       "      <th>reptiles</th>\n",
       "      <th>endemic_amphibians</th>\n",
       "      <th>endemic_birds</th>\n",
       "      <th>endemic_mammals</th>\n",
       "      <th>endemic_reptiles</th>\n",
       "      <th>nspecies_ter</th>\n",
       "      <th>total_endemic_ter</th>\n",
       "      <th>filter_similar_ter</th>\n",
       "    </tr>\n",
       "  </thead>\n",
       "  <tbody>\n",
       "    <tr>\n",
       "      <th>0</th>\n",
       "      <td>0</td>\n",
       "      <td>ABW</td>\n",
       "      <td>Aruba</td>\n",
       "      <td>https://live.staticflickr.com/1952/31416683438...</td>\n",
       "      <td>3.9</td>\n",
       "      <td>3</td>\n",
       "      <td>1</td>\n",
       "      <td>10</td>\n",
       "      <td>10</td>\n",
       "      <td>10</td>\n",
       "      <td>...</td>\n",
       "      <td>193</td>\n",
       "      <td>4</td>\n",
       "      <td>32</td>\n",
       "      <td>0</td>\n",
       "      <td>0</td>\n",
       "      <td>0</td>\n",
       "      <td>3</td>\n",
       "      <td>232</td>\n",
       "      <td>3</td>\n",
       "      <td>{\"filter_Area_Country\": [\"JEY\", \"CXR\", \"WLF\", ...</td>\n",
       "    </tr>\n",
       "  </tbody>\n",
       "</table>\n",
       "<p>1 rows × 41 columns</p>\n",
       "</div>"
      ],
      "text/plain": [
       "   Unnamed: 0 GID_0 NAME_0                                            jpg_url  \\\n",
       "0           0   ABW  Aruba  https://live.staticflickr.com/1952/31416683438...   \n",
       "\n",
       "   GNI_PPP  max_amph  max_bird  max_mamm  max_rept  max_cact  ...  birds  \\\n",
       "0      3.9         3         1        10        10        10  ...    193   \n",
       "\n",
       "   mammals reptiles  endemic_amphibians endemic_birds endemic_mammals  \\\n",
       "0        4       32                   0             0               0   \n",
       "\n",
       "   endemic_reptiles  nspecies_ter  total_endemic_ter  \\\n",
       "0                 3           232                  3   \n",
       "\n",
       "                                  filter_similar_ter  \n",
       "0  {\"filter_Area_Country\": [\"JEY\", \"CXR\", \"WLF\", ...  \n",
       "\n",
       "[1 rows x 41 columns]"
      ]
     },
     "execution_count": 4,
     "metadata": {},
     "output_type": "execute_result"
    }
   ],
   "source": [
    "gadm.head(1)"
   ]
  },
  {
   "cell_type": "code",
   "execution_count": 5,
   "id": "32085141-0607-4b12-b98c-053ccd21de7d",
   "metadata": {},
   "outputs": [
    {
     "data": {
      "text/plain": [
       "252"
      ]
     },
     "execution_count": 5,
     "metadata": {},
     "output_type": "execute_result"
    }
   ],
   "source": [
    "len(gadm)"
   ]
  },
  {
   "cell_type": "code",
   "execution_count": 6,
   "id": "97a5db1f-8cf1-4158-a0d5-cdf63ab25d25",
   "metadata": {},
   "outputs": [
    {
     "data": {
      "text/html": [
       "<div>\n",
       "<style scoped>\n",
       "    .dataframe tbody tr th:only-of-type {\n",
       "        vertical-align: middle;\n",
       "    }\n",
       "\n",
       "    .dataframe tbody tr th {\n",
       "        vertical-align: top;\n",
       "    }\n",
       "\n",
       "    .dataframe thead th {\n",
       "        text-align: right;\n",
       "    }\n",
       "</style>\n",
       "<table border=\"1\" class=\"dataframe\">\n",
       "  <thead>\n",
       "    <tr style=\"text-align: right;\">\n",
       "      <th></th>\n",
       "      <th>SOVEREIGN1</th>\n",
       "      <th>iso_ter1</th>\n",
       "      <th>year</th>\n",
       "      <th>nspecies</th>\n",
       "      <th>SPI_low</th>\n",
       "      <th>SPI_high</th>\n",
       "      <th>percentprotected_low</th>\n",
       "      <th>percentprotected_high</th>\n",
       "    </tr>\n",
       "  </thead>\n",
       "  <tbody>\n",
       "    <tr>\n",
       "      <th>0</th>\n",
       "      <td>Albania</td>\n",
       "      <td>ALB</td>\n",
       "      <td>1980</td>\n",
       "      <td>347</td>\n",
       "      <td>0.0</td>\n",
       "      <td>0.0</td>\n",
       "      <td>0.0</td>\n",
       "      <td>0.0</td>\n",
       "    </tr>\n",
       "  </tbody>\n",
       "</table>\n",
       "</div>"
      ],
      "text/plain": [
       "  SOVEREIGN1 iso_ter1  year  nspecies  SPI_low  SPI_high  \\\n",
       "0    Albania      ALB  1980       347      0.0       0.0   \n",
       "\n",
       "   percentprotected_low  percentprotected_high  \n",
       "0                   0.0                    0.0  "
      ]
     },
     "execution_count": 6,
     "metadata": {},
     "output_type": "execute_result"
    }
   ],
   "source": [
    "spi.head(1)"
   ]
  },
  {
   "cell_type": "code",
   "execution_count": 7,
   "id": "c9e47924-1cfb-41cf-9b81-f6c0a70e02cd",
   "metadata": {},
   "outputs": [
    {
     "data": {
      "text/plain": [
       "183"
      ]
     },
     "execution_count": 7,
     "metadata": {},
     "output_type": "execute_result"
    }
   ],
   "source": [
    "len(spi['iso_ter1'].unique()) # There are 183 unique countries/territories with SPI data"
   ]
  },
  {
   "cell_type": "code",
   "execution_count": 8,
   "id": "47fbd886-c53a-449d-923f-833ea9b5abcd",
   "metadata": {},
   "outputs": [
    {
     "data": {
      "text/html": [
       "<div>\n",
       "<style scoped>\n",
       "    .dataframe tbody tr th:only-of-type {\n",
       "        vertical-align: middle;\n",
       "    }\n",
       "\n",
       "    .dataframe tbody tr th {\n",
       "        vertical-align: top;\n",
       "    }\n",
       "\n",
       "    .dataframe thead th {\n",
       "        text-align: right;\n",
       "    }\n",
       "</style>\n",
       "<table border=\"1\" class=\"dataframe\">\n",
       "  <thead>\n",
       "    <tr style=\"text-align: right;\">\n",
       "      <th></th>\n",
       "      <th>speciesgroup</th>\n",
       "      <th>species</th>\n",
       "      <th>countryname</th>\n",
       "      <th>iso_ter1</th>\n",
       "      <th>percentprotected</th>\n",
       "      <th>NSPS</th>\n",
       "      <th>stewardship</th>\n",
       "    </tr>\n",
       "  </thead>\n",
       "  <tbody>\n",
       "    <tr>\n",
       "      <th>0</th>\n",
       "      <td>marine fishes</td>\n",
       "      <td>Abalistes filamentosus</td>\n",
       "      <td>Australia</td>\n",
       "      <td>AUS</td>\n",
       "      <td>25-50%</td>\n",
       "      <td>75-100</td>\n",
       "      <td>22</td>\n",
       "    </tr>\n",
       "  </tbody>\n",
       "</table>\n",
       "</div>"
      ],
      "text/plain": [
       "    speciesgroup                 species countryname iso_ter1  \\\n",
       "0  marine fishes  Abalistes filamentosus   Australia      AUS   \n",
       "\n",
       "  percentprotected    NSPS  stewardship  \n",
       "0           25-50%  75-100           22  "
      ]
     },
     "execution_count": 8,
     "metadata": {},
     "output_type": "execute_result"
    }
   ],
   "source": [
    "mar.head(1)"
   ]
  },
  {
   "cell_type": "code",
   "execution_count": 9,
   "id": "9f420c9c-de11-40cc-8825-2905eb3b52dc",
   "metadata": {},
   "outputs": [
    {
     "data": {
      "text/plain": [
       "183"
      ]
     },
     "execution_count": 9,
     "metadata": {},
     "output_type": "execute_result"
    }
   ],
   "source": [
    "len(mar['iso_ter1'].unique()) # There are 183 unique countries/territories with marine species"
   ]
  },
  {
   "cell_type": "code",
   "execution_count": 10,
   "id": "65aaf3b1-8c81-4afe-86b1-b7e3d9b7a0a3",
   "metadata": {},
   "outputs": [
    {
     "data": {
      "text/html": [
       "<div>\n",
       "<style scoped>\n",
       "    .dataframe tbody tr th:only-of-type {\n",
       "        vertical-align: middle;\n",
       "    }\n",
       "\n",
       "    .dataframe tbody tr th {\n",
       "        vertical-align: top;\n",
       "    }\n",
       "\n",
       "    .dataframe thead th {\n",
       "        text-align: right;\n",
       "    }\n",
       "</style>\n",
       "<table border=\"1\" class=\"dataframe\">\n",
       "  <thead>\n",
       "    <tr style=\"text-align: right;\">\n",
       "      <th></th>\n",
       "      <th>OID_</th>\n",
       "      <th>GID_0</th>\n",
       "      <th>ZONE_CODE</th>\n",
       "      <th>COUNT</th>\n",
       "      <th>AREA</th>\n",
       "      <th>SUM</th>\n",
       "    </tr>\n",
       "  </thead>\n",
       "  <tbody>\n",
       "    <tr>\n",
       "      <th>0</th>\n",
       "      <td>1</td>\n",
       "      <td>ABW</td>\n",
       "      <td>1</td>\n",
       "      <td>55.0</td>\n",
       "      <td>0.003819</td>\n",
       "      <td>1547.605201</td>\n",
       "    </tr>\n",
       "  </tbody>\n",
       "</table>\n",
       "</div>"
      ],
      "text/plain": [
       "   OID_ GID_0  ZONE_CODE  COUNT      AREA          SUM\n",
       "0     1   ABW          1   55.0  0.003819  1547.605201"
      ]
     },
     "execution_count": 10,
     "metadata": {},
     "output_type": "execute_result"
    }
   ],
   "source": [
    "pop.head(1)"
   ]
  },
  {
   "cell_type": "code",
   "execution_count": 11,
   "id": "6d05d623-63cf-4e88-95cc-76e2be17dd84",
   "metadata": {},
   "outputs": [
    {
     "data": {
      "text/plain": [
       "200"
      ]
     },
     "execution_count": 11,
     "metadata": {},
     "output_type": "execute_result"
    }
   ],
   "source": [
    "len(pop['GID_0'].unique()) # There are 200 countries/territories that have population in their EEZ"
   ]
  },
  {
   "cell_type": "code",
   "execution_count": 12,
   "id": "759a9a89-c485-41b8-9dc6-42833fec8414",
   "metadata": {},
   "outputs": [
    {
     "data": {
      "text/html": [
       "<div>\n",
       "<style scoped>\n",
       "    .dataframe tbody tr th:only-of-type {\n",
       "        vertical-align: middle;\n",
       "    }\n",
       "\n",
       "    .dataframe tbody tr th {\n",
       "        vertical-align: top;\n",
       "    }\n",
       "\n",
       "    .dataframe thead th {\n",
       "        text-align: right;\n",
       "    }\n",
       "</style>\n",
       "<table border=\"1\" class=\"dataframe\">\n",
       "  <thead>\n",
       "    <tr style=\"text-align: right;\">\n",
       "      <th></th>\n",
       "      <th>Unnamed: 0</th>\n",
       "      <th>ISO_TER1_F</th>\n",
       "      <th>no_human</th>\n",
       "      <th>human</th>\n",
       "      <th>very_high</th>\n",
       "    </tr>\n",
       "  </thead>\n",
       "  <tbody>\n",
       "    <tr>\n",
       "      <th>0</th>\n",
       "      <td>2</td>\n",
       "      <td>ABW</td>\n",
       "      <td>0.0</td>\n",
       "      <td>0.783047</td>\n",
       "      <td>0.216953</td>\n",
       "    </tr>\n",
       "  </tbody>\n",
       "</table>\n",
       "</div>"
      ],
      "text/plain": [
       "   Unnamed: 0 ISO_TER1_F  no_human     human  very_high\n",
       "0           2        ABW       0.0  0.783047   0.216953"
      ]
     },
     "execution_count": 12,
     "metadata": {},
     "output_type": "execute_result"
    }
   ],
   "source": [
    "hm.head(1)"
   ]
  },
  {
   "cell_type": "code",
   "execution_count": 13,
   "id": "a09374bb-290f-4dd5-893d-ffe30f39a5a3",
   "metadata": {},
   "outputs": [
    {
     "data": {
      "text/plain": [
       "203"
      ]
     },
     "execution_count": 13,
     "metadata": {},
     "output_type": "execute_result"
    }
   ],
   "source": [
    "len(hm['ISO_TER1_F'].unique()) # There are 203 countries/territories that have human modification data in their EEZ"
   ]
  },
  {
   "cell_type": "code",
   "execution_count": 14,
   "id": "8d715042-a400-4fa6-b4d8-11f8593e1d87",
   "metadata": {},
   "outputs": [
    {
     "data": {
      "text/html": [
       "<div>\n",
       "<style scoped>\n",
       "    .dataframe tbody tr th:only-of-type {\n",
       "        vertical-align: middle;\n",
       "    }\n",
       "\n",
       "    .dataframe tbody tr th {\n",
       "        vertical-align: top;\n",
       "    }\n",
       "\n",
       "    .dataframe thead th {\n",
       "        text-align: right;\n",
       "    }\n",
       "</style>\n",
       "<table border=\"1\" class=\"dataframe\">\n",
       "  <thead>\n",
       "    <tr style=\"text-align: right;\">\n",
       "      <th></th>\n",
       "      <th>OID_</th>\n",
       "      <th>GID_0</th>\n",
       "      <th>AREA_KM2</th>\n",
       "      <th>ORIG_FID</th>\n",
       "      <th>Latitude</th>\n",
       "      <th>Longitude</th>\n",
       "    </tr>\n",
       "  </thead>\n",
       "  <tbody>\n",
       "    <tr>\n",
       "      <th>0</th>\n",
       "      <td>1</td>\n",
       "      <td>ABW</td>\n",
       "      <td>29970.299588</td>\n",
       "      <td>1</td>\n",
       "      <td>13.741380</td>\n",
       "      <td>-69.673412</td>\n",
       "    </tr>\n",
       "    <tr>\n",
       "      <th>1</th>\n",
       "      <td>2</td>\n",
       "      <td>AGO</td>\n",
       "      <td>495859.762742</td>\n",
       "      <td>2</td>\n",
       "      <td>-11.701098</td>\n",
       "      <td>11.035371</td>\n",
       "    </tr>\n",
       "    <tr>\n",
       "      <th>2</th>\n",
       "      <td>3</td>\n",
       "      <td>AIA</td>\n",
       "      <td>90157.964205</td>\n",
       "      <td>3</td>\n",
       "      <td>20.018030</td>\n",
       "      <td>-62.543285</td>\n",
       "    </tr>\n",
       "    <tr>\n",
       "      <th>3</th>\n",
       "      <td>4</td>\n",
       "      <td>ALB</td>\n",
       "      <td>12165.548773</td>\n",
       "      <td>4</td>\n",
       "      <td>40.927084</td>\n",
       "      <td>19.113001</td>\n",
       "    </tr>\n",
       "    <tr>\n",
       "      <th>4</th>\n",
       "      <td>5</td>\n",
       "      <td>ARE</td>\n",
       "      <td>57838.146798</td>\n",
       "      <td>5</td>\n",
       "      <td>25.058911</td>\n",
       "      <td>54.030580</td>\n",
       "    </tr>\n",
       "  </tbody>\n",
       "</table>\n",
       "</div>"
      ],
      "text/plain": [
       "   OID_ GID_0       AREA_KM2  ORIG_FID   Latitude  Longitude\n",
       "0     1   ABW   29970.299588         1  13.741380 -69.673412\n",
       "1     2   AGO  495859.762742         2 -11.701098  11.035371\n",
       "2     3   AIA   90157.964205         3  20.018030 -62.543285\n",
       "3     4   ALB   12165.548773         4  40.927084  19.113001\n",
       "4     5   ARE   57838.146798         5  25.058911  54.030580"
      ]
     },
     "execution_count": 14,
     "metadata": {},
     "output_type": "execute_result"
    }
   ],
   "source": [
    "EEZ.head()"
   ]
  },
  {
   "cell_type": "code",
   "execution_count": 15,
   "id": "c5b2bc27-9e5c-4539-bdc0-51a153f7011e",
   "metadata": {},
   "outputs": [
    {
     "data": {
      "text/plain": [
       "201"
      ]
     },
     "execution_count": 15,
     "metadata": {},
     "output_type": "execute_result"
    }
   ],
   "source": [
    "len(EEZ['GID_0'].unique()) # There are 201 countries/territories that have EEZ"
   ]
  },
  {
   "cell_type": "markdown",
   "id": "44a04fd5-cd69-428b-8bed-409c1f164c68",
   "metadata": {},
   "source": [
    "#### Check the GID_0 to see if there are discrepancies with gadm"
   ]
  },
  {
   "cell_type": "code",
   "execution_count": 4,
   "id": "aa8cd363-7bee-45c3-bd46-9a68de155378",
   "metadata": {},
   "outputs": [
    {
     "data": {
      "text/plain": [
       "183"
      ]
     },
     "execution_count": 4,
     "metadata": {},
     "output_type": "execute_result"
    }
   ],
   "source": [
    "# Number of countries in species list according to GID_0\n",
    "country_list = list(mar['iso_ter1'].unique())\n",
    "len(country_list) ## 183 territories in the species table"
   ]
  },
  {
   "cell_type": "code",
   "execution_count": 5,
   "id": "fc96fe89-8021-4eee-bf79-c3a5a0ed4a07",
   "metadata": {},
   "outputs": [
    {
     "data": {
      "text/plain": [
       "['UMI', 'XXZ']"
      ]
     },
     "execution_count": 5,
     "metadata": {},
     "output_type": "execute_result"
    }
   ],
   "source": [
    "# Find GID_0 that are in species table but not in gadm \n",
    "list1= list(gadm['GID_0'])\n",
    "list2=list(mar['iso_ter1'].unique())\n",
    "list(set(list2).difference(list1))  # XXZ is international waters and UMI is the United States Minor Outlying Islands. None of them are in gadm so let's remove them"
   ]
  },
  {
   "cell_type": "code",
   "execution_count": 6,
   "id": "5447dd73-1149-4781-bfcc-4e809a53f823",
   "metadata": {
    "tags": []
   },
   "outputs": [
    {
     "data": {
      "text/plain": [
       "181"
      ]
     },
     "execution_count": 6,
     "metadata": {},
     "output_type": "execute_result"
    }
   ],
   "source": [
    "# Remove 'XXZ', 'UMI' from species table to have only GID_0 that are in gadm\n",
    "l = list(set(list2).difference(list1))\n",
    "mar = mar[~mar['iso_ter1'].isin(l)]\n",
    "len(mar.iso_ter1.unique())"
   ]
  },
  {
   "cell_type": "code",
   "execution_count": 7,
   "id": "1826fadf-6bd8-49f7-8edd-a08db84e56ad",
   "metadata": {},
   "outputs": [
    {
     "data": {
      "text/plain": [
       "['UMI', 'XXZ']"
      ]
     },
     "execution_count": 7,
     "metadata": {},
     "output_type": "execute_result"
    }
   ],
   "source": [
    "# Find GID_0 that are in spi table but not in gadm:\n",
    "list1= list(gadm['GID_0'])\n",
    "list2=list(spi['iso_ter1'].unique())\n",
    "list(set(list2).difference(list1)) "
   ]
  },
  {
   "cell_type": "code",
   "execution_count": 8,
   "id": "dd2e6ff8-3742-4192-801e-e57123c31def",
   "metadata": {
    "tags": []
   },
   "outputs": [
    {
     "data": {
      "text/plain": [
       "181"
      ]
     },
     "execution_count": 8,
     "metadata": {},
     "output_type": "execute_result"
    }
   ],
   "source": [
    "# Remove 'XXZ', 'UMI' from species table to have only GID_0 that are in gadm\n",
    "l = list(set(list2).difference(list1))\n",
    "spi = spi[~spi['iso_ter1'].isin(l)]\n",
    "len(mar.iso_ter1.unique())"
   ]
  },
  {
   "cell_type": "code",
   "execution_count": 9,
   "id": "ea6fb205-2bfe-424c-bf43-22b98674f158",
   "metadata": {
    "tags": []
   },
   "outputs": [
    {
     "data": {
      "text/plain": [
       "['UMI', 'TMP']"
      ]
     },
     "execution_count": 9,
     "metadata": {},
     "output_type": "execute_result"
    }
   ],
   "source": [
    "# Find GID_0 that are in hm but not in gadm:\n",
    "list1= list(gadm['GID_0'])\n",
    "list2=list(hm['ISO_TER1_F'].unique())\n",
    "list(set(list2).difference(list1)) "
   ]
  },
  {
   "cell_type": "code",
   "execution_count": 10,
   "id": "e41687cc-5fca-4199-9107-ac499665fafe",
   "metadata": {
    "tags": []
   },
   "outputs": [
    {
     "data": {
      "text/plain": [
       "201"
      ]
     },
     "execution_count": 10,
     "metadata": {},
     "output_type": "execute_result"
    }
   ],
   "source": [
    "# Remove 'XXZ', 'UMI' from hm table to have only GID_0 that are in gadm\n",
    "l = list(set(list2).difference(list1))\n",
    "hm = hm[~hm['ISO_TER1_F'].isin(l)]\n",
    "len(hm.ISO_TER1_F.unique())"
   ]
  },
  {
   "cell_type": "code",
   "execution_count": 11,
   "id": "1ba5ed60-63a7-4d05-80e3-cd9fa58e2ae6",
   "metadata": {},
   "outputs": [
    {
     "data": {
      "text/plain": [
       "[]"
      ]
     },
     "execution_count": 11,
     "metadata": {},
     "output_type": "execute_result"
    }
   ],
   "source": [
    "# Find GID_0 that are in EEZ table but not in gadm\n",
    "list1= list(gadm['GID_0'])\n",
    "list2=list(EEZ['GID_0'].unique())\n",
    "list(set(list2).difference(list1)) "
   ]
  },
  {
   "cell_type": "code",
   "execution_count": 12,
   "id": "c8c510ca-8516-49ae-b8bd-370960899464",
   "metadata": {},
   "outputs": [
    {
     "data": {
      "text/plain": [
       "[]"
      ]
     },
     "execution_count": 12,
     "metadata": {},
     "output_type": "execute_result"
    }
   ],
   "source": [
    "# Find GID_0 that are in population but not in gadm:\n",
    "list1= list(gadm['GID_0'])\n",
    "list2=list(pop['GID_0'].unique())\n",
    "list(set(list2).difference(list1)) "
   ]
  },
  {
   "cell_type": "markdown",
   "id": "2ae63d86-4034-4a72-bb1d-019adb43be30",
   "metadata": {},
   "source": [
    "#### Note: Although there are 201 EEZ (and population and human modification for those), the species and the spi datasets only have info for 181 countries. So we'll only consider those for the marine NRC. Let's remove the GID_0 that are not present in the species table"
   ]
  },
  {
   "cell_type": "code",
   "execution_count": 13,
   "id": "eb163e14-81b7-48ef-9764-ee43d72286f8",
   "metadata": {},
   "outputs": [
    {
     "data": {
      "text/plain": [
       "181"
      ]
     },
     "execution_count": 13,
     "metadata": {},
     "output_type": "execute_result"
    }
   ],
   "source": [
    "# Find mismatches in GID_0 between mar table and hm table:\n",
    "list1= list(mar['iso_ter1'])\n",
    "list2=list(hm['ISO_TER1_F'].unique())\n",
    "list3=list(set(list2).difference(list1))\n",
    "# Keep only records which GID_0 is in the species dataset (mar)\n",
    "hm2 = hm[~hm['ISO_TER1_F'].isin(list3)]\n",
    "len(hm2)"
   ]
  },
  {
   "cell_type": "code",
   "execution_count": 14,
   "id": "2304d91a-40ee-494b-b85b-37bc9250e250",
   "metadata": {},
   "outputs": [
    {
     "data": {
      "text/plain": [
       "[]"
      ]
     },
     "execution_count": 14,
     "metadata": {},
     "output_type": "execute_result"
    }
   ],
   "source": [
    "list1= list(mar['iso_ter1'])\n",
    "list2=list(hm2['ISO_TER1_F'].unique())\n",
    "list(set(list2).difference(list1)) # Now all hm have species data"
   ]
  },
  {
   "cell_type": "code",
   "execution_count": 15,
   "id": "35d127c5-0b27-4b0c-9ce3-1d0447933fd2",
   "metadata": {},
   "outputs": [
    {
     "data": {
      "text/html": [
       "<div>\n",
       "<style scoped>\n",
       "    .dataframe tbody tr th:only-of-type {\n",
       "        vertical-align: middle;\n",
       "    }\n",
       "\n",
       "    .dataframe tbody tr th {\n",
       "        vertical-align: top;\n",
       "    }\n",
       "\n",
       "    .dataframe thead th {\n",
       "        text-align: right;\n",
       "    }\n",
       "</style>\n",
       "<table border=\"1\" class=\"dataframe\">\n",
       "  <thead>\n",
       "    <tr style=\"text-align: right;\">\n",
       "      <th></th>\n",
       "      <th>GID_0</th>\n",
       "      <th>hm_no_mar</th>\n",
       "      <th>hm_mar</th>\n",
       "      <th>hm_vh_mar</th>\n",
       "    </tr>\n",
       "  </thead>\n",
       "  <tbody>\n",
       "    <tr>\n",
       "      <th>0</th>\n",
       "      <td>ABW</td>\n",
       "      <td>0.000000</td>\n",
       "      <td>0.783047</td>\n",
       "      <td>0.216953</td>\n",
       "    </tr>\n",
       "    <tr>\n",
       "      <th>2</th>\n",
       "      <td>AIA</td>\n",
       "      <td>0.000000</td>\n",
       "      <td>0.943677</td>\n",
       "      <td>0.056323</td>\n",
       "    </tr>\n",
       "    <tr>\n",
       "      <th>3</th>\n",
       "      <td>ALB</td>\n",
       "      <td>0.000263</td>\n",
       "      <td>0.003746</td>\n",
       "      <td>0.995991</td>\n",
       "    </tr>\n",
       "    <tr>\n",
       "      <th>4</th>\n",
       "      <td>ARE</td>\n",
       "      <td>0.000116</td>\n",
       "      <td>0.034045</td>\n",
       "      <td>0.965838</td>\n",
       "    </tr>\n",
       "    <tr>\n",
       "      <th>5</th>\n",
       "      <td>ARG</td>\n",
       "      <td>0.000635</td>\n",
       "      <td>0.906946</td>\n",
       "      <td>0.092419</td>\n",
       "    </tr>\n",
       "  </tbody>\n",
       "</table>\n",
       "</div>"
      ],
      "text/plain": [
       "  GID_0  hm_no_mar    hm_mar  hm_vh_mar\n",
       "0   ABW   0.000000  0.783047   0.216953\n",
       "2   AIA   0.000000  0.943677   0.056323\n",
       "3   ALB   0.000263  0.003746   0.995991\n",
       "4   ARE   0.000116  0.034045   0.965838\n",
       "5   ARG   0.000635  0.906946   0.092419"
      ]
     },
     "execution_count": 15,
     "metadata": {},
     "output_type": "execute_result"
    }
   ],
   "source": [
    "# Change name of human modification fields to prepare it for join\n",
    "hm2 = hm2.rename(columns={'ISO_TER1_F':'GID_0', 'no_human':'hm_no_mar', 'human':'hm_mar', 'very_high':'hm_vh_mar'}).drop(columns= {'Unnamed: 0'})\n",
    "hm2.head()"
   ]
  },
  {
   "cell_type": "code",
   "execution_count": 16,
   "id": "d5f008b3-62b4-4f2b-8656-e93cb34b9492",
   "metadata": {},
   "outputs": [
    {
     "data": {
      "text/html": [
       "<div>\n",
       "<style scoped>\n",
       "    .dataframe tbody tr th:only-of-type {\n",
       "        vertical-align: middle;\n",
       "    }\n",
       "\n",
       "    .dataframe tbody tr th {\n",
       "        vertical-align: top;\n",
       "    }\n",
       "\n",
       "    .dataframe thead th {\n",
       "        text-align: right;\n",
       "    }\n",
       "</style>\n",
       "<table border=\"1\" class=\"dataframe\">\n",
       "  <thead>\n",
       "    <tr style=\"text-align: right;\">\n",
       "      <th></th>\n",
       "      <th>GID_0</th>\n",
       "      <th>hm_no_mar</th>\n",
       "      <th>hm_mar</th>\n",
       "      <th>hm_vh_mar</th>\n",
       "    </tr>\n",
       "  </thead>\n",
       "  <tbody>\n",
       "    <tr>\n",
       "      <th>0</th>\n",
       "      <td>ABW</td>\n",
       "      <td>0.000000</td>\n",
       "      <td>78.304750</td>\n",
       "      <td>21.695250</td>\n",
       "    </tr>\n",
       "    <tr>\n",
       "      <th>2</th>\n",
       "      <td>AIA</td>\n",
       "      <td>0.000000</td>\n",
       "      <td>94.367741</td>\n",
       "      <td>5.632259</td>\n",
       "    </tr>\n",
       "    <tr>\n",
       "      <th>3</th>\n",
       "      <td>ALB</td>\n",
       "      <td>0.026286</td>\n",
       "      <td>0.374581</td>\n",
       "      <td>99.599133</td>\n",
       "    </tr>\n",
       "    <tr>\n",
       "      <th>4</th>\n",
       "      <td>ARE</td>\n",
       "      <td>0.011637</td>\n",
       "      <td>3.404538</td>\n",
       "      <td>96.583825</td>\n",
       "    </tr>\n",
       "    <tr>\n",
       "      <th>5</th>\n",
       "      <td>ARG</td>\n",
       "      <td>0.063502</td>\n",
       "      <td>90.694610</td>\n",
       "      <td>9.241887</td>\n",
       "    </tr>\n",
       "  </tbody>\n",
       "</table>\n",
       "</div>"
      ],
      "text/plain": [
       "  GID_0  hm_no_mar     hm_mar  hm_vh_mar\n",
       "0   ABW   0.000000  78.304750  21.695250\n",
       "2   AIA   0.000000  94.367741   5.632259\n",
       "3   ALB   0.026286   0.374581  99.599133\n",
       "4   ARE   0.011637   3.404538  96.583825\n",
       "5   ARG   0.063502  90.694610   9.241887"
      ]
     },
     "execution_count": 16,
     "metadata": {},
     "output_type": "execute_result"
    }
   ],
   "source": [
    "# The human modification table was given in 0-1 values, let's make it in % to match the terrestrial data\n",
    "hm2['hm_no_mar'] = hm2['hm_no_mar'].apply(lambda x: x*100)\n",
    "hm2['hm_mar'] = hm2['hm_mar'].apply(lambda x: x*100)\n",
    "hm2['hm_vh_mar'] = hm2['hm_vh_mar'].apply(lambda x: x*100)\n",
    "hm2.head()"
   ]
  },
  {
   "cell_type": "code",
   "execution_count": 17,
   "id": "e0355306-daf2-4f6c-a0e4-d3362d83a6cf",
   "metadata": {},
   "outputs": [
    {
     "data": {
      "text/plain": [
       "180"
      ]
     },
     "execution_count": 17,
     "metadata": {},
     "output_type": "execute_result"
    }
   ],
   "source": [
    "# Find mismatches in GID_0 between mar table and population table:\n",
    "list1= list(mar['iso_ter1'])\n",
    "list2=list(pop['GID_0'].unique())\n",
    "list3=list(set(list2).difference(list1)) \n",
    "# Keep only records which GID_0 is in the species dataset (mar)\n",
    "pop2 = pop[~pop['GID_0'].isin(list3)]\n",
    "len(pop2)"
   ]
  },
  {
   "cell_type": "code",
   "execution_count": 18,
   "id": "bb2a8752-5cd0-47a0-ba29-6fc60949fbd9",
   "metadata": {},
   "outputs": [
    {
     "data": {
      "text/plain": [
       "['ATA']"
      ]
     },
     "execution_count": 18,
     "metadata": {},
     "output_type": "execute_result"
    }
   ],
   "source": [
    "list1= list(mar['iso_ter1'])\n",
    "list2=list(pop2['GID_0'].unique())\n",
    "list(set(list1).difference(list2)) # ATA is the only GID_0 in the species dataset that is not included in pop table (pop=0)"
   ]
  },
  {
   "cell_type": "code",
   "execution_count": 19,
   "id": "e1f1eba2-1741-47f9-aa6b-a4c33a683097",
   "metadata": {},
   "outputs": [
    {
     "data": {
      "text/html": [
       "<div>\n",
       "<style scoped>\n",
       "    .dataframe tbody tr th:only-of-type {\n",
       "        vertical-align: middle;\n",
       "    }\n",
       "\n",
       "    .dataframe tbody tr th {\n",
       "        vertical-align: top;\n",
       "    }\n",
       "\n",
       "    .dataframe thead th {\n",
       "        text-align: right;\n",
       "    }\n",
       "</style>\n",
       "<table border=\"1\" class=\"dataframe\">\n",
       "  <thead>\n",
       "    <tr style=\"text-align: right;\">\n",
       "      <th></th>\n",
       "      <th>GID_0</th>\n",
       "      <th>Pop2020_EEZ</th>\n",
       "    </tr>\n",
       "  </thead>\n",
       "  <tbody>\n",
       "    <tr>\n",
       "      <th>0</th>\n",
       "      <td>ABW</td>\n",
       "      <td>1547.605201</td>\n",
       "    </tr>\n",
       "    <tr>\n",
       "      <th>2</th>\n",
       "      <td>AIA</td>\n",
       "      <td>1693.719824</td>\n",
       "    </tr>\n",
       "  </tbody>\n",
       "</table>\n",
       "</div>"
      ],
      "text/plain": [
       "  GID_0  Pop2020_EEZ\n",
       "0   ABW  1547.605201\n",
       "2   AIA  1693.719824"
      ]
     },
     "execution_count": 19,
     "metadata": {},
     "output_type": "execute_result"
    }
   ],
   "source": [
    "# Change name pop fields to prepare it for join\n",
    "pop2 = pop2.drop(columns={'OID_', 'ZONE_CODE', 'COUNT', 'AREA'}).rename(columns = {'SUM':'Pop2020_EEZ'})\n",
    "pop2.head(2)"
   ]
  },
  {
   "cell_type": "code",
   "execution_count": 20,
   "id": "2fc1abd3-960e-49f6-a06b-d1279e9d6b62",
   "metadata": {},
   "outputs": [
    {
     "data": {
      "text/plain": [
       "181"
      ]
     },
     "execution_count": 20,
     "metadata": {},
     "output_type": "execute_result"
    }
   ],
   "source": [
    "# Find mismatches in GID_0 between mar table and EEZ table:\n",
    "list1= list(mar['iso_ter1'])\n",
    "list2=list(EEZ['GID_0'].unique())\n",
    "list3=list(set(list2).difference(list1))\n",
    "# Keep only records which GID_0 is in the species dataset (mar)\n",
    "eez2 = EEZ[~EEZ['GID_0'].isin(list3)]\n",
    "len(eez2)"
   ]
  },
  {
   "cell_type": "markdown",
   "id": "eb49269d-41cc-4eaf-85b6-d6333ffa2f46",
   "metadata": {},
   "source": [
    "------------------------------------------------------------------------------------------------------------------\n",
    "## Overview tab: generate general information\n",
    "### Add Population data \n",
    "Population by EEZ was calculated in ArcGIS Pro using the EEZ_dissolved (by GID_0) shp and the population2020.crf"
   ]
  },
  {
   "cell_type": "code",
   "execution_count": 71,
   "id": "e4e83bb9-3d60-4580-a354-409556fcb51e",
   "metadata": {},
   "outputs": [
    {
     "data": {
      "text/plain": [
       "Index(['Unnamed: 0', 'GID_0', 'NAME_0', 'jpg_url', 'GNI_PPP', 'max_amph',\n",
       "       'max_bird', 'max_mamm', 'max_rept', 'max_cact', 'max_coni', 'max_all',\n",
       "       'sentence', 'Average SPI', 'GlobalID', 'continent', 'has_priority',\n",
       "       'has_raisg', 'Area_Country', 'protection_needed_ter', 'iso2',\n",
       "       'max_highlited_sp', 'x', 'y', 'hm_ter', 'hm_no_ter', 'hm_vh_ter',\n",
       "       'Pop2020', 'SPI_ter', 'prop_protected_ter', 'amphibians', 'birds',\n",
       "       'mammals', 'reptiles', 'endemic_amphibians', 'endemic_birds',\n",
       "       'endemic_mammals', 'endemic_reptiles', 'nspecies_ter',\n",
       "       'total_endemic_ter', 'filter_similar_ter'],\n",
       "      dtype='object')"
      ]
     },
     "execution_count": 71,
     "metadata": {},
     "output_type": "execute_result"
    }
   ],
   "source": [
    "gadm.columns"
   ]
  },
  {
   "cell_type": "code",
   "execution_count": 79,
   "id": "a9cc3482-8944-47a5-a26f-2bb64dd0db80",
   "metadata": {},
   "outputs": [
    {
     "data": {
      "text/plain": [
       "180"
      ]
     },
     "execution_count": 79,
     "metadata": {},
     "output_type": "execute_result"
    }
   ],
   "source": [
    "len(pop2)"
   ]
  },
  {
   "cell_type": "code",
   "execution_count": 23,
   "id": "2f6103eb-bbbf-4725-abab-d94f8742a0e9",
   "metadata": {},
   "outputs": [
    {
     "data": {
      "text/plain": [
       "Index(['GID_0', 'NAME_0', 'jpg_url', 'GNI_PPP', 'max_amph', 'max_bird',\n",
       "       'max_mamm', 'max_rept', 'max_cact', 'max_coni', 'max_all', 'sentence',\n",
       "       'Average SPI', 'GlobalID', 'continent', 'has_priority', 'has_raisg',\n",
       "       'Area_Country', 'protection_needed_ter', 'iso2', 'max_highlited_sp',\n",
       "       'x', 'y', 'hm_ter', 'hm_no_ter', 'hm_vh_ter', 'Pop2020', 'SPI_ter',\n",
       "       'prop_protected_ter', 'amphibians', 'birds', 'mammals', 'reptiles',\n",
       "       'endemic_amphibians', 'endemic_birds', 'endemic_mammals',\n",
       "       'endemic_reptiles', 'nspecies_ter', 'total_endemic_ter',\n",
       "       'filter_similar_ter', 'Pop2020_EEZ'],\n",
       "      dtype='object')"
      ]
     },
     "execution_count": 23,
     "metadata": {},
     "output_type": "execute_result"
    }
   ],
   "source": [
    "# Add new population data and remove old field (SUM)\n",
    "df = pd.merge(gadm, pop2,  how='left', left_on=['GID_0'], right_on = ['GID_0']).drop(columns={'Unnamed: 0'})\n",
    "df.columns"
   ]
  },
  {
   "cell_type": "code",
   "execution_count": 24,
   "id": "94d57413-42dc-4b06-bcf1-419d0d5e3c3a",
   "metadata": {},
   "outputs": [
    {
     "data": {
      "text/html": [
       "<div>\n",
       "<style scoped>\n",
       "    .dataframe tbody tr th:only-of-type {\n",
       "        vertical-align: middle;\n",
       "    }\n",
       "\n",
       "    .dataframe tbody tr th {\n",
       "        vertical-align: top;\n",
       "    }\n",
       "\n",
       "    .dataframe thead th {\n",
       "        text-align: right;\n",
       "    }\n",
       "</style>\n",
       "<table border=\"1\" class=\"dataframe\">\n",
       "  <thead>\n",
       "    <tr style=\"text-align: right;\">\n",
       "      <th></th>\n",
       "      <th>GID_0</th>\n",
       "      <th>NAME_0</th>\n",
       "      <th>jpg_url</th>\n",
       "      <th>GNI_PPP</th>\n",
       "      <th>max_amph</th>\n",
       "      <th>max_bird</th>\n",
       "      <th>max_mamm</th>\n",
       "      <th>max_rept</th>\n",
       "      <th>max_cact</th>\n",
       "      <th>max_coni</th>\n",
       "      <th>...</th>\n",
       "      <th>mammals</th>\n",
       "      <th>reptiles</th>\n",
       "      <th>endemic_amphibians</th>\n",
       "      <th>endemic_birds</th>\n",
       "      <th>endemic_mammals</th>\n",
       "      <th>endemic_reptiles</th>\n",
       "      <th>nspecies_ter</th>\n",
       "      <th>total_endemic_ter</th>\n",
       "      <th>filter_similar_ter</th>\n",
       "      <th>Pop2020_EEZ</th>\n",
       "    </tr>\n",
       "  </thead>\n",
       "  <tbody>\n",
       "    <tr>\n",
       "      <th>11</th>\n",
       "      <td>ATA</td>\n",
       "      <td>Antarctica</td>\n",
       "      <td>https://live.staticflickr.com/1590/25126847203...</td>\n",
       "      <td>NaN</td>\n",
       "      <td>0</td>\n",
       "      <td>10</td>\n",
       "      <td>10</td>\n",
       "      <td>0</td>\n",
       "      <td>0</td>\n",
       "      <td>0</td>\n",
       "      <td>...</td>\n",
       "      <td>0</td>\n",
       "      <td>0</td>\n",
       "      <td>0</td>\n",
       "      <td>0</td>\n",
       "      <td>0</td>\n",
       "      <td>0</td>\n",
       "      <td>97</td>\n",
       "      <td>0</td>\n",
       "      <td>{\"filter_Area_Country\": [\"COD\", \"KAZ\", \"ARG\", ...</td>\n",
       "      <td>NaN</td>\n",
       "    </tr>\n",
       "  </tbody>\n",
       "</table>\n",
       "<p>1 rows × 41 columns</p>\n",
       "</div>"
      ],
      "text/plain": [
       "   GID_0      NAME_0                                            jpg_url  \\\n",
       "11   ATA  Antarctica  https://live.staticflickr.com/1590/25126847203...   \n",
       "\n",
       "    GNI_PPP  max_amph  max_bird  max_mamm  max_rept  max_cact  max_coni  ...  \\\n",
       "11      NaN         0        10        10         0         0         0  ...   \n",
       "\n",
       "    mammals reptiles  endemic_amphibians endemic_birds endemic_mammals  \\\n",
       "11        0        0                   0             0               0   \n",
       "\n",
       "    endemic_reptiles  nspecies_ter  total_endemic_ter  \\\n",
       "11                 0            97                  0   \n",
       "\n",
       "                                   filter_similar_ter Pop2020_EEZ  \n",
       "11  {\"filter_Area_Country\": [\"COD\", \"KAZ\", \"ARG\", ...         NaN  \n",
       "\n",
       "[1 rows x 41 columns]"
      ]
     },
     "execution_count": 24,
     "metadata": {},
     "output_type": "execute_result"
    }
   ],
   "source": [
    "df[df.GID_0=='ATA']"
   ]
  },
  {
   "cell_type": "markdown",
   "id": "903e4953-dbd3-4975-b97b-121bf38fb411",
   "metadata": {},
   "source": [
    "### SPI and % Protected\n",
    "MOL sent a first version with these values, which is in https://eowilson.maps.arcgis.com/home/item.html?id=d48f5ea1e59a42048f57e4c44c1a82a3. However, in this case they grouped the EEZ by sovereign1, so they didn't match the terrestrial NRC, which are divided by territories (French Guiana is shown independently from France). So MOL sent a new table dividing the EEZ by iso_ter1 (when this was null they used the field iso_sov1). This was done for both tables (SPI&Protection and species)"
   ]
  },
  {
   "cell_type": "code",
   "execution_count": 25,
   "id": "be8549b3-a8a4-418c-b91c-72217822acef",
   "metadata": {},
   "outputs": [
    {
     "data": {
      "text/html": [
       "<div>\n",
       "<style scoped>\n",
       "    .dataframe tbody tr th:only-of-type {\n",
       "        vertical-align: middle;\n",
       "    }\n",
       "\n",
       "    .dataframe tbody tr th {\n",
       "        vertical-align: top;\n",
       "    }\n",
       "\n",
       "    .dataframe thead th {\n",
       "        text-align: right;\n",
       "    }\n",
       "</style>\n",
       "<table border=\"1\" class=\"dataframe\">\n",
       "  <thead>\n",
       "    <tr style=\"text-align: right;\">\n",
       "      <th></th>\n",
       "      <th>SOVEREIGN1</th>\n",
       "      <th>iso_ter1</th>\n",
       "      <th>year</th>\n",
       "      <th>nspecies</th>\n",
       "      <th>SPI_low</th>\n",
       "      <th>SPI_high</th>\n",
       "      <th>percentprotected_low</th>\n",
       "      <th>percentprotected_high</th>\n",
       "    </tr>\n",
       "  </thead>\n",
       "  <tbody>\n",
       "    <tr>\n",
       "      <th>41</th>\n",
       "      <td>Albania</td>\n",
       "      <td>ALB</td>\n",
       "      <td>2021</td>\n",
       "      <td>347</td>\n",
       "      <td>1.86</td>\n",
       "      <td>1.86</td>\n",
       "      <td>0.69</td>\n",
       "      <td>0.69</td>\n",
       "    </tr>\n",
       "    <tr>\n",
       "      <th>83</th>\n",
       "      <td>Algeria</td>\n",
       "      <td>DZA</td>\n",
       "      <td>2021</td>\n",
       "      <td>489</td>\n",
       "      <td>0.22</td>\n",
       "      <td>0.22</td>\n",
       "      <td>0.02</td>\n",
       "      <td>0.02</td>\n",
       "    </tr>\n",
       "    <tr>\n",
       "      <th>125</th>\n",
       "      <td>Antarctica</td>\n",
       "      <td>ATA</td>\n",
       "      <td>2021</td>\n",
       "      <td>121</td>\n",
       "      <td>50.79</td>\n",
       "      <td>50.79</td>\n",
       "      <td>35.55</td>\n",
       "      <td>35.55</td>\n",
       "    </tr>\n",
       "    <tr>\n",
       "      <th>167</th>\n",
       "      <td>Antigua and Barbuda</td>\n",
       "      <td>ATG</td>\n",
       "      <td>2021</td>\n",
       "      <td>1519</td>\n",
       "      <td>9.04</td>\n",
       "      <td>9.04</td>\n",
       "      <td>0.30</td>\n",
       "      <td>0.30</td>\n",
       "    </tr>\n",
       "    <tr>\n",
       "      <th>209</th>\n",
       "      <td>Argentina</td>\n",
       "      <td>ARG</td>\n",
       "      <td>2021</td>\n",
       "      <td>671</td>\n",
       "      <td>7.00</td>\n",
       "      <td>7.00</td>\n",
       "      <td>9.25</td>\n",
       "      <td>9.25</td>\n",
       "    </tr>\n",
       "  </tbody>\n",
       "</table>\n",
       "</div>"
      ],
      "text/plain": [
       "              SOVEREIGN1 iso_ter1  year  nspecies  SPI_low  SPI_high  \\\n",
       "41               Albania      ALB  2021       347     1.86      1.86   \n",
       "83               Algeria      DZA  2021       489     0.22      0.22   \n",
       "125           Antarctica      ATA  2021       121    50.79     50.79   \n",
       "167  Antigua and Barbuda      ATG  2021      1519     9.04      9.04   \n",
       "209            Argentina      ARG  2021       671     7.00      7.00   \n",
       "\n",
       "     percentprotected_low  percentprotected_high  \n",
       "41                   0.69                   0.69  \n",
       "83                   0.02                   0.02  \n",
       "125                 35.55                  35.55  \n",
       "167                  0.30                   0.30  \n",
       "209                  9.25                   9.25  "
      ]
     },
     "execution_count": 25,
     "metadata": {},
     "output_type": "execute_result"
    }
   ],
   "source": [
    "# Take the last value (2021) for the general overview\n",
    "last = spi[spi['year']==2021].copy()\n",
    "last.head(5)"
   ]
  },
  {
   "cell_type": "code",
   "execution_count": 26,
   "id": "f4ae787d-4ff1-400a-bbab-082ef88844cb",
   "metadata": {
    "tags": []
   },
   "outputs": [
    {
     "data": {
      "text/html": [
       "<div>\n",
       "<style scoped>\n",
       "    .dataframe tbody tr th:only-of-type {\n",
       "        vertical-align: middle;\n",
       "    }\n",
       "\n",
       "    .dataframe tbody tr th {\n",
       "        vertical-align: top;\n",
       "    }\n",
       "\n",
       "    .dataframe thead th {\n",
       "        text-align: right;\n",
       "    }\n",
       "</style>\n",
       "<table border=\"1\" class=\"dataframe\">\n",
       "  <thead>\n",
       "    <tr style=\"text-align: right;\">\n",
       "      <th></th>\n",
       "      <th>GID_0</th>\n",
       "      <th>SPI_mar</th>\n",
       "      <th>prop_protected_mar</th>\n",
       "    </tr>\n",
       "  </thead>\n",
       "  <tbody>\n",
       "    <tr>\n",
       "      <th>41</th>\n",
       "      <td>ALB</td>\n",
       "      <td>1.86</td>\n",
       "      <td>0.69</td>\n",
       "    </tr>\n",
       "  </tbody>\n",
       "</table>\n",
       "</div>"
      ],
      "text/plain": [
       "   GID_0  SPI_mar  prop_protected_mar\n",
       "41   ALB     1.86                0.69"
      ]
     },
     "execution_count": 26,
     "metadata": {},
     "output_type": "execute_result"
    }
   ],
   "source": [
    "# Take only relevant fields and change their names (include marine in name to distinguish them from terrestrial)\n",
    "last = last[['iso_ter1','SPI_high', 'percentprotected_high']]\n",
    "last = last.rename(columns= {'SPI_high':'SPI_mar', 'percentprotected_high':'prop_protected_mar', 'iso_ter1':'GID_0'})\n",
    "last.head(1)"
   ]
  },
  {
   "cell_type": "code",
   "execution_count": 27,
   "id": "a0193893-17aa-4dc1-b2a9-198ac3ba28c6",
   "metadata": {},
   "outputs": [
    {
     "data": {
      "text/plain": [
       "181"
      ]
     },
     "execution_count": 27,
     "metadata": {},
     "output_type": "execute_result"
    }
   ],
   "source": [
    "len(last) # There are 181 territories with marine SPI and protection data"
   ]
  },
  {
   "cell_type": "code",
   "execution_count": 28,
   "id": "9b36d126-33ab-4af4-821b-54607871cb25",
   "metadata": {},
   "outputs": [
    {
     "data": {
      "text/html": [
       "<div>\n",
       "<style scoped>\n",
       "    .dataframe tbody tr th:only-of-type {\n",
       "        vertical-align: middle;\n",
       "    }\n",
       "\n",
       "    .dataframe tbody tr th {\n",
       "        vertical-align: top;\n",
       "    }\n",
       "\n",
       "    .dataframe thead th {\n",
       "        text-align: right;\n",
       "    }\n",
       "</style>\n",
       "<table border=\"1\" class=\"dataframe\">\n",
       "  <thead>\n",
       "    <tr style=\"text-align: right;\">\n",
       "      <th></th>\n",
       "      <th>GID_0</th>\n",
       "      <th>NAME_0</th>\n",
       "      <th>jpg_url</th>\n",
       "      <th>GNI_PPP</th>\n",
       "      <th>max_amph</th>\n",
       "      <th>max_bird</th>\n",
       "      <th>max_mamm</th>\n",
       "      <th>max_rept</th>\n",
       "      <th>max_cact</th>\n",
       "      <th>max_coni</th>\n",
       "      <th>...</th>\n",
       "      <th>endemic_amphibians</th>\n",
       "      <th>endemic_birds</th>\n",
       "      <th>endemic_mammals</th>\n",
       "      <th>endemic_reptiles</th>\n",
       "      <th>nspecies_ter</th>\n",
       "      <th>total_endemic_ter</th>\n",
       "      <th>filter_similar_ter</th>\n",
       "      <th>Pop2020_EEZ</th>\n",
       "      <th>SPI_mar</th>\n",
       "      <th>prop_protected_mar</th>\n",
       "    </tr>\n",
       "  </thead>\n",
       "  <tbody>\n",
       "    <tr>\n",
       "      <th>0</th>\n",
       "      <td>ABW</td>\n",
       "      <td>Aruba</td>\n",
       "      <td>https://live.staticflickr.com/1952/31416683438...</td>\n",
       "      <td>3.9</td>\n",
       "      <td>3</td>\n",
       "      <td>1</td>\n",
       "      <td>10</td>\n",
       "      <td>10</td>\n",
       "      <td>10</td>\n",
       "      <td>0</td>\n",
       "      <td>...</td>\n",
       "      <td>0</td>\n",
       "      <td>0</td>\n",
       "      <td>0</td>\n",
       "      <td>3</td>\n",
       "      <td>232</td>\n",
       "      <td>3</td>\n",
       "      <td>{\"filter_Area_Country\": [\"JEY\", \"CXR\", \"WLF\", ...</td>\n",
       "      <td>1547.605201</td>\n",
       "      <td>0.0</td>\n",
       "      <td>0.0</td>\n",
       "    </tr>\n",
       "  </tbody>\n",
       "</table>\n",
       "<p>1 rows × 43 columns</p>\n",
       "</div>"
      ],
      "text/plain": [
       "  GID_0 NAME_0                                            jpg_url  GNI_PPP  \\\n",
       "0   ABW  Aruba  https://live.staticflickr.com/1952/31416683438...      3.9   \n",
       "\n",
       "   max_amph  max_bird  max_mamm  max_rept  max_cact  max_coni  ...  \\\n",
       "0         3         1        10        10        10         0  ...   \n",
       "\n",
       "   endemic_amphibians endemic_birds  endemic_mammals endemic_reptiles  \\\n",
       "0                   0             0                0                3   \n",
       "\n",
       "  nspecies_ter  total_endemic_ter  \\\n",
       "0          232                  3   \n",
       "\n",
       "                                  filter_similar_ter  Pop2020_EEZ  SPI_mar  \\\n",
       "0  {\"filter_Area_Country\": [\"JEY\", \"CXR\", \"WLF\", ...  1547.605201      0.0   \n",
       "\n",
       "  prop_protected_mar  \n",
       "0                0.0  \n",
       "\n",
       "[1 rows x 43 columns]"
      ]
     },
     "execution_count": 28,
     "metadata": {},
     "output_type": "execute_result"
    }
   ],
   "source": [
    "# Create new dataframe with the merge of the gadm_centroid and the new values\n",
    "df= pd.merge(df, last ,how='left', left_on=['GID_0'], right_on = ['GID_0'])\n",
    "df.head(1)"
   ]
  },
  {
   "cell_type": "markdown",
   "id": "5afea9ff-8db7-4b98-b807-b1483cdf525f",
   "metadata": {},
   "source": [
    "### Add human modification data"
   ]
  },
  {
   "cell_type": "code",
   "execution_count": 29,
   "id": "b585afdc-e5ba-4ebf-8362-9d4e10781d31",
   "metadata": {},
   "outputs": [
    {
     "data": {
      "text/html": [
       "<div>\n",
       "<style scoped>\n",
       "    .dataframe tbody tr th:only-of-type {\n",
       "        vertical-align: middle;\n",
       "    }\n",
       "\n",
       "    .dataframe tbody tr th {\n",
       "        vertical-align: top;\n",
       "    }\n",
       "\n",
       "    .dataframe thead th {\n",
       "        text-align: right;\n",
       "    }\n",
       "</style>\n",
       "<table border=\"1\" class=\"dataframe\">\n",
       "  <thead>\n",
       "    <tr style=\"text-align: right;\">\n",
       "      <th></th>\n",
       "      <th>GID_0</th>\n",
       "      <th>hm_no_mar</th>\n",
       "      <th>hm_mar</th>\n",
       "      <th>hm_vh_mar</th>\n",
       "    </tr>\n",
       "  </thead>\n",
       "  <tbody>\n",
       "    <tr>\n",
       "      <th>0</th>\n",
       "      <td>ABW</td>\n",
       "      <td>0.000000</td>\n",
       "      <td>78.304750</td>\n",
       "      <td>21.695250</td>\n",
       "    </tr>\n",
       "    <tr>\n",
       "      <th>2</th>\n",
       "      <td>AIA</td>\n",
       "      <td>0.000000</td>\n",
       "      <td>94.367741</td>\n",
       "      <td>5.632259</td>\n",
       "    </tr>\n",
       "    <tr>\n",
       "      <th>3</th>\n",
       "      <td>ALB</td>\n",
       "      <td>0.026286</td>\n",
       "      <td>0.374581</td>\n",
       "      <td>99.599133</td>\n",
       "    </tr>\n",
       "    <tr>\n",
       "      <th>4</th>\n",
       "      <td>ARE</td>\n",
       "      <td>0.011637</td>\n",
       "      <td>3.404538</td>\n",
       "      <td>96.583825</td>\n",
       "    </tr>\n",
       "    <tr>\n",
       "      <th>5</th>\n",
       "      <td>ARG</td>\n",
       "      <td>0.063502</td>\n",
       "      <td>90.694610</td>\n",
       "      <td>9.241887</td>\n",
       "    </tr>\n",
       "  </tbody>\n",
       "</table>\n",
       "</div>"
      ],
      "text/plain": [
       "  GID_0  hm_no_mar     hm_mar  hm_vh_mar\n",
       "0   ABW   0.000000  78.304750  21.695250\n",
       "2   AIA   0.000000  94.367741   5.632259\n",
       "3   ALB   0.026286   0.374581  99.599133\n",
       "4   ARE   0.011637   3.404538  96.583825\n",
       "5   ARG   0.063502  90.694610   9.241887"
      ]
     },
     "execution_count": 29,
     "metadata": {},
     "output_type": "execute_result"
    }
   ],
   "source": [
    "hm2.head()"
   ]
  },
  {
   "cell_type": "code",
   "execution_count": 30,
   "id": "e4b0be97-b2cb-4442-ab64-21d5a2275dce",
   "metadata": {},
   "outputs": [
    {
     "data": {
      "text/plain": [
       "181"
      ]
     },
     "execution_count": 30,
     "metadata": {},
     "output_type": "execute_result"
    }
   ],
   "source": [
    "len(hm2)"
   ]
  },
  {
   "cell_type": "code",
   "execution_count": 31,
   "id": "a94f0a45-e0aa-4505-ab55-7c21788f99b0",
   "metadata": {},
   "outputs": [
    {
     "data": {
      "text/html": [
       "<div>\n",
       "<style scoped>\n",
       "    .dataframe tbody tr th:only-of-type {\n",
       "        vertical-align: middle;\n",
       "    }\n",
       "\n",
       "    .dataframe tbody tr th {\n",
       "        vertical-align: top;\n",
       "    }\n",
       "\n",
       "    .dataframe thead th {\n",
       "        text-align: right;\n",
       "    }\n",
       "</style>\n",
       "<table border=\"1\" class=\"dataframe\">\n",
       "  <thead>\n",
       "    <tr style=\"text-align: right;\">\n",
       "      <th></th>\n",
       "      <th>GID_0</th>\n",
       "      <th>NAME_0</th>\n",
       "      <th>jpg_url</th>\n",
       "      <th>GNI_PPP</th>\n",
       "      <th>max_amph</th>\n",
       "      <th>max_bird</th>\n",
       "      <th>max_mamm</th>\n",
       "      <th>max_rept</th>\n",
       "      <th>max_cact</th>\n",
       "      <th>max_coni</th>\n",
       "      <th>...</th>\n",
       "      <th>endemic_reptiles</th>\n",
       "      <th>nspecies_ter</th>\n",
       "      <th>total_endemic_ter</th>\n",
       "      <th>filter_similar_ter</th>\n",
       "      <th>Pop2020_EEZ</th>\n",
       "      <th>SPI_mar</th>\n",
       "      <th>prop_protected_mar</th>\n",
       "      <th>hm_no_mar</th>\n",
       "      <th>hm_mar</th>\n",
       "      <th>hm_vh_mar</th>\n",
       "    </tr>\n",
       "  </thead>\n",
       "  <tbody>\n",
       "    <tr>\n",
       "      <th>0</th>\n",
       "      <td>ABW</td>\n",
       "      <td>Aruba</td>\n",
       "      <td>https://live.staticflickr.com/1952/31416683438...</td>\n",
       "      <td>3.9</td>\n",
       "      <td>3</td>\n",
       "      <td>1</td>\n",
       "      <td>10</td>\n",
       "      <td>10</td>\n",
       "      <td>10</td>\n",
       "      <td>0</td>\n",
       "      <td>...</td>\n",
       "      <td>3</td>\n",
       "      <td>232</td>\n",
       "      <td>3</td>\n",
       "      <td>{\"filter_Area_Country\": [\"JEY\", \"CXR\", \"WLF\", ...</td>\n",
       "      <td>1547.605201</td>\n",
       "      <td>0.0</td>\n",
       "      <td>0.0</td>\n",
       "      <td>0.0</td>\n",
       "      <td>78.30475</td>\n",
       "      <td>21.69525</td>\n",
       "    </tr>\n",
       "  </tbody>\n",
       "</table>\n",
       "<p>1 rows × 46 columns</p>\n",
       "</div>"
      ],
      "text/plain": [
       "  GID_0 NAME_0                                            jpg_url  GNI_PPP  \\\n",
       "0   ABW  Aruba  https://live.staticflickr.com/1952/31416683438...      3.9   \n",
       "\n",
       "   max_amph  max_bird  max_mamm  max_rept  max_cact  max_coni  ...  \\\n",
       "0         3         1        10        10        10         0  ...   \n",
       "\n",
       "   endemic_reptiles nspecies_ter  total_endemic_ter  \\\n",
       "0                 3          232                  3   \n",
       "\n",
       "                                  filter_similar_ter  Pop2020_EEZ  SPI_mar  \\\n",
       "0  {\"filter_Area_Country\": [\"JEY\", \"CXR\", \"WLF\", ...  1547.605201      0.0   \n",
       "\n",
       "   prop_protected_mar  hm_no_mar    hm_mar hm_vh_mar  \n",
       "0                 0.0        0.0  78.30475  21.69525  \n",
       "\n",
       "[1 rows x 46 columns]"
      ]
     },
     "execution_count": 31,
     "metadata": {},
     "output_type": "execute_result"
    }
   ],
   "source": [
    "# Create new dataframe with the merge of the gadm_centroid and the new values\n",
    "df= pd.merge(df, hm2 ,how='left', left_on=['GID_0'], right_on = ['GID_0'])\n",
    "df.head(1)"
   ]
  },
  {
   "cell_type": "markdown",
   "id": "ecd39c46-adec-4ab9-8923-728184ace6b7",
   "metadata": {},
   "source": [
    "### Calculate number of marine species and endemic species"
   ]
  },
  {
   "cell_type": "code",
   "execution_count": 32,
   "id": "8c5b0a98-3bb3-449e-a0ef-2ef9ac799607",
   "metadata": {},
   "outputs": [
    {
     "data": {
      "text/html": [
       "<div>\n",
       "<style scoped>\n",
       "    .dataframe tbody tr th:only-of-type {\n",
       "        vertical-align: middle;\n",
       "    }\n",
       "\n",
       "    .dataframe tbody tr th {\n",
       "        vertical-align: top;\n",
       "    }\n",
       "\n",
       "    .dataframe thead th {\n",
       "        text-align: right;\n",
       "    }\n",
       "</style>\n",
       "<table border=\"1\" class=\"dataframe\">\n",
       "  <thead>\n",
       "    <tr style=\"text-align: right;\">\n",
       "      <th></th>\n",
       "      <th>speciesgroup</th>\n",
       "      <th>species</th>\n",
       "      <th>countryname</th>\n",
       "      <th>iso_ter1</th>\n",
       "      <th>percentprotected</th>\n",
       "      <th>NSPS</th>\n",
       "      <th>stewardship</th>\n",
       "    </tr>\n",
       "  </thead>\n",
       "  <tbody>\n",
       "    <tr>\n",
       "      <th>0</th>\n",
       "      <td>marine fishes</td>\n",
       "      <td>Abalistes filamentosus</td>\n",
       "      <td>Australia</td>\n",
       "      <td>AUS</td>\n",
       "      <td>25-50%</td>\n",
       "      <td>75-100</td>\n",
       "      <td>22</td>\n",
       "    </tr>\n",
       "  </tbody>\n",
       "</table>\n",
       "</div>"
      ],
      "text/plain": [
       "    speciesgroup                 species countryname iso_ter1  \\\n",
       "0  marine fishes  Abalistes filamentosus   Australia      AUS   \n",
       "\n",
       "  percentprotected    NSPS  stewardship  \n",
       "0           25-50%  75-100           22  "
      ]
     },
     "execution_count": 32,
     "metadata": {},
     "output_type": "execute_result"
    }
   ],
   "source": [
    "mar.head(1)"
   ]
  },
  {
   "cell_type": "code",
   "execution_count": 33,
   "id": "780e5539-d1cc-4f75-8723-47638c7f05ed",
   "metadata": {
    "tags": []
   },
   "outputs": [
    {
     "data": {
      "text/html": [
       "<div>\n",
       "<style scoped>\n",
       "    .dataframe tbody tr th:only-of-type {\n",
       "        vertical-align: middle;\n",
       "    }\n",
       "\n",
       "    .dataframe tbody tr th {\n",
       "        vertical-align: top;\n",
       "    }\n",
       "\n",
       "    .dataframe thead th {\n",
       "        text-align: right;\n",
       "    }\n",
       "</style>\n",
       "<table border=\"1\" class=\"dataframe\">\n",
       "  <thead>\n",
       "    <tr style=\"text-align: right;\">\n",
       "      <th></th>\n",
       "      <th>speciesgroup</th>\n",
       "      <th>countryname</th>\n",
       "      <th>iso_ter1</th>\n",
       "      <th>species</th>\n",
       "    </tr>\n",
       "  </thead>\n",
       "  <tbody>\n",
       "    <tr>\n",
       "      <th>0</th>\n",
       "      <td>marine fishes</td>\n",
       "      <td>Albania</td>\n",
       "      <td>ALB</td>\n",
       "      <td>345</td>\n",
       "    </tr>\n",
       "    <tr>\n",
       "      <th>1</th>\n",
       "      <td>marine fishes</td>\n",
       "      <td>Algeria</td>\n",
       "      <td>DZA</td>\n",
       "      <td>470</td>\n",
       "    </tr>\n",
       "    <tr>\n",
       "      <th>2</th>\n",
       "      <td>marine fishes</td>\n",
       "      <td>Antarctica</td>\n",
       "      <td>ATA</td>\n",
       "      <td>106</td>\n",
       "    </tr>\n",
       "    <tr>\n",
       "      <th>3</th>\n",
       "      <td>marine fishes</td>\n",
       "      <td>Antigua and Barbuda</td>\n",
       "      <td>ATG</td>\n",
       "      <td>1493</td>\n",
       "    </tr>\n",
       "    <tr>\n",
       "      <th>4</th>\n",
       "      <td>marine fishes</td>\n",
       "      <td>Argentina</td>\n",
       "      <td>ARG</td>\n",
       "      <td>632</td>\n",
       "    </tr>\n",
       "  </tbody>\n",
       "</table>\n",
       "</div>"
      ],
      "text/plain": [
       "    speciesgroup          countryname iso_ter1  species\n",
       "0  marine fishes              Albania      ALB      345\n",
       "1  marine fishes              Algeria      DZA      470\n",
       "2  marine fishes           Antarctica      ATA      106\n",
       "3  marine fishes  Antigua and Barbuda      ATG     1493\n",
       "4  marine fishes            Argentina      ARG      632"
      ]
     },
     "execution_count": 33,
     "metadata": {},
     "output_type": "execute_result"
    }
   ],
   "source": [
    "## Get number of species (by taxa) per country\n",
    "mar2 = mar[['speciesgroup', 'species','countryname', 'iso_ter1']]\n",
    "mar_num = mar2.groupby(by = ['speciesgroup', 'countryname', 'iso_ter1']).count().reset_index()\n",
    "mar_num.head(5)"
   ]
  },
  {
   "cell_type": "code",
   "execution_count": 34,
   "id": "d579b270-4fec-4bda-9e4b-0e09a2af1dce",
   "metadata": {},
   "outputs": [],
   "source": [
    "## Distinguish between taxa\n",
    "mamm = mar_num[mar_num['speciesgroup']=='marine mammals']\n",
    "fish = mar_num[mar_num['speciesgroup']=='marine fishes']"
   ]
  },
  {
   "cell_type": "code",
   "execution_count": 35,
   "id": "ae4c48ba-766b-4fc7-8ffa-12073cd57c4a",
   "metadata": {},
   "outputs": [
    {
     "data": {
      "text/html": [
       "<div>\n",
       "<style scoped>\n",
       "    .dataframe tbody tr th:only-of-type {\n",
       "        vertical-align: middle;\n",
       "    }\n",
       "\n",
       "    .dataframe tbody tr th {\n",
       "        vertical-align: top;\n",
       "    }\n",
       "\n",
       "    .dataframe thead th {\n",
       "        text-align: right;\n",
       "    }\n",
       "</style>\n",
       "<table border=\"1\" class=\"dataframe\">\n",
       "  <thead>\n",
       "    <tr style=\"text-align: right;\">\n",
       "      <th></th>\n",
       "      <th>speciesgroup</th>\n",
       "      <th>countryname</th>\n",
       "      <th>iso_ter1</th>\n",
       "      <th>species</th>\n",
       "    </tr>\n",
       "  </thead>\n",
       "  <tbody>\n",
       "    <tr>\n",
       "      <th>181</th>\n",
       "      <td>marine mammals</td>\n",
       "      <td>Albania</td>\n",
       "      <td>ALB</td>\n",
       "      <td>2</td>\n",
       "    </tr>\n",
       "  </tbody>\n",
       "</table>\n",
       "</div>"
      ],
      "text/plain": [
       "       speciesgroup countryname iso_ter1  species\n",
       "181  marine mammals     Albania      ALB        2"
      ]
     },
     "execution_count": 35,
     "metadata": {},
     "output_type": "execute_result"
    }
   ],
   "source": [
    "mamm.head(1)"
   ]
  },
  {
   "cell_type": "code",
   "execution_count": 36,
   "id": "c246fbdf-b71d-471d-846a-ed1315b6b6ae",
   "metadata": {},
   "outputs": [
    {
     "data": {
      "text/html": [
       "<div>\n",
       "<style scoped>\n",
       "    .dataframe tbody tr th:only-of-type {\n",
       "        vertical-align: middle;\n",
       "    }\n",
       "\n",
       "    .dataframe tbody tr th {\n",
       "        vertical-align: top;\n",
       "    }\n",
       "\n",
       "    .dataframe thead th {\n",
       "        text-align: right;\n",
       "    }\n",
       "</style>\n",
       "<table border=\"1\" class=\"dataframe\">\n",
       "  <thead>\n",
       "    <tr style=\"text-align: right;\">\n",
       "      <th></th>\n",
       "      <th>speciesgroup</th>\n",
       "      <th>countryname</th>\n",
       "      <th>iso_ter1</th>\n",
       "      <th>species</th>\n",
       "    </tr>\n",
       "  </thead>\n",
       "  <tbody>\n",
       "    <tr>\n",
       "      <th>0</th>\n",
       "      <td>marine fishes</td>\n",
       "      <td>Albania</td>\n",
       "      <td>ALB</td>\n",
       "      <td>345</td>\n",
       "    </tr>\n",
       "  </tbody>\n",
       "</table>\n",
       "</div>"
      ],
      "text/plain": [
       "    speciesgroup countryname iso_ter1  species\n",
       "0  marine fishes     Albania      ALB      345"
      ]
     },
     "execution_count": 36,
     "metadata": {},
     "output_type": "execute_result"
    }
   ],
   "source": [
    "fish.head(1)"
   ]
  },
  {
   "cell_type": "code",
   "execution_count": 37,
   "id": "910539db-16f8-4c2a-9eec-793b8ec53257",
   "metadata": {},
   "outputs": [
    {
     "data": {
      "text/html": [
       "<div>\n",
       "<style scoped>\n",
       "    .dataframe tbody tr th:only-of-type {\n",
       "        vertical-align: middle;\n",
       "    }\n",
       "\n",
       "    .dataframe tbody tr th {\n",
       "        vertical-align: top;\n",
       "    }\n",
       "\n",
       "    .dataframe thead th {\n",
       "        text-align: right;\n",
       "    }\n",
       "</style>\n",
       "<table border=\"1\" class=\"dataframe\">\n",
       "  <thead>\n",
       "    <tr style=\"text-align: right;\">\n",
       "      <th></th>\n",
       "      <th>GID_0</th>\n",
       "      <th>NAME_0</th>\n",
       "      <th>jpg_url</th>\n",
       "      <th>GNI_PPP</th>\n",
       "      <th>max_amph</th>\n",
       "      <th>max_bird</th>\n",
       "      <th>max_mamm</th>\n",
       "      <th>max_rept</th>\n",
       "      <th>max_cact</th>\n",
       "      <th>max_coni</th>\n",
       "      <th>...</th>\n",
       "      <th>total_endemic_ter</th>\n",
       "      <th>filter_similar_ter</th>\n",
       "      <th>Pop2020_EEZ</th>\n",
       "      <th>SPI_mar</th>\n",
       "      <th>prop_protected_mar</th>\n",
       "      <th>hm_no_mar</th>\n",
       "      <th>hm_mar</th>\n",
       "      <th>hm_vh_mar</th>\n",
       "      <th>mammals_mar</th>\n",
       "      <th>fishes_mar</th>\n",
       "    </tr>\n",
       "  </thead>\n",
       "  <tbody>\n",
       "    <tr>\n",
       "      <th>0</th>\n",
       "      <td>ABW</td>\n",
       "      <td>Aruba</td>\n",
       "      <td>https://live.staticflickr.com/1952/31416683438...</td>\n",
       "      <td>3.9</td>\n",
       "      <td>3</td>\n",
       "      <td>1</td>\n",
       "      <td>10</td>\n",
       "      <td>10</td>\n",
       "      <td>10</td>\n",
       "      <td>0</td>\n",
       "      <td>...</td>\n",
       "      <td>3</td>\n",
       "      <td>{\"filter_Area_Country\": [\"JEY\", \"CXR\", \"WLF\", ...</td>\n",
       "      <td>1547.605201</td>\n",
       "      <td>0.00</td>\n",
       "      <td>0.00</td>\n",
       "      <td>0.0</td>\n",
       "      <td>78.304750</td>\n",
       "      <td>21.695250</td>\n",
       "      <td>19.0</td>\n",
       "      <td>1466.0</td>\n",
       "    </tr>\n",
       "    <tr>\n",
       "      <th>1</th>\n",
       "      <td>AFG</td>\n",
       "      <td>Afghanistan</td>\n",
       "      <td>https://p1.pxfuel.com/preview/967/12/53/afghan...</td>\n",
       "      <td>70.6</td>\n",
       "      <td>10</td>\n",
       "      <td>9</td>\n",
       "      <td>10</td>\n",
       "      <td>10</td>\n",
       "      <td>0</td>\n",
       "      <td>9</td>\n",
       "      <td>...</td>\n",
       "      <td>5</td>\n",
       "      <td>{\"filter_Area_Country\": [\"MDG\", \"UKR\", \"CAF\", ...</td>\n",
       "      <td>NaN</td>\n",
       "      <td>NaN</td>\n",
       "      <td>NaN</td>\n",
       "      <td>NaN</td>\n",
       "      <td>NaN</td>\n",
       "      <td>NaN</td>\n",
       "      <td>NaN</td>\n",
       "      <td>NaN</td>\n",
       "    </tr>\n",
       "    <tr>\n",
       "      <th>2</th>\n",
       "      <td>AGO</td>\n",
       "      <td>Angola</td>\n",
       "      <td>https://live.staticflickr.com/3787/13698381215...</td>\n",
       "      <td>192.2</td>\n",
       "      <td>10</td>\n",
       "      <td>10</td>\n",
       "      <td>10</td>\n",
       "      <td>10</td>\n",
       "      <td>3</td>\n",
       "      <td>5</td>\n",
       "      <td>...</td>\n",
       "      <td>66</td>\n",
       "      <td>{\"filter_Area_Country\": [\"BOL\", \"ETH\", \"COL\", ...</td>\n",
       "      <td>NaN</td>\n",
       "      <td>NaN</td>\n",
       "      <td>NaN</td>\n",
       "      <td>NaN</td>\n",
       "      <td>NaN</td>\n",
       "      <td>NaN</td>\n",
       "      <td>NaN</td>\n",
       "      <td>NaN</td>\n",
       "    </tr>\n",
       "    <tr>\n",
       "      <th>3</th>\n",
       "      <td>AIA</td>\n",
       "      <td>Anguilla</td>\n",
       "      <td>https://live.staticflickr.com/8063/8194570372_...</td>\n",
       "      <td>NaN</td>\n",
       "      <td>9</td>\n",
       "      <td>7</td>\n",
       "      <td>10</td>\n",
       "      <td>10</td>\n",
       "      <td>6</td>\n",
       "      <td>0</td>\n",
       "      <td>...</td>\n",
       "      <td>1</td>\n",
       "      <td>{\"filter_Area_Country\": [\"PCN\", \"MAF\", \"SMR\", ...</td>\n",
       "      <td>1693.719824</td>\n",
       "      <td>4.68</td>\n",
       "      <td>0.28</td>\n",
       "      <td>0.0</td>\n",
       "      <td>94.367741</td>\n",
       "      <td>5.632259</td>\n",
       "      <td>25.0</td>\n",
       "      <td>1494.0</td>\n",
       "    </tr>\n",
       "    <tr>\n",
       "      <th>4</th>\n",
       "      <td>ALA</td>\n",
       "      <td>Åland</td>\n",
       "      <td>https://p1.pxfuel.com/preview/294/670/561/alan...</td>\n",
       "      <td>NaN</td>\n",
       "      <td>1</td>\n",
       "      <td>1</td>\n",
       "      <td>1</td>\n",
       "      <td>1</td>\n",
       "      <td>0</td>\n",
       "      <td>1</td>\n",
       "      <td>...</td>\n",
       "      <td>0</td>\n",
       "      <td>{\"filter_Area_Country\": [\"STP\", \"KIR\", \"MTQ\", ...</td>\n",
       "      <td>NaN</td>\n",
       "      <td>NaN</td>\n",
       "      <td>NaN</td>\n",
       "      <td>NaN</td>\n",
       "      <td>NaN</td>\n",
       "      <td>NaN</td>\n",
       "      <td>NaN</td>\n",
       "      <td>NaN</td>\n",
       "    </tr>\n",
       "  </tbody>\n",
       "</table>\n",
       "<p>5 rows × 48 columns</p>\n",
       "</div>"
      ],
      "text/plain": [
       "  GID_0       NAME_0                                            jpg_url  \\\n",
       "0   ABW        Aruba  https://live.staticflickr.com/1952/31416683438...   \n",
       "1   AFG  Afghanistan  https://p1.pxfuel.com/preview/967/12/53/afghan...   \n",
       "2   AGO       Angola  https://live.staticflickr.com/3787/13698381215...   \n",
       "3   AIA     Anguilla  https://live.staticflickr.com/8063/8194570372_...   \n",
       "4   ALA        Åland  https://p1.pxfuel.com/preview/294/670/561/alan...   \n",
       "\n",
       "   GNI_PPP  max_amph  max_bird  max_mamm  max_rept  max_cact  max_coni  ...  \\\n",
       "0      3.9         3         1        10        10        10         0  ...   \n",
       "1     70.6        10         9        10        10         0         9  ...   \n",
       "2    192.2        10        10        10        10         3         5  ...   \n",
       "3      NaN         9         7        10        10         6         0  ...   \n",
       "4      NaN         1         1         1         1         0         1  ...   \n",
       "\n",
       "   total_endemic_ter                                 filter_similar_ter  \\\n",
       "0                  3  {\"filter_Area_Country\": [\"JEY\", \"CXR\", \"WLF\", ...   \n",
       "1                  5  {\"filter_Area_Country\": [\"MDG\", \"UKR\", \"CAF\", ...   \n",
       "2                 66  {\"filter_Area_Country\": [\"BOL\", \"ETH\", \"COL\", ...   \n",
       "3                  1  {\"filter_Area_Country\": [\"PCN\", \"MAF\", \"SMR\", ...   \n",
       "4                  0  {\"filter_Area_Country\": [\"STP\", \"KIR\", \"MTQ\", ...   \n",
       "\n",
       "   Pop2020_EEZ SPI_mar prop_protected_mar  hm_no_mar     hm_mar  hm_vh_mar  \\\n",
       "0  1547.605201    0.00               0.00        0.0  78.304750  21.695250   \n",
       "1          NaN     NaN                NaN        NaN        NaN        NaN   \n",
       "2          NaN     NaN                NaN        NaN        NaN        NaN   \n",
       "3  1693.719824    4.68               0.28        0.0  94.367741   5.632259   \n",
       "4          NaN     NaN                NaN        NaN        NaN        NaN   \n",
       "\n",
       "   mammals_mar fishes_mar  \n",
       "0         19.0     1466.0  \n",
       "1          NaN        NaN  \n",
       "2          NaN        NaN  \n",
       "3         25.0     1494.0  \n",
       "4          NaN        NaN  \n",
       "\n",
       "[5 rows x 48 columns]"
      ]
     },
     "execution_count": 37,
     "metadata": {},
     "output_type": "execute_result"
    }
   ],
   "source": [
    "## Include number of species in dataframe\n",
    "df= pd.merge(df, mamm,  how='left', left_on=['GID_0'], right_on = ['iso_ter1']).drop(columns = {'speciesgroup','iso_ter1','countryname'}).rename(columns={'species': 'mammals_mar'})\n",
    "df= pd.merge(df, fish,  how='left', left_on=['GID_0'], right_on = ['iso_ter1']).drop(columns = {'speciesgroup','iso_ter1','countryname'}).rename(columns={'species': 'fishes_mar'})\n",
    "df.head(5)"
   ]
  },
  {
   "cell_type": "code",
   "execution_count": 38,
   "id": "f18df0b3-af8a-4bd1-bebb-bbd724b9d8fa",
   "metadata": {},
   "outputs": [
    {
     "data": {
      "text/html": [
       "<div>\n",
       "<style scoped>\n",
       "    .dataframe tbody tr th:only-of-type {\n",
       "        vertical-align: middle;\n",
       "    }\n",
       "\n",
       "    .dataframe tbody tr th {\n",
       "        vertical-align: top;\n",
       "    }\n",
       "\n",
       "    .dataframe thead th {\n",
       "        text-align: right;\n",
       "    }\n",
       "</style>\n",
       "<table border=\"1\" class=\"dataframe\">\n",
       "  <thead>\n",
       "    <tr style=\"text-align: right;\">\n",
       "      <th></th>\n",
       "      <th>speciesgroup</th>\n",
       "      <th>iso_ter1</th>\n",
       "      <th>endemic_mammals_mar</th>\n",
       "    </tr>\n",
       "  </thead>\n",
       "  <tbody>\n",
       "    <tr>\n",
       "      <th>0</th>\n",
       "      <td>marine mammals</td>\n",
       "      <td>AUS</td>\n",
       "      <td>1</td>\n",
       "    </tr>\n",
       "    <tr>\n",
       "      <th>1</th>\n",
       "      <td>marine mammals</td>\n",
       "      <td>ECU</td>\n",
       "      <td>2</td>\n",
       "    </tr>\n",
       "    <tr>\n",
       "      <th>2</th>\n",
       "      <td>marine mammals</td>\n",
       "      <td>NZL</td>\n",
       "      <td>1</td>\n",
       "    </tr>\n",
       "    <tr>\n",
       "      <th>3</th>\n",
       "      <td>marine mammals</td>\n",
       "      <td>USA</td>\n",
       "      <td>1</td>\n",
       "    </tr>\n",
       "  </tbody>\n",
       "</table>\n",
       "</div>"
      ],
      "text/plain": [
       "     speciesgroup iso_ter1  endemic_mammals_mar\n",
       "0  marine mammals      AUS                    1\n",
       "1  marine mammals      ECU                    2\n",
       "2  marine mammals      NZL                    1\n",
       "3  marine mammals      USA                    1"
      ]
     },
     "execution_count": 38,
     "metadata": {},
     "output_type": "execute_result"
    }
   ],
   "source": [
    "## Calculate number of endemic species per country: mammals\n",
    "mamm_e = mar[(mar['speciesgroup']=='marine mammals')&(mar['stewardship']==1)]\n",
    "mamm_e = mamm_e.groupby(['speciesgroup','iso_ter1']).sum()\n",
    "mamm_e = mamm_e.reset_index().rename(columns={'stewardship':'endemic_mammals_mar'})\n",
    "mamm_e.head(5)"
   ]
  },
  {
   "cell_type": "code",
   "execution_count": 39,
   "id": "da16ce6b-4603-44d0-b309-1957932fca8c",
   "metadata": {},
   "outputs": [
    {
     "data": {
      "text/html": [
       "<div>\n",
       "<style scoped>\n",
       "    .dataframe tbody tr th:only-of-type {\n",
       "        vertical-align: middle;\n",
       "    }\n",
       "\n",
       "    .dataframe tbody tr th {\n",
       "        vertical-align: top;\n",
       "    }\n",
       "\n",
       "    .dataframe thead th {\n",
       "        text-align: right;\n",
       "    }\n",
       "</style>\n",
       "<table border=\"1\" class=\"dataframe\">\n",
       "  <thead>\n",
       "    <tr style=\"text-align: right;\">\n",
       "      <th></th>\n",
       "      <th>speciesgroup</th>\n",
       "      <th>iso_ter1</th>\n",
       "      <th>endemic_fishes_mar</th>\n",
       "    </tr>\n",
       "  </thead>\n",
       "  <tbody>\n",
       "    <tr>\n",
       "      <th>0</th>\n",
       "      <td>marine fishes</td>\n",
       "      <td>ARG</td>\n",
       "      <td>2</td>\n",
       "    </tr>\n",
       "    <tr>\n",
       "      <th>1</th>\n",
       "      <td>marine fishes</td>\n",
       "      <td>ATA</td>\n",
       "      <td>5</td>\n",
       "    </tr>\n",
       "    <tr>\n",
       "      <th>2</th>\n",
       "      <td>marine fishes</td>\n",
       "      <td>ATF</td>\n",
       "      <td>3</td>\n",
       "    </tr>\n",
       "    <tr>\n",
       "      <th>3</th>\n",
       "      <td>marine fishes</td>\n",
       "      <td>AUS</td>\n",
       "      <td>379</td>\n",
       "    </tr>\n",
       "    <tr>\n",
       "      <th>4</th>\n",
       "      <td>marine fishes</td>\n",
       "      <td>BHS</td>\n",
       "      <td>2</td>\n",
       "    </tr>\n",
       "  </tbody>\n",
       "</table>\n",
       "</div>"
      ],
      "text/plain": [
       "    speciesgroup iso_ter1  endemic_fishes_mar\n",
       "0  marine fishes      ARG                   2\n",
       "1  marine fishes      ATA                   5\n",
       "2  marine fishes      ATF                   3\n",
       "3  marine fishes      AUS                 379\n",
       "4  marine fishes      BHS                   2"
      ]
     },
     "execution_count": 39,
     "metadata": {},
     "output_type": "execute_result"
    }
   ],
   "source": [
    "## Calculate number of endemic species per country: fishes\n",
    "fish_e = mar[(mar['speciesgroup']=='marine fishes')&(mar['stewardship']==1)]\n",
    "fish_e = fish_e.groupby(['speciesgroup','iso_ter1']).sum()\n",
    "fish_e = fish_e.reset_index().rename(columns={'stewardship':'endemic_fishes_mar'})\n",
    "fish_e.head(5)"
   ]
  },
  {
   "cell_type": "code",
   "execution_count": 40,
   "id": "c6fb29bf-68b1-4a14-8d65-4c7c8be4c2b6",
   "metadata": {},
   "outputs": [
    {
     "data": {
      "text/html": [
       "<div>\n",
       "<style scoped>\n",
       "    .dataframe tbody tr th:only-of-type {\n",
       "        vertical-align: middle;\n",
       "    }\n",
       "\n",
       "    .dataframe tbody tr th {\n",
       "        vertical-align: top;\n",
       "    }\n",
       "\n",
       "    .dataframe thead th {\n",
       "        text-align: right;\n",
       "    }\n",
       "</style>\n",
       "<table border=\"1\" class=\"dataframe\">\n",
       "  <thead>\n",
       "    <tr style=\"text-align: right;\">\n",
       "      <th></th>\n",
       "      <th>GID_0</th>\n",
       "      <th>NAME_0</th>\n",
       "      <th>jpg_url</th>\n",
       "      <th>GNI_PPP</th>\n",
       "      <th>max_amph</th>\n",
       "      <th>max_bird</th>\n",
       "      <th>max_mamm</th>\n",
       "      <th>max_rept</th>\n",
       "      <th>max_cact</th>\n",
       "      <th>max_coni</th>\n",
       "      <th>...</th>\n",
       "      <th>Pop2020_EEZ</th>\n",
       "      <th>SPI_mar</th>\n",
       "      <th>prop_protected_mar</th>\n",
       "      <th>hm_no_mar</th>\n",
       "      <th>hm_mar</th>\n",
       "      <th>hm_vh_mar</th>\n",
       "      <th>mammals_mar</th>\n",
       "      <th>fishes_mar</th>\n",
       "      <th>endemic_mammals_mar</th>\n",
       "      <th>endemic_fishes_mar</th>\n",
       "    </tr>\n",
       "  </thead>\n",
       "  <tbody>\n",
       "    <tr>\n",
       "      <th>0</th>\n",
       "      <td>ABW</td>\n",
       "      <td>Aruba</td>\n",
       "      <td>https://live.staticflickr.com/1952/31416683438...</td>\n",
       "      <td>3.9</td>\n",
       "      <td>3</td>\n",
       "      <td>1</td>\n",
       "      <td>10</td>\n",
       "      <td>10</td>\n",
       "      <td>10</td>\n",
       "      <td>0</td>\n",
       "      <td>...</td>\n",
       "      <td>1547.605201</td>\n",
       "      <td>0.00</td>\n",
       "      <td>0.00</td>\n",
       "      <td>0.0</td>\n",
       "      <td>78.304750</td>\n",
       "      <td>21.695250</td>\n",
       "      <td>19.0</td>\n",
       "      <td>1466.0</td>\n",
       "      <td>NaN</td>\n",
       "      <td>NaN</td>\n",
       "    </tr>\n",
       "    <tr>\n",
       "      <th>1</th>\n",
       "      <td>AFG</td>\n",
       "      <td>Afghanistan</td>\n",
       "      <td>https://p1.pxfuel.com/preview/967/12/53/afghan...</td>\n",
       "      <td>70.6</td>\n",
       "      <td>10</td>\n",
       "      <td>9</td>\n",
       "      <td>10</td>\n",
       "      <td>10</td>\n",
       "      <td>0</td>\n",
       "      <td>9</td>\n",
       "      <td>...</td>\n",
       "      <td>NaN</td>\n",
       "      <td>NaN</td>\n",
       "      <td>NaN</td>\n",
       "      <td>NaN</td>\n",
       "      <td>NaN</td>\n",
       "      <td>NaN</td>\n",
       "      <td>NaN</td>\n",
       "      <td>NaN</td>\n",
       "      <td>NaN</td>\n",
       "      <td>NaN</td>\n",
       "    </tr>\n",
       "    <tr>\n",
       "      <th>2</th>\n",
       "      <td>AGO</td>\n",
       "      <td>Angola</td>\n",
       "      <td>https://live.staticflickr.com/3787/13698381215...</td>\n",
       "      <td>192.2</td>\n",
       "      <td>10</td>\n",
       "      <td>10</td>\n",
       "      <td>10</td>\n",
       "      <td>10</td>\n",
       "      <td>3</td>\n",
       "      <td>5</td>\n",
       "      <td>...</td>\n",
       "      <td>NaN</td>\n",
       "      <td>NaN</td>\n",
       "      <td>NaN</td>\n",
       "      <td>NaN</td>\n",
       "      <td>NaN</td>\n",
       "      <td>NaN</td>\n",
       "      <td>NaN</td>\n",
       "      <td>NaN</td>\n",
       "      <td>NaN</td>\n",
       "      <td>NaN</td>\n",
       "    </tr>\n",
       "    <tr>\n",
       "      <th>3</th>\n",
       "      <td>AIA</td>\n",
       "      <td>Anguilla</td>\n",
       "      <td>https://live.staticflickr.com/8063/8194570372_...</td>\n",
       "      <td>NaN</td>\n",
       "      <td>9</td>\n",
       "      <td>7</td>\n",
       "      <td>10</td>\n",
       "      <td>10</td>\n",
       "      <td>6</td>\n",
       "      <td>0</td>\n",
       "      <td>...</td>\n",
       "      <td>1693.719824</td>\n",
       "      <td>4.68</td>\n",
       "      <td>0.28</td>\n",
       "      <td>0.0</td>\n",
       "      <td>94.367741</td>\n",
       "      <td>5.632259</td>\n",
       "      <td>25.0</td>\n",
       "      <td>1494.0</td>\n",
       "      <td>NaN</td>\n",
       "      <td>NaN</td>\n",
       "    </tr>\n",
       "    <tr>\n",
       "      <th>4</th>\n",
       "      <td>ALA</td>\n",
       "      <td>Åland</td>\n",
       "      <td>https://p1.pxfuel.com/preview/294/670/561/alan...</td>\n",
       "      <td>NaN</td>\n",
       "      <td>1</td>\n",
       "      <td>1</td>\n",
       "      <td>1</td>\n",
       "      <td>1</td>\n",
       "      <td>0</td>\n",
       "      <td>1</td>\n",
       "      <td>...</td>\n",
       "      <td>NaN</td>\n",
       "      <td>NaN</td>\n",
       "      <td>NaN</td>\n",
       "      <td>NaN</td>\n",
       "      <td>NaN</td>\n",
       "      <td>NaN</td>\n",
       "      <td>NaN</td>\n",
       "      <td>NaN</td>\n",
       "      <td>NaN</td>\n",
       "      <td>NaN</td>\n",
       "    </tr>\n",
       "  </tbody>\n",
       "</table>\n",
       "<p>5 rows × 50 columns</p>\n",
       "</div>"
      ],
      "text/plain": [
       "  GID_0       NAME_0                                            jpg_url  \\\n",
       "0   ABW        Aruba  https://live.staticflickr.com/1952/31416683438...   \n",
       "1   AFG  Afghanistan  https://p1.pxfuel.com/preview/967/12/53/afghan...   \n",
       "2   AGO       Angola  https://live.staticflickr.com/3787/13698381215...   \n",
       "3   AIA     Anguilla  https://live.staticflickr.com/8063/8194570372_...   \n",
       "4   ALA        Åland  https://p1.pxfuel.com/preview/294/670/561/alan...   \n",
       "\n",
       "   GNI_PPP  max_amph  max_bird  max_mamm  max_rept  max_cact  max_coni  ...  \\\n",
       "0      3.9         3         1        10        10        10         0  ...   \n",
       "1     70.6        10         9        10        10         0         9  ...   \n",
       "2    192.2        10        10        10        10         3         5  ...   \n",
       "3      NaN         9         7        10        10         6         0  ...   \n",
       "4      NaN         1         1         1         1         0         1  ...   \n",
       "\n",
       "   Pop2020_EEZ SPI_mar  prop_protected_mar hm_no_mar     hm_mar  hm_vh_mar  \\\n",
       "0  1547.605201    0.00                0.00       0.0  78.304750  21.695250   \n",
       "1          NaN     NaN                 NaN       NaN        NaN        NaN   \n",
       "2          NaN     NaN                 NaN       NaN        NaN        NaN   \n",
       "3  1693.719824    4.68                0.28       0.0  94.367741   5.632259   \n",
       "4          NaN     NaN                 NaN       NaN        NaN        NaN   \n",
       "\n",
       "   mammals_mar  fishes_mar  endemic_mammals_mar endemic_fishes_mar  \n",
       "0         19.0      1466.0                  NaN                NaN  \n",
       "1          NaN         NaN                  NaN                NaN  \n",
       "2          NaN         NaN                  NaN                NaN  \n",
       "3         25.0      1494.0                  NaN                NaN  \n",
       "4          NaN         NaN                  NaN                NaN  \n",
       "\n",
       "[5 rows x 50 columns]"
      ]
     },
     "execution_count": 40,
     "metadata": {},
     "output_type": "execute_result"
    }
   ],
   "source": [
    "## Merge endemic data in dataframe\n",
    "df= pd.merge(df, mamm_e,  how='left', left_on=['GID_0'], right_on = ['iso_ter1']).drop(columns = {'speciesgroup','iso_ter1'})\n",
    "df= pd.merge(df, fish_e,  how='left', left_on=['GID_0'], right_on = ['iso_ter1']).drop(columns = {'speciesgroup','iso_ter1'})\n",
    "df.head(5)"
   ]
  },
  {
   "cell_type": "code",
   "execution_count": 41,
   "id": "245842af-f917-48df-8c5d-1f3eb28db4c4",
   "metadata": {},
   "outputs": [
    {
     "data": {
      "text/plain": [
       "44"
      ]
     },
     "execution_count": 41,
     "metadata": {},
     "output_type": "execute_result"
    }
   ],
   "source": [
    "sum(df['endemic_fishes_mar'].notnull())"
   ]
  },
  {
   "cell_type": "code",
   "execution_count": 42,
   "id": "b6c95103-d31f-4bb7-a636-2c39028ccb48",
   "metadata": {},
   "outputs": [],
   "source": [
    "## Make columns type integer\n",
    "cols = ['SPI_mar','mammals_mar', 'endemic_mammals_mar', 'fishes_mar', 'endemic_fishes_mar']\n",
    "df[cols] = df[cols].fillna(0) \n",
    "df[cols] = df[cols].astype(int)"
   ]
  },
  {
   "cell_type": "code",
   "execution_count": 43,
   "id": "0b93c43f-7502-4c30-91f6-9ed5d66670a6",
   "metadata": {},
   "outputs": [
    {
     "data": {
      "text/plain": [
       "Index(['GID_0', 'NAME_0', 'jpg_url', 'GNI_PPP', 'max_amph', 'max_bird',\n",
       "       'max_mamm', 'max_rept', 'max_cact', 'max_coni', 'max_all', 'sentence',\n",
       "       'Average SPI', 'GlobalID', 'continent', 'has_priority', 'has_raisg',\n",
       "       'Area_Country', 'protection_needed_ter', 'iso2', 'max_highlited_sp',\n",
       "       'x', 'y', 'hm_ter', 'hm_no_ter', 'hm_vh_ter', 'Pop2020', 'SPI_ter',\n",
       "       'prop_protected_ter', 'amphibians', 'birds', 'mammals', 'reptiles',\n",
       "       'endemic_amphibians', 'endemic_birds', 'endemic_mammals',\n",
       "       'endemic_reptiles', 'nspecies_ter', 'total_endemic_ter',\n",
       "       'filter_similar_ter', 'Pop2020_EEZ', 'SPI_mar', 'prop_protected_mar',\n",
       "       'hm_no_mar', 'hm_mar', 'hm_vh_mar', 'mammals_mar', 'fishes_mar',\n",
       "       'endemic_mammals_mar', 'endemic_fishes_mar'],\n",
       "      dtype='object')"
      ]
     },
     "execution_count": 43,
     "metadata": {},
     "output_type": "execute_result"
    }
   ],
   "source": [
    "df.columns"
   ]
  },
  {
   "cell_type": "code",
   "execution_count": 44,
   "id": "2648f50f-c73a-4e2a-9656-704059aa1985",
   "metadata": {},
   "outputs": [
    {
     "data": {
      "text/html": [
       "<div>\n",
       "<style scoped>\n",
       "    .dataframe tbody tr th:only-of-type {\n",
       "        vertical-align: middle;\n",
       "    }\n",
       "\n",
       "    .dataframe tbody tr th {\n",
       "        vertical-align: top;\n",
       "    }\n",
       "\n",
       "    .dataframe thead th {\n",
       "        text-align: right;\n",
       "    }\n",
       "</style>\n",
       "<table border=\"1\" class=\"dataframe\">\n",
       "  <thead>\n",
       "    <tr style=\"text-align: right;\">\n",
       "      <th></th>\n",
       "      <th>GID_0</th>\n",
       "      <th>NAME_0</th>\n",
       "      <th>jpg_url</th>\n",
       "      <th>GNI_PPP</th>\n",
       "      <th>max_amph</th>\n",
       "      <th>max_bird</th>\n",
       "      <th>max_mamm</th>\n",
       "      <th>max_rept</th>\n",
       "      <th>max_cact</th>\n",
       "      <th>max_coni</th>\n",
       "      <th>...</th>\n",
       "      <th>prop_protected_mar</th>\n",
       "      <th>hm_no_mar</th>\n",
       "      <th>hm_mar</th>\n",
       "      <th>hm_vh_mar</th>\n",
       "      <th>mammals_mar</th>\n",
       "      <th>fishes_mar</th>\n",
       "      <th>endemic_mammals_mar</th>\n",
       "      <th>endemic_fishes_mar</th>\n",
       "      <th>nspecies_mar</th>\n",
       "      <th>total_endemic_mar</th>\n",
       "    </tr>\n",
       "  </thead>\n",
       "  <tbody>\n",
       "    <tr>\n",
       "      <th>0</th>\n",
       "      <td>ABW</td>\n",
       "      <td>Aruba</td>\n",
       "      <td>https://live.staticflickr.com/1952/31416683438...</td>\n",
       "      <td>3.9</td>\n",
       "      <td>3</td>\n",
       "      <td>1</td>\n",
       "      <td>10</td>\n",
       "      <td>10</td>\n",
       "      <td>10</td>\n",
       "      <td>0</td>\n",
       "      <td>...</td>\n",
       "      <td>0.00</td>\n",
       "      <td>0.0</td>\n",
       "      <td>78.304750</td>\n",
       "      <td>21.695250</td>\n",
       "      <td>19</td>\n",
       "      <td>1466</td>\n",
       "      <td>0</td>\n",
       "      <td>0</td>\n",
       "      <td>1485</td>\n",
       "      <td>0</td>\n",
       "    </tr>\n",
       "    <tr>\n",
       "      <th>1</th>\n",
       "      <td>AFG</td>\n",
       "      <td>Afghanistan</td>\n",
       "      <td>https://p1.pxfuel.com/preview/967/12/53/afghan...</td>\n",
       "      <td>70.6</td>\n",
       "      <td>10</td>\n",
       "      <td>9</td>\n",
       "      <td>10</td>\n",
       "      <td>10</td>\n",
       "      <td>0</td>\n",
       "      <td>9</td>\n",
       "      <td>...</td>\n",
       "      <td>NaN</td>\n",
       "      <td>NaN</td>\n",
       "      <td>NaN</td>\n",
       "      <td>NaN</td>\n",
       "      <td>0</td>\n",
       "      <td>0</td>\n",
       "      <td>0</td>\n",
       "      <td>0</td>\n",
       "      <td>0</td>\n",
       "      <td>0</td>\n",
       "    </tr>\n",
       "    <tr>\n",
       "      <th>2</th>\n",
       "      <td>AGO</td>\n",
       "      <td>Angola</td>\n",
       "      <td>https://live.staticflickr.com/3787/13698381215...</td>\n",
       "      <td>192.2</td>\n",
       "      <td>10</td>\n",
       "      <td>10</td>\n",
       "      <td>10</td>\n",
       "      <td>10</td>\n",
       "      <td>3</td>\n",
       "      <td>5</td>\n",
       "      <td>...</td>\n",
       "      <td>NaN</td>\n",
       "      <td>NaN</td>\n",
       "      <td>NaN</td>\n",
       "      <td>NaN</td>\n",
       "      <td>0</td>\n",
       "      <td>0</td>\n",
       "      <td>0</td>\n",
       "      <td>0</td>\n",
       "      <td>0</td>\n",
       "      <td>0</td>\n",
       "    </tr>\n",
       "    <tr>\n",
       "      <th>3</th>\n",
       "      <td>AIA</td>\n",
       "      <td>Anguilla</td>\n",
       "      <td>https://live.staticflickr.com/8063/8194570372_...</td>\n",
       "      <td>NaN</td>\n",
       "      <td>9</td>\n",
       "      <td>7</td>\n",
       "      <td>10</td>\n",
       "      <td>10</td>\n",
       "      <td>6</td>\n",
       "      <td>0</td>\n",
       "      <td>...</td>\n",
       "      <td>0.28</td>\n",
       "      <td>0.0</td>\n",
       "      <td>94.367741</td>\n",
       "      <td>5.632259</td>\n",
       "      <td>25</td>\n",
       "      <td>1494</td>\n",
       "      <td>0</td>\n",
       "      <td>0</td>\n",
       "      <td>1519</td>\n",
       "      <td>0</td>\n",
       "    </tr>\n",
       "    <tr>\n",
       "      <th>4</th>\n",
       "      <td>ALA</td>\n",
       "      <td>Åland</td>\n",
       "      <td>https://p1.pxfuel.com/preview/294/670/561/alan...</td>\n",
       "      <td>NaN</td>\n",
       "      <td>1</td>\n",
       "      <td>1</td>\n",
       "      <td>1</td>\n",
       "      <td>1</td>\n",
       "      <td>0</td>\n",
       "      <td>1</td>\n",
       "      <td>...</td>\n",
       "      <td>NaN</td>\n",
       "      <td>NaN</td>\n",
       "      <td>NaN</td>\n",
       "      <td>NaN</td>\n",
       "      <td>0</td>\n",
       "      <td>0</td>\n",
       "      <td>0</td>\n",
       "      <td>0</td>\n",
       "      <td>0</td>\n",
       "      <td>0</td>\n",
       "    </tr>\n",
       "  </tbody>\n",
       "</table>\n",
       "<p>5 rows × 52 columns</p>\n",
       "</div>"
      ],
      "text/plain": [
       "  GID_0       NAME_0                                            jpg_url  \\\n",
       "0   ABW        Aruba  https://live.staticflickr.com/1952/31416683438...   \n",
       "1   AFG  Afghanistan  https://p1.pxfuel.com/preview/967/12/53/afghan...   \n",
       "2   AGO       Angola  https://live.staticflickr.com/3787/13698381215...   \n",
       "3   AIA     Anguilla  https://live.staticflickr.com/8063/8194570372_...   \n",
       "4   ALA        Åland  https://p1.pxfuel.com/preview/294/670/561/alan...   \n",
       "\n",
       "   GNI_PPP  max_amph  max_bird  max_mamm  max_rept  max_cact  max_coni  ...  \\\n",
       "0      3.9         3         1        10        10        10         0  ...   \n",
       "1     70.6        10         9        10        10         0         9  ...   \n",
       "2    192.2        10        10        10        10         3         5  ...   \n",
       "3      NaN         9         7        10        10         6         0  ...   \n",
       "4      NaN         1         1         1         1         0         1  ...   \n",
       "\n",
       "   prop_protected_mar hm_no_mar     hm_mar  hm_vh_mar mammals_mar  fishes_mar  \\\n",
       "0                0.00       0.0  78.304750  21.695250          19        1466   \n",
       "1                 NaN       NaN        NaN        NaN           0           0   \n",
       "2                 NaN       NaN        NaN        NaN           0           0   \n",
       "3                0.28       0.0  94.367741   5.632259          25        1494   \n",
       "4                 NaN       NaN        NaN        NaN           0           0   \n",
       "\n",
       "   endemic_mammals_mar  endemic_fishes_mar  nspecies_mar total_endemic_mar  \n",
       "0                    0                   0          1485                 0  \n",
       "1                    0                   0             0                 0  \n",
       "2                    0                   0             0                 0  \n",
       "3                    0                   0          1519                 0  \n",
       "4                    0                   0             0                 0  \n",
       "\n",
       "[5 rows x 52 columns]"
      ]
     },
     "execution_count": 44,
     "metadata": {},
     "output_type": "execute_result"
    }
   ],
   "source": [
    "# Calculate total number of species and total number of endemic marine\n",
    "df['nspecies_mar']= df['mammals_mar']+df['fishes_mar']\n",
    "df['total_endemic_mar']= df['endemic_mammals_mar']+df['endemic_fishes_mar']\n",
    "df.head(5)"
   ]
  },
  {
   "cell_type": "code",
   "execution_count": 45,
   "id": "df80df1b-e33b-44ba-af3f-9a392354be99",
   "metadata": {
    "tags": []
   },
   "outputs": [
    {
     "data": {
      "text/plain": [
       "181"
      ]
     },
     "execution_count": 45,
     "metadata": {},
     "output_type": "execute_result"
    }
   ],
   "source": [
    "# How many countries have marine data?\n",
    "len(df[df['nspecies_mar']>0]) # 182"
   ]
  },
  {
   "cell_type": "code",
   "execution_count": 46,
   "id": "6d5b4198-26cd-475a-9940-131a5f253be7",
   "metadata": {},
   "outputs": [
    {
     "data": {
      "text/plain": [
       "71"
      ]
     },
     "execution_count": 46,
     "metadata": {},
     "output_type": "execute_result"
    }
   ],
   "source": [
    "# How many countries do not have marine data?\n",
    "len(df[df['nspecies_mar']==0]) # 71"
   ]
  },
  {
   "cell_type": "markdown",
   "id": "c417d992-01f6-4a5c-8eb8-42daa9d5d663",
   "metadata": {
    "tags": []
   },
   "source": [
    "---------------------------------------------------------------------------------------------------------------------------------------------\n",
    "## Process to create the challenges tab (create array with similar filters)\n",
    "### Create matrix to identify countries with shared stewardship to create the stewardship filter\n",
    "This code is more efficient than that described in the notebook \"shared_stewardship\", which was used during the first iteration of the NRC"
   ]
  },
  {
   "cell_type": "code",
   "execution_count": 47,
   "id": "8a3c0bbf-5269-45f7-9ea7-c34ab7f4d74a",
   "metadata": {},
   "outputs": [
    {
     "data": {
      "text/html": [
       "<div>\n",
       "<style scoped>\n",
       "    .dataframe tbody tr th:only-of-type {\n",
       "        vertical-align: middle;\n",
       "    }\n",
       "\n",
       "    .dataframe tbody tr th {\n",
       "        vertical-align: top;\n",
       "    }\n",
       "\n",
       "    .dataframe thead th {\n",
       "        text-align: right;\n",
       "    }\n",
       "</style>\n",
       "<table border=\"1\" class=\"dataframe\">\n",
       "  <thead>\n",
       "    <tr style=\"text-align: right;\">\n",
       "      <th></th>\n",
       "      <th>speciesgroup</th>\n",
       "      <th>species</th>\n",
       "      <th>countryname</th>\n",
       "      <th>iso_ter1</th>\n",
       "      <th>percentprotected</th>\n",
       "      <th>NSPS</th>\n",
       "      <th>stewardship</th>\n",
       "    </tr>\n",
       "  </thead>\n",
       "  <tbody>\n",
       "    <tr>\n",
       "      <th>0</th>\n",
       "      <td>marine fishes</td>\n",
       "      <td>Abalistes filamentosus</td>\n",
       "      <td>Australia</td>\n",
       "      <td>AUS</td>\n",
       "      <td>25-50%</td>\n",
       "      <td>75-100</td>\n",
       "      <td>22</td>\n",
       "    </tr>\n",
       "    <tr>\n",
       "      <th>1</th>\n",
       "      <td>marine fishes</td>\n",
       "      <td>Abalistes filamentosus</td>\n",
       "      <td>Australia</td>\n",
       "      <td>CCK</td>\n",
       "      <td>0-25%</td>\n",
       "      <td>0-25</td>\n",
       "      <td>22</td>\n",
       "    </tr>\n",
       "    <tr>\n",
       "      <th>2</th>\n",
       "      <td>marine fishes</td>\n",
       "      <td>Abalistes filamentosus</td>\n",
       "      <td>Australia</td>\n",
       "      <td>NFK</td>\n",
       "      <td>75-100%</td>\n",
       "      <td>75-100</td>\n",
       "      <td>22</td>\n",
       "    </tr>\n",
       "    <tr>\n",
       "      <th>3</th>\n",
       "      <td>marine fishes</td>\n",
       "      <td>Abalistes filamentosus</td>\n",
       "      <td>East Timor</td>\n",
       "      <td>TLS</td>\n",
       "      <td>0-25%</td>\n",
       "      <td>0-25</td>\n",
       "      <td>22</td>\n",
       "    </tr>\n",
       "    <tr>\n",
       "      <th>4</th>\n",
       "      <td>marine fishes</td>\n",
       "      <td>Abalistes filamentosus</td>\n",
       "      <td>Fiji</td>\n",
       "      <td>FJI</td>\n",
       "      <td>0-25%</td>\n",
       "      <td>50-75</td>\n",
       "      <td>22</td>\n",
       "    </tr>\n",
       "  </tbody>\n",
       "</table>\n",
       "</div>"
      ],
      "text/plain": [
       "    speciesgroup                 species countryname iso_ter1  \\\n",
       "0  marine fishes  Abalistes filamentosus   Australia      AUS   \n",
       "1  marine fishes  Abalistes filamentosus   Australia      CCK   \n",
       "2  marine fishes  Abalistes filamentosus   Australia      NFK   \n",
       "3  marine fishes  Abalistes filamentosus  East Timor      TLS   \n",
       "4  marine fishes  Abalistes filamentosus        Fiji      FJI   \n",
       "\n",
       "  percentprotected    NSPS  stewardship  \n",
       "0           25-50%  75-100           22  \n",
       "1            0-25%    0-25           22  \n",
       "2          75-100%  75-100           22  \n",
       "3            0-25%    0-25           22  \n",
       "4            0-25%   50-75           22  "
      ]
     },
     "execution_count": 47,
     "metadata": {},
     "output_type": "execute_result"
    }
   ],
   "source": [
    "mar.head()"
   ]
  },
  {
   "cell_type": "code",
   "execution_count": 48,
   "id": "f1e41c07-a1e6-4e53-9ec4-416fdbde4030",
   "metadata": {},
   "outputs": [
    {
     "data": {
      "text/html": [
       "<div>\n",
       "<style scoped>\n",
       "    .dataframe tbody tr th:only-of-type {\n",
       "        vertical-align: middle;\n",
       "    }\n",
       "\n",
       "    .dataframe tbody tr th {\n",
       "        vertical-align: top;\n",
       "    }\n",
       "\n",
       "    .dataframe thead th {\n",
       "        text-align: right;\n",
       "    }\n",
       "</style>\n",
       "<table border=\"1\" class=\"dataframe\">\n",
       "  <thead>\n",
       "    <tr style=\"text-align: right;\">\n",
       "      <th></th>\n",
       "      <th>iso_ter1</th>\n",
       "      <th>species</th>\n",
       "    </tr>\n",
       "  </thead>\n",
       "  <tbody>\n",
       "    <tr>\n",
       "      <th>0</th>\n",
       "      <td>AUS</td>\n",
       "      <td>Abalistes filamentosus</td>\n",
       "    </tr>\n",
       "    <tr>\n",
       "      <th>1</th>\n",
       "      <td>CCK</td>\n",
       "      <td>Abalistes filamentosus</td>\n",
       "    </tr>\n",
       "    <tr>\n",
       "      <th>2</th>\n",
       "      <td>NFK</td>\n",
       "      <td>Abalistes filamentosus</td>\n",
       "    </tr>\n",
       "    <tr>\n",
       "      <th>3</th>\n",
       "      <td>TLS</td>\n",
       "      <td>Abalistes filamentosus</td>\n",
       "    </tr>\n",
       "    <tr>\n",
       "      <th>4</th>\n",
       "      <td>FJI</td>\n",
       "      <td>Abalistes filamentosus</td>\n",
       "    </tr>\n",
       "  </tbody>\n",
       "</table>\n",
       "</div>"
      ],
      "text/plain": [
       "  iso_ter1                 species\n",
       "0      AUS  Abalistes filamentosus\n",
       "1      CCK  Abalistes filamentosus\n",
       "2      NFK  Abalistes filamentosus\n",
       "3      TLS  Abalistes filamentosus\n",
       "4      FJI  Abalistes filamentosus"
      ]
     },
     "execution_count": 48,
     "metadata": {},
     "output_type": "execute_result"
    }
   ],
   "source": [
    "# Create a copy with only the species name and the iso3\n",
    "mar2 = mar[['iso_ter1','species']].copy()\n",
    "mar2.head(5)"
   ]
  },
  {
   "cell_type": "code",
   "execution_count": 49,
   "id": "56bafec3-a335-46a6-b7de-ec6506d2611d",
   "metadata": {},
   "outputs": [
    {
     "name": "stdout",
     "output_type": "stream",
     "text": [
      "CPU times: user 2.76 s, sys: 810 ms, total: 3.57 s\n",
      "Wall time: 3.74 s\n"
     ]
    },
    {
     "data": {
      "text/html": [
       "<div>\n",
       "<style scoped>\n",
       "    .dataframe tbody tr th:only-of-type {\n",
       "        vertical-align: middle;\n",
       "    }\n",
       "\n",
       "    .dataframe tbody tr th {\n",
       "        vertical-align: top;\n",
       "    }\n",
       "\n",
       "    .dataframe thead th {\n",
       "        text-align: right;\n",
       "    }\n",
       "</style>\n",
       "<table border=\"1\" class=\"dataframe\">\n",
       "  <thead>\n",
       "    <tr style=\"text-align: right;\">\n",
       "      <th>iso_ter1_y</th>\n",
       "      <th>index</th>\n",
       "      <th>ABW</th>\n",
       "      <th>AIA</th>\n",
       "      <th>ALB</th>\n",
       "      <th>ARE</th>\n",
       "      <th>ARG</th>\n",
       "      <th>ASM</th>\n",
       "      <th>ATA</th>\n",
       "      <th>ATF</th>\n",
       "      <th>ATG</th>\n",
       "      <th>...</th>\n",
       "      <th>USA</th>\n",
       "      <th>VCT</th>\n",
       "      <th>VEN</th>\n",
       "      <th>VGB</th>\n",
       "      <th>VIR</th>\n",
       "      <th>VNM</th>\n",
       "      <th>VUT</th>\n",
       "      <th>WSM</th>\n",
       "      <th>YEM</th>\n",
       "      <th>ZAF</th>\n",
       "    </tr>\n",
       "  </thead>\n",
       "  <tbody>\n",
       "    <tr>\n",
       "      <th>0</th>\n",
       "      <td>ABW</td>\n",
       "      <td>1485</td>\n",
       "      <td>1327</td>\n",
       "      <td>61</td>\n",
       "      <td>133</td>\n",
       "      <td>187</td>\n",
       "      <td>257</td>\n",
       "      <td>3</td>\n",
       "      <td>329</td>\n",
       "      <td>1328</td>\n",
       "      <td>...</td>\n",
       "      <td>1435</td>\n",
       "      <td>1380</td>\n",
       "      <td>1485</td>\n",
       "      <td>1280</td>\n",
       "      <td>1329</td>\n",
       "      <td>300</td>\n",
       "      <td>325</td>\n",
       "      <td>279</td>\n",
       "      <td>116</td>\n",
       "      <td>441</td>\n",
       "    </tr>\n",
       "    <tr>\n",
       "      <th>1</th>\n",
       "      <td>AIA</td>\n",
       "      <td>1327</td>\n",
       "      <td>1519</td>\n",
       "      <td>58</td>\n",
       "      <td>118</td>\n",
       "      <td>204</td>\n",
       "      <td>300</td>\n",
       "      <td>4</td>\n",
       "      <td>339</td>\n",
       "      <td>1503</td>\n",
       "      <td>...</td>\n",
       "      <td>1462</td>\n",
       "      <td>1374</td>\n",
       "      <td>1492</td>\n",
       "      <td>1441</td>\n",
       "      <td>1498</td>\n",
       "      <td>273</td>\n",
       "      <td>352</td>\n",
       "      <td>319</td>\n",
       "      <td>111</td>\n",
       "      <td>460</td>\n",
       "    </tr>\n",
       "    <tr>\n",
       "      <th>2</th>\n",
       "      <td>ALB</td>\n",
       "      <td>61</td>\n",
       "      <td>58</td>\n",
       "      <td>347</td>\n",
       "      <td>31</td>\n",
       "      <td>38</td>\n",
       "      <td>24</td>\n",
       "      <td>0</td>\n",
       "      <td>49</td>\n",
       "      <td>58</td>\n",
       "      <td>...</td>\n",
       "      <td>78</td>\n",
       "      <td>59</td>\n",
       "      <td>61</td>\n",
       "      <td>54</td>\n",
       "      <td>57</td>\n",
       "      <td>36</td>\n",
       "      <td>28</td>\n",
       "      <td>27</td>\n",
       "      <td>23</td>\n",
       "      <td>99</td>\n",
       "    </tr>\n",
       "    <tr>\n",
       "      <th>3</th>\n",
       "      <td>ARE</td>\n",
       "      <td>133</td>\n",
       "      <td>118</td>\n",
       "      <td>31</td>\n",
       "      <td>1142</td>\n",
       "      <td>50</td>\n",
       "      <td>327</td>\n",
       "      <td>0</td>\n",
       "      <td>905</td>\n",
       "      <td>121</td>\n",
       "      <td>...</td>\n",
       "      <td>485</td>\n",
       "      <td>132</td>\n",
       "      <td>133</td>\n",
       "      <td>103</td>\n",
       "      <td>123</td>\n",
       "      <td>823</td>\n",
       "      <td>522</td>\n",
       "      <td>435</td>\n",
       "      <td>1023</td>\n",
       "      <td>816</td>\n",
       "    </tr>\n",
       "    <tr>\n",
       "      <th>4</th>\n",
       "      <td>ARG</td>\n",
       "      <td>187</td>\n",
       "      <td>204</td>\n",
       "      <td>38</td>\n",
       "      <td>50</td>\n",
       "      <td>671</td>\n",
       "      <td>136</td>\n",
       "      <td>32</td>\n",
       "      <td>308</td>\n",
       "      <td>203</td>\n",
       "      <td>...</td>\n",
       "      <td>393</td>\n",
       "      <td>217</td>\n",
       "      <td>248</td>\n",
       "      <td>182</td>\n",
       "      <td>205</td>\n",
       "      <td>93</td>\n",
       "      <td>175</td>\n",
       "      <td>162</td>\n",
       "      <td>33</td>\n",
       "      <td>386</td>\n",
       "    </tr>\n",
       "  </tbody>\n",
       "</table>\n",
       "<p>5 rows × 182 columns</p>\n",
       "</div>"
      ],
      "text/plain": [
       "iso_ter1_y index   ABW   AIA  ALB   ARE  ARG  ASM  ATA  ATF   ATG  ...   USA  \\\n",
       "0            ABW  1485  1327   61   133  187  257    3  329  1328  ...  1435   \n",
       "1            AIA  1327  1519   58   118  204  300    4  339  1503  ...  1462   \n",
       "2            ALB    61    58  347    31   38   24    0   49    58  ...    78   \n",
       "3            ARE   133   118   31  1142   50  327    0  905   121  ...   485   \n",
       "4            ARG   187   204   38    50  671  136   32  308   203  ...   393   \n",
       "\n",
       "iso_ter1_y   VCT   VEN   VGB   VIR  VNM  VUT  WSM   YEM  ZAF  \n",
       "0           1380  1485  1280  1329  300  325  279   116  441  \n",
       "1           1374  1492  1441  1498  273  352  319   111  460  \n",
       "2             59    61    54    57   36   28   27    23   99  \n",
       "3            132   133   103   123  823  522  435  1023  816  \n",
       "4            217   248   182   205   93  175  162    33  386  \n",
       "\n",
       "[5 rows x 182 columns]"
      ]
     },
     "execution_count": 49,
     "metadata": {},
     "output_type": "execute_result"
    }
   ],
   "source": [
    "%%time\n",
    "# Create a matrix that has, for each country, the number of shared species with each of the other countries\n",
    "m = mar2.merge(mar2, on='species') # perform a self-merge based on the species\n",
    "mat = pd.crosstab(m.iso_ter1_x, m.iso_ter1_y) # perform crosstabulation operation\n",
    "mat.reset_index(inplace=True)\n",
    "mat= mat.rename(columns = {'iso_ter1_x':'index'})\n",
    "mat.head(5)"
   ]
  },
  {
   "cell_type": "code",
   "execution_count": 50,
   "id": "84497ba2-b30f-46d2-942e-05c7e9b5a6cb",
   "metadata": {},
   "outputs": [
    {
     "data": {
      "text/plain": [
       "(181, 182)"
      ]
     },
     "execution_count": 50,
     "metadata": {},
     "output_type": "execute_result"
    }
   ],
   "source": [
    "mat.shape "
   ]
  },
  {
   "cell_type": "code",
   "execution_count": 51,
   "id": "13fac1a7-8fe7-4823-bc60-536f9c1712ce",
   "metadata": {},
   "outputs": [],
   "source": [
    "# Save local copy\n",
    "mat.to_csv('/Users/sofia/Documents/HE_Data/NRC/NRC_Marine/stewardship_matrix.csv',index=False)"
   ]
  },
  {
   "cell_type": "markdown",
   "id": "1c53c2ad-663c-4720-ab61-750d03833de4",
   "metadata": {
    "tags": []
   },
   "source": [
    "### Get shared stewardship countries\n",
    "Using the stewardship matrix. "
   ]
  },
  {
   "cell_type": "code",
   "execution_count": 52,
   "id": "2a92fda2-f186-4228-a0e4-9a33c39b60a6",
   "metadata": {},
   "outputs": [
    {
     "data": {
      "text/plain": [
       "array(['index', 'ABW', 'AIA', 'ALB', 'ARE', 'ARG', 'ASM', 'ATA', 'ATF',\n",
       "       'ATG', 'AUS', 'BEL', 'BES', 'BGD', 'BGR', 'BHS', 'BIH', 'BLM',\n",
       "       'BLZ', 'BMU', 'BRA', 'BRB', 'BRN', 'CAN', 'CCK', 'CHL', 'CHN',\n",
       "       'CMR', 'COD', 'COG', 'COK', 'COL', 'COM', 'CPV', 'CRI', 'CUB',\n",
       "       'CUW', 'CYM', 'CYP', 'DEU', 'DMA', 'DNK', 'DOM', 'DZA', 'ECU',\n",
       "       'EGY', 'ESH', 'ESP', 'EST', 'FIN', 'FJI', 'FLK', 'FRA', 'FRO',\n",
       "       'FSM', 'GAB', 'GBR', 'GEO', 'GGY', 'GIN', 'GLP', 'GMB', 'GNB',\n",
       "       'GNQ', 'GRC', 'GRD', 'GRL', 'GTM', 'GUF', 'GUM', 'GUY', 'HMD',\n",
       "       'HND', 'HRV', 'HTI', 'IDN', 'IND', 'IRL', 'IRN', 'IRQ', 'ISL',\n",
       "       'ISR', 'ITA', 'JAM', 'JEY', 'JOR', 'JPN', 'KEN', 'KHM', 'KIR',\n",
       "       'KNA', 'KOR', 'KWT', 'LBN', 'LBR', 'LCA', 'LKA', 'LTU', 'LVA',\n",
       "       'MAF', 'MAR', 'MCO', 'MDG', 'MDV', 'MEX', 'MHL', 'MLT', 'MMR',\n",
       "       'MNP', 'MOZ', 'MRT', 'MSR', 'MTQ', 'MUS', 'MYS', 'MYT', 'NAM',\n",
       "       'NCL', 'NFK', 'NGA', 'NIC', 'NIU', 'NLD', 'NOR', 'NZL', 'OMN',\n",
       "       'PAK', 'PAN', 'PCN', 'PER', 'PHL', 'PLW', 'PNG', 'POL', 'PRI',\n",
       "       'PRK', 'PRT', 'PYF', 'QAT', 'REU', 'ROU', 'RUS', 'SAU', 'SDN',\n",
       "       'SEN', 'SGP', 'SGS', 'SHN', 'SJM', 'SLB', 'SLE', 'SLV', 'SPM',\n",
       "       'STP', 'SUR', 'SVN', 'SWE', 'SXM', 'SYC', 'TCA', 'THA', 'TKL',\n",
       "       'TLS', 'TON', 'TTO', 'TUN', 'TUR', 'TUV', 'TWN', 'TZA', 'UKR',\n",
       "       'URY', 'USA', 'VCT', 'VEN', 'VGB', 'VIR', 'VNM', 'VUT', 'WSM',\n",
       "       'YEM', 'ZAF'], dtype=object)"
      ]
     },
     "execution_count": 52,
     "metadata": {},
     "output_type": "execute_result"
    }
   ],
   "source": [
    "mat.columns.values"
   ]
  },
  {
   "cell_type": "code",
   "execution_count": 53,
   "id": "5ffb0e45-7f04-4874-9f36-b7e600cd1cb0",
   "metadata": {},
   "outputs": [
    {
     "data": {
      "text/plain": [
       "array(['ABW', 'AIA', 'ALB', 'ARE', 'ARG', 'ASM', 'ATA', 'ATF', 'ATG',\n",
       "       'AUS', 'BEL', 'BES', 'BGD', 'BGR', 'BHS', 'BIH', 'BLM', 'BLZ',\n",
       "       'BMU', 'BRA', 'BRB', 'BRN', 'CAN', 'CCK', 'CHL', 'CHN', 'CMR',\n",
       "       'COD', 'COG', 'COK', 'COL', 'COM', 'CPV', 'CRI', 'CUB', 'CUW',\n",
       "       'CYM', 'CYP', 'DEU', 'DMA', 'DNK', 'DOM', 'DZA', 'ECU', 'EGY',\n",
       "       'ESH', 'ESP', 'EST', 'FIN', 'FJI', 'FLK', 'FRA', 'FRO', 'FSM',\n",
       "       'GAB', 'GBR', 'GEO', 'GGY', 'GIN', 'GLP', 'GMB', 'GNB', 'GNQ',\n",
       "       'GRC', 'GRD', 'GRL', 'GTM', 'GUF', 'GUM', 'GUY', 'HMD', 'HND',\n",
       "       'HRV', 'HTI', 'IDN', 'IND', 'IRL', 'IRN', 'IRQ', 'ISL', 'ISR',\n",
       "       'ITA', 'JAM', 'JEY', 'JOR', 'JPN', 'KEN', 'KHM', 'KIR', 'KNA',\n",
       "       'KOR', 'KWT', 'LBN', 'LBR', 'LCA', 'LKA', 'LTU', 'LVA', 'MAF',\n",
       "       'MAR', 'MCO', 'MDG', 'MDV', 'MEX', 'MHL', 'MLT', 'MMR', 'MNP',\n",
       "       'MOZ', 'MRT', 'MSR', 'MTQ', 'MUS', 'MYS', 'MYT', 'NAM', 'NCL',\n",
       "       'NFK', 'NGA', 'NIC', 'NIU', 'NLD', 'NOR', 'NZL', 'OMN', 'PAK',\n",
       "       'PAN', 'PCN', 'PER', 'PHL', 'PLW', 'PNG', 'POL', 'PRI', 'PRK',\n",
       "       'PRT', 'PYF', 'QAT', 'REU', 'ROU', 'RUS', 'SAU', 'SDN', 'SEN',\n",
       "       'SGP', 'SGS', 'SHN', 'SJM', 'SLB', 'SLE', 'SLV', 'SPM', 'STP',\n",
       "       'SUR', 'SVN', 'SWE', 'SXM', 'SYC', 'TCA', 'THA', 'TKL', 'TLS',\n",
       "       'TON', 'TTO', 'TUN', 'TUR', 'TUV', 'TWN', 'TZA', 'UKR', 'URY',\n",
       "       'USA', 'VCT', 'VEN', 'VGB', 'VIR', 'VNM', 'VUT', 'WSM', 'YEM',\n",
       "       'ZAF'], dtype=object)"
      ]
     },
     "execution_count": 53,
     "metadata": {},
     "output_type": "execute_result"
    }
   ],
   "source": [
    "mat.columns.values[1:183]"
   ]
  },
  {
   "cell_type": "code",
   "execution_count": 54,
   "id": "1e4ec75c-1eae-4df7-acab-09973118c5db",
   "metadata": {},
   "outputs": [
    {
     "data": {
      "text/html": [
       "<div>\n",
       "<style scoped>\n",
       "    .dataframe tbody tr th:only-of-type {\n",
       "        vertical-align: middle;\n",
       "    }\n",
       "\n",
       "    .dataframe tbody tr th {\n",
       "        vertical-align: top;\n",
       "    }\n",
       "\n",
       "    .dataframe thead th {\n",
       "        text-align: right;\n",
       "    }\n",
       "</style>\n",
       "<table border=\"1\" class=\"dataframe\">\n",
       "  <thead>\n",
       "    <tr style=\"text-align: right;\">\n",
       "      <th>iso_ter1_y</th>\n",
       "      <th>ABW</th>\n",
       "      <th>AIA</th>\n",
       "      <th>ALB</th>\n",
       "      <th>ARE</th>\n",
       "      <th>ARG</th>\n",
       "      <th>ASM</th>\n",
       "      <th>ATA</th>\n",
       "      <th>ATF</th>\n",
       "      <th>ATG</th>\n",
       "      <th>AUS</th>\n",
       "      <th>...</th>\n",
       "      <th>USA</th>\n",
       "      <th>VCT</th>\n",
       "      <th>VEN</th>\n",
       "      <th>VGB</th>\n",
       "      <th>VIR</th>\n",
       "      <th>VNM</th>\n",
       "      <th>VUT</th>\n",
       "      <th>WSM</th>\n",
       "      <th>YEM</th>\n",
       "      <th>ZAF</th>\n",
       "    </tr>\n",
       "  </thead>\n",
       "  <tbody>\n",
       "    <tr>\n",
       "      <th>0</th>\n",
       "      <td>1485</td>\n",
       "      <td>1327</td>\n",
       "      <td>61</td>\n",
       "      <td>133</td>\n",
       "      <td>187</td>\n",
       "      <td>257</td>\n",
       "      <td>3</td>\n",
       "      <td>329</td>\n",
       "      <td>1328</td>\n",
       "      <td>400</td>\n",
       "      <td>...</td>\n",
       "      <td>1435</td>\n",
       "      <td>1380</td>\n",
       "      <td>1485</td>\n",
       "      <td>1280</td>\n",
       "      <td>1329</td>\n",
       "      <td>300</td>\n",
       "      <td>325</td>\n",
       "      <td>279</td>\n",
       "      <td>116</td>\n",
       "      <td>441</td>\n",
       "    </tr>\n",
       "    <tr>\n",
       "      <th>1</th>\n",
       "      <td>1327</td>\n",
       "      <td>1519</td>\n",
       "      <td>58</td>\n",
       "      <td>118</td>\n",
       "      <td>204</td>\n",
       "      <td>300</td>\n",
       "      <td>4</td>\n",
       "      <td>339</td>\n",
       "      <td>1503</td>\n",
       "      <td>425</td>\n",
       "      <td>...</td>\n",
       "      <td>1462</td>\n",
       "      <td>1374</td>\n",
       "      <td>1492</td>\n",
       "      <td>1441</td>\n",
       "      <td>1498</td>\n",
       "      <td>273</td>\n",
       "      <td>352</td>\n",
       "      <td>319</td>\n",
       "      <td>111</td>\n",
       "      <td>460</td>\n",
       "    </tr>\n",
       "    <tr>\n",
       "      <th>2</th>\n",
       "      <td>61</td>\n",
       "      <td>58</td>\n",
       "      <td>347</td>\n",
       "      <td>31</td>\n",
       "      <td>38</td>\n",
       "      <td>24</td>\n",
       "      <td>0</td>\n",
       "      <td>49</td>\n",
       "      <td>58</td>\n",
       "      <td>48</td>\n",
       "      <td>...</td>\n",
       "      <td>78</td>\n",
       "      <td>59</td>\n",
       "      <td>61</td>\n",
       "      <td>54</td>\n",
       "      <td>57</td>\n",
       "      <td>36</td>\n",
       "      <td>28</td>\n",
       "      <td>27</td>\n",
       "      <td>23</td>\n",
       "      <td>99</td>\n",
       "    </tr>\n",
       "    <tr>\n",
       "      <th>3</th>\n",
       "      <td>133</td>\n",
       "      <td>118</td>\n",
       "      <td>31</td>\n",
       "      <td>1142</td>\n",
       "      <td>50</td>\n",
       "      <td>327</td>\n",
       "      <td>0</td>\n",
       "      <td>905</td>\n",
       "      <td>121</td>\n",
       "      <td>843</td>\n",
       "      <td>...</td>\n",
       "      <td>485</td>\n",
       "      <td>132</td>\n",
       "      <td>133</td>\n",
       "      <td>103</td>\n",
       "      <td>123</td>\n",
       "      <td>823</td>\n",
       "      <td>522</td>\n",
       "      <td>435</td>\n",
       "      <td>1023</td>\n",
       "      <td>816</td>\n",
       "    </tr>\n",
       "    <tr>\n",
       "      <th>4</th>\n",
       "      <td>187</td>\n",
       "      <td>204</td>\n",
       "      <td>38</td>\n",
       "      <td>50</td>\n",
       "      <td>671</td>\n",
       "      <td>136</td>\n",
       "      <td>32</td>\n",
       "      <td>308</td>\n",
       "      <td>203</td>\n",
       "      <td>396</td>\n",
       "      <td>...</td>\n",
       "      <td>393</td>\n",
       "      <td>217</td>\n",
       "      <td>248</td>\n",
       "      <td>182</td>\n",
       "      <td>205</td>\n",
       "      <td>93</td>\n",
       "      <td>175</td>\n",
       "      <td>162</td>\n",
       "      <td>33</td>\n",
       "      <td>386</td>\n",
       "    </tr>\n",
       "  </tbody>\n",
       "</table>\n",
       "<p>5 rows × 181 columns</p>\n",
       "</div>"
      ],
      "text/plain": [
       "iso_ter1_y   ABW   AIA  ALB   ARE  ARG  ASM  ATA  ATF   ATG  AUS  ...   USA  \\\n",
       "0           1485  1327   61   133  187  257    3  329  1328  400  ...  1435   \n",
       "1           1327  1519   58   118  204  300    4  339  1503  425  ...  1462   \n",
       "2             61    58  347    31   38   24    0   49    58   48  ...    78   \n",
       "3            133   118   31  1142   50  327    0  905   121  843  ...   485   \n",
       "4            187   204   38    50  671  136   32  308   203  396  ...   393   \n",
       "\n",
       "iso_ter1_y   VCT   VEN   VGB   VIR  VNM  VUT  WSM   YEM  ZAF  \n",
       "0           1380  1485  1280  1329  300  325  279   116  441  \n",
       "1           1374  1492  1441  1498  273  352  319   111  460  \n",
       "2             59    61    54    57   36   28   27    23   99  \n",
       "3            132   133   103   123  823  522  435  1023  816  \n",
       "4            217   248   182   205   93  175  162    33  386  \n",
       "\n",
       "[5 rows x 181 columns]"
      ]
     },
     "execution_count": 54,
     "metadata": {},
     "output_type": "execute_result"
    }
   ],
   "source": [
    "# Get only the values (skip index)\n",
    "df_mat = mat[mat.columns.values[1:183]]\n",
    "df_mat.head(5)"
   ]
  },
  {
   "cell_type": "code",
   "execution_count": 55,
   "id": "b08a1252-0d3f-420b-a0e5-39c2bd3af31c",
   "metadata": {},
   "outputs": [
    {
     "data": {
      "text/html": [
       "<div>\n",
       "<style scoped>\n",
       "    .dataframe tbody tr th:only-of-type {\n",
       "        vertical-align: middle;\n",
       "    }\n",
       "\n",
       "    .dataframe tbody tr th {\n",
       "        vertical-align: top;\n",
       "    }\n",
       "\n",
       "    .dataframe thead th {\n",
       "        text-align: right;\n",
       "    }\n",
       "</style>\n",
       "<table border=\"1\" class=\"dataframe\">\n",
       "  <thead>\n",
       "    <tr style=\"text-align: right;\">\n",
       "      <th>iso_ter1_y</th>\n",
       "      <th>ABW</th>\n",
       "      <th>AIA</th>\n",
       "      <th>ALB</th>\n",
       "      <th>ARE</th>\n",
       "      <th>ARG</th>\n",
       "      <th>ASM</th>\n",
       "      <th>ATA</th>\n",
       "      <th>ATF</th>\n",
       "      <th>ATG</th>\n",
       "      <th>AUS</th>\n",
       "      <th>...</th>\n",
       "      <th>USA</th>\n",
       "      <th>VCT</th>\n",
       "      <th>VEN</th>\n",
       "      <th>VGB</th>\n",
       "      <th>VIR</th>\n",
       "      <th>VNM</th>\n",
       "      <th>VUT</th>\n",
       "      <th>WSM</th>\n",
       "      <th>YEM</th>\n",
       "      <th>ZAF</th>\n",
       "    </tr>\n",
       "  </thead>\n",
       "  <tbody>\n",
       "    <tr>\n",
       "      <th>ABW</th>\n",
       "      <td>1485</td>\n",
       "      <td>1327</td>\n",
       "      <td>61</td>\n",
       "      <td>133</td>\n",
       "      <td>187</td>\n",
       "      <td>257</td>\n",
       "      <td>3</td>\n",
       "      <td>329</td>\n",
       "      <td>1328</td>\n",
       "      <td>400</td>\n",
       "      <td>...</td>\n",
       "      <td>1435</td>\n",
       "      <td>1380</td>\n",
       "      <td>1485</td>\n",
       "      <td>1280</td>\n",
       "      <td>1329</td>\n",
       "      <td>300</td>\n",
       "      <td>325</td>\n",
       "      <td>279</td>\n",
       "      <td>116</td>\n",
       "      <td>441</td>\n",
       "    </tr>\n",
       "    <tr>\n",
       "      <th>AIA</th>\n",
       "      <td>1327</td>\n",
       "      <td>1519</td>\n",
       "      <td>58</td>\n",
       "      <td>118</td>\n",
       "      <td>204</td>\n",
       "      <td>300</td>\n",
       "      <td>4</td>\n",
       "      <td>339</td>\n",
       "      <td>1503</td>\n",
       "      <td>425</td>\n",
       "      <td>...</td>\n",
       "      <td>1462</td>\n",
       "      <td>1374</td>\n",
       "      <td>1492</td>\n",
       "      <td>1441</td>\n",
       "      <td>1498</td>\n",
       "      <td>273</td>\n",
       "      <td>352</td>\n",
       "      <td>319</td>\n",
       "      <td>111</td>\n",
       "      <td>460</td>\n",
       "    </tr>\n",
       "    <tr>\n",
       "      <th>ALB</th>\n",
       "      <td>61</td>\n",
       "      <td>58</td>\n",
       "      <td>347</td>\n",
       "      <td>31</td>\n",
       "      <td>38</td>\n",
       "      <td>24</td>\n",
       "      <td>0</td>\n",
       "      <td>49</td>\n",
       "      <td>58</td>\n",
       "      <td>48</td>\n",
       "      <td>...</td>\n",
       "      <td>78</td>\n",
       "      <td>59</td>\n",
       "      <td>61</td>\n",
       "      <td>54</td>\n",
       "      <td>57</td>\n",
       "      <td>36</td>\n",
       "      <td>28</td>\n",
       "      <td>27</td>\n",
       "      <td>23</td>\n",
       "      <td>99</td>\n",
       "    </tr>\n",
       "    <tr>\n",
       "      <th>ARE</th>\n",
       "      <td>133</td>\n",
       "      <td>118</td>\n",
       "      <td>31</td>\n",
       "      <td>1142</td>\n",
       "      <td>50</td>\n",
       "      <td>327</td>\n",
       "      <td>0</td>\n",
       "      <td>905</td>\n",
       "      <td>121</td>\n",
       "      <td>843</td>\n",
       "      <td>...</td>\n",
       "      <td>485</td>\n",
       "      <td>132</td>\n",
       "      <td>133</td>\n",
       "      <td>103</td>\n",
       "      <td>123</td>\n",
       "      <td>823</td>\n",
       "      <td>522</td>\n",
       "      <td>435</td>\n",
       "      <td>1023</td>\n",
       "      <td>816</td>\n",
       "    </tr>\n",
       "    <tr>\n",
       "      <th>ARG</th>\n",
       "      <td>187</td>\n",
       "      <td>204</td>\n",
       "      <td>38</td>\n",
       "      <td>50</td>\n",
       "      <td>671</td>\n",
       "      <td>136</td>\n",
       "      <td>32</td>\n",
       "      <td>308</td>\n",
       "      <td>203</td>\n",
       "      <td>396</td>\n",
       "      <td>...</td>\n",
       "      <td>393</td>\n",
       "      <td>217</td>\n",
       "      <td>248</td>\n",
       "      <td>182</td>\n",
       "      <td>205</td>\n",
       "      <td>93</td>\n",
       "      <td>175</td>\n",
       "      <td>162</td>\n",
       "      <td>33</td>\n",
       "      <td>386</td>\n",
       "    </tr>\n",
       "  </tbody>\n",
       "</table>\n",
       "<p>5 rows × 181 columns</p>\n",
       "</div>"
      ],
      "text/plain": [
       "iso_ter1_y   ABW   AIA  ALB   ARE  ARG  ASM  ATA  ATF   ATG  AUS  ...   USA  \\\n",
       "ABW         1485  1327   61   133  187  257    3  329  1328  400  ...  1435   \n",
       "AIA         1327  1519   58   118  204  300    4  339  1503  425  ...  1462   \n",
       "ALB           61    58  347    31   38   24    0   49    58   48  ...    78   \n",
       "ARE          133   118   31  1142   50  327    0  905   121  843  ...   485   \n",
       "ARG          187   204   38    50  671  136   32  308   203  396  ...   393   \n",
       "\n",
       "iso_ter1_y   VCT   VEN   VGB   VIR  VNM  VUT  WSM   YEM  ZAF  \n",
       "ABW         1380  1485  1280  1329  300  325  279   116  441  \n",
       "AIA         1374  1492  1441  1498  273  352  319   111  460  \n",
       "ALB           59    61    54    57   36   28   27    23   99  \n",
       "ARE          132   133   103   123  823  522  435  1023  816  \n",
       "ARG          217   248   182   205   93  175  162    33  386  \n",
       "\n",
       "[5 rows x 181 columns]"
      ]
     },
     "execution_count": 55,
     "metadata": {},
     "output_type": "execute_result"
    }
   ],
   "source": [
    "# set index using countries\n",
    "df_mat = df_mat.set_index(mat['index'].values) \n",
    "df_mat.head(5)"
   ]
  },
  {
   "cell_type": "code",
   "execution_count": 56,
   "id": "311fb74b-67db-4058-93aa-53ccdafb8fb7",
   "metadata": {},
   "outputs": [
    {
     "data": {
      "text/html": [
       "<div>\n",
       "<style scoped>\n",
       "    .dataframe tbody tr th:only-of-type {\n",
       "        vertical-align: middle;\n",
       "    }\n",
       "\n",
       "    .dataframe tbody tr th {\n",
       "        vertical-align: top;\n",
       "    }\n",
       "\n",
       "    .dataframe thead th {\n",
       "        text-align: right;\n",
       "    }\n",
       "</style>\n",
       "<table border=\"1\" class=\"dataframe\">\n",
       "  <thead>\n",
       "    <tr style=\"text-align: right;\">\n",
       "      <th></th>\n",
       "      <th>ABW</th>\n",
       "      <th>AIA</th>\n",
       "      <th>ALB</th>\n",
       "      <th>ARE</th>\n",
       "      <th>ARG</th>\n",
       "      <th>ASM</th>\n",
       "      <th>ATA</th>\n",
       "      <th>ATF</th>\n",
       "      <th>ATG</th>\n",
       "      <th>AUS</th>\n",
       "      <th>...</th>\n",
       "      <th>USA</th>\n",
       "      <th>VCT</th>\n",
       "      <th>VEN</th>\n",
       "      <th>VGB</th>\n",
       "      <th>VIR</th>\n",
       "      <th>VNM</th>\n",
       "      <th>VUT</th>\n",
       "      <th>WSM</th>\n",
       "      <th>YEM</th>\n",
       "      <th>ZAF</th>\n",
       "    </tr>\n",
       "  </thead>\n",
       "  <tbody>\n",
       "    <tr>\n",
       "      <th>ABW</th>\n",
       "      <td>1485</td>\n",
       "      <td>1327</td>\n",
       "      <td>61</td>\n",
       "      <td>133</td>\n",
       "      <td>187</td>\n",
       "      <td>257</td>\n",
       "      <td>3</td>\n",
       "      <td>329</td>\n",
       "      <td>1328</td>\n",
       "      <td>400</td>\n",
       "      <td>...</td>\n",
       "      <td>1435</td>\n",
       "      <td>1380</td>\n",
       "      <td>1485</td>\n",
       "      <td>1280</td>\n",
       "      <td>1329</td>\n",
       "      <td>300</td>\n",
       "      <td>325</td>\n",
       "      <td>279</td>\n",
       "      <td>116</td>\n",
       "      <td>441</td>\n",
       "    </tr>\n",
       "    <tr>\n",
       "      <th>AIA</th>\n",
       "      <td>1327</td>\n",
       "      <td>1519</td>\n",
       "      <td>58</td>\n",
       "      <td>118</td>\n",
       "      <td>204</td>\n",
       "      <td>300</td>\n",
       "      <td>4</td>\n",
       "      <td>339</td>\n",
       "      <td>1503</td>\n",
       "      <td>425</td>\n",
       "      <td>...</td>\n",
       "      <td>1462</td>\n",
       "      <td>1374</td>\n",
       "      <td>1492</td>\n",
       "      <td>1441</td>\n",
       "      <td>1498</td>\n",
       "      <td>273</td>\n",
       "      <td>352</td>\n",
       "      <td>319</td>\n",
       "      <td>111</td>\n",
       "      <td>460</td>\n",
       "    </tr>\n",
       "    <tr>\n",
       "      <th>ALB</th>\n",
       "      <td>61</td>\n",
       "      <td>58</td>\n",
       "      <td>347</td>\n",
       "      <td>31</td>\n",
       "      <td>38</td>\n",
       "      <td>24</td>\n",
       "      <td>0</td>\n",
       "      <td>49</td>\n",
       "      <td>58</td>\n",
       "      <td>48</td>\n",
       "      <td>...</td>\n",
       "      <td>78</td>\n",
       "      <td>59</td>\n",
       "      <td>61</td>\n",
       "      <td>54</td>\n",
       "      <td>57</td>\n",
       "      <td>36</td>\n",
       "      <td>28</td>\n",
       "      <td>27</td>\n",
       "      <td>23</td>\n",
       "      <td>99</td>\n",
       "    </tr>\n",
       "    <tr>\n",
       "      <th>ARE</th>\n",
       "      <td>133</td>\n",
       "      <td>118</td>\n",
       "      <td>31</td>\n",
       "      <td>1142</td>\n",
       "      <td>50</td>\n",
       "      <td>327</td>\n",
       "      <td>0</td>\n",
       "      <td>905</td>\n",
       "      <td>121</td>\n",
       "      <td>843</td>\n",
       "      <td>...</td>\n",
       "      <td>485</td>\n",
       "      <td>132</td>\n",
       "      <td>133</td>\n",
       "      <td>103</td>\n",
       "      <td>123</td>\n",
       "      <td>823</td>\n",
       "      <td>522</td>\n",
       "      <td>435</td>\n",
       "      <td>1023</td>\n",
       "      <td>816</td>\n",
       "    </tr>\n",
       "    <tr>\n",
       "      <th>ARG</th>\n",
       "      <td>187</td>\n",
       "      <td>204</td>\n",
       "      <td>38</td>\n",
       "      <td>50</td>\n",
       "      <td>671</td>\n",
       "      <td>136</td>\n",
       "      <td>32</td>\n",
       "      <td>308</td>\n",
       "      <td>203</td>\n",
       "      <td>396</td>\n",
       "      <td>...</td>\n",
       "      <td>393</td>\n",
       "      <td>217</td>\n",
       "      <td>248</td>\n",
       "      <td>182</td>\n",
       "      <td>205</td>\n",
       "      <td>93</td>\n",
       "      <td>175</td>\n",
       "      <td>162</td>\n",
       "      <td>33</td>\n",
       "      <td>386</td>\n",
       "    </tr>\n",
       "  </tbody>\n",
       "</table>\n",
       "<p>5 rows × 181 columns</p>\n",
       "</div>"
      ],
      "text/plain": [
       "      ABW   AIA  ALB   ARE  ARG  ASM  ATA  ATF   ATG  AUS  ...   USA   VCT  \\\n",
       "ABW  1485  1327   61   133  187  257    3  329  1328  400  ...  1435  1380   \n",
       "AIA  1327  1519   58   118  204  300    4  339  1503  425  ...  1462  1374   \n",
       "ALB    61    58  347    31   38   24    0   49    58   48  ...    78    59   \n",
       "ARE   133   118   31  1142   50  327    0  905   121  843  ...   485   132   \n",
       "ARG   187   204   38    50  671  136   32  308   203  396  ...   393   217   \n",
       "\n",
       "      VEN   VGB   VIR  VNM  VUT  WSM   YEM  ZAF  \n",
       "ABW  1485  1280  1329  300  325  279   116  441  \n",
       "AIA  1492  1441  1498  273  352  319   111  460  \n",
       "ALB    61    54    57   36   28   27    23   99  \n",
       "ARE   133   103   123  823  522  435  1023  816  \n",
       "ARG   248   182   205   93  175  162    33  386  \n",
       "\n",
       "[5 rows x 181 columns]"
      ]
     },
     "execution_count": 56,
     "metadata": {},
     "output_type": "execute_result"
    }
   ],
   "source": [
    "df_mat.columns = mat['index'].values\n",
    "df_mat.head(5)"
   ]
  },
  {
   "cell_type": "code",
   "execution_count": 57,
   "id": "2af18cd0-63c2-4690-86c2-b8f17b750033",
   "metadata": {},
   "outputs": [
    {
     "data": {
      "text/plain": [
       "(181, 181)"
      ]
     },
     "execution_count": 57,
     "metadata": {},
     "output_type": "execute_result"
    }
   ],
   "source": [
    "# Now it has the same shape\n",
    "df_mat.shape"
   ]
  },
  {
   "cell_type": "code",
   "execution_count": 58,
   "id": "8e82e3b3-839f-46ed-a37c-d0bf59f7226f",
   "metadata": {},
   "outputs": [],
   "source": [
    "# Create stewardship dictionary: for each country identify the 10 countries that share more species with it\n",
    "df_sort = df_mat.copy()\n",
    "steward_dict = dict.fromkeys(df_sort.columns.values)\n",
    "for key in steward_dict:\n",
    "    df_sort = df_sort.sort_values(by = [key], ascending=False)\n",
    "    sub = df_sort[key][1:11] # to skip the same country\n",
    "    vals = sub.index.values.tolist()\n",
    "    vals.append(key)\n",
    "    \n",
    "    steward_dict[key] = json.dumps(vals)"
   ]
  },
  {
   "cell_type": "code",
   "execution_count": 59,
   "id": "af684a3b-f1ad-4631-85bc-f4794091bb70",
   "metadata": {
    "tags": []
   },
   "outputs": [
    {
     "data": {
      "text/html": [
       "<div>\n",
       "<style scoped>\n",
       "    .dataframe tbody tr th:only-of-type {\n",
       "        vertical-align: middle;\n",
       "    }\n",
       "\n",
       "    .dataframe tbody tr th {\n",
       "        vertical-align: top;\n",
       "    }\n",
       "\n",
       "    .dataframe thead th {\n",
       "        text-align: right;\n",
       "    }\n",
       "</style>\n",
       "<table border=\"1\" class=\"dataframe\">\n",
       "  <thead>\n",
       "    <tr style=\"text-align: right;\">\n",
       "      <th></th>\n",
       "      <th>GID_0</th>\n",
       "      <th>filter_steward</th>\n",
       "    </tr>\n",
       "  </thead>\n",
       "  <tbody>\n",
       "    <tr>\n",
       "      <th>0</th>\n",
       "      <td>ABW</td>\n",
       "      <td>[\"VEN\", \"COL\", \"CUW\", \"DOM\", \"BES\", \"USA\", \"BH...</td>\n",
       "    </tr>\n",
       "    <tr>\n",
       "      <th>1</th>\n",
       "      <td>AIA</td>\n",
       "      <td>[\"DOM\", \"BLM\", \"GLP\", \"PRI\", \"ATG\", \"BES\", \"MA...</td>\n",
       "    </tr>\n",
       "    <tr>\n",
       "      <th>2</th>\n",
       "      <td>ALB</td>\n",
       "      <td>[\"GRC\", \"ITA\", \"ESP\", \"HRV\", \"DZA\", \"FRA\", \"TU...</td>\n",
       "    </tr>\n",
       "    <tr>\n",
       "      <th>3</th>\n",
       "      <td>ARE</td>\n",
       "      <td>[\"IRN\", \"SAU\", \"OMN\", \"PAK\", \"SYC\", \"YEM\", \"MD...</td>\n",
       "    </tr>\n",
       "    <tr>\n",
       "      <th>4</th>\n",
       "      <td>ARG</td>\n",
       "      <td>[\"CHL\", \"BRA\", \"NZL\", \"AUS\", \"USA\", \"ZAF\", \"NF...</td>\n",
       "    </tr>\n",
       "  </tbody>\n",
       "</table>\n",
       "</div>"
      ],
      "text/plain": [
       "  GID_0                                     filter_steward\n",
       "0   ABW  [\"VEN\", \"COL\", \"CUW\", \"DOM\", \"BES\", \"USA\", \"BH...\n",
       "1   AIA  [\"DOM\", \"BLM\", \"GLP\", \"PRI\", \"ATG\", \"BES\", \"MA...\n",
       "2   ALB  [\"GRC\", \"ITA\", \"ESP\", \"HRV\", \"DZA\", \"FRA\", \"TU...\n",
       "3   ARE  [\"IRN\", \"SAU\", \"OMN\", \"PAK\", \"SYC\", \"YEM\", \"MD...\n",
       "4   ARG  [\"CHL\", \"BRA\", \"NZL\", \"AUS\", \"USA\", \"ZAF\", \"NF..."
      ]
     },
     "execution_count": 59,
     "metadata": {},
     "output_type": "execute_result"
    }
   ],
   "source": [
    "# Convert stewardship dictionary into dataframe\n",
    "steward_df = pd.DataFrame(steward_dict.items(), columns = [\"GID_0\",\"filter_steward\"])\n",
    "steward_df.head(5)"
   ]
  },
  {
   "cell_type": "code",
   "execution_count": 60,
   "id": "13b42634-0516-4a35-b887-f0012c4dd010",
   "metadata": {},
   "outputs": [
    {
     "data": {
      "text/plain": [
       "(181, 2)"
      ]
     },
     "execution_count": 60,
     "metadata": {},
     "output_type": "execute_result"
    }
   ],
   "source": [
    "steward_df.shape"
   ]
  },
  {
   "cell_type": "markdown",
   "id": "8bb3988a-5dae-48c6-b73a-4bcaf3359875",
   "metadata": {
    "tags": []
   },
   "source": [
    "### Get nearest EEZ\n",
    "Similar to what was done in the Terrestrial_NRC notebook for the countries' centroids: the idea here is to find, for each of the displayed EEZ, the closest ones using the distance between their centroids. \n",
    "\n",
    "Note that the original EEZ layer often has several EEZ associated with the same GID_0 (being GID_0 the iso_ter1 or, when this is missing, the iso_sov1). This leads to problems when trying to match the EEZ and the country polygons currently displayed in the NRC. For this reason, using ArcGIS Pro, we first dissolved the EEZ layer according to the GID_0 field, so that all polygons with same GID_0 code were considered as 1. Then, the centroids were calculated using the \"Feature to Point tool\". The centroids were not forced to fall within the feature since most are made of several polygons and forcing the centroid to fall just in one of them can lead to weird situation such as the centroid of the Spanish EEZ falling in the Canary Islands. For this reason, the \"inside\" option of the tool was disabled and the resulting centroids are located at the center of all the polygons conforming each of those EEZ, even if thar means that they fall, somethimes, outside the corresponding EEZ (in the ocean or even in a different EEZ)"
   ]
  },
  {
   "cell_type": "code",
   "execution_count": 61,
   "id": "a83787f9-ce98-4246-aac3-ae35625ae549",
   "metadata": {
    "tags": []
   },
   "outputs": [],
   "source": [
    "from math import radians\n",
    "import pandas as pd\n",
    "import numpy as np\n",
    "from sklearn.metrics import DistanceMetric"
   ]
  },
  {
   "cell_type": "code",
   "execution_count": 62,
   "id": "d6045a59-9f55-4fcb-a5c6-d8280652060e",
   "metadata": {},
   "outputs": [
    {
     "data": {
      "text/html": [
       "<div>\n",
       "<style scoped>\n",
       "    .dataframe tbody tr th:only-of-type {\n",
       "        vertical-align: middle;\n",
       "    }\n",
       "\n",
       "    .dataframe tbody tr th {\n",
       "        vertical-align: top;\n",
       "    }\n",
       "\n",
       "    .dataframe thead th {\n",
       "        text-align: right;\n",
       "    }\n",
       "</style>\n",
       "<table border=\"1\" class=\"dataframe\">\n",
       "  <thead>\n",
       "    <tr style=\"text-align: right;\">\n",
       "      <th></th>\n",
       "      <th>OID_</th>\n",
       "      <th>GID_0</th>\n",
       "      <th>AREA_KM2</th>\n",
       "      <th>ORIG_FID</th>\n",
       "      <th>Latitude</th>\n",
       "      <th>Longitude</th>\n",
       "    </tr>\n",
       "  </thead>\n",
       "  <tbody>\n",
       "    <tr>\n",
       "      <th>0</th>\n",
       "      <td>1</td>\n",
       "      <td>ABW</td>\n",
       "      <td>2.997030e+04</td>\n",
       "      <td>1</td>\n",
       "      <td>13.741380</td>\n",
       "      <td>-69.673412</td>\n",
       "    </tr>\n",
       "    <tr>\n",
       "      <th>2</th>\n",
       "      <td>3</td>\n",
       "      <td>AIA</td>\n",
       "      <td>9.015796e+04</td>\n",
       "      <td>3</td>\n",
       "      <td>20.018030</td>\n",
       "      <td>-62.543285</td>\n",
       "    </tr>\n",
       "    <tr>\n",
       "      <th>3</th>\n",
       "      <td>4</td>\n",
       "      <td>ALB</td>\n",
       "      <td>1.216555e+04</td>\n",
       "      <td>4</td>\n",
       "      <td>40.927084</td>\n",
       "      <td>19.113001</td>\n",
       "    </tr>\n",
       "    <tr>\n",
       "      <th>4</th>\n",
       "      <td>5</td>\n",
       "      <td>ARE</td>\n",
       "      <td>5.783815e+04</td>\n",
       "      <td>5</td>\n",
       "      <td>25.058911</td>\n",
       "      <td>54.030580</td>\n",
       "    </tr>\n",
       "    <tr>\n",
       "      <th>5</th>\n",
       "      <td>6</td>\n",
       "      <td>ARG</td>\n",
       "      <td>1.072577e+06</td>\n",
       "      <td>6</td>\n",
       "      <td>-47.089988</td>\n",
       "      <td>-62.159504</td>\n",
       "    </tr>\n",
       "  </tbody>\n",
       "</table>\n",
       "</div>"
      ],
      "text/plain": [
       "   OID_ GID_0      AREA_KM2  ORIG_FID   Latitude  Longitude\n",
       "0     1   ABW  2.997030e+04         1  13.741380 -69.673412\n",
       "2     3   AIA  9.015796e+04         3  20.018030 -62.543285\n",
       "3     4   ALB  1.216555e+04         4  40.927084  19.113001\n",
       "4     5   ARE  5.783815e+04         5  25.058911  54.030580\n",
       "5     6   ARG  1.072577e+06         6 -47.089988 -62.159504"
      ]
     },
     "execution_count": 62,
     "metadata": {},
     "output_type": "execute_result"
    }
   ],
   "source": [
    "eez2.head()"
   ]
  },
  {
   "cell_type": "code",
   "execution_count": 63,
   "id": "939b04ce-c93c-45d4-906a-3fba02b111d9",
   "metadata": {},
   "outputs": [
    {
     "data": {
      "text/plain": [
       "181"
      ]
     },
     "execution_count": 63,
     "metadata": {},
     "output_type": "execute_result"
    }
   ],
   "source": [
    "len(eez2)"
   ]
  },
  {
   "cell_type": "code",
   "execution_count": 64,
   "id": "4fbeac23-1c05-4303-916e-ab3befd62b88",
   "metadata": {},
   "outputs": [],
   "source": [
    "eez2= eez2.drop(columns={'OID_','ORIG_FID'}).rename(columns={'AREA_KM2':'Area_EEZ'})"
   ]
  },
  {
   "cell_type": "code",
   "execution_count": 66,
   "id": "c47cd970-e3ec-46d3-8977-4862e1445ad3",
   "metadata": {},
   "outputs": [
    {
     "data": {
      "text/plain": [
       "181"
      ]
     },
     "execution_count": 66,
     "metadata": {},
     "output_type": "execute_result"
    }
   ],
   "source": [
    "df_coord = pd.DataFrame(data = eez2['GID_0'])\n",
    "len(df_coord)"
   ]
  },
  {
   "cell_type": "code",
   "execution_count": 67,
   "id": "d528e49f-fbb4-462d-aa45-7c41aae7d483",
   "metadata": {},
   "outputs": [
    {
     "data": {
      "text/html": [
       "<div>\n",
       "<style scoped>\n",
       "    .dataframe tbody tr th:only-of-type {\n",
       "        vertical-align: middle;\n",
       "    }\n",
       "\n",
       "    .dataframe tbody tr th {\n",
       "        vertical-align: top;\n",
       "    }\n",
       "\n",
       "    .dataframe thead th {\n",
       "        text-align: right;\n",
       "    }\n",
       "</style>\n",
       "<table border=\"1\" class=\"dataframe\">\n",
       "  <thead>\n",
       "    <tr style=\"text-align: right;\">\n",
       "      <th></th>\n",
       "      <th>GID_0</th>\n",
       "    </tr>\n",
       "  </thead>\n",
       "  <tbody>\n",
       "    <tr>\n",
       "      <th>0</th>\n",
       "      <td>ABW</td>\n",
       "    </tr>\n",
       "    <tr>\n",
       "      <th>2</th>\n",
       "      <td>AIA</td>\n",
       "    </tr>\n",
       "    <tr>\n",
       "      <th>3</th>\n",
       "      <td>ALB</td>\n",
       "    </tr>\n",
       "    <tr>\n",
       "      <th>4</th>\n",
       "      <td>ARE</td>\n",
       "    </tr>\n",
       "    <tr>\n",
       "      <th>5</th>\n",
       "      <td>ARG</td>\n",
       "    </tr>\n",
       "  </tbody>\n",
       "</table>\n",
       "</div>"
      ],
      "text/plain": [
       "  GID_0\n",
       "0   ABW\n",
       "2   AIA\n",
       "3   ALB\n",
       "4   ARE\n",
       "5   ARG"
      ]
     },
     "execution_count": 67,
     "metadata": {},
     "output_type": "execute_result"
    }
   ],
   "source": [
    "df_coord.head()"
   ]
  },
  {
   "cell_type": "code",
   "execution_count": 68,
   "id": "cfaffe49-b3fc-4f14-8ae6-24e060a3c3f3",
   "metadata": {},
   "outputs": [
    {
     "data": {
      "text/plain": [
       "252"
      ]
     },
     "execution_count": 68,
     "metadata": {},
     "output_type": "execute_result"
    }
   ],
   "source": [
    "len(df['GID_0'].values)"
   ]
  },
  {
   "cell_type": "code",
   "execution_count": 70,
   "id": "d86a98c4-21cc-424a-9f89-0ebfa5a53255",
   "metadata": {},
   "outputs": [
    {
     "data": {
      "text/html": [
       "<div>\n",
       "<style scoped>\n",
       "    .dataframe tbody tr th:only-of-type {\n",
       "        vertical-align: middle;\n",
       "    }\n",
       "\n",
       "    .dataframe tbody tr th {\n",
       "        vertical-align: top;\n",
       "    }\n",
       "\n",
       "    .dataframe thead th {\n",
       "        text-align: right;\n",
       "    }\n",
       "</style>\n",
       "<table border=\"1\" class=\"dataframe\">\n",
       "  <thead>\n",
       "    <tr style=\"text-align: right;\">\n",
       "      <th></th>\n",
       "      <th>GID_0</th>\n",
       "      <th>x</th>\n",
       "      <th>y</th>\n",
       "    </tr>\n",
       "  </thead>\n",
       "  <tbody>\n",
       "    <tr>\n",
       "      <th>0</th>\n",
       "      <td>ABW</td>\n",
       "      <td>-69.673412</td>\n",
       "      <td>13.741380</td>\n",
       "    </tr>\n",
       "    <tr>\n",
       "      <th>2</th>\n",
       "      <td>AIA</td>\n",
       "      <td>-62.543285</td>\n",
       "      <td>20.018030</td>\n",
       "    </tr>\n",
       "    <tr>\n",
       "      <th>3</th>\n",
       "      <td>ALB</td>\n",
       "      <td>19.113001</td>\n",
       "      <td>40.927084</td>\n",
       "    </tr>\n",
       "    <tr>\n",
       "      <th>4</th>\n",
       "      <td>ARE</td>\n",
       "      <td>54.030580</td>\n",
       "      <td>25.058911</td>\n",
       "    </tr>\n",
       "    <tr>\n",
       "      <th>5</th>\n",
       "      <td>ARG</td>\n",
       "      <td>-62.159504</td>\n",
       "      <td>-47.089988</td>\n",
       "    </tr>\n",
       "  </tbody>\n",
       "</table>\n",
       "</div>"
      ],
      "text/plain": [
       "  GID_0          x          y\n",
       "0   ABW -69.673412  13.741380\n",
       "2   AIA -62.543285  20.018030\n",
       "3   ALB  19.113001  40.927084\n",
       "4   ARE  54.030580  25.058911\n",
       "5   ARG -62.159504 -47.089988"
      ]
     },
     "execution_count": 70,
     "metadata": {},
     "output_type": "execute_result"
    }
   ],
   "source": [
    "# Get the coordinates of each EEZ centroid\n",
    "y_list = []\n",
    "x_list = []\n",
    "for index, i in eez2.iterrows():\n",
    "    y_list.append(i['Latitude'])\n",
    "    x_list.append(i['Longitude'])\n",
    "    \n",
    "df_coord['x'] = x_list\n",
    "df_coord['y'] = y_list\n",
    "df_coord.head(5)"
   ]
  },
  {
   "cell_type": "code",
   "execution_count": 71,
   "id": "9b5acff3-d1bf-4bcd-8225-088a3bb5a97d",
   "metadata": {},
   "outputs": [
    {
     "data": {
      "text/html": [
       "<div>\n",
       "<style scoped>\n",
       "    .dataframe tbody tr th:only-of-type {\n",
       "        vertical-align: middle;\n",
       "    }\n",
       "\n",
       "    .dataframe tbody tr th {\n",
       "        vertical-align: top;\n",
       "    }\n",
       "\n",
       "    .dataframe thead th {\n",
       "        text-align: right;\n",
       "    }\n",
       "</style>\n",
       "<table border=\"1\" class=\"dataframe\">\n",
       "  <thead>\n",
       "    <tr style=\"text-align: right;\">\n",
       "      <th></th>\n",
       "      <th>GID_0</th>\n",
       "      <th>x</th>\n",
       "      <th>y</th>\n",
       "      <th>lat</th>\n",
       "      <th>lon</th>\n",
       "    </tr>\n",
       "  </thead>\n",
       "  <tbody>\n",
       "    <tr>\n",
       "      <th>0</th>\n",
       "      <td>ABW</td>\n",
       "      <td>-69.673412</td>\n",
       "      <td>13.741380</td>\n",
       "      <td>0.239832</td>\n",
       "      <td>-1.216030</td>\n",
       "    </tr>\n",
       "    <tr>\n",
       "      <th>2</th>\n",
       "      <td>AIA</td>\n",
       "      <td>-62.543285</td>\n",
       "      <td>20.018030</td>\n",
       "      <td>0.349381</td>\n",
       "      <td>-1.091586</td>\n",
       "    </tr>\n",
       "    <tr>\n",
       "      <th>3</th>\n",
       "      <td>ALB</td>\n",
       "      <td>19.113001</td>\n",
       "      <td>40.927084</td>\n",
       "      <td>0.714312</td>\n",
       "      <td>0.333585</td>\n",
       "    </tr>\n",
       "    <tr>\n",
       "      <th>4</th>\n",
       "      <td>ARE</td>\n",
       "      <td>54.030580</td>\n",
       "      <td>25.058911</td>\n",
       "      <td>0.437361</td>\n",
       "      <td>0.943012</td>\n",
       "    </tr>\n",
       "    <tr>\n",
       "      <th>5</th>\n",
       "      <td>ARG</td>\n",
       "      <td>-62.159504</td>\n",
       "      <td>-47.089988</td>\n",
       "      <td>-0.821875</td>\n",
       "      <td>-1.084888</td>\n",
       "    </tr>\n",
       "  </tbody>\n",
       "</table>\n",
       "</div>"
      ],
      "text/plain": [
       "  GID_0          x          y       lat       lon\n",
       "0   ABW -69.673412  13.741380  0.239832 -1.216030\n",
       "2   AIA -62.543285  20.018030  0.349381 -1.091586\n",
       "3   ALB  19.113001  40.927084  0.714312  0.333585\n",
       "4   ARE  54.030580  25.058911  0.437361  0.943012\n",
       "5   ARG -62.159504 -47.089988 -0.821875 -1.084888"
      ]
     },
     "execution_count": 71,
     "metadata": {},
     "output_type": "execute_result"
    }
   ],
   "source": [
    "# Convert the coordinates to radians\n",
    "df_coord['lat'] = np.radians(df_coord['y'])\n",
    "df_coord['lon'] = np.radians(df_coord['x'])\n",
    "df_coord.head(5)"
   ]
  },
  {
   "cell_type": "code",
   "execution_count": 72,
   "id": "410c6f9f-13d1-42cb-b4df-b1690beb6cdd",
   "metadata": {},
   "outputs": [
    {
     "data": {
      "text/html": [
       "<div>\n",
       "<style scoped>\n",
       "    .dataframe tbody tr th:only-of-type {\n",
       "        vertical-align: middle;\n",
       "    }\n",
       "\n",
       "    .dataframe tbody tr th {\n",
       "        vertical-align: top;\n",
       "    }\n",
       "\n",
       "    .dataframe thead th {\n",
       "        text-align: right;\n",
       "    }\n",
       "</style>\n",
       "<table border=\"1\" class=\"dataframe\">\n",
       "  <thead>\n",
       "    <tr style=\"text-align: right;\">\n",
       "      <th></th>\n",
       "      <th>ABW</th>\n",
       "      <th>AIA</th>\n",
       "      <th>ALB</th>\n",
       "      <th>ARE</th>\n",
       "      <th>ARG</th>\n",
       "      <th>ASM</th>\n",
       "      <th>ATA</th>\n",
       "      <th>ATF</th>\n",
       "      <th>ATG</th>\n",
       "      <th>AUS</th>\n",
       "      <th>...</th>\n",
       "      <th>USA</th>\n",
       "      <th>VCT</th>\n",
       "      <th>VEN</th>\n",
       "      <th>VGB</th>\n",
       "      <th>VIR</th>\n",
       "      <th>VNM</th>\n",
       "      <th>VUT</th>\n",
       "      <th>WSM</th>\n",
       "      <th>YEM</th>\n",
       "      <th>ZAF</th>\n",
       "    </tr>\n",
       "  </thead>\n",
       "  <tbody>\n",
       "    <tr>\n",
       "      <th>ABW</th>\n",
       "      <td>0.000000</td>\n",
       "      <td>1030.808723</td>\n",
       "      <td>8914.511641</td>\n",
       "      <td>12547.816812</td>\n",
       "      <td>6807.636739</td>\n",
       "      <td>11363.979416</td>\n",
       "      <td>10402.096103</td>\n",
       "      <td>14419.463293</td>\n",
       "      <td>1119.079832</td>\n",
       "      <td>16480.608889</td>\n",
       "      <td>...</td>\n",
       "      <td>5516.075937</td>\n",
       "      <td>865.554410</td>\n",
       "      <td>419.428711</td>\n",
       "      <td>921.115430</td>\n",
       "      <td>641.667561</td>\n",
       "      <td>17196.124674</td>\n",
       "      <td>13781.883918</td>\n",
       "      <td>11743.613019</td>\n",
       "      <td>12950.292114</td>\n",
       "      <td>11709.958023</td>\n",
       "    </tr>\n",
       "    <tr>\n",
       "      <th>AIA</th>\n",
       "      <td>1030.808723</td>\n",
       "      <td>0.000000</td>\n",
       "      <td>7885.881036</td>\n",
       "      <td>11527.545191</td>\n",
       "      <td>7464.512951</td>\n",
       "      <td>12230.890200</td>\n",
       "      <td>10872.544121</td>\n",
       "      <td>14304.121273</td>\n",
       "      <td>251.553043</td>\n",
       "      <td>17497.492407</td>\n",
       "      <td>...</td>\n",
       "      <td>5649.937921</td>\n",
       "      <td>768.373044</td>\n",
       "      <td>880.534088</td>\n",
       "      <td>208.905758</td>\n",
       "      <td>396.759468</td>\n",
       "      <td>16376.658731</td>\n",
       "      <td>14630.528192</td>\n",
       "      <td>12595.968453</td>\n",
       "      <td>11985.848882</td>\n",
       "      <td>11508.891880</td>\n",
       "    </tr>\n",
       "    <tr>\n",
       "      <th>ALB</th>\n",
       "      <td>8914.511641</td>\n",
       "      <td>7885.881036</td>\n",
       "      <td>0.000000</td>\n",
       "      <td>3670.470318</td>\n",
       "      <td>12645.491889</td>\n",
       "      <td>16907.327294</td>\n",
       "      <td>12690.409407</td>\n",
       "      <td>10176.126307</td>\n",
       "      <td>7809.772415</td>\n",
       "      <td>14634.491854</td>\n",
       "      <td>...</td>\n",
       "      <td>9906.514331</td>\n",
       "      <td>8290.467684</td>\n",
       "      <td>8669.939067</td>\n",
       "      <td>8022.311156</td>\n",
       "      <td>8273.171738</td>\n",
       "      <td>9138.476890</td>\n",
       "      <td>16035.353774</td>\n",
       "      <td>16738.656936</td>\n",
       "      <td>4467.695397</td>\n",
       "      <td>8856.152641</td>\n",
       "    </tr>\n",
       "    <tr>\n",
       "      <th>ARE</th>\n",
       "      <td>12547.816812</td>\n",
       "      <td>11527.545191</td>\n",
       "      <td>3670.470318</td>\n",
       "      <td>0.000000</td>\n",
       "      <td>13972.846658</td>\n",
       "      <td>15354.787082</td>\n",
       "      <td>11798.337743</td>\n",
       "      <td>7500.825686</td>\n",
       "      <td>11431.579298</td>\n",
       "      <td>11014.248601</td>\n",
       "      <td>...</td>\n",
       "      <td>12616.292443</td>\n",
       "      <td>11862.212594</td>\n",
       "      <td>12270.933759</td>\n",
       "      <td>11674.109276</td>\n",
       "      <td>11906.979081</td>\n",
       "      <td>5928.339267</td>\n",
       "      <td>13212.308320</td>\n",
       "      <td>14961.932367</td>\n",
       "      <td>1369.323080</td>\n",
       "      <td>7497.564528</td>\n",
       "    </tr>\n",
       "    <tr>\n",
       "      <th>ARG</th>\n",
       "      <td>6807.636739</td>\n",
       "      <td>7464.512951</td>\n",
       "      <td>12645.491889</td>\n",
       "      <td>13972.846658</td>\n",
       "      <td>0.000000</td>\n",
       "      <td>10117.891654</td>\n",
       "      <td>3757.815605</td>\n",
       "      <td>8684.571735</td>\n",
       "      <td>7323.187947</td>\n",
       "      <td>11165.678004</td>\n",
       "      <td>...</td>\n",
       "      <td>11219.997133</td>\n",
       "      <td>6701.539762</td>\n",
       "      <td>6671.524486</td>\n",
       "      <td>7509.462226</td>\n",
       "      <td>7162.428327</td>\n",
       "      <td>15984.145870</td>\n",
       "      <td>11318.944369</td>\n",
       "      <td>10422.740599</td>\n",
       "      <td>12883.478703</td>\n",
       "      <td>7102.284726</td>\n",
       "    </tr>\n",
       "  </tbody>\n",
       "</table>\n",
       "<p>5 rows × 181 columns</p>\n",
       "</div>"
      ],
      "text/plain": [
       "              ABW           AIA           ALB           ARE           ARG  \\\n",
       "ABW      0.000000   1030.808723   8914.511641  12547.816812   6807.636739   \n",
       "AIA   1030.808723      0.000000   7885.881036  11527.545191   7464.512951   \n",
       "ALB   8914.511641   7885.881036      0.000000   3670.470318  12645.491889   \n",
       "ARE  12547.816812  11527.545191   3670.470318      0.000000  13972.846658   \n",
       "ARG   6807.636739   7464.512951  12645.491889  13972.846658      0.000000   \n",
       "\n",
       "              ASM           ATA           ATF           ATG           AUS  \\\n",
       "ABW  11363.979416  10402.096103  14419.463293   1119.079832  16480.608889   \n",
       "AIA  12230.890200  10872.544121  14304.121273    251.553043  17497.492407   \n",
       "ALB  16907.327294  12690.409407  10176.126307   7809.772415  14634.491854   \n",
       "ARE  15354.787082  11798.337743   7500.825686  11431.579298  11014.248601   \n",
       "ARG  10117.891654   3757.815605   8684.571735   7323.187947  11165.678004   \n",
       "\n",
       "     ...           USA           VCT           VEN           VGB  \\\n",
       "ABW  ...   5516.075937    865.554410    419.428711    921.115430   \n",
       "AIA  ...   5649.937921    768.373044    880.534088    208.905758   \n",
       "ALB  ...   9906.514331   8290.467684   8669.939067   8022.311156   \n",
       "ARE  ...  12616.292443  11862.212594  12270.933759  11674.109276   \n",
       "ARG  ...  11219.997133   6701.539762   6671.524486   7509.462226   \n",
       "\n",
       "              VIR           VNM           VUT           WSM           YEM  \\\n",
       "ABW    641.667561  17196.124674  13781.883918  11743.613019  12950.292114   \n",
       "AIA    396.759468  16376.658731  14630.528192  12595.968453  11985.848882   \n",
       "ALB   8273.171738   9138.476890  16035.353774  16738.656936   4467.695397   \n",
       "ARE  11906.979081   5928.339267  13212.308320  14961.932367   1369.323080   \n",
       "ARG   7162.428327  15984.145870  11318.944369  10422.740599  12883.478703   \n",
       "\n",
       "              ZAF  \n",
       "ABW  11709.958023  \n",
       "AIA  11508.891880  \n",
       "ALB   8856.152641  \n",
       "ARE   7497.564528  \n",
       "ARG   7102.284726  \n",
       "\n",
       "[5 rows x 181 columns]"
      ]
     },
     "execution_count": 72,
     "metadata": {},
     "output_type": "execute_result"
    }
   ],
   "source": [
    "# Get distance metric and use it to calculate the distance between coordinates of each country\n",
    "dist = DistanceMetric.get_metric('haversine')\n",
    "dist_df = pd.DataFrame(dist.pairwise(df_coord[['lat','lon']].to_numpy())*6373,  columns=df_coord.GID_0.unique(), index=df_coord.GID_0.unique())\n",
    "dist_df.head(5)"
   ]
  },
  {
   "cell_type": "code",
   "execution_count": 73,
   "id": "87f9c990-d47f-488f-95fe-4a8a53470b04",
   "metadata": {},
   "outputs": [
    {
     "data": {
      "text/plain": [
       "(181, 181)"
      ]
     },
     "execution_count": 73,
     "metadata": {},
     "output_type": "execute_result"
    }
   ],
   "source": [
    "dist_df.shape"
   ]
  },
  {
   "cell_type": "code",
   "execution_count": 74,
   "id": "489f834e-d7dc-41e3-b269-6b960a5e294d",
   "metadata": {},
   "outputs": [],
   "source": [
    "# Sort the table for each point. 0 values correspond to the same country, so take the 1:11 and add the row names to a dictionary to have the names of the 10 closest EEZ. \n",
    "dist_df_sort = dist_df.copy()\n",
    "neighbour_dict = dict.fromkeys(dist_df_sort.columns.values)\n",
    "for key in neighbour_dict:\n",
    "    dist_df_sort = dist_df_sort.sort_values(by = [key]) # sort countries from closest to farthest\n",
    "    sub = dist_df_sort[key][1:11] # keep the 10 closest ones but skip the same country (0 distance)\n",
    "    vals = sub.index.values.tolist() # take the values\n",
    "    neighbour_dict[key] = json.dumps(vals) # include them in dictionary"
   ]
  },
  {
   "cell_type": "code",
   "execution_count": 75,
   "id": "b71d6bfe-bf84-4bf7-9ee3-c084413f74c2",
   "metadata": {},
   "outputs": [
    {
     "data": {
      "text/html": [
       "<div>\n",
       "<style scoped>\n",
       "    .dataframe tbody tr th:only-of-type {\n",
       "        vertical-align: middle;\n",
       "    }\n",
       "\n",
       "    .dataframe tbody tr th {\n",
       "        vertical-align: top;\n",
       "    }\n",
       "\n",
       "    .dataframe thead th {\n",
       "        text-align: right;\n",
       "    }\n",
       "</style>\n",
       "<table border=\"1\" class=\"dataframe\">\n",
       "  <thead>\n",
       "    <tr style=\"text-align: right;\">\n",
       "      <th></th>\n",
       "      <th>GID_0</th>\n",
       "      <th>filter_neigh</th>\n",
       "    </tr>\n",
       "  </thead>\n",
       "  <tbody>\n",
       "    <tr>\n",
       "      <th>0</th>\n",
       "      <td>ABW</td>\n",
       "      <td>[\"CUW\", \"BES\", \"VEN\", \"PRI\", \"DOM\", \"HTI\", \"VI...</td>\n",
       "    </tr>\n",
       "    <tr>\n",
       "      <th>1</th>\n",
       "      <td>AIA</td>\n",
       "      <td>[\"VGB\", \"MAF\", \"BLM\", \"SXM\", \"ATG\", \"KNA\", \"VI...</td>\n",
       "    </tr>\n",
       "    <tr>\n",
       "      <th>2</th>\n",
       "      <td>ALB</td>\n",
       "      <td>[\"BIH\", \"HRV\", \"ITA\", \"GRC\", \"SVN\", \"MLT\", \"BG...</td>\n",
       "    </tr>\n",
       "    <tr>\n",
       "      <th>3</th>\n",
       "      <td>ARE</td>\n",
       "      <td>[\"QAT\", \"IRN\", \"KWT\", \"IRQ\", \"OMN\", \"PAK\", \"YE...</td>\n",
       "    </tr>\n",
       "    <tr>\n",
       "      <th>4</th>\n",
       "      <td>ARG</td>\n",
       "      <td>[\"FLK\", \"URY\", \"CHL\", \"SGS\", \"ATA\", \"PER\", \"BR...</td>\n",
       "    </tr>\n",
       "  </tbody>\n",
       "</table>\n",
       "</div>"
      ],
      "text/plain": [
       "  GID_0                                       filter_neigh\n",
       "0   ABW  [\"CUW\", \"BES\", \"VEN\", \"PRI\", \"DOM\", \"HTI\", \"VI...\n",
       "1   AIA  [\"VGB\", \"MAF\", \"BLM\", \"SXM\", \"ATG\", \"KNA\", \"VI...\n",
       "2   ALB  [\"BIH\", \"HRV\", \"ITA\", \"GRC\", \"SVN\", \"MLT\", \"BG...\n",
       "3   ARE  [\"QAT\", \"IRN\", \"KWT\", \"IRQ\", \"OMN\", \"PAK\", \"YE...\n",
       "4   ARG  [\"FLK\", \"URY\", \"CHL\", \"SGS\", \"ATA\", \"PER\", \"BR..."
      ]
     },
     "execution_count": 75,
     "metadata": {},
     "output_type": "execute_result"
    }
   ],
   "source": [
    "# Convert neighboring dictionary into dataframe\n",
    "neigh_df = pd.DataFrame(neighbour_dict.items(), columns = [\"GID_0\",\"filter_neigh\"])\n",
    "neigh_df.head(5)"
   ]
  },
  {
   "cell_type": "code",
   "execution_count": 71,
   "id": "0b9b6dec-0f31-4025-bb6b-24e7f7560db7",
   "metadata": {},
   "outputs": [
    {
     "data": {
      "text/plain": [
       "array([['USA',\n",
       "        '[\"MEX\", \"CAN\", \"BLZ\", \"CUB\", \"GTM\", \"HND\", \"CYM\", \"SLV\", \"BHS\", \"NIC\"]']],\n",
       "      dtype=object)"
      ]
     },
     "execution_count": 71,
     "metadata": {},
     "output_type": "execute_result"
    }
   ],
   "source": [
    "neigh_df[neigh_df['GID_0']=='USA'].values"
   ]
  },
  {
   "cell_type": "code",
   "execution_count": 77,
   "id": "2fbed168-37d3-42fd-98ba-78d9d2938fbe",
   "metadata": {},
   "outputs": [
    {
     "data": {
      "text/plain": [
       "(181, 2)"
      ]
     },
     "execution_count": 77,
     "metadata": {},
     "output_type": "execute_result"
    }
   ],
   "source": [
    "neigh_df.shape"
   ]
  },
  {
   "cell_type": "code",
   "execution_count": 78,
   "id": "f12ffb00-8a08-4fb4-a551-417da759f56d",
   "metadata": {},
   "outputs": [
    {
     "data": {
      "text/plain": [
       "[]"
      ]
     },
     "execution_count": 78,
     "metadata": {},
     "output_type": "execute_result"
    }
   ],
   "source": [
    "# See in which countries the steward and neighbour dictionaries differ\n",
    "list1= list(neigh_df['GID_0'])\n",
    "list2=list(steward_df['GID_0'])\n",
    "list3 = list(set(list1).difference(list2))\n",
    "list3"
   ]
  },
  {
   "cell_type": "code",
   "execution_count": 80,
   "id": "5d48c1f2-6227-4747-845e-6195cbfdfec6",
   "metadata": {},
   "outputs": [
    {
     "data": {
      "text/html": [
       "<div>\n",
       "<style scoped>\n",
       "    .dataframe tbody tr th:only-of-type {\n",
       "        vertical-align: middle;\n",
       "    }\n",
       "\n",
       "    .dataframe tbody tr th {\n",
       "        vertical-align: top;\n",
       "    }\n",
       "\n",
       "    .dataframe thead th {\n",
       "        text-align: right;\n",
       "    }\n",
       "</style>\n",
       "<table border=\"1\" class=\"dataframe\">\n",
       "  <thead>\n",
       "    <tr style=\"text-align: right;\">\n",
       "      <th></th>\n",
       "      <th>GID_0</th>\n",
       "      <th>filter_neigh</th>\n",
       "      <th>filter_steward</th>\n",
       "    </tr>\n",
       "  </thead>\n",
       "  <tbody>\n",
       "    <tr>\n",
       "      <th>0</th>\n",
       "      <td>ABW</td>\n",
       "      <td>[\"CUW\", \"BES\", \"VEN\", \"PRI\", \"DOM\", \"HTI\", \"VI...</td>\n",
       "      <td>[\"VEN\", \"COL\", \"CUW\", \"DOM\", \"BES\", \"USA\", \"BH...</td>\n",
       "    </tr>\n",
       "    <tr>\n",
       "      <th>1</th>\n",
       "      <td>AIA</td>\n",
       "      <td>[\"VGB\", \"MAF\", \"BLM\", \"SXM\", \"ATG\", \"KNA\", \"VI...</td>\n",
       "      <td>[\"DOM\", \"BLM\", \"GLP\", \"PRI\", \"ATG\", \"BES\", \"MA...</td>\n",
       "    </tr>\n",
       "    <tr>\n",
       "      <th>2</th>\n",
       "      <td>ALB</td>\n",
       "      <td>[\"BIH\", \"HRV\", \"ITA\", \"GRC\", \"SVN\", \"MLT\", \"BG...</td>\n",
       "      <td>[\"GRC\", \"ITA\", \"ESP\", \"HRV\", \"DZA\", \"FRA\", \"TU...</td>\n",
       "    </tr>\n",
       "    <tr>\n",
       "      <th>3</th>\n",
       "      <td>ARE</td>\n",
       "      <td>[\"QAT\", \"IRN\", \"KWT\", \"IRQ\", \"OMN\", \"PAK\", \"YE...</td>\n",
       "      <td>[\"IRN\", \"SAU\", \"OMN\", \"PAK\", \"SYC\", \"YEM\", \"MD...</td>\n",
       "    </tr>\n",
       "    <tr>\n",
       "      <th>4</th>\n",
       "      <td>ARG</td>\n",
       "      <td>[\"FLK\", \"URY\", \"CHL\", \"SGS\", \"ATA\", \"PER\", \"BR...</td>\n",
       "      <td>[\"CHL\", \"BRA\", \"NZL\", \"AUS\", \"USA\", \"ZAF\", \"NF...</td>\n",
       "    </tr>\n",
       "  </tbody>\n",
       "</table>\n",
       "</div>"
      ],
      "text/plain": [
       "  GID_0                                       filter_neigh  \\\n",
       "0   ABW  [\"CUW\", \"BES\", \"VEN\", \"PRI\", \"DOM\", \"HTI\", \"VI...   \n",
       "1   AIA  [\"VGB\", \"MAF\", \"BLM\", \"SXM\", \"ATG\", \"KNA\", \"VI...   \n",
       "2   ALB  [\"BIH\", \"HRV\", \"ITA\", \"GRC\", \"SVN\", \"MLT\", \"BG...   \n",
       "3   ARE  [\"QAT\", \"IRN\", \"KWT\", \"IRQ\", \"OMN\", \"PAK\", \"YE...   \n",
       "4   ARG  [\"FLK\", \"URY\", \"CHL\", \"SGS\", \"ATA\", \"PER\", \"BR...   \n",
       "\n",
       "                                      filter_steward  \n",
       "0  [\"VEN\", \"COL\", \"CUW\", \"DOM\", \"BES\", \"USA\", \"BH...  \n",
       "1  [\"DOM\", \"BLM\", \"GLP\", \"PRI\", \"ATG\", \"BES\", \"MA...  \n",
       "2  [\"GRC\", \"ITA\", \"ESP\", \"HRV\", \"DZA\", \"FRA\", \"TU...  \n",
       "3  [\"IRN\", \"SAU\", \"OMN\", \"PAK\", \"SYC\", \"YEM\", \"MD...  \n",
       "4  [\"CHL\", \"BRA\", \"NZL\", \"AUS\", \"USA\", \"ZAF\", \"NF...  "
      ]
     },
     "execution_count": 80,
     "metadata": {},
     "output_type": "execute_result"
    }
   ],
   "source": [
    "# Merge these two dataframes together\n",
    "df_dict = pd.merge(left = neigh_df, right = steward_df, left_on = \"GID_0\", right_on = \"GID_0\", how = \"left\")\n",
    "df_dict.head(5)"
   ]
  },
  {
   "cell_type": "code",
   "execution_count": 81,
   "id": "b6e65fa5-7877-4536-b832-7742423ab219",
   "metadata": {},
   "outputs": [
    {
     "data": {
      "text/plain": [
       "(181, 3)"
      ]
     },
     "execution_count": 81,
     "metadata": {},
     "output_type": "execute_result"
    }
   ],
   "source": [
    "df_dict.shape"
   ]
  },
  {
   "cell_type": "markdown",
   "id": "6e28ab76-ae37-446a-84ff-da194913c76d",
   "metadata": {},
   "source": [
    "### Get below and above countries for each field in challenges"
   ]
  },
  {
   "cell_type": "code",
   "execution_count": 82,
   "id": "63df412d-765f-46ac-aa22-febd82d75730",
   "metadata": {},
   "outputs": [
    {
     "data": {
      "text/plain": [
       "Index(['GID_0', 'NAME_0', 'jpg_url', 'GNI_PPP', 'max_amph', 'max_bird',\n",
       "       'max_mamm', 'max_rept', 'max_cact', 'max_coni', 'max_all', 'sentence',\n",
       "       'Average SPI', 'GlobalID', 'continent', 'has_priority', 'has_raisg',\n",
       "       'Area_Country', 'protection_needed_ter', 'iso2', 'max_highlited_sp',\n",
       "       'x', 'y', 'hm_ter', 'hm_no_ter', 'hm_vh_ter', 'Pop2020', 'SPI_ter',\n",
       "       'prop_protected_ter', 'amphibians', 'birds', 'mammals', 'reptiles',\n",
       "       'endemic_amphibians', 'endemic_birds', 'endemic_mammals',\n",
       "       'endemic_reptiles', 'nspecies_ter', 'total_endemic_ter',\n",
       "       'filter_similar_ter', 'Pop2020_EEZ', 'SPI_mar', 'prop_protected_mar',\n",
       "       'hm_no_mar', 'hm_mar', 'hm_vh_mar', 'mammals_mar', 'fishes_mar',\n",
       "       'endemic_mammals_mar', 'endemic_fishes_mar', 'nspecies_mar',\n",
       "       'total_endemic_mar'],\n",
       "      dtype='object')"
      ]
     },
     "execution_count": 82,
     "metadata": {},
     "output_type": "execute_result"
    }
   ],
   "source": [
    "df.columns"
   ]
  },
  {
   "cell_type": "code",
   "execution_count": 83,
   "id": "f6841376-c0cc-4f19-ac83-2182d468a6c6",
   "metadata": {},
   "outputs": [
    {
     "data": {
      "text/html": [
       "<div>\n",
       "<style scoped>\n",
       "    .dataframe tbody tr th:only-of-type {\n",
       "        vertical-align: middle;\n",
       "    }\n",
       "\n",
       "    .dataframe tbody tr th {\n",
       "        vertical-align: top;\n",
       "    }\n",
       "\n",
       "    .dataframe thead th {\n",
       "        text-align: right;\n",
       "    }\n",
       "</style>\n",
       "<table border=\"1\" class=\"dataframe\">\n",
       "  <thead>\n",
       "    <tr style=\"text-align: right;\">\n",
       "      <th></th>\n",
       "      <th>GID_0</th>\n",
       "      <th>Area_EEZ</th>\n",
       "      <th>Latitude</th>\n",
       "      <th>Longitude</th>\n",
       "    </tr>\n",
       "  </thead>\n",
       "  <tbody>\n",
       "    <tr>\n",
       "      <th>0</th>\n",
       "      <td>ABW</td>\n",
       "      <td>2.997030e+04</td>\n",
       "      <td>13.741380</td>\n",
       "      <td>-69.673412</td>\n",
       "    </tr>\n",
       "    <tr>\n",
       "      <th>2</th>\n",
       "      <td>AIA</td>\n",
       "      <td>9.015796e+04</td>\n",
       "      <td>20.018030</td>\n",
       "      <td>-62.543285</td>\n",
       "    </tr>\n",
       "    <tr>\n",
       "      <th>3</th>\n",
       "      <td>ALB</td>\n",
       "      <td>1.216555e+04</td>\n",
       "      <td>40.927084</td>\n",
       "      <td>19.113001</td>\n",
       "    </tr>\n",
       "    <tr>\n",
       "      <th>4</th>\n",
       "      <td>ARE</td>\n",
       "      <td>5.783815e+04</td>\n",
       "      <td>25.058911</td>\n",
       "      <td>54.030580</td>\n",
       "    </tr>\n",
       "    <tr>\n",
       "      <th>5</th>\n",
       "      <td>ARG</td>\n",
       "      <td>1.072577e+06</td>\n",
       "      <td>-47.089988</td>\n",
       "      <td>-62.159504</td>\n",
       "    </tr>\n",
       "  </tbody>\n",
       "</table>\n",
       "</div>"
      ],
      "text/plain": [
       "  GID_0      Area_EEZ   Latitude  Longitude\n",
       "0   ABW  2.997030e+04  13.741380 -69.673412\n",
       "2   AIA  9.015796e+04  20.018030 -62.543285\n",
       "3   ALB  1.216555e+04  40.927084  19.113001\n",
       "4   ARE  5.783815e+04  25.058911  54.030580\n",
       "5   ARG  1.072577e+06 -47.089988 -62.159504"
      ]
     },
     "execution_count": 83,
     "metadata": {},
     "output_type": "execute_result"
    }
   ],
   "source": [
    "eez2.head()"
   ]
  },
  {
   "cell_type": "code",
   "execution_count": 84,
   "id": "c346e5e8-c920-4c10-859d-2919d474e64b",
   "metadata": {},
   "outputs": [
    {
     "data": {
      "text/plain": [
       "181"
      ]
     },
     "execution_count": 84,
     "metadata": {},
     "output_type": "execute_result"
    }
   ],
   "source": [
    "len(eez2)"
   ]
  },
  {
   "cell_type": "code",
   "execution_count": 92,
   "id": "c9592508-474a-4c71-b40d-b6507e984ae7",
   "metadata": {},
   "outputs": [
    {
     "data": {
      "text/plain": [
       "Index(['GID_0', 'NAME_0', 'jpg_url', 'GNI_PPP', 'max_amph', 'max_bird',\n",
       "       'max_mamm', 'max_rept', 'max_cact', 'max_coni', 'max_all', 'sentence',\n",
       "       'Average SPI', 'GlobalID', 'continent', 'has_priority', 'has_raisg',\n",
       "       'Area_Country', 'protection_needed_ter', 'iso2', 'max_highlited_sp',\n",
       "       'x', 'y', 'hm_ter', 'hm_no_ter', 'hm_vh_ter', 'Pop2020', 'SPI_ter',\n",
       "       'prop_protected_ter', 'amphibians', 'birds', 'mammals', 'reptiles',\n",
       "       'endemic_amphibians', 'endemic_birds', 'endemic_mammals',\n",
       "       'endemic_reptiles', 'nspecies_ter', 'total_endemic_ter',\n",
       "       'filter_similar_ter', 'Pop2020_EEZ', 'SPI_mar', 'prop_protected_mar',\n",
       "       'hm_no_mar', 'hm_mar', 'hm_vh_mar', 'mammals_mar', 'fishes_mar',\n",
       "       'endemic_mammals_mar', 'endemic_fishes_mar', 'nspecies_mar',\n",
       "       'total_endemic_mar', 'Area_EEZ'],\n",
       "      dtype='object')"
      ]
     },
     "execution_count": 92,
     "metadata": {},
     "output_type": "execute_result"
    }
   ],
   "source": [
    "df = pd.merge(left = df, right = eez2, left_on = \"GID_0\", right_on = \"GID_0\", how = \"left\").drop(columns = {'Latitude','Longitude'})\n",
    "df.columns"
   ]
  },
  {
   "cell_type": "code",
   "execution_count": 93,
   "id": "cc48a7ec-3c59-477d-afbc-a69a23987365",
   "metadata": {},
   "outputs": [
    {
     "data": {
      "text/html": [
       "<div>\n",
       "<style scoped>\n",
       "    .dataframe tbody tr th:only-of-type {\n",
       "        vertical-align: middle;\n",
       "    }\n",
       "\n",
       "    .dataframe tbody tr th {\n",
       "        vertical-align: top;\n",
       "    }\n",
       "\n",
       "    .dataframe thead th {\n",
       "        text-align: right;\n",
       "    }\n",
       "</style>\n",
       "<table border=\"1\" class=\"dataframe\">\n",
       "  <thead>\n",
       "    <tr style=\"text-align: right;\">\n",
       "      <th></th>\n",
       "      <th>GID_0</th>\n",
       "      <th>NAME_0</th>\n",
       "      <th>jpg_url</th>\n",
       "      <th>GNI_PPP</th>\n",
       "      <th>max_amph</th>\n",
       "      <th>max_bird</th>\n",
       "      <th>max_mamm</th>\n",
       "      <th>max_rept</th>\n",
       "      <th>max_cact</th>\n",
       "      <th>max_coni</th>\n",
       "      <th>...</th>\n",
       "      <th>hm_no_mar</th>\n",
       "      <th>hm_mar</th>\n",
       "      <th>hm_vh_mar</th>\n",
       "      <th>mammals_mar</th>\n",
       "      <th>fishes_mar</th>\n",
       "      <th>endemic_mammals_mar</th>\n",
       "      <th>endemic_fishes_mar</th>\n",
       "      <th>nspecies_mar</th>\n",
       "      <th>total_endemic_mar</th>\n",
       "      <th>Area_EEZ</th>\n",
       "    </tr>\n",
       "  </thead>\n",
       "  <tbody>\n",
       "    <tr>\n",
       "      <th>0</th>\n",
       "      <td>ABW</td>\n",
       "      <td>Aruba</td>\n",
       "      <td>https://live.staticflickr.com/1952/31416683438...</td>\n",
       "      <td>3.9</td>\n",
       "      <td>3</td>\n",
       "      <td>1</td>\n",
       "      <td>10</td>\n",
       "      <td>10</td>\n",
       "      <td>10</td>\n",
       "      <td>0</td>\n",
       "      <td>...</td>\n",
       "      <td>0.0</td>\n",
       "      <td>78.304750</td>\n",
       "      <td>21.695250</td>\n",
       "      <td>19</td>\n",
       "      <td>1466</td>\n",
       "      <td>0</td>\n",
       "      <td>0</td>\n",
       "      <td>1485</td>\n",
       "      <td>0</td>\n",
       "      <td>29970.299588</td>\n",
       "    </tr>\n",
       "    <tr>\n",
       "      <th>1</th>\n",
       "      <td>AFG</td>\n",
       "      <td>Afghanistan</td>\n",
       "      <td>https://p1.pxfuel.com/preview/967/12/53/afghan...</td>\n",
       "      <td>70.6</td>\n",
       "      <td>10</td>\n",
       "      <td>9</td>\n",
       "      <td>10</td>\n",
       "      <td>10</td>\n",
       "      <td>0</td>\n",
       "      <td>9</td>\n",
       "      <td>...</td>\n",
       "      <td>NaN</td>\n",
       "      <td>NaN</td>\n",
       "      <td>NaN</td>\n",
       "      <td>0</td>\n",
       "      <td>0</td>\n",
       "      <td>0</td>\n",
       "      <td>0</td>\n",
       "      <td>0</td>\n",
       "      <td>0</td>\n",
       "      <td>NaN</td>\n",
       "    </tr>\n",
       "    <tr>\n",
       "      <th>2</th>\n",
       "      <td>AGO</td>\n",
       "      <td>Angola</td>\n",
       "      <td>https://live.staticflickr.com/3787/13698381215...</td>\n",
       "      <td>192.2</td>\n",
       "      <td>10</td>\n",
       "      <td>10</td>\n",
       "      <td>10</td>\n",
       "      <td>10</td>\n",
       "      <td>3</td>\n",
       "      <td>5</td>\n",
       "      <td>...</td>\n",
       "      <td>NaN</td>\n",
       "      <td>NaN</td>\n",
       "      <td>NaN</td>\n",
       "      <td>0</td>\n",
       "      <td>0</td>\n",
       "      <td>0</td>\n",
       "      <td>0</td>\n",
       "      <td>0</td>\n",
       "      <td>0</td>\n",
       "      <td>NaN</td>\n",
       "    </tr>\n",
       "    <tr>\n",
       "      <th>3</th>\n",
       "      <td>AIA</td>\n",
       "      <td>Anguilla</td>\n",
       "      <td>https://live.staticflickr.com/8063/8194570372_...</td>\n",
       "      <td>NaN</td>\n",
       "      <td>9</td>\n",
       "      <td>7</td>\n",
       "      <td>10</td>\n",
       "      <td>10</td>\n",
       "      <td>6</td>\n",
       "      <td>0</td>\n",
       "      <td>...</td>\n",
       "      <td>0.0</td>\n",
       "      <td>94.367741</td>\n",
       "      <td>5.632259</td>\n",
       "      <td>25</td>\n",
       "      <td>1494</td>\n",
       "      <td>0</td>\n",
       "      <td>0</td>\n",
       "      <td>1519</td>\n",
       "      <td>0</td>\n",
       "      <td>90157.964205</td>\n",
       "    </tr>\n",
       "    <tr>\n",
       "      <th>4</th>\n",
       "      <td>ALA</td>\n",
       "      <td>Åland</td>\n",
       "      <td>https://p1.pxfuel.com/preview/294/670/561/alan...</td>\n",
       "      <td>NaN</td>\n",
       "      <td>1</td>\n",
       "      <td>1</td>\n",
       "      <td>1</td>\n",
       "      <td>1</td>\n",
       "      <td>0</td>\n",
       "      <td>1</td>\n",
       "      <td>...</td>\n",
       "      <td>NaN</td>\n",
       "      <td>NaN</td>\n",
       "      <td>NaN</td>\n",
       "      <td>0</td>\n",
       "      <td>0</td>\n",
       "      <td>0</td>\n",
       "      <td>0</td>\n",
       "      <td>0</td>\n",
       "      <td>0</td>\n",
       "      <td>NaN</td>\n",
       "    </tr>\n",
       "  </tbody>\n",
       "</table>\n",
       "<p>5 rows × 53 columns</p>\n",
       "</div>"
      ],
      "text/plain": [
       "  GID_0       NAME_0                                            jpg_url  \\\n",
       "0   ABW        Aruba  https://live.staticflickr.com/1952/31416683438...   \n",
       "1   AFG  Afghanistan  https://p1.pxfuel.com/preview/967/12/53/afghan...   \n",
       "2   AGO       Angola  https://live.staticflickr.com/3787/13698381215...   \n",
       "3   AIA     Anguilla  https://live.staticflickr.com/8063/8194570372_...   \n",
       "4   ALA        Åland  https://p1.pxfuel.com/preview/294/670/561/alan...   \n",
       "\n",
       "   GNI_PPP  max_amph  max_bird  max_mamm  max_rept  max_cact  max_coni  ...  \\\n",
       "0      3.9         3         1        10        10        10         0  ...   \n",
       "1     70.6        10         9        10        10         0         9  ...   \n",
       "2    192.2        10        10        10        10         3         5  ...   \n",
       "3      NaN         9         7        10        10         6         0  ...   \n",
       "4      NaN         1         1         1         1         0         1  ...   \n",
       "\n",
       "   hm_no_mar     hm_mar  hm_vh_mar mammals_mar fishes_mar  \\\n",
       "0        0.0  78.304750  21.695250          19       1466   \n",
       "1        NaN        NaN        NaN           0          0   \n",
       "2        NaN        NaN        NaN           0          0   \n",
       "3        0.0  94.367741   5.632259          25       1494   \n",
       "4        NaN        NaN        NaN           0          0   \n",
       "\n",
       "   endemic_mammals_mar  endemic_fishes_mar  nspecies_mar  total_endemic_mar  \\\n",
       "0                    0                   0          1485                  0   \n",
       "1                    0                   0             0                  0   \n",
       "2                    0                   0             0                  0   \n",
       "3                    0                   0          1519                  0   \n",
       "4                    0                   0             0                  0   \n",
       "\n",
       "       Area_EEZ  \n",
       "0  29970.299588  \n",
       "1           NaN  \n",
       "2           NaN  \n",
       "3  90157.964205  \n",
       "4           NaN  \n",
       "\n",
       "[5 rows x 53 columns]"
      ]
     },
     "execution_count": 93,
     "metadata": {},
     "output_type": "execute_result"
    }
   ],
   "source": [
    "df.head()"
   ]
  },
  {
   "cell_type": "code",
   "execution_count": 96,
   "id": "2c015a3a-72f2-469d-8a7d-339db8ae32e6",
   "metadata": {},
   "outputs": [
    {
     "data": {
      "text/html": [
       "<div>\n",
       "<style scoped>\n",
       "    .dataframe tbody tr th:only-of-type {\n",
       "        vertical-align: middle;\n",
       "    }\n",
       "\n",
       "    .dataframe tbody tr th {\n",
       "        vertical-align: top;\n",
       "    }\n",
       "\n",
       "    .dataframe thead th {\n",
       "        text-align: right;\n",
       "    }\n",
       "</style>\n",
       "<table border=\"1\" class=\"dataframe\">\n",
       "  <thead>\n",
       "    <tr style=\"text-align: right;\">\n",
       "      <th></th>\n",
       "      <th>GID_0</th>\n",
       "      <th>NAME_0</th>\n",
       "      <th>jpg_url</th>\n",
       "      <th>GNI_PPP</th>\n",
       "      <th>max_amph</th>\n",
       "      <th>max_bird</th>\n",
       "      <th>max_mamm</th>\n",
       "      <th>max_rept</th>\n",
       "      <th>max_cact</th>\n",
       "      <th>max_coni</th>\n",
       "      <th>...</th>\n",
       "      <th>hm_no_mar</th>\n",
       "      <th>hm_mar</th>\n",
       "      <th>hm_vh_mar</th>\n",
       "      <th>mammals_mar</th>\n",
       "      <th>fishes_mar</th>\n",
       "      <th>endemic_mammals_mar</th>\n",
       "      <th>endemic_fishes_mar</th>\n",
       "      <th>nspecies_mar</th>\n",
       "      <th>total_endemic_mar</th>\n",
       "      <th>Area_EEZ</th>\n",
       "    </tr>\n",
       "  </thead>\n",
       "  <tbody>\n",
       "    <tr>\n",
       "      <th>0</th>\n",
       "      <td>ABW</td>\n",
       "      <td>Aruba</td>\n",
       "      <td>https://live.staticflickr.com/1952/31416683438...</td>\n",
       "      <td>3.9</td>\n",
       "      <td>3</td>\n",
       "      <td>1</td>\n",
       "      <td>10</td>\n",
       "      <td>10</td>\n",
       "      <td>10</td>\n",
       "      <td>0</td>\n",
       "      <td>...</td>\n",
       "      <td>0.0</td>\n",
       "      <td>78.304750</td>\n",
       "      <td>21.695250</td>\n",
       "      <td>19</td>\n",
       "      <td>1466</td>\n",
       "      <td>0</td>\n",
       "      <td>0</td>\n",
       "      <td>1485</td>\n",
       "      <td>0</td>\n",
       "      <td>29970.299588</td>\n",
       "    </tr>\n",
       "    <tr>\n",
       "      <th>1</th>\n",
       "      <td>AFG</td>\n",
       "      <td>Afghanistan</td>\n",
       "      <td>https://p1.pxfuel.com/preview/967/12/53/afghan...</td>\n",
       "      <td>70.6</td>\n",
       "      <td>10</td>\n",
       "      <td>9</td>\n",
       "      <td>10</td>\n",
       "      <td>10</td>\n",
       "      <td>0</td>\n",
       "      <td>9</td>\n",
       "      <td>...</td>\n",
       "      <td>NaN</td>\n",
       "      <td>NaN</td>\n",
       "      <td>NaN</td>\n",
       "      <td>0</td>\n",
       "      <td>0</td>\n",
       "      <td>0</td>\n",
       "      <td>0</td>\n",
       "      <td>0</td>\n",
       "      <td>0</td>\n",
       "      <td>NaN</td>\n",
       "    </tr>\n",
       "    <tr>\n",
       "      <th>2</th>\n",
       "      <td>AGO</td>\n",
       "      <td>Angola</td>\n",
       "      <td>https://live.staticflickr.com/3787/13698381215...</td>\n",
       "      <td>192.2</td>\n",
       "      <td>10</td>\n",
       "      <td>10</td>\n",
       "      <td>10</td>\n",
       "      <td>10</td>\n",
       "      <td>3</td>\n",
       "      <td>5</td>\n",
       "      <td>...</td>\n",
       "      <td>NaN</td>\n",
       "      <td>NaN</td>\n",
       "      <td>NaN</td>\n",
       "      <td>0</td>\n",
       "      <td>0</td>\n",
       "      <td>0</td>\n",
       "      <td>0</td>\n",
       "      <td>0</td>\n",
       "      <td>0</td>\n",
       "      <td>NaN</td>\n",
       "    </tr>\n",
       "    <tr>\n",
       "      <th>3</th>\n",
       "      <td>AIA</td>\n",
       "      <td>Anguilla</td>\n",
       "      <td>https://live.staticflickr.com/8063/8194570372_...</td>\n",
       "      <td>NaN</td>\n",
       "      <td>9</td>\n",
       "      <td>7</td>\n",
       "      <td>10</td>\n",
       "      <td>10</td>\n",
       "      <td>6</td>\n",
       "      <td>0</td>\n",
       "      <td>...</td>\n",
       "      <td>0.0</td>\n",
       "      <td>94.367741</td>\n",
       "      <td>5.632259</td>\n",
       "      <td>25</td>\n",
       "      <td>1494</td>\n",
       "      <td>0</td>\n",
       "      <td>0</td>\n",
       "      <td>1519</td>\n",
       "      <td>0</td>\n",
       "      <td>90157.964205</td>\n",
       "    </tr>\n",
       "    <tr>\n",
       "      <th>4</th>\n",
       "      <td>ALA</td>\n",
       "      <td>Åland</td>\n",
       "      <td>https://p1.pxfuel.com/preview/294/670/561/alan...</td>\n",
       "      <td>NaN</td>\n",
       "      <td>1</td>\n",
       "      <td>1</td>\n",
       "      <td>1</td>\n",
       "      <td>1</td>\n",
       "      <td>0</td>\n",
       "      <td>1</td>\n",
       "      <td>...</td>\n",
       "      <td>NaN</td>\n",
       "      <td>NaN</td>\n",
       "      <td>NaN</td>\n",
       "      <td>0</td>\n",
       "      <td>0</td>\n",
       "      <td>0</td>\n",
       "      <td>0</td>\n",
       "      <td>0</td>\n",
       "      <td>0</td>\n",
       "      <td>NaN</td>\n",
       "    </tr>\n",
       "  </tbody>\n",
       "</table>\n",
       "<p>5 rows × 53 columns</p>\n",
       "</div>"
      ],
      "text/plain": [
       "  GID_0       NAME_0                                            jpg_url  \\\n",
       "0   ABW        Aruba  https://live.staticflickr.com/1952/31416683438...   \n",
       "1   AFG  Afghanistan  https://p1.pxfuel.com/preview/967/12/53/afghan...   \n",
       "2   AGO       Angola  https://live.staticflickr.com/3787/13698381215...   \n",
       "3   AIA     Anguilla  https://live.staticflickr.com/8063/8194570372_...   \n",
       "4   ALA        Åland  https://p1.pxfuel.com/preview/294/670/561/alan...   \n",
       "\n",
       "   GNI_PPP  max_amph  max_bird  max_mamm  max_rept  max_cact  max_coni  ...  \\\n",
       "0      3.9         3         1        10        10        10         0  ...   \n",
       "1     70.6        10         9        10        10         0         9  ...   \n",
       "2    192.2        10        10        10        10         3         5  ...   \n",
       "3      NaN         9         7        10        10         6         0  ...   \n",
       "4      NaN         1         1         1         1         0         1  ...   \n",
       "\n",
       "   hm_no_mar     hm_mar  hm_vh_mar mammals_mar fishes_mar  \\\n",
       "0        0.0  78.304750  21.695250          19       1466   \n",
       "1        NaN        NaN        NaN           0          0   \n",
       "2        NaN        NaN        NaN           0          0   \n",
       "3        0.0  94.367741   5.632259          25       1494   \n",
       "4        NaN        NaN        NaN           0          0   \n",
       "\n",
       "   endemic_mammals_mar  endemic_fishes_mar  nspecies_mar  total_endemic_mar  \\\n",
       "0                    0                   0          1485                  0   \n",
       "1                    0                   0             0                  0   \n",
       "2                    0                   0             0                  0   \n",
       "3                    0                   0          1519                  0   \n",
       "4                    0                   0             0                  0   \n",
       "\n",
       "       Area_EEZ  \n",
       "0  29970.299588  \n",
       "1           NaN  \n",
       "2           NaN  \n",
       "3  90157.964205  \n",
       "4           NaN  \n",
       "\n",
       "[5 rows x 53 columns]"
      ]
     },
     "execution_count": 96,
     "metadata": {},
     "output_type": "execute_result"
    }
   ],
   "source": [
    "## Fill Nan in pop with zeroes\n",
    "df['Pop2020_EEZ'] = df['Pop2020_EEZ'].fillna(0) \n",
    "df.head()"
   ]
  },
  {
   "cell_type": "code",
   "execution_count": 98,
   "id": "05f0362e-ed31-4ff2-9506-7055ab6b9140",
   "metadata": {},
   "outputs": [],
   "source": [
    "fields = ['GID_0', 'NAME_0', 'Area_EEZ', 'Pop2020_EEZ', 'prop_protected_mar', 'hm_vh_mar', 'total_endemic_mar', 'nspecies_mar', 'SPI_mar', \"continent\"]"
   ]
  },
  {
   "cell_type": "markdown",
   "id": "5a6c4d3c-ff36-4e52-84a8-8faa1505814e",
   "metadata": {},
   "source": [
    "##### % of protection needed still pending from MOL"
   ]
  },
  {
   "cell_type": "code",
   "execution_count": 99,
   "id": "b6b9d8d6-bf30-492c-a028-5a95a947a7ff",
   "metadata": {},
   "outputs": [
    {
     "data": {
      "text/html": [
       "<div>\n",
       "<style scoped>\n",
       "    .dataframe tbody tr th:only-of-type {\n",
       "        vertical-align: middle;\n",
       "    }\n",
       "\n",
       "    .dataframe tbody tr th {\n",
       "        vertical-align: top;\n",
       "    }\n",
       "\n",
       "    .dataframe thead th {\n",
       "        text-align: right;\n",
       "    }\n",
       "</style>\n",
       "<table border=\"1\" class=\"dataframe\">\n",
       "  <thead>\n",
       "    <tr style=\"text-align: right;\">\n",
       "      <th></th>\n",
       "      <th>GID_0</th>\n",
       "      <th>NAME_0</th>\n",
       "      <th>Area_EEZ</th>\n",
       "      <th>Pop2020_EEZ</th>\n",
       "      <th>prop_protected_mar</th>\n",
       "      <th>hm_vh_mar</th>\n",
       "      <th>total_endemic_mar</th>\n",
       "      <th>nspecies_mar</th>\n",
       "      <th>SPI_mar</th>\n",
       "      <th>continent</th>\n",
       "    </tr>\n",
       "  </thead>\n",
       "  <tbody>\n",
       "    <tr>\n",
       "      <th>0</th>\n",
       "      <td>ABW</td>\n",
       "      <td>Aruba</td>\n",
       "      <td>29970.299588</td>\n",
       "      <td>1547.605201</td>\n",
       "      <td>0.0</td>\n",
       "      <td>21.69525</td>\n",
       "      <td>0</td>\n",
       "      <td>1485</td>\n",
       "      <td>0</td>\n",
       "      <td>North America</td>\n",
       "    </tr>\n",
       "    <tr>\n",
       "      <th>1</th>\n",
       "      <td>AFG</td>\n",
       "      <td>Afghanistan</td>\n",
       "      <td>NaN</td>\n",
       "      <td>0.000000</td>\n",
       "      <td>NaN</td>\n",
       "      <td>NaN</td>\n",
       "      <td>0</td>\n",
       "      <td>0</td>\n",
       "      <td>0</td>\n",
       "      <td>Asia</td>\n",
       "    </tr>\n",
       "  </tbody>\n",
       "</table>\n",
       "</div>"
      ],
      "text/plain": [
       "  GID_0       NAME_0      Area_EEZ  Pop2020_EEZ  prop_protected_mar  \\\n",
       "0   ABW        Aruba  29970.299588  1547.605201                 0.0   \n",
       "1   AFG  Afghanistan           NaN     0.000000                 NaN   \n",
       "\n",
       "   hm_vh_mar  total_endemic_mar  nspecies_mar  SPI_mar      continent  \n",
       "0   21.69525                  0          1485        0  North America  \n",
       "1        NaN                  0             0        0           Asia  "
      ]
     },
     "execution_count": 99,
     "metadata": {},
     "output_type": "execute_result"
    }
   ],
   "source": [
    "df_fields = df[fields].copy()\n",
    "df_fields.head(2)"
   ]
  },
  {
   "cell_type": "code",
   "execution_count": 100,
   "id": "e9523d63-0c58-45fd-80d7-23713f60a7dc",
   "metadata": {},
   "outputs": [],
   "source": [
    "filter_fields = ['Area_EEZ','Pop2020_EEZ', 'hm_vh_mar', 'prop_protected_mar', 'total_endemic_mar','nspecies_mar', 'SPI_mar']"
   ]
  },
  {
   "cell_type": "code",
   "execution_count": 101,
   "id": "eb16f947-dcc5-4171-8c93-22aa56435e0e",
   "metadata": {},
   "outputs": [],
   "source": [
    "# Get dictionaries for the other fields\n",
    "df_sort = df.copy()\n",
    "nber_index = 5\n",
    "max_index = len(df_sort.index) - 1\n",
    "\n",
    "new_fields = []\n",
    "for field in filter_fields:\n",
    "    df_sort = df_sort.sort_values(by = [field]).reset_index(drop=True)\n",
    "    collapse_list = []\n",
    "    for index, i in df_sort.iterrows():\n",
    "        country_gid = df_sort.GID_0[index]\n",
    "        above_index = index - nber_index\n",
    "        below_index = index + nber_index + 1\n",
    "        if above_index < 0:\n",
    "            below_index = nber_index * 2 \n",
    "            above_index = 0\n",
    "        if below_index > max_index:\n",
    "            above_index = max_index - (nber_index * 2)\n",
    "            below_index = max_index\n",
    "\n",
    "        sub_pd = df_sort.GID_0[above_index:below_index]\n",
    "        val_list = sub_pd.values.tolist()\n",
    "        collapse_list.append(json.dumps(val_list))\n",
    "\n",
    "        #val_list_rem = val_list.remove(country_gid)\n",
    "    filter_field = f\"filter_{field}\"\n",
    "    new_fields.append(filter_field)\n",
    "    df_sort[filter_field] = collapse_list"
   ]
  },
  {
   "cell_type": "code",
   "execution_count": 102,
   "id": "61122c1d-0f91-4f00-857a-eb316acff2c6",
   "metadata": {},
   "outputs": [
    {
     "data": {
      "text/html": [
       "<div>\n",
       "<style scoped>\n",
       "    .dataframe tbody tr th:only-of-type {\n",
       "        vertical-align: middle;\n",
       "    }\n",
       "\n",
       "    .dataframe tbody tr th {\n",
       "        vertical-align: top;\n",
       "    }\n",
       "\n",
       "    .dataframe thead th {\n",
       "        text-align: right;\n",
       "    }\n",
       "</style>\n",
       "<table border=\"1\" class=\"dataframe\">\n",
       "  <thead>\n",
       "    <tr style=\"text-align: right;\">\n",
       "      <th></th>\n",
       "      <th>GID_0</th>\n",
       "      <th>NAME_0</th>\n",
       "      <th>jpg_url</th>\n",
       "      <th>GNI_PPP</th>\n",
       "      <th>max_amph</th>\n",
       "      <th>max_bird</th>\n",
       "      <th>max_mamm</th>\n",
       "      <th>max_rept</th>\n",
       "      <th>max_cact</th>\n",
       "      <th>max_coni</th>\n",
       "      <th>...</th>\n",
       "      <th>nspecies_mar</th>\n",
       "      <th>total_endemic_mar</th>\n",
       "      <th>Area_EEZ</th>\n",
       "      <th>filter_Area_EEZ</th>\n",
       "      <th>filter_Pop2020_EEZ</th>\n",
       "      <th>filter_hm_vh_mar</th>\n",
       "      <th>filter_prop_protected_mar</th>\n",
       "      <th>filter_total_endemic_mar</th>\n",
       "      <th>filter_nspecies_mar</th>\n",
       "      <th>filter_SPI_mar</th>\n",
       "    </tr>\n",
       "  </thead>\n",
       "  <tbody>\n",
       "    <tr>\n",
       "      <th>0</th>\n",
       "      <td>TCD</td>\n",
       "      <td>Chad</td>\n",
       "      <td>https://live.staticflickr.com/4765/39090786674...</td>\n",
       "      <td>28.6</td>\n",
       "      <td>10</td>\n",
       "      <td>8</td>\n",
       "      <td>8</td>\n",
       "      <td>7</td>\n",
       "      <td>0</td>\n",
       "      <td>0</td>\n",
       "      <td>...</td>\n",
       "      <td>0</td>\n",
       "      <td>0</td>\n",
       "      <td>NaN</td>\n",
       "      <td>[\"SRB\", \"SSD\", \"SVK\", \"SWZ\", \"SYR\", \"TCD\", \"TG...</td>\n",
       "      <td>[\"LAO\", \"KGZ\", \"LIE\", \"SWZ\", \"SYR\", \"TCD\", \"TG...</td>\n",
       "      <td>[\"LAO\", \"KGZ\", \"LIE\", \"SWZ\", \"SYR\", \"TCD\", \"TG...</td>\n",
       "      <td>[\"LAO\", \"KGZ\", \"LIE\", \"SWZ\", \"SYR\", \"TCD\", \"TG...</td>\n",
       "      <td>[\"LAO\", \"KGZ\", \"LIE\", \"SWZ\", \"SYR\", \"TCD\", \"TG...</td>\n",
       "      <td>[\"TCD\", \"WLF\", \"RWA\", \"PSE\", \"PRY\", \"NRU\", \"NP...</td>\n",
       "      <td>[\"TCD\", \"IRQ\", \"WSM\", \"CYM\", \"IND\", \"VGB\", \"AB...</td>\n",
       "    </tr>\n",
       "    <tr>\n",
       "      <th>1</th>\n",
       "      <td>IRQ</td>\n",
       "      <td>Iraq</td>\n",
       "      <td>https://upload.wikimedia.org/wikipedia/commons...</td>\n",
       "      <td>650.5</td>\n",
       "      <td>10</td>\n",
       "      <td>7</td>\n",
       "      <td>10</td>\n",
       "      <td>10</td>\n",
       "      <td>0</td>\n",
       "      <td>8</td>\n",
       "      <td>...</td>\n",
       "      <td>172</td>\n",
       "      <td>0</td>\n",
       "      <td>1187.499037</td>\n",
       "      <td>[\"SVN\", \"MCO\", \"SXM\", \"SGP\", \"MAF\", \"IRQ\", \"JE...</td>\n",
       "      <td>[\"COD\", \"GRD\", \"MYT\", \"MTQ\", \"TON\", \"IRQ\", \"BE...</td>\n",
       "      <td>[\"POL\", \"ISR\", \"BIH\", \"SGP\", \"JOR\", \"IRQ\", \"JE...</td>\n",
       "      <td>[\"STP\", \"BMU\", \"GUY\", \"PYF\", \"ISR\", \"IRQ\", \"SH...</td>\n",
       "      <td>[\"IND\", \"BMU\", \"GUY\", \"PYF\", \"ISR\", \"IRQ\", \"SH...</td>\n",
       "      <td>[\"GEO\", \"IND\", \"SJM\", \"ATA\", \"GRL\", \"IRQ\", \"BE...</td>\n",
       "      <td>[\"TCD\", \"IRQ\", \"WSM\", \"CYM\", \"IND\", \"VGB\", \"AB...</td>\n",
       "    </tr>\n",
       "  </tbody>\n",
       "</table>\n",
       "<p>2 rows × 60 columns</p>\n",
       "</div>"
      ],
      "text/plain": [
       "  GID_0 NAME_0                                            jpg_url  GNI_PPP  \\\n",
       "0   TCD   Chad  https://live.staticflickr.com/4765/39090786674...     28.6   \n",
       "1   IRQ   Iraq  https://upload.wikimedia.org/wikipedia/commons...    650.5   \n",
       "\n",
       "   max_amph  max_bird  max_mamm  max_rept  max_cact  max_coni  ...  \\\n",
       "0        10         8         8         7         0         0  ...   \n",
       "1        10         7        10        10         0         8  ...   \n",
       "\n",
       "   nspecies_mar total_endemic_mar     Area_EEZ  \\\n",
       "0             0                 0          NaN   \n",
       "1           172                 0  1187.499037   \n",
       "\n",
       "                                     filter_Area_EEZ  \\\n",
       "0  [\"SRB\", \"SSD\", \"SVK\", \"SWZ\", \"SYR\", \"TCD\", \"TG...   \n",
       "1  [\"SVN\", \"MCO\", \"SXM\", \"SGP\", \"MAF\", \"IRQ\", \"JE...   \n",
       "\n",
       "                                  filter_Pop2020_EEZ  \\\n",
       "0  [\"LAO\", \"KGZ\", \"LIE\", \"SWZ\", \"SYR\", \"TCD\", \"TG...   \n",
       "1  [\"COD\", \"GRD\", \"MYT\", \"MTQ\", \"TON\", \"IRQ\", \"BE...   \n",
       "\n",
       "                                    filter_hm_vh_mar  \\\n",
       "0  [\"LAO\", \"KGZ\", \"LIE\", \"SWZ\", \"SYR\", \"TCD\", \"TG...   \n",
       "1  [\"POL\", \"ISR\", \"BIH\", \"SGP\", \"JOR\", \"IRQ\", \"JE...   \n",
       "\n",
       "                           filter_prop_protected_mar  \\\n",
       "0  [\"LAO\", \"KGZ\", \"LIE\", \"SWZ\", \"SYR\", \"TCD\", \"TG...   \n",
       "1  [\"STP\", \"BMU\", \"GUY\", \"PYF\", \"ISR\", \"IRQ\", \"SH...   \n",
       "\n",
       "                            filter_total_endemic_mar  \\\n",
       "0  [\"LAO\", \"KGZ\", \"LIE\", \"SWZ\", \"SYR\", \"TCD\", \"TG...   \n",
       "1  [\"IND\", \"BMU\", \"GUY\", \"PYF\", \"ISR\", \"IRQ\", \"SH...   \n",
       "\n",
       "                                 filter_nspecies_mar  \\\n",
       "0  [\"TCD\", \"WLF\", \"RWA\", \"PSE\", \"PRY\", \"NRU\", \"NP...   \n",
       "1  [\"GEO\", \"IND\", \"SJM\", \"ATA\", \"GRL\", \"IRQ\", \"BE...   \n",
       "\n",
       "                                      filter_SPI_mar  \n",
       "0  [\"TCD\", \"IRQ\", \"WSM\", \"CYM\", \"IND\", \"VGB\", \"AB...  \n",
       "1  [\"TCD\", \"IRQ\", \"WSM\", \"CYM\", \"IND\", \"VGB\", \"AB...  \n",
       "\n",
       "[2 rows x 60 columns]"
      ]
     },
     "execution_count": 102,
     "metadata": {},
     "output_type": "execute_result"
    }
   ],
   "source": [
    "df_sort.head(2)"
   ]
  },
  {
   "cell_type": "code",
   "execution_count": 103,
   "id": "bac5a5ea-9e42-415a-a608-bbd6f526079d",
   "metadata": {},
   "outputs": [
    {
     "data": {
      "text/plain": [
       "252"
      ]
     },
     "execution_count": 103,
     "metadata": {},
     "output_type": "execute_result"
    }
   ],
   "source": [
    "len(df_sort)"
   ]
  },
  {
   "cell_type": "code",
   "execution_count": 104,
   "id": "f204ae25-e0b0-4a2b-ac3f-665cc99dda34",
   "metadata": {},
   "outputs": [
    {
     "data": {
      "text/plain": [
       "181"
      ]
     },
     "execution_count": 104,
     "metadata": {},
     "output_type": "execute_result"
    }
   ],
   "source": [
    "df_sort = df_sort[df_sort['Area_EEZ']>0]\n",
    "len(df_sort)"
   ]
  },
  {
   "cell_type": "markdown",
   "id": "4a6f7472-2262-4741-bbfa-3387d45c8284",
   "metadata": {
    "tags": []
   },
   "source": [
    "### Get countries from same continent"
   ]
  },
  {
   "cell_type": "code",
   "execution_count": 105,
   "id": "bf6dcede-eb4a-49c0-8667-02ec778a1aa5",
   "metadata": {},
   "outputs": [
    {
     "data": {
      "text/plain": [
       "array(['Asia', 'Oceania', 'North America', 'Africa', 'Europe',\n",
       "       'South America', 'Antarctica'], dtype=object)"
      ]
     },
     "execution_count": 105,
     "metadata": {},
     "output_type": "execute_result"
    }
   ],
   "source": [
    "df_sort.continent.unique()"
   ]
  },
  {
   "cell_type": "code",
   "execution_count": 106,
   "id": "cf809126-75ad-4e42-be32-db65df489ce5",
   "metadata": {},
   "outputs": [],
   "source": [
    "continent_dict = {}"
   ]
  },
  {
   "cell_type": "code",
   "execution_count": 107,
   "id": "3b77cdb2-4af2-4930-a5f9-799c39f1e32d",
   "metadata": {},
   "outputs": [],
   "source": [
    "for continent in df_sort.continent.unique():\n",
    "    countries = df_sort.loc[df_sort['continent'] == continent].GID_0\n",
    "    continent_dict[continent] = countries.tolist()"
   ]
  },
  {
   "cell_type": "code",
   "execution_count": 108,
   "id": "393738c0-faf5-4919-bb83-26cc224b9b4f",
   "metadata": {},
   "outputs": [],
   "source": [
    "# Create same continent dictionary\n",
    "same_continent_dict = dict.fromkeys(df_sort.GID_0.unique())\n",
    "for key in same_continent_dict:\n",
    "    continent_name = df_sort.loc[df_sort['GID_0'] == key, \"continent\"].to_list()[0]\n",
    "    vals = continent_dict[continent_name]\n",
    "    same_continent_dict[key] = json.dumps(vals)"
   ]
  },
  {
   "cell_type": "code",
   "execution_count": 109,
   "id": "76a134d5-32d7-4524-a984-660ece1a7c94",
   "metadata": {},
   "outputs": [
    {
     "data": {
      "text/html": [
       "<div>\n",
       "<style scoped>\n",
       "    .dataframe tbody tr th:only-of-type {\n",
       "        vertical-align: middle;\n",
       "    }\n",
       "\n",
       "    .dataframe tbody tr th {\n",
       "        vertical-align: top;\n",
       "    }\n",
       "\n",
       "    .dataframe thead th {\n",
       "        text-align: right;\n",
       "    }\n",
       "</style>\n",
       "<table border=\"1\" class=\"dataframe\">\n",
       "  <thead>\n",
       "    <tr style=\"text-align: right;\">\n",
       "      <th></th>\n",
       "      <th>GID_0</th>\n",
       "      <th>filter_continent</th>\n",
       "    </tr>\n",
       "  </thead>\n",
       "  <tbody>\n",
       "    <tr>\n",
       "      <th>0</th>\n",
       "      <td>IRQ</td>\n",
       "      <td>[\"IRQ\", \"IND\", \"LBN\", \"PRK\", \"KWT\", \"YEM\", \"SG...</td>\n",
       "    </tr>\n",
       "    <tr>\n",
       "      <th>1</th>\n",
       "      <td>WSM</td>\n",
       "      <td>[\"WSM\", \"TKL\", \"VUT\", \"PYF\", \"FSM\", \"CCK\", \"TO...</td>\n",
       "    </tr>\n",
       "    <tr>\n",
       "      <th>2</th>\n",
       "      <td>CYM</td>\n",
       "      <td>[\"CYM\", \"VGB\", \"ABW\", \"LCA\", \"GRD\", \"SPM\", \"TT...</td>\n",
       "    </tr>\n",
       "    <tr>\n",
       "      <th>3</th>\n",
       "      <td>IND</td>\n",
       "      <td>[\"IRQ\", \"IND\", \"LBN\", \"PRK\", \"KWT\", \"YEM\", \"SG...</td>\n",
       "    </tr>\n",
       "    <tr>\n",
       "      <th>4</th>\n",
       "      <td>VGB</td>\n",
       "      <td>[\"CYM\", \"VGB\", \"ABW\", \"LCA\", \"GRD\", \"SPM\", \"TT...</td>\n",
       "    </tr>\n",
       "  </tbody>\n",
       "</table>\n",
       "</div>"
      ],
      "text/plain": [
       "  GID_0                                   filter_continent\n",
       "0   IRQ  [\"IRQ\", \"IND\", \"LBN\", \"PRK\", \"KWT\", \"YEM\", \"SG...\n",
       "1   WSM  [\"WSM\", \"TKL\", \"VUT\", \"PYF\", \"FSM\", \"CCK\", \"TO...\n",
       "2   CYM  [\"CYM\", \"VGB\", \"ABW\", \"LCA\", \"GRD\", \"SPM\", \"TT...\n",
       "3   IND  [\"IRQ\", \"IND\", \"LBN\", \"PRK\", \"KWT\", \"YEM\", \"SG...\n",
       "4   VGB  [\"CYM\", \"VGB\", \"ABW\", \"LCA\", \"GRD\", \"SPM\", \"TT..."
      ]
     },
     "execution_count": 109,
     "metadata": {},
     "output_type": "execute_result"
    }
   ],
   "source": [
    "# Convert to dataframe\n",
    "continent_df = pd.DataFrame(same_continent_dict.items(), columns = [\"GID_0\",\"filter_continent\"])\n",
    "continent_df.head()"
   ]
  },
  {
   "cell_type": "code",
   "execution_count": 110,
   "id": "a09d5b71-f378-405f-947a-4ddc5e0fe58c",
   "metadata": {},
   "outputs": [
    {
     "data": {
      "text/plain": [
       "(181, 2)"
      ]
     },
     "execution_count": 110,
     "metadata": {},
     "output_type": "execute_result"
    }
   ],
   "source": [
    "continent_df.shape"
   ]
  },
  {
   "cell_type": "code",
   "execution_count": 111,
   "id": "743f88cb-fc45-438e-a38e-d51ba7138447",
   "metadata": {},
   "outputs": [],
   "source": [
    "# Merge the 3 filters we have so far into one dataframe\n",
    "df_dict = pd.merge(left = continent_df, \n",
    "                   right = df_dict, left_on = \"GID_0\", right_on = \"GID_0\", how = \"left\")"
   ]
  },
  {
   "cell_type": "code",
   "execution_count": 112,
   "id": "89aef27c-9ad1-4ad8-8a09-478a8a3fedc1",
   "metadata": {},
   "outputs": [
    {
     "data": {
      "text/plain": [
       "(181, 4)"
      ]
     },
     "execution_count": 112,
     "metadata": {},
     "output_type": "execute_result"
    }
   ],
   "source": [
    "df_dict.shape"
   ]
  },
  {
   "cell_type": "code",
   "execution_count": 113,
   "id": "548c6624-131c-4210-bfd4-726a5801b54c",
   "metadata": {},
   "outputs": [
    {
     "data": {
      "text/html": [
       "<div>\n",
       "<style scoped>\n",
       "    .dataframe tbody tr th:only-of-type {\n",
       "        vertical-align: middle;\n",
       "    }\n",
       "\n",
       "    .dataframe tbody tr th {\n",
       "        vertical-align: top;\n",
       "    }\n",
       "\n",
       "    .dataframe thead th {\n",
       "        text-align: right;\n",
       "    }\n",
       "</style>\n",
       "<table border=\"1\" class=\"dataframe\">\n",
       "  <thead>\n",
       "    <tr style=\"text-align: right;\">\n",
       "      <th></th>\n",
       "      <th>GID_0</th>\n",
       "      <th>filter_continent</th>\n",
       "      <th>filter_neigh</th>\n",
       "      <th>filter_steward</th>\n",
       "    </tr>\n",
       "  </thead>\n",
       "  <tbody>\n",
       "    <tr>\n",
       "      <th>0</th>\n",
       "      <td>IRQ</td>\n",
       "      <td>[\"IRQ\", \"IND\", \"LBN\", \"PRK\", \"KWT\", \"YEM\", \"SG...</td>\n",
       "      <td>[\"KWT\", \"IRN\", \"QAT\", \"ARE\", \"SAU\", \"JOR\", \"LB...</td>\n",
       "      <td>[\"KWT\", \"SYC\", \"MDG\", \"MUS\", \"MOZ\", \"KEN\", \"TZ...</td>\n",
       "    </tr>\n",
       "    <tr>\n",
       "      <th>1</th>\n",
       "      <td>WSM</td>\n",
       "      <td>[\"WSM\", \"TKL\", \"VUT\", \"PYF\", \"FSM\", \"CCK\", \"TO...</td>\n",
       "      <td>[\"ASM\", \"TKL\", \"NIU\", \"TON\", \"COK\", \"VUT\", \"SL...</td>\n",
       "      <td>[\"AUS\", \"COK\", \"KIR\", \"USA\", \"NCL\", \"FJI\", \"TO...</td>\n",
       "    </tr>\n",
       "    <tr>\n",
       "      <th>2</th>\n",
       "      <td>CYM</td>\n",
       "      <td>[\"CYM\", \"VGB\", \"ABW\", \"LCA\", \"GRD\", \"SPM\", \"TT...</td>\n",
       "      <td>[\"CUB\", \"HND\", \"JAM\", \"BLZ\", \"NIC\", \"HTI\", \"BH...</td>\n",
       "      <td>[\"CUB\", \"HTI\", \"JAM\", \"DOM\", \"BHS\", \"MEX\", \"HN...</td>\n",
       "    </tr>\n",
       "    <tr>\n",
       "      <th>3</th>\n",
       "      <td>IND</td>\n",
       "      <td>[\"IRQ\", \"IND\", \"LBN\", \"PRK\", \"KWT\", \"YEM\", \"SG...</td>\n",
       "      <td>[\"LKA\", \"BGD\", \"MDV\", \"MMR\", \"PAK\", \"THA\", \"KH...</td>\n",
       "      <td>[\"IND\", \"MMR\", \"THA\", \"IDN\", \"MYS\", \"LKA\", \"VN...</td>\n",
       "    </tr>\n",
       "    <tr>\n",
       "      <th>4</th>\n",
       "      <td>VGB</td>\n",
       "      <td>[\"CYM\", \"VGB\", \"ABW\", \"LCA\", \"GRD\", \"SPM\", \"TT...</td>\n",
       "      <td>[\"AIA\", \"MAF\", \"SXM\", \"BLM\", \"PRI\", \"VIR\", \"KN...</td>\n",
       "      <td>[\"DOM\", \"PRI\", \"HTI\", \"CUB\", \"AIA\", \"VIR\", \"BL...</td>\n",
       "    </tr>\n",
       "  </tbody>\n",
       "</table>\n",
       "</div>"
      ],
      "text/plain": [
       "  GID_0                                   filter_continent  \\\n",
       "0   IRQ  [\"IRQ\", \"IND\", \"LBN\", \"PRK\", \"KWT\", \"YEM\", \"SG...   \n",
       "1   WSM  [\"WSM\", \"TKL\", \"VUT\", \"PYF\", \"FSM\", \"CCK\", \"TO...   \n",
       "2   CYM  [\"CYM\", \"VGB\", \"ABW\", \"LCA\", \"GRD\", \"SPM\", \"TT...   \n",
       "3   IND  [\"IRQ\", \"IND\", \"LBN\", \"PRK\", \"KWT\", \"YEM\", \"SG...   \n",
       "4   VGB  [\"CYM\", \"VGB\", \"ABW\", \"LCA\", \"GRD\", \"SPM\", \"TT...   \n",
       "\n",
       "                                        filter_neigh  \\\n",
       "0  [\"KWT\", \"IRN\", \"QAT\", \"ARE\", \"SAU\", \"JOR\", \"LB...   \n",
       "1  [\"ASM\", \"TKL\", \"NIU\", \"TON\", \"COK\", \"VUT\", \"SL...   \n",
       "2  [\"CUB\", \"HND\", \"JAM\", \"BLZ\", \"NIC\", \"HTI\", \"BH...   \n",
       "3  [\"LKA\", \"BGD\", \"MDV\", \"MMR\", \"PAK\", \"THA\", \"KH...   \n",
       "4  [\"AIA\", \"MAF\", \"SXM\", \"BLM\", \"PRI\", \"VIR\", \"KN...   \n",
       "\n",
       "                                      filter_steward  \n",
       "0  [\"KWT\", \"SYC\", \"MDG\", \"MUS\", \"MOZ\", \"KEN\", \"TZ...  \n",
       "1  [\"AUS\", \"COK\", \"KIR\", \"USA\", \"NCL\", \"FJI\", \"TO...  \n",
       "2  [\"CUB\", \"HTI\", \"JAM\", \"DOM\", \"BHS\", \"MEX\", \"HN...  \n",
       "3  [\"IND\", \"MMR\", \"THA\", \"IDN\", \"MYS\", \"LKA\", \"VN...  \n",
       "4  [\"DOM\", \"PRI\", \"HTI\", \"CUB\", \"AIA\", \"VIR\", \"BL...  "
      ]
     },
     "execution_count": 113,
     "metadata": {},
     "output_type": "execute_result"
    }
   ],
   "source": [
    "df_dict.head()"
   ]
  },
  {
   "cell_type": "code",
   "execution_count": 114,
   "id": "f3c96505-5c81-4731-9a44-4c10787b4247",
   "metadata": {},
   "outputs": [
    {
     "data": {
      "text/html": [
       "<div>\n",
       "<style scoped>\n",
       "    .dataframe tbody tr th:only-of-type {\n",
       "        vertical-align: middle;\n",
       "    }\n",
       "\n",
       "    .dataframe tbody tr th {\n",
       "        vertical-align: top;\n",
       "    }\n",
       "\n",
       "    .dataframe thead th {\n",
       "        text-align: right;\n",
       "    }\n",
       "</style>\n",
       "<table border=\"1\" class=\"dataframe\">\n",
       "  <thead>\n",
       "    <tr style=\"text-align: right;\">\n",
       "      <th></th>\n",
       "      <th>GID_0</th>\n",
       "      <th>filter_continent</th>\n",
       "      <th>filter_neigh</th>\n",
       "      <th>filter_steward</th>\n",
       "    </tr>\n",
       "  </thead>\n",
       "  <tbody>\n",
       "  </tbody>\n",
       "</table>\n",
       "</div>"
      ],
      "text/plain": [
       "Empty DataFrame\n",
       "Columns: [GID_0, filter_continent, filter_neigh, filter_steward]\n",
       "Index: []"
      ]
     },
     "execution_count": 114,
     "metadata": {},
     "output_type": "execute_result"
    }
   ],
   "source": [
    "df_dict[df_dict['filter_continent'].isnull()]"
   ]
  },
  {
   "cell_type": "markdown",
   "id": "d2b49c5a-53e4-403d-a6c2-9e68eaa2d6a1",
   "metadata": {},
   "source": [
    "### Create the `filter_similar_marine` field with all the filters together"
   ]
  },
  {
   "cell_type": "code",
   "execution_count": 115,
   "id": "7d03fc10-f5a6-4503-86c2-7dceee1356d0",
   "metadata": {},
   "outputs": [
    {
     "data": {
      "text/plain": [
       "['filter_Area_EEZ',\n",
       " 'filter_Pop2020_EEZ',\n",
       " 'filter_hm_vh_mar',\n",
       " 'filter_prop_protected_mar',\n",
       " 'filter_total_endemic_mar',\n",
       " 'filter_nspecies_mar',\n",
       " 'filter_SPI_mar']"
      ]
     },
     "execution_count": 115,
     "metadata": {},
     "output_type": "execute_result"
    }
   ],
   "source": [
    "new_fields"
   ]
  },
  {
   "cell_type": "code",
   "execution_count": 116,
   "id": "7f044444-28ef-4b58-911c-9d38c6524af6",
   "metadata": {},
   "outputs": [
    {
     "data": {
      "text/plain": [
       "['filter_Area_EEZ',\n",
       " 'filter_Pop2020_EEZ',\n",
       " 'filter_hm_vh_mar',\n",
       " 'filter_prop_protected_mar',\n",
       " 'filter_total_endemic_mar',\n",
       " 'filter_nspecies_mar',\n",
       " 'filter_SPI_mar',\n",
       " 'filter_neigh',\n",
       " 'filter_steward',\n",
       " 'filter_continent']"
      ]
     },
     "execution_count": 116,
     "metadata": {},
     "output_type": "execute_result"
    }
   ],
   "source": [
    "new_fields.append(\"filter_neigh\")\n",
    "new_fields.append(\"filter_steward\")\n",
    "new_fields.append(\"filter_continent\")\n",
    "new_fields"
   ]
  },
  {
   "cell_type": "code",
   "execution_count": 117,
   "id": "8633b19e-33e6-47a3-b41c-1b8effcedb2a",
   "metadata": {},
   "outputs": [
    {
     "data": {
      "text/plain": [
       "(181, 60)"
      ]
     },
     "execution_count": 117,
     "metadata": {},
     "output_type": "execute_result"
    }
   ],
   "source": [
    "df_sort.shape"
   ]
  },
  {
   "cell_type": "code",
   "execution_count": 118,
   "id": "1da44b55-5670-4bd8-8d76-dee93d1e504f",
   "metadata": {},
   "outputs": [
    {
     "data": {
      "text/html": [
       "<div>\n",
       "<style scoped>\n",
       "    .dataframe tbody tr th:only-of-type {\n",
       "        vertical-align: middle;\n",
       "    }\n",
       "\n",
       "    .dataframe tbody tr th {\n",
       "        vertical-align: top;\n",
       "    }\n",
       "\n",
       "    .dataframe thead th {\n",
       "        text-align: right;\n",
       "    }\n",
       "</style>\n",
       "<table border=\"1\" class=\"dataframe\">\n",
       "  <thead>\n",
       "    <tr style=\"text-align: right;\">\n",
       "      <th></th>\n",
       "      <th>GID_0</th>\n",
       "      <th>NAME_0</th>\n",
       "      <th>jpg_url</th>\n",
       "      <th>GNI_PPP</th>\n",
       "      <th>max_amph</th>\n",
       "      <th>max_bird</th>\n",
       "      <th>max_mamm</th>\n",
       "      <th>max_rept</th>\n",
       "      <th>max_cact</th>\n",
       "      <th>max_coni</th>\n",
       "      <th>...</th>\n",
       "      <th>nspecies_mar</th>\n",
       "      <th>total_endemic_mar</th>\n",
       "      <th>Area_EEZ</th>\n",
       "      <th>filter_Area_EEZ</th>\n",
       "      <th>filter_Pop2020_EEZ</th>\n",
       "      <th>filter_hm_vh_mar</th>\n",
       "      <th>filter_prop_protected_mar</th>\n",
       "      <th>filter_total_endemic_mar</th>\n",
       "      <th>filter_nspecies_mar</th>\n",
       "      <th>filter_SPI_mar</th>\n",
       "    </tr>\n",
       "  </thead>\n",
       "  <tbody>\n",
       "    <tr>\n",
       "      <th>1</th>\n",
       "      <td>IRQ</td>\n",
       "      <td>Iraq</td>\n",
       "      <td>https://upload.wikimedia.org/wikipedia/commons...</td>\n",
       "      <td>650.5</td>\n",
       "      <td>10</td>\n",
       "      <td>7</td>\n",
       "      <td>10</td>\n",
       "      <td>10</td>\n",
       "      <td>0</td>\n",
       "      <td>8</td>\n",
       "      <td>...</td>\n",
       "      <td>172</td>\n",
       "      <td>0</td>\n",
       "      <td>1187.499037</td>\n",
       "      <td>[\"SVN\", \"MCO\", \"SXM\", \"SGP\", \"MAF\", \"IRQ\", \"JE...</td>\n",
       "      <td>[\"COD\", \"GRD\", \"MYT\", \"MTQ\", \"TON\", \"IRQ\", \"BE...</td>\n",
       "      <td>[\"POL\", \"ISR\", \"BIH\", \"SGP\", \"JOR\", \"IRQ\", \"JE...</td>\n",
       "      <td>[\"STP\", \"BMU\", \"GUY\", \"PYF\", \"ISR\", \"IRQ\", \"SH...</td>\n",
       "      <td>[\"IND\", \"BMU\", \"GUY\", \"PYF\", \"ISR\", \"IRQ\", \"SH...</td>\n",
       "      <td>[\"GEO\", \"IND\", \"SJM\", \"ATA\", \"GRL\", \"IRQ\", \"BE...</td>\n",
       "      <td>[\"TCD\", \"IRQ\", \"WSM\", \"CYM\", \"IND\", \"VGB\", \"AB...</td>\n",
       "    </tr>\n",
       "  </tbody>\n",
       "</table>\n",
       "<p>1 rows × 60 columns</p>\n",
       "</div>"
      ],
      "text/plain": [
       "  GID_0 NAME_0                                            jpg_url  GNI_PPP  \\\n",
       "1   IRQ   Iraq  https://upload.wikimedia.org/wikipedia/commons...    650.5   \n",
       "\n",
       "   max_amph  max_bird  max_mamm  max_rept  max_cact  max_coni  ...  \\\n",
       "1        10         7        10        10         0         8  ...   \n",
       "\n",
       "   nspecies_mar total_endemic_mar     Area_EEZ  \\\n",
       "1           172                 0  1187.499037   \n",
       "\n",
       "                                     filter_Area_EEZ  \\\n",
       "1  [\"SVN\", \"MCO\", \"SXM\", \"SGP\", \"MAF\", \"IRQ\", \"JE...   \n",
       "\n",
       "                                  filter_Pop2020_EEZ  \\\n",
       "1  [\"COD\", \"GRD\", \"MYT\", \"MTQ\", \"TON\", \"IRQ\", \"BE...   \n",
       "\n",
       "                                    filter_hm_vh_mar  \\\n",
       "1  [\"POL\", \"ISR\", \"BIH\", \"SGP\", \"JOR\", \"IRQ\", \"JE...   \n",
       "\n",
       "                           filter_prop_protected_mar  \\\n",
       "1  [\"STP\", \"BMU\", \"GUY\", \"PYF\", \"ISR\", \"IRQ\", \"SH...   \n",
       "\n",
       "                            filter_total_endemic_mar  \\\n",
       "1  [\"IND\", \"BMU\", \"GUY\", \"PYF\", \"ISR\", \"IRQ\", \"SH...   \n",
       "\n",
       "                                 filter_nspecies_mar  \\\n",
       "1  [\"GEO\", \"IND\", \"SJM\", \"ATA\", \"GRL\", \"IRQ\", \"BE...   \n",
       "\n",
       "                                      filter_SPI_mar  \n",
       "1  [\"TCD\", \"IRQ\", \"WSM\", \"CYM\", \"IND\", \"VGB\", \"AB...  \n",
       "\n",
       "[1 rows x 60 columns]"
      ]
     },
     "execution_count": 118,
     "metadata": {},
     "output_type": "execute_result"
    }
   ],
   "source": [
    "df_sort.head(1)"
   ]
  },
  {
   "cell_type": "code",
   "execution_count": 119,
   "id": "0899d5d7-3bac-4430-b9cd-47809a8d69f9",
   "metadata": {},
   "outputs": [
    {
     "data": {
      "text/html": [
       "<div>\n",
       "<style scoped>\n",
       "    .dataframe tbody tr th:only-of-type {\n",
       "        vertical-align: middle;\n",
       "    }\n",
       "\n",
       "    .dataframe tbody tr th {\n",
       "        vertical-align: top;\n",
       "    }\n",
       "\n",
       "    .dataframe thead th {\n",
       "        text-align: right;\n",
       "    }\n",
       "</style>\n",
       "<table border=\"1\" class=\"dataframe\">\n",
       "  <thead>\n",
       "    <tr style=\"text-align: right;\">\n",
       "      <th></th>\n",
       "      <th>GID_0</th>\n",
       "      <th>NAME_0</th>\n",
       "      <th>jpg_url</th>\n",
       "      <th>GNI_PPP</th>\n",
       "      <th>max_amph</th>\n",
       "      <th>max_bird</th>\n",
       "      <th>max_mamm</th>\n",
       "      <th>max_rept</th>\n",
       "      <th>max_cact</th>\n",
       "      <th>max_coni</th>\n",
       "      <th>...</th>\n",
       "      <th>filter_Area_EEZ</th>\n",
       "      <th>filter_Pop2020_EEZ</th>\n",
       "      <th>filter_hm_vh_mar</th>\n",
       "      <th>filter_prop_protected_mar</th>\n",
       "      <th>filter_total_endemic_mar</th>\n",
       "      <th>filter_nspecies_mar</th>\n",
       "      <th>filter_SPI_mar</th>\n",
       "      <th>filter_continent</th>\n",
       "      <th>filter_neigh</th>\n",
       "      <th>filter_steward</th>\n",
       "    </tr>\n",
       "  </thead>\n",
       "  <tbody>\n",
       "    <tr>\n",
       "      <th>0</th>\n",
       "      <td>IRQ</td>\n",
       "      <td>Iraq</td>\n",
       "      <td>https://upload.wikimedia.org/wikipedia/commons...</td>\n",
       "      <td>650.5</td>\n",
       "      <td>10</td>\n",
       "      <td>7</td>\n",
       "      <td>10</td>\n",
       "      <td>10</td>\n",
       "      <td>0</td>\n",
       "      <td>8</td>\n",
       "      <td>...</td>\n",
       "      <td>[\"SVN\", \"MCO\", \"SXM\", \"SGP\", \"MAF\", \"IRQ\", \"JE...</td>\n",
       "      <td>[\"COD\", \"GRD\", \"MYT\", \"MTQ\", \"TON\", \"IRQ\", \"BE...</td>\n",
       "      <td>[\"POL\", \"ISR\", \"BIH\", \"SGP\", \"JOR\", \"IRQ\", \"JE...</td>\n",
       "      <td>[\"STP\", \"BMU\", \"GUY\", \"PYF\", \"ISR\", \"IRQ\", \"SH...</td>\n",
       "      <td>[\"IND\", \"BMU\", \"GUY\", \"PYF\", \"ISR\", \"IRQ\", \"SH...</td>\n",
       "      <td>[\"GEO\", \"IND\", \"SJM\", \"ATA\", \"GRL\", \"IRQ\", \"BE...</td>\n",
       "      <td>[\"TCD\", \"IRQ\", \"WSM\", \"CYM\", \"IND\", \"VGB\", \"AB...</td>\n",
       "      <td>[\"IRQ\", \"IND\", \"LBN\", \"PRK\", \"KWT\", \"YEM\", \"SG...</td>\n",
       "      <td>[\"KWT\", \"IRN\", \"QAT\", \"ARE\", \"SAU\", \"JOR\", \"LB...</td>\n",
       "      <td>[\"KWT\", \"SYC\", \"MDG\", \"MUS\", \"MOZ\", \"KEN\", \"TZ...</td>\n",
       "    </tr>\n",
       "    <tr>\n",
       "      <th>1</th>\n",
       "      <td>WSM</td>\n",
       "      <td>Samoa</td>\n",
       "      <td>https://upload.wikimedia.org/wikipedia/commons...</td>\n",
       "      <td>1.2</td>\n",
       "      <td>0</td>\n",
       "      <td>10</td>\n",
       "      <td>10</td>\n",
       "      <td>10</td>\n",
       "      <td>0</td>\n",
       "      <td>0</td>\n",
       "      <td>...</td>\n",
       "      <td>[\"ATG\", \"BGD\", \"PRK\", \"HTI\", \"CYM\", \"WSM\", \"DZ...</td>\n",
       "      <td>[\"FSM\", \"KNA\", \"ATG\", \"SUR\", \"VIR\", \"WSM\", \"JE...</td>\n",
       "      <td>[\"LBR\", \"GTM\", \"MDV\", \"ZAF\", \"GLP\", \"WSM\", \"CH...</td>\n",
       "      <td>[\"CCK\", \"QAT\", \"BRN\", \"LBN\", \"DZA\", \"WSM\", \"TU...</td>\n",
       "      <td>[\"CCK\", \"QAT\", \"BRN\", \"LBN\", \"DZA\", \"WSM\", \"TU...</td>\n",
       "      <td>[\"BES\", \"DOM\", \"CUB\", \"BHS\", \"VEN\", \"WSM\", \"OM...</td>\n",
       "      <td>[\"TCD\", \"IRQ\", \"WSM\", \"CYM\", \"IND\", \"VGB\", \"AB...</td>\n",
       "      <td>[\"WSM\", \"TKL\", \"VUT\", \"PYF\", \"FSM\", \"CCK\", \"TO...</td>\n",
       "      <td>[\"ASM\", \"TKL\", \"NIU\", \"TON\", \"COK\", \"VUT\", \"SL...</td>\n",
       "      <td>[\"AUS\", \"COK\", \"KIR\", \"USA\", \"NCL\", \"FJI\", \"TO...</td>\n",
       "    </tr>\n",
       "  </tbody>\n",
       "</table>\n",
       "<p>2 rows × 63 columns</p>\n",
       "</div>"
      ],
      "text/plain": [
       "  GID_0 NAME_0                                            jpg_url  GNI_PPP  \\\n",
       "0   IRQ   Iraq  https://upload.wikimedia.org/wikipedia/commons...    650.5   \n",
       "1   WSM  Samoa  https://upload.wikimedia.org/wikipedia/commons...      1.2   \n",
       "\n",
       "   max_amph  max_bird  max_mamm  max_rept  max_cact  max_coni  ...  \\\n",
       "0        10         7        10        10         0         8  ...   \n",
       "1         0        10        10        10         0         0  ...   \n",
       "\n",
       "                                     filter_Area_EEZ  \\\n",
       "0  [\"SVN\", \"MCO\", \"SXM\", \"SGP\", \"MAF\", \"IRQ\", \"JE...   \n",
       "1  [\"ATG\", \"BGD\", \"PRK\", \"HTI\", \"CYM\", \"WSM\", \"DZ...   \n",
       "\n",
       "                                  filter_Pop2020_EEZ  \\\n",
       "0  [\"COD\", \"GRD\", \"MYT\", \"MTQ\", \"TON\", \"IRQ\", \"BE...   \n",
       "1  [\"FSM\", \"KNA\", \"ATG\", \"SUR\", \"VIR\", \"WSM\", \"JE...   \n",
       "\n",
       "                                    filter_hm_vh_mar  \\\n",
       "0  [\"POL\", \"ISR\", \"BIH\", \"SGP\", \"JOR\", \"IRQ\", \"JE...   \n",
       "1  [\"LBR\", \"GTM\", \"MDV\", \"ZAF\", \"GLP\", \"WSM\", \"CH...   \n",
       "\n",
       "                           filter_prop_protected_mar  \\\n",
       "0  [\"STP\", \"BMU\", \"GUY\", \"PYF\", \"ISR\", \"IRQ\", \"SH...   \n",
       "1  [\"CCK\", \"QAT\", \"BRN\", \"LBN\", \"DZA\", \"WSM\", \"TU...   \n",
       "\n",
       "                            filter_total_endemic_mar  \\\n",
       "0  [\"IND\", \"BMU\", \"GUY\", \"PYF\", \"ISR\", \"IRQ\", \"SH...   \n",
       "1  [\"CCK\", \"QAT\", \"BRN\", \"LBN\", \"DZA\", \"WSM\", \"TU...   \n",
       "\n",
       "                                 filter_nspecies_mar  \\\n",
       "0  [\"GEO\", \"IND\", \"SJM\", \"ATA\", \"GRL\", \"IRQ\", \"BE...   \n",
       "1  [\"BES\", \"DOM\", \"CUB\", \"BHS\", \"VEN\", \"WSM\", \"OM...   \n",
       "\n",
       "                                      filter_SPI_mar  \\\n",
       "0  [\"TCD\", \"IRQ\", \"WSM\", \"CYM\", \"IND\", \"VGB\", \"AB...   \n",
       "1  [\"TCD\", \"IRQ\", \"WSM\", \"CYM\", \"IND\", \"VGB\", \"AB...   \n",
       "\n",
       "                                    filter_continent  \\\n",
       "0  [\"IRQ\", \"IND\", \"LBN\", \"PRK\", \"KWT\", \"YEM\", \"SG...   \n",
       "1  [\"WSM\", \"TKL\", \"VUT\", \"PYF\", \"FSM\", \"CCK\", \"TO...   \n",
       "\n",
       "                                        filter_neigh  \\\n",
       "0  [\"KWT\", \"IRN\", \"QAT\", \"ARE\", \"SAU\", \"JOR\", \"LB...   \n",
       "1  [\"ASM\", \"TKL\", \"NIU\", \"TON\", \"COK\", \"VUT\", \"SL...   \n",
       "\n",
       "                                      filter_steward  \n",
       "0  [\"KWT\", \"SYC\", \"MDG\", \"MUS\", \"MOZ\", \"KEN\", \"TZ...  \n",
       "1  [\"AUS\", \"COK\", \"KIR\", \"USA\", \"NCL\", \"FJI\", \"TO...  \n",
       "\n",
       "[2 rows x 63 columns]"
      ]
     },
     "execution_count": 119,
     "metadata": {},
     "output_type": "execute_result"
    }
   ],
   "source": [
    "df_filter = pd.merge(left = df_sort, right = df_dict, left_on = \"GID_0\", right_on = \"GID_0\", how = \"left\")\n",
    "df_filter.head(2)"
   ]
  },
  {
   "cell_type": "code",
   "execution_count": 120,
   "id": "33d35c63-db82-4e79-bbf7-e0e377cda05d",
   "metadata": {},
   "outputs": [
    {
     "data": {
      "text/plain": [
       "(181, 63)"
      ]
     },
     "execution_count": 120,
     "metadata": {},
     "output_type": "execute_result"
    }
   ],
   "source": [
    "df_filter.shape"
   ]
  },
  {
   "cell_type": "code",
   "execution_count": 121,
   "id": "88215c2a-bafb-44c4-a080-92dfc78dc9e2",
   "metadata": {},
   "outputs": [
    {
     "data": {
      "text/html": [
       "<div>\n",
       "<style scoped>\n",
       "    .dataframe tbody tr th:only-of-type {\n",
       "        vertical-align: middle;\n",
       "    }\n",
       "\n",
       "    .dataframe tbody tr th {\n",
       "        vertical-align: top;\n",
       "    }\n",
       "\n",
       "    .dataframe thead th {\n",
       "        text-align: right;\n",
       "    }\n",
       "</style>\n",
       "<table border=\"1\" class=\"dataframe\">\n",
       "  <thead>\n",
       "    <tr style=\"text-align: right;\">\n",
       "      <th></th>\n",
       "      <th>GID_0</th>\n",
       "      <th>NAME_0</th>\n",
       "      <th>jpg_url</th>\n",
       "      <th>GNI_PPP</th>\n",
       "      <th>max_amph</th>\n",
       "      <th>max_bird</th>\n",
       "      <th>max_mamm</th>\n",
       "      <th>max_rept</th>\n",
       "      <th>max_cact</th>\n",
       "      <th>max_coni</th>\n",
       "      <th>...</th>\n",
       "      <th>filter_Pop2020_EEZ</th>\n",
       "      <th>filter_hm_vh_mar</th>\n",
       "      <th>filter_prop_protected_mar</th>\n",
       "      <th>filter_total_endemic_mar</th>\n",
       "      <th>filter_nspecies_mar</th>\n",
       "      <th>filter_SPI_mar</th>\n",
       "      <th>filter_continent</th>\n",
       "      <th>filter_neigh</th>\n",
       "      <th>filter_steward</th>\n",
       "      <th>filter_similar_mar</th>\n",
       "    </tr>\n",
       "  </thead>\n",
       "  <tbody>\n",
       "    <tr>\n",
       "      <th>0</th>\n",
       "      <td>IRQ</td>\n",
       "      <td>Iraq</td>\n",
       "      <td>https://upload.wikimedia.org/wikipedia/commons...</td>\n",
       "      <td>650.5</td>\n",
       "      <td>10</td>\n",
       "      <td>7</td>\n",
       "      <td>10</td>\n",
       "      <td>10</td>\n",
       "      <td>0</td>\n",
       "      <td>8</td>\n",
       "      <td>...</td>\n",
       "      <td>[\"COD\", \"GRD\", \"MYT\", \"MTQ\", \"TON\", \"IRQ\", \"BE...</td>\n",
       "      <td>[\"POL\", \"ISR\", \"BIH\", \"SGP\", \"JOR\", \"IRQ\", \"JE...</td>\n",
       "      <td>[\"STP\", \"BMU\", \"GUY\", \"PYF\", \"ISR\", \"IRQ\", \"SH...</td>\n",
       "      <td>[\"IND\", \"BMU\", \"GUY\", \"PYF\", \"ISR\", \"IRQ\", \"SH...</td>\n",
       "      <td>[\"GEO\", \"IND\", \"SJM\", \"ATA\", \"GRL\", \"IRQ\", \"BE...</td>\n",
       "      <td>[\"TCD\", \"IRQ\", \"WSM\", \"CYM\", \"IND\", \"VGB\", \"AB...</td>\n",
       "      <td>[\"IRQ\", \"IND\", \"LBN\", \"PRK\", \"KWT\", \"YEM\", \"SG...</td>\n",
       "      <td>[\"KWT\", \"IRN\", \"QAT\", \"ARE\", \"SAU\", \"JOR\", \"LB...</td>\n",
       "      <td>[\"KWT\", \"SYC\", \"MDG\", \"MUS\", \"MOZ\", \"KEN\", \"TZ...</td>\n",
       "      <td>{\"filter_Area_EEZ\": [\"SVN\", \"MCO\", \"SXM\", \"SGP...</td>\n",
       "    </tr>\n",
       "    <tr>\n",
       "      <th>1</th>\n",
       "      <td>WSM</td>\n",
       "      <td>Samoa</td>\n",
       "      <td>https://upload.wikimedia.org/wikipedia/commons...</td>\n",
       "      <td>1.2</td>\n",
       "      <td>0</td>\n",
       "      <td>10</td>\n",
       "      <td>10</td>\n",
       "      <td>10</td>\n",
       "      <td>0</td>\n",
       "      <td>0</td>\n",
       "      <td>...</td>\n",
       "      <td>[\"FSM\", \"KNA\", \"ATG\", \"SUR\", \"VIR\", \"WSM\", \"JE...</td>\n",
       "      <td>[\"LBR\", \"GTM\", \"MDV\", \"ZAF\", \"GLP\", \"WSM\", \"CH...</td>\n",
       "      <td>[\"CCK\", \"QAT\", \"BRN\", \"LBN\", \"DZA\", \"WSM\", \"TU...</td>\n",
       "      <td>[\"CCK\", \"QAT\", \"BRN\", \"LBN\", \"DZA\", \"WSM\", \"TU...</td>\n",
       "      <td>[\"BES\", \"DOM\", \"CUB\", \"BHS\", \"VEN\", \"WSM\", \"OM...</td>\n",
       "      <td>[\"TCD\", \"IRQ\", \"WSM\", \"CYM\", \"IND\", \"VGB\", \"AB...</td>\n",
       "      <td>[\"WSM\", \"TKL\", \"VUT\", \"PYF\", \"FSM\", \"CCK\", \"TO...</td>\n",
       "      <td>[\"ASM\", \"TKL\", \"NIU\", \"TON\", \"COK\", \"VUT\", \"SL...</td>\n",
       "      <td>[\"AUS\", \"COK\", \"KIR\", \"USA\", \"NCL\", \"FJI\", \"TO...</td>\n",
       "      <td>{\"filter_Area_EEZ\": [\"ATG\", \"BGD\", \"PRK\", \"HTI...</td>\n",
       "    </tr>\n",
       "  </tbody>\n",
       "</table>\n",
       "<p>2 rows × 64 columns</p>\n",
       "</div>"
      ],
      "text/plain": [
       "  GID_0 NAME_0                                            jpg_url  GNI_PPP  \\\n",
       "0   IRQ   Iraq  https://upload.wikimedia.org/wikipedia/commons...    650.5   \n",
       "1   WSM  Samoa  https://upload.wikimedia.org/wikipedia/commons...      1.2   \n",
       "\n",
       "   max_amph  max_bird  max_mamm  max_rept  max_cact  max_coni  ...  \\\n",
       "0        10         7        10        10         0         8  ...   \n",
       "1         0        10        10        10         0         0  ...   \n",
       "\n",
       "                                  filter_Pop2020_EEZ  \\\n",
       "0  [\"COD\", \"GRD\", \"MYT\", \"MTQ\", \"TON\", \"IRQ\", \"BE...   \n",
       "1  [\"FSM\", \"KNA\", \"ATG\", \"SUR\", \"VIR\", \"WSM\", \"JE...   \n",
       "\n",
       "                                    filter_hm_vh_mar  \\\n",
       "0  [\"POL\", \"ISR\", \"BIH\", \"SGP\", \"JOR\", \"IRQ\", \"JE...   \n",
       "1  [\"LBR\", \"GTM\", \"MDV\", \"ZAF\", \"GLP\", \"WSM\", \"CH...   \n",
       "\n",
       "                           filter_prop_protected_mar  \\\n",
       "0  [\"STP\", \"BMU\", \"GUY\", \"PYF\", \"ISR\", \"IRQ\", \"SH...   \n",
       "1  [\"CCK\", \"QAT\", \"BRN\", \"LBN\", \"DZA\", \"WSM\", \"TU...   \n",
       "\n",
       "                            filter_total_endemic_mar  \\\n",
       "0  [\"IND\", \"BMU\", \"GUY\", \"PYF\", \"ISR\", \"IRQ\", \"SH...   \n",
       "1  [\"CCK\", \"QAT\", \"BRN\", \"LBN\", \"DZA\", \"WSM\", \"TU...   \n",
       "\n",
       "                                 filter_nspecies_mar  \\\n",
       "0  [\"GEO\", \"IND\", \"SJM\", \"ATA\", \"GRL\", \"IRQ\", \"BE...   \n",
       "1  [\"BES\", \"DOM\", \"CUB\", \"BHS\", \"VEN\", \"WSM\", \"OM...   \n",
       "\n",
       "                                      filter_SPI_mar  \\\n",
       "0  [\"TCD\", \"IRQ\", \"WSM\", \"CYM\", \"IND\", \"VGB\", \"AB...   \n",
       "1  [\"TCD\", \"IRQ\", \"WSM\", \"CYM\", \"IND\", \"VGB\", \"AB...   \n",
       "\n",
       "                                    filter_continent  \\\n",
       "0  [\"IRQ\", \"IND\", \"LBN\", \"PRK\", \"KWT\", \"YEM\", \"SG...   \n",
       "1  [\"WSM\", \"TKL\", \"VUT\", \"PYF\", \"FSM\", \"CCK\", \"TO...   \n",
       "\n",
       "                                        filter_neigh  \\\n",
       "0  [\"KWT\", \"IRN\", \"QAT\", \"ARE\", \"SAU\", \"JOR\", \"LB...   \n",
       "1  [\"ASM\", \"TKL\", \"NIU\", \"TON\", \"COK\", \"VUT\", \"SL...   \n",
       "\n",
       "                                      filter_steward  \\\n",
       "0  [\"KWT\", \"SYC\", \"MDG\", \"MUS\", \"MOZ\", \"KEN\", \"TZ...   \n",
       "1  [\"AUS\", \"COK\", \"KIR\", \"USA\", \"NCL\", \"FJI\", \"TO...   \n",
       "\n",
       "                                  filter_similar_mar  \n",
       "0  {\"filter_Area_EEZ\": [\"SVN\", \"MCO\", \"SXM\", \"SGP...  \n",
       "1  {\"filter_Area_EEZ\": [\"ATG\", \"BGD\", \"PRK\", \"HTI...  \n",
       "\n",
       "[2 rows x 64 columns]"
      ]
     },
     "execution_count": 121,
     "metadata": {},
     "output_type": "execute_result"
    }
   ],
   "source": [
    "similar_list = []\n",
    "for index, i in df_filter.iterrows():\n",
    "    filter_dict = i[new_fields].to_dict()   \n",
    "    vals = json.dumps(filter_dict).replace('NaN','\"NaN\"').replace('\"[', '[').replace(']\"', ']').replace('\\\\', '')\n",
    "    similar_list.append(vals)\n",
    "    #similar_list.append(json.loads(json.dumps(filter_dict)))    \n",
    "df_filter['filter_similar_mar'] = similar_list\n",
    "df_filter.head(2)"
   ]
  },
  {
   "cell_type": "code",
   "execution_count": 122,
   "id": "2c2e8a42-4b19-4854-93d6-6b3dc36704f6",
   "metadata": {},
   "outputs": [],
   "source": [
    "df_merge = df_filter[[\"GID_0\", \"filter_similar_mar\"]]"
   ]
  },
  {
   "cell_type": "code",
   "execution_count": 123,
   "id": "e583681c-c64e-4039-b66b-737a7ef1cb05",
   "metadata": {},
   "outputs": [
    {
     "data": {
      "text/plain": [
       "(181, 2)"
      ]
     },
     "execution_count": 123,
     "metadata": {},
     "output_type": "execute_result"
    }
   ],
   "source": [
    "df_merge.shape"
   ]
  },
  {
   "cell_type": "code",
   "execution_count": 124,
   "id": "6ce0d312-1f9a-440f-b18f-823ccd0be192",
   "metadata": {},
   "outputs": [
    {
     "data": {
      "text/html": [
       "<div>\n",
       "<style scoped>\n",
       "    .dataframe tbody tr th:only-of-type {\n",
       "        vertical-align: middle;\n",
       "    }\n",
       "\n",
       "    .dataframe tbody tr th {\n",
       "        vertical-align: top;\n",
       "    }\n",
       "\n",
       "    .dataframe thead th {\n",
       "        text-align: right;\n",
       "    }\n",
       "</style>\n",
       "<table border=\"1\" class=\"dataframe\">\n",
       "  <thead>\n",
       "    <tr style=\"text-align: right;\">\n",
       "      <th></th>\n",
       "      <th>GID_0</th>\n",
       "      <th>filter_similar_mar</th>\n",
       "    </tr>\n",
       "  </thead>\n",
       "  <tbody>\n",
       "    <tr>\n",
       "      <th>0</th>\n",
       "      <td>IRQ</td>\n",
       "      <td>{\"filter_Area_EEZ\": [\"SVN\", \"MCO\", \"SXM\", \"SGP...</td>\n",
       "    </tr>\n",
       "    <tr>\n",
       "      <th>1</th>\n",
       "      <td>WSM</td>\n",
       "      <td>{\"filter_Area_EEZ\": [\"ATG\", \"BGD\", \"PRK\", \"HTI...</td>\n",
       "    </tr>\n",
       "  </tbody>\n",
       "</table>\n",
       "</div>"
      ],
      "text/plain": [
       "  GID_0                                 filter_similar_mar\n",
       "0   IRQ  {\"filter_Area_EEZ\": [\"SVN\", \"MCO\", \"SXM\", \"SGP...\n",
       "1   WSM  {\"filter_Area_EEZ\": [\"ATG\", \"BGD\", \"PRK\", \"HTI..."
      ]
     },
     "execution_count": 124,
     "metadata": {},
     "output_type": "execute_result"
    }
   ],
   "source": [
    "df_merge.head(2)"
   ]
  },
  {
   "cell_type": "code",
   "execution_count": 125,
   "id": "01c358cb-b95f-42f1-be2e-1f5bb2890572",
   "metadata": {},
   "outputs": [
    {
     "data": {
      "text/plain": [
       "Index(['GID_0', 'NAME_0', 'jpg_url', 'GNI_PPP', 'max_amph', 'max_bird',\n",
       "       'max_mamm', 'max_rept', 'max_cact', 'max_coni', 'max_all', 'sentence',\n",
       "       'Average SPI', 'GlobalID', 'continent', 'has_priority', 'has_raisg',\n",
       "       'Area_Country', 'protection_needed_ter', 'iso2', 'max_highlited_sp',\n",
       "       'x', 'y', 'hm_ter', 'hm_no_ter', 'hm_vh_ter', 'Pop2020', 'SPI_ter',\n",
       "       'prop_protected_ter', 'amphibians', 'birds', 'mammals', 'reptiles',\n",
       "       'endemic_amphibians', 'endemic_birds', 'endemic_mammals',\n",
       "       'endemic_reptiles', 'nspecies_ter', 'total_endemic_ter',\n",
       "       'filter_similar_ter', 'Pop2020_EEZ', 'SPI_mar', 'prop_protected_mar',\n",
       "       'hm_no_mar', 'hm_mar', 'hm_vh_mar', 'mammals_mar', 'fishes_mar',\n",
       "       'endemic_mammals_mar', 'endemic_fishes_mar', 'nspecies_mar',\n",
       "       'total_endemic_mar', 'Area_EEZ'],\n",
       "      dtype='object')"
      ]
     },
     "execution_count": 125,
     "metadata": {},
     "output_type": "execute_result"
    }
   ],
   "source": [
    "df.columns"
   ]
  },
  {
   "cell_type": "code",
   "execution_count": 126,
   "id": "07e333cd-31c5-4545-bd38-0890871ae5bb",
   "metadata": {},
   "outputs": [
    {
     "data": {
      "text/html": [
       "<div>\n",
       "<style scoped>\n",
       "    .dataframe tbody tr th:only-of-type {\n",
       "        vertical-align: middle;\n",
       "    }\n",
       "\n",
       "    .dataframe tbody tr th {\n",
       "        vertical-align: top;\n",
       "    }\n",
       "\n",
       "    .dataframe thead th {\n",
       "        text-align: right;\n",
       "    }\n",
       "</style>\n",
       "<table border=\"1\" class=\"dataframe\">\n",
       "  <thead>\n",
       "    <tr style=\"text-align: right;\">\n",
       "      <th></th>\n",
       "      <th>GID_0</th>\n",
       "      <th>NAME_0</th>\n",
       "      <th>jpg_url</th>\n",
       "      <th>GNI_PPP</th>\n",
       "      <th>max_amph</th>\n",
       "      <th>max_bird</th>\n",
       "      <th>max_mamm</th>\n",
       "      <th>max_rept</th>\n",
       "      <th>max_cact</th>\n",
       "      <th>max_coni</th>\n",
       "      <th>...</th>\n",
       "      <th>hm_mar</th>\n",
       "      <th>hm_vh_mar</th>\n",
       "      <th>mammals_mar</th>\n",
       "      <th>fishes_mar</th>\n",
       "      <th>endemic_mammals_mar</th>\n",
       "      <th>endemic_fishes_mar</th>\n",
       "      <th>nspecies_mar</th>\n",
       "      <th>total_endemic_mar</th>\n",
       "      <th>Area_EEZ</th>\n",
       "      <th>filter_similar_mar</th>\n",
       "    </tr>\n",
       "  </thead>\n",
       "  <tbody>\n",
       "    <tr>\n",
       "      <th>0</th>\n",
       "      <td>ABW</td>\n",
       "      <td>Aruba</td>\n",
       "      <td>https://live.staticflickr.com/1952/31416683438...</td>\n",
       "      <td>3.9</td>\n",
       "      <td>3</td>\n",
       "      <td>1</td>\n",
       "      <td>10</td>\n",
       "      <td>10</td>\n",
       "      <td>10</td>\n",
       "      <td>0</td>\n",
       "      <td>...</td>\n",
       "      <td>78.30475</td>\n",
       "      <td>21.69525</td>\n",
       "      <td>19</td>\n",
       "      <td>1466</td>\n",
       "      <td>0</td>\n",
       "      <td>0</td>\n",
       "      <td>1485</td>\n",
       "      <td>0</td>\n",
       "      <td>29970.299588</td>\n",
       "      <td>{\"filter_Area_EEZ\": [\"CUW\", \"GRD\", \"LVA\", \"DMA...</td>\n",
       "    </tr>\n",
       "  </tbody>\n",
       "</table>\n",
       "<p>1 rows × 54 columns</p>\n",
       "</div>"
      ],
      "text/plain": [
       "  GID_0 NAME_0                                            jpg_url  GNI_PPP  \\\n",
       "0   ABW  Aruba  https://live.staticflickr.com/1952/31416683438...      3.9   \n",
       "\n",
       "   max_amph  max_bird  max_mamm  max_rept  max_cact  max_coni  ...    hm_mar  \\\n",
       "0         3         1        10        10        10         0  ...  78.30475   \n",
       "\n",
       "  hm_vh_mar  mammals_mar fishes_mar endemic_mammals_mar  endemic_fishes_mar  \\\n",
       "0  21.69525           19       1466                   0                   0   \n",
       "\n",
       "   nspecies_mar  total_endemic_mar      Area_EEZ  \\\n",
       "0          1485                  0  29970.299588   \n",
       "\n",
       "                                  filter_similar_mar  \n",
       "0  {\"filter_Area_EEZ\": [\"CUW\", \"GRD\", \"LVA\", \"DMA...  \n",
       "\n",
       "[1 rows x 54 columns]"
      ]
     },
     "execution_count": 126,
     "metadata": {},
     "output_type": "execute_result"
    }
   ],
   "source": [
    "df = pd.merge(left = df, right = df_merge, left_on = \"GID_0\", right_on = \"GID_0\", how = \"left\")\n",
    "df.head(1)"
   ]
  },
  {
   "cell_type": "code",
   "execution_count": 127,
   "id": "c37215cc-39c8-49c2-ae4a-a4fdfd20cfb4",
   "metadata": {},
   "outputs": [],
   "source": [
    "df.to_csv(f'{path}/NRC_Marine_20220413.csv')"
   ]
  }
 ],
 "metadata": {
  "kernelspec": {
   "display_name": "Python 3 (ipykernel)",
   "language": "python",
   "name": "python3"
  },
  "language_info": {
   "codemirror_mode": {
    "name": "ipython",
    "version": 3
   },
   "file_extension": ".py",
   "mimetype": "text/x-python",
   "name": "python",
   "nbconvert_exporter": "python",
   "pygments_lexer": "ipython3",
   "version": "3.8.12"
  }
 },
 "nbformat": 4,
 "nbformat_minor": 5
}
