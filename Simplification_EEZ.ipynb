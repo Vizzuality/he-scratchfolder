{
 "cells": [
  {
   "cell_type": "markdown",
   "id": "629437e7-cf83-4760-b27d-e50eec954e80",
   "metadata": {},
   "source": [
    "## Notebook to simplify EEZ geometries"
   ]
  },
  {
   "cell_type": "code",
   "execution_count": null,
   "id": "6598b5a6-f106-4ae8-b6cf-64e1f5b7e3c4",
   "metadata": {},
   "outputs": [],
   "source": [
    "import geopandas as gpd\n",
    "import matplotlib.pyplot as plt\n",
    "import pandas\n",
    "import os\n",
    "import json\n",
    "# from pandarallel import pandarallel\n",
    "# import topojson as tp\n",
    "from zipfile import ZipFile"
   ]
  },
  {
   "cell_type": "code",
   "execution_count": null,
   "id": "eccf8cb1-1167-4581-a25f-f2e76ede55bc",
   "metadata": {},
   "outputs": [],
   "source": [
    "merge = gpd.read_file('/Users/sofia/Documents/HE_Data/NRC/NRC_Marine/EEZ_boundaries/EEZ_boundaries.shp')\n",
    "len(merge)"
   ]
  },
  {
   "cell_type": "code",
   "execution_count": null,
   "id": "cb1c17a6-d85d-48d1-8533-67f97d5a5c00",
   "metadata": {},
   "outputs": [],
   "source": [
    "# Fix topological errors\n",
    "!mapshaper-xl -i snap /Users/sofia/Documents/HE_Data/NRC/NRC_Marine/EEZ_boundaries/EEZ_boundaries.shp -clean gap-fill-area=30km2 -o format=shapefile /Users/sofia/Documents/HE_Data/NRC/NRC_Marine/EEZ_corrected/EEZ_corrected.shp force"
   ]
  },
  {
   "cell_type": "code",
   "execution_count": null,
   "id": "194dc23b-aeaf-4976-946c-e78406feb857",
   "metadata": {},
   "outputs": [],
   "source": [
    "m_clean = gpd.read_file('/Users/sofia/Documents/HE_Data/NRC/NRC_Marine/EEZ_corrected/EEZ_corrected.shp')\n",
    "len(m_clean)"
   ]
  },
  {
   "cell_type": "code",
   "execution_count": null,
   "id": "36ea4991-84c2-4801-9569-a7045b1e2a98",
   "metadata": {},
   "outputs": [],
   "source": [
    "sum(eez.is_valid) #186 out of 201 are valid (15 geometries invalid)"
   ]
  },
  {
   "cell_type": "code",
   "execution_count": null,
   "id": "cffe948d-04bf-4de2-aa6d-27bce19c0ede",
   "metadata": {},
   "outputs": [],
   "source": [
    "eez.head()"
   ]
  },
  {
   "cell_type": "code",
   "execution_count": null,
   "id": "a85d4dd7-3921-4a1a-869d-a1aab5ba5893",
   "metadata": {},
   "outputs": [],
   "source": [
    "# Break the shp into 10 json files\n",
    "!mapshaper-xl 16gb -i ./../../HE_Data/NRC/NRC_Marine/eez_countries_original_dissolved/*.shp no-topology combine-files \\\n",
    "    -merge-layers \\\n",
    "    -each \"group = Math.trunc(this.id/26)+1\" \\\n",
    "    -split group \\\n",
    "    -o EEZ_test/ format=geojson precision=0.0001 force ndjson"
   ]
  },
  {
   "cell_type": "code",
   "execution_count": null,
   "id": "639568db-4113-407f-8fd8-bf71c0722a8d",
   "metadata": {},
   "outputs": [],
   "source": [
    "## First test with all parameters\n",
    "!mapshaper-xl 16gb -i ./EEZ_test/*.json snap \\\n",
    "    -simplify 10% weighting=0.3 planar keep-shapes \\\n",
    "    -filter-islands min-vertices=3 min-area=10000m2 remove-empty \\\n",
    "    -filter-slivers min-area=10000m2 remove-empty \\\n",
    "    -clean rewind \\\n",
    "    -o EEZ_test/ format=geojson force ndjson"
   ]
  },
  {
   "cell_type": "code",
   "execution_count": null,
   "id": "b2a5e44e-1395-4e57-be7c-d510ce25df94",
   "metadata": {},
   "outputs": [],
   "source": [
    "### Final test: Only simplify (retains all geometries).\n",
    "!mapshaper-xl 16gb -i ./EEZ_test/*.json snap \\\n",
    "    -simplify 10% weighting=0.3 planar keep-shapes \\\n",
    "    -o EEZ_test/ format=geojson force ndjson"
   ]
  },
  {
   "cell_type": "code",
   "execution_count": null,
   "id": "af0ec70e-21ad-41ae-805f-a693f9607377",
   "metadata": {},
   "outputs": [],
   "source": [
    "# Combine all json files in a shp. \n",
    "!mapshaper-xl 16gb -i ./EEZ_test/*.json combine-files -merge-layers -info -o EEZ_test/simp-eez.shp"
   ]
  },
  {
   "cell_type": "code",
   "execution_count": null,
   "id": "c88a71b5-e1d0-4195-bae5-42f39e62f8e7",
   "metadata": {},
   "outputs": [],
   "source": [
    "sim = gpd.read_file('EEZ_test/simp-eez.shp') # len 201 ### retains all geometries\n",
    "len(sim)"
   ]
  },
  {
   "cell_type": "code",
   "execution_count": null,
   "id": "88f2e02d-9c2a-4f83-b9c3-e48a9935a17a",
   "metadata": {},
   "outputs": [],
   "source": [
    "%%time\n",
    "sum(sim.is_valid)"
   ]
  },
  {
   "cell_type": "code",
   "execution_count": null,
   "id": "45828834-b4fa-45d9-8134-ae54037ae961",
   "metadata": {},
   "outputs": [],
   "source": [
    "%%time\n",
    "sim['geometry'] = sim['geometry'].buffer(0) # this is to repair geometries\n",
    "sum(sim.is_valid)"
   ]
  },
  {
   "cell_type": "code",
   "execution_count": null,
   "id": "4de5dbbe-49db-4c4e-9ee1-cd566ca21b79",
   "metadata": {},
   "outputs": [],
   "source": [
    "# check if new geometries in corrected database are the same as the simplified\n",
    "n= 'ESP'\n",
    "fig, (ax1,ax2) = plt.subplots(nrows=1,ncols=2,figsize=(10,10))\n",
    "eez[eez['GID_0']==n].geometry.plot(ax = ax1) \n",
    "sim[sim['GID_0']==n].geometry.plot(ax = ax2)"
   ]
  },
  {
   "cell_type": "code",
   "execution_count": null,
   "id": "9fb79a5e-e0c6-4d41-bf24-50fed3705f63",
   "metadata": {},
   "outputs": [],
   "source": [
    "# check if new geometries in corrected database are the same as the simplified\n",
    "n= 'GRL'\n",
    "fig, (ax1,ax2) = plt.subplots(nrows=1,ncols=2,figsize=(10,10))\n",
    "eez[eez['GID_0']==n].geometry.plot(ax = ax1) \n",
    "sim[sim['GID_0']==n].geometry.plot(ax = ax2)"
   ]
  },
  {
   "cell_type": "code",
   "execution_count": null,
   "id": "0573fcb0-4398-4348-b424-09836653e10b",
   "metadata": {},
   "outputs": [],
   "source": [
    "# check if new geometries in corrected database are the same as the simplified\n",
    "n= 'SXM'\n",
    "fig, (ax1,ax2) = plt.subplots(nrows=1,ncols=2,figsize=(10,10))\n",
    "eez[eez['GID_0']==n].geometry.plot(ax = ax1) \n",
    "sim[sim['GID_0']==n].geometry.plot(ax = ax2)"
   ]
  },
  {
   "cell_type": "code",
   "execution_count": null,
   "id": "b28fb03e-58ed-4d2b-be71-30825a05583c",
   "metadata": {},
   "outputs": [],
   "source": [
    "# check if new geometries in corrected database are the same as the simplified\n",
    "n= 'SGP'\n",
    "fig, (ax1,ax2) = plt.subplots(nrows=1,ncols=2,figsize=(10,10))\n",
    "eez[eez['GID_0']==n].geometry.plot(ax = ax1) \n",
    "sim[sim['GID_0']==n].geometry.plot(ax = ax2)"
   ]
  },
  {
   "cell_type": "code",
   "execution_count": null,
   "id": "479e884e-72a2-4289-974e-730b5204d411",
   "metadata": {},
   "outputs": [],
   "source": [
    "eez.crs"
   ]
  },
  {
   "cell_type": "code",
   "execution_count": null,
   "id": "22cdaa5b-2156-42ea-9b60-0e95880dd7fb",
   "metadata": {},
   "outputs": [],
   "source": [
    "# Save file in local\n",
    "sim.to_file('/Users/sofia/Documents/HE_Data/NRC/NRC_Marine/EEZ_simplified/EEZ_simplified.shp', driver= 'ESRI Shapefile')"
   ]
  }
 ],
 "metadata": {
  "kernelspec": {
   "display_name": "Python 3 (ipykernel)",
   "language": "python",
   "name": "python3"
  },
  "language_info": {
   "codemirror_mode": {
    "name": "ipython",
    "version": 3
   },
   "file_extension": ".py",
   "mimetype": "text/x-python",
   "name": "python",
   "nbconvert_exporter": "python",
   "pygments_lexer": "ipython3",
   "version": "3.8.12"
  }
 },
 "nbformat": 4,
 "nbformat_minor": 5
}
