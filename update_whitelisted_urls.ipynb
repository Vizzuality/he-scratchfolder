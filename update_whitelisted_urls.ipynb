{
 "cells": [
  {
   "cell_type": "markdown",
   "metadata": {},
   "source": [
    "# Updating whitelisted urls\n",
    "The services that are whitelisted are those that have `https://utility.arcgis.com/usrsvcs/servers/<id>/rest/services/<service name>/MapServer`. @TODO get the urls directly from the github repository of the app. `properties.json` contains a json file with the structure:\n",
    "```\n",
    "{'serviceProxyParams': {'referrers': ['url',\n",
    "   'url2']}}\n",
    "```\n"
   ]
  },
  {
   "cell_type": "code",
   "execution_count": 1,
   "metadata": {},
   "outputs": [],
   "source": [
    "import arcgis\n",
    "from arcgis.gis import GIS\n",
    "import json"
   ]
  },
  {
   "cell_type": "code",
   "execution_count": 3,
   "metadata": {},
   "outputs": [],
   "source": [
    "env_path = \".env\"\n",
    "with open(env_path) as f:\n",
    "   env = {}\n",
    "   for line in f:\n",
    "       env_key, _val = line.split(\"=\")\n",
    "       env_value = _val.split(\"\\n\")[0]\n",
    "       env[env_key] = env_value"
   ]
  },
  {
   "cell_type": "code",
   "execution_count": 4,
   "metadata": {},
   "outputs": [],
   "source": [
    "aol_password = env['ARCGIS_GRETA_PASS']\n",
    "aol_username = env['ARCGIS_GRETA_USER']"
   ]
  },
  {
   "cell_type": "code",
   "execution_count": 5,
   "metadata": {},
   "outputs": [
    {
     "name": "stderr",
     "output_type": "stream",
     "text": [
      "Keyring backend being used (keyring.backends.OS_X.Keyring (priority: 5)) either failed to install or is not recommended by the keyring project (i.e. it is not secure). This means you can not use stored passwords through GIS's persistent profiles. Note that extra system-wide steps must be taken on a Linux machine to use the python keyring module securely. Read more about this at the keyring API doc (http://bit.ly/2EWDP7B) and the ArcGIS API for Python doc (http://bit.ly/2CK2wG8).\n"
     ]
    }
   ],
   "source": [
    "gis = GIS(\"https://eowilson.maps.arcgis.com\", aol_username, aol_password, profile = \"eowilson\")"
   ]
  },
  {
   "cell_type": "code",
   "execution_count": null,
   "metadata": {},
   "outputs": [],
   "source": [
    "#gis = GIS(profile = \"eowilson\")"
   ]
  },
  {
   "cell_type": "code",
   "execution_count": 3,
   "metadata": {},
   "outputs": [],
   "source": [
    "utility_services = {'HIGHLIGHTED_COUNTRY_SPECIES_URL' : 'https://utility.arcgis.com/usrsvcs/servers/aa62e9946df34e4ba176827c8ebc1b4d/rest/services/dupl_highlited_sp/FeatureServer/0',\n",
    "  'PRIORITY_PLACES_POLYGONS': 'https://utility.arcgis.com/usrsvcs/servers/685d69cda038469f93dcfd96355abefc/rest/services/PriorPolygons/FeatureServer',\n",
    "'AMPHIB_RARITY': 'https://utility.arcgis.com/usrsvcs/servers/dfae6e65b8054d469bb3d9a262a6a012/rest/services/Amphibians_Rarity_55km/MapServer',\n",
    "  'MAMMALS_RARITY': 'https://utility.arcgis.com/usrsvcs/servers/c86a668ccf7c49e89dea321bbe5d6838/rest/services/Mammals_Rarity_55km/MapServer',\n",
    "  'MAMMALS_RICHNESS': 'https://utility.arcgis.com/usrsvcs/servers/da62311c8b354dfe82975cbfc83ca10c/rest/services/Mammals_Richness_55km/MapServer',\n",
    "  'BIRDS_RARITY': 'https://utility.arcgis.com/usrsvcs/servers/319076f4e6484084a6b61d2b5174fdde/rest/services/Birds_Rarity_55km/MapServer',\n",
    "  'BIRDS_RICHNESS': 'https://utility.arcgis.com/usrsvcs/servers/9044251ae4dd44a49096c0d4342da1dc/rest/services/Birds_Richness_55km/MapServer',\n",
    "  'CACTI_RARITY': 'https://utility.arcgis.com/usrsvcs/servers/d5d959cb7b73494eb86178ce8723033b/rest/services/Cacti_Rarity_55km/MapServer',\n",
    "  'CACTI_RICHNESS': 'https://utility.arcgis.com/usrsvcs/servers/1620d2b2e23e4722bd405f95cc49c0c2/rest/services/Cacti_Richness_55km/MapServer',\n",
    "  'CONIFERS_RARITY': 'https://utility.arcgis.com/usrsvcs/servers/e931b9d4c3194dcdbc96bf51c530163e/rest/services/Conifers_Rarity_55km/MapServer',\n",
    "  'CONIFERS_RICHNESS': 'https://utility.arcgis.com/usrsvcs/servers/ac39f4e35750448d93464d4807e3ac3f/rest/services/Conifers_Richness_55km/MapServer',\n",
    "  'REPTILES_RARITY':\n",
    "    'https://utility.arcgis.com/usrsvcs/servers/857da983a2a54a2fa6516059501547ac/rest/services/Reptiles_Rarity_55km/MapServer',\n",
    "  'REPTILES_RICHNESS':\n",
    "    'https://utility.arcgis.com/usrsvcs/servers/fc2ad4d2955b446687afcf545cdef135/rest/services/Reptiles_Richness/MapServer',\n",
    "  'ALL_TAXA_RARITY': 'https://utility.arcgis.com/usrsvcs/servers/30b635240689413082d9b4f3c8d25aa6/rest/services/All_Taxa_Rarity_55km/MapServer',\n",
    "  'ALL_TAXA_RICHNESS': 'https://utility.arcgis.com/usrsvcs/servers/2d2acd2ff9f54d5c87ea317c9de3c1a1/rest/services/All_Taxa_Richness_55km/MapServer',\n",
    "  'AMPHIB_RICHNESS': 'https://utility.arcgis.com/usrsvcs/servers/373ad88574cc403cb4707a5491b8a661/rest/services/Amphibians_Richness_55km/MapServer',\n",
    "  'FISHES_RARITY': 'https://utility.arcgis.com/usrsvcs/servers/672fd2c2e15d43dba3c452ca600884a8/rest/services/Marine_Fish_Rarity_55km/MapServer',\n",
    "  'FISHES_RICHNESS': 'https://utility.arcgis.com/usrsvcs/servers/5212259d151744438c610d5104b91591/rest/services/Marine_Fish_Richness_55km/MapServer',\n",
    "  'SPECIES_LIST':\n",
    "    'https://utility.arcgis.com/usrsvcs/servers/04986e0b667c4ad29539683d6ba2314f/rest/services/NRC_species_data_20200817_formatted/FeatureServer'}"
   ]
  },
  {
   "cell_type": "code",
   "execution_count": 3,
   "metadata": {},
   "outputs": [],
   "source": [
    "utility_services = {'AMPHIBIAN_LOOKUP':'https://utility.arcgis.com/usrsvcs/servers/182fa83a03544cbd8bd88836d9dea895/rest/services/amphibians_merge_qa/FeatureServer',\n",
    "                   'BIRDS_LOOKUP':'https://utility.arcgis.com/usrsvcs/servers/4876d75b2ac94a068ec96c8f256e7e79/rest/services/birds_merge_qa/FeatureServer',\n",
    "                   'MAMMALS_LOOKUP':'https://utility.arcgis.com/usrsvcs/servers/10063857c3d2447a8f149cd1b4554d3f/rest/services/mammals_merge_qa/FeatureServer',\n",
    "                   'REPTILES_LOOKUP':'https://utility.arcgis.com/usrsvcs/servers/ef12e99ccea24faca6d5597988c3fb82/rest/services/reptiles_merge_qa/FeatureServer'}"
   ]
  },
  {
   "cell_type": "code",
   "execution_count": 3,
   "metadata": {},
   "outputs": [],
   "source": [
    "utility_services = {'HISTORIC_AOI':'https://utility.arcgis.com/usrsvcs/servers/5e66921fb50f475981b5ef66678f29f7/rest/services/aois_historic/FeatureServer'}"
   ]
  },
  {
   "cell_type": "code",
   "execution_count": 19,
   "metadata": {},
   "outputs": [],
   "source": [
    "utility_services = {'MAMMALS_LOOKUP':'https://utility.arcgis.com/usrsvcs/servers/a5469fd12d874550aac72c826f9f16fe/rest/services/Mammal_CRF_species_table/FeatureServer',\n",
    "                   'AMPHIBIANS_LOOKUP':'https://utility.arcgis.com/usrsvcs/servers/7d06855c35c84237abd653b93533ec76/rest/services/Amphibian_CRF_species_table_20211003/FeatureServer'}"
   ]
  },
  {
   "cell_type": "code",
   "execution_count": 5,
   "metadata": {},
   "outputs": [],
   "source": [
    "utility_services = {'gadm1_all':'https://utility.arcgis.com/usrsvcs/servers/4870a51b17f841c38793b3c0a3f053c9/rest/services/gadm1_precalculated/FeatureServer',\n",
    "                   'gadm1_nogeom':'https://utility.arcgis.com/usrsvcs/servers/d9732336623740eda16d15322d2f14a2/rest/services/gadm1_precalc_no_geometry/FeatureServer'}"
   ]
  },
  {
   "cell_type": "code",
   "execution_count": 5,
   "metadata": {},
   "outputs": [],
   "source": [
    "utility_services = {'gadm0_all':'https://utility.arcgis.com/usrsvcs/servers/ec84dbba085342e081dd44b5f94bc398/rest/services/all_precalc_gadm0/FeatureServer'}\n",
    "    "
   ]
  },
  {
   "cell_type": "code",
   "execution_count": 5,
   "metadata": {},
   "outputs": [],
   "source": [
    "utility_services = {'wdpa_data':'https://utility.arcgis.com/usrsvcs/servers/051ba1f3714748bfb4c725d29b938e20/rest/services/all_precalc_wdpa_no_geom/FeatureServer',\n",
    "                   'wdpa_geom':'https://utility.arcgis.com/usrsvcs/servers/d6dd590bd6734f90a626a1dc156f4546/rest/services/all_precalc_wdpa_only_geom/FeatureServer'}"
   ]
  },
  {
   "cell_type": "code",
   "execution_count": 14,
   "metadata": {},
   "outputs": [],
   "source": [
    "utility_services ={'mammals':'https://utility.arcgis.com/usrsvcs/servers/bc206ff519234e4ab1e9dab1c8c1f601/rest/services/Mammal_CRF_species_table_service/FeatureServer',\n",
    "                  'birds':'https://utility.arcgis.com/usrsvcs/servers/d7a4020431dc4ce0b425f33d7cd344c8/rest/services/Bird_CRF_species_table_service/FeatureServer',\n",
    "                  'reptiles':'https://utility.arcgis.com/usrsvcs/servers/aca551155cfc405dad543fd6eef94a76/rest/services/Reptile_CRF_species_table_service/FeatureServer',\n",
    "                  'amphs':'https://utility.arcgis.com/usrsvcs/servers/0e80ea09e22f4efaa242854a568d0b18/rest/services/Amphibian_CRF_species_table_service/FeatureServer'}"
   ]
  },
  {
   "cell_type": "code",
   "execution_count": 5,
   "metadata": {},
   "outputs": [],
   "source": [
    "utility_services = {'gadm0':'https://utility.arcgis.com/usrsvcs/servers/8629db3301254c7ca6d94e91be44acb4/rest/services/gadm0_precalculated_range_area/FeatureServer',\n",
    "                   'gadm1':'https://utility.arcgis.com/usrsvcs/servers/329a41aec90249c2ba5d6330f43f9390/rest/services/gadm1_precalculated_range_area/FeatureServer'}"
   ]
  },
  {
   "cell_type": "code",
   "execution_count": 6,
   "metadata": {},
   "outputs": [],
   "source": [
    "utility_services= {'aois':'https://utility.arcgis.com/usrsvcs/servers/d66d0f49b17849378d142c3715400956/rest/services/shared_custom_aois_prod/FeatureServer'}"
   ]
  },
  {
   "cell_type": "code",
   "execution_count": 6,
   "metadata": {},
   "outputs": [],
   "source": [
    "utility_services = {'AMPHIBIAN_LOOKUP':'https://utility.arcgis.com/usrsvcs/servers/c20121cd88754247bbbeac5da6b26be1/rest/services/Test_Amphibian_CRF_species_table/FeatureServer',\n",
    "                   'BIRDS_LOOKUP':'https://utility.arcgis.com/usrsvcs/servers/fb93f4475cc84fd7b0eec712d701e46d/rest/services/Bird_CRF_species_table/FeatureServer',\n",
    "                   'MAMMALS_LOOKUP':'https://utility.arcgis.com/usrsvcs/servers/7c7e6649a44e423ab52083b65823c310/rest/services/Test_Mammal_CRF_species_table/FeatureServer',\n",
    "                   'REPTILES_LOOKUP':'https://utility.arcgis.com/usrsvcs/servers/f0b987e051844fd78b05c813ba251548/rest/services/Test_Reptile_CRF_species_table/FeatureServer'}"
   ]
  },
  {
   "cell_type": "code",
   "execution_count": 8,
   "metadata": {},
   "outputs": [],
   "source": [
    "with open('../../HE_Data/properties.json') as json_file:\n",
    "    properties = json.load(json_file)"
   ]
  },
  {
   "cell_type": "code",
   "execution_count": 9,
   "metadata": {},
   "outputs": [
    {
     "data": {
      "text/plain": [
       "12"
      ]
     },
     "execution_count": 9,
     "metadata": {},
     "output_type": "execute_result"
    }
   ],
   "source": [
    "len(properties['serviceProxyParams']['referrers'])"
   ]
  },
  {
   "cell_type": "code",
   "execution_count": 10,
   "metadata": {},
   "outputs": [
    {
     "name": "stdout",
     "output_type": "stream",
     "text": [
      "updating AMPHIBIAN_LOOKUP, service name: Amphibian_CRF_species_table_202202_whitelisted\n",
      "could not access referrers\n",
      "number of whitelisted links after update: 12\n",
      "-------\n",
      "updating BIRDS_LOOKUP, service name: Bird_CRF_species_table_202202_whitelisted\n",
      "could not access referrers\n",
      "number of whitelisted links after update: 12\n",
      "-------\n",
      "updating MAMMALS_LOOKUP, service name: Mammal_CRF_species_table_202202_whitelisted\n",
      "could not access referrers\n",
      "number of whitelisted links after update: 12\n",
      "-------\n",
      "updating REPTILES_LOOKUP, service name: Reptile_CRF_species_table_202202_whitelisted\n",
      "could not access referrers\n",
      "number of whitelisted links after update: 12\n",
      "-------\n"
     ]
    }
   ],
   "source": [
    "for key in utility_services:\n",
    "    try:\n",
    "        serv = utility_services[key]\n",
    "        a = serv[43:75]\n",
    "        g_item = gis.content.get(a)\n",
    "        print(f\"updating {key}, service name: {g_item.title}\")\n",
    "        \n",
    "    except:\n",
    "        print(\"item does not exist\")\n",
    "    try:\n",
    "        print(f\"number of whitelisted links before update: {len(g_item.serviceProxyParams['referrers'])}\")\n",
    "        \n",
    "    except:\n",
    "        print(\"could not access referrers\")\n",
    "    try: \n",
    "        g_item.update(item_properties = properties)\n",
    "        print(f\"number of whitelisted links after update: {len(g_item.serviceProxyParams['referrers'])}\")\n",
    "    except:\n",
    "        print(\"could not update referrers\")\n",
    "    print(\"-------\")"
   ]
  },
  {
   "cell_type": "code",
   "execution_count": null,
   "metadata": {},
   "outputs": [],
   "source": []
  }
 ],
 "metadata": {
  "kernelspec": {
   "display_name": "Python 3 (ipykernel)",
   "language": "python",
   "name": "python3"
  },
  "language_info": {
   "codemirror_mode": {
    "name": "ipython",
    "version": 3
   },
   "file_extension": ".py",
   "mimetype": "text/x-python",
   "name": "python",
   "nbconvert_exporter": "python",
   "pygments_lexer": "ipython3",
   "version": "3.8.12"
  }
 },
 "nbformat": 4,
 "nbformat_minor": 4
}
