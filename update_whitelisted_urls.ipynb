{
 "cells": [
  {
   "cell_type": "markdown",
   "metadata": {},
   "source": [
    "# Updating whitelisted urls\n",
    "This notebook is used to whitelist services in AGOL that require some privacy, so that they are only public for a given number of portals. To run this notebook you will need to follow these [steps](https://vizzuality.github.io/half-earth-v3/_docs/science/whitelisting):\n",
    "\n",
    "The services that are whitelisted are those that have `https://utility.arcgis.com/usrsvcs/servers/<id>/rest/services/<service name>/MapServer`. For this notebook we need to retrieve the URL of these services from AGOL. \n",
    "\n",
    "We also need the `properties.json` file, which contains a json file with the structure:\n",
    "```\n",
    "{'serviceProxyParams': {'referrers': ['url',\n",
    "   'url2']}}\n",
    "```\n"
   ]
  },
  {
   "cell_type": "markdown",
   "metadata": {},
   "source": [
    "## Import libraries"
   ]
  },
  {
   "cell_type": "code",
   "execution_count": 1,
   "metadata": {},
   "outputs": [],
   "source": [
    "import arcgis\n",
    "from arcgis.gis import GIS\n",
    "import json"
   ]
  },
  {
   "cell_type": "markdown",
   "metadata": {},
   "source": [
    "## Connect to ESRI"
   ]
  },
  {
   "cell_type": "code",
   "execution_count": 2,
   "metadata": {},
   "outputs": [],
   "source": [
    "env_path = \".env\"\n",
    "with open(env_path) as f:\n",
    "   env = {}\n",
    "   for line in f:\n",
    "       env_key, _val = line.split(\"=\")\n",
    "       env_value = _val.split(\"\\n\")[0]\n",
    "       env[env_key] = env_value"
   ]
  },
  {
   "cell_type": "code",
   "execution_count": 3,
   "metadata": {},
   "outputs": [],
   "source": [
    "aol_password = env['ARCGIS_SOFIA_PASS']\n",
    "aol_username = env['ARCGIS_SOFIA_USER']"
   ]
  },
  {
   "cell_type": "code",
   "execution_count": 4,
   "metadata": {},
   "outputs": [
    {
     "name": "stderr",
     "output_type": "stream",
     "text": [
      "Keyring backend being used (keyring.backends.OS_X.Keyring (priority: 5)) either failed to install or is not recommended by the keyring project (i.e. it is not secure). This means you can not use stored passwords through GIS's persistent profiles. Note that extra system-wide steps must be taken on a Linux machine to use the python keyring module securely. Read more about this at the keyring API doc (http://bit.ly/2EWDP7B) and the ArcGIS API for Python doc (http://bit.ly/2CK2wG8).\n"
     ]
    }
   ],
   "source": [
    "gis = GIS(\"https://eowilson.maps.arcgis.com\", aol_username, aol_password, profile = \"eowilson\")"
   ]
  },
  {
   "cell_type": "markdown",
   "metadata": {},
   "source": [
    "## Make service whitelisted\n",
    "Get the URL of the service from AGOL and pasted it here in utility_services"
   ]
  },
  {
   "cell_type": "code",
   "execution_count": 5,
   "metadata": {},
   "outputs": [],
   "source": [
    "utility_services = {'AMPHIBIAN_LOOKUP':'https://utility.arcgis.com/usrsvcs/servers/a74869c0c4bb4cccad14ad9e0ed30665/rest/services/amphibians_lookup_with_SPS/FeatureServer',\n",
    "                   'BIRDS_LOOKUP':'https://utility.arcgis.com/usrsvcs/servers/362dbc5575dd435aa4821f843ef4126c/rest/services/birds_lookup__with_SPS/FeatureServer',\n",
    "                   'MAMMALS_LOOKUP':'https://utility.arcgis.com/usrsvcs/servers/b3981735c7c04e519a8ed0621d1423c9/rest/services/mammals_lookup_with_SPS/FeatureServer',\n",
    "                   'REPTILES_LOOKUP':'https://utility.arcgis.com/usrsvcs/servers/db3588280cec4ab38b6195f6f02b79eb/rest/services/reptiles_with_SPS/FeatureServer'}"
   ]
  },
  {
   "cell_type": "code",
   "execution_count": 6,
   "metadata": {},
   "outputs": [],
   "source": [
    "with open('../../HE_Data/properties.json') as json_file:\n",
    "    properties = json.load(json_file)"
   ]
  },
  {
   "cell_type": "code",
   "execution_count": 7,
   "metadata": {},
   "outputs": [
    {
     "data": {
      "text/plain": [
       "12"
      ]
     },
     "execution_count": 7,
     "metadata": {},
     "output_type": "execute_result"
    }
   ],
   "source": [
    "len(properties['serviceProxyParams']['referrers'])"
   ]
  },
  {
   "cell_type": "code",
   "execution_count": 8,
   "metadata": {},
   "outputs": [
    {
     "name": "stdout",
     "output_type": "stream",
     "text": [
      "updating AMPHIBIAN_LOOKUP, service name: amphibians_lookup_with_SPS_whitelisted\n",
      "could not access referrers\n",
      "number of whitelisted links after update: 12\n",
      "-------\n",
      "updating BIRDS_LOOKUP, service name: birds_lookup_with_SPS_whitelisted\n",
      "could not access referrers\n",
      "number of whitelisted links after update: 12\n",
      "-------\n",
      "updating MAMMALS_LOOKUP, service name: mammals_lookup_with_SPS_whitelisted\n",
      "could not access referrers\n",
      "number of whitelisted links after update: 12\n",
      "-------\n",
      "updating REPTILES_LOOKUP, service name: reptiles_lookup_with_SPS_whitelisted\n",
      "could not access referrers\n",
      "number of whitelisted links after update: 12\n",
      "-------\n"
     ]
    }
   ],
   "source": [
    "for key in utility_services:\n",
    "    try:\n",
    "        serv = utility_services[key]\n",
    "        a = serv[43:75]\n",
    "        g_item = gis.content.get(a)\n",
    "        print(f\"updating {key}, service name: {g_item.title}\")\n",
    "        \n",
    "    except:\n",
    "        print(\"item does not exist\")\n",
    "    try:\n",
    "        print(f\"number of whitelisted links before update: {len(g_item.serviceProxyParams['referrers'])}\")\n",
    "        \n",
    "    except:\n",
    "        print(\"could not access referrers\")\n",
    "    try: \n",
    "        g_item.update(item_properties = properties)\n",
    "        print(f\"number of whitelisted links after update: {len(g_item.serviceProxyParams['referrers'])}\")\n",
    "    except:\n",
    "        print(\"could not update referrers\")\n",
    "    print(\"-------\")"
   ]
  },
  {
   "cell_type": "markdown",
   "metadata": {},
   "source": [
    "Done"
   ]
  }
 ],
 "metadata": {
  "interpreter": {
   "hash": "4829cc13d368d943a62b17104ac97c1ea81b455d93d0d0d9a78d8f68633ebeb3"
  },
  "kernelspec": {
   "display_name": "Python 3.8.12 ('vizz38')",
   "language": "python",
   "name": "python3"
  },
  "language_info": {
   "codemirror_mode": {
    "name": "ipython",
    "version": 3
   },
   "file_extension": ".py",
   "mimetype": "text/x-python",
   "name": "python",
   "nbconvert_exporter": "python",
   "pygments_lexer": "ipython3",
   "version": "3.8.12"
  }
 },
 "nbformat": 4,
 "nbformat_minor": 4
}
