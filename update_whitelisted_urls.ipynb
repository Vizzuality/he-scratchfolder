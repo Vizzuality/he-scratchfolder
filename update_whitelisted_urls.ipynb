{
 "cells": [
  {
   "cell_type": "markdown",
   "metadata": {},
   "source": [
    "# Updating whitelisted urls\n",
    "The services that are whitelisted are those that have `https://utility.arcgis.com/usrsvcs/servers/<id>/rest/services/<service name>/MapServer`. @TODO get the urls directly from the github repository of the app. `properties.json` contains a json file with the structure:\n",
    "```\n",
    "{'serviceProxyParams': {'referrers': ['url',\n",
    "   'url2']}}\n",
    "```\n"
   ]
  },
  {
   "cell_type": "code",
   "execution_count": 43,
   "metadata": {},
   "outputs": [],
   "source": [
    "import arcgis\n",
    "from arcgis.gis import GIS\n",
    "import json"
   ]
  },
  {
   "cell_type": "code",
   "execution_count": 11,
   "metadata": {},
   "outputs": [],
   "source": [
    "gis = GIS(profile = \"eowilson\")"
   ]
  },
  {
   "cell_type": "code",
   "execution_count": 56,
   "metadata": {},
   "outputs": [],
   "source": [
    "utility_services = {'HIGHLIGHTED_COUNTRY_SPECIES_URL' : 'https://utility.arcgis.com/usrsvcs/servers/aa62e9946df34e4ba176827c8ebc1b4d/rest/services/dupl_highlited_sp/FeatureServer/0',\n",
    "  'PRIORITY_PLACES_POLYGONS': 'https://utility.arcgis.com/usrsvcs/servers/685d69cda038469f93dcfd96355abefc/rest/services/PriorPolygons/FeatureServer',\n",
    "'AMPHIB_RARITY': 'https://utility.arcgis.com/usrsvcs/servers/dfae6e65b8054d469bb3d9a262a6a012/rest/services/Amphibians_Rarity_55km/MapServer',\n",
    "  'MAMMALS_RARITY': 'https://utility.arcgis.com/usrsvcs/servers/c86a668ccf7c49e89dea321bbe5d6838/rest/services/Mammals_Rarity_55km/MapServer',\n",
    "  'MAMMALS_RICHNESS': 'https://utility.arcgis.com/usrsvcs/servers/da62311c8b354dfe82975cbfc83ca10c/rest/services/Mammals_Richness_55km/MapServer',\n",
    "  'BIRDS_RARITY': 'https://utility.arcgis.com/usrsvcs/servers/319076f4e6484084a6b61d2b5174fdde/rest/services/Birds_Rarity_55km/MapServer',\n",
    "  'BIRDS_RICHNESS': 'https://utility.arcgis.com/usrsvcs/servers/9044251ae4dd44a49096c0d4342da1dc/rest/services/Birds_Richness_55km/MapServer',\n",
    "  'CACTI_RARITY': 'https://utility.arcgis.com/usrsvcs/servers/d5d959cb7b73494eb86178ce8723033b/rest/services/Cacti_Rarity_55km/MapServer',\n",
    "  'CACTI_RICHNESS': 'https://utility.arcgis.com/usrsvcs/servers/1620d2b2e23e4722bd405f95cc49c0c2/rest/services/Cacti_Richness_55km/MapServer',\n",
    "  'CONIFERS_RARITY': 'https://utility.arcgis.com/usrsvcs/servers/e931b9d4c3194dcdbc96bf51c530163e/rest/services/Conifers_Rarity_55km/MapServer',\n",
    "  'CONIFERS_RICHNESS': 'https://utility.arcgis.com/usrsvcs/servers/ac39f4e35750448d93464d4807e3ac3f/rest/services/Conifers_Richness_55km/MapServer',\n",
    "  'REPTILES_RARITY':\n",
    "    'https://utility.arcgis.com/usrsvcs/servers/857da983a2a54a2fa6516059501547ac/rest/services/Reptiles_Rarity_55km/MapServer',\n",
    "  'REPTILES_RICHNESS':\n",
    "    'https://utility.arcgis.com/usrsvcs/servers/fc2ad4d2955b446687afcf545cdef135/rest/services/Reptiles_Richness/MapServer',\n",
    "  'ALL_TAXA_RARITY': 'https://utility.arcgis.com/usrsvcs/servers/30b635240689413082d9b4f3c8d25aa6/rest/services/All_Taxa_Rarity_55km/MapServer',\n",
    "  'ALL_TAXA_RICHNESS': 'https://utility.arcgis.com/usrsvcs/servers/2d2acd2ff9f54d5c87ea317c9de3c1a1/rest/services/All_Taxa_Richness_55km/MapServer',\n",
    "  'AMPHIB_RICHNESS': 'https://utility.arcgis.com/usrsvcs/servers/373ad88574cc403cb4707a5491b8a661/rest/services/Amphibians_Richness_55km/MapServer',\n",
    "  'FISHES_RARITY': 'https://utility.arcgis.com/usrsvcs/servers/672fd2c2e15d43dba3c452ca600884a8/rest/services/Marine_Fish_Rarity_55km/MapServer',\n",
    "  'FISHES_RICHNESS': 'https://utility.arcgis.com/usrsvcs/servers/5212259d151744438c610d5104b91591/rest/services/Marine_Fish_Richness_55km/MapServer',\n",
    "  'SPECIES_LIST':\n",
    "    'https://utility.arcgis.com/usrsvcs/servers/04986e0b667c4ad29539683d6ba2314f/rest/services/NRC_species_data_20200817_formatted/FeatureServer'}"
   ]
  },
  {
   "cell_type": "code",
   "execution_count": 46,
   "metadata": {},
   "outputs": [],
   "source": [
    "with open('properties.json') as json_file:\n",
    "    properties = json.load(json_file)"
   ]
  },
  {
   "cell_type": "code",
   "execution_count": 68,
   "metadata": {},
   "outputs": [
    {
     "data": {
      "text/plain": [
       "24"
      ]
     },
     "execution_count": 68,
     "metadata": {},
     "output_type": "execute_result"
    }
   ],
   "source": [
    "len(properties['serviceProxyParams']['referrers'])"
   ]
  },
  {
   "cell_type": "code",
   "execution_count": 76,
   "metadata": {},
   "outputs": [
    {
     "name": "stdout",
     "output_type": "stream",
     "text": [
      "updating HIGHLIGHTED_COUNTRY_SPECIES_URL, service name: dupl_highlited_sp_url\n",
      "number of whitelisted links before update: 24\n",
      "number of whitelisted links after update: 24\n",
      "-------\n",
      "updating PRIORITY_PLACES_POLYGONS, service name: PriorPolygonsService\n",
      "number of whitelisted links before update: 18\n",
      "number of whitelisted links after update: 24\n",
      "-------\n",
      "updating AMPHIB_RARITY, service name: Amphibians_Rarity_55km\n",
      "number of whitelisted links before update: 18\n",
      "number of whitelisted links after update: 24\n",
      "-------\n",
      "updating MAMMALS_RARITY, service name: Mammals_Rarity_55km\n",
      "number of whitelisted links before update: 20\n",
      "number of whitelisted links after update: 24\n",
      "-------\n",
      "updating MAMMALS_RICHNESS, service name: Mammals_Richness_55km\n",
      "number of whitelisted links before update: 18\n",
      "number of whitelisted links after update: 24\n",
      "-------\n",
      "updating BIRDS_RARITY, service name: Birds_Rarity_55km\n",
      "number of whitelisted links before update: 18\n",
      "number of whitelisted links after update: 24\n",
      "-------\n",
      "updating BIRDS_RICHNESS, service name: Birds_Richness_55km\n",
      "number of whitelisted links before update: 18\n",
      "number of whitelisted links after update: 24\n",
      "-------\n",
      "updating CACTI_RARITY, service name: Cacti_Rarity_55km\n",
      "number of whitelisted links before update: 18\n",
      "number of whitelisted links after update: 24\n",
      "-------\n",
      "updating CACTI_RICHNESS, service name: Cacti_Richness_55km\n",
      "could not access referrers\n",
      "number of whitelisted links after update: 24\n",
      "-------\n",
      "updating CONIFERS_RARITY, service name: Conifers_Rarity_55km\n",
      "number of whitelisted links before update: 18\n",
      "number of whitelisted links after update: 24\n",
      "-------\n",
      "updating CONIFERS_RICHNESS, service name: Conifers_Richness_55km\n",
      "number of whitelisted links before update: 18\n",
      "number of whitelisted links after update: 24\n",
      "-------\n",
      "updating REPTILES_RARITY, service name: Reptiles_Rarity_55km\n",
      "number of whitelisted links before update: 18\n",
      "number of whitelisted links after update: 24\n",
      "-------\n",
      "updating REPTILES_RICHNESS, service name: Reptiles_Richness_55km\n",
      "number of whitelisted links before update: 18\n",
      "number of whitelisted links after update: 24\n",
      "-------\n",
      "updating ALL_TAXA_RARITY, service name: All_Taxa_Rarity_55km\n",
      "number of whitelisted links before update: 18\n",
      "number of whitelisted links after update: 24\n",
      "-------\n",
      "updating ALL_TAXA_RICHNESS, service name: All_Taxa_Richness_55km\n",
      "number of whitelisted links before update: 18\n",
      "number of whitelisted links after update: 24\n",
      "-------\n",
      "updating AMPHIB_RICHNESS, service name: Amphibians_Richness_55km\n",
      "number of whitelisted links before update: 18\n",
      "number of whitelisted links after update: 24\n",
      "-------\n",
      "updating FISHES_RARITY, service name: Marine_Fish_Rarity_55km\n",
      "number of whitelisted links before update: 18\n",
      "number of whitelisted links after update: 24\n",
      "-------\n",
      "updating FISHES_RICHNESS, service name: Marine_Fish_Richness_55km\n",
      "number of whitelisted links before update: 18\n",
      "number of whitelisted links after update: 24\n",
      "-------\n",
      "updating SPECIES_LIST, service name: NRC_species_data_20200817_formatted_whitelisted\n",
      "number of whitelisted links before update: 24\n",
      "number of whitelisted links after update: 24\n",
      "-------\n"
     ]
    }
   ],
   "source": [
    "for key in utility_services:\n",
    "    try:\n",
    "        serv = utility_services[key]\n",
    "        a = serv[43:75]\n",
    "        g_item = gis.content.get(a)\n",
    "        print(f\"updating {key}, service name: {g_item.title}\")\n",
    "        \n",
    "    except:\n",
    "        print(\"item does not exist\")\n",
    "    try:\n",
    "        print(f\"number of whitelisted links before update: {len(g_item.serviceProxyParams['referrers'])}\")\n",
    "        \n",
    "    except:\n",
    "        print(\"could not access referrers\")\n",
    "    try: \n",
    "        g_item.update(item_properties = properties)\n",
    "        print(f\"number of whitelisted links after update: {len(g_item.serviceProxyParams['referrers'])}\")\n",
    "    except:\n",
    "        print(\"could not update referrers\")\n",
    "    print(\"-------\")"
   ]
  },
  {
   "cell_type": "code",
   "execution_count": null,
   "metadata": {},
   "outputs": [],
   "source": []
  }
 ],
 "metadata": {
  "kernelspec": {
   "display_name": "Python 3",
   "language": "python",
   "name": "python3"
  },
  "language_info": {
   "codemirror_mode": {
    "name": "ipython",
    "version": 3
   },
   "file_extension": ".py",
   "mimetype": "text/x-python",
   "name": "python",
   "nbconvert_exporter": "python",
   "pygments_lexer": "ipython3",
   "version": "3.8.3"
  }
 },
 "nbformat": 4,
 "nbformat_minor": 4
}
