{
 "cells": [
  {
   "cell_type": "markdown",
   "metadata": {},
   "source": [
    "# Places for Half Earth Future\n",
    "#### This is a new feature that will show precalculated biodiversity and contextual data for selected geometries around the globe (Up to 20 places per country)\n",
    "#### Following this first approach there might be more narrative involved and a diffeent approach to how to show the data. Right now, the layer will be accessed from the 'Explore places' tab."
   ]
  },
  {
   "cell_type": "code",
   "execution_count": 5,
   "metadata": {},
   "outputs": [],
   "source": [
    "import pandas as pd\n",
    "import numpy as np\n",
    "import geopandas as gpd\n",
    "import arcgis\n",
    "from arcgis.gis import GIS\n",
    "import json\n",
    "import pandas as pd\n",
    "from arcgis.features import FeatureLayerCollection\n",
    "import requests as re\n",
    "from copy import deepcopy"
   ]
  },
  {
   "cell_type": "code",
   "execution_count": 6,
   "metadata": {},
   "outputs": [],
   "source": [
    "path = '../../HE_Data/PlacesHE'"
   ]
  },
  {
   "cell_type": "code",
   "execution_count": null,
   "metadata": {},
   "outputs": [],
   "source": [
    "#Columba livia, SliceNumber = 2233\n",
    "#gadm1= pd.read_csv('/Users/tamarahuete/Documents/HALF_EARTH/gadm1_precalc_no_geometry.csv')\n",
    "#json.loads(gadm1[gadm1['NAME_1']=='Nyeri']['birds'].values[0])\n",
    "#{'SliceNumber': 2330.0, 'percentage_presence': 85.8}"
   ]
  },
  {
   "cell_type": "code",
   "execution_count": 7,
   "metadata": {},
   "outputs": [],
   "source": [
    "env_path = \".env\"\n",
    "with open(env_path) as f:\n",
    "   env = {}\n",
    "   for line in f:\n",
    "       env_key, _val = line.split(\"=\")\n",
    "       env_value = _val.split(\"\\n\")[0]\n",
    "       env[env_key] = env_value"
   ]
  },
  {
   "cell_type": "code",
   "execution_count": 8,
   "metadata": {},
   "outputs": [],
   "source": [
    "aol_password = env['ARCGIS_GRETA_PASS']\n",
    "aol_username = env['ARCGIS_GRETA_USER']"
   ]
  },
  {
   "cell_type": "code",
   "execution_count": 9,
   "metadata": {},
   "outputs": [
    {
     "name": "stderr",
     "output_type": "stream",
     "text": [
      "Keyring backend being used (keyring.backends.OS_X.Keyring (priority: 5)) either failed to install or is not recommended by the keyring project (i.e. it is not secure). This means you can not use stored passwords through GIS's persistent profiles. Note that extra system-wide steps must be taken on a Linux machine to use the python keyring module securely. Read more about this at the keyring API doc (http://bit.ly/2EWDP7B) and the ArcGIS API for Python doc (http://bit.ly/2CK2wG8).\n"
     ]
    }
   ],
   "source": [
    "gis = GIS(\"https://eowilson.maps.arcgis.com\", aol_username, aol_password, profile = \"eowilson\")"
   ]
  },
  {
   "cell_type": "markdown",
   "metadata": {},
   "source": [
    "### 20 places geometries"
   ]
  },
  {
   "cell_type": "code",
   "execution_count": 10,
   "metadata": {},
   "outputs": [
    {
     "data": {
      "text/html": [
       "<div>\n",
       "<style scoped>\n",
       "    .dataframe tbody tr th:only-of-type {\n",
       "        vertical-align: middle;\n",
       "    }\n",
       "\n",
       "    .dataframe tbody tr th {\n",
       "        vertical-align: top;\n",
       "    }\n",
       "\n",
       "    .dataframe thead th {\n",
       "        text-align: right;\n",
       "    }\n",
       "</style>\n",
       "<table border=\"1\" class=\"dataframe\">\n",
       "  <thead>\n",
       "    <tr style=\"text-align: right;\">\n",
       "      <th></th>\n",
       "      <th>GID_0</th>\n",
       "      <th>NAME_0</th>\n",
       "      <th>cluster</th>\n",
       "      <th>PRmean</th>\n",
       "      <th>AREA_KM2</th>\n",
       "      <th>geometry</th>\n",
       "    </tr>\n",
       "  </thead>\n",
       "  <tbody>\n",
       "    <tr>\n",
       "      <th>0</th>\n",
       "      <td>AFG</td>\n",
       "      <td>Afghanistan</td>\n",
       "      <td>1</td>\n",
       "      <td>60.222222</td>\n",
       "      <td>7687.504920</td>\n",
       "      <td>POLYGON ((6784878.655 4081461.837, 6783664.553...</td>\n",
       "    </tr>\n",
       "    <tr>\n",
       "      <th>1</th>\n",
       "      <td>AFG</td>\n",
       "      <td>Afghanistan</td>\n",
       "      <td>2</td>\n",
       "      <td>60.222222</td>\n",
       "      <td>4706.088317</td>\n",
       "      <td>POLYGON ((6833826.327 4162440.126, 6832851.109...</td>\n",
       "    </tr>\n",
       "    <tr>\n",
       "      <th>2</th>\n",
       "      <td>AFG</td>\n",
       "      <td>Afghanistan</td>\n",
       "      <td>3</td>\n",
       "      <td>52.312500</td>\n",
       "      <td>11768.366965</td>\n",
       "      <td>POLYGON ((6641029.409 4066345.857, 6640031.675...</td>\n",
       "    </tr>\n",
       "    <tr>\n",
       "      <th>3</th>\n",
       "      <td>AFG</td>\n",
       "      <td>Afghanistan</td>\n",
       "      <td>4</td>\n",
       "      <td>45.500000</td>\n",
       "      <td>205.123344</td>\n",
       "      <td>POLYGON ((6544864.953 4033762.857, 6544087.481...</td>\n",
       "    </tr>\n",
       "    <tr>\n",
       "      <th>4</th>\n",
       "      <td>AFG</td>\n",
       "      <td>Afghanistan</td>\n",
       "      <td>5</td>\n",
       "      <td>45.500000</td>\n",
       "      <td>205.123344</td>\n",
       "      <td>POLYGON ((6520743.383 4065965.621, 6519965.911...</td>\n",
       "    </tr>\n",
       "  </tbody>\n",
       "</table>\n",
       "</div>"
      ],
      "text/plain": [
       "  GID_0       NAME_0  cluster     PRmean      AREA_KM2  \\\n",
       "0   AFG  Afghanistan        1  60.222222   7687.504920   \n",
       "1   AFG  Afghanistan        2  60.222222   4706.088317   \n",
       "2   AFG  Afghanistan        3  52.312500  11768.366965   \n",
       "3   AFG  Afghanistan        4  45.500000    205.123344   \n",
       "4   AFG  Afghanistan        5  45.500000    205.123344   \n",
       "\n",
       "                                            geometry  \n",
       "0  POLYGON ((6784878.655 4081461.837, 6783664.553...  \n",
       "1  POLYGON ((6833826.327 4162440.126, 6832851.109...  \n",
       "2  POLYGON ((6641029.409 4066345.857, 6640031.675...  \n",
       "3  POLYGON ((6544864.953 4033762.857, 6544087.481...  \n",
       "4  POLYGON ((6520743.383 4065965.621, 6519965.911...  "
      ]
     },
     "execution_count": 6,
     "metadata": {},
     "output_type": "execute_result"
    }
   ],
   "source": [
    "places= gpd.read_file('{0}/Geometries/Top_20_places_per_country_20211123.shp'.format(path)) # Scott's geometry\n",
    "places.head()"
   ]
  },
  {
   "cell_type": "code",
   "execution_count": 11,
   "metadata": {},
   "outputs": [],
   "source": [
    "places['MOL_ID']= places.index+1"
   ]
  },
  {
   "cell_type": "markdown",
   "metadata": {},
   "source": [
    "#### Format Biodiversity data"
   ]
  },
  {
   "cell_type": "code",
   "execution_count": 12,
   "metadata": {},
   "outputs": [],
   "source": [
    "### BIOdiversity \n",
    "\n",
    "dff = places\n",
    "dff['reptiles']=np.nan\n",
    "dff['amphibians']=np.nan\n",
    "dff['mammals']=np.nan\n",
    "dff['birds']=np.nan\n",
    "\n",
    "\n",
    "### Paths to data generate inside ArcGIS Pro\n",
    "paths = {'amphibians':'{0}/Csvs/Sample_amph_nozeroes.csv'.format(path),\n",
    "         'birds':'{0}/Csvs/Sample_birds_nozeroes.csv'.format(path),\n",
    "         'mammals':'{0}/Csvs/Sample_mammals_nozeroes.csv'.format(path),\n",
    "         'reptiles':'{0}/Csvs/Sample_reptiles_nozeroes.csv'.format(path)}\n",
    "\n",
    "### Ids of lookup tables for each taxa in ArcGIS online\n",
    "lookups = {'amphibians':'a641a4cd269345dea93b8bcb1cb66676',\n",
    "         'birds':'4d8698734b654bb9bb7a61d9af314c76',\n",
    "         'mammals':'84d3c71caf97479d85f620a4ee217d68',\n",
    "         'reptiles':'b720e84869624e5482b25338b27a54f2'}"
   ]
  },
  {
   "cell_type": "code",
   "execution_count": 13,
   "metadata": {},
   "outputs": [],
   "source": [
    "def getHTfromId(item_id):\n",
    "    item = gis.content.get(item_id)\n",
    "    flayer = item.tables[0]\n",
    "    sdf = flayer.query().sdf\n",
    "    return sdf"
   ]
  },
  {
   "cell_type": "code",
   "execution_count": 11,
   "metadata": {},
   "outputs": [
    {
     "name": "stdout",
     "output_type": "stream",
     "text": [
      "amphibians\n",
      "finished MOL_ID =1925\n",
      "birds\n",
      "finished MOL_ID =1925\n",
      "mammals\n",
      "finished MOL_ID =1925\n",
      "reptiles\n",
      "finished MOL_ID =1925\n",
      "CPU times: user 1h 24min 7s, sys: 1min 1s, total: 1h 25min 8s\n",
      "Wall time: 3h 31min 18s\n"
     ]
    }
   ],
   "source": [
    "%%time\n",
    "### Loop over each set of data and add all results to one dictionary that will be a text field in the Feature Service\n",
    "for taxa in paths.keys():\n",
    "    print(taxa) \n",
    "    df = pd.read_csv(paths[taxa])\n",
    "        \n",
    "    ### Get species area against global species range:\n",
    "    lookup = getHTfromId(lookups[taxa])\n",
    "    df = df.merge(lookup[['SliceNumber','range_area_km2']], how='left',on = 'SliceNumber')\n",
    "    df = df.merge(places[['MOL_ID','AREA_KM2']])\n",
    "    \n",
    "    if taxa == 'mammals':\n",
    "        df['per_global'] = round(df['presence']/df['range_area_km2']*100,2)\n",
    "        df['per_aoi'] = round(df['presence']/df['AREA_KM2']*100,2)\n",
    "    else:\n",
    "        df['per_global'] = round(df[taxa]/df['range_area_km2']*100,2)\n",
    "        df['per_aoi'] = round(df[taxa]/df['AREA_KM2']*100,2)\n",
    "    \n",
    "    ### Format as array of dicts:\n",
    "    for i in dff.MOL_ID:\n",
    "        species = []\n",
    "        for j in df[(df.MOL_ID== i)].SliceNumber.unique():\n",
    "            sp_dict = {'SliceNumber':int(df[(df.MOL_ID== i) & (df.SliceNumber==j)].SliceNumber.values[0]),\n",
    "                       'per_global':df[(df.MOL_ID== i) & (df.SliceNumber==j)].per_global.values[0],\n",
    "                       'per_aoi':df[(df.MOL_ID== i) & (df.SliceNumber==j)].per_aoi.values[0]\n",
    "                      }\n",
    "            species.append(sp_dict)\n",
    "        dff.loc[dff['MOL_ID']==i,taxa] =json.dumps(species)\n",
    "    print(f'finished MOL_ID ={i}')\n",
    "pd.set_option('display.max_colwidth',None)\n",
    "test= pd.DataFrame(dff[dff.columns[~dff.columns.isin(['geometry'])]])\n",
    "dff.to_file(\"../../HE_Data/PlacesHE/top_places_precalc_biodiv.geojson\",driver='GeoJSON')\n",
    "pd.reset_option('display.max_colwidth')\n",
    "\n",
    "#### Don't export as shapefile because it truncates the string length"
   ]
  },
  {
   "cell_type": "code",
   "execution_count": 68,
   "metadata": {},
   "outputs": [
    {
     "data": {
      "text/html": [
       "<div>\n",
       "<style scoped>\n",
       "    .dataframe tbody tr th:only-of-type {\n",
       "        vertical-align: middle;\n",
       "    }\n",
       "\n",
       "    .dataframe tbody tr th {\n",
       "        vertical-align: top;\n",
       "    }\n",
       "\n",
       "    .dataframe thead th {\n",
       "        text-align: right;\n",
       "    }\n",
       "</style>\n",
       "<table border=\"1\" class=\"dataframe\">\n",
       "  <thead>\n",
       "    <tr style=\"text-align: right;\">\n",
       "      <th></th>\n",
       "      <th>GID_0</th>\n",
       "      <th>NAME_0</th>\n",
       "      <th>cluster</th>\n",
       "      <th>PRmean</th>\n",
       "      <th>AREA_KM2</th>\n",
       "      <th>geometry</th>\n",
       "      <th>MOL_ID</th>\n",
       "      <th>reptiles</th>\n",
       "      <th>amphibians</th>\n",
       "      <th>mammals</th>\n",
       "      <th>birds</th>\n",
       "      <th>majority_land_cover_climate_regime</th>\n",
       "      <th>land_cover_majority</th>\n",
       "      <th>climate_regime_majority</th>\n",
       "      <th>percent_irrigated</th>\n",
       "      <th>percent_rainfed</th>\n",
       "      <th>percent_rangeland</th>\n",
       "      <th>percent_urban</th>\n",
       "      <th>population_sum</th>\n",
       "    </tr>\n",
       "  </thead>\n",
       "  <tbody>\n",
       "    <tr>\n",
       "      <th>0</th>\n",
       "      <td>AFG</td>\n",
       "      <td>Afghanistan</td>\n",
       "      <td>1</td>\n",
       "      <td>60.222222</td>\n",
       "      <td>7687.504920</td>\n",
       "      <td>POLYGON ((6784878.655 4081461.837, 6783664.553...</td>\n",
       "      <td>1</td>\n",
       "      <td>[{\"SliceNumber\": 9, \"per_global\": 0.29, \"per_a...</td>\n",
       "      <td>[{\"SliceNumber\": 951, \"per_global\": 4.02, \"per...</td>\n",
       "      <td>[{\"SliceNumber\": 167, \"per_global\": 0.01, \"per...</td>\n",
       "      <td>[{\"SliceNumber\": 26, \"per_global\": 0.02, \"per_...</td>\n",
       "      <td>184.0</td>\n",
       "      <td>Cropland</td>\n",
       "      <td>Warm Temperate Dry</td>\n",
       "      <td>26.31</td>\n",
       "      <td>57.02</td>\n",
       "      <td>15.50</td>\n",
       "      <td>NaN</td>\n",
       "      <td>2.092001e+06</td>\n",
       "    </tr>\n",
       "    <tr>\n",
       "      <th>1</th>\n",
       "      <td>AFG</td>\n",
       "      <td>Afghanistan</td>\n",
       "      <td>2</td>\n",
       "      <td>60.222222</td>\n",
       "      <td>4706.088317</td>\n",
       "      <td>POLYGON ((6833826.327 4162440.126, 6832851.109...</td>\n",
       "      <td>2</td>\n",
       "      <td>[{\"SliceNumber\": 9, \"per_global\": 0.2, \"per_ao...</td>\n",
       "      <td>[{\"SliceNumber\": 951, \"per_global\": 4.19, \"per...</td>\n",
       "      <td>[{\"SliceNumber\": 167, \"per_global\": 0.12, \"per...</td>\n",
       "      <td>[{\"SliceNumber\": 92, \"per_global\": 0.06, \"per_...</td>\n",
       "      <td>176.0</td>\n",
       "      <td>Forest</td>\n",
       "      <td>Warm Temperate Moist</td>\n",
       "      <td>1.56</td>\n",
       "      <td>55.09</td>\n",
       "      <td>5.24</td>\n",
       "      <td>NaN</td>\n",
       "      <td>6.288113e+05</td>\n",
       "    </tr>\n",
       "  </tbody>\n",
       "</table>\n",
       "</div>"
      ],
      "text/plain": [
       "  GID_0       NAME_0  cluster     PRmean     AREA_KM2  \\\n",
       "0   AFG  Afghanistan        1  60.222222  7687.504920   \n",
       "1   AFG  Afghanistan        2  60.222222  4706.088317   \n",
       "\n",
       "                                            geometry  MOL_ID  \\\n",
       "0  POLYGON ((6784878.655 4081461.837, 6783664.553...       1   \n",
       "1  POLYGON ((6833826.327 4162440.126, 6832851.109...       2   \n",
       "\n",
       "                                            reptiles  \\\n",
       "0  [{\"SliceNumber\": 9, \"per_global\": 0.29, \"per_a...   \n",
       "1  [{\"SliceNumber\": 9, \"per_global\": 0.2, \"per_ao...   \n",
       "\n",
       "                                          amphibians  \\\n",
       "0  [{\"SliceNumber\": 951, \"per_global\": 4.02, \"per...   \n",
       "1  [{\"SliceNumber\": 951, \"per_global\": 4.19, \"per...   \n",
       "\n",
       "                                             mammals  \\\n",
       "0  [{\"SliceNumber\": 167, \"per_global\": 0.01, \"per...   \n",
       "1  [{\"SliceNumber\": 167, \"per_global\": 0.12, \"per...   \n",
       "\n",
       "                                               birds  \\\n",
       "0  [{\"SliceNumber\": 26, \"per_global\": 0.02, \"per_...   \n",
       "1  [{\"SliceNumber\": 92, \"per_global\": 0.06, \"per_...   \n",
       "\n",
       "   majority_land_cover_climate_regime land_cover_majority  \\\n",
       "0                               184.0            Cropland   \n",
       "1                               176.0              Forest   \n",
       "\n",
       "  climate_regime_majority  percent_irrigated  percent_rainfed  \\\n",
       "0      Warm Temperate Dry              26.31            57.02   \n",
       "1    Warm Temperate Moist               1.56            55.09   \n",
       "\n",
       "   percent_rangeland  percent_urban  population_sum  \n",
       "0              15.50            NaN    2.092001e+06  \n",
       "1               5.24            NaN    6.288113e+05  "
      ]
     },
     "execution_count": 68,
     "metadata": {},
     "output_type": "execute_result"
    }
   ],
   "source": [
    "dff.head(2)"
   ]
  },
  {
   "cell_type": "code",
   "execution_count": 69,
   "metadata": {},
   "outputs": [],
   "source": [
    "dff.to_file(\"{0}/top_places_precalculated_biodiv.geojson\".format(path),driver='GeoJSON')\n",
    "dff.to_csv(\"{0}/top_places_precalculated_biodiv.csv\".format(path))"
   ]
  },
  {
   "cell_type": "code",
   "execution_count": 23,
   "metadata": {},
   "outputs": [
    {
     "data": {
      "text/plain": [
       "'[{\"SliceNumber\": 575, \"per_global\": 1.62, \"per_aoi\": 87.54}, {\"SliceNumber\": 605, \"per_global\": 0.0, \"per_aoi\": 77.68}, {\"SliceNumber\": 607, \"per_global\": 0.01, \"per_aoi\": 86.61}, {\"SliceNumber\": 609, \"per_global\": 0.0, \"per_aoi\": 94.73}, {\"SliceNumber\": 615, \"per_global\": 0.04, \"per_aoi\": 67.36}, {\"SliceNumber\": 635, \"per_global\": 0.0, \"per_aoi\": 90.78}, {\"SliceNumber\": 1176, \"per_global\": 0.09, \"per_aoi\": 44.75}, {\"SliceNumber\": 1613, \"per_global\": 0.05, \"per_aoi\": 11.83}, {\"SliceNumber\": 1784, \"per_global\": 0.0, \"per_aoi\": 0.12}, {\"SliceNumber\": 1787, \"per_global\": 0.0, \"per_aoi\": 95.77}, {\"SliceNumber\": 1955, \"per_global\": 0.01, \"per_aoi\": 65.97}, {\"SliceNumber\": 2106, \"per_global\": 0.01, \"per_aoi\": 94.73}, {\"SliceNumber\": 2240, \"per_global\": 0.01, \"per_aoi\": 81.62}, {\"SliceNumber\": 2335, \"per_global\": 0.01, \"per_aoi\": 42.9}, {\"SliceNumber\": 2341, \"per_global\": 0.0, \"per_aoi\": 0.12}, {\"SliceNumber\": 2811, \"per_global\": 0.17, \"per_aoi\": 69.22}, {\"SliceNumber\": 2889, \"per_global\": 0.0, \"per_aoi\": 97.86}, {\"SliceNumber\": 2927, \"per_global\": 0.04, \"per_aoi\": 77.91}, {\"SliceNumber\": 3041, \"per_global\": 0.32, \"per_aoi\": 94.73}, {\"SliceNumber\": 3443, \"per_global\": 0.01, \"per_aoi\": 99.71}, {\"SliceNumber\": 3849, \"per_global\": 0.12, \"per_aoi\": 54.03}, {\"SliceNumber\": 3956, \"per_global\": 0.02, \"per_aoi\": 95.77}, {\"SliceNumber\": 4014, \"per_global\": 0.14, \"per_aoi\": 94.73}, {\"SliceNumber\": 4060, \"per_global\": 0.01, \"per_aoi\": 95.77}, {\"SliceNumber\": 4494, \"per_global\": 0.0, \"per_aoi\": 3.01}, {\"SliceNumber\": 4832, \"per_global\": 0.04, \"per_aoi\": 41.28}, {\"SliceNumber\": 4939, \"per_global\": 0.01, \"per_aoi\": 54.72}, {\"SliceNumber\": 5561, \"per_global\": 0.0, \"per_aoi\": 13.22}, {\"SliceNumber\": 5687, \"per_global\": 0.01, \"per_aoi\": 94.73}, {\"SliceNumber\": 6030, \"per_global\": 0.01, \"per_aoi\": 44.75}]'"
      ]
     },
     "execution_count": 23,
     "metadata": {},
     "output_type": "execute_result"
    }
   ],
   "source": [
    "dff.loc[dff['MOL_ID']==20,'mammals'].values[0]"
   ]
  },
  {
   "cell_type": "markdown",
   "metadata": {},
   "source": [
    "### Format contextual data "
   ]
  },
  {
   "cell_type": "code",
   "execution_count": 91,
   "metadata": {},
   "outputs": [
    {
     "data": {
      "text/html": [
       "<div>\n",
       "<style scoped>\n",
       "    .dataframe tbody tr th:only-of-type {\n",
       "        vertical-align: middle;\n",
       "    }\n",
       "\n",
       "    .dataframe tbody tr th {\n",
       "        vertical-align: top;\n",
       "    }\n",
       "\n",
       "    .dataframe thead th {\n",
       "        text-align: right;\n",
       "    }\n",
       "</style>\n",
       "<table border=\"1\" class=\"dataframe\">\n",
       "  <thead>\n",
       "    <tr style=\"text-align: right;\">\n",
       "      <th></th>\n",
       "      <th>Unnamed: 0</th>\n",
       "      <th>GID_0</th>\n",
       "      <th>NAME_0</th>\n",
       "      <th>cluster</th>\n",
       "      <th>PRmean</th>\n",
       "      <th>AREA_KM2</th>\n",
       "      <th>geometry</th>\n",
       "      <th>MOL_ID</th>\n",
       "      <th>reptiles</th>\n",
       "      <th>amphibians</th>\n",
       "      <th>mammals</th>\n",
       "      <th>birds</th>\n",
       "      <th>majority_land_cover_climate_regime</th>\n",
       "      <th>land_cover_majority</th>\n",
       "      <th>climate_regime_majority</th>\n",
       "      <th>percent_irrigated</th>\n",
       "      <th>percent_rainfed</th>\n",
       "      <th>percent_rangeland</th>\n",
       "      <th>percent_urban</th>\n",
       "      <th>population_sum</th>\n",
       "    </tr>\n",
       "  </thead>\n",
       "  <tbody>\n",
       "    <tr>\n",
       "      <th>0</th>\n",
       "      <td>0</td>\n",
       "      <td>AFG</td>\n",
       "      <td>Afghanistan</td>\n",
       "      <td>1</td>\n",
       "      <td>60.222222</td>\n",
       "      <td>7687.50492</td>\n",
       "      <td>POLYGON ((6784878.655095577 4081461.837275224,...</td>\n",
       "      <td>1</td>\n",
       "      <td>[{\"SliceNumber\": 9, \"per_global\": 0.29, \"per_a...</td>\n",
       "      <td>[{\"SliceNumber\": 951, \"per_global\": 4.02, \"per...</td>\n",
       "      <td>[{\"SliceNumber\": 167, \"per_global\": 0.01, \"per...</td>\n",
       "      <td>[{\"SliceNumber\": 26, \"per_global\": 0.02, \"per_...</td>\n",
       "      <td>184.0</td>\n",
       "      <td>Cropland</td>\n",
       "      <td>Warm Temperate Dry</td>\n",
       "      <td>26.31</td>\n",
       "      <td>57.02</td>\n",
       "      <td>15.5</td>\n",
       "      <td>NaN</td>\n",
       "      <td>2.092001e+06</td>\n",
       "    </tr>\n",
       "  </tbody>\n",
       "</table>\n",
       "</div>"
      ],
      "text/plain": [
       "   Unnamed: 0 GID_0       NAME_0  cluster     PRmean    AREA_KM2  \\\n",
       "0           0   AFG  Afghanistan        1  60.222222  7687.50492   \n",
       "\n",
       "                                            geometry  MOL_ID  \\\n",
       "0  POLYGON ((6784878.655095577 4081461.837275224,...       1   \n",
       "\n",
       "                                            reptiles  \\\n",
       "0  [{\"SliceNumber\": 9, \"per_global\": 0.29, \"per_a...   \n",
       "\n",
       "                                          amphibians  \\\n",
       "0  [{\"SliceNumber\": 951, \"per_global\": 4.02, \"per...   \n",
       "\n",
       "                                             mammals  \\\n",
       "0  [{\"SliceNumber\": 167, \"per_global\": 0.01, \"per...   \n",
       "\n",
       "                                               birds  \\\n",
       "0  [{\"SliceNumber\": 26, \"per_global\": 0.02, \"per_...   \n",
       "\n",
       "   majority_land_cover_climate_regime land_cover_majority  \\\n",
       "0                               184.0            Cropland   \n",
       "\n",
       "  climate_regime_majority  percent_irrigated  percent_rainfed  \\\n",
       "0      Warm Temperate Dry              26.31            57.02   \n",
       "\n",
       "   percent_rangeland  percent_urban  population_sum  \n",
       "0               15.5            NaN    2.092001e+06  "
      ]
     },
     "execution_count": 91,
     "metadata": {},
     "output_type": "execute_result"
    }
   ],
   "source": [
    "bio = pd.read_csv('{0}/top_places_precalculated_biodiv.csv'.format(path)) # Here is where I bring the geojson back but it does not have the species info\n",
    "bio.head(1)"
   ]
  },
  {
   "cell_type": "code",
   "execution_count": 73,
   "metadata": {
    "collapsed": true,
    "jupyter": {
     "outputs_hidden": true
    },
    "tags": []
   },
   "outputs": [
    {
     "data": {
      "text/plain": [
       "'[{\"SliceNumber\": 167, \"per_global\": 0.01, \"per_aoi\": 0.73}, {\"SliceNumber\": 390, \"per_global\": 0.0, \"per_aoi\": 0.09}, {\"SliceNumber\": 575, \"per_global\": 10.5, \"per_aoi\": 63.57}, {\"SliceNumber\": 605, \"per_global\": 0.0, \"per_aoi\": 10.82}, {\"SliceNumber\": 607, \"per_global\": 0.05, \"per_aoi\": 93.05}, {\"SliceNumber\": 609, \"per_global\": 0.01, \"per_aoi\": 84.46}, {\"SliceNumber\": 618, \"per_global\": 1.95, \"per_aoi\": 11.89}, {\"SliceNumber\": 1176, \"per_global\": 0.2, \"per_aoi\": 10.78}, {\"SliceNumber\": 1627, \"per_global\": 0.64, \"per_aoi\": 0.12}, {\"SliceNumber\": 1688, \"per_global\": 0.09, \"per_aoi\": 83.29}, {\"SliceNumber\": 1784, \"per_global\": 0.11, \"per_aoi\": 74.67}, {\"SliceNumber\": 1787, \"per_global\": 0.02, \"per_aoi\": 85.13}, {\"SliceNumber\": 1805, \"per_global\": 0.07, \"per_aoi\": 26.76}, {\"SliceNumber\": 2003, \"per_global\": 0.06, \"per_aoi\": 23.48}, {\"SliceNumber\": 2103, \"per_global\": 0.09, \"per_aoi\": 3.45}, {\"SliceNumber\": 2106, \"per_global\": 0.12, \"per_aoi\": 96.12}, {\"SliceNumber\": 2108, \"per_global\": 0.02, \"per_aoi\": 8.99}, {\"SliceNumber\": 2171, \"per_global\": 0.03, \"per_aoi\": 0.05}, {\"SliceNumber\": 2240, \"per_global\": 0.11, \"per_aoi\": 80.42}, {\"SliceNumber\": 2335, \"per_global\": 0.15, \"per_aoi\": 91.15}, {\"SliceNumber\": 2341, \"per_global\": 0.13, \"per_aoi\": 82.11}, {\"SliceNumber\": 2572, \"per_global\": 0.03, \"per_aoi\": 11.93}, {\"SliceNumber\": 2688, \"per_global\": 0.11, \"per_aoi\": 95.14}, {\"SliceNumber\": 2697, \"per_global\": 0.08, \"per_aoi\": 56.68}, {\"SliceNumber\": 2759, \"per_global\": 0.0, \"per_aoi\": 1.31}, {\"SliceNumber\": 2811, \"per_global\": 0.19, \"per_aoi\": 8.51}, {\"SliceNumber\": 2889, \"per_global\": 0.02, \"per_aoi\": 85.88}, {\"SliceNumber\": 2925, \"per_global\": 0.07, \"per_aoi\": 48.56}, {\"SliceNumber\": 2927, \"per_global\": 0.0, \"per_aoi\": 0.01}, {\"SliceNumber\": 3093, \"per_global\": 0.03, \"per_aoi\": 0.22}, {\"SliceNumber\": 3114, \"per_global\": 0.13, \"per_aoi\": 92.93}, {\"SliceNumber\": 3443, \"per_global\": 0.1, \"per_aoi\": 100.03}, {\"SliceNumber\": 3762, \"per_global\": 0.08, \"per_aoi\": 53.68}, {\"SliceNumber\": 3849, \"per_global\": 0.68, \"per_aoi\": 35.58}, {\"SliceNumber\": 3956, \"per_global\": 0.14, \"per_aoi\": 78.3}, {\"SliceNumber\": 3996, \"per_global\": 0.43, \"per_aoi\": 16.6}, {\"SliceNumber\": 4014, \"per_global\": 0.47, \"per_aoi\": 36.31}, {\"SliceNumber\": 4060, \"per_global\": 0.09, \"per_aoi\": 85.5}, {\"SliceNumber\": 4083, \"per_global\": 0.18, \"per_aoi\": 45.59}, {\"SliceNumber\": 4415, \"per_global\": 0.16, \"per_aoi\": 70.37}, {\"SliceNumber\": 4423, \"per_global\": 0.07, \"per_aoi\": 48.57}, {\"SliceNumber\": 4431, \"per_global\": 0.06, \"per_aoi\": 72.42}, {\"SliceNumber\": 4436, \"per_global\": 0.04, \"per_aoi\": 36.32}, {\"SliceNumber\": 4483, \"per_global\": 1.18, \"per_aoi\": 95.86}, {\"SliceNumber\": 4494, \"per_global\": 0.68, \"per_aoi\": 95.86}, {\"SliceNumber\": 4740, \"per_global\": 0.0, \"per_aoi\": 0.03}, {\"SliceNumber\": 4832, \"per_global\": 0.19, \"per_aoi\": 22.23}, {\"SliceNumber\": 4834, \"per_global\": 0.03, \"per_aoi\": 64.51}, {\"SliceNumber\": 4843, \"per_global\": 0.06, \"per_aoi\": 76.72}, {\"SliceNumber\": 4916, \"per_global\": 0.16, \"per_aoi\": 71.82}, {\"SliceNumber\": 4939, \"per_global\": 0.16, \"per_aoi\": 89.46}, {\"SliceNumber\": 4948, \"per_global\": 0.14, \"per_aoi\": 63.28}, {\"SliceNumber\": 4954, \"per_global\": 0.15, \"per_aoi\": 63.12}, {\"SliceNumber\": 5025, \"per_global\": 0.26, \"per_aoi\": 27.15}, {\"SliceNumber\": 5027, \"per_global\": 0.03, \"per_aoi\": 19.08}, {\"SliceNumber\": 5083, \"per_global\": 0.38, \"per_aoi\": 95.56}, {\"SliceNumber\": 5242, \"per_global\": 0.06, \"per_aoi\": 44.03}, {\"SliceNumber\": 5268, \"per_global\": 1.81, \"per_aoi\": 23.9}, {\"SliceNumber\": 5515, \"per_global\": 0.06, \"per_aoi\": 47.78}, {\"SliceNumber\": 5525, \"per_global\": 0.11, \"per_aoi\": 93.7}, {\"SliceNumber\": 5561, \"per_global\": 0.03, \"per_aoi\": 88.96}, {\"SliceNumber\": 5613, \"per_global\": 0.08, \"per_aoi\": 37.42}, {\"SliceNumber\": 5709, \"per_global\": 0.13, \"per_aoi\": 74.69}, {\"SliceNumber\": 5988, \"per_global\": 0.0, \"per_aoi\": 0.49}, {\"SliceNumber\": 6030, \"per_global\": 0.01, \"per_aoi\": 5.71}]'"
      ]
     },
     "execution_count": 73,
     "metadata": {},
     "output_type": "execute_result"
    }
   ],
   "source": [
    "bio.loc[dff['MOL_ID']==1,'mammals'].values[0]"
   ]
  },
  {
   "cell_type": "code",
   "execution_count": 30,
   "metadata": {},
   "outputs": [],
   "source": [
    "### Read files (Files coming from ArcGIS project Places_HE_Future and expoprted as csv)\n",
    "### Top 20 places original geometries from Scott: https://eowilson.maps.arcgis.com/home/item.html?id=4848c6b08fac4fa5bff40e9331b6d291\n",
    "elu= pd.read_csv('{0}/Csvs/Places_elu.csv'.format(path))\n",
    "le= pd.read_csv('{0}/Csvs/Places_encroachment.csv'.format(path))\n",
    "pop= pd.read_csv('{0}/Csvs/Places_pop.csv'.format(path))\n",
    "wl= pd.read_csv('{0}/Csvs/Places_wdpa_list.csv'.format(path))\n",
    "wp= pd.read_csv('{0}/Csvs/Places_wdpa_percentage.csv'.format(path))\n",
    "\n",
    "cont_lookups={'elu':'83802a7fa3d34c1fa40844fc14683966',\n",
    "              'landencroach':'b0ad58e2b2404eec811b711b604b9d55'}"
   ]
  },
  {
   "cell_type": "code",
   "execution_count": 31,
   "metadata": {},
   "outputs": [],
   "source": [
    "elu = elu.rename(columns ={'OBJECTID_1':'MOL_ID'})\n",
    "le = le.rename(columns ={'OBJECTID_1':'MOL_ID'})\n",
    "pop = pop.rename(columns ={'OBJECTID_1':'MOL_ID'})"
   ]
  },
  {
   "cell_type": "markdown",
   "metadata": {},
   "source": [
    "For elu layer there are some rows that were not processed in Arcgis Pro (the geometries were not rasterized). To know which geometries are not included in elu table do this and repeat analysis in arcgis pro only for those rows."
   ]
  },
  {
   "cell_type": "code",
   "execution_count": 32,
   "metadata": {},
   "outputs": [],
   "source": [
    "l = list(range(1,1926))"
   ]
  },
  {
   "cell_type": "code",
   "execution_count": 33,
   "metadata": {},
   "outputs": [
    {
     "data": {
      "text/plain": [
       "95"
      ]
     },
     "execution_count": 33,
     "metadata": {},
     "output_type": "execute_result"
    }
   ],
   "source": [
    "l = list(set(dff.MOL_ID) - set(elu.MOL_ID))\n",
    "len(l) # number of geometries that have no elu data, repeat analysis in ArcGIS Pro for those"
   ]
  },
  {
   "cell_type": "code",
   "execution_count": 34,
   "metadata": {},
   "outputs": [],
   "source": [
    "# Read elu table with new rows\n",
    "elu2= pd.read_csv('{0}/Csvs/Places_elu_nulls.csv'.format(path))"
   ]
  },
  {
   "cell_type": "code",
   "execution_count": 35,
   "metadata": {},
   "outputs": [
    {
     "data": {
      "text/html": [
       "<div>\n",
       "<style scoped>\n",
       "    .dataframe tbody tr th:only-of-type {\n",
       "        vertical-align: middle;\n",
       "    }\n",
       "\n",
       "    .dataframe tbody tr th {\n",
       "        vertical-align: top;\n",
       "    }\n",
       "\n",
       "    .dataframe thead th {\n",
       "        text-align: right;\n",
       "    }\n",
       "</style>\n",
       "<table border=\"1\" class=\"dataframe\">\n",
       "  <thead>\n",
       "    <tr style=\"text-align: right;\">\n",
       "      <th></th>\n",
       "      <th>OID_</th>\n",
       "      <th>MOL_ID</th>\n",
       "      <th>COUNT</th>\n",
       "      <th>AREA</th>\n",
       "      <th>MAJORITY</th>\n",
       "    </tr>\n",
       "  </thead>\n",
       "  <tbody>\n",
       "    <tr>\n",
       "      <th>0</th>\n",
       "      <td>1</td>\n",
       "      <td>1</td>\n",
       "      <td>148821.0</td>\n",
       "      <td>0.750596</td>\n",
       "      <td>184</td>\n",
       "    </tr>\n",
       "  </tbody>\n",
       "</table>\n",
       "</div>"
      ],
      "text/plain": [
       "   OID_  MOL_ID     COUNT      AREA  MAJORITY\n",
       "0     1       1  148821.0  0.750596       184"
      ]
     },
     "execution_count": 35,
     "metadata": {},
     "output_type": "execute_result"
    }
   ],
   "source": [
    "# Merge elu datasets\n",
    "elu = elu.append(elu2)\n",
    "elu.head(1)"
   ]
  },
  {
   "cell_type": "code",
   "execution_count": 36,
   "metadata": {},
   "outputs": [
    {
     "data": {
      "text/plain": [
       "28"
      ]
     },
     "execution_count": 36,
     "metadata": {},
     "output_type": "execute_result"
    }
   ],
   "source": [
    "l = list(set(dff.MOL_ID) - set(elu.MOL_ID))\n",
    "len(l) # those geometries don't have elu data"
   ]
  },
  {
   "cell_type": "code",
   "execution_count": 75,
   "metadata": {},
   "outputs": [
    {
     "data": {
      "text/plain": [
       "Index(['Unnamed: 0', 'GID_0', 'NAME_0', 'GID_1', 'NAME_1', 'MOL_ID',\n",
       "       'AREA_KM2', 'reptiles', 'amphibians', 'mammals', 'birds',\n",
       "       'percentage_protected', 'percent_irrigated', 'percent_rainfed',\n",
       "       'percent_rangeland', 'percent_urban', 'population_sum',\n",
       "       'majority_land_cover_climate_regime', 'land_cover_majority',\n",
       "       'climate_regime_majority', 'country_size'],\n",
       "      dtype='object')"
      ]
     },
     "execution_count": 75,
     "metadata": {},
     "output_type": "execute_result"
    }
   ],
   "source": [
    "### Column names needed: \n",
    "# 'percent_irrigated', 'percent_rainfed',\n",
    "#        'percent_rangeland', 'percent_urban', 'population_sum',\n",
    "#        'majority_land_cover_climate_regime', 'land_cover_majority',\n",
    "#        'climate_regime_majority',"
   ]
  },
  {
   "cell_type": "code",
   "execution_count": 37,
   "metadata": {},
   "outputs": [
    {
     "data": {
      "text/html": [
       "<div>\n",
       "<style scoped>\n",
       "    .dataframe tbody tr th:only-of-type {\n",
       "        vertical-align: middle;\n",
       "    }\n",
       "\n",
       "    .dataframe tbody tr th {\n",
       "        vertical-align: top;\n",
       "    }\n",
       "\n",
       "    .dataframe thead th {\n",
       "        text-align: right;\n",
       "    }\n",
       "</style>\n",
       "<table border=\"1\" class=\"dataframe\">\n",
       "  <thead>\n",
       "    <tr style=\"text-align: right;\">\n",
       "      <th></th>\n",
       "      <th>GID_0</th>\n",
       "      <th>NAME_0</th>\n",
       "      <th>cluster</th>\n",
       "      <th>PRmean</th>\n",
       "      <th>AREA_KM2</th>\n",
       "      <th>geometry</th>\n",
       "      <th>MOL_ID</th>\n",
       "      <th>reptiles</th>\n",
       "      <th>amphibians</th>\n",
       "      <th>mammals</th>\n",
       "      <th>birds</th>\n",
       "    </tr>\n",
       "  </thead>\n",
       "  <tbody>\n",
       "    <tr>\n",
       "      <th>0</th>\n",
       "      <td>AFG</td>\n",
       "      <td>Afghanistan</td>\n",
       "      <td>1</td>\n",
       "      <td>60.222222</td>\n",
       "      <td>7687.50492</td>\n",
       "      <td>POLYGON ((6784878.655 4081461.837, 6783664.553...</td>\n",
       "      <td>1</td>\n",
       "      <td>[{\"SliceNumber\": 9, \"per_global\": 0.29, \"per_a...</td>\n",
       "      <td>[{\"SliceNumber\": 951, \"per_global\": 4.02, \"per...</td>\n",
       "      <td>[{\"SliceNumber\": 167, \"per_global\": 0.01, \"per...</td>\n",
       "      <td>[{\"SliceNumber\": 26, \"per_global\": 0.02, \"per_...</td>\n",
       "    </tr>\n",
       "  </tbody>\n",
       "</table>\n",
       "</div>"
      ],
      "text/plain": [
       "  GID_0       NAME_0  cluster     PRmean    AREA_KM2  \\\n",
       "0   AFG  Afghanistan        1  60.222222  7687.50492   \n",
       "\n",
       "                                            geometry  MOL_ID  \\\n",
       "0  POLYGON ((6784878.655 4081461.837, 6783664.553...       1   \n",
       "\n",
       "                                            reptiles  \\\n",
       "0  [{\"SliceNumber\": 9, \"per_global\": 0.29, \"per_a...   \n",
       "\n",
       "                                          amphibians  \\\n",
       "0  [{\"SliceNumber\": 951, \"per_global\": 4.02, \"per...   \n",
       "\n",
       "                                             mammals  \\\n",
       "0  [{\"SliceNumber\": 167, \"per_global\": 0.01, \"per...   \n",
       "\n",
       "                                               birds  \n",
       "0  [{\"SliceNumber\": 26, \"per_global\": 0.02, \"per_...  "
      ]
     },
     "execution_count": 37,
     "metadata": {},
     "output_type": "execute_result"
    }
   ],
   "source": [
    "dff.head(1)"
   ]
  },
  {
   "cell_type": "code",
   "execution_count": 38,
   "metadata": {},
   "outputs": [],
   "source": [
    "## Add contextual data: ELU\n",
    "dff = dff.merge(elu[['MOL_ID','MAJORITY']], how='left', on = 'MOL_ID').rename(columns={'MAJORITY':'majority_land_cover_climate_regime'})"
   ]
  },
  {
   "cell_type": "code",
   "execution_count": 39,
   "metadata": {},
   "outputs": [
    {
     "data": {
      "text/html": [
       "<div>\n",
       "<style scoped>\n",
       "    .dataframe tbody tr th:only-of-type {\n",
       "        vertical-align: middle;\n",
       "    }\n",
       "\n",
       "    .dataframe tbody tr th {\n",
       "        vertical-align: top;\n",
       "    }\n",
       "\n",
       "    .dataframe thead th {\n",
       "        text-align: right;\n",
       "    }\n",
       "</style>\n",
       "<table border=\"1\" class=\"dataframe\">\n",
       "  <thead>\n",
       "    <tr style=\"text-align: right;\">\n",
       "      <th></th>\n",
       "      <th>GID_0</th>\n",
       "      <th>NAME_0</th>\n",
       "      <th>cluster</th>\n",
       "      <th>PRmean</th>\n",
       "      <th>AREA_KM2</th>\n",
       "      <th>geometry</th>\n",
       "      <th>MOL_ID</th>\n",
       "      <th>reptiles</th>\n",
       "      <th>amphibians</th>\n",
       "      <th>mammals</th>\n",
       "      <th>birds</th>\n",
       "      <th>majority_land_cover_climate_regime</th>\n",
       "    </tr>\n",
       "  </thead>\n",
       "  <tbody>\n",
       "    <tr>\n",
       "      <th>0</th>\n",
       "      <td>AFG</td>\n",
       "      <td>Afghanistan</td>\n",
       "      <td>1</td>\n",
       "      <td>60.222222</td>\n",
       "      <td>7687.50492</td>\n",
       "      <td>POLYGON ((6784878.655 4081461.837, 6783664.553...</td>\n",
       "      <td>1</td>\n",
       "      <td>[{\"SliceNumber\": 9, \"per_global\": 0.29, \"per_a...</td>\n",
       "      <td>[{\"SliceNumber\": 951, \"per_global\": 4.02, \"per...</td>\n",
       "      <td>[{\"SliceNumber\": 167, \"per_global\": 0.01, \"per...</td>\n",
       "      <td>[{\"SliceNumber\": 26, \"per_global\": 0.02, \"per_...</td>\n",
       "      <td>184.0</td>\n",
       "    </tr>\n",
       "  </tbody>\n",
       "</table>\n",
       "</div>"
      ],
      "text/plain": [
       "  GID_0       NAME_0  cluster     PRmean    AREA_KM2  \\\n",
       "0   AFG  Afghanistan        1  60.222222  7687.50492   \n",
       "\n",
       "                                            geometry  MOL_ID  \\\n",
       "0  POLYGON ((6784878.655 4081461.837, 6783664.553...       1   \n",
       "\n",
       "                                            reptiles  \\\n",
       "0  [{\"SliceNumber\": 9, \"per_global\": 0.29, \"per_a...   \n",
       "\n",
       "                                          amphibians  \\\n",
       "0  [{\"SliceNumber\": 951, \"per_global\": 4.02, \"per...   \n",
       "\n",
       "                                             mammals  \\\n",
       "0  [{\"SliceNumber\": 167, \"per_global\": 0.01, \"per...   \n",
       "\n",
       "                                               birds  \\\n",
       "0  [{\"SliceNumber\": 26, \"per_global\": 0.02, \"per_...   \n",
       "\n",
       "   majority_land_cover_climate_regime  \n",
       "0                               184.0  "
      ]
     },
     "execution_count": 39,
     "metadata": {},
     "output_type": "execute_result"
    }
   ],
   "source": [
    "dff.head(1)"
   ]
  },
  {
   "cell_type": "code",
   "execution_count": 40,
   "metadata": {},
   "outputs": [
    {
     "data": {
      "text/html": [
       "<div>\n",
       "<style scoped>\n",
       "    .dataframe tbody tr th:only-of-type {\n",
       "        vertical-align: middle;\n",
       "    }\n",
       "\n",
       "    .dataframe tbody tr th {\n",
       "        vertical-align: top;\n",
       "    }\n",
       "\n",
       "    .dataframe thead th {\n",
       "        text-align: right;\n",
       "    }\n",
       "</style>\n",
       "<table border=\"1\" class=\"dataframe\">\n",
       "  <thead>\n",
       "    <tr style=\"text-align: right;\">\n",
       "      <th></th>\n",
       "      <th>elu_code</th>\n",
       "      <th>elu</th>\n",
       "      <th>lc_type</th>\n",
       "      <th>lf_type</th>\n",
       "      <th>cr_type</th>\n",
       "      <th>ObjectId</th>\n",
       "    </tr>\n",
       "  </thead>\n",
       "  <tbody>\n",
       "    <tr>\n",
       "      <th>0</th>\n",
       "      <td>301</td>\n",
       "      <td>Sub Tropical Moist Forest on Plains</td>\n",
       "      <td>Forest</td>\n",
       "      <td>Plains</td>\n",
       "      <td>Sub Tropical Moist</td>\n",
       "      <td>1</td>\n",
       "    </tr>\n",
       "    <tr>\n",
       "      <th>1</th>\n",
       "      <td>201</td>\n",
       "      <td>Warm Temperate Dry Sparsley or Non vegetated o...</td>\n",
       "      <td>Sparsley or Non vegetated</td>\n",
       "      <td>Plains</td>\n",
       "      <td>Warm Temperate Dry</td>\n",
       "      <td>2</td>\n",
       "    </tr>\n",
       "    <tr>\n",
       "      <th>2</th>\n",
       "      <td>151</td>\n",
       "      <td>Cool Temperate Dry Sparsley or Non vegetated o...</td>\n",
       "      <td>Sparsley or Non vegetated</td>\n",
       "      <td>Plains</td>\n",
       "      <td>Cool Temperate Dry</td>\n",
       "      <td>3</td>\n",
       "    </tr>\n",
       "    <tr>\n",
       "      <th>3</th>\n",
       "      <td>302</td>\n",
       "      <td>Sub Tropical Moist Cropland on Tablelands</td>\n",
       "      <td>Cropland</td>\n",
       "      <td>Tablelands</td>\n",
       "      <td>Sub Tropical Moist</td>\n",
       "      <td>4</td>\n",
       "    </tr>\n",
       "    <tr>\n",
       "      <th>4</th>\n",
       "      <td>152</td>\n",
       "      <td>Cool Temperate Dry Sparsley or Non vegetated o...</td>\n",
       "      <td>Sparsley or Non vegetated</td>\n",
       "      <td>Tablelands</td>\n",
       "      <td>Cool Temperate Dry</td>\n",
       "      <td>5</td>\n",
       "    </tr>\n",
       "  </tbody>\n",
       "</table>\n",
       "</div>"
      ],
      "text/plain": [
       "   elu_code                                                elu  \\\n",
       "0       301                Sub Tropical Moist Forest on Plains   \n",
       "1       201  Warm Temperate Dry Sparsley or Non vegetated o...   \n",
       "2       151  Cool Temperate Dry Sparsley or Non vegetated o...   \n",
       "3       302          Sub Tropical Moist Cropland on Tablelands   \n",
       "4       152  Cool Temperate Dry Sparsley or Non vegetated o...   \n",
       "\n",
       "                     lc_type     lf_type             cr_type  ObjectId  \n",
       "0                     Forest      Plains  Sub Tropical Moist         1  \n",
       "1  Sparsley or Non vegetated      Plains  Warm Temperate Dry         2  \n",
       "2  Sparsley or Non vegetated      Plains  Cool Temperate Dry         3  \n",
       "3                   Cropland  Tablelands  Sub Tropical Moist         4  \n",
       "4  Sparsley or Non vegetated  Tablelands  Cool Temperate Dry         5  "
      ]
     },
     "execution_count": 40,
     "metadata": {},
     "output_type": "execute_result"
    }
   ],
   "source": [
    "# Retrieve elu lookup table to see to see the correspondences for that elu code\n",
    "elu_lookup = getHTfromId(cont_lookups['elu'])\n",
    "elu_lookup.head()"
   ]
  },
  {
   "cell_type": "code",
   "execution_count": 41,
   "metadata": {},
   "outputs": [],
   "source": [
    "# Merge in dataset the required info from lookup table\n",
    "dff = dff.merge(elu_lookup[['elu_code','lc_type','cr_type']], how='left', left_on = 'majority_land_cover_climate_regime', right_on = 'elu_code')\\\n",
    "    .drop(columns=['elu_code'])\\\n",
    "    .rename(columns={'lc_type':'land_cover_majority','cr_type':'climate_regime_majority'})"
   ]
  },
  {
   "cell_type": "code",
   "execution_count": 42,
   "metadata": {},
   "outputs": [
    {
     "data": {
      "text/html": [
       "<div>\n",
       "<style scoped>\n",
       "    .dataframe tbody tr th:only-of-type {\n",
       "        vertical-align: middle;\n",
       "    }\n",
       "\n",
       "    .dataframe tbody tr th {\n",
       "        vertical-align: top;\n",
       "    }\n",
       "\n",
       "    .dataframe thead th {\n",
       "        text-align: right;\n",
       "    }\n",
       "</style>\n",
       "<table border=\"1\" class=\"dataframe\">\n",
       "  <thead>\n",
       "    <tr style=\"text-align: right;\">\n",
       "      <th></th>\n",
       "      <th>GID_0</th>\n",
       "      <th>NAME_0</th>\n",
       "      <th>cluster</th>\n",
       "      <th>PRmean</th>\n",
       "      <th>AREA_KM2</th>\n",
       "      <th>geometry</th>\n",
       "      <th>MOL_ID</th>\n",
       "      <th>reptiles</th>\n",
       "      <th>amphibians</th>\n",
       "      <th>mammals</th>\n",
       "      <th>birds</th>\n",
       "      <th>majority_land_cover_climate_regime</th>\n",
       "      <th>land_cover_majority</th>\n",
       "      <th>climate_regime_majority</th>\n",
       "    </tr>\n",
       "  </thead>\n",
       "  <tbody>\n",
       "    <tr>\n",
       "      <th>0</th>\n",
       "      <td>AFG</td>\n",
       "      <td>Afghanistan</td>\n",
       "      <td>1</td>\n",
       "      <td>60.222222</td>\n",
       "      <td>7687.50492</td>\n",
       "      <td>POLYGON ((6784878.655 4081461.837, 6783664.553...</td>\n",
       "      <td>1</td>\n",
       "      <td>[{\"SliceNumber\": 9, \"per_global\": 0.29, \"per_a...</td>\n",
       "      <td>[{\"SliceNumber\": 951, \"per_global\": 4.02, \"per...</td>\n",
       "      <td>[{\"SliceNumber\": 167, \"per_global\": 0.01, \"per...</td>\n",
       "      <td>[{\"SliceNumber\": 26, \"per_global\": 0.02, \"per_...</td>\n",
       "      <td>184.0</td>\n",
       "      <td>Cropland</td>\n",
       "      <td>Warm Temperate Dry</td>\n",
       "    </tr>\n",
       "  </tbody>\n",
       "</table>\n",
       "</div>"
      ],
      "text/plain": [
       "  GID_0       NAME_0  cluster     PRmean    AREA_KM2  \\\n",
       "0   AFG  Afghanistan        1  60.222222  7687.50492   \n",
       "\n",
       "                                            geometry  MOL_ID  \\\n",
       "0  POLYGON ((6784878.655 4081461.837, 6783664.553...       1   \n",
       "\n",
       "                                            reptiles  \\\n",
       "0  [{\"SliceNumber\": 9, \"per_global\": 0.29, \"per_a...   \n",
       "\n",
       "                                          amphibians  \\\n",
       "0  [{\"SliceNumber\": 951, \"per_global\": 4.02, \"per...   \n",
       "\n",
       "                                             mammals  \\\n",
       "0  [{\"SliceNumber\": 167, \"per_global\": 0.01, \"per...   \n",
       "\n",
       "                                               birds  \\\n",
       "0  [{\"SliceNumber\": 26, \"per_global\": 0.02, \"per_...   \n",
       "\n",
       "   majority_land_cover_climate_regime land_cover_majority  \\\n",
       "0                               184.0            Cropland   \n",
       "\n",
       "  climate_regime_majority  \n",
       "0      Warm Temperate Dry  "
      ]
     },
     "execution_count": 42,
     "metadata": {},
     "output_type": "execute_result"
    }
   ],
   "source": [
    "dff.head(1)"
   ]
  },
  {
   "cell_type": "code",
   "execution_count": 43,
   "metadata": {},
   "outputs": [
    {
     "data": {
      "text/html": [
       "<div>\n",
       "<style scoped>\n",
       "    .dataframe tbody tr th:only-of-type {\n",
       "        vertical-align: middle;\n",
       "    }\n",
       "\n",
       "    .dataframe tbody tr th {\n",
       "        vertical-align: top;\n",
       "    }\n",
       "\n",
       "    .dataframe thead th {\n",
       "        text-align: right;\n",
       "    }\n",
       "</style>\n",
       "<table border=\"1\" class=\"dataframe\">\n",
       "  <thead>\n",
       "    <tr style=\"text-align: right;\">\n",
       "      <th></th>\n",
       "      <th>OID_</th>\n",
       "      <th>MOL_ID</th>\n",
       "      <th>COUNT</th>\n",
       "      <th>AREA</th>\n",
       "      <th>Variable</th>\n",
       "      <th>Dimensions</th>\n",
       "      <th>SliceNumber</th>\n",
       "      <th>MIN</th>\n",
       "      <th>MAX</th>\n",
       "      <th>RANGE</th>\n",
       "      <th>MEAN</th>\n",
       "      <th>STD</th>\n",
       "      <th>SUM</th>\n",
       "      <th>MEDIAN</th>\n",
       "      <th>PCT90</th>\n",
       "      <th>percentage_land_encroachment</th>\n",
       "    </tr>\n",
       "  </thead>\n",
       "  <tbody>\n",
       "    <tr>\n",
       "      <th>0</th>\n",
       "      <td>1</td>\n",
       "      <td>1</td>\n",
       "      <td>2846.0</td>\n",
       "      <td>0.197635</td>\n",
       "      <td>Variable_new</td>\n",
       "      <td>SliceNumber</td>\n",
       "      <td>1.0</td>\n",
       "      <td>0.276261</td>\n",
       "      <td>0.814483</td>\n",
       "      <td>0.538222</td>\n",
       "      <td>0.462732</td>\n",
       "      <td>0.133903</td>\n",
       "      <td>1316.934454</td>\n",
       "      <td>0.408784</td>\n",
       "      <td>0.684398</td>\n",
       "      <td>26.31</td>\n",
       "    </tr>\n",
       "  </tbody>\n",
       "</table>\n",
       "</div>"
      ],
      "text/plain": [
       "   OID_  MOL_ID   COUNT      AREA      Variable   Dimensions  SliceNumber  \\\n",
       "0     1       1  2846.0  0.197635  Variable_new  SliceNumber          1.0   \n",
       "\n",
       "        MIN       MAX     RANGE      MEAN       STD          SUM    MEDIAN  \\\n",
       "0  0.276261  0.814483  0.538222  0.462732  0.133903  1316.934454  0.408784   \n",
       "\n",
       "      PCT90  percentage_land_encroachment  \n",
       "0  0.684398                         26.31  "
      ]
     },
     "execution_count": 43,
     "metadata": {},
     "output_type": "execute_result"
    }
   ],
   "source": [
    "# Each slicenumber with a type of land encroachment\n",
    "le.head(1)"
   ]
  },
  {
   "cell_type": "code",
   "execution_count": 44,
   "metadata": {},
   "outputs": [],
   "source": [
    "# See all land encroachment data for each mol_id\n",
    "long =le[['SliceNumber','MOL_ID','percentage_land_encroachment']].pivot(index='MOL_ID', columns='SliceNumber', values='percentage_land_encroachment').reset_index().rename(columns=\n",
    "                                                                                                                              {1.0:'percent_irrigated',\n",
    "                                                                                                                              2.0:'percent_rainfed',\n",
    "                                                                                                                              3.0:'percent_rangeland',\n",
    "                                                                                                                                 4.0:'percent_urban'})"
   ]
  },
  {
   "cell_type": "code",
   "execution_count": 45,
   "metadata": {},
   "outputs": [
    {
     "data": {
      "text/html": [
       "<div>\n",
       "<style scoped>\n",
       "    .dataframe tbody tr th:only-of-type {\n",
       "        vertical-align: middle;\n",
       "    }\n",
       "\n",
       "    .dataframe tbody tr th {\n",
       "        vertical-align: top;\n",
       "    }\n",
       "\n",
       "    .dataframe thead th {\n",
       "        text-align: right;\n",
       "    }\n",
       "</style>\n",
       "<table border=\"1\" class=\"dataframe\">\n",
       "  <thead>\n",
       "    <tr style=\"text-align: right;\">\n",
       "      <th>SliceNumber</th>\n",
       "      <th>MOL_ID</th>\n",
       "      <th>percent_irrigated</th>\n",
       "      <th>percent_rainfed</th>\n",
       "      <th>percent_rangeland</th>\n",
       "      <th>percent_urban</th>\n",
       "    </tr>\n",
       "  </thead>\n",
       "  <tbody>\n",
       "    <tr>\n",
       "      <th>0</th>\n",
       "      <td>1</td>\n",
       "      <td>26.31</td>\n",
       "      <td>57.02</td>\n",
       "      <td>15.5</td>\n",
       "      <td>NaN</td>\n",
       "    </tr>\n",
       "  </tbody>\n",
       "</table>\n",
       "</div>"
      ],
      "text/plain": [
       "SliceNumber  MOL_ID  percent_irrigated  percent_rainfed  percent_rangeland  \\\n",
       "0                 1              26.31            57.02               15.5   \n",
       "\n",
       "SliceNumber  percent_urban  \n",
       "0                      NaN  "
      ]
     },
     "execution_count": 45,
     "metadata": {},
     "output_type": "execute_result"
    }
   ],
   "source": [
    "long.head(1)"
   ]
  },
  {
   "cell_type": "code",
   "execution_count": 46,
   "metadata": {},
   "outputs": [
    {
     "data": {
      "text/html": [
       "<div>\n",
       "<style scoped>\n",
       "    .dataframe tbody tr th:only-of-type {\n",
       "        vertical-align: middle;\n",
       "    }\n",
       "\n",
       "    .dataframe tbody tr th {\n",
       "        vertical-align: top;\n",
       "    }\n",
       "\n",
       "    .dataframe thead th {\n",
       "        text-align: right;\n",
       "    }\n",
       "</style>\n",
       "<table border=\"1\" class=\"dataframe\">\n",
       "  <thead>\n",
       "    <tr style=\"text-align: right;\">\n",
       "      <th>SliceNumber</th>\n",
       "      <th>MOL_ID</th>\n",
       "      <th>percent_irrigated</th>\n",
       "      <th>percent_rainfed</th>\n",
       "      <th>percent_rangeland</th>\n",
       "      <th>percent_urban</th>\n",
       "      <th>sum</th>\n",
       "    </tr>\n",
       "  </thead>\n",
       "  <tbody>\n",
       "    <tr>\n",
       "      <th>2</th>\n",
       "      <td>3</td>\n",
       "      <td>33.07</td>\n",
       "      <td>6.93</td>\n",
       "      <td>111.57</td>\n",
       "      <td>2.66</td>\n",
       "      <td>154.23</td>\n",
       "    </tr>\n",
       "    <tr>\n",
       "      <th>5</th>\n",
       "      <td>7</td>\n",
       "      <td>14.04</td>\n",
       "      <td>0.93</td>\n",
       "      <td>101.45</td>\n",
       "      <td>0.14</td>\n",
       "      <td>116.56</td>\n",
       "    </tr>\n",
       "    <tr>\n",
       "      <th>19</th>\n",
       "      <td>22</td>\n",
       "      <td>NaN</td>\n",
       "      <td>23.95</td>\n",
       "      <td>108.24</td>\n",
       "      <td>0.74</td>\n",
       "      <td>132.93</td>\n",
       "    </tr>\n",
       "    <tr>\n",
       "      <th>20</th>\n",
       "      <td>23</td>\n",
       "      <td>0.67</td>\n",
       "      <td>147.48</td>\n",
       "      <td>43.64</td>\n",
       "      <td>2.01</td>\n",
       "      <td>193.80</td>\n",
       "    </tr>\n",
       "    <tr>\n",
       "      <th>24</th>\n",
       "      <td>28</td>\n",
       "      <td>11.90</td>\n",
       "      <td>118.87</td>\n",
       "      <td>26.94</td>\n",
       "      <td>2.91</td>\n",
       "      <td>160.62</td>\n",
       "    </tr>\n",
       "    <tr>\n",
       "      <th>...</th>\n",
       "      <td>...</td>\n",
       "      <td>...</td>\n",
       "      <td>...</td>\n",
       "      <td>...</td>\n",
       "      <td>...</td>\n",
       "      <td>...</td>\n",
       "    </tr>\n",
       "    <tr>\n",
       "      <th>1449</th>\n",
       "      <td>1825</td>\n",
       "      <td>4.79</td>\n",
       "      <td>12.90</td>\n",
       "      <td>153.44</td>\n",
       "      <td>8.54</td>\n",
       "      <td>179.67</td>\n",
       "    </tr>\n",
       "    <tr>\n",
       "      <th>1489</th>\n",
       "      <td>1878</td>\n",
       "      <td>1.22</td>\n",
       "      <td>50.35</td>\n",
       "      <td>106.65</td>\n",
       "      <td>10.75</td>\n",
       "      <td>168.97</td>\n",
       "    </tr>\n",
       "    <tr>\n",
       "      <th>1490</th>\n",
       "      <td>1879</td>\n",
       "      <td>20.71</td>\n",
       "      <td>16.55</td>\n",
       "      <td>81.57</td>\n",
       "      <td>3.66</td>\n",
       "      <td>122.49</td>\n",
       "    </tr>\n",
       "    <tr>\n",
       "      <th>1506</th>\n",
       "      <td>1895</td>\n",
       "      <td>NaN</td>\n",
       "      <td>NaN</td>\n",
       "      <td>139.54</td>\n",
       "      <td>NaN</td>\n",
       "      <td>139.54</td>\n",
       "    </tr>\n",
       "    <tr>\n",
       "      <th>1516</th>\n",
       "      <td>1906</td>\n",
       "      <td>NaN</td>\n",
       "      <td>14.92</td>\n",
       "      <td>100.28</td>\n",
       "      <td>8.62</td>\n",
       "      <td>123.82</td>\n",
       "    </tr>\n",
       "  </tbody>\n",
       "</table>\n",
       "<p>203 rows × 6 columns</p>\n",
       "</div>"
      ],
      "text/plain": [
       "SliceNumber  MOL_ID  percent_irrigated  percent_rainfed  percent_rangeland  \\\n",
       "2                 3              33.07             6.93             111.57   \n",
       "5                 7              14.04             0.93             101.45   \n",
       "19               22                NaN            23.95             108.24   \n",
       "20               23               0.67           147.48              43.64   \n",
       "24               28              11.90           118.87              26.94   \n",
       "...             ...                ...              ...                ...   \n",
       "1449           1825               4.79            12.90             153.44   \n",
       "1489           1878               1.22            50.35             106.65   \n",
       "1490           1879              20.71            16.55              81.57   \n",
       "1506           1895                NaN              NaN             139.54   \n",
       "1516           1906                NaN            14.92             100.28   \n",
       "\n",
       "SliceNumber  percent_urban     sum  \n",
       "2                     2.66  154.23  \n",
       "5                     0.14  116.56  \n",
       "19                    0.74  132.93  \n",
       "20                    2.01  193.80  \n",
       "24                    2.91  160.62  \n",
       "...                    ...     ...  \n",
       "1449                  8.54  179.67  \n",
       "1489                 10.75  168.97  \n",
       "1490                  3.66  122.49  \n",
       "1506                   NaN  139.54  \n",
       "1516                  8.62  123.82  \n",
       "\n",
       "[203 rows x 6 columns]"
      ]
     },
     "execution_count": 46,
     "metadata": {},
     "output_type": "execute_result"
    }
   ],
   "source": [
    "# How many encroachment values are higher than 100? This can be due to the way the area is calculated. Anyway, the website will show only the le that is \n",
    "# majoritary and the % will stop at 100%\n",
    "long['sum']=long.iloc[:, 1:5].sum(axis=1)\n",
    "long[long['sum']>100]"
   ]
  },
  {
   "cell_type": "code",
   "execution_count": 47,
   "metadata": {},
   "outputs": [],
   "source": [
    "## Add contextual data: Land Encroachment\n",
    "dff = dff.merge(long[['MOL_ID','percent_irrigated', 'percent_rainfed', 'percent_rangeland',\n",
    "       'percent_urban']],on ='MOL_ID',how='left')"
   ]
  },
  {
   "cell_type": "code",
   "execution_count": 74,
   "metadata": {},
   "outputs": [
    {
     "data": {
      "text/html": [
       "<div>\n",
       "<style scoped>\n",
       "    .dataframe tbody tr th:only-of-type {\n",
       "        vertical-align: middle;\n",
       "    }\n",
       "\n",
       "    .dataframe tbody tr th {\n",
       "        vertical-align: top;\n",
       "    }\n",
       "\n",
       "    .dataframe thead th {\n",
       "        text-align: right;\n",
       "    }\n",
       "</style>\n",
       "<table border=\"1\" class=\"dataframe\">\n",
       "  <thead>\n",
       "    <tr style=\"text-align: right;\">\n",
       "      <th></th>\n",
       "      <th>GID_0</th>\n",
       "      <th>NAME_0</th>\n",
       "      <th>cluster</th>\n",
       "      <th>PRmean</th>\n",
       "      <th>AREA_KM2</th>\n",
       "      <th>geometry</th>\n",
       "      <th>MOL_ID</th>\n",
       "      <th>reptiles</th>\n",
       "      <th>amphibians</th>\n",
       "      <th>mammals</th>\n",
       "      <th>birds</th>\n",
       "      <th>majority_land_cover_climate_regime</th>\n",
       "      <th>land_cover_majority</th>\n",
       "      <th>climate_regime_majority</th>\n",
       "      <th>percent_irrigated</th>\n",
       "      <th>percent_rainfed</th>\n",
       "      <th>percent_rangeland</th>\n",
       "      <th>percent_urban</th>\n",
       "      <th>population_sum</th>\n",
       "    </tr>\n",
       "  </thead>\n",
       "  <tbody>\n",
       "    <tr>\n",
       "      <th>0</th>\n",
       "      <td>AFG</td>\n",
       "      <td>Afghanistan</td>\n",
       "      <td>1</td>\n",
       "      <td>60.222222</td>\n",
       "      <td>7687.50492</td>\n",
       "      <td>POLYGON ((6784878.655 4081461.837, 6783664.553...</td>\n",
       "      <td>1</td>\n",
       "      <td>[{\"SliceNumber\": 9, \"per_global\": 0.29, \"per_a...</td>\n",
       "      <td>[{\"SliceNumber\": 951, \"per_global\": 4.02, \"per...</td>\n",
       "      <td>[{\"SliceNumber\": 167, \"per_global\": 0.01, \"per...</td>\n",
       "      <td>[{\"SliceNumber\": 26, \"per_global\": 0.02, \"per_...</td>\n",
       "      <td>184.0</td>\n",
       "      <td>Cropland</td>\n",
       "      <td>Warm Temperate Dry</td>\n",
       "      <td>26.31</td>\n",
       "      <td>57.02</td>\n",
       "      <td>15.5</td>\n",
       "      <td>NaN</td>\n",
       "      <td>2.092001e+06</td>\n",
       "    </tr>\n",
       "  </tbody>\n",
       "</table>\n",
       "</div>"
      ],
      "text/plain": [
       "  GID_0       NAME_0  cluster     PRmean    AREA_KM2  \\\n",
       "0   AFG  Afghanistan        1  60.222222  7687.50492   \n",
       "\n",
       "                                            geometry  MOL_ID  \\\n",
       "0  POLYGON ((6784878.655 4081461.837, 6783664.553...       1   \n",
       "\n",
       "                                            reptiles  \\\n",
       "0  [{\"SliceNumber\": 9, \"per_global\": 0.29, \"per_a...   \n",
       "\n",
       "                                          amphibians  \\\n",
       "0  [{\"SliceNumber\": 951, \"per_global\": 4.02, \"per...   \n",
       "\n",
       "                                             mammals  \\\n",
       "0  [{\"SliceNumber\": 167, \"per_global\": 0.01, \"per...   \n",
       "\n",
       "                                               birds  \\\n",
       "0  [{\"SliceNumber\": 26, \"per_global\": 0.02, \"per_...   \n",
       "\n",
       "   majority_land_cover_climate_regime land_cover_majority  \\\n",
       "0                               184.0            Cropland   \n",
       "\n",
       "  climate_regime_majority  percent_irrigated  percent_rainfed  \\\n",
       "0      Warm Temperate Dry              26.31            57.02   \n",
       "\n",
       "   percent_rangeland  percent_urban  population_sum  \n",
       "0               15.5            NaN    2.092001e+06  "
      ]
     },
     "execution_count": 74,
     "metadata": {},
     "output_type": "execute_result"
    }
   ],
   "source": [
    "dff.head(1)"
   ]
  },
  {
   "cell_type": "code",
   "execution_count": 50,
   "metadata": {},
   "outputs": [
    {
     "data": {
      "text/html": [
       "<div>\n",
       "<style scoped>\n",
       "    .dataframe tbody tr th:only-of-type {\n",
       "        vertical-align: middle;\n",
       "    }\n",
       "\n",
       "    .dataframe tbody tr th {\n",
       "        vertical-align: top;\n",
       "    }\n",
       "\n",
       "    .dataframe thead th {\n",
       "        text-align: right;\n",
       "    }\n",
       "</style>\n",
       "<table border=\"1\" class=\"dataframe\">\n",
       "  <thead>\n",
       "    <tr style=\"text-align: right;\">\n",
       "      <th></th>\n",
       "      <th>OID_</th>\n",
       "      <th>MOL_ID</th>\n",
       "      <th>COUNT</th>\n",
       "      <th>AREA</th>\n",
       "      <th>SUM</th>\n",
       "    </tr>\n",
       "  </thead>\n",
       "  <tbody>\n",
       "    <tr>\n",
       "      <th>0</th>\n",
       "      <td>1</td>\n",
       "      <td>1</td>\n",
       "      <td>10824.0</td>\n",
       "      <td>0.751667</td>\n",
       "      <td>2.092001e+06</td>\n",
       "    </tr>\n",
       "  </tbody>\n",
       "</table>\n",
       "</div>"
      ],
      "text/plain": [
       "   OID_  MOL_ID    COUNT      AREA           SUM\n",
       "0     1       1  10824.0  0.751667  2.092001e+06"
      ]
     },
     "execution_count": 50,
     "metadata": {},
     "output_type": "execute_result"
    }
   ],
   "source": [
    "# Population table, we need the SUM attribute\n",
    "pop.head(1)"
   ]
  },
  {
   "cell_type": "code",
   "execution_count": 51,
   "metadata": {},
   "outputs": [
    {
     "data": {
      "text/html": [
       "<div>\n",
       "<style scoped>\n",
       "    .dataframe tbody tr th:only-of-type {\n",
       "        vertical-align: middle;\n",
       "    }\n",
       "\n",
       "    .dataframe tbody tr th {\n",
       "        vertical-align: top;\n",
       "    }\n",
       "\n",
       "    .dataframe thead th {\n",
       "        text-align: right;\n",
       "    }\n",
       "</style>\n",
       "<table border=\"1\" class=\"dataframe\">\n",
       "  <thead>\n",
       "    <tr style=\"text-align: right;\">\n",
       "      <th></th>\n",
       "      <th>GID_0</th>\n",
       "      <th>NAME_0</th>\n",
       "      <th>cluster</th>\n",
       "      <th>PRmean</th>\n",
       "      <th>AREA_KM2</th>\n",
       "      <th>geometry</th>\n",
       "      <th>MOL_ID</th>\n",
       "      <th>reptiles</th>\n",
       "      <th>amphibians</th>\n",
       "      <th>mammals</th>\n",
       "      <th>birds</th>\n",
       "      <th>majority_land_cover_climate_regime</th>\n",
       "      <th>land_cover_majority</th>\n",
       "      <th>climate_regime_majority</th>\n",
       "      <th>percent_irrigated</th>\n",
       "      <th>percent_rainfed</th>\n",
       "      <th>percent_rangeland</th>\n",
       "      <th>percent_urban</th>\n",
       "      <th>SUM</th>\n",
       "    </tr>\n",
       "  </thead>\n",
       "  <tbody>\n",
       "    <tr>\n",
       "      <th>0</th>\n",
       "      <td>AFG</td>\n",
       "      <td>Afghanistan</td>\n",
       "      <td>1</td>\n",
       "      <td>60.222222</td>\n",
       "      <td>7687.50492</td>\n",
       "      <td>POLYGON ((6784878.655 4081461.837, 6783664.553...</td>\n",
       "      <td>1</td>\n",
       "      <td>[{\"SliceNumber\": 9, \"per_global\": 0.29, \"per_a...</td>\n",
       "      <td>[{\"SliceNumber\": 951, \"per_global\": 4.02, \"per...</td>\n",
       "      <td>[{\"SliceNumber\": 167, \"per_global\": 0.01, \"per...</td>\n",
       "      <td>[{\"SliceNumber\": 26, \"per_global\": 0.02, \"per_...</td>\n",
       "      <td>184.0</td>\n",
       "      <td>Cropland</td>\n",
       "      <td>Warm Temperate Dry</td>\n",
       "      <td>26.31</td>\n",
       "      <td>57.02</td>\n",
       "      <td>15.5</td>\n",
       "      <td>NaN</td>\n",
       "      <td>2.092001e+06</td>\n",
       "    </tr>\n",
       "  </tbody>\n",
       "</table>\n",
       "</div>"
      ],
      "text/plain": [
       "  GID_0       NAME_0  cluster     PRmean    AREA_KM2  \\\n",
       "0   AFG  Afghanistan        1  60.222222  7687.50492   \n",
       "\n",
       "                                            geometry  MOL_ID  \\\n",
       "0  POLYGON ((6784878.655 4081461.837, 6783664.553...       1   \n",
       "\n",
       "                                            reptiles  \\\n",
       "0  [{\"SliceNumber\": 9, \"per_global\": 0.29, \"per_a...   \n",
       "\n",
       "                                          amphibians  \\\n",
       "0  [{\"SliceNumber\": 951, \"per_global\": 4.02, \"per...   \n",
       "\n",
       "                                             mammals  \\\n",
       "0  [{\"SliceNumber\": 167, \"per_global\": 0.01, \"per...   \n",
       "\n",
       "                                               birds  \\\n",
       "0  [{\"SliceNumber\": 26, \"per_global\": 0.02, \"per_...   \n",
       "\n",
       "   majority_land_cover_climate_regime land_cover_majority  \\\n",
       "0                               184.0            Cropland   \n",
       "\n",
       "  climate_regime_majority  percent_irrigated  percent_rainfed  \\\n",
       "0      Warm Temperate Dry              26.31            57.02   \n",
       "\n",
       "   percent_rangeland  percent_urban           SUM  \n",
       "0               15.5            NaN  2.092001e+06  "
      ]
     },
     "execution_count": 51,
     "metadata": {},
     "output_type": "execute_result"
    }
   ],
   "source": [
    "## Add contextual data: POP\n",
    "dff = dff.merge(pop[['MOL_ID','SUM']],on ='MOL_ID',how='left')\n",
    "dff.head(1)"
   ]
  },
  {
   "cell_type": "code",
   "execution_count": 52,
   "metadata": {},
   "outputs": [
    {
     "data": {
      "text/html": [
       "<div>\n",
       "<style scoped>\n",
       "    .dataframe tbody tr th:only-of-type {\n",
       "        vertical-align: middle;\n",
       "    }\n",
       "\n",
       "    .dataframe tbody tr th {\n",
       "        vertical-align: top;\n",
       "    }\n",
       "\n",
       "    .dataframe thead th {\n",
       "        text-align: right;\n",
       "    }\n",
       "</style>\n",
       "<table border=\"1\" class=\"dataframe\">\n",
       "  <thead>\n",
       "    <tr style=\"text-align: right;\">\n",
       "      <th></th>\n",
       "      <th>GID_0</th>\n",
       "      <th>NAME_0</th>\n",
       "      <th>cluster</th>\n",
       "      <th>PRmean</th>\n",
       "      <th>AREA_KM2</th>\n",
       "      <th>geometry</th>\n",
       "      <th>MOL_ID</th>\n",
       "      <th>reptiles</th>\n",
       "      <th>amphibians</th>\n",
       "      <th>mammals</th>\n",
       "      <th>birds</th>\n",
       "      <th>majority_land_cover_climate_regime</th>\n",
       "      <th>land_cover_majority</th>\n",
       "      <th>climate_regime_majority</th>\n",
       "      <th>percent_irrigated</th>\n",
       "      <th>percent_rainfed</th>\n",
       "      <th>percent_rangeland</th>\n",
       "      <th>percent_urban</th>\n",
       "      <th>population_sum</th>\n",
       "    </tr>\n",
       "  </thead>\n",
       "  <tbody>\n",
       "    <tr>\n",
       "      <th>0</th>\n",
       "      <td>AFG</td>\n",
       "      <td>Afghanistan</td>\n",
       "      <td>1</td>\n",
       "      <td>60.222222</td>\n",
       "      <td>7687.50492</td>\n",
       "      <td>POLYGON ((6784878.655 4081461.837, 6783664.553...</td>\n",
       "      <td>1</td>\n",
       "      <td>[{\"SliceNumber\": 9, \"per_global\": 0.29, \"per_a...</td>\n",
       "      <td>[{\"SliceNumber\": 951, \"per_global\": 4.02, \"per...</td>\n",
       "      <td>[{\"SliceNumber\": 167, \"per_global\": 0.01, \"per...</td>\n",
       "      <td>[{\"SliceNumber\": 26, \"per_global\": 0.02, \"per_...</td>\n",
       "      <td>184.0</td>\n",
       "      <td>Cropland</td>\n",
       "      <td>Warm Temperate Dry</td>\n",
       "      <td>26.31</td>\n",
       "      <td>57.02</td>\n",
       "      <td>15.5</td>\n",
       "      <td>NaN</td>\n",
       "      <td>2.092001e+06</td>\n",
       "    </tr>\n",
       "  </tbody>\n",
       "</table>\n",
       "</div>"
      ],
      "text/plain": [
       "  GID_0       NAME_0  cluster     PRmean    AREA_KM2  \\\n",
       "0   AFG  Afghanistan        1  60.222222  7687.50492   \n",
       "\n",
       "                                            geometry  MOL_ID  \\\n",
       "0  POLYGON ((6784878.655 4081461.837, 6783664.553...       1   \n",
       "\n",
       "                                            reptiles  \\\n",
       "0  [{\"SliceNumber\": 9, \"per_global\": 0.29, \"per_a...   \n",
       "\n",
       "                                          amphibians  \\\n",
       "0  [{\"SliceNumber\": 951, \"per_global\": 4.02, \"per...   \n",
       "\n",
       "                                             mammals  \\\n",
       "0  [{\"SliceNumber\": 167, \"per_global\": 0.01, \"per...   \n",
       "\n",
       "                                               birds  \\\n",
       "0  [{\"SliceNumber\": 26, \"per_global\": 0.02, \"per_...   \n",
       "\n",
       "   majority_land_cover_climate_regime land_cover_majority  \\\n",
       "0                               184.0            Cropland   \n",
       "\n",
       "  climate_regime_majority  percent_irrigated  percent_rainfed  \\\n",
       "0      Warm Temperate Dry              26.31            57.02   \n",
       "\n",
       "   percent_rangeland  percent_urban  population_sum  \n",
       "0               15.5            NaN    2.092001e+06  "
      ]
     },
     "execution_count": 52,
     "metadata": {},
     "output_type": "execute_result"
    }
   ],
   "source": [
    "dff = dff.rename(columns ={'SUM':'population_sum'})\n",
    "dff.head(1)"
   ]
  },
  {
   "cell_type": "code",
   "execution_count": 53,
   "metadata": {},
   "outputs": [
    {
     "data": {
      "text/plain": [
       "1921"
      ]
     },
     "execution_count": 53,
     "metadata": {},
     "output_type": "execute_result"
    }
   ],
   "source": [
    "# Remove geometries that were removed from calculations in ArcGIS Pro because they gave errors when running the sample tool against the crfs\n",
    "dff2 = dff.loc[(dff[\"MOL_ID\"]!=62)] # ATL\n",
    "dff2 = dff2.loc[(dff[\"MOL_ID\"]!=69)] # ATL\n",
    "dff2 = dff2.loc[(dff[\"MOL_ID\"]!=73)] # ATL\n",
    "dff2 = dff2.loc[(dff[\"MOL_ID\"]!=194)] # BRZ\n",
    "len(dff2)"
   ]
  },
  {
   "cell_type": "code",
   "execution_count": 75,
   "metadata": {},
   "outputs": [
    {
     "data": {
      "text/html": [
       "<div>\n",
       "<style scoped>\n",
       "    .dataframe tbody tr th:only-of-type {\n",
       "        vertical-align: middle;\n",
       "    }\n",
       "\n",
       "    .dataframe tbody tr th {\n",
       "        vertical-align: top;\n",
       "    }\n",
       "\n",
       "    .dataframe thead th {\n",
       "        text-align: right;\n",
       "    }\n",
       "</style>\n",
       "<table border=\"1\" class=\"dataframe\">\n",
       "  <thead>\n",
       "    <tr style=\"text-align: right;\">\n",
       "      <th></th>\n",
       "      <th>GID_0</th>\n",
       "      <th>NAME_0</th>\n",
       "      <th>cluster</th>\n",
       "      <th>PRmean</th>\n",
       "      <th>AREA_KM2</th>\n",
       "      <th>geometry</th>\n",
       "      <th>MOL_ID</th>\n",
       "      <th>reptiles</th>\n",
       "      <th>amphibians</th>\n",
       "      <th>mammals</th>\n",
       "      <th>birds</th>\n",
       "      <th>majority_land_cover_climate_regime</th>\n",
       "      <th>land_cover_majority</th>\n",
       "      <th>climate_regime_majority</th>\n",
       "      <th>percent_irrigated</th>\n",
       "      <th>percent_rainfed</th>\n",
       "      <th>percent_rangeland</th>\n",
       "      <th>percent_urban</th>\n",
       "      <th>population_sum</th>\n",
       "    </tr>\n",
       "  </thead>\n",
       "  <tbody>\n",
       "    <tr>\n",
       "      <th>0</th>\n",
       "      <td>AFG</td>\n",
       "      <td>Afghanistan</td>\n",
       "      <td>1</td>\n",
       "      <td>60.222222</td>\n",
       "      <td>7687.50492</td>\n",
       "      <td>POLYGON ((6784878.655 4081461.837, 6783664.553...</td>\n",
       "      <td>1</td>\n",
       "      <td>[{\"SliceNumber\": 9, \"per_global\": 0.29, \"per_a...</td>\n",
       "      <td>[{\"SliceNumber\": 951, \"per_global\": 4.02, \"per...</td>\n",
       "      <td>[{\"SliceNumber\": 167, \"per_global\": 0.01, \"per...</td>\n",
       "      <td>[{\"SliceNumber\": 26, \"per_global\": 0.02, \"per_...</td>\n",
       "      <td>184.0</td>\n",
       "      <td>Cropland</td>\n",
       "      <td>Warm Temperate Dry</td>\n",
       "      <td>26.31</td>\n",
       "      <td>57.02</td>\n",
       "      <td>15.5</td>\n",
       "      <td>NaN</td>\n",
       "      <td>2.092001e+06</td>\n",
       "    </tr>\n",
       "  </tbody>\n",
       "</table>\n",
       "</div>"
      ],
      "text/plain": [
       "  GID_0       NAME_0  cluster     PRmean    AREA_KM2  \\\n",
       "0   AFG  Afghanistan        1  60.222222  7687.50492   \n",
       "\n",
       "                                            geometry  MOL_ID  \\\n",
       "0  POLYGON ((6784878.655 4081461.837, 6783664.553...       1   \n",
       "\n",
       "                                            reptiles  \\\n",
       "0  [{\"SliceNumber\": 9, \"per_global\": 0.29, \"per_a...   \n",
       "\n",
       "                                          amphibians  \\\n",
       "0  [{\"SliceNumber\": 951, \"per_global\": 4.02, \"per...   \n",
       "\n",
       "                                             mammals  \\\n",
       "0  [{\"SliceNumber\": 167, \"per_global\": 0.01, \"per...   \n",
       "\n",
       "                                               birds  \\\n",
       "0  [{\"SliceNumber\": 26, \"per_global\": 0.02, \"per_...   \n",
       "\n",
       "   majority_land_cover_climate_regime land_cover_majority  \\\n",
       "0                               184.0            Cropland   \n",
       "\n",
       "  climate_regime_majority  percent_irrigated  percent_rainfed  \\\n",
       "0      Warm Temperate Dry              26.31            57.02   \n",
       "\n",
       "   percent_rangeland  percent_urban  population_sum  \n",
       "0               15.5            NaN    2.092001e+06  "
      ]
     },
     "execution_count": 75,
     "metadata": {},
     "output_type": "execute_result"
    }
   ],
   "source": [
    "dff2.head(1)"
   ]
  },
  {
   "cell_type": "code",
   "execution_count": 76,
   "metadata": {},
   "outputs": [
    {
     "data": {
      "text/plain": [
       "'[{\"SliceNumber\": 575, \"per_global\": 1.62, \"per_aoi\": 87.54}, {\"SliceNumber\": 605, \"per_global\": 0.0, \"per_aoi\": 77.68}, {\"SliceNumber\": 607, \"per_global\": 0.01, \"per_aoi\": 86.61}, {\"SliceNumber\": 609, \"per_global\": 0.0, \"per_aoi\": 94.73}, {\"SliceNumber\": 615, \"per_global\": 0.04, \"per_aoi\": 67.36}, {\"SliceNumber\": 635, \"per_global\": 0.0, \"per_aoi\": 90.78}, {\"SliceNumber\": 1176, \"per_global\": 0.09, \"per_aoi\": 44.75}, {\"SliceNumber\": 1613, \"per_global\": 0.05, \"per_aoi\": 11.83}, {\"SliceNumber\": 1784, \"per_global\": 0.0, \"per_aoi\": 0.12}, {\"SliceNumber\": 1787, \"per_global\": 0.0, \"per_aoi\": 95.77}, {\"SliceNumber\": 1955, \"per_global\": 0.01, \"per_aoi\": 65.97}, {\"SliceNumber\": 2106, \"per_global\": 0.01, \"per_aoi\": 94.73}, {\"SliceNumber\": 2240, \"per_global\": 0.01, \"per_aoi\": 81.62}, {\"SliceNumber\": 2335, \"per_global\": 0.01, \"per_aoi\": 42.9}, {\"SliceNumber\": 2341, \"per_global\": 0.0, \"per_aoi\": 0.12}, {\"SliceNumber\": 2811, \"per_global\": 0.17, \"per_aoi\": 69.22}, {\"SliceNumber\": 2889, \"per_global\": 0.0, \"per_aoi\": 97.86}, {\"SliceNumber\": 2927, \"per_global\": 0.04, \"per_aoi\": 77.91}, {\"SliceNumber\": 3041, \"per_global\": 0.32, \"per_aoi\": 94.73}, {\"SliceNumber\": 3443, \"per_global\": 0.01, \"per_aoi\": 99.71}, {\"SliceNumber\": 3849, \"per_global\": 0.12, \"per_aoi\": 54.03}, {\"SliceNumber\": 3956, \"per_global\": 0.02, \"per_aoi\": 95.77}, {\"SliceNumber\": 4014, \"per_global\": 0.14, \"per_aoi\": 94.73}, {\"SliceNumber\": 4060, \"per_global\": 0.01, \"per_aoi\": 95.77}, {\"SliceNumber\": 4494, \"per_global\": 0.0, \"per_aoi\": 3.01}, {\"SliceNumber\": 4832, \"per_global\": 0.04, \"per_aoi\": 41.28}, {\"SliceNumber\": 4939, \"per_global\": 0.01, \"per_aoi\": 54.72}, {\"SliceNumber\": 5561, \"per_global\": 0.0, \"per_aoi\": 13.22}, {\"SliceNumber\": 5687, \"per_global\": 0.01, \"per_aoi\": 94.73}, {\"SliceNumber\": 6030, \"per_global\": 0.01, \"per_aoi\": 44.75}]'"
      ]
     },
     "execution_count": 76,
     "metadata": {},
     "output_type": "execute_result"
    }
   ],
   "source": [
    "dff.loc[dff['MOL_ID']==20,'mammals'].values[0]"
   ]
  },
  {
   "cell_type": "code",
   "execution_count": null,
   "metadata": {},
   "outputs": [],
   "source": [
    "dff3 = dff[['GID_0', 'NAME_0', 'AREA_KM2', 'geometry', 'MOL_ID', 'reptiles', 'amphibians', 'mammals', 'birds']]"
   ]
  },
  {
   "cell_type": "code",
   "execution_count": 96,
   "metadata": {},
   "outputs": [],
   "source": [
    "# dff2.to_file(\"{0}/top_places_precalculated.geojson\".format(path),driver='GeoJSON')\n",
    "dff2.to_csv(\"{0}/top_places_precalculated_all.csv\".format(path))\n",
    "# dff2.to_file(\"{0}/top_places_precalculated.gpkp\".format(path), driver=\"GPKG\")"
   ]
  },
  {
   "cell_type": "code",
   "execution_count": null,
   "metadata": {},
   "outputs": [],
   "source": [
    "dff2.to_file(\"{0}/top_places_precalculated.gpkp\".format(path), driver=\"GPKP\")"
   ]
  },
  {
   "cell_type": "code",
   "execution_count": null,
   "metadata": {},
   "outputs": [],
   "source": [
    "bio = pd.read_csv('{0}/top_places_precalc_biodiv.geojson'.format(path)) # Here is where I bring the geojson back but it does not have the species info\n",
    "bio.head(1)"
   ]
  },
  {
   "cell_type": "code",
   "execution_count": 98,
   "metadata": {},
   "outputs": [
    {
     "name": "stdout",
     "output_type": "stream",
     "text": [
      "3000\n"
     ]
    }
   ],
   "source": [
    "import sys\n",
    "print(sys.getrecursionlimit())"
   ]
  },
  {
   "cell_type": "code",
   "execution_count": 81,
   "metadata": {},
   "outputs": [
    {
     "data": {
      "text/plain": [
       "'[{\"SliceNumber\": 575, \"per_global\": 1.62, \"per_aoi\": 87.54}, {\"SliceNumber\": 605, \"per_global\": 0.0, \"per_aoi\": 77.68}, {\"SliceNumber\": 607, \"per_global\": 0.01, \"per_aoi\": 86.61}, {\"SliceNumber\": 609, \"per_global\": 0.0, \"per_aoi\": 94.73}, {\"SliceNumber\": 615, \"per_global\": 0.04, \"per_aoi\": 67.36}, {\"SliceNumber\": 635, \"per_global\": 0.0, \"per_aoi\": 90.78}, {\"SliceNumber\": 1176, \"per_global\": 0.09, \"per_aoi\": 44.75}, {\"SliceNumber\": 1613, \"per_global\": 0.05, \"per_aoi\": 11.83}, {\"SliceNumber\": 1784, \"per_global\": 0.0, \"per_aoi\": 0.12}, {\"SliceNumber\": 1787, \"per_global\": 0.0, \"per_aoi\": 95.77}, {\"SliceNumber\": 1955, \"per_global\": 0.01, \"per_aoi\": 65.97}, {\"SliceNumber\": 2106, \"per_global\": 0.01, \"per_aoi\": 94.73}, {\"SliceNumber\": 2240, \"per_global\": 0.01, \"per_aoi\": 81.62}, {\"SliceNumber\": 2335, \"per_global\": 0.01, \"per_aoi\": 42.9}, {\"SliceNumber\": 2341, \"per_global\": 0.0, \"per_aoi\": 0.12}, {\"SliceNumber\": 2811, \"per_global\": 0.17, \"per_aoi\": 69.22}, {\"SliceNumber\": 2889, \"per_global\": 0.0, \"per_aoi\": 97.86}, {\"SliceNumber\": 2927, \"per_global\": 0.04, \"per_aoi\": 77.91}, {\"SliceNumber\": 3041, \"per_global\": 0.32, \"per_aoi\": 94.73}, {\"SliceNumber\": 3443, \"per_global\": 0.01, \"per_aoi\": 99.71}, {\"SliceNumber\": 3849, \"per_global\": 0.12, \"per_aoi\": 54.03}, {\"SliceNumber\": 3956, \"per_global\": 0.02, \"per_aoi\": 95.77}, {\"SliceNumber\": 4014, \"per_global\": 0.14, \"per_aoi\": 94.73}, {\"SliceNumber\": 4060, \"per_global\": 0.01, \"per_aoi\": 95.77}, {\"SliceNumber\": 4494, \"per_global\": 0.0, \"per_aoi\": 3.01}, {\"SliceNumber\": 4832, \"per_global\": 0.04, \"per_aoi\": 41.28}, {\"SliceNumber\": 4939, \"per_global\": 0.01, \"per_aoi\": 54.72}, {\"SliceNumber\": 5561, \"per_global\": 0.0, \"per_aoi\": 13.22}, {\"SliceNumber\": 5687, \"per_global\": 0.01, \"per_aoi\": 94.73}, {\"SliceNumber\": 6030, \"per_global\": 0.01, \"per_aoi\": 44.75}]'"
      ]
     },
     "execution_count": 81,
     "metadata": {},
     "output_type": "execute_result"
    }
   ],
   "source": [
    "test.loc[dff['MOL_ID']==20,'mammals'].values[0]"
   ]
  },
  {
   "cell_type": "code",
   "execution_count": 82,
   "metadata": {},
   "outputs": [
    {
     "data": {
      "text/plain": [
       "1921"
      ]
     },
     "execution_count": 82,
     "metadata": {},
     "output_type": "execute_result"
    }
   ],
   "source": [
    "len(test)"
   ]
  },
  {
   "cell_type": "code",
   "execution_count": 58,
   "metadata": {},
   "outputs": [
    {
     "data": {
      "text/plain": [
       "<Geographic 2D CRS: EPSG:4326>\n",
       "Name: WGS 84\n",
       "Axis Info [ellipsoidal]:\n",
       "- Lat[north]: Geodetic latitude (degree)\n",
       "- Lon[east]: Geodetic longitude (degree)\n",
       "Area of Use:\n",
       "- name: World\n",
       "- bounds: (-180.0, -90.0, 180.0, 90.0)\n",
       "Datum: World Geodetic System 1984\n",
       "- Ellipsoid: WGS 84\n",
       "- Prime Meridian: Greenwich"
      ]
     },
     "execution_count": 58,
     "metadata": {},
     "output_type": "execute_result"
    }
   ],
   "source": [
    "test.crs"
   ]
  }
 ],
 "metadata": {
  "kernelspec": {
   "display_name": "Python 3 (ipykernel)",
   "language": "python",
   "name": "python3"
  },
  "language_info": {
   "codemirror_mode": {
    "name": "ipython",
    "version": 3
   },
   "file_extension": ".py",
   "mimetype": "text/x-python",
   "name": "python",
   "nbconvert_exporter": "python",
   "pygments_lexer": "ipython3",
   "version": "3.8.12"
  }
 },
 "nbformat": 4,
 "nbformat_minor": 4
}
