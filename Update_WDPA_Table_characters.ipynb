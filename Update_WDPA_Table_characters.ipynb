{
 "cells": [
  {
   "cell_type": "code",
   "execution_count": 1,
   "id": "a5f1e322-997d-4bb7-a996-406084da3a1a",
   "metadata": {},
   "outputs": [],
   "source": [
    "# Import tables\n",
    "import geopandas as gpd\n",
    "new = gpd.read_file('/Users/sofia/Documents/HE_Data/WDPA_Jan2022_Public_csv/WDPA_Jan2022_Public_csv.csv')\n",
    "old= gpd.read_file('/Users/sofia/Documents/HE_Data/WDPA_terrestrial+marine2021_simplified')"
   ]
  },
  {
   "cell_type": "code",
   "execution_count": 2,
   "id": "33c8a85e-2380-46c9-ba1a-7b75b82a148c",
   "metadata": {},
   "outputs": [
    {
     "data": {
      "text/plain": [
       "222519"
      ]
     },
     "execution_count": 2,
     "metadata": {},
     "output_type": "execute_result"
    }
   ],
   "source": [
    "len(old)"
   ]
  },
  {
   "cell_type": "code",
   "execution_count": 3,
   "id": "764fa986-d6a3-48eb-8be0-1f76312c0f11",
   "metadata": {},
   "outputs": [
    {
     "data": {
      "text/plain": [
       "269457"
      ]
     },
     "execution_count": 3,
     "metadata": {},
     "output_type": "execute_result"
    }
   ],
   "source": [
    "len(new)"
   ]
  },
  {
   "cell_type": "code",
   "execution_count": 4,
   "id": "08a0df93-0449-4a32-a242-423a4514c232",
   "metadata": {},
   "outputs": [
    {
     "data": {
      "text/html": [
       "<div>\n",
       "<style scoped>\n",
       "    .dataframe tbody tr th:only-of-type {\n",
       "        vertical-align: middle;\n",
       "    }\n",
       "\n",
       "    .dataframe tbody tr th {\n",
       "        vertical-align: top;\n",
       "    }\n",
       "\n",
       "    .dataframe thead th {\n",
       "        text-align: right;\n",
       "    }\n",
       "</style>\n",
       "<table border=\"1\" class=\"dataframe\">\n",
       "  <thead>\n",
       "    <tr style=\"text-align: right;\">\n",
       "      <th></th>\n",
       "      <th>WDPAID</th>\n",
       "      <th>WDPA_PID</th>\n",
       "      <th>NAME</th>\n",
       "      <th>ORIG_NA</th>\n",
       "      <th>DESIG</th>\n",
       "      <th>DESIG_E</th>\n",
       "      <th>DESIG_T</th>\n",
       "      <th>IUCN_CA</th>\n",
       "      <th>MARINE</th>\n",
       "      <th>GOV_TYP</th>\n",
       "      <th>ISO3</th>\n",
       "      <th>OWN_TYP</th>\n",
       "      <th>AREA_KM</th>\n",
       "      <th>MOL_ID</th>\n",
       "      <th>geometry</th>\n",
       "    </tr>\n",
       "  </thead>\n",
       "  <tbody>\n",
       "    <tr>\n",
       "      <th>90566</th>\n",
       "      <td>145114.0</td>\n",
       "      <td>145114</td>\n",
       "      <td>Zygmanti?ki? Geomorfologinis Draustinis</td>\n",
       "      <td>Zygmanti?ki? Geomorfologinis Draustinis</td>\n",
       "      <td>Gamtinis Draustinis</td>\n",
       "      <td>Nature Reserve</td>\n",
       "      <td>National</td>\n",
       "      <td>IV</td>\n",
       "      <td>0</td>\n",
       "      <td>Federal or national ministry or agency</td>\n",
       "      <td>LTU</td>\n",
       "      <td>Not Reported</td>\n",
       "      <td>22.595064</td>\n",
       "      <td>90735</td>\n",
       "      <td>POLYGON ((25.09160 54.40030, 25.10820 54.40220...</td>\n",
       "    </tr>\n",
       "  </tbody>\n",
       "</table>\n",
       "</div>"
      ],
      "text/plain": [
       "         WDPAID WDPA_PID                                     NAME  \\\n",
       "90566  145114.0   145114  Zygmanti?ki? Geomorfologinis Draustinis   \n",
       "\n",
       "                                       ORIG_NA                DESIG  \\\n",
       "90566  Zygmanti?ki? Geomorfologinis Draustinis  Gamtinis Draustinis   \n",
       "\n",
       "              DESIG_E   DESIG_T IUCN_CA MARINE  \\\n",
       "90566  Nature Reserve  National      IV      0   \n",
       "\n",
       "                                      GOV_TYP ISO3       OWN_TYP    AREA_KM  \\\n",
       "90566  Federal or national ministry or agency  LTU  Not Reported  22.595064   \n",
       "\n",
       "       MOL_ID                                           geometry  \n",
       "90566   90735  POLYGON ((25.09160 54.40030, 25.10820 54.40220...  "
      ]
     },
     "execution_count": 4,
     "metadata": {},
     "output_type": "execute_result"
    }
   ],
   "source": [
    "old[old['WDPA_PID']=='145114']"
   ]
  },
  {
   "cell_type": "code",
   "execution_count": 5,
   "id": "abf3c360-4fdc-4ff6-ac2f-da4b78e7223c",
   "metadata": {},
   "outputs": [
    {
     "data": {
      "text/html": [
       "<div>\n",
       "<style scoped>\n",
       "    .dataframe tbody tr th:only-of-type {\n",
       "        vertical-align: middle;\n",
       "    }\n",
       "\n",
       "    .dataframe tbody tr th {\n",
       "        vertical-align: top;\n",
       "    }\n",
       "\n",
       "    .dataframe thead th {\n",
       "        text-align: right;\n",
       "    }\n",
       "</style>\n",
       "<table border=\"1\" class=\"dataframe\">\n",
       "  <thead>\n",
       "    <tr style=\"text-align: right;\">\n",
       "      <th></th>\n",
       "      <th>TYPE</th>\n",
       "      <th>WDPAID</th>\n",
       "      <th>WDPA_PID</th>\n",
       "      <th>PA_DEF</th>\n",
       "      <th>NAME</th>\n",
       "      <th>ORIG_NAME</th>\n",
       "      <th>DESIG</th>\n",
       "      <th>DESIG_ENG</th>\n",
       "      <th>DESIG_TYPE</th>\n",
       "      <th>IUCN_CAT</th>\n",
       "      <th>...</th>\n",
       "      <th>MANG_AUTH</th>\n",
       "      <th>MANG_PLAN</th>\n",
       "      <th>VERIF</th>\n",
       "      <th>METADATAID</th>\n",
       "      <th>SUB_LOC</th>\n",
       "      <th>PARENT_ISO3</th>\n",
       "      <th>ISO3</th>\n",
       "      <th>SUPP_INFO</th>\n",
       "      <th>CONS_OBJ</th>\n",
       "      <th>geometry</th>\n",
       "    </tr>\n",
       "  </thead>\n",
       "  <tbody>\n",
       "    <tr>\n",
       "      <th>173357</th>\n",
       "      <td>Polygon</td>\n",
       "      <td>145114</td>\n",
       "      <td>145114</td>\n",
       "      <td>1</td>\n",
       "      <td>Zygmantiškių Geomorfologinis Draustinis</td>\n",
       "      <td>Zygmantiškių Geomorfologinis Draustinis</td>\n",
       "      <td>Gamtinis draustinis</td>\n",
       "      <td>Nature Reserve</td>\n",
       "      <td>National</td>\n",
       "      <td>IV</td>\n",
       "      <td>...</td>\n",
       "      <td>State Protected Areas Service under The Minist...</td>\n",
       "      <td>Not Reported</td>\n",
       "      <td>State Verified</td>\n",
       "      <td>2013</td>\n",
       "      <td>Not Reported</td>\n",
       "      <td>LTU</td>\n",
       "      <td>LTU</td>\n",
       "      <td>Not Applicable</td>\n",
       "      <td>Not Applicable</td>\n",
       "      <td>None</td>\n",
       "    </tr>\n",
       "  </tbody>\n",
       "</table>\n",
       "<p>1 rows × 32 columns</p>\n",
       "</div>"
      ],
      "text/plain": [
       "           TYPE  WDPAID WDPA_PID PA_DEF  \\\n",
       "173357  Polygon  145114   145114      1   \n",
       "\n",
       "                                           NAME  \\\n",
       "173357  Zygmantiškių Geomorfologinis Draustinis   \n",
       "\n",
       "                                      ORIG_NAME                DESIG  \\\n",
       "173357  Zygmantiškių Geomorfologinis Draustinis  Gamtinis draustinis   \n",
       "\n",
       "             DESIG_ENG DESIG_TYPE IUCN_CAT  ...  \\\n",
       "173357  Nature Reserve   National       IV  ...   \n",
       "\n",
       "                                                MANG_AUTH     MANG_PLAN  \\\n",
       "173357  State Protected Areas Service under The Minist...  Not Reported   \n",
       "\n",
       "                 VERIF METADATAID       SUB_LOC PARENT_ISO3 ISO3  \\\n",
       "173357  State Verified       2013  Not Reported         LTU  LTU   \n",
       "\n",
       "             SUPP_INFO        CONS_OBJ geometry  \n",
       "173357  Not Applicable  Not Applicable     None  \n",
       "\n",
       "[1 rows x 32 columns]"
      ]
     },
     "execution_count": 5,
     "metadata": {},
     "output_type": "execute_result"
    }
   ],
   "source": [
    "new[new['WDPA_PID']=='145114']"
   ]
  },
  {
   "cell_type": "code",
   "execution_count": 6,
   "id": "80094b63-46c1-4d41-af49-5dbcb081ace1",
   "metadata": {},
   "outputs": [
    {
     "data": {
      "text/plain": [
       "222519"
      ]
     },
     "execution_count": 6,
     "metadata": {},
     "output_type": "execute_result"
    }
   ],
   "source": [
    "old2 = old.merge(new[['WDPA_PID','NAME', 'ORIG_NAME']],how='left',on='WDPA_PID')\n",
    "len(old2)"
   ]
  },
  {
   "cell_type": "code",
   "execution_count": 7,
   "id": "8fec5346-4805-486b-965b-e557e31e4e0e",
   "metadata": {},
   "outputs": [
    {
     "data": {
      "text/html": [
       "<div>\n",
       "<style scoped>\n",
       "    .dataframe tbody tr th:only-of-type {\n",
       "        vertical-align: middle;\n",
       "    }\n",
       "\n",
       "    .dataframe tbody tr th {\n",
       "        vertical-align: top;\n",
       "    }\n",
       "\n",
       "    .dataframe thead th {\n",
       "        text-align: right;\n",
       "    }\n",
       "</style>\n",
       "<table border=\"1\" class=\"dataframe\">\n",
       "  <thead>\n",
       "    <tr style=\"text-align: right;\">\n",
       "      <th></th>\n",
       "      <th>WDPAID</th>\n",
       "      <th>WDPA_PID</th>\n",
       "      <th>NAME</th>\n",
       "      <th>ORIG_NA</th>\n",
       "      <th>DESIG</th>\n",
       "      <th>DESIG_E</th>\n",
       "      <th>DESIG_T</th>\n",
       "      <th>IUCN_CA</th>\n",
       "      <th>MARINE</th>\n",
       "      <th>GOV_TYP</th>\n",
       "      <th>ISO3</th>\n",
       "      <th>OWN_TYP</th>\n",
       "      <th>AREA_KM</th>\n",
       "      <th>MOL_ID</th>\n",
       "      <th>geometry</th>\n",
       "    </tr>\n",
       "  </thead>\n",
       "  <tbody>\n",
       "    <tr>\n",
       "      <th>90566</th>\n",
       "      <td>145114.0</td>\n",
       "      <td>145114</td>\n",
       "      <td>Zygmantiškių Geomorfologinis Draustinis</td>\n",
       "      <td>Zygmantiškių Geomorfologinis Draustinis</td>\n",
       "      <td>Gamtinis Draustinis</td>\n",
       "      <td>Nature Reserve</td>\n",
       "      <td>National</td>\n",
       "      <td>IV</td>\n",
       "      <td>0</td>\n",
       "      <td>Federal or national ministry or agency</td>\n",
       "      <td>LTU</td>\n",
       "      <td>Not Reported</td>\n",
       "      <td>22.595064</td>\n",
       "      <td>90735</td>\n",
       "      <td>POLYGON ((25.09160 54.40030, 25.10820 54.40220...</td>\n",
       "    </tr>\n",
       "  </tbody>\n",
       "</table>\n",
       "</div>"
      ],
      "text/plain": [
       "         WDPAID WDPA_PID                                     NAME  \\\n",
       "90566  145114.0   145114  Zygmantiškių Geomorfologinis Draustinis   \n",
       "\n",
       "                                       ORIG_NA                DESIG  \\\n",
       "90566  Zygmantiškių Geomorfologinis Draustinis  Gamtinis Draustinis   \n",
       "\n",
       "              DESIG_E   DESIG_T IUCN_CA MARINE  \\\n",
       "90566  Nature Reserve  National      IV      0   \n",
       "\n",
       "                                      GOV_TYP ISO3       OWN_TYP    AREA_KM  \\\n",
       "90566  Federal or national ministry or agency  LTU  Not Reported  22.595064   \n",
       "\n",
       "       MOL_ID                                           geometry  \n",
       "90566   90735  POLYGON ((25.09160 54.40030, 25.10820 54.40220...  "
      ]
     },
     "execution_count": 7,
     "metadata": {},
     "output_type": "execute_result"
    }
   ],
   "source": [
    "old2['NAME_x'] = old2['NAME_y']\n",
    "old2['ORIG_NA'] = old2['ORIG_NAME']\n",
    "old2 = old2.rename(columns={'NAME_x': 'NAME'})\n",
    "old2 = old2.drop(columns='NAME_y')\n",
    "old2 = old2.drop(columns='ORIG_NAME')\n",
    "old2[old2['WDPA_PID']=='145114']"
   ]
  },
  {
   "cell_type": "code",
   "execution_count": 10,
   "id": "fcc70a7b-9175-4931-a5a4-18183ff02969",
   "metadata": {},
   "outputs": [],
   "source": [
    "# Save file in local\n",
    "old2.to_file('/Users/sofia/Documents/HE_Data/WDPA_terrestrial+marine2021_simplified_v2', driver= 'ESRI Shapefile', encoding='utf-8')"
   ]
  },
  {
   "cell_type": "code",
   "execution_count": 11,
   "id": "939f381f-e6db-4b95-905a-bad0ba81a328",
   "metadata": {},
   "outputs": [],
   "source": [
    "wdpa = gpd.read_file('/Users/sofia/Documents/HE_Data/WDPA_terrestrial+marine2021_simplified_v2')"
   ]
  },
  {
   "cell_type": "code",
   "execution_count": 12,
   "id": "0a9cb045-c48b-4211-a99b-35cdecc1f816",
   "metadata": {},
   "outputs": [
    {
     "data": {
      "text/html": [
       "<div>\n",
       "<style scoped>\n",
       "    .dataframe tbody tr th:only-of-type {\n",
       "        vertical-align: middle;\n",
       "    }\n",
       "\n",
       "    .dataframe tbody tr th {\n",
       "        vertical-align: top;\n",
       "    }\n",
       "\n",
       "    .dataframe thead th {\n",
       "        text-align: right;\n",
       "    }\n",
       "</style>\n",
       "<table border=\"1\" class=\"dataframe\">\n",
       "  <thead>\n",
       "    <tr style=\"text-align: right;\">\n",
       "      <th></th>\n",
       "      <th>WDPAID</th>\n",
       "      <th>WDPA_PID</th>\n",
       "      <th>NAME</th>\n",
       "      <th>ORIG_NA</th>\n",
       "      <th>DESIG</th>\n",
       "      <th>DESIG_E</th>\n",
       "      <th>DESIG_T</th>\n",
       "      <th>IUCN_CA</th>\n",
       "      <th>MARINE</th>\n",
       "      <th>GOV_TYP</th>\n",
       "      <th>ISO3</th>\n",
       "      <th>OWN_TYP</th>\n",
       "      <th>AREA_KM</th>\n",
       "      <th>MOL_ID</th>\n",
       "      <th>geometry</th>\n",
       "    </tr>\n",
       "  </thead>\n",
       "  <tbody>\n",
       "    <tr>\n",
       "      <th>90566</th>\n",
       "      <td>145114.0</td>\n",
       "      <td>145114</td>\n",
       "      <td>Zygmantiškių Geomorfologinis Draustinis</td>\n",
       "      <td>Zygmantiškių Geomorfologinis Draustinis</td>\n",
       "      <td>Gamtinis Draustinis</td>\n",
       "      <td>Nature Reserve</td>\n",
       "      <td>National</td>\n",
       "      <td>IV</td>\n",
       "      <td>0</td>\n",
       "      <td>Federal or national ministry or agency</td>\n",
       "      <td>LTU</td>\n",
       "      <td>Not Reported</td>\n",
       "      <td>22.595064</td>\n",
       "      <td>90735</td>\n",
       "      <td>POLYGON ((25.09160 54.40030, 25.10820 54.40220...</td>\n",
       "    </tr>\n",
       "  </tbody>\n",
       "</table>\n",
       "</div>"
      ],
      "text/plain": [
       "         WDPAID WDPA_PID                                     NAME  \\\n",
       "90566  145114.0   145114  Zygmantiškių Geomorfologinis Draustinis   \n",
       "\n",
       "                                       ORIG_NA                DESIG  \\\n",
       "90566  Zygmantiškių Geomorfologinis Draustinis  Gamtinis Draustinis   \n",
       "\n",
       "              DESIG_E   DESIG_T IUCN_CA MARINE  \\\n",
       "90566  Nature Reserve  National      IV      0   \n",
       "\n",
       "                                      GOV_TYP ISO3       OWN_TYP    AREA_KM  \\\n",
       "90566  Federal or national ministry or agency  LTU  Not Reported  22.595064   \n",
       "\n",
       "       MOL_ID                                           geometry  \n",
       "90566   90735  POLYGON ((25.09160 54.40030, 25.10820 54.40220...  "
      ]
     },
     "execution_count": 12,
     "metadata": {},
     "output_type": "execute_result"
    }
   ],
   "source": [
    "wdpa[wdpa['WDPA_PID']=='145114']"
   ]
  },
  {
   "cell_type": "markdown",
   "id": "39297184-0531-49b5-8924-58fbe188d905",
   "metadata": {
    "tags": []
   },
   "source": [
    "### Publish layers with API"
   ]
  },
  {
   "cell_type": "code",
   "execution_count": 13,
   "id": "16c2e41f-fd06-4afb-bb66-7bb35682ac71",
   "metadata": {},
   "outputs": [],
   "source": [
    "import arcgis\n",
    "from arcgis.gis import GIS\n",
    "import json\n",
    "import pandas as pd\n",
    "from arcgis.features import FeatureLayerCollection\n",
    "import requests as re\n",
    "from copy import deepcopy"
   ]
  },
  {
   "cell_type": "code",
   "execution_count": 14,
   "id": "f5392ed1-26d1-4acb-96ce-77ba99ce17dc",
   "metadata": {},
   "outputs": [],
   "source": [
    "env_path = \".env\"\n",
    "with open(env_path) as f:\n",
    "   env = {}\n",
    "   for line in f:\n",
    "       env_key, _val = line.split(\"=\")\n",
    "       env_value = _val.split(\"\\n\")[0]\n",
    "       env[env_key] = env_value\n",
    "\n",
    "aol_password = env['ARCGIS_GRETA_PASS']\n",
    "aol_username = env['ARCGIS_GRETA_USER']\n",
    "\n",
    "gis = GIS(\"https://eowilson.maps.arcgis.com\", aol_username, aol_password)"
   ]
  },
  {
   "cell_type": "code",
   "execution_count": 15,
   "id": "a306c235-6a4d-4d81-9eaa-4abf8779d02d",
   "metadata": {},
   "outputs": [],
   "source": [
    "# Function to publish files as feature services or hosted tables\n",
    "\n",
    "def publishCSVasFS(csv_file,csvName, gis, aol_folder_name, sharing, table): # sharing = 'None', 'groups', 'everyone' # table = 'yes', 'no'\n",
    "    try:\n",
    "        \n",
    "        if gis.content.is_service_name_available(csvName, \"featureService\"):\n",
    "            print(f\"Service name {csvName} is available\")\n",
    "            #csv_file = f'./{csvName}.csv'\n",
    "            csv_item = gis.content.add({}, csv_file)\n",
    "            #csv_lyr = csv_item.publish(None,  {'CountryCode' : 'countryname'})\n",
    "            if table == 'yes':\n",
    "                csv_lyr = csv_item.publish(publish_parameters={'locationType':'none', 'type':'csv'})\n",
    "            else:\n",
    "                print('no table')\n",
    "                csv_lyr = csv_item.publish()\n",
    "                flayer_collection = FeatureLayerCollection.fromitem(csv_lyr)\n",
    "                searched_flayer = flayer_collection.layers[0] \n",
    "                nber_features = searched_flayer.query(return_count_only=True)\n",
    "                print(f\"The service {csvName} has been published. The service has {nber_features} entries\")\n",
    "            print(f\"Moving service {csvName} to {aol_folder_name} in ArcGIS Online...\")\n",
    "            # move both the csv_item and csv_lyr items into this new folder\n",
    "            csv_item.move(aol_folder_name)\n",
    "            csv_lyr.move(aol_folder_name)\n",
    "            print(f\"Service {csvName} has been moved to {aol_folder_name} in ArcGIS Online\")\n",
    "#             sharing, default is owner\n",
    "#             csv_lyr.shared_with\n",
    "            if sharing == 'None':\n",
    "                csv_lyr.share(everyone=False, org=False, groups=None, allow_members_to_edit=False)\n",
    "            if sharing == 'groups':\n",
    "            # the group id is needed to share with agroup\n",
    "                csv_lyr.share(everyone=False, org=False, groups=[group_id], allow_members_to_edit=False)\n",
    "            if sharing == 'everyone':\n",
    "                csv_lyr.share(everyone=True, org=False, groups=None, allow_members_to_edit=False)\n",
    "            sharing_prop = csv_lyr.shared_with\n",
    "            if sharing_prop['everyone']==True:\n",
    "                print(f\"shared with everyone\")   \n",
    "            else:\n",
    "                print(f\"not a public layer, for this layer to be used it has to be public or the urls have to be whitelisted\")            \n",
    "            #not allowing deleting\n",
    "            csv_lyr.protect()\n",
    "            print(f\"{csvName}'s protection against deletion : {csv_lyr.protected}\") \n",
    "            # it is possible to check the status with csv_item.content_status\n",
    "            return csv_lyr.id\n",
    "        else:\n",
    "            print(\"The service name is not available, try overwritting, appending the data or a different service name\")\n",
    "    except:\n",
    "        print(\"The csv hasn't been published\")"
   ]
  },
  {
   "cell_type": "code",
   "execution_count": 17,
   "id": "47f0784c-0ca3-427c-8ef1-5ee764ca955a",
   "metadata": {},
   "outputs": [
    {
     "name": "stdout",
     "output_type": "stream",
     "text": [
      "Service name WDPA_terrestrialmarine_2021_simplified_v2 is available\n",
      "no table\n",
      "The service WDPA_terrestrialmarine_2021_simplified_v2 has been published. The service has 222519 entries\n",
      "Moving service WDPA_terrestrialmarine_2021_simplified_v2 to wdpa data in ArcGIS Online...\n",
      "Service WDPA_terrestrialmarine_2021_simplified_v2 has been moved to wdpa data in ArcGIS Online\n",
      "not a public layer, for this layer to be used it has to be public or the urls have to be whitelisted\n",
      "WDPA_terrestrialmarine_2021_simplified_v2's protection against deletion : True\n"
     ]
    },
    {
     "data": {
      "text/plain": [
       "'a032522cc9024af99c15429d56a23de6'"
      ]
     },
     "execution_count": 17,
     "metadata": {},
     "output_type": "execute_result"
    }
   ],
   "source": [
    "# Run function with the file we want to add\n",
    "csv_file = '/Users/sofia/Documents/HE_Data/WDPA_terrestrial+marine2021_simplified_v2.zip'\n",
    "csvName = 'WDPA_terrestrialmarine_2021_simplified_v2'\n",
    "gis = GIS(\"https://eowilson.maps.arcgis.com\", aol_username, aol_password)\n",
    "aol_folder_name = 'wdpa data'\n",
    "group_id='46783c33c294485abe83f5e899c2f21f'\n",
    "publishCSVasFS(csv_file,csvName,gis,aol_folder_name,sharing='groups', table='no')"
   ]
  }
 ],
 "metadata": {
  "kernelspec": {
   "display_name": "Python 3 (ipykernel)",
   "language": "python",
   "name": "python3"
  },
  "language_info": {
   "codemirror_mode": {
    "name": "ipython",
    "version": 3
   },
   "file_extension": ".py",
   "mimetype": "text/x-python",
   "name": "python",
   "nbconvert_exporter": "python",
   "pygments_lexer": "ipython3",
   "version": "3.8.12"
  }
 },
 "nbformat": 4,
 "nbformat_minor": 5
}
