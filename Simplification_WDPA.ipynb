{
 "cells": [
  {
   "attachments": {},
   "cell_type": "markdown",
   "metadata": {},
   "source": [
    "# Simplification of WDPA to be used in AOI\n",
    "Because the original WDPA layers are too heavy to be displayed, we create 3 simplified layers that will be used in different zoom levels:\n",
    "\n",
    "1. Detailed view: this will use the most simplified version, one in which some geometries can be removed\n",
    "2. Medium zoom levels: for this we will keep all geometries but simplify the geometries as much as possible\n",
    "3. Global zoom: for this we need a slightly simplified layer that preserves the shapes as much as possible and keeps all the geometries (except those that have null geometries). This layer will be heavier and only displayed at very detailed zooms.\n",
    "\n",
    "The 3 simplifications will be made using mapshaper. We will base the simplification in the command used in Marxan, but testing different options to find the most efficient way to display each of these 3 layers.\n",
    "\n",
    "> Mapshaper commad used in Marxan:\n",
    "`!mapshaper -i /Users/tamarahuete/Documents/HALF_EARTH/Ecoregions2017_20210825.shp snap combine-files \\\n",
    "        -simplify 25% planar keep-shapes \\\n",
    "        -filter-islands min-vertices=3 min-area=10000m2 remove-empty \\\n",
    "        -filter-slivers min-area=10000m2 remove-empty \\\n",
    "        -clean rewind \\\n",
    "        -o /Users/tamarahuete/Documents/HALF_EARTH/Ecoregions2017_20210825_simple.shp format=shapefile force ndjson`"
   ]
  },
  {
   "cell_type": "code",
   "execution_count": null,
   "metadata": {},
   "outputs": [],
   "source": [
    "# ## In terminal run to install mapshaper:\n",
    "# !nvm use 12.21.0\n",
    "# !npm i -g mapshaper@0.5.67"
   ]
  },
  {
   "cell_type": "code",
   "execution_count": 1,
   "metadata": {},
   "outputs": [],
   "source": [
    "import geopandas as gpd\n",
    "import matplotlib.pyplot as plt\n",
    "import pandas as pd\n",
    "import os\n",
    "import json\n",
    "from zipfile import ZipFile"
   ]
  },
  {
   "cell_type": "markdown",
   "metadata": {},
   "source": [
    "## Terrestrial WDPAs"
   ]
  },
  {
   "cell_type": "code",
   "execution_count": 2,
   "metadata": {},
   "outputs": [],
   "source": [
    "path = '/Users/sofia/Documents/HE_Data/WDPA'"
   ]
  },
  {
   "cell_type": "code",
   "execution_count": null,
   "metadata": {},
   "outputs": [],
   "source": [
    "# Original layer with only terrestrial (no marine) used for the AOI precalculated data.\n",
    "gdf = gpd.read_file(f'{path}/WDPA_FILTERED_20210615_FILTERED_nomarine_with_oecm_wdpa/WDPA_FILTERED_20210615_FILTERED_nomarine_with_oecm_wdpa.shp')\n",
    "\n",
    "# Repair geometries, in case some are invalid, and check how many are valid\n",
    "gdf['geometry'] = gdf['geometry'].buffer(0) # this is to repair geometries\n",
    "sum(gdf.is_valid) # 217429 geometries valid so only 57 invalid\n",
    "\n",
    "# Remove invalid geometries\n",
    "gdf2 = gdf[gdf['geometry'].is_valid]\n",
    "gdf2.to_file('/Users/sofia/Documents/HE_Data/WDPA//WDPA_FILTERED_20210615_nomarine_wdpa_corrected_geometries/WDPA_FILTERED_20210615_nomarine_corrected_geometries.shp', driver= 'ESRI Shapefile')"
   ]
  },
  {
   "cell_type": "code",
   "execution_count": 6,
   "metadata": {},
   "outputs": [
    {
     "data": {
      "text/plain": [
       "217429"
      ]
     },
     "execution_count": 6,
     "metadata": {},
     "output_type": "execute_result"
    }
   ],
   "source": [
    "# Read file with terrestrial WDPA (corrected)\n",
    "gdf = gpd.read_file(f'{path}/WDPA_FILTERED_20210615_nomarine_wdpa_corrected_geometries/WDPA_FILTERED_20210615_nomarine_corrected_geometries.shp')\n",
    "len(gdf)"
   ]
  },
  {
   "cell_type": "code",
   "execution_count": 6,
   "metadata": {},
   "outputs": [
    {
     "data": {
      "text/html": [
       "<div>\n",
       "<style scoped>\n",
       "    .dataframe tbody tr th:only-of-type {\n",
       "        vertical-align: middle;\n",
       "    }\n",
       "\n",
       "    .dataframe tbody tr th {\n",
       "        vertical-align: top;\n",
       "    }\n",
       "\n",
       "    .dataframe thead th {\n",
       "        text-align: right;\n",
       "    }\n",
       "</style>\n",
       "<table border=\"1\" class=\"dataframe\">\n",
       "  <thead>\n",
       "    <tr style=\"text-align: right;\">\n",
       "      <th></th>\n",
       "      <th>WDPAID</th>\n",
       "      <th>WDPA_PID</th>\n",
       "      <th>PA_DEF</th>\n",
       "      <th>NAME</th>\n",
       "      <th>ORIG_NA</th>\n",
       "      <th>DESIG</th>\n",
       "      <th>DESIG_E</th>\n",
       "      <th>DESIG_T</th>\n",
       "      <th>IUCN_CA</th>\n",
       "      <th>INT_CRI</th>\n",
       "      <th>...</th>\n",
       "      <th>ISO3</th>\n",
       "      <th>SUPP_IN</th>\n",
       "      <th>CONS_OB</th>\n",
       "      <th>SORTER</th>\n",
       "      <th>WDPA_PID_h</th>\n",
       "      <th>WDPA_PID__</th>\n",
       "      <th>hash_vl</th>\n",
       "      <th>AREA_KM</th>\n",
       "      <th>MOL_ID</th>\n",
       "      <th>geometry</th>\n",
       "    </tr>\n",
       "  </thead>\n",
       "  <tbody>\n",
       "    <tr>\n",
       "      <th>177470</th>\n",
       "      <td>394131.0</td>\n",
       "      <td>394131</td>\n",
       "      <td>1</td>\n",
       "      <td>\"Fonds Gatot\" Et \"Laid Mâle\"</td>\n",
       "      <td>\"Fonds Gatot\" Et \"Laid Mâle\"</td>\n",
       "      <td>Site Naturel D'Interêt Scientifique</td>\n",
       "      <td>Scientific Interest Site (Walloon Region)</td>\n",
       "      <td>National</td>\n",
       "      <td>IV</td>\n",
       "      <td>Not Applicable</td>\n",
       "      <td>...</td>\n",
       "      <td>BEL</td>\n",
       "      <td>Not Applicable</td>\n",
       "      <td>Not Applicable</td>\n",
       "      <td>0.0</td>\n",
       "      <td>737c7794</td>\n",
       "      <td>-1628145044</td>\n",
       "      <td>-1628145044</td>\n",
       "      <td>0.100151</td>\n",
       "      <td>177471</td>\n",
       "      <td>MULTIPOLYGON (((4.76386 50.58017, 4.76390 50.5...</td>\n",
       "    </tr>\n",
       "  </tbody>\n",
       "</table>\n",
       "<p>1 rows × 37 columns</p>\n",
       "</div>"
      ],
      "text/plain": [
       "          WDPAID WDPA_PID PA_DEF                          NAME  \\\n",
       "177470  394131.0   394131      1  \"Fonds Gatot\" Et \"Laid Mâle\"   \n",
       "\n",
       "                             ORIG_NA                                DESIG  \\\n",
       "177470  \"Fonds Gatot\" Et \"Laid Mâle\"  Site Naturel D'Interêt Scientifique   \n",
       "\n",
       "                                          DESIG_E   DESIG_T IUCN_CA  \\\n",
       "177470  Scientific Interest Site (Walloon Region)  National      IV   \n",
       "\n",
       "               INT_CRI  ... ISO3         SUPP_IN         CONS_OB  SORTER  \\\n",
       "177470  Not Applicable  ...  BEL  Not Applicable  Not Applicable     0.0   \n",
       "\n",
       "        WDPA_PID_h  WDPA_PID__     hash_vl   AREA_KM  MOL_ID  \\\n",
       "177470    737c7794 -1628145044 -1628145044  0.100151  177471   \n",
       "\n",
       "                                                 geometry  \n",
       "177470  MULTIPOLYGON (((4.76386 50.58017, 4.76390 50.5...  \n",
       "\n",
       "[1 rows x 37 columns]"
      ]
     },
     "execution_count": 6,
     "metadata": {},
     "output_type": "execute_result"
    }
   ],
   "source": [
    "gdf[gdf['WDPA_PID']=='394131'] # csv keeps original characters as they are"
   ]
  },
  {
   "cell_type": "code",
   "execution_count": 7,
   "metadata": {},
   "outputs": [
    {
     "data": {
      "text/html": [
       "<div>\n",
       "<style scoped>\n",
       "    .dataframe tbody tr th:only-of-type {\n",
       "        vertical-align: middle;\n",
       "    }\n",
       "\n",
       "    .dataframe tbody tr th {\n",
       "        vertical-align: top;\n",
       "    }\n",
       "\n",
       "    .dataframe thead th {\n",
       "        text-align: right;\n",
       "    }\n",
       "</style>\n",
       "<table border=\"1\" class=\"dataframe\">\n",
       "  <thead>\n",
       "    <tr style=\"text-align: right;\">\n",
       "      <th></th>\n",
       "      <th>WDPAID</th>\n",
       "      <th>WDPA_PID</th>\n",
       "      <th>PA_DEF</th>\n",
       "      <th>NAME</th>\n",
       "      <th>ORIG_NA</th>\n",
       "      <th>DESIG</th>\n",
       "      <th>DESIG_E</th>\n",
       "      <th>DESIG_T</th>\n",
       "      <th>IUCN_CA</th>\n",
       "      <th>INT_CRI</th>\n",
       "      <th>...</th>\n",
       "      <th>ISO3</th>\n",
       "      <th>SUPP_IN</th>\n",
       "      <th>CONS_OB</th>\n",
       "      <th>SORTER</th>\n",
       "      <th>WDPA_PID_h</th>\n",
       "      <th>WDPA_PID__</th>\n",
       "      <th>hash_vl</th>\n",
       "      <th>AREA_KM</th>\n",
       "      <th>MOL_ID</th>\n",
       "      <th>geometry</th>\n",
       "    </tr>\n",
       "  </thead>\n",
       "  <tbody>\n",
       "    <tr>\n",
       "      <th>90695</th>\n",
       "      <td>178339.0</td>\n",
       "      <td>178339</td>\n",
       "      <td>1</td>\n",
       "      <td>Bácsalmási Gyapjas Gy?sz?virág Term?helye Term...</td>\n",
       "      <td>Bácsalmási Gyapjas Gy?sz?virág Term?helye Term...</td>\n",
       "      <td>Természetvédelmi Terület</td>\n",
       "      <td>Nature Conservation Area</td>\n",
       "      <td>National</td>\n",
       "      <td>IV</td>\n",
       "      <td>Not Applicable</td>\n",
       "      <td>...</td>\n",
       "      <td>HUN</td>\n",
       "      <td>Not Applicable</td>\n",
       "      <td>Not Applicable</td>\n",
       "      <td>0.0</td>\n",
       "      <td>4a2e7c4e</td>\n",
       "      <td>1087259493</td>\n",
       "      <td>1087259493</td>\n",
       "      <td>0.038925</td>\n",
       "      <td>90696</td>\n",
       "      <td>POLYGON ((19.33125 46.09428, 19.33171 46.09425...</td>\n",
       "    </tr>\n",
       "  </tbody>\n",
       "</table>\n",
       "<p>1 rows × 37 columns</p>\n",
       "</div>"
      ],
      "text/plain": [
       "         WDPAID WDPA_PID PA_DEF  \\\n",
       "90695  178339.0   178339      1   \n",
       "\n",
       "                                                    NAME  \\\n",
       "90695  Bácsalmási Gyapjas Gy?sz?virág Term?helye Term...   \n",
       "\n",
       "                                                 ORIG_NA  \\\n",
       "90695  Bácsalmási Gyapjas Gy?sz?virág Term?helye Term...   \n",
       "\n",
       "                          DESIG                   DESIG_E   DESIG_T IUCN_CA  \\\n",
       "90695  Természetvédelmi Terület  Nature Conservation Area  National      IV   \n",
       "\n",
       "              INT_CRI  ... ISO3         SUPP_IN         CONS_OB  SORTER  \\\n",
       "90695  Not Applicable  ...  HUN  Not Applicable  Not Applicable     0.0   \n",
       "\n",
       "       WDPA_PID_h  WDPA_PID__     hash_vl   AREA_KM  MOL_ID  \\\n",
       "90695    4a2e7c4e  1087259493  1087259493  0.038925   90696   \n",
       "\n",
       "                                                geometry  \n",
       "90695  POLYGON ((19.33125 46.09428, 19.33171 46.09425...  \n",
       "\n",
       "[1 rows x 37 columns]"
      ]
     },
     "execution_count": 7,
     "metadata": {},
     "output_type": "execute_result"
    }
   ],
   "source": [
    "gdf[gdf['NAME'].str.contains('Bácsalmási')] # still, there are some names messed up in the original layer (probably due to previous manipulations)"
   ]
  },
  {
   "attachments": {},
   "cell_type": "markdown",
   "metadata": {},
   "source": [
    "Let's solve the names issue before proceeding to the simplifications using the names collected in this [WDPA dataset](https://eowilson.maps.arcgis.com/home/item.html?id=ef9262a20fbb41bc8dc5eefdc9b93691)"
   ]
  },
  {
   "cell_type": "code",
   "execution_count": 4,
   "metadata": {},
   "outputs": [],
   "source": [
    "wdpa_names = pd.read_csv('/Users/sofia/Documents/HE_Data/WDPA/WDPA_FILTERED_20210615_FILTERED_TERR01_missing1980_no_oecm_wdpa_pid_hash_20230322.csv')"
   ]
  },
  {
   "cell_type": "code",
   "execution_count": 9,
   "metadata": {},
   "outputs": [
    {
     "data": {
      "text/html": [
       "<div>\n",
       "<style scoped>\n",
       "    .dataframe tbody tr th:only-of-type {\n",
       "        vertical-align: middle;\n",
       "    }\n",
       "\n",
       "    .dataframe tbody tr th {\n",
       "        vertical-align: top;\n",
       "    }\n",
       "\n",
       "    .dataframe thead th {\n",
       "        text-align: right;\n",
       "    }\n",
       "</style>\n",
       "<table border=\"1\" class=\"dataframe\">\n",
       "  <thead>\n",
       "    <tr style=\"text-align: right;\">\n",
       "      <th></th>\n",
       "      <th>WDPAID</th>\n",
       "      <th>WDPA_PID</th>\n",
       "      <th>PA_DEF</th>\n",
       "      <th>NAME</th>\n",
       "      <th>ORIG_NAME</th>\n",
       "      <th>DESIG</th>\n",
       "      <th>DESIG_ENG</th>\n",
       "      <th>DESIG_TYPE</th>\n",
       "      <th>IUCN_CAT</th>\n",
       "      <th>INT_CRIT</th>\n",
       "      <th>...</th>\n",
       "      <th>METADATAID</th>\n",
       "      <th>SUB_LOC</th>\n",
       "      <th>PARENT_ISO3</th>\n",
       "      <th>ISO3</th>\n",
       "      <th>SUPP_INFO</th>\n",
       "      <th>CONS_OBJ</th>\n",
       "      <th>SORTER</th>\n",
       "      <th>WDPA_PID_hash</th>\n",
       "      <th>WDPA_PID_hash_int</th>\n",
       "      <th>hash_value</th>\n",
       "    </tr>\n",
       "  </thead>\n",
       "  <tbody>\n",
       "    <tr>\n",
       "      <th>90643</th>\n",
       "      <td>178339</td>\n",
       "      <td>178339</td>\n",
       "      <td>1</td>\n",
       "      <td>Bácsalmási Gyapjas Gyűszűvirág Termőhelye Term...</td>\n",
       "      <td>Bácsalmási Gyapjas Gyűszűvirág Termőhelye Term...</td>\n",
       "      <td>Természetvédelmi Terület</td>\n",
       "      <td>Nature Conservation Area</td>\n",
       "      <td>National</td>\n",
       "      <td>IV</td>\n",
       "      <td>Not Applicable</td>\n",
       "      <td>...</td>\n",
       "      <td>1839</td>\n",
       "      <td>Not Reported</td>\n",
       "      <td>HUN</td>\n",
       "      <td>HUN</td>\n",
       "      <td>Not Applicable</td>\n",
       "      <td>Not Applicable</td>\n",
       "      <td>1992.16</td>\n",
       "      <td>4a2e7c4e</td>\n",
       "      <td>1087259493</td>\n",
       "      <td>1087259493</td>\n",
       "    </tr>\n",
       "  </tbody>\n",
       "</table>\n",
       "<p>1 rows × 34 columns</p>\n",
       "</div>"
      ],
      "text/plain": [
       "       WDPAID WDPA_PID  PA_DEF  \\\n",
       "90643  178339   178339       1   \n",
       "\n",
       "                                                    NAME  \\\n",
       "90643  Bácsalmási Gyapjas Gyűszűvirág Termőhelye Term...   \n",
       "\n",
       "                                               ORIG_NAME  \\\n",
       "90643  Bácsalmási Gyapjas Gyűszűvirág Termőhelye Term...   \n",
       "\n",
       "                          DESIG                 DESIG_ENG DESIG_TYPE IUCN_CAT  \\\n",
       "90643  Természetvédelmi Terület  Nature Conservation Area   National       IV   \n",
       "\n",
       "             INT_CRIT  ...  METADATAID       SUB_LOC  PARENT_ISO3  ISO3  \\\n",
       "90643  Not Applicable  ...        1839  Not Reported          HUN   HUN   \n",
       "\n",
       "            SUPP_INFO        CONS_OBJ   SORTER WDPA_PID_hash  \\\n",
       "90643  Not Applicable  Not Applicable  1992.16      4a2e7c4e   \n",
       "\n",
       "       WDPA_PID_hash_int  hash_value  \n",
       "90643         1087259493  1087259493  \n",
       "\n",
       "[1 rows x 34 columns]"
      ]
     },
     "execution_count": 9,
     "metadata": {},
     "output_type": "execute_result"
    }
   ],
   "source": [
    "wdpa_names[wdpa_names.NAME.str.contains('Bácsalmási')] # The NAME here is correct"
   ]
  },
  {
   "cell_type": "code",
   "execution_count": 13,
   "metadata": {},
   "outputs": [
    {
     "data": {
      "text/html": [
       "<div>\n",
       "<style scoped>\n",
       "    .dataframe tbody tr th:only-of-type {\n",
       "        vertical-align: middle;\n",
       "    }\n",
       "\n",
       "    .dataframe tbody tr th {\n",
       "        vertical-align: top;\n",
       "    }\n",
       "\n",
       "    .dataframe thead th {\n",
       "        text-align: right;\n",
       "    }\n",
       "</style>\n",
       "<table border=\"1\" class=\"dataframe\">\n",
       "  <thead>\n",
       "    <tr style=\"text-align: right;\">\n",
       "      <th></th>\n",
       "      <th>WDPA_PID</th>\n",
       "      <th>ORIG_NAME</th>\n",
       "      <th>NAME_correct</th>\n",
       "      <th>DESIG_correct</th>\n",
       "      <th>DESIG_ENG</th>\n",
       "    </tr>\n",
       "  </thead>\n",
       "  <tbody>\n",
       "    <tr>\n",
       "      <th>0</th>\n",
       "      <td>555561621</td>\n",
       "      <td>Lsg-Morsbachtal, Eschbachtal, Seitentaeler Und...</td>\n",
       "      <td>Lsg-Morsbachtal, Eschbachtal, Seitentaeler Und...</td>\n",
       "      <td>Landschaftschutzgebiet</td>\n",
       "      <td>Landscape Protection Area</td>\n",
       "    </tr>\n",
       "  </tbody>\n",
       "</table>\n",
       "</div>"
      ],
      "text/plain": [
       "    WDPA_PID                                          ORIG_NAME  \\\n",
       "0  555561621  Lsg-Morsbachtal, Eschbachtal, Seitentaeler Und...   \n",
       "\n",
       "                                        NAME_correct           DESIG_correct  \\\n",
       "0  Lsg-Morsbachtal, Eschbachtal, Seitentaeler Und...  Landschaftschutzgebiet   \n",
       "\n",
       "                   DESIG_ENG  \n",
       "0  Landscape Protection Area  "
      ]
     },
     "execution_count": 13,
     "metadata": {},
     "output_type": "execute_result"
    }
   ],
   "source": [
    "names = wdpa_names[['WDPA_PID','ORIG_NAME', 'NAME', 'DESIG', 'DESIG_ENG']].rename(columns={'NAME':'NAME_correct','DESIG':'DESIG_correct'})\n",
    "names.head(1)"
   ]
  },
  {
   "cell_type": "code",
   "execution_count": 14,
   "metadata": {},
   "outputs": [
    {
     "data": {
      "text/html": [
       "<div>\n",
       "<style scoped>\n",
       "    .dataframe tbody tr th:only-of-type {\n",
       "        vertical-align: middle;\n",
       "    }\n",
       "\n",
       "    .dataframe tbody tr th {\n",
       "        vertical-align: top;\n",
       "    }\n",
       "\n",
       "    .dataframe thead th {\n",
       "        text-align: right;\n",
       "    }\n",
       "</style>\n",
       "<table border=\"1\" class=\"dataframe\">\n",
       "  <thead>\n",
       "    <tr style=\"text-align: right;\">\n",
       "      <th></th>\n",
       "      <th>WDPAID</th>\n",
       "      <th>WDPA_PID</th>\n",
       "      <th>PA_DEF</th>\n",
       "      <th>NAME</th>\n",
       "      <th>ORIG_NA</th>\n",
       "      <th>DESIG</th>\n",
       "      <th>DESIG_E</th>\n",
       "      <th>DESIG_T</th>\n",
       "      <th>IUCN_CA</th>\n",
       "      <th>INT_CRI</th>\n",
       "      <th>...</th>\n",
       "      <th>WDPA_PID_h</th>\n",
       "      <th>WDPA_PID__</th>\n",
       "      <th>hash_vl</th>\n",
       "      <th>AREA_KM</th>\n",
       "      <th>MOL_ID</th>\n",
       "      <th>geometry</th>\n",
       "      <th>ORIG_NAME</th>\n",
       "      <th>NAME_correct</th>\n",
       "      <th>DESIG_correct</th>\n",
       "      <th>DESIG_ENG</th>\n",
       "    </tr>\n",
       "  </thead>\n",
       "  <tbody>\n",
       "    <tr>\n",
       "      <th>0</th>\n",
       "      <td>310492.0</td>\n",
       "      <td>310492</td>\n",
       "      <td>1</td>\n",
       "      <td>Boulder Beach</td>\n",
       "      <td>Boulder Beach / WWF Block</td>\n",
       "      <td>Stewardship Area</td>\n",
       "      <td>Stewardship Area</td>\n",
       "      <td>National</td>\n",
       "      <td>III</td>\n",
       "      <td>Not Applicable</td>\n",
       "      <td>...</td>\n",
       "      <td>9cb933d7</td>\n",
       "      <td>1802338827</td>\n",
       "      <td>1802338827</td>\n",
       "      <td>1.136031</td>\n",
       "      <td>1</td>\n",
       "      <td>MULTIPOLYGON (((170.62746 -45.89520, 170.62824...</td>\n",
       "      <td>Boulder Beach / WWF Block</td>\n",
       "      <td>Boulder Beach</td>\n",
       "      <td>Stewardship Area</td>\n",
       "      <td>Stewardship Area</td>\n",
       "    </tr>\n",
       "  </tbody>\n",
       "</table>\n",
       "<p>1 rows × 41 columns</p>\n",
       "</div>"
      ],
      "text/plain": [
       "     WDPAID WDPA_PID PA_DEF           NAME                    ORIG_NA  \\\n",
       "0  310492.0   310492      1  Boulder Beach  Boulder Beach / WWF Block   \n",
       "\n",
       "              DESIG           DESIG_E   DESIG_T IUCN_CA         INT_CRI  ...  \\\n",
       "0  Stewardship Area  Stewardship Area  National     III  Not Applicable  ...   \n",
       "\n",
       "  WDPA_PID_h  WDPA_PID__     hash_vl   AREA_KM  MOL_ID  \\\n",
       "0   9cb933d7  1802338827  1802338827  1.136031       1   \n",
       "\n",
       "                                            geometry  \\\n",
       "0  MULTIPOLYGON (((170.62746 -45.89520, 170.62824...   \n",
       "\n",
       "                   ORIG_NAME   NAME_correct     DESIG_correct  \\\n",
       "0  Boulder Beach / WWF Block  Boulder Beach  Stewardship Area   \n",
       "\n",
       "          DESIG_ENG  \n",
       "0  Stewardship Area  \n",
       "\n",
       "[1 rows x 41 columns]"
      ]
     },
     "execution_count": 14,
     "metadata": {},
     "output_type": "execute_result"
    }
   ],
   "source": [
    "# Merge NAME columns from new dataset into the old one\n",
    "dff = pd.merge(gdf, names, how='left', on='WDPA_PID')\n",
    "dff.head(1)"
   ]
  },
  {
   "cell_type": "code",
   "execution_count": 8,
   "metadata": {},
   "outputs": [
    {
     "data": {
      "text/html": [
       "<div>\n",
       "<style scoped>\n",
       "    .dataframe tbody tr th:only-of-type {\n",
       "        vertical-align: middle;\n",
       "    }\n",
       "\n",
       "    .dataframe tbody tr th {\n",
       "        vertical-align: top;\n",
       "    }\n",
       "\n",
       "    .dataframe thead th {\n",
       "        text-align: right;\n",
       "    }\n",
       "</style>\n",
       "<table border=\"1\" class=\"dataframe\">\n",
       "  <thead>\n",
       "    <tr style=\"text-align: right;\">\n",
       "      <th></th>\n",
       "      <th>NAME</th>\n",
       "      <th>NAME_correct</th>\n",
       "    </tr>\n",
       "  </thead>\n",
       "  <tbody>\n",
       "    <tr>\n",
       "      <th>20</th>\n",
       "      <td>Mt Cargill \"Scenic Reserve\"</td>\n",
       "      <td>Mt Cargill \"\"Scenic Reserve\"\"</td>\n",
       "    </tr>\n",
       "    <tr>\n",
       "      <th>1270</th>\n",
       "      <td>Hima Huraymila? National Park</td>\n",
       "      <td>Hima Huraymila’ National Park</td>\n",
       "    </tr>\n",
       "    <tr>\n",
       "      <th>1271</th>\n",
       "      <td>Al-Ha?ir Wetland</td>\n",
       "      <td>Al-Ha’ir Wetland</td>\n",
       "    </tr>\n",
       "    <tr>\n",
       "      <th>1272</th>\n",
       "      <td>Yanbu? Coastal Conservation Area</td>\n",
       "      <td>Yanbu‘ Coastal Conservation Area</td>\n",
       "    </tr>\n",
       "    <tr>\n",
       "      <th>2692</th>\n",
       "      <td>ORI VARNOUNTA ? EVRYTERI PERIOCHI</td>\n",
       "      <td>ORI VARNOUNTA – EVRYTERI PERIOCHI</td>\n",
       "    </tr>\n",
       "    <tr>\n",
       "      <th>...</th>\n",
       "      <td>...</td>\n",
       "      <td>...</td>\n",
       "    </tr>\n",
       "    <tr>\n",
       "      <th>217424</th>\n",
       "      <td>4.11 St Sampson's Marais / Ivy Castle</td>\n",
       "      <td>NaN</td>\n",
       "    </tr>\n",
       "    <tr>\n",
       "      <th>217425</th>\n",
       "      <td>4.7 Les Vicheries and Rue Rocheuse</td>\n",
       "      <td>NaN</td>\n",
       "    </tr>\n",
       "    <tr>\n",
       "      <th>217426</th>\n",
       "      <td>Les Demoiselles nursery (Plaisance Bay), Magda...</td>\n",
       "      <td>NaN</td>\n",
       "    </tr>\n",
       "    <tr>\n",
       "      <th>217427</th>\n",
       "      <td>Strait Of Georgia And Howe Sound Glass Sponge ...</td>\n",
       "      <td>NaN</td>\n",
       "    </tr>\n",
       "    <tr>\n",
       "      <th>217428</th>\n",
       "      <td>Canadian Forces Base Shilo</td>\n",
       "      <td>NaN</td>\n",
       "    </tr>\n",
       "  </tbody>\n",
       "</table>\n",
       "<p>8119 rows × 2 columns</p>\n",
       "</div>"
      ],
      "text/plain": [
       "                                                     NAME  \\\n",
       "20                            Mt Cargill \"Scenic Reserve\"   \n",
       "1270                        Hima Huraymila? National Park   \n",
       "1271                                     Al-Ha?ir Wetland   \n",
       "1272                     Yanbu? Coastal Conservation Area   \n",
       "2692                    ORI VARNOUNTA ? EVRYTERI PERIOCHI   \n",
       "...                                                   ...   \n",
       "217424              4.11 St Sampson's Marais / Ivy Castle   \n",
       "217425                 4.7 Les Vicheries and Rue Rocheuse   \n",
       "217426  Les Demoiselles nursery (Plaisance Bay), Magda...   \n",
       "217427  Strait Of Georgia And Howe Sound Glass Sponge ...   \n",
       "217428                         Canadian Forces Base Shilo   \n",
       "\n",
       "                             NAME_correct  \n",
       "20          Mt Cargill \"\"Scenic Reserve\"\"  \n",
       "1270        Hima Huraymila’ National Park  \n",
       "1271                     Al-Ha’ir Wetland  \n",
       "1272     Yanbu‘ Coastal Conservation Area  \n",
       "2692    ORI VARNOUNTA – EVRYTERI PERIOCHI  \n",
       "...                                   ...  \n",
       "217424                                NaN  \n",
       "217425                                NaN  \n",
       "217426                                NaN  \n",
       "217427                                NaN  \n",
       "217428                                NaN  \n",
       "\n",
       "[8119 rows x 2 columns]"
      ]
     },
     "execution_count": 8,
     "metadata": {},
     "output_type": "execute_result"
    }
   ],
   "source": [
    "# Check which wdpa have different names in the first dataset compared to the corrected dataset\n",
    "dff2 = dff[dff.NAME!=dff.NAME_correct]\n",
    "dff2[['NAME', 'NAME_correct']]"
   ]
  },
  {
   "cell_type": "code",
   "execution_count": 15,
   "metadata": {},
   "outputs": [],
   "source": [
    "# Give to each wdpa with NaN values in the corrected dataset the name they have in the original one\n",
    "dff.NAME_correct.fillna(dff.NAME, inplace=True)\n",
    "dff.ORIG_NAME.fillna(dff.ORIG_NA, inplace=True)\n",
    "dff.DESIG_correct.fillna(dff.DESIG, inplace=True)\n",
    "dff.DESIG_ENG.fillna(dff.DESIG_E, inplace=True)"
   ]
  },
  {
   "cell_type": "code",
   "execution_count": 10,
   "metadata": {},
   "outputs": [
    {
     "data": {
      "text/html": [
       "<div>\n",
       "<style scoped>\n",
       "    .dataframe tbody tr th:only-of-type {\n",
       "        vertical-align: middle;\n",
       "    }\n",
       "\n",
       "    .dataframe tbody tr th {\n",
       "        vertical-align: top;\n",
       "    }\n",
       "\n",
       "    .dataframe thead th {\n",
       "        text-align: right;\n",
       "    }\n",
       "</style>\n",
       "<table border=\"1\" class=\"dataframe\">\n",
       "  <thead>\n",
       "    <tr style=\"text-align: right;\">\n",
       "      <th></th>\n",
       "      <th>NAME</th>\n",
       "      <th>NAME_correct</th>\n",
       "    </tr>\n",
       "  </thead>\n",
       "  <tbody>\n",
       "    <tr>\n",
       "      <th>20</th>\n",
       "      <td>Mt Cargill \"Scenic Reserve\"</td>\n",
       "      <td>Mt Cargill \"\"Scenic Reserve\"\"</td>\n",
       "    </tr>\n",
       "    <tr>\n",
       "      <th>1270</th>\n",
       "      <td>Hima Huraymila? National Park</td>\n",
       "      <td>Hima Huraymila’ National Park</td>\n",
       "    </tr>\n",
       "    <tr>\n",
       "      <th>1271</th>\n",
       "      <td>Al-Ha?ir Wetland</td>\n",
       "      <td>Al-Ha’ir Wetland</td>\n",
       "    </tr>\n",
       "    <tr>\n",
       "      <th>1272</th>\n",
       "      <td>Yanbu? Coastal Conservation Area</td>\n",
       "      <td>Yanbu‘ Coastal Conservation Area</td>\n",
       "    </tr>\n",
       "    <tr>\n",
       "      <th>2692</th>\n",
       "      <td>ORI VARNOUNTA ? EVRYTERI PERIOCHI</td>\n",
       "      <td>ORI VARNOUNTA – EVRYTERI PERIOCHI</td>\n",
       "    </tr>\n",
       "    <tr>\n",
       "      <th>...</th>\n",
       "      <td>...</td>\n",
       "      <td>...</td>\n",
       "    </tr>\n",
       "    <tr>\n",
       "      <th>216257</th>\n",
       "      <td>Complexe du Parc Urbain Bãngr ? Weoogo et du l...</td>\n",
       "      <td>Complexe du Parc Urbain Bãngr – Weoogo et du l...</td>\n",
       "    </tr>\n",
       "    <tr>\n",
       "      <th>216635</th>\n",
       "      <td>Ch?ihilii Chìk</td>\n",
       "      <td>Ch’ihilii Chìk</td>\n",
       "    </tr>\n",
       "    <tr>\n",
       "      <th>216687</th>\n",
       "      <td>5-10-77</td>\n",
       "      <td>5/10/1977</td>\n",
       "    </tr>\n",
       "    <tr>\n",
       "      <th>216782</th>\n",
       "      <td>Centr ohrany prirody \"Zejskij\"</td>\n",
       "      <td>Centr ohrany prirody \"\"Zejskij\"\"</td>\n",
       "    </tr>\n",
       "    <tr>\n",
       "      <th>217273</th>\n",
       "      <td>Govenlock</td>\n",
       "      <td>Govenlock</td>\n",
       "    </tr>\n",
       "  </tbody>\n",
       "</table>\n",
       "<p>7991 rows × 2 columns</p>\n",
       "</div>"
      ],
      "text/plain": [
       "                                                     NAME  \\\n",
       "20                            Mt Cargill \"Scenic Reserve\"   \n",
       "1270                        Hima Huraymila? National Park   \n",
       "1271                                     Al-Ha?ir Wetland   \n",
       "1272                     Yanbu? Coastal Conservation Area   \n",
       "2692                    ORI VARNOUNTA ? EVRYTERI PERIOCHI   \n",
       "...                                                   ...   \n",
       "216257  Complexe du Parc Urbain Bãngr ? Weoogo et du l...   \n",
       "216635                                     Ch?ihilii Chìk   \n",
       "216687                                            5-10-77   \n",
       "216782                     Centr ohrany prirody \"Zejskij\"   \n",
       "217273                                          Govenlock   \n",
       "\n",
       "                                             NAME_correct  \n",
       "20                          Mt Cargill \"\"Scenic Reserve\"\"  \n",
       "1270                        Hima Huraymila’ National Park  \n",
       "1271                                     Al-Ha’ir Wetland  \n",
       "1272                     Yanbu‘ Coastal Conservation Area  \n",
       "2692                    ORI VARNOUNTA – EVRYTERI PERIOCHI  \n",
       "...                                                   ...  \n",
       "216257  Complexe du Parc Urbain Bãngr – Weoogo et du l...  \n",
       "216635                                     Ch’ihilii Chìk  \n",
       "216687                                          5/10/1977  \n",
       "216782                   Centr ohrany prirody \"\"Zejskij\"\"  \n",
       "217273                                         Govenlock   \n",
       "\n",
       "[7991 rows x 2 columns]"
      ]
     },
     "execution_count": 10,
     "metadata": {},
     "output_type": "execute_result"
    }
   ],
   "source": [
    "# Check again which wdpa have different names in the first dataset compared to the corrected dataset\n",
    "dff2 = dff[dff.NAME!=dff.NAME_correct]\n",
    "dff2[['NAME', 'NAME_correct']]"
   ]
  },
  {
   "cell_type": "code",
   "execution_count": 16,
   "metadata": {},
   "outputs": [
    {
     "data": {
      "text/html": [
       "<div>\n",
       "<style scoped>\n",
       "    .dataframe tbody tr th:only-of-type {\n",
       "        vertical-align: middle;\n",
       "    }\n",
       "\n",
       "    .dataframe tbody tr th {\n",
       "        vertical-align: top;\n",
       "    }\n",
       "\n",
       "    .dataframe thead th {\n",
       "        text-align: right;\n",
       "    }\n",
       "</style>\n",
       "<table border=\"1\" class=\"dataframe\">\n",
       "  <thead>\n",
       "    <tr style=\"text-align: right;\">\n",
       "      <th></th>\n",
       "      <th>WDPAID</th>\n",
       "      <th>WDPA_PID</th>\n",
       "      <th>PA_DEF</th>\n",
       "      <th>NAME</th>\n",
       "      <th>ORIG_NA</th>\n",
       "      <th>DESIG</th>\n",
       "      <th>DESIG_E</th>\n",
       "      <th>DESIG_T</th>\n",
       "      <th>IUCN_CA</th>\n",
       "      <th>INT_CRI</th>\n",
       "      <th>...</th>\n",
       "      <th>ISO3</th>\n",
       "      <th>SUPP_IN</th>\n",
       "      <th>CONS_OB</th>\n",
       "      <th>SORTER</th>\n",
       "      <th>WDPA_PID_h</th>\n",
       "      <th>WDPA_PID__</th>\n",
       "      <th>hash_vl</th>\n",
       "      <th>AREA_KM</th>\n",
       "      <th>MOL_ID</th>\n",
       "      <th>geometry</th>\n",
       "    </tr>\n",
       "  </thead>\n",
       "  <tbody>\n",
       "    <tr>\n",
       "      <th>0</th>\n",
       "      <td>310492.0</td>\n",
       "      <td>310492</td>\n",
       "      <td>1</td>\n",
       "      <td>Boulder Beach</td>\n",
       "      <td>Boulder Beach / WWF Block</td>\n",
       "      <td>Stewardship Area</td>\n",
       "      <td>Stewardship Area</td>\n",
       "      <td>National</td>\n",
       "      <td>III</td>\n",
       "      <td>Not Applicable</td>\n",
       "      <td>...</td>\n",
       "      <td>NZL</td>\n",
       "      <td>Not Applicable</td>\n",
       "      <td>Not Applicable</td>\n",
       "      <td>0.0</td>\n",
       "      <td>9cb933d7</td>\n",
       "      <td>1802338827</td>\n",
       "      <td>1802338827</td>\n",
       "      <td>1.136031</td>\n",
       "      <td>1</td>\n",
       "      <td>MULTIPOLYGON (((170.62746 -45.89520, 170.62824...</td>\n",
       "    </tr>\n",
       "    <tr>\n",
       "      <th>1</th>\n",
       "      <td>307797.0</td>\n",
       "      <td>307797</td>\n",
       "      <td>1</td>\n",
       "      <td>Ferndale</td>\n",
       "      <td>Ferndale</td>\n",
       "      <td>Scenic Reserve</td>\n",
       "      <td>Scenic Reserve</td>\n",
       "      <td>National</td>\n",
       "      <td>III</td>\n",
       "      <td>Not Applicable</td>\n",
       "      <td>...</td>\n",
       "      <td>NZL</td>\n",
       "      <td>Not Applicable</td>\n",
       "      <td>Not Applicable</td>\n",
       "      <td>0.0</td>\n",
       "      <td>6dcdc88b</td>\n",
       "      <td>781004482</td>\n",
       "      <td>781004482</td>\n",
       "      <td>0.748492</td>\n",
       "      <td>2</td>\n",
       "      <td>POLYGON ((173.97642 -41.19258, 173.97595 -41.1...</td>\n",
       "    </tr>\n",
       "    <tr>\n",
       "      <th>2</th>\n",
       "      <td>307745.0</td>\n",
       "      <td>307745</td>\n",
       "      <td>1</td>\n",
       "      <td>Broughton Bay</td>\n",
       "      <td>Broughton Bay</td>\n",
       "      <td>Scenic Reserve</td>\n",
       "      <td>Scenic Reserve</td>\n",
       "      <td>National</td>\n",
       "      <td>III</td>\n",
       "      <td>Not Applicable</td>\n",
       "      <td>...</td>\n",
       "      <td>NZL</td>\n",
       "      <td>Not Applicable</td>\n",
       "      <td>Not Applicable</td>\n",
       "      <td>0.0</td>\n",
       "      <td>322a981f</td>\n",
       "      <td>-1455988893</td>\n",
       "      <td>-1455988893</td>\n",
       "      <td>0.031907</td>\n",
       "      <td>3</td>\n",
       "      <td>POLYGON ((173.95691 -41.20976, 173.95580 -41.2...</td>\n",
       "    </tr>\n",
       "    <tr>\n",
       "      <th>3</th>\n",
       "      <td>307867.0</td>\n",
       "      <td>307867</td>\n",
       "      <td>1</td>\n",
       "      <td>Kaipupu Point</td>\n",
       "      <td>Kaipupu Point</td>\n",
       "      <td>Scenic Reserve</td>\n",
       "      <td>Scenic Reserve</td>\n",
       "      <td>National</td>\n",
       "      <td>III</td>\n",
       "      <td>Not Applicable</td>\n",
       "      <td>...</td>\n",
       "      <td>NZL</td>\n",
       "      <td>Not Applicable</td>\n",
       "      <td>Not Applicable</td>\n",
       "      <td>0.0</td>\n",
       "      <td>dc69e4d7</td>\n",
       "      <td>1645593535</td>\n",
       "      <td>1645593535</td>\n",
       "      <td>0.270855</td>\n",
       "      <td>4</td>\n",
       "      <td>POLYGON ((174.00241 -41.27336, 174.00312 -41.2...</td>\n",
       "    </tr>\n",
       "    <tr>\n",
       "      <th>4</th>\n",
       "      <td>303963.0</td>\n",
       "      <td>303963</td>\n",
       "      <td>1</td>\n",
       "      <td>Catlins Conservation Park</td>\n",
       "      <td>Catlins Conservation Park</td>\n",
       "      <td>Stewardship Area</td>\n",
       "      <td>Stewardship Area</td>\n",
       "      <td>National</td>\n",
       "      <td>III</td>\n",
       "      <td>Not Applicable</td>\n",
       "      <td>...</td>\n",
       "      <td>NZL</td>\n",
       "      <td>Not Applicable</td>\n",
       "      <td>Not Applicable</td>\n",
       "      <td>0.0</td>\n",
       "      <td>ff0048d0</td>\n",
       "      <td>1218801077</td>\n",
       "      <td>1218801077</td>\n",
       "      <td>8.412168</td>\n",
       "      <td>5</td>\n",
       "      <td>MULTIPOLYGON (((169.53396 -46.44102, 169.53387...</td>\n",
       "    </tr>\n",
       "  </tbody>\n",
       "</table>\n",
       "<p>5 rows × 37 columns</p>\n",
       "</div>"
      ],
      "text/plain": [
       "     WDPAID WDPA_PID PA_DEF                       NAME  \\\n",
       "0  310492.0   310492      1              Boulder Beach   \n",
       "1  307797.0   307797      1                   Ferndale   \n",
       "2  307745.0   307745      1              Broughton Bay   \n",
       "3  307867.0   307867      1              Kaipupu Point   \n",
       "4  303963.0   303963      1  Catlins Conservation Park   \n",
       "\n",
       "                     ORIG_NA             DESIG           DESIG_E   DESIG_T  \\\n",
       "0  Boulder Beach / WWF Block  Stewardship Area  Stewardship Area  National   \n",
       "1                   Ferndale    Scenic Reserve    Scenic Reserve  National   \n",
       "2              Broughton Bay    Scenic Reserve    Scenic Reserve  National   \n",
       "3              Kaipupu Point    Scenic Reserve    Scenic Reserve  National   \n",
       "4  Catlins Conservation Park  Stewardship Area  Stewardship Area  National   \n",
       "\n",
       "  IUCN_CA         INT_CRI  ... ISO3         SUPP_IN         CONS_OB  SORTER  \\\n",
       "0     III  Not Applicable  ...  NZL  Not Applicable  Not Applicable     0.0   \n",
       "1     III  Not Applicable  ...  NZL  Not Applicable  Not Applicable     0.0   \n",
       "2     III  Not Applicable  ...  NZL  Not Applicable  Not Applicable     0.0   \n",
       "3     III  Not Applicable  ...  NZL  Not Applicable  Not Applicable     0.0   \n",
       "4     III  Not Applicable  ...  NZL  Not Applicable  Not Applicable     0.0   \n",
       "\n",
       "   WDPA_PID_h  WDPA_PID__     hash_vl   AREA_KM  MOL_ID  \\\n",
       "0    9cb933d7  1802338827  1802338827  1.136031       1   \n",
       "1    6dcdc88b   781004482   781004482  0.748492       2   \n",
       "2    322a981f -1455988893 -1455988893  0.031907       3   \n",
       "3    dc69e4d7  1645593535  1645593535  0.270855       4   \n",
       "4    ff0048d0  1218801077  1218801077  8.412168       5   \n",
       "\n",
       "                                            geometry  \n",
       "0  MULTIPOLYGON (((170.62746 -45.89520, 170.62824...  \n",
       "1  POLYGON ((173.97642 -41.19258, 173.97595 -41.1...  \n",
       "2  POLYGON ((173.95691 -41.20976, 173.95580 -41.2...  \n",
       "3  POLYGON ((174.00241 -41.27336, 174.00312 -41.2...  \n",
       "4  MULTIPOLYGON (((169.53396 -46.44102, 169.53387...  \n",
       "\n",
       "[5 rows x 37 columns]"
      ]
     },
     "execution_count": 16,
     "metadata": {},
     "output_type": "execute_result"
    }
   ],
   "source": [
    "# Give to NAME in original dataset the new names\n",
    "dff.NAME = dff.NAME_correct\n",
    "dff = dff.drop(columns={'NAME_correct'})\n",
    "dff.ORIG_NA = dff.ORIG_NAME\n",
    "dff = dff.drop(columns={'ORIG_NAME'})\n",
    "dff.DESIG = dff.DESIG_correct\n",
    "dff = dff.drop(columns={'DESIG_correct'})\n",
    "dff.DESIG_E = dff.DESIG_ENG\n",
    "dff = dff.drop(columns={'DESIG_ENG'})\n",
    "dff.head()"
   ]
  },
  {
   "cell_type": "code",
   "execution_count": 17,
   "metadata": {},
   "outputs": [
    {
     "data": {
      "text/html": [
       "<div>\n",
       "<style scoped>\n",
       "    .dataframe tbody tr th:only-of-type {\n",
       "        vertical-align: middle;\n",
       "    }\n",
       "\n",
       "    .dataframe tbody tr th {\n",
       "        vertical-align: top;\n",
       "    }\n",
       "\n",
       "    .dataframe thead th {\n",
       "        text-align: right;\n",
       "    }\n",
       "</style>\n",
       "<table border=\"1\" class=\"dataframe\">\n",
       "  <thead>\n",
       "    <tr style=\"text-align: right;\">\n",
       "      <th></th>\n",
       "      <th>WDPAID</th>\n",
       "      <th>WDPA_PID</th>\n",
       "      <th>PA_DEF</th>\n",
       "      <th>NAME</th>\n",
       "      <th>ORIG_NA</th>\n",
       "      <th>DESIG</th>\n",
       "      <th>DESIG_E</th>\n",
       "      <th>DESIG_T</th>\n",
       "      <th>IUCN_CA</th>\n",
       "      <th>INT_CRI</th>\n",
       "      <th>...</th>\n",
       "      <th>ISO3</th>\n",
       "      <th>SUPP_IN</th>\n",
       "      <th>CONS_OB</th>\n",
       "      <th>SORTER</th>\n",
       "      <th>WDPA_PID_h</th>\n",
       "      <th>WDPA_PID__</th>\n",
       "      <th>hash_vl</th>\n",
       "      <th>AREA_KM</th>\n",
       "      <th>MOL_ID</th>\n",
       "      <th>geometry</th>\n",
       "    </tr>\n",
       "  </thead>\n",
       "  <tbody>\n",
       "    <tr>\n",
       "      <th>90695</th>\n",
       "      <td>178339.0</td>\n",
       "      <td>178339</td>\n",
       "      <td>1</td>\n",
       "      <td>Bácsalmási Gyapjas Gyűszűvirág Termőhelye Term...</td>\n",
       "      <td>Bácsalmási Gyapjas Gyűszűvirág Termőhelye Term...</td>\n",
       "      <td>Természetvédelmi Terület</td>\n",
       "      <td>Nature Conservation Area</td>\n",
       "      <td>National</td>\n",
       "      <td>IV</td>\n",
       "      <td>Not Applicable</td>\n",
       "      <td>...</td>\n",
       "      <td>HUN</td>\n",
       "      <td>Not Applicable</td>\n",
       "      <td>Not Applicable</td>\n",
       "      <td>0.0</td>\n",
       "      <td>4a2e7c4e</td>\n",
       "      <td>1087259493</td>\n",
       "      <td>1087259493</td>\n",
       "      <td>0.038925</td>\n",
       "      <td>90696</td>\n",
       "      <td>POLYGON ((19.33125 46.09428, 19.33171 46.09425...</td>\n",
       "    </tr>\n",
       "  </tbody>\n",
       "</table>\n",
       "<p>1 rows × 37 columns</p>\n",
       "</div>"
      ],
      "text/plain": [
       "         WDPAID WDPA_PID PA_DEF  \\\n",
       "90695  178339.0   178339      1   \n",
       "\n",
       "                                                    NAME  \\\n",
       "90695  Bácsalmási Gyapjas Gyűszűvirág Termőhelye Term...   \n",
       "\n",
       "                                                 ORIG_NA  \\\n",
       "90695  Bácsalmási Gyapjas Gyűszűvirág Termőhelye Term...   \n",
       "\n",
       "                          DESIG                   DESIG_E   DESIG_T IUCN_CA  \\\n",
       "90695  Természetvédelmi Terület  Nature Conservation Area  National      IV   \n",
       "\n",
       "              INT_CRI  ... ISO3         SUPP_IN         CONS_OB  SORTER  \\\n",
       "90695  Not Applicable  ...  HUN  Not Applicable  Not Applicable     0.0   \n",
       "\n",
       "       WDPA_PID_h  WDPA_PID__     hash_vl   AREA_KM  MOL_ID  \\\n",
       "90695    4a2e7c4e  1087259493  1087259493  0.038925   90696   \n",
       "\n",
       "                                                geometry  \n",
       "90695  POLYGON ((19.33125 46.09428, 19.33171 46.09425...  \n",
       "\n",
       "[1 rows x 37 columns]"
      ]
     },
     "execution_count": 17,
     "metadata": {},
     "output_type": "execute_result"
    }
   ],
   "source": [
    "dff[dff.NAME.str.contains('Bácsalmási')] # Now the NAME here is correct"
   ]
  },
  {
   "cell_type": "code",
   "execution_count": 18,
   "metadata": {},
   "outputs": [
    {
     "data": {
      "text/plain": [
       "217429"
      ]
     },
     "execution_count": 18,
     "metadata": {},
     "output_type": "execute_result"
    }
   ],
   "source": [
    "len(dff)"
   ]
  },
  {
   "cell_type": "code",
   "execution_count": 20,
   "metadata": {},
   "outputs": [
    {
     "data": {
      "text/plain": [
       "<AxesSubplot:>"
      ]
     },
     "execution_count": 20,
     "metadata": {},
     "output_type": "execute_result"
    },
    {
     "data": {
      "image/png": "[encoded data removed]",
      "text/plain": [
       "<Figure size 432x288 with 1 Axes>"
      ]
     },
     "metadata": {
      "needs_background": "light"
     },
     "output_type": "display_data"
    }
   ],
   "source": [
    "dff[dff.WDPA_PID=='555624810_A'].plot()"
   ]
  },
  {
   "cell_type": "code",
   "execution_count": 21,
   "metadata": {},
   "outputs": [],
   "source": [
    "dff_new = dff.loc[dff['WDPA_PID'] != '555624810_A']"
   ]
  },
  {
   "attachments": {},
   "cell_type": "markdown",
   "metadata": {},
   "source": [
    "Converting the shp to json (for the simplification) changes the original characters of the names, so let's create a new gdf that only contains geometries and the MOL_ID of the WDPA and use it for the simplification. Then we'll join the required attributes from the original table to the resulting simplificated layer. "
   ]
  },
  {
   "cell_type": "code",
   "execution_count": 22,
   "metadata": {},
   "outputs": [],
   "source": [
    "gdf2 = dff_new[['MOL_ID','geometry']]"
   ]
  },
  {
   "cell_type": "code",
   "execution_count": 23,
   "metadata": {},
   "outputs": [
    {
     "name": "stdout",
     "output_type": "stream",
     "text": [
      "CPU times: user 5min 43s, sys: 16.2 s, total: 5min 59s\n",
      "Wall time: 6min 16s\n"
     ]
    }
   ],
   "source": [
    "%%time\n",
    "# Save file in local\n",
    "gdf2.to_file(f'{path}/WDPA_Terrestrial_corrected_geomOnly', driver= 'ESRI Shapefile')"
   ]
  },
  {
   "cell_type": "markdown",
   "metadata": {},
   "source": [
    "### Simplifications"
   ]
  },
  {
   "cell_type": "markdown",
   "metadata": {
    "tags": []
   },
   "source": [
    "#### 1. Low simplification (to be used at large scales with a greater amount of detail)"
   ]
  },
  {
   "cell_type": "code",
   "execution_count": 24,
   "metadata": {},
   "outputs": [
    {
     "name": "stdout",
     "output_type": "stream",
     "text": [
      "Allocating 16 GB of heap memory\n",
      "[merge-layers] Use the target= option to specify multiple layers for merging\n",
      "[o] Wrote WDPA_test/1.json\n",
      "[o] Wrote WDPA_test/2.json\n",
      "[o] Wrote WDPA_test/3.json\n",
      "[o] Wrote WDPA_test/4.json\n",
      "[o] Wrote WDPA_test/5.json\n",
      "[o] Wrote WDPA_test/6.json\n",
      "[o] Wrote WDPA_test/7.json\n",
      "[o] Wrote WDPA_test/8.json\n",
      "[o] Wrote WDPA_test/9.json\n",
      "[o] Wrote WDPA_test/10.json\n",
      "[o] Wrote WDPA_test/11.json\n"
     ]
    }
   ],
   "source": [
    "# Break the shp into 12 json files to make the process more efficient\n",
    "!mapshaper-xl 16gb -i ./../../HE_Data/WDPA/WDPA_Terrestrial_corrected_geomOnly/*.shp no-topology combine-files \\\n",
    "    -merge-layers \\\n",
    "    -each \"group = Math.trunc(this.id/20000)+1\" \\\n",
    "    -split group \\\n",
    "    -o WDPA_test/ format=geojson precision=0.0001 force ndjson"
   ]
  },
  {
   "cell_type": "code",
   "execution_count": 25,
   "metadata": {},
   "outputs": [
    {
     "name": "stdout",
     "output_type": "stream",
     "text": [
      "Allocating 16 GB of heap memory\n",
      "[i] Snapped 0 points\n",
      "[simplify] Repaired 5,032 intersections; 9,944 intersections could not be repaired\n",
      "[o] Wrote WDPA_test/1.json\n",
      "[i] Snapped 0 points\n",
      "[simplify] Repaired 6,826 intersections; 32,382 intersections could not be repaired\n",
      "[o] Wrote WDPA_test/10.json\n",
      "[i] Snapped 0 points\n",
      "[simplify] Repaired 0 intersections; 49,343 intersections could not be repaired\n",
      "[o] Wrote WDPA_test/11.json\n",
      "[i] Snapped 0 points\n",
      "[simplify] Repaired 2,478 intersections; 16,006 intersections could not be repaired\n",
      "[o] Wrote WDPA_test/2.json\n",
      "[i] Snapped 0 points\n",
      "[simplify] Repaired 2,590 intersections; 33,808 intersections could not be repaired\n",
      "[o] Wrote WDPA_test/3.json\n",
      "[i] Snapped 0 points\n",
      "[simplify] Repaired 2,073 intersections; 14,770 intersections could not be repaired\n",
      "[o] Wrote WDPA_test/4.json\n",
      "[i] Snapped 0 points\n",
      "[simplify] Repaired 1,564 intersections; 24,268 intersections could not be repaired\n",
      "[o] Wrote WDPA_test/5.json\n",
      "[i] Snapped 0 points\n",
      "[simplify] Repaired 527 intersections; 45,889 intersections could not be repaired\n",
      "[o] Wrote WDPA_test/6.json\n",
      "[i] Snapped 0 points\n",
      "[simplify] Repaired 13,701 intersections; 71,522 intersections could not be repaired\n",
      "[o] Wrote WDPA_test/7.json\n",
      "[i] Snapped 0 points\n",
      "[simplify] Repaired 9,081 intersections; 30,590 intersections could not be repaired\n",
      "[o] Wrote WDPA_test/8.json\n",
      "[i] Snapped 0 points\n",
      "[simplify] Repaired 2,811 intersections; 24,433 intersections could not be repaired\n",
      "[o] Wrote WDPA_test/9.json\n",
      "CPU times: user 2.29 s, sys: 755 ms, total: 3.04 s\n",
      "Wall time: 2min 57s\n"
     ]
    }
   ],
   "source": [
    "%%time\n",
    "# Only simplify (retains all geometries).\n",
    "!mapshaper-xl 16gb -i ./WDPA_test/*.json snap \\\n",
    "    -simplify 50% weighting=0.3 planar keep-shapes \\\n",
    "    -o WDPA_test/ format=geojson force ndjson"
   ]
  },
  {
   "cell_type": "code",
   "execution_count": 27,
   "metadata": {},
   "outputs": [
    {
     "name": "stdout",
     "output_type": "stream",
     "text": [
      "Allocating 16 GB of heap memory\n",
      "[info] \n",
      "=========================\n",
      "Layer:    [unnamed layer]\n",
      "-------------------------\n",
      "Type:     polygon\n",
      "Records:  217,428\n",
      "Nulls:     444\n",
      "Bounds:   -179.9999,-69.4778,179.9999,83.73\n",
      "CRS:      +proj=longlat +datum=WGS84\n",
      "Source:   ./WDPA_test/1.json\n",
      "\n",
      "Attribute data\n",
      "--------+-------------\n",
      " Field  | First value\n",
      "--------+-------------\n",
      " group  | 1\n",
      " MOL_ID | 1\n",
      "--------+-------------\n",
      "\n",
      "[o] Wrote WDPA_test/wdpa_simp1.shp\n",
      "[o] Wrote WDPA_test/wdpa_simp1.shx\n",
      "[o] Wrote WDPA_test/wdpa_simp1.dbf\n",
      "[o] Wrote WDPA_test/wdpa_simp1.prj\n"
     ]
    }
   ],
   "source": [
    "# Combine all json files in a shp. \n",
    "!mapshaper-xl 16gb -i ./WDPA_test/*.json combine-files -merge-layers -info -o WDPA_test/wdpa_simp1.shp"
   ]
  },
  {
   "cell_type": "code",
   "execution_count": 47,
   "metadata": {},
   "outputs": [
    {
     "data": {
      "text/plain": [
       "217428"
      ]
     },
     "execution_count": 47,
     "metadata": {},
     "output_type": "execute_result"
    }
   ],
   "source": [
    "sim1 = gpd.read_file('WDPA_test/wdpa_simp1.shp') # len 217429, retains all geometries\n",
    "len(sim1)"
   ]
  },
  {
   "cell_type": "code",
   "execution_count": 48,
   "metadata": {},
   "outputs": [],
   "source": [
    "## Set crs\n",
    "sim1 = sim1.set_crs('EPSG:4326') "
   ]
  },
  {
   "cell_type": "code",
   "execution_count": 49,
   "metadata": {},
   "outputs": [
    {
     "name": "stdout",
     "output_type": "stream",
     "text": [
      "CPU times: user 44min 11s, sys: 1min 3s, total: 45min 15s\n",
      "Wall time: 45min 57s\n"
     ]
    },
    {
     "data": {
      "text/plain": [
       "216982"
      ]
     },
     "execution_count": 49,
     "metadata": {},
     "output_type": "execute_result"
    }
   ],
   "source": [
    "%%time\n",
    "# Repair geometries, in case some are invalid after simplification, and check how many are valid\n",
    "sim1['geometry'] = sim1['geometry'].buffer(0) # this is to repair geometries\n",
    "sum(sim1.is_valid) # now 216983 geometries valid so there are still 446 invalid"
   ]
  },
  {
   "cell_type": "code",
   "execution_count": 50,
   "metadata": {},
   "outputs": [
    {
     "data": {
      "text/plain": [
       "216982"
      ]
     },
     "execution_count": 50,
     "metadata": {},
     "output_type": "execute_result"
    }
   ],
   "source": [
    "# Remove invalid geometries\n",
    "valid = sim1[sim1['geometry'].is_valid]\n",
    "len(valid)"
   ]
  },
  {
   "cell_type": "code",
   "execution_count": 52,
   "metadata": {},
   "outputs": [
    {
     "data": {
      "text/plain": [
       "446"
      ]
     },
     "execution_count": 52,
     "metadata": {},
     "output_type": "execute_result"
    }
   ],
   "source": [
    "# Let's check which are the invalid geometries \n",
    "list1 = list(valid['MOL_ID'].unique())\n",
    "list2 = list(sim1['MOL_ID'].unique())\n",
    "invalid = list(set(list2).difference(list1)) \n",
    "len(invalid)"
   ]
  },
  {
   "cell_type": "code",
   "execution_count": 53,
   "metadata": {},
   "outputs": [
    {
     "data": {
      "text/plain": [
       "116736"
      ]
     },
     "execution_count": 53,
     "metadata": {},
     "output_type": "execute_result"
    }
   ],
   "source": [
    "invalid[0]"
   ]
  },
  {
   "cell_type": "code",
   "execution_count": 54,
   "metadata": {},
   "outputs": [
    {
     "data": {
      "text/html": [
       "<div>\n",
       "<style scoped>\n",
       "    .dataframe tbody tr th:only-of-type {\n",
       "        vertical-align: middle;\n",
       "    }\n",
       "\n",
       "    .dataframe tbody tr th {\n",
       "        vertical-align: top;\n",
       "    }\n",
       "\n",
       "    .dataframe thead th {\n",
       "        text-align: right;\n",
       "    }\n",
       "</style>\n",
       "<table border=\"1\" class=\"dataframe\">\n",
       "  <thead>\n",
       "    <tr style=\"text-align: right;\">\n",
       "      <th></th>\n",
       "      <th>MOL_ID</th>\n",
       "      <th>geometry</th>\n",
       "    </tr>\n",
       "  </thead>\n",
       "  <tbody>\n",
       "    <tr>\n",
       "      <th>0</th>\n",
       "      <td>1</td>\n",
       "      <td>MULTIPOLYGON (((170.62750 -45.89520, 170.62820...</td>\n",
       "    </tr>\n",
       "  </tbody>\n",
       "</table>\n",
       "</div>"
      ],
      "text/plain": [
       "   MOL_ID                                           geometry\n",
       "0       1  MULTIPOLYGON (((170.62750 -45.89520, 170.62820..."
      ]
     },
     "execution_count": 54,
     "metadata": {},
     "output_type": "execute_result"
    }
   ],
   "source": [
    "# Remove these invalid geometries from sim1 \n",
    "sim1_valid = sim1[~sim1['MOL_ID'].isin(invalid)]\n",
    "sim1_valid = sim1_valid[['MOL_ID', 'geometry']]\n",
    "sim1_valid.head(1)"
   ]
  },
  {
   "cell_type": "code",
   "execution_count": 55,
   "metadata": {},
   "outputs": [
    {
     "data": {
      "text/plain": [
       "446"
      ]
     },
     "execution_count": 55,
     "metadata": {},
     "output_type": "execute_result"
    }
   ],
   "source": [
    "# Get geometries that were invalid in sim1 from original layer\n",
    "geom = gdf2[gdf2['MOL_ID'].isin(invalid)]\n",
    "len(geom)"
   ]
  },
  {
   "cell_type": "code",
   "execution_count": 56,
   "metadata": {},
   "outputs": [
    {
     "data": {
      "text/plain": [
       "217428"
      ]
     },
     "execution_count": 56,
     "metadata": {},
     "output_type": "execute_result"
    }
   ],
   "source": [
    "# Add valid geometries to sim1\n",
    "sim1 = pd.concat([sim1_valid, geom])\n",
    "len(sim1)"
   ]
  },
  {
   "cell_type": "code",
   "execution_count": 38,
   "metadata": {},
   "outputs": [
    {
     "data": {
      "text/html": [
       "<div>\n",
       "<style scoped>\n",
       "    .dataframe tbody tr th:only-of-type {\n",
       "        vertical-align: middle;\n",
       "    }\n",
       "\n",
       "    .dataframe tbody tr th {\n",
       "        vertical-align: top;\n",
       "    }\n",
       "\n",
       "    .dataframe thead th {\n",
       "        text-align: right;\n",
       "    }\n",
       "</style>\n",
       "<table border=\"1\" class=\"dataframe\">\n",
       "  <thead>\n",
       "    <tr style=\"text-align: right;\">\n",
       "      <th></th>\n",
       "      <th>WDPAID</th>\n",
       "      <th>WDPA_PID</th>\n",
       "      <th>PA_DEF</th>\n",
       "      <th>NAME</th>\n",
       "      <th>ORIG_NA</th>\n",
       "      <th>DESIG</th>\n",
       "      <th>DESIG_E</th>\n",
       "      <th>DESIG_T</th>\n",
       "      <th>IUCN_CA</th>\n",
       "      <th>INT_CRI</th>\n",
       "      <th>...</th>\n",
       "      <th>ISO3</th>\n",
       "      <th>SUPP_IN</th>\n",
       "      <th>CONS_OB</th>\n",
       "      <th>SORTER</th>\n",
       "      <th>WDPA_PID_h</th>\n",
       "      <th>WDPA_PID__</th>\n",
       "      <th>hash_vl</th>\n",
       "      <th>AREA_KM</th>\n",
       "      <th>MOL_ID</th>\n",
       "      <th>geometry</th>\n",
       "    </tr>\n",
       "  </thead>\n",
       "  <tbody>\n",
       "    <tr>\n",
       "      <th>0</th>\n",
       "      <td>310492.0</td>\n",
       "      <td>310492</td>\n",
       "      <td>1</td>\n",
       "      <td>Boulder Beach</td>\n",
       "      <td>Boulder Beach / WWF Block</td>\n",
       "      <td>Stewardship Area</td>\n",
       "      <td>Stewardship Area</td>\n",
       "      <td>National</td>\n",
       "      <td>III</td>\n",
       "      <td>Not Applicable</td>\n",
       "      <td>...</td>\n",
       "      <td>NZL</td>\n",
       "      <td>Not Applicable</td>\n",
       "      <td>Not Applicable</td>\n",
       "      <td>0.0</td>\n",
       "      <td>9cb933d7</td>\n",
       "      <td>1802338827</td>\n",
       "      <td>1802338827</td>\n",
       "      <td>1.136031</td>\n",
       "      <td>1</td>\n",
       "      <td>MULTIPOLYGON (((170.62746 -45.89520, 170.62824...</td>\n",
       "    </tr>\n",
       "  </tbody>\n",
       "</table>\n",
       "<p>1 rows × 37 columns</p>\n",
       "</div>"
      ],
      "text/plain": [
       "     WDPAID WDPA_PID PA_DEF           NAME                    ORIG_NA  \\\n",
       "0  310492.0   310492      1  Boulder Beach  Boulder Beach / WWF Block   \n",
       "\n",
       "              DESIG           DESIG_E   DESIG_T IUCN_CA         INT_CRI  ...  \\\n",
       "0  Stewardship Area  Stewardship Area  National     III  Not Applicable  ...   \n",
       "\n",
       "  ISO3         SUPP_IN         CONS_OB  SORTER  WDPA_PID_h  WDPA_PID__  \\\n",
       "0  NZL  Not Applicable  Not Applicable     0.0    9cb933d7  1802338827   \n",
       "\n",
       "      hash_vl   AREA_KM  MOL_ID  \\\n",
       "0  1802338827  1.136031       1   \n",
       "\n",
       "                                            geometry  \n",
       "0  MULTIPOLYGON (((170.62746 -45.89520, 170.62824...  \n",
       "\n",
       "[1 rows x 37 columns]"
      ]
     },
     "execution_count": 38,
     "metadata": {},
     "output_type": "execute_result"
    }
   ],
   "source": [
    "dff.head(1)"
   ]
  },
  {
   "cell_type": "code",
   "execution_count": 39,
   "metadata": {},
   "outputs": [
    {
     "data": {
      "text/html": [
       "<div>\n",
       "<style scoped>\n",
       "    .dataframe tbody tr th:only-of-type {\n",
       "        vertical-align: middle;\n",
       "    }\n",
       "\n",
       "    .dataframe tbody tr th {\n",
       "        vertical-align: top;\n",
       "    }\n",
       "\n",
       "    .dataframe thead th {\n",
       "        text-align: right;\n",
       "    }\n",
       "</style>\n",
       "<table border=\"1\" class=\"dataframe\">\n",
       "  <thead>\n",
       "    <tr style=\"text-align: right;\">\n",
       "      <th></th>\n",
       "      <th>MOL_ID</th>\n",
       "      <th>geometry</th>\n",
       "    </tr>\n",
       "  </thead>\n",
       "  <tbody>\n",
       "    <tr>\n",
       "      <th>0</th>\n",
       "      <td>1</td>\n",
       "      <td>MULTIPOLYGON (((170.62750 -45.89520, 170.62820...</td>\n",
       "    </tr>\n",
       "    <tr>\n",
       "      <th>1</th>\n",
       "      <td>2</td>\n",
       "      <td>POLYGON ((173.97640 -41.19260, 173.97350 -41.1...</td>\n",
       "    </tr>\n",
       "    <tr>\n",
       "      <th>2</th>\n",
       "      <td>3</td>\n",
       "      <td>POLYGON ((173.95690 -41.20980, 173.95510 -41.2...</td>\n",
       "    </tr>\n",
       "    <tr>\n",
       "      <th>3</th>\n",
       "      <td>4</td>\n",
       "      <td>POLYGON ((174.00240 -41.27340, 174.00340 -41.2...</td>\n",
       "    </tr>\n",
       "    <tr>\n",
       "      <th>4</th>\n",
       "      <td>5</td>\n",
       "      <td>MULTIPOLYGON (((169.53390 -46.44740, 169.53270...</td>\n",
       "    </tr>\n",
       "  </tbody>\n",
       "</table>\n",
       "</div>"
      ],
      "text/plain": [
       "   MOL_ID                                           geometry\n",
       "0       1  MULTIPOLYGON (((170.62750 -45.89520, 170.62820...\n",
       "1       2  POLYGON ((173.97640 -41.19260, 173.97350 -41.1...\n",
       "2       3  POLYGON ((173.95690 -41.20980, 173.95510 -41.2...\n",
       "3       4  POLYGON ((174.00240 -41.27340, 174.00340 -41.2...\n",
       "4       5  MULTIPOLYGON (((169.53390 -46.44740, 169.53270..."
      ]
     },
     "execution_count": 39,
     "metadata": {},
     "output_type": "execute_result"
    }
   ],
   "source": [
    "sim1.head()"
   ]
  },
  {
   "cell_type": "code",
   "execution_count": 57,
   "metadata": {},
   "outputs": [
    {
     "data": {
      "text/html": [
       "<div>\n",
       "<style scoped>\n",
       "    .dataframe tbody tr th:only-of-type {\n",
       "        vertical-align: middle;\n",
       "    }\n",
       "\n",
       "    .dataframe tbody tr th {\n",
       "        vertical-align: top;\n",
       "    }\n",
       "\n",
       "    .dataframe thead th {\n",
       "        text-align: right;\n",
       "    }\n",
       "</style>\n",
       "<table border=\"1\" class=\"dataframe\">\n",
       "  <thead>\n",
       "    <tr style=\"text-align: right;\">\n",
       "      <th></th>\n",
       "      <th>WDPAID</th>\n",
       "      <th>WDPA_PID</th>\n",
       "      <th>PA_DEF</th>\n",
       "      <th>NAME</th>\n",
       "      <th>ORIG_NA</th>\n",
       "      <th>DESIG</th>\n",
       "      <th>DESIG_E</th>\n",
       "      <th>DESIG_T</th>\n",
       "      <th>IUCN_CA</th>\n",
       "      <th>INT_CRI</th>\n",
       "      <th>...</th>\n",
       "      <th>PARENT_</th>\n",
       "      <th>ISO3</th>\n",
       "      <th>SUPP_IN</th>\n",
       "      <th>CONS_OB</th>\n",
       "      <th>SORTER</th>\n",
       "      <th>WDPA_PID_h</th>\n",
       "      <th>WDPA_PID__</th>\n",
       "      <th>hash_vl</th>\n",
       "      <th>AREA_KM</th>\n",
       "      <th>MOL_ID</th>\n",
       "    </tr>\n",
       "  </thead>\n",
       "  <tbody>\n",
       "    <tr>\n",
       "      <th>0</th>\n",
       "      <td>310492.0</td>\n",
       "      <td>310492</td>\n",
       "      <td>1</td>\n",
       "      <td>Boulder Beach</td>\n",
       "      <td>Boulder Beach / WWF Block</td>\n",
       "      <td>Stewardship Area</td>\n",
       "      <td>Stewardship Area</td>\n",
       "      <td>National</td>\n",
       "      <td>III</td>\n",
       "      <td>Not Applicable</td>\n",
       "      <td>...</td>\n",
       "      <td>NZL</td>\n",
       "      <td>NZL</td>\n",
       "      <td>Not Applicable</td>\n",
       "      <td>Not Applicable</td>\n",
       "      <td>0.0</td>\n",
       "      <td>9cb933d7</td>\n",
       "      <td>1802338827</td>\n",
       "      <td>1802338827</td>\n",
       "      <td>1.136031</td>\n",
       "      <td>1</td>\n",
       "    </tr>\n",
       "  </tbody>\n",
       "</table>\n",
       "<p>1 rows × 36 columns</p>\n",
       "</div>"
      ],
      "text/plain": [
       "     WDPAID WDPA_PID PA_DEF           NAME                    ORIG_NA  \\\n",
       "0  310492.0   310492      1  Boulder Beach  Boulder Beach / WWF Block   \n",
       "\n",
       "              DESIG           DESIG_E   DESIG_T IUCN_CA         INT_CRI  ...  \\\n",
       "0  Stewardship Area  Stewardship Area  National     III  Not Applicable  ...   \n",
       "\n",
       "  PARENT_  ISO3         SUPP_IN         CONS_OB  SORTER WDPA_PID_h  \\\n",
       "0     NZL   NZL  Not Applicable  Not Applicable     0.0   9cb933d7   \n",
       "\n",
       "   WDPA_PID__     hash_vl   AREA_KM MOL_ID  \n",
       "0  1802338827  1802338827  1.136031      1  \n",
       "\n",
       "[1 rows x 36 columns]"
      ]
     },
     "execution_count": 57,
     "metadata": {},
     "output_type": "execute_result"
    }
   ],
   "source": [
    "# Remove geometries from original file containing info about WDPA\n",
    "gdf_no_geom = dff.drop(columns='geometry')\n",
    "gdf_no_geom.head(1)"
   ]
  },
  {
   "cell_type": "code",
   "execution_count": 58,
   "metadata": {},
   "outputs": [
    {
     "data": {
      "text/html": [
       "<div>\n",
       "<style scoped>\n",
       "    .dataframe tbody tr th:only-of-type {\n",
       "        vertical-align: middle;\n",
       "    }\n",
       "\n",
       "    .dataframe tbody tr th {\n",
       "        vertical-align: top;\n",
       "    }\n",
       "\n",
       "    .dataframe thead th {\n",
       "        text-align: right;\n",
       "    }\n",
       "</style>\n",
       "<table border=\"1\" class=\"dataframe\">\n",
       "  <thead>\n",
       "    <tr style=\"text-align: right;\">\n",
       "      <th></th>\n",
       "      <th>MOL_ID</th>\n",
       "      <th>geometry</th>\n",
       "      <th>WDPAID</th>\n",
       "      <th>WDPA_PID</th>\n",
       "      <th>PA_DEF</th>\n",
       "      <th>NAME</th>\n",
       "      <th>ORIG_NA</th>\n",
       "      <th>DESIG</th>\n",
       "      <th>DESIG_E</th>\n",
       "      <th>DESIG_T</th>\n",
       "      <th>...</th>\n",
       "      <th>SUB_LOC</th>\n",
       "      <th>PARENT_</th>\n",
       "      <th>ISO3</th>\n",
       "      <th>SUPP_IN</th>\n",
       "      <th>CONS_OB</th>\n",
       "      <th>SORTER</th>\n",
       "      <th>WDPA_PID_h</th>\n",
       "      <th>WDPA_PID__</th>\n",
       "      <th>hash_vl</th>\n",
       "      <th>AREA_KM</th>\n",
       "    </tr>\n",
       "  </thead>\n",
       "  <tbody>\n",
       "    <tr>\n",
       "      <th>0</th>\n",
       "      <td>1</td>\n",
       "      <td>MULTIPOLYGON (((170.62750 -45.89520, 170.62820...</td>\n",
       "      <td>310492.0</td>\n",
       "      <td>310492</td>\n",
       "      <td>1</td>\n",
       "      <td>Boulder Beach</td>\n",
       "      <td>Boulder Beach / WWF Block</td>\n",
       "      <td>Stewardship Area</td>\n",
       "      <td>Stewardship Area</td>\n",
       "      <td>National</td>\n",
       "      <td>...</td>\n",
       "      <td>NZ-OTA</td>\n",
       "      <td>NZL</td>\n",
       "      <td>NZL</td>\n",
       "      <td>Not Applicable</td>\n",
       "      <td>Not Applicable</td>\n",
       "      <td>0.0</td>\n",
       "      <td>9cb933d7</td>\n",
       "      <td>1802338827</td>\n",
       "      <td>1802338827</td>\n",
       "      <td>1.136031</td>\n",
       "    </tr>\n",
       "  </tbody>\n",
       "</table>\n",
       "<p>1 rows × 37 columns</p>\n",
       "</div>"
      ],
      "text/plain": [
       "   MOL_ID                                           geometry    WDPAID  \\\n",
       "0       1  MULTIPOLYGON (((170.62750 -45.89520, 170.62820...  310492.0   \n",
       "\n",
       "  WDPA_PID PA_DEF           NAME                    ORIG_NA             DESIG  \\\n",
       "0   310492      1  Boulder Beach  Boulder Beach / WWF Block  Stewardship Area   \n",
       "\n",
       "            DESIG_E   DESIG_T  ... SUB_LOC PARENT_ ISO3         SUPP_IN  \\\n",
       "0  Stewardship Area  National  ...  NZ-OTA     NZL  NZL  Not Applicable   \n",
       "\n",
       "          CONS_OB  SORTER  WDPA_PID_h  WDPA_PID__     hash_vl   AREA_KM  \n",
       "0  Not Applicable     0.0    9cb933d7  1802338827  1802338827  1.136031  \n",
       "\n",
       "[1 rows x 37 columns]"
      ]
     },
     "execution_count": 58,
     "metadata": {},
     "output_type": "execute_result"
    }
   ],
   "source": [
    "# Merge dataframe with only attributes (no geometry) with gdf containing simplified geometries\n",
    "sim1 = gpd.GeoDataFrame(pd.merge(sim1, gdf_no_geom,  how='left', left_on=['MOL_ID'], right_on = ['MOL_ID']))\n",
    "sim1.head(1)"
   ]
  },
  {
   "cell_type": "code",
   "execution_count": 59,
   "metadata": {},
   "outputs": [
    {
     "data": {
      "text/html": [
       "<div>\n",
       "<style scoped>\n",
       "    .dataframe tbody tr th:only-of-type {\n",
       "        vertical-align: middle;\n",
       "    }\n",
       "\n",
       "    .dataframe tbody tr th {\n",
       "        vertical-align: top;\n",
       "    }\n",
       "\n",
       "    .dataframe thead th {\n",
       "        text-align: right;\n",
       "    }\n",
       "</style>\n",
       "<table border=\"1\" class=\"dataframe\">\n",
       "  <thead>\n",
       "    <tr style=\"text-align: right;\">\n",
       "      <th></th>\n",
       "      <th>MOL_ID</th>\n",
       "      <th>geometry</th>\n",
       "      <th>WDPAID</th>\n",
       "      <th>WDPA_PID</th>\n",
       "      <th>PA_DEF</th>\n",
       "      <th>NAME</th>\n",
       "      <th>ORIG_NA</th>\n",
       "      <th>DESIG</th>\n",
       "      <th>DESIG_E</th>\n",
       "      <th>DESIG_T</th>\n",
       "      <th>...</th>\n",
       "      <th>SUB_LOC</th>\n",
       "      <th>PARENT_</th>\n",
       "      <th>ISO3</th>\n",
       "      <th>SUPP_IN</th>\n",
       "      <th>CONS_OB</th>\n",
       "      <th>SORTER</th>\n",
       "      <th>WDPA_PID_h</th>\n",
       "      <th>WDPA_PID__</th>\n",
       "      <th>hash_vl</th>\n",
       "      <th>AREA_KM</th>\n",
       "    </tr>\n",
       "  </thead>\n",
       "  <tbody>\n",
       "    <tr>\n",
       "      <th>158849</th>\n",
       "      <td>121629</td>\n",
       "      <td>POLYGON ((16.26520 48.95540, 16.26530 48.95620...</td>\n",
       "      <td>344388.0</td>\n",
       "      <td>344388</td>\n",
       "      <td>1</td>\n",
       "      <td>U Kapličky</td>\n",
       "      <td>U Kapličky</td>\n",
       "      <td>Přírodní Památka (Pp)</td>\n",
       "      <td>Nature Monument</td>\n",
       "      <td>National</td>\n",
       "      <td>...</td>\n",
       "      <td>Not Reported</td>\n",
       "      <td>CZE</td>\n",
       "      <td>CZE</td>\n",
       "      <td>Not Applicable</td>\n",
       "      <td>Not Applicable</td>\n",
       "      <td>0.0</td>\n",
       "      <td>81f98493</td>\n",
       "      <td>-1095149455</td>\n",
       "      <td>-1095149455</td>\n",
       "      <td>0.050354</td>\n",
       "    </tr>\n",
       "  </tbody>\n",
       "</table>\n",
       "<p>1 rows × 37 columns</p>\n",
       "</div>"
      ],
      "text/plain": [
       "        MOL_ID                                           geometry    WDPAID  \\\n",
       "158849  121629  POLYGON ((16.26520 48.95540, 16.26530 48.95620...  344388.0   \n",
       "\n",
       "       WDPA_PID PA_DEF        NAME     ORIG_NA                  DESIG  \\\n",
       "158849   344388      1  U Kapličky  U Kapličky  Přírodní Památka (Pp)   \n",
       "\n",
       "                DESIG_E   DESIG_T  ...       SUB_LOC PARENT_ ISO3  \\\n",
       "158849  Nature Monument  National  ...  Not Reported     CZE  CZE   \n",
       "\n",
       "               SUPP_IN         CONS_OB  SORTER  WDPA_PID_h  WDPA_PID__  \\\n",
       "158849  Not Applicable  Not Applicable     0.0    81f98493 -1095149455   \n",
       "\n",
       "           hash_vl   AREA_KM  \n",
       "158849 -1095149455  0.050354  \n",
       "\n",
       "[1 rows x 37 columns]"
      ]
     },
     "execution_count": 59,
     "metadata": {},
     "output_type": "execute_result"
    }
   ],
   "source": [
    "sim1[sim1.NAME.str.contains('U Kapli')]"
   ]
  },
  {
   "cell_type": "code",
   "execution_count": 60,
   "metadata": {},
   "outputs": [
    {
     "data": {
      "text/plain": [
       "Index(['MOL_ID', 'geometry', 'WDPAID', 'WDPA_PID', 'NAME', 'ORIG_NA', 'DESIG',\n",
       "       'DESIG_T', 'DESIG_E', 'IUCN_CA', 'STATUS', 'STATUS_', 'GOV_TYP',\n",
       "       'MANG_AU', 'ISO3', 'AREA_KM2'],\n",
       "      dtype='object')"
      ]
     },
     "execution_count": 60,
     "metadata": {},
     "output_type": "execute_result"
    }
   ],
   "source": [
    "# Select only relevant attributes\n",
    "sim1 = sim1.rename(columns={'AREA_KM':'AREA_KM2'})\n",
    "sim1 = sim1[['MOL_ID', 'geometry', 'WDPAID', 'WDPA_PID', 'NAME', 'ORIG_NA', 'DESIG', 'DESIG_T', 'DESIG_E',\n",
    "       'IUCN_CA', 'STATUS', 'STATUS_', 'GOV_TYP', 'MANG_AU', 'ISO3', 'AREA_KM2']] \n",
    "sim1.columns"
   ]
  },
  {
   "cell_type": "code",
   "execution_count": 61,
   "metadata": {},
   "outputs": [
    {
     "data": {
      "text/html": [
       "<div>\n",
       "<style scoped>\n",
       "    .dataframe tbody tr th:only-of-type {\n",
       "        vertical-align: middle;\n",
       "    }\n",
       "\n",
       "    .dataframe tbody tr th {\n",
       "        vertical-align: top;\n",
       "    }\n",
       "\n",
       "    .dataframe thead th {\n",
       "        text-align: right;\n",
       "    }\n",
       "</style>\n",
       "<table border=\"1\" class=\"dataframe\">\n",
       "  <thead>\n",
       "    <tr style=\"text-align: right;\">\n",
       "      <th></th>\n",
       "      <th>MOL_ID</th>\n",
       "      <th>geometry</th>\n",
       "      <th>WDPAID</th>\n",
       "      <th>WDPA_PID</th>\n",
       "      <th>NAME</th>\n",
       "      <th>ORIG_NA</th>\n",
       "      <th>DESIG</th>\n",
       "      <th>DESIG_T</th>\n",
       "      <th>DESIG_E</th>\n",
       "      <th>IUCN_CA</th>\n",
       "      <th>STATUS</th>\n",
       "      <th>STATUS_</th>\n",
       "      <th>GOV_TYP</th>\n",
       "      <th>MANG_AU</th>\n",
       "      <th>ISO3</th>\n",
       "      <th>AREA_KM2</th>\n",
       "    </tr>\n",
       "  </thead>\n",
       "  <tbody>\n",
       "    <tr>\n",
       "      <th>158849</th>\n",
       "      <td>121629</td>\n",
       "      <td>POLYGON ((16.26520 48.95540, 16.26530 48.95620...</td>\n",
       "      <td>344388.0</td>\n",
       "      <td>344388</td>\n",
       "      <td>U Kapličky</td>\n",
       "      <td>U Kapličky</td>\n",
       "      <td>Přírodní Památka (Pp)</td>\n",
       "      <td>National</td>\n",
       "      <td>Nature Monument</td>\n",
       "      <td>IV</td>\n",
       "      <td>Designated</td>\n",
       "      <td>2001.0</td>\n",
       "      <td>Federal or national ministry or agency</td>\n",
       "      <td>Not Reported</td>\n",
       "      <td>CZE</td>\n",
       "      <td>0.050354</td>\n",
       "    </tr>\n",
       "  </tbody>\n",
       "</table>\n",
       "</div>"
      ],
      "text/plain": [
       "        MOL_ID                                           geometry    WDPAID  \\\n",
       "158849  121629  POLYGON ((16.26520 48.95540, 16.26530 48.95620...  344388.0   \n",
       "\n",
       "       WDPA_PID        NAME     ORIG_NA                  DESIG   DESIG_T  \\\n",
       "158849   344388  U Kapličky  U Kapličky  Přírodní Památka (Pp)  National   \n",
       "\n",
       "                DESIG_E IUCN_CA      STATUS  STATUS_  \\\n",
       "158849  Nature Monument      IV  Designated   2001.0   \n",
       "\n",
       "                                       GOV_TYP       MANG_AU ISO3  AREA_KM2  \n",
       "158849  Federal or national ministry or agency  Not Reported  CZE  0.050354  "
      ]
     },
     "execution_count": 61,
     "metadata": {},
     "output_type": "execute_result"
    }
   ],
   "source": [
    "sim1[sim1.NAME.str.contains('U Kapli')]"
   ]
  },
  {
   "cell_type": "code",
   "execution_count": 40,
   "metadata": {},
   "outputs": [
    {
     "data": {
      "text/html": [
       "<div>\n",
       "<style scoped>\n",
       "    .dataframe tbody tr th:only-of-type {\n",
       "        vertical-align: middle;\n",
       "    }\n",
       "\n",
       "    .dataframe tbody tr th {\n",
       "        vertical-align: top;\n",
       "    }\n",
       "\n",
       "    .dataframe thead th {\n",
       "        text-align: right;\n",
       "    }\n",
       "</style>\n",
       "<table border=\"1\" class=\"dataframe\">\n",
       "  <thead>\n",
       "    <tr style=\"text-align: right;\">\n",
       "      <th></th>\n",
       "      <th>WDPAID</th>\n",
       "      <th>WDPA_PID</th>\n",
       "      <th>PA_DEF</th>\n",
       "      <th>NAME</th>\n",
       "      <th>ORIG_NA</th>\n",
       "      <th>DESIG</th>\n",
       "      <th>DESIG_E</th>\n",
       "      <th>DESIG_T</th>\n",
       "      <th>IUCN_CA</th>\n",
       "      <th>INT_CRI</th>\n",
       "      <th>...</th>\n",
       "      <th>ISO3</th>\n",
       "      <th>SUPP_IN</th>\n",
       "      <th>CONS_OB</th>\n",
       "      <th>SORTER</th>\n",
       "      <th>WDPA_PID_h</th>\n",
       "      <th>WDPA_PID__</th>\n",
       "      <th>hash_vl</th>\n",
       "      <th>AREA_KM</th>\n",
       "      <th>MOL_ID</th>\n",
       "      <th>geometry</th>\n",
       "    </tr>\n",
       "  </thead>\n",
       "  <tbody>\n",
       "    <tr>\n",
       "      <th>14317</th>\n",
       "      <td>55558010.0</td>\n",
       "      <td>55558010</td>\n",
       "      <td>1</td>\n",
       "      <td>Quinnipiac River</td>\n",
       "      <td>Quinnipiac River</td>\n",
       "      <td>State Park</td>\n",
       "      <td>State Park</td>\n",
       "      <td>National</td>\n",
       "      <td>III</td>\n",
       "      <td>Not Applicable</td>\n",
       "      <td>...</td>\n",
       "      <td>USA</td>\n",
       "      <td>Not Applicable</td>\n",
       "      <td>Not Applicable</td>\n",
       "      <td>0.0</td>\n",
       "      <td>69578420</td>\n",
       "      <td>-2072596068</td>\n",
       "      <td>-2072596068</td>\n",
       "      <td>1.407164</td>\n",
       "      <td>14318</td>\n",
       "      <td>MULTIPOLYGON (((-72.83994 41.44611, -72.84000 ...</td>\n",
       "    </tr>\n",
       "  </tbody>\n",
       "</table>\n",
       "<p>1 rows × 37 columns</p>\n",
       "</div>"
      ],
      "text/plain": [
       "           WDPAID  WDPA_PID PA_DEF              NAME           ORIG_NA  \\\n",
       "14317  55558010.0  55558010      1  Quinnipiac River  Quinnipiac River   \n",
       "\n",
       "            DESIG     DESIG_E   DESIG_T IUCN_CA         INT_CRI  ... ISO3  \\\n",
       "14317  State Park  State Park  National     III  Not Applicable  ...  USA   \n",
       "\n",
       "              SUPP_IN         CONS_OB  SORTER  WDPA_PID_h  WDPA_PID__  \\\n",
       "14317  Not Applicable  Not Applicable     0.0    69578420 -2072596068   \n",
       "\n",
       "          hash_vl   AREA_KM  MOL_ID  \\\n",
       "14317 -2072596068  1.407164   14318   \n",
       "\n",
       "                                                geometry  \n",
       "14317  MULTIPOLYGON (((-72.83994 41.44611, -72.84000 ...  \n",
       "\n",
       "[1 rows x 37 columns]"
      ]
     },
     "execution_count": 40,
     "metadata": {},
     "output_type": "execute_result"
    }
   ],
   "source": [
    "dff[dff['MOL_ID']==14318]"
   ]
  },
  {
   "cell_type": "code",
   "execution_count": 44,
   "metadata": {},
   "outputs": [
    {
     "data": {
      "text/plain": [
       "<AxesSubplot:>"
      ]
     },
     "execution_count": 44,
     "metadata": {},
     "output_type": "execute_result"
    },
    {
     "data": {
      "image/png": "[encoded data removed]",
      "text/plain": [
       "<Figure size 720x720 with 2 Axes>"
      ]
     },
     "metadata": {
      "needs_background": "light"
     },
     "output_type": "display_data"
    }
   ],
   "source": [
    "# Compare geometries in original and simplified dataset\n",
    "n= 14318\n",
    "fig, (ax1,ax2) = plt.subplots(nrows=1,ncols=2,figsize=(10,10))\n",
    "dff[dff['MOL_ID']==n].geometry.plot(ax = ax1) \n",
    "sim1[sim1['MOL_ID']==n].geometry.plot(ax = ax2)"
   ]
  },
  {
   "cell_type": "code",
   "execution_count": 42,
   "metadata": {},
   "outputs": [
    {
     "data": {
      "text/plain": [
       "<AxesSubplot:>"
      ]
     },
     "execution_count": 42,
     "metadata": {},
     "output_type": "execute_result"
    },
    {
     "data": {
      "image/png": "[encoded data removed]",
      "text/plain": [
       "<Figure size 720x720 with 2 Axes>"
      ]
     },
     "metadata": {
      "needs_background": "light"
     },
     "output_type": "display_data"
    }
   ],
   "source": [
    "# Compare geometries in original and simplified dataset\n",
    "n= '394131'\n",
    "fig, (ax1,ax2) = plt.subplots(nrows=1,ncols=2,figsize=(10,10))\n",
    "dff[dff['WDPA_PID']==n].geometry.plot(ax = ax1) \n",
    "sim1[sim1['WDPA_PID']==n].geometry.plot(ax = ax2)"
   ]
  },
  {
   "cell_type": "code",
   "execution_count": 43,
   "metadata": {},
   "outputs": [
    {
     "data": {
      "text/plain": [
       "<AxesSubplot:>"
      ]
     },
     "execution_count": 43,
     "metadata": {},
     "output_type": "execute_result"
    },
    {
     "data": {
      "image/png": "[encoded data removed]",
      "text/plain": [
       "<Figure size 720x720 with 2 Axes>"
      ]
     },
     "metadata": {
      "needs_background": "light"
     },
     "output_type": "display_data"
    }
   ],
   "source": [
    "n= '310492'\n",
    "fig, (ax1,ax2) = plt.subplots(nrows=1,ncols=2,figsize=(10,10))\n",
    "dff[dff['WDPA_PID']==n].geometry.plot(ax = ax1) \n",
    "sim1[sim1['WDPA_PID']==n].geometry.plot(ax = ax2)"
   ]
  },
  {
   "cell_type": "code",
   "execution_count": 62,
   "metadata": {},
   "outputs": [
    {
     "data": {
      "text/plain": [
       "<AxesSubplot:>"
      ]
     },
     "execution_count": 62,
     "metadata": {},
     "output_type": "execute_result"
    },
    {
     "data": {
      "image/png": "[encoded data removed]",
      "text/plain": [
       "<Figure size 720x720 with 2 Axes>"
      ]
     },
     "metadata": {
      "needs_background": "light"
     },
     "output_type": "display_data"
    }
   ],
   "source": [
    "n = '20609'\n",
    "fig, (ax1,ax2) = plt.subplots(nrows=1,ncols=2,figsize=(10,10))\n",
    "dff[dff['WDPA_PID']==n].geometry.plot(ax = ax1) \n",
    "sim1[sim1['WDPA_PID']==n].geometry.plot(ax = ax2)"
   ]
  },
  {
   "cell_type": "code",
   "execution_count": 45,
   "metadata": {},
   "outputs": [
    {
     "data": {
      "text/plain": [
       "<AxesSubplot:>"
      ]
     },
     "execution_count": 45,
     "metadata": {},
     "output_type": "execute_result"
    },
    {
     "data": {
      "image/png": "[encoded data removed]",
      "text/plain": [
       "<Figure size 720x720 with 2 Axes>"
      ]
     },
     "metadata": {
      "needs_background": "light"
     },
     "output_type": "display_data"
    }
   ],
   "source": [
    "n = '555534655'\n",
    "fig, (ax1,ax2) = plt.subplots(nrows=1,ncols=2,figsize=(10,10))\n",
    "dff[dff['WDPA_PID']==n].geometry.plot(ax = ax1) \n",
    "sim1[sim1['WDPA_PID']==n].geometry.plot(ax = ax2)"
   ]
  },
  {
   "cell_type": "code",
   "execution_count": 63,
   "metadata": {
    "tags": []
   },
   "outputs": [
    {
     "data": {
      "text/plain": [
       "<AxesSubplot:>"
      ]
     },
     "execution_count": 63,
     "metadata": {},
     "output_type": "execute_result"
    },
    {
     "data": {
      "image/png": "[encoded data removed]",
      "text/plain": [
       "<Figure size 720x720 with 2 Axes>"
      ]
     },
     "metadata": {
      "needs_background": "light"
     },
     "output_type": "display_data"
    }
   ],
   "source": [
    "n = '555703244'\n",
    "fig, (ax1,ax2) = plt.subplots(nrows=1,ncols=2,figsize=(10,10))\n",
    "dff[dff['WDPA_PID']==n].geometry.plot(ax = ax1) \n",
    "sim1[sim1['WDPA_PID']==n].geometry.plot(ax = ax2)"
   ]
  },
  {
   "cell_type": "code",
   "execution_count": 64,
   "metadata": {},
   "outputs": [
    {
     "data": {
      "text/plain": [
       "Index(['MOL_ID', 'geometry', 'WDPAID', 'WDPA_PID', 'NAME', 'ORIG_NA', 'DESIG',\n",
       "       'DESIG_T', 'DESIG_E', 'IUCN_CA', 'STATUS', 'STATUS_', 'GOV_TYP',\n",
       "       'MANG_AU', 'ISO3', 'AREA_KM2'],\n",
       "      dtype='object')"
      ]
     },
     "execution_count": 64,
     "metadata": {},
     "output_type": "execute_result"
    }
   ],
   "source": [
    "sim1.columns"
   ]
  },
  {
   "cell_type": "code",
   "execution_count": 45,
   "metadata": {},
   "outputs": [
    {
     "name": "stderr",
     "output_type": "stream",
     "text": [
      "/opt/anaconda3/envs/vizz38/lib/python3.8/site-packages/IPython/core/interactiveshell.py:3444: DtypeWarning: Columns (1,15,20,22,23) have mixed types.Specify dtype option on import or set low_memory=False.\n",
      "  exec(code_obj, self.user_global_ns, self.user_ns)\n"
     ]
    }
   ],
   "source": [
    "# Add extra info from precalculated table needed for tooltips\n",
    "agol = pd.read_csv('/Users/sofia/Documents/HE_Data/Precalculated/WDPA_Precalculated/Outputs/wdpa_precalculated_aoi_summaries.csv')"
   ]
  },
  {
   "cell_type": "code",
   "execution_count": 50,
   "metadata": {},
   "outputs": [
    {
     "data": {
      "text/plain": [
       "Index(['Unnamed: 0', 'MOL_ID', 'WDPAID', 'WDPA_PID', 'NAME', 'DESIG',\n",
       "       'DESIG_T', 'IUCN_CA', 'STATUS', 'GOV_TYP', 'MANG_AU', 'ISO3',\n",
       "       'AREA_KM2', 'DESIG_E', 'ORIG_NA', 'STATUS_', 'amphibians', 'birds',\n",
       "       'mammals', 'reptiles', 'amph_nspecies', 'bird_nspecies',\n",
       "       'mamm_nspecies', 'rept_nspecies', 'nspecies',\n",
       "       'majority_land_cover_climate_regime', 'land_cover_majority',\n",
       "       'climate_regime_majority', 'population_sum', 'agriculture', 'builtup',\n",
       "       'extraction', 'intrusion', 'transportation'],\n",
       "      dtype='object')"
      ]
     },
     "execution_count": 50,
     "metadata": {},
     "output_type": "execute_result"
    }
   ],
   "source": [
    "agol.columns"
   ]
  },
  {
   "cell_type": "code",
   "execution_count": 65,
   "metadata": {},
   "outputs": [
    {
     "data": {
      "text/html": [
       "<div>\n",
       "<style scoped>\n",
       "    .dataframe tbody tr th:only-of-type {\n",
       "        vertical-align: middle;\n",
       "    }\n",
       "\n",
       "    .dataframe tbody tr th {\n",
       "        vertical-align: top;\n",
       "    }\n",
       "\n",
       "    .dataframe thead th {\n",
       "        text-align: right;\n",
       "    }\n",
       "</style>\n",
       "<table border=\"1\" class=\"dataframe\">\n",
       "  <thead>\n",
       "    <tr style=\"text-align: right;\">\n",
       "      <th></th>\n",
       "      <th>MOL_ID</th>\n",
       "      <th>nspecies</th>\n",
       "    </tr>\n",
       "  </thead>\n",
       "  <tbody>\n",
       "    <tr>\n",
       "      <th>0</th>\n",
       "      <td>1</td>\n",
       "      <td>52.0</td>\n",
       "    </tr>\n",
       "  </tbody>\n",
       "</table>\n",
       "</div>"
      ],
      "text/plain": [
       "  MOL_ID  nspecies\n",
       "0      1      52.0"
      ]
     },
     "execution_count": 65,
     "metadata": {},
     "output_type": "execute_result"
    }
   ],
   "source": [
    "agol2 = agol[['MOL_ID', 'nspecies']]\n",
    "agol2.head(1)"
   ]
  },
  {
   "cell_type": "code",
   "execution_count": 66,
   "metadata": {},
   "outputs": [
    {
     "data": {
      "text/html": [
       "<div>\n",
       "<style scoped>\n",
       "    .dataframe tbody tr th:only-of-type {\n",
       "        vertical-align: middle;\n",
       "    }\n",
       "\n",
       "    .dataframe tbody tr th {\n",
       "        vertical-align: top;\n",
       "    }\n",
       "\n",
       "    .dataframe thead th {\n",
       "        text-align: right;\n",
       "    }\n",
       "</style>\n",
       "<table border=\"1\" class=\"dataframe\">\n",
       "  <thead>\n",
       "    <tr style=\"text-align: right;\">\n",
       "      <th></th>\n",
       "      <th>MOL_ID</th>\n",
       "      <th>geometry</th>\n",
       "      <th>WDPAID</th>\n",
       "      <th>WDPA_PID</th>\n",
       "      <th>NAME</th>\n",
       "      <th>ORIG_NA</th>\n",
       "      <th>DESIG</th>\n",
       "      <th>DESIG_T</th>\n",
       "      <th>DESIG_E</th>\n",
       "      <th>IUCN_CA</th>\n",
       "      <th>STATUS</th>\n",
       "      <th>STATUS_</th>\n",
       "      <th>GOV_TYP</th>\n",
       "      <th>MANG_AU</th>\n",
       "      <th>ISO3</th>\n",
       "      <th>AREA_KM2</th>\n",
       "      <th>nspecies</th>\n",
       "    </tr>\n",
       "  </thead>\n",
       "  <tbody>\n",
       "    <tr>\n",
       "      <th>0</th>\n",
       "      <td>1</td>\n",
       "      <td>MULTIPOLYGON (((170.62750 -45.89520, 170.62820...</td>\n",
       "      <td>310492.0</td>\n",
       "      <td>310492</td>\n",
       "      <td>Boulder Beach</td>\n",
       "      <td>Boulder Beach / WWF Block</td>\n",
       "      <td>Stewardship Area</td>\n",
       "      <td>National</td>\n",
       "      <td>Stewardship Area</td>\n",
       "      <td>III</td>\n",
       "      <td>Designated</td>\n",
       "      <td>NaN</td>\n",
       "      <td>Federal or national ministry or agency</td>\n",
       "      <td>Department of Conservation</td>\n",
       "      <td>NZL</td>\n",
       "      <td>1.136031</td>\n",
       "      <td>52.0</td>\n",
       "    </tr>\n",
       "  </tbody>\n",
       "</table>\n",
       "</div>"
      ],
      "text/plain": [
       "  MOL_ID                                           geometry    WDPAID  \\\n",
       "0      1  MULTIPOLYGON (((170.62750 -45.89520, 170.62820...  310492.0   \n",
       "\n",
       "  WDPA_PID           NAME                    ORIG_NA             DESIG  \\\n",
       "0   310492  Boulder Beach  Boulder Beach / WWF Block  Stewardship Area   \n",
       "\n",
       "    DESIG_T           DESIG_E IUCN_CA      STATUS  STATUS_  \\\n",
       "0  National  Stewardship Area     III  Designated      NaN   \n",
       "\n",
       "                                  GOV_TYP                     MANG_AU ISO3  \\\n",
       "0  Federal or national ministry or agency  Department of Conservation  NZL   \n",
       "\n",
       "   AREA_KM2  nspecies  \n",
       "0  1.136031      52.0  "
      ]
     },
     "execution_count": 66,
     "metadata": {},
     "output_type": "execute_result"
    }
   ],
   "source": [
    "# Merge new attributes\n",
    "sim1 = gpd.GeoDataFrame(pd.merge(sim1, agol2,  how='left', left_on=['MOL_ID'], right_on = ['MOL_ID']))\n",
    "sim1.head(1)"
   ]
  },
  {
   "cell_type": "code",
   "execution_count": 67,
   "metadata": {},
   "outputs": [
    {
     "data": {
      "text/plain": [
       "Index(['MOL_ID', 'geometry', 'WDPAID', 'WDPA_PID', 'NAME', 'ORIG_NA', 'DESIG',\n",
       "       'DESIG_T', 'DESIG_E', 'IUCN_CA', 'STATUS', 'STATUS_', 'GOV_TYP',\n",
       "       'MANG_AU', 'ISO3', 'AREA_KM2', 'nspecies'],\n",
       "      dtype='object')"
      ]
     },
     "execution_count": 67,
     "metadata": {},
     "output_type": "execute_result"
    }
   ],
   "source": [
    "sim1.columns"
   ]
  },
  {
   "cell_type": "code",
   "execution_count": 68,
   "metadata": {
    "tags": []
   },
   "outputs": [],
   "source": [
    "# Save file in local\n",
    "sim1.to_file(f'{path}/Simplifications/WDPA_Ter_Simp50_nspecies.geojson', driver= 'GeoJSON')"
   ]
  },
  {
   "cell_type": "code",
   "execution_count": 69,
   "metadata": {},
   "outputs": [
    {
     "data": {
      "text/plain": [
       "<AxesSubplot:>"
      ]
     },
     "execution_count": 69,
     "metadata": {},
     "output_type": "execute_result"
    },
    {
     "data": {
      "image/png": "[encoded data removed]",
      "text/plain": [
       "<Figure size 432x288 with 1 Axes>"
      ]
     },
     "metadata": {
      "needs_background": "light"
     },
     "output_type": "display_data"
    }
   ],
   "source": [
    "sim1.plot()"
   ]
  },
  {
   "cell_type": "code",
   "execution_count": 70,
   "metadata": {},
   "outputs": [
    {
     "data": {
      "text/plain": [
       "217428"
      ]
     },
     "execution_count": 70,
     "metadata": {},
     "output_type": "execute_result"
    }
   ],
   "source": [
    "len(sim1)"
   ]
  },
  {
   "cell_type": "markdown",
   "metadata": {
    "jp-MarkdownHeadingCollapsed": true,
    "tags": []
   },
   "source": [
    "#### 2. Mid simplification (to be used at medium scales with a medium amount of detail)"
   ]
  },
  {
   "cell_type": "code",
   "execution_count": 94,
   "metadata": {
    "tags": []
   },
   "outputs": [
    {
     "name": "stdout",
     "output_type": "stream",
     "text": [
      "Allocating 16 GB of heap memory\n",
      "[merge-layers] Use the target= option to specify multiple layers for merging\n",
      "[o] Wrote WDPA_test/1.json\n",
      "[o] Wrote WDPA_test/2.json\n",
      "[o] Wrote WDPA_test/3.json\n",
      "[o] Wrote WDPA_test/4.json\n",
      "[o] Wrote WDPA_test/5.json\n",
      "[o] Wrote WDPA_test/6.json\n",
      "[o] Wrote WDPA_test/7.json\n",
      "[o] Wrote WDPA_test/8.json\n",
      "[o] Wrote WDPA_test/9.json\n",
      "[o] Wrote WDPA_test/10.json\n",
      "[o] Wrote WDPA_test/11.json\n"
     ]
    }
   ],
   "source": [
    "# Break the shp into 12 json files to make the process more efficient\n",
    "!mapshaper-xl 16gb -i ./../../HE_Data/WDPA/WDPA_Terrestrial_corrected_geomOnly/*.shp no-topology combine-files \\\n",
    "    -merge-layers \\\n",
    "    -each \"group = Math.trunc(this.id/20000)+1\" \\\n",
    "    -split group \\\n",
    "    -o WDPA_test/ format=geojson precision=0.0001 force ndjson"
   ]
  },
  {
   "cell_type": "code",
   "execution_count": 95,
   "metadata": {},
   "outputs": [
    {
     "name": "stdout",
     "output_type": "stream",
     "text": [
      "Allocating 16 GB of heap memory\n",
      "[i] Snapped 0 points\n",
      "[simplify] Repaired 4,892 intersections; 3,221 intersections could not be repaired\n",
      "[filter-islands] Removed 43,266 islands\n",
      "[filter-slivers] Removed 11,485 slivers using 0.01+ sqkm variable threshold\n",
      "[clean] Removed 698 / 2,038 slivers using 0.17+ sqkm variable threshold\n",
      "[clean] Retained 16,728 of 18,433 features\n",
      "[o] Wrote WDPA_test/1.json\n",
      "[i] Snapped 0 points\n",
      "[simplify] Repaired 6,289 intersections; 13,012 intersections could not be repaired\n",
      "[filter-islands] Removed 37,145 islands\n",
      "[filter-slivers] Removed 10,201 slivers using 0.01+ sqkm variable threshold\n",
      "[clean] Removed 1,699 / 2,659 slivers using 0.12+ sqkm variable threshold\n",
      "[clean] Retained 16,348 of 18,496 features\n",
      "[o] Wrote WDPA_test/10.json\n",
      "[i] Snapped 0 points\n",
      "[simplify] Repaired 8,179 intersections; 11,164 intersections could not be repaired\n",
      "[filter-islands] Removed 65,358 islands\n",
      "[filter-slivers] Removed 31,780 slivers using 0.01+ sqkm variable threshold\n",
      "[clean] Removed 3,691 / 5,810 slivers using 0.097+ sqkm variable threshold\n",
      "[clean] Retained 14,843 of 16,314 features\n",
      "[o] Wrote WDPA_test/11.json\n",
      "[i] Snapped 0 points\n",
      "[simplify] Repaired 2,605 intersections; 6,615 intersections could not be repaired\n",
      "[filter-islands] Removed 54,241 islands\n",
      "[filter-slivers] Removed 12,667 slivers using 0.01+ sqkm variable threshold\n",
      "[clean] Removed 1,952 / 4,151 slivers using 0.2+ sqkm variable threshold\n",
      "[clean] Retained 15,470 of 17,589 features\n",
      "[o] Wrote WDPA_test/2.json\n",
      "[i] Snapped 0 points\n",
      "[simplify] Repaired 7,179 intersections; 13,307 intersections could not be repaired\n",
      "[filter-islands] Removed 50,542 islands\n",
      "[filter-slivers] Removed 77,235 slivers using 0.01+ sqkm variable threshold\n",
      "[clean] Removed 2,952 / 5,745 slivers using 0.21+ sqkm variable threshold\n",
      "[clean] Retained 16,955 of 18,616 features\n",
      "[o] Wrote WDPA_test/3.json\n",
      "[i] Snapped 0 points\n",
      "[simplify] Repaired 2,063 intersections; 5,508 intersections could not be repaired\n",
      "[filter-islands] Removed 34,338 islands\n",
      "[filter-slivers] Removed 6,892 slivers using 0.01+ sqkm variable threshold\n",
      "[clean] Removed 932 / 1,853 slivers using 0.17+ sqkm variable threshold\n",
      "[clean] Retained 15,533 of 17,760 features\n",
      "[o] Wrote WDPA_test/4.json\n",
      "[i] Snapped 0 points\n",
      "[simplify] Repaired 1,793 intersections; 10,104 intersections could not be repaired\n",
      "[filter-islands] Removed 55,054 islands\n",
      "[filter-slivers] Removed 10,268 slivers using 0.01+ sqkm variable threshold\n",
      "[clean] Removed 1,397 / 2,407 slivers using 0.19+ sqkm variable threshold\n",
      "[clean] Retained 15,949 of 18,198 features\n",
      "[o] Wrote WDPA_test/5.json\n",
      "[i] Snapped 0 points\n",
      "[simplify] Repaired 0 intersections; 19,194 intersections could not be repaired\n",
      "[filter-islands] Removed 46,875 islands\n",
      "[filter-slivers] Removed 12,744 slivers using 0.01+ sqkm variable threshold\n",
      "[clean] Removed 2,070 / 3,236 slivers using 0.16+ sqkm variable threshold\n",
      "[clean] Retained 16,460 of 18,564 features\n",
      "[o] Wrote WDPA_test/6.json\n",
      "[i] Snapped 0 points\n",
      "[simplify] Repaired 6,717 intersections; 26,378 intersections could not be repaired\n",
      "[filter-islands] Removed 50,840 islands\n",
      "[filter-slivers] Removed 12,305 slivers using 0.01+ sqkm variable threshold\n",
      "[clean] Removed 5,061 / 7,543 slivers using 0.13+ sqkm variable threshold\n",
      "[clean] Retained 16,469 of 18,755 features\n",
      "[o] Wrote WDPA_test/7.json\n",
      "[i] Snapped 0 points\n",
      "[simplify] Repaired 7,426 intersections; 10,377 intersections could not be repaired\n",
      "[filter-islands] Removed 41,377 islands\n",
      "[filter-slivers] Removed 7,893 slivers using 0.01+ sqkm variable threshold\n",
      "[clean] Removed 3,040 / 4,741 slivers using 0.13+ sqkm variable threshold\n",
      "[clean] Retained 15,849 of 18,540 features\n",
      "[o] Wrote WDPA_test/8.json\n",
      "[i] Snapped 0 points\n",
      "[simplify] Repaired 6,032 intersections; 8,487 intersections could not be repaired\n",
      "[filter-islands] Removed 35,750 islands\n",
      "[filter-slivers] Removed 9,198 slivers using 0.01+ sqkm variable threshold\n",
      "[clean] Removed 2,806 / 4,126 slivers using 0.14+ sqkm variable threshold\n",
      "[clean] Retained 14,575 of 17,462 features\n",
      "[o] Wrote WDPA_test/9.json\n",
      "CPU times: user 2.62 s, sys: 915 ms, total: 3.54 s\n",
      "Wall time: 3min 18s\n"
     ]
    }
   ],
   "source": [
    "%%time\n",
    "# Only simplify (removes some geometries).\n",
    "!mapshaper-xl 16gb -i ./WDPA_test/*.json snap \\\n",
    "    -simplify 10% weighting=0.3 planar keep-shapes \\\n",
    "    -filter-islands min-vertices=3 min-area=10000m2 remove-empty \\\n",
    "    -filter-slivers min-area=10000m2 remove-empty \\\n",
    "    -clean rewind \\\n",
    "    -o WDPA_test/ format=geojson force ndjson"
   ]
  },
  {
   "cell_type": "code",
   "execution_count": 96,
   "metadata": {},
   "outputs": [
    {
     "name": "stdout",
     "output_type": "stream",
     "text": [
      "Allocating 16 GB of heap memory\n",
      "[info] \n",
      "=========================\n",
      "Layer:    [unnamed layer]\n",
      "-------------------------\n",
      "Type:     polygon\n",
      "Records:  175,179\n",
      "Bounds:   -180,-85.4119,180,83.73\n",
      "CRS:      +proj=longlat +datum=WGS84\n",
      "Source:   ./WDPA_test/1.json\n",
      "\n",
      "Attribute data\n",
      "--------+-------------\n",
      " Field  | First value\n",
      "--------+-------------\n",
      " group  | 1\n",
      " MOL_ID | 1\n",
      "--------+-------------\n",
      "\n",
      "[o] Wrote WDPA_test/wdpa_simp2.shp\n",
      "[o] Wrote WDPA_test/wdpa_simp2.shx\n",
      "[o] Wrote WDPA_test/wdpa_simp2.dbf\n",
      "[o] Wrote WDPA_test/wdpa_simp2.prj\n"
     ]
    }
   ],
   "source": [
    "# Combine all json files in a shp.\n",
    "!mapshaper-xl 16gb -i ./WDPA_test/*.json combine-files -merge-layers -info -o WDPA_test/wdpa_simp2.shp"
   ]
  },
  {
   "cell_type": "code",
   "execution_count": 97,
   "metadata": {},
   "outputs": [
    {
     "name": "stdout",
     "output_type": "stream",
     "text": [
      "CPU times: user 10.1 s, sys: 2.87 s, total: 12.9 s\n",
      "Wall time: 15 s\n"
     ]
    },
    {
     "data": {
      "text/plain": [
       "175179"
      ]
     },
     "execution_count": 97,
     "metadata": {},
     "output_type": "execute_result"
    }
   ],
   "source": [
    "%%time\n",
    "sim2 = gpd.read_file('WDPA_test/wdpa_simp2.shp') \n",
    "len(sim2)"
   ]
  },
  {
   "cell_type": "code",
   "execution_count": 98,
   "metadata": {},
   "outputs": [
    {
     "data": {
      "text/plain": [
       "42250"
      ]
     },
     "execution_count": 98,
     "metadata": {},
     "output_type": "execute_result"
    }
   ],
   "source": [
    "len(dff)-len(sim2) # 40,705 geometries removed in this simplification"
   ]
  },
  {
   "cell_type": "code",
   "execution_count": 99,
   "metadata": {
    "tags": []
   },
   "outputs": [],
   "source": [
    "## Set crs\n",
    "sim2 = sim2.set_crs('EPSG:4326') "
   ]
  },
  {
   "cell_type": "code",
   "execution_count": 100,
   "metadata": {
    "tags": []
   },
   "outputs": [
    {
     "name": "stdout",
     "output_type": "stream",
     "text": [
      "CPU times: user 4min 39s, sys: 2.52 s, total: 4min 42s\n",
      "Wall time: 4min 45s\n"
     ]
    },
    {
     "data": {
      "text/plain": [
       "175179"
      ]
     },
     "execution_count": 100,
     "metadata": {},
     "output_type": "execute_result"
    }
   ],
   "source": [
    "%%time\n",
    "# Repair geometries, in case some are invalid after simplification, and check how many are valid\n",
    "sim2['geometry'] = sim2['geometry'].buffer(0) # this is to repair geometries\n",
    "sum(sim2.is_valid) # the same after simplification - all valid"
   ]
  },
  {
   "cell_type": "code",
   "execution_count": 101,
   "metadata": {},
   "outputs": [
    {
     "data": {
      "text/html": [
       "<div>\n",
       "<style scoped>\n",
       "    .dataframe tbody tr th:only-of-type {\n",
       "        vertical-align: middle;\n",
       "    }\n",
       "\n",
       "    .dataframe tbody tr th {\n",
       "        vertical-align: top;\n",
       "    }\n",
       "\n",
       "    .dataframe thead th {\n",
       "        text-align: right;\n",
       "    }\n",
       "</style>\n",
       "<table border=\"1\" class=\"dataframe\">\n",
       "  <thead>\n",
       "    <tr style=\"text-align: right;\">\n",
       "      <th></th>\n",
       "      <th>MOL_ID</th>\n",
       "      <th>geometry</th>\n",
       "    </tr>\n",
       "  </thead>\n",
       "  <tbody>\n",
       "    <tr>\n",
       "      <th>0</th>\n",
       "      <td>1</td>\n",
       "      <td>POLYGON ((170.60250 -45.89230, 170.60820 -45.8...</td>\n",
       "    </tr>\n",
       "    <tr>\n",
       "      <th>1</th>\n",
       "      <td>2</td>\n",
       "      <td>POLYGON ((173.97640 -41.19260, 173.96920 -41.1...</td>\n",
       "    </tr>\n",
       "    <tr>\n",
       "      <th>2</th>\n",
       "      <td>3</td>\n",
       "      <td>POLYGON ((173.95690 -41.20980, 173.95510 -41.2...</td>\n",
       "    </tr>\n",
       "    <tr>\n",
       "      <th>3</th>\n",
       "      <td>4</td>\n",
       "      <td>POLYGON ((174.00240 -41.27340, 174.00880 -41.2...</td>\n",
       "    </tr>\n",
       "    <tr>\n",
       "      <th>4</th>\n",
       "      <td>5</td>\n",
       "      <td>MULTIPOLYGON (((169.53390 -46.44740, 169.52510...</td>\n",
       "    </tr>\n",
       "  </tbody>\n",
       "</table>\n",
       "</div>"
      ],
      "text/plain": [
       "   MOL_ID                                           geometry\n",
       "0       1  POLYGON ((170.60250 -45.89230, 170.60820 -45.8...\n",
       "1       2  POLYGON ((173.97640 -41.19260, 173.96920 -41.1...\n",
       "2       3  POLYGON ((173.95690 -41.20980, 173.95510 -41.2...\n",
       "3       4  POLYGON ((174.00240 -41.27340, 174.00880 -41.2...\n",
       "4       5  MULTIPOLYGON (((169.53390 -46.44740, 169.52510..."
      ]
     },
     "execution_count": 101,
     "metadata": {},
     "output_type": "execute_result"
    }
   ],
   "source": [
    "sim2 = sim2.drop(columns={'group'})\n",
    "sim2.head()"
   ]
  },
  {
   "cell_type": "code",
   "execution_count": 80,
   "metadata": {},
   "outputs": [
    {
     "data": {
      "text/html": [
       "<div>\n",
       "<style scoped>\n",
       "    .dataframe tbody tr th:only-of-type {\n",
       "        vertical-align: middle;\n",
       "    }\n",
       "\n",
       "    .dataframe tbody tr th {\n",
       "        vertical-align: top;\n",
       "    }\n",
       "\n",
       "    .dataframe thead th {\n",
       "        text-align: right;\n",
       "    }\n",
       "</style>\n",
       "<table border=\"1\" class=\"dataframe\">\n",
       "  <thead>\n",
       "    <tr style=\"text-align: right;\">\n",
       "      <th></th>\n",
       "      <th>WDPAID</th>\n",
       "      <th>WDPA_PID</th>\n",
       "      <th>PA_DEF</th>\n",
       "      <th>NAME</th>\n",
       "      <th>ORIG_NA</th>\n",
       "      <th>DESIG</th>\n",
       "      <th>DESIG_E</th>\n",
       "      <th>DESIG_T</th>\n",
       "      <th>IUCN_CA</th>\n",
       "      <th>INT_CRI</th>\n",
       "      <th>...</th>\n",
       "      <th>PARENT_</th>\n",
       "      <th>ISO3</th>\n",
       "      <th>SUPP_IN</th>\n",
       "      <th>CONS_OB</th>\n",
       "      <th>SORTER</th>\n",
       "      <th>WDPA_PID_h</th>\n",
       "      <th>WDPA_PID__</th>\n",
       "      <th>hash_vl</th>\n",
       "      <th>AREA_KM</th>\n",
       "      <th>MOL_ID</th>\n",
       "    </tr>\n",
       "  </thead>\n",
       "  <tbody>\n",
       "    <tr>\n",
       "      <th>0</th>\n",
       "      <td>310492.0</td>\n",
       "      <td>310492</td>\n",
       "      <td>1</td>\n",
       "      <td>Boulder Beach</td>\n",
       "      <td>Boulder Beach / WWF Block</td>\n",
       "      <td>Stewardship Area</td>\n",
       "      <td>Stewardship Area</td>\n",
       "      <td>National</td>\n",
       "      <td>III</td>\n",
       "      <td>Not Applicable</td>\n",
       "      <td>...</td>\n",
       "      <td>NZL</td>\n",
       "      <td>NZL</td>\n",
       "      <td>Not Applicable</td>\n",
       "      <td>Not Applicable</td>\n",
       "      <td>0.0</td>\n",
       "      <td>9cb933d7</td>\n",
       "      <td>1802338827</td>\n",
       "      <td>1802338827</td>\n",
       "      <td>1.136031</td>\n",
       "      <td>1</td>\n",
       "    </tr>\n",
       "  </tbody>\n",
       "</table>\n",
       "<p>1 rows × 36 columns</p>\n",
       "</div>"
      ],
      "text/plain": [
       "     WDPAID WDPA_PID PA_DEF           NAME                    ORIG_NA  \\\n",
       "0  310492.0   310492      1  Boulder Beach  Boulder Beach / WWF Block   \n",
       "\n",
       "              DESIG           DESIG_E   DESIG_T IUCN_CA         INT_CRI  ...  \\\n",
       "0  Stewardship Area  Stewardship Area  National     III  Not Applicable  ...   \n",
       "\n",
       "  PARENT_  ISO3         SUPP_IN         CONS_OB  SORTER WDPA_PID_h  \\\n",
       "0     NZL   NZL  Not Applicable  Not Applicable     0.0   9cb933d7   \n",
       "\n",
       "   WDPA_PID__     hash_vl   AREA_KM MOL_ID  \n",
       "0  1802338827  1802338827  1.136031      1  \n",
       "\n",
       "[1 rows x 36 columns]"
      ]
     },
     "execution_count": 80,
     "metadata": {},
     "output_type": "execute_result"
    }
   ],
   "source": [
    "gdf_no_geom.head(1)"
   ]
  },
  {
   "cell_type": "code",
   "execution_count": 102,
   "metadata": {},
   "outputs": [
    {
     "data": {
      "text/html": [
       "<div>\n",
       "<style scoped>\n",
       "    .dataframe tbody tr th:only-of-type {\n",
       "        vertical-align: middle;\n",
       "    }\n",
       "\n",
       "    .dataframe tbody tr th {\n",
       "        vertical-align: top;\n",
       "    }\n",
       "\n",
       "    .dataframe thead th {\n",
       "        text-align: right;\n",
       "    }\n",
       "</style>\n",
       "<table border=\"1\" class=\"dataframe\">\n",
       "  <thead>\n",
       "    <tr style=\"text-align: right;\">\n",
       "      <th></th>\n",
       "      <th>MOL_ID</th>\n",
       "      <th>geometry</th>\n",
       "      <th>WDPAID</th>\n",
       "      <th>WDPA_PID</th>\n",
       "      <th>PA_DEF</th>\n",
       "      <th>NAME</th>\n",
       "      <th>ORIG_NA</th>\n",
       "      <th>DESIG</th>\n",
       "      <th>DESIG_E</th>\n",
       "      <th>DESIG_T</th>\n",
       "      <th>...</th>\n",
       "      <th>SUB_LOC</th>\n",
       "      <th>PARENT_</th>\n",
       "      <th>ISO3</th>\n",
       "      <th>SUPP_IN</th>\n",
       "      <th>CONS_OB</th>\n",
       "      <th>SORTER</th>\n",
       "      <th>WDPA_PID_h</th>\n",
       "      <th>WDPA_PID__</th>\n",
       "      <th>hash_vl</th>\n",
       "      <th>AREA_KM</th>\n",
       "    </tr>\n",
       "  </thead>\n",
       "  <tbody>\n",
       "    <tr>\n",
       "      <th>0</th>\n",
       "      <td>1</td>\n",
       "      <td>POLYGON ((170.60250 -45.89230, 170.60820 -45.8...</td>\n",
       "      <td>310492.0</td>\n",
       "      <td>310492</td>\n",
       "      <td>1</td>\n",
       "      <td>Boulder Beach</td>\n",
       "      <td>Boulder Beach / WWF Block</td>\n",
       "      <td>Stewardship Area</td>\n",
       "      <td>Stewardship Area</td>\n",
       "      <td>National</td>\n",
       "      <td>...</td>\n",
       "      <td>NZ-OTA</td>\n",
       "      <td>NZL</td>\n",
       "      <td>NZL</td>\n",
       "      <td>Not Applicable</td>\n",
       "      <td>Not Applicable</td>\n",
       "      <td>0.0</td>\n",
       "      <td>9cb933d7</td>\n",
       "      <td>1802338827</td>\n",
       "      <td>1802338827</td>\n",
       "      <td>1.136031</td>\n",
       "    </tr>\n",
       "  </tbody>\n",
       "</table>\n",
       "<p>1 rows × 37 columns</p>\n",
       "</div>"
      ],
      "text/plain": [
       "   MOL_ID                                           geometry    WDPAID  \\\n",
       "0       1  POLYGON ((170.60250 -45.89230, 170.60820 -45.8...  310492.0   \n",
       "\n",
       "  WDPA_PID PA_DEF           NAME                    ORIG_NA             DESIG  \\\n",
       "0   310492      1  Boulder Beach  Boulder Beach / WWF Block  Stewardship Area   \n",
       "\n",
       "            DESIG_E   DESIG_T  ... SUB_LOC PARENT_ ISO3         SUPP_IN  \\\n",
       "0  Stewardship Area  National  ...  NZ-OTA     NZL  NZL  Not Applicable   \n",
       "\n",
       "          CONS_OB  SORTER  WDPA_PID_h  WDPA_PID__     hash_vl   AREA_KM  \n",
       "0  Not Applicable     0.0    9cb933d7  1802338827  1802338827  1.136031  \n",
       "\n",
       "[1 rows x 37 columns]"
      ]
     },
     "execution_count": 102,
     "metadata": {},
     "output_type": "execute_result"
    }
   ],
   "source": [
    "sim2 = gpd.GeoDataFrame(pd.merge(sim2, gdf_no_geom,  how='left', left_on=['MOL_ID'], right_on = ['MOL_ID']))\n",
    "sim2.head(1)"
   ]
  },
  {
   "cell_type": "code",
   "execution_count": 103,
   "metadata": {},
   "outputs": [
    {
     "data": {
      "text/plain": [
       "Index(['MOL_ID', 'geometry', 'WDPAID', 'WDPA_PID', 'PA_DEF', 'NAME', 'ORIG_NA',\n",
       "       'DESIG', 'DESIG_E', 'DESIG_T', 'IUCN_CA', 'INT_CRI', 'MARINE',\n",
       "       'REP_M_A', 'GIS_M_A', 'REP_ARE', 'GIS_ARE', 'NO_TAKE', 'NO_TK_A',\n",
       "       'STATUS', 'STATUS_', 'GOV_TYP', 'OWN_TYP', 'MANG_AU', 'MANG_PL',\n",
       "       'VERIF', 'METADAT', 'SUB_LOC', 'PARENT_', 'ISO3', 'SUPP_IN', 'CONS_OB',\n",
       "       'SORTER', 'WDPA_PID_h', 'WDPA_PID__', 'hash_vl', 'AREA_KM2'],\n",
       "      dtype='object')"
      ]
     },
     "execution_count": 103,
     "metadata": {},
     "output_type": "execute_result"
    }
   ],
   "source": [
    "sim2 = sim2.rename(columns={'AREA_KM':'AREA_KM2'})\n",
    "sim2.columns"
   ]
  },
  {
   "cell_type": "code",
   "execution_count": 104,
   "metadata": {},
   "outputs": [],
   "source": [
    "nspecies = agol2[['nspecies', 'MOL_ID']]"
   ]
  },
  {
   "cell_type": "code",
   "execution_count": 105,
   "metadata": {},
   "outputs": [
    {
     "data": {
      "text/html": [
       "<div>\n",
       "<style scoped>\n",
       "    .dataframe tbody tr th:only-of-type {\n",
       "        vertical-align: middle;\n",
       "    }\n",
       "\n",
       "    .dataframe tbody tr th {\n",
       "        vertical-align: top;\n",
       "    }\n",
       "\n",
       "    .dataframe thead th {\n",
       "        text-align: right;\n",
       "    }\n",
       "</style>\n",
       "<table border=\"1\" class=\"dataframe\">\n",
       "  <thead>\n",
       "    <tr style=\"text-align: right;\">\n",
       "      <th></th>\n",
       "      <th>MOL_ID</th>\n",
       "      <th>geometry</th>\n",
       "      <th>WDPAID</th>\n",
       "      <th>WDPA_PID</th>\n",
       "      <th>PA_DEF</th>\n",
       "      <th>NAME</th>\n",
       "      <th>ORIG_NA</th>\n",
       "      <th>DESIG</th>\n",
       "      <th>DESIG_E</th>\n",
       "      <th>DESIG_T</th>\n",
       "      <th>...</th>\n",
       "      <th>PARENT_</th>\n",
       "      <th>ISO3</th>\n",
       "      <th>SUPP_IN</th>\n",
       "      <th>CONS_OB</th>\n",
       "      <th>SORTER</th>\n",
       "      <th>WDPA_PID_h</th>\n",
       "      <th>WDPA_PID__</th>\n",
       "      <th>hash_vl</th>\n",
       "      <th>AREA_KM2</th>\n",
       "      <th>nspecies</th>\n",
       "    </tr>\n",
       "  </thead>\n",
       "  <tbody>\n",
       "    <tr>\n",
       "      <th>0</th>\n",
       "      <td>1</td>\n",
       "      <td>POLYGON ((170.60250 -45.89230, 170.60820 -45.8...</td>\n",
       "      <td>310492.0</td>\n",
       "      <td>310492</td>\n",
       "      <td>1</td>\n",
       "      <td>Boulder Beach</td>\n",
       "      <td>Boulder Beach / WWF Block</td>\n",
       "      <td>Stewardship Area</td>\n",
       "      <td>Stewardship Area</td>\n",
       "      <td>National</td>\n",
       "      <td>...</td>\n",
       "      <td>NZL</td>\n",
       "      <td>NZL</td>\n",
       "      <td>Not Applicable</td>\n",
       "      <td>Not Applicable</td>\n",
       "      <td>0.0</td>\n",
       "      <td>9cb933d7</td>\n",
       "      <td>1802338827</td>\n",
       "      <td>1802338827</td>\n",
       "      <td>1.136031</td>\n",
       "      <td>52.0</td>\n",
       "    </tr>\n",
       "  </tbody>\n",
       "</table>\n",
       "<p>1 rows × 38 columns</p>\n",
       "</div>"
      ],
      "text/plain": [
       "  MOL_ID                                           geometry    WDPAID  \\\n",
       "0      1  POLYGON ((170.60250 -45.89230, 170.60820 -45.8...  310492.0   \n",
       "\n",
       "  WDPA_PID PA_DEF           NAME                    ORIG_NA             DESIG  \\\n",
       "0   310492      1  Boulder Beach  Boulder Beach / WWF Block  Stewardship Area   \n",
       "\n",
       "            DESIG_E   DESIG_T  ... PARENT_ ISO3         SUPP_IN  \\\n",
       "0  Stewardship Area  National  ...     NZL  NZL  Not Applicable   \n",
       "\n",
       "          CONS_OB  SORTER  WDPA_PID_h  WDPA_PID__     hash_vl  AREA_KM2  \\\n",
       "0  Not Applicable     0.0    9cb933d7  1802338827  1802338827  1.136031   \n",
       "\n",
       "  nspecies  \n",
       "0     52.0  \n",
       "\n",
       "[1 rows x 38 columns]"
      ]
     },
     "execution_count": 105,
     "metadata": {},
     "output_type": "execute_result"
    }
   ],
   "source": [
    "# Merge new attributes\n",
    "sim2 = gpd.GeoDataFrame(pd.merge(sim2, nspecies, how='left', left_on=['MOL_ID'], right_on = ['MOL_ID']))\n",
    "sim2.head(1)"
   ]
  },
  {
   "cell_type": "code",
   "execution_count": 20,
   "metadata": {},
   "outputs": [
    {
     "data": {
      "text/html": [
       "<div>\n",
       "<style scoped>\n",
       "    .dataframe tbody tr th:only-of-type {\n",
       "        vertical-align: middle;\n",
       "    }\n",
       "\n",
       "    .dataframe tbody tr th {\n",
       "        vertical-align: top;\n",
       "    }\n",
       "\n",
       "    .dataframe thead th {\n",
       "        text-align: right;\n",
       "    }\n",
       "</style>\n",
       "<table border=\"1\" class=\"dataframe\">\n",
       "  <thead>\n",
       "    <tr style=\"text-align: right;\">\n",
       "      <th></th>\n",
       "      <th>WDPAID</th>\n",
       "      <th>WDPA_PID</th>\n",
       "      <th>NAME</th>\n",
       "      <th>DESIG</th>\n",
       "      <th>DESIG_T</th>\n",
       "      <th>IUCN_CA</th>\n",
       "      <th>STATUS</th>\n",
       "      <th>GOV_TYP</th>\n",
       "      <th>MANG_AU</th>\n",
       "      <th>ISO3</th>\n",
       "      <th>AREA_KM</th>\n",
       "      <th>MOL_ID</th>\n",
       "      <th>geometry</th>\n",
       "    </tr>\n",
       "  </thead>\n",
       "  <tbody>\n",
       "    <tr>\n",
       "      <th>14317</th>\n",
       "      <td>55558010.0</td>\n",
       "      <td>55558010</td>\n",
       "      <td>Quinnipiac River</td>\n",
       "      <td>State Park</td>\n",
       "      <td>National</td>\n",
       "      <td>III</td>\n",
       "      <td>Designated</td>\n",
       "      <td>Sub-national ministry or agency</td>\n",
       "      <td>Other or Unknown State Land ; State Department...</td>\n",
       "      <td>USA</td>\n",
       "      <td>1.411278</td>\n",
       "      <td>14318</td>\n",
       "      <td>MULTIPOLYGON (((-72.84705 41.44000, -72.84750 ...</td>\n",
       "    </tr>\n",
       "  </tbody>\n",
       "</table>\n",
       "</div>"
      ],
      "text/plain": [
       "           WDPAID  WDPA_PID              NAME       DESIG   DESIG_T IUCN_CA  \\\n",
       "14317  55558010.0  55558010  Quinnipiac River  State Park  National     III   \n",
       "\n",
       "           STATUS                          GOV_TYP  \\\n",
       "14317  Designated  Sub-national ministry or agency   \n",
       "\n",
       "                                                 MANG_AU ISO3   AREA_KM  \\\n",
       "14317  Other or Unknown State Land ; State Department...  USA  1.411278   \n",
       "\n",
       "       MOL_ID                                           geometry  \n",
       "14317   14318  MULTIPOLYGON (((-72.84705 41.44000, -72.84750 ...  "
      ]
     },
     "execution_count": 20,
     "metadata": {},
     "output_type": "execute_result"
    }
   ],
   "source": [
    "dff[dff['MOL_ID']==14318]"
   ]
  },
  {
   "cell_type": "code",
   "execution_count": 106,
   "metadata": {},
   "outputs": [
    {
     "data": {
      "text/plain": [
       "<AxesSubplot:>"
      ]
     },
     "execution_count": 106,
     "metadata": {},
     "output_type": "execute_result"
    },
    {
     "data": {
      "image/png": "[encoded data removed]",
      "text/plain": [
       "<Figure size 720x720 with 2 Axes>"
      ]
     },
     "metadata": {
      "needs_background": "light"
     },
     "output_type": "display_data"
    }
   ],
   "source": [
    "# Compare geometries in original and simplified dataset\n",
    "n= 14318\n",
    "fig, (ax1,ax2) = plt.subplots(nrows=1,ncols=2,figsize=(10,10))\n",
    "dff[dff['MOL_ID']==n].geometry.plot(ax = ax1) \n",
    "sim2[sim2['MOL_ID']==n].geometry.plot(ax = ax2)"
   ]
  },
  {
   "cell_type": "code",
   "execution_count": 107,
   "metadata": {},
   "outputs": [
    {
     "data": {
      "text/plain": [
       "<AxesSubplot:>"
      ]
     },
     "execution_count": 107,
     "metadata": {},
     "output_type": "execute_result"
    },
    {
     "data": {
      "image/png": "[encoded data removed]",
      "text/plain": [
       "<Figure size 720x720 with 2 Axes>"
      ]
     },
     "metadata": {
      "needs_background": "light"
     },
     "output_type": "display_data"
    }
   ],
   "source": [
    "# Compare geometries in original and simplified dataset\n",
    "n= '394131'\n",
    "fig, (ax1,ax2) = plt.subplots(nrows=1,ncols=2,figsize=(10,10))\n",
    "dff[dff['WDPA_PID']==n].geometry.plot(ax = ax1) \n",
    "sim2[sim2['WDPA_PID']==n].geometry.plot(ax = ax2)"
   ]
  },
  {
   "cell_type": "code",
   "execution_count": 108,
   "metadata": {},
   "outputs": [
    {
     "data": {
      "text/plain": [
       "<AxesSubplot:>"
      ]
     },
     "execution_count": 108,
     "metadata": {},
     "output_type": "execute_result"
    },
    {
     "data": {
      "image/png": "[encoded data removed]",
      "text/plain": [
       "<Figure size 720x720 with 2 Axes>"
      ]
     },
     "metadata": {
      "needs_background": "light"
     },
     "output_type": "display_data"
    }
   ],
   "source": [
    "n= '310492'\n",
    "fig, (ax1,ax2) = plt.subplots(nrows=1,ncols=2,figsize=(10,10))\n",
    "dff[dff['WDPA_PID']==n].geometry.plot(ax = ax1) \n",
    "sim2[sim2['WDPA_PID']==n].geometry.plot(ax = ax2)"
   ]
  },
  {
   "cell_type": "code",
   "execution_count": 109,
   "metadata": {},
   "outputs": [
    {
     "data": {
      "text/plain": [
       "<AxesSubplot:>"
      ]
     },
     "execution_count": 109,
     "metadata": {},
     "output_type": "execute_result"
    },
    {
     "data": {
      "image/png": "[encoded data removed]",
      "text/plain": [
       "<Figure size 720x720 with 2 Axes>"
      ]
     },
     "metadata": {
      "needs_background": "light"
     },
     "output_type": "display_data"
    }
   ],
   "source": [
    "n = '20609'\n",
    "fig, (ax1,ax2) = plt.subplots(nrows=1,ncols=2,figsize=(10,10))\n",
    "dff[dff['WDPA_PID']==n].geometry.plot(ax = ax1) \n",
    "sim2[sim2['WDPA_PID']==n].geometry.plot(ax = ax2)"
   ]
  },
  {
   "cell_type": "code",
   "execution_count": 110,
   "metadata": {},
   "outputs": [
    {
     "data": {
      "text/plain": [
       "<AxesSubplot:>"
      ]
     },
     "execution_count": 110,
     "metadata": {},
     "output_type": "execute_result"
    },
    {
     "data": {
      "image/png": "[encoded data removed]",
      "text/plain": [
       "<Figure size 720x720 with 2 Axes>"
      ]
     },
     "metadata": {
      "needs_background": "light"
     },
     "output_type": "display_data"
    }
   ],
   "source": [
    "n = '555534655'\n",
    "fig, (ax1,ax2) = plt.subplots(nrows=1,ncols=2,figsize=(10,10))\n",
    "dff[dff['WDPA_PID']==n].geometry.plot(ax = ax1) \n",
    "sim2[sim2['WDPA_PID']==n].geometry.plot(ax = ax2)"
   ]
  },
  {
   "cell_type": "code",
   "execution_count": 111,
   "metadata": {},
   "outputs": [
    {
     "data": {
      "text/plain": [
       "<AxesSubplot:>"
      ]
     },
     "execution_count": 111,
     "metadata": {},
     "output_type": "execute_result"
    },
    {
     "data": {
      "image/png": "[encoded data removed]",
      "text/plain": [
       "<Figure size 720x720 with 2 Axes>"
      ]
     },
     "metadata": {
      "needs_background": "light"
     },
     "output_type": "display_data"
    }
   ],
   "source": [
    "n = '555703244'\n",
    "fig, (ax1,ax2) = plt.subplots(nrows=1,ncols=2,figsize=(10,10))\n",
    "dff[dff['WDPA_PID']==n].geometry.plot(ax = ax1) \n",
    "sim2[sim2['WDPA_PID']==n].geometry.plot(ax = ax2)"
   ]
  },
  {
   "cell_type": "code",
   "execution_count": 112,
   "metadata": {},
   "outputs": [],
   "source": [
    "# Save file in local\n",
    "sim2.to_file(f'{path}/Simplifications/WDPA_Ter_Simp90_nspecies.geojson', driver= 'GeoJSON')"
   ]
  },
  {
   "cell_type": "markdown",
   "metadata": {
    "jp-MarkdownHeadingCollapsed": true,
    "tags": []
   },
   "source": [
    "#### 3. High simplification (to be used at global scale with very low detail)"
   ]
  },
  {
   "cell_type": "code",
   "execution_count": 113,
   "metadata": {
    "tags": []
   },
   "outputs": [
    {
     "name": "stdout",
     "output_type": "stream",
     "text": [
      "Allocating 16 GB of heap memory\n",
      "[merge-layers] Use the target= option to specify multiple layers for merging\n",
      "[o] Wrote WDPA_test/1.json\n",
      "[o] Wrote WDPA_test/2.json\n",
      "[o] Wrote WDPA_test/3.json\n",
      "[o] Wrote WDPA_test/4.json\n",
      "[o] Wrote WDPA_test/5.json\n",
      "[o] Wrote WDPA_test/6.json\n",
      "[o] Wrote WDPA_test/7.json\n",
      "[o] Wrote WDPA_test/8.json\n",
      "[o] Wrote WDPA_test/9.json\n",
      "[o] Wrote WDPA_test/10.json\n",
      "[o] Wrote WDPA_test/11.json\n"
     ]
    }
   ],
   "source": [
    "# Break the shp into 12 json files to make the process more efficient\n",
    "!mapshaper-xl 16gb -i ./../../HE_Data/WDPA/WDPA_Terrestrial_corrected_geomOnly/*.shp no-topology combine-files \\\n",
    "    -merge-layers \\\n",
    "    -each \"group = Math.trunc(this.id/20000)+1\" \\\n",
    "    -split group \\\n",
    "    -o WDPA_test/ format=geojson precision=0.0001 force ndjson"
   ]
  },
  {
   "cell_type": "code",
   "execution_count": 114,
   "metadata": {},
   "outputs": [
    {
     "name": "stdout",
     "output_type": "stream",
     "text": [
      "Allocating 16 GB of heap memory\n",
      "[i] Snapped 0 points\n",
      "[simplify] Repaired 2,158 intersections; 1,367 intersections could not be repaired\n",
      "[filter-islands] Removed 55,871 islands\n",
      "[filter-slivers] Removed 15,828 slivers using 0.15+ sqkm variable threshold\n",
      "[clean] Removed 142 / 253 slivers using 0.98+ sqkm variable threshold\n",
      "[clean] Retained 10,187 of 13,618 features\n",
      "[o] Wrote WDPA_test/1.json\n",
      "[i] Snapped 0 points\n",
      "[simplify] Repaired 2,543 intersections; 9,661 intersections could not be repaired\n",
      "[filter-islands] Removed 48,266 islands\n",
      "[filter-slivers] Removed 13,520 slivers using 0.15+ sqkm variable threshold\n",
      "[clean] Removed 503 / 603 slivers using 0.55+ sqkm variable threshold\n",
      "[clean] Retained 9,661 of 13,330 features\n",
      "[o] Wrote WDPA_test/10.json\n",
      "[i] Snapped 0 points\n",
      "[simplify] Repaired 6,331 intersections; 4,298 intersections could not be repaired\n",
      "[filter-islands] Removed 88,437 islands\n",
      "[filter-slivers] Removed 40,919 slivers using 0.15+ sqkm variable threshold\n",
      "[clean] Removed 816 / 1,012 slivers using 0.68+ sqkm variable threshold\n",
      "[clean] Retained 9,108 of 12,020 features\n",
      "[o] Wrote WDPA_test/11.json\n",
      "[i] Snapped 0 points\n",
      "[simplify] Repaired 1,421 intersections; 3,014 intersections could not be repaired\n",
      "[filter-islands] Removed 70,180 islands\n",
      "[filter-slivers] Removed 16,126 slivers using 0.15+ sqkm variable threshold\n",
      "[clean] Removed 483 / 619 slivers using 1.2+ sqkm variable threshold\n",
      "[clean] Retained 8,823 of 11,963 features\n",
      "[o] Wrote WDPA_test/2.json\n",
      "[i] Snapped 0 points\n",
      "[simplify] Repaired 2,048 intersections; 7,212 intersections could not be repaired\n",
      "[filter-islands] Removed 62,791 islands\n",
      "[filter-slivers] Removed 86,853 slivers using 0.15+ sqkm variable threshold\n",
      "[clean] Removed 735 / 1,080 slivers using 1.2+ sqkm variable threshold\n",
      "[clean] Retained 11,355 of 14,288 features\n",
      "[o] Wrote WDPA_test/3.json\n",
      "[i] Snapped 0 points\n",
      "[simplify] Repaired 1,054 intersections; 2,642 intersections could not be repaired\n",
      "[filter-islands] Removed 50,938 islands\n",
      "[filter-slivers] Removed 9,358 slivers using 0.15+ sqkm variable threshold\n",
      "[clean] Removed 253 / 325 slivers using 1+ sqkm variable threshold\n",
      "[clean] Retained 8,577 of 11,809 features\n",
      "[o] Wrote WDPA_test/4.json\n",
      "[i] Snapped 0 points\n",
      "[simplify] Repaired 971 intersections; 5,375 intersections could not be repaired\n",
      "[filter-islands] Removed 65,432 islands\n",
      "[filter-slivers] Removed 13,180 slivers using 0.15+ sqkm variable threshold\n",
      "[clean] Removed 392 / 466 slivers using 1+ sqkm variable threshold\n",
      "[clean] Retained 9,350 of 13,147 features\n",
      "[o] Wrote WDPA_test/5.json\n",
      "[i] Snapped 0 points\n",
      "[simplify] Repaired 0 intersections; 10,112 intersections could not be repaired\n",
      "[filter-islands] Removed 60,215 islands\n",
      "[filter-slivers] Removed 16,610 slivers using 0.15+ sqkm variable threshold\n",
      "[clean] Removed 625 / 701 slivers using 0.86+ sqkm variable threshold\n",
      "[clean] Retained 9,676 of 13,589 features\n",
      "[o] Wrote WDPA_test/6.json\n",
      "[i] Snapped 0 points\n",
      "[simplify] Repaired 956 intersections; 14,927 intersections could not be repaired\n",
      "[filter-islands] Removed 64,076 islands\n",
      "[filter-slivers] Removed 17,631 slivers using 0.15+ sqkm variable threshold\n",
      "[clean] Removed 1,587 / 1,827 slivers using 0.63+ sqkm variable threshold\n",
      "[clean] Retained 9,922 of 14,492 features\n",
      "[o] Wrote WDPA_test/7.json\n",
      "[i] Snapped 0 points\n",
      "[simplify] Repaired 3,640 intersections; 5,064 intersections could not be repaired\n",
      "[filter-islands] Removed 53,448 islands\n",
      "[filter-slivers] Removed 12,182 slivers using 0.15+ sqkm variable threshold\n",
      "[clean] Removed 714 / 871 slivers using 0.66+ sqkm variable threshold\n",
      "[clean] Retained 8,902 of 13,546 features\n",
      "[o] Wrote WDPA_test/8.json\n",
      "[i] Snapped 0 points\n",
      "[simplify] Repaired 3,404 intersections; 4,537 intersections could not be repaired\n",
      "[filter-islands] Removed 47,652 islands\n",
      "[filter-slivers] Removed 12,804 slivers using 0.15+ sqkm variable threshold\n",
      "[clean] Removed 725 / 882 slivers using 0.83+ sqkm variable threshold\n",
      "[clean] Retained 8,144 of 12,393 features\n",
      "[o] Wrote WDPA_test/9.json\n",
      "CPU times: user 1.75 s, sys: 651 ms, total: 2.4 s\n",
      "Wall time: 2min 11s\n"
     ]
    }
   ],
   "source": [
    "%%time\n",
    "# Only simplify (removes some geometries).\n",
    "!mapshaper-xl 16gb -i ./WDPA_test/*.json snap \\\n",
    "    -simplify 1% weighting=0.3 planar keep-shapes \\\n",
    "    -filter-islands min-vertices=100 min-area=150000m2 remove-empty \\\n",
    "    -filter-slivers min-area=150000m2 remove-empty \\\n",
    "    -clean rewind \\\n",
    "    -o WDPA_test/ format=geojson force ndjson"
   ]
  },
  {
   "cell_type": "code",
   "execution_count": 115,
   "metadata": {},
   "outputs": [
    {
     "name": "stdout",
     "output_type": "stream",
     "text": [
      "Allocating 16 GB of heap memory\n",
      "[info] \n",
      "=========================\n",
      "Layer:    [unnamed layer]\n",
      "-------------------------\n",
      "Type:     polygon\n",
      "Records:  103,705\n",
      "Bounds:   -180,-85.4119,180,83.73\n",
      "CRS:      +proj=longlat +datum=WGS84\n",
      "Source:   ./WDPA_test/1.json\n",
      "\n",
      "Attribute data\n",
      "--------+-------------\n",
      " Field  | First value\n",
      "--------+-------------\n",
      " group  | 1\n",
      " MOL_ID | 2\n",
      "--------+-------------\n",
      "\n",
      "[o] Wrote WDPA_test/wdpa_simp3.shp\n",
      "[o] Wrote WDPA_test/wdpa_simp3.shx\n",
      "[o] Wrote WDPA_test/wdpa_simp3.dbf\n",
      "[o] Wrote WDPA_test/wdpa_simp3.prj\n"
     ]
    }
   ],
   "source": [
    "# Combine all json files in a shp. \n",
    "!mapshaper-xl 16gb -i ./WDPA_test/*.json combine-files -merge-layers -info -o WDPA_test/wdpa_simp3.shp"
   ]
  },
  {
   "cell_type": "code",
   "execution_count": 116,
   "metadata": {},
   "outputs": [
    {
     "data": {
      "text/plain": [
       "103705"
      ]
     },
     "execution_count": 116,
     "metadata": {},
     "output_type": "execute_result"
    }
   ],
   "source": [
    "sim3 = gpd.read_file('WDPA_test/wdpa_simp3.shp') \n",
    "len(sim3)"
   ]
  },
  {
   "cell_type": "code",
   "execution_count": 117,
   "metadata": {},
   "outputs": [
    {
     "data": {
      "text/plain": [
       "113724"
      ]
     },
     "execution_count": 117,
     "metadata": {},
     "output_type": "execute_result"
    }
   ],
   "source": [
    "len(gdf)-len(sim3) # 113,724 geometries removed during simplification"
   ]
  },
  {
   "cell_type": "code",
   "execution_count": 118,
   "metadata": {},
   "outputs": [],
   "source": [
    "## Set crs\n",
    "sim3 = sim3.set_crs('EPSG:4326') "
   ]
  },
  {
   "cell_type": "code",
   "execution_count": 119,
   "metadata": {
    "tags": []
   },
   "outputs": [
    {
     "name": "stdout",
     "output_type": "stream",
     "text": [
      "CPU times: user 13 s, sys: 1.61 s, total: 14.6 s\n",
      "Wall time: 15.8 s\n"
     ]
    },
    {
     "data": {
      "text/plain": [
       "103705"
      ]
     },
     "execution_count": 119,
     "metadata": {},
     "output_type": "execute_result"
    }
   ],
   "source": [
    "%%time\n",
    "# Repair geometries, in case some are invalid after simplification, and check how many are valid\n",
    "sim3['geometry'] = sim3['geometry'].buffer(0) # this is to repair geometries\n",
    "sum(sim3.is_valid) # 103,705 valid"
   ]
  },
  {
   "cell_type": "code",
   "execution_count": 120,
   "metadata": {},
   "outputs": [
    {
     "data": {
      "text/plain": [
       "103705"
      ]
     },
     "execution_count": 120,
     "metadata": {},
     "output_type": "execute_result"
    }
   ],
   "source": [
    "# Keep only valid geometries and remove the invalid\n",
    "sim3 = sim3[sim3['geometry'].is_valid]\n",
    "len(sim3) "
   ]
  },
  {
   "cell_type": "code",
   "execution_count": 121,
   "metadata": {},
   "outputs": [
    {
     "data": {
      "text/html": [
       "<div>\n",
       "<style scoped>\n",
       "    .dataframe tbody tr th:only-of-type {\n",
       "        vertical-align: middle;\n",
       "    }\n",
       "\n",
       "    .dataframe tbody tr th {\n",
       "        vertical-align: top;\n",
       "    }\n",
       "\n",
       "    .dataframe thead th {\n",
       "        text-align: right;\n",
       "    }\n",
       "</style>\n",
       "<table border=\"1\" class=\"dataframe\">\n",
       "  <thead>\n",
       "    <tr style=\"text-align: right;\">\n",
       "      <th></th>\n",
       "      <th>MOL_ID</th>\n",
       "      <th>geometry</th>\n",
       "    </tr>\n",
       "  </thead>\n",
       "  <tbody>\n",
       "    <tr>\n",
       "      <th>0</th>\n",
       "      <td>2</td>\n",
       "      <td>POLYGON ((173.97640 -41.19260, 173.96920 -41.1...</td>\n",
       "    </tr>\n",
       "    <tr>\n",
       "      <th>1</th>\n",
       "      <td>5</td>\n",
       "      <td>POLYGON ((169.17500 -46.54940, 169.21100 -46.5...</td>\n",
       "    </tr>\n",
       "    <tr>\n",
       "      <th>2</th>\n",
       "      <td>6</td>\n",
       "      <td>POLYGON ((168.79750 -44.46110, 168.78770 -44.4...</td>\n",
       "    </tr>\n",
       "    <tr>\n",
       "      <th>3</th>\n",
       "      <td>9</td>\n",
       "      <td>POLYGON ((169.17870 -45.29580, 169.16290 -45.2...</td>\n",
       "    </tr>\n",
       "    <tr>\n",
       "      <th>4</th>\n",
       "      <td>19</td>\n",
       "      <td>POLYGON ((170.44970 -45.46120, 170.43820 -45.4...</td>\n",
       "    </tr>\n",
       "  </tbody>\n",
       "</table>\n",
       "</div>"
      ],
      "text/plain": [
       "   MOL_ID                                           geometry\n",
       "0       2  POLYGON ((173.97640 -41.19260, 173.96920 -41.1...\n",
       "1       5  POLYGON ((169.17500 -46.54940, 169.21100 -46.5...\n",
       "2       6  POLYGON ((168.79750 -44.46110, 168.78770 -44.4...\n",
       "3       9  POLYGON ((169.17870 -45.29580, 169.16290 -45.2...\n",
       "4      19  POLYGON ((170.44970 -45.46120, 170.43820 -45.4..."
      ]
     },
     "execution_count": 121,
     "metadata": {},
     "output_type": "execute_result"
    }
   ],
   "source": [
    "sim3 = sim3.drop(columns={'group'})\n",
    "sim3.head()"
   ]
  },
  {
   "cell_type": "code",
   "execution_count": 122,
   "metadata": {},
   "outputs": [
    {
     "data": {
      "text/html": [
       "<div>\n",
       "<style scoped>\n",
       "    .dataframe tbody tr th:only-of-type {\n",
       "        vertical-align: middle;\n",
       "    }\n",
       "\n",
       "    .dataframe tbody tr th {\n",
       "        vertical-align: top;\n",
       "    }\n",
       "\n",
       "    .dataframe thead th {\n",
       "        text-align: right;\n",
       "    }\n",
       "</style>\n",
       "<table border=\"1\" class=\"dataframe\">\n",
       "  <thead>\n",
       "    <tr style=\"text-align: right;\">\n",
       "      <th></th>\n",
       "      <th>MOL_ID</th>\n",
       "      <th>geometry</th>\n",
       "      <th>WDPAID</th>\n",
       "      <th>WDPA_PID</th>\n",
       "      <th>PA_DEF</th>\n",
       "      <th>NAME</th>\n",
       "      <th>ORIG_NA</th>\n",
       "      <th>DESIG</th>\n",
       "      <th>DESIG_E</th>\n",
       "      <th>DESIG_T</th>\n",
       "      <th>...</th>\n",
       "      <th>SUB_LOC</th>\n",
       "      <th>PARENT_</th>\n",
       "      <th>ISO3</th>\n",
       "      <th>SUPP_IN</th>\n",
       "      <th>CONS_OB</th>\n",
       "      <th>SORTER</th>\n",
       "      <th>WDPA_PID_h</th>\n",
       "      <th>WDPA_PID__</th>\n",
       "      <th>hash_vl</th>\n",
       "      <th>AREA_KM</th>\n",
       "    </tr>\n",
       "  </thead>\n",
       "  <tbody>\n",
       "    <tr>\n",
       "      <th>0</th>\n",
       "      <td>2</td>\n",
       "      <td>POLYGON ((173.97640 -41.19260, 173.96920 -41.1...</td>\n",
       "      <td>307797.0</td>\n",
       "      <td>307797</td>\n",
       "      <td>1</td>\n",
       "      <td>Ferndale</td>\n",
       "      <td>Ferndale</td>\n",
       "      <td>Scenic Reserve</td>\n",
       "      <td>Scenic Reserve</td>\n",
       "      <td>National</td>\n",
       "      <td>...</td>\n",
       "      <td>NZ-MBH</td>\n",
       "      <td>NZL</td>\n",
       "      <td>NZL</td>\n",
       "      <td>Not Applicable</td>\n",
       "      <td>Not Applicable</td>\n",
       "      <td>0.0</td>\n",
       "      <td>6dcdc88b</td>\n",
       "      <td>781004482</td>\n",
       "      <td>781004482</td>\n",
       "      <td>0.748492</td>\n",
       "    </tr>\n",
       "  </tbody>\n",
       "</table>\n",
       "<p>1 rows × 37 columns</p>\n",
       "</div>"
      ],
      "text/plain": [
       "   MOL_ID                                           geometry    WDPAID  \\\n",
       "0       2  POLYGON ((173.97640 -41.19260, 173.96920 -41.1...  307797.0   \n",
       "\n",
       "  WDPA_PID PA_DEF      NAME   ORIG_NA           DESIG         DESIG_E  \\\n",
       "0   307797      1  Ferndale  Ferndale  Scenic Reserve  Scenic Reserve   \n",
       "\n",
       "    DESIG_T  ... SUB_LOC PARENT_ ISO3         SUPP_IN         CONS_OB  SORTER  \\\n",
       "0  National  ...  NZ-MBH     NZL  NZL  Not Applicable  Not Applicable     0.0   \n",
       "\n",
       "   WDPA_PID_h WDPA_PID__    hash_vl   AREA_KM  \n",
       "0    6dcdc88b  781004482  781004482  0.748492  \n",
       "\n",
       "[1 rows x 37 columns]"
      ]
     },
     "execution_count": 122,
     "metadata": {},
     "output_type": "execute_result"
    }
   ],
   "source": [
    "sim3 = gpd.GeoDataFrame(pd.merge(sim3, gdf_no_geom,  how='left', left_on=['MOL_ID'], right_on = ['MOL_ID']))\n",
    "sim3.head(1)"
   ]
  },
  {
   "cell_type": "code",
   "execution_count": 123,
   "metadata": {},
   "outputs": [
    {
     "data": {
      "text/plain": [
       "Index(['MOL_ID', 'geometry', 'WDPAID', 'WDPA_PID', 'PA_DEF', 'NAME', 'ORIG_NA',\n",
       "       'DESIG', 'DESIG_E', 'DESIG_T', 'IUCN_CA', 'INT_CRI', 'MARINE',\n",
       "       'REP_M_A', 'GIS_M_A', 'REP_ARE', 'GIS_ARE', 'NO_TAKE', 'NO_TK_A',\n",
       "       'STATUS', 'STATUS_', 'GOV_TYP', 'OWN_TYP', 'MANG_AU', 'MANG_PL',\n",
       "       'VERIF', 'METADAT', 'SUB_LOC', 'PARENT_', 'ISO3', 'SUPP_IN', 'CONS_OB',\n",
       "       'SORTER', 'WDPA_PID_h', 'WDPA_PID__', 'hash_vl', 'AREA_KM2'],\n",
       "      dtype='object')"
      ]
     },
     "execution_count": 123,
     "metadata": {},
     "output_type": "execute_result"
    }
   ],
   "source": [
    "sim3 = sim3.rename(columns={'AREA_KM':'AREA_KM2'})\n",
    "sim3.columns"
   ]
  },
  {
   "cell_type": "code",
   "execution_count": 124,
   "metadata": {},
   "outputs": [
    {
     "data": {
      "text/html": [
       "<div>\n",
       "<style scoped>\n",
       "    .dataframe tbody tr th:only-of-type {\n",
       "        vertical-align: middle;\n",
       "    }\n",
       "\n",
       "    .dataframe tbody tr th {\n",
       "        vertical-align: top;\n",
       "    }\n",
       "\n",
       "    .dataframe thead th {\n",
       "        text-align: right;\n",
       "    }\n",
       "</style>\n",
       "<table border=\"1\" class=\"dataframe\">\n",
       "  <thead>\n",
       "    <tr style=\"text-align: right;\">\n",
       "      <th></th>\n",
       "      <th>MOL_ID</th>\n",
       "      <th>geometry</th>\n",
       "      <th>WDPAID</th>\n",
       "      <th>WDPA_PID</th>\n",
       "      <th>PA_DEF</th>\n",
       "      <th>NAME</th>\n",
       "      <th>ORIG_NA</th>\n",
       "      <th>DESIG</th>\n",
       "      <th>DESIG_E</th>\n",
       "      <th>DESIG_T</th>\n",
       "      <th>...</th>\n",
       "      <th>PARENT_</th>\n",
       "      <th>ISO3</th>\n",
       "      <th>SUPP_IN</th>\n",
       "      <th>CONS_OB</th>\n",
       "      <th>SORTER</th>\n",
       "      <th>WDPA_PID_h</th>\n",
       "      <th>WDPA_PID__</th>\n",
       "      <th>hash_vl</th>\n",
       "      <th>AREA_KM2</th>\n",
       "      <th>nspecies</th>\n",
       "    </tr>\n",
       "  </thead>\n",
       "  <tbody>\n",
       "    <tr>\n",
       "      <th>0</th>\n",
       "      <td>2</td>\n",
       "      <td>POLYGON ((173.97640 -41.19260, 173.96920 -41.1...</td>\n",
       "      <td>307797.0</td>\n",
       "      <td>307797</td>\n",
       "      <td>1</td>\n",
       "      <td>Ferndale</td>\n",
       "      <td>Ferndale</td>\n",
       "      <td>Scenic Reserve</td>\n",
       "      <td>Scenic Reserve</td>\n",
       "      <td>National</td>\n",
       "      <td>...</td>\n",
       "      <td>NZL</td>\n",
       "      <td>NZL</td>\n",
       "      <td>Not Applicable</td>\n",
       "      <td>Not Applicable</td>\n",
       "      <td>0.0</td>\n",
       "      <td>6dcdc88b</td>\n",
       "      <td>781004482</td>\n",
       "      <td>781004482</td>\n",
       "      <td>0.748492</td>\n",
       "      <td>78.0</td>\n",
       "    </tr>\n",
       "  </tbody>\n",
       "</table>\n",
       "<p>1 rows × 38 columns</p>\n",
       "</div>"
      ],
      "text/plain": [
       "  MOL_ID                                           geometry    WDPAID  \\\n",
       "0      2  POLYGON ((173.97640 -41.19260, 173.96920 -41.1...  307797.0   \n",
       "\n",
       "  WDPA_PID PA_DEF      NAME   ORIG_NA           DESIG         DESIG_E  \\\n",
       "0   307797      1  Ferndale  Ferndale  Scenic Reserve  Scenic Reserve   \n",
       "\n",
       "    DESIG_T  ... PARENT_ ISO3         SUPP_IN         CONS_OB  SORTER  \\\n",
       "0  National  ...     NZL  NZL  Not Applicable  Not Applicable     0.0   \n",
       "\n",
       "   WDPA_PID_h  WDPA_PID__    hash_vl  AREA_KM2 nspecies  \n",
       "0    6dcdc88b   781004482  781004482  0.748492     78.0  \n",
       "\n",
       "[1 rows x 38 columns]"
      ]
     },
     "execution_count": 124,
     "metadata": {},
     "output_type": "execute_result"
    }
   ],
   "source": [
    "# Merge new attributes\n",
    "sim3 = gpd.GeoDataFrame(pd.merge(sim3, nspecies, how='left', left_on=['MOL_ID'], right_on = ['MOL_ID']))\n",
    "sim3.head(1)"
   ]
  },
  {
   "cell_type": "code",
   "execution_count": 126,
   "metadata": {},
   "outputs": [
    {
     "data": {
      "text/plain": [
       "<AxesSubplot:>"
      ]
     },
     "execution_count": 126,
     "metadata": {},
     "output_type": "execute_result"
    },
    {
     "data": {
      "image/png": "[encoded data removed]",
      "text/plain": [
       "<Figure size 720x720 with 2 Axes>"
      ]
     },
     "metadata": {
      "needs_background": "light"
     },
     "output_type": "display_data"
    }
   ],
   "source": [
    "# Compare geometries in original and simplified dataset\n",
    "n= 14318\n",
    "fig, (ax1,ax2) = plt.subplots(nrows=1,ncols=2,figsize=(10,10))\n",
    "dff[dff['MOL_ID']==n].geometry.plot(ax = ax1) \n",
    "sim3[sim3['MOL_ID']==n].geometry.plot(ax = ax2)"
   ]
  },
  {
   "cell_type": "code",
   "execution_count": 127,
   "metadata": {},
   "outputs": [
    {
     "name": "stderr",
     "output_type": "stream",
     "text": [
      "/opt/anaconda3/envs/vizz38/lib/python3.8/site-packages/geopandas/plotting.py:399: UserWarning: The GeoSeries you are attempting to plot is empty. Nothing has been displayed.\n",
      "  warnings.warn(\n"
     ]
    },
    {
     "data": {
      "text/plain": [
       "<AxesSubplot:>"
      ]
     },
     "execution_count": 127,
     "metadata": {},
     "output_type": "execute_result"
    },
    {
     "ename": "ValueError",
     "evalue": "cannot convert float NaN to integer",
     "output_type": "error",
     "traceback": [
      "\u001b[0;31m---------------------------------------------------------------------------\u001b[0m",
      "\u001b[0;31mValueError\u001b[0m                                Traceback (most recent call last)",
      "\u001b[0;32m/opt/anaconda3/envs/vizz38/lib/python3.8/site-packages/IPython/core/formatters.py\u001b[0m in \u001b[0;36m__call__\u001b[0;34m(self, obj)\u001b[0m\n\u001b[1;32m    339\u001b[0m                 \u001b[0;32mpass\u001b[0m\u001b[0;34m\u001b[0m\u001b[0;34m\u001b[0m\u001b[0m\n\u001b[1;32m    340\u001b[0m             \u001b[0;32melse\u001b[0m\u001b[0;34m:\u001b[0m\u001b[0;34m\u001b[0m\u001b[0;34m\u001b[0m\u001b[0m\n\u001b[0;32m--> 341\u001b[0;31m                 \u001b[0;32mreturn\u001b[0m \u001b[0mprinter\u001b[0m\u001b[0;34m(\u001b[0m\u001b[0mobj\u001b[0m\u001b[0;34m)\u001b[0m\u001b[0;34m\u001b[0m\u001b[0;34m\u001b[0m\u001b[0m\n\u001b[0m\u001b[1;32m    342\u001b[0m             \u001b[0;31m# Finally look for special method names\u001b[0m\u001b[0;34m\u001b[0m\u001b[0;34m\u001b[0m\u001b[0;34m\u001b[0m\u001b[0m\n\u001b[1;32m    343\u001b[0m             \u001b[0mmethod\u001b[0m \u001b[0;34m=\u001b[0m \u001b[0mget_real_method\u001b[0m\u001b[0;34m(\u001b[0m\u001b[0mobj\u001b[0m\u001b[0;34m,\u001b[0m \u001b[0mself\u001b[0m\u001b[0;34m.\u001b[0m\u001b[0mprint_method\u001b[0m\u001b[0;34m)\u001b[0m\u001b[0;34m\u001b[0m\u001b[0;34m\u001b[0m\u001b[0m\n",
      "\u001b[0;32m/opt/anaconda3/envs/vizz38/lib/python3.8/site-packages/IPython/core/pylabtools.py\u001b[0m in \u001b[0;36mprint_figure\u001b[0;34m(fig, fmt, bbox_inches, base64, **kwargs)\u001b[0m\n\u001b[1;32m    149\u001b[0m         \u001b[0mFigureCanvasBase\u001b[0m\u001b[0;34m(\u001b[0m\u001b[0mfig\u001b[0m\u001b[0;34m)\u001b[0m\u001b[0;34m\u001b[0m\u001b[0;34m\u001b[0m\u001b[0m\n\u001b[1;32m    150\u001b[0m \u001b[0;34m\u001b[0m\u001b[0m\n\u001b[0;32m--> 151\u001b[0;31m     \u001b[0mfig\u001b[0m\u001b[0;34m.\u001b[0m\u001b[0mcanvas\u001b[0m\u001b[0;34m.\u001b[0m\u001b[0mprint_figure\u001b[0m\u001b[0;34m(\u001b[0m\u001b[0mbytes_io\u001b[0m\u001b[0;34m,\u001b[0m \u001b[0;34m**\u001b[0m\u001b[0mkw\u001b[0m\u001b[0;34m)\u001b[0m\u001b[0;34m\u001b[0m\u001b[0;34m\u001b[0m\u001b[0m\n\u001b[0m\u001b[1;32m    152\u001b[0m     \u001b[0mdata\u001b[0m \u001b[0;34m=\u001b[0m \u001b[0mbytes_io\u001b[0m\u001b[0;34m.\u001b[0m\u001b[0mgetvalue\u001b[0m\u001b[0;34m(\u001b[0m\u001b[0;34m)\u001b[0m\u001b[0;34m\u001b[0m\u001b[0;34m\u001b[0m\u001b[0m\n\u001b[1;32m    153\u001b[0m     \u001b[0;32mif\u001b[0m \u001b[0mfmt\u001b[0m \u001b[0;34m==\u001b[0m \u001b[0;34m'svg'\u001b[0m\u001b[0;34m:\u001b[0m\u001b[0;34m\u001b[0m\u001b[0;34m\u001b[0m\u001b[0m\n",
      "\u001b[0;32m/opt/anaconda3/envs/vizz38/lib/python3.8/site-packages/matplotlib/backend_bases.py\u001b[0m in \u001b[0;36mprint_figure\u001b[0;34m(self, filename, dpi, facecolor, edgecolor, orientation, format, bbox_inches, pad_inches, bbox_extra_artists, backend, **kwargs)\u001b[0m\n\u001b[1;32m   2228\u001b[0m                        else suppress())\n\u001b[1;32m   2229\u001b[0m                 \u001b[0;32mwith\u001b[0m \u001b[0mctx\u001b[0m\u001b[0;34m:\u001b[0m\u001b[0;34m\u001b[0m\u001b[0;34m\u001b[0m\u001b[0m\n\u001b[0;32m-> 2230\u001b[0;31m                     \u001b[0mself\u001b[0m\u001b[0;34m.\u001b[0m\u001b[0mfigure\u001b[0m\u001b[0;34m.\u001b[0m\u001b[0mdraw\u001b[0m\u001b[0;34m(\u001b[0m\u001b[0mrenderer\u001b[0m\u001b[0;34m)\u001b[0m\u001b[0;34m\u001b[0m\u001b[0;34m\u001b[0m\u001b[0m\n\u001b[0m\u001b[1;32m   2231\u001b[0m \u001b[0;34m\u001b[0m\u001b[0m\n\u001b[1;32m   2232\u001b[0m             \u001b[0;32mif\u001b[0m \u001b[0mbbox_inches\u001b[0m\u001b[0;34m:\u001b[0m\u001b[0;34m\u001b[0m\u001b[0;34m\u001b[0m\u001b[0m\n",
      "\u001b[0;32m/opt/anaconda3/envs/vizz38/lib/python3.8/site-packages/matplotlib/artist.py\u001b[0m in \u001b[0;36mdraw_wrapper\u001b[0;34m(artist, renderer, *args, **kwargs)\u001b[0m\n\u001b[1;32m     72\u001b[0m     \u001b[0;34m@\u001b[0m\u001b[0mwraps\u001b[0m\u001b[0;34m(\u001b[0m\u001b[0mdraw\u001b[0m\u001b[0;34m)\u001b[0m\u001b[0;34m\u001b[0m\u001b[0;34m\u001b[0m\u001b[0m\n\u001b[1;32m     73\u001b[0m     \u001b[0;32mdef\u001b[0m \u001b[0mdraw_wrapper\u001b[0m\u001b[0;34m(\u001b[0m\u001b[0martist\u001b[0m\u001b[0;34m,\u001b[0m \u001b[0mrenderer\u001b[0m\u001b[0;34m,\u001b[0m \u001b[0;34m*\u001b[0m\u001b[0margs\u001b[0m\u001b[0;34m,\u001b[0m \u001b[0;34m**\u001b[0m\u001b[0mkwargs\u001b[0m\u001b[0;34m)\u001b[0m\u001b[0;34m:\u001b[0m\u001b[0;34m\u001b[0m\u001b[0;34m\u001b[0m\u001b[0m\n\u001b[0;32m---> 74\u001b[0;31m         \u001b[0mresult\u001b[0m \u001b[0;34m=\u001b[0m \u001b[0mdraw\u001b[0m\u001b[0;34m(\u001b[0m\u001b[0martist\u001b[0m\u001b[0;34m,\u001b[0m \u001b[0mrenderer\u001b[0m\u001b[0;34m,\u001b[0m \u001b[0;34m*\u001b[0m\u001b[0margs\u001b[0m\u001b[0;34m,\u001b[0m \u001b[0;34m**\u001b[0m\u001b[0mkwargs\u001b[0m\u001b[0;34m)\u001b[0m\u001b[0;34m\u001b[0m\u001b[0;34m\u001b[0m\u001b[0m\n\u001b[0m\u001b[1;32m     75\u001b[0m         \u001b[0;32mif\u001b[0m \u001b[0mrenderer\u001b[0m\u001b[0;34m.\u001b[0m\u001b[0m_rasterizing\u001b[0m\u001b[0;34m:\u001b[0m\u001b[0;34m\u001b[0m\u001b[0;34m\u001b[0m\u001b[0m\n\u001b[1;32m     76\u001b[0m             \u001b[0mrenderer\u001b[0m\u001b[0;34m.\u001b[0m\u001b[0mstop_rasterizing\u001b[0m\u001b[0;34m(\u001b[0m\u001b[0;34m)\u001b[0m\u001b[0;34m\u001b[0m\u001b[0;34m\u001b[0m\u001b[0m\n",
      "\u001b[0;32m/opt/anaconda3/envs/vizz38/lib/python3.8/site-packages/matplotlib/artist.py\u001b[0m in \u001b[0;36mdraw_wrapper\u001b[0;34m(artist, renderer, *args, **kwargs)\u001b[0m\n\u001b[1;32m     49\u001b[0m                 \u001b[0mrenderer\u001b[0m\u001b[0;34m.\u001b[0m\u001b[0mstart_filter\u001b[0m\u001b[0;34m(\u001b[0m\u001b[0;34m)\u001b[0m\u001b[0;34m\u001b[0m\u001b[0;34m\u001b[0m\u001b[0m\n\u001b[1;32m     50\u001b[0m \u001b[0;34m\u001b[0m\u001b[0m\n\u001b[0;32m---> 51\u001b[0;31m             \u001b[0;32mreturn\u001b[0m \u001b[0mdraw\u001b[0m\u001b[0;34m(\u001b[0m\u001b[0martist\u001b[0m\u001b[0;34m,\u001b[0m \u001b[0mrenderer\u001b[0m\u001b[0;34m,\u001b[0m \u001b[0;34m*\u001b[0m\u001b[0margs\u001b[0m\u001b[0;34m,\u001b[0m \u001b[0;34m**\u001b[0m\u001b[0mkwargs\u001b[0m\u001b[0;34m)\u001b[0m\u001b[0;34m\u001b[0m\u001b[0;34m\u001b[0m\u001b[0m\n\u001b[0m\u001b[1;32m     52\u001b[0m         \u001b[0;32mfinally\u001b[0m\u001b[0;34m:\u001b[0m\u001b[0;34m\u001b[0m\u001b[0;34m\u001b[0m\u001b[0m\n\u001b[1;32m     53\u001b[0m             \u001b[0;32mif\u001b[0m \u001b[0martist\u001b[0m\u001b[0;34m.\u001b[0m\u001b[0mget_agg_filter\u001b[0m\u001b[0;34m(\u001b[0m\u001b[0;34m)\u001b[0m \u001b[0;32mis\u001b[0m \u001b[0;32mnot\u001b[0m \u001b[0;32mNone\u001b[0m\u001b[0;34m:\u001b[0m\u001b[0;34m\u001b[0m\u001b[0;34m\u001b[0m\u001b[0m\n",
      "\u001b[0;32m/opt/anaconda3/envs/vizz38/lib/python3.8/site-packages/matplotlib/figure.py\u001b[0m in \u001b[0;36mdraw\u001b[0;34m(self, renderer)\u001b[0m\n\u001b[1;32m   2788\u001b[0m \u001b[0;34m\u001b[0m\u001b[0m\n\u001b[1;32m   2789\u001b[0m             \u001b[0mself\u001b[0m\u001b[0;34m.\u001b[0m\u001b[0mpatch\u001b[0m\u001b[0;34m.\u001b[0m\u001b[0mdraw\u001b[0m\u001b[0;34m(\u001b[0m\u001b[0mrenderer\u001b[0m\u001b[0;34m)\u001b[0m\u001b[0;34m\u001b[0m\u001b[0;34m\u001b[0m\u001b[0m\n\u001b[0;32m-> 2790\u001b[0;31m             mimage._draw_list_compositing_images(\n\u001b[0m\u001b[1;32m   2791\u001b[0m                 renderer, self, artists, self.suppressComposite)\n\u001b[1;32m   2792\u001b[0m \u001b[0;34m\u001b[0m\u001b[0m\n",
      "\u001b[0;32m/opt/anaconda3/envs/vizz38/lib/python3.8/site-packages/matplotlib/image.py\u001b[0m in \u001b[0;36m_draw_list_compositing_images\u001b[0;34m(renderer, parent, artists, suppress_composite)\u001b[0m\n\u001b[1;32m    130\u001b[0m     \u001b[0;32mif\u001b[0m \u001b[0mnot_composite\u001b[0m \u001b[0;32mor\u001b[0m \u001b[0;32mnot\u001b[0m \u001b[0mhas_images\u001b[0m\u001b[0;34m:\u001b[0m\u001b[0;34m\u001b[0m\u001b[0;34m\u001b[0m\u001b[0m\n\u001b[1;32m    131\u001b[0m         \u001b[0;32mfor\u001b[0m \u001b[0ma\u001b[0m \u001b[0;32min\u001b[0m \u001b[0martists\u001b[0m\u001b[0;34m:\u001b[0m\u001b[0;34m\u001b[0m\u001b[0;34m\u001b[0m\u001b[0m\n\u001b[0;32m--> 132\u001b[0;31m             \u001b[0ma\u001b[0m\u001b[0;34m.\u001b[0m\u001b[0mdraw\u001b[0m\u001b[0;34m(\u001b[0m\u001b[0mrenderer\u001b[0m\u001b[0;34m)\u001b[0m\u001b[0;34m\u001b[0m\u001b[0;34m\u001b[0m\u001b[0m\n\u001b[0m\u001b[1;32m    133\u001b[0m     \u001b[0;32melse\u001b[0m\u001b[0;34m:\u001b[0m\u001b[0;34m\u001b[0m\u001b[0;34m\u001b[0m\u001b[0m\n\u001b[1;32m    134\u001b[0m         \u001b[0;31m# Composite any adjacent images together\u001b[0m\u001b[0;34m\u001b[0m\u001b[0;34m\u001b[0m\u001b[0;34m\u001b[0m\u001b[0m\n",
      "\u001b[0;32m/opt/anaconda3/envs/vizz38/lib/python3.8/site-packages/matplotlib/artist.py\u001b[0m in \u001b[0;36mdraw_wrapper\u001b[0;34m(artist, renderer, *args, **kwargs)\u001b[0m\n\u001b[1;32m     49\u001b[0m                 \u001b[0mrenderer\u001b[0m\u001b[0;34m.\u001b[0m\u001b[0mstart_filter\u001b[0m\u001b[0;34m(\u001b[0m\u001b[0;34m)\u001b[0m\u001b[0;34m\u001b[0m\u001b[0;34m\u001b[0m\u001b[0m\n\u001b[1;32m     50\u001b[0m \u001b[0;34m\u001b[0m\u001b[0m\n\u001b[0;32m---> 51\u001b[0;31m             \u001b[0;32mreturn\u001b[0m \u001b[0mdraw\u001b[0m\u001b[0;34m(\u001b[0m\u001b[0martist\u001b[0m\u001b[0;34m,\u001b[0m \u001b[0mrenderer\u001b[0m\u001b[0;34m,\u001b[0m \u001b[0;34m*\u001b[0m\u001b[0margs\u001b[0m\u001b[0;34m,\u001b[0m \u001b[0;34m**\u001b[0m\u001b[0mkwargs\u001b[0m\u001b[0;34m)\u001b[0m\u001b[0;34m\u001b[0m\u001b[0;34m\u001b[0m\u001b[0m\n\u001b[0m\u001b[1;32m     52\u001b[0m         \u001b[0;32mfinally\u001b[0m\u001b[0;34m:\u001b[0m\u001b[0;34m\u001b[0m\u001b[0;34m\u001b[0m\u001b[0m\n\u001b[1;32m     53\u001b[0m             \u001b[0;32mif\u001b[0m \u001b[0martist\u001b[0m\u001b[0;34m.\u001b[0m\u001b[0mget_agg_filter\u001b[0m\u001b[0;34m(\u001b[0m\u001b[0;34m)\u001b[0m \u001b[0;32mis\u001b[0m \u001b[0;32mnot\u001b[0m \u001b[0;32mNone\u001b[0m\u001b[0;34m:\u001b[0m\u001b[0;34m\u001b[0m\u001b[0;34m\u001b[0m\u001b[0m\n",
      "\u001b[0;32m/opt/anaconda3/envs/vizz38/lib/python3.8/site-packages/matplotlib/_api/deprecation.py\u001b[0m in \u001b[0;36mwrapper\u001b[0;34m(*inner_args, **inner_kwargs)\u001b[0m\n\u001b[1;32m    429\u001b[0m                          \u001b[0;32melse\u001b[0m \u001b[0mdeprecation_addendum\u001b[0m\u001b[0;34m,\u001b[0m\u001b[0;34m\u001b[0m\u001b[0;34m\u001b[0m\u001b[0m\n\u001b[1;32m    430\u001b[0m                 **kwargs)\n\u001b[0;32m--> 431\u001b[0;31m         \u001b[0;32mreturn\u001b[0m \u001b[0mfunc\u001b[0m\u001b[0;34m(\u001b[0m\u001b[0;34m*\u001b[0m\u001b[0minner_args\u001b[0m\u001b[0;34m,\u001b[0m \u001b[0;34m**\u001b[0m\u001b[0minner_kwargs\u001b[0m\u001b[0;34m)\u001b[0m\u001b[0;34m\u001b[0m\u001b[0;34m\u001b[0m\u001b[0m\n\u001b[0m\u001b[1;32m    432\u001b[0m \u001b[0;34m\u001b[0m\u001b[0m\n\u001b[1;32m    433\u001b[0m     \u001b[0;32mreturn\u001b[0m \u001b[0mwrapper\u001b[0m\u001b[0;34m\u001b[0m\u001b[0;34m\u001b[0m\u001b[0m\n",
      "\u001b[0;32m/opt/anaconda3/envs/vizz38/lib/python3.8/site-packages/matplotlib/axes/_base.py\u001b[0m in \u001b[0;36mdraw\u001b[0;34m(self, renderer, inframe)\u001b[0m\n\u001b[1;32m   2919\u001b[0m             \u001b[0mrenderer\u001b[0m\u001b[0;34m.\u001b[0m\u001b[0mstop_rasterizing\u001b[0m\u001b[0;34m(\u001b[0m\u001b[0;34m)\u001b[0m\u001b[0;34m\u001b[0m\u001b[0;34m\u001b[0m\u001b[0m\n\u001b[1;32m   2920\u001b[0m \u001b[0;34m\u001b[0m\u001b[0m\n\u001b[0;32m-> 2921\u001b[0;31m         \u001b[0mmimage\u001b[0m\u001b[0;34m.\u001b[0m\u001b[0m_draw_list_compositing_images\u001b[0m\u001b[0;34m(\u001b[0m\u001b[0mrenderer\u001b[0m\u001b[0;34m,\u001b[0m \u001b[0mself\u001b[0m\u001b[0;34m,\u001b[0m \u001b[0martists\u001b[0m\u001b[0;34m)\u001b[0m\u001b[0;34m\u001b[0m\u001b[0;34m\u001b[0m\u001b[0m\n\u001b[0m\u001b[1;32m   2922\u001b[0m \u001b[0;34m\u001b[0m\u001b[0m\n\u001b[1;32m   2923\u001b[0m         \u001b[0mrenderer\u001b[0m\u001b[0;34m.\u001b[0m\u001b[0mclose_group\u001b[0m\u001b[0;34m(\u001b[0m\u001b[0;34m'axes'\u001b[0m\u001b[0;34m)\u001b[0m\u001b[0;34m\u001b[0m\u001b[0;34m\u001b[0m\u001b[0m\n",
      "\u001b[0;32m/opt/anaconda3/envs/vizz38/lib/python3.8/site-packages/matplotlib/image.py\u001b[0m in \u001b[0;36m_draw_list_compositing_images\u001b[0;34m(renderer, parent, artists, suppress_composite)\u001b[0m\n\u001b[1;32m    130\u001b[0m     \u001b[0;32mif\u001b[0m \u001b[0mnot_composite\u001b[0m \u001b[0;32mor\u001b[0m \u001b[0;32mnot\u001b[0m \u001b[0mhas_images\u001b[0m\u001b[0;34m:\u001b[0m\u001b[0;34m\u001b[0m\u001b[0;34m\u001b[0m\u001b[0m\n\u001b[1;32m    131\u001b[0m         \u001b[0;32mfor\u001b[0m \u001b[0ma\u001b[0m \u001b[0;32min\u001b[0m \u001b[0martists\u001b[0m\u001b[0;34m:\u001b[0m\u001b[0;34m\u001b[0m\u001b[0;34m\u001b[0m\u001b[0m\n\u001b[0;32m--> 132\u001b[0;31m             \u001b[0ma\u001b[0m\u001b[0;34m.\u001b[0m\u001b[0mdraw\u001b[0m\u001b[0;34m(\u001b[0m\u001b[0mrenderer\u001b[0m\u001b[0;34m)\u001b[0m\u001b[0;34m\u001b[0m\u001b[0;34m\u001b[0m\u001b[0m\n\u001b[0m\u001b[1;32m    133\u001b[0m     \u001b[0;32melse\u001b[0m\u001b[0;34m:\u001b[0m\u001b[0;34m\u001b[0m\u001b[0;34m\u001b[0m\u001b[0m\n\u001b[1;32m    134\u001b[0m         \u001b[0;31m# Composite any adjacent images together\u001b[0m\u001b[0;34m\u001b[0m\u001b[0;34m\u001b[0m\u001b[0;34m\u001b[0m\u001b[0m\n",
      "\u001b[0;32m/opt/anaconda3/envs/vizz38/lib/python3.8/site-packages/matplotlib/artist.py\u001b[0m in \u001b[0;36mdraw_wrapper\u001b[0;34m(artist, renderer, *args, **kwargs)\u001b[0m\n\u001b[1;32m     49\u001b[0m                 \u001b[0mrenderer\u001b[0m\u001b[0;34m.\u001b[0m\u001b[0mstart_filter\u001b[0m\u001b[0;34m(\u001b[0m\u001b[0;34m)\u001b[0m\u001b[0;34m\u001b[0m\u001b[0;34m\u001b[0m\u001b[0m\n\u001b[1;32m     50\u001b[0m \u001b[0;34m\u001b[0m\u001b[0m\n\u001b[0;32m---> 51\u001b[0;31m             \u001b[0;32mreturn\u001b[0m \u001b[0mdraw\u001b[0m\u001b[0;34m(\u001b[0m\u001b[0martist\u001b[0m\u001b[0;34m,\u001b[0m \u001b[0mrenderer\u001b[0m\u001b[0;34m,\u001b[0m \u001b[0;34m*\u001b[0m\u001b[0margs\u001b[0m\u001b[0;34m,\u001b[0m \u001b[0;34m**\u001b[0m\u001b[0mkwargs\u001b[0m\u001b[0;34m)\u001b[0m\u001b[0;34m\u001b[0m\u001b[0;34m\u001b[0m\u001b[0m\n\u001b[0m\u001b[1;32m     52\u001b[0m         \u001b[0;32mfinally\u001b[0m\u001b[0;34m:\u001b[0m\u001b[0;34m\u001b[0m\u001b[0;34m\u001b[0m\u001b[0m\n\u001b[1;32m     53\u001b[0m             \u001b[0;32mif\u001b[0m \u001b[0martist\u001b[0m\u001b[0;34m.\u001b[0m\u001b[0mget_agg_filter\u001b[0m\u001b[0;34m(\u001b[0m\u001b[0;34m)\u001b[0m \u001b[0;32mis\u001b[0m \u001b[0;32mnot\u001b[0m \u001b[0;32mNone\u001b[0m\u001b[0;34m:\u001b[0m\u001b[0;34m\u001b[0m\u001b[0;34m\u001b[0m\u001b[0m\n",
      "\u001b[0;32m/opt/anaconda3/envs/vizz38/lib/python3.8/site-packages/matplotlib/axis.py\u001b[0m in \u001b[0;36mdraw\u001b[0;34m(self, renderer, *args, **kwargs)\u001b[0m\n\u001b[1;32m   1139\u001b[0m         \u001b[0mrenderer\u001b[0m\u001b[0;34m.\u001b[0m\u001b[0mopen_group\u001b[0m\u001b[0;34m(\u001b[0m\u001b[0m__name__\u001b[0m\u001b[0;34m,\u001b[0m \u001b[0mgid\u001b[0m\u001b[0;34m=\u001b[0m\u001b[0mself\u001b[0m\u001b[0;34m.\u001b[0m\u001b[0mget_gid\u001b[0m\u001b[0;34m(\u001b[0m\u001b[0;34m)\u001b[0m\u001b[0;34m)\u001b[0m\u001b[0;34m\u001b[0m\u001b[0;34m\u001b[0m\u001b[0m\n\u001b[1;32m   1140\u001b[0m \u001b[0;34m\u001b[0m\u001b[0m\n\u001b[0;32m-> 1141\u001b[0;31m         \u001b[0mticks_to_draw\u001b[0m \u001b[0;34m=\u001b[0m \u001b[0mself\u001b[0m\u001b[0;34m.\u001b[0m\u001b[0m_update_ticks\u001b[0m\u001b[0;34m(\u001b[0m\u001b[0;34m)\u001b[0m\u001b[0;34m\u001b[0m\u001b[0;34m\u001b[0m\u001b[0m\n\u001b[0m\u001b[1;32m   1142\u001b[0m         ticklabelBoxes, ticklabelBoxes2 = self._get_tick_bboxes(ticks_to_draw,\n\u001b[1;32m   1143\u001b[0m                                                                 renderer)\n",
      "\u001b[0;32m/opt/anaconda3/envs/vizz38/lib/python3.8/site-packages/matplotlib/axis.py\u001b[0m in \u001b[0;36m_update_ticks\u001b[0;34m(self)\u001b[0m\n\u001b[1;32m   1026\u001b[0m         \u001b[0mthe\u001b[0m \u001b[0maxes\u001b[0m\u001b[0;34m.\u001b[0m  \u001b[0mReturn\u001b[0m \u001b[0mthe\u001b[0m \u001b[0mlist\u001b[0m \u001b[0mof\u001b[0m \u001b[0mticks\u001b[0m \u001b[0mthat\u001b[0m \u001b[0mwill\u001b[0m \u001b[0mbe\u001b[0m \u001b[0mdrawn\u001b[0m\u001b[0;34m.\u001b[0m\u001b[0;34m\u001b[0m\u001b[0;34m\u001b[0m\u001b[0m\n\u001b[1;32m   1027\u001b[0m         \"\"\"\n\u001b[0;32m-> 1028\u001b[0;31m         \u001b[0mmajor_locs\u001b[0m \u001b[0;34m=\u001b[0m \u001b[0mself\u001b[0m\u001b[0;34m.\u001b[0m\u001b[0mget_majorticklocs\u001b[0m\u001b[0;34m(\u001b[0m\u001b[0;34m)\u001b[0m\u001b[0;34m\u001b[0m\u001b[0;34m\u001b[0m\u001b[0m\n\u001b[0m\u001b[1;32m   1029\u001b[0m         \u001b[0mmajor_labels\u001b[0m \u001b[0;34m=\u001b[0m \u001b[0mself\u001b[0m\u001b[0;34m.\u001b[0m\u001b[0mmajor\u001b[0m\u001b[0;34m.\u001b[0m\u001b[0mformatter\u001b[0m\u001b[0;34m.\u001b[0m\u001b[0mformat_ticks\u001b[0m\u001b[0;34m(\u001b[0m\u001b[0mmajor_locs\u001b[0m\u001b[0;34m)\u001b[0m\u001b[0;34m\u001b[0m\u001b[0;34m\u001b[0m\u001b[0m\n\u001b[1;32m   1030\u001b[0m         \u001b[0mmajor_ticks\u001b[0m \u001b[0;34m=\u001b[0m \u001b[0mself\u001b[0m\u001b[0;34m.\u001b[0m\u001b[0mget_major_ticks\u001b[0m\u001b[0;34m(\u001b[0m\u001b[0mlen\u001b[0m\u001b[0;34m(\u001b[0m\u001b[0mmajor_locs\u001b[0m\u001b[0;34m)\u001b[0m\u001b[0;34m)\u001b[0m\u001b[0;34m\u001b[0m\u001b[0;34m\u001b[0m\u001b[0m\n",
      "\u001b[0;32m/opt/anaconda3/envs/vizz38/lib/python3.8/site-packages/matplotlib/axis.py\u001b[0m in \u001b[0;36mget_majorticklocs\u001b[0;34m(self)\u001b[0m\n\u001b[1;32m   1258\u001b[0m     \u001b[0;32mdef\u001b[0m \u001b[0mget_majorticklocs\u001b[0m\u001b[0;34m(\u001b[0m\u001b[0mself\u001b[0m\u001b[0;34m)\u001b[0m\u001b[0;34m:\u001b[0m\u001b[0;34m\u001b[0m\u001b[0;34m\u001b[0m\u001b[0m\n\u001b[1;32m   1259\u001b[0m         \u001b[0;34m\"\"\"Return this Axis' major tick locations in data coordinates.\"\"\"\u001b[0m\u001b[0;34m\u001b[0m\u001b[0;34m\u001b[0m\u001b[0m\n\u001b[0;32m-> 1260\u001b[0;31m         \u001b[0;32mreturn\u001b[0m \u001b[0mself\u001b[0m\u001b[0;34m.\u001b[0m\u001b[0mmajor\u001b[0m\u001b[0;34m.\u001b[0m\u001b[0mlocator\u001b[0m\u001b[0;34m(\u001b[0m\u001b[0;34m)\u001b[0m\u001b[0;34m\u001b[0m\u001b[0;34m\u001b[0m\u001b[0m\n\u001b[0m\u001b[1;32m   1261\u001b[0m \u001b[0;34m\u001b[0m\u001b[0m\n\u001b[1;32m   1262\u001b[0m     \u001b[0;32mdef\u001b[0m \u001b[0mget_minorticklocs\u001b[0m\u001b[0;34m(\u001b[0m\u001b[0mself\u001b[0m\u001b[0;34m)\u001b[0m\u001b[0;34m:\u001b[0m\u001b[0;34m\u001b[0m\u001b[0;34m\u001b[0m\u001b[0m\n",
      "\u001b[0;32m/opt/anaconda3/envs/vizz38/lib/python3.8/site-packages/matplotlib/ticker.py\u001b[0m in \u001b[0;36m__call__\u001b[0;34m(self)\u001b[0m\n\u001b[1;32m   2262\u001b[0m     \u001b[0;32mdef\u001b[0m \u001b[0m__call__\u001b[0m\u001b[0;34m(\u001b[0m\u001b[0mself\u001b[0m\u001b[0;34m)\u001b[0m\u001b[0;34m:\u001b[0m\u001b[0;34m\u001b[0m\u001b[0;34m\u001b[0m\u001b[0m\n\u001b[1;32m   2263\u001b[0m         \u001b[0mvmin\u001b[0m\u001b[0;34m,\u001b[0m \u001b[0mvmax\u001b[0m \u001b[0;34m=\u001b[0m \u001b[0mself\u001b[0m\u001b[0;34m.\u001b[0m\u001b[0maxis\u001b[0m\u001b[0;34m.\u001b[0m\u001b[0mget_view_interval\u001b[0m\u001b[0;34m(\u001b[0m\u001b[0;34m)\u001b[0m\u001b[0;34m\u001b[0m\u001b[0;34m\u001b[0m\u001b[0m\n\u001b[0;32m-> 2264\u001b[0;31m         \u001b[0;32mreturn\u001b[0m \u001b[0mself\u001b[0m\u001b[0;34m.\u001b[0m\u001b[0mtick_values\u001b[0m\u001b[0;34m(\u001b[0m\u001b[0mvmin\u001b[0m\u001b[0;34m,\u001b[0m \u001b[0mvmax\u001b[0m\u001b[0;34m)\u001b[0m\u001b[0;34m\u001b[0m\u001b[0;34m\u001b[0m\u001b[0m\n\u001b[0m\u001b[1;32m   2265\u001b[0m \u001b[0;34m\u001b[0m\u001b[0m\n\u001b[1;32m   2266\u001b[0m     \u001b[0;32mdef\u001b[0m \u001b[0mtick_values\u001b[0m\u001b[0;34m(\u001b[0m\u001b[0mself\u001b[0m\u001b[0;34m,\u001b[0m \u001b[0mvmin\u001b[0m\u001b[0;34m,\u001b[0m \u001b[0mvmax\u001b[0m\u001b[0;34m)\u001b[0m\u001b[0;34m:\u001b[0m\u001b[0;34m\u001b[0m\u001b[0;34m\u001b[0m\u001b[0m\n",
      "\u001b[0;32m/opt/anaconda3/envs/vizz38/lib/python3.8/site-packages/matplotlib/ticker.py\u001b[0m in \u001b[0;36mtick_values\u001b[0;34m(self, vmin, vmax)\u001b[0m\n\u001b[1;32m   2270\u001b[0m         vmin, vmax = mtransforms.nonsingular(\n\u001b[1;32m   2271\u001b[0m             vmin, vmax, expander=1e-13, tiny=1e-14)\n\u001b[0;32m-> 2272\u001b[0;31m         \u001b[0mlocs\u001b[0m \u001b[0;34m=\u001b[0m \u001b[0mself\u001b[0m\u001b[0;34m.\u001b[0m\u001b[0m_raw_ticks\u001b[0m\u001b[0;34m(\u001b[0m\u001b[0mvmin\u001b[0m\u001b[0;34m,\u001b[0m \u001b[0mvmax\u001b[0m\u001b[0;34m)\u001b[0m\u001b[0;34m\u001b[0m\u001b[0;34m\u001b[0m\u001b[0m\n\u001b[0m\u001b[1;32m   2273\u001b[0m \u001b[0;34m\u001b[0m\u001b[0m\n\u001b[1;32m   2274\u001b[0m         \u001b[0mprune\u001b[0m \u001b[0;34m=\u001b[0m \u001b[0mself\u001b[0m\u001b[0;34m.\u001b[0m\u001b[0m_prune\u001b[0m\u001b[0;34m\u001b[0m\u001b[0;34m\u001b[0m\u001b[0m\n",
      "\u001b[0;32m/opt/anaconda3/envs/vizz38/lib/python3.8/site-packages/matplotlib/ticker.py\u001b[0m in \u001b[0;36m_raw_ticks\u001b[0;34m(self, vmin, vmax)\u001b[0m\n\u001b[1;32m   2209\u001b[0m         \u001b[0;32mif\u001b[0m \u001b[0mself\u001b[0m\u001b[0;34m.\u001b[0m\u001b[0m_nbins\u001b[0m \u001b[0;34m==\u001b[0m \u001b[0;34m'auto'\u001b[0m\u001b[0;34m:\u001b[0m\u001b[0;34m\u001b[0m\u001b[0;34m\u001b[0m\u001b[0m\n\u001b[1;32m   2210\u001b[0m             \u001b[0;32mif\u001b[0m \u001b[0mself\u001b[0m\u001b[0;34m.\u001b[0m\u001b[0maxis\u001b[0m \u001b[0;32mis\u001b[0m \u001b[0;32mnot\u001b[0m \u001b[0;32mNone\u001b[0m\u001b[0;34m:\u001b[0m\u001b[0;34m\u001b[0m\u001b[0;34m\u001b[0m\u001b[0m\n\u001b[0;32m-> 2211\u001b[0;31m                 nbins = np.clip(self.axis.get_tick_space(),\n\u001b[0m\u001b[1;32m   2212\u001b[0m                                 max(1, self._min_n_ticks - 1), 9)\n\u001b[1;32m   2213\u001b[0m             \u001b[0;32melse\u001b[0m\u001b[0;34m:\u001b[0m\u001b[0;34m\u001b[0m\u001b[0;34m\u001b[0m\u001b[0m\n",
      "\u001b[0;32m/opt/anaconda3/envs/vizz38/lib/python3.8/site-packages/matplotlib/axis.py\u001b[0m in \u001b[0;36mget_tick_space\u001b[0;34m(self)\u001b[0m\n\u001b[1;32m   2275\u001b[0m         \u001b[0msize\u001b[0m \u001b[0;34m=\u001b[0m \u001b[0mself\u001b[0m\u001b[0;34m.\u001b[0m\u001b[0m_get_tick_label_size\u001b[0m\u001b[0;34m(\u001b[0m\u001b[0;34m'x'\u001b[0m\u001b[0;34m)\u001b[0m \u001b[0;34m*\u001b[0m \u001b[0;36m3\u001b[0m\u001b[0;34m\u001b[0m\u001b[0;34m\u001b[0m\u001b[0m\n\u001b[1;32m   2276\u001b[0m         \u001b[0;32mif\u001b[0m \u001b[0msize\u001b[0m \u001b[0;34m>\u001b[0m \u001b[0;36m0\u001b[0m\u001b[0;34m:\u001b[0m\u001b[0;34m\u001b[0m\u001b[0;34m\u001b[0m\u001b[0m\n\u001b[0;32m-> 2277\u001b[0;31m             \u001b[0;32mreturn\u001b[0m \u001b[0mint\u001b[0m\u001b[0;34m(\u001b[0m\u001b[0mnp\u001b[0m\u001b[0;34m.\u001b[0m\u001b[0mfloor\u001b[0m\u001b[0;34m(\u001b[0m\u001b[0mlength\u001b[0m \u001b[0;34m/\u001b[0m \u001b[0msize\u001b[0m\u001b[0;34m)\u001b[0m\u001b[0;34m)\u001b[0m\u001b[0;34m\u001b[0m\u001b[0;34m\u001b[0m\u001b[0m\n\u001b[0m\u001b[1;32m   2278\u001b[0m         \u001b[0;32melse\u001b[0m\u001b[0;34m:\u001b[0m\u001b[0;34m\u001b[0m\u001b[0;34m\u001b[0m\u001b[0m\n\u001b[1;32m   2279\u001b[0m             \u001b[0;32mreturn\u001b[0m \u001b[0;36m2\u001b[0m\u001b[0;34m**\u001b[0m\u001b[0;36m31\u001b[0m \u001b[0;34m-\u001b[0m \u001b[0;36m1\u001b[0m\u001b[0;34m\u001b[0m\u001b[0;34m\u001b[0m\u001b[0m\n",
      "\u001b[0;31mValueError\u001b[0m: cannot convert float NaN to integer"
     ]
    },
    {
     "data": {
      "text/plain": [
       "<Figure size 720x720 with 2 Axes>"
      ]
     },
     "metadata": {
      "needs_background": "light"
     },
     "output_type": "display_data"
    }
   ],
   "source": [
    "n= '310492'\n",
    "fig, (ax1,ax2) = plt.subplots(nrows=1,ncols=2,figsize=(10,10))\n",
    "dff[dff['WDPA_PID']==n].geometry.plot(ax = ax1) \n",
    "sim3[sim3['WDPA_PID']==n].geometry.plot(ax = ax2)"
   ]
  },
  {
   "cell_type": "code",
   "execution_count": 128,
   "metadata": {},
   "outputs": [
    {
     "data": {
      "text/plain": [
       "<AxesSubplot:>"
      ]
     },
     "execution_count": 128,
     "metadata": {},
     "output_type": "execute_result"
    },
    {
     "data": {
      "image/png": "[encoded data removed]",
      "text/plain": [
       "<Figure size 720x720 with 2 Axes>"
      ]
     },
     "metadata": {
      "needs_background": "light"
     },
     "output_type": "display_data"
    }
   ],
   "source": [
    "n = '20609'\n",
    "fig, (ax1,ax2) = plt.subplots(nrows=1,ncols=2,figsize=(10,10))\n",
    "dff[dff['WDPA_PID']==n].geometry.plot(ax = ax1) \n",
    "sim3[sim3['WDPA_PID']==n].geometry.plot(ax = ax2)"
   ]
  },
  {
   "cell_type": "code",
   "execution_count": 129,
   "metadata": {},
   "outputs": [
    {
     "data": {
      "text/plain": [
       "<AxesSubplot:>"
      ]
     },
     "execution_count": 129,
     "metadata": {},
     "output_type": "execute_result"
    },
    {
     "data": {
      "image/png": "[encoded data removed]",
      "text/plain": [
       "<Figure size 720x720 with 2 Axes>"
      ]
     },
     "metadata": {
      "needs_background": "light"
     },
     "output_type": "display_data"
    }
   ],
   "source": [
    "n = '555534655'\n",
    "fig, (ax1,ax2) = plt.subplots(nrows=1,ncols=2,figsize=(10,10))\n",
    "dff[dff['WDPA_PID']==n].geometry.plot(ax = ax1) \n",
    "sim3[sim3['WDPA_PID']==n].geometry.plot(ax = ax2)"
   ]
  },
  {
   "cell_type": "code",
   "execution_count": 130,
   "metadata": {},
   "outputs": [
    {
     "data": {
      "text/plain": [
       "<AxesSubplot:>"
      ]
     },
     "execution_count": 130,
     "metadata": {},
     "output_type": "execute_result"
    },
    {
     "data": {
      "image/png": "[encoded data removed]",
      "text/plain": [
       "<Figure size 720x720 with 2 Axes>"
      ]
     },
     "metadata": {
      "needs_background": "light"
     },
     "output_type": "display_data"
    }
   ],
   "source": [
    "n = '555703244'\n",
    "fig, (ax1,ax2) = plt.subplots(nrows=1,ncols=2,figsize=(10,10))\n",
    "dff[dff['WDPA_PID']==n].geometry.plot(ax = ax1) \n",
    "sim3[sim3['WDPA_PID']==n].geometry.plot(ax = ax2)"
   ]
  },
  {
   "cell_type": "code",
   "execution_count": 132,
   "metadata": {},
   "outputs": [],
   "source": [
    "# Save file in local\n",
    "sim3.to_file(f'{path}/Simplifications/WDPA_Ter_Simp99_nspecies.geojson', driver= 'GeoJSON')"
   ]
  },
  {
   "cell_type": "code",
   "execution_count": 134,
   "metadata": {},
   "outputs": [],
   "source": [
    "sim1.to_file(f'{path}/Simplifications/WDPA_Terrestrial_Simplification50_nspecies.shp', driver= 'ESRI Shapefile')\n",
    "sim2.to_file(f'{path}/Simplifications/WDPA_Terrestrial_Simplification90_nspecies.shp', driver= 'ESRI Shapefile')\n",
    "sim3.to_file(f'{path}/Simplifications/WDPA_Terrestrial_Simplification99_nspecies.shp', driver= 'ESRI Shapefile')"
   ]
  },
  {
   "cell_type": "markdown",
   "metadata": {
    "jp-MarkdownHeadingCollapsed": true,
    "tags": []
   },
   "source": [
    "---------------\n",
    "## Marine WDPA (pending)"
   ]
  },
  {
   "cell_type": "code",
   "execution_count": 2,
   "metadata": {},
   "outputs": [],
   "source": [
    "# # Create unzipped folder so mapshaper can bring the shp\n",
    "# zipfile = '/Users/sofia/Documents/HE_Data/WDPA_FILTERED_20210615_FILTERED_all_with_oecm_wdpa_100mTol'\n",
    "# unzipfile = ZipFile(f'{zipfile}.zip').extractall(zipfile)"
   ]
  },
  {
   "cell_type": "code",
   "execution_count": null,
   "metadata": {},
   "outputs": [],
   "source": [
    "### Inspect file\n",
    "# gdf = gpd.read_file(file_in)"
   ]
  },
  {
   "cell_type": "code",
   "execution_count": 2,
   "metadata": {},
   "outputs": [
    {
     "data": {
      "text/plain": [
       "224133"
      ]
     },
     "execution_count": 2,
     "metadata": {},
     "output_type": "execute_result"
    }
   ],
   "source": [
    "# # Read file\n",
    "# gdf = gpd.read_file('zip:///Users/sofia/Documents/HE_Data/WDPA_FILTERED_20210615_FILTERED_all_with_oecm_wdpa_100mTol.zip')\n",
    "# len(gdf)"
   ]
  },
  {
   "cell_type": "code",
   "execution_count": 3,
   "metadata": {},
   "outputs": [
    {
     "data": {
      "text/html": [
       "<div>\n",
       "<style scoped>\n",
       "    .dataframe tbody tr th:only-of-type {\n",
       "        vertical-align: middle;\n",
       "    }\n",
       "\n",
       "    .dataframe tbody tr th {\n",
       "        vertical-align: top;\n",
       "    }\n",
       "\n",
       "    .dataframe thead th {\n",
       "        text-align: right;\n",
       "    }\n",
       "</style>\n",
       "<table border=\"1\" class=\"dataframe\">\n",
       "  <thead>\n",
       "    <tr style=\"text-align: right;\">\n",
       "      <th></th>\n",
       "      <th>WDPAID</th>\n",
       "      <th>WDPA_PID</th>\n",
       "      <th>PA_DEF</th>\n",
       "      <th>NAME</th>\n",
       "      <th>ORIG_NA</th>\n",
       "      <th>DESIG</th>\n",
       "      <th>DESIG_E</th>\n",
       "      <th>DESIG_T</th>\n",
       "      <th>IUCN_CA</th>\n",
       "      <th>INT_CRI</th>\n",
       "      <th>...</th>\n",
       "      <th>ISO3</th>\n",
       "      <th>SUPP_IN</th>\n",
       "      <th>CONS_OB</th>\n",
       "      <th>SORTER</th>\n",
       "      <th>WDPA_PID_h</th>\n",
       "      <th>WDPA_PID__</th>\n",
       "      <th>hash_vl</th>\n",
       "      <th>AREA_KM</th>\n",
       "      <th>MOL_ID</th>\n",
       "      <th>geometry</th>\n",
       "    </tr>\n",
       "  </thead>\n",
       "  <tbody>\n",
       "    <tr>\n",
       "      <th>177470</th>\n",
       "      <td>394131.0</td>\n",
       "      <td>394131</td>\n",
       "      <td>1</td>\n",
       "      <td>\"Fonds Gatot\" Et \"Laid Mâle\"</td>\n",
       "      <td>\"Fonds Gatot\" Et \"Laid Mâle\"</td>\n",
       "      <td>Site Naturel D'Interêt Scientifique</td>\n",
       "      <td>Scientific Interest Site (Walloon Region)</td>\n",
       "      <td>National</td>\n",
       "      <td>IV</td>\n",
       "      <td>Not Applicable</td>\n",
       "      <td>...</td>\n",
       "      <td>BEL</td>\n",
       "      <td>Not Applicable</td>\n",
       "      <td>Not Applicable</td>\n",
       "      <td>0.0</td>\n",
       "      <td>737c7794</td>\n",
       "      <td>-1628145044</td>\n",
       "      <td>-1628145044</td>\n",
       "      <td>0.100151</td>\n",
       "      <td>177471</td>\n",
       "      <td>MULTIPOLYGON (((4.76254 50.57918, 4.75696 50.5...</td>\n",
       "    </tr>\n",
       "  </tbody>\n",
       "</table>\n",
       "<p>1 rows × 37 columns</p>\n",
       "</div>"
      ],
      "text/plain": [
       "          WDPAID WDPA_PID PA_DEF                          NAME  \\\n",
       "177470  394131.0   394131      1  \"Fonds Gatot\" Et \"Laid Mâle\"   \n",
       "\n",
       "                             ORIG_NA                                DESIG  \\\n",
       "177470  \"Fonds Gatot\" Et \"Laid Mâle\"  Site Naturel D'Interêt Scientifique   \n",
       "\n",
       "                                          DESIG_E   DESIG_T IUCN_CA  \\\n",
       "177470  Scientific Interest Site (Walloon Region)  National      IV   \n",
       "\n",
       "               INT_CRI  ... ISO3         SUPP_IN         CONS_OB  SORTER  \\\n",
       "177470  Not Applicable  ...  BEL  Not Applicable  Not Applicable     0.0   \n",
       "\n",
       "        WDPA_PID_h  WDPA_PID__     hash_vl   AREA_KM  MOL_ID  \\\n",
       "177470    737c7794 -1628145044 -1628145044  0.100151  177471   \n",
       "\n",
       "                                                 geometry  \n",
       "177470  MULTIPOLYGON (((4.76254 50.57918, 4.75696 50.5...  \n",
       "\n",
       "[1 rows x 37 columns]"
      ]
     },
     "execution_count": 3,
     "metadata": {},
     "output_type": "execute_result"
    }
   ],
   "source": [
    "# gdf[gdf['WDPA_PID']=='394131'] # reading csv keeps original characters as they are"
   ]
  },
  {
   "attachments": {},
   "cell_type": "markdown",
   "metadata": {},
   "source": [
    "There are two WDPA that have weird geometries due to antimeridian: WDPA=220201 and WDPA= 555624810\n",
    "\n",
    "These geometries need to be replaced by the correct ones (downloaded from protected planet)\n"
   ]
  },
  {
   "cell_type": "code",
   "execution_count": 6,
   "metadata": {},
   "outputs": [],
   "source": [
    "# ## New geometries\n",
    "# new1 = gpd.read_file('zip:///Users/sofia/Documents/HE_Data/WDPA_220201.zip')\n",
    "# new2= gpd.read_file('zip:///Users/sofia/Documents/HE_Data/WDPA_555624810.zip')\n"
   ]
  },
  {
   "cell_type": "code",
   "execution_count": 7,
   "metadata": {},
   "outputs": [
    {
     "data": {
      "text/plain": [
       "<AxesSubplot:>"
      ]
     },
     "execution_count": 7,
     "metadata": {},
     "output_type": "execute_result"
    },
    {
     "data": {
      "image/png": "[encoded data removed]",
      "text/plain": [
       "<Figure size 720x720 with 2 Axes>"
      ]
     },
     "metadata": {
      "needs_background": "light"
     },
     "output_type": "display_data"
    }
   ],
   "source": [
    "# ## See example\n",
    "# n = 220201 \n",
    "# fig, (ax1,ax2) = plt.subplots(nrows=1,ncols=2,figsize=(10,10))\n",
    "# gdf[gdf['WDPAID']==n].geometry.plot(ax = ax1) \n",
    "# new1[new1['WDPAID']==n].geometry.plot(ax = ax2)"
   ]
  },
  {
   "cell_type": "code",
   "execution_count": 8,
   "metadata": {},
   "outputs": [
    {
     "data": {
      "text/plain": [
       "220579    MULTIPOLYGON (((-163.00000 25.38976, -163.0000...\n",
       "Name: geometry, dtype: geometry"
      ]
     },
     "execution_count": 8,
     "metadata": {},
     "output_type": "execute_result"
    }
   ],
   "source": [
    "# ## Get index for the geometry in gdf\n",
    "# gdf['geometry'][gdf['WDPA_PID'] == '220201']"
   ]
  },
  {
   "cell_type": "code",
   "execution_count": 9,
   "metadata": {},
   "outputs": [
    {
     "data": {
      "text/plain": [
       "0    POLYGON ((-180.00000 -76.00000, -180.00000 -73...\n",
       "Name: geometry, dtype: geometry"
      ]
     },
     "execution_count": 9,
     "metadata": {},
     "output_type": "execute_result"
    }
   ],
   "source": [
    "# ## Get index for geometry in new datasets\n",
    "# new2['geometry'][new2['WDPA_PID'] == '555624810_E']"
   ]
  },
  {
   "cell_type": "code",
   "execution_count": 10,
   "metadata": {},
   "outputs": [],
   "source": [
    "# ## Replace geometries with correct ones\n",
    "# gdf.loc[220579, 'geometry']= new1.loc[[0], 'geometry'].values\n",
    "# gdf.loc[207113, 'geometry']= new2.loc[[1], 'geometry'].values\n",
    "# gdf.loc[222498, 'geometry']= new2.loc[[2], 'geometry'].values\n",
    "# gdf.loc[222499, 'geometry']= new2.loc[[3], 'geometry'].values\n",
    "# gdf.loc[222500, 'geometry']= new2.loc[[4], 'geometry'].values\n",
    "# gdf.loc[222496, 'geometry']= new2.loc[[0], 'geometry'].values"
   ]
  },
  {
   "cell_type": "code",
   "execution_count": 11,
   "metadata": {},
   "outputs": [],
   "source": [
    "# # Create subset with only relevant columns\n",
    "# sub = gdf[['WDPAID','WDPA_PID','NAME','ORIG_NA','DESIG','DESIG_E','DESIG_T','IUCN_CA','MARINE','GOV_TYP','ISO3','OWN_TYP','AREA_KM','MOL_ID','geometry']]"
   ]
  },
  {
   "cell_type": "code",
   "execution_count": 13,
   "metadata": {},
   "outputs": [],
   "source": [
    "# # Save file in local\n",
    "# sub.to_file('/Users/sofia/Documents/HE_Data/WDPA_corrected', driver= 'ESRI Shapefile')"
   ]
  }
 ],
 "metadata": {
  "interpreter": {
   "hash": "4829cc13d368d943a62b17104ac97c1ea81b455d93d0d0d9a78d8f68633ebeb3"
  },
  "kernelspec": {
   "display_name": "Python 3.8.12 ('vizz38')",
   "language": "python",
   "name": "python3"
  },
  "language_info": {
   "codemirror_mode": {
    "name": "ipython",
    "version": 3
   },
   "file_extension": ".py",
   "mimetype": "text/x-python",
   "name": "python",
   "nbconvert_exporter": "python",
   "pygments_lexer": "ipython3",
   "version": "3.8.12"
  }
 },
 "nbformat": 4,
 "nbformat_minor": 4
}
