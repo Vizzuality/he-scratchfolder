{
 "cells": [
  {
   "cell_type": "markdown",
   "metadata": {},
   "source": [
    "# Simplification of WDPA to be used in AOI\n",
    "### Because the original WDPA layers are too heavy to be displayed, we create 3 simplified layers that will be used in different zoom levels:\n",
    "##### 1. Detailed view: this will use the most simplified version, one in which some geometries can be removed\n",
    "##### 2. Medium zoom levels: for this we will keep all geometries but simplify the geometries as much as possible\n",
    "##### 3. Global zoom: for this we need a slightly simplified layer that preserves the shapes as much as possible and keeps all the geometries (except those that have null geometries). This layer will be heavier and only displayed at very detailed zooms.\n",
    "#### The 3 simplifications will be made using mapshaper. We will base the simplification in the command used in Marxan, but testing different options to find the most efficient way to display each of these 3 layers.\n",
    "Mapshaper commad used in Marxan:\n",
    "!mapshaper -i /Users/tamarahuete/Documents/HALF_EARTH/Ecoregions2017_20210825.shp snap combine-files \\\n",
    "        -simplify 25% planar keep-shapes \\\n",
    "        -filter-islands min-vertices=3 min-area=10000m2 remove-empty \\\n",
    "        -filter-slivers min-area=10000m2 remove-empty \\\n",
    "        -clean rewind \\\n",
    "        -o /Users/tamarahuete/Documents/HALF_EARTH/Ecoregions2017_20210825_simple.shp format=shapefile force ndjson"
   ]
  },
  {
   "cell_type": "code",
   "execution_count": null,
   "metadata": {},
   "outputs": [],
   "source": [
    "# ## In terminal run to install mapshaper:\n",
    "# !nvm use 12.21.0\n",
    "# !npm i -g mapshaper@0.5.67"
   ]
  },
  {
   "cell_type": "code",
   "execution_count": 1,
   "metadata": {},
   "outputs": [],
   "source": [
    "import geopandas as gpd\n",
    "import matplotlib.pyplot as plt\n",
    "import pandas as pd\n",
    "import os\n",
    "import json\n",
    "from zipfile import ZipFile"
   ]
  },
  {
   "cell_type": "markdown",
   "metadata": {},
   "source": [
    "## Terrestrial WDPAs"
   ]
  },
  {
   "cell_type": "code",
   "execution_count": 2,
   "metadata": {},
   "outputs": [],
   "source": [
    "path = '/Users/sofia/Documents/HE_Data/WDPA'"
   ]
  },
  {
   "cell_type": "code",
   "execution_count": null,
   "metadata": {},
   "outputs": [],
   "source": [
    "# Original layer with only terrestrial (no marine) used for the AOI precalculated data.\n",
    "gdf = gpd.read_file(f'{path}/WDPA_FILTERED_20210615_FILTERED_nomarine_with_oecm_wdpa/WDPA_FILTERED_20210615_FILTERED_nomarine_with_oecm_wdpa.shp')\n",
    "\n",
    "# Repair geometries, in case some are invalid, and check how many are valid\n",
    "gdf['geometry'] = gdf['geometry'].buffer(0) # this is to repair geometries\n",
    "sum(gdf.is_valid) # 217429 geometries valid so only 57 invalid\n",
    "\n",
    "# Remove invalid geometries\n",
    "gdf2 = gdf[gdf['geometry'].is_valid]\n",
    "gdf2.to_file('/Users/sofia/Documents/HE_Data/WDPA/WDPA_FILTERED_20210615_FILTERED_nomarine_with_oecm_wdpa_corrected_geometries/WDPA_FILTERED_20210615_FILTERED_nomarine_with_oecm_wdpa_corrected_geometries.shp', driver= 'ESRI Shapefile')"
   ]
  },
  {
   "cell_type": "code",
   "execution_count": 3,
   "metadata": {},
   "outputs": [
    {
     "data": {
      "text/plain": [
       "217429"
      ]
     },
     "execution_count": 3,
     "metadata": {},
     "output_type": "execute_result"
    }
   ],
   "source": [
    "# Read file with terrestrial WDPA (corrected)\n",
    "gdf = gpd.read_file(f'{path}/WDPA_FILTERED_20210615_FILTERED_nomarine_with_oecm_wdpa_corrected_geometries/WDPA_FILTERED_20210615_FILTERED_nomarine_with_oecm_wdpa_corrected_geometries.shp')\n",
    "len(gdf)"
   ]
  },
  {
   "cell_type": "code",
   "execution_count": 4,
   "metadata": {},
   "outputs": [
    {
     "data": {
      "text/html": [
       "<div>\n",
       "<style scoped>\n",
       "    .dataframe tbody tr th:only-of-type {\n",
       "        vertical-align: middle;\n",
       "    }\n",
       "\n",
       "    .dataframe tbody tr th {\n",
       "        vertical-align: top;\n",
       "    }\n",
       "\n",
       "    .dataframe thead th {\n",
       "        text-align: right;\n",
       "    }\n",
       "</style>\n",
       "<table border=\"1\" class=\"dataframe\">\n",
       "  <thead>\n",
       "    <tr style=\"text-align: right;\">\n",
       "      <th></th>\n",
       "      <th>WDPAID</th>\n",
       "      <th>WDPA_PID</th>\n",
       "      <th>PA_DEF</th>\n",
       "      <th>NAME</th>\n",
       "      <th>ORIG_NA</th>\n",
       "      <th>DESIG</th>\n",
       "      <th>DESIG_E</th>\n",
       "      <th>DESIG_T</th>\n",
       "      <th>IUCN_CA</th>\n",
       "      <th>INT_CRI</th>\n",
       "      <th>...</th>\n",
       "      <th>ISO3</th>\n",
       "      <th>SUPP_IN</th>\n",
       "      <th>CONS_OB</th>\n",
       "      <th>SORTER</th>\n",
       "      <th>WDPA_PID_h</th>\n",
       "      <th>WDPA_PID__</th>\n",
       "      <th>hash_vl</th>\n",
       "      <th>AREA_KM</th>\n",
       "      <th>MOL_ID</th>\n",
       "      <th>geometry</th>\n",
       "    </tr>\n",
       "  </thead>\n",
       "  <tbody>\n",
       "    <tr>\n",
       "      <th>177470</th>\n",
       "      <td>394131.0</td>\n",
       "      <td>394131</td>\n",
       "      <td>1</td>\n",
       "      <td>\"Fonds Gatot\" Et \"Laid Mâle\"</td>\n",
       "      <td>\"Fonds Gatot\" Et \"Laid Mâle\"</td>\n",
       "      <td>Site Naturel D'Interêt Scientifique</td>\n",
       "      <td>Scientific Interest Site (Walloon Region)</td>\n",
       "      <td>National</td>\n",
       "      <td>IV</td>\n",
       "      <td>Not Applicable</td>\n",
       "      <td>...</td>\n",
       "      <td>BEL</td>\n",
       "      <td>Not Applicable</td>\n",
       "      <td>Not Applicable</td>\n",
       "      <td>0.0</td>\n",
       "      <td>737c7794</td>\n",
       "      <td>-1628145044</td>\n",
       "      <td>-1628145044</td>\n",
       "      <td>0.100151</td>\n",
       "      <td>177471</td>\n",
       "      <td>MULTIPOLYGON (((4.76386 50.58017, 4.76390 50.5...</td>\n",
       "    </tr>\n",
       "  </tbody>\n",
       "</table>\n",
       "<p>1 rows × 37 columns</p>\n",
       "</div>"
      ],
      "text/plain": [
       "          WDPAID WDPA_PID PA_DEF                          NAME  \\\n",
       "177470  394131.0   394131      1  \"Fonds Gatot\" Et \"Laid Mâle\"   \n",
       "\n",
       "                             ORIG_NA                                DESIG  \\\n",
       "177470  \"Fonds Gatot\" Et \"Laid Mâle\"  Site Naturel D'Interêt Scientifique   \n",
       "\n",
       "                                          DESIG_E   DESIG_T IUCN_CA  \\\n",
       "177470  Scientific Interest Site (Walloon Region)  National      IV   \n",
       "\n",
       "               INT_CRI  ... ISO3         SUPP_IN         CONS_OB  SORTER  \\\n",
       "177470  Not Applicable  ...  BEL  Not Applicable  Not Applicable     0.0   \n",
       "\n",
       "        WDPA_PID_h  WDPA_PID__     hash_vl   AREA_KM  MOL_ID  \\\n",
       "177470    737c7794 -1628145044 -1628145044  0.100151  177471   \n",
       "\n",
       "                                                 geometry  \n",
       "177470  MULTIPOLYGON (((4.76386 50.58017, 4.76390 50.5...  \n",
       "\n",
       "[1 rows x 37 columns]"
      ]
     },
     "execution_count": 4,
     "metadata": {},
     "output_type": "execute_result"
    }
   ],
   "source": [
    "gdf[gdf['WDPA_PID']=='394131'] # csv keeps original characters as they are"
   ]
  },
  {
   "cell_type": "code",
   "execution_count": 7,
   "metadata": {},
   "outputs": [
    {
     "data": {
      "text/html": [
       "<div>\n",
       "<style scoped>\n",
       "    .dataframe tbody tr th:only-of-type {\n",
       "        vertical-align: middle;\n",
       "    }\n",
       "\n",
       "    .dataframe tbody tr th {\n",
       "        vertical-align: top;\n",
       "    }\n",
       "\n",
       "    .dataframe thead th {\n",
       "        text-align: right;\n",
       "    }\n",
       "</style>\n",
       "<table border=\"1\" class=\"dataframe\">\n",
       "  <thead>\n",
       "    <tr style=\"text-align: right;\">\n",
       "      <th></th>\n",
       "      <th>WDPAID</th>\n",
       "      <th>WDPA_PID</th>\n",
       "      <th>PA_DEF</th>\n",
       "      <th>NAME</th>\n",
       "      <th>ORIG_NA</th>\n",
       "      <th>DESIG</th>\n",
       "      <th>DESIG_E</th>\n",
       "      <th>DESIG_T</th>\n",
       "      <th>IUCN_CA</th>\n",
       "      <th>INT_CRI</th>\n",
       "      <th>...</th>\n",
       "      <th>ISO3</th>\n",
       "      <th>SUPP_IN</th>\n",
       "      <th>CONS_OB</th>\n",
       "      <th>SORTER</th>\n",
       "      <th>WDPA_PID_h</th>\n",
       "      <th>WDPA_PID__</th>\n",
       "      <th>hash_vl</th>\n",
       "      <th>AREA_KM</th>\n",
       "      <th>MOL_ID</th>\n",
       "      <th>geometry</th>\n",
       "    </tr>\n",
       "  </thead>\n",
       "  <tbody>\n",
       "    <tr>\n",
       "      <th>90695</th>\n",
       "      <td>178339.0</td>\n",
       "      <td>178339</td>\n",
       "      <td>1</td>\n",
       "      <td>Bácsalmási Gyapjas Gy?sz?virág Term?helye Term...</td>\n",
       "      <td>Bácsalmási Gyapjas Gy?sz?virág Term?helye Term...</td>\n",
       "      <td>Természetvédelmi Terület</td>\n",
       "      <td>Nature Conservation Area</td>\n",
       "      <td>National</td>\n",
       "      <td>IV</td>\n",
       "      <td>Not Applicable</td>\n",
       "      <td>...</td>\n",
       "      <td>HUN</td>\n",
       "      <td>Not Applicable</td>\n",
       "      <td>Not Applicable</td>\n",
       "      <td>0.0</td>\n",
       "      <td>4a2e7c4e</td>\n",
       "      <td>1087259493</td>\n",
       "      <td>1087259493</td>\n",
       "      <td>0.038925</td>\n",
       "      <td>90696</td>\n",
       "      <td>POLYGON ((19.33125 46.09428, 19.33171 46.09425...</td>\n",
       "    </tr>\n",
       "  </tbody>\n",
       "</table>\n",
       "<p>1 rows × 37 columns</p>\n",
       "</div>"
      ],
      "text/plain": [
       "         WDPAID WDPA_PID PA_DEF  \\\n",
       "90695  178339.0   178339      1   \n",
       "\n",
       "                                                    NAME  \\\n",
       "90695  Bácsalmási Gyapjas Gy?sz?virág Term?helye Term...   \n",
       "\n",
       "                                                 ORIG_NA  \\\n",
       "90695  Bácsalmási Gyapjas Gy?sz?virág Term?helye Term...   \n",
       "\n",
       "                          DESIG                   DESIG_E   DESIG_T IUCN_CA  \\\n",
       "90695  Természetvédelmi Terület  Nature Conservation Area  National      IV   \n",
       "\n",
       "              INT_CRI  ... ISO3         SUPP_IN         CONS_OB  SORTER  \\\n",
       "90695  Not Applicable  ...  HUN  Not Applicable  Not Applicable     0.0   \n",
       "\n",
       "       WDPA_PID_h  WDPA_PID__     hash_vl   AREA_KM  MOL_ID  \\\n",
       "90695    4a2e7c4e  1087259493  1087259493  0.038925   90696   \n",
       "\n",
       "                                                geometry  \n",
       "90695  POLYGON ((19.33125 46.09428, 19.33171 46.09425...  \n",
       "\n",
       "[1 rows x 37 columns]"
      ]
     },
     "execution_count": 7,
     "metadata": {},
     "output_type": "execute_result"
    }
   ],
   "source": [
    "gdf[gdf['NAME'].str.contains('Bácsalmási')] # still, there are some names messed up in the original layer (probably due to previous manipulations)"
   ]
  },
  {
   "attachments": {},
   "cell_type": "markdown",
   "metadata": {},
   "source": [
    "Because converting the shp to json (for the simplification) changes the original characters of the names, so let's create a new gdf that only contains geometries and the MOL_ID of the WDPA and use it for the simplification. Then we'll join the required attributes from the original table to the resulting simplificated layer. "
   ]
  },
  {
   "cell_type": "code",
   "execution_count": 5,
   "metadata": {},
   "outputs": [],
   "source": [
    "gdf2 = gdf[['MOL_ID','geometry']]"
   ]
  },
  {
   "cell_type": "code",
   "execution_count": 6,
   "metadata": {},
   "outputs": [
    {
     "name": "stdout",
     "output_type": "stream",
     "text": [
      "CPU times: user 5min 12s, sys: 10.3 s, total: 5min 22s\n",
      "Wall time: 5min 27s\n"
     ]
    }
   ],
   "source": [
    "%%time\n",
    "# Save file in local\n",
    "gdf2.to_file(f'{path}/WDPA_Terrestrial_corrected_geomOnly', driver= 'ESRI Shapefile')"
   ]
  },
  {
   "cell_type": "markdown",
   "metadata": {},
   "source": [
    "### Simplifications"
   ]
  },
  {
   "cell_type": "markdown",
   "metadata": {
    "tags": []
   },
   "source": [
    "#### 1. Low simplification (to be used at large scales with a greater amount of detail)"
   ]
  },
  {
   "cell_type": "code",
   "execution_count": 3,
   "metadata": {},
   "outputs": [
    {
     "name": "stdout",
     "output_type": "stream",
     "text": [
      "Allocating 16 GB of heap memory\n",
      "[merge-layers] Use the target= option to specify multiple layers for merging\n",
      "[o] Wrote WDPA_test/1.json\n",
      "[o] Wrote WDPA_test/2.json\n",
      "[o] Wrote WDPA_test/3.json\n",
      "[o] Wrote WDPA_test/4.json\n",
      "[o] Wrote WDPA_test/5.json\n",
      "[o] Wrote WDPA_test/6.json\n",
      "[o] Wrote WDPA_test/7.json\n",
      "[o] Wrote WDPA_test/8.json\n",
      "[o] Wrote WDPA_test/9.json\n",
      "[o] Wrote WDPA_test/10.json\n",
      "[o] Wrote WDPA_test/11.json\n"
     ]
    }
   ],
   "source": [
    "# Break the shp into 12 json files to make the process more efficient\n",
    "!mapshaper-xl 16gb -i ./../../HE_Data/WDPA/WDPA_Terrestrial_corrected_geomOnly/*.shp no-topology combine-files \\\n",
    "    -merge-layers \\\n",
    "    -each \"group = Math.trunc(this.id/20000)+1\" \\\n",
    "    -split group \\\n",
    "    -o WDPA_test/ format=geojson precision=0.0001 force ndjson"
   ]
  },
  {
   "cell_type": "code",
   "execution_count": 4,
   "metadata": {},
   "outputs": [
    {
     "name": "stdout",
     "output_type": "stream",
     "text": [
      "Allocating 16 GB of heap memory\n",
      "[i] Snapped 0 points\n",
      "[simplify] Repaired 5,032 intersections; 9,944 intersections could not be repaired\n",
      "[o] Wrote WDPA_test/1.json\n",
      "[i] Snapped 0 points\n",
      "[simplify] Repaired 6,826 intersections; 32,382 intersections could not be repaired\n",
      "[o] Wrote WDPA_test/10.json\n",
      "[i] Snapped 0 points\n",
      "[simplify] Repaired 0 intersections; 49,309 intersections could not be repaired\n",
      "[o] Wrote WDPA_test/11.json\n",
      "[i] Snapped 0 points\n",
      "[simplify] Repaired 2,478 intersections; 16,006 intersections could not be repaired\n",
      "[o] Wrote WDPA_test/2.json\n",
      "[i] Snapped 0 points\n",
      "[simplify] Repaired 2,590 intersections; 33,808 intersections could not be repaired\n",
      "[o] Wrote WDPA_test/3.json\n",
      "[i] Snapped 0 points\n",
      "[simplify] Repaired 2,073 intersections; 14,770 intersections could not be repaired\n",
      "[o] Wrote WDPA_test/4.json\n",
      "[i] Snapped 0 points\n",
      "[simplify] Repaired 1,564 intersections; 24,268 intersections could not be repaired\n",
      "[o] Wrote WDPA_test/5.json\n",
      "[i] Snapped 0 points\n",
      "[simplify] Repaired 527 intersections; 45,889 intersections could not be repaired\n",
      "[o] Wrote WDPA_test/6.json\n",
      "[i] Snapped 0 points\n",
      "[simplify] Repaired 13,701 intersections; 71,522 intersections could not be repaired\n",
      "[o] Wrote WDPA_test/7.json\n",
      "[i] Snapped 0 points\n",
      "[simplify] Repaired 9,081 intersections; 30,590 intersections could not be repaired\n",
      "[o] Wrote WDPA_test/8.json\n",
      "[i] Snapped 0 points\n",
      "[simplify] Repaired 2,811 intersections; 24,433 intersections could not be repaired\n",
      "[o] Wrote WDPA_test/9.json\n",
      "CPU times: user 2.29 s, sys: 735 ms, total: 3.02 s\n",
      "Wall time: 3min\n"
     ]
    }
   ],
   "source": [
    "%%time\n",
    "# Only simplify (retains all geometries).\n",
    "!mapshaper-xl 16gb -i ./WDPA_test/*.json snap \\\n",
    "    -simplify 50% weighting=0.3 planar keep-shapes \\\n",
    "    -o WDPA_test/ format=geojson force ndjson"
   ]
  },
  {
   "cell_type": "code",
   "execution_count": 5,
   "metadata": {},
   "outputs": [
    {
     "name": "stdout",
     "output_type": "stream",
     "text": [
      "Allocating 16 GB of heap memory\n",
      "[info] \n",
      "=========================\n",
      "Layer:    [unnamed layer]\n",
      "-------------------------\n",
      "Type:     polygon\n",
      "Records:  217,429\n",
      "Nulls:     444\n",
      "Bounds:   -180,-85.4119,180,83.73\n",
      "CRS:      +proj=longlat +datum=WGS84\n",
      "Source:   ./WDPA_test/1.json\n",
      "\n",
      "Attribute data\n",
      "--------+-------------\n",
      " Field  | First value\n",
      "--------+-------------\n",
      " group  | 1\n",
      " MOL_ID | 1\n",
      "--------+-------------\n",
      "\n",
      "[o] Wrote WDPA_test/wdpa_simp1.shp\n",
      "[o] Wrote WDPA_test/wdpa_simp1.shx\n",
      "[o] Wrote WDPA_test/wdpa_simp1.dbf\n",
      "[o] Wrote WDPA_test/wdpa_simp1.prj\n"
     ]
    }
   ],
   "source": [
    "# Combine all json files in a shp. \n",
    "!mapshaper-xl 16gb -i ./WDPA_test/*.json combine-files -merge-layers -info -o WDPA_test/wdpa_simp1.shp"
   ]
  },
  {
   "cell_type": "code",
   "execution_count": 6,
   "metadata": {},
   "outputs": [
    {
     "data": {
      "text/plain": [
       "217429"
      ]
     },
     "execution_count": 6,
     "metadata": {},
     "output_type": "execute_result"
    }
   ],
   "source": [
    "sim1 = gpd.read_file('WDPA_test/wdpa_simp1.shp') # len 217429, retains all geometries\n",
    "len(sim1)"
   ]
  },
  {
   "cell_type": "code",
   "execution_count": 7,
   "metadata": {},
   "outputs": [],
   "source": [
    "## Set crs\n",
    "sim1 = sim1.set_crs('EPSG:4326') "
   ]
  },
  {
   "cell_type": "code",
   "execution_count": 8,
   "metadata": {},
   "outputs": [
    {
     "name": "stdout",
     "output_type": "stream",
     "text": [
      "CPU times: user 43min 16s, sys: 53.4 s, total: 44min 10s\n",
      "Wall time: 44min 45s\n"
     ]
    },
    {
     "data": {
      "text/plain": [
       "216983"
      ]
     },
     "execution_count": 8,
     "metadata": {},
     "output_type": "execute_result"
    }
   ],
   "source": [
    "%%time\n",
    "# Repair geometries, in case some are invalid after simplification, and check how many are valid\n",
    "sim1['geometry'] = sim1['geometry'].buffer(0) # this is to repair geometries\n",
    "sum(sim1.is_valid) # now 216983 geometries valid so there are still 446 invalid"
   ]
  },
  {
   "cell_type": "code",
   "execution_count": 9,
   "metadata": {},
   "outputs": [
    {
     "data": {
      "text/plain": [
       "216983"
      ]
     },
     "execution_count": 9,
     "metadata": {},
     "output_type": "execute_result"
    }
   ],
   "source": [
    "# Remove invalid geometries\n",
    "valid = sim1[sim1['geometry'].is_valid]\n",
    "len(valid)"
   ]
  },
  {
   "cell_type": "code",
   "execution_count": 10,
   "metadata": {},
   "outputs": [
    {
     "data": {
      "text/plain": [
       "446"
      ]
     },
     "execution_count": 10,
     "metadata": {},
     "output_type": "execute_result"
    }
   ],
   "source": [
    "# Let's check which are the invalid geometries \n",
    "list1 = list(valid['MOL_ID'].unique())\n",
    "list2 = list(sim1['MOL_ID'].unique())\n",
    "invalid = list(set(list2).difference(list1)) \n",
    "len(invalid)"
   ]
  },
  {
   "cell_type": "code",
   "execution_count": 12,
   "metadata": {},
   "outputs": [
    {
     "data": {
      "text/plain": [
       "116736"
      ]
     },
     "execution_count": 12,
     "metadata": {},
     "output_type": "execute_result"
    }
   ],
   "source": [
    "invalid[0]"
   ]
  },
  {
   "cell_type": "code",
   "execution_count": 15,
   "metadata": {},
   "outputs": [
    {
     "data": {
      "text/html": [
       "<div>\n",
       "<style scoped>\n",
       "    .dataframe tbody tr th:only-of-type {\n",
       "        vertical-align: middle;\n",
       "    }\n",
       "\n",
       "    .dataframe tbody tr th {\n",
       "        vertical-align: top;\n",
       "    }\n",
       "\n",
       "    .dataframe thead th {\n",
       "        text-align: right;\n",
       "    }\n",
       "</style>\n",
       "<table border=\"1\" class=\"dataframe\">\n",
       "  <thead>\n",
       "    <tr style=\"text-align: right;\">\n",
       "      <th></th>\n",
       "      <th>MOL_ID</th>\n",
       "      <th>geometry</th>\n",
       "    </tr>\n",
       "  </thead>\n",
       "  <tbody>\n",
       "    <tr>\n",
       "      <th>0</th>\n",
       "      <td>1</td>\n",
       "      <td>MULTIPOLYGON (((170.62750 -45.89520, 170.62820...</td>\n",
       "    </tr>\n",
       "  </tbody>\n",
       "</table>\n",
       "</div>"
      ],
      "text/plain": [
       "   MOL_ID                                           geometry\n",
       "0       1  MULTIPOLYGON (((170.62750 -45.89520, 170.62820..."
      ]
     },
     "execution_count": 15,
     "metadata": {},
     "output_type": "execute_result"
    }
   ],
   "source": [
    "# Remove these invalid geometries from sim1 \n",
    "sim1_valid = sim1[~sim1['MOL_ID'].isin(invalid)]\n",
    "sim1_valid = sim1_valid[['MOL_ID', 'geometry']]\n",
    "sim1_valid.head(1)"
   ]
  },
  {
   "cell_type": "code",
   "execution_count": 17,
   "metadata": {},
   "outputs": [
    {
     "data": {
      "text/plain": [
       "446"
      ]
     },
     "execution_count": 17,
     "metadata": {},
     "output_type": "execute_result"
    }
   ],
   "source": [
    "# Get geometries that were invalid in sim1 from orginal layer\n",
    "geom = gdf2[gdf2['MOL_ID'].isin(invalid)]\n",
    "len(geom)"
   ]
  },
  {
   "cell_type": "code",
   "execution_count": 18,
   "metadata": {},
   "outputs": [
    {
     "data": {
      "text/plain": [
       "217429"
      ]
     },
     "execution_count": 18,
     "metadata": {},
     "output_type": "execute_result"
    }
   ],
   "source": [
    "# Add valid geometries to sim1\n",
    "sim1 = pd.concat([sim1_valid, geom])\n",
    "len(sim1)"
   ]
  },
  {
   "cell_type": "code",
   "execution_count": 19,
   "metadata": {},
   "outputs": [
    {
     "data": {
      "text/html": [
       "<div>\n",
       "<style scoped>\n",
       "    .dataframe tbody tr th:only-of-type {\n",
       "        vertical-align: middle;\n",
       "    }\n",
       "\n",
       "    .dataframe tbody tr th {\n",
       "        vertical-align: top;\n",
       "    }\n",
       "\n",
       "    .dataframe thead th {\n",
       "        text-align: right;\n",
       "    }\n",
       "</style>\n",
       "<table border=\"1\" class=\"dataframe\">\n",
       "  <thead>\n",
       "    <tr style=\"text-align: right;\">\n",
       "      <th></th>\n",
       "      <th>WDPAID</th>\n",
       "      <th>WDPA_PID</th>\n",
       "      <th>PA_DEF</th>\n",
       "      <th>NAME</th>\n",
       "      <th>ORIG_NA</th>\n",
       "      <th>DESIG</th>\n",
       "      <th>DESIG_E</th>\n",
       "      <th>DESIG_T</th>\n",
       "      <th>IUCN_CA</th>\n",
       "      <th>INT_CRI</th>\n",
       "      <th>...</th>\n",
       "      <th>ISO3</th>\n",
       "      <th>SUPP_IN</th>\n",
       "      <th>CONS_OB</th>\n",
       "      <th>SORTER</th>\n",
       "      <th>WDPA_PID_h</th>\n",
       "      <th>WDPA_PID__</th>\n",
       "      <th>hash_vl</th>\n",
       "      <th>AREA_KM</th>\n",
       "      <th>MOL_ID</th>\n",
       "      <th>geometry</th>\n",
       "    </tr>\n",
       "  </thead>\n",
       "  <tbody>\n",
       "    <tr>\n",
       "      <th>0</th>\n",
       "      <td>310492.0</td>\n",
       "      <td>310492</td>\n",
       "      <td>1</td>\n",
       "      <td>Boulder Beach</td>\n",
       "      <td>Boulder Beach / WWF Block</td>\n",
       "      <td>Stewardship Area</td>\n",
       "      <td>Stewardship Area</td>\n",
       "      <td>National</td>\n",
       "      <td>III</td>\n",
       "      <td>Not Applicable</td>\n",
       "      <td>...</td>\n",
       "      <td>NZL</td>\n",
       "      <td>Not Applicable</td>\n",
       "      <td>Not Applicable</td>\n",
       "      <td>0.0</td>\n",
       "      <td>9cb933d7</td>\n",
       "      <td>1802338827</td>\n",
       "      <td>1802338827</td>\n",
       "      <td>1.136031</td>\n",
       "      <td>1</td>\n",
       "      <td>MULTIPOLYGON (((170.62746 -45.89520, 170.62824...</td>\n",
       "    </tr>\n",
       "  </tbody>\n",
       "</table>\n",
       "<p>1 rows × 37 columns</p>\n",
       "</div>"
      ],
      "text/plain": [
       "     WDPAID WDPA_PID PA_DEF           NAME                    ORIG_NA  \\\n",
       "0  310492.0   310492      1  Boulder Beach  Boulder Beach / WWF Block   \n",
       "\n",
       "              DESIG           DESIG_E   DESIG_T IUCN_CA         INT_CRI  ...  \\\n",
       "0  Stewardship Area  Stewardship Area  National     III  Not Applicable  ...   \n",
       "\n",
       "  ISO3         SUPP_IN         CONS_OB  SORTER  WDPA_PID_h  WDPA_PID__  \\\n",
       "0  NZL  Not Applicable  Not Applicable     0.0    9cb933d7  1802338827   \n",
       "\n",
       "      hash_vl   AREA_KM  MOL_ID  \\\n",
       "0  1802338827  1.136031       1   \n",
       "\n",
       "                                            geometry  \n",
       "0  MULTIPOLYGON (((170.62746 -45.89520, 170.62824...  \n",
       "\n",
       "[1 rows x 37 columns]"
      ]
     },
     "execution_count": 19,
     "metadata": {},
     "output_type": "execute_result"
    }
   ],
   "source": [
    "gdf = gpd.read_file(f'{path}/WDPA_FILTERED_20210615_FILTERED_nomarine_with_oecm_wdpa/WDPA_FILTERED_20210615_FILTERED_nomarine_with_oecm_wdpa.shp')\n",
    "gdf.head(1)"
   ]
  },
  {
   "cell_type": "code",
   "execution_count": 20,
   "metadata": {},
   "outputs": [
    {
     "data": {
      "text/html": [
       "<div>\n",
       "<style scoped>\n",
       "    .dataframe tbody tr th:only-of-type {\n",
       "        vertical-align: middle;\n",
       "    }\n",
       "\n",
       "    .dataframe tbody tr th {\n",
       "        vertical-align: top;\n",
       "    }\n",
       "\n",
       "    .dataframe thead th {\n",
       "        text-align: right;\n",
       "    }\n",
       "</style>\n",
       "<table border=\"1\" class=\"dataframe\">\n",
       "  <thead>\n",
       "    <tr style=\"text-align: right;\">\n",
       "      <th></th>\n",
       "      <th>MOL_ID</th>\n",
       "      <th>geometry</th>\n",
       "    </tr>\n",
       "  </thead>\n",
       "  <tbody>\n",
       "    <tr>\n",
       "      <th>0</th>\n",
       "      <td>1</td>\n",
       "      <td>MULTIPOLYGON (((170.62750 -45.89520, 170.62820...</td>\n",
       "    </tr>\n",
       "    <tr>\n",
       "      <th>1</th>\n",
       "      <td>2</td>\n",
       "      <td>POLYGON ((173.97640 -41.19260, 173.97350 -41.1...</td>\n",
       "    </tr>\n",
       "    <tr>\n",
       "      <th>2</th>\n",
       "      <td>3</td>\n",
       "      <td>POLYGON ((173.95690 -41.20980, 173.95510 -41.2...</td>\n",
       "    </tr>\n",
       "    <tr>\n",
       "      <th>3</th>\n",
       "      <td>4</td>\n",
       "      <td>POLYGON ((174.00240 -41.27340, 174.00340 -41.2...</td>\n",
       "    </tr>\n",
       "    <tr>\n",
       "      <th>4</th>\n",
       "      <td>5</td>\n",
       "      <td>MULTIPOLYGON (((169.53390 -46.44740, 169.53270...</td>\n",
       "    </tr>\n",
       "  </tbody>\n",
       "</table>\n",
       "</div>"
      ],
      "text/plain": [
       "   MOL_ID                                           geometry\n",
       "0       1  MULTIPOLYGON (((170.62750 -45.89520, 170.62820...\n",
       "1       2  POLYGON ((173.97640 -41.19260, 173.97350 -41.1...\n",
       "2       3  POLYGON ((173.95690 -41.20980, 173.95510 -41.2...\n",
       "3       4  POLYGON ((174.00240 -41.27340, 174.00340 -41.2...\n",
       "4       5  MULTIPOLYGON (((169.53390 -46.44740, 169.53270..."
      ]
     },
     "execution_count": 20,
     "metadata": {},
     "output_type": "execute_result"
    }
   ],
   "source": [
    "sim1.head()"
   ]
  },
  {
   "cell_type": "code",
   "execution_count": 21,
   "metadata": {},
   "outputs": [
    {
     "data": {
      "text/html": [
       "<div>\n",
       "<style scoped>\n",
       "    .dataframe tbody tr th:only-of-type {\n",
       "        vertical-align: middle;\n",
       "    }\n",
       "\n",
       "    .dataframe tbody tr th {\n",
       "        vertical-align: top;\n",
       "    }\n",
       "\n",
       "    .dataframe thead th {\n",
       "        text-align: right;\n",
       "    }\n",
       "</style>\n",
       "<table border=\"1\" class=\"dataframe\">\n",
       "  <thead>\n",
       "    <tr style=\"text-align: right;\">\n",
       "      <th></th>\n",
       "      <th>WDPAID</th>\n",
       "      <th>WDPA_PID</th>\n",
       "      <th>PA_DEF</th>\n",
       "      <th>NAME</th>\n",
       "      <th>ORIG_NA</th>\n",
       "      <th>DESIG</th>\n",
       "      <th>DESIG_E</th>\n",
       "      <th>DESIG_T</th>\n",
       "      <th>IUCN_CA</th>\n",
       "      <th>INT_CRI</th>\n",
       "      <th>...</th>\n",
       "      <th>PARENT_</th>\n",
       "      <th>ISO3</th>\n",
       "      <th>SUPP_IN</th>\n",
       "      <th>CONS_OB</th>\n",
       "      <th>SORTER</th>\n",
       "      <th>WDPA_PID_h</th>\n",
       "      <th>WDPA_PID__</th>\n",
       "      <th>hash_vl</th>\n",
       "      <th>AREA_KM</th>\n",
       "      <th>MOL_ID</th>\n",
       "    </tr>\n",
       "  </thead>\n",
       "  <tbody>\n",
       "    <tr>\n",
       "      <th>0</th>\n",
       "      <td>310492.0</td>\n",
       "      <td>310492</td>\n",
       "      <td>1</td>\n",
       "      <td>Boulder Beach</td>\n",
       "      <td>Boulder Beach / WWF Block</td>\n",
       "      <td>Stewardship Area</td>\n",
       "      <td>Stewardship Area</td>\n",
       "      <td>National</td>\n",
       "      <td>III</td>\n",
       "      <td>Not Applicable</td>\n",
       "      <td>...</td>\n",
       "      <td>NZL</td>\n",
       "      <td>NZL</td>\n",
       "      <td>Not Applicable</td>\n",
       "      <td>Not Applicable</td>\n",
       "      <td>0.0</td>\n",
       "      <td>9cb933d7</td>\n",
       "      <td>1802338827</td>\n",
       "      <td>1802338827</td>\n",
       "      <td>1.136031</td>\n",
       "      <td>1</td>\n",
       "    </tr>\n",
       "  </tbody>\n",
       "</table>\n",
       "<p>1 rows × 36 columns</p>\n",
       "</div>"
      ],
      "text/plain": [
       "     WDPAID WDPA_PID PA_DEF           NAME                    ORIG_NA  \\\n",
       "0  310492.0   310492      1  Boulder Beach  Boulder Beach / WWF Block   \n",
       "\n",
       "              DESIG           DESIG_E   DESIG_T IUCN_CA         INT_CRI  ...  \\\n",
       "0  Stewardship Area  Stewardship Area  National     III  Not Applicable  ...   \n",
       "\n",
       "  PARENT_  ISO3         SUPP_IN         CONS_OB  SORTER WDPA_PID_h  \\\n",
       "0     NZL   NZL  Not Applicable  Not Applicable     0.0   9cb933d7   \n",
       "\n",
       "   WDPA_PID__     hash_vl   AREA_KM MOL_ID  \n",
       "0  1802338827  1802338827  1.136031      1  \n",
       "\n",
       "[1 rows x 36 columns]"
      ]
     },
     "execution_count": 21,
     "metadata": {},
     "output_type": "execute_result"
    }
   ],
   "source": [
    "# Remove geometries from original file containing info about WDPA\n",
    "gdf_no_geom = gdf.drop(columns='geometry')\n",
    "gdf_no_geom.head(1)"
   ]
  },
  {
   "cell_type": "code",
   "execution_count": 22,
   "metadata": {},
   "outputs": [
    {
     "data": {
      "text/html": [
       "<div>\n",
       "<style scoped>\n",
       "    .dataframe tbody tr th:only-of-type {\n",
       "        vertical-align: middle;\n",
       "    }\n",
       "\n",
       "    .dataframe tbody tr th {\n",
       "        vertical-align: top;\n",
       "    }\n",
       "\n",
       "    .dataframe thead th {\n",
       "        text-align: right;\n",
       "    }\n",
       "</style>\n",
       "<table border=\"1\" class=\"dataframe\">\n",
       "  <thead>\n",
       "    <tr style=\"text-align: right;\">\n",
       "      <th></th>\n",
       "      <th>MOL_ID</th>\n",
       "      <th>geometry</th>\n",
       "      <th>WDPAID</th>\n",
       "      <th>WDPA_PID</th>\n",
       "      <th>PA_DEF</th>\n",
       "      <th>NAME</th>\n",
       "      <th>ORIG_NA</th>\n",
       "      <th>DESIG</th>\n",
       "      <th>DESIG_E</th>\n",
       "      <th>DESIG_T</th>\n",
       "      <th>...</th>\n",
       "      <th>SUB_LOC</th>\n",
       "      <th>PARENT_</th>\n",
       "      <th>ISO3</th>\n",
       "      <th>SUPP_IN</th>\n",
       "      <th>CONS_OB</th>\n",
       "      <th>SORTER</th>\n",
       "      <th>WDPA_PID_h</th>\n",
       "      <th>WDPA_PID__</th>\n",
       "      <th>hash_vl</th>\n",
       "      <th>AREA_KM</th>\n",
       "    </tr>\n",
       "  </thead>\n",
       "  <tbody>\n",
       "    <tr>\n",
       "      <th>0</th>\n",
       "      <td>1</td>\n",
       "      <td>MULTIPOLYGON (((170.62750 -45.89520, 170.62820...</td>\n",
       "      <td>310492.0</td>\n",
       "      <td>310492</td>\n",
       "      <td>1</td>\n",
       "      <td>Boulder Beach</td>\n",
       "      <td>Boulder Beach / WWF Block</td>\n",
       "      <td>Stewardship Area</td>\n",
       "      <td>Stewardship Area</td>\n",
       "      <td>National</td>\n",
       "      <td>...</td>\n",
       "      <td>NZ-OTA</td>\n",
       "      <td>NZL</td>\n",
       "      <td>NZL</td>\n",
       "      <td>Not Applicable</td>\n",
       "      <td>Not Applicable</td>\n",
       "      <td>0.0</td>\n",
       "      <td>9cb933d7</td>\n",
       "      <td>1802338827</td>\n",
       "      <td>1802338827</td>\n",
       "      <td>1.136031</td>\n",
       "    </tr>\n",
       "  </tbody>\n",
       "</table>\n",
       "<p>1 rows × 37 columns</p>\n",
       "</div>"
      ],
      "text/plain": [
       "   MOL_ID                                           geometry    WDPAID  \\\n",
       "0       1  MULTIPOLYGON (((170.62750 -45.89520, 170.62820...  310492.0   \n",
       "\n",
       "  WDPA_PID PA_DEF           NAME                    ORIG_NA             DESIG  \\\n",
       "0   310492      1  Boulder Beach  Boulder Beach / WWF Block  Stewardship Area   \n",
       "\n",
       "            DESIG_E   DESIG_T  ... SUB_LOC PARENT_ ISO3         SUPP_IN  \\\n",
       "0  Stewardship Area  National  ...  NZ-OTA     NZL  NZL  Not Applicable   \n",
       "\n",
       "          CONS_OB  SORTER  WDPA_PID_h  WDPA_PID__     hash_vl   AREA_KM  \n",
       "0  Not Applicable     0.0    9cb933d7  1802338827  1802338827  1.136031  \n",
       "\n",
       "[1 rows x 37 columns]"
      ]
     },
     "execution_count": 22,
     "metadata": {},
     "output_type": "execute_result"
    }
   ],
   "source": [
    "# Merge dataframe with only attributes (no geometry) with gdf containing simplified geometries\n",
    "sim1 = gpd.GeoDataFrame(pd.merge(sim1, gdf_no_geom,  how='left', left_on=['MOL_ID'], right_on = ['MOL_ID']))\n",
    "sim1.head(1)"
   ]
  },
  {
   "cell_type": "code",
   "execution_count": 23,
   "metadata": {},
   "outputs": [
    {
     "data": {
      "text/plain": [
       "Index(['MOL_ID', 'geometry', 'WDPAID', 'WDPA_PID', 'NAME', 'DESIG', 'DESIG_T',\n",
       "       'IUCN_CA', 'STATUS', 'GOV_TYP', 'MANG_AU', 'ISO3', 'AREA_KM2'],\n",
       "      dtype='object')"
      ]
     },
     "execution_count": 23,
     "metadata": {},
     "output_type": "execute_result"
    }
   ],
   "source": [
    "# Select only relevant attributes\n",
    "sim1 = sim1.rename(columns={'AREA_KM':'AREA_KM2'})\n",
    "sim1 = sim1[['MOL_ID', 'geometry', 'WDPAID', 'WDPA_PID', 'NAME', 'DESIG', 'DESIG_T',\n",
    "       'IUCN_CA', 'STATUS', 'GOV_TYP', 'MANG_AU', 'ISO3', 'AREA_KM2']]\n",
    "sim1.columns"
   ]
  },
  {
   "cell_type": "code",
   "execution_count": 43,
   "metadata": {},
   "outputs": [
    {
     "data": {
      "text/html": [
       "<div>\n",
       "<style scoped>\n",
       "    .dataframe tbody tr th:only-of-type {\n",
       "        vertical-align: middle;\n",
       "    }\n",
       "\n",
       "    .dataframe tbody tr th {\n",
       "        vertical-align: top;\n",
       "    }\n",
       "\n",
       "    .dataframe thead th {\n",
       "        text-align: right;\n",
       "    }\n",
       "</style>\n",
       "<table border=\"1\" class=\"dataframe\">\n",
       "  <thead>\n",
       "    <tr style=\"text-align: right;\">\n",
       "      <th></th>\n",
       "      <th>WDPAID</th>\n",
       "      <th>WDPA_PID</th>\n",
       "      <th>PA_DEF</th>\n",
       "      <th>NAME</th>\n",
       "      <th>ORIG_NA</th>\n",
       "      <th>DESIG</th>\n",
       "      <th>DESIG_E</th>\n",
       "      <th>DESIG_T</th>\n",
       "      <th>IUCN_CA</th>\n",
       "      <th>INT_CRI</th>\n",
       "      <th>...</th>\n",
       "      <th>ISO3</th>\n",
       "      <th>SUPP_IN</th>\n",
       "      <th>CONS_OB</th>\n",
       "      <th>SORTER</th>\n",
       "      <th>WDPA_PID_h</th>\n",
       "      <th>WDPA_PID__</th>\n",
       "      <th>hash_vl</th>\n",
       "      <th>AREA_KM</th>\n",
       "      <th>MOL_ID</th>\n",
       "      <th>geometry</th>\n",
       "    </tr>\n",
       "  </thead>\n",
       "  <tbody>\n",
       "    <tr>\n",
       "      <th>14317</th>\n",
       "      <td>55558010.0</td>\n",
       "      <td>55558010</td>\n",
       "      <td>1</td>\n",
       "      <td>Quinnipiac River</td>\n",
       "      <td>Quinnipiac River</td>\n",
       "      <td>State Park</td>\n",
       "      <td>State Park</td>\n",
       "      <td>National</td>\n",
       "      <td>III</td>\n",
       "      <td>Not Applicable</td>\n",
       "      <td>...</td>\n",
       "      <td>USA</td>\n",
       "      <td>Not Applicable</td>\n",
       "      <td>Not Applicable</td>\n",
       "      <td>0.0</td>\n",
       "      <td>69578420</td>\n",
       "      <td>-2072596068</td>\n",
       "      <td>-2072596068</td>\n",
       "      <td>1.407164</td>\n",
       "      <td>14318</td>\n",
       "      <td>MULTIPOLYGON (((-72.83994 41.44611, -72.84000 ...</td>\n",
       "    </tr>\n",
       "  </tbody>\n",
       "</table>\n",
       "<p>1 rows × 37 columns</p>\n",
       "</div>"
      ],
      "text/plain": [
       "           WDPAID  WDPA_PID PA_DEF              NAME           ORIG_NA  \\\n",
       "14317  55558010.0  55558010      1  Quinnipiac River  Quinnipiac River   \n",
       "\n",
       "            DESIG     DESIG_E   DESIG_T IUCN_CA         INT_CRI  ... ISO3  \\\n",
       "14317  State Park  State Park  National     III  Not Applicable  ...  USA   \n",
       "\n",
       "              SUPP_IN         CONS_OB  SORTER  WDPA_PID_h  WDPA_PID__  \\\n",
       "14317  Not Applicable  Not Applicable     0.0    69578420 -2072596068   \n",
       "\n",
       "          hash_vl   AREA_KM  MOL_ID  \\\n",
       "14317 -2072596068  1.407164   14318   \n",
       "\n",
       "                                                geometry  \n",
       "14317  MULTIPOLYGON (((-72.83994 41.44611, -72.84000 ...  \n",
       "\n",
       "[1 rows x 37 columns]"
      ]
     },
     "execution_count": 43,
     "metadata": {},
     "output_type": "execute_result"
    }
   ],
   "source": [
    "gdf[gdf['MOL_ID']==14318]"
   ]
  },
  {
   "cell_type": "code",
   "execution_count": 26,
   "metadata": {},
   "outputs": [
    {
     "data": {
      "text/plain": [
       "<AxesSubplot:>"
      ]
     },
     "execution_count": 26,
     "metadata": {},
     "output_type": "execute_result"
    },
    {
     "data": {
      "image/png": "[encoded data removed]",
      "text/plain": [
       "<Figure size 720x720 with 2 Axes>"
      ]
     },
     "metadata": {
      "needs_background": "light"
     },
     "output_type": "display_data"
    }
   ],
   "source": [
    "# Compare geometries in original and simplified dataset\n",
    "n= 14318\n",
    "fig, (ax1,ax2) = plt.subplots(nrows=1,ncols=2,figsize=(10,10))\n",
    "gdf[gdf['MOL_ID']==n].geometry.plot(ax = ax1) \n",
    "sim1[sim1['MOL_ID']==n].geometry.plot(ax = ax2)"
   ]
  },
  {
   "cell_type": "code",
   "execution_count": 27,
   "metadata": {},
   "outputs": [
    {
     "data": {
      "text/plain": [
       "<AxesSubplot:>"
      ]
     },
     "execution_count": 27,
     "metadata": {},
     "output_type": "execute_result"
    },
    {
     "data": {
      "image/png": "[encoded data removed]",
      "text/plain": [
       "<Figure size 720x720 with 2 Axes>"
      ]
     },
     "metadata": {
      "needs_background": "light"
     },
     "output_type": "display_data"
    }
   ],
   "source": [
    "# Compare geometries in original and simplified dataset\n",
    "n= '394131'\n",
    "fig, (ax1,ax2) = plt.subplots(nrows=1,ncols=2,figsize=(10,10))\n",
    "gdf[gdf['WDPA_PID']==n].geometry.plot(ax = ax1) \n",
    "sim1[sim1['WDPA_PID']==n].geometry.plot(ax = ax2)"
   ]
  },
  {
   "cell_type": "code",
   "execution_count": 28,
   "metadata": {},
   "outputs": [
    {
     "data": {
      "text/plain": [
       "<AxesSubplot:>"
      ]
     },
     "execution_count": 28,
     "metadata": {},
     "output_type": "execute_result"
    },
    {
     "data": {
      "image/png": "[encoded data removed]",
      "text/plain": [
       "<Figure size 720x720 with 2 Axes>"
      ]
     },
     "metadata": {
      "needs_background": "light"
     },
     "output_type": "display_data"
    }
   ],
   "source": [
    "n= '310492'\n",
    "fig, (ax1,ax2) = plt.subplots(nrows=1,ncols=2,figsize=(10,10))\n",
    "gdf[gdf['WDPA_PID']==n].geometry.plot(ax = ax1) \n",
    "sim1[sim1['WDPA_PID']==n].geometry.plot(ax = ax2)"
   ]
  },
  {
   "cell_type": "code",
   "execution_count": 29,
   "metadata": {},
   "outputs": [
    {
     "data": {
      "text/plain": [
       "<AxesSubplot:>"
      ]
     },
     "execution_count": 29,
     "metadata": {},
     "output_type": "execute_result"
    },
    {
     "data": {
      "image/png": "[encoded data removed]",
      "text/plain": [
       "<Figure size 720x720 with 2 Axes>"
      ]
     },
     "metadata": {
      "needs_background": "light"
     },
     "output_type": "display_data"
    }
   ],
   "source": [
    "n = '20609'\n",
    "fig, (ax1,ax2) = plt.subplots(nrows=1,ncols=2,figsize=(10,10))\n",
    "gdf[gdf['WDPA_PID']==n].geometry.plot(ax = ax1) \n",
    "sim1[sim1['WDPA_PID']==n].geometry.plot(ax = ax2)"
   ]
  },
  {
   "cell_type": "code",
   "execution_count": 30,
   "metadata": {},
   "outputs": [
    {
     "data": {
      "text/plain": [
       "<AxesSubplot:>"
      ]
     },
     "execution_count": 30,
     "metadata": {},
     "output_type": "execute_result"
    },
    {
     "data": {
      "image/png": "[encoded data removed]",
      "text/plain": [
       "<Figure size 720x720 with 2 Axes>"
      ]
     },
     "metadata": {
      "needs_background": "light"
     },
     "output_type": "display_data"
    }
   ],
   "source": [
    "n = '555534655'\n",
    "fig, (ax1,ax2) = plt.subplots(nrows=1,ncols=2,figsize=(10,10))\n",
    "gdf[gdf['WDPA_PID']==n].geometry.plot(ax = ax1) \n",
    "sim1[sim1['WDPA_PID']==n].geometry.plot(ax = ax2)"
   ]
  },
  {
   "cell_type": "code",
   "execution_count": 31,
   "metadata": {
    "tags": []
   },
   "outputs": [
    {
     "data": {
      "text/plain": [
       "<AxesSubplot:>"
      ]
     },
     "execution_count": 31,
     "metadata": {},
     "output_type": "execute_result"
    },
    {
     "data": {
      "image/png": "[encoded data removed]",
      "text/plain": [
       "<Figure size 720x720 with 2 Axes>"
      ]
     },
     "metadata": {
      "needs_background": "light"
     },
     "output_type": "display_data"
    }
   ],
   "source": [
    "n = '555703244'\n",
    "fig, (ax1,ax2) = plt.subplots(nrows=1,ncols=2,figsize=(10,10))\n",
    "gdf[gdf['WDPA_PID']==n].geometry.plot(ax = ax1) \n",
    "sim1[sim1['WDPA_PID']==n].geometry.plot(ax = ax2)"
   ]
  },
  {
   "cell_type": "code",
   "execution_count": 37,
   "metadata": {},
   "outputs": [
    {
     "data": {
      "text/plain": [
       "Index(['MOL_ID', 'geometry', 'WDPAID', 'WDPA_PID', 'NAME', 'DESIG', 'DESIG_T',\n",
       "       'IUCN_CA', 'STATUS', 'GOV_TYP', 'MANG_AU', 'ISO3', 'AREA_KM2'],\n",
       "      dtype='object')"
      ]
     },
     "execution_count": 37,
     "metadata": {},
     "output_type": "execute_result"
    }
   ],
   "source": [
    "sim1.columns"
   ]
  },
  {
   "cell_type": "code",
   "execution_count": 35,
   "metadata": {},
   "outputs": [],
   "source": [
    "# Add extra info from precalculated table needed for tooltips\n",
    "a = pd.read_csv('/Users/sofia/Documents/HE_Data/Precalculated/WDPA_Precalculated/Outputs/wdpa_precal_with_contextual_nspecies_all_AGOL.csv')"
   ]
  },
  {
   "cell_type": "code",
   "execution_count": 38,
   "metadata": {},
   "outputs": [
    {
     "data": {
      "text/plain": [
       "Index(['Unnamed: 0', 'Unnamed: 0.1', 'NAME', 'MOL_ID', 'AREA_KM2', 'WDPAID',\n",
       "       'DESIG', 'DESIG_E', 'DESIG_T', 'IUCN_CA', 'ISO3', 'amphibians', 'birds',\n",
       "       'mammals', 'reptiles', 'majority_land_cover_climate_regime',\n",
       "       'land_cover_majority', 'climate_regime_majority', 'percent_irrigated',\n",
       "       'percent_rainfed', 'percent_rangeland', 'percent_urban',\n",
       "       'population_sum', 'WDPA_PID', 'ORIG_NA', 'STATUS', 'STATUS_', 'GOV_TYP',\n",
       "       'amph_nspecies', 'bird_nspecies', 'mamm_nspecies', 'rept_nspecies',\n",
       "       'nspecies'],\n",
       "      dtype='object')"
      ]
     },
     "execution_count": 38,
     "metadata": {},
     "output_type": "execute_result"
    }
   ],
   "source": [
    "a.columns"
   ]
  },
  {
   "cell_type": "code",
   "execution_count": 39,
   "metadata": {},
   "outputs": [
    {
     "data": {
      "text/html": [
       "<div>\n",
       "<style scoped>\n",
       "    .dataframe tbody tr th:only-of-type {\n",
       "        vertical-align: middle;\n",
       "    }\n",
       "\n",
       "    .dataframe tbody tr th {\n",
       "        vertical-align: top;\n",
       "    }\n",
       "\n",
       "    .dataframe thead th {\n",
       "        text-align: right;\n",
       "    }\n",
       "</style>\n",
       "<table border=\"1\" class=\"dataframe\">\n",
       "  <thead>\n",
       "    <tr style=\"text-align: right;\">\n",
       "      <th></th>\n",
       "      <th>MOL_ID</th>\n",
       "      <th>DESIG_E</th>\n",
       "      <th>ORIG_NA</th>\n",
       "      <th>STATUS_</th>\n",
       "      <th>nspecies</th>\n",
       "    </tr>\n",
       "  </thead>\n",
       "  <tbody>\n",
       "    <tr>\n",
       "      <th>0</th>\n",
       "      <td>1</td>\n",
       "      <td>Stewardship Area</td>\n",
       "      <td>Boulder Beach / WWF Block</td>\n",
       "      <td>NaN</td>\n",
       "      <td>52.0</td>\n",
       "    </tr>\n",
       "  </tbody>\n",
       "</table>\n",
       "</div>"
      ],
      "text/plain": [
       "   MOL_ID           DESIG_E                    ORIG_NA  STATUS_  nspecies\n",
       "0       1  Stewardship Area  Boulder Beach / WWF Block      NaN      52.0"
      ]
     },
     "execution_count": 39,
     "metadata": {},
     "output_type": "execute_result"
    }
   ],
   "source": [
    "a2 = a[['MOL_ID', 'DESIG_E', 'ORIG_NA', 'STATUS_', 'nspecies']]\n",
    "a2.head(1)"
   ]
  },
  {
   "cell_type": "code",
   "execution_count": 40,
   "metadata": {},
   "outputs": [
    {
     "data": {
      "text/html": [
       "<div>\n",
       "<style scoped>\n",
       "    .dataframe tbody tr th:only-of-type {\n",
       "        vertical-align: middle;\n",
       "    }\n",
       "\n",
       "    .dataframe tbody tr th {\n",
       "        vertical-align: top;\n",
       "    }\n",
       "\n",
       "    .dataframe thead th {\n",
       "        text-align: right;\n",
       "    }\n",
       "</style>\n",
       "<table border=\"1\" class=\"dataframe\">\n",
       "  <thead>\n",
       "    <tr style=\"text-align: right;\">\n",
       "      <th></th>\n",
       "      <th>MOL_ID</th>\n",
       "      <th>geometry</th>\n",
       "      <th>WDPAID</th>\n",
       "      <th>WDPA_PID</th>\n",
       "      <th>NAME</th>\n",
       "      <th>DESIG</th>\n",
       "      <th>DESIG_T</th>\n",
       "      <th>IUCN_CA</th>\n",
       "      <th>STATUS</th>\n",
       "      <th>GOV_TYP</th>\n",
       "      <th>MANG_AU</th>\n",
       "      <th>ISO3</th>\n",
       "      <th>AREA_KM2</th>\n",
       "      <th>DESIG_E</th>\n",
       "      <th>ORIG_NA</th>\n",
       "      <th>STATUS_</th>\n",
       "      <th>nspecies</th>\n",
       "    </tr>\n",
       "  </thead>\n",
       "  <tbody>\n",
       "    <tr>\n",
       "      <th>0</th>\n",
       "      <td>1</td>\n",
       "      <td>MULTIPOLYGON (((170.62750 -45.89520, 170.62820...</td>\n",
       "      <td>310492.0</td>\n",
       "      <td>310492</td>\n",
       "      <td>Boulder Beach</td>\n",
       "      <td>Stewardship Area</td>\n",
       "      <td>National</td>\n",
       "      <td>III</td>\n",
       "      <td>Designated</td>\n",
       "      <td>Federal or national ministry or agency</td>\n",
       "      <td>Department of Conservation</td>\n",
       "      <td>NZL</td>\n",
       "      <td>1.136031</td>\n",
       "      <td>Stewardship Area</td>\n",
       "      <td>Boulder Beach / WWF Block</td>\n",
       "      <td>NaN</td>\n",
       "      <td>52.0</td>\n",
       "    </tr>\n",
       "  </tbody>\n",
       "</table>\n",
       "</div>"
      ],
      "text/plain": [
       "   MOL_ID                                           geometry    WDPAID  \\\n",
       "0       1  MULTIPOLYGON (((170.62750 -45.89520, 170.62820...  310492.0   \n",
       "\n",
       "  WDPA_PID           NAME             DESIG   DESIG_T IUCN_CA      STATUS  \\\n",
       "0   310492  Boulder Beach  Stewardship Area  National     III  Designated   \n",
       "\n",
       "                                  GOV_TYP                     MANG_AU ISO3  \\\n",
       "0  Federal or national ministry or agency  Department of Conservation  NZL   \n",
       "\n",
       "   AREA_KM2           DESIG_E                    ORIG_NA  STATUS_  nspecies  \n",
       "0  1.136031  Stewardship Area  Boulder Beach / WWF Block      NaN      52.0  "
      ]
     },
     "execution_count": 40,
     "metadata": {},
     "output_type": "execute_result"
    }
   ],
   "source": [
    "# Merge new attributes\n",
    "sim1 = gpd.GeoDataFrame(pd.merge(sim1, a2,  how='left', left_on=['MOL_ID'], right_on = ['MOL_ID']))\n",
    "sim1.head(1)"
   ]
  },
  {
   "cell_type": "code",
   "execution_count": 42,
   "metadata": {},
   "outputs": [
    {
     "data": {
      "text/plain": [
       "Index(['MOL_ID', 'geometry', 'WDPAID', 'WDPA_PID', 'NAME', 'DESIG', 'DESIG_T',\n",
       "       'IUCN_CA', 'STATUS', 'GOV_TYP', 'MANG_AU', 'ISO3', 'AREA_KM2',\n",
       "       'DESIG_E', 'ORIG_NA', 'STATUS_', 'nspecies'],\n",
       "      dtype='object')"
      ]
     },
     "execution_count": 42,
     "metadata": {},
     "output_type": "execute_result"
    }
   ],
   "source": [
    "sim1.columns"
   ]
  },
  {
   "cell_type": "code",
   "execution_count": 44,
   "metadata": {
    "tags": []
   },
   "outputs": [],
   "source": [
    "# Save file in local\n",
    "sim1.to_file(f'{path}/Simplifications/WDPA_Ter_Simp50_nspecies', driver= 'ESRI Shapefile')"
   ]
  },
  {
   "cell_type": "markdown",
   "metadata": {
    "jp-MarkdownHeadingCollapsed": true,
    "tags": []
   },
   "source": [
    "#### 2. Mid simplification (to be used at medium scales with a medium amount of detail)"
   ]
  },
  {
   "cell_type": "code",
   "execution_count": null,
   "metadata": {
    "tags": []
   },
   "outputs": [
    {
     "name": "stdout",
     "output_type": "stream",
     "text": [
      "Allocating 16 GB of heap memory\n",
      "[merge-layers] Use the target= option to specify multiple layers for merging\n",
      "[o] Wrote WDPA_test/1.json\n",
      "[o] Wrote WDPA_test/2.json\n",
      "[o] Wrote WDPA_test/3.json\n",
      "[o] Wrote WDPA_test/4.json\n",
      "[o] Wrote WDPA_test/5.json\n",
      "[o] Wrote WDPA_test/6.json\n",
      "[o] Wrote WDPA_test/7.json\n",
      "[o] Wrote WDPA_test/8.json\n",
      "[o] Wrote WDPA_test/9.json\n",
      "[o] Wrote WDPA_test/10.json\n",
      "[o] Wrote WDPA_test/11.json\n"
     ]
    }
   ],
   "source": [
    "# Break the shp into 12 json files to make the process more efficient\n",
    "!mapshaper-xl 16gb -i ./../../HE_Data/WDPA/WDPA_Terrestrial_corrected_geomOnly/*.shp no-topology combine-files \\\n",
    "    -merge-layers \\\n",
    "    -each \"group = Math.trunc(this.id/20000)+1\" \\\n",
    "    -split group \\\n",
    "    -o WDPA_test/ format=geojson precision=0.0001 force ndjson"
   ]
  },
  {
   "cell_type": "code",
   "execution_count": 6,
   "metadata": {},
   "outputs": [
    {
     "name": "stdout",
     "output_type": "stream",
     "text": [
      "Allocating 16 GB of heap memory\n",
      "[i] Snapped 0 points\n",
      "[simplify] Repaired 6,388 intersections; 5,114 intersections could not be repaired\n",
      "[filter-islands] Removed 36,413 islands\n",
      "[filter-slivers] Removed 9,518 slivers using 0.01+ sqkm variable threshold\n",
      "[clean] Removed 1,456 / 4,050 slivers using 0.086+ sqkm variable threshold\n",
      "[clean] Retained 16,808 of 18,439 features\n",
      "[o] Wrote WDPA_test/1.json\n",
      "[i] Snapped 0 points\n",
      "[simplify] Repaired 7,694 intersections; 17,475 intersections could not be repaired\n",
      "[filter-islands] Removed 32,399 islands\n",
      "[filter-slivers] Removed 9,511 slivers using 0.01+ sqkm variable threshold\n",
      "[clean] Removed 3,329 / 4,981 slivers using 0.065+ sqkm variable threshold\n",
      "[clean] Retained 16,504 of 18,509 features\n",
      "[o] Wrote WDPA_test/10.json\n",
      "[i] Snapped 0 points\n",
      "[simplify] Repaired 6,469 intersections; 18,108 intersections could not be repaired\n",
      "[filter-islands] Removed 51,380 islands\n",
      "[filter-slivers] Removed 30,747 slivers using 0.01+ sqkm variable threshold\n",
      "[clean] Removed 7,449 / 11,243 slivers using 0.043+ sqkm variable threshold\n",
      "[clean] Retained 15,000 of 16,319 features\n",
      "[o] Wrote WDPA_test/11.json\n",
      "[i] Snapped 0 points\n",
      "[simplify] Repaired 3,463 intersections; 9,044 intersections could not be repaired\n",
      "[filter-islands] Removed 46,081 islands\n",
      "[filter-slivers] Removed 11,092 slivers using 0.01+ sqkm variable threshold\n",
      "[clean] Removed 2,992 / 8,895 slivers using 0.1+ sqkm variable threshold\n",
      "[clean] Retained 15,545 of 17,594 features\n",
      "[o] Wrote WDPA_test/2.json\n",
      "[i] Snapped 0 points\n",
      "[simplify] Repaired 8,279 intersections; 18,428 intersections could not be repaired\n",
      "[filter-islands] Removed 45,469 islands\n",
      "[filter-slivers] Removed 73,953 slivers using 0.01+ sqkm variable threshold\n",
      "[clean] Removed 4,398 / 9,005 slivers using 0.1+ sqkm variable threshold\n",
      "[clean] Retained 17,043 of 18,616 features\n",
      "[o] Wrote WDPA_test/3.json\n",
      "[i] Snapped 0 points\n",
      "[simplify] Repaired 2,851 intersections; 7,984 intersections could not be repaired\n",
      "[filter-islands] Removed 29,041 islands\n",
      "[filter-slivers] Removed 6,281 slivers using 0.01+ sqkm variable threshold\n",
      "[clean] Removed 1,971 / 3,753 slivers using 0.088+ sqkm variable threshold\n",
      "[clean] Retained 15,645 of 17,764 features\n",
      "[o] Wrote WDPA_test/4.json\n",
      "[i] Snapped 0 points\n",
      "[simplify] Repaired 2,095 intersections; 14,093 intersections could not be repaired\n",
      "[filter-islands] Removed 49,551 islands\n",
      "[filter-slivers] Removed 9,402 slivers using 0.01+ sqkm variable threshold\n",
      "[clean] Removed 2,670 / 4,462 slivers using 0.097+ sqkm variable threshold\n",
      "[clean] Retained 16,050 of 18,204 features\n",
      "[o] Wrote WDPA_test/5.json\n",
      "[i] Snapped 0 points\n",
      "[simplify] Repaired 218 intersections; 26,896 intersections could not be repaired\n",
      "[filter-islands] Removed 37,734 islands\n",
      "[filter-slivers] Removed 11,514 slivers using 0.01+ sqkm variable threshold\n",
      "[clean] Removed 3,580 / 5,809 slivers using 0.078+ sqkm variable threshold\n",
      "[clean] Retained 16,599 of 18,567 features\n",
      "[o] Wrote WDPA_test/6.json\n",
      "[i] Snapped 0 points\n",
      "[simplify] Repaired 10,913 intersections; 38,845 intersections could not be repaired\n",
      "[filter-islands] Removed 43,996 islands\n",
      "[filter-slivers] Removed 11,463 slivers using 0.01+ sqkm variable threshold\n",
      "[clean] Removed 7,836 / 11,788 slivers using 0.07+ sqkm variable threshold\n",
      "[clean] Retained 16,704 of 18,758 features\n",
      "[o] Wrote WDPA_test/7.json\n",
      "[i] Snapped 0 points\n",
      "[simplify] Repaired 9,279 intersections; 15,460 intersections could not be repaired\n",
      "[filter-islands] Removed 36,069 islands\n",
      "[filter-slivers] Removed 7,185 slivers using 0.01+ sqkm variable threshold\n",
      "[clean] Removed 5,223 / 8,004 slivers using 0.065+ sqkm variable threshold\n",
      "[clean] Retained 16,058 of 18,546 features\n",
      "[o] Wrote WDPA_test/8.json\n",
      "[i] Snapped 0 points\n",
      "[simplify] Repaired 6,266 intersections; 12,340 intersections could not be repaired\n",
      "[filter-islands] Removed 30,548 islands\n",
      "[filter-slivers] Removed 8,240 slivers using 0.01+ sqkm variable threshold\n",
      "[clean] Removed 4,508 / 6,709 slivers using 0.071+ sqkm variable threshold\n",
      "[clean] Retained 14,777 of 17,469 features\n",
      "[o] Wrote WDPA_test/9.json\n",
      "CPU times: user 3.31 s, sys: 1.01 s, total: 4.32 s\n",
      "Wall time: 3min 59s\n"
     ]
    }
   ],
   "source": [
    "%%time\n",
    "# Only simplify (removes some geometries).\n",
    "!mapshaper-xl 16gb -i ./WDPA_test/*.json snap \\\n",
    "    -simplify 20% weighting=0.3 planar keep-shapes \\\n",
    "    -filter-islands min-vertices=3 min-area=10000m2 remove-empty \\\n",
    "    -filter-slivers min-area=10000m2 remove-empty \\\n",
    "    -clean rewind \\\n",
    "    -o WDPA_test/ format=geojson force ndjson"
   ]
  },
  {
   "cell_type": "code",
   "execution_count": 7,
   "metadata": {},
   "outputs": [
    {
     "name": "stdout",
     "output_type": "stream",
     "text": [
      "Allocating 16 GB of heap memory\n",
      "[info] \n",
      "=========================\n",
      "Layer:    [unnamed layer]\n",
      "-------------------------\n",
      "Type:     polygon\n",
      "Records:  176,733\n",
      "Bounds:   -179.9999,-69.4778,179.9999,83.73\n",
      "CRS:      +proj=longlat +datum=WGS84\n",
      "Source:   ./WDPA_test/1.json\n",
      "\n",
      "Attribute data\n",
      "--------+-------------\n",
      " Field  | First value\n",
      "--------+-------------\n",
      " group  | 1\n",
      " MOL_ID | 1\n",
      "--------+-------------\n",
      "\n",
      "[o] Wrote WDPA_test/wdpa_simp2.shp\n",
      "[o] Wrote WDPA_test/wdpa_simp2.shx\n",
      "[o] Wrote WDPA_test/wdpa_simp2.dbf\n",
      "[o] Wrote WDPA_test/wdpa_simp2.prj\n"
     ]
    }
   ],
   "source": [
    "# Combine all json files in a shp.\n",
    "!mapshaper-xl 16gb -i ./WDPA_test/*.json combine-files -merge-layers -info -o WDPA_test/wdpa_simp2.shp"
   ]
  },
  {
   "cell_type": "code",
   "execution_count": 8,
   "metadata": {},
   "outputs": [
    {
     "name": "stdout",
     "output_type": "stream",
     "text": [
      "CPU times: user 14.5 s, sys: 1.34 s, total: 15.8 s\n",
      "Wall time: 16 s\n"
     ]
    },
    {
     "data": {
      "text/plain": [
       "176733"
      ]
     },
     "execution_count": 8,
     "metadata": {},
     "output_type": "execute_result"
    }
   ],
   "source": [
    "%%time\n",
    "sim2 = gpd.read_file('WDPA_test/wdpa_simp2.shp') # len 217424, retains all geometries\n",
    "len(sim2)"
   ]
  },
  {
   "cell_type": "code",
   "execution_count": 9,
   "metadata": {},
   "outputs": [
    {
     "data": {
      "text/plain": [
       "40691"
      ]
     },
     "execution_count": 9,
     "metadata": {},
     "output_type": "execute_result"
    }
   ],
   "source": [
    "len(gdf)-len(sim2) # 40,691 geometries removed in this simplification"
   ]
  },
  {
   "cell_type": "code",
   "execution_count": 10,
   "metadata": {
    "tags": []
   },
   "outputs": [],
   "source": [
    "## Set crs\n",
    "sim2 = sim2.set_crs('EPSG:4326') "
   ]
  },
  {
   "cell_type": "code",
   "execution_count": 11,
   "metadata": {
    "tags": []
   },
   "outputs": [
    {
     "name": "stdout",
     "output_type": "stream",
     "text": [
      "CPU times: user 10min 33s, sys: 14.3 s, total: 10min 47s\n",
      "Wall time: 10min 56s\n"
     ]
    },
    {
     "data": {
      "text/plain": [
       "176733"
      ]
     },
     "execution_count": 11,
     "metadata": {},
     "output_type": "execute_result"
    }
   ],
   "source": [
    "%%time\n",
    "# Repair geometries, in case some are invalid after simplification, and check how many are valid\n",
    "sim2['geometry'] = sim2['geometry'].buffer(0) # this is to repair geometries\n",
    "sum(sim2.is_valid) # 176733 valid (the same after simplification)"
   ]
  },
  {
   "cell_type": "code",
   "execution_count": 14,
   "metadata": {},
   "outputs": [
    {
     "data": {
      "text/plain": [
       "176733"
      ]
     },
     "execution_count": 14,
     "metadata": {},
     "output_type": "execute_result"
    }
   ],
   "source": [
    "# Keep only valid geometries and remove the 442 invalid\n",
    "# sim2 = sim2[sim2['geometry'].is_valid]\n",
    "# len(sim2)"
   ]
  },
  {
   "cell_type": "code",
   "execution_count": 9,
   "metadata": {},
   "outputs": [
    {
     "data": {
      "text/html": [
       "<div>\n",
       "<style scoped>\n",
       "    .dataframe tbody tr th:only-of-type {\n",
       "        vertical-align: middle;\n",
       "    }\n",
       "\n",
       "    .dataframe tbody tr th {\n",
       "        vertical-align: top;\n",
       "    }\n",
       "\n",
       "    .dataframe thead th {\n",
       "        text-align: right;\n",
       "    }\n",
       "</style>\n",
       "<table border=\"1\" class=\"dataframe\">\n",
       "  <thead>\n",
       "    <tr style=\"text-align: right;\">\n",
       "      <th></th>\n",
       "      <th>WDPAID</th>\n",
       "      <th>WDPA_PID</th>\n",
       "      <th>NAME</th>\n",
       "      <th>DESIG</th>\n",
       "      <th>DESIG_T</th>\n",
       "      <th>IUCN_CA</th>\n",
       "      <th>STATUS</th>\n",
       "      <th>GOV_TYP</th>\n",
       "      <th>MANG_AU</th>\n",
       "      <th>ISO3</th>\n",
       "      <th>AREA_KM</th>\n",
       "      <th>MOL_ID</th>\n",
       "      <th>geometry</th>\n",
       "    </tr>\n",
       "  </thead>\n",
       "  <tbody>\n",
       "    <tr>\n",
       "      <th>0</th>\n",
       "      <td>310492.0</td>\n",
       "      <td>310492</td>\n",
       "      <td>Boulder Beach</td>\n",
       "      <td>Stewardship Area</td>\n",
       "      <td>National</td>\n",
       "      <td>III</td>\n",
       "      <td>Designated</td>\n",
       "      <td>Federal or national ministry or agency</td>\n",
       "      <td>Department of Conservation</td>\n",
       "      <td>NZL</td>\n",
       "      <td>1.137712</td>\n",
       "      <td>1</td>\n",
       "      <td>MULTIPOLYGON (((170.62746 -45.89520, 170.62824...</td>\n",
       "    </tr>\n",
       "  </tbody>\n",
       "</table>\n",
       "</div>"
      ],
      "text/plain": [
       "     WDPAID WDPA_PID           NAME             DESIG   DESIG_T IUCN_CA  \\\n",
       "0  310492.0   310492  Boulder Beach  Stewardship Area  National     III   \n",
       "\n",
       "       STATUS                                 GOV_TYP  \\\n",
       "0  Designated  Federal or national ministry or agency   \n",
       "\n",
       "                      MANG_AU ISO3   AREA_KM  MOL_ID  \\\n",
       "0  Department of Conservation  NZL  1.137712       1   \n",
       "\n",
       "                                            geometry  \n",
       "0  MULTIPOLYGON (((170.62746 -45.89520, 170.62824...  "
      ]
     },
     "execution_count": 9,
     "metadata": {},
     "output_type": "execute_result"
    }
   ],
   "source": [
    "gdf.head(1)"
   ]
  },
  {
   "cell_type": "code",
   "execution_count": 10,
   "metadata": {},
   "outputs": [
    {
     "data": {
      "text/html": [
       "<div>\n",
       "<style scoped>\n",
       "    .dataframe tbody tr th:only-of-type {\n",
       "        vertical-align: middle;\n",
       "    }\n",
       "\n",
       "    .dataframe tbody tr th {\n",
       "        vertical-align: top;\n",
       "    }\n",
       "\n",
       "    .dataframe thead th {\n",
       "        text-align: right;\n",
       "    }\n",
       "</style>\n",
       "<table border=\"1\" class=\"dataframe\">\n",
       "  <thead>\n",
       "    <tr style=\"text-align: right;\">\n",
       "      <th></th>\n",
       "      <th>MOL_ID</th>\n",
       "      <th>group</th>\n",
       "      <th>geometry</th>\n",
       "    </tr>\n",
       "  </thead>\n",
       "  <tbody>\n",
       "    <tr>\n",
       "      <th>0</th>\n",
       "      <td>1</td>\n",
       "      <td>1</td>\n",
       "      <td>MULTIPOLYGON (((170.62750 -45.89520, 170.62820...</td>\n",
       "    </tr>\n",
       "    <tr>\n",
       "      <th>1</th>\n",
       "      <td>2</td>\n",
       "      <td>1</td>\n",
       "      <td>POLYGON ((173.97640 -41.19260, 173.97590 -41.1...</td>\n",
       "    </tr>\n",
       "    <tr>\n",
       "      <th>2</th>\n",
       "      <td>3</td>\n",
       "      <td>1</td>\n",
       "      <td>POLYGON ((173.95690 -41.20980, 173.95580 -41.2...</td>\n",
       "    </tr>\n",
       "    <tr>\n",
       "      <th>3</th>\n",
       "      <td>4</td>\n",
       "      <td>1</td>\n",
       "      <td>POLYGON ((174.00240 -41.27340, 174.00310 -41.2...</td>\n",
       "    </tr>\n",
       "    <tr>\n",
       "      <th>4</th>\n",
       "      <td>5</td>\n",
       "      <td>1</td>\n",
       "      <td>MULTIPOLYGON (((169.30640 -46.57950, 169.30750...</td>\n",
       "    </tr>\n",
       "  </tbody>\n",
       "</table>\n",
       "</div>"
      ],
      "text/plain": [
       "   MOL_ID  group                                           geometry\n",
       "0       1      1  MULTIPOLYGON (((170.62750 -45.89520, 170.62820...\n",
       "1       2      1  POLYGON ((173.97640 -41.19260, 173.97590 -41.1...\n",
       "2       3      1  POLYGON ((173.95690 -41.20980, 173.95580 -41.2...\n",
       "3       4      1  POLYGON ((174.00240 -41.27340, 174.00310 -41.2...\n",
       "4       5      1  MULTIPOLYGON (((169.30640 -46.57950, 169.30750..."
      ]
     },
     "execution_count": 10,
     "metadata": {},
     "output_type": "execute_result"
    }
   ],
   "source": [
    "sim2.head()"
   ]
  },
  {
   "cell_type": "code",
   "execution_count": 15,
   "metadata": {},
   "outputs": [
    {
     "data": {
      "text/html": [
       "<div>\n",
       "<style scoped>\n",
       "    .dataframe tbody tr th:only-of-type {\n",
       "        vertical-align: middle;\n",
       "    }\n",
       "\n",
       "    .dataframe tbody tr th {\n",
       "        vertical-align: top;\n",
       "    }\n",
       "\n",
       "    .dataframe thead th {\n",
       "        text-align: right;\n",
       "    }\n",
       "</style>\n",
       "<table border=\"1\" class=\"dataframe\">\n",
       "  <thead>\n",
       "    <tr style=\"text-align: right;\">\n",
       "      <th></th>\n",
       "      <th>MOL_ID</th>\n",
       "      <th>geometry</th>\n",
       "    </tr>\n",
       "  </thead>\n",
       "  <tbody>\n",
       "    <tr>\n",
       "      <th>0</th>\n",
       "      <td>1</td>\n",
       "      <td>MULTIPOLYGON (((170.62750 -45.89520, 170.62890...</td>\n",
       "    </tr>\n",
       "    <tr>\n",
       "      <th>1</th>\n",
       "      <td>2</td>\n",
       "      <td>POLYGON ((173.97640 -41.19260, 173.97110 -41.1...</td>\n",
       "    </tr>\n",
       "    <tr>\n",
       "      <th>2</th>\n",
       "      <td>3</td>\n",
       "      <td>POLYGON ((173.95690 -41.20980, 173.95510 -41.2...</td>\n",
       "    </tr>\n",
       "    <tr>\n",
       "      <th>3</th>\n",
       "      <td>4</td>\n",
       "      <td>POLYGON ((174.00240 -41.27340, 174.00880 -41.2...</td>\n",
       "    </tr>\n",
       "    <tr>\n",
       "      <th>4</th>\n",
       "      <td>5</td>\n",
       "      <td>MULTIPOLYGON (((169.53390 -46.44740, 169.53120...</td>\n",
       "    </tr>\n",
       "  </tbody>\n",
       "</table>\n",
       "</div>"
      ],
      "text/plain": [
       "   MOL_ID                                           geometry\n",
       "0       1  MULTIPOLYGON (((170.62750 -45.89520, 170.62890...\n",
       "1       2  POLYGON ((173.97640 -41.19260, 173.97110 -41.1...\n",
       "2       3  POLYGON ((173.95690 -41.20980, 173.95510 -41.2...\n",
       "3       4  POLYGON ((174.00240 -41.27340, 174.00880 -41.2...\n",
       "4       5  MULTIPOLYGON (((169.53390 -46.44740, 169.53120..."
      ]
     },
     "execution_count": 15,
     "metadata": {},
     "output_type": "execute_result"
    }
   ],
   "source": [
    "sim2 = sim2.drop(columns={'group'})\n",
    "sim2.head()"
   ]
  },
  {
   "cell_type": "code",
   "execution_count": 16,
   "metadata": {},
   "outputs": [
    {
     "data": {
      "text/html": [
       "<div>\n",
       "<style scoped>\n",
       "    .dataframe tbody tr th:only-of-type {\n",
       "        vertical-align: middle;\n",
       "    }\n",
       "\n",
       "    .dataframe tbody tr th {\n",
       "        vertical-align: top;\n",
       "    }\n",
       "\n",
       "    .dataframe thead th {\n",
       "        text-align: right;\n",
       "    }\n",
       "</style>\n",
       "<table border=\"1\" class=\"dataframe\">\n",
       "  <thead>\n",
       "    <tr style=\"text-align: right;\">\n",
       "      <th></th>\n",
       "      <th>WDPAID</th>\n",
       "      <th>WDPA_PID</th>\n",
       "      <th>NAME</th>\n",
       "      <th>DESIG</th>\n",
       "      <th>DESIG_T</th>\n",
       "      <th>IUCN_CA</th>\n",
       "      <th>STATUS</th>\n",
       "      <th>GOV_TYP</th>\n",
       "      <th>MANG_AU</th>\n",
       "      <th>ISO3</th>\n",
       "      <th>AREA_KM</th>\n",
       "      <th>MOL_ID</th>\n",
       "    </tr>\n",
       "  </thead>\n",
       "  <tbody>\n",
       "    <tr>\n",
       "      <th>0</th>\n",
       "      <td>310492.0</td>\n",
       "      <td>310492</td>\n",
       "      <td>Boulder Beach</td>\n",
       "      <td>Stewardship Area</td>\n",
       "      <td>National</td>\n",
       "      <td>III</td>\n",
       "      <td>Designated</td>\n",
       "      <td>Federal or national ministry or agency</td>\n",
       "      <td>Department of Conservation</td>\n",
       "      <td>NZL</td>\n",
       "      <td>1.137712</td>\n",
       "      <td>1</td>\n",
       "    </tr>\n",
       "  </tbody>\n",
       "</table>\n",
       "</div>"
      ],
      "text/plain": [
       "     WDPAID WDPA_PID           NAME             DESIG   DESIG_T IUCN_CA  \\\n",
       "0  310492.0   310492  Boulder Beach  Stewardship Area  National     III   \n",
       "\n",
       "       STATUS                                 GOV_TYP  \\\n",
       "0  Designated  Federal or national ministry or agency   \n",
       "\n",
       "                      MANG_AU ISO3   AREA_KM  MOL_ID  \n",
       "0  Department of Conservation  NZL  1.137712       1  "
      ]
     },
     "execution_count": 16,
     "metadata": {},
     "output_type": "execute_result"
    }
   ],
   "source": [
    "gdf_no_geom = gdf.drop(columns='geometry')\n",
    "gdf_no_geom.head(1)"
   ]
  },
  {
   "cell_type": "code",
   "execution_count": 17,
   "metadata": {},
   "outputs": [
    {
     "data": {
      "text/html": [
       "<div>\n",
       "<style scoped>\n",
       "    .dataframe tbody tr th:only-of-type {\n",
       "        vertical-align: middle;\n",
       "    }\n",
       "\n",
       "    .dataframe tbody tr th {\n",
       "        vertical-align: top;\n",
       "    }\n",
       "\n",
       "    .dataframe thead th {\n",
       "        text-align: right;\n",
       "    }\n",
       "</style>\n",
       "<table border=\"1\" class=\"dataframe\">\n",
       "  <thead>\n",
       "    <tr style=\"text-align: right;\">\n",
       "      <th></th>\n",
       "      <th>MOL_ID</th>\n",
       "      <th>geometry</th>\n",
       "      <th>WDPAID</th>\n",
       "      <th>WDPA_PID</th>\n",
       "      <th>NAME</th>\n",
       "      <th>DESIG</th>\n",
       "      <th>DESIG_T</th>\n",
       "      <th>IUCN_CA</th>\n",
       "      <th>STATUS</th>\n",
       "      <th>GOV_TYP</th>\n",
       "      <th>MANG_AU</th>\n",
       "      <th>ISO3</th>\n",
       "      <th>AREA_KM</th>\n",
       "    </tr>\n",
       "  </thead>\n",
       "  <tbody>\n",
       "    <tr>\n",
       "      <th>0</th>\n",
       "      <td>1</td>\n",
       "      <td>MULTIPOLYGON (((170.62750 -45.89520, 170.62890...</td>\n",
       "      <td>310492.0</td>\n",
       "      <td>310492</td>\n",
       "      <td>Boulder Beach</td>\n",
       "      <td>Stewardship Area</td>\n",
       "      <td>National</td>\n",
       "      <td>III</td>\n",
       "      <td>Designated</td>\n",
       "      <td>Federal or national ministry or agency</td>\n",
       "      <td>Department of Conservation</td>\n",
       "      <td>NZL</td>\n",
       "      <td>1.137712</td>\n",
       "    </tr>\n",
       "  </tbody>\n",
       "</table>\n",
       "</div>"
      ],
      "text/plain": [
       "   MOL_ID                                           geometry    WDPAID  \\\n",
       "0       1  MULTIPOLYGON (((170.62750 -45.89520, 170.62890...  310492.0   \n",
       "\n",
       "  WDPA_PID           NAME             DESIG   DESIG_T IUCN_CA      STATUS  \\\n",
       "0   310492  Boulder Beach  Stewardship Area  National     III  Designated   \n",
       "\n",
       "                                  GOV_TYP                     MANG_AU ISO3  \\\n",
       "0  Federal or national ministry or agency  Department of Conservation  NZL   \n",
       "\n",
       "    AREA_KM  \n",
       "0  1.137712  "
      ]
     },
     "execution_count": 17,
     "metadata": {},
     "output_type": "execute_result"
    }
   ],
   "source": [
    "import pandas as pd\n",
    "sim2 = gpd.GeoDataFrame(pd.merge(sim2, gdf_no_geom,  how='left', left_on=['MOL_ID'], right_on = ['MOL_ID']))\n",
    "sim2.head(1)"
   ]
  },
  {
   "cell_type": "code",
   "execution_count": 18,
   "metadata": {},
   "outputs": [
    {
     "data": {
      "text/plain": [
       "Index(['MOL_ID', 'geometry', 'WDPAID', 'WDPA_PID', 'NAME', 'DESIG', 'DESIG_T',\n",
       "       'IUCN_CA', 'STATUS', 'GOV_TYP', 'MANG_AU', 'ISO3', 'AREA_KM2'],\n",
       "      dtype='object')"
      ]
     },
     "execution_count": 18,
     "metadata": {},
     "output_type": "execute_result"
    }
   ],
   "source": [
    "sim2 = sim2.rename(columns={'AREA_KM':'AREA_KM2'})\n",
    "sim2.columns"
   ]
  },
  {
   "cell_type": "code",
   "execution_count": 19,
   "metadata": {},
   "outputs": [
    {
     "data": {
      "text/plain": [
       "176733"
      ]
     },
     "execution_count": 19,
     "metadata": {},
     "output_type": "execute_result"
    }
   ],
   "source": [
    "len(sim2)"
   ]
  },
  {
   "cell_type": "code",
   "execution_count": 20,
   "metadata": {},
   "outputs": [
    {
     "data": {
      "text/html": [
       "<div>\n",
       "<style scoped>\n",
       "    .dataframe tbody tr th:only-of-type {\n",
       "        vertical-align: middle;\n",
       "    }\n",
       "\n",
       "    .dataframe tbody tr th {\n",
       "        vertical-align: top;\n",
       "    }\n",
       "\n",
       "    .dataframe thead th {\n",
       "        text-align: right;\n",
       "    }\n",
       "</style>\n",
       "<table border=\"1\" class=\"dataframe\">\n",
       "  <thead>\n",
       "    <tr style=\"text-align: right;\">\n",
       "      <th></th>\n",
       "      <th>WDPAID</th>\n",
       "      <th>WDPA_PID</th>\n",
       "      <th>NAME</th>\n",
       "      <th>DESIG</th>\n",
       "      <th>DESIG_T</th>\n",
       "      <th>IUCN_CA</th>\n",
       "      <th>STATUS</th>\n",
       "      <th>GOV_TYP</th>\n",
       "      <th>MANG_AU</th>\n",
       "      <th>ISO3</th>\n",
       "      <th>AREA_KM</th>\n",
       "      <th>MOL_ID</th>\n",
       "      <th>geometry</th>\n",
       "    </tr>\n",
       "  </thead>\n",
       "  <tbody>\n",
       "    <tr>\n",
       "      <th>14317</th>\n",
       "      <td>55558010.0</td>\n",
       "      <td>55558010</td>\n",
       "      <td>Quinnipiac River</td>\n",
       "      <td>State Park</td>\n",
       "      <td>National</td>\n",
       "      <td>III</td>\n",
       "      <td>Designated</td>\n",
       "      <td>Sub-national ministry or agency</td>\n",
       "      <td>Other or Unknown State Land ; State Department...</td>\n",
       "      <td>USA</td>\n",
       "      <td>1.411278</td>\n",
       "      <td>14318</td>\n",
       "      <td>MULTIPOLYGON (((-72.84705 41.44000, -72.84750 ...</td>\n",
       "    </tr>\n",
       "  </tbody>\n",
       "</table>\n",
       "</div>"
      ],
      "text/plain": [
       "           WDPAID  WDPA_PID              NAME       DESIG   DESIG_T IUCN_CA  \\\n",
       "14317  55558010.0  55558010  Quinnipiac River  State Park  National     III   \n",
       "\n",
       "           STATUS                          GOV_TYP  \\\n",
       "14317  Designated  Sub-national ministry or agency   \n",
       "\n",
       "                                                 MANG_AU ISO3   AREA_KM  \\\n",
       "14317  Other or Unknown State Land ; State Department...  USA  1.411278   \n",
       "\n",
       "       MOL_ID                                           geometry  \n",
       "14317   14318  MULTIPOLYGON (((-72.84705 41.44000, -72.84750 ...  "
      ]
     },
     "execution_count": 20,
     "metadata": {},
     "output_type": "execute_result"
    }
   ],
   "source": [
    "gdf[gdf['MOL_ID']==14318]"
   ]
  },
  {
   "cell_type": "code",
   "execution_count": 21,
   "metadata": {},
   "outputs": [
    {
     "data": {
      "text/plain": [
       "<AxesSubplot:>"
      ]
     },
     "execution_count": 21,
     "metadata": {},
     "output_type": "execute_result"
    },
    {
     "data": {
      "image/png": "[encoded data removed]",
      "text/plain": [
       "<Figure size 720x720 with 2 Axes>"
      ]
     },
     "metadata": {
      "needs_background": "light"
     },
     "output_type": "display_data"
    }
   ],
   "source": [
    "# Compare geometries in original and simplified dataset\n",
    "n= 14318\n",
    "fig, (ax1,ax2) = plt.subplots(nrows=1,ncols=2,figsize=(10,10))\n",
    "gdf[gdf['MOL_ID']==n].geometry.plot(ax = ax1) \n",
    "sim2[sim2['MOL_ID']==n].geometry.plot(ax = ax2)"
   ]
  },
  {
   "cell_type": "code",
   "execution_count": null,
   "metadata": {},
   "outputs": [],
   "source": [
    "gdf."
   ]
  },
  {
   "cell_type": "code",
   "execution_count": 23,
   "metadata": {},
   "outputs": [
    {
     "data": {
      "text/plain": [
       "<AxesSubplot:>"
      ]
     },
     "execution_count": 23,
     "metadata": {},
     "output_type": "execute_result"
    },
    {
     "data": {
      "image/png": "[encoded data removed]",
      "text/plain": [
       "<Figure size 720x720 with 2 Axes>"
      ]
     },
     "metadata": {
      "needs_background": "light"
     },
     "output_type": "display_data"
    }
   ],
   "source": [
    "# Compare geometries in original and simplified dataset\n",
    "n= '394131'\n",
    "fig, (ax1,ax2) = plt.subplots(nrows=1,ncols=2,figsize=(10,10))\n",
    "gdf[gdf['WDPA_PID']==n].geometry.plot(ax = ax1) \n",
    "sim2[sim2['WDPA_PID']==n].geometry.plot(ax = ax2)"
   ]
  },
  {
   "cell_type": "code",
   "execution_count": 24,
   "metadata": {},
   "outputs": [
    {
     "data": {
      "text/plain": [
       "<AxesSubplot:>"
      ]
     },
     "execution_count": 24,
     "metadata": {},
     "output_type": "execute_result"
    },
    {
     "data": {
      "image/png": "[encoded data removed]",
      "text/plain": [
       "<Figure size 720x720 with 2 Axes>"
      ]
     },
     "metadata": {
      "needs_background": "light"
     },
     "output_type": "display_data"
    }
   ],
   "source": [
    "n= '310492'\n",
    "fig, (ax1,ax2) = plt.subplots(nrows=1,ncols=2,figsize=(10,10))\n",
    "gdf[gdf['WDPA_PID']==n].geometry.plot(ax = ax1) \n",
    "sim2[sim2['WDPA_PID']==n].geometry.plot(ax = ax2)"
   ]
  },
  {
   "cell_type": "code",
   "execution_count": 27,
   "metadata": {},
   "outputs": [
    {
     "data": {
      "text/plain": [
       "<AxesSubplot:>"
      ]
     },
     "execution_count": 27,
     "metadata": {},
     "output_type": "execute_result"
    },
    {
     "data": {
      "image/png": "[encoded data removed]",
      "text/plain": [
       "<Figure size 720x720 with 2 Axes>"
      ]
     },
     "metadata": {
      "needs_background": "light"
     },
     "output_type": "display_data"
    }
   ],
   "source": [
    "n = '20609'\n",
    "fig, (ax1,ax2) = plt.subplots(nrows=1,ncols=2,figsize=(10,10))\n",
    "gdf[gdf['WDPA_PID']==n].geometry.plot(ax = ax1) \n",
    "sim2[sim2['WDPA_PID']==n].geometry.plot(ax = ax2)"
   ]
  },
  {
   "cell_type": "code",
   "execution_count": 28,
   "metadata": {},
   "outputs": [
    {
     "data": {
      "text/plain": [
       "<AxesSubplot:>"
      ]
     },
     "execution_count": 28,
     "metadata": {},
     "output_type": "execute_result"
    },
    {
     "data": {
      "image/png": "[encoded data removed]",
      "text/plain": [
       "<Figure size 720x720 with 2 Axes>"
      ]
     },
     "metadata": {
      "needs_background": "light"
     },
     "output_type": "display_data"
    }
   ],
   "source": [
    "n = '555534655'\n",
    "fig, (ax1,ax2) = plt.subplots(nrows=1,ncols=2,figsize=(10,10))\n",
    "gdf[gdf['WDPA_PID']==n].geometry.plot(ax = ax1) \n",
    "sim2[sim2['WDPA_PID']==n].geometry.plot(ax = ax2)"
   ]
  },
  {
   "cell_type": "code",
   "execution_count": 29,
   "metadata": {},
   "outputs": [
    {
     "data": {
      "text/plain": [
       "<AxesSubplot:>"
      ]
     },
     "execution_count": 29,
     "metadata": {},
     "output_type": "execute_result"
    },
    {
     "data": {
      "image/png": "[encoded data removed]",
      "text/plain": [
       "<Figure size 720x720 with 2 Axes>"
      ]
     },
     "metadata": {
      "needs_background": "light"
     },
     "output_type": "display_data"
    }
   ],
   "source": [
    "n = '555703244'\n",
    "fig, (ax1,ax2) = plt.subplots(nrows=1,ncols=2,figsize=(10,10))\n",
    "gdf[gdf['WDPA_PID']==n].geometry.plot(ax = ax1) \n",
    "sim2[sim2['WDPA_PID']==n].geometry.plot(ax = ax2)"
   ]
  },
  {
   "cell_type": "code",
   "execution_count": 30,
   "metadata": {},
   "outputs": [],
   "source": [
    "# Save file in local\n",
    "sim2.to_file(f'{path}/Simplifications/WDPA_Ter_Simp80', driver= 'ESRI Shapefile')"
   ]
  },
  {
   "cell_type": "markdown",
   "metadata": {
    "jp-MarkdownHeadingCollapsed": true,
    "tags": []
   },
   "source": [
    "#### 3. High simplification (to be used at global scale with very low detail)"
   ]
  },
  {
   "cell_type": "code",
   "execution_count": 32,
   "metadata": {
    "tags": []
   },
   "outputs": [
    {
     "name": "stdout",
     "output_type": "stream",
     "text": [
      "Allocating 16 GB of heap memory\n",
      "[merge-layers] Use the target= option to specify multiple layers for merging\n",
      "[o] Wrote WDPA_test/1.json\n",
      "[o] Wrote WDPA_test/2.json\n",
      "[o] Wrote WDPA_test/3.json\n",
      "[o] Wrote WDPA_test/4.json\n",
      "[o] Wrote WDPA_test/5.json\n",
      "[o] Wrote WDPA_test/6.json\n",
      "[o] Wrote WDPA_test/7.json\n",
      "[o] Wrote WDPA_test/8.json\n",
      "[o] Wrote WDPA_test/9.json\n",
      "[o] Wrote WDPA_test/10.json\n",
      "[o] Wrote WDPA_test/11.json\n"
     ]
    }
   ],
   "source": [
    "# Break the shp into 12 json files to make the process more efficient\n",
    "!mapshaper-xl 16gb -i ./../../HE_Data/WDPA/WDPA_Terrestrial_corrected_geomOnly/*.shp no-topology combine-files \\\n",
    "    -merge-layers \\\n",
    "    -each \"group = Math.trunc(this.id/20000)+1\" \\\n",
    "    -split group \\\n",
    "    -o WDPA_test/ format=geojson precision=0.0001 force ndjson"
   ]
  },
  {
   "cell_type": "code",
   "execution_count": 33,
   "metadata": {},
   "outputs": [
    {
     "name": "stdout",
     "output_type": "stream",
     "text": [
      "Allocating 16 GB of heap memory\n",
      "[i] Snapped 0 points\n",
      "[simplify] Repaired 2,144 intersections; 1,386 intersections could not be repaired\n",
      "[filter-islands] Removed 55,833 islands\n",
      "[filter-slivers] Removed 15,923 slivers using 0.15+ sqkm variable threshold\n",
      "[clean] Removed 144 / 257 slivers using 0.98+ sqkm variable threshold\n",
      "[clean] Retained 10,187 of 13,619 features\n",
      "[o] Wrote WDPA_test/1.json\n",
      "[i] Snapped 0 points\n",
      "[simplify] Repaired 2,516 intersections; 9,694 intersections could not be repaired\n",
      "[filter-islands] Removed 48,256 islands\n",
      "[filter-slivers] Removed 13,554 slivers using 0.15+ sqkm variable threshold\n",
      "[clean] Removed 505 / 611 slivers using 0.55+ sqkm variable threshold\n",
      "[clean] Retained 9,663 of 13,334 features\n",
      "[o] Wrote WDPA_test/10.json\n",
      "[i] Snapped 0 points\n",
      "[simplify] Repaired 6,332 intersections; 4,416 intersections could not be repaired\n",
      "[filter-islands] Removed 88,303 islands\n",
      "[filter-slivers] Removed 40,973 slivers using 0.15+ sqkm variable threshold\n",
      "[clean] Removed 844 / 1,058 slivers using 0.6+ sqkm variable threshold\n",
      "[clean] Retained 9,109 of 12,013 features\n",
      "[o] Wrote WDPA_test/11.json\n",
      "[i] Snapped 0 points\n",
      "[simplify] Repaired 1,433 intersections; 3,019 intersections could not be repaired\n",
      "[filter-islands] Removed 70,080 islands\n",
      "[filter-slivers] Removed 16,317 slivers using 0.15+ sqkm variable threshold\n",
      "[clean] Removed 486 / 633 slivers using 1.2+ sqkm variable threshold\n",
      "[clean] Retained 8,825 of 11,961 features\n",
      "[o] Wrote WDPA_test/2.json\n",
      "[i] Snapped 0 points\n",
      "[simplify] Repaired 2,070 intersections; 7,208 intersections could not be repaired\n",
      "[filter-islands] Removed 62,778 islands\n",
      "[filter-slivers] Removed 86,859 slivers using 0.15+ sqkm variable threshold\n",
      "[clean] Removed 737 / 1,085 slivers using 1.2+ sqkm variable threshold\n",
      "[clean] Retained 11,356 of 14,283 features\n",
      "[o] Wrote WDPA_test/3.json\n",
      "[i] Snapped 0 points\n",
      "[simplify] Repaired 1,052 intersections; 2,639 intersections could not be repaired\n",
      "[filter-islands] Removed 50,951 islands\n",
      "[filter-slivers] Removed 9,345 slivers using 0.15+ sqkm variable threshold\n",
      "[clean] Removed 248 / 322 slivers using 1+ sqkm variable threshold\n",
      "[clean] Retained 8,577 of 11,803 features\n",
      "[o] Wrote WDPA_test/4.json\n",
      "[i] Snapped 0 points\n",
      "[simplify] Repaired 975 intersections; 5,526 intersections could not be repaired\n",
      "[filter-islands] Removed 65,426 islands\n",
      "[filter-slivers] Removed 13,249 slivers using 0.15+ sqkm variable threshold\n",
      "[clean] Removed 396 / 473 slivers using 1+ sqkm variable threshold\n",
      "[clean] Retained 9,353 of 13,145 features\n",
      "[o] Wrote WDPA_test/5.json\n",
      "[i] Snapped 0 points\n",
      "[simplify] Repaired 0 intersections; 10,113 intersections could not be repaired\n",
      "[filter-islands] Removed 60,220 islands\n",
      "[filter-slivers] Removed 16,630 slivers using 0.15+ sqkm variable threshold\n",
      "[clean] Removed 621 / 698 slivers using 0.86+ sqkm variable threshold\n",
      "[clean] Retained 9,676 of 13,588 features\n",
      "[o] Wrote WDPA_test/6.json\n",
      "[i] Snapped 0 points\n",
      "[simplify] Repaired 991 intersections; 14,963 intersections could not be repaired\n",
      "[filter-islands] Removed 64,128 islands\n",
      "[filter-slivers] Removed 17,699 slivers using 0.15+ sqkm variable threshold\n",
      "[clean] Removed 1,590 / 1,833 slivers using 0.63+ sqkm variable threshold\n",
      "[clean] Retained 9,922 of 14,489 features\n",
      "[o] Wrote WDPA_test/7.json\n",
      "[i] Snapped 0 points\n",
      "[simplify] Repaired 3,628 intersections; 5,096 intersections could not be repaired\n",
      "[filter-islands] Removed 53,446 islands\n",
      "[filter-slivers] Removed 12,201 slivers using 0.15+ sqkm variable threshold\n",
      "[clean] Removed 717 / 874 slivers using 0.66+ sqkm variable threshold\n",
      "[clean] Retained 8,904 of 13,544 features\n",
      "[o] Wrote WDPA_test/8.json\n",
      "[i] Snapped 0 points\n",
      "[simplify] Repaired 3,408 intersections; 4,539 intersections could not be repaired\n",
      "[filter-islands] Removed 47,655 islands\n",
      "[filter-slivers] Removed 12,869 slivers using 0.15+ sqkm variable threshold\n",
      "[clean] Removed 724 / 881 slivers using 0.83+ sqkm variable threshold\n",
      "[clean] Retained 8,145 of 12,391 features\n",
      "[o] Wrote WDPA_test/9.json\n",
      "CPU times: user 2.27 s, sys: 713 ms, total: 2.98 s\n",
      "Wall time: 2min 31s\n"
     ]
    }
   ],
   "source": [
    "%%time\n",
    "# Only simplify (removes some geometries).\n",
    "!mapshaper-xl 16gb -i ./WDPA_test/*.json snap \\\n",
    "    -simplify 1% weighting=0.3 planar keep-shapes \\\n",
    "    -filter-islands min-vertices=100 min-area=150000m2 remove-empty \\\n",
    "    -filter-slivers min-area=150000m2 remove-empty \\\n",
    "    -clean rewind \\\n",
    "    -o WDPA_test/ format=geojson force ndjson"
   ]
  },
  {
   "cell_type": "code",
   "execution_count": 34,
   "metadata": {},
   "outputs": [
    {
     "name": "stdout",
     "output_type": "stream",
     "text": [
      "Allocating 16 GB of heap memory\n",
      "[info] \n",
      "=========================\n",
      "Layer:    [unnamed layer]\n",
      "-------------------------\n",
      "Type:     polygon\n",
      "Records:  103,717\n",
      "Bounds:   -179.9948,-69.4774,179.9997,83.73\n",
      "CRS:      +proj=longlat +datum=WGS84\n",
      "Source:   ./WDPA_test/1.json\n",
      "\n",
      "Attribute data\n",
      "--------+-------------\n",
      " Field  | First value\n",
      "--------+-------------\n",
      " group  | 1\n",
      " MOL_ID | 2\n",
      "--------+-------------\n",
      "\n",
      "[o] Wrote WDPA_test/wdpa_simp3.shp\n",
      "[o] Wrote WDPA_test/wdpa_simp3.shx\n",
      "[o] Wrote WDPA_test/wdpa_simp3.dbf\n",
      "[o] Wrote WDPA_test/wdpa_simp3.prj\n"
     ]
    }
   ],
   "source": [
    "# Combine all json files in a shp. \n",
    "!mapshaper-xl 16gb -i ./WDPA_test/*.json combine-files -merge-layers -info -o WDPA_test/wdpa_simp3.shp"
   ]
  },
  {
   "cell_type": "code",
   "execution_count": 35,
   "metadata": {},
   "outputs": [
    {
     "data": {
      "text/plain": [
       "103717"
      ]
     },
     "execution_count": 35,
     "metadata": {},
     "output_type": "execute_result"
    }
   ],
   "source": [
    "sim3 = gpd.read_file('WDPA_test/wdpa_simp3.shp') \n",
    "len(sim3)"
   ]
  },
  {
   "cell_type": "code",
   "execution_count": 36,
   "metadata": {},
   "outputs": [
    {
     "data": {
      "text/plain": [
       "113707"
      ]
     },
     "execution_count": 36,
     "metadata": {},
     "output_type": "execute_result"
    }
   ],
   "source": [
    "len(gdf)-len(sim3) # 42976 geometries removed during simplification"
   ]
  },
  {
   "cell_type": "code",
   "execution_count": 37,
   "metadata": {},
   "outputs": [],
   "source": [
    "## Set crs\n",
    "sim3 = sim3.set_crs('EPSG:4326') "
   ]
  },
  {
   "cell_type": "code",
   "execution_count": 38,
   "metadata": {
    "tags": []
   },
   "outputs": [
    {
     "name": "stdout",
     "output_type": "stream",
     "text": [
      "CPU times: user 9.78 s, sys: 136 ms, total: 9.92 s\n",
      "Wall time: 10.1 s\n"
     ]
    },
    {
     "data": {
      "text/plain": [
       "103717"
      ]
     },
     "execution_count": 38,
     "metadata": {},
     "output_type": "execute_result"
    }
   ],
   "source": [
    "%%time\n",
    "# Repair geometries, in case some are invalid after simplification, and check how many are valid\n",
    "sim3['geometry'] = sim3['geometry'].buffer(0) # this is to repair geometries\n",
    "sum(sim3.is_valid) # 174448 valid (same as after simplification)"
   ]
  },
  {
   "cell_type": "code",
   "execution_count": null,
   "metadata": {},
   "outputs": [],
   "source": [
    "# Keep only valid geometries and remove the invalid\n",
    "# sim3 = sim3[sim3['geometry'].is_valid]\n",
    "# len(sim3) # geometries less than original dataset"
   ]
  },
  {
   "cell_type": "code",
   "execution_count": 18,
   "metadata": {},
   "outputs": [
    {
     "data": {
      "text/html": [
       "<div>\n",
       "<style scoped>\n",
       "    .dataframe tbody tr th:only-of-type {\n",
       "        vertical-align: middle;\n",
       "    }\n",
       "\n",
       "    .dataframe tbody tr th {\n",
       "        vertical-align: top;\n",
       "    }\n",
       "\n",
       "    .dataframe thead th {\n",
       "        text-align: right;\n",
       "    }\n",
       "</style>\n",
       "<table border=\"1\" class=\"dataframe\">\n",
       "  <thead>\n",
       "    <tr style=\"text-align: right;\">\n",
       "      <th></th>\n",
       "      <th>WDPAID</th>\n",
       "      <th>WDPA_PID</th>\n",
       "      <th>NAME</th>\n",
       "      <th>DESIG</th>\n",
       "      <th>DESIG_T</th>\n",
       "      <th>IUCN_CA</th>\n",
       "      <th>STATUS</th>\n",
       "      <th>GOV_TYP</th>\n",
       "      <th>MANG_AU</th>\n",
       "      <th>ISO3</th>\n",
       "      <th>AREA_KM</th>\n",
       "      <th>MOL_ID</th>\n",
       "      <th>geometry</th>\n",
       "    </tr>\n",
       "  </thead>\n",
       "  <tbody>\n",
       "    <tr>\n",
       "      <th>0</th>\n",
       "      <td>310492.0</td>\n",
       "      <td>310492</td>\n",
       "      <td>Boulder Beach</td>\n",
       "      <td>Stewardship Area</td>\n",
       "      <td>National</td>\n",
       "      <td>III</td>\n",
       "      <td>Designated</td>\n",
       "      <td>Federal or national ministry or agency</td>\n",
       "      <td>Department of Conservation</td>\n",
       "      <td>NZL</td>\n",
       "      <td>1.137712</td>\n",
       "      <td>1</td>\n",
       "      <td>MULTIPOLYGON (((170.62746 -45.89520, 170.62824...</td>\n",
       "    </tr>\n",
       "  </tbody>\n",
       "</table>\n",
       "</div>"
      ],
      "text/plain": [
       "     WDPAID WDPA_PID           NAME             DESIG   DESIG_T IUCN_CA  \\\n",
       "0  310492.0   310492  Boulder Beach  Stewardship Area  National     III   \n",
       "\n",
       "       STATUS                                 GOV_TYP  \\\n",
       "0  Designated  Federal or national ministry or agency   \n",
       "\n",
       "                      MANG_AU ISO3   AREA_KM  MOL_ID  \\\n",
       "0  Department of Conservation  NZL  1.137712       1   \n",
       "\n",
       "                                            geometry  \n",
       "0  MULTIPOLYGON (((170.62746 -45.89520, 170.62824...  "
      ]
     },
     "execution_count": 18,
     "metadata": {},
     "output_type": "execute_result"
    }
   ],
   "source": [
    "gdf.head(1)"
   ]
  },
  {
   "cell_type": "code",
   "execution_count": 19,
   "metadata": {},
   "outputs": [
    {
     "data": {
      "text/html": [
       "<div>\n",
       "<style scoped>\n",
       "    .dataframe tbody tr th:only-of-type {\n",
       "        vertical-align: middle;\n",
       "    }\n",
       "\n",
       "    .dataframe tbody tr th {\n",
       "        vertical-align: top;\n",
       "    }\n",
       "\n",
       "    .dataframe thead th {\n",
       "        text-align: right;\n",
       "    }\n",
       "</style>\n",
       "<table border=\"1\" class=\"dataframe\">\n",
       "  <thead>\n",
       "    <tr style=\"text-align: right;\">\n",
       "      <th></th>\n",
       "      <th>MOL_ID</th>\n",
       "      <th>group</th>\n",
       "      <th>geometry</th>\n",
       "    </tr>\n",
       "  </thead>\n",
       "  <tbody>\n",
       "    <tr>\n",
       "      <th>0</th>\n",
       "      <td>1</td>\n",
       "      <td>1</td>\n",
       "      <td>POLYGON ((170.60250 -45.89230, 170.59840 -45.8...</td>\n",
       "    </tr>\n",
       "    <tr>\n",
       "      <th>1</th>\n",
       "      <td>2</td>\n",
       "      <td>1</td>\n",
       "      <td>POLYGON ((173.97640 -41.19260, 173.96920 -41.1...</td>\n",
       "    </tr>\n",
       "    <tr>\n",
       "      <th>2</th>\n",
       "      <td>4</td>\n",
       "      <td>1</td>\n",
       "      <td>POLYGON ((174.00240 -41.27340, 174.00880 -41.2...</td>\n",
       "    </tr>\n",
       "    <tr>\n",
       "      <th>3</th>\n",
       "      <td>5</td>\n",
       "      <td>1</td>\n",
       "      <td>POLYGON ((169.17500 -46.54940, 169.21100 -46.5...</td>\n",
       "    </tr>\n",
       "    <tr>\n",
       "      <th>4</th>\n",
       "      <td>6</td>\n",
       "      <td>1</td>\n",
       "      <td>POLYGON ((168.79750 -44.46110, 168.78770 -44.4...</td>\n",
       "    </tr>\n",
       "  </tbody>\n",
       "</table>\n",
       "</div>"
      ],
      "text/plain": [
       "   MOL_ID  group                                           geometry\n",
       "0       1      1  POLYGON ((170.60250 -45.89230, 170.59840 -45.8...\n",
       "1       2      1  POLYGON ((173.97640 -41.19260, 173.96920 -41.1...\n",
       "2       4      1  POLYGON ((174.00240 -41.27340, 174.00880 -41.2...\n",
       "3       5      1  POLYGON ((169.17500 -46.54940, 169.21100 -46.5...\n",
       "4       6      1  POLYGON ((168.79750 -44.46110, 168.78770 -44.4..."
      ]
     },
     "execution_count": 19,
     "metadata": {},
     "output_type": "execute_result"
    }
   ],
   "source": [
    "sim3.head()"
   ]
  },
  {
   "cell_type": "code",
   "execution_count": 39,
   "metadata": {},
   "outputs": [
    {
     "data": {
      "text/html": [
       "<div>\n",
       "<style scoped>\n",
       "    .dataframe tbody tr th:only-of-type {\n",
       "        vertical-align: middle;\n",
       "    }\n",
       "\n",
       "    .dataframe tbody tr th {\n",
       "        vertical-align: top;\n",
       "    }\n",
       "\n",
       "    .dataframe thead th {\n",
       "        text-align: right;\n",
       "    }\n",
       "</style>\n",
       "<table border=\"1\" class=\"dataframe\">\n",
       "  <thead>\n",
       "    <tr style=\"text-align: right;\">\n",
       "      <th></th>\n",
       "      <th>MOL_ID</th>\n",
       "      <th>geometry</th>\n",
       "    </tr>\n",
       "  </thead>\n",
       "  <tbody>\n",
       "    <tr>\n",
       "      <th>0</th>\n",
       "      <td>2</td>\n",
       "      <td>POLYGON ((173.97640 -41.19260, 173.96920 -41.1...</td>\n",
       "    </tr>\n",
       "    <tr>\n",
       "      <th>1</th>\n",
       "      <td>5</td>\n",
       "      <td>POLYGON ((169.17500 -46.54940, 169.21100 -46.5...</td>\n",
       "    </tr>\n",
       "    <tr>\n",
       "      <th>2</th>\n",
       "      <td>6</td>\n",
       "      <td>POLYGON ((168.79750 -44.46110, 168.78770 -44.4...</td>\n",
       "    </tr>\n",
       "    <tr>\n",
       "      <th>3</th>\n",
       "      <td>9</td>\n",
       "      <td>POLYGON ((169.17870 -45.29580, 169.16290 -45.2...</td>\n",
       "    </tr>\n",
       "    <tr>\n",
       "      <th>4</th>\n",
       "      <td>19</td>\n",
       "      <td>POLYGON ((170.44970 -45.46120, 170.43820 -45.4...</td>\n",
       "    </tr>\n",
       "  </tbody>\n",
       "</table>\n",
       "</div>"
      ],
      "text/plain": [
       "   MOL_ID                                           geometry\n",
       "0       2  POLYGON ((173.97640 -41.19260, 173.96920 -41.1...\n",
       "1       5  POLYGON ((169.17500 -46.54940, 169.21100 -46.5...\n",
       "2       6  POLYGON ((168.79750 -44.46110, 168.78770 -44.4...\n",
       "3       9  POLYGON ((169.17870 -45.29580, 169.16290 -45.2...\n",
       "4      19  POLYGON ((170.44970 -45.46120, 170.43820 -45.4..."
      ]
     },
     "execution_count": 39,
     "metadata": {},
     "output_type": "execute_result"
    }
   ],
   "source": [
    "sim3 = sim3.drop(columns={'group'})\n",
    "sim3.head()"
   ]
  },
  {
   "cell_type": "code",
   "execution_count": 40,
   "metadata": {},
   "outputs": [
    {
     "data": {
      "text/html": [
       "<div>\n",
       "<style scoped>\n",
       "    .dataframe tbody tr th:only-of-type {\n",
       "        vertical-align: middle;\n",
       "    }\n",
       "\n",
       "    .dataframe tbody tr th {\n",
       "        vertical-align: top;\n",
       "    }\n",
       "\n",
       "    .dataframe thead th {\n",
       "        text-align: right;\n",
       "    }\n",
       "</style>\n",
       "<table border=\"1\" class=\"dataframe\">\n",
       "  <thead>\n",
       "    <tr style=\"text-align: right;\">\n",
       "      <th></th>\n",
       "      <th>WDPAID</th>\n",
       "      <th>WDPA_PID</th>\n",
       "      <th>NAME</th>\n",
       "      <th>DESIG</th>\n",
       "      <th>DESIG_T</th>\n",
       "      <th>IUCN_CA</th>\n",
       "      <th>STATUS</th>\n",
       "      <th>GOV_TYP</th>\n",
       "      <th>MANG_AU</th>\n",
       "      <th>ISO3</th>\n",
       "      <th>AREA_KM</th>\n",
       "      <th>MOL_ID</th>\n",
       "    </tr>\n",
       "  </thead>\n",
       "  <tbody>\n",
       "    <tr>\n",
       "      <th>0</th>\n",
       "      <td>310492.0</td>\n",
       "      <td>310492</td>\n",
       "      <td>Boulder Beach</td>\n",
       "      <td>Stewardship Area</td>\n",
       "      <td>National</td>\n",
       "      <td>III</td>\n",
       "      <td>Designated</td>\n",
       "      <td>Federal or national ministry or agency</td>\n",
       "      <td>Department of Conservation</td>\n",
       "      <td>NZL</td>\n",
       "      <td>1.137712</td>\n",
       "      <td>1</td>\n",
       "    </tr>\n",
       "  </tbody>\n",
       "</table>\n",
       "</div>"
      ],
      "text/plain": [
       "     WDPAID WDPA_PID           NAME             DESIG   DESIG_T IUCN_CA  \\\n",
       "0  310492.0   310492  Boulder Beach  Stewardship Area  National     III   \n",
       "\n",
       "       STATUS                                 GOV_TYP  \\\n",
       "0  Designated  Federal or national ministry or agency   \n",
       "\n",
       "                      MANG_AU ISO3   AREA_KM  MOL_ID  \n",
       "0  Department of Conservation  NZL  1.137712       1  "
      ]
     },
     "execution_count": 40,
     "metadata": {},
     "output_type": "execute_result"
    }
   ],
   "source": [
    "gdf_no_geom = gdf.drop(columns='geometry')\n",
    "gdf_no_geom.head(1)"
   ]
  },
  {
   "cell_type": "code",
   "execution_count": 41,
   "metadata": {},
   "outputs": [
    {
     "data": {
      "text/html": [
       "<div>\n",
       "<style scoped>\n",
       "    .dataframe tbody tr th:only-of-type {\n",
       "        vertical-align: middle;\n",
       "    }\n",
       "\n",
       "    .dataframe tbody tr th {\n",
       "        vertical-align: top;\n",
       "    }\n",
       "\n",
       "    .dataframe thead th {\n",
       "        text-align: right;\n",
       "    }\n",
       "</style>\n",
       "<table border=\"1\" class=\"dataframe\">\n",
       "  <thead>\n",
       "    <tr style=\"text-align: right;\">\n",
       "      <th></th>\n",
       "      <th>MOL_ID</th>\n",
       "      <th>geometry</th>\n",
       "      <th>WDPAID</th>\n",
       "      <th>WDPA_PID</th>\n",
       "      <th>NAME</th>\n",
       "      <th>DESIG</th>\n",
       "      <th>DESIG_T</th>\n",
       "      <th>IUCN_CA</th>\n",
       "      <th>STATUS</th>\n",
       "      <th>GOV_TYP</th>\n",
       "      <th>MANG_AU</th>\n",
       "      <th>ISO3</th>\n",
       "      <th>AREA_KM</th>\n",
       "    </tr>\n",
       "  </thead>\n",
       "  <tbody>\n",
       "    <tr>\n",
       "      <th>0</th>\n",
       "      <td>2</td>\n",
       "      <td>POLYGON ((173.97640 -41.19260, 173.96920 -41.1...</td>\n",
       "      <td>307797.0</td>\n",
       "      <td>307797</td>\n",
       "      <td>Ferndale</td>\n",
       "      <td>Scenic Reserve</td>\n",
       "      <td>National</td>\n",
       "      <td>III</td>\n",
       "      <td>Designated</td>\n",
       "      <td>Federal or national ministry or agency</td>\n",
       "      <td>Department of Conservation</td>\n",
       "      <td>NZL</td>\n",
       "      <td>0.749887</td>\n",
       "    </tr>\n",
       "  </tbody>\n",
       "</table>\n",
       "</div>"
      ],
      "text/plain": [
       "   MOL_ID                                           geometry    WDPAID  \\\n",
       "0       2  POLYGON ((173.97640 -41.19260, 173.96920 -41.1...  307797.0   \n",
       "\n",
       "  WDPA_PID      NAME           DESIG   DESIG_T IUCN_CA      STATUS  \\\n",
       "0   307797  Ferndale  Scenic Reserve  National     III  Designated   \n",
       "\n",
       "                                  GOV_TYP                     MANG_AU ISO3  \\\n",
       "0  Federal or national ministry or agency  Department of Conservation  NZL   \n",
       "\n",
       "    AREA_KM  \n",
       "0  0.749887  "
      ]
     },
     "execution_count": 41,
     "metadata": {},
     "output_type": "execute_result"
    }
   ],
   "source": [
    "import pandas as pd\n",
    "sim3 = gpd.GeoDataFrame(pd.merge(sim3, gdf_no_geom,  how='left', left_on=['MOL_ID'], right_on = ['MOL_ID']))\n",
    "sim3.head(1)"
   ]
  },
  {
   "cell_type": "code",
   "execution_count": 42,
   "metadata": {},
   "outputs": [
    {
     "data": {
      "text/plain": [
       "Index(['MOL_ID', 'geometry', 'WDPAID', 'WDPA_PID', 'NAME', 'DESIG', 'DESIG_T',\n",
       "       'IUCN_CA', 'STATUS', 'GOV_TYP', 'MANG_AU', 'ISO3', 'AREA_KM2'],\n",
       "      dtype='object')"
      ]
     },
     "execution_count": 42,
     "metadata": {},
     "output_type": "execute_result"
    }
   ],
   "source": [
    "sim3 = sim3.rename(columns={'AREA_KM':'AREA_KM2'})\n",
    "sim3.columns"
   ]
  },
  {
   "cell_type": "code",
   "execution_count": 43,
   "metadata": {},
   "outputs": [
    {
     "data": {
      "text/html": [
       "<div>\n",
       "<style scoped>\n",
       "    .dataframe tbody tr th:only-of-type {\n",
       "        vertical-align: middle;\n",
       "    }\n",
       "\n",
       "    .dataframe tbody tr th {\n",
       "        vertical-align: top;\n",
       "    }\n",
       "\n",
       "    .dataframe thead th {\n",
       "        text-align: right;\n",
       "    }\n",
       "</style>\n",
       "<table border=\"1\" class=\"dataframe\">\n",
       "  <thead>\n",
       "    <tr style=\"text-align: right;\">\n",
       "      <th></th>\n",
       "      <th>WDPAID</th>\n",
       "      <th>WDPA_PID</th>\n",
       "      <th>NAME</th>\n",
       "      <th>DESIG</th>\n",
       "      <th>DESIG_T</th>\n",
       "      <th>IUCN_CA</th>\n",
       "      <th>STATUS</th>\n",
       "      <th>GOV_TYP</th>\n",
       "      <th>MANG_AU</th>\n",
       "      <th>ISO3</th>\n",
       "      <th>AREA_KM</th>\n",
       "      <th>MOL_ID</th>\n",
       "      <th>geometry</th>\n",
       "    </tr>\n",
       "  </thead>\n",
       "  <tbody>\n",
       "    <tr>\n",
       "      <th>14317</th>\n",
       "      <td>55558010.0</td>\n",
       "      <td>55558010</td>\n",
       "      <td>Quinnipiac River</td>\n",
       "      <td>State Park</td>\n",
       "      <td>National</td>\n",
       "      <td>III</td>\n",
       "      <td>Designated</td>\n",
       "      <td>Sub-national ministry or agency</td>\n",
       "      <td>Other or Unknown State Land ; State Department...</td>\n",
       "      <td>USA</td>\n",
       "      <td>1.411278</td>\n",
       "      <td>14318</td>\n",
       "      <td>MULTIPOLYGON (((-72.84705 41.44000, -72.84750 ...</td>\n",
       "    </tr>\n",
       "  </tbody>\n",
       "</table>\n",
       "</div>"
      ],
      "text/plain": [
       "           WDPAID  WDPA_PID              NAME       DESIG   DESIG_T IUCN_CA  \\\n",
       "14317  55558010.0  55558010  Quinnipiac River  State Park  National     III   \n",
       "\n",
       "           STATUS                          GOV_TYP  \\\n",
       "14317  Designated  Sub-national ministry or agency   \n",
       "\n",
       "                                                 MANG_AU ISO3   AREA_KM  \\\n",
       "14317  Other or Unknown State Land ; State Department...  USA  1.411278   \n",
       "\n",
       "       MOL_ID                                           geometry  \n",
       "14317   14318  MULTIPOLYGON (((-72.84705 41.44000, -72.84750 ...  "
      ]
     },
     "execution_count": 43,
     "metadata": {},
     "output_type": "execute_result"
    }
   ],
   "source": [
    "gdf[gdf['MOL_ID']==14318]"
   ]
  },
  {
   "cell_type": "code",
   "execution_count": 44,
   "metadata": {},
   "outputs": [
    {
     "data": {
      "text/plain": [
       "<AxesSubplot:>"
      ]
     },
     "execution_count": 44,
     "metadata": {},
     "output_type": "execute_result"
    },
    {
     "data": {
      "image/png": "[encoded data removed]",
      "text/plain": [
       "<Figure size 720x720 with 2 Axes>"
      ]
     },
     "metadata": {
      "needs_background": "light"
     },
     "output_type": "display_data"
    }
   ],
   "source": [
    "# Compare geometries in original and simplified dataset\n",
    "n= 14318\n",
    "fig, (ax1,ax2) = plt.subplots(nrows=1,ncols=2,figsize=(10,10))\n",
    "gdf[gdf['MOL_ID']==n].geometry.plot(ax = ax1) \n",
    "sim3[sim3['MOL_ID']==n].geometry.plot(ax = ax2)"
   ]
  },
  {
   "cell_type": "code",
   "execution_count": 45,
   "metadata": {},
   "outputs": [
    {
     "name": "stderr",
     "output_type": "stream",
     "text": [
      "/opt/anaconda3/envs/vizz38/lib/python3.8/site-packages/geopandas/plotting.py:399: UserWarning: The GeoSeries you are attempting to plot is empty. Nothing has been displayed.\n",
      "  warnings.warn(\n"
     ]
    },
    {
     "data": {
      "text/plain": [
       "<AxesSubplot:>"
      ]
     },
     "execution_count": 45,
     "metadata": {},
     "output_type": "execute_result"
    },
    {
     "ename": "ValueError",
     "evalue": "cannot convert float NaN to integer",
     "output_type": "error",
     "traceback": [
      "\u001b[0;31m---------------------------------------------------------------------------\u001b[0m",
      "\u001b[0;31mValueError\u001b[0m                                Traceback (most recent call last)",
      "\u001b[0;32m/opt/anaconda3/envs/vizz38/lib/python3.8/site-packages/IPython/core/formatters.py\u001b[0m in \u001b[0;36m__call__\u001b[0;34m(self, obj)\u001b[0m\n\u001b[1;32m    339\u001b[0m                 \u001b[0;32mpass\u001b[0m\u001b[0;34m\u001b[0m\u001b[0;34m\u001b[0m\u001b[0m\n\u001b[1;32m    340\u001b[0m             \u001b[0;32melse\u001b[0m\u001b[0;34m:\u001b[0m\u001b[0;34m\u001b[0m\u001b[0;34m\u001b[0m\u001b[0m\n\u001b[0;32m--> 341\u001b[0;31m                 \u001b[0;32mreturn\u001b[0m \u001b[0mprinter\u001b[0m\u001b[0;34m(\u001b[0m\u001b[0mobj\u001b[0m\u001b[0;34m)\u001b[0m\u001b[0;34m\u001b[0m\u001b[0;34m\u001b[0m\u001b[0m\n\u001b[0m\u001b[1;32m    342\u001b[0m             \u001b[0;31m# Finally look for special method names\u001b[0m\u001b[0;34m\u001b[0m\u001b[0;34m\u001b[0m\u001b[0;34m\u001b[0m\u001b[0m\n\u001b[1;32m    343\u001b[0m             \u001b[0mmethod\u001b[0m \u001b[0;34m=\u001b[0m \u001b[0mget_real_method\u001b[0m\u001b[0;34m(\u001b[0m\u001b[0mobj\u001b[0m\u001b[0;34m,\u001b[0m \u001b[0mself\u001b[0m\u001b[0;34m.\u001b[0m\u001b[0mprint_method\u001b[0m\u001b[0;34m)\u001b[0m\u001b[0;34m\u001b[0m\u001b[0;34m\u001b[0m\u001b[0m\n",
      "\u001b[0;32m/opt/anaconda3/envs/vizz38/lib/python3.8/site-packages/IPython/core/pylabtools.py\u001b[0m in \u001b[0;36mprint_figure\u001b[0;34m(fig, fmt, bbox_inches, base64, **kwargs)\u001b[0m\n\u001b[1;32m    149\u001b[0m         \u001b[0mFigureCanvasBase\u001b[0m\u001b[0;34m(\u001b[0m\u001b[0mfig\u001b[0m\u001b[0;34m)\u001b[0m\u001b[0;34m\u001b[0m\u001b[0;34m\u001b[0m\u001b[0m\n\u001b[1;32m    150\u001b[0m \u001b[0;34m\u001b[0m\u001b[0m\n\u001b[0;32m--> 151\u001b[0;31m     \u001b[0mfig\u001b[0m\u001b[0;34m.\u001b[0m\u001b[0mcanvas\u001b[0m\u001b[0;34m.\u001b[0m\u001b[0mprint_figure\u001b[0m\u001b[0;34m(\u001b[0m\u001b[0mbytes_io\u001b[0m\u001b[0;34m,\u001b[0m \u001b[0;34m**\u001b[0m\u001b[0mkw\u001b[0m\u001b[0;34m)\u001b[0m\u001b[0;34m\u001b[0m\u001b[0;34m\u001b[0m\u001b[0m\n\u001b[0m\u001b[1;32m    152\u001b[0m     \u001b[0mdata\u001b[0m \u001b[0;34m=\u001b[0m \u001b[0mbytes_io\u001b[0m\u001b[0;34m.\u001b[0m\u001b[0mgetvalue\u001b[0m\u001b[0;34m(\u001b[0m\u001b[0;34m)\u001b[0m\u001b[0;34m\u001b[0m\u001b[0;34m\u001b[0m\u001b[0m\n\u001b[1;32m    153\u001b[0m     \u001b[0;32mif\u001b[0m \u001b[0mfmt\u001b[0m \u001b[0;34m==\u001b[0m \u001b[0;34m'svg'\u001b[0m\u001b[0;34m:\u001b[0m\u001b[0;34m\u001b[0m\u001b[0;34m\u001b[0m\u001b[0m\n",
      "\u001b[0;32m/opt/anaconda3/envs/vizz38/lib/python3.8/site-packages/matplotlib/backend_bases.py\u001b[0m in \u001b[0;36mprint_figure\u001b[0;34m(self, filename, dpi, facecolor, edgecolor, orientation, format, bbox_inches, pad_inches, bbox_extra_artists, backend, **kwargs)\u001b[0m\n\u001b[1;32m   2228\u001b[0m                        else suppress())\n\u001b[1;32m   2229\u001b[0m                 \u001b[0;32mwith\u001b[0m \u001b[0mctx\u001b[0m\u001b[0;34m:\u001b[0m\u001b[0;34m\u001b[0m\u001b[0;34m\u001b[0m\u001b[0m\n\u001b[0;32m-> 2230\u001b[0;31m                     \u001b[0mself\u001b[0m\u001b[0;34m.\u001b[0m\u001b[0mfigure\u001b[0m\u001b[0;34m.\u001b[0m\u001b[0mdraw\u001b[0m\u001b[0;34m(\u001b[0m\u001b[0mrenderer\u001b[0m\u001b[0;34m)\u001b[0m\u001b[0;34m\u001b[0m\u001b[0;34m\u001b[0m\u001b[0m\n\u001b[0m\u001b[1;32m   2231\u001b[0m \u001b[0;34m\u001b[0m\u001b[0m\n\u001b[1;32m   2232\u001b[0m             \u001b[0;32mif\u001b[0m \u001b[0mbbox_inches\u001b[0m\u001b[0;34m:\u001b[0m\u001b[0;34m\u001b[0m\u001b[0;34m\u001b[0m\u001b[0m\n",
      "\u001b[0;32m/opt/anaconda3/envs/vizz38/lib/python3.8/site-packages/matplotlib/artist.py\u001b[0m in \u001b[0;36mdraw_wrapper\u001b[0;34m(artist, renderer, *args, **kwargs)\u001b[0m\n\u001b[1;32m     72\u001b[0m     \u001b[0;34m@\u001b[0m\u001b[0mwraps\u001b[0m\u001b[0;34m(\u001b[0m\u001b[0mdraw\u001b[0m\u001b[0;34m)\u001b[0m\u001b[0;34m\u001b[0m\u001b[0;34m\u001b[0m\u001b[0m\n\u001b[1;32m     73\u001b[0m     \u001b[0;32mdef\u001b[0m \u001b[0mdraw_wrapper\u001b[0m\u001b[0;34m(\u001b[0m\u001b[0martist\u001b[0m\u001b[0;34m,\u001b[0m \u001b[0mrenderer\u001b[0m\u001b[0;34m,\u001b[0m \u001b[0;34m*\u001b[0m\u001b[0margs\u001b[0m\u001b[0;34m,\u001b[0m \u001b[0;34m**\u001b[0m\u001b[0mkwargs\u001b[0m\u001b[0;34m)\u001b[0m\u001b[0;34m:\u001b[0m\u001b[0;34m\u001b[0m\u001b[0;34m\u001b[0m\u001b[0m\n\u001b[0;32m---> 74\u001b[0;31m         \u001b[0mresult\u001b[0m \u001b[0;34m=\u001b[0m \u001b[0mdraw\u001b[0m\u001b[0;34m(\u001b[0m\u001b[0martist\u001b[0m\u001b[0;34m,\u001b[0m \u001b[0mrenderer\u001b[0m\u001b[0;34m,\u001b[0m \u001b[0;34m*\u001b[0m\u001b[0margs\u001b[0m\u001b[0;34m,\u001b[0m \u001b[0;34m**\u001b[0m\u001b[0mkwargs\u001b[0m\u001b[0;34m)\u001b[0m\u001b[0;34m\u001b[0m\u001b[0;34m\u001b[0m\u001b[0m\n\u001b[0m\u001b[1;32m     75\u001b[0m         \u001b[0;32mif\u001b[0m \u001b[0mrenderer\u001b[0m\u001b[0;34m.\u001b[0m\u001b[0m_rasterizing\u001b[0m\u001b[0;34m:\u001b[0m\u001b[0;34m\u001b[0m\u001b[0;34m\u001b[0m\u001b[0m\n\u001b[1;32m     76\u001b[0m             \u001b[0mrenderer\u001b[0m\u001b[0;34m.\u001b[0m\u001b[0mstop_rasterizing\u001b[0m\u001b[0;34m(\u001b[0m\u001b[0;34m)\u001b[0m\u001b[0;34m\u001b[0m\u001b[0;34m\u001b[0m\u001b[0m\n",
      "\u001b[0;32m/opt/anaconda3/envs/vizz38/lib/python3.8/site-packages/matplotlib/artist.py\u001b[0m in \u001b[0;36mdraw_wrapper\u001b[0;34m(artist, renderer, *args, **kwargs)\u001b[0m\n\u001b[1;32m     49\u001b[0m                 \u001b[0mrenderer\u001b[0m\u001b[0;34m.\u001b[0m\u001b[0mstart_filter\u001b[0m\u001b[0;34m(\u001b[0m\u001b[0;34m)\u001b[0m\u001b[0;34m\u001b[0m\u001b[0;34m\u001b[0m\u001b[0m\n\u001b[1;32m     50\u001b[0m \u001b[0;34m\u001b[0m\u001b[0m\n\u001b[0;32m---> 51\u001b[0;31m             \u001b[0;32mreturn\u001b[0m \u001b[0mdraw\u001b[0m\u001b[0;34m(\u001b[0m\u001b[0martist\u001b[0m\u001b[0;34m,\u001b[0m \u001b[0mrenderer\u001b[0m\u001b[0;34m,\u001b[0m \u001b[0;34m*\u001b[0m\u001b[0margs\u001b[0m\u001b[0;34m,\u001b[0m \u001b[0;34m**\u001b[0m\u001b[0mkwargs\u001b[0m\u001b[0;34m)\u001b[0m\u001b[0;34m\u001b[0m\u001b[0;34m\u001b[0m\u001b[0m\n\u001b[0m\u001b[1;32m     52\u001b[0m         \u001b[0;32mfinally\u001b[0m\u001b[0;34m:\u001b[0m\u001b[0;34m\u001b[0m\u001b[0;34m\u001b[0m\u001b[0m\n\u001b[1;32m     53\u001b[0m             \u001b[0;32mif\u001b[0m \u001b[0martist\u001b[0m\u001b[0;34m.\u001b[0m\u001b[0mget_agg_filter\u001b[0m\u001b[0;34m(\u001b[0m\u001b[0;34m)\u001b[0m \u001b[0;32mis\u001b[0m \u001b[0;32mnot\u001b[0m \u001b[0;32mNone\u001b[0m\u001b[0;34m:\u001b[0m\u001b[0;34m\u001b[0m\u001b[0;34m\u001b[0m\u001b[0m\n",
      "\u001b[0;32m/opt/anaconda3/envs/vizz38/lib/python3.8/site-packages/matplotlib/figure.py\u001b[0m in \u001b[0;36mdraw\u001b[0;34m(self, renderer)\u001b[0m\n\u001b[1;32m   2788\u001b[0m \u001b[0;34m\u001b[0m\u001b[0m\n\u001b[1;32m   2789\u001b[0m             \u001b[0mself\u001b[0m\u001b[0;34m.\u001b[0m\u001b[0mpatch\u001b[0m\u001b[0;34m.\u001b[0m\u001b[0mdraw\u001b[0m\u001b[0;34m(\u001b[0m\u001b[0mrenderer\u001b[0m\u001b[0;34m)\u001b[0m\u001b[0;34m\u001b[0m\u001b[0;34m\u001b[0m\u001b[0m\n\u001b[0;32m-> 2790\u001b[0;31m             mimage._draw_list_compositing_images(\n\u001b[0m\u001b[1;32m   2791\u001b[0m                 renderer, self, artists, self.suppressComposite)\n\u001b[1;32m   2792\u001b[0m \u001b[0;34m\u001b[0m\u001b[0m\n",
      "\u001b[0;32m/opt/anaconda3/envs/vizz38/lib/python3.8/site-packages/matplotlib/image.py\u001b[0m in \u001b[0;36m_draw_list_compositing_images\u001b[0;34m(renderer, parent, artists, suppress_composite)\u001b[0m\n\u001b[1;32m    130\u001b[0m     \u001b[0;32mif\u001b[0m \u001b[0mnot_composite\u001b[0m \u001b[0;32mor\u001b[0m \u001b[0;32mnot\u001b[0m \u001b[0mhas_images\u001b[0m\u001b[0;34m:\u001b[0m\u001b[0;34m\u001b[0m\u001b[0;34m\u001b[0m\u001b[0m\n\u001b[1;32m    131\u001b[0m         \u001b[0;32mfor\u001b[0m \u001b[0ma\u001b[0m \u001b[0;32min\u001b[0m \u001b[0martists\u001b[0m\u001b[0;34m:\u001b[0m\u001b[0;34m\u001b[0m\u001b[0;34m\u001b[0m\u001b[0m\n\u001b[0;32m--> 132\u001b[0;31m             \u001b[0ma\u001b[0m\u001b[0;34m.\u001b[0m\u001b[0mdraw\u001b[0m\u001b[0;34m(\u001b[0m\u001b[0mrenderer\u001b[0m\u001b[0;34m)\u001b[0m\u001b[0;34m\u001b[0m\u001b[0;34m\u001b[0m\u001b[0m\n\u001b[0m\u001b[1;32m    133\u001b[0m     \u001b[0;32melse\u001b[0m\u001b[0;34m:\u001b[0m\u001b[0;34m\u001b[0m\u001b[0;34m\u001b[0m\u001b[0m\n\u001b[1;32m    134\u001b[0m         \u001b[0;31m# Composite any adjacent images together\u001b[0m\u001b[0;34m\u001b[0m\u001b[0;34m\u001b[0m\u001b[0;34m\u001b[0m\u001b[0m\n",
      "\u001b[0;32m/opt/anaconda3/envs/vizz38/lib/python3.8/site-packages/matplotlib/artist.py\u001b[0m in \u001b[0;36mdraw_wrapper\u001b[0;34m(artist, renderer, *args, **kwargs)\u001b[0m\n\u001b[1;32m     49\u001b[0m                 \u001b[0mrenderer\u001b[0m\u001b[0;34m.\u001b[0m\u001b[0mstart_filter\u001b[0m\u001b[0;34m(\u001b[0m\u001b[0;34m)\u001b[0m\u001b[0;34m\u001b[0m\u001b[0;34m\u001b[0m\u001b[0m\n\u001b[1;32m     50\u001b[0m \u001b[0;34m\u001b[0m\u001b[0m\n\u001b[0;32m---> 51\u001b[0;31m             \u001b[0;32mreturn\u001b[0m \u001b[0mdraw\u001b[0m\u001b[0;34m(\u001b[0m\u001b[0martist\u001b[0m\u001b[0;34m,\u001b[0m \u001b[0mrenderer\u001b[0m\u001b[0;34m,\u001b[0m \u001b[0;34m*\u001b[0m\u001b[0margs\u001b[0m\u001b[0;34m,\u001b[0m \u001b[0;34m**\u001b[0m\u001b[0mkwargs\u001b[0m\u001b[0;34m)\u001b[0m\u001b[0;34m\u001b[0m\u001b[0;34m\u001b[0m\u001b[0m\n\u001b[0m\u001b[1;32m     52\u001b[0m         \u001b[0;32mfinally\u001b[0m\u001b[0;34m:\u001b[0m\u001b[0;34m\u001b[0m\u001b[0;34m\u001b[0m\u001b[0m\n\u001b[1;32m     53\u001b[0m             \u001b[0;32mif\u001b[0m \u001b[0martist\u001b[0m\u001b[0;34m.\u001b[0m\u001b[0mget_agg_filter\u001b[0m\u001b[0;34m(\u001b[0m\u001b[0;34m)\u001b[0m \u001b[0;32mis\u001b[0m \u001b[0;32mnot\u001b[0m \u001b[0;32mNone\u001b[0m\u001b[0;34m:\u001b[0m\u001b[0;34m\u001b[0m\u001b[0;34m\u001b[0m\u001b[0m\n",
      "\u001b[0;32m/opt/anaconda3/envs/vizz38/lib/python3.8/site-packages/matplotlib/_api/deprecation.py\u001b[0m in \u001b[0;36mwrapper\u001b[0;34m(*inner_args, **inner_kwargs)\u001b[0m\n\u001b[1;32m    429\u001b[0m                          \u001b[0;32melse\u001b[0m \u001b[0mdeprecation_addendum\u001b[0m\u001b[0;34m,\u001b[0m\u001b[0;34m\u001b[0m\u001b[0;34m\u001b[0m\u001b[0m\n\u001b[1;32m    430\u001b[0m                 **kwargs)\n\u001b[0;32m--> 431\u001b[0;31m         \u001b[0;32mreturn\u001b[0m \u001b[0mfunc\u001b[0m\u001b[0;34m(\u001b[0m\u001b[0;34m*\u001b[0m\u001b[0minner_args\u001b[0m\u001b[0;34m,\u001b[0m \u001b[0;34m**\u001b[0m\u001b[0minner_kwargs\u001b[0m\u001b[0;34m)\u001b[0m\u001b[0;34m\u001b[0m\u001b[0;34m\u001b[0m\u001b[0m\n\u001b[0m\u001b[1;32m    432\u001b[0m \u001b[0;34m\u001b[0m\u001b[0m\n\u001b[1;32m    433\u001b[0m     \u001b[0;32mreturn\u001b[0m \u001b[0mwrapper\u001b[0m\u001b[0;34m\u001b[0m\u001b[0;34m\u001b[0m\u001b[0m\n",
      "\u001b[0;32m/opt/anaconda3/envs/vizz38/lib/python3.8/site-packages/matplotlib/axes/_base.py\u001b[0m in \u001b[0;36mdraw\u001b[0;34m(self, renderer, inframe)\u001b[0m\n\u001b[1;32m   2919\u001b[0m             \u001b[0mrenderer\u001b[0m\u001b[0;34m.\u001b[0m\u001b[0mstop_rasterizing\u001b[0m\u001b[0;34m(\u001b[0m\u001b[0;34m)\u001b[0m\u001b[0;34m\u001b[0m\u001b[0;34m\u001b[0m\u001b[0m\n\u001b[1;32m   2920\u001b[0m \u001b[0;34m\u001b[0m\u001b[0m\n\u001b[0;32m-> 2921\u001b[0;31m         \u001b[0mmimage\u001b[0m\u001b[0;34m.\u001b[0m\u001b[0m_draw_list_compositing_images\u001b[0m\u001b[0;34m(\u001b[0m\u001b[0mrenderer\u001b[0m\u001b[0;34m,\u001b[0m \u001b[0mself\u001b[0m\u001b[0;34m,\u001b[0m \u001b[0martists\u001b[0m\u001b[0;34m)\u001b[0m\u001b[0;34m\u001b[0m\u001b[0;34m\u001b[0m\u001b[0m\n\u001b[0m\u001b[1;32m   2922\u001b[0m \u001b[0;34m\u001b[0m\u001b[0m\n\u001b[1;32m   2923\u001b[0m         \u001b[0mrenderer\u001b[0m\u001b[0;34m.\u001b[0m\u001b[0mclose_group\u001b[0m\u001b[0;34m(\u001b[0m\u001b[0;34m'axes'\u001b[0m\u001b[0;34m)\u001b[0m\u001b[0;34m\u001b[0m\u001b[0;34m\u001b[0m\u001b[0m\n",
      "\u001b[0;32m/opt/anaconda3/envs/vizz38/lib/python3.8/site-packages/matplotlib/image.py\u001b[0m in \u001b[0;36m_draw_list_compositing_images\u001b[0;34m(renderer, parent, artists, suppress_composite)\u001b[0m\n\u001b[1;32m    130\u001b[0m     \u001b[0;32mif\u001b[0m \u001b[0mnot_composite\u001b[0m \u001b[0;32mor\u001b[0m \u001b[0;32mnot\u001b[0m \u001b[0mhas_images\u001b[0m\u001b[0;34m:\u001b[0m\u001b[0;34m\u001b[0m\u001b[0;34m\u001b[0m\u001b[0m\n\u001b[1;32m    131\u001b[0m         \u001b[0;32mfor\u001b[0m \u001b[0ma\u001b[0m \u001b[0;32min\u001b[0m \u001b[0martists\u001b[0m\u001b[0;34m:\u001b[0m\u001b[0;34m\u001b[0m\u001b[0;34m\u001b[0m\u001b[0m\n\u001b[0;32m--> 132\u001b[0;31m             \u001b[0ma\u001b[0m\u001b[0;34m.\u001b[0m\u001b[0mdraw\u001b[0m\u001b[0;34m(\u001b[0m\u001b[0mrenderer\u001b[0m\u001b[0;34m)\u001b[0m\u001b[0;34m\u001b[0m\u001b[0;34m\u001b[0m\u001b[0m\n\u001b[0m\u001b[1;32m    133\u001b[0m     \u001b[0;32melse\u001b[0m\u001b[0;34m:\u001b[0m\u001b[0;34m\u001b[0m\u001b[0;34m\u001b[0m\u001b[0m\n\u001b[1;32m    134\u001b[0m         \u001b[0;31m# Composite any adjacent images together\u001b[0m\u001b[0;34m\u001b[0m\u001b[0;34m\u001b[0m\u001b[0;34m\u001b[0m\u001b[0m\n",
      "\u001b[0;32m/opt/anaconda3/envs/vizz38/lib/python3.8/site-packages/matplotlib/artist.py\u001b[0m in \u001b[0;36mdraw_wrapper\u001b[0;34m(artist, renderer, *args, **kwargs)\u001b[0m\n\u001b[1;32m     49\u001b[0m                 \u001b[0mrenderer\u001b[0m\u001b[0;34m.\u001b[0m\u001b[0mstart_filter\u001b[0m\u001b[0;34m(\u001b[0m\u001b[0;34m)\u001b[0m\u001b[0;34m\u001b[0m\u001b[0;34m\u001b[0m\u001b[0m\n\u001b[1;32m     50\u001b[0m \u001b[0;34m\u001b[0m\u001b[0m\n\u001b[0;32m---> 51\u001b[0;31m             \u001b[0;32mreturn\u001b[0m \u001b[0mdraw\u001b[0m\u001b[0;34m(\u001b[0m\u001b[0martist\u001b[0m\u001b[0;34m,\u001b[0m \u001b[0mrenderer\u001b[0m\u001b[0;34m,\u001b[0m \u001b[0;34m*\u001b[0m\u001b[0margs\u001b[0m\u001b[0;34m,\u001b[0m \u001b[0;34m**\u001b[0m\u001b[0mkwargs\u001b[0m\u001b[0;34m)\u001b[0m\u001b[0;34m\u001b[0m\u001b[0;34m\u001b[0m\u001b[0m\n\u001b[0m\u001b[1;32m     52\u001b[0m         \u001b[0;32mfinally\u001b[0m\u001b[0;34m:\u001b[0m\u001b[0;34m\u001b[0m\u001b[0;34m\u001b[0m\u001b[0m\n\u001b[1;32m     53\u001b[0m             \u001b[0;32mif\u001b[0m \u001b[0martist\u001b[0m\u001b[0;34m.\u001b[0m\u001b[0mget_agg_filter\u001b[0m\u001b[0;34m(\u001b[0m\u001b[0;34m)\u001b[0m \u001b[0;32mis\u001b[0m \u001b[0;32mnot\u001b[0m \u001b[0;32mNone\u001b[0m\u001b[0;34m:\u001b[0m\u001b[0;34m\u001b[0m\u001b[0;34m\u001b[0m\u001b[0m\n",
      "\u001b[0;32m/opt/anaconda3/envs/vizz38/lib/python3.8/site-packages/matplotlib/axis.py\u001b[0m in \u001b[0;36mdraw\u001b[0;34m(self, renderer, *args, **kwargs)\u001b[0m\n\u001b[1;32m   1139\u001b[0m         \u001b[0mrenderer\u001b[0m\u001b[0;34m.\u001b[0m\u001b[0mopen_group\u001b[0m\u001b[0;34m(\u001b[0m\u001b[0m__name__\u001b[0m\u001b[0;34m,\u001b[0m \u001b[0mgid\u001b[0m\u001b[0;34m=\u001b[0m\u001b[0mself\u001b[0m\u001b[0;34m.\u001b[0m\u001b[0mget_gid\u001b[0m\u001b[0;34m(\u001b[0m\u001b[0;34m)\u001b[0m\u001b[0;34m)\u001b[0m\u001b[0;34m\u001b[0m\u001b[0;34m\u001b[0m\u001b[0m\n\u001b[1;32m   1140\u001b[0m \u001b[0;34m\u001b[0m\u001b[0m\n\u001b[0;32m-> 1141\u001b[0;31m         \u001b[0mticks_to_draw\u001b[0m \u001b[0;34m=\u001b[0m \u001b[0mself\u001b[0m\u001b[0;34m.\u001b[0m\u001b[0m_update_ticks\u001b[0m\u001b[0;34m(\u001b[0m\u001b[0;34m)\u001b[0m\u001b[0;34m\u001b[0m\u001b[0;34m\u001b[0m\u001b[0m\n\u001b[0m\u001b[1;32m   1142\u001b[0m         ticklabelBoxes, ticklabelBoxes2 = self._get_tick_bboxes(ticks_to_draw,\n\u001b[1;32m   1143\u001b[0m                                                                 renderer)\n",
      "\u001b[0;32m/opt/anaconda3/envs/vizz38/lib/python3.8/site-packages/matplotlib/axis.py\u001b[0m in \u001b[0;36m_update_ticks\u001b[0;34m(self)\u001b[0m\n\u001b[1;32m   1026\u001b[0m         \u001b[0mthe\u001b[0m \u001b[0maxes\u001b[0m\u001b[0;34m.\u001b[0m  \u001b[0mReturn\u001b[0m \u001b[0mthe\u001b[0m \u001b[0mlist\u001b[0m \u001b[0mof\u001b[0m \u001b[0mticks\u001b[0m \u001b[0mthat\u001b[0m \u001b[0mwill\u001b[0m \u001b[0mbe\u001b[0m \u001b[0mdrawn\u001b[0m\u001b[0;34m.\u001b[0m\u001b[0;34m\u001b[0m\u001b[0;34m\u001b[0m\u001b[0m\n\u001b[1;32m   1027\u001b[0m         \"\"\"\n\u001b[0;32m-> 1028\u001b[0;31m         \u001b[0mmajor_locs\u001b[0m \u001b[0;34m=\u001b[0m \u001b[0mself\u001b[0m\u001b[0;34m.\u001b[0m\u001b[0mget_majorticklocs\u001b[0m\u001b[0;34m(\u001b[0m\u001b[0;34m)\u001b[0m\u001b[0;34m\u001b[0m\u001b[0;34m\u001b[0m\u001b[0m\n\u001b[0m\u001b[1;32m   1029\u001b[0m         \u001b[0mmajor_labels\u001b[0m \u001b[0;34m=\u001b[0m \u001b[0mself\u001b[0m\u001b[0;34m.\u001b[0m\u001b[0mmajor\u001b[0m\u001b[0;34m.\u001b[0m\u001b[0mformatter\u001b[0m\u001b[0;34m.\u001b[0m\u001b[0mformat_ticks\u001b[0m\u001b[0;34m(\u001b[0m\u001b[0mmajor_locs\u001b[0m\u001b[0;34m)\u001b[0m\u001b[0;34m\u001b[0m\u001b[0;34m\u001b[0m\u001b[0m\n\u001b[1;32m   1030\u001b[0m         \u001b[0mmajor_ticks\u001b[0m \u001b[0;34m=\u001b[0m \u001b[0mself\u001b[0m\u001b[0;34m.\u001b[0m\u001b[0mget_major_ticks\u001b[0m\u001b[0;34m(\u001b[0m\u001b[0mlen\u001b[0m\u001b[0;34m(\u001b[0m\u001b[0mmajor_locs\u001b[0m\u001b[0;34m)\u001b[0m\u001b[0;34m)\u001b[0m\u001b[0;34m\u001b[0m\u001b[0;34m\u001b[0m\u001b[0m\n",
      "\u001b[0;32m/opt/anaconda3/envs/vizz38/lib/python3.8/site-packages/matplotlib/axis.py\u001b[0m in \u001b[0;36mget_majorticklocs\u001b[0;34m(self)\u001b[0m\n\u001b[1;32m   1258\u001b[0m     \u001b[0;32mdef\u001b[0m \u001b[0mget_majorticklocs\u001b[0m\u001b[0;34m(\u001b[0m\u001b[0mself\u001b[0m\u001b[0;34m)\u001b[0m\u001b[0;34m:\u001b[0m\u001b[0;34m\u001b[0m\u001b[0;34m\u001b[0m\u001b[0m\n\u001b[1;32m   1259\u001b[0m         \u001b[0;34m\"\"\"Return this Axis' major tick locations in data coordinates.\"\"\"\u001b[0m\u001b[0;34m\u001b[0m\u001b[0;34m\u001b[0m\u001b[0m\n\u001b[0;32m-> 1260\u001b[0;31m         \u001b[0;32mreturn\u001b[0m \u001b[0mself\u001b[0m\u001b[0;34m.\u001b[0m\u001b[0mmajor\u001b[0m\u001b[0;34m.\u001b[0m\u001b[0mlocator\u001b[0m\u001b[0;34m(\u001b[0m\u001b[0;34m)\u001b[0m\u001b[0;34m\u001b[0m\u001b[0;34m\u001b[0m\u001b[0m\n\u001b[0m\u001b[1;32m   1261\u001b[0m \u001b[0;34m\u001b[0m\u001b[0m\n\u001b[1;32m   1262\u001b[0m     \u001b[0;32mdef\u001b[0m \u001b[0mget_minorticklocs\u001b[0m\u001b[0;34m(\u001b[0m\u001b[0mself\u001b[0m\u001b[0;34m)\u001b[0m\u001b[0;34m:\u001b[0m\u001b[0;34m\u001b[0m\u001b[0;34m\u001b[0m\u001b[0m\n",
      "\u001b[0;32m/opt/anaconda3/envs/vizz38/lib/python3.8/site-packages/matplotlib/ticker.py\u001b[0m in \u001b[0;36m__call__\u001b[0;34m(self)\u001b[0m\n\u001b[1;32m   2262\u001b[0m     \u001b[0;32mdef\u001b[0m \u001b[0m__call__\u001b[0m\u001b[0;34m(\u001b[0m\u001b[0mself\u001b[0m\u001b[0;34m)\u001b[0m\u001b[0;34m:\u001b[0m\u001b[0;34m\u001b[0m\u001b[0;34m\u001b[0m\u001b[0m\n\u001b[1;32m   2263\u001b[0m         \u001b[0mvmin\u001b[0m\u001b[0;34m,\u001b[0m \u001b[0mvmax\u001b[0m \u001b[0;34m=\u001b[0m \u001b[0mself\u001b[0m\u001b[0;34m.\u001b[0m\u001b[0maxis\u001b[0m\u001b[0;34m.\u001b[0m\u001b[0mget_view_interval\u001b[0m\u001b[0;34m(\u001b[0m\u001b[0;34m)\u001b[0m\u001b[0;34m\u001b[0m\u001b[0;34m\u001b[0m\u001b[0m\n\u001b[0;32m-> 2264\u001b[0;31m         \u001b[0;32mreturn\u001b[0m \u001b[0mself\u001b[0m\u001b[0;34m.\u001b[0m\u001b[0mtick_values\u001b[0m\u001b[0;34m(\u001b[0m\u001b[0mvmin\u001b[0m\u001b[0;34m,\u001b[0m \u001b[0mvmax\u001b[0m\u001b[0;34m)\u001b[0m\u001b[0;34m\u001b[0m\u001b[0;34m\u001b[0m\u001b[0m\n\u001b[0m\u001b[1;32m   2265\u001b[0m \u001b[0;34m\u001b[0m\u001b[0m\n\u001b[1;32m   2266\u001b[0m     \u001b[0;32mdef\u001b[0m \u001b[0mtick_values\u001b[0m\u001b[0;34m(\u001b[0m\u001b[0mself\u001b[0m\u001b[0;34m,\u001b[0m \u001b[0mvmin\u001b[0m\u001b[0;34m,\u001b[0m \u001b[0mvmax\u001b[0m\u001b[0;34m)\u001b[0m\u001b[0;34m:\u001b[0m\u001b[0;34m\u001b[0m\u001b[0;34m\u001b[0m\u001b[0m\n",
      "\u001b[0;32m/opt/anaconda3/envs/vizz38/lib/python3.8/site-packages/matplotlib/ticker.py\u001b[0m in \u001b[0;36mtick_values\u001b[0;34m(self, vmin, vmax)\u001b[0m\n\u001b[1;32m   2270\u001b[0m         vmin, vmax = mtransforms.nonsingular(\n\u001b[1;32m   2271\u001b[0m             vmin, vmax, expander=1e-13, tiny=1e-14)\n\u001b[0;32m-> 2272\u001b[0;31m         \u001b[0mlocs\u001b[0m \u001b[0;34m=\u001b[0m \u001b[0mself\u001b[0m\u001b[0;34m.\u001b[0m\u001b[0m_raw_ticks\u001b[0m\u001b[0;34m(\u001b[0m\u001b[0mvmin\u001b[0m\u001b[0;34m,\u001b[0m \u001b[0mvmax\u001b[0m\u001b[0;34m)\u001b[0m\u001b[0;34m\u001b[0m\u001b[0;34m\u001b[0m\u001b[0m\n\u001b[0m\u001b[1;32m   2273\u001b[0m \u001b[0;34m\u001b[0m\u001b[0m\n\u001b[1;32m   2274\u001b[0m         \u001b[0mprune\u001b[0m \u001b[0;34m=\u001b[0m \u001b[0mself\u001b[0m\u001b[0;34m.\u001b[0m\u001b[0m_prune\u001b[0m\u001b[0;34m\u001b[0m\u001b[0;34m\u001b[0m\u001b[0m\n",
      "\u001b[0;32m/opt/anaconda3/envs/vizz38/lib/python3.8/site-packages/matplotlib/ticker.py\u001b[0m in \u001b[0;36m_raw_ticks\u001b[0;34m(self, vmin, vmax)\u001b[0m\n\u001b[1;32m   2209\u001b[0m         \u001b[0;32mif\u001b[0m \u001b[0mself\u001b[0m\u001b[0;34m.\u001b[0m\u001b[0m_nbins\u001b[0m \u001b[0;34m==\u001b[0m \u001b[0;34m'auto'\u001b[0m\u001b[0;34m:\u001b[0m\u001b[0;34m\u001b[0m\u001b[0;34m\u001b[0m\u001b[0m\n\u001b[1;32m   2210\u001b[0m             \u001b[0;32mif\u001b[0m \u001b[0mself\u001b[0m\u001b[0;34m.\u001b[0m\u001b[0maxis\u001b[0m \u001b[0;32mis\u001b[0m \u001b[0;32mnot\u001b[0m \u001b[0;32mNone\u001b[0m\u001b[0;34m:\u001b[0m\u001b[0;34m\u001b[0m\u001b[0;34m\u001b[0m\u001b[0m\n\u001b[0;32m-> 2211\u001b[0;31m                 nbins = np.clip(self.axis.get_tick_space(),\n\u001b[0m\u001b[1;32m   2212\u001b[0m                                 max(1, self._min_n_ticks - 1), 9)\n\u001b[1;32m   2213\u001b[0m             \u001b[0;32melse\u001b[0m\u001b[0;34m:\u001b[0m\u001b[0;34m\u001b[0m\u001b[0;34m\u001b[0m\u001b[0m\n",
      "\u001b[0;32m/opt/anaconda3/envs/vizz38/lib/python3.8/site-packages/matplotlib/axis.py\u001b[0m in \u001b[0;36mget_tick_space\u001b[0;34m(self)\u001b[0m\n\u001b[1;32m   2275\u001b[0m         \u001b[0msize\u001b[0m \u001b[0;34m=\u001b[0m \u001b[0mself\u001b[0m\u001b[0;34m.\u001b[0m\u001b[0m_get_tick_label_size\u001b[0m\u001b[0;34m(\u001b[0m\u001b[0;34m'x'\u001b[0m\u001b[0;34m)\u001b[0m \u001b[0;34m*\u001b[0m \u001b[0;36m3\u001b[0m\u001b[0;34m\u001b[0m\u001b[0;34m\u001b[0m\u001b[0m\n\u001b[1;32m   2276\u001b[0m         \u001b[0;32mif\u001b[0m \u001b[0msize\u001b[0m \u001b[0;34m>\u001b[0m \u001b[0;36m0\u001b[0m\u001b[0;34m:\u001b[0m\u001b[0;34m\u001b[0m\u001b[0;34m\u001b[0m\u001b[0m\n\u001b[0;32m-> 2277\u001b[0;31m             \u001b[0;32mreturn\u001b[0m \u001b[0mint\u001b[0m\u001b[0;34m(\u001b[0m\u001b[0mnp\u001b[0m\u001b[0;34m.\u001b[0m\u001b[0mfloor\u001b[0m\u001b[0;34m(\u001b[0m\u001b[0mlength\u001b[0m \u001b[0;34m/\u001b[0m \u001b[0msize\u001b[0m\u001b[0;34m)\u001b[0m\u001b[0;34m)\u001b[0m\u001b[0;34m\u001b[0m\u001b[0;34m\u001b[0m\u001b[0m\n\u001b[0m\u001b[1;32m   2278\u001b[0m         \u001b[0;32melse\u001b[0m\u001b[0;34m:\u001b[0m\u001b[0;34m\u001b[0m\u001b[0;34m\u001b[0m\u001b[0m\n\u001b[1;32m   2279\u001b[0m             \u001b[0;32mreturn\u001b[0m \u001b[0;36m2\u001b[0m\u001b[0;34m**\u001b[0m\u001b[0;36m31\u001b[0m \u001b[0;34m-\u001b[0m \u001b[0;36m1\u001b[0m\u001b[0;34m\u001b[0m\u001b[0;34m\u001b[0m\u001b[0m\n",
      "\u001b[0;31mValueError\u001b[0m: cannot convert float NaN to integer"
     ]
    },
    {
     "data": {
      "text/plain": [
       "<Figure size 720x720 with 2 Axes>"
      ]
     },
     "metadata": {
      "needs_background": "light"
     },
     "output_type": "display_data"
    }
   ],
   "source": [
    "n= '310492'\n",
    "fig, (ax1,ax2) = plt.subplots(nrows=1,ncols=2,figsize=(10,10))\n",
    "gdf[gdf['WDPA_PID']==n].geometry.plot(ax = ax1) \n",
    "sim3[sim3['WDPA_PID']==n].geometry.plot(ax = ax2)"
   ]
  },
  {
   "cell_type": "code",
   "execution_count": 46,
   "metadata": {},
   "outputs": [
    {
     "data": {
      "text/plain": [
       "<AxesSubplot:>"
      ]
     },
     "execution_count": 46,
     "metadata": {},
     "output_type": "execute_result"
    },
    {
     "data": {
      "image/png": "[encoded data removed]",
      "text/plain": [
       "<Figure size 720x720 with 2 Axes>"
      ]
     },
     "metadata": {
      "needs_background": "light"
     },
     "output_type": "display_data"
    }
   ],
   "source": [
    "n = '20609'\n",
    "fig, (ax1,ax2) = plt.subplots(nrows=1,ncols=2,figsize=(10,10))\n",
    "gdf[gdf['WDPA_PID']==n].geometry.plot(ax = ax1) \n",
    "sim3[sim3['WDPA_PID']==n].geometry.plot(ax = ax2)"
   ]
  },
  {
   "cell_type": "code",
   "execution_count": 47,
   "metadata": {},
   "outputs": [
    {
     "data": {
      "text/plain": [
       "<AxesSubplot:>"
      ]
     },
     "execution_count": 47,
     "metadata": {},
     "output_type": "execute_result"
    },
    {
     "data": {
      "image/png": "[encoded data removed]",
      "text/plain": [
       "<Figure size 720x720 with 2 Axes>"
      ]
     },
     "metadata": {
      "needs_background": "light"
     },
     "output_type": "display_data"
    }
   ],
   "source": [
    "n = '555534655'\n",
    "fig, (ax1,ax2) = plt.subplots(nrows=1,ncols=2,figsize=(10,10))\n",
    "gdf[gdf['WDPA_PID']==n].geometry.plot(ax = ax1) \n",
    "sim3[sim3['WDPA_PID']==n].geometry.plot(ax = ax2)"
   ]
  },
  {
   "cell_type": "code",
   "execution_count": 48,
   "metadata": {},
   "outputs": [
    {
     "data": {
      "text/plain": [
       "<AxesSubplot:>"
      ]
     },
     "execution_count": 48,
     "metadata": {},
     "output_type": "execute_result"
    },
    {
     "data": {
      "image/png": "[encoded data removed]",
      "text/plain": [
       "<Figure size 720x720 with 2 Axes>"
      ]
     },
     "metadata": {
      "needs_background": "light"
     },
     "output_type": "display_data"
    }
   ],
   "source": [
    "n = '555703244'\n",
    "fig, (ax1,ax2) = plt.subplots(nrows=1,ncols=2,figsize=(10,10))\n",
    "gdf[gdf['WDPA_PID']==n].geometry.plot(ax = ax1) \n",
    "sim3[sim3['WDPA_PID']==n].geometry.plot(ax = ax2)"
   ]
  },
  {
   "cell_type": "code",
   "execution_count": 49,
   "metadata": {},
   "outputs": [],
   "source": [
    "# Save file in local\n",
    "sim3.to_file(f'{path}/Simplifications/WDPA_Ter_Simp99', driver= 'ESRI Shapefile')"
   ]
  },
  {
   "cell_type": "code",
   "execution_count": null,
   "metadata": {},
   "outputs": [],
   "source": []
  },
  {
   "cell_type": "markdown",
   "metadata": {
    "jp-MarkdownHeadingCollapsed": true,
    "tags": []
   },
   "source": [
    "---------------\n",
    "## Marine WDPA (pending)"
   ]
  },
  {
   "cell_type": "code",
   "execution_count": 2,
   "metadata": {},
   "outputs": [],
   "source": [
    "# Create unzipped folder so mapshaper can bring the shp\n",
    "zipfile = '/Users/sofia/Documents/HE_Data/WDPA_FILTERED_20210615_FILTERED_all_with_oecm_wdpa_100mTol'\n",
    "unzipfile = ZipFile(f'{zipfile}.zip').extractall(zipfile)\n",
    "# file_in = f'{zipfile}/WDPA_FILTERED_20210615_FILTERED_all_with_oecm_wdpa_100mTol.shp'\n",
    "# file_out = '/Users/sofia/Documents/HE_Data/WDPA_simple.shp'"
   ]
  },
  {
   "cell_type": "code",
   "execution_count": null,
   "metadata": {},
   "outputs": [],
   "source": [
    "### Inspect file\n",
    "# gdf = gpd.read_file(file_in)"
   ]
  },
  {
   "cell_type": "code",
   "execution_count": 2,
   "metadata": {},
   "outputs": [
    {
     "data": {
      "text/plain": [
       "224133"
      ]
     },
     "execution_count": 2,
     "metadata": {},
     "output_type": "execute_result"
    }
   ],
   "source": [
    "# Read file\n",
    "gdf = gpd.read_file('zip:///Users/sofia/Documents/HE_Data/WDPA_FILTERED_20210615_FILTERED_all_with_oecm_wdpa_100mTol.zip')\n",
    "len(gdf)"
   ]
  },
  {
   "cell_type": "code",
   "execution_count": 3,
   "metadata": {},
   "outputs": [
    {
     "data": {
      "text/html": [
       "<div>\n",
       "<style scoped>\n",
       "    .dataframe tbody tr th:only-of-type {\n",
       "        vertical-align: middle;\n",
       "    }\n",
       "\n",
       "    .dataframe tbody tr th {\n",
       "        vertical-align: top;\n",
       "    }\n",
       "\n",
       "    .dataframe thead th {\n",
       "        text-align: right;\n",
       "    }\n",
       "</style>\n",
       "<table border=\"1\" class=\"dataframe\">\n",
       "  <thead>\n",
       "    <tr style=\"text-align: right;\">\n",
       "      <th></th>\n",
       "      <th>WDPAID</th>\n",
       "      <th>WDPA_PID</th>\n",
       "      <th>PA_DEF</th>\n",
       "      <th>NAME</th>\n",
       "      <th>ORIG_NA</th>\n",
       "      <th>DESIG</th>\n",
       "      <th>DESIG_E</th>\n",
       "      <th>DESIG_T</th>\n",
       "      <th>IUCN_CA</th>\n",
       "      <th>INT_CRI</th>\n",
       "      <th>...</th>\n",
       "      <th>ISO3</th>\n",
       "      <th>SUPP_IN</th>\n",
       "      <th>CONS_OB</th>\n",
       "      <th>SORTER</th>\n",
       "      <th>WDPA_PID_h</th>\n",
       "      <th>WDPA_PID__</th>\n",
       "      <th>hash_vl</th>\n",
       "      <th>AREA_KM</th>\n",
       "      <th>MOL_ID</th>\n",
       "      <th>geometry</th>\n",
       "    </tr>\n",
       "  </thead>\n",
       "  <tbody>\n",
       "    <tr>\n",
       "      <th>177470</th>\n",
       "      <td>394131.0</td>\n",
       "      <td>394131</td>\n",
       "      <td>1</td>\n",
       "      <td>\"Fonds Gatot\" Et \"Laid Mâle\"</td>\n",
       "      <td>\"Fonds Gatot\" Et \"Laid Mâle\"</td>\n",
       "      <td>Site Naturel D'Interêt Scientifique</td>\n",
       "      <td>Scientific Interest Site (Walloon Region)</td>\n",
       "      <td>National</td>\n",
       "      <td>IV</td>\n",
       "      <td>Not Applicable</td>\n",
       "      <td>...</td>\n",
       "      <td>BEL</td>\n",
       "      <td>Not Applicable</td>\n",
       "      <td>Not Applicable</td>\n",
       "      <td>0.0</td>\n",
       "      <td>737c7794</td>\n",
       "      <td>-1628145044</td>\n",
       "      <td>-1628145044</td>\n",
       "      <td>0.100151</td>\n",
       "      <td>177471</td>\n",
       "      <td>MULTIPOLYGON (((4.76254 50.57918, 4.75696 50.5...</td>\n",
       "    </tr>\n",
       "  </tbody>\n",
       "</table>\n",
       "<p>1 rows × 37 columns</p>\n",
       "</div>"
      ],
      "text/plain": [
       "          WDPAID WDPA_PID PA_DEF                          NAME  \\\n",
       "177470  394131.0   394131      1  \"Fonds Gatot\" Et \"Laid Mâle\"   \n",
       "\n",
       "                             ORIG_NA                                DESIG  \\\n",
       "177470  \"Fonds Gatot\" Et \"Laid Mâle\"  Site Naturel D'Interêt Scientifique   \n",
       "\n",
       "                                          DESIG_E   DESIG_T IUCN_CA  \\\n",
       "177470  Scientific Interest Site (Walloon Region)  National      IV   \n",
       "\n",
       "               INT_CRI  ... ISO3         SUPP_IN         CONS_OB  SORTER  \\\n",
       "177470  Not Applicable  ...  BEL  Not Applicable  Not Applicable     0.0   \n",
       "\n",
       "        WDPA_PID_h  WDPA_PID__     hash_vl   AREA_KM  MOL_ID  \\\n",
       "177470    737c7794 -1628145044 -1628145044  0.100151  177471   \n",
       "\n",
       "                                                 geometry  \n",
       "177470  MULTIPOLYGON (((4.76254 50.57918, 4.75696 50.5...  \n",
       "\n",
       "[1 rows x 37 columns]"
      ]
     },
     "execution_count": 3,
     "metadata": {},
     "output_type": "execute_result"
    }
   ],
   "source": [
    "gdf[gdf['WDPA_PID']=='394131'] # reading csv keeps original characters as they are"
   ]
  },
  {
   "cell_type": "markdown",
   "metadata": {},
   "source": [
    "#### There are two WDPA that have weird geometries due to antimeridian:\n",
    "WDPA=220201 and WDPA= 555624810\n",
    "#### These geometries need to be replaced by the correct ones (downloaded from protected planet)"
   ]
  },
  {
   "cell_type": "code",
   "execution_count": 6,
   "metadata": {},
   "outputs": [],
   "source": [
    "## New geometries\n",
    "new1 = gpd.read_file('zip:///Users/sofia/Documents/HE_Data/WDPA_220201.zip')\n",
    "new2= gpd.read_file('zip:///Users/sofia/Documents/HE_Data/WDPA_555624810.zip')\n"
   ]
  },
  {
   "cell_type": "code",
   "execution_count": 7,
   "metadata": {},
   "outputs": [
    {
     "data": {
      "text/plain": [
       "<AxesSubplot:>"
      ]
     },
     "execution_count": 7,
     "metadata": {},
     "output_type": "execute_result"
    },
    {
     "data": {
      "image/png": "[encoded data removed]",
      "text/plain": [
       "<Figure size 720x720 with 2 Axes>"
      ]
     },
     "metadata": {
      "needs_background": "light"
     },
     "output_type": "display_data"
    }
   ],
   "source": [
    "## See example\n",
    "n = 220201 \n",
    "fig, (ax1,ax2) = plt.subplots(nrows=1,ncols=2,figsize=(10,10))\n",
    "gdf[gdf['WDPAID']==n].geometry.plot(ax = ax1) \n",
    "new1[new1['WDPAID']==n].geometry.plot(ax = ax2)"
   ]
  },
  {
   "cell_type": "code",
   "execution_count": 8,
   "metadata": {},
   "outputs": [
    {
     "data": {
      "text/plain": [
       "220579    MULTIPOLYGON (((-163.00000 25.38976, -163.0000...\n",
       "Name: geometry, dtype: geometry"
      ]
     },
     "execution_count": 8,
     "metadata": {},
     "output_type": "execute_result"
    }
   ],
   "source": [
    "## Get index for the geometry in gdf\n",
    "gdf['geometry'][gdf['WDPA_PID'] == '220201']"
   ]
  },
  {
   "cell_type": "code",
   "execution_count": 9,
   "metadata": {},
   "outputs": [
    {
     "data": {
      "text/plain": [
       "0    POLYGON ((-180.00000 -76.00000, -180.00000 -73...\n",
       "Name: geometry, dtype: geometry"
      ]
     },
     "execution_count": 9,
     "metadata": {},
     "output_type": "execute_result"
    }
   ],
   "source": [
    "## Get index for geometry in new datasets\n",
    "new2['geometry'][new2['WDPA_PID'] == '555624810_E']"
   ]
  },
  {
   "cell_type": "code",
   "execution_count": 10,
   "metadata": {},
   "outputs": [],
   "source": [
    "## Replace geometries with correct ones\n",
    "gdf.loc[220579, 'geometry']= new1.loc[[0], 'geometry'].values\n",
    "gdf.loc[207113, 'geometry']= new2.loc[[1], 'geometry'].values\n",
    "gdf.loc[222498, 'geometry']= new2.loc[[2], 'geometry'].values\n",
    "gdf.loc[222499, 'geometry']= new2.loc[[3], 'geometry'].values\n",
    "gdf.loc[222500, 'geometry']= new2.loc[[4], 'geometry'].values\n",
    "gdf.loc[222496, 'geometry']= new2.loc[[0], 'geometry'].values"
   ]
  },
  {
   "cell_type": "code",
   "execution_count": 11,
   "metadata": {},
   "outputs": [],
   "source": [
    "# Create subset with only relevant columns\n",
    "sub = gdf[['WDPAID','WDPA_PID','NAME','ORIG_NA','DESIG','DESIG_E','DESIG_T','IUCN_CA','MARINE','GOV_TYP','ISO3','OWN_TYP','AREA_KM','MOL_ID','geometry']]"
   ]
  },
  {
   "cell_type": "code",
   "execution_count": 13,
   "metadata": {},
   "outputs": [],
   "source": [
    "# Save file in local\n",
    "sub.to_file('/Users/sofia/Documents/HE_Data/WDPA_corrected', driver= 'ESRI Shapefile')"
   ]
  },
  {
   "cell_type": "code",
   "execution_count": 4,
   "metadata": {},
   "outputs": [],
   "source": [
    "c = gpd.read_file('/Users/sofia/Documents/HE_Data/WDPA_corrected')"
   ]
  },
  {
   "cell_type": "code",
   "execution_count": 5,
   "metadata": {},
   "outputs": [
    {
     "data": {
      "text/html": [
       "<div>\n",
       "<style scoped>\n",
       "    .dataframe tbody tr th:only-of-type {\n",
       "        vertical-align: middle;\n",
       "    }\n",
       "\n",
       "    .dataframe tbody tr th {\n",
       "        vertical-align: top;\n",
       "    }\n",
       "\n",
       "    .dataframe thead th {\n",
       "        text-align: right;\n",
       "    }\n",
       "</style>\n",
       "<table border=\"1\" class=\"dataframe\">\n",
       "  <thead>\n",
       "    <tr style=\"text-align: right;\">\n",
       "      <th></th>\n",
       "      <th>WDPAID</th>\n",
       "      <th>WDPA_PID</th>\n",
       "      <th>NAME</th>\n",
       "      <th>ORIG_NA</th>\n",
       "      <th>DESIG</th>\n",
       "      <th>DESIG_E</th>\n",
       "      <th>DESIG_T</th>\n",
       "      <th>IUCN_CA</th>\n",
       "      <th>MARINE</th>\n",
       "      <th>GOV_TYP</th>\n",
       "      <th>ISO3</th>\n",
       "      <th>OWN_TYP</th>\n",
       "      <th>AREA_KM</th>\n",
       "      <th>MOL_ID</th>\n",
       "      <th>geometry</th>\n",
       "    </tr>\n",
       "  </thead>\n",
       "  <tbody>\n",
       "    <tr>\n",
       "      <th>177470</th>\n",
       "      <td>394131.0</td>\n",
       "      <td>394131</td>\n",
       "      <td>\"Fonds Gatot\" Et \"Laid Mâle\"</td>\n",
       "      <td>\"Fonds Gatot\" Et \"Laid Mâle\"</td>\n",
       "      <td>Site Naturel D'Interêt Scientifique</td>\n",
       "      <td>Scientific Interest Site (Walloon Region)</td>\n",
       "      <td>National</td>\n",
       "      <td>IV</td>\n",
       "      <td>0</td>\n",
       "      <td>Federal or national ministry or agency</td>\n",
       "      <td>BEL</td>\n",
       "      <td>Not Reported</td>\n",
       "      <td>0.100151</td>\n",
       "      <td>177471</td>\n",
       "      <td>MULTIPOLYGON (((4.76254 50.57918, 4.75696 50.5...</td>\n",
       "    </tr>\n",
       "  </tbody>\n",
       "</table>\n",
       "</div>"
      ],
      "text/plain": [
       "          WDPAID WDPA_PID                          NAME  \\\n",
       "177470  394131.0   394131  \"Fonds Gatot\" Et \"Laid Mâle\"   \n",
       "\n",
       "                             ORIG_NA                                DESIG  \\\n",
       "177470  \"Fonds Gatot\" Et \"Laid Mâle\"  Site Naturel D'Interêt Scientifique   \n",
       "\n",
       "                                          DESIG_E   DESIG_T IUCN_CA MARINE  \\\n",
       "177470  Scientific Interest Site (Walloon Region)  National      IV      0   \n",
       "\n",
       "                                       GOV_TYP ISO3       OWN_TYP   AREA_KM  \\\n",
       "177470  Federal or national ministry or agency  BEL  Not Reported  0.100151   \n",
       "\n",
       "        MOL_ID                                           geometry  \n",
       "177470  177471  MULTIPOLYGON (((4.76254 50.57918, 4.75696 50.5...  "
      ]
     },
     "execution_count": 5,
     "metadata": {},
     "output_type": "execute_result"
    }
   ],
   "source": [
    "c[c['WDPA_PID']=='394131'] # original characters still there"
   ]
  },
  {
   "cell_type": "markdown",
   "metadata": {},
   "source": [
    "#### Simplification is done in the he-scratch folder, but the outputs have been removed to avoid space issues\n",
    "Note: Run the mapshaper commands directly in terminal if it doesn't work here"
   ]
  },
  {
   "cell_type": "markdown",
   "metadata": {},
   "source": [
    "#### Create partitions to make the process more efficient"
   ]
  },
  {
   "cell_type": "code",
   "execution_count": 6,
   "metadata": {},
   "outputs": [
    {
     "name": "stdout",
     "output_type": "stream",
     "text": [
      "Allocating 16 GB of heap memory\n",
      "[merge-layers] Use the target= option to specify multiple layers for merging\n",
      "[o] Wrote WDPA_test/1.json\n",
      "[o] Wrote WDPA_test/2.json\n",
      "[o] Wrote WDPA_test/3.json\n",
      "[o] Wrote WDPA_test/4.json\n",
      "[o] Wrote WDPA_test/5.json\n",
      "[o] Wrote WDPA_test/6.json\n",
      "[o] Wrote WDPA_test/7.json\n",
      "[o] Wrote WDPA_test/8.json\n",
      "[o] Wrote WDPA_test/9.json\n",
      "[o] Wrote WDPA_test/10.json\n",
      "[o] Wrote WDPA_test/11.json\n",
      "[o] Wrote WDPA_test/12.json\n"
     ]
    }
   ],
   "source": [
    "# Break the shp into 12 json files\n",
    "!mapshaper-xl 16gb -i ./../../HE_Data/WDPA_corrected/*.shp no-topology combine-files \\\n",
    "    -merge-layers \\\n",
    "    -each \"group = Math.trunc(this.id/20000)+1\" \\\n",
    "    -split group \\\n",
    "    -o WDPA_test/ format=geojson precision=0.0001 force ndjson"
   ]
  },
  {
   "cell_type": "code",
   "execution_count": null,
   "metadata": {},
   "outputs": [],
   "source": [
    "## To merge all json files in one\n",
    "# !mapshaper-xl 16gb -i ./../../HALF_EARTH/WDPA_test/*.json snap combine-files -merge-layers -info"
   ]
  },
  {
   "cell_type": "markdown",
   "metadata": {},
   "source": [
    "### Tests:\n",
    "1. All commands: len 183665 (symp-wdpa.shp)\n",
    "2. Remove the 'filter-slivers' option = len 19833 (symp-wdpa2.shp)\n",
    "3. Remove the 'filter-slivers' and 'filter islands' option = len (symp-wdpa3.shp)\n",
    "This option removes >8000 geometries but all of them (except for 1) are valid\n",
    "4. Remove the clean rewind option.\n",
    "The 4th option retains all geometries, but 3935 are invalid. Some of those can be repaired and only 1611 have to be removed.\n",
    "\n",
    "##### * Each test changes the json files so to run a new test it's necessary to run the previous cells to create the partitions again"
   ]
  },
  {
   "cell_type": "code",
   "execution_count": null,
   "metadata": {},
   "outputs": [],
   "source": [
    "### First test with all parameters\n",
    "# !mapshaper-xl 16gb -i ./WDPA_test/*.json snap \\\n",
    "#     -simplify 20% planar keep-shapes \\\n",
    "#     -filter-islands min-vertices=3 min-area=10000m2 remove-empty \\\n",
    "#     -filter-slivers min-area=10000m2 remove-empty \\\n",
    "#     -clean rewind \\\n",
    "#     -o WDPA_test/ format=geojson force ndjson"
   ]
  },
  {
   "cell_type": "code",
   "execution_count": 7,
   "metadata": {},
   "outputs": [
    {
     "name": "stdout",
     "output_type": "stream",
     "text": [
      "Allocating 16 GB of heap memory\n",
      "[i] Snapped 0 points\n",
      "[simplify] Repaired 2,846 intersections; 3,472 intersections could not be repaired\n",
      "[o] Wrote WDPA_test/1.json\n",
      "[i] Snapped 0 points\n",
      "[simplify] Repaired 2,964 intersections; 8,909 intersections could not be repaired\n",
      "[o] Wrote WDPA_test/10.json\n",
      "[i] Snapped 0 points\n",
      "[simplify] Repaired 0 intersections; 22,873 intersections could not be repaired\n",
      "[o] Wrote WDPA_test/11.json\n",
      "[i] Snapped 0 points\n",
      "[simplify] Repaired 0 intersections; 15,327 intersections could not be repaired\n",
      "[o] Wrote WDPA_test/12.json\n",
      "[i] Snapped 0 points\n",
      "[simplify] Repaired 696 intersections; 6,754 intersections could not be repaired\n",
      "[o] Wrote WDPA_test/2.json\n",
      "[i] Snapped 0 points\n",
      "[simplify] Repaired 2,523 intersections; 12,784 intersections could not be repaired\n",
      "[o] Wrote WDPA_test/3.json\n",
      "[i] Snapped 0 points\n",
      "[simplify] Repaired 538 intersections; 5,229 intersections could not be repaired\n",
      "[o] Wrote WDPA_test/4.json\n",
      "[i] Snapped 0 points\n",
      "[simplify] Repaired 241 intersections; 8,785 intersections could not be repaired\n",
      "[o] Wrote WDPA_test/5.json\n",
      "[i] Snapped 0 points\n",
      "[simplify] Repaired 0 intersections; 13,488 intersections could not be repaired\n",
      "[o] Wrote WDPA_test/6.json\n",
      "[i] Snapped 0 points\n",
      "[simplify] Repaired 1,258 intersections; 21,441 intersections could not be repaired\n",
      "[o] Wrote WDPA_test/7.json\n",
      "[i] Snapped 0 points\n",
      "[simplify] Repaired 2,779 intersections; 10,455 intersections could not be repaired\n",
      "[o] Wrote WDPA_test/8.json\n",
      "[i] Snapped 0 points\n",
      "[simplify] Repaired 2,262 intersections; 8,895 intersections could not be repaired\n",
      "[o] Wrote WDPA_test/9.json\n"
     ]
    }
   ],
   "source": [
    "### Final test: Only simplify (retains all geometries).\n",
    "!mapshaper-xl 16gb -i ./WDPA_test/*.json snap \\\n",
    "    -simplify 20% weighting=0.3 planar keep-shapes \\\n",
    "    -o WDPA_test/ format=geojson force ndjson"
   ]
  },
  {
   "cell_type": "code",
   "execution_count": 8,
   "metadata": {},
   "outputs": [
    {
     "name": "stdout",
     "output_type": "stream",
     "text": [
      "Allocating 16 GB of heap memory\n",
      "[info] \n",
      "==================================================\n",
      "Layer:    [unnamed layer]\n",
      "--------------------------------------------------\n",
      "Type:     polygon\n",
      "Records:  224,133\n",
      "Nulls:     1,614\n",
      "Bounds:   -180,-85.4119,180,86.4531\n",
      "CRS:      +proj=longlat +datum=WGS84\n",
      "Source:   ./WDPA_test/1.json\n",
      "\n",
      "Attribute data\n",
      "----------+---------------------------------------\n",
      " Field    | First value\n",
      "----------+---------------------------------------\n",
      " AREA_KM  |      1.136031298847187\n",
      " DESIG    | 'Stewardship Area'\n",
      " DESIG_E  | 'Stewardship Area'\n",
      " DESIG_T  | 'National'\n",
      " GOV_TYP  | 'Federal or national ministry or agency'\n",
      " group    |      1\n",
      " ISO3     | 'NZL'\n",
      " IUCN_CA  | 'III'\n",
      " MARINE   | '0'\n",
      " MOL_ID   |      1\n",
      " NAME     | 'Boulder Beach'\n",
      " ORIG_NA  | 'Boulder Beach / WWF Block'\n",
      " OWN_TYP  | 'Not Reported'\n",
      " WDPA_PID | '310492'\n",
      " WDPAID   | 310492\n",
      "----------+---------------------------------------\n",
      "\n",
      "[o] Wrote WDPA_test/simp-wdpa4.shp\n",
      "[o] Wrote WDPA_test/simp-wdpa4.shx\n",
      "[o] Wrote WDPA_test/simp-wdpa4.dbf\n",
      "[o] Wrote WDPA_test/simp-wdpa4.prj\n"
     ]
    }
   ],
   "source": [
    "# Combine all json files in a shp. \n",
    "!mapshaper-xl 16gb -i ./WDPA_test/*.json combine-files -merge-layers -info -o WDPA_test/simp-wdpa4.shp"
   ]
  },
  {
   "cell_type": "code",
   "execution_count": 9,
   "metadata": {},
   "outputs": [
    {
     "data": {
      "text/plain": [
       "224133"
      ]
     },
     "execution_count": 9,
     "metadata": {},
     "output_type": "execute_result"
    }
   ],
   "source": [
    "### Inspect file\n",
    "# original layer len 224133\n",
    "#sim = gpd.read_file('WDPA_test/simp-wdpa.shp') # len 183665\n",
    "#sim = gpd.read_file('WDPA_test/simp-wdpa2.shp') # len 19833\n",
    "#sim = gpd.read_file('WDPA_test/simp-wdpa3.shp') # len 215940 ### with clean rewind (8193 geometries removed)\n",
    "sim = gpd.read_file('WDPA_test/simp-wdpa4.shp') # len 224133 ### retains all geometries\n",
    "len(sim)"
   ]
  },
  {
   "cell_type": "code",
   "execution_count": 10,
   "metadata": {},
   "outputs": [
    {
     "data": {
      "text/html": [
       "<div>\n",
       "<style scoped>\n",
       "    .dataframe tbody tr th:only-of-type {\n",
       "        vertical-align: middle;\n",
       "    }\n",
       "\n",
       "    .dataframe tbody tr th {\n",
       "        vertical-align: top;\n",
       "    }\n",
       "\n",
       "    .dataframe thead th {\n",
       "        text-align: right;\n",
       "    }\n",
       "</style>\n",
       "<table border=\"1\" class=\"dataframe\">\n",
       "  <thead>\n",
       "    <tr style=\"text-align: right;\">\n",
       "      <th></th>\n",
       "      <th>WDPAID</th>\n",
       "      <th>WDPA_PID</th>\n",
       "      <th>NAME</th>\n",
       "      <th>ORIG_NA</th>\n",
       "      <th>DESIG</th>\n",
       "      <th>DESIG_E</th>\n",
       "      <th>DESIG_T</th>\n",
       "      <th>IUCN_CA</th>\n",
       "      <th>MARINE</th>\n",
       "      <th>GOV_TYP</th>\n",
       "      <th>ISO3</th>\n",
       "      <th>OWN_TYP</th>\n",
       "      <th>AREA_KM</th>\n",
       "      <th>MOL_ID</th>\n",
       "      <th>group</th>\n",
       "      <th>geometry</th>\n",
       "    </tr>\n",
       "  </thead>\n",
       "  <tbody>\n",
       "    <tr>\n",
       "      <th>221603</th>\n",
       "      <td>394131</td>\n",
       "      <td>394131</td>\n",
       "      <td>\"Fonds Gatot\" Et \"Laid MÃ¢le\"</td>\n",
       "      <td>\"Fonds Gatot\" Et \"Laid MÃ¢le\"</td>\n",
       "      <td>Site Naturel D'InterÃªt Scientifique</td>\n",
       "      <td>Scientific Interest Site (Walloon Region)</td>\n",
       "      <td>National</td>\n",
       "      <td>IV</td>\n",
       "      <td>0</td>\n",
       "      <td>Federal or national ministry or agency</td>\n",
       "      <td>BEL</td>\n",
       "      <td>Not Reported</td>\n",
       "      <td>0.100151</td>\n",
       "      <td>177471</td>\n",
       "      <td>9</td>\n",
       "      <td>POLYGON ((4.76250 50.57920, 4.75700 50.57770, ...</td>\n",
       "    </tr>\n",
       "  </tbody>\n",
       "</table>\n",
       "</div>"
      ],
      "text/plain": [
       "        WDPAID WDPA_PID                           NAME  \\\n",
       "221603  394131   394131  \"Fonds Gatot\" Et \"Laid MÃ¢le\"   \n",
       "\n",
       "                              ORIG_NA                                 DESIG  \\\n",
       "221603  \"Fonds Gatot\" Et \"Laid MÃ¢le\"  Site Naturel D'InterÃªt Scientifique   \n",
       "\n",
       "                                          DESIG_E   DESIG_T IUCN_CA MARINE  \\\n",
       "221603  Scientific Interest Site (Walloon Region)  National      IV      0   \n",
       "\n",
       "                                       GOV_TYP ISO3       OWN_TYP   AREA_KM  \\\n",
       "221603  Federal or national ministry or agency  BEL  Not Reported  0.100151   \n",
       "\n",
       "        MOL_ID  group                                           geometry  \n",
       "221603  177471      9  POLYGON ((4.76250 50.57920, 4.75700 50.57770, ...  "
      ]
     },
     "execution_count": 10,
     "metadata": {},
     "output_type": "execute_result"
    }
   ],
   "source": [
    "sim[sim['WDPA_PID']=='394131'] # original characters are replaced by weird ones"
   ]
  },
  {
   "cell_type": "markdown",
   "metadata": {},
   "source": [
    "#### Creating a shapefile from json files changes original characters in the names. To keep the original names but use the simplified geometry: drop geometry column in corrected dataset and add geometry column from simplified dataset"
   ]
  },
  {
   "cell_type": "code",
   "execution_count": 11,
   "metadata": {},
   "outputs": [
    {
     "data": {
      "text/html": [
       "<div>\n",
       "<style scoped>\n",
       "    .dataframe tbody tr th:only-of-type {\n",
       "        vertical-align: middle;\n",
       "    }\n",
       "\n",
       "    .dataframe tbody tr th {\n",
       "        vertical-align: top;\n",
       "    }\n",
       "\n",
       "    .dataframe thead th {\n",
       "        text-align: right;\n",
       "    }\n",
       "</style>\n",
       "<table border=\"1\" class=\"dataframe\">\n",
       "  <thead>\n",
       "    <tr style=\"text-align: right;\">\n",
       "      <th></th>\n",
       "      <th>WDPAID</th>\n",
       "      <th>WDPA_PID</th>\n",
       "      <th>NAME</th>\n",
       "      <th>ORIG_NA</th>\n",
       "      <th>DESIG</th>\n",
       "      <th>DESIG_E</th>\n",
       "      <th>DESIG_T</th>\n",
       "      <th>IUCN_CA</th>\n",
       "      <th>MARINE</th>\n",
       "      <th>GOV_TYP</th>\n",
       "      <th>ISO3</th>\n",
       "      <th>OWN_TYP</th>\n",
       "      <th>AREA_KM</th>\n",
       "      <th>MOL_ID</th>\n",
       "    </tr>\n",
       "  </thead>\n",
       "  <tbody>\n",
       "    <tr>\n",
       "      <th>0</th>\n",
       "      <td>310492.0</td>\n",
       "      <td>310492</td>\n",
       "      <td>Boulder Beach</td>\n",
       "      <td>Boulder Beach / WWF Block</td>\n",
       "      <td>Stewardship Area</td>\n",
       "      <td>Stewardship Area</td>\n",
       "      <td>National</td>\n",
       "      <td>III</td>\n",
       "      <td>0</td>\n",
       "      <td>Federal or national ministry or agency</td>\n",
       "      <td>NZL</td>\n",
       "      <td>Not Reported</td>\n",
       "      <td>1.136031</td>\n",
       "      <td>1</td>\n",
       "    </tr>\n",
       "  </tbody>\n",
       "</table>\n",
       "</div>"
      ],
      "text/plain": [
       "     WDPAID WDPA_PID           NAME                    ORIG_NA  \\\n",
       "0  310492.0   310492  Boulder Beach  Boulder Beach / WWF Block   \n",
       "\n",
       "              DESIG           DESIG_E   DESIG_T IUCN_CA MARINE  \\\n",
       "0  Stewardship Area  Stewardship Area  National     III      0   \n",
       "\n",
       "                                  GOV_TYP ISO3       OWN_TYP   AREA_KM  MOL_ID  \n",
       "0  Federal or national ministry or agency  NZL  Not Reported  1.136031       1  "
      ]
     },
     "execution_count": 11,
     "metadata": {},
     "output_type": "execute_result"
    }
   ],
   "source": [
    "c = c.drop(columns=['geometry'])\n",
    "c.head(1)"
   ]
  },
  {
   "cell_type": "code",
   "execution_count": 12,
   "metadata": {},
   "outputs": [
    {
     "data": {
      "text/html": [
       "<div>\n",
       "<style scoped>\n",
       "    .dataframe tbody tr th:only-of-type {\n",
       "        vertical-align: middle;\n",
       "    }\n",
       "\n",
       "    .dataframe tbody tr th {\n",
       "        vertical-align: top;\n",
       "    }\n",
       "\n",
       "    .dataframe thead th {\n",
       "        text-align: right;\n",
       "    }\n",
       "</style>\n",
       "<table border=\"1\" class=\"dataframe\">\n",
       "  <thead>\n",
       "    <tr style=\"text-align: right;\">\n",
       "      <th></th>\n",
       "      <th>WDPAID</th>\n",
       "      <th>WDPA_PID</th>\n",
       "      <th>NAME</th>\n",
       "      <th>ORIG_NA</th>\n",
       "      <th>DESIG</th>\n",
       "      <th>DESIG_E</th>\n",
       "      <th>DESIG_T</th>\n",
       "      <th>IUCN_CA</th>\n",
       "      <th>MARINE</th>\n",
       "      <th>GOV_TYP</th>\n",
       "      <th>ISO3</th>\n",
       "      <th>OWN_TYP</th>\n",
       "      <th>AREA_KM</th>\n",
       "      <th>MOL_ID</th>\n",
       "      <th>geometry</th>\n",
       "    </tr>\n",
       "  </thead>\n",
       "  <tbody>\n",
       "    <tr>\n",
       "      <th>0</th>\n",
       "      <td>310492.0</td>\n",
       "      <td>310492</td>\n",
       "      <td>Boulder Beach</td>\n",
       "      <td>Boulder Beach / WWF Block</td>\n",
       "      <td>Stewardship Area</td>\n",
       "      <td>Stewardship Area</td>\n",
       "      <td>National</td>\n",
       "      <td>III</td>\n",
       "      <td>0</td>\n",
       "      <td>Federal or national ministry or agency</td>\n",
       "      <td>NZL</td>\n",
       "      <td>Not Reported</td>\n",
       "      <td>1.136031</td>\n",
       "      <td>1</td>\n",
       "      <td>POLYGON ((170.60250 -45.89230, 170.61930 -45.8...</td>\n",
       "    </tr>\n",
       "  </tbody>\n",
       "</table>\n",
       "</div>"
      ],
      "text/plain": [
       "     WDPAID WDPA_PID           NAME                    ORIG_NA  \\\n",
       "0  310492.0   310492  Boulder Beach  Boulder Beach / WWF Block   \n",
       "\n",
       "              DESIG           DESIG_E   DESIG_T IUCN_CA MARINE  \\\n",
       "0  Stewardship Area  Stewardship Area  National     III      0   \n",
       "\n",
       "                                  GOV_TYP ISO3       OWN_TYP   AREA_KM  \\\n",
       "0  Federal or national ministry or agency  NZL  Not Reported  1.136031   \n",
       "\n",
       "   MOL_ID                                           geometry  \n",
       "0       1  POLYGON ((170.60250 -45.89230, 170.61930 -45.8...  "
      ]
     },
     "execution_count": 12,
     "metadata": {},
     "output_type": "execute_result"
    }
   ],
   "source": [
    "c = c.merge(sim[['WDPA_PID','geometry']],how='inner',on='WDPA_PID')\n",
    "c.head(1)"
   ]
  },
  {
   "cell_type": "code",
   "execution_count": 13,
   "metadata": {},
   "outputs": [
    {
     "data": {
      "text/plain": [
       "<AxesSubplot:>"
      ]
     },
     "execution_count": 39,
     "metadata": {},
     "output_type": "execute_result"
    },
    {
     "data": {
      "image/png": "[encoded data removed]",
      "text/plain": [
       "<Figure size 720x720 with 2 Axes>"
      ]
     },
     "metadata": {
      "needs_background": "light"
     },
     "output_type": "display_data"
    }
   ],
   "source": [
    "# check if new geometries in corrected database are the same as the simplified\n",
    "n= '394131'\n",
    "fig, (ax1,ax2) = plt.subplots(nrows=1,ncols=2,figsize=(10,10))\n",
    "c[c['WDPA_PID']==n].geometry.plot(ax = ax1) \n",
    "sim[sim['WDPA_PID']==n].geometry.plot(ax = ax2)"
   ]
  },
  {
   "cell_type": "code",
   "execution_count": 14,
   "metadata": {},
   "outputs": [],
   "source": [
    "## Set crs\n",
    "c = c.set_crs('EPSG:4326') "
   ]
  },
  {
   "cell_type": "code",
   "execution_count": 15,
   "metadata": {},
   "outputs": [
    {
     "data": {
      "text/plain": [
       "220154"
      ]
     },
     "execution_count": 15,
     "metadata": {},
     "output_type": "execute_result"
    }
   ],
   "source": [
    "## Check if there are invalid geometries\n",
    "sum(c.is_valid) # now 2220154 geometries valid so 3979 invalid"
   ]
  },
  {
   "cell_type": "code",
   "execution_count": 17,
   "metadata": {},
   "outputs": [
    {
     "data": {
      "text/plain": [
       "222519"
      ]
     },
     "execution_count": 17,
     "metadata": {},
     "output_type": "execute_result"
    }
   ],
   "source": [
    "## Repair geometries and check how many are valid\n",
    "c['geometry'] = c['geometry'].buffer(0) # this is to repair geometries\n",
    "sum(c.is_valid) # now 222519 geometries valid so only 1614 invalid"
   ]
  },
  {
   "cell_type": "code",
   "execution_count": 18,
   "metadata": {},
   "outputs": [
    {
     "data": {
      "text/plain": [
       "222519"
      ]
     },
     "execution_count": 18,
     "metadata": {},
     "output_type": "execute_result"
    }
   ],
   "source": [
    "## Keep only valid geometries and remove the 1611 invalid\n",
    "c_clean = c[c['geometry'].is_valid]\n",
    "len(c_clean)"
   ]
  },
  {
   "cell_type": "code",
   "execution_count": 19,
   "metadata": {},
   "outputs": [
    {
     "data": {
      "text/plain": [
       "<AxesSubplot:>"
      ]
     },
     "execution_count": 19,
     "metadata": {},
     "output_type": "execute_result"
    },
    {
     "data": {
      "image/png": "[encoded data removed]",
      "text/plain": [
       "<Figure size 720x720 with 2 Axes>"
      ]
     },
     "metadata": {
      "needs_background": "light"
     },
     "output_type": "display_data"
    }
   ],
   "source": [
    "## Example\n",
    "n= '310492'\n",
    "fig, (ax1,ax2) = plt.subplots(nrows=1,ncols=2,figsize=(10,10))\n",
    "gdf[gdf['WDPA_PID']==n].geometry.plot(ax = ax1) \n",
    "c_clean[c_clean['WDPA_PID']==n].geometry.plot(ax = ax2)"
   ]
  },
  {
   "cell_type": "code",
   "execution_count": 20,
   "metadata": {},
   "outputs": [
    {
     "data": {
      "text/plain": [
       "<AxesSubplot:>"
      ]
     },
     "execution_count": 20,
     "metadata": {},
     "output_type": "execute_result"
    },
    {
     "data": {
      "image/png": "[encoded data removed]",
      "text/plain": [
       "<Figure size 720x720 with 2 Axes>"
      ]
     },
     "metadata": {
      "needs_background": "light"
     },
     "output_type": "display_data"
    }
   ],
   "source": [
    "## Example\n",
    "n = '20609'\n",
    "fig, (ax1,ax2) = plt.subplots(nrows=1,ncols=2,figsize=(10,10))\n",
    "gdf[gdf['WDPA_PID']==n].geometry.plot(ax = ax1) \n",
    "c_clean[c_clean['WDPA_PID']==n].geometry.plot(ax = ax2)"
   ]
  },
  {
   "cell_type": "code",
   "execution_count": 21,
   "metadata": {},
   "outputs": [
    {
     "data": {
      "text/plain": [
       "<AxesSubplot:>"
      ]
     },
     "execution_count": 21,
     "metadata": {},
     "output_type": "execute_result"
    },
    {
     "data": {
      "image/png": "[encoded data removed]",
      "text/plain": [
       "<Figure size 720x720 with 2 Axes>"
      ]
     },
     "metadata": {
      "needs_background": "light"
     },
     "output_type": "display_data"
    }
   ],
   "source": [
    "## Example\n",
    "n = '555534655'\n",
    "fig, (ax1,ax2) = plt.subplots(nrows=1,ncols=2,figsize=(10,10))\n",
    "gdf[gdf['WDPA_PID']==n].geometry.plot(ax = ax1) \n",
    "c_clean[c_clean['WDPA_PID']==n].geometry.plot(ax = ax2)"
   ]
  },
  {
   "cell_type": "code",
   "execution_count": 34,
   "metadata": {},
   "outputs": [
    {
     "data": {
      "text/plain": [
       "<AxesSubplot:>"
      ]
     },
     "execution_count": 34,
     "metadata": {},
     "output_type": "execute_result"
    },
    {
     "data": {
      "image/png": "[encoded data removed]",
      "text/plain": [
       "<Figure size 720x720 with 2 Axes>"
      ]
     },
     "metadata": {
      "needs_background": "light"
     },
     "output_type": "display_data"
    }
   ],
   "source": [
    "## Example\n",
    "n = '555703244'\n",
    "fig, (ax1,ax2) = plt.subplots(nrows=1,ncols=2,figsize=(10,10))\n",
    "gdf[gdf['WDPA_PID']==n].geometry.plot(ax = ax1) \n",
    "c_clean[c_clean['WDPA_PID']==n].geometry.plot(ax = ax2)"
   ]
  },
  {
   "cell_type": "code",
   "execution_count": 50,
   "metadata": {},
   "outputs": [],
   "source": [
    "# Save file in local\n",
    "c_clean.to_file('/Users/sofia/Documents/HE_Data/WDPA_terrestrial+marine2021_simplified', driver= 'ESRI Shapefile')"
   ]
  },
  {
   "cell_type": "markdown",
   "metadata": {},
   "source": [
    "### Publish layers with API"
   ]
  },
  {
   "cell_type": "code",
   "execution_count": 24,
   "metadata": {},
   "outputs": [],
   "source": [
    "import arcgis\n",
    "from arcgis.gis import GIS\n",
    "import json\n",
    "import pandas as pd\n",
    "from arcgis.features import FeatureLayerCollection\n",
    "import requests as re\n",
    "from copy import deepcopy"
   ]
  },
  {
   "cell_type": "code",
   "execution_count": 25,
   "metadata": {},
   "outputs": [],
   "source": [
    "env_path = \".env\"\n",
    "with open(env_path) as f:\n",
    "   env = {}\n",
    "   for line in f:\n",
    "       env_key, _val = line.split(\"=\")\n",
    "       env_value = _val.split(\"\\n\")[0]\n",
    "       env[env_key] = env_value\n",
    "\n",
    "aol_password = env['ARCGIS_GRETA_PASS']\n",
    "aol_username = env['ARCGIS_GRETA_USER']\n",
    "\n",
    "gis = GIS(\"https://eowilson.maps.arcgis.com\", aol_username, aol_password)"
   ]
  },
  {
   "cell_type": "code",
   "execution_count": 26,
   "metadata": {},
   "outputs": [],
   "source": [
    "# Function to publish files as feature services or hosted tables\n",
    "\n",
    "def publishCSVasFS(csv_file,csvName, gis, aol_folder_name, sharing, table): # sharing = 'None', 'groups', 'everyone' # table = 'yes', 'no'\n",
    "    try:\n",
    "        \n",
    "        if gis.content.is_service_name_available(csvName, \"featureService\"):\n",
    "            print(f\"Service name {csvName} is available\")\n",
    "            #csv_file = f'./{csvName}.csv'\n",
    "            csv_item = gis.content.add({}, csv_file)\n",
    "            #csv_lyr = csv_item.publish(None,  {'CountryCode' : 'countryname'})\n",
    "            if table == 'yes':\n",
    "                csv_lyr = csv_item.publish(publish_parameters={'locationType':'none', 'type':'csv'})\n",
    "            else:\n",
    "                print('no table')\n",
    "                csv_lyr = csv_item.publish()\n",
    "                flayer_collection = FeatureLayerCollection.fromitem(csv_lyr)\n",
    "                searched_flayer = flayer_collection.layers[0] \n",
    "                nber_features = searched_flayer.query(return_count_only=True)\n",
    "                print(f\"The service {csvName} has been published. The service has {nber_features} entries\")\n",
    "            print(f\"Moving service {csvName} to {aol_folder_name} in ArcGIS Online...\")\n",
    "            # move both the csv_item and csv_lyr items into this new folder\n",
    "            csv_item.move(aol_folder_name)\n",
    "            csv_lyr.move(aol_folder_name)\n",
    "            print(f\"Service {csvName} has been moved to {aol_folder_name} in ArcGIS Online\")\n",
    "#             sharing, default is owner\n",
    "#             csv_lyr.shared_with\n",
    "            if sharing == 'None':\n",
    "                csv_lyr.share(everyone=False, org=False, groups=None, allow_members_to_edit=False)\n",
    "            if sharing == 'groups':\n",
    "            # the group id is needed to share with agroup\n",
    "                csv_lyr.share(everyone=False, org=False, groups=[group_id], allow_members_to_edit=False)\n",
    "            if sharing == 'everyone':\n",
    "                csv_lyr.share(everyone=True, org=False, groups=None, allow_members_to_edit=False)\n",
    "            sharing_prop = csv_lyr.shared_with\n",
    "            if sharing_prop['everyone']==True:\n",
    "                print(f\"shared with everyone\")   \n",
    "            else:\n",
    "                print(f\"not a public layer, for this layer to be used it has to be public or the urls have to be whitelisted\")            \n",
    "            #not allowing deleting\n",
    "            csv_lyr.protect()\n",
    "            print(f\"{csvName}'s protection against deletion : {csv_lyr.protected}\") \n",
    "            # it is possible to check the status with csv_item.content_status\n",
    "            return csv_lyr.id\n",
    "        else:\n",
    "            print(\"The service name is not available, try overwritting, appending the data or a different service name\")\n",
    "    except:\n",
    "        print(\"The csv hasn't been published\")"
   ]
  },
  {
   "cell_type": "code",
   "execution_count": 29,
   "metadata": {},
   "outputs": [
    {
     "name": "stdout",
     "output_type": "stream",
     "text": [
      "Service name WDPA_terrestrialmarine_2021_simplified is available\n",
      "no table\n",
      "The service WDPA_terrestrialmarine_2021_simplified has been published. The service has 222519 entries\n",
      "Moving service WDPA_terrestrialmarine_2021_simplified to wdpa data in ArcGIS Online...\n",
      "Folder not found for given owner\n",
      "Folder not found for given owner\n",
      "Service WDPA_terrestrialmarine_2021_simplified has been moved to wdpa data in ArcGIS Online\n",
      "not a public layer, for this layer to be used it has to be public or the urls have to be whitelisted\n",
      "WDPA_terrestrialmarine_2021_simplified's protection against deletion : True\n"
     ]
    },
    {
     "data": {
      "text/plain": [
       "'1a617eaeaf77458cb569f683366e3920'"
      ]
     },
     "execution_count": 29,
     "metadata": {},
     "output_type": "execute_result"
    }
   ],
   "source": [
    "# Run function with the file we want to add\n",
    "csv_file = '/Users/sofia/Documents/HE_Data/WDPA_terrestrial+marine2021_simplified.zip'\n",
    "csvName = 'WDPA_terrestrialmarine_2021_simplified'\n",
    "gis = GIS(\"https://eowilson.maps.arcgis.com\", aol_username, aol_password)\n",
    "aol_folder_name = 'wdpa data'\n",
    "group_id='46783c33c294485abe83f5e899c2f21f'\n",
    "publishCSVasFS(csv_file,csvName,gis,aol_folder_name,sharing='groups', table='no')"
   ]
  }
 ],
 "metadata": {
  "interpreter": {
   "hash": "4829cc13d368d943a62b17104ac97c1ea81b455d93d0d0d9a78d8f68633ebeb3"
  },
  "kernelspec": {
   "display_name": "Python 3.8.12 ('vizz38')",
   "language": "python",
   "name": "python3"
  },
  "language_info": {
   "codemirror_mode": {
    "name": "ipython",
    "version": 3
   },
   "file_extension": ".py",
   "mimetype": "text/x-python",
   "name": "python",
   "nbconvert_exporter": "python",
   "pygments_lexer": "ipython3",
   "version": "3.8.12"
  }
 },
 "nbformat": 4,
 "nbformat_minor": 4
}
