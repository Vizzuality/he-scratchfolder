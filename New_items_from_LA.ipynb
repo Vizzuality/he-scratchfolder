{
 "cells": [
  {
   "cell_type": "markdown",
   "metadata": {},
   "source": [
    "# Create new items from Living Atlas tile layers"
   ]
  },
  {
   "cell_type": "code",
   "execution_count": 1,
   "metadata": {},
   "outputs": [],
   "source": [
    "import arcgis\n",
    "from arcgis.gis import GIS"
   ]
  },
  {
   "cell_type": "code",
   "execution_count": 2,
   "metadata": {},
   "outputs": [],
   "source": [
    "tmp = []\n",
    "with open(\".env\") as f:\n",
    "    for line in f:\n",
    "        tmp.append(line)\n",
    "aol_password = tmp[0].split(\"=\")[1].split(\"\\n\")[0]\n",
    "aol_username = tmp[1].split(\"=\")[1].split(\"\\n\")[0]"
   ]
  },
  {
   "cell_type": "code",
   "execution_count": 3,
   "metadata": {},
   "outputs": [],
   "source": [
    "#getting into the GIS\n",
    "gis = GIS(\"https://eowilson.maps.arcgis.com\", aol_username, aol_password)"
   ]
  },
  {
   "cell_type": "code",
   "execution_count": 40,
   "metadata": {},
   "outputs": [],
   "source": [
    "livingAtlas_dict = {'amphib-rarity-sa' : 'https://tiles.arcgis.com/tiles/IkktFdUAcY3WrH25/arcgis/rest/services/Species_Rarity_Patterns_for_Amphibians_of_Southern_Africa/MapServer',\n",
    "                    'amphib-rich-sa' : 'https://tiles.arcgis.com/tiles/IkktFdUAcY3WrH25/arcgis/rest/services/Species_Richness_Patterns_for_Amphibians_of_Southern_Africa/MapServer',\n",
    "                    'dragonflies-rare-sa' : 'https://tiles.arcgis.com/tiles/IkktFdUAcY3WrH25/arcgis/rest/services/Species_Rarity_Patterns_for_Dragonflies_of_Southern_Africa/MapServer',\n",
    "                    'dragonflies-rich-sa' : 'https://tiles.arcgis.com/tiles/IkktFdUAcY3WrH25/arcgis/rest/services/Species_Richness_Patterns_for_Dragonflies_of_Southern_Africa/MapServer',\n",
    "                    'mammals-rare-sa' : 'https://tiles.arcgis.com/tiles/IkktFdUAcY3WrH25/arcgis/rest/services/Species_Rarity_Patterns_for_Mammals_of_Southern_Africa/MapServer',\n",
    "                    'mammals-rich-sa' : 'https://tiles.arcgis.com/tiles/IkktFdUAcY3WrH25/arcgis/rest/services/Species_Richness_Patterns_for_Mammals_of_Southern_Africa/MapServer',\n",
    "                    'birds-rare-sa' : 'https://tiles.arcgis.com/tiles/IkktFdUAcY3WrH25/arcgis/rest/services/Species_Rarity_Patterns_for_Birds_of_Southern_Africa/MapServer',\n",
    "                    'birds-rich-sa' : 'https://tiles.arcgis.com/tiles/IkktFdUAcY3WrH25/arcgis/rest/services/Species_Richness_Patterns_for_Birds_of_Southern_Africa/MapServer',\n",
    "                    'restio-rare-sa' : 'https://tiles.arcgis.com/tiles/IkktFdUAcY3WrH25/arcgis/rest/services/Species_Rarity_Patterns_for_Restio_of_Southern_Africa/MapServer',\n",
    "                    'restio-rich-sa' : 'https://tiles.arcgis.com/tiles/IkktFdUAcY3WrH25/arcgis/rest/services/Species_Richness_Patterns_for_Restio_of_Southern_Africa/MapServer',\n",
    "                    'protea-rare-sa' : 'https://tiles.arcgis.com/tiles/IkktFdUAcY3WrH25/arcgis/rest/services/Species_Rarity_Patterns_for_Protea_of_Southern_Africa/MapServer',\n",
    "                    'protea-rich-sa' : 'https://tiles.arcgis.com/tiles/IkktFdUAcY3WrH25/arcgis/rest/services/Species_Richness_Patterns_for_Protea_of_Southern_Africa/MapServer',\n",
    "                    'reptiles-rare-sa' : 'https://tiles.arcgis.com/tiles/IkktFdUAcY3WrH25/arcgis/rest/services/Species_Rarity_Patterns_for_Reptiles_of_Southern_Africa/MapServer',\n",
    "                    'reptiles-rich-sa' : 'https://tiles.arcgis.com/tiles/IkktFdUAcY3WrH25/arcgis/rest/services/Species_Richness_Patterns_for_Reptiles_of_Southern_Africa/MapServer',\n",
    "                    'hummingbirds-rare' : 'https://tiles.arcgis.com/tiles/IkktFdUAcY3WrH25/arcgis/rest/services/Global_Species_Rarity_Patterns_for_Hummingbirds/MapServer',\n",
    "                    'hummingbirds-rich' : 'https://tiles.arcgis.com/tiles/IkktFdUAcY3WrH25/arcgis/rest/services/Global_Species_Richness_Patterns_for_Hummingbirds/MapServer'\n",
    "}"
   ]
  },
  {
   "cell_type": "code",
   "execution_count": 41,
   "metadata": {},
   "outputs": [],
   "source": [
    "newItems_id = livingAtlas_dict"
   ]
  },
  {
   "cell_type": "code",
   "execution_count": 52,
   "metadata": {},
   "outputs": [],
   "source": [
    "for key in livingAtlas_dict:\n",
    "    new_item_properties={'title': key,\n",
    "                'description':'Category: \\nSource:\\nhttp',\n",
    "                'tags':'metadata, 1km, copy',\n",
    "                'type':'Map Service',\n",
    "                'url': livingAtlas_dict[key]}\n",
    "    gis.content.add(item_properties=new_item_properties, \n",
    "                data=livingAtlas_dict[key])\n",
    "    it_list =gis.content.search(query=f\"{key} AND \\owner:{gis.users.me.username}\", \n",
    "                                item_type=\"Map Service\")\n",
    "    if len(it_list)==1:\n",
    "        newItems_id[key] = it_list[0].id\n",
    "    else:\n",
    "        break"
   ]
  },
  {
   "cell_type": "code",
   "execution_count": 53,
   "metadata": {},
   "outputs": [
    {
     "data": {
      "text/plain": [
       "{'amphib-rarity-sa': '6e373b8023904775a1f32d6611f3d5f4',\n",
       " 'amphib-rich-sa': '017eed83a3cd4f5b9be45117f4948ce3',\n",
       " 'dragonflies-rare-sa': '8666ceec9e934f7e9b229fb794ae2e15',\n",
       " 'dragonflies-rich-sa': '975916039b9f4cd49bf41b167beffe29',\n",
       " 'mammals-rare-sa': '1ffe2c3c178443aca54e855c56bb5500',\n",
       " 'mammals-rich-sa': '05debae7802943d1a582878d9350f2a7',\n",
       " 'birds-rare-sa': '6dbd1764c5324c309ec3363a4dc71062',\n",
       " 'birds-rich-sa': '2ef1d37b06fa40098126f442523a57ea',\n",
       " 'restio-rare-sa': 'cf643b3a86114fd5aee7b65fa3830cc5',\n",
       " 'restio-rich-sa': '1b6b2489e75f48baa2a49048ea3dc344',\n",
       " 'protea-rare-sa': 'e37ebccc5a434ea3a9e66702f073a151',\n",
       " 'protea-rich-sa': 'aaedfa85703b470781b8576540ccf282',\n",
       " 'reptiles-rare-sa': '479cde21fb6a4e30a952e2f0bebaefbe',\n",
       " 'reptiles-rich-sa': '4a95917403a443a19281dc2a3899b864',\n",
       " 'hummingbirds-rare': 'ba2980efe56e4b37b20f9dbb3abc5ce2',\n",
       " 'hummingbirds-rich': 'bcc43878d88f46788b064119fbf717d5'}"
      ]
     },
     "execution_count": 53,
     "metadata": {},
     "output_type": "execute_result"
    }
   ],
   "source": [
    "newItems_id"
   ]
  },
  {
   "cell_type": "code",
   "execution_count": 54,
   "metadata": {},
   "outputs": [],
   "source": [
    "for key in newItems_id:\n",
    "    it_item = gis.content.get(newItems_id[key])\n",
    "    it_item.share(everyone = True)\n",
    "    it_item.protect(enable = True)"
   ]
  },
  {
   "cell_type": "markdown",
   "metadata": {},
   "source": [
    "## Update properties of the item.\n",
    "- Use `snippet` for the layer-slug\n",
    "- Use `accessInformation` for the source \"Map of Life and supporting datasets.\"\n",
    "- Use `description` for the main text"
   ]
  },
  {
   "cell_type": "code",
   "execution_count": 4,
   "metadata": {},
   "outputs": [],
   "source": [
    "newItems_id = {'amphib-rarity-sa': '6e373b8023904775a1f32d6611f3d5f4',\n",
    "                 'amphib-rich-sa': '017eed83a3cd4f5b9be45117f4948ce3',\n",
    "                 'dragonflies-rare-sa': '8666ceec9e934f7e9b229fb794ae2e15',\n",
    "                 'dragonflies-rich-sa': '975916039b9f4cd49bf41b167beffe29',\n",
    "                 'mammals-rare-sa': '1ffe2c3c178443aca54e855c56bb5500',\n",
    "                 'mammals-rich-sa': '05debae7802943d1a582878d9350f2a7',\n",
    "                 'birds-rare-sa': '6dbd1764c5324c309ec3363a4dc71062',\n",
    "                 'birds-rich-sa': '2ef1d37b06fa40098126f442523a57ea',\n",
    "                 'restio-rare-sa': 'cf643b3a86114fd5aee7b65fa3830cc5',\n",
    "                 'restio-rich-sa': '1b6b2489e75f48baa2a49048ea3dc344',\n",
    "                 'protea-rare-sa': 'e37ebccc5a434ea3a9e66702f073a151',\n",
    "                 'protea-rich-sa': 'aaedfa85703b470781b8576540ccf282',\n",
    "                 'reptiles-rare-sa': '479cde21fb6a4e30a952e2f0bebaefbe',\n",
    "                 'reptiles-rich-sa': '4a95917403a443a19281dc2a3899b864',\n",
    "                 'hummingbirds-rare': 'ba2980efe56e4b37b20f9dbb3abc5ce2',\n",
    "                 'hummingbirds-rich': 'bcc43878d88f46788b064119fbf717d5'}"
   ]
  },
  {
   "cell_type": "code",
   "execution_count": 12,
   "metadata": {},
   "outputs": [],
   "source": [
    "a_info = \"Map of Life and supporting datasets.\""
   ]
  },
  {
   "cell_type": "code",
   "execution_count": 14,
   "metadata": {},
   "outputs": [],
   "source": [
    "for key in newItems_id:\n",
    "    l_slug = key.split(\"-\")\n",
    "    if len(l_slug)==3: #it is sa\n",
    "        if l_slug[1]==\"rich\":\n",
    "            item_prop = {'snippet':key,\n",
    "                         'accessInformation': a_info, \n",
    "                         'description': \"Each cell in this view measures 1 km x 1 km. Within this region, species distributions were mapped at this detail using sophisticated modeling incorporating a variety of data types to provide this unprecedented resolution. The Half-Earth Project is working to create a global map of species distributions at a 1 km resolution over the next 5 years.\\nSpecies richness is the number of species that are predicted to occur in each cell.\"}\n",
    "        else:\n",
    "            item_prop = {'snippet':key,\n",
    "                         'accessInformation': a_info,\n",
    "                         'description': \"Each cell in this view measures 1 km x 1 km. Within this region, species distributions were mapped at fine detail using sophisticated modeling incorporating a variety of data types to provide this unprecedented resolution. The Half-Earth Project is working to create a global map of species distributions at a 1 km resolution over the next 5 years.\\nSpecies rarity represents the average range-restrictedness across all species that are predicted to occur in each cell.\"}\n",
    "    else:  \n",
    "        if l_slug[1]==\"rich\":\n",
    "            item_prop = {'snippet':key,\n",
    "                         'accessInformation': a_info,\n",
    "                         'description': \"Each cell in this view measures 1 km x 1 km. Hummingbird species distributions were mapped at this fine detail using sophisticated modeling incorporating a variety of data types to provide this unprecedented resolution. The Half-Earth Project is working to create a global map of species distributions at a 1 km resolution over the next 5 years.\\nSpecies richness is the number of species that are predicted to occur in each cell.\"}\n",
    "        else:\n",
    "            item_prop = {'snippet':key,\n",
    "                         'accessInformation': a_info,\n",
    "                         'description': \"Each cell in this view measures 1 km x 1 km. Hummingbird species distributions were mapped at this fine detail using sophisticated modeling incorporating a variety of data types to provide this unprecedented resolution. The Half-Earth Project is working to create a global map of species distributions at a 1 km resolution over the next 5 years.\\nSpecies rarity represents the average range-restrictedness across all species that are predicted to occur in each cell.\"}\n",
    "    it_item = gis.content.get(newItems_id[key])   \n",
    "    it_item.update(item_properties = item_prop)\n",
    "    #print(item_prop)"
   ]
  },
  {
   "cell_type": "code",
   "execution_count": 9,
   "metadata": {},
   "outputs": [
    {
     "name": "stdout",
     "output_type": "stream",
     "text": [
      "amphib-rarity-sa\n"
     ]
    }
   ],
   "source": [
    "for key in newItems_id:\n",
    "    item_prop = {'snippet':key,\n",
    "                'description': \"Each cell in this view measures 1 km x 1 km. Within this region, species distributions were mapped at fine detail using sophisticated modeling incorporating a variety of data types to provide this unprecedented resolution. The Half-Earth Project is working to create a global map of species distributions at a 1 km resolution over the next 5 years.\\nSpecies rarity represents the average range-restrictedness across all species that are predicted to occur in each cell.\"}\n",
    "    it_item = gis.content.get(newItems_id[key])\n",
    "    print(key)\n",
    "    #print(it_item.snippet)\n",
    "    break"
   ]
  },
  {
   "cell_type": "code",
   "execution_count": null,
   "metadata": {},
   "outputs": [],
   "source": [
    "item_prop = {'title':'USA Capitals'}\n",
    "cities_item.update(item_properties = item_prop)"
   ]
  }
 ],
 "metadata": {
  "kernelspec": {
   "display_name": "Python 3",
   "language": "python",
   "name": "python3"
  },
  "language_info": {
   "codemirror_mode": {
    "name": "ipython",
    "version": 3
   },
   "file_extension": ".py",
   "mimetype": "text/x-python",
   "name": "python",
   "nbconvert_exporter": "python",
   "pygments_lexer": "ipython3",
   "version": "3.7.4"
  }
 },
 "nbformat": 4,
 "nbformat_minor": 4
}
