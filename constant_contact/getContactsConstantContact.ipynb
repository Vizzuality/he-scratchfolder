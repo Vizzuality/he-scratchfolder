{
 "cells": [
  {
   "cell_type": "code",
   "execution_count": 3,
   "metadata": {},
   "outputs": [],
   "source": [
    "import json\n",
    "import requests\n",
    "import re\n",
    "from pprint import pprint\n",
    "import pandas as pd"
   ]
  },
  {
   "cell_type": "markdown",
   "metadata": {},
   "source": [
    "The `.env` file is with the structure:\n",
    "```\n",
    "aol_key=******\n",
    "aol_username=username\n",
    "cc_api_key=********\n",
    "cc_token=*********\n",
    "```"
   ]
  },
  {
   "cell_type": "code",
   "execution_count": 9,
   "metadata": {},
   "outputs": [],
   "source": [
    "env_path = \".env-sample\""
   ]
  },
  {
   "cell_type": "code",
   "execution_count": 11,
   "metadata": {},
   "outputs": [
    {
     "name": "stdout",
     "output_type": "stream",
     "text": [
      "{'aol_key': 'this_is_a_key',\n",
      " 'aol_username': 'username',\n",
      " 'cc_api_key': 'this_also_is_a_key',\n",
      " 'cc_token': 'this_is_a_token'}\n"
     ]
    }
   ],
   "source": [
    "tmp = []\n",
    "with open(env_path) as f:\n",
    "    ### Since the order of the env might change, it might be better to pull by the 'key' instead of line\n",
    "    \n",
    "    # Create an empty env object\n",
    "    env = {}\n",
    "    for line in f:\n",
    "        env_key, _val = line.split(\"=\")\n",
    "        env_value = _val.split(\"\\n\")[0] \n",
    "        \n",
    "        env[env_key] = env_value\n",
    "        \n",
    "#     ### Or, you could do this in one line using a \"Dictionary Comprehension\"\n",
    "#     env = {\n",
    "#          line.split(\"=\")[1]: line.split(\"=\")[1].split(\"\\n\")[0] \n",
    "#                for line in f }\n",
    "        \n",
    "        \n",
    "\n",
    "\n",
    "api_key = env['cc_api_key']\n",
    "token = env['cc_token']\n",
    "\n",
    "pprint(env)"
   ]
  },
  {
   "cell_type": "markdown",
   "metadata": {},
   "source": [
    "To get the token put this in the web browser: https://api.cc.email/v3/idfed?client_id={api_key}&redirect_uri=https://localhost&response_type=token&scope=contact_data"
   ]
  },
  {
   "cell_type": "code",
   "execution_count": 12,
   "metadata": {},
   "outputs": [],
   "source": [
    "headers = {\n",
    "  'Authorization': f'Bearer {token}'\n",
    "}\n",
    "payload = {}"
   ]
  },
  {
   "cell_type": "code",
   "execution_count": 16,
   "metadata": {},
   "outputs": [],
   "source": [
    "url_contact_lists = \"https://api.cc.email/v3/contact_lists?include_count=false\"\n",
    "\n",
    "try:\n",
    "    ## Create empty object first\n",
    "    r_json = {}\n",
    "    \n",
    "    ## cleaner way of using requests\n",
    "    response = requests.get(url_contact_lists, headers=headers, data=payload)\n",
    "\n",
    "except:\n",
    "    print(\"There was an problem in the request :(\")\n",
    "    \n",
    "    \n",
    "## always nice to print the url as a sanity check\n",
    "print(response.url)\n",
    "\n",
    "# if succesful, populate your response json\n",
    "if  response.status_code == 200:\n",
    "        r_json = response.json()\n",
    "else:\n",
    "    print(f'Failed to get tile {response.status_code}, {response.json()}')\n",
    "    "
   ]
  },
  {
   "cell_type": "code",
   "execution_count": null,
   "metadata": {},
   "outputs": [],
   "source": [
    "# Or, as a reusable function\n",
    "def executeRequest(url, headers, payload):\n",
    "    \n",
    "    try:\n",
    "    ## Create empty object first\n",
    "    r_json = {}\n",
    "    \n",
    "    ## cleaner way of using requests\n",
    "    response = requests.get(url, headers=headers, data=payload)\n",
    "\n",
    "    except:\n",
    "        print(\"There was an problem in the request :(\")\n",
    "        return None\n",
    "\n",
    "    ## always nice to print the url as a sanity check\n",
    "    print(response.url)\n",
    "\n",
    "    # if succesful, populate your response json\n",
    "    if  response.status_code == 200:\n",
    "            r_json = response.json()\n",
    "    else:\n",
    "        print(f'Failed to get tile {response.status_code}, {response.json()}')\n",
    "    \n",
    "    return r_json\n"
   ]
  },
  {
   "cell_type": "markdown",
   "metadata": {},
   "source": [
    "At this point the response is a dictionary with a unique element `lists`"
   ]
  },
  {
   "cell_type": "code",
   "execution_count": 38,
   "metadata": {},
   "outputs": [],
   "source": [
    "## Always good to have a fallback\n",
    "l_json = r_json.get(\"lists\", [])"
   ]
  },
  {
   "cell_type": "markdown",
   "metadata": {},
   "source": [
    "We get the elements inside lists, and what we get is a list of dictionaries"
   ]
  },
  {
   "cell_type": "code",
   "execution_count": 22,
   "metadata": {},
   "outputs": [],
   "source": [
    "# Can use asserts to make sure we get what we need to continue\n",
    "# This is useful when you wrap this in functions\n",
    "\n",
    "assert type(l_json) is list and len(l_json) is not 0,  \"Error with l_json\""
   ]
  },
  {
   "cell_type": "markdown",
   "metadata": {},
   "source": [
    "At this point we go through the list of dictionaries to find those contact_lists that have in the name `Educator Ambassadors`."
   ]
  },
  {
   "cell_type": "code",
   "execution_count": 67,
   "metadata": {},
   "outputs": [],
   "source": [
    "# sel_contact_dict = {}\n",
    "# for d in l_json:\n",
    "#     m = re.search('Educator Ambassadors', d['name'])\n",
    "#     if m != None:\n",
    "#         sel_contact_dict[d['name']] = d['list_id']\n",
    "        \n",
    "        \n",
    "# Again, here we can do this in 'one' line\n",
    "\n",
    "sel_contact_dict = {\n",
    "    d['name']: d.get('list_id', '')\n",
    "    for d in l_json\n",
    "    if re.search('Educator Ambassadors', d['name']) != None\n",
    "}"
   ]
  },
  {
   "cell_type": "code",
   "execution_count": 73,
   "metadata": {},
   "outputs": [
    {
     "data": {
      "text/plain": [
       "6"
      ]
     },
     "execution_count": 73,
     "metadata": {},
     "output_type": "execute_result"
    }
   ],
   "source": [
    "len(sel_contact_dict)"
   ]
  },
  {
   "cell_type": "markdown",
   "metadata": {},
   "source": [
    "There are 6 lists that contain `Educator Ambassadors` in the name. We restrictthe matching of the name to those that exactly have the name `Educator Ambassadors`. "
   ]
  },
  {
   "cell_type": "code",
   "execution_count": 69,
   "metadata": {},
   "outputs": [],
   "source": [
    "# sel_contact_lists = []\n",
    "# for d in l_json:\n",
    "#     m = re.search('^Educator Ambassadors$', d['name'])\n",
    "#     if m != None:\n",
    "#         sel_contact_lists.append(d['list_id'])\n",
    "\n",
    "\n",
    "sel_contact_list = [\n",
    "    d['list_id']\n",
    "    for d in l_json\n",
    "    if re.search('^Educator Ambassadors$', d['name']) != None\n",
    "]"
   ]
  },
  {
   "cell_type": "code",
   "execution_count": 75,
   "metadata": {},
   "outputs": [],
   "source": [
    "id_contact_list = sel_contact_lists[0]"
   ]
  },
  {
   "cell_type": "code",
   "execution_count": 76,
   "metadata": {},
   "outputs": [],
   "source": [
    "# here you could use executeRequest\n",
    "\n",
    "url_contacts = f\"https://api.cc.email/v3/contacts?lists={id_contact_list}&include=street_addresses&limit=500&include_count=false\""
   ]
  },
  {
   "cell_type": "code",
   "execution_count": 77,
   "metadata": {},
   "outputs": [],
   "source": [
    "headers = {\n",
    "  'Authorization': f'Bearer {token}'\n",
    "}\n",
    "payload = {}"
   ]
  },
  {
   "cell_type": "code",
   "execution_count": 78,
   "metadata": {},
   "outputs": [],
   "source": [
    "response = requests.request(\"GET\", url_contacts, headers=headers, data = payload)"
   ]
  },
  {
   "cell_type": "code",
   "execution_count": 79,
   "metadata": {},
   "outputs": [],
   "source": [
    "r_json = response.json()"
   ]
  },
  {
   "cell_type": "code",
   "execution_count": 82,
   "metadata": {},
   "outputs": [],
   "source": [
    "l_json = r_json[\"contacts\"]"
   ]
  },
  {
   "cell_type": "code",
   "execution_count": 106,
   "metadata": {},
   "outputs": [
    {
     "data": {
      "text/plain": [
       "456"
      ]
     },
     "execution_count": 106,
     "metadata": {},
     "output_type": "execute_result"
    }
   ],
   "source": [
    "len(l_json)"
   ]
  },
  {
   "cell_type": "code",
   "execution_count": 152,
   "metadata": {},
   "outputs": [],
   "source": [
    "contacts_list = []\n",
    "for d in l_json:\n",
    "#     if d['street_addresses']:        \n",
    "#         if d['street_addresses'][0].get(\"postal_code\") != None and d['street_addresses'][0].get(\"country\") != None:\n",
    "#             contact_dict = {\n",
    "#                 'contact_id':d['contact_id'],\n",
    "#                 'postal_code':d['street_addresses'][0]['postal_code'],\n",
    "#                 'country':d['street_addresses'][0]['country']\n",
    "#             }\n",
    "#             contacts_list.append(contact_dict)\n",
    "            \n",
    "\n",
    "    # You can make teh logic more concise using the .get fallbacks the \n",
    "    street_address = d.get('street_addresses', [{}])[0]\n",
    "    \n",
    "    postal_code = street_address.get(\"postal_code\", None)\n",
    "    country = street_address.get(\"country\", None)\n",
    "    \n",
    "    \n",
    "    if postal_code and country:\n",
    "            contact_dict = {\n",
    "                'contact_id': d.get('contact_id', ''), ## Need a fallback for contact_id?\n",
    "                'postal_code': postal_code,\n",
    "                'country': country\n",
    "            }\n",
    "            contacts_list.append(contact_dict)\n",
    "            "
   ]
  },
  {
   "cell_type": "code",
   "execution_count": 149,
   "metadata": {},
   "outputs": [
    {
     "data": {
      "text/plain": [
       "443"
      ]
     },
     "execution_count": 149,
     "metadata": {},
     "output_type": "execute_result"
    }
   ],
   "source": [
    "len(contacts_list)"
   ]
  },
  {
   "cell_type": "code",
   "execution_count": 155,
   "metadata": {},
   "outputs": [],
   "source": [
    "df = pd.DataFrame(contacts_list)"
   ]
  },
  {
   "cell_type": "code",
   "execution_count": 167,
   "metadata": {},
   "outputs": [],
   "source": [
    "## Good practise to use relative path\n",
    "csv_file = './out.csv'"
   ]
  },
  {
   "cell_type": "code",
   "execution_count": 157,
   "metadata": {},
   "outputs": [],
   "source": [
    "df.to_csv(csv_file, index=False)"
   ]
  },
  {
   "cell_type": "markdown",
   "metadata": {},
   "source": [
    "# Once the csv is ready it can be published in arcgis online via the arcgis api"
   ]
  },
  {
   "cell_type": "code",
   "execution_count": 158,
   "metadata": {},
   "outputs": [],
   "source": [
    "import arcgis\n",
    "from arcgis.gis import GIS\n",
    "from arcgis.features import FeatureLayerCollection"
   ]
  },
  {
   "cell_type": "code",
   "execution_count": 165,
   "metadata": {},
   "outputs": [],
   "source": [
    "tmp = []\n",
    "with open(\".env\") as f:\n",
    "    for line in f:\n",
    "        tmp.append(line)\n",
    "aol_password = tmp[0].split(\"=\")[1].split(\"\\n\")[0]\n",
    "aol_username = tmp[1].split(\"=\")[1].split(\"\\n\")[0]"
   ]
  },
  {
   "cell_type": "code",
   "execution_count": 166,
   "metadata": {},
   "outputs": [],
   "source": [
    "#getting into the GIS\n",
    "gis = GIS(\"https://eowilson.maps.arcgis.com\", aol_username, aol_password)"
   ]
  },
  {
   "cell_type": "code",
   "execution_count": null,
   "metadata": {},
   "outputs": [],
   "source": [
    "csv_item = gis.content.add({}, csv_file)\n",
    "csv_lyr = csv_item.publish(None,  { 'CountryCode' : 'country',\n",
    "                                    'Postal' : 'postal_code'} )"
   ]
  },
  {
   "cell_type": "code",
   "execution_count": null,
   "metadata": {},
   "outputs": [],
   "source": [
    "new_folder_details = gis.content.create_folder(\"constant_contact\")\n",
    "csv_item.move(new_folder_details)\n",
    "csv_lyr.move(new_folder_details)\n",
    "csv_lyr.share(everyone = True)\n",
    "#print(csv_lyr.ownerFolder)"
   ]
  },
  {
   "cell_type": "code",
   "execution_count": null,
   "metadata": {},
   "outputs": [],
   "source": []
  }
 ],
 "metadata": {
  "kernelspec": {
   "display_name": "Python 3",
   "language": "python",
   "name": "python3"
  },
  "language_info": {
   "codemirror_mode": {
    "name": "ipython",
    "version": 3
   },
   "file_extension": ".py",
   "mimetype": "text/x-python",
   "name": "python",
   "nbconvert_exporter": "python",
   "pygments_lexer": "ipython3",
   "version": "3.6.2"
  }
 },
 "nbformat": 4,
 "nbformat_minor": 4
}
