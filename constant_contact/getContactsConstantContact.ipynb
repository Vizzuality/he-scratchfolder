{
 "cells": [
  {
   "cell_type": "markdown",
   "metadata": {},
   "source": [
    "# To do list:\n",
    "- limit the getting of data using a date\n",
    "- create different types of arcgis actions (publishing new service, overwritting a new service, append to a new service)"
   ]
  },
  {
   "cell_type": "code",
   "execution_count": null,
   "metadata": {},
   "outputs": [],
   "source": [
    "import json\n",
    "import requests\n",
    "import re\n",
    "from pprint import pprint\n",
    "import pandas as pd"
   ]
  },
  {
   "cell_type": "markdown",
   "metadata": {},
   "source": [
    "# Functions"
   ]
  },
  {
   "cell_type": "code",
   "execution_count": null,
   "metadata": {},
   "outputs": [],
   "source": [
    "def executeRequest(url, headers, payload):\n",
    "    \n",
    "    try:\n",
    "    ## Create empty object first\n",
    "        r_json = {}\n",
    "    \n",
    "    ## cleaner way of using requests\n",
    "        response = requests.get(url, headers=headers, data=payload)\n",
    "\n",
    "    except:\n",
    "        print(\"There was an problem in the request :(\")\n",
    "        return None\n",
    "\n",
    "    ## always nice to print the url as a sanity check\n",
    "    print(response.url)\n",
    "\n",
    "    # if succesful, populate your response json\n",
    "    if  response.status_code == 200:\n",
    "            r_json = response.json()\n",
    "    else:\n",
    "        print(f'Failed to get data {response.status_code}, {response.json()}')\n",
    "    \n",
    "    return r_json"
   ]
  },
  {
   "cell_type": "code",
   "execution_count": null,
   "metadata": {},
   "outputs": [],
   "source": [
    "def create_strict_reg_exp(to_search):\n",
    "    try:\n",
    "        reg_exp = f\"^{to_search}$\"\n",
    "    except:\n",
    "        print(\"There was a problem with the string.\")\n",
    "    return reg_exp"
   ]
  },
  {
   "cell_type": "code",
   "execution_count": null,
   "metadata": {},
   "outputs": [],
   "source": [
    "def searchContactListsID(r_json, reg_exp):\n",
    "    try:\n",
    "        l_json = r_json.get(\"lists\", [])\n",
    "        assert type(l_json) is list and len(l_json) is not 0,  \"Error with l_json\"\n",
    "        sel_contact_dict = {\n",
    "        d['name']: d.get('list_id', '')\n",
    "        for d in l_json\n",
    "        if re.search(reg_exp, d['name']) != None\n",
    "        }        \n",
    "    except:\n",
    "        print(\"There was a problem with the structure of the json\")\n",
    "    return sel_contact_dict"
   ]
  },
  {
   "cell_type": "code",
   "execution_count": null,
   "metadata": {},
   "outputs": [],
   "source": [
    "def requestURLbyListID(id_contact_list):\n",
    "    try:\n",
    "        url = f\"https://api.cc.email/v3/contacts?lists={id_contact_list}&include=street_addresses&limit=500&include_count=false\"\n",
    "    except:\n",
    "        print(\"There was a problem with the id.\")\n",
    "    return url"
   ]
  },
  {
   "cell_type": "code",
   "execution_count": null,
   "metadata": {},
   "outputs": [],
   "source": [
    "def getContactsLocation(r_json):\n",
    "    try:\n",
    "        contacts_list = []\n",
    "        l_json = r_json.get(\"contacts\", [])\n",
    "        for d in l_json:\n",
    "            street_address = d.get('street_addresses', [{}])#[0]\n",
    "            if street_address:\n",
    "                street_address = street_address[0]\n",
    "                postal_code = street_address.get(\"postal_code\", None)\n",
    "                country = street_address.get(\"country\", None)\n",
    "                if postal_code and country:\n",
    "                    contact_dict = {\n",
    "                        'contact_id': d.get('contact_id', ''), ## Need a fallback for contact_id? No, there is always a contact_id\n",
    "                        'postal_code': postal_code,\n",
    "                        'country': country\n",
    "                    }\n",
    "                    contacts_list.append(contact_dict)  \n",
    "        df = pd.DataFrame(contacts_list)\n",
    "    except:\n",
    "        print(\"There was a problem with the structure of the json\")\n",
    "    return df"
   ]
  },
  {
   "cell_type": "code",
   "execution_count": null,
   "metadata": {},
   "outputs": [],
   "source": [
    "def missLocation(r_json, df):\n",
    "    try: \n",
    "        l_json = r_json.get(\"contacts\", [])\n",
    "        all_contacts_list = []\n",
    "        for d in l_json:\n",
    "            all_contacts_list.append(d.get('contact_id', ''))\n",
    "        original_set = set(all_contacts_list)\n",
    "        located_set = set(df.contact_id)\n",
    "        contact_diff = original_set.difference(located_set)\n",
    "    except:\n",
    "        print(\"There was a problem with the structure of the json\")\n",
    "    return contact_diff"
   ]
  },
  {
   "cell_type": "code",
   "execution_count": null,
   "metadata": {},
   "outputs": [],
   "source": [
    "def writeLocationCsv(df, csvName):\n",
    "    try:\n",
    "        csv_file = f'./{csvName}.csv'\n",
    "        df.to_csv(csv_file, index=False)\n",
    "        print(f\"{csv_file} written\")\n",
    "    except:\n",
    "        print(\"The csv hasn't been written\")"
   ]
  },
  {
   "cell_type": "markdown",
   "metadata": {},
   "source": [
    "# Environmental variables"
   ]
  },
  {
   "cell_type": "code",
   "execution_count": 6,
   "metadata": {},
   "outputs": [],
   "source": [
    "env_path = \".env\""
   ]
  },
  {
   "cell_type": "code",
   "execution_count": 7,
   "metadata": {},
   "outputs": [],
   "source": [
    "with open(env_path) as f:\n",
    "    env = {}\n",
    "    for line in f:\n",
    "        env_key, _val = line.split(\"=\")\n",
    "        env_value = _val.split(\"\\n\")[0]\n",
    "        env[env_key] = env_value"
   ]
  },
  {
   "cell_type": "code",
   "execution_count": null,
   "metadata": {},
   "outputs": [],
   "source": [
    "api_key = env['cc_api_key']\n",
    "token = env['cc_token']"
   ]
  },
  {
   "cell_type": "markdown",
   "metadata": {},
   "source": [
    "To get the token put this in the web browser: https://api.cc.email/v3/idfed?client_id={api_key}&redirect_uri=https://localhost&response_type=token&scope=contact_data"
   ]
  },
  {
   "cell_type": "code",
   "execution_count": null,
   "metadata": {},
   "outputs": [],
   "source": [
    "f\"https://api.cc.email/v3/idfed?client_id={api_key}&redirect_uri=https://localhost&response_type=token&scope=contact_data\""
   ]
  },
  {
   "cell_type": "markdown",
   "metadata": {},
   "source": [
    "and then update the `.env` file. Is there a way of getting the url where this get call takes?"
   ]
  },
  {
   "cell_type": "code",
   "execution_count": 3,
   "metadata": {},
   "outputs": [],
   "source": [
    "contact_lists_of_interest = [\"Educator Ambassadors\"]"
   ]
  },
  {
   "cell_type": "code",
   "execution_count": 19,
   "metadata": {},
   "outputs": [],
   "source": [
    "testing_val = contact_lists_of_interest[0]"
   ]
  },
  {
   "cell_type": "markdown",
   "metadata": {},
   "source": [
    "# Getting the data from Constant Contact"
   ]
  },
  {
   "cell_type": "code",
   "execution_count": null,
   "metadata": {},
   "outputs": [],
   "source": [
    "headers = {\n",
    "  'Authorization': f'Bearer {token}'\n",
    "}\n",
    "payload = {}"
   ]
  },
  {
   "cell_type": "code",
   "execution_count": null,
   "metadata": {},
   "outputs": [],
   "source": [
    "url = \"https://api.cc.email/v3/contact_lists?include_count=false\""
   ]
  },
  {
   "cell_type": "code",
   "execution_count": null,
   "metadata": {},
   "outputs": [],
   "source": [
    "r_contact_lists = executeRequest(url, headers, payload)"
   ]
  },
  {
   "cell_type": "code",
   "execution_count": null,
   "metadata": {},
   "outputs": [],
   "source": [
    "for list_element in contact_lists_of_interest:\n",
    "    cl_to_search = create_strict_reg_exp(list_element)\n",
    "    id_dict = searchContactListsID(r_json = r_contact_lists, to_search = cl_to_search)\n",
    "    url_contacts = requestURLbyListID(id_dict[list_element])\n",
    "    r_contacts = executeRequest(url_contacts, headers, payload)\n",
    "    contacts_location_df = getContactsLocation(r_contacts)\n",
    "    contacts_without_location = missLocation(r_contacts,contacts_location_df) #this should be written in some kind of log\n",
    "    writeLocationCsv(contacts_location_df, list_element)"
   ]
  },
  {
   "cell_type": "markdown",
   "metadata": {},
   "source": [
    "# Once the csv is ready it can be published in arcgis online via the arcgis api\n",
    "Here there can be different cases:\n",
    "- publish a new service, if the list is a new one\n",
    "- fully overwrite a service\n",
    "- append data to a service"
   ]
  },
  {
   "cell_type": "code",
   "execution_count": 4,
   "metadata": {},
   "outputs": [],
   "source": [
    "import arcgis\n",
    "from arcgis.gis import GIS\n",
    "from arcgis.features import FeatureLayerCollection"
   ]
  },
  {
   "cell_type": "code",
   "execution_count": 87,
   "metadata": {},
   "outputs": [],
   "source": [
    "def publishCSVasFS(csvName, sharing = \"everyone\", aol_folder_name = \"constant_contact\", aol_username = env['aol_username'], aol_password = env['aol_key']):\n",
    "    try:\n",
    "        gis = GIS(\"https://eowilson.maps.arcgis.com\", aol_username, aol_password)\n",
    "        #check that the feature service name doesn't exist already\n",
    "        # is_service_name_available(service_name, service_type)\n",
    "        if gis.content.is_service_name_available(csvName, \"featureService\"):\n",
    "            print(f\"Service name {csvName} is available\")\n",
    "            csv_file = f'./{csvName}.csv'\n",
    "            csv_item = gis.content.add({}, csv_file)\n",
    "            csv_lyr = csv_item.publish(None,  { 'CountryCode' : 'country',\n",
    "                                            'Postal' : 'postal_code'} )\n",
    "            print(f\"Service {csvName} has been published\")\n",
    "            print(f\"Moving service {csvName} to {aol_folder_name} in ArcGIS Online...\")\n",
    "            csv_item.move(aol_folder_name)\n",
    "            csv_lyr.move(aol_folder_name)\n",
    "            print(f\"Service {csvName} has been moved to {aol_folder_name} in ArcGIS Online\")\n",
    "            #sharing\n",
    "            if sharing == \"everyone\":\n",
    "                csv_lyr.share(everyone=True, org=False, groups=None, allow_members_to_edit=False)\n",
    "            sharing_prop = csv_lyr.shared_with\n",
    "            if sharing_prop['everyone']==True:\n",
    "                print(f\"shared with everyone\")\n",
    "            else:\n",
    "                print(f\"not public layer, for this layer to be used it has to be public or the urls have to be whitelisted\")            \n",
    "            #not allowing deleting\n",
    "            csv_lyr.protect()\n",
    "            try:\n",
    "                csv_lyr.delete()\n",
    "                print(\"The service has not been published.\")\n",
    "            except:\n",
    "                print(\"The detele protection is activated.\")\n",
    "            #mark deprecated\n",
    "            # it is possible to check the status with csv_item.content_status\n",
    "        else:\n",
    "            print(\"The service name is not available, try overwritting, appending the data or a different service name\")\n",
    "        \n",
    "    except:\n",
    "        print(\"The csv hasn't been published\")"
   ]
  },
  {
   "cell_type": "code",
   "execution_count": 88,
   "metadata": {},
   "outputs": [
    {
     "name": "stdout",
     "output_type": "stream",
     "text": [
      "Service name Educator Ambassadors is available\n",
      "Service Educator Ambassadors has been published\n",
      "Moving service Educator Ambassadors to constant_contact in ArcGIS Online...\n",
      "Service Educator Ambassadors has been moved to constant_contact in ArcGIS Online\n",
      "shared with everyone\n",
      "shared with org\n",
      "not shared with groups\n"
     ]
    },
    {
     "name": "stderr",
     "output_type": "stream",
     "text": [
      "Unable to delete item d3afbe6805604fa78784cddecbd0404f. Delete protection is turned on.\n"
     ]
    },
    {
     "name": "stdout",
     "output_type": "stream",
     "text": [
      "The detele protection is activated.\n"
     ]
    }
   ],
   "source": [
    "publishCSVasFS(csvName = testing_val)"
   ]
  },
  {
   "cell_type": "markdown",
   "metadata": {},
   "source": [
    "To overwrite follow [this notebook from ESRI](https://developers.arcgis.com/python/sample-notebooks/overwriting-feature-layers/). "
   ]
  },
  {
   "cell_type": "code",
   "execution_count": null,
   "metadata": {},
   "outputs": [],
   "source": [
    "def overwriteFSwithCSV(csvName, aol_folder_name = \"constant_contact\"):\n",
    "    "
   ]
  },
  {
   "cell_type": "markdown",
   "metadata": {},
   "source": [
    "To append follow [this notebook from ESRI](https://developers.arcgis.com/python/sample-notebooks/updating-features-in-a-feature-layer/)."
   ]
  },
  {
   "cell_type": "code",
   "execution_count": null,
   "metadata": {},
   "outputs": [],
   "source": [
    "def appendCSVtoFS(csvName, aol_folder_name = \"constant_contact\"): \n",
    "    "
   ]
  },
  {
   "cell_type": "code",
   "execution_count": null,
   "metadata": {},
   "outputs": [],
   "source": [
    "def csvToArcgis(csvName, action, aol_folder_name = \"constant_contact\"):\n",
    "    if action == \"publish\":\n",
    "        publishCSVasFS(csvName)\n",
    "    if action == \"overwrite\":\n",
    "        overwriteFSwithCSV()\n",
    "    if action == \"append\":\n",
    "        appendCSVtoFS()"
   ]
  },
  {
   "cell_type": "code",
   "execution_count": 9,
   "metadata": {},
   "outputs": [],
   "source": [
    "aol_password = env['aol_key']\n",
    "aol_username = env['aol_username']"
   ]
  },
  {
   "cell_type": "code",
   "execution_count": 10,
   "metadata": {},
   "outputs": [],
   "source": [
    "#getting into the GIS\n",
    "gis = GIS(\"https://eowilson.maps.arcgis.com\", aol_username, aol_password)"
   ]
  },
  {
   "cell_type": "code",
   "execution_count": null,
   "metadata": {},
   "outputs": [],
   "source": [
    "aol_folder_name = \"constant_contact\""
   ]
  },
  {
   "cell_type": "code",
   "execution_count": null,
   "metadata": {},
   "outputs": [],
   "source": [
    "for list_element in contact_lists_of_interest:\n",
    "    csv_file = f'./{list_element}.csv'\n",
    "    publishCSVasFS(csv_file)"
   ]
  },
  {
   "cell_type": "code",
   "execution_count": 97,
   "metadata": {},
   "outputs": [],
   "source": [
    "test_item = gis.content.search(testing_val, item_type = \"Feature Layer\")[0]"
   ]
  },
  {
   "cell_type": "code",
   "execution_count": null,
   "metadata": {},
   "outputs": [],
   "source": []
  },
  {
   "cell_type": "code",
   "execution_count": null,
   "metadata": {},
   "outputs": [],
   "source": [
    "new_folder_details = gis.content.create_folder(aol_folder_name)\n",
    "csv_item.move(new_folder_details)\n",
    "csv_lyr.move(new_folder_details)\n",
    "csv_lyr.share(everyone = False)\n",
    "#print(csv_lyr.ownerFolder)"
   ]
  },
  {
   "cell_type": "code",
   "execution_count": null,
   "metadata": {},
   "outputs": [],
   "source": []
  }
 ],
 "metadata": {
  "kernelspec": {
   "display_name": "Python 3",
   "language": "python",
   "name": "python3"
  },
  "language_info": {
   "codemirror_mode": {
    "name": "ipython",
    "version": 3
   },
   "file_extension": ".py",
   "mimetype": "text/x-python",
   "name": "python",
   "nbconvert_exporter": "python",
   "pygments_lexer": "ipython3",
   "version": "3.7.4"
  }
 },
 "nbformat": 4,
 "nbformat_minor": 4
}
