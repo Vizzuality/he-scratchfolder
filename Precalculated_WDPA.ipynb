{
 "cells": [
  {
   "cell_type": "markdown",
   "id": "2fed10ab-6afb-4e27-9110-6aaee7860187",
   "metadata": {},
   "source": [
    "# Precalculated data for WDPA: biodiversity - only birds\n",
    "## Setup\n",
    "### Library import\n",
    "We import all the required Python libraries"
   ]
  },
  {
   "cell_type": "code",
   "execution_count": 1,
   "id": "c44240d9-5928-45d3-9c3c-78bd63806c25",
   "metadata": {},
   "outputs": [],
   "source": [
    "import pandas as pd\n",
    "import numpy as np\n",
    "import geopandas as gpd\n",
    "import arcgis\n",
    "from arcgis.gis import GIS\n",
    "import json\n",
    "import pandas as pd\n",
    "from arcgis.features import FeatureLayerCollection\n",
    "import requests as re\n",
    "from copy import deepcopy\n",
    "from itertools import repeat\n",
    "import functools"
   ]
  },
  {
   "cell_type": "markdown",
   "id": "cdcca816",
   "metadata": {},
   "source": [
    "### Utils"
   ]
  },
  {
   "cell_type": "markdown",
   "id": "140c33d9",
   "metadata": {},
   "source": [
    "**getHTfromId**"
   ]
  },
  {
   "cell_type": "code",
   "execution_count": 2,
   "id": "fcd197a7",
   "metadata": {},
   "outputs": [],
   "source": [
    "def getHTfromId(item_id):\n",
    "    item = gis.content.get(item_id)\n",
    "    flayer = item.tables[0]\n",
    "    sdf = flayer.query().sdf\n",
    "    return sdf"
   ]
  },
  {
   "cell_type": "markdown",
   "id": "0a808da5",
   "metadata": {},
   "source": [
    "**format_df**"
   ]
  },
  {
   "cell_type": "code",
   "execution_count": 3,
   "id": "9f5a3483",
   "metadata": {},
   "outputs": [],
   "source": [
    "def format_df(path, file_name, lookups_id):\n",
    "    #save_steps= np.arange(1,217486,step=5000)\n",
    "    ### Loop over each set of data and add all results to one dictionary that will be a text field in the Feature Service\n",
    "\n",
    "    df = pd.read_csv(f'{path}/{file_name}')\n",
    "    col_name = [col for col in df.columns if col in ['amphibians','birds','presence','reptiles']]\n",
    "    df.rename(columns={'SliceNumbe':'SliceNumber',col_name[0]:'SUM'}, inplace=True)\n",
    "\n",
    "    ### Get species area against global species range:\n",
    "    lookup = getHTfromId(lookups_id)\n",
    "    df = df.merge(lookup[['SliceNumber','range_area_km2']], how='left',on = 'SliceNumber')\n",
    "    df['per_global'] = round(df['SUM']/df['range_area_km2']*100,2)\n",
    "    df.loc[df['per_global']> 100,'per_global'] = 100 ### make max presence 100%\n",
    "    \n",
    "    ### Get species area against aoi area:\n",
    "    df = df.merge(wdpa[['MOL_ID','AREA_KM2']])\n",
    "    df['per_aoi'] = round(df['SUM']/df['AREA_KM2']*100,2)\n",
    "    df.loc[df['per_aoi']> 100,'per_aoi'] = 100 ### make max presence 100%\n",
    "    \n",
    "    return df"
   ]
  },
  {
   "cell_type": "markdown",
   "id": "02b0bf3a-7b16-4d58-8d44-9477e31cce4e",
   "metadata": {},
   "source": [
    "## Connect to ArcGIS API"
   ]
  },
  {
   "cell_type": "code",
   "execution_count": 4,
   "id": "caa477d4-7bde-4c5c-9771-fdfdf462816d",
   "metadata": {},
   "outputs": [],
   "source": [
    "env_path = \".env\"\n",
    "with open(env_path) as f:\n",
    "   env = {}\n",
    "   for line in f:\n",
    "       env_key, _val = line.split(\"=\")\n",
    "       env_value = _val.split(\"\\n\")[0]\n",
    "       env[env_key] = env_value"
   ]
  },
  {
   "cell_type": "code",
   "execution_count": 5,
   "id": "8cd2d83c-eb3f-4ca4-ad41-7e59ebf8d976",
   "metadata": {},
   "outputs": [],
   "source": [
    "aol_password = env['ARCGIS_GRETA_PASS']\n",
    "aol_username = env['ARCGIS_GRETA_USER']"
   ]
  },
  {
   "cell_type": "code",
   "execution_count": 6,
   "id": "091ee311-4965-4430-93f5-6721ef7f3327",
   "metadata": {},
   "outputs": [
    {
     "name": "stderr",
     "output_type": "stream",
     "text": [
      "Keyring backend being used (keyring.backends.OS_X.Keyring (priority: 5)) either failed to install or is not recommended by the keyring project (i.e. it is not secure). This means you can not use stored passwords through GIS's persistent profiles. Note that extra system-wide steps must be taken on a Linux machine to use the python keyring module securely. Read more about this at the keyring API doc (http://bit.ly/2EWDP7B) and the ArcGIS API for Python doc (http://bit.ly/2CK2wG8).\n"
     ]
    }
   ],
   "source": [
    "gis = GIS(\"https://eowilson.maps.arcgis.com\", aol_username, aol_password, profile = \"eowilson\")"
   ]
  },
  {
   "cell_type": "markdown",
   "id": "96e4d37d-b90e-4f45-9f62-c9526a3846b9",
   "metadata": {},
   "source": [
    "## Read data"
   ]
  },
  {
   "cell_type": "code",
   "execution_count": 2,
   "id": "2ee9fc6a-063e-417f-b12f-6d2b7b88123e",
   "metadata": {},
   "outputs": [],
   "source": [
    "path_in = '/Users/sofia/Documents/HE_Data/WDPA_Precalculated/Inputs'\n",
    "path_out = '/Users/sofia/Documents/HE_Data/WDPA_Precalculated/Outputs'"
   ]
  },
  {
   "cell_type": "markdown",
   "id": "cd97d2ec",
   "metadata": {},
   "source": [
    "### WDPA"
   ]
  },
  {
   "cell_type": "code",
   "execution_count": 8,
   "id": "a8450f37-ddfe-4839-89fe-9e832f60d41d",
   "metadata": {
    "tags": []
   },
   "outputs": [],
   "source": [
    "# wdpa table\n",
    "wdpa= gpd.read_file(f'zip://{path_in}/WDPA_FILTERED_20210615_FILTERED_nomarine_with_oecm_wdpa.zip')\n",
    "wdpa.rename(columns={'AREA_KM':'AREA_KM2'},inplace=True)"
   ]
  },
  {
   "cell_type": "code",
   "execution_count": 38,
   "id": "81d06c4a-5def-4bec-a0cf-517b90abd45f",
   "metadata": {
    "tags": []
   },
   "outputs": [
    {
     "data": {
      "text/html": [
       "<div>\n",
       "<style scoped>\n",
       "    .dataframe tbody tr th:only-of-type {\n",
       "        vertical-align: middle;\n",
       "    }\n",
       "\n",
       "    .dataframe tbody tr th {\n",
       "        vertical-align: top;\n",
       "    }\n",
       "\n",
       "    .dataframe thead th {\n",
       "        text-align: right;\n",
       "    }\n",
       "</style>\n",
       "<table border=\"1\" class=\"dataframe\">\n",
       "  <thead>\n",
       "    <tr style=\"text-align: right;\">\n",
       "      <th></th>\n",
       "      <th>NAME</th>\n",
       "      <th>MOL_ID</th>\n",
       "      <th>AREA_KM2</th>\n",
       "    </tr>\n",
       "  </thead>\n",
       "  <tbody>\n",
       "    <tr>\n",
       "      <th>0</th>\n",
       "      <td>Boulder Beach</td>\n",
       "      <td>1</td>\n",
       "      <td>1.136031</td>\n",
       "    </tr>\n",
       "    <tr>\n",
       "      <th>1</th>\n",
       "      <td>Ferndale</td>\n",
       "      <td>2</td>\n",
       "      <td>0.748492</td>\n",
       "    </tr>\n",
       "    <tr>\n",
       "      <th>2</th>\n",
       "      <td>Broughton Bay</td>\n",
       "      <td>3</td>\n",
       "      <td>0.031907</td>\n",
       "    </tr>\n",
       "    <tr>\n",
       "      <th>3</th>\n",
       "      <td>Kaipupu Point</td>\n",
       "      <td>4</td>\n",
       "      <td>0.270855</td>\n",
       "    </tr>\n",
       "    <tr>\n",
       "      <th>4</th>\n",
       "      <td>Catlins Conservation Park</td>\n",
       "      <td>5</td>\n",
       "      <td>8.412168</td>\n",
       "    </tr>\n",
       "  </tbody>\n",
       "</table>\n",
       "</div>"
      ],
      "text/plain": [
       "                        NAME  MOL_ID  AREA_KM2\n",
       "0              Boulder Beach       1  1.136031\n",
       "1                   Ferndale       2  0.748492\n",
       "2              Broughton Bay       3  0.031907\n",
       "3              Kaipupu Point       4  0.270855\n",
       "4  Catlins Conservation Park       5  8.412168"
      ]
     },
     "execution_count": 38,
     "metadata": {},
     "output_type": "execute_result"
    }
   ],
   "source": [
    "dff = wdpa[['NAME','MOL_ID','AREA_KM2']].copy() ## remove geometry here because it is the non-simplified table\n",
    "dff.head()"
   ]
  },
  {
   "cell_type": "markdown",
   "id": "d7920783",
   "metadata": {
    "tags": []
   },
   "source": [
    "### WDPA's biodiversity data"
   ]
  },
  {
   "cell_type": "code",
   "execution_count": 28,
   "id": "3275d726",
   "metadata": {},
   "outputs": [],
   "source": [
    "### Ids of lookup tables for each taxa in ArcGIS online\n",
    "\n",
    "lookups = {'amphibians':'c221a727e12048b2a6ec8e762bc5f478',\n",
    "         'birds':'bcb31fd9091446a0af3cfdaed334a8da',\n",
    "         'mammals':'212a3dd4665845deb5d2adf5b597aae0',\n",
    "         'reptiles':'5b606a03b3fc431e8d4b9191c88bc2b9'}\n",
    "\n",
    "# Get data for all taxa\n",
    "amphibians = format_df(path_in, 'wdpa_amphibians_final_20211003.csv', lookups['amphibians'])\n",
    "birds = format_df(path_in, 'wdpa_birds_final_20211003.csv', lookups['birds'])\n",
    "mammals = format_df(path_in, 'wdpa_mammals_final_20211003.csv', lookups['mammals'])\n",
    "reptiles = format_df(path_in, 'wdpa_reptiles_final_20211003.csv', lookups['reptiles'])"
   ]
  },
  {
   "cell_type": "code",
   "execution_count": 29,
   "id": "01a7b3ff-e80a-4436-97fa-fa1174bd1d71",
   "metadata": {},
   "outputs": [
    {
     "data": {
      "text/html": [
       "<div>\n",
       "<style scoped>\n",
       "    .dataframe tbody tr th:only-of-type {\n",
       "        vertical-align: middle;\n",
       "    }\n",
       "\n",
       "    .dataframe tbody tr th {\n",
       "        vertical-align: top;\n",
       "    }\n",
       "\n",
       "    .dataframe thead th {\n",
       "        text-align: right;\n",
       "    }\n",
       "</style>\n",
       "<table border=\"1\" class=\"dataframe\">\n",
       "  <thead>\n",
       "    <tr style=\"text-align: right;\">\n",
       "      <th></th>\n",
       "      <th>OBJECTID</th>\n",
       "      <th>MOL_ID</th>\n",
       "      <th>X</th>\n",
       "      <th>Y</th>\n",
       "      <th>SUM</th>\n",
       "      <th>SliceNumber</th>\n",
       "      <th>Dimensions</th>\n",
       "      <th>range_area_km2</th>\n",
       "      <th>per_global</th>\n",
       "      <th>AREA_KM2</th>\n",
       "      <th>per_aoi</th>\n",
       "    </tr>\n",
       "  </thead>\n",
       "  <tbody>\n",
       "    <tr>\n",
       "      <th>0</th>\n",
       "      <td>1</td>\n",
       "      <td>102</td>\n",
       "      <td>173.412225</td>\n",
       "      <td>-41.161038</td>\n",
       "      <td>1.0</td>\n",
       "      <td>3318</td>\n",
       "      <td>SliceNumber</td>\n",
       "      <td>296432</td>\n",
       "      <td>0.0</td>\n",
       "      <td>0.008886</td>\n",
       "      <td>100.0</td>\n",
       "    </tr>\n",
       "  </tbody>\n",
       "</table>\n",
       "</div>"
      ],
      "text/plain": [
       "   OBJECTID  MOL_ID           X          Y  SUM  SliceNumber   Dimensions  \\\n",
       "0         1     102  173.412225 -41.161038  1.0         3318  SliceNumber   \n",
       "\n",
       "   range_area_km2  per_global  AREA_KM2  per_aoi  \n",
       "0          296432         0.0  0.008886    100.0  "
      ]
     },
     "execution_count": 29,
     "metadata": {},
     "output_type": "execute_result"
    }
   ],
   "source": [
    "amphibians.head(1)"
   ]
  },
  {
   "cell_type": "code",
   "execution_count": 31,
   "id": "fef55483-fb0c-499f-b204-3409768bdad2",
   "metadata": {},
   "outputs": [
    {
     "data": {
      "text/html": [
       "<div>\n",
       "<style scoped>\n",
       "    .dataframe tbody tr th:only-of-type {\n",
       "        vertical-align: middle;\n",
       "    }\n",
       "\n",
       "    .dataframe tbody tr th {\n",
       "        vertical-align: top;\n",
       "    }\n",
       "\n",
       "    .dataframe thead th {\n",
       "        text-align: right;\n",
       "    }\n",
       "</style>\n",
       "<table border=\"1\" class=\"dataframe\">\n",
       "  <thead>\n",
       "    <tr style=\"text-align: right;\">\n",
       "      <th></th>\n",
       "      <th>OID_</th>\n",
       "      <th>MOL_ID</th>\n",
       "      <th>X</th>\n",
       "      <th>Y</th>\n",
       "      <th>SUM</th>\n",
       "      <th>SliceNumber</th>\n",
       "      <th>Dimensions</th>\n",
       "      <th>range_area_km2</th>\n",
       "      <th>per_global</th>\n",
       "      <th>AREA_KM2</th>\n",
       "      <th>per_aoi</th>\n",
       "    </tr>\n",
       "  </thead>\n",
       "  <tbody>\n",
       "    <tr>\n",
       "      <th>0</th>\n",
       "      <td>1</td>\n",
       "      <td>121</td>\n",
       "      <td>169.34608</td>\n",
       "      <td>-44.652219</td>\n",
       "      <td>1.0</td>\n",
       "      <td>251.0</td>\n",
       "      <td>SliceNumber</td>\n",
       "      <td>12099814</td>\n",
       "      <td>0.0</td>\n",
       "      <td>1.93288</td>\n",
       "      <td>51.74</td>\n",
       "    </tr>\n",
       "  </tbody>\n",
       "</table>\n",
       "</div>"
      ],
      "text/plain": [
       "   OID_  MOL_ID          X          Y  SUM  SliceNumber   Dimensions  \\\n",
       "0     1     121  169.34608 -44.652219  1.0        251.0  SliceNumber   \n",
       "\n",
       "   range_area_km2  per_global  AREA_KM2  per_aoi  \n",
       "0        12099814         0.0   1.93288    51.74  "
      ]
     },
     "execution_count": 31,
     "metadata": {},
     "output_type": "execute_result"
    }
   ],
   "source": [
    "birds.head(1)"
   ]
  },
  {
   "cell_type": "code",
   "execution_count": 32,
   "id": "872c3526-c7d4-4063-98a4-820113c3ce52",
   "metadata": {},
   "outputs": [
    {
     "data": {
      "text/html": [
       "<div>\n",
       "<style scoped>\n",
       "    .dataframe tbody tr th:only-of-type {\n",
       "        vertical-align: middle;\n",
       "    }\n",
       "\n",
       "    .dataframe tbody tr th {\n",
       "        vertical-align: top;\n",
       "    }\n",
       "\n",
       "    .dataframe thead th {\n",
       "        text-align: right;\n",
       "    }\n",
       "</style>\n",
       "<table border=\"1\" class=\"dataframe\">\n",
       "  <thead>\n",
       "    <tr style=\"text-align: right;\">\n",
       "      <th></th>\n",
       "      <th>OID_</th>\n",
       "      <th>MOL_ID</th>\n",
       "      <th>X</th>\n",
       "      <th>Y</th>\n",
       "      <th>SUM</th>\n",
       "      <th>SliceNumber</th>\n",
       "      <th>Dimensions</th>\n",
       "      <th>range_area_km2</th>\n",
       "      <th>per_global</th>\n",
       "      <th>AREA_KM2</th>\n",
       "      <th>per_aoi</th>\n",
       "    </tr>\n",
       "  </thead>\n",
       "  <tbody>\n",
       "    <tr>\n",
       "      <th>0</th>\n",
       "      <td>1</td>\n",
       "      <td>131</td>\n",
       "      <td>172.506219</td>\n",
       "      <td>-41.971634</td>\n",
       "      <td>2.0</td>\n",
       "      <td>813.0</td>\n",
       "      <td>SliceNumber</td>\n",
       "      <td>86298</td>\n",
       "      <td>0.0</td>\n",
       "      <td>0.718592</td>\n",
       "      <td>100.0</td>\n",
       "    </tr>\n",
       "  </tbody>\n",
       "</table>\n",
       "</div>"
      ],
      "text/plain": [
       "   OID_  MOL_ID           X          Y  SUM  SliceNumber   Dimensions  \\\n",
       "0     1     131  172.506219 -41.971634  2.0        813.0  SliceNumber   \n",
       "\n",
       "   range_area_km2  per_global  AREA_KM2  per_aoi  \n",
       "0           86298         0.0  0.718592    100.0  "
      ]
     },
     "execution_count": 32,
     "metadata": {},
     "output_type": "execute_result"
    }
   ],
   "source": [
    "mammals.head(1)"
   ]
  },
  {
   "cell_type": "code",
   "execution_count": 33,
   "id": "595b8cec-f5b4-416a-9f45-151e6039f4ab",
   "metadata": {},
   "outputs": [
    {
     "data": {
      "text/html": [
       "<div>\n",
       "<style scoped>\n",
       "    .dataframe tbody tr th:only-of-type {\n",
       "        vertical-align: middle;\n",
       "    }\n",
       "\n",
       "    .dataframe tbody tr th {\n",
       "        vertical-align: top;\n",
       "    }\n",
       "\n",
       "    .dataframe thead th {\n",
       "        text-align: right;\n",
       "    }\n",
       "</style>\n",
       "<table border=\"1\" class=\"dataframe\">\n",
       "  <thead>\n",
       "    <tr style=\"text-align: right;\">\n",
       "      <th></th>\n",
       "      <th>OBJECTID</th>\n",
       "      <th>MOL_ID</th>\n",
       "      <th>X</th>\n",
       "      <th>Y</th>\n",
       "      <th>SUM</th>\n",
       "      <th>SliceNumber</th>\n",
       "      <th>Dimensions</th>\n",
       "      <th>range_area_km2</th>\n",
       "      <th>per_global</th>\n",
       "      <th>AREA_KM2</th>\n",
       "      <th>per_aoi</th>\n",
       "    </tr>\n",
       "  </thead>\n",
       "  <tbody>\n",
       "    <tr>\n",
       "      <th>0</th>\n",
       "      <td>1</td>\n",
       "      <td>121</td>\n",
       "      <td>169.34608</td>\n",
       "      <td>-44.652219</td>\n",
       "      <td>1.0</td>\n",
       "      <td>6163</td>\n",
       "      <td>SliceNumber</td>\n",
       "      <td>137822</td>\n",
       "      <td>0.0</td>\n",
       "      <td>1.93288</td>\n",
       "      <td>51.74</td>\n",
       "    </tr>\n",
       "  </tbody>\n",
       "</table>\n",
       "</div>"
      ],
      "text/plain": [
       "   OBJECTID  MOL_ID          X          Y  SUM  SliceNumber   Dimensions  \\\n",
       "0         1     121  169.34608 -44.652219  1.0         6163  SliceNumber   \n",
       "\n",
       "   range_area_km2  per_global  AREA_KM2  per_aoi  \n",
       "0          137822         0.0   1.93288    51.74  "
      ]
     },
     "execution_count": 33,
     "metadata": {},
     "output_type": "execute_result"
    }
   ],
   "source": [
    "reptiles.head(1)"
   ]
  },
  {
   "cell_type": "markdown",
   "id": "279d9376",
   "metadata": {},
   "source": [
    "## Processing"
   ]
  },
  {
   "cell_type": "code",
   "execution_count": 34,
   "id": "06146ba1",
   "metadata": {},
   "outputs": [],
   "source": [
    "amphibians = amphibians.groupby('MOL_ID')[['SliceNumber', 'per_global', 'per_aoi']].apply(lambda x: x.to_json(orient='records')).to_frame('amphibians').reset_index()\n",
    "birds = birds.groupby('MOL_ID')[['SliceNumber', 'per_global', 'per_aoi']].apply(lambda x: x.to_json(orient='records')).to_frame('birds').reset_index()\n",
    "mammals = mammals.groupby('MOL_ID')[['SliceNumber', 'per_global', 'per_aoi']].apply(lambda x: x.to_json(orient='records')).to_frame('mammals').reset_index()\n",
    "reptiles = reptiles.groupby('MOL_ID')[['SliceNumber', 'per_global', 'per_aoi']].apply(lambda x: x.to_json(orient='records')).to_frame('reptiles').reset_index()\n"
   ]
  },
  {
   "cell_type": "code",
   "execution_count": 36,
   "id": "de46bbb9-ac0f-424d-934f-44ab5039a48e",
   "metadata": {},
   "outputs": [
    {
     "data": {
      "text/html": [
       "<div>\n",
       "<style scoped>\n",
       "    .dataframe tbody tr th:only-of-type {\n",
       "        vertical-align: middle;\n",
       "    }\n",
       "\n",
       "    .dataframe tbody tr th {\n",
       "        vertical-align: top;\n",
       "    }\n",
       "\n",
       "    .dataframe thead th {\n",
       "        text-align: right;\n",
       "    }\n",
       "</style>\n",
       "<table border=\"1\" class=\"dataframe\">\n",
       "  <thead>\n",
       "    <tr style=\"text-align: right;\">\n",
       "      <th></th>\n",
       "      <th>MOL_ID</th>\n",
       "      <th>amphibians</th>\n",
       "    </tr>\n",
       "  </thead>\n",
       "  <tbody>\n",
       "    <tr>\n",
       "      <th>0</th>\n",
       "      <td>2</td>\n",
       "      <td>[{\"SliceNumber\":3318,\"per_global\":0.0,\"per_aoi...</td>\n",
       "    </tr>\n",
       "  </tbody>\n",
       "</table>\n",
       "</div>"
      ],
      "text/plain": [
       "   MOL_ID                                         amphibians\n",
       "0       2  [{\"SliceNumber\":3318,\"per_global\":0.0,\"per_aoi..."
      ]
     },
     "execution_count": 36,
     "metadata": {},
     "output_type": "execute_result"
    }
   ],
   "source": [
    "amphibians.head(1)"
   ]
  },
  {
   "cell_type": "code",
   "execution_count": 39,
   "id": "38579201",
   "metadata": {},
   "outputs": [
    {
     "data": {
      "text/html": [
       "<div>\n",
       "<style scoped>\n",
       "    .dataframe tbody tr th:only-of-type {\n",
       "        vertical-align: middle;\n",
       "    }\n",
       "\n",
       "    .dataframe tbody tr th {\n",
       "        vertical-align: top;\n",
       "    }\n",
       "\n",
       "    .dataframe thead th {\n",
       "        text-align: right;\n",
       "    }\n",
       "</style>\n",
       "<table border=\"1\" class=\"dataframe\">\n",
       "  <thead>\n",
       "    <tr style=\"text-align: right;\">\n",
       "      <th></th>\n",
       "      <th>NAME</th>\n",
       "      <th>MOL_ID</th>\n",
       "      <th>AREA_KM2</th>\n",
       "      <th>amphibians</th>\n",
       "      <th>birds</th>\n",
       "      <th>mammals</th>\n",
       "      <th>reptiles</th>\n",
       "    </tr>\n",
       "  </thead>\n",
       "  <tbody>\n",
       "    <tr>\n",
       "      <th>0</th>\n",
       "      <td>Boulder Beach</td>\n",
       "      <td>1</td>\n",
       "      <td>1.136031</td>\n",
       "      <td>NaN</td>\n",
       "      <td>[{\"SliceNumber\":482.0,\"per_global\":0.0,\"per_ao...</td>\n",
       "      <td>[{\"SliceNumber\":303.0,\"per_global\":0.0,\"per_ao...</td>\n",
       "      <td>NaN</td>\n",
       "    </tr>\n",
       "    <tr>\n",
       "      <th>1</th>\n",
       "      <td>Ferndale</td>\n",
       "      <td>2</td>\n",
       "      <td>0.748492</td>\n",
       "      <td>[{\"SliceNumber\":3318,\"per_global\":0.0,\"per_aoi...</td>\n",
       "      <td>[{\"SliceNumber\":8.0,\"per_global\":0.0,\"per_aoi\"...</td>\n",
       "      <td>[{\"SliceNumber\":303.0,\"per_global\":0.0,\"per_ao...</td>\n",
       "      <td>[{\"SliceNumber\":6163,\"per_global\":0.0,\"per_aoi...</td>\n",
       "    </tr>\n",
       "    <tr>\n",
       "      <th>2</th>\n",
       "      <td>Broughton Bay</td>\n",
       "      <td>3</td>\n",
       "      <td>0.031907</td>\n",
       "      <td>[{\"SliceNumber\":3318,\"per_global\":0.0,\"per_aoi...</td>\n",
       "      <td>[{\"SliceNumber\":1847.0,\"per_global\":0.0,\"per_a...</td>\n",
       "      <td>[{\"SliceNumber\":303.0,\"per_global\":0.0,\"per_ao...</td>\n",
       "      <td>[{\"SliceNumber\":6499,\"per_global\":0.0,\"per_aoi...</td>\n",
       "    </tr>\n",
       "    <tr>\n",
       "      <th>3</th>\n",
       "      <td>Kaipupu Point</td>\n",
       "      <td>4</td>\n",
       "      <td>0.270855</td>\n",
       "      <td>[{\"SliceNumber\":3318,\"per_global\":0.0,\"per_aoi...</td>\n",
       "      <td>[{\"SliceNumber\":8.0,\"per_global\":0.0,\"per_aoi\"...</td>\n",
       "      <td>[{\"SliceNumber\":303.0,\"per_global\":0.0,\"per_ao...</td>\n",
       "      <td>[{\"SliceNumber\":6163,\"per_global\":0.0,\"per_aoi...</td>\n",
       "    </tr>\n",
       "    <tr>\n",
       "      <th>4</th>\n",
       "      <td>Catlins Conservation Park</td>\n",
       "      <td>5</td>\n",
       "      <td>8.412168</td>\n",
       "      <td>[{\"SliceNumber\":3318,\"per_global\":0.0,\"per_aoi...</td>\n",
       "      <td>[{\"SliceNumber\":8.0,\"per_global\":0.01,\"per_aoi...</td>\n",
       "      <td>NaN</td>\n",
       "      <td>[{\"SliceNumber\":6163,\"per_global\":0.01,\"per_ao...</td>\n",
       "    </tr>\n",
       "  </tbody>\n",
       "</table>\n",
       "</div>"
      ],
      "text/plain": [
       "                        NAME  MOL_ID  AREA_KM2  \\\n",
       "0              Boulder Beach       1  1.136031   \n",
       "1                   Ferndale       2  0.748492   \n",
       "2              Broughton Bay       3  0.031907   \n",
       "3              Kaipupu Point       4  0.270855   \n",
       "4  Catlins Conservation Park       5  8.412168   \n",
       "\n",
       "                                          amphibians  \\\n",
       "0                                                NaN   \n",
       "1  [{\"SliceNumber\":3318,\"per_global\":0.0,\"per_aoi...   \n",
       "2  [{\"SliceNumber\":3318,\"per_global\":0.0,\"per_aoi...   \n",
       "3  [{\"SliceNumber\":3318,\"per_global\":0.0,\"per_aoi...   \n",
       "4  [{\"SliceNumber\":3318,\"per_global\":0.0,\"per_aoi...   \n",
       "\n",
       "                                               birds  \\\n",
       "0  [{\"SliceNumber\":482.0,\"per_global\":0.0,\"per_ao...   \n",
       "1  [{\"SliceNumber\":8.0,\"per_global\":0.0,\"per_aoi\"...   \n",
       "2  [{\"SliceNumber\":1847.0,\"per_global\":0.0,\"per_a...   \n",
       "3  [{\"SliceNumber\":8.0,\"per_global\":0.0,\"per_aoi\"...   \n",
       "4  [{\"SliceNumber\":8.0,\"per_global\":0.01,\"per_aoi...   \n",
       "\n",
       "                                             mammals  \\\n",
       "0  [{\"SliceNumber\":303.0,\"per_global\":0.0,\"per_ao...   \n",
       "1  [{\"SliceNumber\":303.0,\"per_global\":0.0,\"per_ao...   \n",
       "2  [{\"SliceNumber\":303.0,\"per_global\":0.0,\"per_ao...   \n",
       "3  [{\"SliceNumber\":303.0,\"per_global\":0.0,\"per_ao...   \n",
       "4                                                NaN   \n",
       "\n",
       "                                            reptiles  \n",
       "0                                                NaN  \n",
       "1  [{\"SliceNumber\":6163,\"per_global\":0.0,\"per_aoi...  \n",
       "2  [{\"SliceNumber\":6499,\"per_global\":0.0,\"per_aoi...  \n",
       "3  [{\"SliceNumber\":6163,\"per_global\":0.0,\"per_aoi...  \n",
       "4  [{\"SliceNumber\":6163,\"per_global\":0.01,\"per_ao...  "
      ]
     },
     "execution_count": 39,
     "metadata": {},
     "output_type": "execute_result"
    }
   ],
   "source": [
    "dff = pd.merge(dff, amphibians, how='left', on = 'MOL_ID')\n",
    "dff = pd.merge(dff, birds, how='left', on = 'MOL_ID')\n",
    "dff = pd.merge(dff, mammals, how='left', on = 'MOL_ID')\n",
    "dff = pd.merge(dff, reptiles, how='left', on = 'MOL_ID')\n",
    "dff.head()"
   ]
  },
  {
   "cell_type": "code",
   "execution_count": 15,
   "id": "45c39786-319c-4151-b397-bdd5954f3cc1",
   "metadata": {},
   "outputs": [
    {
     "data": {
      "text/plain": [
       "'[{\"SliceNumber\":251.0,\"per_global\":0.0,\"per_aoi\":51.74},{\"SliceNumber\":552.0,\"per_global\":0.0,\"per_aoi\":51.74},{\"SliceNumber\":613.0,\"per_global\":0.0,\"per_aoi\":51.74},{\"SliceNumber\":1301.0,\"per_global\":0.0,\"per_aoi\":51.74},{\"SliceNumber\":1310.0,\"per_global\":0.0,\"per_aoi\":51.74},{\"SliceNumber\":1321.0,\"per_global\":0.0,\"per_aoi\":51.74},{\"SliceNumber\":1510.0,\"per_global\":0.0,\"per_aoi\":51.74},{\"SliceNumber\":1511.0,\"per_global\":0.0,\"per_aoi\":51.74},{\"SliceNumber\":1517.0,\"per_global\":0.0,\"per_aoi\":51.74},{\"SliceNumber\":1572.0,\"per_global\":0.0,\"per_aoi\":51.74},{\"SliceNumber\":1933.0,\"per_global\":0.0,\"per_aoi\":51.74},{\"SliceNumber\":2017.0,\"per_global\":0.0,\"per_aoi\":51.74},{\"SliceNumber\":3025.0,\"per_global\":0.0,\"per_aoi\":51.74},{\"SliceNumber\":3027.0,\"per_global\":0.0,\"per_aoi\":51.74},{\"SliceNumber\":3081.0,\"per_global\":0.0,\"per_aoi\":51.74},{\"SliceNumber\":3277.0,\"per_global\":0.0,\"per_aoi\":51.74},{\"SliceNumber\":3422.0,\"per_global\":0.0,\"per_aoi\":51.74},{\"SliceNumber\":3552.0,\"per_global\":0.0,\"per_aoi\":51.74},{\"SliceNumber\":3559.0,\"per_global\":0.0,\"per_aoi\":51.74},{\"SliceNumber\":3797.0,\"per_global\":0.0,\"per_aoi\":51.74},{\"SliceNumber\":3958.0,\"per_global\":0.0,\"per_aoi\":51.74},{\"SliceNumber\":5430.0,\"per_global\":0.0,\"per_aoi\":51.74},{\"SliceNumber\":5977.0,\"per_global\":0.0,\"per_aoi\":51.74},{\"SliceNumber\":6508.0,\"per_global\":0.0,\"per_aoi\":51.74},{\"SliceNumber\":6724.0,\"per_global\":0.0,\"per_aoi\":51.74},{\"SliceNumber\":7433.0,\"per_global\":0.0,\"per_aoi\":51.74},{\"SliceNumber\":7521.0,\"per_global\":0.0,\"per_aoi\":51.74},{\"SliceNumber\":7530.0,\"per_global\":0.0,\"per_aoi\":51.74},{\"SliceNumber\":7657.0,\"per_global\":0.0,\"per_aoi\":51.74},{\"SliceNumber\":8010.0,\"per_global\":0.0,\"per_aoi\":51.74},{\"SliceNumber\":8677.0,\"per_global\":0.0,\"per_aoi\":51.74},{\"SliceNumber\":9156.0,\"per_global\":0.0,\"per_aoi\":51.74},{\"SliceNumber\":9383.0,\"per_global\":0.0,\"per_aoi\":51.74},{\"SliceNumber\":9397.0,\"per_global\":0.0,\"per_aoi\":51.74},{\"SliceNumber\":9792.0,\"per_global\":0.0,\"per_aoi\":51.74}]'"
      ]
     },
     "execution_count": 15,
     "metadata": {},
     "output_type": "execute_result"
    }
   ],
   "source": [
    "dff.loc[dff['MOL_ID']==121,'birds'].values[0]"
   ]
  },
  {
   "cell_type": "markdown",
   "id": "c3c30c22",
   "metadata": {},
   "source": [
    "**Save table**"
   ]
  },
  {
   "cell_type": "code",
   "execution_count": 41,
   "id": "af7ee873",
   "metadata": {},
   "outputs": [],
   "source": [
    "dff.to_csv((f'{path_out}/wdpa_precalculated_biodiversity_only.csv'))"
   ]
  },
  {
   "cell_type": "markdown",
   "id": "d367f8b3-4277-4105-9abf-29aed9b39819",
   "metadata": {},
   "source": [
    "### Get contextual data from old table"
   ]
  },
  {
   "cell_type": "code",
   "execution_count": 42,
   "id": "6c83963b-35bc-4e66-b416-6d996a4de4bd",
   "metadata": {},
   "outputs": [
    {
     "data": {
      "text/html": [
       "<div>\n",
       "<style scoped>\n",
       "    .dataframe tbody tr th:only-of-type {\n",
       "        vertical-align: middle;\n",
       "    }\n",
       "\n",
       "    .dataframe tbody tr th {\n",
       "        vertical-align: top;\n",
       "    }\n",
       "\n",
       "    .dataframe thead th {\n",
       "        text-align: right;\n",
       "    }\n",
       "</style>\n",
       "<table border=\"1\" class=\"dataframe\">\n",
       "  <thead>\n",
       "    <tr style=\"text-align: right;\">\n",
       "      <th></th>\n",
       "      <th>Unnamed: 0</th>\n",
       "      <th>NAME</th>\n",
       "      <th>MOL_ID</th>\n",
       "      <th>AREA_KM</th>\n",
       "      <th>reptiles</th>\n",
       "      <th>amphibians</th>\n",
       "      <th>mammals</th>\n",
       "      <th>birds</th>\n",
       "      <th>population_sum</th>\n",
       "      <th>majority_land_cover_climate_regime</th>\n",
       "      <th>...</th>\n",
       "      <th>percent_irrigated</th>\n",
       "      <th>percent_rainfed</th>\n",
       "      <th>percent_rangeland</th>\n",
       "      <th>percent_urban</th>\n",
       "      <th>WDPAID</th>\n",
       "      <th>DESIG</th>\n",
       "      <th>DESIG_E</th>\n",
       "      <th>DESIG_T</th>\n",
       "      <th>IUCN_CA</th>\n",
       "      <th>ISO3</th>\n",
       "    </tr>\n",
       "  </thead>\n",
       "  <tbody>\n",
       "    <tr>\n",
       "      <th>0</th>\n",
       "      <td>0</td>\n",
       "      <td>Boulder Beach</td>\n",
       "      <td>1</td>\n",
       "      <td>1.136031</td>\n",
       "      <td>[]</td>\n",
       "      <td>[]</td>\n",
       "      <td>[{\"SliceNumber\": 303.0, \"percentage_presence\":...</td>\n",
       "      <td>[{\"SliceNumber\": 482.0, \"percentage_presence\":...</td>\n",
       "      <td>2.110001</td>\n",
       "      <td>107.0</td>\n",
       "      <td>...</td>\n",
       "      <td>NaN</td>\n",
       "      <td>NaN</td>\n",
       "      <td>100.0</td>\n",
       "      <td>NaN</td>\n",
       "      <td>310492.0</td>\n",
       "      <td>Stewardship Area</td>\n",
       "      <td>Stewardship Area</td>\n",
       "      <td>National</td>\n",
       "      <td>III</td>\n",
       "      <td>NZL</td>\n",
       "    </tr>\n",
       "  </tbody>\n",
       "</table>\n",
       "<p>1 rows × 22 columns</p>\n",
       "</div>"
      ],
      "text/plain": [
       "   Unnamed: 0           NAME  MOL_ID   AREA_KM reptiles amphibians  \\\n",
       "0           0  Boulder Beach       1  1.136031       []         []   \n",
       "\n",
       "                                             mammals  \\\n",
       "0  [{\"SliceNumber\": 303.0, \"percentage_presence\":...   \n",
       "\n",
       "                                               birds  population_sum  \\\n",
       "0  [{\"SliceNumber\": 482.0, \"percentage_presence\":...        2.110001   \n",
       "\n",
       "   majority_land_cover_climate_regime  ... percent_irrigated percent_rainfed  \\\n",
       "0                               107.0  ...               NaN             NaN   \n",
       "\n",
       "   percent_rangeland  percent_urban    WDPAID             DESIG  \\\n",
       "0              100.0            NaN  310492.0  Stewardship Area   \n",
       "\n",
       "            DESIG_E   DESIG_T IUCN_CA ISO3  \n",
       "0  Stewardship Area  National     III  NZL  \n",
       "\n",
       "[1 rows x 22 columns]"
      ]
     },
     "execution_count": 42,
     "metadata": {},
     "output_type": "execute_result"
    }
   ],
   "source": [
    "ctx = pd.read_csv(f'{path_in}/all_precalc_wdpa_no_geom.csv')\n",
    "ctx.head(1)"
   ]
  },
  {
   "cell_type": "code",
   "execution_count": 47,
   "id": "2533d62b-f2f5-499e-bf90-12073d2dea46",
   "metadata": {},
   "outputs": [
    {
     "data": {
      "text/plain": [
       "Index(['Unnamed: 0', 'NAME', 'MOL_ID', 'AREA_KM', 'reptiles', 'amphibians',\n",
       "       'mammals', 'birds', 'population_sum',\n",
       "       'majority_land_cover_climate_regime', 'land_cover_majority',\n",
       "       'climate_regime_majority', 'percent_irrigated', 'percent_rainfed',\n",
       "       'percent_rangeland', 'percent_urban', 'WDPAID', 'DESIG', 'DESIG_E',\n",
       "       'DESIG_T', 'IUCN_CA', 'ISO3'],\n",
       "      dtype='object')"
      ]
     },
     "execution_count": 47,
     "metadata": {},
     "output_type": "execute_result"
    }
   ],
   "source": [
    "ctx.columns"
   ]
  },
  {
   "cell_type": "code",
   "execution_count": 59,
   "id": "1f8a1ef6-4c45-4c8c-b26d-d6b4d32fda0c",
   "metadata": {},
   "outputs": [],
   "source": [
    "ctx2 = ctx[['MOL_ID','population_sum','majority_land_cover_climate_regime', 'land_cover_majority','climate_regime_majority',\n",
    "            'percent_irrigated', 'percent_rainfed','percent_rangeland', 'percent_urban',]].copy() "
   ]
  },
  {
   "cell_type": "code",
   "execution_count": 60,
   "id": "830ee680-211e-496e-ae00-f8569b042de8",
   "metadata": {},
   "outputs": [
    {
     "data": {
      "text/html": [
       "<div>\n",
       "<style scoped>\n",
       "    .dataframe tbody tr th:only-of-type {\n",
       "        vertical-align: middle;\n",
       "    }\n",
       "\n",
       "    .dataframe tbody tr th {\n",
       "        vertical-align: top;\n",
       "    }\n",
       "\n",
       "    .dataframe thead th {\n",
       "        text-align: right;\n",
       "    }\n",
       "</style>\n",
       "<table border=\"1\" class=\"dataframe\">\n",
       "  <thead>\n",
       "    <tr style=\"text-align: right;\">\n",
       "      <th></th>\n",
       "      <th>MOL_ID</th>\n",
       "      <th>population_sum</th>\n",
       "      <th>majority_land_cover_climate_regime</th>\n",
       "      <th>land_cover_majority</th>\n",
       "      <th>climate_regime_majority</th>\n",
       "      <th>percent_irrigated</th>\n",
       "      <th>percent_rainfed</th>\n",
       "      <th>percent_rangeland</th>\n",
       "      <th>percent_urban</th>\n",
       "    </tr>\n",
       "  </thead>\n",
       "  <tbody>\n",
       "    <tr>\n",
       "      <th>0</th>\n",
       "      <td>1</td>\n",
       "      <td>2.110001</td>\n",
       "      <td>107.0</td>\n",
       "      <td>Grassland</td>\n",
       "      <td>Cool Temperate Moist</td>\n",
       "      <td>NaN</td>\n",
       "      <td>NaN</td>\n",
       "      <td>100.00</td>\n",
       "      <td>NaN</td>\n",
       "    </tr>\n",
       "    <tr>\n",
       "      <th>1</th>\n",
       "      <td>2</td>\n",
       "      <td>1.315837</td>\n",
       "      <td>176.0</td>\n",
       "      <td>Forest</td>\n",
       "      <td>Warm Temperate Moist</td>\n",
       "      <td>NaN</td>\n",
       "      <td>NaN</td>\n",
       "      <td>NaN</td>\n",
       "      <td>NaN</td>\n",
       "    </tr>\n",
       "    <tr>\n",
       "      <th>2</th>\n",
       "      <td>3</td>\n",
       "      <td>NaN</td>\n",
       "      <td>NaN</td>\n",
       "      <td>NaN</td>\n",
       "      <td>NaN</td>\n",
       "      <td>NaN</td>\n",
       "      <td>NaN</td>\n",
       "      <td>NaN</td>\n",
       "      <td>NaN</td>\n",
       "    </tr>\n",
       "    <tr>\n",
       "      <th>3</th>\n",
       "      <td>4</td>\n",
       "      <td>NaN</td>\n",
       "      <td>NaN</td>\n",
       "      <td>NaN</td>\n",
       "      <td>NaN</td>\n",
       "      <td>NaN</td>\n",
       "      <td>NaN</td>\n",
       "      <td>100.00</td>\n",
       "      <td>NaN</td>\n",
       "    </tr>\n",
       "    <tr>\n",
       "      <th>4</th>\n",
       "      <td>5</td>\n",
       "      <td>3.103363</td>\n",
       "      <td>97.0</td>\n",
       "      <td>Forest</td>\n",
       "      <td>Cool Temperate Moist</td>\n",
       "      <td>NaN</td>\n",
       "      <td>NaN</td>\n",
       "      <td>71.43</td>\n",
       "      <td>NaN</td>\n",
       "    </tr>\n",
       "  </tbody>\n",
       "</table>\n",
       "</div>"
      ],
      "text/plain": [
       "   MOL_ID  population_sum  majority_land_cover_climate_regime  \\\n",
       "0       1        2.110001                               107.0   \n",
       "1       2        1.315837                               176.0   \n",
       "2       3             NaN                                 NaN   \n",
       "3       4             NaN                                 NaN   \n",
       "4       5        3.103363                                97.0   \n",
       "\n",
       "  land_cover_majority climate_regime_majority  percent_irrigated  \\\n",
       "0           Grassland    Cool Temperate Moist                NaN   \n",
       "1              Forest    Warm Temperate Moist                NaN   \n",
       "2                 NaN                     NaN                NaN   \n",
       "3                 NaN                     NaN                NaN   \n",
       "4              Forest    Cool Temperate Moist                NaN   \n",
       "\n",
       "   percent_rainfed  percent_rangeland  percent_urban  \n",
       "0              NaN             100.00            NaN  \n",
       "1              NaN                NaN            NaN  \n",
       "2              NaN                NaN            NaN  \n",
       "3              NaN             100.00            NaN  \n",
       "4              NaN              71.43            NaN  "
      ]
     },
     "execution_count": 60,
     "metadata": {},
     "output_type": "execute_result"
    }
   ],
   "source": [
    "ctx2.head()"
   ]
  },
  {
   "cell_type": "markdown",
   "id": "8186c184-de08-4267-9de3-febf1d7d5b5f",
   "metadata": {},
   "source": [
    "### Merge contextual data to WDPA dataframe"
   ]
  },
  {
   "cell_type": "code",
   "execution_count": 61,
   "id": "4b16d572-60cb-4d57-bb8b-732f1b741ea5",
   "metadata": {},
   "outputs": [
    {
     "data": {
      "text/html": [
       "<div>\n",
       "<style scoped>\n",
       "    .dataframe tbody tr th:only-of-type {\n",
       "        vertical-align: middle;\n",
       "    }\n",
       "\n",
       "    .dataframe tbody tr th {\n",
       "        vertical-align: top;\n",
       "    }\n",
       "\n",
       "    .dataframe thead th {\n",
       "        text-align: right;\n",
       "    }\n",
       "</style>\n",
       "<table border=\"1\" class=\"dataframe\">\n",
       "  <thead>\n",
       "    <tr style=\"text-align: right;\">\n",
       "      <th></th>\n",
       "      <th>NAME</th>\n",
       "      <th>MOL_ID</th>\n",
       "      <th>AREA_KM2</th>\n",
       "      <th>amphibians</th>\n",
       "      <th>birds</th>\n",
       "      <th>mammals</th>\n",
       "      <th>reptiles</th>\n",
       "      <th>population_sum</th>\n",
       "      <th>majority_land_cover_climate_regime</th>\n",
       "      <th>land_cover_majority</th>\n",
       "      <th>climate_regime_majority</th>\n",
       "      <th>percent_irrigated</th>\n",
       "      <th>percent_rainfed</th>\n",
       "      <th>percent_rangeland</th>\n",
       "      <th>percent_urban</th>\n",
       "    </tr>\n",
       "  </thead>\n",
       "  <tbody>\n",
       "    <tr>\n",
       "      <th>0</th>\n",
       "      <td>Boulder Beach</td>\n",
       "      <td>1</td>\n",
       "      <td>1.136031</td>\n",
       "      <td>NaN</td>\n",
       "      <td>[{\"SliceNumber\":482.0,\"per_global\":0.0,\"per_ao...</td>\n",
       "      <td>[{\"SliceNumber\":303.0,\"per_global\":0.0,\"per_ao...</td>\n",
       "      <td>NaN</td>\n",
       "      <td>2.110001</td>\n",
       "      <td>107.0</td>\n",
       "      <td>Grassland</td>\n",
       "      <td>Cool Temperate Moist</td>\n",
       "      <td>NaN</td>\n",
       "      <td>NaN</td>\n",
       "      <td>100.00</td>\n",
       "      <td>NaN</td>\n",
       "    </tr>\n",
       "    <tr>\n",
       "      <th>1</th>\n",
       "      <td>Ferndale</td>\n",
       "      <td>2</td>\n",
       "      <td>0.748492</td>\n",
       "      <td>[{\"SliceNumber\":3318,\"per_global\":0.0,\"per_aoi...</td>\n",
       "      <td>[{\"SliceNumber\":8.0,\"per_global\":0.0,\"per_aoi\"...</td>\n",
       "      <td>[{\"SliceNumber\":303.0,\"per_global\":0.0,\"per_ao...</td>\n",
       "      <td>[{\"SliceNumber\":6163,\"per_global\":0.0,\"per_aoi...</td>\n",
       "      <td>1.315837</td>\n",
       "      <td>176.0</td>\n",
       "      <td>Forest</td>\n",
       "      <td>Warm Temperate Moist</td>\n",
       "      <td>NaN</td>\n",
       "      <td>NaN</td>\n",
       "      <td>NaN</td>\n",
       "      <td>NaN</td>\n",
       "    </tr>\n",
       "    <tr>\n",
       "      <th>2</th>\n",
       "      <td>Broughton Bay</td>\n",
       "      <td>3</td>\n",
       "      <td>0.031907</td>\n",
       "      <td>[{\"SliceNumber\":3318,\"per_global\":0.0,\"per_aoi...</td>\n",
       "      <td>[{\"SliceNumber\":1847.0,\"per_global\":0.0,\"per_a...</td>\n",
       "      <td>[{\"SliceNumber\":303.0,\"per_global\":0.0,\"per_ao...</td>\n",
       "      <td>[{\"SliceNumber\":6499,\"per_global\":0.0,\"per_aoi...</td>\n",
       "      <td>NaN</td>\n",
       "      <td>NaN</td>\n",
       "      <td>NaN</td>\n",
       "      <td>NaN</td>\n",
       "      <td>NaN</td>\n",
       "      <td>NaN</td>\n",
       "      <td>NaN</td>\n",
       "      <td>NaN</td>\n",
       "    </tr>\n",
       "    <tr>\n",
       "      <th>3</th>\n",
       "      <td>Kaipupu Point</td>\n",
       "      <td>4</td>\n",
       "      <td>0.270855</td>\n",
       "      <td>[{\"SliceNumber\":3318,\"per_global\":0.0,\"per_aoi...</td>\n",
       "      <td>[{\"SliceNumber\":8.0,\"per_global\":0.0,\"per_aoi\"...</td>\n",
       "      <td>[{\"SliceNumber\":303.0,\"per_global\":0.0,\"per_ao...</td>\n",
       "      <td>[{\"SliceNumber\":6163,\"per_global\":0.0,\"per_aoi...</td>\n",
       "      <td>NaN</td>\n",
       "      <td>NaN</td>\n",
       "      <td>NaN</td>\n",
       "      <td>NaN</td>\n",
       "      <td>NaN</td>\n",
       "      <td>NaN</td>\n",
       "      <td>100.00</td>\n",
       "      <td>NaN</td>\n",
       "    </tr>\n",
       "    <tr>\n",
       "      <th>4</th>\n",
       "      <td>Catlins Conservation Park</td>\n",
       "      <td>5</td>\n",
       "      <td>8.412168</td>\n",
       "      <td>[{\"SliceNumber\":3318,\"per_global\":0.0,\"per_aoi...</td>\n",
       "      <td>[{\"SliceNumber\":8.0,\"per_global\":0.01,\"per_aoi...</td>\n",
       "      <td>NaN</td>\n",
       "      <td>[{\"SliceNumber\":6163,\"per_global\":0.01,\"per_ao...</td>\n",
       "      <td>3.103363</td>\n",
       "      <td>97.0</td>\n",
       "      <td>Forest</td>\n",
       "      <td>Cool Temperate Moist</td>\n",
       "      <td>NaN</td>\n",
       "      <td>NaN</td>\n",
       "      <td>71.43</td>\n",
       "      <td>NaN</td>\n",
       "    </tr>\n",
       "  </tbody>\n",
       "</table>\n",
       "</div>"
      ],
      "text/plain": [
       "                        NAME  MOL_ID  AREA_KM2  \\\n",
       "0              Boulder Beach       1  1.136031   \n",
       "1                   Ferndale       2  0.748492   \n",
       "2              Broughton Bay       3  0.031907   \n",
       "3              Kaipupu Point       4  0.270855   \n",
       "4  Catlins Conservation Park       5  8.412168   \n",
       "\n",
       "                                          amphibians  \\\n",
       "0                                                NaN   \n",
       "1  [{\"SliceNumber\":3318,\"per_global\":0.0,\"per_aoi...   \n",
       "2  [{\"SliceNumber\":3318,\"per_global\":0.0,\"per_aoi...   \n",
       "3  [{\"SliceNumber\":3318,\"per_global\":0.0,\"per_aoi...   \n",
       "4  [{\"SliceNumber\":3318,\"per_global\":0.0,\"per_aoi...   \n",
       "\n",
       "                                               birds  \\\n",
       "0  [{\"SliceNumber\":482.0,\"per_global\":0.0,\"per_ao...   \n",
       "1  [{\"SliceNumber\":8.0,\"per_global\":0.0,\"per_aoi\"...   \n",
       "2  [{\"SliceNumber\":1847.0,\"per_global\":0.0,\"per_a...   \n",
       "3  [{\"SliceNumber\":8.0,\"per_global\":0.0,\"per_aoi\"...   \n",
       "4  [{\"SliceNumber\":8.0,\"per_global\":0.01,\"per_aoi...   \n",
       "\n",
       "                                             mammals  \\\n",
       "0  [{\"SliceNumber\":303.0,\"per_global\":0.0,\"per_ao...   \n",
       "1  [{\"SliceNumber\":303.0,\"per_global\":0.0,\"per_ao...   \n",
       "2  [{\"SliceNumber\":303.0,\"per_global\":0.0,\"per_ao...   \n",
       "3  [{\"SliceNumber\":303.0,\"per_global\":0.0,\"per_ao...   \n",
       "4                                                NaN   \n",
       "\n",
       "                                            reptiles  population_sum  \\\n",
       "0                                                NaN        2.110001   \n",
       "1  [{\"SliceNumber\":6163,\"per_global\":0.0,\"per_aoi...        1.315837   \n",
       "2  [{\"SliceNumber\":6499,\"per_global\":0.0,\"per_aoi...             NaN   \n",
       "3  [{\"SliceNumber\":6163,\"per_global\":0.0,\"per_aoi...             NaN   \n",
       "4  [{\"SliceNumber\":6163,\"per_global\":0.01,\"per_ao...        3.103363   \n",
       "\n",
       "   majority_land_cover_climate_regime land_cover_majority  \\\n",
       "0                               107.0           Grassland   \n",
       "1                               176.0              Forest   \n",
       "2                                 NaN                 NaN   \n",
       "3                                 NaN                 NaN   \n",
       "4                                97.0              Forest   \n",
       "\n",
       "  climate_regime_majority  percent_irrigated  percent_rainfed  \\\n",
       "0    Cool Temperate Moist                NaN              NaN   \n",
       "1    Warm Temperate Moist                NaN              NaN   \n",
       "2                     NaN                NaN              NaN   \n",
       "3                     NaN                NaN              NaN   \n",
       "4    Cool Temperate Moist                NaN              NaN   \n",
       "\n",
       "   percent_rangeland  percent_urban  \n",
       "0             100.00            NaN  \n",
       "1                NaN            NaN  \n",
       "2                NaN            NaN  \n",
       "3             100.00            NaN  \n",
       "4              71.43            NaN  "
      ]
     },
     "execution_count": 61,
     "metadata": {},
     "output_type": "execute_result"
    }
   ],
   "source": [
    "dff2 = pd.merge(dff, ctx2, how='left', on = 'MOL_ID')\n",
    "dff2.head()"
   ]
  },
  {
   "cell_type": "code",
   "execution_count": 62,
   "id": "7d9af4a7-5541-432d-a168-2a88f8586051",
   "metadata": {},
   "outputs": [],
   "source": [
    "dff2.to_csv((f'{path_out}/wdpa_precalculated_with_contextual.csv'))"
   ]
  }
 ],
 "metadata": {
  "kernelspec": {
   "display_name": "Python 3 (ipykernel)",
   "language": "python",
   "name": "python3"
  },
  "language_info": {
   "codemirror_mode": {
    "name": "ipython",
    "version": 3
   },
   "file_extension": ".py",
   "mimetype": "text/x-python",
   "name": "python",
   "nbconvert_exporter": "python",
   "pygments_lexer": "ipython3",
   "version": "3.8.12"
  }
 },
 "nbformat": 4,
 "nbformat_minor": 5
}
