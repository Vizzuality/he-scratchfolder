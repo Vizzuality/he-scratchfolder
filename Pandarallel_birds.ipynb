{
 "cells": [
  {
   "cell_type": "markdown",
   "id": "2fed10ab-6afb-4e27-9110-6aaee7860187",
   "metadata": {},
   "source": [
    "# Precalculated data for WDPA: biodiversity - only birds"
   ]
  },
  {
   "cell_type": "code",
   "execution_count": 1,
   "id": "c44240d9-5928-45d3-9c3c-78bd63806c25",
   "metadata": {},
   "outputs": [],
   "source": [
    "import pandas as pd\n",
    "import numpy as np\n",
    "import geopandas as gpd\n",
    "import arcgis\n",
    "from arcgis.gis import GIS\n",
    "import json\n",
    "import pandas as pd\n",
    "from arcgis.features import FeatureLayerCollection\n",
    "import requests as re\n",
    "from copy import deepcopy\n",
    "from itertools import repeat\n",
    "import functools"
   ]
  },
  {
   "cell_type": "markdown",
   "id": "02b0bf3a-7b16-4d58-8d44-9477e31cce4e",
   "metadata": {},
   "source": [
    "### Connect to ArcGIS API"
   ]
  },
  {
   "cell_type": "code",
   "execution_count": 2,
   "id": "caa477d4-7bde-4c5c-9771-fdfdf462816d",
   "metadata": {},
   "outputs": [],
   "source": [
    "env_path = \".env\"\n",
    "with open(env_path) as f:\n",
    "   env = {}\n",
    "   for line in f:\n",
    "       env_key, _val = line.split(\"=\")\n",
    "       env_value = _val.split(\"\\n\")[0]\n",
    "       env[env_key] = env_value"
   ]
  },
  {
   "cell_type": "code",
   "execution_count": 3,
   "id": "8cd2d83c-eb3f-4ca4-ad41-7e59ebf8d976",
   "metadata": {},
   "outputs": [],
   "source": [
    "aol_password = env['ARCGIS_GRETA_PASS']\n",
    "aol_username = env['ARCGIS_GRETA_USER']"
   ]
  },
  {
   "cell_type": "code",
   "execution_count": 4,
   "id": "091ee311-4965-4430-93f5-6721ef7f3327",
   "metadata": {},
   "outputs": [
    {
     "name": "stderr",
     "output_type": "stream",
     "text": [
      "Keyring backend being used (keyring.backends.OS_X.Keyring (priority: 5)) either failed to install or is not recommended by the keyring project (i.e. it is not secure). This means you can not use stored passwords through GIS's persistent profiles. Note that extra system-wide steps must be taken on a Linux machine to use the python keyring module securely. Read more about this at the keyring API doc (http://bit.ly/2EWDP7B) and the ArcGIS API for Python doc (http://bit.ly/2CK2wG8).\n"
     ]
    }
   ],
   "source": [
    "gis = GIS(\"https://eowilson.maps.arcgis.com\", aol_username, aol_password, profile = \"eowilson\")"
   ]
  },
  {
   "cell_type": "markdown",
   "id": "96e4d37d-b90e-4f45-9f62-c9526a3846b9",
   "metadata": {},
   "source": [
    "### Read data"
   ]
  },
  {
   "cell_type": "code",
   "execution_count": 5,
   "id": "2ee9fc6a-063e-417f-b12f-6d2b7b88123e",
   "metadata": {},
   "outputs": [],
   "source": [
    "path = '/Users/sofia/Documents/HE_Data/Notebooks'"
   ]
  },
  {
   "cell_type": "code",
   "execution_count": 6,
   "id": "a8450f37-ddfe-4839-89fe-9e832f60d41d",
   "metadata": {
    "tags": []
   },
   "outputs": [],
   "source": [
    "# wdpa table\n",
    "wdpa= gpd.read_file(f'zip://{path}/WDPA_FILTERED_20210615_FILTERED_nomarine_with_oecm_wdpa.zip')\n",
    "wdpa.rename(columns={'AREA_KM':'AREA_KM2'},inplace=True)"
   ]
  },
  {
   "cell_type": "code",
   "execution_count": 7,
   "id": "81d06c4a-5def-4bec-a0cf-517b90abd45f",
   "metadata": {
    "tags": []
   },
   "outputs": [],
   "source": [
    "dff = wdpa[['NAME','MOL_ID','AREA_KM2']].copy() ## remove geometry here because it is the non-simplified table\n",
    "dff['birds']=np.nan\n",
    "\n",
    "paths = {'birds':f'{path}/wdpa_birds_final_20211003.csv'}\n",
    "\n",
    "### Ids of lookup tables for each taxa in ArcGIS online\n",
    "lookups = {'birds':'4d8698734b654bb9bb7a61d9af314c76'}"
   ]
  },
  {
   "cell_type": "markdown",
   "id": "f91b2093-73e3-4012-bf3a-b44120594173",
   "metadata": {},
   "source": [
    "This is just a subset of wdpa to test the analysis"
   ]
  },
  {
   "cell_type": "code",
   "execution_count": 106,
   "id": "8b9c4443-cdea-4ed1-a706-b3403bfd546a",
   "metadata": {},
   "outputs": [],
   "source": [
    "# dff2 = dff[0:8]\n",
    "# dff2.to_csv(f'{path}/WDPA_FILTERED_20210615_FILTERED_nomarine_with_oecm_wdpa_2.csv')"
   ]
  },
  {
   "cell_type": "code",
   "execution_count": 8,
   "id": "96ffed14-19fe-479a-ae50-5bcffd7b4711",
   "metadata": {},
   "outputs": [],
   "source": [
    "# dff = pd.read_csv(f'{path}/WDPA_FILTERED_20210615_FILTERED_nomarine_with_oecm_wdpa_2.csv')"
   ]
  },
  {
   "cell_type": "code",
   "execution_count": 9,
   "id": "86e2f112-a457-4db5-a5b8-3a6823f518bd",
   "metadata": {},
   "outputs": [
    {
     "data": {
      "text/html": [
       "<div>\n",
       "<style scoped>\n",
       "    .dataframe tbody tr th:only-of-type {\n",
       "        vertical-align: middle;\n",
       "    }\n",
       "\n",
       "    .dataframe tbody tr th {\n",
       "        vertical-align: top;\n",
       "    }\n",
       "\n",
       "    .dataframe thead th {\n",
       "        text-align: right;\n",
       "    }\n",
       "</style>\n",
       "<table border=\"1\" class=\"dataframe\">\n",
       "  <thead>\n",
       "    <tr style=\"text-align: right;\">\n",
       "      <th></th>\n",
       "      <th>Unnamed: 0</th>\n",
       "      <th>NAME</th>\n",
       "      <th>MOL_ID</th>\n",
       "      <th>AREA_KM2</th>\n",
       "      <th>birds</th>\n",
       "    </tr>\n",
       "  </thead>\n",
       "  <tbody>\n",
       "    <tr>\n",
       "      <th>0</th>\n",
       "      <td>0</td>\n",
       "      <td>Boulder Beach</td>\n",
       "      <td>1</td>\n",
       "      <td>1.136031</td>\n",
       "      <td>NaN</td>\n",
       "    </tr>\n",
       "    <tr>\n",
       "      <th>1</th>\n",
       "      <td>1</td>\n",
       "      <td>Ferndale</td>\n",
       "      <td>2</td>\n",
       "      <td>0.748492</td>\n",
       "      <td>NaN</td>\n",
       "    </tr>\n",
       "    <tr>\n",
       "      <th>2</th>\n",
       "      <td>2</td>\n",
       "      <td>Broughton Bay</td>\n",
       "      <td>3</td>\n",
       "      <td>0.031907</td>\n",
       "      <td>NaN</td>\n",
       "    </tr>\n",
       "    <tr>\n",
       "      <th>3</th>\n",
       "      <td>3</td>\n",
       "      <td>Kaipupu Point</td>\n",
       "      <td>4</td>\n",
       "      <td>0.270855</td>\n",
       "      <td>NaN</td>\n",
       "    </tr>\n",
       "    <tr>\n",
       "      <th>4</th>\n",
       "      <td>4</td>\n",
       "      <td>Catlins Conservation Park</td>\n",
       "      <td>5</td>\n",
       "      <td>8.412168</td>\n",
       "      <td>NaN</td>\n",
       "    </tr>\n",
       "    <tr>\n",
       "      <th>5</th>\n",
       "      <td>5</td>\n",
       "      <td>Mt Aspiring/Tititea</td>\n",
       "      <td>6</td>\n",
       "      <td>5.670609</td>\n",
       "      <td>NaN</td>\n",
       "    </tr>\n",
       "    <tr>\n",
       "      <th>6</th>\n",
       "      <td>6</td>\n",
       "      <td>Kenepuru Sound</td>\n",
       "      <td>7</td>\n",
       "      <td>0.228171</td>\n",
       "      <td>NaN</td>\n",
       "    </tr>\n",
       "    <tr>\n",
       "      <th>7</th>\n",
       "      <td>7</td>\n",
       "      <td>Four Rivers Plain</td>\n",
       "      <td>8</td>\n",
       "      <td>0.382214</td>\n",
       "      <td>NaN</td>\n",
       "    </tr>\n",
       "  </tbody>\n",
       "</table>\n",
       "</div>"
      ],
      "text/plain": [
       "   Unnamed: 0                       NAME  MOL_ID  AREA_KM2  birds\n",
       "0           0              Boulder Beach       1  1.136031    NaN\n",
       "1           1                   Ferndale       2  0.748492    NaN\n",
       "2           2              Broughton Bay       3  0.031907    NaN\n",
       "3           3              Kaipupu Point       4  0.270855    NaN\n",
       "4           4  Catlins Conservation Park       5  8.412168    NaN\n",
       "5           5        Mt Aspiring/Tititea       6  5.670609    NaN\n",
       "6           6             Kenepuru Sound       7  0.228171    NaN\n",
       "7           7          Four Rivers Plain       8  0.382214    NaN"
      ]
     },
     "execution_count": 9,
     "metadata": {},
     "output_type": "execute_result"
    }
   ],
   "source": [
    "# dff"
   ]
  },
  {
   "cell_type": "markdown",
   "id": "0bc852ed-c8c8-4fe9-8510-31a8ba746d73",
   "metadata": {},
   "source": [
    "### Add pandarallel to distribute work locally\n",
    "Pandarallel works on apply functions. The code needs to be formatted to have apply instead of for loops. This requires creating some extra functions. [Example of how to use](https://towardsdatascience.com/pandaral-lel-a-simple-and-efficient-tool-to-parallelize-your-pandas-operations-on-all-your-cpus-bb5ff2a409ae)"
   ]
  },
  {
   "cell_type": "code",
   "execution_count": 10,
   "id": "1c1ed62f-d407-4579-81eb-22511b280f3c",
   "metadata": {},
   "outputs": [],
   "source": [
    "from pandarallel import pandarallel"
   ]
  },
  {
   "cell_type": "code",
   "execution_count": 11,
   "id": "62a9196f-3ab5-43d4-ba09-f3df1fb7a0e3",
   "metadata": {},
   "outputs": [
    {
     "name": "stdout",
     "output_type": "stream",
     "text": [
      "INFO: Pandarallel will run on 8 workers.\n",
      "INFO: Pandarallel will use standard multiprocessing data transfer (pipe) to transfer data between the main process and workers.\n"
     ]
    }
   ],
   "source": [
    "pandarallel.initialize(progress_bar = True) "
   ]
  },
  {
   "cell_type": "code",
   "execution_count": 12,
   "id": "7f03dd39-978b-4741-a9c5-4a90d753b3f3",
   "metadata": {},
   "outputs": [],
   "source": [
    "def getHTfromId(item_id):\n",
    "    item = gis.content.get(item_id)\n",
    "    flayer = item.tables[0]\n",
    "    sdf = flayer.query().sdf\n",
    "    return sdf"
   ]
  },
  {
   "cell_type": "code",
   "execution_count": 13,
   "id": "24755689-c663-40bc-bb92-229ac3c1c9d7",
   "metadata": {},
   "outputs": [],
   "source": [
    "def create_dict(df,molid,species_j):\n",
    "    sp_dict = {'SliceNumber':int(df[(df['MOL_ID']== int(molid)) & (df.SliceNumber==int(species_j))].SliceNumber.values[0]),\n",
    "                   'per_global':df[(df.MOL_ID==molid) & (df.SliceNumber==species_j)].per_global.values[0],\n",
    "                   'per_aoi':df[(df.MOL_ID== molid) & (df.SliceNumber==species_j)].per_aoi.values[0]\n",
    "                  }\n",
    "    return sp_dict"
   ]
  },
  {
   "cell_type": "code",
   "execution_count": 24,
   "id": "e74bdbf3-4af4-47e2-891a-8b340c794be6",
   "metadata": {},
   "outputs": [],
   "source": [
    "def getSliceNumbers(df,molid):\n",
    "    return list(df[(df.MOL_ID== molid)].SliceNumber.unique())"
   ]
  },
  {
   "cell_type": "code",
   "execution_count": 21,
   "id": "82dd3d01-861b-49e3-b1ff-5196f9a9d7f3",
   "metadata": {},
   "outputs": [],
   "source": [
    "def format_array(df,molid):\n",
    "    uniqueSlices = getSliceNumbers(df,molid)\n",
    "    species = list(map(functools.partial(create_dict,df),repeat(molid),uniqueSlices))\n",
    "    return json.dumps(species)"
   ]
  },
  {
   "cell_type": "code",
   "execution_count": 80,
   "id": "41d867a1-ff05-4dbb-a2f8-39e978be19dc",
   "metadata": {},
   "outputs": [],
   "source": [
    "# def first_last(n, step):\n",
    "#     values = breaks(n)\n",
    "#     return [values[step-1],values[step]]"
   ]
  },
  {
   "cell_type": "code",
   "execution_count": 84,
   "id": "b3bfe945-c12e-4fba-a1d4-3189db32abd4",
   "metadata": {},
   "outputs": [],
   "source": [
    "# def breaks(n):\n",
    "#     step = int(np.floor(len(dff)/n))\n",
    "#     ls = list(np.arange(0,len(dff),step=step))\n",
    "#     ls.append(len(dff))\n",
    "#     return ls"
   ]
  },
  {
   "cell_type": "code",
   "execution_count": 22,
   "id": "e47c4dfe-90ec-4872-a00f-7e2fc963a4b8",
   "metadata": {},
   "outputs": [],
   "source": [
    "def format_df(taxa):\n",
    "    #save_steps= np.arange(1,217486,step=5000)\n",
    "    ### Loop over each set of data and add all results to one dictionary that will be a text field in the Feature Service\n",
    "\n",
    "    df = pd.read_csv(paths[taxa])\n",
    "    col_name = [col for col in df.columns if col in ['amphibians','birds','presence','reptiles']]\n",
    "    df.rename(columns={'SliceNumbe':'SliceNumber',col_name[0]:'SUM'}, inplace=True)\n",
    "\n",
    "    ### Get species area against global species range:\n",
    "    lookup = getHTfromId(lookups[taxa])\n",
    "    df = df.merge(lookup[['SliceNumber','range_area_km2']], how='left',on = 'SliceNumber')\n",
    "    df['per_global'] = round(df['SUM']/df['range_area_km2']*100,2)\n",
    "    df.loc[df['per_global']> 100,'per_global'] = 100 ### make max presence 100%\n",
    "    \n",
    "    ### Get species area against aoi area:\n",
    "    df = df.merge(wdpa[['MOL_ID','AREA_KM2']])\n",
    "    df['per_aoi'] = round(df['SUM']/df['AREA_KM2']*100,2)\n",
    "    df.loc[df['per_aoi']> 100,'per_aoi'] = 100 ### make max presence 100%\n",
    "    \n",
    "    return df"
   ]
  },
  {
   "cell_type": "code",
   "execution_count": 16,
   "id": "9e4d7be3-2f1d-4811-8355-5dcf8b8cdebd",
   "metadata": {},
   "outputs": [],
   "source": [
    "taxa = 'birds'"
   ]
  },
  {
   "cell_type": "code",
   "execution_count": 17,
   "id": "ba2ec8b1-5e03-45fa-b8f4-855fd2ab8724",
   "metadata": {},
   "outputs": [
    {
     "data": {
      "text/html": [
       "<div>\n",
       "<style scoped>\n",
       "    .dataframe tbody tr th:only-of-type {\n",
       "        vertical-align: middle;\n",
       "    }\n",
       "\n",
       "    .dataframe tbody tr th {\n",
       "        vertical-align: top;\n",
       "    }\n",
       "\n",
       "    .dataframe thead th {\n",
       "        text-align: right;\n",
       "    }\n",
       "</style>\n",
       "<table border=\"1\" class=\"dataframe\">\n",
       "  <thead>\n",
       "    <tr style=\"text-align: right;\">\n",
       "      <th></th>\n",
       "      <th>OID_</th>\n",
       "      <th>MOL_ID</th>\n",
       "      <th>X</th>\n",
       "      <th>Y</th>\n",
       "      <th>SUM</th>\n",
       "      <th>SliceNumber</th>\n",
       "      <th>Dimensions</th>\n",
       "      <th>range_area_km2</th>\n",
       "      <th>per_global</th>\n",
       "      <th>AREA_KM2</th>\n",
       "      <th>per_aoi</th>\n",
       "    </tr>\n",
       "  </thead>\n",
       "  <tbody>\n",
       "    <tr>\n",
       "      <th>0</th>\n",
       "      <td>1</td>\n",
       "      <td>121</td>\n",
       "      <td>169.34608</td>\n",
       "      <td>-44.652219</td>\n",
       "      <td>1.0</td>\n",
       "      <td>251.0</td>\n",
       "      <td>SliceNumber</td>\n",
       "      <td>12099814</td>\n",
       "      <td>0.0</td>\n",
       "      <td>1.93288</td>\n",
       "      <td>51.74</td>\n",
       "    </tr>\n",
       "    <tr>\n",
       "      <th>1</th>\n",
       "      <td>2</td>\n",
       "      <td>121</td>\n",
       "      <td>169.34608</td>\n",
       "      <td>-44.652219</td>\n",
       "      <td>1.0</td>\n",
       "      <td>552.0</td>\n",
       "      <td>SliceNumber</td>\n",
       "      <td>133338</td>\n",
       "      <td>0.0</td>\n",
       "      <td>1.93288</td>\n",
       "      <td>51.74</td>\n",
       "    </tr>\n",
       "    <tr>\n",
       "      <th>2</th>\n",
       "      <td>3</td>\n",
       "      <td>121</td>\n",
       "      <td>169.34608</td>\n",
       "      <td>-44.652219</td>\n",
       "      <td>1.0</td>\n",
       "      <td>613.0</td>\n",
       "      <td>SliceNumber</td>\n",
       "      <td>35092</td>\n",
       "      <td>0.0</td>\n",
       "      <td>1.93288</td>\n",
       "      <td>51.74</td>\n",
       "    </tr>\n",
       "    <tr>\n",
       "      <th>3</th>\n",
       "      <td>4</td>\n",
       "      <td>121</td>\n",
       "      <td>169.34608</td>\n",
       "      <td>-44.652219</td>\n",
       "      <td>1.0</td>\n",
       "      <td>1301.0</td>\n",
       "      <td>SliceNumber</td>\n",
       "      <td>2608341</td>\n",
       "      <td>0.0</td>\n",
       "      <td>1.93288</td>\n",
       "      <td>51.74</td>\n",
       "    </tr>\n",
       "    <tr>\n",
       "      <th>4</th>\n",
       "      <td>5</td>\n",
       "      <td>121</td>\n",
       "      <td>169.34608</td>\n",
       "      <td>-44.652219</td>\n",
       "      <td>1.0</td>\n",
       "      <td>1310.0</td>\n",
       "      <td>SliceNumber</td>\n",
       "      <td>9470693</td>\n",
       "      <td>0.0</td>\n",
       "      <td>1.93288</td>\n",
       "      <td>51.74</td>\n",
       "    </tr>\n",
       "  </tbody>\n",
       "</table>\n",
       "</div>"
      ],
      "text/plain": [
       "   OID_  MOL_ID          X          Y  SUM  SliceNumber   Dimensions  \\\n",
       "0     1     121  169.34608 -44.652219  1.0        251.0  SliceNumber   \n",
       "1     2     121  169.34608 -44.652219  1.0        552.0  SliceNumber   \n",
       "2     3     121  169.34608 -44.652219  1.0        613.0  SliceNumber   \n",
       "3     4     121  169.34608 -44.652219  1.0       1301.0  SliceNumber   \n",
       "4     5     121  169.34608 -44.652219  1.0       1310.0  SliceNumber   \n",
       "\n",
       "   range_area_km2  per_global  AREA_KM2  per_aoi  \n",
       "0        12099814         0.0   1.93288    51.74  \n",
       "1          133338         0.0   1.93288    51.74  \n",
       "2           35092         0.0   1.93288    51.74  \n",
       "3         2608341         0.0   1.93288    51.74  \n",
       "4         9470693         0.0   1.93288    51.74  "
      ]
     },
     "execution_count": 17,
     "metadata": {},
     "output_type": "execute_result"
    }
   ],
   "source": [
    "# Add required columns to df\n",
    "df = format_df(taxa)\n",
    "df.head()"
   ]
  },
  {
   "cell_type": "markdown",
   "id": "6f12f9d5-08e7-46f0-81c5-b8be245ce457",
   "metadata": {},
   "source": [
    "### Run parallelization and save result when finished"
   ]
  },
  {
   "cell_type": "code",
   "execution_count": 30,
   "id": "4f2d57f2-4c57-4f63-ab65-4a41f2478b4c",
   "metadata": {
    "tags": []
   },
   "outputs": [
    {
     "name": "stdout",
     "output_type": "stream",
     "text": [
      "321456\n",
      "\n",
      "\n",
      "7\n",
      "8\n",
      "\n",
      "\n",
      "\n"
     ]
    },
    {
     "data": {
      "application/vnd.jupyter.widget-view+json": {
       "model_id": "a3f08741aec540cfb9ade3260856bac9",
       "version_major": 2,
       "version_minor": 0
      },
      "text/plain": [
       "VBox(children=(HBox(children=(IntProgress(value=0, description='0.00%', max=1), Label(value='0 / 1'))), HBox(c…"
      ]
     },
     "metadata": {},
     "output_type": "display_data"
    },
    {
     "name": "stdout",
     "output_type": "stream",
     "text": [
      "CPU times: user 248 ms, sys: 267 ms, total: 515 ms\n",
      "Wall time: 1min 54s\n"
     ]
    }
   ],
   "source": [
    "%%time\n",
    "dff[taxa] = dff.parallel_apply(lambda x: print(x['MOL_ID']) or format_array(df,x['MOL_ID']),axis=1)\n",
    "dff.to_csv((f'{path}/wdpa_precalc_biodiv_range_{taxa}.csv'))"
   ]
  },
  {
   "cell_type": "markdown",
   "id": "e3ab44bd-ad15-4959-94f9-e822c97382af",
   "metadata": {},
   "source": [
    "### This is something Tamara has that I would need to check after the parallelization is done"
   ]
  },
  {
   "cell_type": "code",
   "execution_count": null,
   "id": "932cab9b-2227-4e52-852c-7257d92dac5b",
   "metadata": {},
   "outputs": [],
   "source": [
    "### There are some WDPAs that are missing MOLID (???)"
   ]
  },
  {
   "cell_type": "code",
   "execution_count": 141,
   "id": "821a24e0-4868-4058-9637-83577f6f2582",
   "metadata": {},
   "outputs": [],
   "source": [
    "# taxa= 'mammals'\n",
    "# step= 4"
   ]
  },
  {
   "cell_type": "code",
   "execution_count": 179,
   "id": "972f4d54-b229-4727-bea9-95b203db38a9",
   "metadata": {},
   "outputs": [],
   "source": [
    "# missing_index = [186892, 207130, 217482, 217483, 217484, 217485]"
   ]
  },
  {
   "cell_type": "code",
   "execution_count": 186,
   "id": "75e4e1ba-1c5d-4a47-a2b4-25e254712380",
   "metadata": {},
   "outputs": [],
   "source": [
    "# missing_molid= list(dff.loc[dff.index.isin(missing_index),'MOL_ID'])"
   ]
  },
  {
   "cell_type": "code",
   "execution_count": 189,
   "id": "9343c2af-695a-456f-b812-ab5708618dc1",
   "metadata": {},
   "outputs": [
    {
     "name": "stderr",
     "output_type": "stream",
     "text": [
      "/Users/tamarahuete/opt/anaconda3/lib/python3.7/site-packages/pandas/core/indexing.py:966: SettingWithCopyWarning: \n",
      "A value is trying to be set on a copy of a slice from a DataFrame.\n",
      "Try using .loc[row_indexer,col_indexer] = value instead\n",
      "\n",
      "See the caveats in the documentation: https://pandas.pydata.org/pandas-docs/stable/user_guide/indexing.html#returning-a-view-versus-a-copy\n",
      "  self.obj[item] = s\n"
     ]
    },
    {
     "name": "stdout",
     "output_type": "stream",
     "text": [
      "finished MOL_ID =186893\n",
      "finished MOL_ID =207131\n",
      "finished MOL_ID =217483\n",
      "finished MOL_ID =217484\n",
      "finished MOL_ID =217485\n",
      "finished MOL_ID =217486\n"
     ]
    }
   ],
   "source": [
    "# df = pd.read_csv(paths[taxa])\n",
    "# col_name = [col for col in df.columns if col in ['amphibians','birds','presence','reptiles']]\n",
    "# df.rename(columns={'SliceNumbe':'SliceNumber',col_name[0]:'SUM'}, inplace=True)\n",
    "\n",
    "# ### Get species area against global species range:\n",
    "# lookup = getHTfromId(lookups[taxa])\n",
    "# df = df.merge(lookup[['SliceNumber','range_area_km2']], how='left',on = 'SliceNumber')\n",
    "# df['per_global'] = round(df['SUM']/df['range_area_km2']*100,2)\n",
    "# df.loc[df['per_global']> 100,'per_global'] = 100 ### make max presence 100%\n",
    "\n",
    "# ### Get species area against aoi area:\n",
    "# df = df.merge(gadm[['MOL_ID','AREA_KM2']])\n",
    "# df['per_aoi'] = round(df['SUM']/df['AREA_KM2']*100,2)\n",
    "# df.loc[df['per_aoi']> 100,'per_aoi'] = 100 ### make max presence 100%\n",
    "\n",
    "# for i in missing_molid: \n",
    "#     species = []\n",
    "#     for j in df[(df.MOL_ID== i)].SliceNumber.unique():\n",
    "#         sp_dict = {'SliceNumber':int(df[(df.MOL_ID== i) & (df.SliceNumber==j)].SliceNumber.values[0]),\n",
    "#                    'per_global':df[(df.MOL_ID== i) & (df.SliceNumber==j)].per_global.values[0],\n",
    "#                    'per_aoi':df[(df.MOL_ID== i) & (df.SliceNumber==j)].per_aoi.values[0]\n",
    "#                   }\n",
    "#         species.append(sp_dict)\n",
    "#     dff.loc[dff['MOL_ID']==i,taxa] =json.dumps(species)\n",
    "#     print(f'finished MOL_ID ={i}')"
   ]
  },
  {
   "cell_type": "code",
   "execution_count": 164,
   "id": "00b4133d-fd73-4621-8e1f-d806548df221",
   "metadata": {},
   "outputs": [
    {
     "name": "stderr",
     "output_type": "stream",
     "text": [
      "/Users/tamarahuete/opt/anaconda3/lib/python3.7/site-packages/ipykernel_launcher.py:1: SettingWithCopyWarning: \n",
      "A value is trying to be set on a copy of a slice from a DataFrame\n",
      "\n",
      "See the caveats in the documentation: https://pandas.pydata.org/pandas-docs/stable/user_guide/indexing.html#returning-a-view-versus-a-copy\n",
      "  \"\"\"Entry point for launching an IPython kernel.\n"
     ]
    }
   ],
   "source": [
    "# output.dropna(subset=['MOL_ID'],inplace=True)"
   ]
  },
  {
   "cell_type": "code",
   "execution_count": 192,
   "id": "152ae0a0-ce44-4321-a0e3-29c3aca46424",
   "metadata": {},
   "outputs": [],
   "source": [
    "# output.append(dff[dff['MOL_ID'].isin(missing_molid)]).to_csv(f'../../HALF_EARTH/wdpa_precalc_biodiv_range_{taxa}_{step}.csv',index=False)"
   ]
  }
 ],
 "metadata": {
  "kernelspec": {
   "display_name": "Python 3 (ipykernel)",
   "language": "python",
   "name": "python3"
  },
  "language_info": {
   "codemirror_mode": {
    "name": "ipython",
    "version": 3
   },
   "file_extension": ".py",
   "mimetype": "text/x-python",
   "name": "python",
   "nbconvert_exporter": "python",
   "pygments_lexer": "ipython3",
   "version": "3.8.12"
  }
 },
 "nbformat": 4,
 "nbformat_minor": 5
}
