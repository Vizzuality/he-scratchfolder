{
 "cells": [
  {
   "attachments": {},
   "cell_type": "markdown",
   "metadata": {},
   "source": [
    "# Add new metadata into Contentful with corresponding translations in French, Portuguese, and Spanish\n",
    "**NOTE:** Run with Python 3.9 or higher"
   ]
  },
  {
   "attachments": {},
   "cell_type": "markdown",
   "metadata": {},
   "source": [
    "## Setup"
   ]
  },
  {
   "cell_type": "code",
   "execution_count": 1,
   "metadata": {},
   "outputs": [],
   "source": [
    "# Import libraries\n",
    "import openai\n",
    "import contentful\n",
    "import contentful_management\n",
    "import requests\n",
    "import uuid\n"
   ]
  },
  {
   "cell_type": "code",
   "execution_count": 2,
   "metadata": {},
   "outputs": [],
   "source": [
    "# Get the API keys\n",
    "env_path = \".env\"\n",
    "with open(env_path) as f:\n",
    "   env = {}\n",
    "   for line in f:\n",
    "       env_key, _val = line.split(\"=\")\n",
    "       env_value = _val.split(\"\\n\")[0]\n",
    "       env[env_key] = env_value\n",
    "\n",
    "openai.api_key = env['OPENAI_API_KEY']\n",
    "cnt_space = env['contentful_space'] # Space in contentful\n",
    "cnt_token = env['contentful_token'] # This token is only for read-only purposes, it doesn't allow management\n",
    "cnt_management = env['contentful_personal_token'] # This is the token needed for management purposes"
   ]
  },
  {
   "cell_type": "code",
   "execution_count": 3,
   "metadata": {},
   "outputs": [],
   "source": [
    "# Query the OpenAI Completion API\n",
    "\n",
    "def get_completion(prompt, model=\"gpt-3.5-turbo\", temperature=0): \n",
    "    messages = [{\"role\": \"user\", \"content\": prompt}]\n",
    "    response = openai.ChatCompletion.create(\n",
    "        model=model,\n",
    "        messages=messages,\n",
    "        temperature=temperature, \n",
    "    )\n",
    "    return response.choices[0].message[\"content\"]"
   ]
  },
  {
   "cell_type": "code",
   "execution_count": 4,
   "metadata": {},
   "outputs": [],
   "source": [
    "# Connect to Contentful\n",
    "client = contentful_management.Client(cnt_management) # This allows managing\n",
    "client2 = contentful.Client(cnt_space, cnt_token) # this only allows queries"
   ]
  },
  {
   "attachments": {},
   "cell_type": "markdown",
   "metadata": {},
   "source": [
    "## Add new metadata (in English) into contenful"
   ]
  },
  {
   "cell_type": "code",
   "execution_count": 6,
   "metadata": {},
   "outputs": [
    {
     "data": {
      "text/plain": [
       "<Entry[metadataProd] id='1f9943b7-6c80-4b04-b63e-90184f8d0a26'>"
      ]
     },
     "execution_count": 6,
     "metadata": {},
     "output_type": "execute_result"
    }
   ],
   "source": [
    "# Add new entry to contentful (the description must be kept in a single line to be correctly published in contentful)\n",
    "entry_attributes = {\n",
    "    'content_type_id': 'metadataProd',\n",
    "    'fields': {\n",
    "        'layerSlug': {\n",
    "            'en-US': 'test'\n",
    "        },\n",
    "        'description': {\n",
    "            'en-US': 'Shows areas where there is high anthropogenic pressure, which are areas that have been highly modified or transformed from their natural state. The land use practices that typically result in these human pressures are urban areas, high-intensity agriculture, transportation, energy and extractive resources and human intrusion. Human pressures must be considered when establishing protected areas as some species are less tolerant to human disturbance. '\n",
    "        },\n",
    "        'source':{\n",
    "            'en-US': 'Vizzuality'\n",
    "        },\n",
    "        'molLogo':{\n",
    "            'en-US': 'FALSE',\n",
    "        },\n",
    "        'hasAdditionalContent':{\n",
    "            'en-US': 'FALSE',\n",
    "        },\n",
    "        'title':{\n",
    "            'en-US': 'Test to check how the metadata is translated'\n",
    "        },\n",
    "        'language':{\n",
    "            'en-US': 'en'\n",
    "        }\n",
    "        \n",
    "    }\n",
    "}\n",
    "\n",
    "random_id = str(uuid.uuid4())\n",
    "new_entry = client.entries(cnt_space, 'master').create(\n",
    "    random_id,\n",
    "    entry_attributes\n",
    ")\n",
    "new_entry.publish()"
   ]
  },
  {
   "attachments": {},
   "cell_type": "markdown",
   "metadata": {},
   "source": [
    "## Translate description and title to FR, PT, ES"
   ]
  },
  {
   "cell_type": "code",
   "execution_count": 7,
   "metadata": {},
   "outputs": [
    {
     "name": "stdout",
     "output_type": "stream",
     "text": [
      "Shows areas where there is high anthropogenic pressure, which are areas that have been highly modified or transformed from their natural state. The land use practices that typically result in these human pressures are urban areas, high-intensity agriculture, transportation, energy and extractive resources and human intrusion. Human pressures must be considered when establishing protected areas as some species are less tolerant to human disturbance. \n",
      "Test to check how the metadata is translated\n"
     ]
    }
   ],
   "source": [
    "# Get the information from the entry that needs to be translated\n",
    "description_en = entry_attributes['fields']['description']['en-US']\n",
    "title_en = entry_attributes['fields']['title']['en-US']\n",
    "print(description_en)\n",
    "print(title_en)"
   ]
  },
  {
   "cell_type": "code",
   "execution_count": 19,
   "metadata": {},
   "outputs": [
    {
     "name": "stdout",
     "output_type": "stream",
     "text": [
      "Muestra áreas donde hay alta presión antropogénica, que son áreas que han sido altamente modificadas o transformadas de su estado natural. Las prácticas de uso de la tierra que típicamente resultan en estas presiones humanas son áreas urbanas, agricultura de alta intensidad, transporte, energía y recursos extractivos e intrusión humana. Las presiones humanas deben ser consideradas al establecer áreas protegidas ya que algunas especies son menos tolerantes a la perturbación humana.\n",
      "Prueba para verificar cómo se traducen los metadatos\n"
     ]
    }
   ],
   "source": [
    "# Ask the AI to translate the text\n",
    "prompt = \"Translate the following English text to French, Brazilian Portuguese and Spanish making it sound natural: {text}\"\n",
    "texts = [description_en, title_en]\n",
    "languages = ['fr', 'pt', 'es']\n",
    "responses = {}\n",
    "\n",
    "for text in texts:\n",
    "    response = get_completion(prompt.format(text=text))\n",
    "    # Divide the response into the three languages\n",
    "    translations = [translation for translation in response.split(\"\\n\") if translation.strip() != '']\n",
    "    for i, lang in enumerate(languages):\n",
    "        translated_text = translations[i].split(': ', 1)[1]\n",
    "        # Use separate keys for descriptions and titles\n",
    "        if text == description_en:\n",
    "            responses[f'description_{lang}'] = translated_text\n",
    "        elif text == title_en:\n",
    "            responses[f'title_{lang}'] = translated_text\n",
    "\n",
    "# Assign the translated values to variables\n",
    "description_fr = responses['description_fr']\n",
    "description_pt = responses['description_pt']\n",
    "description_es = responses['description_es']\n",
    "title_fr = responses['title_fr']\n",
    "title_pt = responses['title_pt']\n",
    "title_es = responses['title_es']\n",
    "print(description_es)\n",
    "print(title_es)"
   ]
  },
  {
   "attachments": {},
   "cell_type": "markdown",
   "metadata": {},
   "source": [
    "**Because the translation is literal from the English string, we are going to rephase it to make it sound more natural**"
   ]
  },
  {
   "cell_type": "code",
   "execution_count": 21,
   "metadata": {},
   "outputs": [
    {
     "name": "stdout",
     "output_type": "stream",
     "text": [
      "Este mapa muestra las áreas con alta presión antropogénica, es decir, aquellas que han sido fuertemente modificadas o transformadas de su estado natural. Las prácticas de uso de la tierra que suelen generar estas presiones humanas son la urbanización, la agricultura intensiva, el transporte, la extracción de recursos y la intrusión humana. Al establecer áreas protegidas, es importante tener en cuenta estas presiones humanas, ya que algunas especies son menos tolerantes a la perturbación causada por la actividad humana.\n",
      "Montrez les zones où la pression anthropique est forte, ce qui signifie qu'elles ont été considérablement modifiées ou transformées par l'homme. Les pratiques d'utilisation des terres qui entraînent généralement ces pressions humaines sont les zones urbaines, l'agriculture intensive, les transports, l'énergie et les ressources extractives, ainsi que l'intrusion humaine. Il est important de prendre en compte ces pressions humaines lors de l'établissement de zones protégées, car certaines espèces sont moins tolérantes aux perturbations causées par l'homme.\n",
      "Esta seção mostra áreas com alta pressão antropogênica, ou seja, áreas que foram altamente modificadas ou transformadas de seu estado natural. As práticas de uso da terra que geralmente resultam nessas pressões humanas incluem áreas urbanas, agricultura intensiva, transporte, energia e recursos extrativos, bem como a intrusão humana. Ao estabelecer áreas protegidas, é importante considerar as pressões humanas, pois algumas espécies são menos tolerantes à perturbação humana.\n",
      "Prueba para comprobar la traducción de los metadatos.\n",
      "Test pour vérifier la traduction des métadonnées.\n",
      "Teste para verificar a tradução dos metadados.\n"
     ]
    }
   ],
   "source": [
    "# Ask the AI to rephrase the translations to make them sound more natural\n",
    "translations = [description_es, description_fr, description_pt, title_es, title_fr, title_pt]\n",
    "for i, t in enumerate(translations):\n",
    "    prompt = f\"\"\"Proofread and rephrase the text in its original language to make it sound more natural.\n",
    "    ```{t}```\"\"\"\n",
    "    response = get_completion(prompt)\n",
    "    rephrased_text = response.strip().replace('\"', '')\n",
    "    if i == 0:\n",
    "        description_es = rephrased_text\n",
    "    elif i == 1:\n",
    "        description_fr = rephrased_text\n",
    "    elif i == 2:\n",
    "        description_pt = rephrased_text\n",
    "    elif i == 3:\n",
    "        title_es = rephrased_text\n",
    "    elif i == 4:\n",
    "        title_fr = rephrased_text\n",
    "    elif i == 5:\n",
    "        title_pt = rephrased_text\n",
    "\n",
    "# Updated variables with rephrased strings\n",
    "print(description_es)\n",
    "print(description_fr)\n",
    "print(description_pt)\n",
    "print(title_es)\n",
    "print(title_fr)\n",
    "print(title_pt)\n"
   ]
  },
  {
   "cell_type": "code",
   "execution_count": 22,
   "metadata": {},
   "outputs": [
    {
     "name": "stdout",
     "output_type": "stream",
     "text": [
      "Montrez les zones où la pression anthropique est forte, ce qui signifie qu'elles ont été considérablement modifiées ou transformées par l'homme. Les pratiques d'utilisation des terres qui entraînent généralement ces pressions humaines sont les zones urbaines, l'agriculture intensive, les transports, l'énergie et les ressources extractives, ainsi que l'intrusion humaine. Il est important de prendre en compte ces pressions humaines lors de l'établissement de zones protégées, car certaines espèces sont moins tolérantes aux perturbations causées par l'homme.\n",
      "Esta seção mostra áreas com alta pressão antropogênica, ou seja, áreas que foram altamente modificadas ou transformadas de seu estado natural. As práticas de uso da terra que geralmente resultam nessas pressões humanas incluem áreas urbanas, agricultura intensiva, transporte, energia e recursos extrativos, bem como a intrusão humana. Ao estabelecer áreas protegidas, é importante considerar as pressões humanas, pois algumas espécies são menos tolerantes à perturbação humana.\n",
      "Este mapa muestra las áreas con alta presión antropogénica, es decir, aquellas que han sido fuertemente modificadas o transformadas de su estado natural. Las prácticas de uso de la tierra que suelen generar estas presiones humanas son la urbanización, la agricultura intensiva, el transporte, la extracción de recursos y la intrusión humana. Al establecer áreas protegidas, es importante tener en cuenta estas presiones humanas, ya que algunas especies son menos tolerantes a la perturbación causada por la actividad humana.\n"
     ]
    }
   ],
   "source": [
    "print(description_fr)\n",
    "print(description_pt)\n",
    "print(description_es)"
   ]
  },
  {
   "attachments": {},
   "cell_type": "markdown",
   "metadata": {},
   "source": [
    "## Publish the translations as new entries in contentful\n"
   ]
  },
  {
   "cell_type": "code",
   "execution_count": 18,
   "metadata": {},
   "outputs": [],
   "source": [
    "### Publish the new entries in the different languages\n",
    "\n",
    "# Define the languages to iterate over\n",
    "languages = ['es', 'pt', 'fr']\n",
    "\n",
    "# Repeat the code block for each language\n",
    "for language in languages:\n",
    "    # Create new entry attributes for the specific language\n",
    "    entry_attributes = {\n",
    "        'content_type_id': 'metadataProd',\n",
    "        'fields': {\n",
    "            'layerSlug': {\n",
    "                'en-US': entry_attributes['fields']['layerSlug']['en-US'].split('_', 1)[0] + f\"_{language}\"\n",
    "            },\n",
    "            'description': {\n",
    "                'en-US': globals()[f'description_{language}']\n",
    "            },\n",
    "            'source': {\n",
    "                'en-US': entry_attributes['fields']['source']['en-US']\n",
    "            },\n",
    "            'molLogo': {\n",
    "                'en-US': entry_attributes['fields']['molLogo']['en-US']\n",
    "            },\n",
    "            'hasAdditionalContent': {\n",
    "                'en-US': entry_attributes['fields']['hasAdditionalContent']['en-US']\n",
    "            },\n",
    "            'title': {\n",
    "                'en-US': globals()[f'title_{language}']\n",
    "            },\n",
    "            'language': {\n",
    "                'en-US': language\n",
    "            }\n",
    "        }\n",
    "    }\n",
    "\n",
    "    # Extract the desired format from the existing entry's ID\n",
    "    existing_id_parts = random_id.split('-')\n",
    "    existing_id_format = existing_id_parts[0]\n",
    "\n",
    "    # Generate a new entry ID using the desired format and the current language\n",
    "    new_entry_id = f'{existing_id_format}_{language}'\n",
    "\n",
    "    # Create the new entry with the custom ID and attributes\n",
    "    new_entry = client.entries(cnt_space, 'master').create(\n",
    "        new_entry_id,\n",
    "        entry_attributes\n",
    "    )\n",
    "    new_entry.publish() # with this command the entries are published, otherwise they are added just as drafts in content type"
   ]
  },
  {
   "attachments": {},
   "cell_type": "markdown",
   "metadata": {},
   "source": [
    "---\n",
    "### Get the information from the last published entry in contentful\n",
    "\n",
    "**NOTE:** If you have not published the new entry (metadata in English) using the notebook but directly in Contentful, you can run the following code to retrieve the id of the last entry in contentful\n"
   ]
  },
  {
   "attachments": {},
   "cell_type": "markdown",
   "metadata": {},
   "source": [
    "**Get the id from the last entry published in contentful**"
   ]
  },
  {
   "cell_type": "code",
   "execution_count": null,
   "metadata": {},
   "outputs": [],
   "source": [
    "# # Set up the Contentful API endpoint and credentials\n",
    "# api_url = 'https://cdn.contentful.com'\n",
    "# space_id = cnt_space\n",
    "# access_token = cnt_token\n",
    "\n",
    "# # Specify the content type ID of the entries you want to query\n",
    "# content_type_id = 'metadataProd'\n",
    "\n",
    "# # Build the request URL to fetch the entries\n",
    "# url = f'{api_url}/spaces/{space_id}/entries?access_token={access_token}&content_type={content_type_id}&order=-sys.createdAt&limit=1'\n",
    "\n",
    "# # Send the GET request to retrieve the entries\n",
    "# response = requests.get(url)\n",
    "\n",
    "# # Check if the request was successful (status code 200)\n",
    "# if response.status_code == 200:\n",
    "#     # Access the entry data from the response\n",
    "#     entry_data = response.json()\n",
    "\n",
    "#     # Check if any entries were returned\n",
    "#     if 'items' in entry_data and len(entry_data['items']) > 0:\n",
    "#         # Retrieve the ID of the last published entry\n",
    "#         last_entry_id = entry_data['items'][0]['sys']['id']\n",
    "#     else:\n",
    "#         print('No published entries found.')\n",
    "\n",
    "# else:\n",
    "#     # Display an error message if the request failed\n",
    "#     print(f'Request failed with status code {response.status_code}')"
   ]
  },
  {
   "attachments": {},
   "cell_type": "markdown",
   "metadata": {},
   "source": [
    "---\n",
    "**Get the description and title of the last entry in metadataProd content type**"
   ]
  },
  {
   "cell_type": "code",
   "execution_count": 10,
   "metadata": {},
   "outputs": [
    {
     "name": "stdout",
     "output_type": "stream",
     "text": [
      "Shows areas where there is high anthropogenic pressure, which are areas that have been highly modified or transformed from their natural state. The land use practices that typically result in these human pressures are urban areas, high-intensity agriculture, transportation, energy and extractive resources and human intrusion. Human pressures must be considered when establishing protected areas as some species are less tolerant to human disturbance. \n",
      "Test to check how the metadata is translated\n"
     ]
    }
   ],
   "source": [
    "# # Set up the Contentful API endpoint and credentials\n",
    "# api_url = 'https://cdn.contentful.com'\n",
    "# space_id = cnt_space\n",
    "# access_token = cnt_token\n",
    "\n",
    "# # Specify the content type ID of the entries you want to query\n",
    "# content_type_id = 'metadataProd'\n",
    "\n",
    "# # Specify the entry ID you want to retrieve\n",
    "# entry_id = random_id # last_entry_id\n",
    "\n",
    "# # Build the request URL\n",
    "# url = f'{api_url}/spaces/{space_id}/entries/{entry_id}?access_token={access_token}'\n",
    "\n",
    "# # Send the GET request to retrieve the entry\n",
    "# response = requests.get(url)\n",
    "\n",
    "# # Check if the request was successful (status code 200)\n",
    "# if response.status_code == 200:\n",
    "#     # Access the entry data from the response\n",
    "#     entry_data = response.json()\n",
    "\n",
    "#     # Access the 'description' field of the entry\n",
    "#     description_en = entry_data['fields']['description']\n",
    "#     title_en = entry_data['fields']['title']\n",
    "\n",
    "#     # Print the description\n",
    "#     print(description_en)\n",
    "#     print(title_en)\n",
    "\n",
    "# else:\n",
    "#     # Display an error message if the request failed\n",
    "#     print(f'Request failed with status code {response.status_code}')"
   ]
  }
 ],
 "metadata": {
  "kernelspec": {
   "display_name": "Python 3.8.12 ('vizz38')",
   "language": "python",
   "name": "python3"
  },
  "language_info": {
   "codemirror_mode": {
    "name": "ipython",
    "version": 3
   },
   "file_extension": ".py",
   "mimetype": "text/x-python",
   "name": "python",
   "nbconvert_exporter": "python",
   "pygments_lexer": "ipython3",
   "version": "3.9.7"
  },
  "orig_nbformat": 4,
  "vscode": {
   "interpreter": {
    "hash": "4829cc13d368d943a62b17104ac97c1ea81b455d93d0d0d9a78d8f68633ebeb3"
   }
  }
 },
 "nbformat": 4,
 "nbformat_minor": 2
}
