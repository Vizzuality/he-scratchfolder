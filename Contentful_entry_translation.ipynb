{
 "cells": [
  {
   "attachments": {},
   "cell_type": "markdown",
   "metadata": {},
   "source": [
    "# Add new metadata into Contentful with corresponding translations in French, Portuguese, and Spanish\n",
    "**NOTE:** Run with Python 3.9 or higher"
   ]
  },
  {
   "attachments": {},
   "cell_type": "markdown",
   "metadata": {},
   "source": [
    "## Setup"
   ]
  },
  {
   "cell_type": "code",
   "execution_count": 1,
   "metadata": {},
   "outputs": [],
   "source": [
    "# Import libraries\n",
    "import openai\n",
    "import contentful\n",
    "import contentful_management\n",
    "import requests\n",
    "import uuid\n",
    "import pandas as pd\n"
   ]
  },
  {
   "cell_type": "code",
   "execution_count": 2,
   "metadata": {},
   "outputs": [],
   "source": [
    "# Get the API keys\n",
    "env_path = \".env\"\n",
    "with open(env_path) as f:\n",
    "   env = {}\n",
    "   for line in f:\n",
    "       env_key, _val = line.split(\"=\")\n",
    "       env_value = _val.split(\"\\n\")[0]\n",
    "       env[env_key] = env_value\n",
    "\n",
    "openai.api_key = env['OPENAI_API_KEY']\n",
    "cnt_space = env['contentful_space'] # Space in contentful\n",
    "cnt_token = env['contentful_token'] # This token is only for read-only purposes, it doesn't allow management\n",
    "cnt_management = env['contentful_personal_token'] # This is the token needed for management purposes"
   ]
  },
  {
   "cell_type": "code",
   "execution_count": 3,
   "metadata": {},
   "outputs": [],
   "source": [
    "# Query the OpenAI Completion API\n",
    "def get_completion(prompt, model=\"gpt-3.5-turbo\", temperature=0): \n",
    "    messages = [{\"role\": \"user\", \"content\": prompt}]\n",
    "    response = openai.ChatCompletion.create(\n",
    "        model=model,\n",
    "        messages=messages,\n",
    "        temperature=temperature, \n",
    "    )\n",
    "    return response.choices[0].message[\"content\"]"
   ]
  },
  {
   "cell_type": "code",
   "execution_count": 4,
   "metadata": {},
   "outputs": [],
   "source": [
    "# Connect to Contentful\n",
    "client = contentful_management.Client(cnt_management) # This allows managing\n",
    "client2 = contentful.Client(cnt_space, cnt_token) # this only allows queries"
   ]
  },
  {
   "attachments": {},
   "cell_type": "markdown",
   "metadata": {},
   "source": [
    "## Add new metadata (in English) into Contenful"
   ]
  },
  {
   "cell_type": "code",
   "execution_count": 5,
   "metadata": {},
   "outputs": [
    {
     "data": {
      "text/plain": [
       "<Entry[metadataProd] id='f2337cd9-aca9-4a2d-bf4c-38aace38bc89'>"
      ]
     },
     "execution_count": 5,
     "metadata": {},
     "output_type": "execute_result"
    }
   ],
   "source": [
    "# Add new entry to contentful (the description must be kept in a single line to be correctly published in contentful)\n",
    "entry_attributes = {\n",
    "    'content_type_id': 'metadataProd',\n",
    "    'fields': {\n",
    "        'layerSlug': {\n",
    "            'en-US': 'carbon-layer-marine'\n",
    "        },\n",
    "        'description': {\n",
    "            'en-US': 'Marine sediment carbon stocks represent the amount of carbon stored in the top 1 meter of sediment. It has been estimated that marine sediment can hold up to two times more carbon than terrestrial soils. Data are displayed at a 1 km resolution.'\n",
    "        },\n",
    "        'source':{\n",
    "            'en-US': '[Atwood et al., 2020](https://www.frontiersin.org/articles/10.3389/fmars.2020.00165/full)'\n",
    "        },\n",
    "        'molLogo':{\n",
    "            'en-US': 'FALSE',\n",
    "        },\n",
    "        'hasAdditionalContent':{\n",
    "            'en-US': 'FALSE',\n",
    "        },\n",
    "        'title':{\n",
    "            'en-US': 'Marine sediment carbon'\n",
    "        },\n",
    "        'language':{\n",
    "            'en-US': 'en'\n",
    "        }\n",
    "        \n",
    "    }\n",
    "}\n",
    "\n",
    "random_id = str(uuid.uuid4())\n",
    "new_entry = client.entries(cnt_space, 'master').create(\n",
    "    random_id,\n",
    "    entry_attributes\n",
    ")\n",
    "new_entry.publish()"
   ]
  },
  {
   "attachments": {},
   "cell_type": "markdown",
   "metadata": {},
   "source": [
    "## Translate description and title to FR, PT, ES"
   ]
  },
  {
   "cell_type": "code",
   "execution_count": 6,
   "metadata": {},
   "outputs": [
    {
     "name": "stdout",
     "output_type": "stream",
     "text": [
      "Marine sediment carbon stocks represent the amount of carbon stored in the top 1 meter of sediment. It has been estimated that marine sediment can hold up to two times more carbon than terrestrial soils. Data are displayed at a 1 km resolution.\n",
      "Marine sediment carbon\n"
     ]
    }
   ],
   "source": [
    "# Get the information from the entry that needs to be translated\n",
    "description_en = entry_attributes['fields']['description']['en-US']\n",
    "title_en = entry_attributes['fields']['title']['en-US']\n",
    "print(description_en)\n",
    "print(title_en)"
   ]
  },
  {
   "cell_type": "code",
   "execution_count": 7,
   "metadata": {},
   "outputs": [
    {
     "name": "stdout",
     "output_type": "stream",
     "text": [
      "Las reservas de carbono en los sedimentos marinos representan la cantidad de carbono almacenado en el primer metro de sedimento. Se estima que los sedimentos marinos pueden retener hasta dos veces más carbono que los suelos terrestres. Los datos se muestran con una resolución de 1 km.\n",
      "Carbono de sedimentos marinos\n"
     ]
    }
   ],
   "source": [
    "# Ask the AI to translate the text\n",
    "prompt = \"Translate the following English text to French, Brazilian Portuguese and Spanish making it sound natural: {text}\"\n",
    "texts = [description_en, title_en]\n",
    "languages = ['fr', 'pt', 'es']\n",
    "responses = {}\n",
    "\n",
    "for text in texts:\n",
    "    response = get_completion(prompt.format(text=text))\n",
    "    # Divide the response into the three languages\n",
    "    translations = [translation for translation in response.split(\"\\n\") if translation.strip() != '']\n",
    "    for i, lang in enumerate(languages):\n",
    "        translated_text = translations[i].split(': ', 1)[1]\n",
    "        # Use separate keys for descriptions and titles\n",
    "        if text == description_en:\n",
    "            responses[f'description_{lang}'] = translated_text\n",
    "        elif text == title_en:\n",
    "            responses[f'title_{lang}'] = translated_text\n",
    "\n",
    "# Assign the translated values to variables\n",
    "description_fr = responses['description_fr']\n",
    "description_pt = responses['description_pt']\n",
    "description_es = responses['description_es']\n",
    "title_fr = responses['title_fr']\n",
    "title_pt = responses['title_pt']\n",
    "title_es = responses['title_es']\n",
    "print(description_es)\n",
    "print(title_es)"
   ]
  },
  {
   "attachments": {},
   "cell_type": "markdown",
   "metadata": {},
   "source": [
    "**Because the translation is literal from the English string, we are going to rephase it to make it sound more natural**"
   ]
  },
  {
   "cell_type": "code",
   "execution_count": 8,
   "metadata": {},
   "outputs": [
    {
     "name": "stdout",
     "output_type": "stream",
     "text": [
      "Las reservas de carbono en los sedimentos marinos se refieren a la cantidad de carbono almacenada en el primer metro de sedimento. Se estima que los sedimentos marinos pueden retener hasta el doble de carbono que los suelos terrestres. Los datos se presentan con una resolución de 1 km.\n",
      "Les stocks de carbone des sédiments marins correspondent à la quantité de carbone stockée dans la couche supérieure d'un mètre de sédiment. On estime que les sédiments marins peuvent contenir jusqu'à deux fois plus de carbone que les sols terrestres. Les données sont présentées avec une résolution de 1 km.\n",
      "Os estoques de carbono nos sedimentos marinhos representam a quantidade de carbono armazenada nos primeiros 1 metro de sedimento. Estima-se que os sedimentos marinhos possam conter até o dobro de carbono em comparação com os solos terrestres. Os dados são exibidos com uma resolução de 1 km.\n",
      "Carbono de los sedimentos marinos\n",
      "Carbone dans les sédiments marins\n",
      "Carbono proveniente de sedimentos marinhos.\n"
     ]
    }
   ],
   "source": [
    "# Ask the AI to rephrase the translations to make them sound more natural\n",
    "translations = [description_es, description_fr, description_pt, title_es, title_fr, title_pt]\n",
    "for i, t in enumerate(translations):\n",
    "    prompt = f\"\"\"Proofread and rephrase the text in its original language \n",
    "                to make it sound more natural.```{t}```\"\"\"\n",
    "    response = get_completion(prompt)\n",
    "    rephrased_text = response.strip().replace('\"', '')\n",
    "    if i == 0:\n",
    "        description_es = rephrased_text\n",
    "    elif i == 1:\n",
    "        description_fr = rephrased_text\n",
    "    elif i == 2:\n",
    "        description_pt = rephrased_text\n",
    "    elif i == 3:\n",
    "        title_es = rephrased_text\n",
    "    elif i == 4:\n",
    "        title_fr = rephrased_text\n",
    "    elif i == 5:\n",
    "        title_pt = rephrased_text\n",
    "\n",
    "# Updated variables with rephrased strings\n",
    "print(description_es)\n",
    "print(description_fr)\n",
    "print(description_pt)\n",
    "print(title_es)\n",
    "print(title_fr)\n",
    "print(title_pt)\n"
   ]
  },
  {
   "attachments": {},
   "cell_type": "markdown",
   "metadata": {},
   "source": [
    "## Publish the translations as new entries in contentful\n"
   ]
  },
  {
   "cell_type": "code",
   "execution_count": 9,
   "metadata": {},
   "outputs": [],
   "source": [
    "### Publish the new entries in the different languages\n",
    "\n",
    "# Define the languages to iterate over\n",
    "languages = ['es', 'pt', 'fr']\n",
    "\n",
    "# Repeat the code block for each language\n",
    "for language in languages:\n",
    "    # Create new entry attributes for the specific language\n",
    "    entry_attributes = {\n",
    "        'content_type_id': 'metadataProd',\n",
    "        'fields': {\n",
    "            'layerSlug': {\n",
    "                'en-US': entry_attributes['fields']['layerSlug']['en-US'].split('_', 1)[0] + f\"_{language}\"\n",
    "            },\n",
    "            'description': {\n",
    "                'en-US': globals()[f'description_{language}']\n",
    "            },\n",
    "            'source': {\n",
    "                'en-US': entry_attributes['fields']['source']['en-US']\n",
    "            },\n",
    "            'molLogo': {\n",
    "                'en-US': entry_attributes['fields']['molLogo']['en-US']\n",
    "            },\n",
    "            'hasAdditionalContent': {\n",
    "                'en-US': entry_attributes['fields']['hasAdditionalContent']['en-US']\n",
    "            },\n",
    "            'title': {\n",
    "                'en-US': globals()[f'title_{language}']\n",
    "            },\n",
    "            'language': {\n",
    "                'en-US': language\n",
    "            }\n",
    "        }\n",
    "    }\n",
    "\n",
    "    # Extract the desired format from the existing entry's ID\n",
    "    existing_id_parts = random_id.split('-')\n",
    "    existing_id_format = existing_id_parts[0]\n",
    "\n",
    "    # Generate a new entry ID using the desired format and the current language\n",
    "    new_entry_id = f'{existing_id_format}_{language}'\n",
    "\n",
    "    # Create the new entry with the custom ID and attributes\n",
    "    new_entry = client.entries(cnt_space, 'master').create(\n",
    "        new_entry_id,\n",
    "        entry_attributes\n",
    "    )\n",
    "    new_entry.publish() # with this command the entries are published, otherwise they are added just as drafts in content type"
   ]
  },
  {
   "attachments": {},
   "cell_type": "markdown",
   "metadata": {},
   "source": [
    "---\n",
    "### Get the information from the last published entry in contentful\n",
    "\n",
    "**NOTE:** If you have not published the new entry (metadata in English) using the notebook but directly in Contentful, you can run the following code to retrieve the id of the last entry in contentful\n"
   ]
  },
  {
   "attachments": {},
   "cell_type": "markdown",
   "metadata": {},
   "source": [
    "**Get the id from the last entry published in contentful**"
   ]
  },
  {
   "cell_type": "code",
   "execution_count": null,
   "metadata": {},
   "outputs": [],
   "source": [
    "# # Set up the Contentful API endpoint and credentials\n",
    "# api_url = 'https://cdn.contentful.com'\n",
    "# space_id = cnt_space\n",
    "# access_token = cnt_token\n",
    "\n",
    "# # Specify the content type ID of the entries you want to query\n",
    "# content_type_id = 'metadataProd'\n",
    "\n",
    "# # Build the request URL to fetch the entries\n",
    "# url = f'{api_url}/spaces/{space_id}/entries?access_token={access_token}&content_type={content_type_id}&order=-sys.createdAt&limit=1'\n",
    "\n",
    "# # Send the GET request to retrieve the entries\n",
    "# response = requests.get(url)\n",
    "\n",
    "# # Check if the request was successful (status code 200)\n",
    "# if response.status_code == 200:\n",
    "#     # Access the entry data from the response\n",
    "#     entry_data = response.json()\n",
    "\n",
    "#     # Check if any entries were returned\n",
    "#     if 'items' in entry_data and len(entry_data['items']) > 0:\n",
    "#         # Retrieve the ID of the last published entry\n",
    "#         last_entry_id = entry_data['items'][0]['sys']['id']\n",
    "#     else:\n",
    "#         print('No published entries found.')\n",
    "\n",
    "# else:\n",
    "#     # Display an error message if the request failed\n",
    "#     print(f'Request failed with status code {response.status_code}')"
   ]
  },
  {
   "attachments": {},
   "cell_type": "markdown",
   "metadata": {},
   "source": [
    "---\n",
    "**Get the description and title of the last entry in metadataProd content type**"
   ]
  },
  {
   "cell_type": "code",
   "execution_count": 10,
   "metadata": {},
   "outputs": [
    {
     "name": "stdout",
     "output_type": "stream",
     "text": [
      "Shows areas where there is high anthropogenic pressure, which are areas that have been highly modified or transformed from their natural state. The land use practices that typically result in these human pressures are urban areas, high-intensity agriculture, transportation, energy and extractive resources and human intrusion. Human pressures must be considered when establishing protected areas as some species are less tolerant to human disturbance. \n",
      "Test to check how the metadata is translated\n"
     ]
    }
   ],
   "source": [
    "# # Set up the Contentful API endpoint and credentials\n",
    "# api_url = 'https://cdn.contentful.com'\n",
    "# space_id = cnt_space\n",
    "# access_token = cnt_token\n",
    "\n",
    "# # Specify the content type ID of the entries you want to query\n",
    "# content_type_id = 'metadataProd'\n",
    "\n",
    "# # Specify the entry ID you want to retrieve\n",
    "# entry_id = random_id # last_entry_id\n",
    "\n",
    "# # Build the request URL\n",
    "# url = f'{api_url}/spaces/{space_id}/entries/{entry_id}?access_token={access_token}'\n",
    "\n",
    "# # Send the GET request to retrieve the entry\n",
    "# response = requests.get(url)\n",
    "\n",
    "# # Check if the request was successful (status code 200)\n",
    "# if response.status_code == 200:\n",
    "#     # Access the entry data from the response\n",
    "#     entry_data = response.json()\n",
    "\n",
    "#     # Access the 'description' field of the entry\n",
    "#     description_en = entry_data['fields']['description']\n",
    "#     title_en = entry_data['fields']['title']\n",
    "\n",
    "#     # Print the description\n",
    "#     print(description_en)\n",
    "#     print(title_en)\n",
    "\n",
    "# else:\n",
    "#     # Display an error message if the request failed\n",
    "#     print(f'Request failed with status code {response.status_code}')"
   ]
  },
  {
   "cell_type": "markdown",
   "metadata": {},
   "source": [
    "------\n",
    "## Translate metadata for entries that were updated in English. \n",
    "\n",
    "For this it's necessary to know the layerslug of the entries that were updated. Unfortunately, so far it's not possible to automatically update the translated entries but the following code provides the translations"
   ]
  },
  {
   "cell_type": "code",
   "execution_count": 5,
   "metadata": {},
   "outputs": [
    {
     "data": {
      "text/html": [
       "<div>\n",
       "<style scoped>\n",
       "    .dataframe tbody tr th:only-of-type {\n",
       "        vertical-align: middle;\n",
       "    }\n",
       "\n",
       "    .dataframe tbody tr th {\n",
       "        vertical-align: top;\n",
       "    }\n",
       "\n",
       "    .dataframe thead th {\n",
       "        text-align: right;\n",
       "    }\n",
       "</style>\n",
       "<table border=\"1\" class=\"dataframe\">\n",
       "  <thead>\n",
       "    <tr style=\"text-align: right;\">\n",
       "      <th></th>\n",
       "      <th>LayerSlug</th>\n",
       "      <th>Description</th>\n",
       "    </tr>\n",
       "  </thead>\n",
       "  <tbody>\n",
       "    <tr>\n",
       "      <th>0</th>\n",
       "      <td>energy_human_pressures</td>\n",
       "      <td>Energy and extractive resources pressure repre...</td>\n",
       "    </tr>\n",
       "    <tr>\n",
       "      <th>1</th>\n",
       "      <td>transportation_human_pressures</td>\n",
       "      <td>Transportation pressure represents the degree ...</td>\n",
       "    </tr>\n",
       "    <tr>\n",
       "      <th>2</th>\n",
       "      <td>agriculture_human_pressures</td>\n",
       "      <td>Agriculture pressure represents the degree of ...</td>\n",
       "    </tr>\n",
       "    <tr>\n",
       "      <th>3</th>\n",
       "      <td>urban_human_pressures</td>\n",
       "      <td>This layer shows areas where the land is used ...</td>\n",
       "    </tr>\n",
       "    <tr>\n",
       "      <th>4</th>\n",
       "      <td>intrusion_human_pressures</td>\n",
       "      <td>Human intrusion pressure represents the degree...</td>\n",
       "    </tr>\n",
       "    <tr>\n",
       "      <th>5</th>\n",
       "      <td>marine_and_land_human_pressures</td>\n",
       "      <td>This layer shows areas where there is high ant...</td>\n",
       "    </tr>\n",
       "    <tr>\n",
       "      <th>6</th>\n",
       "      <td>marine_ocean_drivers_human_pressures</td>\n",
       "      <td>Taking into account thirteen different types o...</td>\n",
       "    </tr>\n",
       "    <tr>\n",
       "      <th>7</th>\n",
       "      <td>commercial_fishing_human_pressures</td>\n",
       "      <td>Taking into account thirteen different types o...</td>\n",
       "    </tr>\n",
       "    <tr>\n",
       "      <th>8</th>\n",
       "      <td>artisanal_fishing_human_pressures</td>\n",
       "      <td>Taking into account thirteen different types o...</td>\n",
       "    </tr>\n",
       "    <tr>\n",
       "      <th>9</th>\n",
       "      <td>carbon-layer-land</td>\n",
       "      <td>Irrecoverable carbon refers to the vast natura...</td>\n",
       "    </tr>\n",
       "  </tbody>\n",
       "</table>\n",
       "</div>"
      ],
      "text/plain": [
       "                              LayerSlug  \\\n",
       "0                energy_human_pressures   \n",
       "1        transportation_human_pressures   \n",
       "2           agriculture_human_pressures   \n",
       "3                 urban_human_pressures   \n",
       "4             intrusion_human_pressures   \n",
       "5       marine_and_land_human_pressures   \n",
       "6  marine_ocean_drivers_human_pressures   \n",
       "7    commercial_fishing_human_pressures   \n",
       "8     artisanal_fishing_human_pressures   \n",
       "9                     carbon-layer-land   \n",
       "\n",
       "                                         Description  \n",
       "0  Energy and extractive resources pressure repre...  \n",
       "1  Transportation pressure represents the degree ...  \n",
       "2  Agriculture pressure represents the degree of ...  \n",
       "3  This layer shows areas where the land is used ...  \n",
       "4  Human intrusion pressure represents the degree...  \n",
       "5  This layer shows areas where there is high ant...  \n",
       "6  Taking into account thirteen different types o...  \n",
       "7  Taking into account thirteen different types o...  \n",
       "8  Taking into account thirteen different types o...  \n",
       "9  Irrecoverable carbon refers to the vast natura...  "
      ]
     },
     "execution_count": 5,
     "metadata": {},
     "output_type": "execute_result"
    }
   ],
   "source": [
    "# Specify the content type ID of the entries you want to query\n",
    "content_type_id = 'metadataProd'\n",
    "\n",
    "# Specify the field and value you want to search for\n",
    "field_name = 'fields.layerSlug'\n",
    "field_value = 'energy_human_pressures'\n",
    "\n",
    "# List of layerSlugs you want to query\n",
    "layerSlugs = [\n",
    "    'energy_human_pressures',\n",
    "    'transportation_human_pressures',\n",
    "    'agriculture_human_pressures',\n",
    "    'urban_human_pressures',\n",
    "    'intrusion_human_pressures',\n",
    "    'marine_and_land_human_pressures',\n",
    "    'marine_ocean_drivers_human_pressures',\n",
    "    'commercial_fishing_human_pressures',\n",
    "    'artisanal_fishing_human_pressures',\n",
    "    'carbon-layer-land'\n",
    "]\n",
    "\n",
    "# List to store dictionaries containing description and layerSlug for each entry\n",
    "data_list = []\n",
    "\n",
    "# Query the entries for each layerSlug\n",
    "for layerSlug in layerSlugs:\n",
    "    # Query the entries with the specified layerSlug value\n",
    "    entries = client2.entries({'content_type': content_type_id, 'fields.layerSlug': layerSlug})\n",
    "\n",
    "    # Check if any entries were returned for the current layerSlug\n",
    "    if entries.total > 0:\n",
    "        # Access the description field of the first matching entry\n",
    "        first_matching_entry = entries.items[0]\n",
    "\n",
    "        # Retrieve the \"description\" field value for the current layerSlug\n",
    "        description = first_matching_entry.description\n",
    "\n",
    "        if description:\n",
    "            data_list.append({'LayerSlug': layerSlug, 'Description': description})\n",
    "        else:\n",
    "            data_list.append({'LayerSlug': layerSlug, 'Description': 'No \"description\" field found for this layerSlug.'})\n",
    "    else:\n",
    "        data_list.append({'LayerSlug': layerSlug, 'Description': 'No matching entries found for this layerSlug.'})\n",
    "\n",
    "# Create a pandas DataFrame from the list of dictionaries\n",
    "df = pd.DataFrame(data_list)\n",
    "\n",
    "# Print the DataFrame\n",
    "df\n"
   ]
  },
  {
   "cell_type": "code",
   "execution_count": 6,
   "metadata": {},
   "outputs": [
    {
     "name": "stdout",
     "output_type": "stream",
     "text": [
      "Energy and extractive resources pressure represent the degree of human modification due to extractive energy production (oil and gas), power plants, mining, and quarrying. Data are shown at a 1 km resolution.\n",
      "La pression exercée par l'énergie et les ressources extractives représente le degré de modification humaine due à la production d'énergie extractive (pétrole et gaz), aux centrales électriques, à l'exploitation minière et à l'extraction de carrières. Les données sont présentées à une résolution de 1 km.\n",
      "La pression exercée par l'énergie et les ressources extractives mesure le niveau de modification humaine causée par la production d'énergie (pétrole et gaz), les centrales électriques, l'exploitation minière et l'extraction de carrières. Les données sont présentées avec une résolution de 1 km.\n",
      "A pressão das energias e recursos extrativos representa o grau de modificação humana devido à produção de energia extrativa (petróleo e gás), usinas de energia, mineração e extração de pedreiras. Os dados são mostrados com uma resolução de 1 km.\n",
      "A pressão exercida pelas atividades de extração de energia e recursos naturais reflete o nível de alteração causado pela produção de petróleo e gás, usinas de energia, mineração e extração de pedreiras. Os dados são apresentados com uma resolução de 1 km.\n",
      "La presión de los recursos energéticos y extractivos representa el grado de modificación humana debido a la producción de energía extractiva (petróleo y gas), plantas de energía, minería y extracción de canteras. Los datos se muestran a una resolución de 1 km.\n",
      "La presión sobre los recursos energéticos y extractivos se refiere al nivel de alteración causado por la producción de energía a través de la extracción de petróleo y gas, la construcción de plantas de energía, la minería y la extracción de canteras. Los datos se presentan con una resolución de 1 km.\n",
      "Transportation pressure represents the degree of human modification caused by power lines, infrastructure, roads, and railways. Data are displayed at 1 km resolution.\n",
      "La pression des transports représente le degré de modification humaine causée par les lignes électriques, les infrastructures, les routes et les voies ferrées. Les données sont affichées à une résolution de 1 km.\n",
      "La pression des transports mesure le niveau de perturbation humaine causée par les lignes électriques, les infrastructures, les routes et les voies ferrées. Les données sont présentées avec une résolution de 1 km.\n",
      "A pressão de transporte representa o grau de modificação humana causada por linhas de energia, infraestrutura, estradas e ferrovias. Os dados são exibidos com uma resolução de 1 km.\n",
      "A pressão de transporte é uma medida do impacto humano nas áreas afetadas por linhas de energia, infraestrutura, estradas e ferrovias. Os dados são apresentados com uma resolução de 1 km.\n",
      "La presión del transporte representa el grado de modificación humana causada por líneas eléctricas, infraestructura, carreteras y ferrocarriles. Los datos se muestran a una resolución de 1 km.\n",
      "La presión del transporte se refiere al nivel de alteración causado por la actividad humana en las líneas eléctricas, infraestructura, carreteras y ferrocarriles. Los datos se presentan con una resolución de 1 km.\n",
      "Agriculture pressure represents the degree of human modification of areas that are used for cropland, pasture, grazing, and wood harvesting. Data are displayed at 1 km resolution.\n",
      "La pression agricole représente le degré de modification humaine des zones utilisées pour les terres cultivées, les pâturages, le pacage et l'exploitation forestière. Les données sont affichées à une résolution de 1 km.\n",
      "La pression agricole mesure le niveau de transformation effectuée par l'homme sur les zones utilisées pour l'agriculture, l'élevage, le pâturage et l'exploitation forestière. Les données sont présentées avec une résolution de 1 km.\n",
      "A pressão agrícola representa o grau de modificação humana de áreas utilizadas para cultivo, pastagem, criação de gado e exploração de madeira. Os dados são exibidos com uma resolução de 1 km.\n",
      "A pressão agrícola é uma medida do impacto humano nas áreas utilizadas para agricultura, pastagem, criação de gado e exploração de madeira. Os dados são apresentados com uma resolução de 1 km.\n",
      "La presión agrícola representa el grado de modificación humana de áreas utilizadas para cultivos, pastizales, pastoreo y explotación forestal. Los datos se muestran a una resolución de 1 km.\n",
      "La presión agrícola se refiere al nivel de alteración humana en áreas destinadas a cultivos, pastizales, pastoreo y explotación forestal. Los datos se presentan con una resolución de 1 km.\n",
      "This layer shows areas where the land is used by urban activities. The degree of human modification is represented by color, with blue indicating a low amount of human pressure and red indicating areas of high human pressure. Human pressures must be considered when establishing protected areas as some species are less tolerant to human disturbance. We used anthromes (i.e., human biomes) classified as urban and mixed settlements (1) to extract Global Human Modification values (2). Data are displayed at 1 km resolution.\n",
      "Cette couche montre les zones où le territoire est utilisé par des activités urbaines. Le degré de modification humaine est représenté par des couleurs, le bleu indiquant une faible pression humaine et le rouge indiquant des zones de forte pression humaine. Les pressions humaines doivent être prises en compte lors de l'établissement de zones protégées car certaines espèces sont moins tolérantes aux perturbations humaines. Nous avons utilisé les anthromes (c'est-à-dire les biomes humains) classifiés comme des établissements urbains et mixtes (1) pour extraire les valeurs de modification humaine mondiale (2). Les données sont affichées à une résolution de 1 km.\n",
      "Cette carte montre les zones où le territoire est utilisé pour des activités urbaines. Les couleurs représentent le degré de modification humaine, avec le bleu indiquant une faible pression humaine et le rouge indiquant des zones de forte pression humaine. Il est important de prendre en compte ces pressions humaines lors de la création de zones protégées, car certaines espèces sont moins tolérantes aux perturbations causées par l'homme. Nous avons utilisé les anthromes (c'est-à-dire les biomes humains) classifiés comme établissements urbains et mixtes (1) pour obtenir les données sur la modification humaine à l'échelle mondiale (2). Les données sont affichées avec une résolution de 1 km.\n",
      "Esta camada mostra áreas onde a terra é utilizada por atividades urbanas. O grau de modificação humana é representado por cores, sendo o azul indicativo de uma baixa pressão humana e o vermelho indicativo de áreas com alta pressão humana. As pressões humanas devem ser consideradas ao estabelecer áreas protegidas, pois algumas espécies são menos tolerantes à perturbação humana. Utilizamos antromas (ou seja, biomas humanos) classificados como assentamentos urbanos e mistos (1) para extrair os valores de Modificação Humana Global (2). Os dados são exibidos com resolução de 1 km.\n",
      "Esta camada mostra as áreas onde a terra é utilizada para atividades urbanas. A intensidade da modificação humana é representada por cores, sendo o azul indicativo de uma baixa pressão humana e o vermelho indicativo de áreas com alta pressão humana. Ao estabelecer áreas protegidas, é importante considerar as pressões humanas, pois algumas espécies são menos tolerantes à interferência humana. Utilizamos os antromas (ou seja, biomas humanos) classificados como assentamentos urbanos e mistos (1) para obter os valores de Modificação Humana Global (2). Os dados são exibidos com uma resolução de 1 km.\n",
      "Esta capa muestra áreas donde la tierra es utilizada por actividades urbanas. El grado de modificación humana se representa por color, siendo el azul indicativo de una baja presión humana y el rojo indicativo de áreas con alta presión humana. Las presiones humanas deben ser consideradas al establecer áreas protegidas, ya que algunas especies son menos tolerantes a la perturbación humana. Utilizamos antromas (es decir, biomas humanos) clasificados como asentamientos urbanos y mixtos (1) para extraer los valores de Modificación Humana Global (2). Los datos se muestran a una resolución de 1 km.\n",
      "Esta capa muestra las áreas donde la tierra es utilizada para actividades urbanas. El nivel de modificación humana se representa mediante colores, siendo el azul indicativo de una baja presión humana y el rojo indicativo de áreas con alta presión humana. Al establecer áreas protegidas, es importante considerar las presiones humanas, ya que algunas especies son menos tolerantes a la perturbación causada por los seres humanos. Utilizamos los antromas (es decir, biomas humanos) clasificados como asentamientos urbanos y mixtos (1) para obtener los valores de Modificación Humana Global (2). Los datos se presentan con una resolución de 1 km.\n",
      "Human intrusion pressure represents the degree of human modification in areas along roads and rails, as well as off-road areas that are accessible to humans by walking off-trail or via boats on freshwater or along the ocean shoreline. Data are available at 1 km resolution.\n",
      "La pression de l'intrusion humaine représente le degré de modification humaine dans les zones le long des routes et des voies ferrées, ainsi que dans les zones hors-piste accessibles aux humains en marchant en dehors des sentiers ou en utilisant des bateaux en eau douce ou le long du littoral océanique. Les données sont disponibles à une résolution de 1 km.\n",
      "La pression de l'intrusion humaine mesure le niveau de modification causé par les activités humaines le long des routes et des voies ferrées, ainsi que dans les zones hors-piste accessibles aux personnes qui marchent en dehors des sentiers ou utilisent des bateaux en eau douce ou le long du littoral océanique. Les données sont disponibles avec une résolution de 1 km.\n",
      "A pressão de intrusão humana representa o grau de modificação humana em áreas ao longo de estradas e trilhos, bem como em áreas fora de estrada que são acessíveis aos humanos ao caminhar fora da trilha ou por meio de barcos em água doce ou ao longo da costa do oceano. Os dados estão disponíveis com uma resolução de 1 km.\n",
      "A pressão da interferência humana indica o nível de alteração causado pelos seres humanos em áreas próximas a estradas e trilhos, assim como em áreas fora de estrada que são acessíveis a pé ou de barco em água doce ou ao longo da costa do oceano. Os dados estão disponíveis com uma precisão de 1 km.\n",
      "La presión de intrusión humana representa el grado de modificación humana en áreas a lo largo de carreteras y vías férreas, así como en áreas fuera de caminos accesibles a los humanos caminando fuera de senderos o a través de botes en agua dulce o a lo largo de la costa del océano. Los datos están disponibles a una resolución de 1 km.\n",
      "La presión de intrusión humana se refiere al nivel de alteración causado por los humanos en áreas cercanas a carreteras y vías férreas, así como en zonas inaccesibles a pie o en bote en agua dulce o a lo largo de la costa del océano. Los datos se encuentran disponibles con una resolución de 1 km.\n",
      "This layer shows areas where there is high anthropogenic pressure, which are areas that have been highly modified or transformed from their natural state by humans. The land use practices (1) that typically result in these human pressures are urban areas, high-intensity agriculture, and low-intensity agriculture. The marine-human stressors on ocean ecosystems (2) include, among others, fishing, pollution, and oil drilling. Human pressures must be considered when establishing protected areas as some species are less tolerant to human disturbance. Data are displayed at 1 km resolution.\n",
      "Cette couche montre les zones où il y a une forte pression anthropique, c'est-à-dire des zones qui ont été fortement modifiées ou transformées de leur état naturel par les humains. Les pratiques d'utilisation des terres (1) qui entraînent généralement ces pressions humaines sont les zones urbaines, l'agriculture à haute intensité et l'agriculture à faible intensité. Les stressors humains sur les écosystèmes océaniques (2) comprennent, entre autres, la pêche, la pollution et le forage pétrolier. Les pressions humaines doivent être prises en compte lors de l'établissement de zones protégées car certaines espèces sont moins tolérantes aux perturbations humaines. Les données sont affichées à une résolution de 1 km.\n",
      "Cette couche indique les zones où la pression anthropique est élevée, c'est-à-dire les zones qui ont été fortement altérées ou transformées de leur état naturel par les activités humaines. Les pratiques d'utilisation des terres (1) qui sont généralement responsables de ces pressions humaines comprennent les zones urbaines, l'agriculture intensive et l'agriculture extensive. Les facteurs de stress humains sur les écosystèmes océaniques (2) incluent, entre autres, la pêche, la pollution et l'exploitation pétrolière. Il est important de prendre en compte les pressions humaines lors de l'établissement de zones protégées, car certaines espèces sont moins tolérantes aux perturbations causées par les activités humaines. Les données sont affichées avec une résolution de 1 km.\n",
      "Esta camada mostra áreas onde há alta pressão antropogênica, que são áreas que foram altamente modificadas ou transformadas de seu estado natural pelos seres humanos. As práticas de uso da terra (1) que normalmente resultam nessas pressões humanas são áreas urbanas, agricultura de alta intensidade e agricultura de baixa intensidade. Os estressores marinhos-humanos nos ecossistemas oceânicos (2) incluem, entre outros, pesca, poluição e perfuração de petróleo. As pressões humanas devem ser consideradas ao estabelecer áreas protegidas, pois algumas espécies são menos tolerantes à perturbação humana. Os dados são exibidos com resolução de 1 km.\n",
      "Esta camada mostra áreas onde há alta pressão antropogênica, ou seja, áreas que foram altamente modificadas ou transformadas pelos seres humanos de seu estado natural. As práticas de uso da terra que geralmente resultam nessas pressões humanas são áreas urbanas, agricultura intensiva e agricultura extensiva. Os fatores de estresse marinho-humano nos ecossistemas oceânicos incluem, entre outros, pesca, poluição e exploração de petróleo. Ao estabelecer áreas protegidas, é importante levar em consideração as pressões humanas, pois algumas espécies são menos tolerantes à perturbação causada pelos seres humanos. Os dados são exibidos com uma resolução de 1 km.\n",
      "Esta capa muestra áreas donde hay una alta presión antropogénica, que son áreas que han sido altamente modificadas o transformadas de su estado natural por los seres humanos. Las prácticas de uso de la tierra (1) que típicamente resultan en estas presiones humanas son las áreas urbanas, la agricultura de alta intensidad y la agricultura de baja intensidad. Los factores estresantes marino-humanos en los ecosistemas oceánicos (2) incluyen, entre otros, la pesca, la contaminación y la perforación de petróleo. Las presiones humanas deben ser consideradas al establecer áreas protegidas, ya que algunas especies son menos tolerantes a las perturbaciones humanas. Los datos se muestran a una resolución de 1 km.\n",
      "Esta capa muestra las áreas donde existe una alta presión antropogénica, es decir, áreas que han sido altamente modificadas o transformadas por los seres humanos de su estado natural. Las prácticas de uso de la tierra que suelen resultar en estas presiones humanas son las áreas urbanas, la agricultura intensiva y la agricultura extensiva. Los factores de estrés humano en los ecosistemas marinos incluyen la pesca, la contaminación y la extracción de petróleo, entre otros. Al establecer áreas protegidas, es importante tener en cuenta estas presiones humanas, ya que algunas especies son menos tolerantes a las perturbaciones causadas por los seres humanos. Los datos se presentan con una resolución de 1 km.\n",
      "Taking into account thirteen different types of human stressors on ocean ecosystems (1), such as fishing, pollution, and oil drilling, an index of marine human modifications reflects the cumulative impacts of these stressors. The index was calculated using a “fuzzy algebraic sum” (2), which assumes that the contribution of one given stressor decreases as values from other stressors co-occur.  This layer shows areas where invasive species and benthic structures are the strongest human pressure. Data are displayed at 1 km resolution.\n",
      "En tenant compte de treize types différents de facteurs de stress humains sur les écosystèmes océaniques (1), tels que la pêche, la pollution et le forage pétrolier, un indice de modifications humaines marines reflète les impacts cumulatifs de ces facteurs de stress. L'indice a été calculé à l'aide d'une \"somme algébrique floue\" (2), qui suppose que la contribution d'un facteur de stress donné diminue lorsque des valeurs provenant d'autres facteurs de stress coïncident. Cette couche montre les zones où les espèces invasives et les structures benthiques exercent la plus forte pression humaine. Les données sont affichées à une résolution de 1 km.\n",
      "En prenant en compte treize types différents de facteurs de stress humains sur les écosystèmes océaniques (1), tels que la pêche, la pollution et le forage pétrolier, un indice de modifications humaines marines est utilisé pour refléter les impacts cumulatifs de ces facteurs de stress. Cet indice a été calculé en utilisant une méthode de \"somme algébrique floue\" (2), qui suppose que la contribution d'un facteur de stress donné diminue lorsque des valeurs provenant d'autres facteurs de stress coïncident. Cette couche cartographique montre les zones où les espèces invasives et les structures benthiques exercent la plus forte pression humaine. Les données sont affichées avec une résolution de 1 km.\n",
      "Levando em consideração treze diferentes tipos de estressores humanos nos ecossistemas oceânicos (1), como pesca, poluição e perfuração de petróleo, um índice de modificações humanas marinhas reflete os impactos cumulativos desses estressores. O índice foi calculado usando uma \"soma algébrica difusa\" (2), que assume que a contribuição de um determinado estressor diminui à medida que os valores de outros estressores co-ocorrem. Esta camada mostra áreas onde espécies invasoras e estruturas bentônicas são a maior pressão humana. Os dados são exibidos com resolução de 1 km.\n",
      "Considerando treze diferentes tipos de estressores humanos nos ecossistemas oceânicos, como pesca, poluição e perfuração de petróleo, um índice de modificações humanas marinhas reflete os impactos acumulativos desses estressores. O índice foi calculado usando uma \"soma algébrica difusa\", que pressupõe que a contribuição de um determinado estressor diminui à medida que os valores de outros estressores co-ocorrem. Esta camada mostra áreas onde espécies invasoras e estruturas bentônicas exercem a maior pressão humana. Os dados são exibidos com uma resolução de 1 km.\n",
      "Teniendo en cuenta trece tipos diferentes de factores estresantes humanos en los ecosistemas oceánicos (1), como la pesca, la contaminación y la perforación de petróleo, un índice de modificaciones humanas marinas refleja los impactos acumulativos de estos factores estresantes. El índice se calculó utilizando una \"suma algebraica difusa\" (2), que asume que la contribución de un factor estresante dado disminuye a medida que los valores de otros factores estresantes co-ocurren. Esta capa muestra áreas donde las especies invasoras y las estructuras bentónicas son la mayor presión humana. Los datos se muestran con una resolución de 1 km.\n",
      "Teniendo en cuenta trece tipos diferentes de factores estresantes humanos en los ecosistemas oceánicos, como la pesca, la contaminación y la perforación de petróleo, se ha desarrollado un índice de modificaciones humanas marinas que refleja los impactos acumulativos de estos factores estresantes. El cálculo del índice se basa en una \"suma algebraica difusa\", que considera que la contribución de un factor estresante dado disminuye a medida que los valores de otros factores estresantes co-ocurren. Esta capa de datos muestra las áreas donde las especies invasoras y las estructuras bentónicas representan la mayor presión humana. La resolución de los datos es de 1 km.\n",
      "Taking into account thirteen different types of human stressors on ocean ecosystems (1), such as fishing, pollution, and oil drilling, an index of marine human modifications reflects the cumulative impacts of these stressors. The index was calculated using a “fuzzy algebraic sum” (2), which assumes that the contribution of one given stressor decreases as values from other stressors co-occur. This layer shows areas where demersal and pelagic fishing are the strongest human pressure. Data are displayed at 55 km resolution.\n",
      "En tenant compte de treize types différents de facteurs de stress humains sur les écosystèmes océaniques (1), tels que la pêche, la pollution et le forage pétrolier, un indice de modifications humaines marines reflète les impacts cumulatifs de ces facteurs de stress. L'indice a été calculé à l'aide d'une \"somme algébrique floue\" (2), qui suppose que la contribution d'un facteur de stress donné diminue lorsque des valeurs provenant d'autres facteurs de stress coïncident. Cette couche montre les zones où la pêche démersale et pélagique exerce la plus forte pression humaine. Les données sont affichées avec une résolution de 55 km.\n",
      "En prenant en compte treize types différents de facteurs de stress humains sur les écosystèmes océaniques (1), tels que la pêche, la pollution et le forage pétrolier, un indice de modifications humaines marines est utilisé pour refléter les impacts cumulatifs de ces facteurs de stress. Cet indice a été calculé en utilisant une méthode de \"somme algébrique floue\" (2), qui suppose que la contribution d'un facteur de stress donné diminue lorsque des valeurs provenant d'autres facteurs de stress coïncident. Cette couche cartographique montre les zones où la pêche démersale et pélagique exerce la plus forte pression humaine. Les données sont affichées avec une résolution de 55 km.\n",
      "Levando em consideração treze diferentes tipos de estressores humanos nos ecossistemas oceânicos (1), como pesca, poluição e perfuração de petróleo, um índice de modificações humanas marinhas reflete os impactos cumulativos desses estressores. O índice foi calculado usando uma \"soma algébrica difusa\" (2), que assume que a contribuição de um determinado estressor diminui à medida que os valores de outros estressores co-ocorrem. Esta camada mostra áreas onde a pesca demersal e pelágica são as maiores pressões humanas. Os dados são exibidos com uma resolução de 55 km.\n",
      "Considerando treze diferentes tipos de estressores humanos nos ecossistemas oceânicos, como pesca, poluição e perfuração de petróleo, um índice de modificações humanas marinhas reflete os impactos acumulativos desses estressores. O índice foi calculado usando uma \"soma algébrica difusa\", que pressupõe que a contribuição de um determinado estressor diminui à medida que os valores de outros estressores co-ocorrem. Esta camada mostra áreas onde a pesca demersal e pelágica exercem as maiores pressões humanas. Os dados são exibidos com uma resolução de 55 km.\n",
      "Teniendo en cuenta trece tipos diferentes de factores estresantes humanos en los ecosistemas oceánicos (1), como la pesca, la contaminación y la perforación de petróleo, un índice de modificaciones humanas marinas refleja los impactos acumulativos de estos factores estresantes. El índice se calculó utilizando una \"suma algebraica difusa\" (2), que asume que la contribución de un factor estresante dado disminuye a medida que los valores de otros factores estresantes co-ocurren. Esta capa muestra áreas donde la pesca demersal y pelágica ejercen la mayor presión humana. Los datos se muestran con una resolución de 55 km.\n",
      "Teniendo en cuenta trece tipos diferentes de factores estresantes humanos en los ecosistemas oceánicos, como la pesca, la contaminación y la perforación de petróleo, se ha desarrollado un índice de modificaciones humanas marinas para reflejar los impactos acumulativos de estos factores estresantes. El cálculo del índice se basa en una \"suma algebraica difusa\", que considera que la contribución de un factor estresante dado disminuye a medida que los valores de otros factores estresantes co-ocurren. Esta capa de datos muestra las áreas donde la pesca demersal y pelágica ejercen la mayor presión humana. La resolución de los datos es de 55 km.\n",
      "Taking into account thirteen different types of human stressors on ocean ecosystems (1), such as fishing, pollution, and oil drilling, an index of marine human modifications reflects the cumulative impacts of these stressors. The index was calculated using a “fuzzy algebraic sum” (2), which assumes that the contribution of one given stressor decreases as values from other stressors co-occur. This layer shows areas where artisanal fishing is the strongest human pressure. Data are displayed at a 1 km resolution.\n",
      "En tenant compte de treize types différents de facteurs de stress humains sur les écosystèmes océaniques (1), tels que la pêche, la pollution et le forage pétrolier, un indice de modifications humaines marines reflète les impacts cumulatifs de ces facteurs de stress. L'indice a été calculé à l'aide d'une \"somme algébrique floue\" (2), qui suppose que la contribution d'un facteur de stress donné diminue lorsque des valeurs provenant d'autres facteurs de stress coïncident. Cette couche montre les zones où la pêche artisanale exerce la plus forte pression humaine. Les données sont affichées avec une résolution de 1 km.\n",
      "En prenant en compte treize types différents de facteurs de stress humains sur les écosystèmes océaniques, tels que la pêche, la pollution et le forage pétrolier, un indice de modifications humaines marines est utilisé pour refléter les impacts cumulatifs de ces facteurs de stress. Cet indice a été calculé en utilisant une méthode de \"somme algébrique floue\", qui suppose que la contribution d'un facteur de stress donné diminue lorsque des valeurs provenant d'autres facteurs de stress coïncident. Cette couche cartographique montre les zones où la pêche artisanale exerce la plus forte pression humaine. Les données sont affichées avec une résolution de 1 km.\n",
      "Levando em consideração treze diferentes tipos de estressores humanos nos ecossistemas oceânicos (1), como pesca, poluição e perfuração de petróleo, um índice de modificações humanas marinhas reflete os impactos cumulativos desses estressores. O índice foi calculado usando uma \"soma algébrica difusa\" (2), que assume que a contribuição de um estressor dado diminui à medida que os valores de outros estressores co-ocorrem. Esta camada mostra áreas onde a pesca artesanal é a maior pressão humana. Os dados são exibidos com uma resolução de 1 km.\n",
      "Considerando treze diferentes tipos de estressores humanos nos ecossistemas oceânicos, como pesca, poluição e perfuração de petróleo, um índice de modificações humanas marinhas reflete os impactos acumulativos desses estressores. O índice foi calculado usando uma \"soma algébrica difusa\", que pressupõe que a contribuição de um estressor específico diminui à medida que os valores de outros estressores ocorrem simultaneamente. Esta camada mostra as áreas onde a pesca artesanal exerce a maior pressão humana. Os dados são exibidos com uma resolução de 1 km.\n",
      "Teniendo en cuenta trece tipos diferentes de factores estresantes humanos en los ecosistemas oceánicos (1), como la pesca, la contaminación y la perforación de petróleo, un índice de modificaciones humanas marinas refleja los impactos acumulativos de estos factores estresantes. El índice se calculó utilizando una \"suma algebraica difusa\" (2), que asume que la contribución de un factor estresante dado disminuye a medida que los valores de otros factores estresantes co-ocurren. Esta capa muestra áreas donde la pesca artesanal es la mayor presión humana. Los datos se muestran con una resolución de 1 km.\n",
      "Teniendo en cuenta trece tipos diferentes de factores estresantes humanos en los ecosistemas oceánicos, como la pesca, la contaminación y la perforación de petróleo, se ha desarrollado un índice de modificaciones humanas marinas que refleja los impactos acumulativos de estos factores estresantes. El cálculo del índice se basa en una \"suma algebraica difusa\", que considera que la contribución de un factor estresante dado disminuye a medida que los valores de otros factores estresantes co-ocurren. Esta capa de datos muestra las áreas donde la pesca artesanal ejerce la mayor presión humana. La resolución de los datos es de 1 km.\n",
      "Irrecoverable carbon refers to the vast natural stores of carbon that are vulnerable to release due to human activity and, if lost, could not be restored by 2050. This layer shows tons of irrecoverable carbon per hectare in both biomass and soils. Data are displayed at a 1 km resolution.\n",
      "Le carbone irrécupérable fait référence aux vastes réserves naturelles de carbone qui sont vulnérables à être libérées en raison de l'activité humaine et, si elles sont perdues, ne pourraient pas être restaurées d'ici 2050. Cette couche montre les tonnes de carbone irrécupérable par hectare dans la biomasse et les sols. Les données sont affichées à une résolution de 1 km.\n",
      "Le carbone irrécupérable désigne les importantes réserves naturelles de carbone qui sont susceptibles d'être libérées en raison de l'activité humaine et qui, si elles sont perdues, ne pourront pas être restaurées d'ici 2050. Cette couche présente les quantités de carbone irrécupérable par hectare dans la biomasse et les sols. Les données sont affichées avec une résolution de 1 km.\n",
      "Carbono irreversível refere-se às vastas reservas naturais de carbono que são vulneráveis ​​à liberação devido à atividade humana e, se perdidas, não poderiam ser restauradas até 2050. Esta camada mostra toneladas de carbono irreversível por hectare tanto na biomassa quanto nos solos. Os dados são exibidos com uma resolução de 1 km.\n",
      "O termo \"carbono irreversível\" é usado para descrever as grandes reservas naturais de carbono que estão em risco de serem liberadas devido à atividade humana. Se essas reservas forem perdidas, não poderão ser recuperadas até 2050. Essa camada de dados mostra a quantidade de carbono irreversível por hectare, tanto na biomassa quanto nos solos, com uma resolução de 1 km.\n",
      "El carbono irreparable se refiere a las vastas reservas naturales de carbono que son vulnerables a ser liberadas debido a la actividad humana y, si se pierden, no podrían ser restauradas para el año 2050. Esta capa muestra toneladas de carbono irreparable por hectárea tanto en biomasa como en suelos. Los datos se muestran a una resolución de 1 km.\n",
      "El término \"carbono irreparable\" se refiere a las extensas reservas naturales de carbono que están en peligro de ser liberadas debido a la actividad humana y que, una vez perdidas, no podrían ser restauradas antes del año 2050. Esta capa muestra la cantidad de carbono irreparable por hectárea, tanto en biomasa como en suelos, y los datos se presentan con una resolución de 1 km.\n"
     ]
    }
   ],
   "source": [
    "# Ask the AI to translate the text\n",
    "# prompt = \"Translate the following English text to French, Brazilian Portuguese and Spanish making it sound natural: {text}\"\n",
    "# Ask the AI to translate the text\n",
    "texts = df['Description']\n",
    "languages = ['fr', 'pt', 'es']\n",
    "\n",
    "for text in texts:\n",
    "    print(text)\n",
    "    translations = {}\n",
    "    for lang in languages:\n",
    "        translation_prompt = f\"Translate the following English text to {lang}: {text}\"\n",
    "        translation = get_completion(translation_prompt)\n",
    "        translations[lang] = translation\n",
    "        print(translation)\n",
    "        \n",
    "        rephrase_prompt = f\"Proofread and rephrase the text in {lang} to make it sound more natural: {translation}\"\n",
    "        rephrased_translation = get_completion(rephrase_prompt)\n",
    "        translations[lang] = rephrased_translation\n",
    "        print(rephrased_translation)\n",
    "    \n",
    "    # Assign the translated values to the DataFrame columns\n",
    "    df.loc[df['Description'] == text, 'Descriptions_fr'] = translations.get('fr', \"Translation not available\")\n",
    "    df.loc[df['Description'] == text, 'Descriptions_pt'] = translations.get('pt', \"Translation not available\")\n",
    "    df.loc[df['Description'] == text, 'Descriptions_es'] = translations.get('es', \"Translation not available\")\n",
    "\n"
   ]
  },
  {
   "cell_type": "code",
   "execution_count": 163,
   "metadata": {},
   "outputs": [],
   "source": [
    "# Save translations in csv\n",
    "df.csv = df.to_csv('/Users/sofia/Documents/HE_Data/metadata/translated_descriptions_updates20230718.csv', index=False)"
   ]
  },
  {
   "cell_type": "markdown",
   "metadata": {},
   "source": [
    "\n",
    "\n",
    "### Use this csv to manually update the \"es\", \"pt\" and \"fr\" entries that need to be modified\n",
    "\n",
    "----\n",
    "----"
   ]
  },
  {
   "cell_type": "markdown",
   "metadata": {},
   "source": [
    "Testing how to update contenful entries "
   ]
  },
  {
   "cell_type": "code",
   "execution_count": 164,
   "metadata": {},
   "outputs": [
    {
     "name": "stdout",
     "output_type": "stream",
     "text": [
      "Mismo texto pero en español\n",
      "2RDLjmNQVJvP7DROTw1V08\n"
     ]
    }
   ],
   "source": [
    "# ID of the content type you are working with\n",
    "content_type_id = 'metadataProd'\n",
    "\n",
    "# List of layerSlugs you want to query\n",
    "layerSlugs = [\n",
    "    'test_es'\n",
    "]\n",
    "\n",
    "# Variable text containing the new description\n",
    "text = \"Otra vez el texto en español, pero es otro texto\"\n",
    "\n",
    "# Query the entries for each layerSlug\n",
    "for layerSlug in layerSlugs:\n",
    "    # Query the entries with the specified layerSlug value\n",
    "    entries = client2.entries({'content_type': content_type_id, 'fields.layerSlug': layerSlug})\n",
    "\n",
    "    # Check if any entries were returned for the current layerSlug\n",
    "    if entries.total > 0:\n",
    "        # Access the description field of the first matching entry\n",
    "        first_matching_entry = entries.items[0]\n",
    "\n",
    "        # Retrieve the \"description\" field value for the current layerSlug\n",
    "        description = first_matching_entry.description\n",
    "        id = first_matching_entry.id\n",
    "        print(description)\n",
    "        print(id)\n"
   ]
  }
 ],
 "metadata": {
  "kernelspec": {
   "display_name": "Python 3.8.12 ('vizz38')",
   "language": "python",
   "name": "python3"
  },
  "language_info": {
   "codemirror_mode": {
    "name": "ipython",
    "version": 3
   },
   "file_extension": ".py",
   "mimetype": "text/x-python",
   "name": "python",
   "nbconvert_exporter": "python",
   "pygments_lexer": "ipython3",
   "version": "3.9.7"
  },
  "orig_nbformat": 4,
  "vscode": {
   "interpreter": {
    "hash": "4829cc13d368d943a62b17104ac97c1ea81b455d93d0d0d9a78d8f68633ebeb3"
   }
  }
 },
 "nbformat": 4,
 "nbformat_minor": 2
}
