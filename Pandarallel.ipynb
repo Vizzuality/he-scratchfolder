{
 "cells": [
  {
   "cell_type": "markdown",
   "metadata": {},
   "source": [
    "### 'Distributed workflow for each taxa'"
   ]
  },
  {
   "cell_type": "code",
   "execution_count": 1,
   "metadata": {},
   "outputs": [],
   "source": [
    "import pandas as pd\n",
    "import numpy as np\n",
    "import geopandas as gpd\n",
    "import arcgis\n",
    "from arcgis.gis import GIS\n",
    "import json\n",
    "import pandas as pd\n",
    "from arcgis.features import FeatureLayerCollection\n",
    "import requests as re\n",
    "from copy import deepcopy\n",
    "from itertools import repeat\n",
    "import functools"
   ]
  },
  {
   "cell_type": "code",
   "execution_count": 2,
   "metadata": {},
   "outputs": [],
   "source": [
    "env_path = \"../../.env\"\n",
    "with open(env_path) as f:\n",
    "   env = {}\n",
    "   for line in f:\n",
    "       env_key, _val = line.split(\"=\")\n",
    "       env_value = _val.split(\"\\n\")[0]\n",
    "       env[env_key] = env_value"
   ]
  },
  {
   "cell_type": "code",
   "execution_count": 3,
   "metadata": {},
   "outputs": [],
   "source": [
    "aol_password = env['ARCGIS_GRETA_PASS']\n",
    "aol_username = env['ARCGIS_GRETA_USER']"
   ]
  },
  {
   "cell_type": "code",
   "execution_count": 4,
   "metadata": {},
   "outputs": [],
   "source": [
    "gis = GIS(\"https://eowilson.maps.arcgis.com\", aol_username, aol_password, profile = \"eowilson\")"
   ]
  },
  {
   "cell_type": "code",
   "execution_count": 166,
   "metadata": {},
   "outputs": [],
   "source": [
    "### gadm tables\n",
    "## Original scott table (https://eowilson.maps.arcgis.com/home/item.html?id=ba1e71b5d83548808ee02d1108221cae)\n",
    "gadm= gpd.read_file('zip:///Users/tamarahuete/Documents/HALF_EARTH/WDPA_FILTERED_20210615_FILTERED_nomarine_with_oecm_wdpa.zip')\n",
    "gadm.rename(columns={'AREA_KM':'AREA_KM2'},inplace=True)"
   ]
  },
  {
   "cell_type": "code",
   "execution_count": 167,
   "metadata": {},
   "outputs": [
    {
     "name": "stderr",
     "output_type": "stream",
     "text": [
      "/Users/tamarahuete/opt/anaconda3/lib/python3.7/site-packages/ipykernel_launcher.py:3: SettingWithCopyWarning: \n",
      "A value is trying to be set on a copy of a slice from a DataFrame.\n",
      "Try using .loc[row_indexer,col_indexer] = value instead\n",
      "\n",
      "See the caveats in the documentation: https://pandas.pydata.org/pandas-docs/stable/user_guide/indexing.html#returning-a-view-versus-a-copy\n",
      "  This is separate from the ipykernel package so we can avoid doing imports until\n",
      "/Users/tamarahuete/opt/anaconda3/lib/python3.7/site-packages/ipykernel_launcher.py:4: SettingWithCopyWarning: \n",
      "A value is trying to be set on a copy of a slice from a DataFrame.\n",
      "Try using .loc[row_indexer,col_indexer] = value instead\n",
      "\n",
      "See the caveats in the documentation: https://pandas.pydata.org/pandas-docs/stable/user_guide/indexing.html#returning-a-view-versus-a-copy\n",
      "  after removing the cwd from sys.path.\n",
      "/Users/tamarahuete/opt/anaconda3/lib/python3.7/site-packages/ipykernel_launcher.py:5: SettingWithCopyWarning: \n",
      "A value is trying to be set on a copy of a slice from a DataFrame.\n",
      "Try using .loc[row_indexer,col_indexer] = value instead\n",
      "\n",
      "See the caveats in the documentation: https://pandas.pydata.org/pandas-docs/stable/user_guide/indexing.html#returning-a-view-versus-a-copy\n",
      "  \"\"\"\n",
      "/Users/tamarahuete/opt/anaconda3/lib/python3.7/site-packages/ipykernel_launcher.py:6: SettingWithCopyWarning: \n",
      "A value is trying to be set on a copy of a slice from a DataFrame.\n",
      "Try using .loc[row_indexer,col_indexer] = value instead\n",
      "\n",
      "See the caveats in the documentation: https://pandas.pydata.org/pandas-docs/stable/user_guide/indexing.html#returning-a-view-versus-a-copy\n",
      "  \n"
     ]
    }
   ],
   "source": [
    "### Use here simple gadm0 \n",
    "dff = gadm[['NAME','MOL_ID','AREA_KM2']] ## remove geometry here because it is the non-simplified table\n",
    "dff['reptiles']=np.nan\n",
    "dff['amphibians']=np.nan\n",
    "dff['mammals']=np.nan\n",
    "dff['birds']=np.nan\n",
    "\n",
    "paths = {'amphibians':'../../HALF_EARTH/wdpa_amphibians_sample_20211003_nozeros.zip',\n",
    "         'birds':'../../HALF_EARTH/wdpa_birds_final_20211003.csv',\n",
    "         'mammals':'../../HALF_EARTH/wdpa_mammals_final_20211003.csv',\n",
    "         'reptiles':'../../HALF_EARTH/wdpa_reptiles_final_20211003.zip'}\n",
    "\n",
    "### Ids of lookup tables for each taxa in ArcGIS online\n",
    "lookups = {'amphibians':'a641a4cd269345dea93b8bcb1cb66676',\n",
    "         'birds':'4d8698734b654bb9bb7a61d9af314c76',\n",
    "         'mammals':'84d3c71caf97479d85f620a4ee217d68',\n",
    "         'reptiles':'b720e84869624e5482b25338b27a54f2'}"
   ]
  },
  {
   "cell_type": "code",
   "execution_count": 7,
   "metadata": {},
   "outputs": [],
   "source": [
    "def getHTfromId(item_id):\n",
    "    item = gis.content.get(item_id)\n",
    "    flayer = item.tables[0]\n",
    "    sdf = flayer.query().sdf\n",
    "    return sdf"
   ]
  },
  {
   "cell_type": "code",
   "execution_count": 8,
   "metadata": {},
   "outputs": [],
   "source": [
    "def breaks(n):\n",
    "    step = int(np.floor(217486/n))\n",
    "    ls = list(np.arange(0,217486,step=step))\n",
    "    ls.append(217486)\n",
    "    return ls"
   ]
  },
  {
   "cell_type": "code",
   "execution_count": 9,
   "metadata": {},
   "outputs": [],
   "source": [
    "def first_last(n, step):\n",
    "    values = breaks(n)\n",
    "    return [values[step-1],values[step]]"
   ]
  },
  {
   "cell_type": "code",
   "execution_count": 10,
   "metadata": {},
   "outputs": [],
   "source": [
    "def format_aoi(taxa,n,step):\n",
    "    save_steps= np.arange(1,217486,step=5000)\n",
    "    ### Loop over each set of data and add all results to one dictionary that will be a text field in the Feature Service\n",
    "\n",
    "    df = pd.read_csv(paths[taxa])\n",
    "    col_name = [col for col in df.columns if col in ['amphibians','birds','presence','reptiles']]\n",
    "    df.rename(columns={'SliceNumbe':'SliceNumber',col_name[0]:'SUM'}, inplace=True)\n",
    "\n",
    "    ### Get species area against global species range:\n",
    "    lookup = getHTfromId(lookups[taxa])\n",
    "    df = df.merge(lookup[['SliceNumber','range_area_km2']], how='left',on = 'SliceNumber')\n",
    "    df['per_global'] = round(df['SUM']/df['range_area_km2']*100,2)\n",
    "    df.loc[df['per_global']> 100,'per_global'] = 100 ### make max presence 100%\n",
    "    \n",
    "    ### Get species area against aoi area:\n",
    "    df = df.merge(gadm[['MOL_ID','AREA_KM2']])\n",
    "    df['per_aoi'] = round(df['SUM']/df['AREA_KM2']*100,2)\n",
    "    df.loc[df['per_aoi']> 100,'per_aoi'] = 100 ### make max presence 100%\n",
    "    \n",
    "    ## Get split range\n",
    "    first = first_last(n, step)[0]\n",
    "    last = first_last(n, step)[1]\n",
    "    print(f'range {first}-{last}, total = {last-first}')\n",
    "    \n",
    "    for i in list(dff.MOL_ID[first:last].values): \n",
    "        species = []\n",
    "        for j in df[(df.MOL_ID== i)].SliceNumber.unique():\n",
    "            sp_dict = {'SliceNumber':int(df[(df.MOL_ID== i) & (df.SliceNumber==j)].SliceNumber.values[0]),\n",
    "                       'per_global':df[(df.MOL_ID== i) & (df.SliceNumber==j)].per_global.values[0],\n",
    "                       'per_aoi':df[(df.MOL_ID== i) & (df.SliceNumber==j)].per_aoi.values[0]\n",
    "                      }\n",
    "            species.append(sp_dict)\n",
    "        dff.loc[dff['MOL_ID']==i,taxa] =json.dumps(species)\n",
    "        print(f'finished MOL_ID ={i}')\n",
    "        if i in save_steps:\n",
    "            pd.set_option('display.max_colwidth',None)\n",
    "            dff.to_csv(f'../../HALF_EARTH/wdpa_precalc_biodiv_range_{taxa}_{step}.csv',index=False)\n",
    "    dff.to_csv(f'../../HALF_EARTH/wdpa_precalc_biodiv_range_{taxa}_{step}.csv',index=False)\n",
    "    return dff\n"
   ]
  },
  {
   "cell_type": "markdown",
   "metadata": {},
   "source": [
    "### Add pandarallel to distribute work locally\n",
    "Pandarallel works on apply functions. The code needs to be formatted to have apply instead of for loops. This requires creating some extra functions. [Example of how to use](https://towardsdatascience.com/pandaral-lel-a-simple-and-efficient-tool-to-parallelize-your-pandas-operations-on-all-your-cpus-bb5ff2a409ae)"
   ]
  },
  {
   "cell_type": "code",
   "execution_count": 11,
   "metadata": {},
   "outputs": [],
   "source": [
    "from pandarallel import pandarallel"
   ]
  },
  {
   "cell_type": "code",
   "execution_count": 12,
   "metadata": {},
   "outputs": [
    {
     "name": "stdout",
     "output_type": "stream",
     "text": [
      "INFO: Pandarallel will run on 8 workers.\n",
      "INFO: Pandarallel will use standard multiprocessing data transfer (pipe) to transfer data between the main process and workers.\n"
     ]
    }
   ],
   "source": [
    "pandarallel.initialize(progress_bar = True) "
   ]
  },
  {
   "cell_type": "code",
   "execution_count": 107,
   "metadata": {},
   "outputs": [],
   "source": [
    "def create_dict(df,molid,species_j):\n",
    "    sp_dict = {'SliceNumber':int(df[(df['MOL_ID']== int(molid)) & (df.SliceNumber==int(species_j))].SliceNumber.values[0]),\n",
    "                   'per_global':df[(df.MOL_ID==molid) & (df.SliceNumber==species_j)].per_global.values[0],\n",
    "                   'per_aoi':df[(df.MOL_ID== molid) & (df.SliceNumber==species_j)].per_aoi.values[0]\n",
    "                  }\n",
    "    return sp_dict"
   ]
  },
  {
   "cell_type": "code",
   "execution_count": 120,
   "metadata": {},
   "outputs": [],
   "source": [
    "def getSliceNumbers(df,molid):\n",
    "    return list(df[(df.MOL_ID== molid)].SliceNumber.unique())"
   ]
  },
  {
   "cell_type": "code",
   "execution_count": 122,
   "metadata": {},
   "outputs": [],
   "source": [
    "def format_array(df,molid):\n",
    "    uniqueSlices = getSliceNumbers(df,molid)\n",
    "    species = list(map(functools.partial(create_dict,df),repeat(molid),uniqueSlices))\n",
    "    return json.dumps(species)"
   ]
  },
  {
   "cell_type": "code",
   "execution_count": 132,
   "metadata": {},
   "outputs": [],
   "source": [
    "def format_aoi_pandarallel(taxa,n,step):\n",
    "    save_steps= np.arange(1,217486,step=5000)\n",
    "    ### Loop over each set of data and add all results to one dictionary that will be a text field in the Feature Service\n",
    "\n",
    "    df = pd.read_csv(paths[taxa])\n",
    "    col_name = [col for col in df.columns if col in ['amphibians','birds','presence','reptiles']]\n",
    "    df.rename(columns={'SliceNumbe':'SliceNumber',col_name[0]:'SUM'}, inplace=True)\n",
    "\n",
    "    ### Get species area against global species range:\n",
    "    lookup = getHTfromId(lookups[taxa])\n",
    "    df = df.merge(lookup[['SliceNumber','range_area_km2']], how='left',on = 'SliceNumber')\n",
    "    df['per_global'] = round(df['SUM']/df['range_area_km2']*100,2)\n",
    "    df.loc[df['per_global']> 100,'per_global'] = 100 ### make max presence 100%\n",
    "    \n",
    "    ### Get species area against aoi area:\n",
    "    df = df.merge(gadm[['MOL_ID','AREA_KM2']])\n",
    "    df['per_aoi'] = round(df['SUM']/df['AREA_KM2']*100,2)\n",
    "    df.loc[df['per_aoi']> 100,'per_aoi'] = 100 ### make max presence 100%\n",
    "    \n",
    "    ### Map over mol ids\n",
    "    ## Get split range\n",
    "    first = first_last(n, step)[0]\n",
    "    last = first_last(n, step)[1]\n",
    "    subset = dff[dff['MOL_ID'].isin(dff.MOL_ID[first:last].values)]\n",
    "    \n",
    "    subset[taxa] = subset.parallel_apply(lambda x: print(x['MOL_ID']) or format_array(df,x['MOL_ID']),axis=1)\n",
    "    \n",
    "    return subset"
   ]
  },
  {
   "cell_type": "markdown",
   "metadata": {},
   "source": [
    "### Test pandarallel paralelization"
   ]
  },
  {
   "cell_type": "code",
   "execution_count": 29,
   "metadata": {},
   "outputs": [],
   "source": [
    "subset_map = dff[0:5]\n",
    "subset_loop=dff[0:5]\n",
    "subset_par=dff[0:5]"
   ]
  },
  {
   "cell_type": "code",
   "execution_count": 123,
   "metadata": {},
   "outputs": [
    {
     "name": "stdout",
     "output_type": "stream",
     "text": [
      "CPU times: user 7min 21s, sys: 55.8 s, total: 8min 17s\n",
      "Wall time: 9min 13s\n"
     ]
    }
   ],
   "source": [
    "%%time ### for loop\n",
    "for i in list(subset_loop.MOL_ID.values): \n",
    "    species = []\n",
    "    for j in df[(df.MOL_ID== i)].SliceNumber.unique():\n",
    "        sp_dict = {'SliceNumber':int(df[(df.MOL_ID== i) & (df.SliceNumber==j)].SliceNumber.values[0]),\n",
    "                   'per_global':df[(df.MOL_ID== i) & (df.SliceNumber==j)].per_global.values[0],\n",
    "                   'per_aoi':df[(df.MOL_ID== i) & (df.SliceNumber==j)].per_aoi.values[0]\n",
    "                  }\n",
    "        species.append(sp_dict)\n",
    "    subset_loop.loc[subset_loop['MOL_ID']==i,taxa] =json.dumps(species)"
   ]
  },
  {
   "cell_type": "code",
   "execution_count": 180,
   "metadata": {},
   "outputs": [
    {
     "name": "stdout",
     "output_type": "stream",
     "text": [
      "1\n",
      "2\n",
      "3\n",
      "4\n",
      "5\n",
      "CPU times: user 30.7 s, sys: 3.51 s, total: 34.2 s\n",
      "Wall time: 36.1 s\n"
     ]
    },
    {
     "name": "stderr",
     "output_type": "stream",
     "text": [
      "/Users/tamarahuete/opt/anaconda3/lib/python3.7/site-packages/ipykernel_launcher.py:1: SettingWithCopyWarning: \n",
      "A value is trying to be set on a copy of a slice from a DataFrame.\n",
      "Try using .loc[row_indexer,col_indexer] = value instead\n",
      "\n",
      "See the caveats in the documentation: https://pandas.pydata.org/pandas-docs/stable/user_guide/indexing.html#returning-a-view-versus-a-copy\n",
      "  \"\"\"Entry point for launching an IPython kernel.\n"
     ]
    }
   ],
   "source": [
    "%%time ### Change for loop for map\n",
    "subset_map[taxa] = subset_map.apply(lambda x:print(x['MOL_ID']) or format_array(x['MOL_ID'] in list(dff.MOL_ID[0:2].values)),axis=1)"
   ]
  },
  {
   "cell_type": "code",
   "execution_count": 31,
   "metadata": {},
   "outputs": [],
   "source": [
    "taxa = 'mammals'\n",
    "test = pd.read_csv(paths[taxa])"
   ]
  },
  {
   "cell_type": "code",
   "execution_count": 115,
   "metadata": {},
   "outputs": [
    {
     "data": {
      "application/vnd.jupyter.widget-view+json": {
       "model_id": "f9a3198edd73406b9093a61d2745dfda",
       "version_major": 2,
       "version_minor": 0
      },
      "text/plain": [
       "VBox(children=(HBox(children=(IntProgress(value=0, description='0.00%', max=1), Label(value='0 / 1'))), HBox(c…"
      ]
     },
     "metadata": {},
     "output_type": "display_data"
    },
    {
     "name": "stdout",
     "output_type": "stream",
     "text": [
      "CPU times: user 162 ms, sys: 71.2 ms, total: 234 ms\n",
      "Wall time: 563 ms\n"
     ]
    },
    {
     "name": "stderr",
     "output_type": "stream",
     "text": [
      "/Users/tamarahuete/opt/anaconda3/lib/python3.7/site-packages/ipykernel_launcher.py:2: SettingWithCopyWarning: \n",
      "A value is trying to be set on a copy of a slice from a DataFrame.\n",
      "Try using .loc[row_indexer,col_indexer] = value instead\n",
      "\n",
      "See the caveats in the documentation: https://pandas.pydata.org/pandas-docs/stable/user_guide/indexing.html#returning-a-view-versus-a-copy\n",
      "  \n"
     ]
    }
   ],
   "source": [
    "%%time \n",
    "### Add pandarallel to map\n",
    "subset_par[taxa] = subset_par.parallel_apply(lambda x: format_array(x['MOL_ID'],df),axis=1)"
   ]
  },
  {
   "cell_type": "code",
   "execution_count": 139,
   "metadata": {},
   "outputs": [],
   "source": [
    "compare = pd.DataFrame(data={'ids':[5,10,20,30],'map':[95,170,282,616],'loop':[90,163,291,553], 'parallel':[0,0,0,204]})"
   ]
  },
  {
   "cell_type": "code",
   "execution_count": 140,
   "metadata": {},
   "outputs": [
    {
     "data": {
      "text/plain": [
       "<matplotlib.axes._subplots.AxesSubplot at 0x7fdfb4fe2d90>"
      ]
     },
     "execution_count": 140,
     "metadata": {},
     "output_type": "execute_result"
    },
    {
     "data": {
      "image/png": "[encoded data removed]",
      "text/plain": [
       "<Figure size 432x288 with 1 Axes>"
      ]
     },
     "metadata": {
      "needs_background": "light"
     },
     "output_type": "display_data"
    }
   ],
   "source": [
    "compare.plot(x='ids')"
   ]
  },
  {
   "cell_type": "markdown",
   "metadata": {},
   "source": [
    "### Run with parallelization"
   ]
  },
  {
   "cell_type": "code",
   "execution_count": null,
   "metadata": {},
   "outputs": [],
   "source": [
    "%%time\n",
    "output = format_aoi_pandarallel(taxa = 'mammals',n = 4,step =4)"
   ]
  },
  {
   "cell_type": "code",
   "execution_count": null,
   "metadata": {},
   "outputs": [],
   "source": [
    "### There are some WDPAs that are missing MOLID (???)"
   ]
  },
  {
   "cell_type": "code",
   "execution_count": 141,
   "metadata": {},
   "outputs": [],
   "source": [
    "taxa= 'mammals'\n",
    "step= 4"
   ]
  },
  {
   "cell_type": "code",
   "execution_count": 179,
   "metadata": {},
   "outputs": [],
   "source": [
    "missing_index = [186892, 207130, 217482, 217483, 217484, 217485]"
   ]
  },
  {
   "cell_type": "code",
   "execution_count": 186,
   "metadata": {},
   "outputs": [],
   "source": [
    "missing_molid= list(dff.loc[dff.index.isin(missing_index),'MOL_ID'])"
   ]
  },
  {
   "cell_type": "code",
   "execution_count": 189,
   "metadata": {},
   "outputs": [
    {
     "name": "stderr",
     "output_type": "stream",
     "text": [
      "/Users/tamarahuete/opt/anaconda3/lib/python3.7/site-packages/pandas/core/indexing.py:966: SettingWithCopyWarning: \n",
      "A value is trying to be set on a copy of a slice from a DataFrame.\n",
      "Try using .loc[row_indexer,col_indexer] = value instead\n",
      "\n",
      "See the caveats in the documentation: https://pandas.pydata.org/pandas-docs/stable/user_guide/indexing.html#returning-a-view-versus-a-copy\n",
      "  self.obj[item] = s\n"
     ]
    },
    {
     "name": "stdout",
     "output_type": "stream",
     "text": [
      "finished MOL_ID =186893\n",
      "finished MOL_ID =207131\n",
      "finished MOL_ID =217483\n",
      "finished MOL_ID =217484\n",
      "finished MOL_ID =217485\n",
      "finished MOL_ID =217486\n"
     ]
    }
   ],
   "source": [
    "df = pd.read_csv(paths[taxa])\n",
    "col_name = [col for col in df.columns if col in ['amphibians','birds','presence','reptiles']]\n",
    "df.rename(columns={'SliceNumbe':'SliceNumber',col_name[0]:'SUM'}, inplace=True)\n",
    "\n",
    "### Get species area against global species range:\n",
    "lookup = getHTfromId(lookups[taxa])\n",
    "df = df.merge(lookup[['SliceNumber','range_area_km2']], how='left',on = 'SliceNumber')\n",
    "df['per_global'] = round(df['SUM']/df['range_area_km2']*100,2)\n",
    "df.loc[df['per_global']> 100,'per_global'] = 100 ### make max presence 100%\n",
    "\n",
    "### Get species area against aoi area:\n",
    "df = df.merge(gadm[['MOL_ID','AREA_KM2']])\n",
    "df['per_aoi'] = round(df['SUM']/df['AREA_KM2']*100,2)\n",
    "df.loc[df['per_aoi']> 100,'per_aoi'] = 100 ### make max presence 100%\n",
    "\n",
    "for i in missing_molid: \n",
    "    species = []\n",
    "    for j in df[(df.MOL_ID== i)].SliceNumber.unique():\n",
    "        sp_dict = {'SliceNumber':int(df[(df.MOL_ID== i) & (df.SliceNumber==j)].SliceNumber.values[0]),\n",
    "                   'per_global':df[(df.MOL_ID== i) & (df.SliceNumber==j)].per_global.values[0],\n",
    "                   'per_aoi':df[(df.MOL_ID== i) & (df.SliceNumber==j)].per_aoi.values[0]\n",
    "                  }\n",
    "        species.append(sp_dict)\n",
    "    dff.loc[dff['MOL_ID']==i,taxa] =json.dumps(species)\n",
    "    print(f'finished MOL_ID ={i}')"
   ]
  },
  {
   "cell_type": "code",
   "execution_count": 164,
   "metadata": {},
   "outputs": [
    {
     "name": "stderr",
     "output_type": "stream",
     "text": [
      "/Users/tamarahuete/opt/anaconda3/lib/python3.7/site-packages/ipykernel_launcher.py:1: SettingWithCopyWarning: \n",
      "A value is trying to be set on a copy of a slice from a DataFrame\n",
      "\n",
      "See the caveats in the documentation: https://pandas.pydata.org/pandas-docs/stable/user_guide/indexing.html#returning-a-view-versus-a-copy\n",
      "  \"\"\"Entry point for launching an IPython kernel.\n"
     ]
    }
   ],
   "source": [
    "output.dropna(subset=['MOL_ID'],inplace=True)"
   ]
  },
  {
   "cell_type": "code",
   "execution_count": 192,
   "metadata": {},
   "outputs": [],
   "source": [
    "output.append(dff[dff['MOL_ID'].isin(missing_molid)]).to_csv(f'../../HALF_EARTH/wdpa_precalc_biodiv_range_{taxa}_{step}.csv',index=False)"
   ]
  },
  {
   "cell_type": "code",
   "execution_count": null,
   "metadata": {},
   "outputs": [],
   "source": []
  }
 ],
 "metadata": {
  "kernelspec": {
   "display_name": "Python 3",
   "language": "python",
   "name": "python3"
  },
  "language_info": {
   "codemirror_mode": {
    "name": "ipython",
    "version": 3
   },
   "file_extension": ".py",
   "mimetype": "text/x-python",
   "name": "python",
   "nbconvert_exporter": "python",
   "pygments_lexer": "ipython3",
   "version": "3.7.4"
  }
 },
 "nbformat": 4,
 "nbformat_minor": 4
}
