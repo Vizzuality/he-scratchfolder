{
 "cells": [
  {
   "cell_type": "markdown",
   "id": "8984ae7a",
   "metadata": {},
   "source": [
    "## Integrate SPI into countries and regions (AOI section)\n",
    "### This notebook adds SPI values to existing precalculated tables for countries and regions. It also updates the field \"percentage_protected\" to the September 2023 version of the WDPAs."
   ]
  },
  {
   "cell_type": "code",
   "execution_count": 1,
   "id": "dd2b48fb",
   "metadata": {},
   "outputs": [],
   "source": [
    "# Import libraries\n",
    "import geopandas as gpd\n",
    "import pandas as pd"
   ]
  },
  {
   "cell_type": "code",
   "execution_count": 2,
   "id": "6607c96e",
   "metadata": {},
   "outputs": [],
   "source": [
    "# Set path\n",
    "path = '/Users/sofia/Documents/HE_Data'"
   ]
  },
  {
   "cell_type": "code",
   "execution_count": 3,
   "id": "b399a62e",
   "metadata": {},
   "outputs": [],
   "source": [
    "# Read precalculated tables for countries and regions (used in AOI section of the H-E Map)\n",
    "gadm1 = gpd.read_file(path + '/Precalculated/gadm1/Outputs/gadm1_precalculated_aoi_summaries_updated.geojson')\n",
    "gadm0 = gpd.read_file(path + '/Precalculated/gadm0/Outputs/gadm0_precalculated_aoi_summaries_updated.geojson')"
   ]
  },
  {
   "cell_type": "code",
   "execution_count": 4,
   "id": "4b014b7a",
   "metadata": {},
   "outputs": [],
   "source": [
    "# Read the .csv files for SPI (sent by MOL)\n",
    "gadm0_spi = pd.read_csv(path + '/SPI_AOI/Terrestrial_SPI_by_country_20231002_withiso.csv')\n",
    "gadm1_spi = pd.read_csv(path + '/SPI_AOI/Terrestrial_SPI_by_region_20231002_withiso.csv')"
   ]
  },
  {
   "cell_type": "markdown",
   "id": "4976a578",
   "metadata": {},
   "source": [
    "There are missing iso codes in the SPI datasets. "
   ]
  },
  {
   "cell_type": "code",
   "execution_count": null,
   "id": "f8708a6d",
   "metadata": {},
   "outputs": [],
   "source": [
    "# # Save a list of the missing iso codes to a .txt file\n",
    "# folder_path = path + \"/SPI_AOI/\"\n",
    "# file_path = folder_path + \"missing_countries.txt\"\n",
    "\n",
    "# with open(file_path, \"w\") as file:\n",
    "#     for item in a:\n",
    "#         file.write(item + \"\\n\")\n",
    "        "
   ]
  },
  {
   "cell_type": "code",
   "execution_count": null,
   "id": "ee12e871",
   "metadata": {},
   "outputs": [],
   "source": [
    "# # Save a list of the missing iso codes to a .txt file\n",
    "# folder_path = path + \"/SPI_AOI/\"\n",
    "# file_path = folder_path + \"missing_countries.txt\"\n",
    "\n",
    "# with open(file_path, \"w\") as file:\n",
    "#     for item in a:\n",
    "#         file.write(item + \"\\n\")"
   ]
  },
  {
   "cell_type": "markdown",
   "id": "5f54c24a",
   "metadata": {},
   "source": [
    "### Join SPI and protection information to AOI precalculated tables"
   ]
  },
  {
   "cell_type": "markdown",
   "id": "13937ad7",
   "metadata": {},
   "source": [
    "Add info for missing countries and regions (provided by MOL separately)"
   ]
  },
  {
   "cell_type": "code",
   "execution_count": 5,
   "id": "3675bc44",
   "metadata": {},
   "outputs": [],
   "source": [
    "# Danyan (MOL): \"only 1 out of 26 country has different GID and ISO code, all the others that are missing do not have SPI calculated from our end\"\n",
    "# Replace 'ZNC' with 'XNC' in the GID_0 column of gadm0_spi to match the GID_0 column of gadm0\n",
    "gadm0_spi.loc[gadm0_spi['GID_0'] == 'ZNC', 'GID_0'] = 'XNC'"
   ]
  },
  {
   "cell_type": "code",
   "execution_count": 7,
   "id": "c9e5f3e3",
   "metadata": {},
   "outputs": [
    {
     "data": {
      "text/html": [
       "<div>\n",
       "<style scoped>\n",
       "    .dataframe tbody tr th:only-of-type {\n",
       "        vertical-align: middle;\n",
       "    }\n",
       "\n",
       "    .dataframe tbody tr th {\n",
       "        vertical-align: top;\n",
       "    }\n",
       "\n",
       "    .dataframe thead th {\n",
       "        text-align: right;\n",
       "    }\n",
       "</style>\n",
       "<table border=\"1\" class=\"dataframe\">\n",
       "  <thead>\n",
       "    <tr style=\"text-align: right;\">\n",
       "      <th></th>\n",
       "      <th>SPI_high</th>\n",
       "      <th>percentprotected_high</th>\n",
       "      <th>GID_1</th>\n",
       "    </tr>\n",
       "  </thead>\n",
       "  <tbody>\n",
       "    <tr>\n",
       "      <th>0</th>\n",
       "      <td>6.95</td>\n",
       "      <td>1.21</td>\n",
       "      <td>ALA.1_1</td>\n",
       "    </tr>\n",
       "    <tr>\n",
       "      <th>1</th>\n",
       "      <td>6.95</td>\n",
       "      <td>1.21</td>\n",
       "      <td>ALA.4_1</td>\n",
       "    </tr>\n",
       "    <tr>\n",
       "      <th>2</th>\n",
       "      <td>6.95</td>\n",
       "      <td>1.21</td>\n",
       "      <td>ALA.8_1</td>\n",
       "    </tr>\n",
       "    <tr>\n",
       "      <th>3</th>\n",
       "      <td>6.95</td>\n",
       "      <td>1.21</td>\n",
       "      <td>ALA.9_1</td>\n",
       "    </tr>\n",
       "    <tr>\n",
       "      <th>4</th>\n",
       "      <td>6.95</td>\n",
       "      <td>1.21</td>\n",
       "      <td>ALA.14_1</td>\n",
       "    </tr>\n",
       "  </tbody>\n",
       "</table>\n",
       "</div>"
      ],
      "text/plain": [
       "   SPI_high  percentprotected_high     GID_1\n",
       "0      6.95                   1.21   ALA.1_1\n",
       "1      6.95                   1.21   ALA.4_1\n",
       "2      6.95                   1.21   ALA.8_1\n",
       "3      6.95                   1.21   ALA.9_1\n",
       "4      6.95                   1.21  ALA.14_1"
      ]
     },
     "execution_count": 7,
     "metadata": {},
     "output_type": "execute_result"
    }
   ],
   "source": [
    "# For missing regions MOL has provided a lookup table. \n",
    "missing = pd.read_csv(path + '/SPI_AOI/spi_regions_missing_lookup_20231006.csv')\n",
    "missing = missing[['SPI_high', 'percentprotected_high', 'ISO3_region']].rename(columns={'ISO3_region': 'GID_1'})\n",
    "missing.head()"
   ]
  },
  {
   "cell_type": "code",
   "execution_count": 8,
   "id": "65cf53fe",
   "metadata": {},
   "outputs": [
    {
     "name": "stderr",
     "output_type": "stream",
     "text": [
      "/var/folders/98/0pdnjc5s29x2pnzl293pw7hr0000gn/T/ipykernel_2163/3543887495.py:3: UserWarning: Boolean Series key will be reindexed to match DataFrame index.\n",
      "  gadm0_2023 = gadm0_spi[(gadm0_spi['year'] == 2023) & (gadm1_spi['mode'] == 'Refine')]\n"
     ]
    }
   ],
   "source": [
    "# Get 2023 for the 'refine' mode\n",
    "gadm1_2023 = gadm1_spi[(gadm1_spi['year'] == 2023) & (gadm1_spi['mode'] == 'Refine')]\n",
    "gadm0_2023 = gadm0_spi[(gadm0_spi['year'] == 2023) & (gadm1_spi['mode'] == 'Refine')]"
   ]
  },
  {
   "cell_type": "code",
   "execution_count": 9,
   "id": "b3460cb1",
   "metadata": {},
   "outputs": [],
   "source": [
    "# Keep only relevant fields\n",
    "gadm0_2023 = gadm0_2023[['GID_0', 'SPI_high', 'percentprotected_high']]\n",
    "gadm1_2023 = gadm1_2023[['GID_1', 'SPI_high', 'percentprotected_high']]"
   ]
  },
  {
   "cell_type": "code",
   "execution_count": 10,
   "id": "996423ac",
   "metadata": {},
   "outputs": [
    {
     "data": {
      "text/html": [
       "<div>\n",
       "<style scoped>\n",
       "    .dataframe tbody tr th:only-of-type {\n",
       "        vertical-align: middle;\n",
       "    }\n",
       "\n",
       "    .dataframe tbody tr th {\n",
       "        vertical-align: top;\n",
       "    }\n",
       "\n",
       "    .dataframe thead th {\n",
       "        text-align: right;\n",
       "    }\n",
       "</style>\n",
       "<table border=\"1\" class=\"dataframe\">\n",
       "  <thead>\n",
       "    <tr style=\"text-align: right;\">\n",
       "      <th></th>\n",
       "      <th>GID_1</th>\n",
       "      <th>SPI_high</th>\n",
       "      <th>percentprotected_high</th>\n",
       "    </tr>\n",
       "  </thead>\n",
       "  <tbody>\n",
       "    <tr>\n",
       "      <th>0</th>\n",
       "      <td>AFG.1_1</td>\n",
       "      <td>48.39</td>\n",
       "      <td>20.70</td>\n",
       "    </tr>\n",
       "    <tr>\n",
       "      <th>1</th>\n",
       "      <td>AFG.2_1</td>\n",
       "      <td>0.00</td>\n",
       "      <td>0.00</td>\n",
       "    </tr>\n",
       "    <tr>\n",
       "      <th>2</th>\n",
       "      <td>AFG.3_1</td>\n",
       "      <td>12.06</td>\n",
       "      <td>2.39</td>\n",
       "    </tr>\n",
       "    <tr>\n",
       "      <th>3</th>\n",
       "      <td>AFG.4_1</td>\n",
       "      <td>0.00</td>\n",
       "      <td>0.00</td>\n",
       "    </tr>\n",
       "    <tr>\n",
       "      <th>4</th>\n",
       "      <td>AFG.5_1</td>\n",
       "      <td>87.78</td>\n",
       "      <td>30.51</td>\n",
       "    </tr>\n",
       "  </tbody>\n",
       "</table>\n",
       "</div>"
      ],
      "text/plain": [
       "     GID_1  SPI_high  percentprotected_high\n",
       "0  AFG.1_1     48.39                  20.70\n",
       "1  AFG.2_1      0.00                   0.00\n",
       "2  AFG.3_1     12.06                   2.39\n",
       "3  AFG.4_1      0.00                   0.00\n",
       "4  AFG.5_1     87.78                  30.51"
      ]
     },
     "execution_count": 10,
     "metadata": {},
     "output_type": "execute_result"
    }
   ],
   "source": [
    "# Concatenate missing and gadm1_2023\n",
    "gadm1_2023 = pd.concat([gadm1_2023, missing], ignore_index=True)\n",
    "gadm1_2023.head()"
   ]
  },
  {
   "cell_type": "code",
   "execution_count": 11,
   "id": "d3febb2b",
   "metadata": {},
   "outputs": [],
   "source": [
    "# Update precalculated tables adding SPI and new protection for 2023\n",
    "gadm0_updated = pd.merge(gadm0, gadm0_2023 ,how='left', left_on=['GID_0'], right_on = ['GID_0'])\n",
    "gadm1_updated = pd.merge(gadm1, gadm1_2023 ,how='left', left_on=['GID_1'], right_on = ['GID_1'])\n",
    "\n",
    "gadm0_updated['percentage_protected'] = gadm0_updated['percentprotected_high']\n",
    "gadm1_updated['percentage_protected'] = gadm1_updated['percentprotected_high']\n",
    "\n",
    "gadm0_updated = gadm0_updated.rename(columns={'SPI_high': 'SPI'}).drop(columns=['percentprotected_high'])\n",
    "gadm1_updated = gadm1_updated.rename(columns={'SPI_high': 'SPI'}).drop(columns=['percentprotected_high'])"
   ]
  },
  {
   "cell_type": "code",
   "execution_count": 14,
   "id": "e17f0cd0",
   "metadata": {},
   "outputs": [
    {
     "data": {
      "text/html": [
       "<div>\n",
       "<style scoped>\n",
       "    .dataframe tbody tr th:only-of-type {\n",
       "        vertical-align: middle;\n",
       "    }\n",
       "\n",
       "    .dataframe tbody tr th {\n",
       "        vertical-align: top;\n",
       "    }\n",
       "\n",
       "    .dataframe thead th {\n",
       "        text-align: right;\n",
       "    }\n",
       "</style>\n",
       "<table border=\"1\" class=\"dataframe\">\n",
       "  <thead>\n",
       "    <tr style=\"text-align: right;\">\n",
       "      <th></th>\n",
       "      <th>GID_0</th>\n",
       "      <th>NAME_0</th>\n",
       "      <th>MOL_ID</th>\n",
       "      <th>AREA_KM2</th>\n",
       "      <th>alternative_names</th>\n",
       "      <th>NAME_0_es</th>\n",
       "      <th>NAME_0_fr</th>\n",
       "      <th>NAME_0_pt</th>\n",
       "      <th>amphibians</th>\n",
       "      <th>birds</th>\n",
       "      <th>...</th>\n",
       "      <th>land_cover_majority</th>\n",
       "      <th>climate_regime_majority</th>\n",
       "      <th>country_size</th>\n",
       "      <th>agriculture</th>\n",
       "      <th>builtup</th>\n",
       "      <th>extraction</th>\n",
       "      <th>intrusion</th>\n",
       "      <th>transportation</th>\n",
       "      <th>geometry</th>\n",
       "      <th>SPI</th>\n",
       "    </tr>\n",
       "  </thead>\n",
       "  <tbody>\n",
       "    <tr>\n",
       "      <th>248</th>\n",
       "      <td>XNC</td>\n",
       "      <td>Northern Cyprus</td>\n",
       "      <td>249</td>\n",
       "      <td>3313.962437</td>\n",
       "      <td>None</td>\n",
       "      <td>Chipre del Norte</td>\n",
       "      <td>Chypre du Nord</td>\n",
       "      <td>Chipre do Norte</td>\n",
       "      <td>[ { \"SliceNumber\": 955, \"per_global\": 0.11, \"S...</td>\n",
       "      <td>[ { \"SliceNumber\": 121, \"per_global\": 0.0, \"SP...</td>\n",
       "      <td>...</td>\n",
       "      <td>Cropland</td>\n",
       "      <td>Sub Tropical Dry</td>\n",
       "      <td>5</td>\n",
       "      <td>[ { \"Year\": 1990, \"percentage_land_encroachmen...</td>\n",
       "      <td>[ { \"Year\": 1990, \"percentage_land_encroachmen...</td>\n",
       "      <td>None</td>\n",
       "      <td>[ { \"Year\": 1990, \"percentage_land_encroachmen...</td>\n",
       "      <td>[ { \"Year\": 1990, \"percentage_land_encroachmen...</td>\n",
       "      <td>MULTIPOLYGON (((32.60200 35.17820, 32.62292 35...</td>\n",
       "      <td>3.86</td>\n",
       "    </tr>\n",
       "  </tbody>\n",
       "</table>\n",
       "<p>1 rows × 30 columns</p>\n",
       "</div>"
      ],
      "text/plain": [
       "    GID_0           NAME_0  MOL_ID     AREA_KM2 alternative_names  \\\n",
       "248   XNC  Northern Cyprus     249  3313.962437              None   \n",
       "\n",
       "            NAME_0_es       NAME_0_fr        NAME_0_pt  \\\n",
       "248  Chipre del Norte  Chypre du Nord  Chipre do Norte   \n",
       "\n",
       "                                            amphibians  \\\n",
       "248  [ { \"SliceNumber\": 955, \"per_global\": 0.11, \"S...   \n",
       "\n",
       "                                                 birds  ...  \\\n",
       "248  [ { \"SliceNumber\": 121, \"per_global\": 0.0, \"SP...  ...   \n",
       "\n",
       "    land_cover_majority climate_regime_majority  country_size  \\\n",
       "248            Cropland        Sub Tropical Dry             5   \n",
       "\n",
       "                                           agriculture  \\\n",
       "248  [ { \"Year\": 1990, \"percentage_land_encroachmen...   \n",
       "\n",
       "                                               builtup  extraction  \\\n",
       "248  [ { \"Year\": 1990, \"percentage_land_encroachmen...        None   \n",
       "\n",
       "                                             intrusion  \\\n",
       "248  [ { \"Year\": 1990, \"percentage_land_encroachmen...   \n",
       "\n",
       "                                        transportation  \\\n",
       "248  [ { \"Year\": 1990, \"percentage_land_encroachmen...   \n",
       "\n",
       "                                              geometry   SPI  \n",
       "248  MULTIPOLYGON (((32.60200 35.17820, 32.62292 35...  3.86  \n",
       "\n",
       "[1 rows x 30 columns]"
      ]
     },
     "execution_count": 14,
     "metadata": {},
     "output_type": "execute_result"
    }
   ],
   "source": [
    "gadm0_updated[gadm0_updated['GID_0'] == 'XNC']"
   ]
  },
  {
   "cell_type": "code",
   "execution_count": 20,
   "id": "7f392cc0",
   "metadata": {},
   "outputs": [],
   "source": [
    "# Save to geojson\n",
    "gadm0_updated.to_file(path + '/Precalculated/gadm0/Outputs/gadm0_precalculated_aoi_summaries_SPI.geojson',driver='GeoJSON')\n",
    "gadm1_updated.to_file(path + '/Precalculated/gadm1/Outputs/gadm1_precalculated_aoi_summaries_SPI.geojson',driver='GeoJSON')"
   ]
  }
 ],
 "metadata": {
  "kernelspec": {
   "display_name": "Python 3.8.12 ('vizz38')",
   "language": "python",
   "name": "python3"
  },
  "language_info": {
   "codemirror_mode": {
    "name": "ipython",
    "version": 3
   },
   "file_extension": ".py",
   "mimetype": "text/x-python",
   "name": "python",
   "nbconvert_exporter": "python",
   "pygments_lexer": "ipython3",
   "version": "3.9.7"
  },
  "vscode": {
   "interpreter": {
    "hash": "4829cc13d368d943a62b17104ac97c1ea81b455d93d0d0d9a78d8f68633ebeb3"
   }
  }
 },
 "nbformat": 4,
 "nbformat_minor": 5
}
