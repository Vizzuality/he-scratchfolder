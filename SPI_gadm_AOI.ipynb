{
 "cells": [
  {
   "cell_type": "markdown",
   "id": "8984ae7a",
   "metadata": {},
   "source": [
    "## Integrate SPI into countries and regions (AOI section)\n",
    "### This notebook adds SPI values to existing precalculated tables for countries and regions. It also updates the field \"percentage_protected\" to the September 2023 version of the WDPAs."
   ]
  },
  {
   "cell_type": "code",
   "execution_count": 1,
   "id": "dd2b48fb",
   "metadata": {},
   "outputs": [],
   "source": [
    "# Import libraries\n",
    "import geopandas as gpd\n",
    "import pandas as pd"
   ]
  },
  {
   "cell_type": "code",
   "execution_count": 2,
   "id": "6607c96e",
   "metadata": {},
   "outputs": [],
   "source": [
    "# Set path\n",
    "path = '/Users/sofia/Documents/HE_Data'"
   ]
  },
  {
   "cell_type": "code",
   "execution_count": 3,
   "id": "b399a62e",
   "metadata": {},
   "outputs": [],
   "source": [
    "# Read precalculated tables for countries and regions (used in AOI section of the H-E Map)\n",
    "gadm1 = gpd.read_file(path + '/Precalculated/gadm1/Outputs/gadm1_precalculated_aoi_summaries_updated.geojson')\n",
    "gadm0 = gpd.read_file(path + '/Precalculated/gadm0/Outputs/gadm0_precalculated_aoi_summaries_updated.geojson')"
   ]
  },
  {
   "cell_type": "code",
   "execution_count": 4,
   "id": "4b014b7a",
   "metadata": {},
   "outputs": [],
   "source": [
    "# Read the .csv files for SPI (sent by MOL)\n",
    "gadm0_spi = pd.read_csv(path + '/SPI_AOI/Terrestrial_SPI_by_country_20231002_withiso.csv')\n",
    "gadm1_spi = pd.read_csv(path + '/SPI_AOI/Terrestrial_SPI_by_region_20231002_withiso.csv')"
   ]
  },
  {
   "cell_type": "code",
   "execution_count": 5,
   "id": "87ebb220",
   "metadata": {},
   "outputs": [
    {
     "data": {
      "text/plain": [
       "26"
      ]
     },
     "execution_count": 5,
     "metadata": {},
     "output_type": "execute_result"
    }
   ],
   "source": [
    "# Check if there are any missing iso codes\n",
    "list1 = list(gadm0['GID_0'].unique())\n",
    "list2 = list(gadm0_spi['GID_0'].unique())\n",
    "a = list(set(list1).difference(list2))\n",
    "len(a)"
   ]
  },
  {
   "cell_type": "code",
   "execution_count": 6,
   "id": "f8708a6d",
   "metadata": {},
   "outputs": [],
   "source": [
    "# Save a list of the missing iso codes to a .txt file\n",
    "folder_path = path + \"/SPI_AOI/\"\n",
    "file_path = folder_path + \"missing_countries.txt\"\n",
    "\n",
    "with open(file_path, \"w\") as file:\n",
    "    for item in a:\n",
    "        file.write(item + \"\\n\")\n",
    "        "
   ]
  },
  {
   "cell_type": "code",
   "execution_count": 11,
   "id": "cd4dd257",
   "metadata": {},
   "outputs": [
    {
     "data": {
      "text/plain": [
       "244"
      ]
     },
     "execution_count": 11,
     "metadata": {},
     "output_type": "execute_result"
    }
   ],
   "source": [
    "# Check if there are any missing iso codes\n",
    "list1 = list(gadm1['GID_1'].unique())\n",
    "list2 = list(gadm1_spi['GID_1'].unique())\n",
    "a = list(set(list1).difference(list2))\n",
    "len(a)"
   ]
  },
  {
   "cell_type": "code",
   "execution_count": null,
   "id": "ee12e871",
   "metadata": {},
   "outputs": [],
   "source": [
    "# Save a list of the missing iso codes to a .txt file\n",
    "folder_path = path + \"/SPI_AOI/\"\n",
    "file_path = folder_path + \"missing_countries.txt\"\n",
    "\n",
    "with open(file_path, \"w\") as file:\n",
    "    for item in a:\n",
    "        file.write(item + \"\\n\")"
   ]
  },
  {
   "cell_type": "markdown",
   "id": "4976a578",
   "metadata": {},
   "source": [
    "There are missing iso codes in the SPI datasets. This will probably require an update in the future"
   ]
  },
  {
   "cell_type": "code",
   "execution_count": 6,
   "id": "65cf53fe",
   "metadata": {},
   "outputs": [
    {
     "name": "stderr",
     "output_type": "stream",
     "text": [
      "/var/folders/98/0pdnjc5s29x2pnzl293pw7hr0000gn/T/ipykernel_24300/3543887495.py:3: UserWarning: Boolean Series key will be reindexed to match DataFrame index.\n",
      "  gadm0_2023 = gadm0_spi[(gadm0_spi['year'] == 2023) & (gadm1_spi['mode'] == 'Refine')]\n"
     ]
    }
   ],
   "source": [
    "# Get 2023 for the 'refine' mode\n",
    "gadm1_2023 = gadm1_spi[(gadm1_spi['year'] == 2023) & (gadm1_spi['mode'] == 'Refine')]\n",
    "gadm0_2023 = gadm0_spi[(gadm0_spi['year'] == 2023) & (gadm1_spi['mode'] == 'Refine')]"
   ]
  },
  {
   "cell_type": "code",
   "execution_count": 7,
   "id": "b3460cb1",
   "metadata": {},
   "outputs": [],
   "source": [
    "# Keep only relevant fields\n",
    "gadm0_2023 = gadm0_2023[['GID_0', 'SPI_high', 'percentprotected_high']]\n",
    "gadm1_2023 = gadm1_2023[['GID_1', 'SPI_high', 'percentprotected_high']]"
   ]
  },
  {
   "cell_type": "code",
   "execution_count": 8,
   "id": "d3febb2b",
   "metadata": {},
   "outputs": [],
   "source": [
    "# Update gadm0 precalculated table adding SPI and new protection for 2023\n",
    "gadm0_updated = pd.merge(gadm0, gadm0_2023 ,how='left', left_on=['GID_0'], right_on = ['GID_0'])\n",
    "gadm1_updated = pd.merge(gadm1, gadm1_2023 ,how='left', left_on=['GID_1'], right_on = ['GID_1'])\n",
    "\n",
    "gadm0_updated['percentage_protected'] = gadm0_updated['percentprotected_high']\n",
    "gadm1_updated['percentage_protected'] = gadm1_updated['percentprotected_high']\n",
    "\n",
    "gadm0_updated = gadm0_updated.rename(columns={'SPI_high': 'SPI'}).drop(columns=['percentprotected_high'])\n",
    "gadm1_updated = gadm1_updated.rename(columns={'SPI_high': 'SPI'}).drop(columns=['percentprotected_high'])"
   ]
  },
  {
   "cell_type": "code",
   "execution_count": 10,
   "id": "7f392cc0",
   "metadata": {},
   "outputs": [],
   "source": [
    "# Save to geojson\n",
    "gadm0_updated.to_file(path + '/Precalculated/gadm0/Outputs/gadm0_precalculated_aoi_summaries_SPI.geojson',driver='GeoJSON')\n",
    "gadm1_updated.to_file(path + '/Precalculated/gadm1/Outputs/gadm1_precalculated_aoi_summaries_SPI.geojson',driver='GeoJSON')"
   ]
  }
 ],
 "metadata": {
  "kernelspec": {
   "display_name": "Python 3.8.12 ('vizz38')",
   "language": "python",
   "name": "python3"
  },
  "language_info": {
   "codemirror_mode": {
    "name": "ipython",
    "version": 3
   },
   "file_extension": ".py",
   "mimetype": "text/x-python",
   "name": "python",
   "nbconvert_exporter": "python",
   "pygments_lexer": "ipython3",
   "version": "3.9.7"
  },
  "vscode": {
   "interpreter": {
    "hash": "4829cc13d368d943a62b17104ac97c1ea81b455d93d0d0d9a78d8f68633ebeb3"
   }
  }
 },
 "nbformat": 4,
 "nbformat_minor": 5
}
