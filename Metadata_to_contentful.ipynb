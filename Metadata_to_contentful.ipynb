{
 "cells": [
  {
   "cell_type": "markdown",
   "metadata": {},
   "source": [
    "# Importing data from metadata hosted table to Contentful\n",
    "\n",
    "## Table of contents\n",
    "1. [First steps](#first)\n",
    "    1. [Import packages](#packages)\n",
    "    2. [Get credentials](#credentials)\n",
    "    3. [Connect to APIS](#connect-to-apis)\n",
    "    4. [Utils](#utils)\n",
    "2. [Export data from AGOL to Contentful](#export)\n",
    "    1. [Create content model for metadata in Contentful](#model)\n",
    "    2. [Get hosted table as dataframe](#hosted)\n",
    "    3. [Send dataframe information to contentful model](#content)\n",
    "3. [Updating Contentful metadata](#update)\n",
    "4. [Delete all entries and content type](#delete)"
   ]
  },
  {
   "cell_type": "markdown",
   "metadata": {},
   "source": [
    "---\n",
    "<a id='first'></a>\n",
    "## First steps\n",
    "\n",
    "<a id='packages'></a>\n",
    "### Import packages"
   ]
  },
  {
   "cell_type": "code",
   "execution_count": 1,
   "metadata": {},
   "outputs": [],
   "source": [
    "import contentful\n",
    "import contentful_management\n",
    "import pandas as pd\n",
    "import numpy as np\n",
    "from numpy import array\n",
    "import geopandas as gpd\n",
    "import arcgis\n",
    "from arcgis.gis import GIS\n",
    "import json\n",
    "import pandas as pd\n",
    "from arcgis.features import FeatureLayerCollection\n",
    "import requests as re\n",
    "from copy import deepcopy"
   ]
  },
  {
   "cell_type": "markdown",
   "metadata": {},
   "source": [
    "<a id='credentials'></a>\n",
    "### Get credentials"
   ]
  },
  {
   "cell_type": "code",
   "execution_count": 2,
   "metadata": {},
   "outputs": [],
   "source": [
    "env_path = \".env\"\n",
    "with open(env_path) as f:\n",
    "   env = {}\n",
    "   for line in f:\n",
    "       env_key, _val = line.split(\"=\")\n",
    "       env_value = _val.split(\"\\n\")[0]\n",
    "       env[env_key] = env_value\n",
    "\n",
    "aol_password = env['ARCGIS_GRETA_PASS']\n",
    "aol_username = env['ARCGIS_GRETA_USER']\n",
    "\n",
    "cnt_space = env['contentful_space'] # Space in contentful\n",
    "cnt_token = env['contentful_token'] # This token is only for read-only purposes, it doesn't allow management\n",
    "cnt_management = env['contentful_personal_token'] # This is the token needed for management purposes\n"
   ]
  },
  {
   "cell_type": "markdown",
   "metadata": {},
   "source": [
    "<a id='apis'></a>\n",
    "### Connect to APIS"
   ]
  },
  {
   "cell_type": "markdown",
   "metadata": {},
   "source": [
    "**ESRI**"
   ]
  },
  {
   "cell_type": "code",
   "execution_count": 3,
   "metadata": {},
   "outputs": [],
   "source": [
    "gis = GIS(\"https://eowilson.maps.arcgis.com\", aol_username, aol_password)"
   ]
  },
  {
   "cell_type": "markdown",
   "metadata": {},
   "source": [
    "**Contentful**"
   ]
  },
  {
   "cell_type": "code",
   "execution_count": 4,
   "metadata": {},
   "outputs": [],
   "source": [
    "client = contentful_management.Client(cnt_management) # This allows managing"
   ]
  },
  {
   "cell_type": "code",
   "execution_count": 5,
   "metadata": {},
   "outputs": [],
   "source": [
    "client2 = contentful.Client(cnt_space, cnt_token) # this only allows queries"
   ]
  },
  {
   "cell_type": "markdown",
   "metadata": {},
   "source": [
    "<a id='utils'></a>\n",
    "### Utils"
   ]
  },
  {
   "cell_type": "code",
   "execution_count": 6,
   "metadata": {},
   "outputs": [],
   "source": [
    "# To convert an existing hosted table in an spatial dataframe\n",
    "def getHTfromId(item_id):\n",
    "    item = gis.content.get(item_id)\n",
    "    flayer = item.tables[0]\n",
    "    sdf = flayer.query().sdf\n",
    "    return sdf"
   ]
  },
  {
   "cell_type": "markdown",
   "metadata": {},
   "source": [
    "---\n",
    "<a id='export'></a>\n",
    "## Export data from AGOL metadata table to contentful"
   ]
  },
  {
   "cell_type": "markdown",
   "metadata": {},
   "source": [
    "<a id='model'></a>\n",
    "### 1. Create content model for metadata in Contentful \n",
    "The first thing here is to create a content model in Contentful that has the same fields as the fields we want to import from the table in ArcGIS Online. We are calling it `Metadata_prod`. Make sure that the type of the field (number, long text, short text...) are the same we have on the metadata table hosted in AGOL. Note that text fields in AGOL are set as string fields. Once the content model is created, we can start importing data."
   ]
  },
  {
   "cell_type": "markdown",
   "metadata": {},
   "source": [
    "<a id='hosted'></a>\n",
    "### 2. Get hosted table as dataframe"
   ]
  },
  {
   "cell_type": "code",
   "execution_count": 12,
   "metadata": {},
   "outputs": [
    {
     "data": {
      "text/html": [
       "<div>\n",
       "<style scoped>\n",
       "    .dataframe tbody tr th:only-of-type {\n",
       "        vertical-align: middle;\n",
       "    }\n",
       "\n",
       "    .dataframe tbody tr th {\n",
       "        vertical-align: top;\n",
       "    }\n",
       "\n",
       "    .dataframe thead th {\n",
       "        text-align: right;\n",
       "    }\n",
       "</style>\n",
       "<table border=\"1\" class=\"dataframe\">\n",
       "  <thead>\n",
       "    <tr style=\"text-align: right;\">\n",
       "      <th></th>\n",
       "      <th>layerSlug</th>\n",
       "      <th>description</th>\n",
       "      <th>source</th>\n",
       "      <th>molLogo</th>\n",
       "      <th>hasAdditionalContent</th>\n",
       "      <th>title</th>\n",
       "      <th>ObjectId</th>\n",
       "      <th>GlobalID</th>\n",
       "      <th>ObjectId2</th>\n",
       "      <th>ObjectId3</th>\n",
       "    </tr>\n",
       "  </thead>\n",
       "  <tbody>\n",
       "    <tr>\n",
       "      <th>0</th>\n",
       "      <td>urban_human_pressures</td>\n",
       "      <td>Shows areas where the land is used by urban ac...</td>\n",
       "      <td>(1) [Ellis, Erle C., et al., 2010](https://onl...</td>\n",
       "      <td>FALSE</td>\n",
       "      <td>FALSE</td>\n",
       "      <td>Urban pressures metadata</td>\n",
       "      <td>None</td>\n",
       "      <td>136e5a63-a0e7-4100-9741-2650b353e36e</td>\n",
       "      <td>1</td>\n",
       "      <td>1</td>\n",
       "    </tr>\n",
       "    <tr>\n",
       "      <th>1</th>\n",
       "      <td>irrigated_human_pressures</td>\n",
       "      <td>Shows areas where the land is used by irrigate...</td>\n",
       "      <td>(1) [Ellis, Erle C., et al., 2010](https://onl...</td>\n",
       "      <td>FALSE</td>\n",
       "      <td>FALSE</td>\n",
       "      <td>Irrigated agriculture metadata</td>\n",
       "      <td>None</td>\n",
       "      <td>0e9c36e0-fa1d-4f76-9ad2-a2beccdb18f0</td>\n",
       "      <td>2</td>\n",
       "      <td>2</td>\n",
       "    </tr>\n",
       "    <tr>\n",
       "      <th>2</th>\n",
       "      <td>rainfed_human_pressures</td>\n",
       "      <td>Shows areas where the land is used by rainfed ...</td>\n",
       "      <td>(1) [Ellis, Erle C., et al., 2010](https://onl...</td>\n",
       "      <td>FALSE</td>\n",
       "      <td>FALSE</td>\n",
       "      <td>Rainfed agriculture metadata</td>\n",
       "      <td>None</td>\n",
       "      <td>a7fbc232-6689-4a65-939a-089f7226e527</td>\n",
       "      <td>3</td>\n",
       "      <td>3</td>\n",
       "    </tr>\n",
       "    <tr>\n",
       "      <th>3</th>\n",
       "      <td>rangeland_human_pressures</td>\n",
       "      <td>Shows areas where the land is used by rangelan...</td>\n",
       "      <td>(1) [Ellis, Erle C., et al., 2010](https://onl...</td>\n",
       "      <td>FALSE</td>\n",
       "      <td>FALSE</td>\n",
       "      <td>Rangeland metadata</td>\n",
       "      <td>None</td>\n",
       "      <td>84c1634d-9ce7-4e8e-bfbc-f44ce852c4cf</td>\n",
       "      <td>4</td>\n",
       "      <td>4</td>\n",
       "    </tr>\n",
       "    <tr>\n",
       "      <th>4</th>\n",
       "      <td>merged_land_human_pressures</td>\n",
       "      <td>Shows areas where there is high anthropogenic ...</td>\n",
       "      <td>(1) [Ellis, Erle C., et al., 2010](https://onl...</td>\n",
       "      <td>FALSE</td>\n",
       "      <td>FALSE</td>\n",
       "      <td>Land human pressures metadata</td>\n",
       "      <td>None</td>\n",
       "      <td>4d862350-7f89-4c5c-8b4b-cb1271e66b1e</td>\n",
       "      <td>5</td>\n",
       "      <td>5</td>\n",
       "    </tr>\n",
       "  </tbody>\n",
       "</table>\n",
       "</div>"
      ],
      "text/plain": [
       "                     layerSlug  \\\n",
       "0        urban_human_pressures   \n",
       "1    irrigated_human_pressures   \n",
       "2      rainfed_human_pressures   \n",
       "3    rangeland_human_pressures   \n",
       "4  merged_land_human_pressures   \n",
       "\n",
       "                                         description  \\\n",
       "0  Shows areas where the land is used by urban ac...   \n",
       "1  Shows areas where the land is used by irrigate...   \n",
       "2  Shows areas where the land is used by rainfed ...   \n",
       "3  Shows areas where the land is used by rangelan...   \n",
       "4  Shows areas where there is high anthropogenic ...   \n",
       "\n",
       "                                              source molLogo  \\\n",
       "0  (1) [Ellis, Erle C., et al., 2010](https://onl...   FALSE   \n",
       "1  (1) [Ellis, Erle C., et al., 2010](https://onl...   FALSE   \n",
       "2  (1) [Ellis, Erle C., et al., 2010](https://onl...   FALSE   \n",
       "3  (1) [Ellis, Erle C., et al., 2010](https://onl...   FALSE   \n",
       "4  (1) [Ellis, Erle C., et al., 2010](https://onl...   FALSE   \n",
       "\n",
       "  hasAdditionalContent                           title ObjectId  \\\n",
       "0                FALSE        Urban pressures metadata     None   \n",
       "1                FALSE  Irrigated agriculture metadata     None   \n",
       "2                FALSE    Rainfed agriculture metadata     None   \n",
       "3                FALSE              Rangeland metadata     None   \n",
       "4                FALSE   Land human pressures metadata     None   \n",
       "\n",
       "                               GlobalID  ObjectId2  ObjectId3  \n",
       "0  136e5a63-a0e7-4100-9741-2650b353e36e          1          1  \n",
       "1  0e9c36e0-fa1d-4f76-9ad2-a2beccdb18f0          2          2  \n",
       "2  a7fbc232-6689-4a65-939a-089f7226e527          3          3  \n",
       "3  84c1634d-9ce7-4e8e-bfbc-f44ce852c4cf          4          4  \n",
       "4  4d862350-7f89-4c5c-8b4b-cb1271e66b1e          5          5  "
      ]
     },
     "execution_count": 12,
     "metadata": {},
     "output_type": "execute_result"
    }
   ],
   "source": [
    "metadata = getHTfromId('ef369a73779d4a37b2252808afef98a7') # call table from AGOL using ID\n",
    "metadata.head()"
   ]
  },
  {
   "cell_type": "code",
   "execution_count": 13,
   "metadata": {},
   "outputs": [
    {
     "data": {
      "text/plain": [
       "(80, 10)"
      ]
     },
     "execution_count": 13,
     "metadata": {},
     "output_type": "execute_result"
    }
   ],
   "source": [
    "metadata.shape"
   ]
  },
  {
   "cell_type": "markdown",
   "metadata": {},
   "source": [
    "<a id='content'></a>\n",
    "### 3. Send dataframe information to contentful content model"
   ]
  },
  {
   "cell_type": "code",
   "execution_count": 14,
   "metadata": {},
   "outputs": [
    {
     "data": {
      "text/plain": [
       "Index(['layerSlug', 'description', 'source', 'molLogo', 'hasAdditionalContent',\n",
       "       'title', 'ObjectId', 'GlobalID', 'ObjectId2', 'ObjectId3'],\n",
       "      dtype='object')"
      ]
     },
     "execution_count": 14,
     "metadata": {},
     "output_type": "execute_result"
    }
   ],
   "source": [
    "metadata.columns"
   ]
  },
  {
   "cell_type": "code",
   "execution_count": 16,
   "metadata": {},
   "outputs": [],
   "source": [
    "# Enter data from table in contentful and publish it\n",
    "\n",
    "for index, row in metadata.iterrows():\n",
    "\n",
    "    entry_attributes = {\n",
    "        'content_type_id': 'metadataProd',\n",
    "        'fields': {\n",
    "            'layerSlug': {\n",
    "                'en-US': row[\"layerSlug\"]\n",
    "            },\n",
    "            'description': {\n",
    "                'en-US': row['description']\n",
    "            },\n",
    "            'source':{\n",
    "                'en-US': row['source']\n",
    "            },\n",
    "            'molLogo':{\n",
    "                'en-US': row['molLogo']\n",
    "            },\n",
    "            'hasAdditionalContent':{\n",
    "                'en-US': row['hasAdditionalContent']\n",
    "            },\n",
    "            'title':{\n",
    "                'en-US': row['title']\n",
    "            },\n",
    "            'globalId':{\n",
    "                'en-US': row['GlobalID']\n",
    "            },\n",
    "            'objectId3':{\n",
    "                'en-US': row['ObjectId3']\n",
    "            },\n",
    "            'language':{\n",
    "                'en-US': 'en'\n",
    "            }\n",
    "            \n",
    "        }\n",
    "    }\n",
    "    \n",
    "    new_entry = client.entries(cnt_space, 'master').create(\n",
    "        'metadataProd{0}'.format(index),\n",
    "        entry_attributes\n",
    "    )\n",
    "\n",
    "    new_entry.publish() # with this command the entries are published, otherwise they are added just as drafts in content type\n",
    "    "
   ]
  },
  {
   "cell_type": "markdown",
   "metadata": {},
   "source": [
    "---\n",
    "<a id='update'></a>\n",
    "## Updating contentful metadata\n",
    "In this part of the notebook we are going to identify new rows in the metadata_staging table and export the data to contentful as new entries. This way, we can update contentful every time new data is added to the hosted table. Bear in mind, though, that this only accounts for new rows/entries. If the content of existing rows is updated in the hosted table, those changes won't be automatically identified and changed in contentful. Changes related to existing entries will need to be made manually in Contentful. \n",
    "\n",
    "Part of this section will be used to create a hosted notebook in AGOL that can run periodically to integrate new changes."
   ]
  },
  {
   "cell_type": "code",
   "execution_count": 12,
   "metadata": {},
   "outputs": [],
   "source": [
    "# To start checking mismatches between metadata hosted table and contentful let's remove one entry in contentful content type\n",
    "# content_type = client.content_types(cnt_space, 'master').find('metadataProd')\n",
    "# entry = content_type.entries().find('metadataProd79')\n",
    "# entry.unpublish()\n",
    "# entry.delete()"
   ]
  },
  {
   "cell_type": "code",
   "execution_count": 7,
   "metadata": {},
   "outputs": [
    {
     "data": {
      "text/plain": [
       "82"
      ]
     },
     "execution_count": 7,
     "metadata": {},
     "output_type": "execute_result"
    }
   ],
   "source": [
    "# Check length of metadataProd content type in contentful\n",
    "len(client2.entries({'content_type': 'metadataProd'}).items)"
   ]
  },
  {
   "cell_type": "markdown",
   "metadata": {},
   "source": [
    "Because we are adding new entries in our metadataProd content type to include the translations, we will have more entries that expected: the original entries in English * the number of languages. To identify new metadata in the AGOL table and add it to contentful, we'll have a look only at the number of entries that are written in English in Contentful. If those are less than the number of rows in the AGOL table, that means that we have new metadata in AGOL that needs to be incorporated (and translated) in Contentful. "
   ]
  },
  {
   "cell_type": "code",
   "execution_count": 8,
   "metadata": {},
   "outputs": [
    {
     "data": {
      "text/plain": [
       "80"
      ]
     },
     "execution_count": 8,
     "metadata": {},
     "output_type": "execute_result"
    }
   ],
   "source": [
    "# Check number of entries that have language \"en\" in metadataProd content type \n",
    "entries = client2.entries({'content_type': 'metadataProd'})\n",
    "entries_en=[]\n",
    "for entry in entries:\n",
    "    if entry.language == 'en':\n",
    "        en = entry.id\n",
    "        entries_en.append(en)\n",
    "len(entries_en)"
   ]
  },
  {
   "cell_type": "code",
   "execution_count": 11,
   "metadata": {},
   "outputs": [
    {
     "data": {
      "text/plain": [
       "86"
      ]
     },
     "execution_count": 11,
     "metadata": {},
     "output_type": "execute_result"
    }
   ],
   "source": [
    "# Bring metadata_staging and check number of rows in that table\n",
    "metadata = getHTfromId('ef369a73779d4a37b2252808afef98a7')\n",
    "len(metadata)"
   ]
  },
  {
   "cell_type": "markdown",
   "metadata": {},
   "source": [
    "There are more rows in the hosted table than entries (in English) in contentful so we need to create new entries for the new metadata"
   ]
  },
  {
   "cell_type": "code",
   "execution_count": 12,
   "metadata": {},
   "outputs": [
    {
     "data": {
      "text/html": [
       "<div>\n",
       "<style scoped>\n",
       "    .dataframe tbody tr th:only-of-type {\n",
       "        vertical-align: middle;\n",
       "    }\n",
       "\n",
       "    .dataframe tbody tr th {\n",
       "        vertical-align: top;\n",
       "    }\n",
       "\n",
       "    .dataframe thead th {\n",
       "        text-align: right;\n",
       "    }\n",
       "</style>\n",
       "<table border=\"1\" class=\"dataframe\">\n",
       "  <thead>\n",
       "    <tr style=\"text-align: right;\">\n",
       "      <th></th>\n",
       "      <th>layerSlug</th>\n",
       "      <th>description</th>\n",
       "      <th>source</th>\n",
       "      <th>molLogo</th>\n",
       "      <th>hasAdditionalContent</th>\n",
       "      <th>title</th>\n",
       "      <th>ObjectId</th>\n",
       "      <th>GlobalID</th>\n",
       "      <th>ObjectId2</th>\n",
       "      <th>ObjectId3</th>\n",
       "      <th>ID</th>\n",
       "      <th>ID2</th>\n",
       "    </tr>\n",
       "  </thead>\n",
       "  <tbody>\n",
       "    <tr>\n",
       "      <th>81</th>\n",
       "      <td>mammals-rarity-1km</td>\n",
       "      <td>Each cell in this view measures 1 km x 1 km. W...</td>\n",
       "      <td>Map of Life and supporting datasets.</td>\n",
       "      <td>TRUE</td>\n",
       "      <td>FALSE</td>\n",
       "      <td>Mammals rarity metadata</td>\n",
       "      <td>None</td>\n",
       "      <td>None</td>\n",
       "      <td>82</td>\n",
       "      <td>82</td>\n",
       "      <td>81</td>\n",
       "      <td>metadataProd81</td>\n",
       "    </tr>\n",
       "    <tr>\n",
       "      <th>82</th>\n",
       "      <td>summer-birds-richness-1km</td>\n",
       "      <td>Breeding ranges of migratory birds. Each cell ...</td>\n",
       "      <td>Map of Life and supporting datasets.</td>\n",
       "      <td>TRUE</td>\n",
       "      <td>FALSE</td>\n",
       "      <td>Summer birds richness metadata</td>\n",
       "      <td>None</td>\n",
       "      <td>None</td>\n",
       "      <td>83</td>\n",
       "      <td>83</td>\n",
       "      <td>82</td>\n",
       "      <td>metadataProd82</td>\n",
       "    </tr>\n",
       "    <tr>\n",
       "      <th>83</th>\n",
       "      <td>summer-birds-rarity-1km</td>\n",
       "      <td>Breeding ranges of migratory birds. Each cell ...</td>\n",
       "      <td>Map of Life and supporting datasets.</td>\n",
       "      <td>TRUE</td>\n",
       "      <td>FALSE</td>\n",
       "      <td>Summer birds rarity metadata</td>\n",
       "      <td>None</td>\n",
       "      <td>None</td>\n",
       "      <td>84</td>\n",
       "      <td>84</td>\n",
       "      <td>83</td>\n",
       "      <td>metadataProd83</td>\n",
       "    </tr>\n",
       "    <tr>\n",
       "      <th>84</th>\n",
       "      <td>winter-birds-richness-1km</td>\n",
       "      <td>Non-breeding ranges of migratory birds. Each c...</td>\n",
       "      <td>Map of Life and supporting datasets.</td>\n",
       "      <td>TRUE</td>\n",
       "      <td>FALSE</td>\n",
       "      <td>Winter birds richness metadata</td>\n",
       "      <td>None</td>\n",
       "      <td>None</td>\n",
       "      <td>85</td>\n",
       "      <td>85</td>\n",
       "      <td>84</td>\n",
       "      <td>metadataProd84</td>\n",
       "    </tr>\n",
       "    <tr>\n",
       "      <th>85</th>\n",
       "      <td>winter-birds-rarity-1km</td>\n",
       "      <td>Non-breeding ranges of migratory birds. Each c...</td>\n",
       "      <td>Map of Life and supporting datasets.</td>\n",
       "      <td>TRUE</td>\n",
       "      <td>FALSE</td>\n",
       "      <td>Winter birds rarity metadata</td>\n",
       "      <td>None</td>\n",
       "      <td>None</td>\n",
       "      <td>86</td>\n",
       "      <td>86</td>\n",
       "      <td>85</td>\n",
       "      <td>metadataProd85</td>\n",
       "    </tr>\n",
       "  </tbody>\n",
       "</table>\n",
       "</div>"
      ],
      "text/plain": [
       "                    layerSlug  \\\n",
       "81         mammals-rarity-1km   \n",
       "82  summer-birds-richness-1km   \n",
       "83    summer-birds-rarity-1km   \n",
       "84  winter-birds-richness-1km   \n",
       "85    winter-birds-rarity-1km   \n",
       "\n",
       "                                          description  \\\n",
       "81  Each cell in this view measures 1 km x 1 km. W...   \n",
       "82  Breeding ranges of migratory birds. Each cell ...   \n",
       "83  Breeding ranges of migratory birds. Each cell ...   \n",
       "84  Non-breeding ranges of migratory birds. Each c...   \n",
       "85  Non-breeding ranges of migratory birds. Each c...   \n",
       "\n",
       "                                  source molLogo hasAdditionalContent  \\\n",
       "81  Map of Life and supporting datasets.    TRUE                FALSE   \n",
       "82  Map of Life and supporting datasets.    TRUE                FALSE   \n",
       "83  Map of Life and supporting datasets.    TRUE                FALSE   \n",
       "84  Map of Life and supporting datasets.    TRUE                FALSE   \n",
       "85  Map of Life and supporting datasets.    TRUE                FALSE   \n",
       "\n",
       "                             title ObjectId GlobalID  ObjectId2  ObjectId3  \\\n",
       "81         Mammals rarity metadata     None     None         82         82   \n",
       "82  Summer birds richness metadata     None     None         83         83   \n",
       "83    Summer birds rarity metadata     None     None         84         84   \n",
       "84  Winter birds richness metadata     None     None         85         85   \n",
       "85    Winter birds rarity metadata     None     None         86         86   \n",
       "\n",
       "    ID             ID2  \n",
       "81  81  metadataProd81  \n",
       "82  82  metadataProd82  \n",
       "83  83  metadataProd83  \n",
       "84  84  metadataProd84  \n",
       "85  85  metadataProd85  "
      ]
     },
     "execution_count": 12,
     "metadata": {},
     "output_type": "execute_result"
    }
   ],
   "source": [
    "# Let's give IDs to the rows in hosted table to match those in contentful\n",
    "metadata['ID']= (range(0, len(metadata)))\n",
    "metadata['ID']= metadata['ID'].astype(str)\n",
    "metadata['ID2'] = ('metadataProd'+metadata['ID']).astype(str)\n",
    "metadata.tail()"
   ]
  },
  {
   "cell_type": "code",
   "execution_count": 13,
   "metadata": {},
   "outputs": [],
   "source": [
    "# Create a list with the ID2 values in hosted table\n",
    "originals = []\n",
    "for i in range(0, len(metadata)):\n",
    "        l = metadata.iloc[i, 11]\n",
    "        originals.append(l)"
   ]
  },
  {
   "cell_type": "code",
   "execution_count": 17,
   "metadata": {},
   "outputs": [
    {
     "data": {
      "text/plain": [
       "['metadataProd0',\n",
       " 'metadataProd1',\n",
       " 'metadataProd2',\n",
       " 'metadataProd3',\n",
       " 'metadataProd4']"
      ]
     },
     "execution_count": 17,
     "metadata": {},
     "output_type": "execute_result"
    }
   ],
   "source": [
    "originals[0:5] # example of the values of the field ID2 "
   ]
  },
  {
   "cell_type": "code",
   "execution_count": 18,
   "metadata": {},
   "outputs": [
    {
     "data": {
      "text/plain": [
       "['metadataProd79',\n",
       " 'metadataProd78',\n",
       " 'metadataProd77',\n",
       " 'metadataProd76',\n",
       " 'metadataProd75']"
      ]
     },
     "execution_count": 18,
     "metadata": {},
     "output_type": "execute_result"
    }
   ],
   "source": [
    "entries_en[0:5] # example of the ID values for entries in English"
   ]
  },
  {
   "cell_type": "code",
   "execution_count": 15,
   "metadata": {},
   "outputs": [
    {
     "data": {
      "text/plain": [
       "['metadataProd81',\n",
       " 'metadataProd84',\n",
       " 'metadataProd85',\n",
       " 'metadataProd80',\n",
       " 'metadataProd82',\n",
       " 'metadataProd83']"
      ]
     },
     "execution_count": 15,
     "metadata": {},
     "output_type": "execute_result"
    }
   ],
   "source": [
    "# Identify which IDs are in the hosted table but not in contentful\n",
    "main_list = list(set(originals) - set(entries_en))\n",
    "main_list # these are the rows that are included in hosted table but not in contentful"
   ]
  },
  {
   "cell_type": "code",
   "execution_count": 19,
   "metadata": {},
   "outputs": [
    {
     "data": {
      "text/html": [
       "<div>\n",
       "<style scoped>\n",
       "    .dataframe tbody tr th:only-of-type {\n",
       "        vertical-align: middle;\n",
       "    }\n",
       "\n",
       "    .dataframe tbody tr th {\n",
       "        vertical-align: top;\n",
       "    }\n",
       "\n",
       "    .dataframe thead th {\n",
       "        text-align: right;\n",
       "    }\n",
       "</style>\n",
       "<table border=\"1\" class=\"dataframe\">\n",
       "  <thead>\n",
       "    <tr style=\"text-align: right;\">\n",
       "      <th></th>\n",
       "      <th>layerSlug</th>\n",
       "      <th>description</th>\n",
       "      <th>source</th>\n",
       "      <th>molLogo</th>\n",
       "      <th>hasAdditionalContent</th>\n",
       "      <th>title</th>\n",
       "      <th>ObjectId</th>\n",
       "      <th>GlobalID</th>\n",
       "      <th>ObjectId2</th>\n",
       "      <th>ObjectId3</th>\n",
       "      <th>ID</th>\n",
       "      <th>ID2</th>\n",
       "    </tr>\n",
       "  </thead>\n",
       "  <tbody>\n",
       "    <tr>\n",
       "      <th>80</th>\n",
       "      <td>mammals-richness-1km</td>\n",
       "      <td>Each cell in this view measures 1 km x 1 km. W...</td>\n",
       "      <td>Map of Life and supporting datasets.</td>\n",
       "      <td>TRUE</td>\n",
       "      <td>FALSE</td>\n",
       "      <td>Mammals richness metadata</td>\n",
       "      <td>None</td>\n",
       "      <td>None</td>\n",
       "      <td>81</td>\n",
       "      <td>81</td>\n",
       "      <td>80</td>\n",
       "      <td>metadataProd80</td>\n",
       "    </tr>\n",
       "    <tr>\n",
       "      <th>81</th>\n",
       "      <td>mammals-rarity-1km</td>\n",
       "      <td>Each cell in this view measures 1 km x 1 km. W...</td>\n",
       "      <td>Map of Life and supporting datasets.</td>\n",
       "      <td>TRUE</td>\n",
       "      <td>FALSE</td>\n",
       "      <td>Mammals rarity metadata</td>\n",
       "      <td>None</td>\n",
       "      <td>None</td>\n",
       "      <td>82</td>\n",
       "      <td>82</td>\n",
       "      <td>81</td>\n",
       "      <td>metadataProd81</td>\n",
       "    </tr>\n",
       "    <tr>\n",
       "      <th>82</th>\n",
       "      <td>summer-birds-richness-1km</td>\n",
       "      <td>Breeding ranges of migratory birds. Each cell ...</td>\n",
       "      <td>Map of Life and supporting datasets.</td>\n",
       "      <td>TRUE</td>\n",
       "      <td>FALSE</td>\n",
       "      <td>Summer birds richness metadata</td>\n",
       "      <td>None</td>\n",
       "      <td>None</td>\n",
       "      <td>83</td>\n",
       "      <td>83</td>\n",
       "      <td>82</td>\n",
       "      <td>metadataProd82</td>\n",
       "    </tr>\n",
       "    <tr>\n",
       "      <th>83</th>\n",
       "      <td>summer-birds-rarity-1km</td>\n",
       "      <td>Breeding ranges of migratory birds. Each cell ...</td>\n",
       "      <td>Map of Life and supporting datasets.</td>\n",
       "      <td>TRUE</td>\n",
       "      <td>FALSE</td>\n",
       "      <td>Summer birds rarity metadata</td>\n",
       "      <td>None</td>\n",
       "      <td>None</td>\n",
       "      <td>84</td>\n",
       "      <td>84</td>\n",
       "      <td>83</td>\n",
       "      <td>metadataProd83</td>\n",
       "    </tr>\n",
       "    <tr>\n",
       "      <th>84</th>\n",
       "      <td>winter-birds-richness-1km</td>\n",
       "      <td>Non-breeding ranges of migratory birds. Each c...</td>\n",
       "      <td>Map of Life and supporting datasets.</td>\n",
       "      <td>TRUE</td>\n",
       "      <td>FALSE</td>\n",
       "      <td>Winter birds richness metadata</td>\n",
       "      <td>None</td>\n",
       "      <td>None</td>\n",
       "      <td>85</td>\n",
       "      <td>85</td>\n",
       "      <td>84</td>\n",
       "      <td>metadataProd84</td>\n",
       "    </tr>\n",
       "    <tr>\n",
       "      <th>85</th>\n",
       "      <td>winter-birds-rarity-1km</td>\n",
       "      <td>Non-breeding ranges of migratory birds. Each c...</td>\n",
       "      <td>Map of Life and supporting datasets.</td>\n",
       "      <td>TRUE</td>\n",
       "      <td>FALSE</td>\n",
       "      <td>Winter birds rarity metadata</td>\n",
       "      <td>None</td>\n",
       "      <td>None</td>\n",
       "      <td>86</td>\n",
       "      <td>86</td>\n",
       "      <td>85</td>\n",
       "      <td>metadataProd85</td>\n",
       "    </tr>\n",
       "  </tbody>\n",
       "</table>\n",
       "</div>"
      ],
      "text/plain": [
       "                    layerSlug  \\\n",
       "80       mammals-richness-1km   \n",
       "81         mammals-rarity-1km   \n",
       "82  summer-birds-richness-1km   \n",
       "83    summer-birds-rarity-1km   \n",
       "84  winter-birds-richness-1km   \n",
       "85    winter-birds-rarity-1km   \n",
       "\n",
       "                                          description  \\\n",
       "80  Each cell in this view measures 1 km x 1 km. W...   \n",
       "81  Each cell in this view measures 1 km x 1 km. W...   \n",
       "82  Breeding ranges of migratory birds. Each cell ...   \n",
       "83  Breeding ranges of migratory birds. Each cell ...   \n",
       "84  Non-breeding ranges of migratory birds. Each c...   \n",
       "85  Non-breeding ranges of migratory birds. Each c...   \n",
       "\n",
       "                                  source molLogo hasAdditionalContent  \\\n",
       "80  Map of Life and supporting datasets.    TRUE                FALSE   \n",
       "81  Map of Life and supporting datasets.    TRUE                FALSE   \n",
       "82  Map of Life and supporting datasets.    TRUE                FALSE   \n",
       "83  Map of Life and supporting datasets.    TRUE                FALSE   \n",
       "84  Map of Life and supporting datasets.    TRUE                FALSE   \n",
       "85  Map of Life and supporting datasets.    TRUE                FALSE   \n",
       "\n",
       "                             title ObjectId GlobalID  ObjectId2  ObjectId3  \\\n",
       "80       Mammals richness metadata     None     None         81         81   \n",
       "81         Mammals rarity metadata     None     None         82         82   \n",
       "82  Summer birds richness metadata     None     None         83         83   \n",
       "83    Summer birds rarity metadata     None     None         84         84   \n",
       "84  Winter birds richness metadata     None     None         85         85   \n",
       "85    Winter birds rarity metadata     None     None         86         86   \n",
       "\n",
       "    ID             ID2  \n",
       "80  80  metadataProd80  \n",
       "81  81  metadataProd81  \n",
       "82  82  metadataProd82  \n",
       "83  83  metadataProd83  \n",
       "84  84  metadataProd84  \n",
       "85  85  metadataProd85  "
      ]
     },
     "execution_count": 19,
     "metadata": {},
     "output_type": "execute_result"
    }
   ],
   "source": [
    "# Create new dataframe with only the new rows\n",
    "new_df = metadata[metadata['ID2'].isin(main_list)]\n",
    "new_df\n"
   ]
  },
  {
   "cell_type": "code",
   "execution_count": 21,
   "metadata": {},
   "outputs": [
    {
     "name": "stdout",
     "output_type": "stream",
     "text": [
      "there is new metadata\n"
     ]
    }
   ],
   "source": [
    "# Export new data in hosted table (new_df) to contentful\n",
    "\n",
    "if len(metadata) != len(entries_en):\n",
    "    print(\"there is new metadata\")\n",
    "    \n",
    "for index, row in new_df.iterrows():\n",
    "\n",
    "    entry_attributes = {\n",
    "        'content_type_id': 'metadataProd',\n",
    "        'fields': {\n",
    "            'layerSlug': {\n",
    "                'en-US': row[\"layerSlug\"]\n",
    "            },\n",
    "            'description': {\n",
    "                'en-US': row['description']\n",
    "            },\n",
    "            'source':{\n",
    "                'en-US': row['source']\n",
    "            },\n",
    "            'molLogo':{\n",
    "                'en-US': row['molLogo']\n",
    "            },\n",
    "            'hasAdditionalContent':{\n",
    "                'en-US': row['hasAdditionalContent']\n",
    "            },\n",
    "            'title':{\n",
    "                'en-US': row['title']\n",
    "            },\n",
    "            'globalId':{\n",
    "                'en-US': row['GlobalID']\n",
    "            },\n",
    "            'objectId3':{\n",
    "                'en-US': row['ObjectId3']\n",
    "            },\n",
    "            'language':{\n",
    "                'en-US': 'en'\n",
    "            }\n",
    "            \n",
    "        }\n",
    "    }\n",
    "    \n",
    "    new_entry = client.entries(cnt_space, 'master').create(\n",
    "        'metadataProd{0}'.format(index),\n",
    "        entry_attributes\n",
    "    )\n",
    "    new_entry.publish()\n"
   ]
  },
  {
   "cell_type": "markdown",
   "metadata": {},
   "source": [
    "----\n",
    "<a id='delete'></a>\n",
    "## Delete all entries and content type\n",
    "Although it is not very likely that you need to remove a content type, know that to do so you first need to unpublish and delete all entries. In this part of the notebook we are going to provide an example of how to remove a content type we created for testing purposes, but we discourage its use unless you are very sure of what you want to do. "
   ]
  },
  {
   "cell_type": "code",
   "execution_count": 6,
   "metadata": {},
   "outputs": [],
   "source": [
    "# Let's reove the tests content type created above\n",
    "content_type = client.content_types(cnt_space, 'master').find('metadataProd')\n",
    "entries = client.entries(cnt_space, 'master').all()\n",
    "entries_for_content_type = content_type.entries().all()"
   ]
  },
  {
   "cell_type": "code",
   "execution_count": 7,
   "metadata": {},
   "outputs": [],
   "source": [
    "# Create an array with all entries\n",
    "a = np.array(entries_for_content_type.items)"
   ]
  },
  {
   "cell_type": "code",
   "execution_count": 8,
   "metadata": {},
   "outputs": [],
   "source": [
    "# All entries in content type must be set to \"draft\" before being able to delete them\n",
    "for i in a:\n",
    "    entry = i\n",
    "    entry.unpublish()"
   ]
  },
  {
   "cell_type": "code",
   "execution_count": 9,
   "metadata": {},
   "outputs": [],
   "source": [
    "# Archive and delete all entries in content type\n",
    "for i in a:\n",
    "    entry = i\n",
    "    entry.archive()\n",
    "    entry.delete()"
   ]
  },
  {
   "cell_type": "code",
   "execution_count": 72,
   "metadata": {},
   "outputs": [
    {
     "data": {
      "text/plain": [
       "<Response [204]>"
      ]
     },
     "execution_count": 72,
     "metadata": {},
     "output_type": "execute_result"
    }
   ],
   "source": [
    "# Unpublish and delete content type (content type needs to be empty to delete it)\n",
    "content_type = client.content_types(cnt_space, 'master').find('metadataTest')\n",
    "content_type.unpublish()\n",
    "content_type.delete()"
   ]
  }
 ],
 "metadata": {
  "kernelspec": {
   "display_name": "Python 3.8.12 ('vizz38')",
   "language": "python",
   "name": "python3"
  },
  "language_info": {
   "codemirror_mode": {
    "name": "ipython",
    "version": 3
   },
   "file_extension": ".py",
   "mimetype": "text/x-python",
   "name": "python",
   "nbconvert_exporter": "python",
   "pygments_lexer": "ipython3",
   "version": "3.8.12"
  },
  "orig_nbformat": 4,
  "vscode": {
   "interpreter": {
    "hash": "4829cc13d368d943a62b17104ac97c1ea81b455d93d0d0d9a78d8f68633ebeb3"
   }
  }
 },
 "nbformat": 4,
 "nbformat_minor": 2
}
