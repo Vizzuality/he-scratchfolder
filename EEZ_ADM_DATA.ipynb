{
 "cells": [
  {
   "cell_type": "code",
   "execution_count": 2,
   "id": "a7688d90",
   "metadata": {},
   "outputs": [
    {
     "name": "stdout",
     "output_type": "stream",
     "text": [
      "\u001b[1;31mE: \u001b[0mCould not open lock file /var/lib/dpkg/lock-frontend - open (13: Permission denied)\u001b[0m\n",
      "\u001b[1;31mE: \u001b[0mUnable to acquire the dpkg frontend lock (/var/lib/dpkg/lock-frontend), are you root?\u001b[0m\n",
      "\u001b[K\u001b[?25hm##################\u001b[0m) ⠏ reify:mproj: \u001b[32;40mhttp\u001b[0m \u001b[35mfetch\u001b[0m GET 200 https://registry.npmjs.o\u001b[0m\u001b[Kegistr\u001b[0m\u001b[K\n",
      "added 67 packages, and audited 68 packages in 7s\n",
      "\n",
      "6 packages are looking for funding\n",
      "  run `npm fund` for details\n",
      "\n",
      "found \u001b[32m\u001b[1m0\u001b[22m\u001b[39m vulnerabilities\n"
     ]
    }
   ],
   "source": [
    "!apt install -q -y libspatialindex-dev libproj-dev proj-data proj-bin libgeos-dev\n",
    "!npm install -g mapshaper"
   ]
  },
  {
   "cell_type": "code",
   "execution_count": 38,
   "id": "0e11b8fc",
   "metadata": {},
   "outputs": [],
   "source": [
    "import os\n",
    "import sys\n",
    "from pathlib import Path\n",
    "import subprocess\n",
    "import pandas as pd\n",
    "import geopandas as gpd\n",
    "from shapely.geometry import Polygon, MultiPolygon\n",
    "from IPython.display import display, Markdown"
   ]
  },
  {
   "cell_type": "code",
   "execution_count": 33,
   "id": "517b3ce2",
   "metadata": {},
   "outputs": [],
   "source": [
    "WORKING_DIR = Path(os.getcwd())\n",
    "DATA = Path(f'{WORKING_DIR.parents[0]}/datasets/HE/gadm_eez_original_merged')\n",
    "dataPath  = list(DATA.glob('*.shp'))[0]"
   ]
  },
  {
   "cell_type": "code",
   "execution_count": 34,
   "id": "fb0f2782",
   "metadata": {},
   "outputs": [],
   "source": [
    "data_gpd = gpd.read_file(dataPath)"
   ]
  },
  {
   "cell_type": "code",
   "execution_count": 32,
   "id": "5f217270",
   "metadata": {},
   "outputs": [
    {
     "data": {
      "text/html": [
       "<div>\n",
       "<style scoped>\n",
       "    .dataframe tbody tr th:only-of-type {\n",
       "        vertical-align: middle;\n",
       "    }\n",
       "\n",
       "    .dataframe tbody tr th {\n",
       "        vertical-align: top;\n",
       "    }\n",
       "\n",
       "    .dataframe thead th {\n",
       "        text-align: right;\n",
       "    }\n",
       "</style>\n",
       "<table border=\"1\" class=\"dataframe\">\n",
       "  <thead>\n",
       "    <tr style=\"text-align: right;\">\n",
       "      <th></th>\n",
       "      <th>GID_0</th>\n",
       "      <th>Shape_Leng</th>\n",
       "      <th>Shape_Area</th>\n",
       "      <th>geometry</th>\n",
       "    </tr>\n",
       "  </thead>\n",
       "  <tbody>\n",
       "    <tr>\n",
       "      <th>0</th>\n",
       "      <td>ABW</td>\n",
       "      <td>0.963634</td>\n",
       "      <td>0.015131</td>\n",
       "      <td>POLYGON ((-69.97820 12.46986, -69.97847 12.469...</td>\n",
       "    </tr>\n",
       "    <tr>\n",
       "      <th>1</th>\n",
       "      <td>AFG</td>\n",
       "      <td>57.103371</td>\n",
       "      <td>62.749594</td>\n",
       "      <td>POLYGON ((68.52644 31.75435, 68.53852 31.75457...</td>\n",
       "    </tr>\n",
       "    <tr>\n",
       "      <th>2</th>\n",
       "      <td>AGO</td>\n",
       "      <td>73.796528</td>\n",
       "      <td>103.818655</td>\n",
       "      <td>MULTIPOLYGON (((11.73347 -16.67255, 11.73347 -...</td>\n",
       "    </tr>\n",
       "    <tr>\n",
       "      <th>3</th>\n",
       "      <td>AIA</td>\n",
       "      <td>1.318321</td>\n",
       "      <td>0.007116</td>\n",
       "      <td>MULTIPOLYGON (((-63.42375 18.58903, -63.42375 ...</td>\n",
       "    </tr>\n",
       "    <tr>\n",
       "      <th>4</th>\n",
       "      <td>ALA</td>\n",
       "      <td>42.232199</td>\n",
       "      <td>0.243769</td>\n",
       "      <td>MULTIPOLYGON (((21.32195 59.74986, 21.32195 59...</td>\n",
       "    </tr>\n",
       "  </tbody>\n",
       "</table>\n",
       "</div>"
      ],
      "text/plain": [
       "  GID_0  Shape_Leng  Shape_Area  \\\n",
       "0   ABW    0.963634    0.015131   \n",
       "1   AFG   57.103371   62.749594   \n",
       "2   AGO   73.796528  103.818655   \n",
       "3   AIA    1.318321    0.007116   \n",
       "4   ALA   42.232199    0.243769   \n",
       "\n",
       "                                            geometry  \n",
       "0  POLYGON ((-69.97820 12.46986, -69.97847 12.469...  \n",
       "1  POLYGON ((68.52644 31.75435, 68.53852 31.75457...  \n",
       "2  MULTIPOLYGON (((11.73347 -16.67255, 11.73347 -...  \n",
       "3  MULTIPOLYGON (((-63.42375 18.58903, -63.42375 ...  \n",
       "4  MULTIPOLYGON (((21.32195 59.74986, 21.32195 59...  "
      ]
     },
     "execution_count": 32,
     "metadata": {},
     "output_type": "execute_result"
    }
   ],
   "source": [
    "data_gpd.head()"
   ]
  },
  {
   "cell_type": "code",
   "execution_count": 36,
   "id": "4c143f5f",
   "metadata": {},
   "outputs": [],
   "source": [
    "def interior_to_polygon(geom: Polygon):\n",
    "  \"\"\"\n",
    "  Takes a Shapely geometry and returns interiors as Shapely geometry.\n",
    "  \"\"\"\n",
    "  types = [geom.geom_type] if type(geom.geom_type) == str else geom.geom_type.tolist()\n",
    "  # check geometry is a polygon \n",
    "  if types and 'Polygon' in types:\n",
    "    # check it contains a ring\n",
    "    ring = geom.is_ring\n",
    "    if ring.any() and geom.interiors.to_list()[0]:\n",
    "      # extract shapely LinearRing(s)\n",
    "      rings_list = [Polygon(g) for g in geom.interiors.to_list()[0]]\n",
    "      out = MultiPolygon(rings_list) if len(rings_list) > 1 else rings_list[0]\n",
    "    else:\n",
    "      print(\"No interior ring\")\n",
    "      out = \"NA\"\n",
    "  else:\n",
    "    print(\"Requires a Polygon\")\n",
    "    out = \"NA\"     \n",
    "  return out\n",
    "\n",
    "def exterior_to_polygon(geom):\n",
    "  \"\"\"\n",
    "  Takes a Shapely geometry and returns exterior ring as Shapely geometry.\n",
    "  \"\"\"\n",
    "  types = geom.geom_type.tolist() or []\n",
    "  # check geometry is a polygon \n",
    "  if types and 'Polygon' in types:\n",
    "    # check it contains a ring\n",
    "    ring = geom.is_ring\n",
    "    if ring.any() and geom.exterior.tolist()[0]:\n",
    "      # extract shapely LinearRing\n",
    "      out = Polygon(geom.exterior.tolist()[0])\n",
    "    else:\n",
    "      print(\"No exterior ring\")\n",
    "      out = \"NA\"\n",
    "  else:\n",
    "    print(\"Requires a Polygon\")\n",
    "    out = \"NA\"     \n",
    "  return out"
   ]
  },
  {
   "cell_type": "code",
   "execution_count": 39,
   "id": "52359ddf",
   "metadata": {},
   "outputs": [],
   "source": [
    "def execute_command(command):\n",
    "  \"\"\"\n",
    "  Executes a command in the shell and returns the output.\n",
    "  \"\"\"\n",
    "  try:\n",
    "    out = subprocess.check_output(command, shell=True)\n",
    "  except subprocess.CalledProcessError as e:\n",
    "    out = e.output\n",
    "  return out"
   ]
  },
  {
   "cell_type": "code",
   "execution_count": 41,
   "id": "23de668d",
   "metadata": {},
   "outputs": [
    {
     "name": "stderr",
     "output_type": "stream",
     "text": [
      "Allocating 8 GB of heap memory\n",
      "[i] Snapped 103967 points\n"
     ]
    }
   ],
   "source": [
    "o = f\"{dataPath}_clean.shp\"\n",
    "execute_command(f'mapshaper-xl 16 -i snap {dataPath} \\\n",
    "        -clean gap-fill-area=30km2 \\\n",
    "        -dissolve GID_0 \\\n",
    "        -o format=shapefile {o} force')"
   ]
  },
  {
   "cell_type": "code",
   "execution_count": null,
   "id": "325500d9",
   "metadata": {},
   "outputs": [],
   "source": []
  }
 ],
 "metadata": {
  "kernelspec": {
   "display_name": "Python 3 (ipykernel)",
   "language": "python",
   "name": "python3"
  },
  "language_info": {
   "codemirror_mode": {
    "name": "ipython",
    "version": 3
   },
   "file_extension": ".py",
   "mimetype": "text/x-python",
   "name": "python",
   "nbconvert_exporter": "python",
   "pygments_lexer": "ipython3",
   "version": "3.9.10"
  }
 },
 "nbformat": 4,
 "nbformat_minor": 5
}
