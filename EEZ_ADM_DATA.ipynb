{
 "cells": [
  {
   "cell_type": "code",
   "execution_count": 1,
   "id": "a7688d90",
   "metadata": {},
   "outputs": [
    {
     "name": "stdout",
     "output_type": "stream",
     "text": [
      "The operation couldn’t be completed. Unable to locate a Java Runtime.\n",
      "Please visit http://www.java.com for information on installing Java.\n",
      "\n",
      "\u001b[K\u001b[?25h/usr/local/bin/mapshaper -> /usr/local/lib/node_modules/mapshaper/bin/mapshaperycle\u001b[0m http-basic@6.0.0~p\u001b[0m\u001b[K\u001b[K\n",
      "/usr/local/bin/mapshaper-xl -> /usr/local/lib/node_modules/mapshaper/bin/mapshaper-xl\n",
      "/usr/local/bin/mapshaper-gui -> /usr/local/lib/node_modules/mapshaper/bin/mapshaper-gui\n",
      "+ mapshaper@0.5.115\n",
      "added 67 packages from 79 contributors in 10.963s\n",
      "\n",
      "┌──────────────────────────────────────────────────────────┐\n",
      "│                \u001b[33m npm update check failed \u001b[39m                 │\n",
      "│           Try running with \u001b[36msudo\u001b[39m or get access            │\n",
      "│           to the local update config store via           │\n",
      "│\u001b[36m sudo chown -R $USER:$(id -gn $USER) /Users/sofia/.config \u001b[39m│\n",
      "└──────────────────────────────────────────────────────────┘\n"
     ]
    }
   ],
   "source": [
    "!apt install -q -y libspatialindex-dev libproj-dev proj-data proj-bin libgeos-dev\n",
    "!npm install -g mapshaper"
   ]
  },
  {
   "cell_type": "code",
   "execution_count": null,
   "id": "0e11b8fc",
   "metadata": {},
   "outputs": [],
   "source": [
    "import os\n",
    "import sys\n",
    "from pathlib import Path\n",
    "import subprocess\n",
    "import pandas as pd\n",
    "import geopandas as gpd\n",
    "from shapely.geometry import Polygon, MultiPolygon\n",
    "from IPython.display import display, Markdown"
   ]
  },
  {
   "cell_type": "code",
   "execution_count": 12,
   "id": "a59de3c3-07db-4e1a-baee-e72139636ec3",
   "metadata": {},
   "outputs": [
    {
     "data": {
      "text/plain": [
       "PosixPath('/Users/sofia/Documents')"
      ]
     },
     "execution_count": 12,
     "metadata": {},
     "output_type": "execute_result"
    }
   ],
   "source": [
    "WORKING_DIR.parents[1]"
   ]
  },
  {
   "cell_type": "code",
   "execution_count": 13,
   "id": "517b3ce2",
   "metadata": {},
   "outputs": [],
   "source": [
    "WORKING_DIR = Path(os.getcwd())\n",
    "DATA = Path(f'{WORKING_DIR.parents[1]}/HE_Data/NRC/EEZ_GADM_MERGED_ORIGINAL_GEOM')\n",
    "dataPath  = list(DATA.glob('*.shp'))[0]"
   ]
  },
  {
   "cell_type": "code",
   "execution_count": 14,
   "id": "fb0f2782",
   "metadata": {},
   "outputs": [],
   "source": [
    "data_gpd = gpd.read_file(dataPath)"
   ]
  },
  {
   "cell_type": "code",
   "execution_count": 15,
   "id": "5f217270",
   "metadata": {},
   "outputs": [
    {
     "data": {
      "text/html": [
       "<div>\n",
       "<style scoped>\n",
       "    .dataframe tbody tr th:only-of-type {\n",
       "        vertical-align: middle;\n",
       "    }\n",
       "\n",
       "    .dataframe tbody tr th {\n",
       "        vertical-align: top;\n",
       "    }\n",
       "\n",
       "    .dataframe thead th {\n",
       "        text-align: right;\n",
       "    }\n",
       "</style>\n",
       "<table border=\"1\" class=\"dataframe\">\n",
       "  <thead>\n",
       "    <tr style=\"text-align: right;\">\n",
       "      <th></th>\n",
       "      <th>GID_0</th>\n",
       "      <th>Shape_Leng</th>\n",
       "      <th>Shape_Area</th>\n",
       "      <th>geometry</th>\n",
       "    </tr>\n",
       "  </thead>\n",
       "  <tbody>\n",
       "    <tr>\n",
       "      <th>0</th>\n",
       "      <td>ABW</td>\n",
       "      <td>8.600131</td>\n",
       "      <td>2.504937</td>\n",
       "      <td>POLYGON ((-68.87017 15.24185, -68.88133 15.200...</td>\n",
       "    </tr>\n",
       "    <tr>\n",
       "      <th>1</th>\n",
       "      <td>AGO</td>\n",
       "      <td>49.857334</td>\n",
       "      <td>41.178688</td>\n",
       "      <td>MULTIPOLYGON (((13.42086 -5.87340, 13.39728 -5...</td>\n",
       "    </tr>\n",
       "    <tr>\n",
       "      <th>2</th>\n",
       "      <td>AIA</td>\n",
       "      <td>12.561376</td>\n",
       "      <td>7.784427</td>\n",
       "      <td>POLYGON ((-60.73667 20.92203, -60.76437 20.877...</td>\n",
       "    </tr>\n",
       "    <tr>\n",
       "      <th>3</th>\n",
       "      <td>ALB</td>\n",
       "      <td>10.366878</td>\n",
       "      <td>1.300663</td>\n",
       "      <td>POLYGON ((20.00835 39.69182, 20.00810 39.69187...</td>\n",
       "    </tr>\n",
       "    <tr>\n",
       "      <th>4</th>\n",
       "      <td>ARE</td>\n",
       "      <td>39.797245</td>\n",
       "      <td>5.174869</td>\n",
       "      <td>MULTIPOLYGON (((56.84117 25.63989, 56.88185 25...</td>\n",
       "    </tr>\n",
       "  </tbody>\n",
       "</table>\n",
       "</div>"
      ],
      "text/plain": [
       "  GID_0  Shape_Leng  Shape_Area  \\\n",
       "0   ABW    8.600131    2.504937   \n",
       "1   AGO   49.857334   41.178688   \n",
       "2   AIA   12.561376    7.784427   \n",
       "3   ALB   10.366878    1.300663   \n",
       "4   ARE   39.797245    5.174869   \n",
       "\n",
       "                                            geometry  \n",
       "0  POLYGON ((-68.87017 15.24185, -68.88133 15.200...  \n",
       "1  MULTIPOLYGON (((13.42086 -5.87340, 13.39728 -5...  \n",
       "2  POLYGON ((-60.73667 20.92203, -60.76437 20.877...  \n",
       "3  POLYGON ((20.00835 39.69182, 20.00810 39.69187...  \n",
       "4  MULTIPOLYGON (((56.84117 25.63989, 56.88185 25...  "
      ]
     },
     "execution_count": 15,
     "metadata": {},
     "output_type": "execute_result"
    }
   ],
   "source": [
    "data_gpd.head()"
   ]
  },
  {
   "cell_type": "code",
   "execution_count": 16,
   "id": "4c143f5f",
   "metadata": {},
   "outputs": [],
   "source": [
    "def interior_to_polygon(geom: Polygon):\n",
    "  \"\"\"\n",
    "  Takes a Shapely geometry and returns interiors as Shapely geometry.\n",
    "  \"\"\"\n",
    "  types = [geom.geom_type] if type(geom.geom_type) == str else geom.geom_type.tolist()\n",
    "  # check geometry is a polygon \n",
    "  if types and 'Polygon' in types:\n",
    "    # check it contains a ring\n",
    "    ring = geom.is_ring\n",
    "    if ring.any() and geom.interiors.to_list()[0]:\n",
    "      # extract shapely LinearRing(s)\n",
    "      rings_list = [Polygon(g) for g in geom.interiors.to_list()[0]]\n",
    "      out = MultiPolygon(rings_list) if len(rings_list) > 1 else rings_list[0]\n",
    "    else:\n",
    "      print(\"No interior ring\")\n",
    "      out = \"NA\"\n",
    "  else:\n",
    "    print(\"Requires a Polygon\")\n",
    "    out = \"NA\"     \n",
    "  return out\n",
    "\n",
    "def exterior_to_polygon(geom):\n",
    "  \"\"\"\n",
    "  Takes a Shapely geometry and returns exterior ring as Shapely geometry.\n",
    "  \"\"\"\n",
    "  types = geom.geom_type.tolist() or []\n",
    "  # check geometry is a polygon \n",
    "  if types and 'Polygon' in types:\n",
    "    # check it contains a ring\n",
    "    ring = geom.is_ring\n",
    "    if ring.any() and geom.exterior.tolist()[0]:\n",
    "      # extract shapely LinearRing\n",
    "      out = Polygon(geom.exterior.tolist()[0])\n",
    "    else:\n",
    "      print(\"No exterior ring\")\n",
    "      out = \"NA\"\n",
    "  else:\n",
    "    print(\"Requires a Polygon\")\n",
    "    out = \"NA\"     \n",
    "  return out"
   ]
  },
  {
   "cell_type": "code",
   "execution_count": 17,
   "id": "52359ddf",
   "metadata": {},
   "outputs": [],
   "source": [
    "def execute_command(command):\n",
    "  \"\"\"\n",
    "  Executes a command in the shell and returns the output.\n",
    "  \"\"\"\n",
    "  try:\n",
    "    out = subprocess.check_output(command, shell=True)\n",
    "  except subprocess.CalledProcessError as e:\n",
    "    out = e.output\n",
    "  return out"
   ]
  },
  {
   "cell_type": "code",
   "execution_count": 18,
   "id": "23de668d",
   "metadata": {},
   "outputs": [
    {
     "name": "stderr",
     "output_type": "stream",
     "text": [
      "Allocating 16 GB of heap memory\n",
      "[i] Snapped 103981 points\n",
      "[clean] Removed 3,877,160 / 3,877,425 slivers using 30+ sqkm variable threshold\n",
      "[clean] Retained 455 of 457 features\n",
      "[dissolve] Dissolved 455 features into 253 features\n",
      "[o] Wrote /Users/sofia/Documents/HE_Data/NRC/EEZ_GADM_MERGED_ORIGINAL_GEOM/EEZ_GADM_MERGED_ORIGINAL_GEOM.shp_clean.shp\n",
      "[o] Wrote /Users/sofia/Documents/HE_Data/NRC/EEZ_GADM_MERGED_ORIGINAL_GEOM/EEZ_GADM_MERGED_ORIGINAL_GEOM.shp_clean.shx\n",
      "[o] Wrote /Users/sofia/Documents/HE_Data/NRC/EEZ_GADM_MERGED_ORIGINAL_GEOM/EEZ_GADM_MERGED_ORIGINAL_GEOM.shp_clean.dbf\n",
      "[o] Wrote /Users/sofia/Documents/HE_Data/NRC/EEZ_GADM_MERGED_ORIGINAL_GEOM/EEZ_GADM_MERGED_ORIGINAL_GEOM.shp_clean.prj\n"
     ]
    },
    {
     "data": {
      "text/plain": [
       "b''"
      ]
     },
     "execution_count": 18,
     "metadata": {},
     "output_type": "execute_result"
    }
   ],
   "source": [
    "o = f\"{dataPath}_clean.shp\"\n",
    "execute_command(f'mapshaper-xl 16 -i snap {dataPath} \\\n",
    "        -clean gap-fill-area=30km2 \\\n",
    "        -dissolve GID_0 \\\n",
    "        -o format=shapefile {o} force')"
   ]
  },
  {
   "cell_type": "code",
   "execution_count": null,
   "id": "325500d9",
   "metadata": {},
   "outputs": [],
   "source": []
  }
 ],
 "metadata": {
  "kernelspec": {
   "display_name": "Python 3 (ipykernel)",
   "language": "python",
   "name": "python3"
  },
  "language_info": {
   "codemirror_mode": {
    "name": "ipython",
    "version": 3
   },
   "file_extension": ".py",
   "mimetype": "text/x-python",
   "name": "python",
   "nbconvert_exporter": "python",
   "pygments_lexer": "ipython3",
   "version": "3.8.12"
  }
 },
 "nbformat": 4,
 "nbformat_minor": 5
}
